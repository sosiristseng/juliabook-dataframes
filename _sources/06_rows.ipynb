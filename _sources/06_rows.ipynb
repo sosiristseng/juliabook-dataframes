{
 "cells": [
  {
   "cell_type": "markdown",
   "metadata": {},
   "source": [
    "# Manipulating rows of DataFrame"
   ]
  },
  {
   "cell_type": "markdown",
   "metadata": {},
   "source": [
    "## Selecting rows"
   ]
  },
  {
   "cell_type": "code",
   "execution_count": 1,
   "metadata": {
    "execution": {
     "iopub.execute_input": "2022-07-18T00:52:54.123000Z",
     "iopub.status.busy": "2022-07-18T00:52:53.652000Z",
     "iopub.status.idle": "2022-07-18T00:52:55.868000Z",
     "shell.execute_reply": "2022-07-18T00:52:55.779000Z"
    }
   },
   "outputs": [],
   "source": [
    "using DataFrames\n",
    "using Statistics\n",
    "using Random\n",
    "Random.seed!(1);"
   ]
  },
  {
   "cell_type": "code",
   "execution_count": 2,
   "metadata": {
    "execution": {
     "iopub.execute_input": "2022-07-18T00:52:55.871000Z",
     "iopub.status.busy": "2022-07-18T00:52:55.871000Z",
     "iopub.status.idle": "2022-07-18T00:53:01.359000Z",
     "shell.execute_reply": "2022-07-18T00:53:01.359000Z"
    }
   },
   "outputs": [
    {
     "data": {
      "text/html": [
       "<div class=\"data-frame\"><p>4 rows × 5 columns</p><table class=\"data-frame\"><thead><tr><th></th><th>x1</th><th>x2</th><th>x3</th><th>x4</th><th>x5</th></tr><tr><th></th><th title=\"Float64\">Float64</th><th title=\"Float64\">Float64</th><th title=\"Float64\">Float64</th><th title=\"Float64\">Float64</th><th title=\"Float64\">Float64</th></tr></thead><tbody><tr><th>1</th><td>0.0491718</td><td>0.691857</td><td>0.840384</td><td>0.198521</td><td>0.802561</td></tr><tr><th>2</th><td>0.119079</td><td>0.767518</td><td>0.89077</td><td>0.00819786</td><td>0.661425</td></tr><tr><th>3</th><td>0.393271</td><td>0.087253</td><td>0.138227</td><td>0.592041</td><td>0.347513</td></tr><tr><th>4</th><td>0.0240943</td><td>0.855718</td><td>0.347737</td><td>0.801055</td><td>0.778149</td></tr></tbody></table></div>"
      ],
      "text/latex": [
       "\\begin{tabular}{r|ccccc}\n",
       "\t& x1 & x2 & x3 & x4 & x5\\\\\n",
       "\t\\hline\n",
       "\t& Float64 & Float64 & Float64 & Float64 & Float64\\\\\n",
       "\t\\hline\n",
       "\t1 & 0.0491718 & 0.691857 & 0.840384 & 0.198521 & 0.802561 \\\\\n",
       "\t2 & 0.119079 & 0.767518 & 0.89077 & 0.00819786 & 0.661425 \\\\\n",
       "\t3 & 0.393271 & 0.087253 & 0.138227 & 0.592041 & 0.347513 \\\\\n",
       "\t4 & 0.0240943 & 0.855718 & 0.347737 & 0.801055 & 0.778149 \\\\\n",
       "\\end{tabular}\n"
      ],
      "text/plain": [
       "\u001b[1m4×5 DataFrame\u001b[0m\n",
       "\u001b[1m Row \u001b[0m│\u001b[1m x1        \u001b[0m\u001b[1m x2       \u001b[0m\u001b[1m x3       \u001b[0m\u001b[1m x4         \u001b[0m\u001b[1m x5       \u001b[0m\n",
       "\u001b[1m     \u001b[0m│\u001b[90m Float64   \u001b[0m\u001b[90m Float64  \u001b[0m\u001b[90m Float64  \u001b[0m\u001b[90m Float64    \u001b[0m\u001b[90m Float64  \u001b[0m\n",
       "─────┼─────────────────────────────────────────────────────\n",
       "   1 │ 0.0491718  0.691857  0.840384  0.198521    0.802561\n",
       "   2 │ 0.119079   0.767518  0.89077   0.00819786  0.661425\n",
       "   3 │ 0.393271   0.087253  0.138227  0.592041    0.347513\n",
       "   4 │ 0.0240943  0.855718  0.347737  0.801055    0.778149"
      ]
     },
     "execution_count": 2,
     "metadata": {},
     "output_type": "execute_result"
    }
   ],
   "source": [
    "df = DataFrame(rand(4, 5), :auto)"
   ]
  },
  {
   "cell_type": "markdown",
   "metadata": {},
   "source": [
    "using `:` as row selector will copy columns"
   ]
  },
  {
   "cell_type": "code",
   "execution_count": 3,
   "metadata": {
    "execution": {
     "iopub.execute_input": "2022-07-18T00:53:01.381000Z",
     "iopub.status.busy": "2022-07-18T00:53:01.380000Z",
     "iopub.status.idle": "2022-07-18T00:53:01.456000Z",
     "shell.execute_reply": "2022-07-18T00:53:01.454000Z"
    }
   },
   "outputs": [
    {
     "data": {
      "text/html": [
       "<div class=\"data-frame\"><p>4 rows × 5 columns</p><table class=\"data-frame\"><thead><tr><th></th><th>x1</th><th>x2</th><th>x3</th><th>x4</th><th>x5</th></tr><tr><th></th><th title=\"Float64\">Float64</th><th title=\"Float64\">Float64</th><th title=\"Float64\">Float64</th><th title=\"Float64\">Float64</th><th title=\"Float64\">Float64</th></tr></thead><tbody><tr><th>1</th><td>0.0491718</td><td>0.691857</td><td>0.840384</td><td>0.198521</td><td>0.802561</td></tr><tr><th>2</th><td>0.119079</td><td>0.767518</td><td>0.89077</td><td>0.00819786</td><td>0.661425</td></tr><tr><th>3</th><td>0.393271</td><td>0.087253</td><td>0.138227</td><td>0.592041</td><td>0.347513</td></tr><tr><th>4</th><td>0.0240943</td><td>0.855718</td><td>0.347737</td><td>0.801055</td><td>0.778149</td></tr></tbody></table></div>"
      ],
      "text/latex": [
       "\\begin{tabular}{r|ccccc}\n",
       "\t& x1 & x2 & x3 & x4 & x5\\\\\n",
       "\t\\hline\n",
       "\t& Float64 & Float64 & Float64 & Float64 & Float64\\\\\n",
       "\t\\hline\n",
       "\t1 & 0.0491718 & 0.691857 & 0.840384 & 0.198521 & 0.802561 \\\\\n",
       "\t2 & 0.119079 & 0.767518 & 0.89077 & 0.00819786 & 0.661425 \\\\\n",
       "\t3 & 0.393271 & 0.087253 & 0.138227 & 0.592041 & 0.347513 \\\\\n",
       "\t4 & 0.0240943 & 0.855718 & 0.347737 & 0.801055 & 0.778149 \\\\\n",
       "\\end{tabular}\n"
      ],
      "text/plain": [
       "\u001b[1m4×5 DataFrame\u001b[0m\n",
       "\u001b[1m Row \u001b[0m│\u001b[1m x1        \u001b[0m\u001b[1m x2       \u001b[0m\u001b[1m x3       \u001b[0m\u001b[1m x4         \u001b[0m\u001b[1m x5       \u001b[0m\n",
       "\u001b[1m     \u001b[0m│\u001b[90m Float64   \u001b[0m\u001b[90m Float64  \u001b[0m\u001b[90m Float64  \u001b[0m\u001b[90m Float64    \u001b[0m\u001b[90m Float64  \u001b[0m\n",
       "─────┼─────────────────────────────────────────────────────\n",
       "   1 │ 0.0491718  0.691857  0.840384  0.198521    0.802561\n",
       "   2 │ 0.119079   0.767518  0.89077   0.00819786  0.661425\n",
       "   3 │ 0.393271   0.087253  0.138227  0.592041    0.347513\n",
       "   4 │ 0.0240943  0.855718  0.347737  0.801055    0.778149"
      ]
     },
     "execution_count": 3,
     "metadata": {},
     "output_type": "execute_result"
    }
   ],
   "source": [
    "df[:, :]"
   ]
  },
  {
   "cell_type": "markdown",
   "metadata": {},
   "source": [
    "this is the same as"
   ]
  },
  {
   "cell_type": "code",
   "execution_count": 4,
   "metadata": {
    "execution": {
     "iopub.execute_input": "2022-07-18T00:53:01.458000Z",
     "iopub.status.busy": "2022-07-18T00:53:01.457000Z",
     "iopub.status.idle": "2022-07-18T00:53:01.622000Z",
     "shell.execute_reply": "2022-07-18T00:53:01.622000Z"
    }
   },
   "outputs": [
    {
     "data": {
      "text/html": [
       "<div class=\"data-frame\"><p>4 rows × 5 columns</p><table class=\"data-frame\"><thead><tr><th></th><th>x1</th><th>x2</th><th>x3</th><th>x4</th><th>x5</th></tr><tr><th></th><th title=\"Float64\">Float64</th><th title=\"Float64\">Float64</th><th title=\"Float64\">Float64</th><th title=\"Float64\">Float64</th><th title=\"Float64\">Float64</th></tr></thead><tbody><tr><th>1</th><td>0.0491718</td><td>0.691857</td><td>0.840384</td><td>0.198521</td><td>0.802561</td></tr><tr><th>2</th><td>0.119079</td><td>0.767518</td><td>0.89077</td><td>0.00819786</td><td>0.661425</td></tr><tr><th>3</th><td>0.393271</td><td>0.087253</td><td>0.138227</td><td>0.592041</td><td>0.347513</td></tr><tr><th>4</th><td>0.0240943</td><td>0.855718</td><td>0.347737</td><td>0.801055</td><td>0.778149</td></tr></tbody></table></div>"
      ],
      "text/latex": [
       "\\begin{tabular}{r|ccccc}\n",
       "\t& x1 & x2 & x3 & x4 & x5\\\\\n",
       "\t\\hline\n",
       "\t& Float64 & Float64 & Float64 & Float64 & Float64\\\\\n",
       "\t\\hline\n",
       "\t1 & 0.0491718 & 0.691857 & 0.840384 & 0.198521 & 0.802561 \\\\\n",
       "\t2 & 0.119079 & 0.767518 & 0.89077 & 0.00819786 & 0.661425 \\\\\n",
       "\t3 & 0.393271 & 0.087253 & 0.138227 & 0.592041 & 0.347513 \\\\\n",
       "\t4 & 0.0240943 & 0.855718 & 0.347737 & 0.801055 & 0.778149 \\\\\n",
       "\\end{tabular}\n"
      ],
      "text/plain": [
       "\u001b[1m4×5 DataFrame\u001b[0m\n",
       "\u001b[1m Row \u001b[0m│\u001b[1m x1        \u001b[0m\u001b[1m x2       \u001b[0m\u001b[1m x3       \u001b[0m\u001b[1m x4         \u001b[0m\u001b[1m x5       \u001b[0m\n",
       "\u001b[1m     \u001b[0m│\u001b[90m Float64   \u001b[0m\u001b[90m Float64  \u001b[0m\u001b[90m Float64  \u001b[0m\u001b[90m Float64    \u001b[0m\u001b[90m Float64  \u001b[0m\n",
       "─────┼─────────────────────────────────────────────────────\n",
       "   1 │ 0.0491718  0.691857  0.840384  0.198521    0.802561\n",
       "   2 │ 0.119079   0.767518  0.89077   0.00819786  0.661425\n",
       "   3 │ 0.393271   0.087253  0.138227  0.592041    0.347513\n",
       "   4 │ 0.0240943  0.855718  0.347737  0.801055    0.778149"
      ]
     },
     "execution_count": 4,
     "metadata": {},
     "output_type": "execute_result"
    }
   ],
   "source": [
    "copy(df)"
   ]
  },
  {
   "cell_type": "markdown",
   "metadata": {},
   "source": [
    "you can get a subset of rows of a data frame without copying using `view` to get a `SubDataFrame` "
   ]
  },
  {
   "cell_type": "code",
   "execution_count": 5,
   "metadata": {
    "execution": {
     "iopub.execute_input": "2022-07-18T00:53:01.626000Z",
     "iopub.status.busy": "2022-07-18T00:53:01.626000Z",
     "iopub.status.idle": "2022-07-18T00:53:04.153000Z",
     "shell.execute_reply": "2022-07-18T00:53:04.152000Z"
    }
   },
   "outputs": [
    {
     "data": {
      "text/html": [
       "<div class=\"data-frame\"><p>3 rows × 3 columns</p><table class=\"data-frame\"><thead><tr><th></th><th>x1</th><th>x2</th><th>x3</th></tr><tr><th></th><th title=\"Float64\">Float64</th><th title=\"Float64\">Float64</th><th title=\"Float64\">Float64</th></tr></thead><tbody><tr><th>1</th><td>0.0491718</td><td>0.691857</td><td>0.840384</td></tr><tr><th>2</th><td>0.119079</td><td>0.767518</td><td>0.89077</td></tr><tr><th>3</th><td>0.393271</td><td>0.087253</td><td>0.138227</td></tr></tbody></table></div>"
      ],
      "text/latex": [
       "\\begin{tabular}{r|ccc}\n",
       "\t& x1 & x2 & x3\\\\\n",
       "\t\\hline\n",
       "\t& Float64 & Float64 & Float64\\\\\n",
       "\t\\hline\n",
       "\t1 & 0.0491718 & 0.691857 & 0.840384 \\\\\n",
       "\t2 & 0.119079 & 0.767518 & 0.89077 \\\\\n",
       "\t3 & 0.393271 & 0.087253 & 0.138227 \\\\\n",
       "\\end{tabular}\n"
      ],
      "text/plain": [
       "\u001b[1m3×3 SubDataFrame\u001b[0m\n",
       "\u001b[1m Row \u001b[0m│\u001b[1m x1        \u001b[0m\u001b[1m x2       \u001b[0m\u001b[1m x3       \u001b[0m\n",
       "\u001b[1m     \u001b[0m│\u001b[90m Float64   \u001b[0m\u001b[90m Float64  \u001b[0m\u001b[90m Float64  \u001b[0m\n",
       "─────┼───────────────────────────────\n",
       "   1 │ 0.0491718  0.691857  0.840384\n",
       "   2 │ 0.119079   0.767518  0.89077\n",
       "   3 │ 0.393271   0.087253  0.138227"
      ]
     },
     "execution_count": 5,
     "metadata": {},
     "output_type": "execute_result"
    }
   ],
   "source": [
    "sdf = view(df, 1:3, 1:3)"
   ]
  },
  {
   "cell_type": "markdown",
   "metadata": {},
   "source": [
    "you still have a detailed reference to the parent"
   ]
  },
  {
   "cell_type": "code",
   "execution_count": 6,
   "metadata": {
    "execution": {
     "iopub.execute_input": "2022-07-18T00:53:04.155000Z",
     "iopub.status.busy": "2022-07-18T00:53:04.155000Z",
     "iopub.status.idle": "2022-07-18T00:53:04.672000Z",
     "shell.execute_reply": "2022-07-18T00:53:04.672000Z"
    }
   },
   "outputs": [
    {
     "data": {
      "text/plain": [
       "(\u001b[1m4×5 DataFrame\u001b[0m\n",
       "\u001b[1m Row \u001b[0m│\u001b[1m x1        \u001b[0m\u001b[1m x2       \u001b[0m\u001b[1m x3       \u001b[0m\u001b[1m x4         \u001b[0m\u001b[1m x5       \u001b[0m\n",
       "\u001b[1m     \u001b[0m│\u001b[90m Float64   \u001b[0m\u001b[90m Float64  \u001b[0m\u001b[90m Float64  \u001b[0m\u001b[90m Float64    \u001b[0m\u001b[90m Float64  \u001b[0m\n",
       "─────┼─────────────────────────────────────────────────────\n",
       "   1 │ 0.0491718  0.691857  0.840384  0.198521    0.802561\n",
       "   2 │ 0.119079   0.767518  0.89077   0.00819786  0.661425\n",
       "   3 │ 0.393271   0.087253  0.138227  0.592041    0.347513\n",
       "   4 │ 0.0240943  0.855718  0.347737  0.801055    0.778149, (1:3, 1:3))"
      ]
     },
     "execution_count": 6,
     "metadata": {},
     "output_type": "execute_result"
    }
   ],
   "source": [
    "parent(sdf), parentindices(sdf)"
   ]
  },
  {
   "cell_type": "markdown",
   "metadata": {},
   "source": [
    "selecting a single row returns a `DataFrameRow` object which is also a view"
   ]
  },
  {
   "cell_type": "code",
   "execution_count": 7,
   "metadata": {
    "execution": {
     "iopub.execute_input": "2022-07-18T00:53:04.677000Z",
     "iopub.status.busy": "2022-07-18T00:53:04.677000Z",
     "iopub.status.idle": "2022-07-18T00:53:08.009000Z",
     "shell.execute_reply": "2022-07-18T00:53:08.009000Z"
    }
   },
   "outputs": [
    {
     "data": {
      "text/html": [
       "<p>DataFrameRow (5 columns)</p><div class=\"data-frame\"><table class=\"data-frame\"><thead><tr><th></th><th>x1</th><th>x2</th><th>x3</th><th>x4</th><th>x5</th></tr><tr><th></th><th title=\"Float64\">Float64</th><th title=\"Float64\">Float64</th><th title=\"Float64\">Float64</th><th title=\"Float64\">Float64</th><th title=\"Float64\">Float64</th></tr></thead><tbody><tr><th>3</th><td>0.393271</td><td>0.087253</td><td>0.138227</td><td>0.592041</td><td>0.347513</td></tr></tbody></table></div>"
      ],
      "text/latex": [
       "\\begin{tabular}{r|ccccc}\n",
       "\t& x1 & x2 & x3 & x4 & x5\\\\\n",
       "\t\\hline\n",
       "\t& Float64 & Float64 & Float64 & Float64 & Float64\\\\\n",
       "\t\\hline\n",
       "\t3 & 0.393271 & 0.087253 & 0.138227 & 0.592041 & 0.347513 \\\\\n",
       "\\end{tabular}\n"
      ],
      "text/plain": [
       "\u001b[1mDataFrameRow\u001b[0m\n",
       "\u001b[1m Row \u001b[0m│\u001b[1m x1       \u001b[0m\u001b[1m x2       \u001b[0m\u001b[1m x3       \u001b[0m\u001b[1m x4       \u001b[0m\u001b[1m x5       \u001b[0m\n",
       "\u001b[1m     \u001b[0m│\u001b[90m Float64  \u001b[0m\u001b[90m Float64  \u001b[0m\u001b[90m Float64  \u001b[0m\u001b[90m Float64  \u001b[0m\u001b[90m Float64  \u001b[0m\n",
       "─────┼──────────────────────────────────────────────────\n",
       "   3 │ 0.393271  0.087253  0.138227  0.592041  0.347513"
      ]
     },
     "execution_count": 7,
     "metadata": {},
     "output_type": "execute_result"
    }
   ],
   "source": [
    "dfr = df[3, :]"
   ]
  },
  {
   "cell_type": "code",
   "execution_count": 8,
   "metadata": {
    "execution": {
     "iopub.execute_input": "2022-07-18T00:53:08.013000Z",
     "iopub.status.busy": "2022-07-18T00:53:08.013000Z",
     "iopub.status.idle": "2022-07-18T00:53:08.740000Z",
     "shell.execute_reply": "2022-07-18T00:53:08.739000Z"
    }
   },
   "outputs": [
    {
     "data": {
      "text/plain": [
       "(\u001b[1m4×5 DataFrame\u001b[0m\n",
       "\u001b[1m Row \u001b[0m│\u001b[1m x1        \u001b[0m\u001b[1m x2       \u001b[0m\u001b[1m x3       \u001b[0m\u001b[1m x4         \u001b[0m\u001b[1m x5       \u001b[0m\n",
       "\u001b[1m     \u001b[0m│\u001b[90m Float64   \u001b[0m\u001b[90m Float64  \u001b[0m\u001b[90m Float64  \u001b[0m\u001b[90m Float64    \u001b[0m\u001b[90m Float64  \u001b[0m\n",
       "─────┼─────────────────────────────────────────────────────\n",
       "   1 │ 0.0491718  0.691857  0.840384  0.198521    0.802561\n",
       "   2 │ 0.119079   0.767518  0.89077   0.00819786  0.661425\n",
       "   3 │ 0.393271   0.087253  0.138227  0.592041    0.347513\n",
       "   4 │ 0.0240943  0.855718  0.347737  0.801055    0.778149, (3, Base.OneTo(5)), 3)"
      ]
     },
     "execution_count": 8,
     "metadata": {},
     "output_type": "execute_result"
    }
   ],
   "source": [
    "parent(dfr), parentindices(dfr), rownumber(dfr)"
   ]
  },
  {
   "cell_type": "markdown",
   "metadata": {},
   "source": [
    "let us add a column to a data frame by assigning a scalar broadcasting"
   ]
  },
  {
   "cell_type": "code",
   "execution_count": 9,
   "metadata": {
    "execution": {
     "iopub.execute_input": "2022-07-18T00:53:08.743000Z",
     "iopub.status.busy": "2022-07-18T00:53:08.743000Z",
     "iopub.status.idle": "2022-07-18T00:53:09.877000Z",
     "shell.execute_reply": "2022-07-18T00:53:09.876000Z"
    }
   },
   "outputs": [
    {
     "data": {
      "text/plain": [
       "4-element Vector{Int64}:\n",
       " 1\n",
       " 1\n",
       " 1\n",
       " 1"
      ]
     },
     "execution_count": 9,
     "metadata": {},
     "output_type": "execute_result"
    }
   ],
   "source": [
    "df[!, :Z] .= 1"
   ]
  },
  {
   "cell_type": "code",
   "execution_count": 10,
   "metadata": {
    "execution": {
     "iopub.execute_input": "2022-07-18T00:53:09.881000Z",
     "iopub.status.busy": "2022-07-18T00:53:09.880000Z",
     "iopub.status.idle": "2022-07-18T00:53:10.054000Z",
     "shell.execute_reply": "2022-07-18T00:53:10.054000Z"
    }
   },
   "outputs": [
    {
     "data": {
      "text/html": [
       "<div class=\"data-frame\"><p>4 rows × 6 columns</p><table class=\"data-frame\"><thead><tr><th></th><th>x1</th><th>x2</th><th>x3</th><th>x4</th><th>x5</th><th>Z</th></tr><tr><th></th><th title=\"Float64\">Float64</th><th title=\"Float64\">Float64</th><th title=\"Float64\">Float64</th><th title=\"Float64\">Float64</th><th title=\"Float64\">Float64</th><th title=\"Int64\">Int64</th></tr></thead><tbody><tr><th>1</th><td>0.0491718</td><td>0.691857</td><td>0.840384</td><td>0.198521</td><td>0.802561</td><td>1</td></tr><tr><th>2</th><td>0.119079</td><td>0.767518</td><td>0.89077</td><td>0.00819786</td><td>0.661425</td><td>1</td></tr><tr><th>3</th><td>0.393271</td><td>0.087253</td><td>0.138227</td><td>0.592041</td><td>0.347513</td><td>1</td></tr><tr><th>4</th><td>0.0240943</td><td>0.855718</td><td>0.347737</td><td>0.801055</td><td>0.778149</td><td>1</td></tr></tbody></table></div>"
      ],
      "text/latex": [
       "\\begin{tabular}{r|cccccc}\n",
       "\t& x1 & x2 & x3 & x4 & x5 & Z\\\\\n",
       "\t\\hline\n",
       "\t& Float64 & Float64 & Float64 & Float64 & Float64 & Int64\\\\\n",
       "\t\\hline\n",
       "\t1 & 0.0491718 & 0.691857 & 0.840384 & 0.198521 & 0.802561 & 1 \\\\\n",
       "\t2 & 0.119079 & 0.767518 & 0.89077 & 0.00819786 & 0.661425 & 1 \\\\\n",
       "\t3 & 0.393271 & 0.087253 & 0.138227 & 0.592041 & 0.347513 & 1 \\\\\n",
       "\t4 & 0.0240943 & 0.855718 & 0.347737 & 0.801055 & 0.778149 & 1 \\\\\n",
       "\\end{tabular}\n"
      ],
      "text/plain": [
       "\u001b[1m4×6 DataFrame\u001b[0m\n",
       "\u001b[1m Row \u001b[0m│\u001b[1m x1        \u001b[0m\u001b[1m x2       \u001b[0m\u001b[1m x3       \u001b[0m\u001b[1m x4         \u001b[0m\u001b[1m x5       \u001b[0m\u001b[1m Z     \u001b[0m\n",
       "\u001b[1m     \u001b[0m│\u001b[90m Float64   \u001b[0m\u001b[90m Float64  \u001b[0m\u001b[90m Float64  \u001b[0m\u001b[90m Float64    \u001b[0m\u001b[90m Float64  \u001b[0m\u001b[90m Int64 \u001b[0m\n",
       "─────┼────────────────────────────────────────────────────────────\n",
       "   1 │ 0.0491718  0.691857  0.840384  0.198521    0.802561      1\n",
       "   2 │ 0.119079   0.767518  0.89077   0.00819786  0.661425      1\n",
       "   3 │ 0.393271   0.087253  0.138227  0.592041    0.347513      1\n",
       "   4 │ 0.0240943  0.855718  0.347737  0.801055    0.778149      1"
      ]
     },
     "execution_count": 10,
     "metadata": {},
     "output_type": "execute_result"
    }
   ],
   "source": [
    "df"
   ]
  },
  {
   "cell_type": "markdown",
   "metadata": {},
   "source": [
    "Earlier we used `:` for column selection in a view (`SubDataFrame` and `DataFrameRow`).\n",
    "In this case a view will have all columns of the parent after the parent is mutated."
   ]
  },
  {
   "cell_type": "code",
   "execution_count": 11,
   "metadata": {
    "execution": {
     "iopub.execute_input": "2022-07-18T00:53:10.058000Z",
     "iopub.status.busy": "2022-07-18T00:53:10.057000Z",
     "iopub.status.idle": "2022-07-18T00:53:10.105000Z",
     "shell.execute_reply": "2022-07-18T00:53:10.105000Z"
    }
   },
   "outputs": [
    {
     "data": {
      "text/html": [
       "<p>DataFrameRow (6 columns)</p><div class=\"data-frame\"><table class=\"data-frame\"><thead><tr><th></th><th>x1</th><th>x2</th><th>x3</th><th>x4</th><th>x5</th><th>Z</th></tr><tr><th></th><th title=\"Float64\">Float64</th><th title=\"Float64\">Float64</th><th title=\"Float64\">Float64</th><th title=\"Float64\">Float64</th><th title=\"Float64\">Float64</th><th title=\"Int64\">Int64</th></tr></thead><tbody><tr><th>3</th><td>0.393271</td><td>0.087253</td><td>0.138227</td><td>0.592041</td><td>0.347513</td><td>1</td></tr></tbody></table></div>"
      ],
      "text/latex": [
       "\\begin{tabular}{r|cccccc}\n",
       "\t& x1 & x2 & x3 & x4 & x5 & Z\\\\\n",
       "\t\\hline\n",
       "\t& Float64 & Float64 & Float64 & Float64 & Float64 & Int64\\\\\n",
       "\t\\hline\n",
       "\t3 & 0.393271 & 0.087253 & 0.138227 & 0.592041 & 0.347513 & 1 \\\\\n",
       "\\end{tabular}\n"
      ],
      "text/plain": [
       "\u001b[1mDataFrameRow\u001b[0m\n",
       "\u001b[1m Row \u001b[0m│\u001b[1m x1       \u001b[0m\u001b[1m x2       \u001b[0m\u001b[1m x3       \u001b[0m\u001b[1m x4       \u001b[0m\u001b[1m x5       \u001b[0m\u001b[1m Z     \u001b[0m\n",
       "\u001b[1m     \u001b[0m│\u001b[90m Float64  \u001b[0m\u001b[90m Float64  \u001b[0m\u001b[90m Float64  \u001b[0m\u001b[90m Float64  \u001b[0m\u001b[90m Float64  \u001b[0m\u001b[90m Int64 \u001b[0m\n",
       "─────┼─────────────────────────────────────────────────────────\n",
       "   3 │ 0.393271  0.087253  0.138227  0.592041  0.347513      1"
      ]
     },
     "execution_count": 11,
     "metadata": {},
     "output_type": "execute_result"
    }
   ],
   "source": [
    "dfr"
   ]
  },
  {
   "cell_type": "code",
   "execution_count": 12,
   "metadata": {
    "execution": {
     "iopub.execute_input": "2022-07-18T00:53:10.109000Z",
     "iopub.status.busy": "2022-07-18T00:53:10.109000Z",
     "iopub.status.idle": "2022-07-18T00:53:10.110000Z",
     "shell.execute_reply": "2022-07-18T00:53:10.110000Z"
    }
   },
   "outputs": [
    {
     "data": {
      "text/plain": [
       "(\u001b[1m4×6 DataFrame\u001b[0m\n",
       "\u001b[1m Row \u001b[0m│\u001b[1m x1        \u001b[0m\u001b[1m x2       \u001b[0m\u001b[1m x3       \u001b[0m\u001b[1m x4         \u001b[0m\u001b[1m x5       \u001b[0m\u001b[1m Z     \u001b[0m\n",
       "\u001b[1m     \u001b[0m│\u001b[90m Float64   \u001b[0m\u001b[90m Float64  \u001b[0m\u001b[90m Float64  \u001b[0m\u001b[90m Float64    \u001b[0m\u001b[90m Float64  \u001b[0m\u001b[90m Int64 \u001b[0m\n",
       "─────┼────────────────────────────────────────────────────────────\n",
       "   1 │ 0.0491718  0.691857  0.840384  0.198521    0.802561      1\n",
       "   2 │ 0.119079   0.767518  0.89077   0.00819786  0.661425      1\n",
       "   3 │ 0.393271   0.087253  0.138227  0.592041    0.347513      1\n",
       "   4 │ 0.0240943  0.855718  0.347737  0.801055    0.778149      1, (3, Base.OneTo(6)), 3)"
      ]
     },
     "execution_count": 12,
     "metadata": {},
     "output_type": "execute_result"
    }
   ],
   "source": [
    "parent(dfr), parentindices(dfr), rownumber(dfr)"
   ]
  },
  {
   "cell_type": "markdown",
   "metadata": {},
   "source": [
    "Note that `parent` and `parentindices` refer to the true source of data for a `DataFrameRow` and `rownumber` refers to row number in the direct object that was used to create `DataFrameRow`"
   ]
  },
  {
   "cell_type": "code",
   "execution_count": 13,
   "metadata": {
    "execution": {
     "iopub.execute_input": "2022-07-18T00:53:10.113000Z",
     "iopub.status.busy": "2022-07-18T00:53:10.113000Z",
     "iopub.status.idle": "2022-07-18T00:53:10.290000Z",
     "shell.execute_reply": "2022-07-18T00:53:10.290000Z"
    }
   },
   "outputs": [
    {
     "data": {
      "text/html": [
       "<div class=\"data-frame\"><p>4 rows × 1 columns</p><table class=\"data-frame\"><thead><tr><th></th><th>a</th></tr><tr><th></th><th title=\"Int64\">Int64</th></tr></thead><tbody><tr><th>1</th><td>1</td></tr><tr><th>2</th><td>2</td></tr><tr><th>3</th><td>3</td></tr><tr><th>4</th><td>4</td></tr></tbody></table></div>"
      ],
      "text/latex": [
       "\\begin{tabular}{r|c}\n",
       "\t& a\\\\\n",
       "\t\\hline\n",
       "\t& Int64\\\\\n",
       "\t\\hline\n",
       "\t1 & 1 \\\\\n",
       "\t2 & 2 \\\\\n",
       "\t3 & 3 \\\\\n",
       "\t4 & 4 \\\\\n",
       "\\end{tabular}\n"
      ],
      "text/plain": [
       "\u001b[1m4×1 DataFrame\u001b[0m\n",
       "\u001b[1m Row \u001b[0m│\u001b[1m a     \u001b[0m\n",
       "\u001b[1m     \u001b[0m│\u001b[90m Int64 \u001b[0m\n",
       "─────┼───────\n",
       "   1 │     1\n",
       "   2 │     2\n",
       "   3 │     3\n",
       "   4 │     4"
      ]
     },
     "execution_count": 13,
     "metadata": {},
     "output_type": "execute_result"
    }
   ],
   "source": [
    "df = DataFrame(a=1:4)"
   ]
  },
  {
   "cell_type": "code",
   "execution_count": 14,
   "metadata": {
    "execution": {
     "iopub.execute_input": "2022-07-18T00:53:10.294000Z",
     "iopub.status.busy": "2022-07-18T00:53:10.293000Z",
     "iopub.status.idle": "2022-07-18T00:53:12.065000Z",
     "shell.execute_reply": "2022-07-18T00:53:12.065000Z"
    }
   },
   "outputs": [
    {
     "data": {
      "text/html": [
       "<div class=\"data-frame\"><p>2 rows × 1 columns</p><table class=\"data-frame\"><thead><tr><th></th><th>a</th></tr><tr><th></th><th title=\"Int64\">Int64</th></tr></thead><tbody><tr><th>1</th><td>3</td></tr><tr><th>2</th><td>2</td></tr></tbody></table></div>"
      ],
      "text/latex": [
       "\\begin{tabular}{r|c}\n",
       "\t& a\\\\\n",
       "\t\\hline\n",
       "\t& Int64\\\\\n",
       "\t\\hline\n",
       "\t1 & 3 \\\\\n",
       "\t2 & 2 \\\\\n",
       "\\end{tabular}\n"
      ],
      "text/plain": [
       "\u001b[1m2×1 SubDataFrame\u001b[0m\n",
       "\u001b[1m Row \u001b[0m│\u001b[1m a     \u001b[0m\n",
       "\u001b[1m     \u001b[0m│\u001b[90m Int64 \u001b[0m\n",
       "─────┼───────\n",
       "   1 │     3\n",
       "   2 │     2"
      ]
     },
     "execution_count": 14,
     "metadata": {},
     "output_type": "execute_result"
    }
   ],
   "source": [
    "dfv = view(df, [3,2], :)"
   ]
  },
  {
   "cell_type": "code",
   "execution_count": 15,
   "metadata": {
    "execution": {
     "iopub.execute_input": "2022-07-18T00:53:12.069000Z",
     "iopub.status.busy": "2022-07-18T00:53:12.068000Z",
     "iopub.status.idle": "2022-07-18T00:53:12.087000Z",
     "shell.execute_reply": "2022-07-18T00:53:12.086000Z"
    }
   },
   "outputs": [
    {
     "data": {
      "text/html": [
       "<p>DataFrameRow (1 columns)</p><div class=\"data-frame\"><table class=\"data-frame\"><thead><tr><th></th><th>a</th></tr><tr><th></th><th title=\"Int64\">Int64</th></tr></thead><tbody><tr><th>3</th><td>3</td></tr></tbody></table></div>"
      ],
      "text/latex": [
       "\\begin{tabular}{r|c}\n",
       "\t& a\\\\\n",
       "\t\\hline\n",
       "\t& Int64\\\\\n",
       "\t\\hline\n",
       "\t3 & 3 \\\\\n",
       "\\end{tabular}\n"
      ],
      "text/plain": [
       "\u001b[1mDataFrameRow\u001b[0m\n",
       "\u001b[1m Row \u001b[0m│\u001b[1m a     \u001b[0m\n",
       "\u001b[1m     \u001b[0m│\u001b[90m Int64 \u001b[0m\n",
       "─────┼───────\n",
       "   3 │     3"
      ]
     },
     "execution_count": 15,
     "metadata": {},
     "output_type": "execute_result"
    }
   ],
   "source": [
    "dfr = dfv[1, :]"
   ]
  },
  {
   "cell_type": "code",
   "execution_count": 16,
   "metadata": {
    "execution": {
     "iopub.execute_input": "2022-07-18T00:53:12.089000Z",
     "iopub.status.busy": "2022-07-18T00:53:12.089000Z",
     "iopub.status.idle": "2022-07-18T00:53:12.092000Z",
     "shell.execute_reply": "2022-07-18T00:53:12.092000Z"
    }
   },
   "outputs": [
    {
     "data": {
      "text/plain": [
       "(\u001b[1m4×1 DataFrame\u001b[0m\n",
       "\u001b[1m Row \u001b[0m│\u001b[1m a     \u001b[0m\n",
       "\u001b[1m     \u001b[0m│\u001b[90m Int64 \u001b[0m\n",
       "─────┼───────\n",
       "   1 │     1\n",
       "   2 │     2\n",
       "   3 │     3\n",
       "   4 │     4, (3, Base.OneTo(1)), 1)"
      ]
     },
     "execution_count": 16,
     "metadata": {},
     "output_type": "execute_result"
    }
   ],
   "source": [
    "parent(dfr), parentindices(dfr), rownumber(dfr)"
   ]
  },
  {
   "cell_type": "markdown",
   "metadata": {},
   "source": [
    "## Reordering rows"
   ]
  },
  {
   "cell_type": "markdown",
   "metadata": {},
   "source": [
    "We create some random data frame (and hope that `x.x` is not sorted :), which is quite likely with 12 rows)"
   ]
  },
  {
   "cell_type": "code",
   "execution_count": 17,
   "metadata": {
    "execution": {
     "iopub.execute_input": "2022-07-18T00:53:12.094000Z",
     "iopub.status.busy": "2022-07-18T00:53:12.094000Z",
     "iopub.status.idle": "2022-07-18T00:53:12.206000Z",
     "shell.execute_reply": "2022-07-18T00:53:12.204000Z"
    }
   },
   "outputs": [
    {
     "data": {
      "text/html": [
       "<div class=\"data-frame\"><p>12 rows × 3 columns</p><table class=\"data-frame\"><thead><tr><th></th><th>id</th><th>x</th><th>y</th></tr><tr><th></th><th title=\"Int64\">Int64</th><th title=\"Float64\">Float64</th><th title=\"Float64\">Float64</th></tr></thead><tbody><tr><th>1</th><td>1</td><td>0.830334</td><td>0.0</td></tr><tr><th>2</th><td>2</td><td>0.573132</td><td>0.0</td></tr><tr><th>3</th><td>3</td><td>0.176625</td><td>0.0</td></tr><tr><th>4</th><td>4</td><td>0.114935</td><td>0.0</td></tr><tr><th>5</th><td>5</td><td>0.7864</td><td>0.0</td></tr><tr><th>6</th><td>6</td><td>0.892598</td><td>0.0</td></tr><tr><th>7</th><td>7</td><td>0.452015</td><td>1.0</td></tr><tr><th>8</th><td>8</td><td>0.206873</td><td>1.0</td></tr><tr><th>9</th><td>9</td><td>0.286582</td><td>1.0</td></tr><tr><th>10</th><td>10</td><td>0.918916</td><td>1.0</td></tr><tr><th>11</th><td>11</td><td>0.991071</td><td>1.0</td></tr><tr><th>12</th><td>12</td><td>0.796831</td><td>1.0</td></tr></tbody></table></div>"
      ],
      "text/latex": [
       "\\begin{tabular}{r|ccc}\n",
       "\t& id & x & y\\\\\n",
       "\t\\hline\n",
       "\t& Int64 & Float64 & Float64\\\\\n",
       "\t\\hline\n",
       "\t1 & 1 & 0.830334 & 0.0 \\\\\n",
       "\t2 & 2 & 0.573132 & 0.0 \\\\\n",
       "\t3 & 3 & 0.176625 & 0.0 \\\\\n",
       "\t4 & 4 & 0.114935 & 0.0 \\\\\n",
       "\t5 & 5 & 0.7864 & 0.0 \\\\\n",
       "\t6 & 6 & 0.892598 & 0.0 \\\\\n",
       "\t7 & 7 & 0.452015 & 1.0 \\\\\n",
       "\t8 & 8 & 0.206873 & 1.0 \\\\\n",
       "\t9 & 9 & 0.286582 & 1.0 \\\\\n",
       "\t10 & 10 & 0.918916 & 1.0 \\\\\n",
       "\t11 & 11 & 0.991071 & 1.0 \\\\\n",
       "\t12 & 12 & 0.796831 & 1.0 \\\\\n",
       "\\end{tabular}\n"
      ],
      "text/plain": [
       "\u001b[1m12×3 DataFrame\u001b[0m\n",
       "\u001b[1m Row \u001b[0m│\u001b[1m id    \u001b[0m\u001b[1m x        \u001b[0m\u001b[1m y       \u001b[0m\n",
       "\u001b[1m     \u001b[0m│\u001b[90m Int64 \u001b[0m\u001b[90m Float64  \u001b[0m\u001b[90m Float64 \u001b[0m\n",
       "─────┼──────────────────────────\n",
       "   1 │     1  0.830334      0.0\n",
       "   2 │     2  0.573132      0.0\n",
       "   3 │     3  0.176625      0.0\n",
       "   4 │     4  0.114935      0.0\n",
       "   5 │     5  0.7864        0.0\n",
       "   6 │     6  0.892598      0.0\n",
       "   7 │     7  0.452015      1.0\n",
       "   8 │     8  0.206873      1.0\n",
       "   9 │     9  0.286582      1.0\n",
       "  10 │    10  0.918916      1.0\n",
       "  11 │    11  0.991071      1.0\n",
       "  12 │    12  0.796831      1.0"
      ]
     },
     "execution_count": 17,
     "metadata": {},
     "output_type": "execute_result"
    }
   ],
   "source": [
    "x = DataFrame(id=1:12, x = rand(12), y = [zeros(6); ones(6)])"
   ]
  },
  {
   "cell_type": "markdown",
   "metadata": {},
   "source": [
    "check if a DataFrame or a subset of its columns is sorted"
   ]
  },
  {
   "cell_type": "code",
   "execution_count": 18,
   "metadata": {
    "execution": {
     "iopub.execute_input": "2022-07-18T00:53:12.209000Z",
     "iopub.status.busy": "2022-07-18T00:53:12.208000Z",
     "iopub.status.idle": "2022-07-18T00:53:13.312000Z",
     "shell.execute_reply": "2022-07-18T00:53:13.312000Z"
    }
   },
   "outputs": [
    {
     "data": {
      "text/plain": [
       "(true, false)"
      ]
     },
     "execution_count": 18,
     "metadata": {},
     "output_type": "execute_result"
    }
   ],
   "source": [
    "issorted(x), issorted(x, :x)"
   ]
  },
  {
   "cell_type": "markdown",
   "metadata": {},
   "source": [
    "we sort x in place"
   ]
  },
  {
   "cell_type": "code",
   "execution_count": 19,
   "metadata": {
    "execution": {
     "iopub.execute_input": "2022-07-18T00:53:13.317000Z",
     "iopub.status.busy": "2022-07-18T00:53:13.317000Z",
     "iopub.status.idle": "2022-07-18T00:53:13.770000Z",
     "shell.execute_reply": "2022-07-18T00:53:13.770000Z"
    }
   },
   "outputs": [
    {
     "data": {
      "text/html": [
       "<div class=\"data-frame\"><p>12 rows × 3 columns</p><table class=\"data-frame\"><thead><tr><th></th><th>id</th><th>x</th><th>y</th></tr><tr><th></th><th title=\"Int64\">Int64</th><th title=\"Float64\">Float64</th><th title=\"Float64\">Float64</th></tr></thead><tbody><tr><th>1</th><td>4</td><td>0.114935</td><td>0.0</td></tr><tr><th>2</th><td>3</td><td>0.176625</td><td>0.0</td></tr><tr><th>3</th><td>8</td><td>0.206873</td><td>1.0</td></tr><tr><th>4</th><td>9</td><td>0.286582</td><td>1.0</td></tr><tr><th>5</th><td>7</td><td>0.452015</td><td>1.0</td></tr><tr><th>6</th><td>2</td><td>0.573132</td><td>0.0</td></tr><tr><th>7</th><td>5</td><td>0.7864</td><td>0.0</td></tr><tr><th>8</th><td>12</td><td>0.796831</td><td>1.0</td></tr><tr><th>9</th><td>1</td><td>0.830334</td><td>0.0</td></tr><tr><th>10</th><td>6</td><td>0.892598</td><td>0.0</td></tr><tr><th>11</th><td>10</td><td>0.918916</td><td>1.0</td></tr><tr><th>12</th><td>11</td><td>0.991071</td><td>1.0</td></tr></tbody></table></div>"
      ],
      "text/latex": [
       "\\begin{tabular}{r|ccc}\n",
       "\t& id & x & y\\\\\n",
       "\t\\hline\n",
       "\t& Int64 & Float64 & Float64\\\\\n",
       "\t\\hline\n",
       "\t1 & 4 & 0.114935 & 0.0 \\\\\n",
       "\t2 & 3 & 0.176625 & 0.0 \\\\\n",
       "\t3 & 8 & 0.206873 & 1.0 \\\\\n",
       "\t4 & 9 & 0.286582 & 1.0 \\\\\n",
       "\t5 & 7 & 0.452015 & 1.0 \\\\\n",
       "\t6 & 2 & 0.573132 & 0.0 \\\\\n",
       "\t7 & 5 & 0.7864 & 0.0 \\\\\n",
       "\t8 & 12 & 0.796831 & 1.0 \\\\\n",
       "\t9 & 1 & 0.830334 & 0.0 \\\\\n",
       "\t10 & 6 & 0.892598 & 0.0 \\\\\n",
       "\t11 & 10 & 0.918916 & 1.0 \\\\\n",
       "\t12 & 11 & 0.991071 & 1.0 \\\\\n",
       "\\end{tabular}\n"
      ],
      "text/plain": [
       "\u001b[1m12×3 DataFrame\u001b[0m\n",
       "\u001b[1m Row \u001b[0m│\u001b[1m id    \u001b[0m\u001b[1m x        \u001b[0m\u001b[1m y       \u001b[0m\n",
       "\u001b[1m     \u001b[0m│\u001b[90m Int64 \u001b[0m\u001b[90m Float64  \u001b[0m\u001b[90m Float64 \u001b[0m\n",
       "─────┼──────────────────────────\n",
       "   1 │     4  0.114935      0.0\n",
       "   2 │     3  0.176625      0.0\n",
       "   3 │     8  0.206873      1.0\n",
       "   4 │     9  0.286582      1.0\n",
       "   5 │     7  0.452015      1.0\n",
       "   6 │     2  0.573132      0.0\n",
       "   7 │     5  0.7864        0.0\n",
       "   8 │    12  0.796831      1.0\n",
       "   9 │     1  0.830334      0.0\n",
       "  10 │     6  0.892598      0.0\n",
       "  11 │    10  0.918916      1.0\n",
       "  12 │    11  0.991071      1.0"
      ]
     },
     "execution_count": 19,
     "metadata": {},
     "output_type": "execute_result"
    }
   ],
   "source": [
    "sort!(x, :x)"
   ]
  },
  {
   "cell_type": "markdown",
   "metadata": {},
   "source": [
    "now we create a new DataFrame"
   ]
  },
  {
   "cell_type": "code",
   "execution_count": 20,
   "metadata": {
    "execution": {
     "iopub.execute_input": "2022-07-18T00:53:13.774000Z",
     "iopub.status.busy": "2022-07-18T00:53:13.774000Z",
     "iopub.status.idle": "2022-07-18T00:53:13.958000Z",
     "shell.execute_reply": "2022-07-18T00:53:13.958000Z"
    }
   },
   "outputs": [
    {
     "data": {
      "text/html": [
       "<div class=\"data-frame\"><p>12 rows × 3 columns</p><table class=\"data-frame\"><thead><tr><th></th><th>id</th><th>x</th><th>y</th></tr><tr><th></th><th title=\"Int64\">Int64</th><th title=\"Float64\">Float64</th><th title=\"Float64\">Float64</th></tr></thead><tbody><tr><th>1</th><td>1</td><td>0.830334</td><td>0.0</td></tr><tr><th>2</th><td>2</td><td>0.573132</td><td>0.0</td></tr><tr><th>3</th><td>3</td><td>0.176625</td><td>0.0</td></tr><tr><th>4</th><td>4</td><td>0.114935</td><td>0.0</td></tr><tr><th>5</th><td>5</td><td>0.7864</td><td>0.0</td></tr><tr><th>6</th><td>6</td><td>0.892598</td><td>0.0</td></tr><tr><th>7</th><td>7</td><td>0.452015</td><td>1.0</td></tr><tr><th>8</th><td>8</td><td>0.206873</td><td>1.0</td></tr><tr><th>9</th><td>9</td><td>0.286582</td><td>1.0</td></tr><tr><th>10</th><td>10</td><td>0.918916</td><td>1.0</td></tr><tr><th>11</th><td>11</td><td>0.991071</td><td>1.0</td></tr><tr><th>12</th><td>12</td><td>0.796831</td><td>1.0</td></tr></tbody></table></div>"
      ],
      "text/latex": [
       "\\begin{tabular}{r|ccc}\n",
       "\t& id & x & y\\\\\n",
       "\t\\hline\n",
       "\t& Int64 & Float64 & Float64\\\\\n",
       "\t\\hline\n",
       "\t1 & 1 & 0.830334 & 0.0 \\\\\n",
       "\t2 & 2 & 0.573132 & 0.0 \\\\\n",
       "\t3 & 3 & 0.176625 & 0.0 \\\\\n",
       "\t4 & 4 & 0.114935 & 0.0 \\\\\n",
       "\t5 & 5 & 0.7864 & 0.0 \\\\\n",
       "\t6 & 6 & 0.892598 & 0.0 \\\\\n",
       "\t7 & 7 & 0.452015 & 1.0 \\\\\n",
       "\t8 & 8 & 0.206873 & 1.0 \\\\\n",
       "\t9 & 9 & 0.286582 & 1.0 \\\\\n",
       "\t10 & 10 & 0.918916 & 1.0 \\\\\n",
       "\t11 & 11 & 0.991071 & 1.0 \\\\\n",
       "\t12 & 12 & 0.796831 & 1.0 \\\\\n",
       "\\end{tabular}\n"
      ],
      "text/plain": [
       "\u001b[1m12×3 DataFrame\u001b[0m\n",
       "\u001b[1m Row \u001b[0m│\u001b[1m id    \u001b[0m\u001b[1m x        \u001b[0m\u001b[1m y       \u001b[0m\n",
       "\u001b[1m     \u001b[0m│\u001b[90m Int64 \u001b[0m\u001b[90m Float64  \u001b[0m\u001b[90m Float64 \u001b[0m\n",
       "─────┼──────────────────────────\n",
       "   1 │     1  0.830334      0.0\n",
       "   2 │     2  0.573132      0.0\n",
       "   3 │     3  0.176625      0.0\n",
       "   4 │     4  0.114935      0.0\n",
       "   5 │     5  0.7864        0.0\n",
       "   6 │     6  0.892598      0.0\n",
       "   7 │     7  0.452015      1.0\n",
       "   8 │     8  0.206873      1.0\n",
       "   9 │     9  0.286582      1.0\n",
       "  10 │    10  0.918916      1.0\n",
       "  11 │    11  0.991071      1.0\n",
       "  12 │    12  0.796831      1.0"
      ]
     },
     "execution_count": 20,
     "metadata": {},
     "output_type": "execute_result"
    }
   ],
   "source": [
    "y = sort(x, :id)"
   ]
  },
  {
   "cell_type": "markdown",
   "metadata": {},
   "source": [
    "here we sort by two columns, first is decreasing, second is increasing"
   ]
  },
  {
   "cell_type": "code",
   "execution_count": 21,
   "metadata": {
    "execution": {
     "iopub.execute_input": "2022-07-18T00:53:13.963000Z",
     "iopub.status.busy": "2022-07-18T00:53:13.962000Z",
     "iopub.status.idle": "2022-07-18T00:53:14.887000Z",
     "shell.execute_reply": "2022-07-18T00:53:14.887000Z"
    }
   },
   "outputs": [
    {
     "data": {
      "text/html": [
       "<div class=\"data-frame\"><p>12 rows × 3 columns</p><table class=\"data-frame\"><thead><tr><th></th><th>id</th><th>x</th><th>y</th></tr><tr><th></th><th title=\"Int64\">Int64</th><th title=\"Float64\">Float64</th><th title=\"Float64\">Float64</th></tr></thead><tbody><tr><th>1</th><td>8</td><td>0.206873</td><td>1.0</td></tr><tr><th>2</th><td>9</td><td>0.286582</td><td>1.0</td></tr><tr><th>3</th><td>7</td><td>0.452015</td><td>1.0</td></tr><tr><th>4</th><td>12</td><td>0.796831</td><td>1.0</td></tr><tr><th>5</th><td>10</td><td>0.918916</td><td>1.0</td></tr><tr><th>6</th><td>11</td><td>0.991071</td><td>1.0</td></tr><tr><th>7</th><td>4</td><td>0.114935</td><td>0.0</td></tr><tr><th>8</th><td>3</td><td>0.176625</td><td>0.0</td></tr><tr><th>9</th><td>2</td><td>0.573132</td><td>0.0</td></tr><tr><th>10</th><td>5</td><td>0.7864</td><td>0.0</td></tr><tr><th>11</th><td>1</td><td>0.830334</td><td>0.0</td></tr><tr><th>12</th><td>6</td><td>0.892598</td><td>0.0</td></tr></tbody></table></div>"
      ],
      "text/latex": [
       "\\begin{tabular}{r|ccc}\n",
       "\t& id & x & y\\\\\n",
       "\t\\hline\n",
       "\t& Int64 & Float64 & Float64\\\\\n",
       "\t\\hline\n",
       "\t1 & 8 & 0.206873 & 1.0 \\\\\n",
       "\t2 & 9 & 0.286582 & 1.0 \\\\\n",
       "\t3 & 7 & 0.452015 & 1.0 \\\\\n",
       "\t4 & 12 & 0.796831 & 1.0 \\\\\n",
       "\t5 & 10 & 0.918916 & 1.0 \\\\\n",
       "\t6 & 11 & 0.991071 & 1.0 \\\\\n",
       "\t7 & 4 & 0.114935 & 0.0 \\\\\n",
       "\t8 & 3 & 0.176625 & 0.0 \\\\\n",
       "\t9 & 2 & 0.573132 & 0.0 \\\\\n",
       "\t10 & 5 & 0.7864 & 0.0 \\\\\n",
       "\t11 & 1 & 0.830334 & 0.0 \\\\\n",
       "\t12 & 6 & 0.892598 & 0.0 \\\\\n",
       "\\end{tabular}\n"
      ],
      "text/plain": [
       "\u001b[1m12×3 DataFrame\u001b[0m\n",
       "\u001b[1m Row \u001b[0m│\u001b[1m id    \u001b[0m\u001b[1m x        \u001b[0m\u001b[1m y       \u001b[0m\n",
       "\u001b[1m     \u001b[0m│\u001b[90m Int64 \u001b[0m\u001b[90m Float64  \u001b[0m\u001b[90m Float64 \u001b[0m\n",
       "─────┼──────────────────────────\n",
       "   1 │     8  0.206873      1.0\n",
       "   2 │     9  0.286582      1.0\n",
       "   3 │     7  0.452015      1.0\n",
       "   4 │    12  0.796831      1.0\n",
       "   5 │    10  0.918916      1.0\n",
       "   6 │    11  0.991071      1.0\n",
       "   7 │     4  0.114935      0.0\n",
       "   8 │     3  0.176625      0.0\n",
       "   9 │     2  0.573132      0.0\n",
       "  10 │     5  0.7864        0.0\n",
       "  11 │     1  0.830334      0.0\n",
       "  12 │     6  0.892598      0.0"
      ]
     },
     "execution_count": 21,
     "metadata": {},
     "output_type": "execute_result"
    }
   ],
   "source": [
    "sort(x, [:y, :x], rev=[true, false])"
   ]
  },
  {
   "cell_type": "code",
   "execution_count": 22,
   "metadata": {
    "execution": {
     "iopub.execute_input": "2022-07-18T00:53:14.900000Z",
     "iopub.status.busy": "2022-07-18T00:53:14.899000Z",
     "iopub.status.idle": "2022-07-18T00:53:15.160000Z",
     "shell.execute_reply": "2022-07-18T00:53:15.160000Z"
    }
   },
   "outputs": [
    {
     "data": {
      "text/html": [
       "<div class=\"data-frame\"><p>12 rows × 3 columns</p><table class=\"data-frame\"><thead><tr><th></th><th>id</th><th>x</th><th>y</th></tr><tr><th></th><th title=\"Int64\">Int64</th><th title=\"Float64\">Float64</th><th title=\"Float64\">Float64</th></tr></thead><tbody><tr><th>1</th><td>8</td><td>0.206873</td><td>1.0</td></tr><tr><th>2</th><td>9</td><td>0.286582</td><td>1.0</td></tr><tr><th>3</th><td>7</td><td>0.452015</td><td>1.0</td></tr><tr><th>4</th><td>12</td><td>0.796831</td><td>1.0</td></tr><tr><th>5</th><td>10</td><td>0.918916</td><td>1.0</td></tr><tr><th>6</th><td>11</td><td>0.991071</td><td>1.0</td></tr><tr><th>7</th><td>4</td><td>0.114935</td><td>0.0</td></tr><tr><th>8</th><td>3</td><td>0.176625</td><td>0.0</td></tr><tr><th>9</th><td>2</td><td>0.573132</td><td>0.0</td></tr><tr><th>10</th><td>5</td><td>0.7864</td><td>0.0</td></tr><tr><th>11</th><td>1</td><td>0.830334</td><td>0.0</td></tr><tr><th>12</th><td>6</td><td>0.892598</td><td>0.0</td></tr></tbody></table></div>"
      ],
      "text/latex": [
       "\\begin{tabular}{r|ccc}\n",
       "\t& id & x & y\\\\\n",
       "\t\\hline\n",
       "\t& Int64 & Float64 & Float64\\\\\n",
       "\t\\hline\n",
       "\t1 & 8 & 0.206873 & 1.0 \\\\\n",
       "\t2 & 9 & 0.286582 & 1.0 \\\\\n",
       "\t3 & 7 & 0.452015 & 1.0 \\\\\n",
       "\t4 & 12 & 0.796831 & 1.0 \\\\\n",
       "\t5 & 10 & 0.918916 & 1.0 \\\\\n",
       "\t6 & 11 & 0.991071 & 1.0 \\\\\n",
       "\t7 & 4 & 0.114935 & 0.0 \\\\\n",
       "\t8 & 3 & 0.176625 & 0.0 \\\\\n",
       "\t9 & 2 & 0.573132 & 0.0 \\\\\n",
       "\t10 & 5 & 0.7864 & 0.0 \\\\\n",
       "\t11 & 1 & 0.830334 & 0.0 \\\\\n",
       "\t12 & 6 & 0.892598 & 0.0 \\\\\n",
       "\\end{tabular}\n"
      ],
      "text/plain": [
       "\u001b[1m12×3 DataFrame\u001b[0m\n",
       "\u001b[1m Row \u001b[0m│\u001b[1m id    \u001b[0m\u001b[1m x        \u001b[0m\u001b[1m y       \u001b[0m\n",
       "\u001b[1m     \u001b[0m│\u001b[90m Int64 \u001b[0m\u001b[90m Float64  \u001b[0m\u001b[90m Float64 \u001b[0m\n",
       "─────┼──────────────────────────\n",
       "   1 │     8  0.206873      1.0\n",
       "   2 │     9  0.286582      1.0\n",
       "   3 │     7  0.452015      1.0\n",
       "   4 │    12  0.796831      1.0\n",
       "   5 │    10  0.918916      1.0\n",
       "   6 │    11  0.991071      1.0\n",
       "   7 │     4  0.114935      0.0\n",
       "   8 │     3  0.176625      0.0\n",
       "   9 │     2  0.573132      0.0\n",
       "  10 │     5  0.7864        0.0\n",
       "  11 │     1  0.830334      0.0\n",
       "  12 │     6  0.892598      0.0"
      ]
     },
     "execution_count": 22,
     "metadata": {},
     "output_type": "execute_result"
    }
   ],
   "source": [
    "sort(x, [order(:y, rev=true), :x]) # the same as above"
   ]
  },
  {
   "cell_type": "markdown",
   "metadata": {},
   "source": [
    "now we try some more fancy sorting stuff"
   ]
  },
  {
   "cell_type": "code",
   "execution_count": 23,
   "metadata": {
    "execution": {
     "iopub.execute_input": "2022-07-18T00:53:15.172000Z",
     "iopub.status.busy": "2022-07-18T00:53:15.172000Z",
     "iopub.status.idle": "2022-07-18T00:53:15.444000Z",
     "shell.execute_reply": "2022-07-18T00:53:15.444000Z"
    }
   },
   "outputs": [
    {
     "data": {
      "text/html": [
       "<div class=\"data-frame\"><p>12 rows × 3 columns</p><table class=\"data-frame\"><thead><tr><th></th><th>id</th><th>x</th><th>y</th></tr><tr><th></th><th title=\"Int64\">Int64</th><th title=\"Float64\">Float64</th><th title=\"Float64\">Float64</th></tr></thead><tbody><tr><th>1</th><td>11</td><td>0.991071</td><td>1.0</td></tr><tr><th>2</th><td>10</td><td>0.918916</td><td>1.0</td></tr><tr><th>3</th><td>12</td><td>0.796831</td><td>1.0</td></tr><tr><th>4</th><td>7</td><td>0.452015</td><td>1.0</td></tr><tr><th>5</th><td>9</td><td>0.286582</td><td>1.0</td></tr><tr><th>6</th><td>8</td><td>0.206873</td><td>1.0</td></tr><tr><th>7</th><td>6</td><td>0.892598</td><td>0.0</td></tr><tr><th>8</th><td>1</td><td>0.830334</td><td>0.0</td></tr><tr><th>9</th><td>5</td><td>0.7864</td><td>0.0</td></tr><tr><th>10</th><td>2</td><td>0.573132</td><td>0.0</td></tr><tr><th>11</th><td>3</td><td>0.176625</td><td>0.0</td></tr><tr><th>12</th><td>4</td><td>0.114935</td><td>0.0</td></tr></tbody></table></div>"
      ],
      "text/latex": [
       "\\begin{tabular}{r|ccc}\n",
       "\t& id & x & y\\\\\n",
       "\t\\hline\n",
       "\t& Int64 & Float64 & Float64\\\\\n",
       "\t\\hline\n",
       "\t1 & 11 & 0.991071 & 1.0 \\\\\n",
       "\t2 & 10 & 0.918916 & 1.0 \\\\\n",
       "\t3 & 12 & 0.796831 & 1.0 \\\\\n",
       "\t4 & 7 & 0.452015 & 1.0 \\\\\n",
       "\t5 & 9 & 0.286582 & 1.0 \\\\\n",
       "\t6 & 8 & 0.206873 & 1.0 \\\\\n",
       "\t7 & 6 & 0.892598 & 0.0 \\\\\n",
       "\t8 & 1 & 0.830334 & 0.0 \\\\\n",
       "\t9 & 5 & 0.7864 & 0.0 \\\\\n",
       "\t10 & 2 & 0.573132 & 0.0 \\\\\n",
       "\t11 & 3 & 0.176625 & 0.0 \\\\\n",
       "\t12 & 4 & 0.114935 & 0.0 \\\\\n",
       "\\end{tabular}\n"
      ],
      "text/plain": [
       "\u001b[1m12×3 DataFrame\u001b[0m\n",
       "\u001b[1m Row \u001b[0m│\u001b[1m id    \u001b[0m\u001b[1m x        \u001b[0m\u001b[1m y       \u001b[0m\n",
       "\u001b[1m     \u001b[0m│\u001b[90m Int64 \u001b[0m\u001b[90m Float64  \u001b[0m\u001b[90m Float64 \u001b[0m\n",
       "─────┼──────────────────────────\n",
       "   1 │    11  0.991071      1.0\n",
       "   2 │    10  0.918916      1.0\n",
       "   3 │    12  0.796831      1.0\n",
       "   4 │     7  0.452015      1.0\n",
       "   5 │     9  0.286582      1.0\n",
       "   6 │     8  0.206873      1.0\n",
       "   7 │     6  0.892598      0.0\n",
       "   8 │     1  0.830334      0.0\n",
       "   9 │     5  0.7864        0.0\n",
       "  10 │     2  0.573132      0.0\n",
       "  11 │     3  0.176625      0.0\n",
       "  12 │     4  0.114935      0.0"
      ]
     },
     "execution_count": 23,
     "metadata": {},
     "output_type": "execute_result"
    }
   ],
   "source": [
    "sort(x, [order(:y, rev=true), order(:x, by=v->-v)])"
   ]
  },
  {
   "cell_type": "markdown",
   "metadata": {},
   "source": [
    "this is how you can reorder rows (here randomly)"
   ]
  },
  {
   "cell_type": "code",
   "execution_count": 24,
   "metadata": {
    "execution": {
     "iopub.execute_input": "2022-07-18T00:53:15.448000Z",
     "iopub.status.busy": "2022-07-18T00:53:15.448000Z",
     "iopub.status.idle": "2022-07-18T00:53:15.502000Z",
     "shell.execute_reply": "2022-07-18T00:53:15.502000Z"
    }
   },
   "outputs": [
    {
     "data": {
      "text/html": [
       "<div class=\"data-frame\"><p>10 rows × 3 columns</p><table class=\"data-frame\"><thead><tr><th></th><th>id</th><th>x</th><th>y</th></tr><tr><th></th><th title=\"Int64\">Int64</th><th title=\"Float64\">Float64</th><th title=\"Float64\">Float64</th></tr></thead><tbody><tr><th>1</th><td>12</td><td>0.796831</td><td>1.0</td></tr><tr><th>2</th><td>6</td><td>0.892598</td><td>0.0</td></tr><tr><th>3</th><td>2</td><td>0.573132</td><td>0.0</td></tr><tr><th>4</th><td>5</td><td>0.7864</td><td>0.0</td></tr><tr><th>5</th><td>9</td><td>0.286582</td><td>1.0</td></tr><tr><th>6</th><td>3</td><td>0.176625</td><td>0.0</td></tr><tr><th>7</th><td>1</td><td>0.830334</td><td>0.0</td></tr><tr><th>8</th><td>8</td><td>0.206873</td><td>1.0</td></tr><tr><th>9</th><td>7</td><td>0.452015</td><td>1.0</td></tr><tr><th>10</th><td>4</td><td>0.114935</td><td>0.0</td></tr></tbody></table></div>"
      ],
      "text/latex": [
       "\\begin{tabular}{r|ccc}\n",
       "\t& id & x & y\\\\\n",
       "\t\\hline\n",
       "\t& Int64 & Float64 & Float64\\\\\n",
       "\t\\hline\n",
       "\t1 & 12 & 0.796831 & 1.0 \\\\\n",
       "\t2 & 6 & 0.892598 & 0.0 \\\\\n",
       "\t3 & 2 & 0.573132 & 0.0 \\\\\n",
       "\t4 & 5 & 0.7864 & 0.0 \\\\\n",
       "\t5 & 9 & 0.286582 & 1.0 \\\\\n",
       "\t6 & 3 & 0.176625 & 0.0 \\\\\n",
       "\t7 & 1 & 0.830334 & 0.0 \\\\\n",
       "\t8 & 8 & 0.206873 & 1.0 \\\\\n",
       "\t9 & 7 & 0.452015 & 1.0 \\\\\n",
       "\t10 & 4 & 0.114935 & 0.0 \\\\\n",
       "\\end{tabular}\n"
      ],
      "text/plain": [
       "\u001b[1m10×3 DataFrame\u001b[0m\n",
       "\u001b[1m Row \u001b[0m│\u001b[1m id    \u001b[0m\u001b[1m x        \u001b[0m\u001b[1m y       \u001b[0m\n",
       "\u001b[1m     \u001b[0m│\u001b[90m Int64 \u001b[0m\u001b[90m Float64  \u001b[0m\u001b[90m Float64 \u001b[0m\n",
       "─────┼──────────────────────────\n",
       "   1 │    12  0.796831      1.0\n",
       "   2 │     6  0.892598      0.0\n",
       "   3 │     2  0.573132      0.0\n",
       "   4 │     5  0.7864        0.0\n",
       "   5 │     9  0.286582      1.0\n",
       "   6 │     3  0.176625      0.0\n",
       "   7 │     1  0.830334      0.0\n",
       "   8 │     8  0.206873      1.0\n",
       "   9 │     7  0.452015      1.0\n",
       "  10 │     4  0.114935      0.0"
      ]
     },
     "execution_count": 24,
     "metadata": {},
     "output_type": "execute_result"
    }
   ],
   "source": [
    "x[shuffle(1:10), :]"
   ]
  },
  {
   "cell_type": "markdown",
   "metadata": {},
   "source": [
    " it is also easy to swap rows using broadcasted assignment"
   ]
  },
  {
   "cell_type": "code",
   "execution_count": 25,
   "metadata": {
    "execution": {
     "iopub.execute_input": "2022-07-18T00:53:15.506000Z",
     "iopub.status.busy": "2022-07-18T00:53:15.505000Z",
     "iopub.status.idle": "2022-07-18T00:53:15.953000Z",
     "shell.execute_reply": "2022-07-18T00:53:15.953000Z"
    },
    "scrolled": false
   },
   "outputs": [
    {
     "data": {
      "text/html": [
       "<div class=\"data-frame\"><p>12 rows × 3 columns</p><table class=\"data-frame\"><thead><tr><th></th><th>id</th><th>x</th><th>y</th></tr><tr><th></th><th title=\"Int64\">Int64</th><th title=\"Float64\">Float64</th><th title=\"Float64\">Float64</th></tr></thead><tbody><tr><th>1</th><td>10</td><td>0.918916</td><td>1.0</td></tr><tr><th>2</th><td>2</td><td>0.573132</td><td>0.0</td></tr><tr><th>3</th><td>3</td><td>0.176625</td><td>0.0</td></tr><tr><th>4</th><td>4</td><td>0.114935</td><td>0.0</td></tr><tr><th>5</th><td>5</td><td>0.7864</td><td>0.0</td></tr><tr><th>6</th><td>6</td><td>0.892598</td><td>0.0</td></tr><tr><th>7</th><td>7</td><td>0.452015</td><td>1.0</td></tr><tr><th>8</th><td>8</td><td>0.206873</td><td>1.0</td></tr><tr><th>9</th><td>9</td><td>0.286582</td><td>1.0</td></tr><tr><th>10</th><td>1</td><td>0.830334</td><td>0.0</td></tr><tr><th>11</th><td>11</td><td>0.991071</td><td>1.0</td></tr><tr><th>12</th><td>12</td><td>0.796831</td><td>1.0</td></tr></tbody></table></div>"
      ],
      "text/latex": [
       "\\begin{tabular}{r|ccc}\n",
       "\t& id & x & y\\\\\n",
       "\t\\hline\n",
       "\t& Int64 & Float64 & Float64\\\\\n",
       "\t\\hline\n",
       "\t1 & 10 & 0.918916 & 1.0 \\\\\n",
       "\t2 & 2 & 0.573132 & 0.0 \\\\\n",
       "\t3 & 3 & 0.176625 & 0.0 \\\\\n",
       "\t4 & 4 & 0.114935 & 0.0 \\\\\n",
       "\t5 & 5 & 0.7864 & 0.0 \\\\\n",
       "\t6 & 6 & 0.892598 & 0.0 \\\\\n",
       "\t7 & 7 & 0.452015 & 1.0 \\\\\n",
       "\t8 & 8 & 0.206873 & 1.0 \\\\\n",
       "\t9 & 9 & 0.286582 & 1.0 \\\\\n",
       "\t10 & 1 & 0.830334 & 0.0 \\\\\n",
       "\t11 & 11 & 0.991071 & 1.0 \\\\\n",
       "\t12 & 12 & 0.796831 & 1.0 \\\\\n",
       "\\end{tabular}\n"
      ],
      "text/plain": [
       "\u001b[1m12×3 DataFrame\u001b[0m\n",
       "\u001b[1m Row \u001b[0m│\u001b[1m id    \u001b[0m\u001b[1m x        \u001b[0m\u001b[1m y       \u001b[0m\n",
       "\u001b[1m     \u001b[0m│\u001b[90m Int64 \u001b[0m\u001b[90m Float64  \u001b[0m\u001b[90m Float64 \u001b[0m\n",
       "─────┼──────────────────────────\n",
       "   1 │    10  0.918916      1.0\n",
       "   2 │     2  0.573132      0.0\n",
       "   3 │     3  0.176625      0.0\n",
       "   4 │     4  0.114935      0.0\n",
       "   5 │     5  0.7864        0.0\n",
       "   6 │     6  0.892598      0.0\n",
       "   7 │     7  0.452015      1.0\n",
       "   8 │     8  0.206873      1.0\n",
       "   9 │     9  0.286582      1.0\n",
       "  10 │     1  0.830334      0.0\n",
       "  11 │    11  0.991071      1.0\n",
       "  12 │    12  0.796831      1.0"
      ]
     },
     "execution_count": 25,
     "metadata": {},
     "output_type": "execute_result"
    }
   ],
   "source": [
    "sort!(x, :id)\n",
    "x[[1,10],:] .= x[[10,1],:]\n",
    "x"
   ]
  },
  {
   "cell_type": "code",
   "execution_count": 26,
   "metadata": {
    "execution": {
     "iopub.execute_input": "2022-07-18T00:53:15.958000Z",
     "iopub.status.busy": "2022-07-18T00:53:15.958000Z",
     "iopub.status.idle": "2022-07-18T00:53:15.960000Z",
     "shell.execute_reply": "2022-07-18T00:53:15.960000Z"
    }
   },
   "outputs": [
    {
     "data": {
      "text/html": [
       "<div class=\"data-frame\"><p>12 rows × 3 columns</p><table class=\"data-frame\"><thead><tr><th></th><th>id</th><th>x</th><th>y</th></tr><tr><th></th><th title=\"Int64\">Int64</th><th title=\"Float64\">Float64</th><th title=\"Float64\">Float64</th></tr></thead><tbody><tr><th>1</th><td>10</td><td>0.918916</td><td>1.0</td></tr><tr><th>2</th><td>2</td><td>0.573132</td><td>0.0</td></tr><tr><th>3</th><td>3</td><td>0.176625</td><td>0.0</td></tr><tr><th>4</th><td>4</td><td>0.114935</td><td>0.0</td></tr><tr><th>5</th><td>5</td><td>0.7864</td><td>0.0</td></tr><tr><th>6</th><td>6</td><td>0.892598</td><td>0.0</td></tr><tr><th>7</th><td>7</td><td>0.452015</td><td>1.0</td></tr><tr><th>8</th><td>8</td><td>0.206873</td><td>1.0</td></tr><tr><th>9</th><td>9</td><td>0.286582</td><td>1.0</td></tr><tr><th>10</th><td>1</td><td>0.830334</td><td>0.0</td></tr><tr><th>11</th><td>11</td><td>0.991071</td><td>1.0</td></tr><tr><th>12</th><td>12</td><td>0.796831</td><td>1.0</td></tr></tbody></table></div>"
      ],
      "text/latex": [
       "\\begin{tabular}{r|ccc}\n",
       "\t& id & x & y\\\\\n",
       "\t\\hline\n",
       "\t& Int64 & Float64 & Float64\\\\\n",
       "\t\\hline\n",
       "\t1 & 10 & 0.918916 & 1.0 \\\\\n",
       "\t2 & 2 & 0.573132 & 0.0 \\\\\n",
       "\t3 & 3 & 0.176625 & 0.0 \\\\\n",
       "\t4 & 4 & 0.114935 & 0.0 \\\\\n",
       "\t5 & 5 & 0.7864 & 0.0 \\\\\n",
       "\t6 & 6 & 0.892598 & 0.0 \\\\\n",
       "\t7 & 7 & 0.452015 & 1.0 \\\\\n",
       "\t8 & 8 & 0.206873 & 1.0 \\\\\n",
       "\t9 & 9 & 0.286582 & 1.0 \\\\\n",
       "\t10 & 1 & 0.830334 & 0.0 \\\\\n",
       "\t11 & 11 & 0.991071 & 1.0 \\\\\n",
       "\t12 & 12 & 0.796831 & 1.0 \\\\\n",
       "\\end{tabular}\n"
      ],
      "text/plain": [
       "\u001b[1m12×3 DataFrame\u001b[0m\n",
       "\u001b[1m Row \u001b[0m│\u001b[1m id    \u001b[0m\u001b[1m x        \u001b[0m\u001b[1m y       \u001b[0m\n",
       "\u001b[1m     \u001b[0m│\u001b[90m Int64 \u001b[0m\u001b[90m Float64  \u001b[0m\u001b[90m Float64 \u001b[0m\n",
       "─────┼──────────────────────────\n",
       "   1 │    10  0.918916      1.0\n",
       "   2 │     2  0.573132      0.0\n",
       "   3 │     3  0.176625      0.0\n",
       "   4 │     4  0.114935      0.0\n",
       "   5 │     5  0.7864        0.0\n",
       "   6 │     6  0.892598      0.0\n",
       "   7 │     7  0.452015      1.0\n",
       "   8 │     8  0.206873      1.0\n",
       "   9 │     9  0.286582      1.0\n",
       "  10 │     1  0.830334      0.0\n",
       "  11 │    11  0.991071      1.0\n",
       "  12 │    12  0.796831      1.0"
      ]
     },
     "execution_count": 26,
     "metadata": {},
     "output_type": "execute_result"
    }
   ],
   "source": [
    "x"
   ]
  },
  {
   "cell_type": "markdown",
   "metadata": {},
   "source": [
    "## Merging/adding rows"
   ]
  },
  {
   "cell_type": "code",
   "execution_count": 27,
   "metadata": {
    "execution": {
     "iopub.execute_input": "2022-07-18T00:53:15.963000Z",
     "iopub.status.busy": "2022-07-18T00:53:15.962000Z",
     "iopub.status.idle": "2022-07-18T00:53:15.964000Z",
     "shell.execute_reply": "2022-07-18T00:53:15.964000Z"
    }
   },
   "outputs": [
    {
     "data": {
      "text/html": [
       "<div class=\"data-frame\"><p>3 rows × 5 columns</p><table class=\"data-frame\"><thead><tr><th></th><th>x1</th><th>x2</th><th>x3</th><th>x4</th><th>x5</th></tr><tr><th></th><th title=\"Float64\">Float64</th><th title=\"Float64\">Float64</th><th title=\"Float64\">Float64</th><th title=\"Float64\">Float64</th><th title=\"Float64\">Float64</th></tr></thead><tbody><tr><th>1</th><td>0.767375</td><td>0.515348</td><td>0.474126</td><td>0.676285</td><td>0.370894</td></tr><tr><th>2</th><td>0.371232</td><td>0.582571</td><td>0.963462</td><td>0.555215</td><td>0.995935</td></tr><tr><th>3</th><td>0.413832</td><td>0.716956</td><td>0.786264</td><td>0.690551</td><td>0.0372824</td></tr></tbody></table></div>"
      ],
      "text/latex": [
       "\\begin{tabular}{r|ccccc}\n",
       "\t& x1 & x2 & x3 & x4 & x5\\\\\n",
       "\t\\hline\n",
       "\t& Float64 & Float64 & Float64 & Float64 & Float64\\\\\n",
       "\t\\hline\n",
       "\t1 & 0.767375 & 0.515348 & 0.474126 & 0.676285 & 0.370894 \\\\\n",
       "\t2 & 0.371232 & 0.582571 & 0.963462 & 0.555215 & 0.995935 \\\\\n",
       "\t3 & 0.413832 & 0.716956 & 0.786264 & 0.690551 & 0.0372824 \\\\\n",
       "\\end{tabular}\n"
      ],
      "text/plain": [
       "\u001b[1m3×5 DataFrame\u001b[0m\n",
       "\u001b[1m Row \u001b[0m│\u001b[1m x1       \u001b[0m\u001b[1m x2       \u001b[0m\u001b[1m x3       \u001b[0m\u001b[1m x4       \u001b[0m\u001b[1m x5        \u001b[0m\n",
       "\u001b[1m     \u001b[0m│\u001b[90m Float64  \u001b[0m\u001b[90m Float64  \u001b[0m\u001b[90m Float64  \u001b[0m\u001b[90m Float64  \u001b[0m\u001b[90m Float64   \u001b[0m\n",
       "─────┼───────────────────────────────────────────────────\n",
       "   1 │ 0.767375  0.515348  0.474126  0.676285  0.370894\n",
       "   2 │ 0.371232  0.582571  0.963462  0.555215  0.995935\n",
       "   3 │ 0.413832  0.716956  0.786264  0.690551  0.0372824"
      ]
     },
     "execution_count": 27,
     "metadata": {},
     "output_type": "execute_result"
    }
   ],
   "source": [
    "x = DataFrame(rand(3, 5), :auto)"
   ]
  },
  {
   "cell_type": "markdown",
   "metadata": {},
   "source": [
    "merge by rows - data frames must have the same column names; the same is `vcat`"
   ]
  },
  {
   "cell_type": "code",
   "execution_count": 28,
   "metadata": {
    "execution": {
     "iopub.execute_input": "2022-07-18T00:53:15.966000Z",
     "iopub.status.busy": "2022-07-18T00:53:15.966000Z",
     "iopub.status.idle": "2022-07-18T00:53:16.563000Z",
     "shell.execute_reply": "2022-07-18T00:53:16.563000Z"
    }
   },
   "outputs": [
    {
     "data": {
      "text/html": [
       "<div class=\"data-frame\"><p>6 rows × 5 columns</p><table class=\"data-frame\"><thead><tr><th></th><th>x1</th><th>x2</th><th>x3</th><th>x4</th><th>x5</th></tr><tr><th></th><th title=\"Float64\">Float64</th><th title=\"Float64\">Float64</th><th title=\"Float64\">Float64</th><th title=\"Float64\">Float64</th><th title=\"Float64\">Float64</th></tr></thead><tbody><tr><th>1</th><td>0.767375</td><td>0.515348</td><td>0.474126</td><td>0.676285</td><td>0.370894</td></tr><tr><th>2</th><td>0.371232</td><td>0.582571</td><td>0.963462</td><td>0.555215</td><td>0.995935</td></tr><tr><th>3</th><td>0.413832</td><td>0.716956</td><td>0.786264</td><td>0.690551</td><td>0.0372824</td></tr><tr><th>4</th><td>0.767375</td><td>0.515348</td><td>0.474126</td><td>0.676285</td><td>0.370894</td></tr><tr><th>5</th><td>0.371232</td><td>0.582571</td><td>0.963462</td><td>0.555215</td><td>0.995935</td></tr><tr><th>6</th><td>0.413832</td><td>0.716956</td><td>0.786264</td><td>0.690551</td><td>0.0372824</td></tr></tbody></table></div>"
      ],
      "text/latex": [
       "\\begin{tabular}{r|ccccc}\n",
       "\t& x1 & x2 & x3 & x4 & x5\\\\\n",
       "\t\\hline\n",
       "\t& Float64 & Float64 & Float64 & Float64 & Float64\\\\\n",
       "\t\\hline\n",
       "\t1 & 0.767375 & 0.515348 & 0.474126 & 0.676285 & 0.370894 \\\\\n",
       "\t2 & 0.371232 & 0.582571 & 0.963462 & 0.555215 & 0.995935 \\\\\n",
       "\t3 & 0.413832 & 0.716956 & 0.786264 & 0.690551 & 0.0372824 \\\\\n",
       "\t4 & 0.767375 & 0.515348 & 0.474126 & 0.676285 & 0.370894 \\\\\n",
       "\t5 & 0.371232 & 0.582571 & 0.963462 & 0.555215 & 0.995935 \\\\\n",
       "\t6 & 0.413832 & 0.716956 & 0.786264 & 0.690551 & 0.0372824 \\\\\n",
       "\\end{tabular}\n"
      ],
      "text/plain": [
       "\u001b[1m6×5 DataFrame\u001b[0m\n",
       "\u001b[1m Row \u001b[0m│\u001b[1m x1       \u001b[0m\u001b[1m x2       \u001b[0m\u001b[1m x3       \u001b[0m\u001b[1m x4       \u001b[0m\u001b[1m x5        \u001b[0m\n",
       "\u001b[1m     \u001b[0m│\u001b[90m Float64  \u001b[0m\u001b[90m Float64  \u001b[0m\u001b[90m Float64  \u001b[0m\u001b[90m Float64  \u001b[0m\u001b[90m Float64   \u001b[0m\n",
       "─────┼───────────────────────────────────────────────────\n",
       "   1 │ 0.767375  0.515348  0.474126  0.676285  0.370894\n",
       "   2 │ 0.371232  0.582571  0.963462  0.555215  0.995935\n",
       "   3 │ 0.413832  0.716956  0.786264  0.690551  0.0372824\n",
       "   4 │ 0.767375  0.515348  0.474126  0.676285  0.370894\n",
       "   5 │ 0.371232  0.582571  0.963462  0.555215  0.995935\n",
       "   6 │ 0.413832  0.716956  0.786264  0.690551  0.0372824"
      ]
     },
     "execution_count": 28,
     "metadata": {},
     "output_type": "execute_result"
    }
   ],
   "source": [
    "[x; x]"
   ]
  },
  {
   "cell_type": "markdown",
   "metadata": {},
   "source": [
    "you can efficiently `vcat` a vector of `DataFrames` using `reduce`"
   ]
  },
  {
   "cell_type": "code",
   "execution_count": 29,
   "metadata": {
    "execution": {
     "iopub.execute_input": "2022-07-18T00:53:16.567000Z",
     "iopub.status.busy": "2022-07-18T00:53:16.566000Z",
     "iopub.status.idle": "2022-07-18T00:53:16.637000Z",
     "shell.execute_reply": "2022-07-18T00:53:16.637000Z"
    }
   },
   "outputs": [
    {
     "data": {
      "text/html": [
       "<div class=\"data-frame\"><p>9 rows × 5 columns</p><table class=\"data-frame\"><thead><tr><th></th><th>x1</th><th>x2</th><th>x3</th><th>x4</th><th>x5</th></tr><tr><th></th><th title=\"Float64\">Float64</th><th title=\"Float64\">Float64</th><th title=\"Float64\">Float64</th><th title=\"Float64\">Float64</th><th title=\"Float64\">Float64</th></tr></thead><tbody><tr><th>1</th><td>0.767375</td><td>0.515348</td><td>0.474126</td><td>0.676285</td><td>0.370894</td></tr><tr><th>2</th><td>0.371232</td><td>0.582571</td><td>0.963462</td><td>0.555215</td><td>0.995935</td></tr><tr><th>3</th><td>0.413832</td><td>0.716956</td><td>0.786264</td><td>0.690551</td><td>0.0372824</td></tr><tr><th>4</th><td>0.767375</td><td>0.515348</td><td>0.474126</td><td>0.676285</td><td>0.370894</td></tr><tr><th>5</th><td>0.371232</td><td>0.582571</td><td>0.963462</td><td>0.555215</td><td>0.995935</td></tr><tr><th>6</th><td>0.413832</td><td>0.716956</td><td>0.786264</td><td>0.690551</td><td>0.0372824</td></tr><tr><th>7</th><td>0.767375</td><td>0.515348</td><td>0.474126</td><td>0.676285</td><td>0.370894</td></tr><tr><th>8</th><td>0.371232</td><td>0.582571</td><td>0.963462</td><td>0.555215</td><td>0.995935</td></tr><tr><th>9</th><td>0.413832</td><td>0.716956</td><td>0.786264</td><td>0.690551</td><td>0.0372824</td></tr></tbody></table></div>"
      ],
      "text/latex": [
       "\\begin{tabular}{r|ccccc}\n",
       "\t& x1 & x2 & x3 & x4 & x5\\\\\n",
       "\t\\hline\n",
       "\t& Float64 & Float64 & Float64 & Float64 & Float64\\\\\n",
       "\t\\hline\n",
       "\t1 & 0.767375 & 0.515348 & 0.474126 & 0.676285 & 0.370894 \\\\\n",
       "\t2 & 0.371232 & 0.582571 & 0.963462 & 0.555215 & 0.995935 \\\\\n",
       "\t3 & 0.413832 & 0.716956 & 0.786264 & 0.690551 & 0.0372824 \\\\\n",
       "\t4 & 0.767375 & 0.515348 & 0.474126 & 0.676285 & 0.370894 \\\\\n",
       "\t5 & 0.371232 & 0.582571 & 0.963462 & 0.555215 & 0.995935 \\\\\n",
       "\t6 & 0.413832 & 0.716956 & 0.786264 & 0.690551 & 0.0372824 \\\\\n",
       "\t7 & 0.767375 & 0.515348 & 0.474126 & 0.676285 & 0.370894 \\\\\n",
       "\t8 & 0.371232 & 0.582571 & 0.963462 & 0.555215 & 0.995935 \\\\\n",
       "\t9 & 0.413832 & 0.716956 & 0.786264 & 0.690551 & 0.0372824 \\\\\n",
       "\\end{tabular}\n"
      ],
      "text/plain": [
       "\u001b[1m9×5 DataFrame\u001b[0m\n",
       "\u001b[1m Row \u001b[0m│\u001b[1m x1       \u001b[0m\u001b[1m x2       \u001b[0m\u001b[1m x3       \u001b[0m\u001b[1m x4       \u001b[0m\u001b[1m x5        \u001b[0m\n",
       "\u001b[1m     \u001b[0m│\u001b[90m Float64  \u001b[0m\u001b[90m Float64  \u001b[0m\u001b[90m Float64  \u001b[0m\u001b[90m Float64  \u001b[0m\u001b[90m Float64   \u001b[0m\n",
       "─────┼───────────────────────────────────────────────────\n",
       "   1 │ 0.767375  0.515348  0.474126  0.676285  0.370894\n",
       "   2 │ 0.371232  0.582571  0.963462  0.555215  0.995935\n",
       "   3 │ 0.413832  0.716956  0.786264  0.690551  0.0372824\n",
       "   4 │ 0.767375  0.515348  0.474126  0.676285  0.370894\n",
       "   5 │ 0.371232  0.582571  0.963462  0.555215  0.995935\n",
       "   6 │ 0.413832  0.716956  0.786264  0.690551  0.0372824\n",
       "   7 │ 0.767375  0.515348  0.474126  0.676285  0.370894\n",
       "   8 │ 0.371232  0.582571  0.963462  0.555215  0.995935\n",
       "   9 │ 0.413832  0.716956  0.786264  0.690551  0.0372824"
      ]
     },
     "execution_count": 29,
     "metadata": {},
     "output_type": "execute_result"
    }
   ],
   "source": [
    "reduce(vcat, [x, x, x])"
   ]
  },
  {
   "cell_type": "markdown",
   "metadata": {},
   "source": [
    "get `y` with other order of names"
   ]
  },
  {
   "cell_type": "code",
   "execution_count": 30,
   "metadata": {
    "execution": {
     "iopub.execute_input": "2022-07-18T00:53:16.642000Z",
     "iopub.status.busy": "2022-07-18T00:53:16.641000Z",
     "iopub.status.idle": "2022-07-18T00:53:16.736000Z",
     "shell.execute_reply": "2022-07-18T00:53:16.734000Z"
    }
   },
   "outputs": [
    {
     "data": {
      "text/html": [
       "<div class=\"data-frame\"><p>3 rows × 5 columns</p><table class=\"data-frame\"><thead><tr><th></th><th>x5</th><th>x4</th><th>x3</th><th>x2</th><th>x1</th></tr><tr><th></th><th title=\"Float64\">Float64</th><th title=\"Float64\">Float64</th><th title=\"Float64\">Float64</th><th title=\"Float64\">Float64</th><th title=\"Float64\">Float64</th></tr></thead><tbody><tr><th>1</th><td>0.370894</td><td>0.676285</td><td>0.474126</td><td>0.515348</td><td>0.767375</td></tr><tr><th>2</th><td>0.995935</td><td>0.555215</td><td>0.963462</td><td>0.582571</td><td>0.371232</td></tr><tr><th>3</th><td>0.0372824</td><td>0.690551</td><td>0.786264</td><td>0.716956</td><td>0.413832</td></tr></tbody></table></div>"
      ],
      "text/latex": [
       "\\begin{tabular}{r|ccccc}\n",
       "\t& x5 & x4 & x3 & x2 & x1\\\\\n",
       "\t\\hline\n",
       "\t& Float64 & Float64 & Float64 & Float64 & Float64\\\\\n",
       "\t\\hline\n",
       "\t1 & 0.370894 & 0.676285 & 0.474126 & 0.515348 & 0.767375 \\\\\n",
       "\t2 & 0.995935 & 0.555215 & 0.963462 & 0.582571 & 0.371232 \\\\\n",
       "\t3 & 0.0372824 & 0.690551 & 0.786264 & 0.716956 & 0.413832 \\\\\n",
       "\\end{tabular}\n"
      ],
      "text/plain": [
       "\u001b[1m3×5 DataFrame\u001b[0m\n",
       "\u001b[1m Row \u001b[0m│\u001b[1m x5        \u001b[0m\u001b[1m x4       \u001b[0m\u001b[1m x3       \u001b[0m\u001b[1m x2       \u001b[0m\u001b[1m x1       \u001b[0m\n",
       "\u001b[1m     \u001b[0m│\u001b[90m Float64   \u001b[0m\u001b[90m Float64  \u001b[0m\u001b[90m Float64  \u001b[0m\u001b[90m Float64  \u001b[0m\u001b[90m Float64  \u001b[0m\n",
       "─────┼───────────────────────────────────────────────────\n",
       "   1 │ 0.370894   0.676285  0.474126  0.515348  0.767375\n",
       "   2 │ 0.995935   0.555215  0.963462  0.582571  0.371232\n",
       "   3 │ 0.0372824  0.690551  0.786264  0.716956  0.413832"
      ]
     },
     "execution_count": 30,
     "metadata": {},
     "output_type": "execute_result"
    }
   ],
   "source": [
    "y = x[:, reverse(names(x))]"
   ]
  },
  {
   "cell_type": "markdown",
   "metadata": {},
   "source": [
    "`vcat` is still possible as it does column name matching"
   ]
  },
  {
   "cell_type": "code",
   "execution_count": 31,
   "metadata": {
    "execution": {
     "iopub.execute_input": "2022-07-18T00:53:16.738000Z",
     "iopub.status.busy": "2022-07-18T00:53:16.738000Z",
     "iopub.status.idle": "2022-07-18T00:53:16.783000Z",
     "shell.execute_reply": "2022-07-18T00:53:16.782000Z"
    }
   },
   "outputs": [
    {
     "data": {
      "text/html": [
       "<div class=\"data-frame\"><p>6 rows × 5 columns</p><table class=\"data-frame\"><thead><tr><th></th><th>x1</th><th>x2</th><th>x3</th><th>x4</th><th>x5</th></tr><tr><th></th><th title=\"Float64\">Float64</th><th title=\"Float64\">Float64</th><th title=\"Float64\">Float64</th><th title=\"Float64\">Float64</th><th title=\"Float64\">Float64</th></tr></thead><tbody><tr><th>1</th><td>0.767375</td><td>0.515348</td><td>0.474126</td><td>0.676285</td><td>0.370894</td></tr><tr><th>2</th><td>0.371232</td><td>0.582571</td><td>0.963462</td><td>0.555215</td><td>0.995935</td></tr><tr><th>3</th><td>0.413832</td><td>0.716956</td><td>0.786264</td><td>0.690551</td><td>0.0372824</td></tr><tr><th>4</th><td>0.767375</td><td>0.515348</td><td>0.474126</td><td>0.676285</td><td>0.370894</td></tr><tr><th>5</th><td>0.371232</td><td>0.582571</td><td>0.963462</td><td>0.555215</td><td>0.995935</td></tr><tr><th>6</th><td>0.413832</td><td>0.716956</td><td>0.786264</td><td>0.690551</td><td>0.0372824</td></tr></tbody></table></div>"
      ],
      "text/latex": [
       "\\begin{tabular}{r|ccccc}\n",
       "\t& x1 & x2 & x3 & x4 & x5\\\\\n",
       "\t\\hline\n",
       "\t& Float64 & Float64 & Float64 & Float64 & Float64\\\\\n",
       "\t\\hline\n",
       "\t1 & 0.767375 & 0.515348 & 0.474126 & 0.676285 & 0.370894 \\\\\n",
       "\t2 & 0.371232 & 0.582571 & 0.963462 & 0.555215 & 0.995935 \\\\\n",
       "\t3 & 0.413832 & 0.716956 & 0.786264 & 0.690551 & 0.0372824 \\\\\n",
       "\t4 & 0.767375 & 0.515348 & 0.474126 & 0.676285 & 0.370894 \\\\\n",
       "\t5 & 0.371232 & 0.582571 & 0.963462 & 0.555215 & 0.995935 \\\\\n",
       "\t6 & 0.413832 & 0.716956 & 0.786264 & 0.690551 & 0.0372824 \\\\\n",
       "\\end{tabular}\n"
      ],
      "text/plain": [
       "\u001b[1m6×5 DataFrame\u001b[0m\n",
       "\u001b[1m Row \u001b[0m│\u001b[1m x1       \u001b[0m\u001b[1m x2       \u001b[0m\u001b[1m x3       \u001b[0m\u001b[1m x4       \u001b[0m\u001b[1m x5        \u001b[0m\n",
       "\u001b[1m     \u001b[0m│\u001b[90m Float64  \u001b[0m\u001b[90m Float64  \u001b[0m\u001b[90m Float64  \u001b[0m\u001b[90m Float64  \u001b[0m\u001b[90m Float64   \u001b[0m\n",
       "─────┼───────────────────────────────────────────────────\n",
       "   1 │ 0.767375  0.515348  0.474126  0.676285  0.370894\n",
       "   2 │ 0.371232  0.582571  0.963462  0.555215  0.995935\n",
       "   3 │ 0.413832  0.716956  0.786264  0.690551  0.0372824\n",
       "   4 │ 0.767375  0.515348  0.474126  0.676285  0.370894\n",
       "   5 │ 0.371232  0.582571  0.963462  0.555215  0.995935\n",
       "   6 │ 0.413832  0.716956  0.786264  0.690551  0.0372824"
      ]
     },
     "execution_count": 31,
     "metadata": {},
     "output_type": "execute_result"
    }
   ],
   "source": [
    "vcat(x, y)"
   ]
  },
  {
   "cell_type": "markdown",
   "metadata": {},
   "source": [
    "but column names must still match"
   ]
  },
  {
   "cell_type": "code",
   "execution_count": 32,
   "metadata": {
    "execution": {
     "iopub.execute_input": "2022-07-18T00:53:16.786000Z",
     "iopub.status.busy": "2022-07-18T00:53:16.786000Z",
     "iopub.status.idle": "2022-07-18T00:53:18.099000Z",
     "shell.execute_reply": "2022-07-18T00:53:18.099000Z"
    }
   },
   "outputs": [
    {
     "ename": "LoadError",
     "evalue": "ArgumentError: column(s) x1 and x2 are missing from argument(s) 2",
     "output_type": "error",
     "traceback": [
      "ArgumentError: column(s) x1 and x2 are missing from argument(s) 2",
      "",
      "Stacktrace:",
      " [1] _vcat(dfs::Vector{AbstractDataFrame}; cols::Symbol)",
      "   @ DataFrames ~/.julia/packages/DataFrames/zqFGs/src/abstractdataframe/abstractdataframe.jl:1841",
      " [2] #reduce#130",
      "   @ ~/.julia/packages/DataFrames/zqFGs/src/abstractdataframe/abstractdataframe.jl:1761 [inlined]",
      " [3] #vcat#129",
      "   @ ~/.julia/packages/DataFrames/zqFGs/src/abstractdataframe/abstractdataframe.jl:1679 [inlined]",
      " [4] vcat(::DataFrame, ::DataFrame)",
      "   @ DataFrames ~/.julia/packages/DataFrames/zqFGs/src/abstractdataframe/abstractdataframe.jl:1679",
      " [5] top-level scope",
      "   @ In[32]:1",
      " [6] eval",
      "   @ ./boot.jl:373 [inlined]",
      " [7] include_string(mapexpr::typeof(REPL.softscope), mod::Module, code::String, filename::String)",
      "   @ Base ./loading.jl:1196"
     ]
    }
   ],
   "source": [
    "vcat(x, y[:, 1:3])"
   ]
  },
  {
   "cell_type": "markdown",
   "metadata": {},
   "source": [
    "unless you pass `:intersect`, `:union` or specific column names as keyword argument `cols`"
   ]
  },
  {
   "cell_type": "code",
   "execution_count": 33,
   "metadata": {
    "execution": {
     "iopub.execute_input": "2022-07-18T00:53:18.103000Z",
     "iopub.status.busy": "2022-07-18T00:53:18.103000Z",
     "iopub.status.idle": "2022-07-18T00:53:18.169000Z",
     "shell.execute_reply": "2022-07-18T00:53:18.167000Z"
    }
   },
   "outputs": [
    {
     "data": {
      "text/html": [
       "<div class=\"data-frame\"><p>6 rows × 3 columns</p><table class=\"data-frame\"><thead><tr><th></th><th>x3</th><th>x4</th><th>x5</th></tr><tr><th></th><th title=\"Float64\">Float64</th><th title=\"Float64\">Float64</th><th title=\"Float64\">Float64</th></tr></thead><tbody><tr><th>1</th><td>0.474126</td><td>0.676285</td><td>0.370894</td></tr><tr><th>2</th><td>0.963462</td><td>0.555215</td><td>0.995935</td></tr><tr><th>3</th><td>0.786264</td><td>0.690551</td><td>0.0372824</td></tr><tr><th>4</th><td>0.474126</td><td>0.676285</td><td>0.370894</td></tr><tr><th>5</th><td>0.963462</td><td>0.555215</td><td>0.995935</td></tr><tr><th>6</th><td>0.786264</td><td>0.690551</td><td>0.0372824</td></tr></tbody></table></div>"
      ],
      "text/latex": [
       "\\begin{tabular}{r|ccc}\n",
       "\t& x3 & x4 & x5\\\\\n",
       "\t\\hline\n",
       "\t& Float64 & Float64 & Float64\\\\\n",
       "\t\\hline\n",
       "\t1 & 0.474126 & 0.676285 & 0.370894 \\\\\n",
       "\t2 & 0.963462 & 0.555215 & 0.995935 \\\\\n",
       "\t3 & 0.786264 & 0.690551 & 0.0372824 \\\\\n",
       "\t4 & 0.474126 & 0.676285 & 0.370894 \\\\\n",
       "\t5 & 0.963462 & 0.555215 & 0.995935 \\\\\n",
       "\t6 & 0.786264 & 0.690551 & 0.0372824 \\\\\n",
       "\\end{tabular}\n"
      ],
      "text/plain": [
       "\u001b[1m6×3 DataFrame\u001b[0m\n",
       "\u001b[1m Row \u001b[0m│\u001b[1m x3       \u001b[0m\u001b[1m x4       \u001b[0m\u001b[1m x5        \u001b[0m\n",
       "\u001b[1m     \u001b[0m│\u001b[90m Float64  \u001b[0m\u001b[90m Float64  \u001b[0m\u001b[90m Float64   \u001b[0m\n",
       "─────┼───────────────────────────────\n",
       "   1 │ 0.474126  0.676285  0.370894\n",
       "   2 │ 0.963462  0.555215  0.995935\n",
       "   3 │ 0.786264  0.690551  0.0372824\n",
       "   4 │ 0.474126  0.676285  0.370894\n",
       "   5 │ 0.963462  0.555215  0.995935\n",
       "   6 │ 0.786264  0.690551  0.0372824"
      ]
     },
     "execution_count": 33,
     "metadata": {},
     "output_type": "execute_result"
    }
   ],
   "source": [
    "vcat(x, y[:, 1:3], cols=:intersect)"
   ]
  },
  {
   "cell_type": "code",
   "execution_count": 34,
   "metadata": {
    "execution": {
     "iopub.execute_input": "2022-07-18T00:53:18.172000Z",
     "iopub.status.busy": "2022-07-18T00:53:18.170000Z",
     "iopub.status.idle": "2022-07-18T00:53:18.651000Z",
     "shell.execute_reply": "2022-07-18T00:53:18.651000Z"
    }
   },
   "outputs": [
    {
     "data": {
      "text/html": [
       "<div class=\"data-frame\"><p>6 rows × 5 columns</p><table class=\"data-frame\"><thead><tr><th></th><th>x1</th><th>x2</th><th>x3</th><th>x4</th><th>x5</th></tr><tr><th></th><th title=\"Union{Missing, Float64}\">Float64?</th><th title=\"Union{Missing, Float64}\">Float64?</th><th title=\"Float64\">Float64</th><th title=\"Float64\">Float64</th><th title=\"Float64\">Float64</th></tr></thead><tbody><tr><th>1</th><td>0.767375</td><td>0.515348</td><td>0.474126</td><td>0.676285</td><td>0.370894</td></tr><tr><th>2</th><td>0.371232</td><td>0.582571</td><td>0.963462</td><td>0.555215</td><td>0.995935</td></tr><tr><th>3</th><td>0.413832</td><td>0.716956</td><td>0.786264</td><td>0.690551</td><td>0.0372824</td></tr><tr><th>4</th><td><em>missing</em></td><td><em>missing</em></td><td>0.474126</td><td>0.676285</td><td>0.370894</td></tr><tr><th>5</th><td><em>missing</em></td><td><em>missing</em></td><td>0.963462</td><td>0.555215</td><td>0.995935</td></tr><tr><th>6</th><td><em>missing</em></td><td><em>missing</em></td><td>0.786264</td><td>0.690551</td><td>0.0372824</td></tr></tbody></table></div>"
      ],
      "text/latex": [
       "\\begin{tabular}{r|ccccc}\n",
       "\t& x1 & x2 & x3 & x4 & x5\\\\\n",
       "\t\\hline\n",
       "\t& Float64? & Float64? & Float64 & Float64 & Float64\\\\\n",
       "\t\\hline\n",
       "\t1 & 0.767375 & 0.515348 & 0.474126 & 0.676285 & 0.370894 \\\\\n",
       "\t2 & 0.371232 & 0.582571 & 0.963462 & 0.555215 & 0.995935 \\\\\n",
       "\t3 & 0.413832 & 0.716956 & 0.786264 & 0.690551 & 0.0372824 \\\\\n",
       "\t4 & \\emph{missing} & \\emph{missing} & 0.474126 & 0.676285 & 0.370894 \\\\\n",
       "\t5 & \\emph{missing} & \\emph{missing} & 0.963462 & 0.555215 & 0.995935 \\\\\n",
       "\t6 & \\emph{missing} & \\emph{missing} & 0.786264 & 0.690551 & 0.0372824 \\\\\n",
       "\\end{tabular}\n"
      ],
      "text/plain": [
       "\u001b[1m6×5 DataFrame\u001b[0m\n",
       "\u001b[1m Row \u001b[0m│\u001b[1m x1             \u001b[0m\u001b[1m x2             \u001b[0m\u001b[1m x3       \u001b[0m\u001b[1m x4       \u001b[0m\u001b[1m x5        \u001b[0m\n",
       "\u001b[1m     \u001b[0m│\u001b[90m Float64?       \u001b[0m\u001b[90m Float64?       \u001b[0m\u001b[90m Float64  \u001b[0m\u001b[90m Float64  \u001b[0m\u001b[90m Float64   \u001b[0m\n",
       "─────┼───────────────────────────────────────────────────────────────\n",
       "   1 │       0.767375        0.515348  0.474126  0.676285  0.370894\n",
       "   2 │       0.371232        0.582571  0.963462  0.555215  0.995935\n",
       "   3 │       0.413832        0.716956  0.786264  0.690551  0.0372824\n",
       "   4 │\u001b[90m missing        \u001b[0m\u001b[90m missing        \u001b[0m 0.474126  0.676285  0.370894\n",
       "   5 │\u001b[90m missing        \u001b[0m\u001b[90m missing        \u001b[0m 0.963462  0.555215  0.995935\n",
       "   6 │\u001b[90m missing        \u001b[0m\u001b[90m missing        \u001b[0m 0.786264  0.690551  0.0372824"
      ]
     },
     "execution_count": 34,
     "metadata": {},
     "output_type": "execute_result"
    }
   ],
   "source": [
    "vcat(x, y[:, 1:3], cols=:union)"
   ]
  },
  {
   "cell_type": "code",
   "execution_count": 35,
   "metadata": {
    "execution": {
     "iopub.execute_input": "2022-07-18T00:53:18.655000Z",
     "iopub.status.busy": "2022-07-18T00:53:18.654000Z",
     "iopub.status.idle": "2022-07-18T00:53:18.810000Z",
     "shell.execute_reply": "2022-07-18T00:53:18.810000Z"
    }
   },
   "outputs": [
    {
     "data": {
      "text/html": [
       "<div class=\"data-frame\"><p>6 rows × 2 columns</p><table class=\"data-frame\"><thead><tr><th></th><th>x1</th><th>x5</th></tr><tr><th></th><th title=\"Union{Missing, Float64}\">Float64?</th><th title=\"Float64\">Float64</th></tr></thead><tbody><tr><th>1</th><td>0.767375</td><td>0.370894</td></tr><tr><th>2</th><td>0.371232</td><td>0.995935</td></tr><tr><th>3</th><td>0.413832</td><td>0.0372824</td></tr><tr><th>4</th><td><em>missing</em></td><td>0.370894</td></tr><tr><th>5</th><td><em>missing</em></td><td>0.995935</td></tr><tr><th>6</th><td><em>missing</em></td><td>0.0372824</td></tr></tbody></table></div>"
      ],
      "text/latex": [
       "\\begin{tabular}{r|cc}\n",
       "\t& x1 & x5\\\\\n",
       "\t\\hline\n",
       "\t& Float64? & Float64\\\\\n",
       "\t\\hline\n",
       "\t1 & 0.767375 & 0.370894 \\\\\n",
       "\t2 & 0.371232 & 0.995935 \\\\\n",
       "\t3 & 0.413832 & 0.0372824 \\\\\n",
       "\t4 & \\emph{missing} & 0.370894 \\\\\n",
       "\t5 & \\emph{missing} & 0.995935 \\\\\n",
       "\t6 & \\emph{missing} & 0.0372824 \\\\\n",
       "\\end{tabular}\n"
      ],
      "text/plain": [
       "\u001b[1m6×2 DataFrame\u001b[0m\n",
       "\u001b[1m Row \u001b[0m│\u001b[1m x1             \u001b[0m\u001b[1m x5        \u001b[0m\n",
       "\u001b[1m     \u001b[0m│\u001b[90m Float64?       \u001b[0m\u001b[90m Float64   \u001b[0m\n",
       "─────┼───────────────────────────\n",
       "   1 │       0.767375  0.370894\n",
       "   2 │       0.371232  0.995935\n",
       "   3 │       0.413832  0.0372824\n",
       "   4 │\u001b[90m missing        \u001b[0m 0.370894\n",
       "   5 │\u001b[90m missing        \u001b[0m 0.995935\n",
       "   6 │\u001b[90m missing        \u001b[0m 0.0372824"
      ]
     },
     "execution_count": 35,
     "metadata": {},
     "output_type": "execute_result"
    }
   ],
   "source": [
    "vcat(x, y[:, 1:3], cols=[:x1, :x5])"
   ]
  },
  {
   "cell_type": "markdown",
   "metadata": {},
   "source": [
    "`append!` modifies `x` in place"
   ]
  },
  {
   "cell_type": "code",
   "execution_count": 36,
   "metadata": {
    "execution": {
     "iopub.execute_input": "2022-07-18T00:53:18.814000Z",
     "iopub.status.busy": "2022-07-18T00:53:18.814000Z",
     "iopub.status.idle": "2022-07-18T00:53:19.209000Z",
     "shell.execute_reply": "2022-07-18T00:53:19.209000Z"
    }
   },
   "outputs": [
    {
     "data": {
      "text/html": [
       "<div class=\"data-frame\"><p>6 rows × 5 columns</p><table class=\"data-frame\"><thead><tr><th></th><th>x1</th><th>x2</th><th>x3</th><th>x4</th><th>x5</th></tr><tr><th></th><th title=\"Float64\">Float64</th><th title=\"Float64\">Float64</th><th title=\"Float64\">Float64</th><th title=\"Float64\">Float64</th><th title=\"Float64\">Float64</th></tr></thead><tbody><tr><th>1</th><td>0.767375</td><td>0.515348</td><td>0.474126</td><td>0.676285</td><td>0.370894</td></tr><tr><th>2</th><td>0.371232</td><td>0.582571</td><td>0.963462</td><td>0.555215</td><td>0.995935</td></tr><tr><th>3</th><td>0.413832</td><td>0.716956</td><td>0.786264</td><td>0.690551</td><td>0.0372824</td></tr><tr><th>4</th><td>0.767375</td><td>0.515348</td><td>0.474126</td><td>0.676285</td><td>0.370894</td></tr><tr><th>5</th><td>0.371232</td><td>0.582571</td><td>0.963462</td><td>0.555215</td><td>0.995935</td></tr><tr><th>6</th><td>0.413832</td><td>0.716956</td><td>0.786264</td><td>0.690551</td><td>0.0372824</td></tr></tbody></table></div>"
      ],
      "text/latex": [
       "\\begin{tabular}{r|ccccc}\n",
       "\t& x1 & x2 & x3 & x4 & x5\\\\\n",
       "\t\\hline\n",
       "\t& Float64 & Float64 & Float64 & Float64 & Float64\\\\\n",
       "\t\\hline\n",
       "\t1 & 0.767375 & 0.515348 & 0.474126 & 0.676285 & 0.370894 \\\\\n",
       "\t2 & 0.371232 & 0.582571 & 0.963462 & 0.555215 & 0.995935 \\\\\n",
       "\t3 & 0.413832 & 0.716956 & 0.786264 & 0.690551 & 0.0372824 \\\\\n",
       "\t4 & 0.767375 & 0.515348 & 0.474126 & 0.676285 & 0.370894 \\\\\n",
       "\t5 & 0.371232 & 0.582571 & 0.963462 & 0.555215 & 0.995935 \\\\\n",
       "\t6 & 0.413832 & 0.716956 & 0.786264 & 0.690551 & 0.0372824 \\\\\n",
       "\\end{tabular}\n"
      ],
      "text/plain": [
       "\u001b[1m6×5 DataFrame\u001b[0m\n",
       "\u001b[1m Row \u001b[0m│\u001b[1m x1       \u001b[0m\u001b[1m x2       \u001b[0m\u001b[1m x3       \u001b[0m\u001b[1m x4       \u001b[0m\u001b[1m x5        \u001b[0m\n",
       "\u001b[1m     \u001b[0m│\u001b[90m Float64  \u001b[0m\u001b[90m Float64  \u001b[0m\u001b[90m Float64  \u001b[0m\u001b[90m Float64  \u001b[0m\u001b[90m Float64   \u001b[0m\n",
       "─────┼───────────────────────────────────────────────────\n",
       "   1 │ 0.767375  0.515348  0.474126  0.676285  0.370894\n",
       "   2 │ 0.371232  0.582571  0.963462  0.555215  0.995935\n",
       "   3 │ 0.413832  0.716956  0.786264  0.690551  0.0372824\n",
       "   4 │ 0.767375  0.515348  0.474126  0.676285  0.370894\n",
       "   5 │ 0.371232  0.582571  0.963462  0.555215  0.995935\n",
       "   6 │ 0.413832  0.716956  0.786264  0.690551  0.0372824"
      ]
     },
     "execution_count": 36,
     "metadata": {},
     "output_type": "execute_result"
    }
   ],
   "source": [
    "append!(x, x)"
   ]
  },
  {
   "cell_type": "markdown",
   "metadata": {},
   "source": [
    "here column names must match exactly unless `cols` keyword argument is passed"
   ]
  },
  {
   "cell_type": "code",
   "execution_count": 37,
   "metadata": {
    "execution": {
     "iopub.execute_input": "2022-07-18T00:53:19.213000Z",
     "iopub.status.busy": "2022-07-18T00:53:19.213000Z",
     "iopub.status.idle": "2022-07-18T00:53:19.215000Z",
     "shell.execute_reply": "2022-07-18T00:53:19.215000Z"
    }
   },
   "outputs": [
    {
     "data": {
      "text/html": [
       "<div class=\"data-frame\"><p>9 rows × 5 columns</p><table class=\"data-frame\"><thead><tr><th></th><th>x1</th><th>x2</th><th>x3</th><th>x4</th><th>x5</th></tr><tr><th></th><th title=\"Float64\">Float64</th><th title=\"Float64\">Float64</th><th title=\"Float64\">Float64</th><th title=\"Float64\">Float64</th><th title=\"Float64\">Float64</th></tr></thead><tbody><tr><th>1</th><td>0.767375</td><td>0.515348</td><td>0.474126</td><td>0.676285</td><td>0.370894</td></tr><tr><th>2</th><td>0.371232</td><td>0.582571</td><td>0.963462</td><td>0.555215</td><td>0.995935</td></tr><tr><th>3</th><td>0.413832</td><td>0.716956</td><td>0.786264</td><td>0.690551</td><td>0.0372824</td></tr><tr><th>4</th><td>0.767375</td><td>0.515348</td><td>0.474126</td><td>0.676285</td><td>0.370894</td></tr><tr><th>5</th><td>0.371232</td><td>0.582571</td><td>0.963462</td><td>0.555215</td><td>0.995935</td></tr><tr><th>6</th><td>0.413832</td><td>0.716956</td><td>0.786264</td><td>0.690551</td><td>0.0372824</td></tr><tr><th>7</th><td>0.767375</td><td>0.515348</td><td>0.474126</td><td>0.676285</td><td>0.370894</td></tr><tr><th>8</th><td>0.371232</td><td>0.582571</td><td>0.963462</td><td>0.555215</td><td>0.995935</td></tr><tr><th>9</th><td>0.413832</td><td>0.716956</td><td>0.786264</td><td>0.690551</td><td>0.0372824</td></tr></tbody></table></div>"
      ],
      "text/latex": [
       "\\begin{tabular}{r|ccccc}\n",
       "\t& x1 & x2 & x3 & x4 & x5\\\\\n",
       "\t\\hline\n",
       "\t& Float64 & Float64 & Float64 & Float64 & Float64\\\\\n",
       "\t\\hline\n",
       "\t1 & 0.767375 & 0.515348 & 0.474126 & 0.676285 & 0.370894 \\\\\n",
       "\t2 & 0.371232 & 0.582571 & 0.963462 & 0.555215 & 0.995935 \\\\\n",
       "\t3 & 0.413832 & 0.716956 & 0.786264 & 0.690551 & 0.0372824 \\\\\n",
       "\t4 & 0.767375 & 0.515348 & 0.474126 & 0.676285 & 0.370894 \\\\\n",
       "\t5 & 0.371232 & 0.582571 & 0.963462 & 0.555215 & 0.995935 \\\\\n",
       "\t6 & 0.413832 & 0.716956 & 0.786264 & 0.690551 & 0.0372824 \\\\\n",
       "\t7 & 0.767375 & 0.515348 & 0.474126 & 0.676285 & 0.370894 \\\\\n",
       "\t8 & 0.371232 & 0.582571 & 0.963462 & 0.555215 & 0.995935 \\\\\n",
       "\t9 & 0.413832 & 0.716956 & 0.786264 & 0.690551 & 0.0372824 \\\\\n",
       "\\end{tabular}\n"
      ],
      "text/plain": [
       "\u001b[1m9×5 DataFrame\u001b[0m\n",
       "\u001b[1m Row \u001b[0m│\u001b[1m x1       \u001b[0m\u001b[1m x2       \u001b[0m\u001b[1m x3       \u001b[0m\u001b[1m x4       \u001b[0m\u001b[1m x5        \u001b[0m\n",
       "\u001b[1m     \u001b[0m│\u001b[90m Float64  \u001b[0m\u001b[90m Float64  \u001b[0m\u001b[90m Float64  \u001b[0m\u001b[90m Float64  \u001b[0m\u001b[90m Float64   \u001b[0m\n",
       "─────┼───────────────────────────────────────────────────\n",
       "   1 │ 0.767375  0.515348  0.474126  0.676285  0.370894\n",
       "   2 │ 0.371232  0.582571  0.963462  0.555215  0.995935\n",
       "   3 │ 0.413832  0.716956  0.786264  0.690551  0.0372824\n",
       "   4 │ 0.767375  0.515348  0.474126  0.676285  0.370894\n",
       "   5 │ 0.371232  0.582571  0.963462  0.555215  0.995935\n",
       "   6 │ 0.413832  0.716956  0.786264  0.690551  0.0372824\n",
       "   7 │ 0.767375  0.515348  0.474126  0.676285  0.370894\n",
       "   8 │ 0.371232  0.582571  0.963462  0.555215  0.995935\n",
       "   9 │ 0.413832  0.716956  0.786264  0.690551  0.0372824"
      ]
     },
     "execution_count": 37,
     "metadata": {},
     "output_type": "execute_result"
    }
   ],
   "source": [
    "append!(x, y)"
   ]
  },
  {
   "cell_type": "markdown",
   "metadata": {},
   "source": [
    "standard `repeat` function works on rows; also `inner` and `outer` keyword arguments are accepted"
   ]
  },
  {
   "cell_type": "code",
   "execution_count": 38,
   "metadata": {
    "execution": {
     "iopub.execute_input": "2022-07-18T00:53:19.217000Z",
     "iopub.status.busy": "2022-07-18T00:53:19.217000Z",
     "iopub.status.idle": "2022-07-18T00:53:19.305000Z",
     "shell.execute_reply": "2022-07-18T00:53:19.305000Z"
    }
   },
   "outputs": [
    {
     "data": {
      "text/html": [
       "<div class=\"data-frame\"><p>18 rows × 5 columns</p><table class=\"data-frame\"><thead><tr><th></th><th>x1</th><th>x2</th><th>x3</th><th>x4</th><th>x5</th></tr><tr><th></th><th title=\"Float64\">Float64</th><th title=\"Float64\">Float64</th><th title=\"Float64\">Float64</th><th title=\"Float64\">Float64</th><th title=\"Float64\">Float64</th></tr></thead><tbody><tr><th>1</th><td>0.767375</td><td>0.515348</td><td>0.474126</td><td>0.676285</td><td>0.370894</td></tr><tr><th>2</th><td>0.371232</td><td>0.582571</td><td>0.963462</td><td>0.555215</td><td>0.995935</td></tr><tr><th>3</th><td>0.413832</td><td>0.716956</td><td>0.786264</td><td>0.690551</td><td>0.0372824</td></tr><tr><th>4</th><td>0.767375</td><td>0.515348</td><td>0.474126</td><td>0.676285</td><td>0.370894</td></tr><tr><th>5</th><td>0.371232</td><td>0.582571</td><td>0.963462</td><td>0.555215</td><td>0.995935</td></tr><tr><th>6</th><td>0.413832</td><td>0.716956</td><td>0.786264</td><td>0.690551</td><td>0.0372824</td></tr><tr><th>7</th><td>0.767375</td><td>0.515348</td><td>0.474126</td><td>0.676285</td><td>0.370894</td></tr><tr><th>8</th><td>0.371232</td><td>0.582571</td><td>0.963462</td><td>0.555215</td><td>0.995935</td></tr><tr><th>9</th><td>0.413832</td><td>0.716956</td><td>0.786264</td><td>0.690551</td><td>0.0372824</td></tr><tr><th>10</th><td>0.767375</td><td>0.515348</td><td>0.474126</td><td>0.676285</td><td>0.370894</td></tr><tr><th>11</th><td>0.371232</td><td>0.582571</td><td>0.963462</td><td>0.555215</td><td>0.995935</td></tr><tr><th>12</th><td>0.413832</td><td>0.716956</td><td>0.786264</td><td>0.690551</td><td>0.0372824</td></tr><tr><th>13</th><td>0.767375</td><td>0.515348</td><td>0.474126</td><td>0.676285</td><td>0.370894</td></tr><tr><th>14</th><td>0.371232</td><td>0.582571</td><td>0.963462</td><td>0.555215</td><td>0.995935</td></tr><tr><th>15</th><td>0.413832</td><td>0.716956</td><td>0.786264</td><td>0.690551</td><td>0.0372824</td></tr><tr><th>16</th><td>0.767375</td><td>0.515348</td><td>0.474126</td><td>0.676285</td><td>0.370894</td></tr><tr><th>17</th><td>0.371232</td><td>0.582571</td><td>0.963462</td><td>0.555215</td><td>0.995935</td></tr><tr><th>18</th><td>0.413832</td><td>0.716956</td><td>0.786264</td><td>0.690551</td><td>0.0372824</td></tr></tbody></table></div>"
      ],
      "text/latex": [
       "\\begin{tabular}{r|ccccc}\n",
       "\t& x1 & x2 & x3 & x4 & x5\\\\\n",
       "\t\\hline\n",
       "\t& Float64 & Float64 & Float64 & Float64 & Float64\\\\\n",
       "\t\\hline\n",
       "\t1 & 0.767375 & 0.515348 & 0.474126 & 0.676285 & 0.370894 \\\\\n",
       "\t2 & 0.371232 & 0.582571 & 0.963462 & 0.555215 & 0.995935 \\\\\n",
       "\t3 & 0.413832 & 0.716956 & 0.786264 & 0.690551 & 0.0372824 \\\\\n",
       "\t4 & 0.767375 & 0.515348 & 0.474126 & 0.676285 & 0.370894 \\\\\n",
       "\t5 & 0.371232 & 0.582571 & 0.963462 & 0.555215 & 0.995935 \\\\\n",
       "\t6 & 0.413832 & 0.716956 & 0.786264 & 0.690551 & 0.0372824 \\\\\n",
       "\t7 & 0.767375 & 0.515348 & 0.474126 & 0.676285 & 0.370894 \\\\\n",
       "\t8 & 0.371232 & 0.582571 & 0.963462 & 0.555215 & 0.995935 \\\\\n",
       "\t9 & 0.413832 & 0.716956 & 0.786264 & 0.690551 & 0.0372824 \\\\\n",
       "\t10 & 0.767375 & 0.515348 & 0.474126 & 0.676285 & 0.370894 \\\\\n",
       "\t11 & 0.371232 & 0.582571 & 0.963462 & 0.555215 & 0.995935 \\\\\n",
       "\t12 & 0.413832 & 0.716956 & 0.786264 & 0.690551 & 0.0372824 \\\\\n",
       "\t13 & 0.767375 & 0.515348 & 0.474126 & 0.676285 & 0.370894 \\\\\n",
       "\t14 & 0.371232 & 0.582571 & 0.963462 & 0.555215 & 0.995935 \\\\\n",
       "\t15 & 0.413832 & 0.716956 & 0.786264 & 0.690551 & 0.0372824 \\\\\n",
       "\t16 & 0.767375 & 0.515348 & 0.474126 & 0.676285 & 0.370894 \\\\\n",
       "\t17 & 0.371232 & 0.582571 & 0.963462 & 0.555215 & 0.995935 \\\\\n",
       "\t18 & 0.413832 & 0.716956 & 0.786264 & 0.690551 & 0.0372824 \\\\\n",
       "\\end{tabular}\n"
      ],
      "text/plain": [
       "\u001b[1m18×5 DataFrame\u001b[0m\n",
       "\u001b[1m Row \u001b[0m│\u001b[1m x1       \u001b[0m\u001b[1m x2       \u001b[0m\u001b[1m x3       \u001b[0m\u001b[1m x4       \u001b[0m\u001b[1m x5        \u001b[0m\n",
       "\u001b[1m     \u001b[0m│\u001b[90m Float64  \u001b[0m\u001b[90m Float64  \u001b[0m\u001b[90m Float64  \u001b[0m\u001b[90m Float64  \u001b[0m\u001b[90m Float64   \u001b[0m\n",
       "─────┼───────────────────────────────────────────────────\n",
       "   1 │ 0.767375  0.515348  0.474126  0.676285  0.370894\n",
       "   2 │ 0.371232  0.582571  0.963462  0.555215  0.995935\n",
       "   3 │ 0.413832  0.716956  0.786264  0.690551  0.0372824\n",
       "   4 │ 0.767375  0.515348  0.474126  0.676285  0.370894\n",
       "   5 │ 0.371232  0.582571  0.963462  0.555215  0.995935\n",
       "   6 │ 0.413832  0.716956  0.786264  0.690551  0.0372824\n",
       "   7 │ 0.767375  0.515348  0.474126  0.676285  0.370894\n",
       "   8 │ 0.371232  0.582571  0.963462  0.555215  0.995935\n",
       "   9 │ 0.413832  0.716956  0.786264  0.690551  0.0372824\n",
       "  10 │ 0.767375  0.515348  0.474126  0.676285  0.370894\n",
       "  11 │ 0.371232  0.582571  0.963462  0.555215  0.995935\n",
       "  12 │ 0.413832  0.716956  0.786264  0.690551  0.0372824\n",
       "  13 │ 0.767375  0.515348  0.474126  0.676285  0.370894\n",
       "  14 │ 0.371232  0.582571  0.963462  0.555215  0.995935\n",
       "  15 │ 0.413832  0.716956  0.786264  0.690551  0.0372824\n",
       "  16 │ 0.767375  0.515348  0.474126  0.676285  0.370894\n",
       "  17 │ 0.371232  0.582571  0.963462  0.555215  0.995935\n",
       "  18 │ 0.413832  0.716956  0.786264  0.690551  0.0372824"
      ]
     },
     "execution_count": 38,
     "metadata": {},
     "output_type": "execute_result"
    }
   ],
   "source": [
    "repeat(x, 2)"
   ]
  },
  {
   "cell_type": "markdown",
   "metadata": {},
   "source": [
    "`push!` adds one row to `x` at the end; one must pass a correct number of values unless `cols` keyword argument is passed"
   ]
  },
  {
   "cell_type": "code",
   "execution_count": 39,
   "metadata": {
    "execution": {
     "iopub.execute_input": "2022-07-18T00:53:19.308000Z",
     "iopub.status.busy": "2022-07-18T00:53:19.308000Z",
     "iopub.status.idle": "2022-07-18T00:53:19.427000Z",
     "shell.execute_reply": "2022-07-18T00:53:19.427000Z"
    }
   },
   "outputs": [
    {
     "data": {
      "text/html": [
       "<div class=\"data-frame\"><p>10 rows × 5 columns</p><table class=\"data-frame\"><thead><tr><th></th><th>x1</th><th>x2</th><th>x3</th><th>x4</th><th>x5</th></tr><tr><th></th><th title=\"Float64\">Float64</th><th title=\"Float64\">Float64</th><th title=\"Float64\">Float64</th><th title=\"Float64\">Float64</th><th title=\"Float64\">Float64</th></tr></thead><tbody><tr><th>1</th><td>0.767375</td><td>0.515348</td><td>0.474126</td><td>0.676285</td><td>0.370894</td></tr><tr><th>2</th><td>0.371232</td><td>0.582571</td><td>0.963462</td><td>0.555215</td><td>0.995935</td></tr><tr><th>3</th><td>0.413832</td><td>0.716956</td><td>0.786264</td><td>0.690551</td><td>0.0372824</td></tr><tr><th>4</th><td>0.767375</td><td>0.515348</td><td>0.474126</td><td>0.676285</td><td>0.370894</td></tr><tr><th>5</th><td>0.371232</td><td>0.582571</td><td>0.963462</td><td>0.555215</td><td>0.995935</td></tr><tr><th>6</th><td>0.413832</td><td>0.716956</td><td>0.786264</td><td>0.690551</td><td>0.0372824</td></tr><tr><th>7</th><td>0.767375</td><td>0.515348</td><td>0.474126</td><td>0.676285</td><td>0.370894</td></tr><tr><th>8</th><td>0.371232</td><td>0.582571</td><td>0.963462</td><td>0.555215</td><td>0.995935</td></tr><tr><th>9</th><td>0.413832</td><td>0.716956</td><td>0.786264</td><td>0.690551</td><td>0.0372824</td></tr><tr><th>10</th><td>1.0</td><td>2.0</td><td>3.0</td><td>4.0</td><td>5.0</td></tr></tbody></table></div>"
      ],
      "text/latex": [
       "\\begin{tabular}{r|ccccc}\n",
       "\t& x1 & x2 & x3 & x4 & x5\\\\\n",
       "\t\\hline\n",
       "\t& Float64 & Float64 & Float64 & Float64 & Float64\\\\\n",
       "\t\\hline\n",
       "\t1 & 0.767375 & 0.515348 & 0.474126 & 0.676285 & 0.370894 \\\\\n",
       "\t2 & 0.371232 & 0.582571 & 0.963462 & 0.555215 & 0.995935 \\\\\n",
       "\t3 & 0.413832 & 0.716956 & 0.786264 & 0.690551 & 0.0372824 \\\\\n",
       "\t4 & 0.767375 & 0.515348 & 0.474126 & 0.676285 & 0.370894 \\\\\n",
       "\t5 & 0.371232 & 0.582571 & 0.963462 & 0.555215 & 0.995935 \\\\\n",
       "\t6 & 0.413832 & 0.716956 & 0.786264 & 0.690551 & 0.0372824 \\\\\n",
       "\t7 & 0.767375 & 0.515348 & 0.474126 & 0.676285 & 0.370894 \\\\\n",
       "\t8 & 0.371232 & 0.582571 & 0.963462 & 0.555215 & 0.995935 \\\\\n",
       "\t9 & 0.413832 & 0.716956 & 0.786264 & 0.690551 & 0.0372824 \\\\\n",
       "\t10 & 1.0 & 2.0 & 3.0 & 4.0 & 5.0 \\\\\n",
       "\\end{tabular}\n"
      ],
      "text/plain": [
       "\u001b[1m10×5 DataFrame\u001b[0m\n",
       "\u001b[1m Row \u001b[0m│\u001b[1m x1       \u001b[0m\u001b[1m x2       \u001b[0m\u001b[1m x3       \u001b[0m\u001b[1m x4       \u001b[0m\u001b[1m x5        \u001b[0m\n",
       "\u001b[1m     \u001b[0m│\u001b[90m Float64  \u001b[0m\u001b[90m Float64  \u001b[0m\u001b[90m Float64  \u001b[0m\u001b[90m Float64  \u001b[0m\u001b[90m Float64   \u001b[0m\n",
       "─────┼───────────────────────────────────────────────────\n",
       "   1 │ 0.767375  0.515348  0.474126  0.676285  0.370894\n",
       "   2 │ 0.371232  0.582571  0.963462  0.555215  0.995935\n",
       "   3 │ 0.413832  0.716956  0.786264  0.690551  0.0372824\n",
       "   4 │ 0.767375  0.515348  0.474126  0.676285  0.370894\n",
       "   5 │ 0.371232  0.582571  0.963462  0.555215  0.995935\n",
       "   6 │ 0.413832  0.716956  0.786264  0.690551  0.0372824\n",
       "   7 │ 0.767375  0.515348  0.474126  0.676285  0.370894\n",
       "   8 │ 0.371232  0.582571  0.963462  0.555215  0.995935\n",
       "   9 │ 0.413832  0.716956  0.786264  0.690551  0.0372824\n",
       "  10 │ 1.0       2.0       3.0       4.0       5.0"
      ]
     },
     "execution_count": 39,
     "metadata": {},
     "output_type": "execute_result"
    }
   ],
   "source": [
    "push!(x, 1:5)\n",
    "x"
   ]
  },
  {
   "cell_type": "markdown",
   "metadata": {},
   "source": [
    "also works with dictionaries"
   ]
  },
  {
   "cell_type": "code",
   "execution_count": 40,
   "metadata": {
    "execution": {
     "iopub.execute_input": "2022-07-18T00:53:19.431000Z",
     "iopub.status.busy": "2022-07-18T00:53:19.431000Z",
     "iopub.status.idle": "2022-07-18T00:53:19.764000Z",
     "shell.execute_reply": "2022-07-18T00:53:19.764000Z"
    }
   },
   "outputs": [
    {
     "data": {
      "text/html": [
       "<div class=\"data-frame\"><p>11 rows × 5 columns</p><table class=\"data-frame\"><thead><tr><th></th><th>x1</th><th>x2</th><th>x3</th><th>x4</th><th>x5</th></tr><tr><th></th><th title=\"Float64\">Float64</th><th title=\"Float64\">Float64</th><th title=\"Float64\">Float64</th><th title=\"Float64\">Float64</th><th title=\"Float64\">Float64</th></tr></thead><tbody><tr><th>1</th><td>0.767375</td><td>0.515348</td><td>0.474126</td><td>0.676285</td><td>0.370894</td></tr><tr><th>2</th><td>0.371232</td><td>0.582571</td><td>0.963462</td><td>0.555215</td><td>0.995935</td></tr><tr><th>3</th><td>0.413832</td><td>0.716956</td><td>0.786264</td><td>0.690551</td><td>0.0372824</td></tr><tr><th>4</th><td>0.767375</td><td>0.515348</td><td>0.474126</td><td>0.676285</td><td>0.370894</td></tr><tr><th>5</th><td>0.371232</td><td>0.582571</td><td>0.963462</td><td>0.555215</td><td>0.995935</td></tr><tr><th>6</th><td>0.413832</td><td>0.716956</td><td>0.786264</td><td>0.690551</td><td>0.0372824</td></tr><tr><th>7</th><td>0.767375</td><td>0.515348</td><td>0.474126</td><td>0.676285</td><td>0.370894</td></tr><tr><th>8</th><td>0.371232</td><td>0.582571</td><td>0.963462</td><td>0.555215</td><td>0.995935</td></tr><tr><th>9</th><td>0.413832</td><td>0.716956</td><td>0.786264</td><td>0.690551</td><td>0.0372824</td></tr><tr><th>10</th><td>1.0</td><td>2.0</td><td>3.0</td><td>4.0</td><td>5.0</td></tr><tr><th>11</th><td>11.0</td><td>12.0</td><td>13.0</td><td>14.0</td><td>15.0</td></tr></tbody></table></div>"
      ],
      "text/latex": [
       "\\begin{tabular}{r|ccccc}\n",
       "\t& x1 & x2 & x3 & x4 & x5\\\\\n",
       "\t\\hline\n",
       "\t& Float64 & Float64 & Float64 & Float64 & Float64\\\\\n",
       "\t\\hline\n",
       "\t1 & 0.767375 & 0.515348 & 0.474126 & 0.676285 & 0.370894 \\\\\n",
       "\t2 & 0.371232 & 0.582571 & 0.963462 & 0.555215 & 0.995935 \\\\\n",
       "\t3 & 0.413832 & 0.716956 & 0.786264 & 0.690551 & 0.0372824 \\\\\n",
       "\t4 & 0.767375 & 0.515348 & 0.474126 & 0.676285 & 0.370894 \\\\\n",
       "\t5 & 0.371232 & 0.582571 & 0.963462 & 0.555215 & 0.995935 \\\\\n",
       "\t6 & 0.413832 & 0.716956 & 0.786264 & 0.690551 & 0.0372824 \\\\\n",
       "\t7 & 0.767375 & 0.515348 & 0.474126 & 0.676285 & 0.370894 \\\\\n",
       "\t8 & 0.371232 & 0.582571 & 0.963462 & 0.555215 & 0.995935 \\\\\n",
       "\t9 & 0.413832 & 0.716956 & 0.786264 & 0.690551 & 0.0372824 \\\\\n",
       "\t10 & 1.0 & 2.0 & 3.0 & 4.0 & 5.0 \\\\\n",
       "\t11 & 11.0 & 12.0 & 13.0 & 14.0 & 15.0 \\\\\n",
       "\\end{tabular}\n"
      ],
      "text/plain": [
       "\u001b[1m11×5 DataFrame\u001b[0m\n",
       "\u001b[1m Row \u001b[0m│\u001b[1m x1        \u001b[0m\u001b[1m x2        \u001b[0m\u001b[1m x3        \u001b[0m\u001b[1m x4        \u001b[0m\u001b[1m x5         \u001b[0m\n",
       "\u001b[1m     \u001b[0m│\u001b[90m Float64   \u001b[0m\u001b[90m Float64   \u001b[0m\u001b[90m Float64   \u001b[0m\u001b[90m Float64   \u001b[0m\u001b[90m Float64    \u001b[0m\n",
       "─────┼────────────────────────────────────────────────────────\n",
       "   1 │  0.767375   0.515348   0.474126   0.676285   0.370894\n",
       "   2 │  0.371232   0.582571   0.963462   0.555215   0.995935\n",
       "   3 │  0.413832   0.716956   0.786264   0.690551   0.0372824\n",
       "   4 │  0.767375   0.515348   0.474126   0.676285   0.370894\n",
       "   5 │  0.371232   0.582571   0.963462   0.555215   0.995935\n",
       "   6 │  0.413832   0.716956   0.786264   0.690551   0.0372824\n",
       "   7 │  0.767375   0.515348   0.474126   0.676285   0.370894\n",
       "   8 │  0.371232   0.582571   0.963462   0.555215   0.995935\n",
       "   9 │  0.413832   0.716956   0.786264   0.690551   0.0372824\n",
       "  10 │  1.0        2.0        3.0        4.0        5.0\n",
       "  11 │ 11.0       12.0       13.0       14.0       15.0"
      ]
     },
     "execution_count": 40,
     "metadata": {},
     "output_type": "execute_result"
    }
   ],
   "source": [
    "push!(x, Dict(:x1=> 11, :x2=> 12, :x3=> 13, :x4=> 14, :x5=> 15))\n",
    "x"
   ]
  },
  {
   "cell_type": "markdown",
   "metadata": {},
   "source": [
    "and `NamedTuples` via name matching"
   ]
  },
  {
   "cell_type": "code",
   "execution_count": 41,
   "metadata": {
    "execution": {
     "iopub.execute_input": "2022-07-18T00:53:19.767000Z",
     "iopub.status.busy": "2022-07-18T00:53:19.767000Z",
     "iopub.status.idle": "2022-07-18T00:53:20.045000Z",
     "shell.execute_reply": "2022-07-18T00:53:20.045000Z"
    }
   },
   "outputs": [
    {
     "data": {
      "text/html": [
       "<div class=\"data-frame\"><p>12 rows × 5 columns</p><table class=\"data-frame\"><thead><tr><th></th><th>x1</th><th>x2</th><th>x3</th><th>x4</th><th>x5</th></tr><tr><th></th><th title=\"Float64\">Float64</th><th title=\"Float64\">Float64</th><th title=\"Float64\">Float64</th><th title=\"Float64\">Float64</th><th title=\"Float64\">Float64</th></tr></thead><tbody><tr><th>1</th><td>0.767375</td><td>0.515348</td><td>0.474126</td><td>0.676285</td><td>0.370894</td></tr><tr><th>2</th><td>0.371232</td><td>0.582571</td><td>0.963462</td><td>0.555215</td><td>0.995935</td></tr><tr><th>3</th><td>0.413832</td><td>0.716956</td><td>0.786264</td><td>0.690551</td><td>0.0372824</td></tr><tr><th>4</th><td>0.767375</td><td>0.515348</td><td>0.474126</td><td>0.676285</td><td>0.370894</td></tr><tr><th>5</th><td>0.371232</td><td>0.582571</td><td>0.963462</td><td>0.555215</td><td>0.995935</td></tr><tr><th>6</th><td>0.413832</td><td>0.716956</td><td>0.786264</td><td>0.690551</td><td>0.0372824</td></tr><tr><th>7</th><td>0.767375</td><td>0.515348</td><td>0.474126</td><td>0.676285</td><td>0.370894</td></tr><tr><th>8</th><td>0.371232</td><td>0.582571</td><td>0.963462</td><td>0.555215</td><td>0.995935</td></tr><tr><th>9</th><td>0.413832</td><td>0.716956</td><td>0.786264</td><td>0.690551</td><td>0.0372824</td></tr><tr><th>10</th><td>1.0</td><td>2.0</td><td>3.0</td><td>4.0</td><td>5.0</td></tr><tr><th>11</th><td>11.0</td><td>12.0</td><td>13.0</td><td>14.0</td><td>15.0</td></tr><tr><th>12</th><td>1.0</td><td>2.0</td><td>3.0</td><td>4.0</td><td>5.0</td></tr></tbody></table></div>"
      ],
      "text/latex": [
       "\\begin{tabular}{r|ccccc}\n",
       "\t& x1 & x2 & x3 & x4 & x5\\\\\n",
       "\t\\hline\n",
       "\t& Float64 & Float64 & Float64 & Float64 & Float64\\\\\n",
       "\t\\hline\n",
       "\t1 & 0.767375 & 0.515348 & 0.474126 & 0.676285 & 0.370894 \\\\\n",
       "\t2 & 0.371232 & 0.582571 & 0.963462 & 0.555215 & 0.995935 \\\\\n",
       "\t3 & 0.413832 & 0.716956 & 0.786264 & 0.690551 & 0.0372824 \\\\\n",
       "\t4 & 0.767375 & 0.515348 & 0.474126 & 0.676285 & 0.370894 \\\\\n",
       "\t5 & 0.371232 & 0.582571 & 0.963462 & 0.555215 & 0.995935 \\\\\n",
       "\t6 & 0.413832 & 0.716956 & 0.786264 & 0.690551 & 0.0372824 \\\\\n",
       "\t7 & 0.767375 & 0.515348 & 0.474126 & 0.676285 & 0.370894 \\\\\n",
       "\t8 & 0.371232 & 0.582571 & 0.963462 & 0.555215 & 0.995935 \\\\\n",
       "\t9 & 0.413832 & 0.716956 & 0.786264 & 0.690551 & 0.0372824 \\\\\n",
       "\t10 & 1.0 & 2.0 & 3.0 & 4.0 & 5.0 \\\\\n",
       "\t11 & 11.0 & 12.0 & 13.0 & 14.0 & 15.0 \\\\\n",
       "\t12 & 1.0 & 2.0 & 3.0 & 4.0 & 5.0 \\\\\n",
       "\\end{tabular}\n"
      ],
      "text/plain": [
       "\u001b[1m12×5 DataFrame\u001b[0m\n",
       "\u001b[1m Row \u001b[0m│\u001b[1m x1        \u001b[0m\u001b[1m x2        \u001b[0m\u001b[1m x3        \u001b[0m\u001b[1m x4        \u001b[0m\u001b[1m x5         \u001b[0m\n",
       "\u001b[1m     \u001b[0m│\u001b[90m Float64   \u001b[0m\u001b[90m Float64   \u001b[0m\u001b[90m Float64   \u001b[0m\u001b[90m Float64   \u001b[0m\u001b[90m Float64    \u001b[0m\n",
       "─────┼────────────────────────────────────────────────────────\n",
       "   1 │  0.767375   0.515348   0.474126   0.676285   0.370894\n",
       "   2 │  0.371232   0.582571   0.963462   0.555215   0.995935\n",
       "   3 │  0.413832   0.716956   0.786264   0.690551   0.0372824\n",
       "   4 │  0.767375   0.515348   0.474126   0.676285   0.370894\n",
       "   5 │  0.371232   0.582571   0.963462   0.555215   0.995935\n",
       "   6 │  0.413832   0.716956   0.786264   0.690551   0.0372824\n",
       "   7 │  0.767375   0.515348   0.474126   0.676285   0.370894\n",
       "   8 │  0.371232   0.582571   0.963462   0.555215   0.995935\n",
       "   9 │  0.413832   0.716956   0.786264   0.690551   0.0372824\n",
       "  10 │  1.0        2.0        3.0        4.0        5.0\n",
       "  11 │ 11.0       12.0       13.0       14.0       15.0\n",
       "  12 │  1.0        2.0        3.0        4.0        5.0"
      ]
     },
     "execution_count": 41,
     "metadata": {},
     "output_type": "execute_result"
    }
   ],
   "source": [
    "push!(x, (x2=2, x1=1, x4=4, x3=3, x5=5))"
   ]
  },
  {
   "cell_type": "markdown",
   "metadata": {},
   "source": [
    "and `DataFrameRow` also via name matching"
   ]
  },
  {
   "cell_type": "code",
   "execution_count": 42,
   "metadata": {
    "execution": {
     "iopub.execute_input": "2022-07-18T00:53:20.049000Z",
     "iopub.status.busy": "2022-07-18T00:53:20.048000Z",
     "iopub.status.idle": "2022-07-18T00:53:20.526000Z",
     "shell.execute_reply": "2022-07-18T00:53:20.526000Z"
    }
   },
   "outputs": [
    {
     "data": {
      "text/html": [
       "<div class=\"data-frame\"><p>13 rows × 5 columns</p><table class=\"data-frame\"><thead><tr><th></th><th>x1</th><th>x2</th><th>x3</th><th>x4</th><th>x5</th></tr><tr><th></th><th title=\"Float64\">Float64</th><th title=\"Float64\">Float64</th><th title=\"Float64\">Float64</th><th title=\"Float64\">Float64</th><th title=\"Float64\">Float64</th></tr></thead><tbody><tr><th>1</th><td>0.767375</td><td>0.515348</td><td>0.474126</td><td>0.676285</td><td>0.370894</td></tr><tr><th>2</th><td>0.371232</td><td>0.582571</td><td>0.963462</td><td>0.555215</td><td>0.995935</td></tr><tr><th>3</th><td>0.413832</td><td>0.716956</td><td>0.786264</td><td>0.690551</td><td>0.0372824</td></tr><tr><th>4</th><td>0.767375</td><td>0.515348</td><td>0.474126</td><td>0.676285</td><td>0.370894</td></tr><tr><th>5</th><td>0.371232</td><td>0.582571</td><td>0.963462</td><td>0.555215</td><td>0.995935</td></tr><tr><th>6</th><td>0.413832</td><td>0.716956</td><td>0.786264</td><td>0.690551</td><td>0.0372824</td></tr><tr><th>7</th><td>0.767375</td><td>0.515348</td><td>0.474126</td><td>0.676285</td><td>0.370894</td></tr><tr><th>8</th><td>0.371232</td><td>0.582571</td><td>0.963462</td><td>0.555215</td><td>0.995935</td></tr><tr><th>9</th><td>0.413832</td><td>0.716956</td><td>0.786264</td><td>0.690551</td><td>0.0372824</td></tr><tr><th>10</th><td>1.0</td><td>2.0</td><td>3.0</td><td>4.0</td><td>5.0</td></tr><tr><th>11</th><td>11.0</td><td>12.0</td><td>13.0</td><td>14.0</td><td>15.0</td></tr><tr><th>12</th><td>1.0</td><td>2.0</td><td>3.0</td><td>4.0</td><td>5.0</td></tr><tr><th>13</th><td>0.767375</td><td>0.515348</td><td>0.474126</td><td>0.676285</td><td>0.370894</td></tr></tbody></table></div>"
      ],
      "text/latex": [
       "\\begin{tabular}{r|ccccc}\n",
       "\t& x1 & x2 & x3 & x4 & x5\\\\\n",
       "\t\\hline\n",
       "\t& Float64 & Float64 & Float64 & Float64 & Float64\\\\\n",
       "\t\\hline\n",
       "\t1 & 0.767375 & 0.515348 & 0.474126 & 0.676285 & 0.370894 \\\\\n",
       "\t2 & 0.371232 & 0.582571 & 0.963462 & 0.555215 & 0.995935 \\\\\n",
       "\t3 & 0.413832 & 0.716956 & 0.786264 & 0.690551 & 0.0372824 \\\\\n",
       "\t4 & 0.767375 & 0.515348 & 0.474126 & 0.676285 & 0.370894 \\\\\n",
       "\t5 & 0.371232 & 0.582571 & 0.963462 & 0.555215 & 0.995935 \\\\\n",
       "\t6 & 0.413832 & 0.716956 & 0.786264 & 0.690551 & 0.0372824 \\\\\n",
       "\t7 & 0.767375 & 0.515348 & 0.474126 & 0.676285 & 0.370894 \\\\\n",
       "\t8 & 0.371232 & 0.582571 & 0.963462 & 0.555215 & 0.995935 \\\\\n",
       "\t9 & 0.413832 & 0.716956 & 0.786264 & 0.690551 & 0.0372824 \\\\\n",
       "\t10 & 1.0 & 2.0 & 3.0 & 4.0 & 5.0 \\\\\n",
       "\t11 & 11.0 & 12.0 & 13.0 & 14.0 & 15.0 \\\\\n",
       "\t12 & 1.0 & 2.0 & 3.0 & 4.0 & 5.0 \\\\\n",
       "\t13 & 0.767375 & 0.515348 & 0.474126 & 0.676285 & 0.370894 \\\\\n",
       "\\end{tabular}\n"
      ],
      "text/plain": [
       "\u001b[1m13×5 DataFrame\u001b[0m\n",
       "\u001b[1m Row \u001b[0m│\u001b[1m x1        \u001b[0m\u001b[1m x2        \u001b[0m\u001b[1m x3        \u001b[0m\u001b[1m x4        \u001b[0m\u001b[1m x5         \u001b[0m\n",
       "\u001b[1m     \u001b[0m│\u001b[90m Float64   \u001b[0m\u001b[90m Float64   \u001b[0m\u001b[90m Float64   \u001b[0m\u001b[90m Float64   \u001b[0m\u001b[90m Float64    \u001b[0m\n",
       "─────┼────────────────────────────────────────────────────────\n",
       "   1 │  0.767375   0.515348   0.474126   0.676285   0.370894\n",
       "   2 │  0.371232   0.582571   0.963462   0.555215   0.995935\n",
       "   3 │  0.413832   0.716956   0.786264   0.690551   0.0372824\n",
       "   4 │  0.767375   0.515348   0.474126   0.676285   0.370894\n",
       "   5 │  0.371232   0.582571   0.963462   0.555215   0.995935\n",
       "   6 │  0.413832   0.716956   0.786264   0.690551   0.0372824\n",
       "   7 │  0.767375   0.515348   0.474126   0.676285   0.370894\n",
       "   8 │  0.371232   0.582571   0.963462   0.555215   0.995935\n",
       "   9 │  0.413832   0.716956   0.786264   0.690551   0.0372824\n",
       "  10 │  1.0        2.0        3.0        4.0        5.0\n",
       "  11 │ 11.0       12.0       13.0       14.0       15.0\n",
       "  12 │  1.0        2.0        3.0        4.0        5.0\n",
       "  13 │  0.767375   0.515348   0.474126   0.676285   0.370894"
      ]
     },
     "execution_count": 42,
     "metadata": {},
     "output_type": "execute_result"
    }
   ],
   "source": [
    "push!(x, x[1, :])"
   ]
  },
  {
   "cell_type": "markdown",
   "metadata": {},
   "source": [
    "Please consult the documentation of `push!`, `append!` and `vcat` for allowed values of `cols` keyword argument.\n",
    "This keyword argument governs the way these functions perform column matching of passed arguments. Also `append!` and `push!` support a `promote` keyword argument that decides if column type promotion is allowed."
   ]
  },
  {
   "cell_type": "markdown",
   "metadata": {},
   "source": [
    "Let us here just give a quick example of how heterogeneous data can be stored in the data frame using these functionalities:"
   ]
  },
  {
   "cell_type": "code",
   "execution_count": 43,
   "metadata": {
    "execution": {
     "iopub.execute_input": "2022-07-18T00:53:20.529000Z",
     "iopub.status.busy": "2022-07-18T00:53:20.529000Z",
     "iopub.status.idle": "2022-07-18T00:53:21.596000Z",
     "shell.execute_reply": "2022-07-18T00:53:21.595000Z"
    }
   },
   "outputs": [
    {
     "data": {
      "text/plain": [
       "3-element Vector{NamedTuple}:\n",
       " (a = 1, b = 2)\n",
       " (a = missing, b = 10, c = 20)\n",
       " (b = \"s\", c = 1, d = 1)"
      ]
     },
     "execution_count": 43,
     "metadata": {},
     "output_type": "execute_result"
    }
   ],
   "source": [
    "source = [(a=1, b=2), (a=missing, b=10, c=20), (b=\"s\", c=1, d=1)]"
   ]
  },
  {
   "cell_type": "code",
   "execution_count": 44,
   "metadata": {
    "execution": {
     "iopub.execute_input": "2022-07-18T00:53:21.599000Z",
     "iopub.status.busy": "2022-07-18T00:53:21.599000Z",
     "iopub.status.idle": "2022-07-18T00:53:21.607000Z",
     "shell.execute_reply": "2022-07-18T00:53:21.607000Z"
    }
   },
   "outputs": [
    {
     "data": {
      "text/html": [
       "<div class=\"data-frame\"><p>0 rows × 0 columns</p><table class=\"data-frame\"><thead><tr><th></th></tr><tr><th></th></tr></thead><tbody></tbody></table></div>"
      ],
      "text/latex": [
       "\\begin{tabular}{r|}\n",
       "\t& \\\\\n",
       "\t\\hline\n",
       "\t& \\\\\n",
       "\t\\hline\n",
       "\\end{tabular}\n"
      ],
      "text/plain": [
       "\u001b[1m0×0 DataFrame\u001b[0m"
      ]
     },
     "execution_count": 44,
     "metadata": {},
     "output_type": "execute_result"
    }
   ],
   "source": [
    "df = DataFrame()"
   ]
  },
  {
   "cell_type": "code",
   "execution_count": 45,
   "metadata": {
    "execution": {
     "iopub.execute_input": "2022-07-18T00:53:21.610000Z",
     "iopub.status.busy": "2022-07-18T00:53:21.610000Z",
     "iopub.status.idle": "2022-07-18T00:53:22.696000Z",
     "shell.execute_reply": "2022-07-18T00:53:22.696000Z"
    }
   },
   "outputs": [],
   "source": [
    "for row in source\n",
    "    push!(df, row, cols=:union) # if cols is :union then promote is true by default\n",
    "end"
   ]
  },
  {
   "cell_type": "code",
   "execution_count": 46,
   "metadata": {
    "execution": {
     "iopub.execute_input": "2022-07-18T00:53:22.699000Z",
     "iopub.status.busy": "2022-07-18T00:53:22.699000Z",
     "iopub.status.idle": "2022-07-18T00:53:22.870000Z",
     "shell.execute_reply": "2022-07-18T00:53:22.870000Z"
    }
   },
   "outputs": [
    {
     "data": {
      "text/html": [
       "<div class=\"data-frame\"><p>3 rows × 4 columns</p><table class=\"data-frame\"><thead><tr><th></th><th>a</th><th>b</th><th>c</th><th>d</th></tr><tr><th></th><th title=\"Union{Missing, Int64}\">Int64?</th><th title=\"Any\">Any</th><th title=\"Union{Missing, Int64}\">Int64?</th><th title=\"Union{Missing, Int64}\">Int64?</th></tr></thead><tbody><tr><th>1</th><td>1</td><td>2</td><td><em>missing</em></td><td><em>missing</em></td></tr><tr><th>2</th><td><em>missing</em></td><td>10</td><td>20</td><td><em>missing</em></td></tr><tr><th>3</th><td><em>missing</em></td><td>s</td><td>1</td><td>1</td></tr></tbody></table></div>"
      ],
      "text/latex": [
       "\\begin{tabular}{r|cccc}\n",
       "\t& a & b & c & d\\\\\n",
       "\t\\hline\n",
       "\t& Int64? & Any & Int64? & Int64?\\\\\n",
       "\t\\hline\n",
       "\t1 & 1 & 2 & \\emph{missing} & \\emph{missing} \\\\\n",
       "\t2 & \\emph{missing} & 10 & 20 & \\emph{missing} \\\\\n",
       "\t3 & \\emph{missing} & s & 1 & 1 \\\\\n",
       "\\end{tabular}\n"
      ],
      "text/plain": [
       "\u001b[1m3×4 DataFrame\u001b[0m\n",
       "\u001b[1m Row \u001b[0m│\u001b[1m a       \u001b[0m\u001b[1m b   \u001b[0m\u001b[1m c       \u001b[0m\u001b[1m d       \u001b[0m\n",
       "\u001b[1m     \u001b[0m│\u001b[90m Int64?  \u001b[0m\u001b[90m Any \u001b[0m\u001b[90m Int64?  \u001b[0m\u001b[90m Int64?  \u001b[0m\n",
       "─────┼────────────────────────────────\n",
       "   1 │       1  2   \u001b[90m missing \u001b[0m\u001b[90m missing \u001b[0m\n",
       "   2 │\u001b[90m missing \u001b[0m 10        20 \u001b[90m missing \u001b[0m\n",
       "   3 │\u001b[90m missing \u001b[0m s          1        1"
      ]
     },
     "execution_count": 46,
     "metadata": {},
     "output_type": "execute_result"
    }
   ],
   "source": [
    "df"
   ]
  },
  {
   "cell_type": "markdown",
   "metadata": {},
   "source": [
    "and we see that `push!` dynamically added columns as needed and updated their element types"
   ]
  },
  {
   "cell_type": "markdown",
   "metadata": {},
   "source": [
    "### Subsetting/removing rows"
   ]
  },
  {
   "cell_type": "code",
   "execution_count": 47,
   "metadata": {
    "execution": {
     "iopub.execute_input": "2022-07-18T00:53:22.874000Z",
     "iopub.status.busy": "2022-07-18T00:53:22.873000Z",
     "iopub.status.idle": "2022-07-18T00:53:23.118000Z",
     "shell.execute_reply": "2022-07-18T00:53:23.117000Z"
    }
   },
   "outputs": [
    {
     "data": {
      "text/html": [
       "<div class=\"data-frame\"><p>10 rows × 2 columns</p><table class=\"data-frame\"><thead><tr><th></th><th>id</th><th>val</th></tr><tr><th></th><th title=\"Int64\">Int64</th><th title=\"Char\">Char</th></tr></thead><tbody><tr><th>1</th><td>1</td><td>a</td></tr><tr><th>2</th><td>2</td><td>b</td></tr><tr><th>3</th><td>3</td><td>c</td></tr><tr><th>4</th><td>4</td><td>d</td></tr><tr><th>5</th><td>5</td><td>e</td></tr><tr><th>6</th><td>6</td><td>f</td></tr><tr><th>7</th><td>7</td><td>g</td></tr><tr><th>8</th><td>8</td><td>h</td></tr><tr><th>9</th><td>9</td><td>i</td></tr><tr><th>10</th><td>10</td><td>j</td></tr></tbody></table></div>"
      ],
      "text/latex": [
       "\\begin{tabular}{r|cc}\n",
       "\t& id & val\\\\\n",
       "\t\\hline\n",
       "\t& Int64 & Char\\\\\n",
       "\t\\hline\n",
       "\t1 & 1 & a \\\\\n",
       "\t2 & 2 & b \\\\\n",
       "\t3 & 3 & c \\\\\n",
       "\t4 & 4 & d \\\\\n",
       "\t5 & 5 & e \\\\\n",
       "\t6 & 6 & f \\\\\n",
       "\t7 & 7 & g \\\\\n",
       "\t8 & 8 & h \\\\\n",
       "\t9 & 9 & i \\\\\n",
       "\t10 & 10 & j \\\\\n",
       "\\end{tabular}\n"
      ],
      "text/plain": [
       "\u001b[1m10×2 DataFrame\u001b[0m\n",
       "\u001b[1m Row \u001b[0m│\u001b[1m id    \u001b[0m\u001b[1m val  \u001b[0m\n",
       "\u001b[1m     \u001b[0m│\u001b[90m Int64 \u001b[0m\u001b[90m Char \u001b[0m\n",
       "─────┼─────────────\n",
       "   1 │     1  a\n",
       "   2 │     2  b\n",
       "   3 │     3  c\n",
       "   4 │     4  d\n",
       "   5 │     5  e\n",
       "   6 │     6  f\n",
       "   7 │     7  g\n",
       "   8 │     8  h\n",
       "   9 │     9  i\n",
       "  10 │    10  j"
      ]
     },
     "execution_count": 47,
     "metadata": {},
     "output_type": "execute_result"
    }
   ],
   "source": [
    "x = DataFrame(id=1:10, val='a':'j')"
   ]
  },
  {
   "cell_type": "markdown",
   "metadata": {},
   "source": [
    "by using indexing"
   ]
  },
  {
   "cell_type": "code",
   "execution_count": 48,
   "metadata": {
    "execution": {
     "iopub.execute_input": "2022-07-18T00:53:23.121000Z",
     "iopub.status.busy": "2022-07-18T00:53:23.121000Z",
     "iopub.status.idle": "2022-07-18T00:53:23.199000Z",
     "shell.execute_reply": "2022-07-18T00:53:23.199000Z"
    }
   },
   "outputs": [
    {
     "data": {
      "text/html": [
       "<div class=\"data-frame\"><p>2 rows × 2 columns</p><table class=\"data-frame\"><thead><tr><th></th><th>id</th><th>val</th></tr><tr><th></th><th title=\"Int64\">Int64</th><th title=\"Char\">Char</th></tr></thead><tbody><tr><th>1</th><td>1</td><td>a</td></tr><tr><th>2</th><td>2</td><td>b</td></tr></tbody></table></div>"
      ],
      "text/latex": [
       "\\begin{tabular}{r|cc}\n",
       "\t& id & val\\\\\n",
       "\t\\hline\n",
       "\t& Int64 & Char\\\\\n",
       "\t\\hline\n",
       "\t1 & 1 & a \\\\\n",
       "\t2 & 2 & b \\\\\n",
       "\\end{tabular}\n"
      ],
      "text/plain": [
       "\u001b[1m2×2 DataFrame\u001b[0m\n",
       "\u001b[1m Row \u001b[0m│\u001b[1m id    \u001b[0m\u001b[1m val  \u001b[0m\n",
       "\u001b[1m     \u001b[0m│\u001b[90m Int64 \u001b[0m\u001b[90m Char \u001b[0m\n",
       "─────┼─────────────\n",
       "   1 │     1  a\n",
       "   2 │     2  b"
      ]
     },
     "execution_count": 48,
     "metadata": {},
     "output_type": "execute_result"
    }
   ],
   "source": [
    "x[1:2, :]"
   ]
  },
  {
   "cell_type": "markdown",
   "metadata": {},
   "source": [
    "a single row selection creates a `DataFrameRow`"
   ]
  },
  {
   "cell_type": "code",
   "execution_count": 49,
   "metadata": {
    "execution": {
     "iopub.execute_input": "2022-07-18T00:53:23.202000Z",
     "iopub.status.busy": "2022-07-18T00:53:23.202000Z",
     "iopub.status.idle": "2022-07-18T00:53:23.263000Z",
     "shell.execute_reply": "2022-07-18T00:53:23.263000Z"
    }
   },
   "outputs": [
    {
     "data": {
      "text/html": [
       "<p>DataFrameRow (2 columns)</p><div class=\"data-frame\"><table class=\"data-frame\"><thead><tr><th></th><th>id</th><th>val</th></tr><tr><th></th><th title=\"Int64\">Int64</th><th title=\"Char\">Char</th></tr></thead><tbody><tr><th>1</th><td>1</td><td>a</td></tr></tbody></table></div>"
      ],
      "text/latex": [
       "\\begin{tabular}{r|cc}\n",
       "\t& id & val\\\\\n",
       "\t\\hline\n",
       "\t& Int64 & Char\\\\\n",
       "\t\\hline\n",
       "\t1 & 1 & a \\\\\n",
       "\\end{tabular}\n"
      ],
      "text/plain": [
       "\u001b[1mDataFrameRow\u001b[0m\n",
       "\u001b[1m Row \u001b[0m│\u001b[1m id    \u001b[0m\u001b[1m val  \u001b[0m\n",
       "\u001b[1m     \u001b[0m│\u001b[90m Int64 \u001b[0m\u001b[90m Char \u001b[0m\n",
       "─────┼─────────────\n",
       "   1 │     1  a"
      ]
     },
     "execution_count": 49,
     "metadata": {},
     "output_type": "execute_result"
    }
   ],
   "source": [
    "x[1, :]"
   ]
  },
  {
   "cell_type": "markdown",
   "metadata": {},
   "source": [
    "but this is a `DataFrame`"
   ]
  },
  {
   "cell_type": "code",
   "execution_count": 50,
   "metadata": {
    "execution": {
     "iopub.execute_input": "2022-07-18T00:53:23.266000Z",
     "iopub.status.busy": "2022-07-18T00:53:23.266000Z",
     "iopub.status.idle": "2022-07-18T00:53:23.268000Z",
     "shell.execute_reply": "2022-07-18T00:53:23.268000Z"
    }
   },
   "outputs": [
    {
     "data": {
      "text/html": [
       "<div class=\"data-frame\"><p>1 rows × 2 columns</p><table class=\"data-frame\"><thead><tr><th></th><th>id</th><th>val</th></tr><tr><th></th><th title=\"Int64\">Int64</th><th title=\"Char\">Char</th></tr></thead><tbody><tr><th>1</th><td>1</td><td>a</td></tr></tbody></table></div>"
      ],
      "text/latex": [
       "\\begin{tabular}{r|cc}\n",
       "\t& id & val\\\\\n",
       "\t\\hline\n",
       "\t& Int64 & Char\\\\\n",
       "\t\\hline\n",
       "\t1 & 1 & a \\\\\n",
       "\\end{tabular}\n"
      ],
      "text/plain": [
       "\u001b[1m1×2 DataFrame\u001b[0m\n",
       "\u001b[1m Row \u001b[0m│\u001b[1m id    \u001b[0m\u001b[1m val  \u001b[0m\n",
       "\u001b[1m     \u001b[0m│\u001b[90m Int64 \u001b[0m\u001b[90m Char \u001b[0m\n",
       "─────┼─────────────\n",
       "   1 │     1  a"
      ]
     },
     "execution_count": 50,
     "metadata": {},
     "output_type": "execute_result"
    }
   ],
   "source": [
    "x[1:1, :]"
   ]
  },
  {
   "cell_type": "markdown",
   "metadata": {},
   "source": [
    "the same but a view"
   ]
  },
  {
   "cell_type": "code",
   "execution_count": 51,
   "metadata": {
    "execution": {
     "iopub.execute_input": "2022-07-18T00:53:23.271000Z",
     "iopub.status.busy": "2022-07-18T00:53:23.270000Z",
     "iopub.status.idle": "2022-07-18T00:53:24.826000Z",
     "shell.execute_reply": "2022-07-18T00:53:24.826000Z"
    }
   },
   "outputs": [
    {
     "data": {
      "text/html": [
       "<div class=\"data-frame\"><p>2 rows × 2 columns</p><table class=\"data-frame\"><thead><tr><th></th><th>id</th><th>val</th></tr><tr><th></th><th title=\"Int64\">Int64</th><th title=\"Char\">Char</th></tr></thead><tbody><tr><th>1</th><td>1</td><td>a</td></tr><tr><th>2</th><td>2</td><td>b</td></tr></tbody></table></div>"
      ],
      "text/latex": [
       "\\begin{tabular}{r|cc}\n",
       "\t& id & val\\\\\n",
       "\t\\hline\n",
       "\t& Int64 & Char\\\\\n",
       "\t\\hline\n",
       "\t1 & 1 & a \\\\\n",
       "\t2 & 2 & b \\\\\n",
       "\\end{tabular}\n"
      ],
      "text/plain": [
       "\u001b[1m2×2 SubDataFrame\u001b[0m\n",
       "\u001b[1m Row \u001b[0m│\u001b[1m id    \u001b[0m\u001b[1m val  \u001b[0m\n",
       "\u001b[1m     \u001b[0m│\u001b[90m Int64 \u001b[0m\u001b[90m Char \u001b[0m\n",
       "─────┼─────────────\n",
       "   1 │     1  a\n",
       "   2 │     2  b"
      ]
     },
     "execution_count": 51,
     "metadata": {},
     "output_type": "execute_result"
    }
   ],
   "source": [
    "view(x, 1:2, :)"
   ]
  },
  {
   "cell_type": "markdown",
   "metadata": {},
   "source": [
    "selects columns 1 and 2"
   ]
  },
  {
   "cell_type": "code",
   "execution_count": 52,
   "metadata": {
    "execution": {
     "iopub.execute_input": "2022-07-18T00:53:24.830000Z",
     "iopub.status.busy": "2022-07-18T00:53:24.830000Z",
     "iopub.status.idle": "2022-07-18T00:53:26.746000Z",
     "shell.execute_reply": "2022-07-18T00:53:26.746000Z"
    }
   },
   "outputs": [
    {
     "data": {
      "text/html": [
       "<div class=\"data-frame\"><p>10 rows × 2 columns</p><table class=\"data-frame\"><thead><tr><th></th><th>id</th><th>val</th></tr><tr><th></th><th title=\"Int64\">Int64</th><th title=\"Char\">Char</th></tr></thead><tbody><tr><th>1</th><td>1</td><td>a</td></tr><tr><th>2</th><td>2</td><td>b</td></tr><tr><th>3</th><td>3</td><td>c</td></tr><tr><th>4</th><td>4</td><td>d</td></tr><tr><th>5</th><td>5</td><td>e</td></tr><tr><th>6</th><td>6</td><td>f</td></tr><tr><th>7</th><td>7</td><td>g</td></tr><tr><th>8</th><td>8</td><td>h</td></tr><tr><th>9</th><td>9</td><td>i</td></tr><tr><th>10</th><td>10</td><td>j</td></tr></tbody></table></div>"
      ],
      "text/latex": [
       "\\begin{tabular}{r|cc}\n",
       "\t& id & val\\\\\n",
       "\t\\hline\n",
       "\t& Int64 & Char\\\\\n",
       "\t\\hline\n",
       "\t1 & 1 & a \\\\\n",
       "\t2 & 2 & b \\\\\n",
       "\t3 & 3 & c \\\\\n",
       "\t4 & 4 & d \\\\\n",
       "\t5 & 5 & e \\\\\n",
       "\t6 & 6 & f \\\\\n",
       "\t7 & 7 & g \\\\\n",
       "\t8 & 8 & h \\\\\n",
       "\t9 & 9 & i \\\\\n",
       "\t10 & 10 & j \\\\\n",
       "\\end{tabular}\n"
      ],
      "text/plain": [
       "\u001b[1m10×2 SubDataFrame\u001b[0m\n",
       "\u001b[1m Row \u001b[0m│\u001b[1m id    \u001b[0m\u001b[1m val  \u001b[0m\n",
       "\u001b[1m     \u001b[0m│\u001b[90m Int64 \u001b[0m\u001b[90m Char \u001b[0m\n",
       "─────┼─────────────\n",
       "   1 │     1  a\n",
       "   2 │     2  b\n",
       "   3 │     3  c\n",
       "   4 │     4  d\n",
       "   5 │     5  e\n",
       "   6 │     6  f\n",
       "   7 │     7  g\n",
       "   8 │     8  h\n",
       "   9 │     9  i\n",
       "  10 │    10  j"
      ]
     },
     "execution_count": 52,
     "metadata": {},
     "output_type": "execute_result"
    }
   ],
   "source": [
    "view(x, :, 1:2)"
   ]
  },
  {
   "cell_type": "markdown",
   "metadata": {},
   "source": [
    "indexing by `Bool`, exact length math is required"
   ]
  },
  {
   "cell_type": "code",
   "execution_count": 53,
   "metadata": {
    "execution": {
     "iopub.execute_input": "2022-07-18T00:53:26.749000Z",
     "iopub.status.busy": "2022-07-18T00:53:26.749000Z",
     "iopub.status.idle": "2022-07-18T00:53:26.885000Z",
     "shell.execute_reply": "2022-07-18T00:53:26.884000Z"
    }
   },
   "outputs": [
    {
     "data": {
      "text/html": [
       "<div class=\"data-frame\"><p>5 rows × 2 columns</p><table class=\"data-frame\"><thead><tr><th></th><th>id</th><th>val</th></tr><tr><th></th><th title=\"Int64\">Int64</th><th title=\"Char\">Char</th></tr></thead><tbody><tr><th>1</th><td>1</td><td>a</td></tr><tr><th>2</th><td>3</td><td>c</td></tr><tr><th>3</th><td>5</td><td>e</td></tr><tr><th>4</th><td>7</td><td>g</td></tr><tr><th>5</th><td>9</td><td>i</td></tr></tbody></table></div>"
      ],
      "text/latex": [
       "\\begin{tabular}{r|cc}\n",
       "\t& id & val\\\\\n",
       "\t\\hline\n",
       "\t& Int64 & Char\\\\\n",
       "\t\\hline\n",
       "\t1 & 1 & a \\\\\n",
       "\t2 & 3 & c \\\\\n",
       "\t3 & 5 & e \\\\\n",
       "\t4 & 7 & g \\\\\n",
       "\t5 & 9 & i \\\\\n",
       "\\end{tabular}\n"
      ],
      "text/plain": [
       "\u001b[1m5×2 DataFrame\u001b[0m\n",
       "\u001b[1m Row \u001b[0m│\u001b[1m id    \u001b[0m\u001b[1m val  \u001b[0m\n",
       "\u001b[1m     \u001b[0m│\u001b[90m Int64 \u001b[0m\u001b[90m Char \u001b[0m\n",
       "─────┼─────────────\n",
       "   1 │     1  a\n",
       "   2 │     3  c\n",
       "   3 │     5  e\n",
       "   4 │     7  g\n",
       "   5 │     9  i"
      ]
     },
     "execution_count": 53,
     "metadata": {},
     "output_type": "execute_result"
    }
   ],
   "source": [
    "x[repeat([true, false], 5), :]"
   ]
  },
  {
   "cell_type": "markdown",
   "metadata": {},
   "source": [
    "alternatively we can also create a view"
   ]
  },
  {
   "cell_type": "code",
   "execution_count": 54,
   "metadata": {
    "execution": {
     "iopub.execute_input": "2022-07-18T00:53:26.888000Z",
     "iopub.status.busy": "2022-07-18T00:53:26.888000Z",
     "iopub.status.idle": "2022-07-18T00:53:26.921000Z",
     "shell.execute_reply": "2022-07-18T00:53:26.921000Z"
    }
   },
   "outputs": [
    {
     "data": {
      "text/html": [
       "<div class=\"data-frame\"><p>5 rows × 2 columns</p><table class=\"data-frame\"><thead><tr><th></th><th>id</th><th>val</th></tr><tr><th></th><th title=\"Int64\">Int64</th><th title=\"Char\">Char</th></tr></thead><tbody><tr><th>1</th><td>1</td><td>a</td></tr><tr><th>2</th><td>3</td><td>c</td></tr><tr><th>3</th><td>5</td><td>e</td></tr><tr><th>4</th><td>7</td><td>g</td></tr><tr><th>5</th><td>9</td><td>i</td></tr></tbody></table></div>"
      ],
      "text/latex": [
       "\\begin{tabular}{r|cc}\n",
       "\t& id & val\\\\\n",
       "\t\\hline\n",
       "\t& Int64 & Char\\\\\n",
       "\t\\hline\n",
       "\t1 & 1 & a \\\\\n",
       "\t2 & 3 & c \\\\\n",
       "\t3 & 5 & e \\\\\n",
       "\t4 & 7 & g \\\\\n",
       "\t5 & 9 & i \\\\\n",
       "\\end{tabular}\n"
      ],
      "text/plain": [
       "\u001b[1m5×2 SubDataFrame\u001b[0m\n",
       "\u001b[1m Row \u001b[0m│\u001b[1m id    \u001b[0m\u001b[1m val  \u001b[0m\n",
       "\u001b[1m     \u001b[0m│\u001b[90m Int64 \u001b[0m\u001b[90m Char \u001b[0m\n",
       "─────┼─────────────\n",
       "   1 │     1  a\n",
       "   2 │     3  c\n",
       "   3 │     5  e\n",
       "   4 │     7  g\n",
       "   5 │     9  i"
      ]
     },
     "execution_count": 54,
     "metadata": {},
     "output_type": "execute_result"
    }
   ],
   "source": [
    "view(x, repeat([true, false], 5), :)"
   ]
  },
  {
   "cell_type": "markdown",
   "metadata": {},
   "source": [
    "we can delete one row in place"
   ]
  },
  {
   "cell_type": "code",
   "execution_count": 55,
   "metadata": {
    "execution": {
     "iopub.execute_input": "2022-07-18T00:53:26.924000Z",
     "iopub.status.busy": "2022-07-18T00:53:26.924000Z",
     "iopub.status.idle": "2022-07-18T00:53:26.972000Z",
     "shell.execute_reply": "2022-07-18T00:53:26.972000Z"
    }
   },
   "outputs": [
    {
     "data": {
      "text/html": [
       "<div class=\"data-frame\"><p>9 rows × 2 columns</p><table class=\"data-frame\"><thead><tr><th></th><th>id</th><th>val</th></tr><tr><th></th><th title=\"Int64\">Int64</th><th title=\"Char\">Char</th></tr></thead><tbody><tr><th>1</th><td>1</td><td>a</td></tr><tr><th>2</th><td>2</td><td>b</td></tr><tr><th>3</th><td>3</td><td>c</td></tr><tr><th>4</th><td>4</td><td>d</td></tr><tr><th>5</th><td>5</td><td>e</td></tr><tr><th>6</th><td>6</td><td>f</td></tr><tr><th>7</th><td>8</td><td>h</td></tr><tr><th>8</th><td>9</td><td>i</td></tr><tr><th>9</th><td>10</td><td>j</td></tr></tbody></table></div>"
      ],
      "text/latex": [
       "\\begin{tabular}{r|cc}\n",
       "\t& id & val\\\\\n",
       "\t\\hline\n",
       "\t& Int64 & Char\\\\\n",
       "\t\\hline\n",
       "\t1 & 1 & a \\\\\n",
       "\t2 & 2 & b \\\\\n",
       "\t3 & 3 & c \\\\\n",
       "\t4 & 4 & d \\\\\n",
       "\t5 & 5 & e \\\\\n",
       "\t6 & 6 & f \\\\\n",
       "\t7 & 8 & h \\\\\n",
       "\t8 & 9 & i \\\\\n",
       "\t9 & 10 & j \\\\\n",
       "\\end{tabular}\n"
      ],
      "text/plain": [
       "\u001b[1m9×2 DataFrame\u001b[0m\n",
       "\u001b[1m Row \u001b[0m│\u001b[1m id    \u001b[0m\u001b[1m val  \u001b[0m\n",
       "\u001b[1m     \u001b[0m│\u001b[90m Int64 \u001b[0m\u001b[90m Char \u001b[0m\n",
       "─────┼─────────────\n",
       "   1 │     1  a\n",
       "   2 │     2  b\n",
       "   3 │     3  c\n",
       "   4 │     4  d\n",
       "   5 │     5  e\n",
       "   6 │     6  f\n",
       "   7 │     8  h\n",
       "   8 │     9  i\n",
       "   9 │    10  j"
      ]
     },
     "execution_count": 55,
     "metadata": {},
     "output_type": "execute_result"
    }
   ],
   "source": [
    "deleteat!(x, 7)"
   ]
  },
  {
   "cell_type": "markdown",
   "metadata": {},
   "source": [
    "or a collection of rows, also in place"
   ]
  },
  {
   "cell_type": "code",
   "execution_count": 56,
   "metadata": {
    "execution": {
     "iopub.execute_input": "2022-07-18T00:53:26.975000Z",
     "iopub.status.busy": "2022-07-18T00:53:26.975000Z",
     "iopub.status.idle": "2022-07-18T00:53:27.029000Z",
     "shell.execute_reply": "2022-07-18T00:53:27.029000Z"
    }
   },
   "outputs": [
    {
     "data": {
      "text/html": [
       "<div class=\"data-frame\"><p>7 rows × 2 columns</p><table class=\"data-frame\"><thead><tr><th></th><th>id</th><th>val</th></tr><tr><th></th><th title=\"Int64\">Int64</th><th title=\"Char\">Char</th></tr></thead><tbody><tr><th>1</th><td>1</td><td>a</td></tr><tr><th>2</th><td>2</td><td>b</td></tr><tr><th>3</th><td>3</td><td>c</td></tr><tr><th>4</th><td>4</td><td>d</td></tr><tr><th>5</th><td>5</td><td>e</td></tr><tr><th>6</th><td>9</td><td>i</td></tr><tr><th>7</th><td>10</td><td>j</td></tr></tbody></table></div>"
      ],
      "text/latex": [
       "\\begin{tabular}{r|cc}\n",
       "\t& id & val\\\\\n",
       "\t\\hline\n",
       "\t& Int64 & Char\\\\\n",
       "\t\\hline\n",
       "\t1 & 1 & a \\\\\n",
       "\t2 & 2 & b \\\\\n",
       "\t3 & 3 & c \\\\\n",
       "\t4 & 4 & d \\\\\n",
       "\t5 & 5 & e \\\\\n",
       "\t6 & 9 & i \\\\\n",
       "\t7 & 10 & j \\\\\n",
       "\\end{tabular}\n"
      ],
      "text/plain": [
       "\u001b[1m7×2 DataFrame\u001b[0m\n",
       "\u001b[1m Row \u001b[0m│\u001b[1m id    \u001b[0m\u001b[1m val  \u001b[0m\n",
       "\u001b[1m     \u001b[0m│\u001b[90m Int64 \u001b[0m\u001b[90m Char \u001b[0m\n",
       "─────┼─────────────\n",
       "   1 │     1  a\n",
       "   2 │     2  b\n",
       "   3 │     3  c\n",
       "   4 │     4  d\n",
       "   5 │     5  e\n",
       "   6 │     9  i\n",
       "   7 │    10  j"
      ]
     },
     "execution_count": 56,
     "metadata": {},
     "output_type": "execute_result"
    }
   ],
   "source": [
    "deleteat!(x, 6:7)"
   ]
  },
  {
   "cell_type": "markdown",
   "metadata": {},
   "source": [
    "you can also create a new `DataFrame` when deleting rows using `Not` indexing"
   ]
  },
  {
   "cell_type": "code",
   "execution_count": 57,
   "metadata": {
    "execution": {
     "iopub.execute_input": "2022-07-18T00:53:27.032000Z",
     "iopub.status.busy": "2022-07-18T00:53:27.032000Z",
     "iopub.status.idle": "2022-07-18T00:53:27.133000Z",
     "shell.execute_reply": "2022-07-18T00:53:27.133000Z"
    }
   },
   "outputs": [
    {
     "data": {
      "text/html": [
       "<div class=\"data-frame\"><p>5 rows × 2 columns</p><table class=\"data-frame\"><thead><tr><th></th><th>id</th><th>val</th></tr><tr><th></th><th title=\"Int64\">Int64</th><th title=\"Char\">Char</th></tr></thead><tbody><tr><th>1</th><td>3</td><td>c</td></tr><tr><th>2</th><td>4</td><td>d</td></tr><tr><th>3</th><td>5</td><td>e</td></tr><tr><th>4</th><td>9</td><td>i</td></tr><tr><th>5</th><td>10</td><td>j</td></tr></tbody></table></div>"
      ],
      "text/latex": [
       "\\begin{tabular}{r|cc}\n",
       "\t& id & val\\\\\n",
       "\t\\hline\n",
       "\t& Int64 & Char\\\\\n",
       "\t\\hline\n",
       "\t1 & 3 & c \\\\\n",
       "\t2 & 4 & d \\\\\n",
       "\t3 & 5 & e \\\\\n",
       "\t4 & 9 & i \\\\\n",
       "\t5 & 10 & j \\\\\n",
       "\\end{tabular}\n"
      ],
      "text/plain": [
       "\u001b[1m5×2 DataFrame\u001b[0m\n",
       "\u001b[1m Row \u001b[0m│\u001b[1m id    \u001b[0m\u001b[1m val  \u001b[0m\n",
       "\u001b[1m     \u001b[0m│\u001b[90m Int64 \u001b[0m\u001b[90m Char \u001b[0m\n",
       "─────┼─────────────\n",
       "   1 │     3  c\n",
       "   2 │     4  d\n",
       "   3 │     5  e\n",
       "   4 │     9  i\n",
       "   5 │    10  j"
      ]
     },
     "execution_count": 57,
     "metadata": {},
     "output_type": "execute_result"
    }
   ],
   "source": [
    "x[Not(1:2), :]"
   ]
  },
  {
   "cell_type": "code",
   "execution_count": 58,
   "metadata": {
    "execution": {
     "iopub.execute_input": "2022-07-18T00:53:27.136000Z",
     "iopub.status.busy": "2022-07-18T00:53:27.136000Z",
     "iopub.status.idle": "2022-07-18T00:53:27.138000Z",
     "shell.execute_reply": "2022-07-18T00:53:27.137000Z"
    }
   },
   "outputs": [
    {
     "data": {
      "text/html": [
       "<div class=\"data-frame\"><p>7 rows × 2 columns</p><table class=\"data-frame\"><thead><tr><th></th><th>id</th><th>val</th></tr><tr><th></th><th title=\"Int64\">Int64</th><th title=\"Char\">Char</th></tr></thead><tbody><tr><th>1</th><td>1</td><td>a</td></tr><tr><th>2</th><td>2</td><td>b</td></tr><tr><th>3</th><td>3</td><td>c</td></tr><tr><th>4</th><td>4</td><td>d</td></tr><tr><th>5</th><td>5</td><td>e</td></tr><tr><th>6</th><td>9</td><td>i</td></tr><tr><th>7</th><td>10</td><td>j</td></tr></tbody></table></div>"
      ],
      "text/latex": [
       "\\begin{tabular}{r|cc}\n",
       "\t& id & val\\\\\n",
       "\t\\hline\n",
       "\t& Int64 & Char\\\\\n",
       "\t\\hline\n",
       "\t1 & 1 & a \\\\\n",
       "\t2 & 2 & b \\\\\n",
       "\t3 & 3 & c \\\\\n",
       "\t4 & 4 & d \\\\\n",
       "\t5 & 5 & e \\\\\n",
       "\t6 & 9 & i \\\\\n",
       "\t7 & 10 & j \\\\\n",
       "\\end{tabular}\n"
      ],
      "text/plain": [
       "\u001b[1m7×2 DataFrame\u001b[0m\n",
       "\u001b[1m Row \u001b[0m│\u001b[1m id    \u001b[0m\u001b[1m val  \u001b[0m\n",
       "\u001b[1m     \u001b[0m│\u001b[90m Int64 \u001b[0m\u001b[90m Char \u001b[0m\n",
       "─────┼─────────────\n",
       "   1 │     1  a\n",
       "   2 │     2  b\n",
       "   3 │     3  c\n",
       "   4 │     4  d\n",
       "   5 │     5  e\n",
       "   6 │     9  i\n",
       "   7 │    10  j"
      ]
     },
     "execution_count": 58,
     "metadata": {},
     "output_type": "execute_result"
    }
   ],
   "source": [
    "x"
   ]
  },
  {
   "cell_type": "markdown",
   "metadata": {},
   "source": [
    "now we move to row filtering"
   ]
  },
  {
   "cell_type": "code",
   "execution_count": 59,
   "metadata": {
    "execution": {
     "iopub.execute_input": "2022-07-18T00:53:27.140000Z",
     "iopub.status.busy": "2022-07-18T00:53:27.140000Z",
     "iopub.status.idle": "2022-07-18T00:53:27.211000Z",
     "shell.execute_reply": "2022-07-18T00:53:27.211000Z"
    }
   },
   "outputs": [
    {
     "data": {
      "text/html": [
       "<div class=\"data-frame\"><p>4 rows × 3 columns</p><table class=\"data-frame\"><thead><tr><th></th><th>x1</th><th>x2</th><th>x3</th></tr><tr><th></th><th title=\"Int64\">Int64</th><th title=\"Int64\">Int64</th><th title=\"Int64\">Int64</th></tr></thead><tbody><tr><th>1</th><td>1</td><td>2</td><td>3</td></tr><tr><th>2</th><td>2</td><td>3</td><td>4</td></tr><tr><th>3</th><td>3</td><td>4</td><td>5</td></tr><tr><th>4</th><td>4</td><td>5</td><td>6</td></tr></tbody></table></div>"
      ],
      "text/latex": [
       "\\begin{tabular}{r|ccc}\n",
       "\t& x1 & x2 & x3\\\\\n",
       "\t\\hline\n",
       "\t& Int64 & Int64 & Int64\\\\\n",
       "\t\\hline\n",
       "\t1 & 1 & 2 & 3 \\\\\n",
       "\t2 & 2 & 3 & 4 \\\\\n",
       "\t3 & 3 & 4 & 5 \\\\\n",
       "\t4 & 4 & 5 & 6 \\\\\n",
       "\\end{tabular}\n"
      ],
      "text/plain": [
       "\u001b[1m4×3 DataFrame\u001b[0m\n",
       "\u001b[1m Row \u001b[0m│\u001b[1m x1    \u001b[0m\u001b[1m x2    \u001b[0m\u001b[1m x3    \u001b[0m\n",
       "\u001b[1m     \u001b[0m│\u001b[90m Int64 \u001b[0m\u001b[90m Int64 \u001b[0m\u001b[90m Int64 \u001b[0m\n",
       "─────┼─────────────────────\n",
       "   1 │     1      2      3\n",
       "   2 │     2      3      4\n",
       "   3 │     3      4      5\n",
       "   4 │     4      5      6"
      ]
     },
     "execution_count": 59,
     "metadata": {},
     "output_type": "execute_result"
    }
   ],
   "source": [
    "x = DataFrame([1:4, 2:5, 3:6], :auto)"
   ]
  },
  {
   "cell_type": "markdown",
   "metadata": {},
   "source": [
    "create a new `DataFrame` where filtering function operates on `DataFrameRow`"
   ]
  },
  {
   "cell_type": "code",
   "execution_count": 60,
   "metadata": {
    "execution": {
     "iopub.execute_input": "2022-07-18T00:53:27.214000Z",
     "iopub.status.busy": "2022-07-18T00:53:27.214000Z",
     "iopub.status.idle": "2022-07-18T00:53:27.577000Z",
     "shell.execute_reply": "2022-07-18T00:53:27.577000Z"
    }
   },
   "outputs": [
    {
     "data": {
      "text/html": [
       "<div class=\"data-frame\"><p>2 rows × 3 columns</p><table class=\"data-frame\"><thead><tr><th></th><th>x1</th><th>x2</th><th>x3</th></tr><tr><th></th><th title=\"Int64\">Int64</th><th title=\"Int64\">Int64</th><th title=\"Int64\">Int64</th></tr></thead><tbody><tr><th>1</th><td>3</td><td>4</td><td>5</td></tr><tr><th>2</th><td>4</td><td>5</td><td>6</td></tr></tbody></table></div>"
      ],
      "text/latex": [
       "\\begin{tabular}{r|ccc}\n",
       "\t& x1 & x2 & x3\\\\\n",
       "\t\\hline\n",
       "\t& Int64 & Int64 & Int64\\\\\n",
       "\t\\hline\n",
       "\t1 & 3 & 4 & 5 \\\\\n",
       "\t2 & 4 & 5 & 6 \\\\\n",
       "\\end{tabular}\n"
      ],
      "text/plain": [
       "\u001b[1m2×3 DataFrame\u001b[0m\n",
       "\u001b[1m Row \u001b[0m│\u001b[1m x1    \u001b[0m\u001b[1m x2    \u001b[0m\u001b[1m x3    \u001b[0m\n",
       "\u001b[1m     \u001b[0m│\u001b[90m Int64 \u001b[0m\u001b[90m Int64 \u001b[0m\u001b[90m Int64 \u001b[0m\n",
       "─────┼─────────────────────\n",
       "   1 │     3      4      5\n",
       "   2 │     4      5      6"
      ]
     },
     "execution_count": 60,
     "metadata": {},
     "output_type": "execute_result"
    }
   ],
   "source": [
    "filter(r -> r.x1 > 2.5, x)"
   ]
  },
  {
   "cell_type": "code",
   "execution_count": 61,
   "metadata": {
    "execution": {
     "iopub.execute_input": "2022-07-18T00:53:27.580000Z",
     "iopub.status.busy": "2022-07-18T00:53:27.580000Z",
     "iopub.status.idle": "2022-07-18T00:53:27.691000Z",
     "shell.execute_reply": "2022-07-18T00:53:27.690000Z"
    }
   },
   "outputs": [
    {
     "data": {
      "text/html": [
       "<div class=\"data-frame\"><p>2 rows × 3 columns</p><table class=\"data-frame\"><thead><tr><th></th><th>x1</th><th>x2</th><th>x3</th></tr><tr><th></th><th title=\"Int64\">Int64</th><th title=\"Int64\">Int64</th><th title=\"Int64\">Int64</th></tr></thead><tbody><tr><th>1</th><td>3</td><td>4</td><td>5</td></tr><tr><th>2</th><td>4</td><td>5</td><td>6</td></tr></tbody></table></div>"
      ],
      "text/latex": [
       "\\begin{tabular}{r|ccc}\n",
       "\t& x1 & x2 & x3\\\\\n",
       "\t\\hline\n",
       "\t& Int64 & Int64 & Int64\\\\\n",
       "\t\\hline\n",
       "\t1 & 3 & 4 & 5 \\\\\n",
       "\t2 & 4 & 5 & 6 \\\\\n",
       "\\end{tabular}\n"
      ],
      "text/plain": [
       "\u001b[1m2×3 SubDataFrame\u001b[0m\n",
       "\u001b[1m Row \u001b[0m│\u001b[1m x1    \u001b[0m\u001b[1m x2    \u001b[0m\u001b[1m x3    \u001b[0m\n",
       "\u001b[1m     \u001b[0m│\u001b[90m Int64 \u001b[0m\u001b[90m Int64 \u001b[0m\u001b[90m Int64 \u001b[0m\n",
       "─────┼─────────────────────\n",
       "   1 │     3      4      5\n",
       "   2 │     4      5      6"
      ]
     },
     "execution_count": 61,
     "metadata": {},
     "output_type": "execute_result"
    }
   ],
   "source": [
    "filter(r -> r.x1 > 2.5, x, view=true) # the same but as a view"
   ]
  },
  {
   "cell_type": "markdown",
   "metadata": {},
   "source": [
    "or"
   ]
  },
  {
   "cell_type": "code",
   "execution_count": 62,
   "metadata": {
    "execution": {
     "iopub.execute_input": "2022-07-18T00:53:27.694000Z",
     "iopub.status.busy": "2022-07-18T00:53:27.694000Z",
     "iopub.status.idle": "2022-07-18T00:53:27.937000Z",
     "shell.execute_reply": "2022-07-18T00:53:27.937000Z"
    }
   },
   "outputs": [
    {
     "data": {
      "text/html": [
       "<div class=\"data-frame\"><p>2 rows × 3 columns</p><table class=\"data-frame\"><thead><tr><th></th><th>x1</th><th>x2</th><th>x3</th></tr><tr><th></th><th title=\"Int64\">Int64</th><th title=\"Int64\">Int64</th><th title=\"Int64\">Int64</th></tr></thead><tbody><tr><th>1</th><td>3</td><td>4</td><td>5</td></tr><tr><th>2</th><td>4</td><td>5</td><td>6</td></tr></tbody></table></div>"
      ],
      "text/latex": [
       "\\begin{tabular}{r|ccc}\n",
       "\t& x1 & x2 & x3\\\\\n",
       "\t\\hline\n",
       "\t& Int64 & Int64 & Int64\\\\\n",
       "\t\\hline\n",
       "\t1 & 3 & 4 & 5 \\\\\n",
       "\t2 & 4 & 5 & 6 \\\\\n",
       "\\end{tabular}\n"
      ],
      "text/plain": [
       "\u001b[1m2×3 DataFrame\u001b[0m\n",
       "\u001b[1m Row \u001b[0m│\u001b[1m x1    \u001b[0m\u001b[1m x2    \u001b[0m\u001b[1m x3    \u001b[0m\n",
       "\u001b[1m     \u001b[0m│\u001b[90m Int64 \u001b[0m\u001b[90m Int64 \u001b[0m\u001b[90m Int64 \u001b[0m\n",
       "─────┼─────────────────────\n",
       "   1 │     3      4      5\n",
       "   2 │     4      5      6"
      ]
     },
     "execution_count": 62,
     "metadata": {},
     "output_type": "execute_result"
    }
   ],
   "source": [
    "filter(:x1 => >(2.5), x)"
   ]
  },
  {
   "cell_type": "markdown",
   "metadata": {},
   "source": [
    "in place modification of `x`, an example with `do`-block syntax"
   ]
  },
  {
   "cell_type": "code",
   "execution_count": 63,
   "metadata": {
    "execution": {
     "iopub.execute_input": "2022-07-18T00:53:27.941000Z",
     "iopub.status.busy": "2022-07-18T00:53:27.940000Z",
     "iopub.status.idle": "2022-07-18T00:53:28.212000Z",
     "shell.execute_reply": "2022-07-18T00:53:28.211000Z"
    }
   },
   "outputs": [
    {
     "data": {
      "text/html": [
       "<div class=\"data-frame\"><p>2 rows × 3 columns</p><table class=\"data-frame\"><thead><tr><th></th><th>x1</th><th>x2</th><th>x3</th></tr><tr><th></th><th title=\"Int64\">Int64</th><th title=\"Int64\">Int64</th><th title=\"Int64\">Int64</th></tr></thead><tbody><tr><th>1</th><td>1</td><td>2</td><td>3</td></tr><tr><th>2</th><td>3</td><td>4</td><td>5</td></tr></tbody></table></div>"
      ],
      "text/latex": [
       "\\begin{tabular}{r|ccc}\n",
       "\t& x1 & x2 & x3\\\\\n",
       "\t\\hline\n",
       "\t& Int64 & Int64 & Int64\\\\\n",
       "\t\\hline\n",
       "\t1 & 1 & 2 & 3 \\\\\n",
       "\t2 & 3 & 4 & 5 \\\\\n",
       "\\end{tabular}\n"
      ],
      "text/plain": [
       "\u001b[1m2×3 DataFrame\u001b[0m\n",
       "\u001b[1m Row \u001b[0m│\u001b[1m x1    \u001b[0m\u001b[1m x2    \u001b[0m\u001b[1m x3    \u001b[0m\n",
       "\u001b[1m     \u001b[0m│\u001b[90m Int64 \u001b[0m\u001b[90m Int64 \u001b[0m\u001b[90m Int64 \u001b[0m\n",
       "─────┼─────────────────────\n",
       "   1 │     1      2      3\n",
       "   2 │     3      4      5"
      ]
     },
     "execution_count": 63,
     "metadata": {},
     "output_type": "execute_result"
    }
   ],
   "source": [
    "filter!(x) do r\n",
    "    if r.x1 > 2.5\n",
    "        return r.x2 < 4.5\n",
    "    end\n",
    "    r.x3 < 3.5\n",
    "end"
   ]
  },
  {
   "cell_type": "markdown",
   "metadata": {},
   "source": [
    "A common operation is selection of rows for which a value in a column is contained in a given set. Here are a few ways in which you can achieve this."
   ]
  },
  {
   "cell_type": "code",
   "execution_count": 64,
   "metadata": {
    "execution": {
     "iopub.execute_input": "2022-07-18T00:53:28.215000Z",
     "iopub.status.busy": "2022-07-18T00:53:28.215000Z",
     "iopub.status.idle": "2022-07-18T00:53:28.329000Z",
     "shell.execute_reply": "2022-07-18T00:53:28.329000Z"
    }
   },
   "outputs": [
    {
     "data": {
      "text/html": [
       "<div class=\"data-frame\"><p>12 rows × 2 columns</p><table class=\"data-frame\"><thead><tr><th></th><th>x</th><th>y</th></tr><tr><th></th><th title=\"Int64\">Int64</th><th title=\"Int64\">Int64</th></tr></thead><tbody><tr><th>1</th><td>1</td><td>1</td></tr><tr><th>2</th><td>2</td><td>2</td></tr><tr><th>3</th><td>3</td><td>3</td></tr><tr><th>4</th><td>4</td><td>4</td></tr><tr><th>5</th><td>5</td><td>1</td></tr><tr><th>6</th><td>6</td><td>2</td></tr><tr><th>7</th><td>7</td><td>3</td></tr><tr><th>8</th><td>8</td><td>4</td></tr><tr><th>9</th><td>9</td><td>1</td></tr><tr><th>10</th><td>10</td><td>2</td></tr><tr><th>11</th><td>11</td><td>3</td></tr><tr><th>12</th><td>12</td><td>4</td></tr></tbody></table></div>"
      ],
      "text/latex": [
       "\\begin{tabular}{r|cc}\n",
       "\t& x & y\\\\\n",
       "\t\\hline\n",
       "\t& Int64 & Int64\\\\\n",
       "\t\\hline\n",
       "\t1 & 1 & 1 \\\\\n",
       "\t2 & 2 & 2 \\\\\n",
       "\t3 & 3 & 3 \\\\\n",
       "\t4 & 4 & 4 \\\\\n",
       "\t5 & 5 & 1 \\\\\n",
       "\t6 & 6 & 2 \\\\\n",
       "\t7 & 7 & 3 \\\\\n",
       "\t8 & 8 & 4 \\\\\n",
       "\t9 & 9 & 1 \\\\\n",
       "\t10 & 10 & 2 \\\\\n",
       "\t11 & 11 & 3 \\\\\n",
       "\t12 & 12 & 4 \\\\\n",
       "\\end{tabular}\n"
      ],
      "text/plain": [
       "\u001b[1m12×2 DataFrame\u001b[0m\n",
       "\u001b[1m Row \u001b[0m│\u001b[1m x     \u001b[0m\u001b[1m y     \u001b[0m\n",
       "\u001b[1m     \u001b[0m│\u001b[90m Int64 \u001b[0m\u001b[90m Int64 \u001b[0m\n",
       "─────┼──────────────\n",
       "   1 │     1      1\n",
       "   2 │     2      2\n",
       "   3 │     3      3\n",
       "   4 │     4      4\n",
       "   5 │     5      1\n",
       "   6 │     6      2\n",
       "   7 │     7      3\n",
       "   8 │     8      4\n",
       "   9 │     9      1\n",
       "  10 │    10      2\n",
       "  11 │    11      3\n",
       "  12 │    12      4"
      ]
     },
     "execution_count": 64,
     "metadata": {},
     "output_type": "execute_result"
    }
   ],
   "source": [
    "df = DataFrame(x=1:12, y=mod1.(1:12, 4))"
   ]
  },
  {
   "cell_type": "markdown",
   "metadata": {},
   "source": [
    "We select rows for which column `y` has value `1` or `4`."
   ]
  },
  {
   "cell_type": "code",
   "execution_count": 65,
   "metadata": {
    "execution": {
     "iopub.execute_input": "2022-07-18T00:53:28.333000Z",
     "iopub.status.busy": "2022-07-18T00:53:28.332000Z",
     "iopub.status.idle": "2022-07-18T00:53:28.466000Z",
     "shell.execute_reply": "2022-07-18T00:53:28.466000Z"
    }
   },
   "outputs": [
    {
     "data": {
      "text/html": [
       "<div class=\"data-frame\"><p>6 rows × 2 columns</p><table class=\"data-frame\"><thead><tr><th></th><th>x</th><th>y</th></tr><tr><th></th><th title=\"Int64\">Int64</th><th title=\"Int64\">Int64</th></tr></thead><tbody><tr><th>1</th><td>1</td><td>1</td></tr><tr><th>2</th><td>4</td><td>4</td></tr><tr><th>3</th><td>5</td><td>1</td></tr><tr><th>4</th><td>8</td><td>4</td></tr><tr><th>5</th><td>9</td><td>1</td></tr><tr><th>6</th><td>12</td><td>4</td></tr></tbody></table></div>"
      ],
      "text/latex": [
       "\\begin{tabular}{r|cc}\n",
       "\t& x & y\\\\\n",
       "\t\\hline\n",
       "\t& Int64 & Int64\\\\\n",
       "\t\\hline\n",
       "\t1 & 1 & 1 \\\\\n",
       "\t2 & 4 & 4 \\\\\n",
       "\t3 & 5 & 1 \\\\\n",
       "\t4 & 8 & 4 \\\\\n",
       "\t5 & 9 & 1 \\\\\n",
       "\t6 & 12 & 4 \\\\\n",
       "\\end{tabular}\n"
      ],
      "text/plain": [
       "\u001b[1m6×2 DataFrame\u001b[0m\n",
       "\u001b[1m Row \u001b[0m│\u001b[1m x     \u001b[0m\u001b[1m y     \u001b[0m\n",
       "\u001b[1m     \u001b[0m│\u001b[90m Int64 \u001b[0m\u001b[90m Int64 \u001b[0m\n",
       "─────┼──────────────\n",
       "   1 │     1      1\n",
       "   2 │     4      4\n",
       "   3 │     5      1\n",
       "   4 │     8      4\n",
       "   5 │     9      1\n",
       "   6 │    12      4"
      ]
     },
     "execution_count": 65,
     "metadata": {},
     "output_type": "execute_result"
    }
   ],
   "source": [
    "filter(row -> row.y in [1,4], df)"
   ]
  },
  {
   "cell_type": "code",
   "execution_count": 66,
   "metadata": {
    "execution": {
     "iopub.execute_input": "2022-07-18T00:53:28.469000Z",
     "iopub.status.busy": "2022-07-18T00:53:28.469000Z",
     "iopub.status.idle": "2022-07-18T00:53:28.641000Z",
     "shell.execute_reply": "2022-07-18T00:53:28.641000Z"
    }
   },
   "outputs": [
    {
     "data": {
      "text/html": [
       "<div class=\"data-frame\"><p>6 rows × 2 columns</p><table class=\"data-frame\"><thead><tr><th></th><th>x</th><th>y</th></tr><tr><th></th><th title=\"Int64\">Int64</th><th title=\"Int64\">Int64</th></tr></thead><tbody><tr><th>1</th><td>1</td><td>1</td></tr><tr><th>2</th><td>4</td><td>4</td></tr><tr><th>3</th><td>5</td><td>1</td></tr><tr><th>4</th><td>8</td><td>4</td></tr><tr><th>5</th><td>9</td><td>1</td></tr><tr><th>6</th><td>12</td><td>4</td></tr></tbody></table></div>"
      ],
      "text/latex": [
       "\\begin{tabular}{r|cc}\n",
       "\t& x & y\\\\\n",
       "\t\\hline\n",
       "\t& Int64 & Int64\\\\\n",
       "\t\\hline\n",
       "\t1 & 1 & 1 \\\\\n",
       "\t2 & 4 & 4 \\\\\n",
       "\t3 & 5 & 1 \\\\\n",
       "\t4 & 8 & 4 \\\\\n",
       "\t5 & 9 & 1 \\\\\n",
       "\t6 & 12 & 4 \\\\\n",
       "\\end{tabular}\n"
      ],
      "text/plain": [
       "\u001b[1m6×2 DataFrame\u001b[0m\n",
       "\u001b[1m Row \u001b[0m│\u001b[1m x     \u001b[0m\u001b[1m y     \u001b[0m\n",
       "\u001b[1m     \u001b[0m│\u001b[90m Int64 \u001b[0m\u001b[90m Int64 \u001b[0m\n",
       "─────┼──────────────\n",
       "   1 │     1      1\n",
       "   2 │     4      4\n",
       "   3 │     5      1\n",
       "   4 │     8      4\n",
       "   5 │     9      1\n",
       "   6 │    12      4"
      ]
     },
     "execution_count": 66,
     "metadata": {},
     "output_type": "execute_result"
    }
   ],
   "source": [
    "filter(:y => in([1,4]), df)"
   ]
  },
  {
   "cell_type": "code",
   "execution_count": 67,
   "metadata": {
    "execution": {
     "iopub.execute_input": "2022-07-18T00:53:28.644000Z",
     "iopub.status.busy": "2022-07-18T00:53:28.644000Z",
     "iopub.status.idle": "2022-07-18T00:53:28.779000Z",
     "shell.execute_reply": "2022-07-18T00:53:28.779000Z"
    }
   },
   "outputs": [
    {
     "data": {
      "text/html": [
       "<div class=\"data-frame\"><p>6 rows × 2 columns</p><table class=\"data-frame\"><thead><tr><th></th><th>x</th><th>y</th></tr><tr><th></th><th title=\"Int64\">Int64</th><th title=\"Int64\">Int64</th></tr></thead><tbody><tr><th>1</th><td>1</td><td>1</td></tr><tr><th>2</th><td>4</td><td>4</td></tr><tr><th>3</th><td>5</td><td>1</td></tr><tr><th>4</th><td>8</td><td>4</td></tr><tr><th>5</th><td>9</td><td>1</td></tr><tr><th>6</th><td>12</td><td>4</td></tr></tbody></table></div>"
      ],
      "text/latex": [
       "\\begin{tabular}{r|cc}\n",
       "\t& x & y\\\\\n",
       "\t\\hline\n",
       "\t& Int64 & Int64\\\\\n",
       "\t\\hline\n",
       "\t1 & 1 & 1 \\\\\n",
       "\t2 & 4 & 4 \\\\\n",
       "\t3 & 5 & 1 \\\\\n",
       "\t4 & 8 & 4 \\\\\n",
       "\t5 & 9 & 1 \\\\\n",
       "\t6 & 12 & 4 \\\\\n",
       "\\end{tabular}\n"
      ],
      "text/plain": [
       "\u001b[1m6×2 DataFrame\u001b[0m\n",
       "\u001b[1m Row \u001b[0m│\u001b[1m x     \u001b[0m\u001b[1m y     \u001b[0m\n",
       "\u001b[1m     \u001b[0m│\u001b[90m Int64 \u001b[0m\u001b[90m Int64 \u001b[0m\n",
       "─────┼──────────────\n",
       "   1 │     1      1\n",
       "   2 │     4      4\n",
       "   3 │     5      1\n",
       "   4 │     8      4\n",
       "   5 │     9      1\n",
       "   6 │    12      4"
      ]
     },
     "execution_count": 67,
     "metadata": {},
     "output_type": "execute_result"
    }
   ],
   "source": [
    "df[in.(df.y, Ref([1,4])), :]"
   ]
  },
  {
   "cell_type": "markdown",
   "metadata": {},
   "source": [
    "DataFrames.jl also provides a `subset` function that works on whole columns and allows for multiple conditions:"
   ]
  },
  {
   "cell_type": "code",
   "execution_count": 68,
   "metadata": {
    "execution": {
     "iopub.execute_input": "2022-07-18T00:53:28.782000Z",
     "iopub.status.busy": "2022-07-18T00:53:28.782000Z",
     "iopub.status.idle": "2022-07-18T00:53:28.784000Z",
     "shell.execute_reply": "2022-07-18T00:53:28.784000Z"
    }
   },
   "outputs": [
    {
     "data": {
      "text/html": [
       "<div class=\"data-frame\"><p>4 rows × 3 columns</p><table class=\"data-frame\"><thead><tr><th></th><th>x1</th><th>x2</th><th>x3</th></tr><tr><th></th><th title=\"Int64\">Int64</th><th title=\"Int64\">Int64</th><th title=\"Int64\">Int64</th></tr></thead><tbody><tr><th>1</th><td>1</td><td>2</td><td>3</td></tr><tr><th>2</th><td>2</td><td>3</td><td>4</td></tr><tr><th>3</th><td>3</td><td>4</td><td>5</td></tr><tr><th>4</th><td>4</td><td>5</td><td>6</td></tr></tbody></table></div>"
      ],
      "text/latex": [
       "\\begin{tabular}{r|ccc}\n",
       "\t& x1 & x2 & x3\\\\\n",
       "\t\\hline\n",
       "\t& Int64 & Int64 & Int64\\\\\n",
       "\t\\hline\n",
       "\t1 & 1 & 2 & 3 \\\\\n",
       "\t2 & 2 & 3 & 4 \\\\\n",
       "\t3 & 3 & 4 & 5 \\\\\n",
       "\t4 & 4 & 5 & 6 \\\\\n",
       "\\end{tabular}\n"
      ],
      "text/plain": [
       "\u001b[1m4×3 DataFrame\u001b[0m\n",
       "\u001b[1m Row \u001b[0m│\u001b[1m x1    \u001b[0m\u001b[1m x2    \u001b[0m\u001b[1m x3    \u001b[0m\n",
       "\u001b[1m     \u001b[0m│\u001b[90m Int64 \u001b[0m\u001b[90m Int64 \u001b[0m\u001b[90m Int64 \u001b[0m\n",
       "─────┼─────────────────────\n",
       "   1 │     1      2      3\n",
       "   2 │     2      3      4\n",
       "   3 │     3      4      5\n",
       "   4 │     4      5      6"
      ]
     },
     "execution_count": 68,
     "metadata": {},
     "output_type": "execute_result"
    }
   ],
   "source": [
    "x = DataFrame([1:4, 2:5, 3:6], :auto)"
   ]
  },
  {
   "cell_type": "code",
   "execution_count": 69,
   "metadata": {
    "execution": {
     "iopub.execute_input": "2022-07-18T00:53:28.786000Z",
     "iopub.status.busy": "2022-07-18T00:53:28.786000Z",
     "iopub.status.idle": "2022-07-18T00:53:29.831000Z",
     "shell.execute_reply": "2022-07-18T00:53:29.831000Z"
    }
   },
   "outputs": [
    {
     "data": {
      "text/html": [
       "<div class=\"data-frame\"><p>1 rows × 3 columns</p><table class=\"data-frame\"><thead><tr><th></th><th>x1</th><th>x2</th><th>x3</th></tr><tr><th></th><th title=\"Int64\">Int64</th><th title=\"Int64\">Int64</th><th title=\"Int64\">Int64</th></tr></thead><tbody><tr><th>1</th><td>1</td><td>2</td><td>3</td></tr></tbody></table></div>"
      ],
      "text/latex": [
       "\\begin{tabular}{r|ccc}\n",
       "\t& x1 & x2 & x3\\\\\n",
       "\t\\hline\n",
       "\t& Int64 & Int64 & Int64\\\\\n",
       "\t\\hline\n",
       "\t1 & 1 & 2 & 3 \\\\\n",
       "\\end{tabular}\n"
      ],
      "text/plain": [
       "\u001b[1m1×3 DataFrame\u001b[0m\n",
       "\u001b[1m Row \u001b[0m│\u001b[1m x1    \u001b[0m\u001b[1m x2    \u001b[0m\u001b[1m x3    \u001b[0m\n",
       "\u001b[1m     \u001b[0m│\u001b[90m Int64 \u001b[0m\u001b[90m Int64 \u001b[0m\u001b[90m Int64 \u001b[0m\n",
       "─────┼─────────────────────\n",
       "   1 │     1      2      3"
      ]
     },
     "execution_count": 69,
     "metadata": {},
     "output_type": "execute_result"
    }
   ],
   "source": [
    "subset(x, :x1 => x -> x .< mean(x), :x2 => ByRow(<(2.5)))"
   ]
  },
  {
   "cell_type": "markdown",
   "metadata": {},
   "source": [
    "Similarly an in-place `subset!` function is provided."
   ]
  },
  {
   "cell_type": "markdown",
   "metadata": {},
   "source": [
    "## Deduplicating"
   ]
  },
  {
   "cell_type": "code",
   "execution_count": 70,
   "metadata": {
    "execution": {
     "iopub.execute_input": "2022-07-18T00:53:29.835000Z",
     "iopub.status.busy": "2022-07-18T00:53:29.835000Z",
     "iopub.status.idle": "2022-07-18T00:53:30.002000Z",
     "shell.execute_reply": "2022-07-18T00:53:30.002000Z"
    }
   },
   "outputs": [
    {
     "data": {
      "text/html": [
       "<div class=\"data-frame\"><p>4 rows × 3 columns</p><table class=\"data-frame\"><thead><tr><th></th><th>A</th><th>B</th><th>C</th></tr><tr><th></th><th title=\"Int64\">Int64</th><th title=\"String\">String</th><th title=\"Int64\">Int64</th></tr></thead><tbody><tr><th>1</th><td>1</td><td>x</td><td>1</td></tr><tr><th>2</th><td>2</td><td>y</td><td>2</td></tr><tr><th>3</th><td>1</td><td>x</td><td>3</td></tr><tr><th>4</th><td>2</td><td>y</td><td>4</td></tr></tbody></table></div>"
      ],
      "text/latex": [
       "\\begin{tabular}{r|ccc}\n",
       "\t& A & B & C\\\\\n",
       "\t\\hline\n",
       "\t& Int64 & String & Int64\\\\\n",
       "\t\\hline\n",
       "\t1 & 1 & x & 1 \\\\\n",
       "\t2 & 2 & y & 2 \\\\\n",
       "\t3 & 1 & x & 3 \\\\\n",
       "\t4 & 2 & y & 4 \\\\\n",
       "\\end{tabular}\n"
      ],
      "text/plain": [
       "\u001b[1m4×3 DataFrame\u001b[0m\n",
       "\u001b[1m Row \u001b[0m│\u001b[1m A     \u001b[0m\u001b[1m B      \u001b[0m\u001b[1m C     \u001b[0m\n",
       "\u001b[1m     \u001b[0m│\u001b[90m Int64 \u001b[0m\u001b[90m String \u001b[0m\u001b[90m Int64 \u001b[0m\n",
       "─────┼──────────────────────\n",
       "   1 │     1  x           1\n",
       "   2 │     2  y           2\n",
       "   3 │     1  x           3\n",
       "   4 │     2  y           4"
      ]
     },
     "execution_count": 70,
     "metadata": {},
     "output_type": "execute_result"
    }
   ],
   "source": [
    "x = DataFrame(A=[1,2], B=[\"x\",\"y\"])\n",
    "append!(x, x)\n",
    "x.C = 1:4\n",
    "x"
   ]
  },
  {
   "cell_type": "markdown",
   "metadata": {},
   "source": [
    "get first unique rows for given index"
   ]
  },
  {
   "cell_type": "code",
   "execution_count": 71,
   "metadata": {
    "execution": {
     "iopub.execute_input": "2022-07-18T00:53:30.005000Z",
     "iopub.status.busy": "2022-07-18T00:53:30.005000Z",
     "iopub.status.idle": "2022-07-18T00:53:30.541000Z",
     "shell.execute_reply": "2022-07-18T00:53:30.541000Z"
    }
   },
   "outputs": [
    {
     "data": {
      "text/html": [
       "<div class=\"data-frame\"><p>2 rows × 3 columns</p><table class=\"data-frame\"><thead><tr><th></th><th>A</th><th>B</th><th>C</th></tr><tr><th></th><th title=\"Int64\">Int64</th><th title=\"String\">String</th><th title=\"Int64\">Int64</th></tr></thead><tbody><tr><th>1</th><td>1</td><td>x</td><td>1</td></tr><tr><th>2</th><td>2</td><td>y</td><td>2</td></tr></tbody></table></div>"
      ],
      "text/latex": [
       "\\begin{tabular}{r|ccc}\n",
       "\t& A & B & C\\\\\n",
       "\t\\hline\n",
       "\t& Int64 & String & Int64\\\\\n",
       "\t\\hline\n",
       "\t1 & 1 & x & 1 \\\\\n",
       "\t2 & 2 & y & 2 \\\\\n",
       "\\end{tabular}\n"
      ],
      "text/plain": [
       "\u001b[1m2×3 DataFrame\u001b[0m\n",
       "\u001b[1m Row \u001b[0m│\u001b[1m A     \u001b[0m\u001b[1m B      \u001b[0m\u001b[1m C     \u001b[0m\n",
       "\u001b[1m     \u001b[0m│\u001b[90m Int64 \u001b[0m\u001b[90m String \u001b[0m\u001b[90m Int64 \u001b[0m\n",
       "─────┼──────────────────────\n",
       "   1 │     1  x           1\n",
       "   2 │     2  y           2"
      ]
     },
     "execution_count": 71,
     "metadata": {},
     "output_type": "execute_result"
    }
   ],
   "source": [
    "unique(x, [1,2])"
   ]
  },
  {
   "cell_type": "markdown",
   "metadata": {},
   "source": [
    "now we look at whole rows"
   ]
  },
  {
   "cell_type": "code",
   "execution_count": 72,
   "metadata": {
    "execution": {
     "iopub.execute_input": "2022-07-18T00:53:30.545000Z",
     "iopub.status.busy": "2022-07-18T00:53:30.545000Z",
     "iopub.status.idle": "2022-07-18T00:53:30.812000Z",
     "shell.execute_reply": "2022-07-18T00:53:30.812000Z"
    }
   },
   "outputs": [
    {
     "data": {
      "text/html": [
       "<div class=\"data-frame\"><p>4 rows × 3 columns</p><table class=\"data-frame\"><thead><tr><th></th><th>A</th><th>B</th><th>C</th></tr><tr><th></th><th title=\"Int64\">Int64</th><th title=\"String\">String</th><th title=\"Int64\">Int64</th></tr></thead><tbody><tr><th>1</th><td>1</td><td>x</td><td>1</td></tr><tr><th>2</th><td>2</td><td>y</td><td>2</td></tr><tr><th>3</th><td>1</td><td>x</td><td>3</td></tr><tr><th>4</th><td>2</td><td>y</td><td>4</td></tr></tbody></table></div>"
      ],
      "text/latex": [
       "\\begin{tabular}{r|ccc}\n",
       "\t& A & B & C\\\\\n",
       "\t\\hline\n",
       "\t& Int64 & String & Int64\\\\\n",
       "\t\\hline\n",
       "\t1 & 1 & x & 1 \\\\\n",
       "\t2 & 2 & y & 2 \\\\\n",
       "\t3 & 1 & x & 3 \\\\\n",
       "\t4 & 2 & y & 4 \\\\\n",
       "\\end{tabular}\n"
      ],
      "text/plain": [
       "\u001b[1m4×3 DataFrame\u001b[0m\n",
       "\u001b[1m Row \u001b[0m│\u001b[1m A     \u001b[0m\u001b[1m B      \u001b[0m\u001b[1m C     \u001b[0m\n",
       "\u001b[1m     \u001b[0m│\u001b[90m Int64 \u001b[0m\u001b[90m String \u001b[0m\u001b[90m Int64 \u001b[0m\n",
       "─────┼──────────────────────\n",
       "   1 │     1  x           1\n",
       "   2 │     2  y           2\n",
       "   3 │     1  x           3\n",
       "   4 │     2  y           4"
      ]
     },
     "execution_count": 72,
     "metadata": {},
     "output_type": "execute_result"
    }
   ],
   "source": [
    "unique(x)"
   ]
  },
  {
   "cell_type": "markdown",
   "metadata": {},
   "source": [
    "get indicators of non-unique rows"
   ]
  },
  {
   "cell_type": "code",
   "execution_count": 73,
   "metadata": {
    "execution": {
     "iopub.execute_input": "2022-07-18T00:53:30.816000Z",
     "iopub.status.busy": "2022-07-18T00:53:30.816000Z",
     "iopub.status.idle": "2022-07-18T00:53:31.618000Z",
     "shell.execute_reply": "2022-07-18T00:53:31.618000Z"
    }
   },
   "outputs": [
    {
     "data": {
      "text/plain": [
       "4-element Vector{Bool}:\n",
       " 0\n",
       " 0\n",
       " 1\n",
       " 1"
      ]
     },
     "execution_count": 73,
     "metadata": {},
     "output_type": "execute_result"
    }
   ],
   "source": [
    "nonunique(x, :A)"
   ]
  },
  {
   "cell_type": "markdown",
   "metadata": {},
   "source": [
    "modify `x` in place"
   ]
  },
  {
   "cell_type": "code",
   "execution_count": 74,
   "metadata": {
    "execution": {
     "iopub.execute_input": "2022-07-18T00:53:31.622000Z",
     "iopub.status.busy": "2022-07-18T00:53:31.621000Z",
     "iopub.status.idle": "2022-07-18T00:53:31.727000Z",
     "shell.execute_reply": "2022-07-18T00:53:31.727000Z"
    }
   },
   "outputs": [
    {
     "data": {
      "text/html": [
       "<div class=\"data-frame\"><p>2 rows × 3 columns</p><table class=\"data-frame\"><thead><tr><th></th><th>A</th><th>B</th><th>C</th></tr><tr><th></th><th title=\"Int64\">Int64</th><th title=\"String\">String</th><th title=\"Int64\">Int64</th></tr></thead><tbody><tr><th>1</th><td>1</td><td>x</td><td>1</td></tr><tr><th>2</th><td>2</td><td>y</td><td>2</td></tr></tbody></table></div>"
      ],
      "text/latex": [
       "\\begin{tabular}{r|ccc}\n",
       "\t& A & B & C\\\\\n",
       "\t\\hline\n",
       "\t& Int64 & String & Int64\\\\\n",
       "\t\\hline\n",
       "\t1 & 1 & x & 1 \\\\\n",
       "\t2 & 2 & y & 2 \\\\\n",
       "\\end{tabular}\n"
      ],
      "text/plain": [
       "\u001b[1m2×3 DataFrame\u001b[0m\n",
       "\u001b[1m Row \u001b[0m│\u001b[1m A     \u001b[0m\u001b[1m B      \u001b[0m\u001b[1m C     \u001b[0m\n",
       "\u001b[1m     \u001b[0m│\u001b[90m Int64 \u001b[0m\u001b[90m String \u001b[0m\u001b[90m Int64 \u001b[0m\n",
       "─────┼──────────────────────\n",
       "   1 │     1  x           1\n",
       "   2 │     2  y           2"
      ]
     },
     "execution_count": 74,
     "metadata": {},
     "output_type": "execute_result"
    }
   ],
   "source": [
    "unique!(x, :B)"
   ]
  },
  {
   "cell_type": "markdown",
   "metadata": {},
   "source": [
    "## Extracting one row from a `DataFrame` into standard collections"
   ]
  },
  {
   "cell_type": "code",
   "execution_count": 75,
   "metadata": {
    "execution": {
     "iopub.execute_input": "2022-07-18T00:53:31.731000Z",
     "iopub.status.busy": "2022-07-18T00:53:31.731000Z",
     "iopub.status.idle": "2022-07-18T00:53:32.144000Z",
     "shell.execute_reply": "2022-07-18T00:53:32.144000Z"
    }
   },
   "outputs": [
    {
     "data": {
      "text/html": [
       "<div class=\"data-frame\"><p>3 rows × 3 columns</p><table class=\"data-frame\"><thead><tr><th></th><th>x</th><th>y</th><th>z</th></tr><tr><th></th><th title=\"Union{Missing, Int64}\">Int64?</th><th title=\"Union{Missing, String}\">String?</th><th title=\"Bool\">Bool</th></tr></thead><tbody><tr><th>1</th><td>1</td><td>a</td><td>1</td></tr><tr><th>2</th><td><em>missing</em></td><td>b</td><td>0</td></tr><tr><th>3</th><td>2</td><td><em>missing</em></td><td>1</td></tr></tbody></table></div>"
      ],
      "text/latex": [
       "\\begin{tabular}{r|ccc}\n",
       "\t& x & y & z\\\\\n",
       "\t\\hline\n",
       "\t& Int64? & String? & Bool\\\\\n",
       "\t\\hline\n",
       "\t1 & 1 & a & 1 \\\\\n",
       "\t2 & \\emph{missing} & b & 0 \\\\\n",
       "\t3 & 2 & \\emph{missing} & 1 \\\\\n",
       "\\end{tabular}\n"
      ],
      "text/plain": [
       "\u001b[1m3×3 DataFrame\u001b[0m\n",
       "\u001b[1m Row \u001b[0m│\u001b[1m x       \u001b[0m\u001b[1m y       \u001b[0m\u001b[1m z     \u001b[0m\n",
       "\u001b[1m     \u001b[0m│\u001b[90m Int64?  \u001b[0m\u001b[90m String? \u001b[0m\u001b[90m Bool  \u001b[0m\n",
       "─────┼─────────────────────────\n",
       "   1 │       1  a         true\n",
       "   2 │\u001b[90m missing \u001b[0m b        false\n",
       "   3 │       2 \u001b[90m missing \u001b[0m  true"
      ]
     },
     "execution_count": 75,
     "metadata": {},
     "output_type": "execute_result"
    }
   ],
   "source": [
    "x = DataFrame(x=[1,missing,2], y=[\"a\", \"b\", missing], z=[true,false,true])"
   ]
  },
  {
   "cell_type": "code",
   "execution_count": 76,
   "metadata": {
    "execution": {
     "iopub.execute_input": "2022-07-18T00:53:32.147000Z",
     "iopub.status.busy": "2022-07-18T00:53:32.147000Z",
     "iopub.status.idle": "2022-07-18T00:53:32.703000Z",
     "shell.execute_reply": "2022-07-18T00:53:32.703000Z"
    }
   },
   "outputs": [
    {
     "data": {
      "text/plain": [
       "2-element Vector{Symbol}:\n",
       " :y\n",
       " :z"
      ]
     },
     "execution_count": 76,
     "metadata": {},
     "output_type": "execute_result"
    }
   ],
   "source": [
    "cols = [:y, :z]"
   ]
  },
  {
   "cell_type": "markdown",
   "metadata": {},
   "source": [
    "you can use a conversion to a `Vector` or an `Array`"
   ]
  },
  {
   "cell_type": "code",
   "execution_count": 77,
   "metadata": {
    "execution": {
     "iopub.execute_input": "2022-07-18T00:53:32.706000Z",
     "iopub.status.busy": "2022-07-18T00:53:32.706000Z",
     "iopub.status.idle": "2022-07-18T00:53:33.597000Z",
     "shell.execute_reply": "2022-07-18T00:53:33.597000Z"
    }
   },
   "outputs": [
    {
     "data": {
      "text/plain": [
       "2-element Vector{Any}:\n",
       "     \"a\"\n",
       " true"
      ]
     },
     "execution_count": 77,
     "metadata": {},
     "output_type": "execute_result"
    }
   ],
   "source": [
    "Vector(x[1, cols])"
   ]
  },
  {
   "cell_type": "code",
   "execution_count": 78,
   "metadata": {
    "execution": {
     "iopub.execute_input": "2022-07-18T00:53:33.600000Z",
     "iopub.status.busy": "2022-07-18T00:53:33.600000Z",
     "iopub.status.idle": "2022-07-18T00:53:33.607000Z",
     "shell.execute_reply": "2022-07-18T00:53:33.607000Z"
    }
   },
   "outputs": [
    {
     "data": {
      "text/plain": [
       "2-element Vector{Any}:\n",
       "     \"a\"\n",
       " true"
      ]
     },
     "execution_count": 78,
     "metadata": {},
     "output_type": "execute_result"
    }
   ],
   "source": [
    "Array(x[1, cols]) # the same"
   ]
  },
  {
   "cell_type": "markdown",
   "metadata": {},
   "source": [
    "now you will get a vector of vectors"
   ]
  },
  {
   "cell_type": "code",
   "execution_count": 79,
   "metadata": {
    "execution": {
     "iopub.execute_input": "2022-07-18T00:53:33.609000Z",
     "iopub.status.busy": "2022-07-18T00:53:33.609000Z",
     "iopub.status.idle": "2022-07-18T00:53:34.290000Z",
     "shell.execute_reply": "2022-07-18T00:53:34.290000Z"
    }
   },
   "outputs": [
    {
     "data": {
      "text/plain": [
       "3-element Vector{Vector{Any}}:\n",
       " [\"a\", true]\n",
       " [\"b\", false]\n",
       " [missing, true]"
      ]
     },
     "execution_count": 79,
     "metadata": {},
     "output_type": "execute_result"
    }
   ],
   "source": [
    "[Vector(x[i, cols]) for i in axes(x, 1)]"
   ]
  },
  {
   "cell_type": "markdown",
   "metadata": {},
   "source": [
    "it is easy to convert a `DataFrameRow` into a `NamedTuple`"
   ]
  },
  {
   "cell_type": "code",
   "execution_count": 80,
   "metadata": {
    "execution": {
     "iopub.execute_input": "2022-07-18T00:53:34.293000Z",
     "iopub.status.busy": "2022-07-18T00:53:34.293000Z",
     "iopub.status.idle": "2022-07-18T00:53:34.973000Z",
     "shell.execute_reply": "2022-07-18T00:53:34.973000Z"
    }
   },
   "outputs": [
    {
     "data": {
      "text/plain": [
       "NamedTuple{(:y, :z), Tuple{Union{Missing, String}, Bool}}((\"a\", true))"
      ]
     },
     "execution_count": 80,
     "metadata": {},
     "output_type": "execute_result"
    }
   ],
   "source": [
    "copy(x[1, cols])"
   ]
  },
  {
   "cell_type": "markdown",
   "metadata": {},
   "source": [
    "or a `Tuple`"
   ]
  },
  {
   "cell_type": "code",
   "execution_count": 81,
   "metadata": {
    "execution": {
     "iopub.execute_input": "2022-07-18T00:53:34.976000Z",
     "iopub.status.busy": "2022-07-18T00:53:34.976000Z",
     "iopub.status.idle": "2022-07-18T00:53:35.437000Z",
     "shell.execute_reply": "2022-07-18T00:53:35.436000Z"
    }
   },
   "outputs": [
    {
     "data": {
      "text/plain": [
       "(\"a\", true)"
      ]
     },
     "execution_count": 81,
     "metadata": {},
     "output_type": "execute_result"
    }
   ],
   "source": [
    "Tuple(x[1, cols])"
   ]
  },
  {
   "cell_type": "markdown",
   "metadata": {},
   "source": [
    "## Working with a collection of rows of a data frame"
   ]
  },
  {
   "cell_type": "markdown",
   "metadata": {},
   "source": [
    "You can use `eachrow` to get a vector-like collection of `DataFrameRow`s"
   ]
  },
  {
   "cell_type": "code",
   "execution_count": 82,
   "metadata": {
    "execution": {
     "iopub.execute_input": "2022-07-18T00:53:35.440000Z",
     "iopub.status.busy": "2022-07-18T00:53:35.440000Z",
     "iopub.status.idle": "2022-07-18T00:53:35.534000Z",
     "shell.execute_reply": "2022-07-18T00:53:35.534000Z"
    }
   },
   "outputs": [
    {
     "data": {
      "text/html": [
       "<div class=\"data-frame\"><p>3 rows × 4 columns</p><table class=\"data-frame\"><thead><tr><th></th><th>x1</th><th>x2</th><th>x3</th><th>x4</th></tr><tr><th></th><th title=\"Int64\">Int64</th><th title=\"Int64\">Int64</th><th title=\"Int64\">Int64</th><th title=\"Int64\">Int64</th></tr></thead><tbody><tr><th>1</th><td>1</td><td>4</td><td>7</td><td>10</td></tr><tr><th>2</th><td>2</td><td>5</td><td>8</td><td>11</td></tr><tr><th>3</th><td>3</td><td>6</td><td>9</td><td>12</td></tr></tbody></table></div>"
      ],
      "text/latex": [
       "\\begin{tabular}{r|cccc}\n",
       "\t& x1 & x2 & x3 & x4\\\\\n",
       "\t\\hline\n",
       "\t& Int64 & Int64 & Int64 & Int64\\\\\n",
       "\t\\hline\n",
       "\t1 & 1 & 4 & 7 & 10 \\\\\n",
       "\t2 & 2 & 5 & 8 & 11 \\\\\n",
       "\t3 & 3 & 6 & 9 & 12 \\\\\n",
       "\\end{tabular}\n"
      ],
      "text/plain": [
       "\u001b[1m3×4 DataFrame\u001b[0m\n",
       "\u001b[1m Row \u001b[0m│\u001b[1m x1    \u001b[0m\u001b[1m x2    \u001b[0m\u001b[1m x3    \u001b[0m\u001b[1m x4    \u001b[0m\n",
       "\u001b[1m     \u001b[0m│\u001b[90m Int64 \u001b[0m\u001b[90m Int64 \u001b[0m\u001b[90m Int64 \u001b[0m\u001b[90m Int64 \u001b[0m\n",
       "─────┼────────────────────────────\n",
       "   1 │     1      4      7     10\n",
       "   2 │     2      5      8     11\n",
       "   3 │     3      6      9     12"
      ]
     },
     "execution_count": 82,
     "metadata": {},
     "output_type": "execute_result"
    }
   ],
   "source": [
    "df = DataFrame(reshape(1:12, 3, 4), :auto)"
   ]
  },
  {
   "cell_type": "code",
   "execution_count": 83,
   "metadata": {
    "execution": {
     "iopub.execute_input": "2022-07-18T00:53:35.537000Z",
     "iopub.status.busy": "2022-07-18T00:53:35.537000Z",
     "iopub.status.idle": "2022-07-18T00:53:36.118000Z",
     "shell.execute_reply": "2022-07-18T00:53:36.118000Z"
    }
   },
   "outputs": [
    {
     "data": {
      "text/html": [
       "<p>3×4 DataFrameRows</p><div class=\"data-frame\"><table class=\"data-frame\"><thead><tr><th></th><th>x1</th><th>x2</th><th>x3</th><th>x4</th></tr><tr><th></th><th title=\"Int64\">Int64</th><th title=\"Int64\">Int64</th><th title=\"Int64\">Int64</th><th title=\"Int64\">Int64</th></tr></thead><tbody><tr><th>1</th><td>1</td><td>4</td><td>7</td><td>10</td></tr><tr><th>2</th><td>2</td><td>5</td><td>8</td><td>11</td></tr><tr><th>3</th><td>3</td><td>6</td><td>9</td><td>12</td></tr></tbody></table></div>"
      ],
      "text/latex": [
       "\\begin{tabular}{r|cccc}\n",
       "\t& x1 & x2 & x3 & x4\\\\\n",
       "\t\\hline\n",
       "\t& Int64 & Int64 & Int64 & Int64\\\\\n",
       "\t\\hline\n",
       "\t1 & 1 & 4 & 7 & 10 \\\\\n",
       "\t2 & 2 & 5 & 8 & 11 \\\\\n",
       "\t3 & 3 & 6 & 9 & 12 \\\\\n",
       "\\end{tabular}\n"
      ],
      "text/plain": [
       "\u001b[1m3×4 DataFrameRows\u001b[0m\n",
       "\u001b[1m Row \u001b[0m│\u001b[1m x1    \u001b[0m\u001b[1m x2    \u001b[0m\u001b[1m x3    \u001b[0m\u001b[1m x4    \u001b[0m\n",
       "\u001b[1m     \u001b[0m│\u001b[90m Int64 \u001b[0m\u001b[90m Int64 \u001b[0m\u001b[90m Int64 \u001b[0m\u001b[90m Int64 \u001b[0m\n",
       "─────┼────────────────────────────\n",
       "   1 │     1      4      7     10\n",
       "   2 │     2      5      8     11\n",
       "   3 │     3      6      9     12"
      ]
     },
     "execution_count": 83,
     "metadata": {},
     "output_type": "execute_result"
    }
   ],
   "source": [
    "er_df = eachrow(df)"
   ]
  },
  {
   "cell_type": "code",
   "execution_count": 84,
   "metadata": {
    "execution": {
     "iopub.execute_input": "2022-07-18T00:53:36.121000Z",
     "iopub.status.busy": "2022-07-18T00:53:36.121000Z",
     "iopub.status.idle": "2022-07-18T00:53:36.131000Z",
     "shell.execute_reply": "2022-07-18T00:53:36.131000Z"
    }
   },
   "outputs": [
    {
     "data": {
      "text/html": [
       "<p>DataFrameRow (4 columns)</p><div class=\"data-frame\"><table class=\"data-frame\"><thead><tr><th></th><th>x1</th><th>x2</th><th>x3</th><th>x4</th></tr><tr><th></th><th title=\"Int64\">Int64</th><th title=\"Int64\">Int64</th><th title=\"Int64\">Int64</th><th title=\"Int64\">Int64</th></tr></thead><tbody><tr><th>1</th><td>1</td><td>4</td><td>7</td><td>10</td></tr></tbody></table></div>"
      ],
      "text/latex": [
       "\\begin{tabular}{r|cccc}\n",
       "\t& x1 & x2 & x3 & x4\\\\\n",
       "\t\\hline\n",
       "\t& Int64 & Int64 & Int64 & Int64\\\\\n",
       "\t\\hline\n",
       "\t1 & 1 & 4 & 7 & 10 \\\\\n",
       "\\end{tabular}\n"
      ],
      "text/plain": [
       "\u001b[1mDataFrameRow\u001b[0m\n",
       "\u001b[1m Row \u001b[0m│\u001b[1m x1    \u001b[0m\u001b[1m x2    \u001b[0m\u001b[1m x3    \u001b[0m\u001b[1m x4    \u001b[0m\n",
       "\u001b[1m     \u001b[0m│\u001b[90m Int64 \u001b[0m\u001b[90m Int64 \u001b[0m\u001b[90m Int64 \u001b[0m\u001b[90m Int64 \u001b[0m\n",
       "─────┼────────────────────────────\n",
       "   1 │     1      4      7     10"
      ]
     },
     "execution_count": 84,
     "metadata": {},
     "output_type": "execute_result"
    }
   ],
   "source": [
    "er_df[1]"
   ]
  },
  {
   "cell_type": "code",
   "execution_count": 85,
   "metadata": {
    "execution": {
     "iopub.execute_input": "2022-07-18T00:53:36.133000Z",
     "iopub.status.busy": "2022-07-18T00:53:36.133000Z",
     "iopub.status.idle": "2022-07-18T00:53:36.144000Z",
     "shell.execute_reply": "2022-07-18T00:53:36.144000Z"
    }
   },
   "outputs": [
    {
     "data": {
      "text/html": [
       "<p>DataFrameRow (4 columns)</p><div class=\"data-frame\"><table class=\"data-frame\"><thead><tr><th></th><th>x1</th><th>x2</th><th>x3</th><th>x4</th></tr><tr><th></th><th title=\"Int64\">Int64</th><th title=\"Int64\">Int64</th><th title=\"Int64\">Int64</th><th title=\"Int64\">Int64</th></tr></thead><tbody><tr><th>3</th><td>3</td><td>6</td><td>9</td><td>12</td></tr></tbody></table></div>"
      ],
      "text/latex": [
       "\\begin{tabular}{r|cccc}\n",
       "\t& x1 & x2 & x3 & x4\\\\\n",
       "\t\\hline\n",
       "\t& Int64 & Int64 & Int64 & Int64\\\\\n",
       "\t\\hline\n",
       "\t3 & 3 & 6 & 9 & 12 \\\\\n",
       "\\end{tabular}\n"
      ],
      "text/plain": [
       "\u001b[1mDataFrameRow\u001b[0m\n",
       "\u001b[1m Row \u001b[0m│\u001b[1m x1    \u001b[0m\u001b[1m x2    \u001b[0m\u001b[1m x3    \u001b[0m\u001b[1m x4    \u001b[0m\n",
       "\u001b[1m     \u001b[0m│\u001b[90m Int64 \u001b[0m\u001b[90m Int64 \u001b[0m\u001b[90m Int64 \u001b[0m\u001b[90m Int64 \u001b[0m\n",
       "─────┼────────────────────────────\n",
       "   3 │     3      6      9     12"
      ]
     },
     "execution_count": 85,
     "metadata": {},
     "output_type": "execute_result"
    }
   ],
   "source": [
    "last(er_df)"
   ]
  },
  {
   "cell_type": "code",
   "execution_count": 86,
   "metadata": {
    "execution": {
     "iopub.execute_input": "2022-07-18T00:53:36.146000Z",
     "iopub.status.busy": "2022-07-18T00:53:36.146000Z",
     "iopub.status.idle": "2022-07-18T00:53:36.151000Z",
     "shell.execute_reply": "2022-07-18T00:53:36.151000Z"
    }
   },
   "outputs": [
    {
     "data": {
      "text/html": [
       "<p>DataFrameRow (4 columns)</p><div class=\"data-frame\"><table class=\"data-frame\"><thead><tr><th></th><th>x1</th><th>x2</th><th>x3</th><th>x4</th></tr><tr><th></th><th title=\"Int64\">Int64</th><th title=\"Int64\">Int64</th><th title=\"Int64\">Int64</th><th title=\"Int64\">Int64</th></tr></thead><tbody><tr><th>3</th><td>3</td><td>6</td><td>9</td><td>12</td></tr></tbody></table></div>"
      ],
      "text/latex": [
       "\\begin{tabular}{r|cccc}\n",
       "\t& x1 & x2 & x3 & x4\\\\\n",
       "\t\\hline\n",
       "\t& Int64 & Int64 & Int64 & Int64\\\\\n",
       "\t\\hline\n",
       "\t3 & 3 & 6 & 9 & 12 \\\\\n",
       "\\end{tabular}\n"
      ],
      "text/plain": [
       "\u001b[1mDataFrameRow\u001b[0m\n",
       "\u001b[1m Row \u001b[0m│\u001b[1m x1    \u001b[0m\u001b[1m x2    \u001b[0m\u001b[1m x3    \u001b[0m\u001b[1m x4    \u001b[0m\n",
       "\u001b[1m     \u001b[0m│\u001b[90m Int64 \u001b[0m\u001b[90m Int64 \u001b[0m\u001b[90m Int64 \u001b[0m\u001b[90m Int64 \u001b[0m\n",
       "─────┼────────────────────────────\n",
       "   3 │     3      6      9     12"
      ]
     },
     "execution_count": 86,
     "metadata": {},
     "output_type": "execute_result"
    }
   ],
   "source": [
    "er_df[end]"
   ]
  },
  {
   "cell_type": "markdown",
   "metadata": {},
   "source": [
    "As `DataFrameRows` objects keeps connection to the parent data frame you can get the columns of the parent using `getproperty`"
   ]
  },
  {
   "cell_type": "code",
   "execution_count": 87,
   "metadata": {
    "execution": {
     "iopub.execute_input": "2022-07-18T00:53:36.153000Z",
     "iopub.status.busy": "2022-07-18T00:53:36.153000Z",
     "iopub.status.idle": "2022-07-18T00:53:36.159000Z",
     "shell.execute_reply": "2022-07-18T00:53:36.159000Z"
    }
   },
   "outputs": [
    {
     "data": {
      "text/plain": [
       "3-element Vector{Int64}:\n",
       " 1\n",
       " 2\n",
       " 3"
      ]
     },
     "execution_count": 87,
     "metadata": {},
     "output_type": "execute_result"
    }
   ],
   "source": [
    "er_df.x1"
   ]
  },
  {
   "cell_type": "markdown",
   "metadata": {},
   "source": [
    "## Flattening a data frame"
   ]
  },
  {
   "cell_type": "markdown",
   "metadata": {},
   "source": [
    "Occasionally you have a data frame whose one column is a vector of collections. You can expand (*flatten*) such a column using the `flatten` function"
   ]
  },
  {
   "cell_type": "code",
   "execution_count": 88,
   "metadata": {
    "execution": {
     "iopub.execute_input": "2022-07-18T00:53:36.161000Z",
     "iopub.status.busy": "2022-07-18T00:53:36.161000Z",
     "iopub.status.idle": "2022-07-18T00:53:36.386000Z",
     "shell.execute_reply": "2022-07-18T00:53:36.386000Z"
    }
   },
   "outputs": [
    {
     "data": {
      "text/html": [
       "<div class=\"data-frame\"><p>3 rows × 2 columns</p><table class=\"data-frame\"><thead><tr><th></th><th>a</th><th>b</th></tr><tr><th></th><th title=\"Char\">Char</th><th title=\"Any\">Any</th></tr></thead><tbody><tr><th>1</th><td>a</td><td>[1, 2, 3]</td></tr><tr><th>2</th><td>b</td><td>[4, 5]</td></tr><tr><th>3</th><td>c</td><td>6</td></tr></tbody></table></div>"
      ],
      "text/latex": [
       "\\begin{tabular}{r|cc}\n",
       "\t& a & b\\\\\n",
       "\t\\hline\n",
       "\t& Char & Any\\\\\n",
       "\t\\hline\n",
       "\t1 & a & [1, 2, 3] \\\\\n",
       "\t2 & b & [4, 5] \\\\\n",
       "\t3 & c & 6 \\\\\n",
       "\\end{tabular}\n"
      ],
      "text/plain": [
       "\u001b[1m3×2 DataFrame\u001b[0m\n",
       "\u001b[1m Row \u001b[0m│\u001b[1m a    \u001b[0m\u001b[1m b         \u001b[0m\n",
       "\u001b[1m     \u001b[0m│\u001b[90m Char \u001b[0m\u001b[90m Any       \u001b[0m\n",
       "─────┼─────────────────\n",
       "   1 │ a     [1, 2, 3]\n",
       "   2 │ b     [4, 5]\n",
       "   3 │ c     6"
      ]
     },
     "execution_count": 88,
     "metadata": {},
     "output_type": "execute_result"
    }
   ],
   "source": [
    "df = DataFrame(a = 'a':'c', b = [[1, 2, 3], [4, 5], 6])"
   ]
  },
  {
   "cell_type": "code",
   "execution_count": 89,
   "metadata": {
    "execution": {
     "iopub.execute_input": "2022-07-18T00:53:36.390000Z",
     "iopub.status.busy": "2022-07-18T00:53:36.390000Z",
     "iopub.status.idle": "2022-07-18T00:53:36.979000Z",
     "shell.execute_reply": "2022-07-18T00:53:36.979000Z"
    }
   },
   "outputs": [
    {
     "data": {
      "text/html": [
       "<div class=\"data-frame\"><p>6 rows × 2 columns</p><table class=\"data-frame\"><thead><tr><th></th><th>a</th><th>b</th></tr><tr><th></th><th title=\"Char\">Char</th><th title=\"Int64\">Int64</th></tr></thead><tbody><tr><th>1</th><td>a</td><td>1</td></tr><tr><th>2</th><td>a</td><td>2</td></tr><tr><th>3</th><td>a</td><td>3</td></tr><tr><th>4</th><td>b</td><td>4</td></tr><tr><th>5</th><td>b</td><td>5</td></tr><tr><th>6</th><td>c</td><td>6</td></tr></tbody></table></div>"
      ],
      "text/latex": [
       "\\begin{tabular}{r|cc}\n",
       "\t& a & b\\\\\n",
       "\t\\hline\n",
       "\t& Char & Int64\\\\\n",
       "\t\\hline\n",
       "\t1 & a & 1 \\\\\n",
       "\t2 & a & 2 \\\\\n",
       "\t3 & a & 3 \\\\\n",
       "\t4 & b & 4 \\\\\n",
       "\t5 & b & 5 \\\\\n",
       "\t6 & c & 6 \\\\\n",
       "\\end{tabular}\n"
      ],
      "text/plain": [
       "\u001b[1m6×2 DataFrame\u001b[0m\n",
       "\u001b[1m Row \u001b[0m│\u001b[1m a    \u001b[0m\u001b[1m b     \u001b[0m\n",
       "\u001b[1m     \u001b[0m│\u001b[90m Char \u001b[0m\u001b[90m Int64 \u001b[0m\n",
       "─────┼─────────────\n",
       "   1 │ a         1\n",
       "   2 │ a         2\n",
       "   3 │ a         3\n",
       "   4 │ b         4\n",
       "   5 │ b         5\n",
       "   6 │ c         6"
      ]
     },
     "execution_count": 89,
     "metadata": {},
     "output_type": "execute_result"
    }
   ],
   "source": [
    "flatten(df, :b)"
   ]
  },
  {
   "cell_type": "markdown",
   "metadata": {},
   "source": [
    "## Only one row"
   ]
  },
  {
   "cell_type": "markdown",
   "metadata": {},
   "source": [
    "`only` from Julia Base is also supported in DataFrames.jl and succeeds if the data frame has only one row, in which case it is returned."
   ]
  },
  {
   "cell_type": "code",
   "execution_count": 90,
   "metadata": {
    "execution": {
     "iopub.execute_input": "2022-07-18T00:53:36.982000Z",
     "iopub.status.busy": "2022-07-18T00:53:36.982000Z",
     "iopub.status.idle": "2022-07-18T00:53:37.027000Z",
     "shell.execute_reply": "2022-07-18T00:53:37.027000Z"
    }
   },
   "outputs": [
    {
     "data": {
      "text/html": [
       "<div class=\"data-frame\"><p>1 rows × 1 columns</p><table class=\"data-frame\"><thead><tr><th></th><th>a</th></tr><tr><th></th><th title=\"Int64\">Int64</th></tr></thead><tbody><tr><th>1</th><td>1</td></tr></tbody></table></div>"
      ],
      "text/latex": [
       "\\begin{tabular}{r|c}\n",
       "\t& a\\\\\n",
       "\t\\hline\n",
       "\t& Int64\\\\\n",
       "\t\\hline\n",
       "\t1 & 1 \\\\\n",
       "\\end{tabular}\n"
      ],
      "text/plain": [
       "\u001b[1m1×1 DataFrame\u001b[0m\n",
       "\u001b[1m Row \u001b[0m│\u001b[1m a     \u001b[0m\n",
       "\u001b[1m     \u001b[0m│\u001b[90m Int64 \u001b[0m\n",
       "─────┼───────\n",
       "   1 │     1"
      ]
     },
     "execution_count": 90,
     "metadata": {},
     "output_type": "execute_result"
    }
   ],
   "source": [
    "df = DataFrame(a=1)"
   ]
  },
  {
   "cell_type": "code",
   "execution_count": 91,
   "metadata": {
    "execution": {
     "iopub.execute_input": "2022-07-18T00:53:37.030000Z",
     "iopub.status.busy": "2022-07-18T00:53:37.030000Z",
     "iopub.status.idle": "2022-07-18T00:53:37.042000Z",
     "shell.execute_reply": "2022-07-18T00:53:37.042000Z"
    }
   },
   "outputs": [
    {
     "data": {
      "text/html": [
       "<p>DataFrameRow (1 columns)</p><div class=\"data-frame\"><table class=\"data-frame\"><thead><tr><th></th><th>a</th></tr><tr><th></th><th title=\"Int64\">Int64</th></tr></thead><tbody><tr><th>1</th><td>1</td></tr></tbody></table></div>"
      ],
      "text/latex": [
       "\\begin{tabular}{r|c}\n",
       "\t& a\\\\\n",
       "\t\\hline\n",
       "\t& Int64\\\\\n",
       "\t\\hline\n",
       "\t1 & 1 \\\\\n",
       "\\end{tabular}\n"
      ],
      "text/plain": [
       "\u001b[1mDataFrameRow\u001b[0m\n",
       "\u001b[1m Row \u001b[0m│\u001b[1m a     \u001b[0m\n",
       "\u001b[1m     \u001b[0m│\u001b[90m Int64 \u001b[0m\n",
       "─────┼───────\n",
       "   1 │     1"
      ]
     },
     "execution_count": 91,
     "metadata": {},
     "output_type": "execute_result"
    }
   ],
   "source": [
    "only(df)"
   ]
  },
  {
   "cell_type": "code",
   "execution_count": 92,
   "metadata": {
    "execution": {
     "iopub.execute_input": "2022-07-18T00:53:37.045000Z",
     "iopub.status.busy": "2022-07-18T00:53:37.045000Z",
     "iopub.status.idle": "2022-07-18T00:53:37.080000Z",
     "shell.execute_reply": "2022-07-18T00:53:37.080000Z"
    }
   },
   "outputs": [
    {
     "data": {
      "text/html": [
       "<div class=\"data-frame\"><p>2 rows × 1 columns</p><table class=\"data-frame\"><thead><tr><th></th><th>a</th></tr><tr><th></th><th title=\"Int64\">Int64</th></tr></thead><tbody><tr><th>1</th><td>1</td></tr><tr><th>2</th><td>1</td></tr></tbody></table></div>"
      ],
      "text/latex": [
       "\\begin{tabular}{r|c}\n",
       "\t& a\\\\\n",
       "\t\\hline\n",
       "\t& Int64\\\\\n",
       "\t\\hline\n",
       "\t1 & 1 \\\\\n",
       "\t2 & 1 \\\\\n",
       "\\end{tabular}\n"
      ],
      "text/plain": [
       "\u001b[1m2×1 DataFrame\u001b[0m\n",
       "\u001b[1m Row \u001b[0m│\u001b[1m a     \u001b[0m\n",
       "\u001b[1m     \u001b[0m│\u001b[90m Int64 \u001b[0m\n",
       "─────┼───────\n",
       "   1 │     1\n",
       "   2 │     1"
      ]
     },
     "execution_count": 92,
     "metadata": {},
     "output_type": "execute_result"
    }
   ],
   "source": [
    "df2 = repeat(df, 2)"
   ]
  },
  {
   "cell_type": "code",
   "execution_count": 93,
   "metadata": {
    "execution": {
     "iopub.execute_input": "2022-07-18T00:53:37.083000Z",
     "iopub.status.busy": "2022-07-18T00:53:37.083000Z",
     "iopub.status.idle": "2022-07-18T00:53:37.090000Z",
     "shell.execute_reply": "2022-07-18T00:53:37.089000Z"
    }
   },
   "outputs": [
    {
     "ename": "LoadError",
     "evalue": "ArgumentError: data frame must contain exactly 1 row",
     "output_type": "error",
     "traceback": [
      "ArgumentError: data frame must contain exactly 1 row",
      "",
      "Stacktrace:",
      " [1] only(df::DataFrame)",
      "   @ DataFrames ~/.julia/packages/DataFrames/zqFGs/src/abstractdataframe/abstractdataframe.jl:477",
      " [2] top-level scope",
      "   @ In[93]:1",
      " [3] eval",
      "   @ ./boot.jl:373 [inlined]",
      " [4] include_string(mapexpr::typeof(REPL.softscope), mod::Module, code::String, filename::String)",
      "   @ Base ./loading.jl:1196"
     ]
    }
   ],
   "source": [
    "only(df2)"
   ]
  }
 ],
 "metadata": {
  "@webio": {
   "lastCommId": null,
   "lastKernelId": null
  },
  "kernelspec": {
   "display_name": "Julia 1.7.2",
   "language": "julia",
   "name": "julia-1.7"
  },
  "language_info": {
   "file_extension": ".jl",
   "mimetype": "application/julia",
   "name": "julia",
   "version": "1.7.3"
  }
 },
 "nbformat": 4,
 "nbformat_minor": 1
}
