{
 "cells": [
  {
   "cell_type": "markdown",
   "metadata": {},
   "source": [
    "# DataFrames Extras\n",
    "\n",
    "Selected functionalities/packages"
   ]
  },
  {
   "cell_type": "code",
   "execution_count": 1,
   "metadata": {
    "execution": {
     "iopub.execute_input": "2022-07-18T00:51:23.592000Z",
     "iopub.status.busy": "2022-07-18T00:51:23.151000Z",
     "iopub.status.idle": "2022-07-18T00:51:26.848000Z",
     "shell.execute_reply": "2022-07-18T00:51:26.778000Z"
    }
   },
   "outputs": [],
   "source": [
    "using DataFrames\n",
    "using CategoricalArrays"
   ]
  },
  {
   "cell_type": "markdown",
   "metadata": {},
   "source": [
    "## Frequency Tables"
   ]
  },
  {
   "cell_type": "code",
   "execution_count": 2,
   "metadata": {
    "execution": {
     "iopub.execute_input": "2022-07-18T00:51:27.084000Z",
     "iopub.status.busy": "2022-07-18T00:51:26.851000Z",
     "iopub.status.idle": "2022-07-18T00:51:27.207000Z",
     "shell.execute_reply": "2022-07-18T00:51:27.207000Z"
    }
   },
   "outputs": [],
   "source": [
    "using FreqTables"
   ]
  },
  {
   "cell_type": "code",
   "execution_count": 3,
   "metadata": {
    "execution": {
     "iopub.execute_input": "2022-07-18T00:51:27.210000Z",
     "iopub.status.busy": "2022-07-18T00:51:27.210000Z",
     "iopub.status.idle": "2022-07-18T00:51:30.882000Z",
     "shell.execute_reply": "2022-07-18T00:51:30.882000Z"
    }
   },
   "outputs": [
    {
     "data": {
      "text/plain": [
       "4×3 Named Matrix{Int64}\n",
       "a ╲ b │  x   y   z\n",
       "──────┼───────────\n",
       "'a'   │ 76  84  77\n",
       "'b'   │ 98  85  88\n",
       "'c'   │ 94  78  78\n",
       "'d'   │ 89  81  72"
      ]
     },
     "execution_count": 3,
     "metadata": {},
     "output_type": "execute_result"
    }
   ],
   "source": [
    "df = DataFrame(a=rand('a':'d', 1000), b=rand([\"x\", \"y\", \"z\"], 1000))\n",
    "ft = freqtable(df, :a, :b) # observe that dimensions are sorted if possible"
   ]
  },
  {
   "cell_type": "code",
   "execution_count": 4,
   "metadata": {
    "execution": {
     "iopub.execute_input": "2022-07-18T00:51:30.904000Z",
     "iopub.status.busy": "2022-07-18T00:51:30.904000Z",
     "iopub.status.idle": "2022-07-18T00:51:31.242000Z",
     "shell.execute_reply": "2022-07-18T00:51:31.242000Z"
    }
   },
   "outputs": [
    {
     "data": {
      "text/plain": [
       "(76, 88)"
      ]
     },
     "execution_count": 4,
     "metadata": {},
     "output_type": "execute_result"
    }
   ],
   "source": [
    "ft[1,1], ft['b', \"z\"] # you can index the result using numbers or names"
   ]
  },
  {
   "cell_type": "code",
   "execution_count": 5,
   "metadata": {
    "execution": {
     "iopub.execute_input": "2022-07-18T00:51:31.245000Z",
     "iopub.status.busy": "2022-07-18T00:51:31.245000Z",
     "iopub.status.idle": "2022-07-18T00:51:32.748000Z",
     "shell.execute_reply": "2022-07-18T00:51:32.748000Z"
    }
   },
   "outputs": [
    {
     "data": {
      "text/plain": [
       "4×3 Named Matrix{Float64}\n",
       "a ╲ b │        x         y         z\n",
       "──────┼─────────────────────────────\n",
       "'a'   │ 0.320675   0.35443  0.324895\n",
       "'b'   │ 0.361624  0.313653  0.324723\n",
       "'c'   │    0.376     0.312     0.312\n",
       "'d'   │ 0.367769  0.334711  0.297521"
      ]
     },
     "execution_count": 5,
     "metadata": {},
     "output_type": "execute_result"
    }
   ],
   "source": [
    "prop(ft, margins=1) # getting proportions - 1 means we want to calculate them in rows (first dimension)"
   ]
  },
  {
   "cell_type": "code",
   "execution_count": 6,
   "metadata": {
    "execution": {
     "iopub.execute_input": "2022-07-18T00:51:32.751000Z",
     "iopub.status.busy": "2022-07-18T00:51:32.751000Z",
     "iopub.status.idle": "2022-07-18T00:51:32.892000Z",
     "shell.execute_reply": "2022-07-18T00:51:32.892000Z"
    }
   },
   "outputs": [
    {
     "data": {
      "text/plain": [
       "4×3 Named Matrix{Float64}\n",
       "a ╲ b │        x         y         z\n",
       "──────┼─────────────────────────────\n",
       "'a'   │ 0.212885  0.256098  0.244444\n",
       "'b'   │  0.27451  0.259146  0.279365\n",
       "'c'   │ 0.263305  0.237805  0.247619\n",
       "'d'   │   0.2493  0.246951  0.228571"
      ]
     },
     "execution_count": 6,
     "metadata": {},
     "output_type": "execute_result"
    }
   ],
   "source": [
    "prop(ft, margins=2) # and columns are normalized to 1.0 now"
   ]
  },
  {
   "cell_type": "code",
   "execution_count": 7,
   "metadata": {
    "execution": {
     "iopub.execute_input": "2022-07-18T00:51:32.895000Z",
     "iopub.status.busy": "2022-07-18T00:51:32.895000Z",
     "iopub.status.idle": "2022-07-18T00:51:34.810000Z",
     "shell.execute_reply": "2022-07-18T00:51:34.810000Z"
    }
   },
   "outputs": [
    {
     "data": {
      "text/plain": [
       "4-element Named Vector{Int64}\n",
       "Dim1  │ \n",
       "──────┼──\n",
       "3     │ 4\n",
       "1     │ 2\n",
       "2     │ 4\n",
       "4     │ 0"
      ]
     },
     "execution_count": 7,
     "metadata": {},
     "output_type": "execute_result"
    }
   ],
   "source": [
    "x = categorical(rand(1:3, 10))\n",
    "levels!(x, [3, 1, 2, 4]) # reordering levels and adding an extra level\n",
    "freqtable(x) # order is preserved and not-used level is shown"
   ]
  },
  {
   "cell_type": "code",
   "execution_count": 8,
   "metadata": {
    "execution": {
     "iopub.execute_input": "2022-07-18T00:51:34.813000Z",
     "iopub.status.busy": "2022-07-18T00:51:34.813000Z",
     "iopub.status.idle": "2022-07-18T00:51:36.456000Z",
     "shell.execute_reply": "2022-07-18T00:51:36.455000Z"
    }
   },
   "outputs": [
    {
     "data": {
      "text/plain": [
       "4-element Named Vector{Int64}\n",
       "Dim1    │ \n",
       "────────┼──\n",
       "1       │ 2\n",
       "2       │ 1\n",
       "3       │ 1\n",
       "missing │ 1"
      ]
     },
     "execution_count": 8,
     "metadata": {},
     "output_type": "execute_result"
    }
   ],
   "source": [
    "freqtable([1,1,2,3,missing]) # by default missings are listed"
   ]
  },
  {
   "cell_type": "code",
   "execution_count": 9,
   "metadata": {
    "execution": {
     "iopub.execute_input": "2022-07-18T00:51:36.459000Z",
     "iopub.status.busy": "2022-07-18T00:51:36.459000Z",
     "iopub.status.idle": "2022-07-18T00:51:36.478000Z",
     "shell.execute_reply": "2022-07-18T00:51:36.478000Z"
    }
   },
   "outputs": [
    {
     "data": {
      "text/plain": [
       "3-element Named Vector{Int64}\n",
       "Dim1  │ \n",
       "──────┼──\n",
       "1     │ 2\n",
       "2     │ 1\n",
       "3     │ 1"
      ]
     },
     "execution_count": 9,
     "metadata": {},
     "output_type": "execute_result"
    }
   ],
   "source": [
    "freqtable([1,1,2,3,missing], skipmissing=true) # but we can skip them"
   ]
  },
  {
   "cell_type": "code",
   "execution_count": 10,
   "metadata": {
    "execution": {
     "iopub.execute_input": "2022-07-18T00:51:36.482000Z",
     "iopub.status.busy": "2022-07-18T00:51:36.482000Z",
     "iopub.status.idle": "2022-07-18T00:51:37.800000Z",
     "shell.execute_reply": "2022-07-18T00:51:37.800000Z"
    }
   },
   "outputs": [
    {
     "data": {
      "text/plain": [
       "2×2 Named Matrix{Int64}\n",
       "a ╲ b │   5    6\n",
       "──────┼─────────\n",
       "3     │ 227  248\n",
       "4     │ 262  263"
      ]
     },
     "execution_count": 10,
     "metadata": {},
     "output_type": "execute_result"
    }
   ],
   "source": [
    "df = DataFrame(a=rand(3:4, 1000), b=rand(5:6, 1000))\n",
    "ft = freqtable(df, :a, :b) # now dimensions are numbers"
   ]
  },
  {
   "cell_type": "code",
   "execution_count": 11,
   "metadata": {
    "execution": {
     "iopub.execute_input": "2022-07-18T00:51:37.804000Z",
     "iopub.status.busy": "2022-07-18T00:51:37.803000Z",
     "iopub.status.idle": "2022-07-18T00:51:38.785000Z",
     "shell.execute_reply": "2022-07-18T00:51:38.785000Z"
    }
   },
   "outputs": [
    {
     "ename": "LoadError",
     "evalue": "BoundsError: attempt to access 2×2 Matrix{Int64} at index [3, 5]",
     "output_type": "error",
     "traceback": [
      "BoundsError: attempt to access 2×2 Matrix{Int64} at index [3, 5]",
      "",
      "Stacktrace:",
      " [1] getindex",
      "   @ ./array.jl:862 [inlined]",
      " [2] getindex(::NamedArrays.NamedMatrix{Int64, Matrix{Int64}, Tuple{OrderedCollections.OrderedDict{Int64, Int64}, OrderedCollections.OrderedDict{Int64, Int64}}}, ::Int64, ::Int64)",
      "   @ NamedArrays ~/.julia/packages/NamedArrays/TuJLn/src/index.jl:17",
      " [3] top-level scope",
      "   @ In[11]:1",
      " [4] eval",
      "   @ ./boot.jl:373 [inlined]",
      " [5] include_string(mapexpr::typeof(REPL.softscope), mod::Module, code::String, filename::String)",
      "   @ Base ./loading.jl:1196"
     ]
    }
   ],
   "source": [
    "ft[3,5] # this is an error - standard array indexing takes precedence"
   ]
  },
  {
   "cell_type": "code",
   "execution_count": 12,
   "metadata": {
    "execution": {
     "iopub.execute_input": "2022-07-18T00:51:38.789000Z",
     "iopub.status.busy": "2022-07-18T00:51:38.788000Z",
     "iopub.status.idle": "2022-07-18T00:51:39.032000Z",
     "shell.execute_reply": "2022-07-18T00:51:39.032000Z"
    }
   },
   "outputs": [
    {
     "data": {
      "text/plain": [
       "227"
      ]
     },
     "execution_count": 12,
     "metadata": {},
     "output_type": "execute_result"
    }
   ],
   "source": [
    "ft[Name(3), Name(5)] # you have to use Name() wrapper"
   ]
  },
  {
   "cell_type": "markdown",
   "metadata": {},
   "source": [
    "## DataFramesMeta.jl\n",
    "\n",
    "DataFramesMeta.jl provides a more terse syntax due to the benefits of metaprogramming."
   ]
  },
  {
   "cell_type": "code",
   "execution_count": 13,
   "metadata": {
    "execution": {
     "iopub.execute_input": "2022-07-18T00:51:39.035000Z",
     "iopub.status.busy": "2022-07-18T00:51:39.035000Z",
     "iopub.status.idle": "2022-07-18T00:51:39.083000Z",
     "shell.execute_reply": "2022-07-18T00:51:39.082000Z"
    }
   },
   "outputs": [],
   "source": [
    "using DataFramesMeta"
   ]
  },
  {
   "cell_type": "code",
   "execution_count": 14,
   "metadata": {
    "execution": {
     "iopub.execute_input": "2022-07-18T00:51:39.085000Z",
     "iopub.status.busy": "2022-07-18T00:51:39.085000Z",
     "iopub.status.idle": "2022-07-18T00:51:43.842000Z",
     "shell.execute_reply": "2022-07-18T00:51:43.842000Z"
    }
   },
   "outputs": [
    {
     "data": {
      "text/html": [
       "<div class=\"data-frame\"><p>8 rows × 3 columns</p><table class=\"data-frame\"><thead><tr><th></th><th>x</th><th>y</th><th>z</th></tr><tr><th></th><th title=\"Int64\">Int64</th><th title=\"Char\">Char</th><th title=\"Bool\">Bool</th></tr></thead><tbody><tr><th>1</th><td>1</td><td>a</td><td>1</td></tr><tr><th>2</th><td>2</td><td>b</td><td>0</td></tr><tr><th>3</th><td>3</td><td>c</td><td>1</td></tr><tr><th>4</th><td>4</td><td>d</td><td>0</td></tr><tr><th>5</th><td>5</td><td>e</td><td>1</td></tr><tr><th>6</th><td>6</td><td>f</td><td>0</td></tr><tr><th>7</th><td>7</td><td>g</td><td>1</td></tr><tr><th>8</th><td>8</td><td>h</td><td>0</td></tr></tbody></table></div>"
      ],
      "text/latex": [
       "\\begin{tabular}{r|ccc}\n",
       "\t& x & y & z\\\\\n",
       "\t\\hline\n",
       "\t& Int64 & Char & Bool\\\\\n",
       "\t\\hline\n",
       "\t1 & 1 & a & 1 \\\\\n",
       "\t2 & 2 & b & 0 \\\\\n",
       "\t3 & 3 & c & 1 \\\\\n",
       "\t4 & 4 & d & 0 \\\\\n",
       "\t5 & 5 & e & 1 \\\\\n",
       "\t6 & 6 & f & 0 \\\\\n",
       "\t7 & 7 & g & 1 \\\\\n",
       "\t8 & 8 & h & 0 \\\\\n",
       "\\end{tabular}\n"
      ],
      "text/plain": [
       "\u001b[1m8×3 DataFrame\u001b[0m\n",
       "\u001b[1m Row \u001b[0m│\u001b[1m x     \u001b[0m\u001b[1m y    \u001b[0m\u001b[1m z     \u001b[0m\n",
       "\u001b[1m     \u001b[0m│\u001b[90m Int64 \u001b[0m\u001b[90m Char \u001b[0m\u001b[90m Bool  \u001b[0m\n",
       "─────┼────────────────────\n",
       "   1 │     1  a      true\n",
       "   2 │     2  b     false\n",
       "   3 │     3  c      true\n",
       "   4 │     4  d     false\n",
       "   5 │     5  e      true\n",
       "   6 │     6  f     false\n",
       "   7 │     7  g      true\n",
       "   8 │     8  h     false"
      ]
     },
     "execution_count": 14,
     "metadata": {},
     "output_type": "execute_result"
    }
   ],
   "source": [
    "df = DataFrame(x=1:8, y='a':'h', z=repeat([true,false], outer=4))"
   ]
  },
  {
   "cell_type": "code",
   "execution_count": 15,
   "metadata": {
    "execution": {
     "iopub.execute_input": "2022-07-18T00:51:43.846000Z",
     "iopub.status.busy": "2022-07-18T00:51:43.845000Z",
     "iopub.status.idle": "2022-07-18T00:51:45.957000Z",
     "shell.execute_reply": "2022-07-18T00:51:45.957000Z"
    }
   },
   "outputs": [
    {
     "data": {
      "text/plain": [
       "8-element Vector{Int64}:\n",
       " 2\n",
       " 2\n",
       " 4\n",
       " 4\n",
       " 6\n",
       " 6\n",
       " 8\n",
       " 8"
      ]
     },
     "execution_count": 15,
     "metadata": {},
     "output_type": "execute_result"
    }
   ],
   "source": [
    "@with(df, :x + :z) # expressions with columns of DataFrame"
   ]
  },
  {
   "cell_type": "code",
   "execution_count": 16,
   "metadata": {
    "execution": {
     "iopub.execute_input": "2022-07-18T00:51:45.960000Z",
     "iopub.status.busy": "2022-07-18T00:51:45.960000Z",
     "iopub.status.idle": "2022-07-18T00:51:47.147000Z",
     "shell.execute_reply": "2022-07-18T00:51:47.147000Z"
    }
   },
   "outputs": [
    {
     "data": {
      "text/plain": [
       "8-element Vector{Char}:\n",
       " 'b': ASCII/Unicode U+0062 (category Ll: Letter, lowercase)\n",
       " 'e': ASCII/Unicode U+0065 (category Ll: Letter, lowercase)\n",
       " 'h': ASCII/Unicode U+0068 (category Ll: Letter, lowercase)\n",
       " 'k': ASCII/Unicode U+006B (category Ll: Letter, lowercase)\n",
       " 'g': ASCII/Unicode U+0067 (category Ll: Letter, lowercase)\n",
       " 'j': ASCII/Unicode U+006A (category Ll: Letter, lowercase)\n",
       " 'm': ASCII/Unicode U+006D (category Ll: Letter, lowercase)\n",
       " 'p': ASCII/Unicode U+0070 (category Ll: Letter, lowercase)"
      ]
     },
     "execution_count": 16,
     "metadata": {},
     "output_type": "execute_result"
    }
   ],
   "source": [
    "@with df begin # you can define code blocks\n",
    "    a = :x[:z]\n",
    "    b = :x[.!:z]\n",
    "    :y + [a; b]\n",
    "end"
   ]
  },
  {
   "cell_type": "code",
   "execution_count": 17,
   "metadata": {
    "execution": {
     "iopub.execute_input": "2022-07-18T00:51:47.150000Z",
     "iopub.status.busy": "2022-07-18T00:51:47.150000Z",
     "iopub.status.idle": "2022-07-18T00:51:47.265000Z",
     "shell.execute_reply": "2022-07-18T00:51:47.264000Z"
    }
   },
   "outputs": [
    {
     "ename": "LoadError",
     "evalue": "UndefVarError: a not defined",
     "output_type": "error",
     "traceback": [
      "UndefVarError: a not defined",
      "",
      "Stacktrace:",
      " [1] top-level scope",
      "   @ :0",
      " [2] eval",
      "   @ ./boot.jl:373 [inlined]",
      " [3] include_string(mapexpr::typeof(REPL.softscope), mod::Module, code::String, filename::String)",
      "   @ Base ./loading.jl:1196"
     ]
    }
   ],
   "source": [
    "a # @with creates hard scope so variables do not leak out"
   ]
  },
  {
   "cell_type": "code",
   "execution_count": 18,
   "metadata": {
    "execution": {
     "iopub.execute_input": "2022-07-18T00:51:47.268000Z",
     "iopub.status.busy": "2022-07-18T00:51:47.268000Z",
     "iopub.status.idle": "2022-07-18T00:51:48.252000Z",
     "shell.execute_reply": "2022-07-18T00:51:48.252000Z"
    }
   },
   "outputs": [
    {
     "data": {
      "text/plain": [
       "3-element BitVector:\n",
       " 1\n",
       " 0\n",
       " 0"
      ]
     },
     "execution_count": 18,
     "metadata": {},
     "output_type": "execute_result"
    }
   ],
   "source": [
    "df2 = DataFrame(a = [:a, :b, :c])\n",
    "@with(df2, :a .== ^(:a)) # sometimes we want to work on a raw Symbol, ^() escapes it"
   ]
  },
  {
   "cell_type": "code",
   "execution_count": 19,
   "metadata": {
    "execution": {
     "iopub.execute_input": "2022-07-18T00:51:48.255000Z",
     "iopub.status.busy": "2022-07-18T00:51:48.255000Z",
     "iopub.status.idle": "2022-07-18T00:51:48.488000Z",
     "shell.execute_reply": "2022-07-18T00:51:48.488000Z"
    }
   },
   "outputs": [
    {
     "data": {
      "text/plain": [
       "3-element Vector{Int64}:\n",
       " 5\n",
       " 7\n",
       " 9"
      ]
     },
     "execution_count": 19,
     "metadata": {},
     "output_type": "execute_result"
    }
   ],
   "source": [
    "x_str = \"x\"\n",
    "y_str = \"y\"\n",
    "df2 = DataFrame(x=1:3, y=4:6, z=7:9)\n",
    "# $expression inderpolates the expression in-place; in particular this way you can use column names passed as strings\n",
    "@with(df2, $x_str + $y_str)"
   ]
  },
  {
   "cell_type": "code",
   "execution_count": 20,
   "metadata": {
    "execution": {
     "iopub.execute_input": "2022-07-18T00:51:48.491000Z",
     "iopub.status.busy": "2022-07-18T00:51:48.491000Z",
     "iopub.status.idle": "2022-07-18T00:51:50.366000Z",
     "shell.execute_reply": "2022-07-18T00:51:50.366000Z"
    }
   },
   "outputs": [
    {
     "data": {
      "text/html": [
       "<div class=\"data-frame\"><p>2 rows × 3 columns</p><table class=\"data-frame\"><thead><tr><th></th><th>x</th><th>y</th><th>z</th></tr><tr><th></th><th title=\"Int64\">Int64</th><th title=\"Char\">Char</th><th title=\"Bool\">Bool</th></tr></thead><tbody><tr><th>1</th><td>1</td><td>a</td><td>1</td></tr><tr><th>2</th><td>3</td><td>c</td><td>1</td></tr></tbody></table></div>"
      ],
      "text/latex": [
       "\\begin{tabular}{r|ccc}\n",
       "\t& x & y & z\\\\\n",
       "\t\\hline\n",
       "\t& Int64 & Char & Bool\\\\\n",
       "\t\\hline\n",
       "\t1 & 1 & a & 1 \\\\\n",
       "\t2 & 3 & c & 1 \\\\\n",
       "\\end{tabular}\n"
      ],
      "text/plain": [
       "\u001b[1m2×3 DataFrame\u001b[0m\n",
       "\u001b[1m Row \u001b[0m│\u001b[1m x     \u001b[0m\u001b[1m y    \u001b[0m\u001b[1m z    \u001b[0m\n",
       "\u001b[1m     \u001b[0m│\u001b[90m Int64 \u001b[0m\u001b[90m Char \u001b[0m\u001b[90m Bool \u001b[0m\n",
       "─────┼───────────────────\n",
       "   1 │     1  a     true\n",
       "   2 │     3  c     true"
      ]
     },
     "execution_count": 20,
     "metadata": {},
     "output_type": "execute_result"
    }
   ],
   "source": [
    "@subset(df, :x .< 4, :z .== true) # a very useful macro for filtering"
   ]
  },
  {
   "cell_type": "code",
   "execution_count": 21,
   "metadata": {
    "execution": {
     "iopub.execute_input": "2022-07-18T00:51:50.369000Z",
     "iopub.status.busy": "2022-07-18T00:51:50.369000Z",
     "iopub.status.idle": "2022-07-18T00:51:50.717000Z",
     "shell.execute_reply": "2022-07-18T00:51:50.717000Z"
    }
   },
   "outputs": [
    {
     "data": {
      "text/html": [
       "<div class=\"data-frame\"><p>8 rows × 3 columns</p><table class=\"data-frame\"><thead><tr><th></th><th>x</th><th>y</th><th>z</th></tr><tr><th></th><th title=\"Int64\">Int64</th><th title=\"Int64\">Int64</th><th title=\"Char\">Char</th></tr></thead><tbody><tr><th>1</th><td>1</td><td>2</td><td>a</td></tr><tr><th>2</th><td>2</td><td>4</td><td>b</td></tr><tr><th>3</th><td>3</td><td>6</td><td>c</td></tr><tr><th>4</th><td>4</td><td>8</td><td>d</td></tr><tr><th>5</th><td>5</td><td>10</td><td>e</td></tr><tr><th>6</th><td>6</td><td>12</td><td>f</td></tr><tr><th>7</th><td>7</td><td>14</td><td>g</td></tr><tr><th>8</th><td>8</td><td>16</td><td>h</td></tr></tbody></table></div>"
      ],
      "text/latex": [
       "\\begin{tabular}{r|ccc}\n",
       "\t& x & y & z\\\\\n",
       "\t\\hline\n",
       "\t& Int64 & Int64 & Char\\\\\n",
       "\t\\hline\n",
       "\t1 & 1 & 2 & a \\\\\n",
       "\t2 & 2 & 4 & b \\\\\n",
       "\t3 & 3 & 6 & c \\\\\n",
       "\t4 & 4 & 8 & d \\\\\n",
       "\t5 & 5 & 10 & e \\\\\n",
       "\t6 & 6 & 12 & f \\\\\n",
       "\t7 & 7 & 14 & g \\\\\n",
       "\t8 & 8 & 16 & h \\\\\n",
       "\\end{tabular}\n"
      ],
      "text/plain": [
       "\u001b[1m8×3 DataFrame\u001b[0m\n",
       "\u001b[1m Row \u001b[0m│\u001b[1m x     \u001b[0m\u001b[1m y     \u001b[0m\u001b[1m z    \u001b[0m\n",
       "\u001b[1m     \u001b[0m│\u001b[90m Int64 \u001b[0m\u001b[90m Int64 \u001b[0m\u001b[90m Char \u001b[0m\n",
       "─────┼────────────────────\n",
       "   1 │     1      2  a\n",
       "   2 │     2      4  b\n",
       "   3 │     3      6  c\n",
       "   4 │     4      8  d\n",
       "   5 │     5     10  e\n",
       "   6 │     6     12  f\n",
       "   7 │     7     14  g\n",
       "   8 │     8     16  h"
      ]
     },
     "execution_count": 21,
     "metadata": {},
     "output_type": "execute_result"
    }
   ],
   "source": [
    "@select(df, :x, :y = 2*:x, :z=:y) # create a new DataFrame based on the old one"
   ]
  },
  {
   "cell_type": "code",
   "execution_count": 22,
   "metadata": {
    "execution": {
     "iopub.execute_input": "2022-07-18T00:51:50.720000Z",
     "iopub.status.busy": "2022-07-18T00:51:50.720000Z",
     "iopub.status.idle": "2022-07-18T00:51:50.888000Z",
     "shell.execute_reply": "2022-07-18T00:51:50.888000Z"
    }
   },
   "outputs": [
    {
     "data": {
      "text/html": [
       "<div class=\"data-frame\"><p>8 rows × 3 columns</p><table class=\"data-frame\"><thead><tr><th></th><th>x</th><th>y</th><th>z</th></tr><tr><th></th><th title=\"Int64\">Int64</th><th title=\"Int64\">Int64</th><th title=\"Bool\">Bool</th></tr></thead><tbody><tr><th>1</th><td>2</td><td>1</td><td>1</td></tr><tr><th>2</th><td>4</td><td>2</td><td>0</td></tr><tr><th>3</th><td>6</td><td>3</td><td>1</td></tr><tr><th>4</th><td>8</td><td>4</td><td>0</td></tr><tr><th>5</th><td>10</td><td>5</td><td>1</td></tr><tr><th>6</th><td>12</td><td>6</td><td>0</td></tr><tr><th>7</th><td>14</td><td>7</td><td>1</td></tr><tr><th>8</th><td>16</td><td>8</td><td>0</td></tr></tbody></table></div>"
      ],
      "text/latex": [
       "\\begin{tabular}{r|ccc}\n",
       "\t& x & y & z\\\\\n",
       "\t\\hline\n",
       "\t& Int64 & Int64 & Bool\\\\\n",
       "\t\\hline\n",
       "\t1 & 2 & 1 & 1 \\\\\n",
       "\t2 & 4 & 2 & 0 \\\\\n",
       "\t3 & 6 & 3 & 1 \\\\\n",
       "\t4 & 8 & 4 & 0 \\\\\n",
       "\t5 & 10 & 5 & 1 \\\\\n",
       "\t6 & 12 & 6 & 0 \\\\\n",
       "\t7 & 14 & 7 & 1 \\\\\n",
       "\t8 & 16 & 8 & 0 \\\\\n",
       "\\end{tabular}\n"
      ],
      "text/plain": [
       "\u001b[1m8×3 DataFrame\u001b[0m\n",
       "\u001b[1m Row \u001b[0m│\u001b[1m x     \u001b[0m\u001b[1m y     \u001b[0m\u001b[1m z     \u001b[0m\n",
       "\u001b[1m     \u001b[0m│\u001b[90m Int64 \u001b[0m\u001b[90m Int64 \u001b[0m\u001b[90m Bool  \u001b[0m\n",
       "─────┼─────────────────────\n",
       "   1 │     2      1   true\n",
       "   2 │     4      2  false\n",
       "   3 │     6      3   true\n",
       "   4 │     8      4  false\n",
       "   5 │    10      5   true\n",
       "   6 │    12      6  false\n",
       "   7 │    14      7   true\n",
       "   8 │    16      8  false"
      ]
     },
     "execution_count": 22,
     "metadata": {},
     "output_type": "execute_result"
    }
   ],
   "source": [
    "@transform(df, :x = 2*:x, :y = :x) # create a new DataFrame adding columns based on the old one"
   ]
  },
  {
   "cell_type": "code",
   "execution_count": 23,
   "metadata": {
    "execution": {
     "iopub.execute_input": "2022-07-18T00:51:50.891000Z",
     "iopub.status.busy": "2022-07-18T00:51:50.891000Z",
     "iopub.status.idle": "2022-07-18T00:51:51.954000Z",
     "shell.execute_reply": "2022-07-18T00:51:51.954000Z"
    }
   },
   "outputs": [
    {
     "data": {
      "text/html": [
       "<div class=\"data-frame\"><p>8 rows × 3 columns</p><table class=\"data-frame\"><thead><tr><th></th><th>x</th><th>y</th><th>z</th></tr><tr><th></th><th title=\"Int64\">Int64</th><th title=\"Char\">Char</th><th title=\"Bool\">Bool</th></tr></thead><tbody><tr><th>1</th><td>8</td><td>h</td><td>0</td></tr><tr><th>2</th><td>6</td><td>f</td><td>0</td></tr><tr><th>3</th><td>4</td><td>d</td><td>0</td></tr><tr><th>4</th><td>2</td><td>b</td><td>0</td></tr><tr><th>5</th><td>7</td><td>g</td><td>1</td></tr><tr><th>6</th><td>5</td><td>e</td><td>1</td></tr><tr><th>7</th><td>3</td><td>c</td><td>1</td></tr><tr><th>8</th><td>1</td><td>a</td><td>1</td></tr></tbody></table></div>"
      ],
      "text/latex": [
       "\\begin{tabular}{r|ccc}\n",
       "\t& x & y & z\\\\\n",
       "\t\\hline\n",
       "\t& Int64 & Char & Bool\\\\\n",
       "\t\\hline\n",
       "\t1 & 8 & h & 0 \\\\\n",
       "\t2 & 6 & f & 0 \\\\\n",
       "\t3 & 4 & d & 0 \\\\\n",
       "\t4 & 2 & b & 0 \\\\\n",
       "\t5 & 7 & g & 1 \\\\\n",
       "\t6 & 5 & e & 1 \\\\\n",
       "\t7 & 3 & c & 1 \\\\\n",
       "\t8 & 1 & a & 1 \\\\\n",
       "\\end{tabular}\n"
      ],
      "text/plain": [
       "\u001b[1m8×3 DataFrame\u001b[0m\n",
       "\u001b[1m Row \u001b[0m│\u001b[1m x     \u001b[0m\u001b[1m y    \u001b[0m\u001b[1m z     \u001b[0m\n",
       "\u001b[1m     \u001b[0m│\u001b[90m Int64 \u001b[0m\u001b[90m Char \u001b[0m\u001b[90m Bool  \u001b[0m\n",
       "─────┼────────────────────\n",
       "   1 │     8  h     false\n",
       "   2 │     6  f     false\n",
       "   3 │     4  d     false\n",
       "   4 │     2  b     false\n",
       "   5 │     7  g      true\n",
       "   6 │     5  e      true\n",
       "   7 │     3  c      true\n",
       "   8 │     1  a      true"
      ]
     },
     "execution_count": 23,
     "metadata": {},
     "output_type": "execute_result"
    }
   ],
   "source": [
    "@orderby(df, :z, -:x) # sorting into a new data frame, less powerful than sort, but lightweight"
   ]
  },
  {
   "cell_type": "markdown",
   "metadata": {},
   "source": [
    "### Chaining operations"
   ]
  },
  {
   "cell_type": "code",
   "execution_count": 24,
   "metadata": {
    "execution": {
     "iopub.execute_input": "2022-07-18T00:51:51.957000Z",
     "iopub.status.busy": "2022-07-18T00:51:51.957000Z",
     "iopub.status.idle": "2022-07-18T00:51:51.958000Z",
     "shell.execute_reply": "2022-07-18T00:51:51.958000Z"
    }
   },
   "outputs": [],
   "source": [
    "using Chain"
   ]
  },
  {
   "cell_type": "code",
   "execution_count": 25,
   "metadata": {
    "execution": {
     "iopub.execute_input": "2022-07-18T00:51:51.960000Z",
     "iopub.status.busy": "2022-07-18T00:51:51.960000Z",
     "iopub.status.idle": "2022-07-18T00:51:54.221000Z",
     "shell.execute_reply": "2022-07-18T00:51:54.221000Z"
    }
   },
   "outputs": [
    {
     "data": {
      "text/html": [
       "<div class=\"data-frame\"><p>4 rows × 3 columns</p><table class=\"data-frame\"><thead><tr><th></th><th>z</th><th>x</th><th>x²</th></tr><tr><th></th><th title=\"Bool\">Bool</th><th title=\"Int64\">Int64</th><th title=\"Int64\">Int64</th></tr></thead><tbody><tr><th>1</th><td>0</td><td>2</td><td>4</td></tr><tr><th>2</th><td>0</td><td>4</td><td>16</td></tr><tr><th>3</th><td>1</td><td>1</td><td>1</td></tr><tr><th>4</th><td>1</td><td>3</td><td>9</td></tr></tbody></table></div>"
      ],
      "text/latex": [
       "\\begin{tabular}{r|ccc}\n",
       "\t& z & x & x²\\\\\n",
       "\t\\hline\n",
       "\t& Bool & Int64 & Int64\\\\\n",
       "\t\\hline\n",
       "\t1 & 0 & 2 & 4 \\\\\n",
       "\t2 & 0 & 4 & 16 \\\\\n",
       "\t3 & 1 & 1 & 1 \\\\\n",
       "\t4 & 1 & 3 & 9 \\\\\n",
       "\\end{tabular}\n"
      ],
      "text/plain": [
       "\u001b[1m4×3 DataFrame\u001b[0m\n",
       "\u001b[1m Row \u001b[0m│\u001b[1m z     \u001b[0m\u001b[1m x     \u001b[0m\u001b[1m x²    \u001b[0m\n",
       "\u001b[1m     \u001b[0m│\u001b[90m Bool  \u001b[0m\u001b[90m Int64 \u001b[0m\u001b[90m Int64 \u001b[0m\n",
       "─────┼─────────────────────\n",
       "   1 │ false      2      4\n",
       "   2 │ false      4     16\n",
       "   3 │  true      1      1\n",
       "   4 │  true      3      9"
      ]
     },
     "execution_count": 25,
     "metadata": {},
     "output_type": "execute_result"
    }
   ],
   "source": [
    "@chain df begin # chaining of operations on DataFrame\n",
    "    @subset(:x .< 5)\n",
    "    @orderby(:z)\n",
    "    @transform(:x² = :x .^ 2)\n",
    "    @select(:z, :x, :x²)\n",
    "end"
   ]
  },
  {
   "cell_type": "markdown",
   "metadata": {},
   "source": [
    "### Working on grouped `DataFrame`"
   ]
  },
  {
   "cell_type": "code",
   "execution_count": 26,
   "metadata": {
    "execution": {
     "iopub.execute_input": "2022-07-18T00:51:54.225000Z",
     "iopub.status.busy": "2022-07-18T00:51:54.225000Z",
     "iopub.status.idle": "2022-07-18T00:51:54.345000Z",
     "shell.execute_reply": "2022-07-18T00:51:54.345000Z"
    }
   },
   "outputs": [
    {
     "data": {
      "text/html": [
       "<div class=\"data-frame\"><p>12 rows × 2 columns</p><table class=\"data-frame\"><thead><tr><th></th><th>a</th><th>b</th></tr><tr><th></th><th title=\"Int64\">Int64</th><th title=\"Char\">Char</th></tr></thead><tbody><tr><th>1</th><td>1</td><td>a</td></tr><tr><th>2</th><td>2</td><td>b</td></tr><tr><th>3</th><td>3</td><td>c</td></tr><tr><th>4</th><td>4</td><td>d</td></tr><tr><th>5</th><td>5</td><td>a</td></tr><tr><th>6</th><td>6</td><td>b</td></tr><tr><th>7</th><td>7</td><td>c</td></tr><tr><th>8</th><td>8</td><td>d</td></tr><tr><th>9</th><td>9</td><td>a</td></tr><tr><th>10</th><td>10</td><td>b</td></tr><tr><th>11</th><td>11</td><td>c</td></tr><tr><th>12</th><td>12</td><td>d</td></tr></tbody></table></div>"
      ],
      "text/latex": [
       "\\begin{tabular}{r|cc}\n",
       "\t& a & b\\\\\n",
       "\t\\hline\n",
       "\t& Int64 & Char\\\\\n",
       "\t\\hline\n",
       "\t1 & 1 & a \\\\\n",
       "\t2 & 2 & b \\\\\n",
       "\t3 & 3 & c \\\\\n",
       "\t4 & 4 & d \\\\\n",
       "\t5 & 5 & a \\\\\n",
       "\t6 & 6 & b \\\\\n",
       "\t7 & 7 & c \\\\\n",
       "\t8 & 8 & d \\\\\n",
       "\t9 & 9 & a \\\\\n",
       "\t10 & 10 & b \\\\\n",
       "\t11 & 11 & c \\\\\n",
       "\t12 & 12 & d \\\\\n",
       "\\end{tabular}\n"
      ],
      "text/plain": [
       "\u001b[1m12×2 DataFrame\u001b[0m\n",
       "\u001b[1m Row \u001b[0m│\u001b[1m a     \u001b[0m\u001b[1m b    \u001b[0m\n",
       "\u001b[1m     \u001b[0m│\u001b[90m Int64 \u001b[0m\u001b[90m Char \u001b[0m\n",
       "─────┼─────────────\n",
       "   1 │     1  a\n",
       "   2 │     2  b\n",
       "   3 │     3  c\n",
       "   4 │     4  d\n",
       "   5 │     5  a\n",
       "   6 │     6  b\n",
       "   7 │     7  c\n",
       "   8 │     8  d\n",
       "   9 │     9  a\n",
       "  10 │    10  b\n",
       "  11 │    11  c\n",
       "  12 │    12  d"
      ]
     },
     "execution_count": 26,
     "metadata": {},
     "output_type": "execute_result"
    }
   ],
   "source": [
    "df = DataFrame(a = 1:12, b = repeat('a':'d', outer=3))"
   ]
  },
  {
   "cell_type": "code",
   "execution_count": 27,
   "metadata": {
    "execution": {
     "iopub.execute_input": "2022-07-18T00:51:54.348000Z",
     "iopub.status.busy": "2022-07-18T00:51:54.348000Z",
     "iopub.status.idle": "2022-07-18T00:52:01.717000Z",
     "shell.execute_reply": "2022-07-18T00:52:01.717000Z"
    }
   },
   "outputs": [
    {
     "data": {
      "text/html": [
       "<p><b>GroupedDataFrame with 4 groups based on key: b</b></p><p><i>First Group (3 rows): b = &apos;a&apos;</i></p><div class=\"data-frame\"><table class=\"data-frame\"><thead><tr><th></th><th>a</th><th>b</th></tr><tr><th></th><th title=\"Int64\">Int64</th><th title=\"Char\">Char</th></tr></thead><tbody><tr><th>1</th><td>1</td><td>a</td></tr><tr><th>2</th><td>5</td><td>a</td></tr><tr><th>3</th><td>9</td><td>a</td></tr></tbody></table></div><p>&vellip;</p><p><i>Last Group (3 rows): b = &apos;d&apos;</i></p><div class=\"data-frame\"><table class=\"data-frame\"><thead><tr><th></th><th>a</th><th>b</th></tr><tr><th></th><th title=\"Int64\">Int64</th><th title=\"Char\">Char</th></tr></thead><tbody><tr><th>1</th><td>4</td><td>d</td></tr><tr><th>2</th><td>8</td><td>d</td></tr><tr><th>3</th><td>12</td><td>d</td></tr></tbody></table></div>"
      ],
      "text/latex": [
       "GroupedDataFrame with 4 groups based on key: b\n",
       "\n",
       "First Group (3 rows): b = 'a'\n",
       "\n",
       "\\begin{tabular}{r|cc}\n",
       "\t& a & b\\\\\n",
       "\t\\hline\n",
       "\t& Int64 & Char\\\\\n",
       "\t\\hline\n",
       "\t1 & 1 & a \\\\\n",
       "\t2 & 5 & a \\\\\n",
       "\t3 & 9 & a \\\\\n",
       "\\end{tabular}\n",
       "\n",
       "$\\dots$\n",
       "\n",
       "Last Group (3 rows): b = 'd'\n",
       "\n",
       "\\begin{tabular}{r|cc}\n",
       "\t& a & b\\\\\n",
       "\t\\hline\n",
       "\t& Int64 & Char\\\\\n",
       "\t\\hline\n",
       "\t1 & 4 & d \\\\\n",
       "\t2 & 8 & d \\\\\n",
       "\t3 & 12 & d \\\\\n",
       "\\end{tabular}\n"
      ],
      "text/plain": [
       "GroupedDataFrame with 4 groups based on key: b\n",
       "First Group (3 rows): b = 'a'\n",
       "\u001b[1m Row \u001b[0m│\u001b[1m a     \u001b[0m\u001b[1m b    \u001b[0m\n",
       "\u001b[1m     \u001b[0m│\u001b[90m Int64 \u001b[0m\u001b[90m Char \u001b[0m\n",
       "─────┼─────────────\n",
       "   1 │     1  a\n",
       "   2 │     5  a\n",
       "   3 │     9  a\n",
       "⋮\n",
       "Last Group (3 rows): b = 'd'\n",
       "\u001b[1m Row \u001b[0m│\u001b[1m a     \u001b[0m\u001b[1m b    \u001b[0m\n",
       "\u001b[1m     \u001b[0m│\u001b[90m Int64 \u001b[0m\u001b[90m Char \u001b[0m\n",
       "─────┼─────────────\n",
       "   1 │     4  d\n",
       "   2 │     8  d\n",
       "   3 │    12  d"
      ]
     },
     "execution_count": 27,
     "metadata": {},
     "output_type": "execute_result"
    }
   ],
   "source": [
    "g = groupby(df, :b)"
   ]
  },
  {
   "cell_type": "code",
   "execution_count": 28,
   "metadata": {
    "execution": {
     "iopub.execute_input": "2022-07-18T00:52:01.721000Z",
     "iopub.status.busy": "2022-07-18T00:52:01.721000Z",
     "iopub.status.idle": "2022-07-18T00:52:01.721000Z",
     "shell.execute_reply": "2022-07-18T00:52:01.721000Z"
    }
   },
   "outputs": [],
   "source": [
    "using Statistics"
   ]
  },
  {
   "cell_type": "code",
   "execution_count": 29,
   "metadata": {
    "execution": {
     "iopub.execute_input": "2022-07-18T00:52:01.788000Z",
     "iopub.status.busy": "2022-07-18T00:52:01.788000Z",
     "iopub.status.idle": "2022-07-18T00:52:07.581000Z",
     "shell.execute_reply": "2022-07-18T00:52:07.581000Z"
    }
   },
   "outputs": [
    {
     "data": {
      "text/html": [
       "<div class=\"data-frame\"><p>4 rows × 4 columns</p><table class=\"data-frame\"><thead><tr><th></th><th>b</th><th>first</th><th>last</th><th>mean</th></tr><tr><th></th><th title=\"Char\">Char</th><th title=\"Int64\">Int64</th><th title=\"Int64\">Int64</th><th title=\"Float64\">Float64</th></tr></thead><tbody><tr><th>1</th><td>a</td><td>1</td><td>9</td><td>5.0</td></tr><tr><th>2</th><td>b</td><td>2</td><td>10</td><td>6.0</td></tr><tr><th>3</th><td>c</td><td>3</td><td>11</td><td>7.0</td></tr><tr><th>4</th><td>d</td><td>4</td><td>12</td><td>8.0</td></tr></tbody></table></div>"
      ],
      "text/latex": [
       "\\begin{tabular}{r|cccc}\n",
       "\t& b & first & last & mean\\\\\n",
       "\t\\hline\n",
       "\t& Char & Int64 & Int64 & Float64\\\\\n",
       "\t\\hline\n",
       "\t1 & a & 1 & 9 & 5.0 \\\\\n",
       "\t2 & b & 2 & 10 & 6.0 \\\\\n",
       "\t3 & c & 3 & 11 & 7.0 \\\\\n",
       "\t4 & d & 4 & 12 & 8.0 \\\\\n",
       "\\end{tabular}\n"
      ],
      "text/plain": [
       "\u001b[1m4×4 DataFrame\u001b[0m\n",
       "\u001b[1m Row \u001b[0m│\u001b[1m b    \u001b[0m\u001b[1m first \u001b[0m\u001b[1m last  \u001b[0m\u001b[1m mean    \u001b[0m\n",
       "\u001b[1m     \u001b[0m│\u001b[90m Char \u001b[0m\u001b[90m Int64 \u001b[0m\u001b[90m Int64 \u001b[0m\u001b[90m Float64 \u001b[0m\n",
       "─────┼─────────────────────────────\n",
       "   1 │ a         1      9      5.0\n",
       "   2 │ b         2     10      6.0\n",
       "   3 │ c         3     11      7.0\n",
       "   4 │ d         4     12      8.0"
      ]
     },
     "execution_count": 29,
     "metadata": {},
     "output_type": "execute_result"
    }
   ],
   "source": [
    "@by(df, :b, :first = first(:a), :last = last(:a), :mean = mean(:a)) # groupby+combine in one shot"
   ]
  },
  {
   "cell_type": "code",
   "execution_count": 30,
   "metadata": {
    "execution": {
     "iopub.execute_input": "2022-07-18T00:52:07.585000Z",
     "iopub.status.busy": "2022-07-18T00:52:07.585000Z",
     "iopub.status.idle": "2022-07-18T00:52:07.654000Z",
     "shell.execute_reply": "2022-07-18T00:52:07.654000Z"
    }
   },
   "outputs": [
    {
     "data": {
      "text/html": [
       "<div class=\"data-frame\"><p>4 rows × 4 columns</p><table class=\"data-frame\"><thead><tr><th></th><th>b</th><th>first</th><th>last</th><th>mean</th></tr><tr><th></th><th title=\"Char\">Char</th><th title=\"Int64\">Int64</th><th title=\"Int64\">Int64</th><th title=\"Float64\">Float64</th></tr></thead><tbody><tr><th>1</th><td>a</td><td>1</td><td>9</td><td>5.0</td></tr><tr><th>2</th><td>b</td><td>2</td><td>10</td><td>6.0</td></tr><tr><th>3</th><td>c</td><td>3</td><td>11</td><td>7.0</td></tr><tr><th>4</th><td>d</td><td>4</td><td>12</td><td>8.0</td></tr></tbody></table></div>"
      ],
      "text/latex": [
       "\\begin{tabular}{r|cccc}\n",
       "\t& b & first & last & mean\\\\\n",
       "\t\\hline\n",
       "\t& Char & Int64 & Int64 & Float64\\\\\n",
       "\t\\hline\n",
       "\t1 & a & 1 & 9 & 5.0 \\\\\n",
       "\t2 & b & 2 & 10 & 6.0 \\\\\n",
       "\t3 & c & 3 & 11 & 7.0 \\\\\n",
       "\t4 & d & 4 & 12 & 8.0 \\\\\n",
       "\\end{tabular}\n"
      ],
      "text/plain": [
       "\u001b[1m4×4 DataFrame\u001b[0m\n",
       "\u001b[1m Row \u001b[0m│\u001b[1m b    \u001b[0m\u001b[1m first \u001b[0m\u001b[1m last  \u001b[0m\u001b[1m mean    \u001b[0m\n",
       "\u001b[1m     \u001b[0m│\u001b[90m Char \u001b[0m\u001b[90m Int64 \u001b[0m\u001b[90m Int64 \u001b[0m\u001b[90m Float64 \u001b[0m\n",
       "─────┼─────────────────────────────\n",
       "   1 │ a         1      9      5.0\n",
       "   2 │ b         2     10      6.0\n",
       "   3 │ c         3     11      7.0\n",
       "   4 │ d         4     12      8.0"
      ]
     },
     "execution_count": 30,
     "metadata": {},
     "output_type": "execute_result"
    }
   ],
   "source": [
    "@combine(g, :first = first(:a), :last = last(:a), :mean = mean(:a)) # the same as by but on grouped DataFrame"
   ]
  },
  {
   "cell_type": "code",
   "execution_count": 31,
   "metadata": {
    "execution": {
     "iopub.execute_input": "2022-07-18T00:52:07.658000Z",
     "iopub.status.busy": "2022-07-18T00:52:07.658000Z",
     "iopub.status.idle": "2022-07-18T00:52:08.366000Z",
     "shell.execute_reply": "2022-07-18T00:52:08.366000Z"
    }
   },
   "outputs": [
    {
     "data": {
      "text/html": [
       "<div class=\"data-frame\"><p>4 rows × 4 columns</p><table class=\"data-frame\"><thead><tr><th></th><th>b</th><th>a_first</th><th>a_last</th><th>a_mean</th></tr><tr><th></th><th title=\"Char\">Char</th><th title=\"Int64\">Int64</th><th title=\"Int64\">Int64</th><th title=\"Float64\">Float64</th></tr></thead><tbody><tr><th>1</th><td>a</td><td>1</td><td>9</td><td>5.0</td></tr><tr><th>2</th><td>b</td><td>2</td><td>10</td><td>6.0</td></tr><tr><th>3</th><td>c</td><td>3</td><td>11</td><td>7.0</td></tr><tr><th>4</th><td>d</td><td>4</td><td>12</td><td>8.0</td></tr></tbody></table></div>"
      ],
      "text/latex": [
       "\\begin{tabular}{r|cccc}\n",
       "\t& b & a\\_first & a\\_last & a\\_mean\\\\\n",
       "\t\\hline\n",
       "\t& Char & Int64 & Int64 & Float64\\\\\n",
       "\t\\hline\n",
       "\t1 & a & 1 & 9 & 5.0 \\\\\n",
       "\t2 & b & 2 & 10 & 6.0 \\\\\n",
       "\t3 & c & 3 & 11 & 7.0 \\\\\n",
       "\t4 & d & 4 & 12 & 8.0 \\\\\n",
       "\\end{tabular}\n"
      ],
      "text/plain": [
       "\u001b[1m4×4 DataFrame\u001b[0m\n",
       "\u001b[1m Row \u001b[0m│\u001b[1m b    \u001b[0m\u001b[1m a_first \u001b[0m\u001b[1m a_last \u001b[0m\u001b[1m a_mean  \u001b[0m\n",
       "\u001b[1m     \u001b[0m│\u001b[90m Char \u001b[0m\u001b[90m Int64   \u001b[0m\u001b[90m Int64  \u001b[0m\u001b[90m Float64 \u001b[0m\n",
       "─────┼────────────────────────────────\n",
       "   1 │ a           1       9      5.0\n",
       "   2 │ b           2      10      6.0\n",
       "   3 │ c           3      11      7.0\n",
       "   4 │ d           4      12      8.0"
      ]
     },
     "execution_count": 31,
     "metadata": {},
     "output_type": "execute_result"
    }
   ],
   "source": [
    "combine(g, :a .=> [first, last, mean]) # similar in DataFrames.jl - we use auto-generated column names"
   ]
  },
  {
   "cell_type": "code",
   "execution_count": 32,
   "metadata": {
    "execution": {
     "iopub.execute_input": "2022-07-18T00:52:08.370000Z",
     "iopub.status.busy": "2022-07-18T00:52:08.370000Z",
     "iopub.status.idle": "2022-07-18T00:52:09.486000Z",
     "shell.execute_reply": "2022-07-18T00:52:09.486000Z"
    }
   },
   "outputs": [
    {
     "data": {
      "text/html": [
       "<div class=\"data-frame\"><p>12 rows × 4 columns</p><table class=\"data-frame\"><thead><tr><th></th><th>a</th><th>b</th><th>center</th><th>centered</th></tr><tr><th></th><th title=\"Int64\">Int64</th><th title=\"Char\">Char</th><th title=\"Float64\">Float64</th><th title=\"Float64\">Float64</th></tr></thead><tbody><tr><th>1</th><td>1</td><td>a</td><td>5.0</td><td>-4.0</td></tr><tr><th>2</th><td>2</td><td>b</td><td>6.0</td><td>-4.0</td></tr><tr><th>3</th><td>3</td><td>c</td><td>7.0</td><td>-4.0</td></tr><tr><th>4</th><td>4</td><td>d</td><td>8.0</td><td>-4.0</td></tr><tr><th>5</th><td>5</td><td>a</td><td>5.0</td><td>0.0</td></tr><tr><th>6</th><td>6</td><td>b</td><td>6.0</td><td>0.0</td></tr><tr><th>7</th><td>7</td><td>c</td><td>7.0</td><td>0.0</td></tr><tr><th>8</th><td>8</td><td>d</td><td>8.0</td><td>0.0</td></tr><tr><th>9</th><td>9</td><td>a</td><td>5.0</td><td>4.0</td></tr><tr><th>10</th><td>10</td><td>b</td><td>6.0</td><td>4.0</td></tr><tr><th>11</th><td>11</td><td>c</td><td>7.0</td><td>4.0</td></tr><tr><th>12</th><td>12</td><td>d</td><td>8.0</td><td>4.0</td></tr></tbody></table></div>"
      ],
      "text/latex": [
       "\\begin{tabular}{r|cccc}\n",
       "\t& a & b & center & centered\\\\\n",
       "\t\\hline\n",
       "\t& Int64 & Char & Float64 & Float64\\\\\n",
       "\t\\hline\n",
       "\t1 & 1 & a & 5.0 & -4.0 \\\\\n",
       "\t2 & 2 & b & 6.0 & -4.0 \\\\\n",
       "\t3 & 3 & c & 7.0 & -4.0 \\\\\n",
       "\t4 & 4 & d & 8.0 & -4.0 \\\\\n",
       "\t5 & 5 & a & 5.0 & 0.0 \\\\\n",
       "\t6 & 6 & b & 6.0 & 0.0 \\\\\n",
       "\t7 & 7 & c & 7.0 & 0.0 \\\\\n",
       "\t8 & 8 & d & 8.0 & 0.0 \\\\\n",
       "\t9 & 9 & a & 5.0 & 4.0 \\\\\n",
       "\t10 & 10 & b & 6.0 & 4.0 \\\\\n",
       "\t11 & 11 & c & 7.0 & 4.0 \\\\\n",
       "\t12 & 12 & d & 8.0 & 4.0 \\\\\n",
       "\\end{tabular}\n"
      ],
      "text/plain": [
       "\u001b[1m12×4 DataFrame\u001b[0m\n",
       "\u001b[1m Row \u001b[0m│\u001b[1m a     \u001b[0m\u001b[1m b    \u001b[0m\u001b[1m center  \u001b[0m\u001b[1m centered \u001b[0m\n",
       "\u001b[1m     \u001b[0m│\u001b[90m Int64 \u001b[0m\u001b[90m Char \u001b[0m\u001b[90m Float64 \u001b[0m\u001b[90m Float64  \u001b[0m\n",
       "─────┼────────────────────────────────\n",
       "   1 │     1  a         5.0      -4.0\n",
       "   2 │     2  b         6.0      -4.0\n",
       "   3 │     3  c         7.0      -4.0\n",
       "   4 │     4  d         8.0      -4.0\n",
       "   5 │     5  a         5.0       0.0\n",
       "   6 │     6  b         6.0       0.0\n",
       "   7 │     7  c         7.0       0.0\n",
       "   8 │     8  d         8.0       0.0\n",
       "   9 │     9  a         5.0       4.0\n",
       "  10 │    10  b         6.0       4.0\n",
       "  11 │    11  c         7.0       4.0\n",
       "  12 │    12  d         8.0       4.0"
      ]
     },
     "execution_count": 32,
     "metadata": {},
     "output_type": "execute_result"
    }
   ],
   "source": [
    "# perform operations within a group and return ungrouped DataFrame\n",
    "@transform(g, :center = mean(:a), :centered = :a .- mean(:a))"
   ]
  },
  {
   "cell_type": "code",
   "execution_count": 33,
   "metadata": {
    "execution": {
     "iopub.execute_input": "2022-07-18T00:52:09.490000Z",
     "iopub.status.busy": "2022-07-18T00:52:09.490000Z",
     "iopub.status.idle": "2022-07-18T00:52:09.576000Z",
     "shell.execute_reply": "2022-07-18T00:52:09.576000Z"
    }
   },
   "outputs": [
    {
     "data": {
      "text/html": [
       "<div class=\"data-frame\"><p>12 rows × 2 columns</p><table class=\"data-frame\"><thead><tr><th></th><th>a</th><th>b</th></tr><tr><th></th><th title=\"Int64\">Int64</th><th title=\"Char\">Char</th></tr></thead><tbody><tr><th>1</th><td>1</td><td>a</td></tr><tr><th>2</th><td>5</td><td>a</td></tr><tr><th>3</th><td>9</td><td>a</td></tr><tr><th>4</th><td>2</td><td>b</td></tr><tr><th>5</th><td>6</td><td>b</td></tr><tr><th>6</th><td>10</td><td>b</td></tr><tr><th>7</th><td>3</td><td>c</td></tr><tr><th>8</th><td>7</td><td>c</td></tr><tr><th>9</th><td>11</td><td>c</td></tr><tr><th>10</th><td>4</td><td>d</td></tr><tr><th>11</th><td>8</td><td>d</td></tr><tr><th>12</th><td>12</td><td>d</td></tr></tbody></table></div>"
      ],
      "text/latex": [
       "\\begin{tabular}{r|cc}\n",
       "\t& a & b\\\\\n",
       "\t\\hline\n",
       "\t& Int64 & Char\\\\\n",
       "\t\\hline\n",
       "\t1 & 1 & a \\\\\n",
       "\t2 & 5 & a \\\\\n",
       "\t3 & 9 & a \\\\\n",
       "\t4 & 2 & b \\\\\n",
       "\t5 & 6 & b \\\\\n",
       "\t6 & 10 & b \\\\\n",
       "\t7 & 3 & c \\\\\n",
       "\t8 & 7 & c \\\\\n",
       "\t9 & 11 & c \\\\\n",
       "\t10 & 4 & d \\\\\n",
       "\t11 & 8 & d \\\\\n",
       "\t12 & 12 & d \\\\\n",
       "\\end{tabular}\n"
      ],
      "text/plain": [
       "\u001b[1m12×2 DataFrame\u001b[0m\n",
       "\u001b[1m Row \u001b[0m│\u001b[1m a     \u001b[0m\u001b[1m b    \u001b[0m\n",
       "\u001b[1m     \u001b[0m│\u001b[90m Int64 \u001b[0m\u001b[90m Char \u001b[0m\n",
       "─────┼─────────────\n",
       "   1 │     1  a\n",
       "   2 │     5  a\n",
       "   3 │     9  a\n",
       "   4 │     2  b\n",
       "   5 │     6  b\n",
       "   6 │    10  b\n",
       "   7 │     3  c\n",
       "   8 │     7  c\n",
       "   9 │    11  c\n",
       "  10 │     4  d\n",
       "  11 │     8  d\n",
       "  12 │    12  d"
      ]
     },
     "execution_count": 33,
     "metadata": {},
     "output_type": "execute_result"
    }
   ],
   "source": [
    "DataFrame(g) # this is defined in DataFrames.jl"
   ]
  },
  {
   "cell_type": "code",
   "execution_count": 34,
   "metadata": {
    "execution": {
     "iopub.execute_input": "2022-07-18T00:52:09.579000Z",
     "iopub.status.busy": "2022-07-18T00:52:09.579000Z",
     "iopub.status.idle": "2022-07-18T00:52:09.638000Z",
     "shell.execute_reply": "2022-07-18T00:52:09.638000Z"
    }
   },
   "outputs": [
    {
     "data": {
      "text/html": [
       "<div class=\"data-frame\"><p>12 rows × 2 columns</p><table class=\"data-frame\"><thead><tr><th></th><th>a</th><th>b</th></tr><tr><th></th><th title=\"Int64\">Int64</th><th title=\"Char\">Char</th></tr></thead><tbody><tr><th>1</th><td>1</td><td>a</td></tr><tr><th>2</th><td>2</td><td>b</td></tr><tr><th>3</th><td>3</td><td>c</td></tr><tr><th>4</th><td>4</td><td>d</td></tr><tr><th>5</th><td>5</td><td>a</td></tr><tr><th>6</th><td>6</td><td>b</td></tr><tr><th>7</th><td>7</td><td>c</td></tr><tr><th>8</th><td>8</td><td>d</td></tr><tr><th>9</th><td>9</td><td>a</td></tr><tr><th>10</th><td>10</td><td>b</td></tr><tr><th>11</th><td>11</td><td>c</td></tr><tr><th>12</th><td>12</td><td>d</td></tr></tbody></table></div>"
      ],
      "text/latex": [
       "\\begin{tabular}{r|cc}\n",
       "\t& a & b\\\\\n",
       "\t\\hline\n",
       "\t& Int64 & Char\\\\\n",
       "\t\\hline\n",
       "\t1 & 1 & a \\\\\n",
       "\t2 & 2 & b \\\\\n",
       "\t3 & 3 & c \\\\\n",
       "\t4 & 4 & d \\\\\n",
       "\t5 & 5 & a \\\\\n",
       "\t6 & 6 & b \\\\\n",
       "\t7 & 7 & c \\\\\n",
       "\t8 & 8 & d \\\\\n",
       "\t9 & 9 & a \\\\\n",
       "\t10 & 10 & b \\\\\n",
       "\t11 & 11 & c \\\\\n",
       "\t12 & 12 & d \\\\\n",
       "\\end{tabular}\n"
      ],
      "text/plain": [
       "\u001b[1m12×2 DataFrame\u001b[0m\n",
       "\u001b[1m Row \u001b[0m│\u001b[1m a     \u001b[0m\u001b[1m b    \u001b[0m\n",
       "\u001b[1m     \u001b[0m│\u001b[90m Int64 \u001b[0m\u001b[90m Char \u001b[0m\n",
       "─────┼─────────────\n",
       "   1 │     1  a\n",
       "   2 │     2  b\n",
       "   3 │     3  c\n",
       "   4 │     4  d\n",
       "   5 │     5  a\n",
       "   6 │     6  b\n",
       "   7 │     7  c\n",
       "   8 │     8  d\n",
       "   9 │     9  a\n",
       "  10 │    10  b\n",
       "  11 │    11  c\n",
       "  12 │    12  d"
      ]
     },
     "execution_count": 34,
     "metadata": {},
     "output_type": "execute_result"
    }
   ],
   "source": [
    "@transform(g) # actually this is not the same as DataFrame() as it perserves the original row order"
   ]
  },
  {
   "cell_type": "markdown",
   "metadata": {},
   "source": [
    "### Rowwise operations on `DataFrame`"
   ]
  },
  {
   "cell_type": "code",
   "execution_count": 35,
   "metadata": {
    "execution": {
     "iopub.execute_input": "2022-07-18T00:52:09.642000Z",
     "iopub.status.busy": "2022-07-18T00:52:09.641000Z",
     "iopub.status.idle": "2022-07-18T00:52:09.733000Z",
     "shell.execute_reply": "2022-07-18T00:52:09.732000Z"
    }
   },
   "outputs": [
    {
     "data": {
      "text/html": [
       "<div class=\"data-frame\"><p>12 rows × 2 columns</p><table class=\"data-frame\"><thead><tr><th></th><th>a</th><th>b</th></tr><tr><th></th><th title=\"Int64\">Int64</th><th title=\"Int64\">Int64</th></tr></thead><tbody><tr><th>1</th><td>1</td><td>1</td></tr><tr><th>2</th><td>2</td><td>2</td></tr><tr><th>3</th><td>3</td><td>3</td></tr><tr><th>4</th><td>4</td><td>4</td></tr><tr><th>5</th><td>5</td><td>1</td></tr><tr><th>6</th><td>6</td><td>2</td></tr><tr><th>7</th><td>7</td><td>3</td></tr><tr><th>8</th><td>8</td><td>4</td></tr><tr><th>9</th><td>9</td><td>1</td></tr><tr><th>10</th><td>10</td><td>2</td></tr><tr><th>11</th><td>11</td><td>3</td></tr><tr><th>12</th><td>12</td><td>4</td></tr></tbody></table></div>"
      ],
      "text/latex": [
       "\\begin{tabular}{r|cc}\n",
       "\t& a & b\\\\\n",
       "\t\\hline\n",
       "\t& Int64 & Int64\\\\\n",
       "\t\\hline\n",
       "\t1 & 1 & 1 \\\\\n",
       "\t2 & 2 & 2 \\\\\n",
       "\t3 & 3 & 3 \\\\\n",
       "\t4 & 4 & 4 \\\\\n",
       "\t5 & 5 & 1 \\\\\n",
       "\t6 & 6 & 2 \\\\\n",
       "\t7 & 7 & 3 \\\\\n",
       "\t8 & 8 & 4 \\\\\n",
       "\t9 & 9 & 1 \\\\\n",
       "\t10 & 10 & 2 \\\\\n",
       "\t11 & 11 & 3 \\\\\n",
       "\t12 & 12 & 4 \\\\\n",
       "\\end{tabular}\n"
      ],
      "text/plain": [
       "\u001b[1m12×2 DataFrame\u001b[0m\n",
       "\u001b[1m Row \u001b[0m│\u001b[1m a     \u001b[0m\u001b[1m b     \u001b[0m\n",
       "\u001b[1m     \u001b[0m│\u001b[90m Int64 \u001b[0m\u001b[90m Int64 \u001b[0m\n",
       "─────┼──────────────\n",
       "   1 │     1      1\n",
       "   2 │     2      2\n",
       "   3 │     3      3\n",
       "   4 │     4      4\n",
       "   5 │     5      1\n",
       "   6 │     6      2\n",
       "   7 │     7      3\n",
       "   8 │     8      4\n",
       "   9 │     9      1\n",
       "  10 │    10      2\n",
       "  11 │    11      3\n",
       "  12 │    12      4"
      ]
     },
     "execution_count": 35,
     "metadata": {},
     "output_type": "execute_result"
    }
   ],
   "source": [
    "df = DataFrame(a = 1:12, b = repeat(1:4, outer=3))"
   ]
  },
  {
   "cell_type": "code",
   "execution_count": 36,
   "metadata": {
    "execution": {
     "iopub.execute_input": "2022-07-18T00:52:09.736000Z",
     "iopub.status.busy": "2022-07-18T00:52:09.736000Z",
     "iopub.status.idle": "2022-07-18T00:52:10.253000Z",
     "shell.execute_reply": "2022-07-18T00:52:10.253000Z"
    }
   },
   "outputs": [
    {
     "data": {
      "text/html": [
       "<div class=\"data-frame\"><p>12 rows × 3 columns</p><table class=\"data-frame\"><thead><tr><th></th><th>a</th><th>b</th><th>x</th></tr><tr><th></th><th title=\"Int64\">Int64</th><th title=\"Int64\">Int64</th><th title=\"String\">String</th></tr></thead><tbody><tr><th>1</th><td>1</td><td>1</td><td>no</td></tr><tr><th>2</th><td>2</td><td>2</td><td>no</td></tr><tr><th>3</th><td>3</td><td>3</td><td>no</td></tr><tr><th>4</th><td>4</td><td>4</td><td>no</td></tr><tr><th>5</th><td>5</td><td>1</td><td>no</td></tr><tr><th>6</th><td>6</td><td>2</td><td>no</td></tr><tr><th>7</th><td>7</td><td>3</td><td>no</td></tr><tr><th>8</th><td>8</td><td>4</td><td>yes</td></tr><tr><th>9</th><td>9</td><td>1</td><td>no</td></tr><tr><th>10</th><td>10</td><td>2</td><td>no</td></tr><tr><th>11</th><td>11</td><td>3</td><td>no</td></tr><tr><th>12</th><td>12</td><td>4</td><td>yes</td></tr></tbody></table></div>"
      ],
      "text/latex": [
       "\\begin{tabular}{r|ccc}\n",
       "\t& a & b & x\\\\\n",
       "\t\\hline\n",
       "\t& Int64 & Int64 & String\\\\\n",
       "\t\\hline\n",
       "\t1 & 1 & 1 & no \\\\\n",
       "\t2 & 2 & 2 & no \\\\\n",
       "\t3 & 3 & 3 & no \\\\\n",
       "\t4 & 4 & 4 & no \\\\\n",
       "\t5 & 5 & 1 & no \\\\\n",
       "\t6 & 6 & 2 & no \\\\\n",
       "\t7 & 7 & 3 & no \\\\\n",
       "\t8 & 8 & 4 & yes \\\\\n",
       "\t9 & 9 & 1 & no \\\\\n",
       "\t10 & 10 & 2 & no \\\\\n",
       "\t11 & 11 & 3 & no \\\\\n",
       "\t12 & 12 & 4 & yes \\\\\n",
       "\\end{tabular}\n"
      ],
      "text/plain": [
       "\u001b[1m12×3 DataFrame\u001b[0m\n",
       "\u001b[1m Row \u001b[0m│\u001b[1m a     \u001b[0m\u001b[1m b     \u001b[0m\u001b[1m x      \u001b[0m\n",
       "\u001b[1m     \u001b[0m│\u001b[90m Int64 \u001b[0m\u001b[90m Int64 \u001b[0m\u001b[90m String \u001b[0m\n",
       "─────┼──────────────────────\n",
       "   1 │     1      1  no\n",
       "   2 │     2      2  no\n",
       "   3 │     3      3  no\n",
       "   4 │     4      4  no\n",
       "   5 │     5      1  no\n",
       "   6 │     6      2  no\n",
       "   7 │     7      3  no\n",
       "   8 │     8      4  yes\n",
       "   9 │     9      1  no\n",
       "  10 │    10      2  no\n",
       "  11 │    11      3  no\n",
       "  12 │    12      4  yes"
      ]
     },
     "execution_count": 36,
     "metadata": {},
     "output_type": "execute_result"
    }
   ],
   "source": [
    "# such conditions are often needed but are complex to write\n",
    "@transform(df, :x = ifelse.((:a .> 6) .& (:b .== 4), \"yes\", \"no\"))"
   ]
  },
  {
   "cell_type": "code",
   "execution_count": 37,
   "metadata": {
    "execution": {
     "iopub.execute_input": "2022-07-18T00:52:10.257000Z",
     "iopub.status.busy": "2022-07-18T00:52:10.256000Z",
     "iopub.status.idle": "2022-07-18T00:52:10.378000Z",
     "shell.execute_reply": "2022-07-18T00:52:10.378000Z"
    }
   },
   "outputs": [
    {
     "data": {
      "text/html": [
       "<div class=\"data-frame\"><p>12 rows × 3 columns</p><table class=\"data-frame\"><thead><tr><th></th><th>a</th><th>b</th><th>x</th></tr><tr><th></th><th title=\"Int64\">Int64</th><th title=\"Int64\">Int64</th><th title=\"String\">String</th></tr></thead><tbody><tr><th>1</th><td>1</td><td>1</td><td>no</td></tr><tr><th>2</th><td>2</td><td>2</td><td>no</td></tr><tr><th>3</th><td>3</td><td>3</td><td>no</td></tr><tr><th>4</th><td>4</td><td>4</td><td>no</td></tr><tr><th>5</th><td>5</td><td>1</td><td>no</td></tr><tr><th>6</th><td>6</td><td>2</td><td>no</td></tr><tr><th>7</th><td>7</td><td>3</td><td>no</td></tr><tr><th>8</th><td>8</td><td>4</td><td>yes</td></tr><tr><th>9</th><td>9</td><td>1</td><td>no</td></tr><tr><th>10</th><td>10</td><td>2</td><td>no</td></tr><tr><th>11</th><td>11</td><td>3</td><td>no</td></tr><tr><th>12</th><td>12</td><td>4</td><td>yes</td></tr></tbody></table></div>"
      ],
      "text/latex": [
       "\\begin{tabular}{r|ccc}\n",
       "\t& a & b & x\\\\\n",
       "\t\\hline\n",
       "\t& Int64 & Int64 & String\\\\\n",
       "\t\\hline\n",
       "\t1 & 1 & 1 & no \\\\\n",
       "\t2 & 2 & 2 & no \\\\\n",
       "\t3 & 3 & 3 & no \\\\\n",
       "\t4 & 4 & 4 & no \\\\\n",
       "\t5 & 5 & 1 & no \\\\\n",
       "\t6 & 6 & 2 & no \\\\\n",
       "\t7 & 7 & 3 & no \\\\\n",
       "\t8 & 8 & 4 & yes \\\\\n",
       "\t9 & 9 & 1 & no \\\\\n",
       "\t10 & 10 & 2 & no \\\\\n",
       "\t11 & 11 & 3 & no \\\\\n",
       "\t12 & 12 & 4 & yes \\\\\n",
       "\\end{tabular}\n"
      ],
      "text/plain": [
       "\u001b[1m12×3 DataFrame\u001b[0m\n",
       "\u001b[1m Row \u001b[0m│\u001b[1m a     \u001b[0m\u001b[1m b     \u001b[0m\u001b[1m x      \u001b[0m\n",
       "\u001b[1m     \u001b[0m│\u001b[90m Int64 \u001b[0m\u001b[90m Int64 \u001b[0m\u001b[90m String \u001b[0m\n",
       "─────┼──────────────────────\n",
       "   1 │     1      1  no\n",
       "   2 │     2      2  no\n",
       "   3 │     3      3  no\n",
       "   4 │     4      4  no\n",
       "   5 │     5      1  no\n",
       "   6 │     6      2  no\n",
       "   7 │     7      3  no\n",
       "   8 │     8      4  yes\n",
       "   9 │     9      1  no\n",
       "  10 │    10      2  no\n",
       "  11 │    11      3  no\n",
       "  12 │    12      4  yes"
      ]
     },
     "execution_count": 37,
     "metadata": {},
     "output_type": "execute_result"
    }
   ],
   "source": [
    "# one option is to use a function that works on a single observation and broadcast it\n",
    "myfun(a, b) = a > 6 && b == 4 ? \"yes\" : \"no\"\n",
    "@transform(df, :x = myfun.(:a, :b))"
   ]
  },
  {
   "cell_type": "code",
   "execution_count": 38,
   "metadata": {
    "execution": {
     "iopub.execute_input": "2022-07-18T00:52:10.381000Z",
     "iopub.status.busy": "2022-07-18T00:52:10.381000Z",
     "iopub.status.idle": "2022-07-18T00:52:10.794000Z",
     "shell.execute_reply": "2022-07-18T00:52:10.794000Z"
    }
   },
   "outputs": [
    {
     "data": {
      "text/html": [
       "<div class=\"data-frame\"><p>12 rows × 3 columns</p><table class=\"data-frame\"><thead><tr><th></th><th>a</th><th>b</th><th>x</th></tr><tr><th></th><th title=\"Int64\">Int64</th><th title=\"Int64\">Int64</th><th title=\"String\">String</th></tr></thead><tbody><tr><th>1</th><td>1</td><td>1</td><td>no</td></tr><tr><th>2</th><td>2</td><td>2</td><td>no</td></tr><tr><th>3</th><td>3</td><td>3</td><td>no</td></tr><tr><th>4</th><td>4</td><td>4</td><td>no</td></tr><tr><th>5</th><td>5</td><td>1</td><td>no</td></tr><tr><th>6</th><td>6</td><td>2</td><td>no</td></tr><tr><th>7</th><td>7</td><td>3</td><td>no</td></tr><tr><th>8</th><td>8</td><td>4</td><td>yes</td></tr><tr><th>9</th><td>9</td><td>1</td><td>no</td></tr><tr><th>10</th><td>10</td><td>2</td><td>no</td></tr><tr><th>11</th><td>11</td><td>3</td><td>no</td></tr><tr><th>12</th><td>12</td><td>4</td><td>yes</td></tr></tbody></table></div>"
      ],
      "text/latex": [
       "\\begin{tabular}{r|ccc}\n",
       "\t& a & b & x\\\\\n",
       "\t\\hline\n",
       "\t& Int64 & Int64 & String\\\\\n",
       "\t\\hline\n",
       "\t1 & 1 & 1 & no \\\\\n",
       "\t2 & 2 & 2 & no \\\\\n",
       "\t3 & 3 & 3 & no \\\\\n",
       "\t4 & 4 & 4 & no \\\\\n",
       "\t5 & 5 & 1 & no \\\\\n",
       "\t6 & 6 & 2 & no \\\\\n",
       "\t7 & 7 & 3 & no \\\\\n",
       "\t8 & 8 & 4 & yes \\\\\n",
       "\t9 & 9 & 1 & no \\\\\n",
       "\t10 & 10 & 2 & no \\\\\n",
       "\t11 & 11 & 3 & no \\\\\n",
       "\t12 & 12 & 4 & yes \\\\\n",
       "\\end{tabular}\n"
      ],
      "text/plain": [
       "\u001b[1m12×3 DataFrame\u001b[0m\n",
       "\u001b[1m Row \u001b[0m│\u001b[1m a     \u001b[0m\u001b[1m b     \u001b[0m\u001b[1m x      \u001b[0m\n",
       "\u001b[1m     \u001b[0m│\u001b[90m Int64 \u001b[0m\u001b[90m Int64 \u001b[0m\u001b[90m String \u001b[0m\n",
       "─────┼──────────────────────\n",
       "   1 │     1      1  no\n",
       "   2 │     2      2  no\n",
       "   3 │     3      3  no\n",
       "   4 │     4      4  no\n",
       "   5 │     5      1  no\n",
       "   6 │     6      2  no\n",
       "   7 │     7      3  no\n",
       "   8 │     8      4  yes\n",
       "   9 │     9      1  no\n",
       "  10 │    10      2  no\n",
       "  11 │    11      3  no\n",
       "  12 │    12      4  yes"
      ]
     },
     "execution_count": 38,
     "metadata": {},
     "output_type": "execute_result"
    }
   ],
   "source": [
    "# or you can use @eachrow macro that allows you to process DataFrame rowwise\n",
    "@eachrow df begin\n",
    "   @newcol :x::Vector{String}\n",
    "    :x = :a > 6 && :b == 4 ? \"yes\" : \"no\"\n",
    "end"
   ]
  },
  {
   "cell_type": "markdown",
   "metadata": {},
   "source": [
    "In `DataFramses.jl` you would write this as:"
   ]
  },
  {
   "cell_type": "code",
   "execution_count": 39,
   "metadata": {
    "execution": {
     "iopub.execute_input": "2022-07-18T00:52:10.798000Z",
     "iopub.status.busy": "2022-07-18T00:52:10.798000Z",
     "iopub.status.idle": "2022-07-18T00:52:10.855000Z",
     "shell.execute_reply": "2022-07-18T00:52:10.855000Z"
    }
   },
   "outputs": [
    {
     "data": {
      "text/html": [
       "<div class=\"data-frame\"><p>12 rows × 3 columns</p><table class=\"data-frame\"><thead><tr><th></th><th>a</th><th>b</th><th>x</th></tr><tr><th></th><th title=\"Int64\">Int64</th><th title=\"Int64\">Int64</th><th title=\"String\">String</th></tr></thead><tbody><tr><th>1</th><td>1</td><td>1</td><td>no</td></tr><tr><th>2</th><td>2</td><td>2</td><td>no</td></tr><tr><th>3</th><td>3</td><td>3</td><td>no</td></tr><tr><th>4</th><td>4</td><td>4</td><td>no</td></tr><tr><th>5</th><td>5</td><td>1</td><td>no</td></tr><tr><th>6</th><td>6</td><td>2</td><td>no</td></tr><tr><th>7</th><td>7</td><td>3</td><td>no</td></tr><tr><th>8</th><td>8</td><td>4</td><td>yes</td></tr><tr><th>9</th><td>9</td><td>1</td><td>no</td></tr><tr><th>10</th><td>10</td><td>2</td><td>no</td></tr><tr><th>11</th><td>11</td><td>3</td><td>no</td></tr><tr><th>12</th><td>12</td><td>4</td><td>yes</td></tr></tbody></table></div>"
      ],
      "text/latex": [
       "\\begin{tabular}{r|ccc}\n",
       "\t& a & b & x\\\\\n",
       "\t\\hline\n",
       "\t& Int64 & Int64 & String\\\\\n",
       "\t\\hline\n",
       "\t1 & 1 & 1 & no \\\\\n",
       "\t2 & 2 & 2 & no \\\\\n",
       "\t3 & 3 & 3 & no \\\\\n",
       "\t4 & 4 & 4 & no \\\\\n",
       "\t5 & 5 & 1 & no \\\\\n",
       "\t6 & 6 & 2 & no \\\\\n",
       "\t7 & 7 & 3 & no \\\\\n",
       "\t8 & 8 & 4 & yes \\\\\n",
       "\t9 & 9 & 1 & no \\\\\n",
       "\t10 & 10 & 2 & no \\\\\n",
       "\t11 & 11 & 3 & no \\\\\n",
       "\t12 & 12 & 4 & yes \\\\\n",
       "\\end{tabular}\n"
      ],
      "text/plain": [
       "\u001b[1m12×3 DataFrame\u001b[0m\n",
       "\u001b[1m Row \u001b[0m│\u001b[1m a     \u001b[0m\u001b[1m b     \u001b[0m\u001b[1m x      \u001b[0m\n",
       "\u001b[1m     \u001b[0m│\u001b[90m Int64 \u001b[0m\u001b[90m Int64 \u001b[0m\u001b[90m String \u001b[0m\n",
       "─────┼──────────────────────\n",
       "   1 │     1      1  no\n",
       "   2 │     2      2  no\n",
       "   3 │     3      3  no\n",
       "   4 │     4      4  no\n",
       "   5 │     5      1  no\n",
       "   6 │     6      2  no\n",
       "   7 │     7      3  no\n",
       "   8 │     8      4  yes\n",
       "   9 │     9      1  no\n",
       "  10 │    10      2  no\n",
       "  11 │    11      3  no\n",
       "  12 │    12      4  yes"
      ]
     },
     "execution_count": 39,
     "metadata": {},
     "output_type": "execute_result"
    }
   ],
   "source": [
    "transform(df, [:a, :b] => ByRow((a,b) -> ifelse(a > 6 && b == 4, \"yes\", \"no\")) => :x)"
   ]
  },
  {
   "cell_type": "markdown",
   "metadata": {},
   "source": [
    "You can also use `eachrow` from DataFrames to perform the same transformation. However `@eachrow` will be faster than the operation below. "
   ]
  },
  {
   "cell_type": "code",
   "execution_count": 40,
   "metadata": {
    "execution": {
     "iopub.execute_input": "2022-07-18T00:52:10.859000Z",
     "iopub.status.busy": "2022-07-18T00:52:10.859000Z",
     "iopub.status.idle": "2022-07-18T00:52:10.970000Z",
     "shell.execute_reply": "2022-07-18T00:52:10.970000Z"
    }
   },
   "outputs": [
    {
     "data": {
      "text/html": [
       "<div class=\"data-frame\"><p>12 rows × 3 columns</p><table class=\"data-frame\"><thead><tr><th></th><th>a</th><th>b</th><th>x</th></tr><tr><th></th><th title=\"Int64\">Int64</th><th title=\"Int64\">Int64</th><th title=\"String\">String</th></tr></thead><tbody><tr><th>1</th><td>1</td><td>1</td><td>no</td></tr><tr><th>2</th><td>2</td><td>2</td><td>no</td></tr><tr><th>3</th><td>3</td><td>3</td><td>no</td></tr><tr><th>4</th><td>4</td><td>4</td><td>no</td></tr><tr><th>5</th><td>5</td><td>1</td><td>no</td></tr><tr><th>6</th><td>6</td><td>2</td><td>no</td></tr><tr><th>7</th><td>7</td><td>3</td><td>no</td></tr><tr><th>8</th><td>8</td><td>4</td><td>yes</td></tr><tr><th>9</th><td>9</td><td>1</td><td>no</td></tr><tr><th>10</th><td>10</td><td>2</td><td>no</td></tr><tr><th>11</th><td>11</td><td>3</td><td>no</td></tr><tr><th>12</th><td>12</td><td>4</td><td>yes</td></tr></tbody></table></div>"
      ],
      "text/latex": [
       "\\begin{tabular}{r|ccc}\n",
       "\t& a & b & x\\\\\n",
       "\t\\hline\n",
       "\t& Int64 & Int64 & String\\\\\n",
       "\t\\hline\n",
       "\t1 & 1 & 1 & no \\\\\n",
       "\t2 & 2 & 2 & no \\\\\n",
       "\t3 & 3 & 3 & no \\\\\n",
       "\t4 & 4 & 4 & no \\\\\n",
       "\t5 & 5 & 1 & no \\\\\n",
       "\t6 & 6 & 2 & no \\\\\n",
       "\t7 & 7 & 3 & no \\\\\n",
       "\t8 & 8 & 4 & yes \\\\\n",
       "\t9 & 9 & 1 & no \\\\\n",
       "\t10 & 10 & 2 & no \\\\\n",
       "\t11 & 11 & 3 & no \\\\\n",
       "\t12 & 12 & 4 & yes \\\\\n",
       "\\end{tabular}\n"
      ],
      "text/plain": [
       "\u001b[1m12×3 DataFrame\u001b[0m\n",
       "\u001b[1m Row \u001b[0m│\u001b[1m a     \u001b[0m\u001b[1m b     \u001b[0m\u001b[1m x      \u001b[0m\n",
       "\u001b[1m     \u001b[0m│\u001b[90m Int64 \u001b[0m\u001b[90m Int64 \u001b[0m\u001b[90m String \u001b[0m\n",
       "─────┼──────────────────────\n",
       "   1 │     1      1  no\n",
       "   2 │     2      2  no\n",
       "   3 │     3      3  no\n",
       "   4 │     4      4  no\n",
       "   5 │     5      1  no\n",
       "   6 │     6      2  no\n",
       "   7 │     7      3  no\n",
       "   8 │     8      4  yes\n",
       "   9 │     9      1  no\n",
       "  10 │    10      2  no\n",
       "  11 │    11      3  no\n",
       "  12 │    12      4  yes"
      ]
     },
     "execution_count": 40,
     "metadata": {},
     "output_type": "execute_result"
    }
   ],
   "source": [
    "df2 = copy(df)\n",
    "df2.x = Vector{String}(undef, nrow(df2))\n",
    "for row in eachrow(df2)\n",
    "   row[:x] = row[:a] > 6 && row[:b] == 4 ? \"yes\" : \"no\"\n",
    "end\n",
    "df2"
   ]
  },
  {
   "cell_type": "markdown",
   "metadata": {},
   "source": [
    "## StatsPlots.jl: Visualizing data "
   ]
  },
  {
   "cell_type": "code",
   "execution_count": 41,
   "metadata": {
    "execution": {
     "iopub.execute_input": "2022-07-18T00:52:10.973000Z",
     "iopub.status.busy": "2022-07-18T00:52:10.973000Z",
     "iopub.status.idle": "2022-07-18T00:52:21.011000Z",
     "shell.execute_reply": "2022-07-18T00:52:21.011000Z"
    }
   },
   "outputs": [],
   "source": [
    "using StatsPlots # you might need to setup Plots package and some plotting backend first"
   ]
  },
  {
   "cell_type": "markdown",
   "metadata": {},
   "source": [
    "we present only a minimal functionality of the package"
   ]
  },
  {
   "cell_type": "code",
   "execution_count": 42,
   "metadata": {
    "execution": {
     "iopub.execute_input": "2022-07-18T00:52:24.238000Z",
     "iopub.status.busy": "2022-07-18T00:52:21.013000Z",
     "iopub.status.idle": "2022-07-18T00:52:24.673000Z",
     "shell.execute_reply": "2022-07-18T00:52:24.673000Z"
    }
   },
   "outputs": [],
   "source": [
    "using Random\n",
    "Random.seed!(1)\n",
    "df = DataFrame(x = sort(randn(1000)), y=randn(1000), z = [fill(\"b\", 500); fill(\"a\", 500)]);"
   ]
  },
  {
   "cell_type": "code",
   "execution_count": 43,
   "metadata": {
    "execution": {
     "iopub.execute_input": "2022-07-18T00:52:24.676000Z",
     "iopub.status.busy": "2022-07-18T00:52:24.676000Z",
     "iopub.status.idle": "2022-07-18T00:52:43.303000Z",
     "shell.execute_reply": "2022-07-18T00:52:43.303000Z"
    }
   },
   "outputs": [
    {
     "data": {
      "image/svg+xml": [
       "<?xml version=\"1.0\" encoding=\"utf-8\"?>\n",
       "<svg xmlns=\"http://www.w3.org/2000/svg\" xmlns:xlink=\"http://www.w3.org/1999/xlink\" width=\"600\" height=\"400\" viewBox=\"0 0 2400 1600\">\n",
       "<defs>\n",
       "  <clipPath id=\"clip450\">\n",
       "    <rect x=\"0\" y=\"0\" width=\"2400\" height=\"1600\"/>\n",
       "  </clipPath>\n",
       "</defs>\n",
       "<path clip-path=\"url(#clip450)\" d=\"\n",
       "M0 1600 L2400 1600 L2400 0 L0 0  Z\n",
       "  \" fill=\"#ffffff\" fill-rule=\"evenodd\" fill-opacity=\"1\"/>\n",
       "<defs>\n",
       "  <clipPath id=\"clip451\">\n",
       "    <rect x=\"480\" y=\"0\" width=\"1681\" height=\"1600\"/>\n",
       "  </clipPath>\n",
       "</defs>\n",
       "<path clip-path=\"url(#clip450)\" d=\"\n",
       "M148.057 1486.45 L2352.76 1486.45 L2352.76 47.2441 L148.057 47.2441  Z\n",
       "  \" fill=\"#ffffff\" fill-rule=\"evenodd\" fill-opacity=\"1\"/>\n",
       "<defs>\n",
       "  <clipPath id=\"clip452\">\n",
       "    <rect x=\"148\" y=\"47\" width=\"2206\" height=\"1440\"/>\n",
       "  </clipPath>\n",
       "</defs>\n",
       "<polyline clip-path=\"url(#clip452)\" style=\"stroke:#000000; stroke-linecap:butt; stroke-linejoin:round; stroke-width:2; stroke-opacity:0.1; fill:none\" points=\"\n",
       "  193.079,1486.45 193.079,47.2441 \n",
       "  \"/>\n",
       "<polyline clip-path=\"url(#clip452)\" style=\"stroke:#000000; stroke-linecap:butt; stroke-linejoin:round; stroke-width:2; stroke-opacity:0.1; fill:none\" points=\"\n",
       "  544.023,1486.45 544.023,47.2441 \n",
       "  \"/>\n",
       "<polyline clip-path=\"url(#clip452)\" style=\"stroke:#000000; stroke-linecap:butt; stroke-linejoin:round; stroke-width:2; stroke-opacity:0.1; fill:none\" points=\"\n",
       "  894.966,1486.45 894.966,47.2441 \n",
       "  \"/>\n",
       "<polyline clip-path=\"url(#clip452)\" style=\"stroke:#000000; stroke-linecap:butt; stroke-linejoin:round; stroke-width:2; stroke-opacity:0.1; fill:none\" points=\"\n",
       "  1245.91,1486.45 1245.91,47.2441 \n",
       "  \"/>\n",
       "<polyline clip-path=\"url(#clip452)\" style=\"stroke:#000000; stroke-linecap:butt; stroke-linejoin:round; stroke-width:2; stroke-opacity:0.1; fill:none\" points=\"\n",
       "  1596.85,1486.45 1596.85,47.2441 \n",
       "  \"/>\n",
       "<polyline clip-path=\"url(#clip452)\" style=\"stroke:#000000; stroke-linecap:butt; stroke-linejoin:round; stroke-width:2; stroke-opacity:0.1; fill:none\" points=\"\n",
       "  1947.8,1486.45 1947.8,47.2441 \n",
       "  \"/>\n",
       "<polyline clip-path=\"url(#clip452)\" style=\"stroke:#000000; stroke-linecap:butt; stroke-linejoin:round; stroke-width:2; stroke-opacity:0.1; fill:none\" points=\"\n",
       "  2298.74,1486.45 2298.74,47.2441 \n",
       "  \"/>\n",
       "<polyline clip-path=\"url(#clip450)\" style=\"stroke:#000000; stroke-linecap:butt; stroke-linejoin:round; stroke-width:4; stroke-opacity:1; fill:none\" points=\"\n",
       "  148.057,1486.45 2352.76,1486.45 \n",
       "  \"/>\n",
       "<polyline clip-path=\"url(#clip450)\" style=\"stroke:#000000; stroke-linecap:butt; stroke-linejoin:round; stroke-width:4; stroke-opacity:1; fill:none\" points=\"\n",
       "  193.079,1486.45 193.079,1467.55 \n",
       "  \"/>\n",
       "<polyline clip-path=\"url(#clip450)\" style=\"stroke:#000000; stroke-linecap:butt; stroke-linejoin:round; stroke-width:4; stroke-opacity:1; fill:none\" points=\"\n",
       "  544.023,1486.45 544.023,1467.55 \n",
       "  \"/>\n",
       "<polyline clip-path=\"url(#clip450)\" style=\"stroke:#000000; stroke-linecap:butt; stroke-linejoin:round; stroke-width:4; stroke-opacity:1; fill:none\" points=\"\n",
       "  894.966,1486.45 894.966,1467.55 \n",
       "  \"/>\n",
       "<polyline clip-path=\"url(#clip450)\" style=\"stroke:#000000; stroke-linecap:butt; stroke-linejoin:round; stroke-width:4; stroke-opacity:1; fill:none\" points=\"\n",
       "  1245.91,1486.45 1245.91,1467.55 \n",
       "  \"/>\n",
       "<polyline clip-path=\"url(#clip450)\" style=\"stroke:#000000; stroke-linecap:butt; stroke-linejoin:round; stroke-width:4; stroke-opacity:1; fill:none\" points=\"\n",
       "  1596.85,1486.45 1596.85,1467.55 \n",
       "  \"/>\n",
       "<polyline clip-path=\"url(#clip450)\" style=\"stroke:#000000; stroke-linecap:butt; stroke-linejoin:round; stroke-width:4; stroke-opacity:1; fill:none\" points=\"\n",
       "  1947.8,1486.45 1947.8,1467.55 \n",
       "  \"/>\n",
       "<polyline clip-path=\"url(#clip450)\" style=\"stroke:#000000; stroke-linecap:butt; stroke-linejoin:round; stroke-width:4; stroke-opacity:1; fill:none\" points=\"\n",
       "  2298.74,1486.45 2298.74,1467.55 \n",
       "  \"/>\n",
       "<path clip-path=\"url(#clip450)\" d=\"M162.547 1532.02 L192.223 1532.02 L192.223 1535.95 L162.547 1535.95 L162.547 1532.02 Z\" fill=\"#000000\" fill-rule=\"evenodd\" fill-opacity=\"1\" /><path clip-path=\"url(#clip450)\" d=\"M216.482 1530.21 Q219.838 1530.93 221.713 1533.2 Q223.612 1535.47 223.612 1538.8 Q223.612 1543.92 220.093 1546.72 Q216.575 1549.52 210.093 1549.52 Q207.917 1549.52 205.602 1549.08 Q203.311 1548.66 200.857 1547.81 L200.857 1543.29 Q202.802 1544.43 205.116 1545.01 Q207.431 1545.58 209.954 1545.58 Q214.352 1545.58 216.644 1543.85 Q218.959 1542.11 218.959 1538.8 Q218.959 1535.75 216.806 1534.03 Q214.676 1532.3 210.857 1532.3 L206.829 1532.3 L206.829 1528.45 L211.042 1528.45 Q214.491 1528.45 216.32 1527.09 Q218.149 1525.7 218.149 1523.11 Q218.149 1520.45 216.251 1519.03 Q214.376 1517.6 210.857 1517.6 Q208.936 1517.6 206.737 1518.01 Q204.538 1518.43 201.899 1519.31 L201.899 1515.14 Q204.561 1514.4 206.876 1514.03 Q209.214 1513.66 211.274 1513.66 Q216.598 1513.66 219.7 1516.09 Q222.801 1518.5 222.801 1522.62 Q222.801 1525.49 221.158 1527.48 Q219.514 1529.45 216.482 1530.21 Z\" fill=\"#000000\" fill-rule=\"evenodd\" fill-opacity=\"1\" /><path clip-path=\"url(#clip450)\" d=\"M513.965 1532.02 L543.641 1532.02 L543.641 1535.95 L513.965 1535.95 L513.965 1532.02 Z\" fill=\"#000000\" fill-rule=\"evenodd\" fill-opacity=\"1\" /><path clip-path=\"url(#clip450)\" d=\"M557.761 1544.91 L574.081 1544.91 L574.081 1548.85 L552.136 1548.85 L552.136 1544.91 Q554.798 1542.16 559.382 1537.53 Q563.988 1532.88 565.169 1531.53 Q567.414 1529.01 568.294 1527.27 Q569.196 1525.51 569.196 1523.82 Q569.196 1521.07 567.252 1519.33 Q565.331 1517.6 562.229 1517.6 Q560.03 1517.6 557.576 1518.36 Q555.145 1519.13 552.368 1520.68 L552.368 1515.95 Q555.192 1514.82 557.645 1514.24 Q560.099 1513.66 562.136 1513.66 Q567.506 1513.66 570.701 1516.35 Q573.895 1519.03 573.895 1523.52 Q573.895 1525.65 573.085 1527.57 Q572.298 1529.47 570.192 1532.07 Q569.613 1532.74 566.511 1535.95 Q563.409 1539.15 557.761 1544.91 Z\" fill=\"#000000\" fill-rule=\"evenodd\" fill-opacity=\"1\" /><path clip-path=\"url(#clip450)\" d=\"M864.723 1532.02 L894.399 1532.02 L894.399 1535.95 L864.723 1535.95 L864.723 1532.02 Z\" fill=\"#000000\" fill-rule=\"evenodd\" fill-opacity=\"1\" /><path clip-path=\"url(#clip450)\" d=\"M905.302 1544.91 L912.941 1544.91 L912.941 1518.55 L904.631 1520.21 L904.631 1515.95 L912.894 1514.29 L917.57 1514.29 L917.57 1544.91 L925.209 1544.91 L925.209 1548.85 L905.302 1548.85 L905.302 1544.91 Z\" fill=\"#000000\" fill-rule=\"evenodd\" fill-opacity=\"1\" /><path clip-path=\"url(#clip450)\" d=\"M1245.91 1517.37 Q1242.3 1517.37 1240.47 1520.93 Q1238.66 1524.47 1238.66 1531.6 Q1238.66 1538.71 1240.47 1542.27 Q1242.3 1545.82 1245.91 1545.82 Q1249.54 1545.82 1251.35 1542.27 Q1253.18 1538.71 1253.18 1531.6 Q1253.18 1524.47 1251.35 1520.93 Q1249.54 1517.37 1245.91 1517.37 M1245.91 1513.66 Q1251.72 1513.66 1254.78 1518.27 Q1257.85 1522.85 1257.85 1531.6 Q1257.85 1540.33 1254.78 1544.94 Q1251.72 1549.52 1245.91 1549.52 Q1240.1 1549.52 1237.02 1544.94 Q1233.97 1540.33 1233.97 1531.6 Q1233.97 1522.85 1237.02 1518.27 Q1240.1 1513.66 1245.91 1513.66 Z\" fill=\"#000000\" fill-rule=\"evenodd\" fill-opacity=\"1\" /><path clip-path=\"url(#clip450)\" d=\"M1587.24 1544.91 L1594.87 1544.91 L1594.87 1518.55 L1586.56 1520.21 L1586.56 1515.95 L1594.83 1514.29 L1599.5 1514.29 L1599.5 1544.91 L1607.14 1544.91 L1607.14 1548.85 L1587.24 1548.85 L1587.24 1544.91 Z\" fill=\"#000000\" fill-rule=\"evenodd\" fill-opacity=\"1\" /><path clip-path=\"url(#clip450)\" d=\"M1942.45 1544.91 L1958.77 1544.91 L1958.77 1548.85 L1936.82 1548.85 L1936.82 1544.91 Q1939.49 1542.16 1944.07 1537.53 Q1948.68 1532.88 1949.86 1531.53 Q1952.1 1529.01 1952.98 1527.27 Q1953.88 1525.51 1953.88 1523.82 Q1953.88 1521.07 1951.94 1519.33 Q1950.02 1517.6 1946.92 1517.6 Q1944.72 1517.6 1942.26 1518.36 Q1939.83 1519.13 1937.06 1520.68 L1937.06 1515.95 Q1939.88 1514.82 1942.33 1514.24 Q1944.79 1513.66 1946.82 1513.66 Q1952.19 1513.66 1955.39 1516.35 Q1958.58 1519.03 1958.58 1523.52 Q1958.58 1525.65 1957.77 1527.57 Q1956.99 1529.47 1954.88 1532.07 Q1954.3 1532.74 1951.2 1535.95 Q1948.1 1539.15 1942.45 1544.91 Z\" fill=\"#000000\" fill-rule=\"evenodd\" fill-opacity=\"1\" /><path clip-path=\"url(#clip450)\" d=\"M2302.99 1530.21 Q2306.34 1530.93 2308.22 1533.2 Q2310.12 1535.47 2310.12 1538.8 Q2310.12 1543.92 2306.6 1546.72 Q2303.08 1549.52 2296.6 1549.52 Q2294.42 1549.52 2292.11 1549.08 Q2289.82 1548.66 2287.36 1547.81 L2287.36 1543.29 Q2289.31 1544.43 2291.62 1545.01 Q2293.94 1545.58 2296.46 1545.58 Q2300.86 1545.58 2303.15 1543.85 Q2305.46 1542.11 2305.46 1538.8 Q2305.46 1535.75 2303.31 1534.03 Q2301.18 1532.3 2297.36 1532.3 L2293.34 1532.3 L2293.34 1528.45 L2297.55 1528.45 Q2301 1528.45 2302.83 1527.09 Q2304.65 1525.7 2304.65 1523.11 Q2304.65 1520.45 2302.76 1519.03 Q2300.88 1517.6 2297.36 1517.6 Q2295.44 1517.6 2293.24 1518.01 Q2291.04 1518.43 2288.4 1519.31 L2288.4 1515.14 Q2291.07 1514.4 2293.38 1514.03 Q2295.72 1513.66 2297.78 1513.66 Q2303.1 1513.66 2306.21 1516.09 Q2309.31 1518.5 2309.31 1522.62 Q2309.31 1525.49 2307.66 1527.48 Q2306.02 1529.45 2302.99 1530.21 Z\" fill=\"#000000\" fill-rule=\"evenodd\" fill-opacity=\"1\" /><polyline clip-path=\"url(#clip452)\" style=\"stroke:#000000; stroke-linecap:butt; stroke-linejoin:round; stroke-width:2; stroke-opacity:0.1; fill:none\" points=\"\n",
       "  148.057,1396.64 2352.76,1396.64 \n",
       "  \"/>\n",
       "<polyline clip-path=\"url(#clip452)\" style=\"stroke:#000000; stroke-linecap:butt; stroke-linejoin:round; stroke-width:2; stroke-opacity:0.1; fill:none\" points=\"\n",
       "  148.057,1177.83 2352.76,1177.83 \n",
       "  \"/>\n",
       "<polyline clip-path=\"url(#clip452)\" style=\"stroke:#000000; stroke-linecap:butt; stroke-linejoin:round; stroke-width:2; stroke-opacity:0.1; fill:none\" points=\"\n",
       "  148.057,959.019 2352.76,959.019 \n",
       "  \"/>\n",
       "<polyline clip-path=\"url(#clip452)\" style=\"stroke:#000000; stroke-linecap:butt; stroke-linejoin:round; stroke-width:2; stroke-opacity:0.1; fill:none\" points=\"\n",
       "  148.057,740.208 2352.76,740.208 \n",
       "  \"/>\n",
       "<polyline clip-path=\"url(#clip452)\" style=\"stroke:#000000; stroke-linecap:butt; stroke-linejoin:round; stroke-width:2; stroke-opacity:0.1; fill:none\" points=\"\n",
       "  148.057,521.397 2352.76,521.397 \n",
       "  \"/>\n",
       "<polyline clip-path=\"url(#clip452)\" style=\"stroke:#000000; stroke-linecap:butt; stroke-linejoin:round; stroke-width:2; stroke-opacity:0.1; fill:none\" points=\"\n",
       "  148.057,302.586 2352.76,302.586 \n",
       "  \"/>\n",
       "<polyline clip-path=\"url(#clip452)\" style=\"stroke:#000000; stroke-linecap:butt; stroke-linejoin:round; stroke-width:2; stroke-opacity:0.1; fill:none\" points=\"\n",
       "  148.057,83.7751 2352.76,83.7751 \n",
       "  \"/>\n",
       "<polyline clip-path=\"url(#clip450)\" style=\"stroke:#000000; stroke-linecap:butt; stroke-linejoin:round; stroke-width:4; stroke-opacity:1; fill:none\" points=\"\n",
       "  148.057,1486.45 148.057,47.2441 \n",
       "  \"/>\n",
       "<polyline clip-path=\"url(#clip450)\" style=\"stroke:#000000; stroke-linecap:butt; stroke-linejoin:round; stroke-width:4; stroke-opacity:1; fill:none\" points=\"\n",
       "  148.057,1396.64 166.954,1396.64 \n",
       "  \"/>\n",
       "<polyline clip-path=\"url(#clip450)\" style=\"stroke:#000000; stroke-linecap:butt; stroke-linejoin:round; stroke-width:4; stroke-opacity:1; fill:none\" points=\"\n",
       "  148.057,1177.83 166.954,1177.83 \n",
       "  \"/>\n",
       "<polyline clip-path=\"url(#clip450)\" style=\"stroke:#000000; stroke-linecap:butt; stroke-linejoin:round; stroke-width:4; stroke-opacity:1; fill:none\" points=\"\n",
       "  148.057,959.019 166.954,959.019 \n",
       "  \"/>\n",
       "<polyline clip-path=\"url(#clip450)\" style=\"stroke:#000000; stroke-linecap:butt; stroke-linejoin:round; stroke-width:4; stroke-opacity:1; fill:none\" points=\"\n",
       "  148.057,740.208 166.954,740.208 \n",
       "  \"/>\n",
       "<polyline clip-path=\"url(#clip450)\" style=\"stroke:#000000; stroke-linecap:butt; stroke-linejoin:round; stroke-width:4; stroke-opacity:1; fill:none\" points=\"\n",
       "  148.057,521.397 166.954,521.397 \n",
       "  \"/>\n",
       "<polyline clip-path=\"url(#clip450)\" style=\"stroke:#000000; stroke-linecap:butt; stroke-linejoin:round; stroke-width:4; stroke-opacity:1; fill:none\" points=\"\n",
       "  148.057,302.586 166.954,302.586 \n",
       "  \"/>\n",
       "<polyline clip-path=\"url(#clip450)\" style=\"stroke:#000000; stroke-linecap:butt; stroke-linejoin:round; stroke-width:4; stroke-opacity:1; fill:none\" points=\"\n",
       "  148.057,83.7751 166.954,83.7751 \n",
       "  \"/>\n",
       "<path clip-path=\"url(#clip450)\" d=\"M50.9921 1397.09 L80.6679 1397.09 L80.6679 1401.03 L50.9921 1401.03 L50.9921 1397.09 Z\" fill=\"#000000\" fill-rule=\"evenodd\" fill-opacity=\"1\" /><path clip-path=\"url(#clip450)\" d=\"M104.927 1395.29 Q108.283 1396 110.158 1398.27 Q112.057 1400.54 112.057 1403.88 Q112.057 1408.99 108.538 1411.79 Q105.02 1414.59 98.5382 1414.59 Q96.3623 1414.59 94.0475 1414.15 Q91.7558 1413.74 89.3021 1412.88 L89.3021 1408.37 Q91.2465 1409.5 93.5613 1410.08 Q95.8761 1410.66 98.3993 1410.66 Q102.797 1410.66 105.089 1408.92 Q107.404 1407.19 107.404 1403.88 Q107.404 1400.82 105.251 1399.11 Q103.121 1397.37 99.3021 1397.37 L95.2743 1397.37 L95.2743 1393.53 L99.4872 1393.53 Q102.936 1393.53 104.765 1392.16 Q106.594 1390.77 106.594 1388.18 Q106.594 1385.52 104.696 1384.11 Q102.821 1382.67 99.3021 1382.67 Q97.3808 1382.67 95.1817 1383.09 Q92.9826 1383.5 90.3438 1384.38 L90.3438 1380.22 Q93.0058 1379.48 95.3206 1379.11 Q97.6585 1378.74 99.7187 1378.74 Q105.043 1378.74 108.145 1381.17 Q111.246 1383.57 111.246 1387.69 Q111.246 1390.57 109.603 1392.56 Q107.959 1394.52 104.927 1395.29 Z\" fill=\"#000000\" fill-rule=\"evenodd\" fill-opacity=\"1\" /><path clip-path=\"url(#clip450)\" d=\"M51.9412 1178.28 L81.617 1178.28 L81.617 1182.22 L51.9412 1182.22 L51.9412 1178.28 Z\" fill=\"#000000\" fill-rule=\"evenodd\" fill-opacity=\"1\" /><path clip-path=\"url(#clip450)\" d=\"M95.7373 1191.18 L112.057 1191.18 L112.057 1195.11 L90.1123 1195.11 L90.1123 1191.18 Q92.7743 1188.42 97.3576 1183.79 Q101.964 1179.14 103.145 1177.8 Q105.39 1175.27 106.27 1173.54 Q107.172 1171.78 107.172 1170.09 Q107.172 1167.33 105.228 1165.6 Q103.307 1163.86 100.205 1163.86 Q98.0058 1163.86 95.5521 1164.62 Q93.1215 1165.39 90.3438 1166.94 L90.3438 1162.22 Q93.1678 1161.08 95.6215 1160.5 Q98.0752 1159.93 100.112 1159.93 Q105.483 1159.93 108.677 1162.61 Q111.871 1165.3 111.871 1169.79 Q111.871 1171.92 111.061 1173.84 Q110.274 1175.74 108.168 1178.33 Q107.589 1179 104.487 1182.22 Q101.385 1185.41 95.7373 1191.18 Z\" fill=\"#000000\" fill-rule=\"evenodd\" fill-opacity=\"1\" /><path clip-path=\"url(#clip450)\" d=\"M51.5708 959.471 L81.2466 959.471 L81.2466 963.406 L51.5708 963.406 L51.5708 959.471 Z\" fill=\"#000000\" fill-rule=\"evenodd\" fill-opacity=\"1\" /><path clip-path=\"url(#clip450)\" d=\"M92.1493 972.364 L99.7882 972.364 L99.7882 945.999 L91.478 947.665 L91.478 943.406 L99.7419 941.739 L104.418 941.739 L104.418 972.364 L112.057 972.364 L112.057 976.299 L92.1493 976.299 L92.1493 972.364 Z\" fill=\"#000000\" fill-rule=\"evenodd\" fill-opacity=\"1\" /><path clip-path=\"url(#clip450)\" d=\"M100.112 726.007 Q96.5011 726.007 94.6724 729.572 Q92.8669 733.113 92.8669 740.243 Q92.8669 747.349 94.6724 750.914 Q96.5011 754.456 100.112 754.456 Q103.746 754.456 105.552 750.914 Q107.381 747.349 107.381 740.243 Q107.381 733.113 105.552 729.572 Q103.746 726.007 100.112 726.007 M100.112 722.303 Q105.922 722.303 108.978 726.91 Q112.057 731.493 112.057 740.243 Q112.057 748.97 108.978 753.576 Q105.922 758.16 100.112 758.16 Q94.3021 758.16 91.2234 753.576 Q88.1679 748.97 88.1679 740.243 Q88.1679 731.493 91.2234 726.91 Q94.3021 722.303 100.112 722.303 Z\" fill=\"#000000\" fill-rule=\"evenodd\" fill-opacity=\"1\" /><path clip-path=\"url(#clip450)\" d=\"M92.1493 534.742 L99.7882 534.742 L99.7882 508.376 L91.478 510.043 L91.478 505.784 L99.7419 504.117 L104.418 504.117 L104.418 534.742 L112.057 534.742 L112.057 538.677 L92.1493 538.677 L92.1493 534.742 Z\" fill=\"#000000\" fill-rule=\"evenodd\" fill-opacity=\"1\" /><path clip-path=\"url(#clip450)\" d=\"M95.7373 315.931 L112.057 315.931 L112.057 319.866 L90.1123 319.866 L90.1123 315.931 Q92.7743 313.176 97.3576 308.547 Q101.964 303.894 103.145 302.551 Q105.39 300.028 106.27 298.292 Q107.172 296.533 107.172 294.843 Q107.172 292.088 105.228 290.352 Q103.307 288.616 100.205 288.616 Q98.0058 288.616 95.5521 289.38 Q93.1215 290.144 90.3438 291.695 L90.3438 286.973 Q93.1678 285.839 95.6215 285.26 Q98.0752 284.681 100.112 284.681 Q105.483 284.681 108.677 287.366 Q111.871 290.051 111.871 294.542 Q111.871 296.672 111.061 298.593 Q110.274 300.491 108.168 303.084 Q107.589 303.755 104.487 306.973 Q101.385 310.167 95.7373 315.931 Z\" fill=\"#000000\" fill-rule=\"evenodd\" fill-opacity=\"1\" /><path clip-path=\"url(#clip450)\" d=\"M104.927 82.4209 Q108.283 83.1385 110.158 85.407 Q112.057 87.6755 112.057 91.0088 Q112.057 96.1245 108.538 98.9254 Q105.02 101.726 98.5382 101.726 Q96.3623 101.726 94.0475 101.287 Q91.7558 100.87 89.3021 100.013 L89.3021 95.4995 Q91.2465 96.6338 93.5613 97.2125 Q95.8761 97.7912 98.3993 97.7912 Q102.797 97.7912 105.089 96.0551 Q107.404 94.319 107.404 91.0088 Q107.404 87.9533 105.251 86.2403 Q103.121 84.5042 99.3021 84.5042 L95.2743 84.5042 L95.2743 80.6617 L99.4872 80.6617 Q102.936 80.6617 104.765 79.2959 Q106.594 77.907 106.594 75.3145 Q106.594 72.6524 104.696 71.2404 Q102.821 69.8052 99.3021 69.8052 Q97.3808 69.8052 95.1817 70.2219 Q92.9826 70.6386 90.3438 71.5182 L90.3438 67.3515 Q93.0058 66.6108 95.3206 66.2404 Q97.6585 65.8701 99.7187 65.8701 Q105.043 65.8701 108.145 68.3006 Q111.246 70.708 111.246 74.8284 Q111.246 77.6987 109.603 79.6894 Q107.959 81.657 104.927 82.4209 Z\" fill=\"#000000\" fill-rule=\"evenodd\" fill-opacity=\"1\" /><polyline clip-path=\"url(#clip452)\" style=\"stroke:#009af9; stroke-linecap:butt; stroke-linejoin:round; stroke-width:4; stroke-opacity:1; fill:none\" points=\"\n",
       "  210.454,695.92 231.136,683.11 266.679,507.497 313.921,766.7 339.442,640.191 380.2,634.164 409.589,724.938 414.962,988.113 419.4,1072.12 426.073,762.532 \n",
       "  437.428,910.288 443.575,483.793 449.464,1244.3 469.795,370.167 476.966,657.629 492.256,1038.01 495.622,586.072 498.7,797.766 505.32,898.045 506.231,448.289 \n",
       "  514.227,862.812 517.833,1040.95 519.649,560.875 533.388,371.867 536.544,1066.78 540.183,622.965 541.424,1115.59 546.615,605.954 549.974,732.688 553.021,810.505 \n",
       "  554.457,325.254 567.714,712.787 578.989,546.587 581.919,864.306 585.917,871.448 587.274,1135.87 593.569,898.495 603.753,639.453 608.203,614.165 611.029,402.653 \n",
       "  623.863,827.287 630.335,945.037 630.349,541.658 632.506,528.74 637.992,789.861 638.198,556.349 639.34,715.36 643.386,902.639 646.002,744.124 649.502,638.31 \n",
       "  650.963,578.217 652.614,655.298 658.691,263.752 682.208,391.89 692.625,803.954 693.915,736.936 695.34,456.634 698.436,697.535 702.096,795.051 706.784,646.192 \n",
       "  707.983,673.025 710.976,741.151 714.435,544.666 714.435,982.106 717.59,826.278 719.812,1165.34 724.32,785.402 726.152,635.047 726.907,587.259 729.599,447.518 \n",
       "  735.571,1099.34 737.536,473.605 739.236,730.27 741.206,1445.72 741.913,797.018 742.322,340.037 743.814,718.967 746.303,912.048 751.232,639.961 751.642,250.396 \n",
       "  752.973,795.488 758.673,579.466 759.339,971.963 759.975,436.469 760.178,505.25 761.211,596.98 762.856,754.917 765.757,825.489 766.378,638.155 766.54,664.911 \n",
       "  768.783,881.256 769.396,1007.07 770.629,532.231 771.004,861.985 773.961,663.292 779.235,1002.01 779.94,938.735 780.885,543.187 783.542,772.961 788.268,904.951 \n",
       "  788.729,705.52 792.12,270.561 792.882,912.188 795.215,1216.89 799.405,761.532 799.958,576.508 802.419,886.122 810.671,793.087 810.851,592.868 812.267,677.89 \n",
       "  813.371,782.255 818.639,590.086 819.703,545.577 819.892,356.783 820.132,1175.81 820.379,531.697 821.712,746.473 823.331,790.832 826.033,999.25 827.284,1017.46 \n",
       "  828.813,860.575 832.998,971.009 835.096,594.288 835.526,625.716 835.808,775.929 838.228,784.465 840.528,537.71 841.516,1117.31 844.801,745.898 851.034,1111.85 \n",
       "  853.112,1035.29 853.159,955.458 857.377,778.016 864.636,994.717 865.664,1070.99 867.914,598.557 868.921,652.963 869.185,250.581 871.476,587.861 872.949,782.639 \n",
       "  873.383,707.381 874.733,1438.25 875.122,506.948 876.698,548.691 877.288,716.787 879.669,881.65 880.253,650.01 881.983,747.014 882.458,689.502 882.967,758.642 \n",
       "  884.11,990.105 887.639,342.381 887.839,976.683 889.8,904.557 890.859,671.836 891.438,509.336 891.681,768.125 891.96,658.437 894.049,750.527 894.314,912.031 \n",
       "  897.461,558.576 897.701,663.578 898.844,833.577 900.241,432.106 902.692,653.7 903.372,717.131 905.349,947.059 906.149,592.621 908.662,729.931 909.057,876.593 \n",
       "  909.176,880.226 909.468,921.668 909.755,511.762 911.261,530.827 911.656,738.497 914.597,346.362 915.184,517.441 915.974,991.746 917.328,852.638 918.735,1130.87 \n",
       "  919.799,384.967 920.284,865.235 920.846,579.641 921.744,903.903 922.357,843.525 925.62,978.062 926.479,770.061 930.987,310.261 932.386,665.75 932.445,666.264 \n",
       "  934.016,661.721 935.816,842.134 936.691,1080.35 940.791,618.648 942.78,643.861 946.5,1145.8 948.406,642.276 948.921,739.087 949.015,687.821 952.06,631.544 \n",
       "  953.109,767.852 959.648,640.39 960.201,343.209 961.189,812.024 964.181,828.453 964.725,355.809 966.827,647.278 967.367,400.316 969.393,774.653 969.453,524.048 \n",
       "  970.002,959.082 971.145,880.236 973.69,458.327 973.794,462.732 974.606,554.551 974.706,818.194 976.092,704.773 977.819,887.159 981.602,1002.71 982.614,1064.58 \n",
       "  984.231,608.27 986.862,478.016 988.316,556.782 988.731,700.876 988.991,566.486 989.128,526.383 990.026,710.118 990.059,908.675 991.542,769.611 993.254,824.917 \n",
       "  994.041,729.653 997.131,446.759 998.564,1095.57 999.189,599.597 999.475,779.611 999.48,941.29 999.672,650.26 1000.43,874.525 1002.19,752.799 1002.53,971.745 \n",
       "  1003.2,391.427 1007.59,490.402 1007.99,995.625 1009.31,473.983 1012.63,498.28 1013.05,908.588 1013.3,712.041 1013.53,553.991 1014.48,435.857 1015.71,602.164 \n",
       "  1015.91,902.103 1017.23,1025.14 1018.37,435.566 1018.98,452.164 1020.5,597.602 1021.61,803.356 1023.45,632.852 1024.7,763.192 1026.49,547.34 1027.29,558.862 \n",
       "  1029.37,654.456 1033.48,1155.29 1036.55,777.046 1036.79,434.326 1036.81,753.181 1038.24,901.03 1039.52,1045.49 1039.54,751.07 1040.77,815.712 1042.35,607.39 \n",
       "  1044.27,466.488 1045.56,822.655 1048.73,833.152 1050.05,866.379 1050.84,510.287 1053.72,902.221 1056.39,631.725 1056.44,498.75 1057.36,582.586 1057.45,596.47 \n",
       "  1058.43,611.355 1059.65,666.379 1061.5,1146.61 1061.78,706.097 1063.41,484.506 1064.3,1257.22 1064.73,594.405 1066.97,589.439 1067.18,755.399 1068.61,902.635 \n",
       "  1068.69,1021.3 1068.78,675.624 1069.54,635.629 1070.68,684.035 1071.82,114.509 1073.07,891.666 1073.54,855.221 1075.67,689.495 1077.98,561.609 1079.86,1007.14 \n",
       "  1080.28,602.316 1080.29,1027.74 1081.2,937.791 1081.23,419.987 1081.99,737.607 1082.25,1019.16 1083.39,742.965 1084.21,852.509 1084.9,1002.91 1086.41,514.872 \n",
       "  1087.86,1200.44 1090.01,727.633 1090.13,545.734 1091.13,523.894 1092.61,539.126 1095.6,887.772 1095.68,411.144 1096.32,705.663 1096.62,681.092 1097.17,776.898 \n",
       "  1098.36,958.367 1098.77,831.203 1099.42,400.991 1102.37,1234.25 1105.14,368.37 1105.22,1184.69 1105.43,679.917 1105.46,637.452 1109.17,564.415 1109.36,919.753 \n",
       "  1110.85,669.939 1112.4,504.292 1112.9,771.031 1113.31,475.312 1113.42,899.151 1113.52,137.311 1115.61,595.07 1116.34,838.127 1119.97,632.539 1121.45,960.628 \n",
       "  1121.63,980.12 1122.09,795.726 1122.97,605.337 1122.98,769.286 1125.56,549.164 1125.98,551.633 1126.1,826.049 1126.43,744.145 1127.58,826.987 1127.98,985.02 \n",
       "  1128.58,695.044 1128.61,742.108 1129.37,577.726 1131.65,464.834 1131.85,584.711 1134.12,691.989 1135.03,648.415 1135.59,1080.43 1136.03,740.793 1138.11,791.603 \n",
       "  1138.62,459.762 1139.8,302.764 1140.17,754.338 1140.49,87.9763 1140.83,603.963 1142.14,794.443 1142.43,836.53 1143.27,723.61 1143.33,646.684 1144.8,1068.94 \n",
       "  1147.24,779.146 1147.47,97.9541 1150.09,1135.3 1150.21,540.428 1151.24,716.665 1151.62,509.67 1151.73,1185.89 1152.31,508.445 1153.28,833.749 1154.65,507.544 \n",
       "  1155.71,776.808 1155.89,1297.33 1156.51,321.699 1156.56,426.74 1156.68,846.746 1157.01,664.514 1157.63,746.157 1157.92,543.674 1158.81,1039.59 1158.97,481.616 \n",
       "  1159.66,509.467 1159.75,935.963 1161.08,808.353 1161.94,695.873 1161.96,508.004 1162.09,383.409 1164.75,738.784 1164.93,760.173 1165.47,1143.99 1166.04,774.037 \n",
       "  1166.33,922.85 1166.35,694.141 1169.28,858.066 1169.53,313.543 1169.54,364.657 1170.41,384.07 1172.3,638.414 1172.97,597.023 1173.16,1000.88 1174.19,639.149 \n",
       "  1174.75,722.947 1174.99,804.274 1174.99,330.969 1176.22,665.3 1179.72,704.735 1180.09,363.184 1183.42,735.296 1184.05,1024.23 1187.15,603.59 1187.32,998.808 \n",
       "  1189.91,1052.39 1190.49,583.92 1190.6,885.29 1191.76,1255.63 1191.77,679.891 1192.03,689.224 1192.16,908.331 1192.56,575.561 1193.85,712.965 1194.03,726.482 \n",
       "  1194.84,259.712 1196.23,1139.87 1196.55,1081.55 1198.41,188.675 1198.53,549.013 1200.09,650.175 1200.62,704.573 1201.13,1022.75 1202.23,835.591 1206.77,846.683 \n",
       "  1206.84,312.589 1207.35,666.944 1208.06,890.081 1210.18,830.409 1210.69,234.323 1212.16,816.007 1212.59,1234.25 1215.02,657.445 1216.8,781.828 1220.43,510.327 \n",
       "  1220.66,857.768 1221.69,883.407 1224.28,863.319 1225.02,708.425 1225.2,1044.58 1225.5,644.2 1225.61,829.017 1228.51,689.186 1229.3,890.411 1230.07,698.507 \n",
       "  1230.28,1026.41 1231.12,772.359 1232.47,486.927 1234.24,613.608 1237.32,777.087 1237.49,464.96 1237.67,957.968 1237.67,1125.61 1238,1137.38 1241.69,749.639 \n",
       "  1241.91,760.596 1245.45,648.177 1246.22,806.955 1246.5,580.201 1248.5,503.112 1252.93,572.69 1254.04,401.784 1254.24,426.886 1255.48,939.338 1257.25,696.011 \n",
       "  1257.27,717.547 1257.31,487.795 1260.41,834.875 1261.11,860.315 1262.23,658.511 1262.28,998.19 1265.2,284.708 1266.3,627.79 1267.64,694.757 1268.94,666.889 \n",
       "  1268.98,835.757 1270.18,322.003 1272.51,1009.12 1272.72,765.836 1273.42,857.01 1273.53,890.287 1274.05,630.709 1276.56,572.84 1276.58,835.779 1276.6,323.24 \n",
       "  1277.14,991.523 1278.32,708.996 1279.92,729.42 1280.23,920.641 1280.67,652.631 1281.03,861.605 1282.23,1080.59 1282.99,756.692 1283.21,862.243 1286.77,378.796 \n",
       "  1287.97,801.123 1288.1,420.94 1291.5,494.015 1292.97,988.714 1294.53,526.582 1294.62,912.263 1294.75,1153.2 1295.05,857.819 1295.13,962.031 1296.45,714.665 \n",
       "  1297.25,1042.29 1299.44,961.497 1299.71,732.384 1300.57,760.42 1302.83,651.202 1304.31,689.409 1305.55,701.193 1305.87,871.848 1307.65,1129.42 1308.23,770.995 \n",
       "  1309.13,1071.85 1309.42,510.458 1309.86,939.692 1309.87,1013.94 1310.43,532.654 1310.77,915.879 1310.95,662.158 1312.33,980.793 1315.02,269.155 1315.07,440.27 \n",
       "  1315.33,1040 1315.38,942.918 1317.26,846.62 1317.82,971.852 1318.22,607.971 1319.18,673.082 1319.38,775.941 1319.6,749.073 1321.39,714.605 1322.37,245.549 \n",
       "  1322.44,1109.9 1322.56,526.895 1323.05,1036.61 1323.07,877.574 1323.32,677.396 1325.01,786.853 1325.16,678.364 1325.6,533.12 1325.72,1094.06 1327.38,863.387 \n",
       "  1329.05,953.39 1331.22,440.721 1331.48,684.069 1332.36,1084.45 1333.2,597.799 1333.35,983.603 1334.02,979.159 1334.43,878.406 1335.12,831.56 1335.44,204.052 \n",
       "  1335.53,754.278 1335.59,730.054 1335.66,584.307 1337.5,712.992 1338.09,872.668 1338.35,679.212 1338.82,861.86 1339.39,766.23 1339.61,1112.34 1339.64,660.5 \n",
       "  1339.79,802.009 1340.23,918.245 1340.67,823.538 1342.66,476.185 1343.21,789.166 1343.43,458.095 1343.61,495.114 1344.89,826.413 1345.41,1033.49 1346.77,749.877 \n",
       "  1347.67,890.716 1349.78,657.382 1351.74,591.475 1351.77,869.437 1352.08,716.971 1355.29,624.67 1356.47,697.482 1357.08,749.019 1357.23,369.573 1357.61,669.87 \n",
       "  1358.5,615.435 1359.3,707.64 1360.47,832.957 1360.87,581.11 1361.06,398.132 1361.73,260.746 1364.27,557.584 1364.76,677.238 1365.19,505.946 1365.54,539.961 \n",
       "  1366.38,504.836 1368.37,689.44 1369.86,438.836 1370.95,846.111 1371.68,733.022 1372.05,897.945 1372.05,996.532 1374.57,631.199 1375.13,564.253 1375.29,254.74 \n",
       "  1376.41,536.024 1377.25,409.915 1378.64,1048.81 1379.21,706.446 1381.64,675.234 1382.18,700.417 1383.03,869.951 1383.4,364.388 1383.46,337.706 1383.5,235.052 \n",
       "  1383.75,596.625 1383.75,458.489 1384.69,547.992 1385.3,766.497 1386.64,1183.32 1386.73,430.345 1387.81,644.535 1389.07,1038.22 1390.11,337.936 1390.79,971.568 \n",
       "  1392.68,597.359 1395,819.995 1395.26,490.767 1395.74,414.93 1395.98,666.695 1396.3,900.964 1396.64,548.606 1398.49,427.069 1399.95,630.543 1401.7,509.613 \n",
       "  1402.33,569.446 1402.85,579.476 1402.97,288.108 1404.48,827.738 1405.01,775.472 1406.38,641.323 1407.01,791.134 1407.28,893.493 1407.74,523.781 1408.22,747.374 \n",
       "  1409.56,894.083 1410.06,1278.55 1410.07,798.396 1410.56,597.466 1412.06,483.44 1412.15,898.252 1412.37,455.332 1412.87,487.493 1413.63,1211.06 1414.73,555.373 \n",
       "  1415.45,538.661 1417.66,701.579 1419.2,470.399 1419.37,321.736 1420.04,805.717 1421.57,858.976 1422.85,990.442 1424.17,934.247 1425.5,510.814 1426.36,641.8 \n",
       "  1428.48,539.182 1429.69,551.651 1429.74,294.667 1434.88,912.683 1436.55,436.997 1436.66,968.341 1437.15,626.463 1437.58,737.52 1437.69,931.983 1438.58,515.764 \n",
       "  1440.93,396.993 1441.67,408.643 1442.07,435.254 1443.93,852.851 1445.48,866.269 1446.03,625.885 1447.72,1025.19 1448.26,833.717 1449.07,719.988 1449.27,1224.78 \n",
       "  1449.56,797.858 1450.8,803.293 1450.83,643.486 1450.9,824.95 1450.91,648.193 1451.22,713.834 1452.3,654.041 1452.47,679.564 1452.98,965.892 1453.41,360.378 \n",
       "  1453.51,985.126 1453.63,971.926 1454.6,962.679 1454.69,671.063 1456.94,738.866 1457.49,800.645 1458.51,711.034 1458.69,958.062 1458.89,981.374 1459.67,888.637 \n",
       "  1461.14,935.509 1462.33,1100.87 1462.81,669.553 1462.95,815.636 1463.02,706.342 1463.14,844.797 1465.24,592.428 1465.39,576.122 1466.6,877.952 1468.06,879.674 \n",
       "  1468.13,304.836 1470.02,630.295 1471.52,631.008 1472.23,612.643 1475.4,932.474 1476.98,921.478 1477.17,885.564 1480.66,708.991 1481.49,519.786 1481.58,907.818 \n",
       "  1482.18,682.567 1482.32,804.284 1482.35,939.173 1482.8,893.704 1483.65,390.779 1485.58,841.076 1485.73,778.874 1486.17,1073.78 1487.01,686.65 1487.05,788.808 \n",
       "  1487.18,873.778 1488.3,937.194 1488.47,798.246 1489.08,541.697 1493.26,801.02 1501.15,549.48 1503.27,913.488 1503.61,1192.15 1503.78,843.72 1504.39,657.233 \n",
       "  1506.31,770.751 1506.32,951.46 1506.59,1196.33 1506.85,1003.36 1507.06,621.701 1508.22,637.267 1512.51,987.622 1514.25,336.158 1515.11,595.597 1516.55,820.093 \n",
       "  1516.9,752.301 1517.63,911.377 1519.08,814.711 1520.12,891.483 1520.35,532.83 1520.64,738.805 1520.68,726.144 1520.69,776.98 1520.96,1005.16 1521.37,592.099 \n",
       "  1523.07,856.634 1523.82,791.8 1524.77,535.508 1525.78,612.22 1529.03,918.761 1533.91,799.646 1534.37,863.49 1535.6,848.734 1535.62,537.692 1537.82,298.523 \n",
       "  1538.45,431.507 1542.09,1258.28 1542.32,956.138 1543.09,1054.43 1543.71,726.311 1544.86,976.137 1544.99,382.435 1549.61,478.375 1551.6,1128.81 1552.22,805.195 \n",
       "  1553.78,914.071 1557.09,319.372 1558.8,543.309 1563.09,726.888 1563.56,786.727 1564.54,959.999 1566.52,738.564 1569.42,584.065 1569.78,643.772 1570.94,1025.29 \n",
       "  1572.11,526.972 1572.37,841.245 1573.06,783.518 1573.35,649.813 1574.8,1129.7 1576.46,750.831 1577.1,1065.43 1579.67,1000.9 1579.93,750.78 1585.05,781.776 \n",
       "  1585.25,785.779 1585.83,364.151 1587.82,763.859 1590.27,511.492 1591.08,981.505 1592.01,1254.39 1592.14,643.773 1592.45,849.478 1593.57,732.963 1594.29,524.753 \n",
       "  1594.82,535.189 1596.24,687.423 1596.69,946.171 1597.79,454.943 1599.88,755.48 1600.25,522.275 1600.33,799.142 1600.79,828.009 1606.27,225.487 1608.38,948.518 \n",
       "  1611.21,496.595 1611.77,669.867 1613.64,489.921 1615.63,1204.9 1616,278.536 1617.79,957.263 1618.16,1238.63 1619.14,478.842 1619.89,777.935 1620.6,430.635 \n",
       "  1622.37,556.128 1625.85,1037.79 1626.96,982.407 1627.54,988.945 1628.44,997.959 1629,620.675 1629.34,859.037 1631.28,630.828 1631.45,890.047 1633.54,1051.55 \n",
       "  1636.67,577.215 1637.6,798.577 1638.6,460.772 1639.18,751.547 1641.23,747.095 1644.81,945.628 1645.08,1204.45 1647.83,1142.72 1650.26,709.818 1651.62,714.773 \n",
       "  1654.36,855.28 1654.45,529.692 1655.82,724.664 1660.28,869.377 1663.44,868.464 1663.94,1277.78 1665.51,696.774 1665.73,878.463 1665.98,696.884 1666,654.449 \n",
       "  1666,398.052 1669.65,164.611 1672.11,800.736 1672.41,1082.59 1672.65,507.979 1673.82,518.618 1673.97,1129.8 1677.58,1013.61 1679.53,372.521 1682.83,471.097 \n",
       "  1683.06,918.916 1683.21,990.876 1685.27,912.079 1686.49,1046.68 1693.8,462.315 1695.84,1013.87 1695.88,727.97 1696.89,504.613 1697.69,800.712 1700.21,509.693 \n",
       "  1700.46,1005.02 1706.29,612.918 1709.56,906.595 1710.39,1000.67 1710.81,598.814 1711.38,700.205 1712.19,687.187 1714.19,1238.8 1717.99,368.172 1718.25,672.735 \n",
       "  1721.11,697.32 1722.55,507.659 1724.29,1143.29 1725.93,673.021 1726.26,227.494 1727.95,870.49 1728.09,1166.34 1732.94,438.841 1733.05,770.731 1733.28,553.085 \n",
       "  1736.48,872.619 1737.29,631.35 1742.19,691.445 1746.27,591.627 1747.51,758.679 1748.68,1225.19 1750.45,717.033 1754.45,521.327 1755.6,476.301 1756.11,680.751 \n",
       "  1759.61,565.807 1764.63,594.248 1768.38,997.144 1774.64,696.311 1783.2,507.133 1784.5,503.809 1788.61,809.729 1788.87,473.353 1789.76,704.635 1789.89,875.959 \n",
       "  1793.78,725.323 1797.52,1146.42 1802.27,839.94 1807.24,694.67 1807.4,532.213 1811.76,967.627 1813.47,497.582 1814.12,817.761 1814.23,701.591 1815.58,594.777 \n",
       "  1819.08,688.646 1833.94,779.374 1834.4,946.538 1846.2,1208.5 1849.39,590.017 1850.33,721.389 1850.98,666.199 1852.5,822.012 1852.96,596.61 1853,904.657 \n",
       "  1857.57,1052.47 1858.81,819.961 1890.69,1046.53 1895.2,127.764 1897.7,872.718 1899.6,738.764 1907.71,897.363 1917.38,742.511 1920.67,709.861 1924.55,550.984 \n",
       "  1934.16,527.902 1934.35,837.618 1944.16,782.847 1948.26,807.048 1948.51,670.826 1952.21,919.118 1954.35,660.516 1956.16,679.847 1958.38,953.209 1958.46,837.575 \n",
       "  1965.39,919.181 1976.94,627.216 2000.5,443.064 2014.2,803.103 2021.38,558.923 2031.35,1063.11 2039.66,263.828 2050.34,744.032 2055.08,1063.64 2080.38,752.126 \n",
       "  2080.83,840.594 2080.94,622.579 2081.1,441.123 2099.74,803.068 2104.27,1001.16 2112.06,555.876 2141.67,517.522 2145.83,566.54 2189.69,217.64 2290.36,551.277 \n",
       "  \n",
       "  \"/>\n",
       "<path clip-path=\"url(#clip450)\" d=\"\n",
       "M221.547 198.898 L554.128 198.898 L554.128 95.2176 L221.547 95.2176  Z\n",
       "  \" fill=\"#ffffff\" fill-rule=\"evenodd\" fill-opacity=\"1\"/>\n",
       "<polyline clip-path=\"url(#clip450)\" style=\"stroke:#000000; stroke-linecap:butt; stroke-linejoin:round; stroke-width:4; stroke-opacity:1; fill:none\" points=\"\n",
       "  221.547,198.898 554.128,198.898 554.128,95.2176 221.547,95.2176 221.547,198.898 \n",
       "  \"/>\n",
       "<polyline clip-path=\"url(#clip450)\" style=\"stroke:#009af9; stroke-linecap:butt; stroke-linejoin:round; stroke-width:4; stroke-opacity:1; fill:none\" points=\"\n",
       "  246.043,147.058 393.023,147.058 \n",
       "  \"/>\n",
       "<path clip-path=\"url(#clip450)\" d=\"M431.362 166.745 Q429.557 171.375 427.844 172.787 Q426.131 174.199 423.261 174.199 L419.858 174.199 L419.858 170.634 L422.358 170.634 Q424.117 170.634 425.089 169.8 Q426.061 168.967 427.242 165.865 L428.006 163.921 L417.52 138.412 L422.034 138.412 L430.136 158.689 L438.237 138.412 L442.751 138.412 L431.362 166.745 Z\" fill=\"#000000\" fill-rule=\"evenodd\" fill-opacity=\"1\" /><path clip-path=\"url(#clip450)\" d=\"M458.862 128.366 Q455.76 133.69 454.256 138.898 Q452.751 144.106 452.751 149.453 Q452.751 154.801 454.256 160.055 Q455.784 165.287 458.862 170.588 L455.159 170.588 Q451.686 165.148 449.95 159.893 Q448.237 154.639 448.237 149.453 Q448.237 144.291 449.95 139.06 Q451.663 133.828 455.159 128.366 L458.862 128.366 Z\" fill=\"#000000\" fill-rule=\"evenodd\" fill-opacity=\"1\" /><path clip-path=\"url(#clip450)\" d=\"M488.677 138.412 L479.302 151.027 L489.163 164.338 L484.14 164.338 L476.594 154.152 L469.047 164.338 L464.024 164.338 L474.094 150.773 L464.881 138.412 L469.904 138.412 L476.779 147.648 L483.654 138.412 L488.677 138.412 Z\" fill=\"#000000\" fill-rule=\"evenodd\" fill-opacity=\"1\" /><path clip-path=\"url(#clip450)\" d=\"M494.51 128.366 L498.214 128.366 Q501.686 133.828 503.399 139.06 Q505.135 144.291 505.135 149.453 Q505.135 154.639 503.399 159.893 Q501.686 165.148 498.214 170.588 L494.51 170.588 Q497.589 165.287 499.093 160.055 Q500.621 154.801 500.621 149.453 Q500.621 144.106 499.093 138.898 Q497.589 133.69 494.51 128.366 Z\" fill=\"#000000\" fill-rule=\"evenodd\" fill-opacity=\"1\" /></svg>\n"
      ]
     },
     "execution_count": 43,
     "metadata": {},
     "output_type": "execute_result"
    }
   ],
   "source": [
    "@df df plot(:x, :y, legend=:topleft, label=\"y(x)\") # a most basic plot"
   ]
  },
  {
   "cell_type": "code",
   "execution_count": 44,
   "metadata": {
    "execution": {
     "iopub.execute_input": "2022-07-18T00:52:43.306000Z",
     "iopub.status.busy": "2022-07-18T00:52:43.306000Z",
     "iopub.status.idle": "2022-07-18T00:52:47.634000Z",
     "shell.execute_reply": "2022-07-18T00:52:47.634000Z"
    }
   },
   "outputs": [
    {
     "data": {
      "image/svg+xml": [
       "<?xml version=\"1.0\" encoding=\"utf-8\"?>\n",
       "<svg xmlns=\"http://www.w3.org/2000/svg\" xmlns:xlink=\"http://www.w3.org/1999/xlink\" width=\"600\" height=\"400\" viewBox=\"0 0 2400 1600\">\n",
       "<defs>\n",
       "  <clipPath id=\"clip490\">\n",
       "    <rect x=\"0\" y=\"0\" width=\"2400\" height=\"1600\"/>\n",
       "  </clipPath>\n",
       "</defs>\n",
       "<path clip-path=\"url(#clip490)\" d=\"\n",
       "M0 1600 L2400 1600 L2400 0 L0 0  Z\n",
       "  \" fill=\"#ffffff\" fill-rule=\"evenodd\" fill-opacity=\"1\"/>\n",
       "<defs>\n",
       "  <clipPath id=\"clip491\">\n",
       "    <rect x=\"480\" y=\"0\" width=\"1681\" height=\"1600\"/>\n",
       "  </clipPath>\n",
       "</defs>\n",
       "<path clip-path=\"url(#clip490)\" d=\"\n",
       "M156.598 1486.45 L2352.76 1486.45 L2352.76 47.2441 L156.598 47.2441  Z\n",
       "  \" fill=\"#ffffff\" fill-rule=\"evenodd\" fill-opacity=\"1\"/>\n",
       "<defs>\n",
       "  <clipPath id=\"clip492\">\n",
       "    <rect x=\"156\" y=\"47\" width=\"2197\" height=\"1440\"/>\n",
       "  </clipPath>\n",
       "</defs>\n",
       "<polyline clip-path=\"url(#clip492)\" style=\"stroke:#000000; stroke-linecap:butt; stroke-linejoin:round; stroke-width:2; stroke-opacity:0.1; fill:none\" points=\"\n",
       "  180.366,1486.45 180.366,47.2441 \n",
       "  \"/>\n",
       "<polyline clip-path=\"url(#clip492)\" style=\"stroke:#000000; stroke-linecap:butt; stroke-linejoin:round; stroke-width:2; stroke-opacity:0.1; fill:none\" points=\"\n",
       "  715.806,1486.45 715.806,47.2441 \n",
       "  \"/>\n",
       "<polyline clip-path=\"url(#clip492)\" style=\"stroke:#000000; stroke-linecap:butt; stroke-linejoin:round; stroke-width:2; stroke-opacity:0.1; fill:none\" points=\"\n",
       "  1251.25,1486.45 1251.25,47.2441 \n",
       "  \"/>\n",
       "<polyline clip-path=\"url(#clip492)\" style=\"stroke:#000000; stroke-linecap:butt; stroke-linejoin:round; stroke-width:2; stroke-opacity:0.1; fill:none\" points=\"\n",
       "  1786.69,1486.45 1786.69,47.2441 \n",
       "  \"/>\n",
       "<polyline clip-path=\"url(#clip492)\" style=\"stroke:#000000; stroke-linecap:butt; stroke-linejoin:round; stroke-width:2; stroke-opacity:0.1; fill:none\" points=\"\n",
       "  2322.13,1486.45 2322.13,47.2441 \n",
       "  \"/>\n",
       "<polyline clip-path=\"url(#clip490)\" style=\"stroke:#000000; stroke-linecap:butt; stroke-linejoin:round; stroke-width:4; stroke-opacity:1; fill:none\" points=\"\n",
       "  156.598,1486.45 2352.76,1486.45 \n",
       "  \"/>\n",
       "<polyline clip-path=\"url(#clip490)\" style=\"stroke:#000000; stroke-linecap:butt; stroke-linejoin:round; stroke-width:4; stroke-opacity:1; fill:none\" points=\"\n",
       "  180.366,1486.45 180.366,1467.55 \n",
       "  \"/>\n",
       "<polyline clip-path=\"url(#clip490)\" style=\"stroke:#000000; stroke-linecap:butt; stroke-linejoin:round; stroke-width:4; stroke-opacity:1; fill:none\" points=\"\n",
       "  715.806,1486.45 715.806,1467.55 \n",
       "  \"/>\n",
       "<polyline clip-path=\"url(#clip490)\" style=\"stroke:#000000; stroke-linecap:butt; stroke-linejoin:round; stroke-width:4; stroke-opacity:1; fill:none\" points=\"\n",
       "  1251.25,1486.45 1251.25,1467.55 \n",
       "  \"/>\n",
       "<polyline clip-path=\"url(#clip490)\" style=\"stroke:#000000; stroke-linecap:butt; stroke-linejoin:round; stroke-width:4; stroke-opacity:1; fill:none\" points=\"\n",
       "  1786.69,1486.45 1786.69,1467.55 \n",
       "  \"/>\n",
       "<polyline clip-path=\"url(#clip490)\" style=\"stroke:#000000; stroke-linecap:butt; stroke-linejoin:round; stroke-width:4; stroke-opacity:1; fill:none\" points=\"\n",
       "  2322.13,1486.45 2322.13,1467.55 \n",
       "  \"/>\n",
       "<path clip-path=\"url(#clip490)\" d=\"M149.266 1532.02 L178.942 1532.02 L178.942 1535.95 L149.266 1535.95 L149.266 1532.02 Z\" fill=\"#000000\" fill-rule=\"evenodd\" fill-opacity=\"1\" /><path clip-path=\"url(#clip490)\" d=\"M201.882 1518.36 L190.076 1536.81 L201.882 1536.81 L201.882 1518.36 M200.655 1514.29 L206.535 1514.29 L206.535 1536.81 L211.465 1536.81 L211.465 1540.7 L206.535 1540.7 L206.535 1548.85 L201.882 1548.85 L201.882 1540.7 L186.28 1540.7 L186.28 1536.19 L200.655 1514.29 Z\" fill=\"#000000\" fill-rule=\"evenodd\" fill-opacity=\"1\" /><path clip-path=\"url(#clip490)\" d=\"M685.749 1532.02 L715.424 1532.02 L715.424 1535.95 L685.749 1535.95 L685.749 1532.02 Z\" fill=\"#000000\" fill-rule=\"evenodd\" fill-opacity=\"1\" /><path clip-path=\"url(#clip490)\" d=\"M729.545 1544.91 L745.864 1544.91 L745.864 1548.85 L723.92 1548.85 L723.92 1544.91 Q726.582 1542.16 731.165 1537.53 Q735.771 1532.88 736.952 1531.53 Q739.197 1529.01 740.077 1527.27 Q740.98 1525.51 740.98 1523.82 Q740.98 1521.07 739.035 1519.33 Q737.114 1517.6 734.012 1517.6 Q731.813 1517.6 729.359 1518.36 Q726.929 1519.13 724.151 1520.68 L724.151 1515.95 Q726.975 1514.82 729.429 1514.24 Q731.883 1513.66 733.92 1513.66 Q739.29 1513.66 742.484 1516.35 Q745.679 1519.03 745.679 1523.52 Q745.679 1525.65 744.869 1527.57 Q744.082 1529.47 741.975 1532.07 Q741.396 1532.74 738.295 1535.95 Q735.193 1539.15 729.545 1544.91 Z\" fill=\"#000000\" fill-rule=\"evenodd\" fill-opacity=\"1\" /><path clip-path=\"url(#clip490)\" d=\"M1251.25 1517.37 Q1247.64 1517.37 1245.81 1520.93 Q1244 1524.47 1244 1531.6 Q1244 1538.71 1245.81 1542.27 Q1247.64 1545.82 1251.25 1545.82 Q1254.88 1545.82 1256.69 1542.27 Q1258.52 1538.71 1258.52 1531.6 Q1258.52 1524.47 1256.69 1520.93 Q1254.88 1517.37 1251.25 1517.37 M1251.25 1513.66 Q1257.06 1513.66 1260.11 1518.27 Q1263.19 1522.85 1263.19 1531.6 Q1263.19 1540.33 1260.11 1544.94 Q1257.06 1549.52 1251.25 1549.52 Q1245.44 1549.52 1242.36 1544.94 Q1239.3 1540.33 1239.3 1531.6 Q1239.3 1522.85 1242.36 1518.27 Q1245.44 1513.66 1251.25 1513.66 Z\" fill=\"#000000\" fill-rule=\"evenodd\" fill-opacity=\"1\" /><path clip-path=\"url(#clip490)\" d=\"M1781.34 1544.91 L1797.66 1544.91 L1797.66 1548.85 L1775.72 1548.85 L1775.72 1544.91 Q1778.38 1542.16 1782.96 1537.53 Q1787.57 1532.88 1788.75 1531.53 Q1790.99 1529.01 1791.87 1527.27 Q1792.78 1525.51 1792.78 1523.82 Q1792.78 1521.07 1790.83 1519.33 Q1788.91 1517.6 1785.81 1517.6 Q1783.61 1517.6 1781.16 1518.36 Q1778.72 1519.13 1775.95 1520.68 L1775.95 1515.95 Q1778.77 1514.82 1781.22 1514.24 Q1783.68 1513.66 1785.72 1513.66 Q1791.09 1513.66 1794.28 1516.35 Q1797.47 1519.03 1797.47 1523.52 Q1797.47 1525.65 1796.66 1527.57 Q1795.88 1529.47 1793.77 1532.07 Q1793.19 1532.74 1790.09 1535.95 Q1786.99 1539.15 1781.34 1544.91 Z\" fill=\"#000000\" fill-rule=\"evenodd\" fill-opacity=\"1\" /><path clip-path=\"url(#clip490)\" d=\"M2325.14 1518.36 L2313.33 1536.81 L2325.14 1536.81 L2325.14 1518.36 M2323.91 1514.29 L2329.79 1514.29 L2329.79 1536.81 L2334.72 1536.81 L2334.72 1540.7 L2329.79 1540.7 L2329.79 1548.85 L2325.14 1548.85 L2325.14 1540.7 L2309.54 1540.7 L2309.54 1536.19 L2323.91 1514.29 Z\" fill=\"#000000\" fill-rule=\"evenodd\" fill-opacity=\"1\" /><polyline clip-path=\"url(#clip492)\" style=\"stroke:#000000; stroke-linecap:butt; stroke-linejoin:round; stroke-width:2; stroke-opacity:0.1; fill:none\" points=\"\n",
       "  156.598,1445.72 2352.76,1445.72 \n",
       "  \"/>\n",
       "<polyline clip-path=\"url(#clip492)\" style=\"stroke:#000000; stroke-linecap:butt; stroke-linejoin:round; stroke-width:2; stroke-opacity:0.1; fill:none\" points=\"\n",
       "  156.598,1103.3 2352.76,1103.3 \n",
       "  \"/>\n",
       "<polyline clip-path=\"url(#clip492)\" style=\"stroke:#000000; stroke-linecap:butt; stroke-linejoin:round; stroke-width:2; stroke-opacity:0.1; fill:none\" points=\"\n",
       "  156.598,760.875 2352.76,760.875 \n",
       "  \"/>\n",
       "<polyline clip-path=\"url(#clip492)\" style=\"stroke:#000000; stroke-linecap:butt; stroke-linejoin:round; stroke-width:2; stroke-opacity:0.1; fill:none\" points=\"\n",
       "  156.598,418.453 2352.76,418.453 \n",
       "  \"/>\n",
       "<polyline clip-path=\"url(#clip492)\" style=\"stroke:#000000; stroke-linecap:butt; stroke-linejoin:round; stroke-width:2; stroke-opacity:0.1; fill:none\" points=\"\n",
       "  156.598,76.031 2352.76,76.031 \n",
       "  \"/>\n",
       "<polyline clip-path=\"url(#clip490)\" style=\"stroke:#000000; stroke-linecap:butt; stroke-linejoin:round; stroke-width:4; stroke-opacity:1; fill:none\" points=\"\n",
       "  156.598,1486.45 156.598,47.2441 \n",
       "  \"/>\n",
       "<polyline clip-path=\"url(#clip490)\" style=\"stroke:#000000; stroke-linecap:butt; stroke-linejoin:round; stroke-width:4; stroke-opacity:1; fill:none\" points=\"\n",
       "  156.598,1445.72 175.496,1445.72 \n",
       "  \"/>\n",
       "<polyline clip-path=\"url(#clip490)\" style=\"stroke:#000000; stroke-linecap:butt; stroke-linejoin:round; stroke-width:4; stroke-opacity:1; fill:none\" points=\"\n",
       "  156.598,1103.3 175.496,1103.3 \n",
       "  \"/>\n",
       "<polyline clip-path=\"url(#clip490)\" style=\"stroke:#000000; stroke-linecap:butt; stroke-linejoin:round; stroke-width:4; stroke-opacity:1; fill:none\" points=\"\n",
       "  156.598,760.875 175.496,760.875 \n",
       "  \"/>\n",
       "<polyline clip-path=\"url(#clip490)\" style=\"stroke:#000000; stroke-linecap:butt; stroke-linejoin:round; stroke-width:4; stroke-opacity:1; fill:none\" points=\"\n",
       "  156.598,418.453 175.496,418.453 \n",
       "  \"/>\n",
       "<polyline clip-path=\"url(#clip490)\" style=\"stroke:#000000; stroke-linecap:butt; stroke-linejoin:round; stroke-width:4; stroke-opacity:1; fill:none\" points=\"\n",
       "  156.598,76.031 175.496,76.031 \n",
       "  \"/>\n",
       "<path clip-path=\"url(#clip490)\" d=\"M63.4226 1431.52 Q59.8115 1431.52 57.9828 1435.08 Q56.1773 1438.62 56.1773 1445.75 Q56.1773 1452.86 57.9828 1456.43 Q59.8115 1459.97 63.4226 1459.97 Q67.0569 1459.97 68.8624 1456.43 Q70.6911 1452.86 70.6911 1445.75 Q70.6911 1438.62 68.8624 1435.08 Q67.0569 1431.52 63.4226 1431.52 M63.4226 1427.81 Q69.2328 1427.81 72.2883 1432.42 Q75.367 1437 75.367 1445.75 Q75.367 1454.48 72.2883 1459.09 Q69.2328 1463.67 63.4226 1463.67 Q57.6125 1463.67 54.5338 1459.09 Q51.4782 1454.48 51.4782 1445.75 Q51.4782 1437 54.5338 1432.42 Q57.6125 1427.81 63.4226 1427.81 Z\" fill=\"#000000\" fill-rule=\"evenodd\" fill-opacity=\"1\" /><path clip-path=\"url(#clip490)\" d=\"M83.5845 1457.12 L88.4688 1457.12 L88.4688 1463 L83.5845 1463 L83.5845 1457.12 Z\" fill=\"#000000\" fill-rule=\"evenodd\" fill-opacity=\"1\" /><path clip-path=\"url(#clip490)\" d=\"M108.654 1431.52 Q105.043 1431.52 103.214 1435.08 Q101.409 1438.62 101.409 1445.75 Q101.409 1452.86 103.214 1456.43 Q105.043 1459.97 108.654 1459.97 Q112.288 1459.97 114.094 1456.43 Q115.922 1452.86 115.922 1445.75 Q115.922 1438.62 114.094 1435.08 Q112.288 1431.52 108.654 1431.52 M108.654 1427.81 Q114.464 1427.81 117.52 1432.42 Q120.598 1437 120.598 1445.75 Q120.598 1454.48 117.52 1459.09 Q114.464 1463.67 108.654 1463.67 Q102.844 1463.67 99.765 1459.09 Q96.7095 1454.48 96.7095 1445.75 Q96.7095 1437 99.765 1432.42 Q102.844 1427.81 108.654 1427.81 Z\" fill=\"#000000\" fill-rule=\"evenodd\" fill-opacity=\"1\" /><path clip-path=\"url(#clip490)\" d=\"M64.6495 1089.1 Q61.0384 1089.1 59.2097 1092.66 Q57.4041 1096.2 57.4041 1103.33 Q57.4041 1110.44 59.2097 1114 Q61.0384 1117.54 64.6495 1117.54 Q68.2837 1117.54 70.0892 1114 Q71.9179 1110.44 71.9179 1103.33 Q71.9179 1096.2 70.0892 1092.66 Q68.2837 1089.1 64.6495 1089.1 M64.6495 1085.39 Q70.4596 1085.39 73.5152 1090 Q76.5938 1094.58 76.5938 1103.33 Q76.5938 1112.06 73.5152 1116.67 Q70.4596 1121.25 64.6495 1121.25 Q58.8393 1121.25 55.7606 1116.67 Q52.7051 1112.06 52.7051 1103.33 Q52.7051 1094.58 55.7606 1090 Q58.8393 1085.39 64.6495 1085.39 Z\" fill=\"#000000\" fill-rule=\"evenodd\" fill-opacity=\"1\" /><path clip-path=\"url(#clip490)\" d=\"M84.8114 1114.7 L89.6956 1114.7 L89.6956 1120.58 L84.8114 1120.58 L84.8114 1114.7 Z\" fill=\"#000000\" fill-rule=\"evenodd\" fill-opacity=\"1\" /><path clip-path=\"url(#clip490)\" d=\"M100.691 1116.64 L108.33 1116.64 L108.33 1090.28 L100.02 1091.94 L100.02 1087.68 L108.283 1086.02 L112.959 1086.02 L112.959 1116.64 L120.598 1116.64 L120.598 1120.58 L100.691 1120.58 L100.691 1116.64 Z\" fill=\"#000000\" fill-rule=\"evenodd\" fill-opacity=\"1\" /><path clip-path=\"url(#clip490)\" d=\"M65.0198 746.674 Q61.4087 746.674 59.58 750.239 Q57.7745 753.78 57.7745 760.91 Q57.7745 768.016 59.58 771.581 Q61.4087 775.123 65.0198 775.123 Q68.6541 775.123 70.4596 771.581 Q72.2883 768.016 72.2883 760.91 Q72.2883 753.78 70.4596 750.239 Q68.6541 746.674 65.0198 746.674 M65.0198 742.97 Q70.83 742.97 73.8855 747.577 Q76.9642 752.16 76.9642 760.91 Q76.9642 769.637 73.8855 774.243 Q70.83 778.826 65.0198 778.826 Q59.2097 778.826 56.131 774.243 Q53.0754 769.637 53.0754 760.91 Q53.0754 752.16 56.131 747.577 Q59.2097 742.97 65.0198 742.97 Z\" fill=\"#000000\" fill-rule=\"evenodd\" fill-opacity=\"1\" /><path clip-path=\"url(#clip490)\" d=\"M85.1818 772.276 L90.066 772.276 L90.066 778.155 L85.1818 778.155 L85.1818 772.276 Z\" fill=\"#000000\" fill-rule=\"evenodd\" fill-opacity=\"1\" /><path clip-path=\"url(#clip490)\" d=\"M104.279 774.22 L120.598 774.22 L120.598 778.155 L98.6539 778.155 L98.6539 774.22 Q101.316 771.465 105.899 766.836 Q110.506 762.183 111.686 760.84 Q113.932 758.317 114.811 756.581 Q115.714 754.822 115.714 753.132 Q115.714 750.377 113.77 748.641 Q111.848 746.905 108.746 746.905 Q106.547 746.905 104.094 747.669 Q101.663 748.433 98.8854 749.984 L98.8854 745.262 Q101.709 744.128 104.163 743.549 Q106.617 742.97 108.654 742.97 Q114.024 742.97 117.219 745.655 Q120.413 748.34 120.413 752.831 Q120.413 754.961 119.603 756.882 Q118.816 758.78 116.709 761.373 Q116.131 762.044 113.029 765.262 Q109.927 768.456 104.279 774.22 Z\" fill=\"#000000\" fill-rule=\"evenodd\" fill-opacity=\"1\" /><path clip-path=\"url(#clip490)\" d=\"M64.0708 404.252 Q60.4597 404.252 58.631 407.817 Q56.8254 411.358 56.8254 418.488 Q56.8254 425.594 58.631 429.159 Q60.4597 432.701 64.0708 432.701 Q67.705 432.701 69.5105 429.159 Q71.3392 425.594 71.3392 418.488 Q71.3392 411.358 69.5105 407.817 Q67.705 404.252 64.0708 404.252 M64.0708 400.548 Q69.8809 400.548 72.9365 405.154 Q76.0151 409.738 76.0151 418.488 Q76.0151 427.215 72.9365 431.821 Q69.8809 436.404 64.0708 436.404 Q58.2606 436.404 55.1819 431.821 Q52.1264 427.215 52.1264 418.488 Q52.1264 409.738 55.1819 405.154 Q58.2606 400.548 64.0708 400.548 Z\" fill=\"#000000\" fill-rule=\"evenodd\" fill-opacity=\"1\" /><path clip-path=\"url(#clip490)\" d=\"M84.2327 429.853 L89.1169 429.853 L89.1169 435.733 L84.2327 435.733 L84.2327 429.853 Z\" fill=\"#000000\" fill-rule=\"evenodd\" fill-opacity=\"1\" /><path clip-path=\"url(#clip490)\" d=\"M113.469 417.099 Q116.825 417.816 118.7 420.085 Q120.598 422.353 120.598 425.687 Q120.598 430.802 117.08 433.603 Q113.561 436.404 107.08 436.404 Q104.904 436.404 102.589 435.965 Q100.297 435.548 97.8437 434.691 L97.8437 430.178 Q99.7882 431.312 102.103 431.89 Q104.418 432.469 106.941 432.469 Q111.339 432.469 113.631 430.733 Q115.945 428.997 115.945 425.687 Q115.945 422.631 113.793 420.918 Q111.663 419.182 107.844 419.182 L103.816 419.182 L103.816 415.34 L108.029 415.34 Q111.478 415.34 113.307 413.974 Q115.135 412.585 115.135 409.992 Q115.135 407.33 113.237 405.918 Q111.362 404.483 107.844 404.483 Q105.922 404.483 103.723 404.9 Q101.524 405.317 98.8854 406.196 L98.8854 402.03 Q101.547 401.289 103.862 400.918 Q106.2 400.548 108.26 400.548 Q113.584 400.548 116.686 402.979 Q119.788 405.386 119.788 409.506 Q119.788 412.377 118.145 414.367 Q116.501 416.335 113.469 417.099 Z\" fill=\"#000000\" fill-rule=\"evenodd\" fill-opacity=\"1\" /><path clip-path=\"url(#clip490)\" d=\"M62.9365 61.8296 Q59.3254 61.8296 57.4967 65.3944 Q55.6912 68.9361 55.6912 76.0657 Q55.6912 83.1721 57.4967 86.7369 Q59.3254 90.2786 62.9365 90.2786 Q66.5707 90.2786 68.3763 86.7369 Q70.205 83.1721 70.205 76.0657 Q70.205 68.9361 68.3763 65.3944 Q66.5707 61.8296 62.9365 61.8296 M62.9365 58.126 Q68.7467 58.126 71.8022 62.7324 Q74.8809 67.3157 74.8809 76.0657 Q74.8809 84.7925 71.8022 89.3989 Q68.7467 93.9822 62.9365 93.9822 Q57.1264 93.9822 54.0477 89.3989 Q50.9921 84.7925 50.9921 76.0657 Q50.9921 67.3157 54.0477 62.7324 Q57.1264 58.126 62.9365 58.126 Z\" fill=\"#000000\" fill-rule=\"evenodd\" fill-opacity=\"1\" /><path clip-path=\"url(#clip490)\" d=\"M83.0984 87.4314 L87.9827 87.4314 L87.9827 93.311 L83.0984 93.311 L83.0984 87.4314 Z\" fill=\"#000000\" fill-rule=\"evenodd\" fill-opacity=\"1\" /><path clip-path=\"url(#clip490)\" d=\"M111.015 62.825 L99.2095 81.274 L111.015 81.274 L111.015 62.825 M109.788 58.751 L115.668 58.751 L115.668 81.274 L120.598 81.274 L120.598 85.1628 L115.668 85.1628 L115.668 93.311 L111.015 93.311 L111.015 85.1628 L95.4132 85.1628 L95.4132 80.649 L109.788 58.751 Z\" fill=\"#000000\" fill-rule=\"evenodd\" fill-opacity=\"1\" /><polyline clip-path=\"url(#clip492)\" style=\"stroke:#009af9; stroke-linecap:butt; stroke-linejoin:round; stroke-width:4; stroke-opacity:1; fill:none\" points=\"\n",
       "  218.754,1445.72 229.165,1445.71 239.576,1445.71 249.988,1445.7 260.399,1445.68 270.81,1445.65 281.221,1445.6 291.633,1445.52 302.044,1445.4 312.455,1445.22 \n",
       "  322.867,1444.94 333.278,1444.56 343.689,1444.02 354.1,1443.31 364.512,1442.38 374.923,1441.21 385.334,1439.78 395.746,1438.09 406.157,1436.15 416.568,1433.98 \n",
       "  426.979,1431.63 437.391,1429.15 447.802,1426.58 458.213,1423.95 468.625,1421.31 479.036,1418.62 489.447,1415.87 499.858,1412.97 510.27,1409.82 520.681,1406.29 \n",
       "  531.092,1402.24 541.504,1397.55 551.915,1392.08 562.326,1385.73 572.738,1378.46 583.149,1370.25 593.56,1361.12 603.971,1351.16 614.383,1340.48 624.794,1329.23 \n",
       "  635.205,1317.58 645.617,1305.72 656.028,1293.82 666.439,1282.05 676.85,1270.53 687.262,1259.36 697.673,1248.55 708.084,1238.03 718.496,1227.67 728.907,1217.25 \n",
       "  739.318,1206.46 749.729,1194.95 760.141,1182.36 770.552,1168.3 780.963,1152.47 791.375,1134.62 801.786,1114.65 812.197,1092.58 822.609,1068.58 833.02,1042.95 \n",
       "  843.431,1016.06 853.842,988.361 864.254,960.252 874.665,932.099 885.076,904.17 895.488,876.632 905.899,849.561 916.31,822.966 926.721,796.826 937.133,771.126 \n",
       "  947.544,745.873 957.955,721.103 968.367,696.863 978.778,673.19 989.189,650.073 999.6,627.431 1010.01,605.097 1020.42,582.828 1030.83,560.322 1041.25,537.264 \n",
       "  1051.66,513.37 1062.07,488.442 1072.48,462.413 1082.89,435.388 1093.3,407.666 1103.71,379.741 1114.12,352.274 1124.54,326.044 1134.95,301.864 1145.36,280.481 \n",
       "  1155.77,262.466 1166.18,248.11 1176.59,237.354 1187,229.751 1197.41,224.503 1207.83,220.539 1218.24,216.659 1228.65,211.7 1239.06,204.709 1249.47,195.092 \n",
       "  1259.88,182.713 1270.29,167.921 1280.71,151.51 1291.12,134.615 1301.53,118.569 1311.94,104.742 1322.35,94.3945 1332.76,88.5602 1343.17,87.9763 1353.58,93.0578 \n",
       "  1364,103.91 1374.41,120.363 1384.82,142.026 1395.23,168.328 1405.64,198.566 1416.05,231.941 1426.46,267.596 1436.87,304.652 1447.29,342.255 1457.7,379.631 \n",
       "  1468.11,416.132 1478.52,451.289 1488.93,484.835 1499.34,516.724 1509.75,547.105 1520.16,576.296 1530.58,604.723 1540.99,632.858 1551.4,661.159 1561.81,690.016 \n",
       "  1572.22,719.711 1582.63,750.392 1593.04,782.072 1603.46,814.63 1613.87,847.835 1624.28,881.372 1634.69,914.869 1645.1,947.93 1655.51,980.164 1665.92,1011.21 \n",
       "  1676.33,1040.74 1686.75,1068.51 1697.16,1094.35 1707.57,1118.14 1717.98,1139.87 1728.39,1159.61 1738.8,1177.48 1749.21,1193.66 1759.62,1208.39 1770.04,1221.88 \n",
       "  1780.45,1234.35 1790.86,1245.99 1801.27,1256.96 1811.68,1267.35 1822.09,1277.25 1832.5,1286.72 1842.91,1295.82 1853.33,1304.64 1863.74,1313.25 1874.15,1321.75 \n",
       "  1884.56,1330.23 1894.97,1338.77 1905.38,1347.4 1915.79,1356.11 1926.21,1364.84 1936.62,1373.49 1947.03,1381.92 1957.44,1389.97 1967.85,1397.52 1978.26,1404.43 \n",
       "  1988.67,1410.62 1999.08,1416.05 2009.5,1420.74 2019.91,1424.71 2030.32,1428.05 2040.73,1430.84 2051.14,1433.18 2061.55,1435.16 2071.96,1436.86 2082.37,1438.32 \n",
       "  2092.79,1439.61 2103.2,1440.73 2113.61,1441.71 2124.02,1442.56 2134.43,1443.28 2144.84,1443.88 2155.25,1444.36 2165.67,1444.74 2176.08,1445.04 2186.49,1445.25 \n",
       "  2196.9,1445.41 2207.31,1445.52 2217.72,1445.59 2228.13,1445.64 2238.54,1445.67 2248.96,1445.69 2259.37,1445.7 2269.78,1445.71 2280.19,1445.71 2290.6,1445.72 \n",
       "  \n",
       "  \"/>\n",
       "</svg>\n"
      ]
     },
     "execution_count": 44,
     "metadata": {},
     "output_type": "execute_result"
    }
   ],
   "source": [
    "@df df density(:x, label=\"\") # density plot"
   ]
  },
  {
   "cell_type": "code",
   "execution_count": 45,
   "metadata": {
    "execution": {
     "iopub.execute_input": "2022-07-18T00:52:47.638000Z",
     "iopub.status.busy": "2022-07-18T00:52:47.637000Z",
     "iopub.status.idle": "2022-07-18T00:52:51.298000Z",
     "shell.execute_reply": "2022-07-18T00:52:51.298000Z"
    }
   },
   "outputs": [
    {
     "data": {
      "image/svg+xml": [
       "<?xml version=\"1.0\" encoding=\"utf-8\"?>\n",
       "<svg xmlns=\"http://www.w3.org/2000/svg\" xmlns:xlink=\"http://www.w3.org/1999/xlink\" width=\"600\" height=\"400\" viewBox=\"0 0 2400 1600\">\n",
       "<defs>\n",
       "  <clipPath id=\"clip530\">\n",
       "    <rect x=\"0\" y=\"0\" width=\"2400\" height=\"1600\"/>\n",
       "  </clipPath>\n",
       "</defs>\n",
       "<path clip-path=\"url(#clip530)\" d=\"\n",
       "M0 1600 L2400 1600 L2400 0 L0 0  Z\n",
       "  \" fill=\"#ffffff\" fill-rule=\"evenodd\" fill-opacity=\"1\"/>\n",
       "<defs>\n",
       "  <clipPath id=\"clip531\">\n",
       "    <rect x=\"480\" y=\"0\" width=\"1681\" height=\"1600\"/>\n",
       "  </clipPath>\n",
       "</defs>\n",
       "<path clip-path=\"url(#clip530)\" d=\"\n",
       "M170.857 1486.45 L2352.76 1486.45 L2352.76 47.2441 L170.857 47.2441  Z\n",
       "  \" fill=\"#ffffff\" fill-rule=\"evenodd\" fill-opacity=\"1\"/>\n",
       "<defs>\n",
       "  <clipPath id=\"clip532\">\n",
       "    <rect x=\"170\" y=\"47\" width=\"2183\" height=\"1440\"/>\n",
       "  </clipPath>\n",
       "</defs>\n",
       "<polyline clip-path=\"url(#clip532)\" style=\"stroke:#000000; stroke-linecap:butt; stroke-linejoin:round; stroke-width:2; stroke-opacity:0.1; fill:none\" points=\"\n",
       "  440.241,1486.45 440.241,47.2441 \n",
       "  \"/>\n",
       "<polyline clip-path=\"url(#clip532)\" style=\"stroke:#000000; stroke-linecap:butt; stroke-linejoin:round; stroke-width:2; stroke-opacity:0.1; fill:none\" points=\"\n",
       "  738.992,1486.45 738.992,47.2441 \n",
       "  \"/>\n",
       "<polyline clip-path=\"url(#clip532)\" style=\"stroke:#000000; stroke-linecap:butt; stroke-linejoin:round; stroke-width:2; stroke-opacity:0.1; fill:none\" points=\"\n",
       "  1037.74,1486.45 1037.74,47.2441 \n",
       "  \"/>\n",
       "<polyline clip-path=\"url(#clip532)\" style=\"stroke:#000000; stroke-linecap:butt; stroke-linejoin:round; stroke-width:2; stroke-opacity:0.1; fill:none\" points=\"\n",
       "  1336.49,1486.45 1336.49,47.2441 \n",
       "  \"/>\n",
       "<polyline clip-path=\"url(#clip532)\" style=\"stroke:#000000; stroke-linecap:butt; stroke-linejoin:round; stroke-width:2; stroke-opacity:0.1; fill:none\" points=\"\n",
       "  1635.25,1486.45 1635.25,47.2441 \n",
       "  \"/>\n",
       "<polyline clip-path=\"url(#clip532)\" style=\"stroke:#000000; stroke-linecap:butt; stroke-linejoin:round; stroke-width:2; stroke-opacity:0.1; fill:none\" points=\"\n",
       "  1934,1486.45 1934,47.2441 \n",
       "  \"/>\n",
       "<polyline clip-path=\"url(#clip532)\" style=\"stroke:#000000; stroke-linecap:butt; stroke-linejoin:round; stroke-width:2; stroke-opacity:0.1; fill:none\" points=\"\n",
       "  2232.75,1486.45 2232.75,47.2441 \n",
       "  \"/>\n",
       "<polyline clip-path=\"url(#clip530)\" style=\"stroke:#000000; stroke-linecap:butt; stroke-linejoin:round; stroke-width:4; stroke-opacity:1; fill:none\" points=\"\n",
       "  170.857,1486.45 2352.76,1486.45 \n",
       "  \"/>\n",
       "<polyline clip-path=\"url(#clip530)\" style=\"stroke:#000000; stroke-linecap:butt; stroke-linejoin:round; stroke-width:4; stroke-opacity:1; fill:none\" points=\"\n",
       "  440.241,1486.45 440.241,1467.55 \n",
       "  \"/>\n",
       "<polyline clip-path=\"url(#clip530)\" style=\"stroke:#000000; stroke-linecap:butt; stroke-linejoin:round; stroke-width:4; stroke-opacity:1; fill:none\" points=\"\n",
       "  738.992,1486.45 738.992,1467.55 \n",
       "  \"/>\n",
       "<polyline clip-path=\"url(#clip530)\" style=\"stroke:#000000; stroke-linecap:butt; stroke-linejoin:round; stroke-width:4; stroke-opacity:1; fill:none\" points=\"\n",
       "  1037.74,1486.45 1037.74,1467.55 \n",
       "  \"/>\n",
       "<polyline clip-path=\"url(#clip530)\" style=\"stroke:#000000; stroke-linecap:butt; stroke-linejoin:round; stroke-width:4; stroke-opacity:1; fill:none\" points=\"\n",
       "  1336.49,1486.45 1336.49,1467.55 \n",
       "  \"/>\n",
       "<polyline clip-path=\"url(#clip530)\" style=\"stroke:#000000; stroke-linecap:butt; stroke-linejoin:round; stroke-width:4; stroke-opacity:1; fill:none\" points=\"\n",
       "  1635.25,1486.45 1635.25,1467.55 \n",
       "  \"/>\n",
       "<polyline clip-path=\"url(#clip530)\" style=\"stroke:#000000; stroke-linecap:butt; stroke-linejoin:round; stroke-width:4; stroke-opacity:1; fill:none\" points=\"\n",
       "  1934,1486.45 1934,1467.55 \n",
       "  \"/>\n",
       "<polyline clip-path=\"url(#clip530)\" style=\"stroke:#000000; stroke-linecap:butt; stroke-linejoin:round; stroke-width:4; stroke-opacity:1; fill:none\" points=\"\n",
       "  2232.75,1486.45 2232.75,1467.55 \n",
       "  \"/>\n",
       "<path clip-path=\"url(#clip530)\" d=\"M409.709 1532.02 L439.385 1532.02 L439.385 1535.95 L409.709 1535.95 L409.709 1532.02 Z\" fill=\"#000000\" fill-rule=\"evenodd\" fill-opacity=\"1\" /><path clip-path=\"url(#clip530)\" d=\"M463.644 1530.21 Q467 1530.93 468.875 1533.2 Q470.773 1535.47 470.773 1538.8 Q470.773 1543.92 467.255 1546.72 Q463.736 1549.52 457.255 1549.52 Q455.079 1549.52 452.764 1549.08 Q450.473 1548.66 448.019 1547.81 L448.019 1543.29 Q449.963 1544.43 452.278 1545.01 Q454.593 1545.58 457.116 1545.58 Q461.514 1545.58 463.806 1543.85 Q466.121 1542.11 466.121 1538.8 Q466.121 1535.75 463.968 1534.03 Q461.838 1532.3 458.019 1532.3 L453.991 1532.3 L453.991 1528.45 L458.204 1528.45 Q461.653 1528.45 463.482 1527.09 Q465.311 1525.7 465.311 1523.11 Q465.311 1520.45 463.412 1519.03 Q461.537 1517.6 458.019 1517.6 Q456.098 1517.6 453.899 1518.01 Q451.7 1518.43 449.061 1519.31 L449.061 1515.14 Q451.723 1514.4 454.037 1514.03 Q456.375 1513.66 458.436 1513.66 Q463.76 1513.66 466.861 1516.09 Q469.963 1518.5 469.963 1522.62 Q469.963 1525.49 468.32 1527.48 Q466.676 1529.45 463.644 1530.21 Z\" fill=\"#000000\" fill-rule=\"evenodd\" fill-opacity=\"1\" /><path clip-path=\"url(#clip530)\" d=\"M708.935 1532.02 L738.61 1532.02 L738.61 1535.95 L708.935 1535.95 L708.935 1532.02 Z\" fill=\"#000000\" fill-rule=\"evenodd\" fill-opacity=\"1\" /><path clip-path=\"url(#clip530)\" d=\"M752.731 1544.91 L769.05 1544.91 L769.05 1548.85 L747.106 1548.85 L747.106 1544.91 Q749.768 1542.16 754.351 1537.53 Q758.957 1532.88 760.138 1531.53 Q762.383 1529.01 763.263 1527.27 Q764.166 1525.51 764.166 1523.82 Q764.166 1521.07 762.221 1519.33 Q760.3 1517.6 757.198 1517.6 Q754.999 1517.6 752.545 1518.36 Q750.115 1519.13 747.337 1520.68 L747.337 1515.95 Q750.161 1514.82 752.615 1514.24 Q755.069 1513.66 757.106 1513.66 Q762.476 1513.66 765.67 1516.35 Q768.865 1519.03 768.865 1523.52 Q768.865 1525.65 768.055 1527.57 Q767.268 1529.47 765.161 1532.07 Q764.582 1532.74 761.481 1535.95 Q758.379 1539.15 752.731 1544.91 Z\" fill=\"#000000\" fill-rule=\"evenodd\" fill-opacity=\"1\" /><path clip-path=\"url(#clip530)\" d=\"M1007.5 1532.02 L1037.18 1532.02 L1037.18 1535.95 L1007.5 1535.95 L1007.5 1532.02 Z\" fill=\"#000000\" fill-rule=\"evenodd\" fill-opacity=\"1\" /><path clip-path=\"url(#clip530)\" d=\"M1048.08 1544.91 L1055.72 1544.91 L1055.72 1518.55 L1047.41 1520.21 L1047.41 1515.95 L1055.67 1514.29 L1060.35 1514.29 L1060.35 1544.91 L1067.99 1544.91 L1067.99 1548.85 L1048.08 1548.85 L1048.08 1544.91 Z\" fill=\"#000000\" fill-rule=\"evenodd\" fill-opacity=\"1\" /><path clip-path=\"url(#clip530)\" d=\"M1336.49 1517.37 Q1332.88 1517.37 1331.05 1520.93 Q1329.25 1524.47 1329.25 1531.6 Q1329.25 1538.71 1331.05 1542.27 Q1332.88 1545.82 1336.49 1545.82 Q1340.13 1545.82 1341.93 1542.27 Q1343.76 1538.71 1343.76 1531.6 Q1343.76 1524.47 1341.93 1520.93 Q1340.13 1517.37 1336.49 1517.37 M1336.49 1513.66 Q1342.3 1513.66 1345.36 1518.27 Q1348.44 1522.85 1348.44 1531.6 Q1348.44 1540.33 1345.36 1544.94 Q1342.3 1549.52 1336.49 1549.52 Q1330.68 1549.52 1327.61 1544.94 Q1324.55 1540.33 1324.55 1531.6 Q1324.55 1522.85 1327.61 1518.27 Q1330.68 1513.66 1336.49 1513.66 Z\" fill=\"#000000\" fill-rule=\"evenodd\" fill-opacity=\"1\" /><path clip-path=\"url(#clip530)\" d=\"M1625.63 1544.91 L1633.27 1544.91 L1633.27 1518.55 L1624.96 1520.21 L1624.96 1515.95 L1633.22 1514.29 L1637.9 1514.29 L1637.9 1544.91 L1645.53 1544.91 L1645.53 1548.85 L1625.63 1548.85 L1625.63 1544.91 Z\" fill=\"#000000\" fill-rule=\"evenodd\" fill-opacity=\"1\" /><path clip-path=\"url(#clip530)\" d=\"M1928.65 1544.91 L1944.97 1544.91 L1944.97 1548.85 L1923.02 1548.85 L1923.02 1544.91 Q1925.69 1542.16 1930.27 1537.53 Q1934.88 1532.88 1936.06 1531.53 Q1938.3 1529.01 1939.18 1527.27 Q1940.08 1525.51 1940.08 1523.82 Q1940.08 1521.07 1938.14 1519.33 Q1936.22 1517.6 1933.12 1517.6 Q1930.92 1517.6 1928.46 1518.36 Q1926.03 1519.13 1923.26 1520.68 L1923.26 1515.95 Q1926.08 1514.82 1928.53 1514.24 Q1930.99 1513.66 1933.02 1513.66 Q1938.39 1513.66 1941.59 1516.35 Q1944.78 1519.03 1944.78 1523.52 Q1944.78 1525.65 1943.97 1527.57 Q1943.19 1529.47 1941.08 1532.07 Q1940.5 1532.74 1937.4 1535.95 Q1934.3 1539.15 1928.65 1544.91 Z\" fill=\"#000000\" fill-rule=\"evenodd\" fill-opacity=\"1\" /><path clip-path=\"url(#clip530)\" d=\"M2237 1530.21 Q2240.35 1530.93 2242.23 1533.2 Q2244.12 1535.47 2244.12 1538.8 Q2244.12 1543.92 2240.61 1546.72 Q2237.09 1549.52 2230.61 1549.52 Q2228.43 1549.52 2226.12 1549.08 Q2223.82 1548.66 2221.37 1547.81 L2221.37 1543.29 Q2223.31 1544.43 2225.63 1545.01 Q2227.94 1545.58 2230.47 1545.58 Q2234.87 1545.58 2237.16 1543.85 Q2239.47 1542.11 2239.47 1538.8 Q2239.47 1535.75 2237.32 1534.03 Q2235.19 1532.3 2231.37 1532.3 L2227.34 1532.3 L2227.34 1528.45 L2231.56 1528.45 Q2235 1528.45 2236.83 1527.09 Q2238.66 1525.7 2238.66 1523.11 Q2238.66 1520.45 2236.76 1519.03 Q2234.89 1517.6 2231.37 1517.6 Q2229.45 1517.6 2227.25 1518.01 Q2225.05 1518.43 2222.41 1519.31 L2222.41 1515.14 Q2225.07 1514.4 2227.39 1514.03 Q2229.73 1513.66 2231.79 1513.66 Q2237.11 1513.66 2240.21 1516.09 Q2243.31 1518.5 2243.31 1522.62 Q2243.31 1525.49 2241.67 1527.48 Q2240.03 1529.45 2237 1530.21 Z\" fill=\"#000000\" fill-rule=\"evenodd\" fill-opacity=\"1\" /><polyline clip-path=\"url(#clip532)\" style=\"stroke:#000000; stroke-linecap:butt; stroke-linejoin:round; stroke-width:2; stroke-opacity:0.1; fill:none\" points=\"\n",
       "  170.857,1445.72 2352.76,1445.72 \n",
       "  \"/>\n",
       "<polyline clip-path=\"url(#clip532)\" style=\"stroke:#000000; stroke-linecap:butt; stroke-linejoin:round; stroke-width:2; stroke-opacity:0.1; fill:none\" points=\"\n",
       "  170.857,1102.85 2352.76,1102.85 \n",
       "  \"/>\n",
       "<polyline clip-path=\"url(#clip532)\" style=\"stroke:#000000; stroke-linecap:butt; stroke-linejoin:round; stroke-width:2; stroke-opacity:0.1; fill:none\" points=\"\n",
       "  170.857,759.989 2352.76,759.989 \n",
       "  \"/>\n",
       "<polyline clip-path=\"url(#clip532)\" style=\"stroke:#000000; stroke-linecap:butt; stroke-linejoin:round; stroke-width:2; stroke-opacity:0.1; fill:none\" points=\"\n",
       "  170.857,417.125 2352.76,417.125 \n",
       "  \"/>\n",
       "<polyline clip-path=\"url(#clip532)\" style=\"stroke:#000000; stroke-linecap:butt; stroke-linejoin:round; stroke-width:2; stroke-opacity:0.1; fill:none\" points=\"\n",
       "  170.857,74.2617 2352.76,74.2617 \n",
       "  \"/>\n",
       "<polyline clip-path=\"url(#clip530)\" style=\"stroke:#000000; stroke-linecap:butt; stroke-linejoin:round; stroke-width:4; stroke-opacity:1; fill:none\" points=\"\n",
       "  170.857,1486.45 170.857,47.2441 \n",
       "  \"/>\n",
       "<polyline clip-path=\"url(#clip530)\" style=\"stroke:#000000; stroke-linecap:butt; stroke-linejoin:round; stroke-width:4; stroke-opacity:1; fill:none\" points=\"\n",
       "  170.857,1445.72 189.755,1445.72 \n",
       "  \"/>\n",
       "<polyline clip-path=\"url(#clip530)\" style=\"stroke:#000000; stroke-linecap:butt; stroke-linejoin:round; stroke-width:4; stroke-opacity:1; fill:none\" points=\"\n",
       "  170.857,1102.85 189.755,1102.85 \n",
       "  \"/>\n",
       "<polyline clip-path=\"url(#clip530)\" style=\"stroke:#000000; stroke-linecap:butt; stroke-linejoin:round; stroke-width:4; stroke-opacity:1; fill:none\" points=\"\n",
       "  170.857,759.989 189.755,759.989 \n",
       "  \"/>\n",
       "<polyline clip-path=\"url(#clip530)\" style=\"stroke:#000000; stroke-linecap:butt; stroke-linejoin:round; stroke-width:4; stroke-opacity:1; fill:none\" points=\"\n",
       "  170.857,417.125 189.755,417.125 \n",
       "  \"/>\n",
       "<polyline clip-path=\"url(#clip530)\" style=\"stroke:#000000; stroke-linecap:butt; stroke-linejoin:round; stroke-width:4; stroke-opacity:1; fill:none\" points=\"\n",
       "  170.857,74.2617 189.755,74.2617 \n",
       "  \"/>\n",
       "<path clip-path=\"url(#clip530)\" d=\"M122.913 1431.51 Q119.302 1431.51 117.473 1435.08 Q115.668 1438.62 115.668 1445.75 Q115.668 1452.86 117.473 1456.42 Q119.302 1459.96 122.913 1459.96 Q126.547 1459.96 128.353 1456.42 Q130.182 1452.86 130.182 1445.75 Q130.182 1438.62 128.353 1435.08 Q126.547 1431.51 122.913 1431.51 M122.913 1427.81 Q128.723 1427.81 131.779 1432.42 Q134.857 1437 134.857 1445.75 Q134.857 1454.48 131.779 1459.08 Q128.723 1463.67 122.913 1463.67 Q117.103 1463.67 114.024 1459.08 Q110.969 1454.48 110.969 1445.75 Q110.969 1437 114.024 1432.42 Q117.103 1427.81 122.913 1427.81 Z\" fill=\"#000000\" fill-rule=\"evenodd\" fill-opacity=\"1\" /><path clip-path=\"url(#clip530)\" d=\"M82.7975 1085.57 L101.154 1085.57 L101.154 1089.51 L87.0799 1089.51 L87.0799 1097.98 Q88.0984 1097.63 89.1169 1097.47 Q90.1354 1097.29 91.1539 1097.29 Q96.941 1097.29 100.321 1100.46 Q103.7 1103.63 103.7 1109.04 Q103.7 1114.62 100.228 1117.72 Q96.7558 1120.8 90.4364 1120.8 Q88.2604 1120.8 85.9919 1120.43 Q83.7466 1120.06 81.3392 1119.32 L81.3392 1114.62 Q83.4225 1115.76 85.6447 1116.31 Q87.8669 1116.87 90.3438 1116.87 Q94.3484 1116.87 96.6863 1114.76 Q99.0243 1112.66 99.0243 1109.04 Q99.0243 1105.43 96.6863 1103.33 Q94.3484 1101.22 90.3438 1101.22 Q88.4688 1101.22 86.5938 1101.64 Q84.7419 1102.05 82.7975 1102.93 L82.7975 1085.57 Z\" fill=\"#000000\" fill-rule=\"evenodd\" fill-opacity=\"1\" /><path clip-path=\"url(#clip530)\" d=\"M122.913 1088.65 Q119.302 1088.65 117.473 1092.22 Q115.668 1095.76 115.668 1102.89 Q115.668 1109.99 117.473 1113.56 Q119.302 1117.1 122.913 1117.1 Q126.547 1117.1 128.353 1113.56 Q130.182 1109.99 130.182 1102.89 Q130.182 1095.76 128.353 1092.22 Q126.547 1088.65 122.913 1088.65 M122.913 1084.95 Q128.723 1084.95 131.779 1089.55 Q134.857 1094.14 134.857 1102.89 Q134.857 1111.61 131.779 1116.22 Q128.723 1120.8 122.913 1120.8 Q117.103 1120.8 114.024 1116.22 Q110.969 1111.61 110.969 1102.89 Q110.969 1094.14 114.024 1089.55 Q117.103 1084.95 122.913 1084.95 Z\" fill=\"#000000\" fill-rule=\"evenodd\" fill-opacity=\"1\" /><path clip-path=\"url(#clip530)\" d=\"M53.3995 773.334 L61.0384 773.334 L61.0384 746.968 L52.7282 748.635 L52.7282 744.375 L60.9921 742.709 L65.668 742.709 L65.668 773.334 L73.3068 773.334 L73.3068 777.269 L53.3995 777.269 L53.3995 773.334 Z\" fill=\"#000000\" fill-rule=\"evenodd\" fill-opacity=\"1\" /><path clip-path=\"url(#clip530)\" d=\"M92.7512 745.787 Q89.1401 745.787 87.3114 749.352 Q85.5058 752.894 85.5058 760.023 Q85.5058 767.13 87.3114 770.695 Q89.1401 774.236 92.7512 774.236 Q96.3854 774.236 98.1909 770.695 Q100.02 767.13 100.02 760.023 Q100.02 752.894 98.1909 749.352 Q96.3854 745.787 92.7512 745.787 M92.7512 742.084 Q98.5613 742.084 101.617 746.69 Q104.696 751.273 104.696 760.023 Q104.696 768.75 101.617 773.357 Q98.5613 777.94 92.7512 777.94 Q86.941 777.94 83.8623 773.357 Q80.8068 768.75 80.8068 760.023 Q80.8068 751.273 83.8623 746.69 Q86.941 742.084 92.7512 742.084 Z\" fill=\"#000000\" fill-rule=\"evenodd\" fill-opacity=\"1\" /><path clip-path=\"url(#clip530)\" d=\"M122.913 745.787 Q119.302 745.787 117.473 749.352 Q115.668 752.894 115.668 760.023 Q115.668 767.13 117.473 770.695 Q119.302 774.236 122.913 774.236 Q126.547 774.236 128.353 770.695 Q130.182 767.13 130.182 760.023 Q130.182 752.894 128.353 749.352 Q126.547 745.787 122.913 745.787 M122.913 742.084 Q128.723 742.084 131.779 746.69 Q134.857 751.273 134.857 760.023 Q134.857 768.75 131.779 773.357 Q128.723 777.94 122.913 777.94 Q117.103 777.94 114.024 773.357 Q110.969 768.75 110.969 760.023 Q110.969 751.273 114.024 746.69 Q117.103 742.084 122.913 742.084 Z\" fill=\"#000000\" fill-rule=\"evenodd\" fill-opacity=\"1\" /><path clip-path=\"url(#clip530)\" d=\"M53.3995 430.47 L61.0384 430.47 L61.0384 404.104 L52.7282 405.771 L52.7282 401.512 L60.9921 399.845 L65.668 399.845 L65.668 430.47 L73.3068 430.47 L73.3068 434.405 L53.3995 434.405 L53.3995 430.47 Z\" fill=\"#000000\" fill-rule=\"evenodd\" fill-opacity=\"1\" /><path clip-path=\"url(#clip530)\" d=\"M82.7975 399.845 L101.154 399.845 L101.154 403.78 L87.0799 403.78 L87.0799 412.253 Q88.0984 411.905 89.1169 411.743 Q90.1354 411.558 91.1539 411.558 Q96.941 411.558 100.321 414.729 Q103.7 417.901 103.7 423.317 Q103.7 428.896 100.228 431.998 Q96.7558 435.077 90.4364 435.077 Q88.2604 435.077 85.9919 434.706 Q83.7466 434.336 81.3392 433.595 L81.3392 428.896 Q83.4225 430.03 85.6447 430.586 Q87.8669 431.141 90.3438 431.141 Q94.3484 431.141 96.6863 429.035 Q99.0243 426.928 99.0243 423.317 Q99.0243 419.706 96.6863 417.6 Q94.3484 415.493 90.3438 415.493 Q88.4688 415.493 86.5938 415.91 Q84.7419 416.327 82.7975 417.206 L82.7975 399.845 Z\" fill=\"#000000\" fill-rule=\"evenodd\" fill-opacity=\"1\" /><path clip-path=\"url(#clip530)\" d=\"M122.913 402.924 Q119.302 402.924 117.473 406.489 Q115.668 410.03 115.668 417.16 Q115.668 424.266 117.473 427.831 Q119.302 431.373 122.913 431.373 Q126.547 431.373 128.353 427.831 Q130.182 424.266 130.182 417.16 Q130.182 410.03 128.353 406.489 Q126.547 402.924 122.913 402.924 M122.913 399.22 Q128.723 399.22 131.779 403.827 Q134.857 408.41 134.857 417.16 Q134.857 425.887 131.779 430.493 Q128.723 435.077 122.913 435.077 Q117.103 435.077 114.024 430.493 Q110.969 425.887 110.969 417.16 Q110.969 408.41 114.024 403.827 Q117.103 399.22 122.913 399.22 Z\" fill=\"#000000\" fill-rule=\"evenodd\" fill-opacity=\"1\" /><path clip-path=\"url(#clip530)\" d=\"M56.6171 87.6066 L72.9365 87.6066 L72.9365 91.5417 L50.9921 91.5417 L50.9921 87.6066 Q53.6541 84.852 58.2375 80.2224 Q62.8439 75.5696 64.0245 74.227 Q66.2698 71.7039 67.1494 69.9678 Q68.0522 68.2085 68.0522 66.5187 Q68.0522 63.7641 66.1078 62.028 Q64.1865 60.2919 61.0847 60.2919 Q58.8856 60.2919 56.4319 61.0558 Q54.0014 61.8197 51.2236 63.3706 L51.2236 58.6484 Q54.0477 57.5141 56.5014 56.9354 Q58.955 56.3567 60.9921 56.3567 Q66.3624 56.3567 69.5568 59.0419 Q72.7513 61.7271 72.7513 66.2178 Q72.7513 68.3474 71.9411 70.2687 Q71.1541 72.1668 69.0476 74.7594 Q68.4689 75.4307 65.367 78.6483 Q62.2652 81.8427 56.6171 87.6066 Z\" fill=\"#000000\" fill-rule=\"evenodd\" fill-opacity=\"1\" /><path clip-path=\"url(#clip530)\" d=\"M92.7512 60.0604 Q89.1401 60.0604 87.3114 63.6252 Q85.5058 67.1669 85.5058 74.2965 Q85.5058 81.4029 87.3114 84.9677 Q89.1401 88.5093 92.7512 88.5093 Q96.3854 88.5093 98.1909 84.9677 Q100.02 81.4029 100.02 74.2965 Q100.02 67.1669 98.1909 63.6252 Q96.3854 60.0604 92.7512 60.0604 M92.7512 56.3567 Q98.5613 56.3567 101.617 60.9632 Q104.696 65.5465 104.696 74.2965 Q104.696 83.0233 101.617 87.6297 Q98.5613 92.213 92.7512 92.213 Q86.941 92.213 83.8623 87.6297 Q80.8068 83.0233 80.8068 74.2965 Q80.8068 65.5465 83.8623 60.9632 Q86.941 56.3567 92.7512 56.3567 Z\" fill=\"#000000\" fill-rule=\"evenodd\" fill-opacity=\"1\" /><path clip-path=\"url(#clip530)\" d=\"M122.913 60.0604 Q119.302 60.0604 117.473 63.6252 Q115.668 67.1669 115.668 74.2965 Q115.668 81.4029 117.473 84.9677 Q119.302 88.5093 122.913 88.5093 Q126.547 88.5093 128.353 84.9677 Q130.182 81.4029 130.182 74.2965 Q130.182 67.1669 128.353 63.6252 Q126.547 60.0604 122.913 60.0604 M122.913 56.3567 Q128.723 56.3567 131.779 60.9632 Q134.857 65.5465 134.857 74.2965 Q134.857 83.0233 131.779 87.6297 Q128.723 92.213 122.913 92.213 Q117.103 92.213 114.024 87.6297 Q110.969 83.0233 110.969 74.2965 Q110.969 65.5465 114.024 60.9632 Q117.103 56.3567 122.913 56.3567 Z\" fill=\"#000000\" fill-rule=\"evenodd\" fill-opacity=\"1\" /><path clip-path=\"url(#clip532)\" d=\"\n",
       "M290.866 1432 L290.866 1445.72 L440.241 1445.72 L440.241 1432 L290.866 1432 L290.866 1432  Z\n",
       "  \" fill=\"#009af9\" fill-rule=\"evenodd\" fill-opacity=\"1\"/>\n",
       "<polyline clip-path=\"url(#clip532)\" style=\"stroke:#000000; stroke-linecap:butt; stroke-linejoin:round; stroke-width:4; stroke-opacity:1; fill:none\" points=\"\n",
       "  290.866,1432 290.866,1445.72 440.241,1445.72 440.241,1432 290.866,1432 \n",
       "  \"/>\n",
       "<path clip-path=\"url(#clip532)\" d=\"\n",
       "M440.241 1438.86 L440.241 1445.72 L589.617 1445.72 L589.617 1438.86 L440.241 1438.86 L440.241 1438.86  Z\n",
       "  \" fill=\"#009af9\" fill-rule=\"evenodd\" fill-opacity=\"1\"/>\n",
       "<polyline clip-path=\"url(#clip532)\" style=\"stroke:#000000; stroke-linecap:butt; stroke-linejoin:round; stroke-width:4; stroke-opacity:1; fill:none\" points=\"\n",
       "  440.241,1438.86 440.241,1445.72 589.617,1445.72 589.617,1438.86 440.241,1438.86 \n",
       "  \"/>\n",
       "<path clip-path=\"url(#clip532)\" d=\"\n",
       "M589.617 1281.14 L589.617 1445.72 L738.992 1445.72 L738.992 1281.14 L589.617 1281.14 L589.617 1281.14  Z\n",
       "  \" fill=\"#009af9\" fill-rule=\"evenodd\" fill-opacity=\"1\"/>\n",
       "<polyline clip-path=\"url(#clip532)\" style=\"stroke:#000000; stroke-linecap:butt; stroke-linejoin:round; stroke-width:4; stroke-opacity:1; fill:none\" points=\"\n",
       "  589.617,1281.14 589.617,1445.72 738.992,1445.72 738.992,1281.14 589.617,1281.14 \n",
       "  \"/>\n",
       "<path clip-path=\"url(#clip532)\" d=\"\n",
       "M738.992 1164.57 L738.992 1445.72 L888.368 1445.72 L888.368 1164.57 L738.992 1164.57 L738.992 1164.57  Z\n",
       "  \" fill=\"#009af9\" fill-rule=\"evenodd\" fill-opacity=\"1\"/>\n",
       "<polyline clip-path=\"url(#clip532)\" style=\"stroke:#000000; stroke-linecap:butt; stroke-linejoin:round; stroke-width:4; stroke-opacity:1; fill:none\" points=\"\n",
       "  738.992,1164.57 738.992,1445.72 888.368,1445.72 888.368,1164.57 738.992,1164.57 \n",
       "  \"/>\n",
       "<path clip-path=\"url(#clip532)\" d=\"\n",
       "M888.368 794.275 L888.368 1445.72 L1037.74 1445.72 L1037.74 794.275 L888.368 794.275 L888.368 794.275  Z\n",
       "  \" fill=\"#009af9\" fill-rule=\"evenodd\" fill-opacity=\"1\"/>\n",
       "<polyline clip-path=\"url(#clip532)\" style=\"stroke:#000000; stroke-linecap:butt; stroke-linejoin:round; stroke-width:4; stroke-opacity:1; fill:none\" points=\"\n",
       "  888.368,794.275 888.368,1445.72 1037.74,1445.72 1037.74,794.275 888.368,794.275 \n",
       "  \"/>\n",
       "<path clip-path=\"url(#clip532)\" d=\"\n",
       "M1037.74 513.127 L1037.74 1445.72 L1187.12 1445.72 L1187.12 513.127 L1037.74 513.127 L1037.74 513.127  Z\n",
       "  \" fill=\"#009af9\" fill-rule=\"evenodd\" fill-opacity=\"1\"/>\n",
       "<polyline clip-path=\"url(#clip532)\" style=\"stroke:#000000; stroke-linecap:butt; stroke-linejoin:round; stroke-width:4; stroke-opacity:1; fill:none\" points=\"\n",
       "  1037.74,513.127 1037.74,1445.72 1187.12,1445.72 1187.12,513.127 1037.74,513.127 \n",
       "  \"/>\n",
       "<path clip-path=\"url(#clip532)\" d=\"\n",
       "M1187.12 218.264 L1187.12 1445.72 L1336.49 1445.72 L1336.49 218.264 L1187.12 218.264 L1187.12 218.264  Z\n",
       "  \" fill=\"#009af9\" fill-rule=\"evenodd\" fill-opacity=\"1\"/>\n",
       "<polyline clip-path=\"url(#clip532)\" style=\"stroke:#000000; stroke-linecap:butt; stroke-linejoin:round; stroke-width:4; stroke-opacity:1; fill:none\" points=\"\n",
       "  1187.12,218.264 1187.12,1445.72 1336.49,1445.72 1336.49,218.264 1187.12,218.264 \n",
       "  \"/>\n",
       "<path clip-path=\"url(#clip532)\" d=\"\n",
       "M1336.49 87.9763 L1336.49 1445.72 L1485.87 1445.72 L1485.87 87.9763 L1336.49 87.9763 L1336.49 87.9763  Z\n",
       "  \" fill=\"#009af9\" fill-rule=\"evenodd\" fill-opacity=\"1\"/>\n",
       "<polyline clip-path=\"url(#clip532)\" style=\"stroke:#000000; stroke-linecap:butt; stroke-linejoin:round; stroke-width:4; stroke-opacity:1; fill:none\" points=\"\n",
       "  1336.49,87.9763 1336.49,1445.72 1485.87,1445.72 1485.87,87.9763 1336.49,87.9763 \n",
       "  \"/>\n",
       "<path clip-path=\"url(#clip532)\" d=\"\n",
       "M1485.87 437.697 L1485.87 1445.72 L1635.25 1445.72 L1635.25 437.697 L1485.87 437.697 L1485.87 437.697  Z\n",
       "  \" fill=\"#009af9\" fill-rule=\"evenodd\" fill-opacity=\"1\"/>\n",
       "<polyline clip-path=\"url(#clip532)\" style=\"stroke:#000000; stroke-linecap:butt; stroke-linejoin:round; stroke-width:4; stroke-opacity:1; fill:none\" points=\"\n",
       "  1485.87,437.697 1485.87,1445.72 1635.25,1445.72 1635.25,437.697 1485.87,437.697 \n",
       "  \"/>\n",
       "<path clip-path=\"url(#clip532)\" d=\"\n",
       "M1635.25 766.846 L1635.25 1445.72 L1784.62 1445.72 L1784.62 766.846 L1635.25 766.846 L1635.25 766.846  Z\n",
       "  \" fill=\"#009af9\" fill-rule=\"evenodd\" fill-opacity=\"1\"/>\n",
       "<polyline clip-path=\"url(#clip532)\" style=\"stroke:#000000; stroke-linecap:butt; stroke-linejoin:round; stroke-width:4; stroke-opacity:1; fill:none\" points=\"\n",
       "  1635.25,766.846 1635.25,1445.72 1784.62,1445.72 1784.62,766.846 1635.25,766.846 \n",
       "  \"/>\n",
       "<path clip-path=\"url(#clip532)\" d=\"\n",
       "M1784.62 1102.85 L1784.62 1445.72 L1934 1445.72 L1934 1102.85 L1784.62 1102.85 L1784.62 1102.85  Z\n",
       "  \" fill=\"#009af9\" fill-rule=\"evenodd\" fill-opacity=\"1\"/>\n",
       "<polyline clip-path=\"url(#clip532)\" style=\"stroke:#000000; stroke-linecap:butt; stroke-linejoin:round; stroke-width:4; stroke-opacity:1; fill:none\" points=\"\n",
       "  1784.62,1102.85 1784.62,1445.72 1934,1445.72 1934,1102.85 1784.62,1102.85 \n",
       "  \"/>\n",
       "<path clip-path=\"url(#clip532)\" d=\"\n",
       "M1934 1301.71 L1934 1445.72 L2083.37 1445.72 L2083.37 1301.71 L1934 1301.71 L1934 1301.71  Z\n",
       "  \" fill=\"#009af9\" fill-rule=\"evenodd\" fill-opacity=\"1\"/>\n",
       "<polyline clip-path=\"url(#clip532)\" style=\"stroke:#000000; stroke-linecap:butt; stroke-linejoin:round; stroke-width:4; stroke-opacity:1; fill:none\" points=\"\n",
       "  1934,1301.71 1934,1445.72 2083.37,1445.72 2083.37,1301.71 1934,1301.71 \n",
       "  \"/>\n",
       "<path clip-path=\"url(#clip532)\" d=\"\n",
       "M2083.37 1397.71 L2083.37 1445.72 L2232.75 1445.72 L2232.75 1397.71 L2083.37 1397.71 L2083.37 1397.71  Z\n",
       "  \" fill=\"#009af9\" fill-rule=\"evenodd\" fill-opacity=\"1\"/>\n",
       "<polyline clip-path=\"url(#clip532)\" style=\"stroke:#000000; stroke-linecap:butt; stroke-linejoin:round; stroke-width:4; stroke-opacity:1; fill:none\" points=\"\n",
       "  2083.37,1397.71 2083.37,1445.72 2232.75,1445.72 2232.75,1397.71 2083.37,1397.71 \n",
       "  \"/>\n",
       "<circle clip-path=\"url(#clip532)\" style=\"fill:#009af9; stroke:none; fill-opacity:0\" cx=\"365.553\" cy=\"1432\" r=\"2\"/>\n",
       "<circle clip-path=\"url(#clip532)\" style=\"fill:#009af9; stroke:none; fill-opacity:0\" cx=\"514.929\" cy=\"1438.86\" r=\"2\"/>\n",
       "<circle clip-path=\"url(#clip532)\" style=\"fill:#009af9; stroke:none; fill-opacity:0\" cx=\"664.305\" cy=\"1281.14\" r=\"2\"/>\n",
       "<circle clip-path=\"url(#clip532)\" style=\"fill:#009af9; stroke:none; fill-opacity:0\" cx=\"813.68\" cy=\"1164.57\" r=\"2\"/>\n",
       "<circle clip-path=\"url(#clip532)\" style=\"fill:#009af9; stroke:none; fill-opacity:0\" cx=\"963.056\" cy=\"794.275\" r=\"2\"/>\n",
       "<circle clip-path=\"url(#clip532)\" style=\"fill:#009af9; stroke:none; fill-opacity:0\" cx=\"1112.43\" cy=\"513.127\" r=\"2\"/>\n",
       "<circle clip-path=\"url(#clip532)\" style=\"fill:#009af9; stroke:none; fill-opacity:0\" cx=\"1261.81\" cy=\"218.264\" r=\"2\"/>\n",
       "<circle clip-path=\"url(#clip532)\" style=\"fill:#009af9; stroke:none; fill-opacity:0\" cx=\"1411.18\" cy=\"87.9763\" r=\"2\"/>\n",
       "<circle clip-path=\"url(#clip532)\" style=\"fill:#009af9; stroke:none; fill-opacity:0\" cx=\"1560.56\" cy=\"437.697\" r=\"2\"/>\n",
       "<circle clip-path=\"url(#clip532)\" style=\"fill:#009af9; stroke:none; fill-opacity:0\" cx=\"1709.93\" cy=\"766.846\" r=\"2\"/>\n",
       "<circle clip-path=\"url(#clip532)\" style=\"fill:#009af9; stroke:none; fill-opacity:0\" cx=\"1859.31\" cy=\"1102.85\" r=\"2\"/>\n",
       "<circle clip-path=\"url(#clip532)\" style=\"fill:#009af9; stroke:none; fill-opacity:0\" cx=\"2008.68\" cy=\"1301.71\" r=\"2\"/>\n",
       "<circle clip-path=\"url(#clip532)\" style=\"fill:#009af9; stroke:none; fill-opacity:0\" cx=\"2158.06\" cy=\"1397.71\" r=\"2\"/>\n",
       "<path clip-path=\"url(#clip530)\" d=\"\n",
       "M2012.36 198.898 L2280.03 198.898 L2280.03 95.2176 L2012.36 95.2176  Z\n",
       "  \" fill=\"#ffffff\" fill-rule=\"evenodd\" fill-opacity=\"1\"/>\n",
       "<polyline clip-path=\"url(#clip530)\" style=\"stroke:#000000; stroke-linecap:butt; stroke-linejoin:round; stroke-width:4; stroke-opacity:1; fill:none\" points=\"\n",
       "  2012.36,198.898 2280.03,198.898 2280.03,95.2176 2012.36,95.2176 2012.36,198.898 \n",
       "  \"/>\n",
       "<path clip-path=\"url(#clip530)\" d=\"\n",
       "M2036.6 167.794 L2182.06 167.794 L2182.06 126.322 L2036.6 126.322 L2036.6 167.794  Z\n",
       "  \" fill=\"#009af9\" fill-rule=\"evenodd\" fill-opacity=\"1\"/>\n",
       "<polyline clip-path=\"url(#clip530)\" style=\"stroke:#000000; stroke-linecap:butt; stroke-linejoin:round; stroke-width:4; stroke-opacity:1; fill:none\" points=\"\n",
       "  2036.6,167.794 2182.06,167.794 2182.06,126.322 2036.6,126.322 2036.6,167.794 \n",
       "  \"/>\n",
       "<path clip-path=\"url(#clip530)\" d=\"M2220.15 166.745 Q2218.34 171.375 2216.63 172.787 Q2214.92 174.199 2212.05 174.199 L2208.65 174.199 L2208.65 170.634 L2211.15 170.634 Q2212.91 170.634 2213.88 169.8 Q2214.85 168.967 2216.03 165.865 L2216.79 163.921 L2206.31 138.412 L2210.82 138.412 L2218.92 158.689 L2227.03 138.412 L2231.54 138.412 L2220.15 166.745 Z\" fill=\"#000000\" fill-rule=\"evenodd\" fill-opacity=\"1\" /></svg>\n"
      ]
     },
     "execution_count": 45,
     "metadata": {},
     "output_type": "execute_result"
    }
   ],
   "source": [
    "@df df histogram(:y, label=\"y\") # and a histogram"
   ]
  },
  {
   "cell_type": "code",
   "execution_count": 46,
   "metadata": {
    "execution": {
     "iopub.execute_input": "2022-07-18T00:52:51.302000Z",
     "iopub.status.busy": "2022-07-18T00:52:51.302000Z",
     "iopub.status.idle": "2022-07-18T00:52:52.691000Z",
     "shell.execute_reply": "2022-07-18T00:52:52.690000Z"
    }
   },
   "outputs": [
    {
     "data": {
      "image/svg+xml": [
       "<?xml version=\"1.0\" encoding=\"utf-8\"?>\n",
       "<svg xmlns=\"http://www.w3.org/2000/svg\" xmlns:xlink=\"http://www.w3.org/1999/xlink\" width=\"600\" height=\"400\" viewBox=\"0 0 2400 1600\">\n",
       "<defs>\n",
       "  <clipPath id=\"clip570\">\n",
       "    <rect x=\"0\" y=\"0\" width=\"2400\" height=\"1600\"/>\n",
       "  </clipPath>\n",
       "</defs>\n",
       "<path clip-path=\"url(#clip570)\" d=\"\n",
       "M0 1600 L2400 1600 L2400 0 L0 0  Z\n",
       "  \" fill=\"#ffffff\" fill-rule=\"evenodd\" fill-opacity=\"1\"/>\n",
       "<defs>\n",
       "  <clipPath id=\"clip571\">\n",
       "    <rect x=\"480\" y=\"0\" width=\"1681\" height=\"1600\"/>\n",
       "  </clipPath>\n",
       "</defs>\n",
       "<path clip-path=\"url(#clip570)\" d=\"\n",
       "M148.057 1486.45 L2352.76 1486.45 L2352.76 47.2441 L148.057 47.2441  Z\n",
       "  \" fill=\"#ffffff\" fill-rule=\"evenodd\" fill-opacity=\"1\"/>\n",
       "<defs>\n",
       "  <clipPath id=\"clip572\">\n",
       "    <rect x=\"148\" y=\"47\" width=\"2206\" height=\"1440\"/>\n",
       "  </clipPath>\n",
       "</defs>\n",
       "<polyline clip-path=\"url(#clip572)\" style=\"stroke:#000000; stroke-linecap:butt; stroke-linejoin:round; stroke-width:2; stroke-opacity:0.1; fill:none\" points=\"\n",
       "  672.655,1486.45 672.655,47.2441 \n",
       "  \"/>\n",
       "<polyline clip-path=\"url(#clip572)\" style=\"stroke:#000000; stroke-linecap:butt; stroke-linejoin:round; stroke-width:2; stroke-opacity:0.1; fill:none\" points=\"\n",
       "  1828.16,1486.45 1828.16,47.2441 \n",
       "  \"/>\n",
       "<polyline clip-path=\"url(#clip570)\" style=\"stroke:#000000; stroke-linecap:butt; stroke-linejoin:round; stroke-width:4; stroke-opacity:1; fill:none\" points=\"\n",
       "  148.057,1486.45 2352.76,1486.45 \n",
       "  \"/>\n",
       "<polyline clip-path=\"url(#clip570)\" style=\"stroke:#000000; stroke-linecap:butt; stroke-linejoin:round; stroke-width:4; stroke-opacity:1; fill:none\" points=\"\n",
       "  672.655,1486.45 672.655,1467.55 \n",
       "  \"/>\n",
       "<polyline clip-path=\"url(#clip570)\" style=\"stroke:#000000; stroke-linecap:butt; stroke-linejoin:round; stroke-width:4; stroke-opacity:1; fill:none\" points=\"\n",
       "  1828.16,1486.45 1828.16,1467.55 \n",
       "  \"/>\n",
       "<path clip-path=\"url(#clip570)\" d=\"M675.109 1535.82 Q669.947 1535.82 667.956 1537 Q665.965 1538.18 665.965 1541.02 Q665.965 1543.29 667.447 1544.63 Q668.951 1545.95 671.521 1545.95 Q675.062 1545.95 677.192 1543.45 Q679.345 1540.93 679.345 1536.76 L679.345 1535.82 L675.109 1535.82 M683.604 1534.06 L683.604 1548.85 L679.345 1548.85 L679.345 1544.91 Q677.886 1547.27 675.71 1548.41 Q673.534 1549.52 670.386 1549.52 Q666.405 1549.52 664.044 1547.3 Q661.706 1545.05 661.706 1541.3 Q661.706 1536.93 664.623 1534.7 Q667.562 1532.48 673.372 1532.48 L679.345 1532.48 L679.345 1532.07 Q679.345 1529.13 677.4 1527.53 Q675.479 1525.91 671.984 1525.91 Q669.761 1525.91 667.655 1526.44 Q665.548 1526.97 663.604 1528.04 L663.604 1524.1 Q665.942 1523.2 668.141 1522.76 Q670.34 1522.3 672.423 1522.3 Q678.048 1522.3 680.826 1525.21 Q683.604 1528.13 683.604 1534.06 Z\" fill=\"#000000\" fill-rule=\"evenodd\" fill-opacity=\"1\" /><path clip-path=\"url(#clip570)\" d=\"M1835.33 1535.91 Q1835.33 1531.21 1833.39 1528.55 Q1831.47 1525.86 1828.09 1525.86 Q1824.71 1525.86 1822.76 1528.55 Q1820.84 1531.21 1820.84 1535.91 Q1820.84 1540.61 1822.76 1543.29 Q1824.71 1545.95 1828.09 1545.95 Q1831.47 1545.95 1833.39 1543.29 Q1835.33 1540.61 1835.33 1535.91 M1820.84 1526.86 Q1822.19 1524.54 1824.22 1523.43 Q1826.28 1522.3 1829.13 1522.3 Q1833.85 1522.3 1836.79 1526.05 Q1839.75 1529.8 1839.75 1535.91 Q1839.75 1542.02 1836.79 1545.77 Q1833.85 1549.52 1829.13 1549.52 Q1826.28 1549.52 1824.22 1548.41 Q1822.19 1547.27 1820.84 1544.96 L1820.84 1548.85 L1816.56 1548.85 L1816.56 1512.83 L1820.84 1512.83 L1820.84 1526.86 Z\" fill=\"#000000\" fill-rule=\"evenodd\" fill-opacity=\"1\" /><polyline clip-path=\"url(#clip572)\" style=\"stroke:#000000; stroke-linecap:butt; stroke-linejoin:round; stroke-width:2; stroke-opacity:0.1; fill:none\" points=\"\n",
       "  148.057,1457.06 2352.76,1457.06 \n",
       "  \"/>\n",
       "<polyline clip-path=\"url(#clip572)\" style=\"stroke:#000000; stroke-linecap:butt; stroke-linejoin:round; stroke-width:2; stroke-opacity:0.1; fill:none\" points=\"\n",
       "  148.057,1227.97 2352.76,1227.97 \n",
       "  \"/>\n",
       "<polyline clip-path=\"url(#clip572)\" style=\"stroke:#000000; stroke-linecap:butt; stroke-linejoin:round; stroke-width:2; stroke-opacity:0.1; fill:none\" points=\"\n",
       "  148.057,998.873 2352.76,998.873 \n",
       "  \"/>\n",
       "<polyline clip-path=\"url(#clip572)\" style=\"stroke:#000000; stroke-linecap:butt; stroke-linejoin:round; stroke-width:2; stroke-opacity:0.1; fill:none\" points=\"\n",
       "  148.057,769.781 2352.76,769.781 \n",
       "  \"/>\n",
       "<polyline clip-path=\"url(#clip572)\" style=\"stroke:#000000; stroke-linecap:butt; stroke-linejoin:round; stroke-width:2; stroke-opacity:0.1; fill:none\" points=\"\n",
       "  148.057,540.689 2352.76,540.689 \n",
       "  \"/>\n",
       "<polyline clip-path=\"url(#clip572)\" style=\"stroke:#000000; stroke-linecap:butt; stroke-linejoin:round; stroke-width:2; stroke-opacity:0.1; fill:none\" points=\"\n",
       "  148.057,311.597 2352.76,311.597 \n",
       "  \"/>\n",
       "<polyline clip-path=\"url(#clip572)\" style=\"stroke:#000000; stroke-linecap:butt; stroke-linejoin:round; stroke-width:2; stroke-opacity:0.1; fill:none\" points=\"\n",
       "  148.057,82.5049 2352.76,82.5049 \n",
       "  \"/>\n",
       "<polyline clip-path=\"url(#clip570)\" style=\"stroke:#000000; stroke-linecap:butt; stroke-linejoin:round; stroke-width:4; stroke-opacity:1; fill:none\" points=\"\n",
       "  148.057,1486.45 148.057,47.2441 \n",
       "  \"/>\n",
       "<polyline clip-path=\"url(#clip570)\" style=\"stroke:#000000; stroke-linecap:butt; stroke-linejoin:round; stroke-width:4; stroke-opacity:1; fill:none\" points=\"\n",
       "  148.057,1457.06 166.954,1457.06 \n",
       "  \"/>\n",
       "<polyline clip-path=\"url(#clip570)\" style=\"stroke:#000000; stroke-linecap:butt; stroke-linejoin:round; stroke-width:4; stroke-opacity:1; fill:none\" points=\"\n",
       "  148.057,1227.97 166.954,1227.97 \n",
       "  \"/>\n",
       "<polyline clip-path=\"url(#clip570)\" style=\"stroke:#000000; stroke-linecap:butt; stroke-linejoin:round; stroke-width:4; stroke-opacity:1; fill:none\" points=\"\n",
       "  148.057,998.873 166.954,998.873 \n",
       "  \"/>\n",
       "<polyline clip-path=\"url(#clip570)\" style=\"stroke:#000000; stroke-linecap:butt; stroke-linejoin:round; stroke-width:4; stroke-opacity:1; fill:none\" points=\"\n",
       "  148.057,769.781 166.954,769.781 \n",
       "  \"/>\n",
       "<polyline clip-path=\"url(#clip570)\" style=\"stroke:#000000; stroke-linecap:butt; stroke-linejoin:round; stroke-width:4; stroke-opacity:1; fill:none\" points=\"\n",
       "  148.057,540.689 166.954,540.689 \n",
       "  \"/>\n",
       "<polyline clip-path=\"url(#clip570)\" style=\"stroke:#000000; stroke-linecap:butt; stroke-linejoin:round; stroke-width:4; stroke-opacity:1; fill:none\" points=\"\n",
       "  148.057,311.597 166.954,311.597 \n",
       "  \"/>\n",
       "<polyline clip-path=\"url(#clip570)\" style=\"stroke:#000000; stroke-linecap:butt; stroke-linejoin:round; stroke-width:4; stroke-opacity:1; fill:none\" points=\"\n",
       "  148.057,82.5049 166.954,82.5049 \n",
       "  \"/>\n",
       "<path clip-path=\"url(#clip570)\" d=\"M50.9921 1457.51 L80.6679 1457.51 L80.6679 1461.44 L50.9921 1461.44 L50.9921 1457.51 Z\" fill=\"#000000\" fill-rule=\"evenodd\" fill-opacity=\"1\" /><path clip-path=\"url(#clip570)\" d=\"M104.927 1455.7 Q108.283 1456.42 110.158 1458.69 Q112.057 1460.96 112.057 1464.29 Q112.057 1469.41 108.538 1472.21 Q105.02 1475.01 98.5382 1475.01 Q96.3623 1475.01 94.0475 1474.57 Q91.7558 1474.15 89.3021 1473.3 L89.3021 1468.78 Q91.2465 1469.92 93.5613 1470.49 Q95.8761 1471.07 98.3993 1471.07 Q102.797 1471.07 105.089 1469.34 Q107.404 1467.6 107.404 1464.29 Q107.404 1461.24 105.251 1459.52 Q103.121 1457.79 99.3021 1457.79 L95.2743 1457.79 L95.2743 1453.94 L99.4872 1453.94 Q102.936 1453.94 104.765 1452.58 Q106.594 1451.19 106.594 1448.6 Q106.594 1445.93 104.696 1444.52 Q102.821 1443.09 99.3021 1443.09 Q97.3808 1443.09 95.1817 1443.5 Q92.9826 1443.92 90.3438 1444.8 L90.3438 1440.63 Q93.0058 1439.89 95.3206 1439.52 Q97.6585 1439.15 99.7187 1439.15 Q105.043 1439.15 108.145 1441.58 Q111.246 1443.99 111.246 1448.11 Q111.246 1450.98 109.603 1452.97 Q107.959 1454.94 104.927 1455.7 Z\" fill=\"#000000\" fill-rule=\"evenodd\" fill-opacity=\"1\" /><path clip-path=\"url(#clip570)\" d=\"M51.9412 1228.42 L81.617 1228.42 L81.617 1232.35 L51.9412 1232.35 L51.9412 1228.42 Z\" fill=\"#000000\" fill-rule=\"evenodd\" fill-opacity=\"1\" /><path clip-path=\"url(#clip570)\" d=\"M95.7373 1241.31 L112.057 1241.31 L112.057 1245.25 L90.1123 1245.25 L90.1123 1241.31 Q92.7743 1238.56 97.3576 1233.93 Q101.964 1229.27 103.145 1227.93 Q105.39 1225.41 106.27 1223.67 Q107.172 1221.91 107.172 1220.22 Q107.172 1217.47 105.228 1215.73 Q103.307 1214 100.205 1214 Q98.0058 1214 95.5521 1214.76 Q93.1215 1215.52 90.3438 1217.07 L90.3438 1212.35 Q93.1678 1211.22 95.6215 1210.64 Q98.0752 1210.06 100.112 1210.06 Q105.483 1210.06 108.677 1212.75 Q111.871 1215.43 111.871 1219.92 Q111.871 1222.05 111.061 1223.97 Q110.274 1225.87 108.168 1228.46 Q107.589 1229.13 104.487 1232.35 Q101.385 1235.55 95.7373 1241.31 Z\" fill=\"#000000\" fill-rule=\"evenodd\" fill-opacity=\"1\" /><path clip-path=\"url(#clip570)\" d=\"M51.5708 999.325 L81.2466 999.325 L81.2466 1003.26 L51.5708 1003.26 L51.5708 999.325 Z\" fill=\"#000000\" fill-rule=\"evenodd\" fill-opacity=\"1\" /><path clip-path=\"url(#clip570)\" d=\"M92.1493 1012.22 L99.7882 1012.22 L99.7882 985.853 L91.478 987.519 L91.478 983.26 L99.7419 981.593 L104.418 981.593 L104.418 1012.22 L112.057 1012.22 L112.057 1016.15 L92.1493 1016.15 L92.1493 1012.22 Z\" fill=\"#000000\" fill-rule=\"evenodd\" fill-opacity=\"1\" /><path clip-path=\"url(#clip570)\" d=\"M100.112 755.58 Q96.5011 755.58 94.6724 759.145 Q92.8669 762.686 92.8669 769.816 Q92.8669 776.922 94.6724 780.487 Q96.5011 784.029 100.112 784.029 Q103.746 784.029 105.552 780.487 Q107.381 776.922 107.381 769.816 Q107.381 762.686 105.552 759.145 Q103.746 755.58 100.112 755.58 M100.112 751.876 Q105.922 751.876 108.978 756.483 Q112.057 761.066 112.057 769.816 Q112.057 778.543 108.978 783.149 Q105.922 787.733 100.112 787.733 Q94.3021 787.733 91.2234 783.149 Q88.1679 778.543 88.1679 769.816 Q88.1679 761.066 91.2234 756.483 Q94.3021 751.876 100.112 751.876 Z\" fill=\"#000000\" fill-rule=\"evenodd\" fill-opacity=\"1\" /><path clip-path=\"url(#clip570)\" d=\"M92.1493 554.034 L99.7882 554.034 L99.7882 527.668 L91.478 529.335 L91.478 525.076 L99.7419 523.409 L104.418 523.409 L104.418 554.034 L112.057 554.034 L112.057 557.969 L92.1493 557.969 L92.1493 554.034 Z\" fill=\"#000000\" fill-rule=\"evenodd\" fill-opacity=\"1\" /><path clip-path=\"url(#clip570)\" d=\"M95.7373 324.942 L112.057 324.942 L112.057 328.877 L90.1123 328.877 L90.1123 324.942 Q92.7743 322.187 97.3576 317.558 Q101.964 312.905 103.145 311.562 Q105.39 309.039 106.27 307.303 Q107.172 305.544 107.172 303.854 Q107.172 301.099 105.228 299.363 Q103.307 297.627 100.205 297.627 Q98.0058 297.627 95.5521 298.391 Q93.1215 299.155 90.3438 300.706 L90.3438 295.984 Q93.1678 294.849 95.6215 294.271 Q98.0752 293.692 100.112 293.692 Q105.483 293.692 108.677 296.377 Q111.871 299.062 111.871 303.553 Q111.871 305.683 111.061 307.604 Q110.274 309.502 108.168 312.095 Q107.589 312.766 104.487 315.984 Q101.385 319.178 95.7373 324.942 Z\" fill=\"#000000\" fill-rule=\"evenodd\" fill-opacity=\"1\" /><path clip-path=\"url(#clip570)\" d=\"M104.927 81.1508 Q108.283 81.8684 110.158 84.1369 Q112.057 86.4054 112.057 89.7387 Q112.057 94.8544 108.538 97.6553 Q105.02 100.456 98.5382 100.456 Q96.3623 100.456 94.0475 100.016 Q91.7558 99.5997 89.3021 98.7433 L89.3021 94.2294 Q91.2465 95.3637 93.5613 95.9424 Q95.8761 96.5211 98.3993 96.5211 Q102.797 96.5211 105.089 94.785 Q107.404 93.0489 107.404 89.7387 Q107.404 86.6832 105.251 84.9702 Q103.121 83.2341 99.3021 83.2341 L95.2743 83.2341 L95.2743 79.3915 L99.4872 79.3915 Q102.936 79.3915 104.765 78.0258 Q106.594 76.6369 106.594 74.0443 Q106.594 71.3823 104.696 69.9703 Q102.821 68.5351 99.3021 68.5351 Q97.3808 68.5351 95.1817 68.9518 Q92.9826 69.3684 90.3438 70.2481 L90.3438 66.0814 Q93.0058 65.3407 95.3206 64.9703 Q97.6585 64.5999 99.7187 64.5999 Q105.043 64.5999 108.145 67.0305 Q111.246 69.4379 111.246 73.5582 Q111.246 76.4286 109.603 78.4193 Q107.959 80.3869 104.927 81.1508 Z\" fill=\"#000000\" fill-rule=\"evenodd\" fill-opacity=\"1\" /><path clip-path=\"url(#clip572)\" d=\"\n",
       "M672.655 749.395 L441.554 749.395 L903.755 749.395 L672.655 749.395 L672.655 680.912 L672.655 749.395  Z\n",
       "  \" fill=\"#009af9\" fill-rule=\"evenodd\" fill-opacity=\"1\"/>\n",
       "<polyline clip-path=\"url(#clip572)\" style=\"stroke:#000000; stroke-linecap:butt; stroke-linejoin:round; stroke-width:4; stroke-opacity:1; fill:none\" points=\"\n",
       "  672.655,749.395 441.554,749.395 903.755,749.395 672.655,749.395 672.655,680.912 672.655,749.395 \n",
       "  \"/>\n",
       "<path clip-path=\"url(#clip572)\" d=\"\n",
       "M1134.86 680.912 L1134.86 612.325 L210.454 612.325 L210.454 680.912 L1134.86 680.912 L1134.86 612.325 L1134.86 680.912  Z\n",
       "  \" fill=\"#009af9\" fill-rule=\"evenodd\" fill-opacity=\"1\"/>\n",
       "<polyline clip-path=\"url(#clip572)\" style=\"stroke:#000000; stroke-linecap:butt; stroke-linejoin:round; stroke-width:4; stroke-opacity:1; fill:none\" points=\"\n",
       "  1134.86,680.912 1134.86,612.325 210.454,612.325 210.454,680.912 1134.86,680.912 1134.86,612.325 1134.86,680.912 \n",
       "  \"/>\n",
       "<path clip-path=\"url(#clip572)\" d=\"\n",
       "M1134.86 497.141 L210.454 497.141 L210.454 612.325 L1134.86 612.325 L1134.86 497.141 L672.655 497.141 L1134.86 497.141  Z\n",
       "  \" fill=\"#009af9\" fill-rule=\"evenodd\" fill-opacity=\"1\"/>\n",
       "<polyline clip-path=\"url(#clip572)\" style=\"stroke:#000000; stroke-linecap:butt; stroke-linejoin:round; stroke-width:4; stroke-opacity:1; fill:none\" points=\"\n",
       "  1134.86,497.141 210.454,497.141 210.454,612.325 1134.86,612.325 1134.86,497.141 672.655,497.141 1134.86,497.141 \n",
       "  \"/>\n",
       "<path clip-path=\"url(#clip572)\" d=\"\n",
       "M672.655 224.58 L441.554 224.58 L903.755 224.58 L672.655 224.58 L672.655 497.141 L672.655 224.58  Z\n",
       "  \" fill=\"#009af9\" fill-rule=\"evenodd\" fill-opacity=\"1\"/>\n",
       "<polyline clip-path=\"url(#clip572)\" style=\"stroke:#000000; stroke-linecap:butt; stroke-linejoin:round; stroke-width:4; stroke-opacity:1; fill:none\" points=\"\n",
       "  672.655,224.58 441.554,224.58 903.755,224.58 672.655,224.58 672.655,497.141 672.655,224.58 \n",
       "  \"/>\n",
       "<path clip-path=\"url(#clip572)\" d=\"\n",
       "M1828.16 1334.91 L1597.06 1334.91 L2059.26 1334.91 L1828.16 1334.91 L1828.16 1036.31 L1828.16 1334.91  Z\n",
       "  \" fill=\"#009af9\" fill-rule=\"evenodd\" fill-opacity=\"1\"/>\n",
       "<polyline clip-path=\"url(#clip572)\" style=\"stroke:#000000; stroke-linecap:butt; stroke-linejoin:round; stroke-width:4; stroke-opacity:1; fill:none\" points=\"\n",
       "  1828.16,1334.91 1597.06,1334.91 2059.26,1334.91 1828.16,1334.91 1828.16,1036.31 1828.16,1334.91 \n",
       "  \"/>\n",
       "<path clip-path=\"url(#clip572)\" d=\"\n",
       "M2290.36 1036.31 L2290.36 919.987 L1365.96 919.987 L1365.96 1036.31 L2290.36 1036.31 L2290.36 919.987 L2290.36 1036.31  Z\n",
       "  \" fill=\"#009af9\" fill-rule=\"evenodd\" fill-opacity=\"1\"/>\n",
       "<polyline clip-path=\"url(#clip572)\" style=\"stroke:#000000; stroke-linecap:butt; stroke-linejoin:round; stroke-width:4; stroke-opacity:1; fill:none\" points=\"\n",
       "  2290.36,1036.31 2290.36,919.987 1365.96,919.987 1365.96,1036.31 2290.36,1036.31 2290.36,919.987 2290.36,1036.31 \n",
       "  \"/>\n",
       "<path clip-path=\"url(#clip572)\" d=\"\n",
       "M2290.36 831.517 L1365.96 831.517 L1365.96 919.987 L2290.36 919.987 L2290.36 831.517 L1828.16 831.517 L2290.36 831.517  Z\n",
       "  \" fill=\"#009af9\" fill-rule=\"evenodd\" fill-opacity=\"1\"/>\n",
       "<polyline clip-path=\"url(#clip572)\" style=\"stroke:#000000; stroke-linecap:butt; stroke-linejoin:round; stroke-width:4; stroke-opacity:1; fill:none\" points=\"\n",
       "  2290.36,831.517 1365.96,831.517 1365.96,919.987 2290.36,919.987 2290.36,831.517 1828.16,831.517 2290.36,831.517 \n",
       "  \"/>\n",
       "<path clip-path=\"url(#clip572)\" d=\"\n",
       "M1828.16 749.746 L1597.06 749.746 L2059.26 749.746 L1828.16 749.746 L1828.16 831.517 L1828.16 749.746  Z\n",
       "  \" fill=\"#009af9\" fill-rule=\"evenodd\" fill-opacity=\"1\"/>\n",
       "<polyline clip-path=\"url(#clip572)\" style=\"stroke:#000000; stroke-linecap:butt; stroke-linejoin:round; stroke-width:4; stroke-opacity:1; fill:none\" points=\"\n",
       "  1828.16,749.746 1597.06,749.746 2059.26,749.746 1828.16,749.746 1828.16,831.517 1828.16,749.746 \n",
       "  \"/>\n",
       "<circle clip-path=\"url(#clip572)\" cx=\"672.655\" cy=\"212.407\" r=\"14.4\" fill=\"#009af9\" fill-rule=\"evenodd\" fill-opacity=\"1\" stroke=\"#000000\" stroke-opacity=\"1\" stroke-width=\"3.2\"/>\n",
       "<circle clip-path=\"url(#clip572)\" cx=\"672.655\" cy=\"209.456\" r=\"14.4\" fill=\"#009af9\" fill-rule=\"evenodd\" fill-opacity=\"1\" stroke=\"#000000\" stroke-opacity=\"1\" stroke-width=\"3.2\"/>\n",
       "<circle clip-path=\"url(#clip572)\" cx=\"672.655\" cy=\"204.369\" r=\"14.4\" fill=\"#009af9\" fill-rule=\"evenodd\" fill-opacity=\"1\" stroke=\"#000000\" stroke-opacity=\"1\" stroke-width=\"3.2\"/>\n",
       "<circle clip-path=\"url(#clip572)\" cx=\"672.655\" cy=\"185.042\" r=\"14.4\" fill=\"#009af9\" fill-rule=\"evenodd\" fill-opacity=\"1\" stroke=\"#000000\" stroke-opacity=\"1\" stroke-width=\"3.2\"/>\n",
       "<circle clip-path=\"url(#clip572)\" cx=\"672.655\" cy=\"182.324\" r=\"14.4\" fill=\"#009af9\" fill-rule=\"evenodd\" fill-opacity=\"1\" stroke=\"#000000\" stroke-opacity=\"1\" stroke-width=\"3.2\"/>\n",
       "<circle clip-path=\"url(#clip572)\" cx=\"672.655\" cy=\"153.69\" r=\"14.4\" fill=\"#009af9\" fill-rule=\"evenodd\" fill-opacity=\"1\" stroke=\"#000000\" stroke-opacity=\"1\" stroke-width=\"3.2\"/>\n",
       "<circle clip-path=\"url(#clip572)\" cx=\"672.655\" cy=\"87.9763\" r=\"14.4\" fill=\"#009af9\" fill-rule=\"evenodd\" fill-opacity=\"1\" stroke=\"#000000\" stroke-opacity=\"1\" stroke-width=\"3.2\"/>\n",
       "<circle clip-path=\"url(#clip572)\" cx=\"1828.16\" cy=\"1445.72\" r=\"14.4\" fill=\"#009af9\" fill-rule=\"evenodd\" fill-opacity=\"1\" stroke=\"#000000\" stroke-opacity=\"1\" stroke-width=\"3.2\"/>\n",
       "<circle clip-path=\"url(#clip572)\" cx=\"1828.16\" cy=\"1432.21\" r=\"14.4\" fill=\"#009af9\" fill-rule=\"evenodd\" fill-opacity=\"1\" stroke=\"#000000\" stroke-opacity=\"1\" stroke-width=\"3.2\"/>\n",
       "<circle clip-path=\"url(#clip572)\" cx=\"1828.16\" cy=\"1409.01\" r=\"14.4\" fill=\"#009af9\" fill-rule=\"evenodd\" fill-opacity=\"1\" stroke=\"#000000\" stroke-opacity=\"1\" stroke-width=\"3.2\"/>\n",
       "<circle clip-path=\"url(#clip572)\" cx=\"1828.16\" cy=\"1378.17\" r=\"14.4\" fill=\"#009af9\" fill-rule=\"evenodd\" fill-opacity=\"1\" stroke=\"#000000\" stroke-opacity=\"1\" stroke-width=\"3.2\"/>\n",
       "<circle clip-path=\"url(#clip572)\" cx=\"1828.16\" cy=\"1361.51\" r=\"14.4\" fill=\"#009af9\" fill-rule=\"evenodd\" fill-opacity=\"1\" stroke=\"#000000\" stroke-opacity=\"1\" stroke-width=\"3.2\"/>\n",
       "<polyline clip-path=\"url(#clip572)\" style=\"stroke:#009af9; stroke-linecap:butt; stroke-linejoin:round; stroke-width:0; stroke-opacity:1; fill:none\" points=\"\n",
       "  672.655,749.395 441.554,749.395 903.755,749.395 672.655,749.395 672.655,680.912 \n",
       "  \"/>\n",
       "<polyline clip-path=\"url(#clip572)\" style=\"stroke:#009af9; stroke-linecap:butt; stroke-linejoin:round; stroke-width:0; stroke-opacity:1; fill:none\" points=\"\n",
       "  1134.86,680.912 1134.86,612.325 210.454,612.325 210.454,680.912 1134.86,680.912 1134.86,612.325 \n",
       "  \"/>\n",
       "<polyline clip-path=\"url(#clip572)\" style=\"stroke:#009af9; stroke-linecap:butt; stroke-linejoin:round; stroke-width:0; stroke-opacity:1; fill:none\" points=\"\n",
       "  1134.86,497.141 210.454,497.141 210.454,612.325 1134.86,612.325 1134.86,497.141 672.655,497.141 \n",
       "  \"/>\n",
       "<polyline clip-path=\"url(#clip572)\" style=\"stroke:#009af9; stroke-linecap:butt; stroke-linejoin:round; stroke-width:0; stroke-opacity:1; fill:none\" points=\"\n",
       "  672.655,224.58 441.554,224.58 903.755,224.58 672.655,224.58 672.655,497.141 \n",
       "  \"/>\n",
       "<polyline clip-path=\"url(#clip572)\" style=\"stroke:#009af9; stroke-linecap:butt; stroke-linejoin:round; stroke-width:0; stroke-opacity:1; fill:none\" points=\"\n",
       "  1828.16,1334.91 1597.06,1334.91 2059.26,1334.91 1828.16,1334.91 1828.16,1036.31 \n",
       "  \"/>\n",
       "<polyline clip-path=\"url(#clip572)\" style=\"stroke:#009af9; stroke-linecap:butt; stroke-linejoin:round; stroke-width:0; stroke-opacity:1; fill:none\" points=\"\n",
       "  2290.36,1036.31 2290.36,919.987 1365.96,919.987 1365.96,1036.31 2290.36,1036.31 2290.36,919.987 \n",
       "  \"/>\n",
       "<polyline clip-path=\"url(#clip572)\" style=\"stroke:#009af9; stroke-linecap:butt; stroke-linejoin:round; stroke-width:0; stroke-opacity:1; fill:none\" points=\"\n",
       "  2290.36,831.517 1365.96,831.517 1365.96,919.987 2290.36,919.987 2290.36,831.517 1828.16,831.517 \n",
       "  \"/>\n",
       "<polyline clip-path=\"url(#clip572)\" style=\"stroke:#009af9; stroke-linecap:butt; stroke-linejoin:round; stroke-width:0; stroke-opacity:1; fill:none\" points=\"\n",
       "  1828.16,749.746 1597.06,749.746 2059.26,749.746 1828.16,749.746 1828.16,831.517 \n",
       "  \"/>\n",
       "<path clip-path=\"url(#clip570)\" d=\"\n",
       "M2009.16 198.898 L2279.27 198.898 L2279.27 95.2176 L2009.16 95.2176  Z\n",
       "  \" fill=\"#ffffff\" fill-rule=\"evenodd\" fill-opacity=\"1\"/>\n",
       "<polyline clip-path=\"url(#clip570)\" style=\"stroke:#000000; stroke-linecap:butt; stroke-linejoin:round; stroke-width:4; stroke-opacity:1; fill:none\" points=\"\n",
       "  2009.16,198.898 2279.27,198.898 2279.27,95.2176 2009.16,95.2176 2009.16,198.898 \n",
       "  \"/>\n",
       "<path clip-path=\"url(#clip570)\" d=\"\n",
       "M2033.66 167.794 L2180.64 167.794 L2180.64 126.322 L2033.66 126.322 L2033.66 167.794  Z\n",
       "  \" fill=\"#009af9\" fill-rule=\"evenodd\" fill-opacity=\"1\"/>\n",
       "<polyline clip-path=\"url(#clip570)\" style=\"stroke:#000000; stroke-linecap:butt; stroke-linejoin:round; stroke-width:4; stroke-opacity:1; fill:none\" points=\"\n",
       "  2033.66,167.794 2180.64,167.794 2180.64,126.322 2033.66,126.322 2033.66,167.794 \n",
       "  \"/>\n",
       "<path clip-path=\"url(#clip570)\" d=\"M2229.79 138.412 L2220.41 151.027 L2230.27 164.338 L2225.25 164.338 L2217.7 154.152 L2210.16 164.338 L2205.13 164.338 L2215.2 150.773 L2205.99 138.412 L2211.01 138.412 L2217.89 147.648 L2224.76 138.412 L2229.79 138.412 Z\" fill=\"#000000\" fill-rule=\"evenodd\" fill-opacity=\"1\" /></svg>\n"
      ]
     },
     "execution_count": 46,
     "metadata": {},
     "output_type": "execute_result"
    }
   ],
   "source": [
    "@df df boxplot(:z, :x, label=\"x\") # the warning is likely to be removed in future releases of plotting packages"
   ]
  },
  {
   "cell_type": "code",
   "execution_count": 47,
   "metadata": {
    "execution": {
     "iopub.execute_input": "2022-07-18T00:52:52.693000Z",
     "iopub.status.busy": "2022-07-18T00:52:52.692000Z",
     "iopub.status.idle": "2022-07-18T00:52:53.667000Z",
     "shell.execute_reply": "2022-07-18T00:52:53.667000Z"
    }
   },
   "outputs": [
    {
     "data": {
      "image/svg+xml": [
       "<?xml version=\"1.0\" encoding=\"utf-8\"?>\n",
       "<svg xmlns=\"http://www.w3.org/2000/svg\" xmlns:xlink=\"http://www.w3.org/1999/xlink\" width=\"600\" height=\"400\" viewBox=\"0 0 2400 1600\">\n",
       "<defs>\n",
       "  <clipPath id=\"clip610\">\n",
       "    <rect x=\"0\" y=\"0\" width=\"2400\" height=\"1600\"/>\n",
       "  </clipPath>\n",
       "</defs>\n",
       "<path clip-path=\"url(#clip610)\" d=\"\n",
       "M0 1600 L2400 1600 L2400 0 L0 0  Z\n",
       "  \" fill=\"#ffffff\" fill-rule=\"evenodd\" fill-opacity=\"1\"/>\n",
       "<defs>\n",
       "  <clipPath id=\"clip611\">\n",
       "    <rect x=\"480\" y=\"0\" width=\"1681\" height=\"1600\"/>\n",
       "  </clipPath>\n",
       "</defs>\n",
       "<path clip-path=\"url(#clip610)\" d=\"\n",
       "M148.057 1486.45 L2352.76 1486.45 L2352.76 47.2441 L148.057 47.2441  Z\n",
       "  \" fill=\"#ffffff\" fill-rule=\"evenodd\" fill-opacity=\"1\"/>\n",
       "<defs>\n",
       "  <clipPath id=\"clip612\">\n",
       "    <rect x=\"148\" y=\"47\" width=\"2206\" height=\"1440\"/>\n",
       "  </clipPath>\n",
       "</defs>\n",
       "<polyline clip-path=\"url(#clip612)\" style=\"stroke:#000000; stroke-linecap:butt; stroke-linejoin:round; stroke-width:2; stroke-opacity:0.1; fill:none\" points=\"\n",
       "  672.655,1486.45 672.655,47.2441 \n",
       "  \"/>\n",
       "<polyline clip-path=\"url(#clip612)\" style=\"stroke:#000000; stroke-linecap:butt; stroke-linejoin:round; stroke-width:2; stroke-opacity:0.1; fill:none\" points=\"\n",
       "  1828.16,1486.45 1828.16,47.2441 \n",
       "  \"/>\n",
       "<polyline clip-path=\"url(#clip610)\" style=\"stroke:#000000; stroke-linecap:butt; stroke-linejoin:round; stroke-width:4; stroke-opacity:1; fill:none\" points=\"\n",
       "  148.057,1486.45 2352.76,1486.45 \n",
       "  \"/>\n",
       "<polyline clip-path=\"url(#clip610)\" style=\"stroke:#000000; stroke-linecap:butt; stroke-linejoin:round; stroke-width:4; stroke-opacity:1; fill:none\" points=\"\n",
       "  672.655,1486.45 672.655,1467.55 \n",
       "  \"/>\n",
       "<polyline clip-path=\"url(#clip610)\" style=\"stroke:#000000; stroke-linecap:butt; stroke-linejoin:round; stroke-width:4; stroke-opacity:1; fill:none\" points=\"\n",
       "  1828.16,1486.45 1828.16,1467.55 \n",
       "  \"/>\n",
       "<path clip-path=\"url(#clip610)\" d=\"M675.109 1535.82 Q669.947 1535.82 667.956 1537 Q665.965 1538.18 665.965 1541.02 Q665.965 1543.29 667.447 1544.63 Q668.951 1545.95 671.521 1545.95 Q675.062 1545.95 677.192 1543.45 Q679.345 1540.93 679.345 1536.76 L679.345 1535.82 L675.109 1535.82 M683.604 1534.06 L683.604 1548.85 L679.345 1548.85 L679.345 1544.91 Q677.886 1547.27 675.71 1548.41 Q673.534 1549.52 670.386 1549.52 Q666.405 1549.52 664.044 1547.3 Q661.706 1545.05 661.706 1541.3 Q661.706 1536.93 664.623 1534.7 Q667.562 1532.48 673.372 1532.48 L679.345 1532.48 L679.345 1532.07 Q679.345 1529.13 677.4 1527.53 Q675.479 1525.91 671.984 1525.91 Q669.761 1525.91 667.655 1526.44 Q665.548 1526.97 663.604 1528.04 L663.604 1524.1 Q665.942 1523.2 668.141 1522.76 Q670.34 1522.3 672.423 1522.3 Q678.048 1522.3 680.826 1525.21 Q683.604 1528.13 683.604 1534.06 Z\" fill=\"#000000\" fill-rule=\"evenodd\" fill-opacity=\"1\" /><path clip-path=\"url(#clip610)\" d=\"M1835.33 1535.91 Q1835.33 1531.21 1833.39 1528.55 Q1831.47 1525.86 1828.09 1525.86 Q1824.71 1525.86 1822.76 1528.55 Q1820.84 1531.21 1820.84 1535.91 Q1820.84 1540.61 1822.76 1543.29 Q1824.71 1545.95 1828.09 1545.95 Q1831.47 1545.95 1833.39 1543.29 Q1835.33 1540.61 1835.33 1535.91 M1820.84 1526.86 Q1822.19 1524.54 1824.22 1523.43 Q1826.28 1522.3 1829.13 1522.3 Q1833.85 1522.3 1836.79 1526.05 Q1839.75 1529.8 1839.75 1535.91 Q1839.75 1542.02 1836.79 1545.77 Q1833.85 1549.52 1829.13 1549.52 Q1826.28 1549.52 1824.22 1548.41 Q1822.19 1547.27 1820.84 1544.96 L1820.84 1548.85 L1816.56 1548.85 L1816.56 1512.83 L1820.84 1512.83 L1820.84 1526.86 Z\" fill=\"#000000\" fill-rule=\"evenodd\" fill-opacity=\"1\" /><polyline clip-path=\"url(#clip612)\" style=\"stroke:#000000; stroke-linecap:butt; stroke-linejoin:round; stroke-width:2; stroke-opacity:0.1; fill:none\" points=\"\n",
       "  148.057,1397.13 2352.76,1397.13 \n",
       "  \"/>\n",
       "<polyline clip-path=\"url(#clip612)\" style=\"stroke:#000000; stroke-linecap:butt; stroke-linejoin:round; stroke-width:2; stroke-opacity:0.1; fill:none\" points=\"\n",
       "  148.057,1178.15 2352.76,1178.15 \n",
       "  \"/>\n",
       "<polyline clip-path=\"url(#clip612)\" style=\"stroke:#000000; stroke-linecap:butt; stroke-linejoin:round; stroke-width:2; stroke-opacity:0.1; fill:none\" points=\"\n",
       "  148.057,959.168 2352.76,959.168 \n",
       "  \"/>\n",
       "<polyline clip-path=\"url(#clip612)\" style=\"stroke:#000000; stroke-linecap:butt; stroke-linejoin:round; stroke-width:2; stroke-opacity:0.1; fill:none\" points=\"\n",
       "  148.057,740.188 2352.76,740.188 \n",
       "  \"/>\n",
       "<polyline clip-path=\"url(#clip612)\" style=\"stroke:#000000; stroke-linecap:butt; stroke-linejoin:round; stroke-width:2; stroke-opacity:0.1; fill:none\" points=\"\n",
       "  148.057,521.208 2352.76,521.208 \n",
       "  \"/>\n",
       "<polyline clip-path=\"url(#clip612)\" style=\"stroke:#000000; stroke-linecap:butt; stroke-linejoin:round; stroke-width:2; stroke-opacity:0.1; fill:none\" points=\"\n",
       "  148.057,302.228 2352.76,302.228 \n",
       "  \"/>\n",
       "<polyline clip-path=\"url(#clip612)\" style=\"stroke:#000000; stroke-linecap:butt; stroke-linejoin:round; stroke-width:2; stroke-opacity:0.1; fill:none\" points=\"\n",
       "  148.057,83.2481 2352.76,83.2481 \n",
       "  \"/>\n",
       "<polyline clip-path=\"url(#clip610)\" style=\"stroke:#000000; stroke-linecap:butt; stroke-linejoin:round; stroke-width:4; stroke-opacity:1; fill:none\" points=\"\n",
       "  148.057,1486.45 148.057,47.2441 \n",
       "  \"/>\n",
       "<polyline clip-path=\"url(#clip610)\" style=\"stroke:#000000; stroke-linecap:butt; stroke-linejoin:round; stroke-width:4; stroke-opacity:1; fill:none\" points=\"\n",
       "  148.057,1397.13 166.954,1397.13 \n",
       "  \"/>\n",
       "<polyline clip-path=\"url(#clip610)\" style=\"stroke:#000000; stroke-linecap:butt; stroke-linejoin:round; stroke-width:4; stroke-opacity:1; fill:none\" points=\"\n",
       "  148.057,1178.15 166.954,1178.15 \n",
       "  \"/>\n",
       "<polyline clip-path=\"url(#clip610)\" style=\"stroke:#000000; stroke-linecap:butt; stroke-linejoin:round; stroke-width:4; stroke-opacity:1; fill:none\" points=\"\n",
       "  148.057,959.168 166.954,959.168 \n",
       "  \"/>\n",
       "<polyline clip-path=\"url(#clip610)\" style=\"stroke:#000000; stroke-linecap:butt; stroke-linejoin:round; stroke-width:4; stroke-opacity:1; fill:none\" points=\"\n",
       "  148.057,740.188 166.954,740.188 \n",
       "  \"/>\n",
       "<polyline clip-path=\"url(#clip610)\" style=\"stroke:#000000; stroke-linecap:butt; stroke-linejoin:round; stroke-width:4; stroke-opacity:1; fill:none\" points=\"\n",
       "  148.057,521.208 166.954,521.208 \n",
       "  \"/>\n",
       "<polyline clip-path=\"url(#clip610)\" style=\"stroke:#000000; stroke-linecap:butt; stroke-linejoin:round; stroke-width:4; stroke-opacity:1; fill:none\" points=\"\n",
       "  148.057,302.228 166.954,302.228 \n",
       "  \"/>\n",
       "<polyline clip-path=\"url(#clip610)\" style=\"stroke:#000000; stroke-linecap:butt; stroke-linejoin:round; stroke-width:4; stroke-opacity:1; fill:none\" points=\"\n",
       "  148.057,83.2481 166.954,83.2481 \n",
       "  \"/>\n",
       "<path clip-path=\"url(#clip610)\" d=\"M50.9921 1397.58 L80.6679 1397.58 L80.6679 1401.51 L50.9921 1401.51 L50.9921 1397.58 Z\" fill=\"#000000\" fill-rule=\"evenodd\" fill-opacity=\"1\" /><path clip-path=\"url(#clip610)\" d=\"M104.927 1395.77 Q108.283 1396.49 110.158 1398.76 Q112.057 1401.03 112.057 1404.36 Q112.057 1409.48 108.538 1412.28 Q105.02 1415.08 98.5382 1415.08 Q96.3623 1415.08 94.0475 1414.64 Q91.7558 1414.22 89.3021 1413.37 L89.3021 1408.85 Q91.2465 1409.99 93.5613 1410.56 Q95.8761 1411.14 98.3993 1411.14 Q102.797 1411.14 105.089 1409.41 Q107.404 1407.67 107.404 1404.36 Q107.404 1401.31 105.251 1399.59 Q103.121 1397.86 99.3021 1397.86 L95.2743 1397.86 L95.2743 1394.01 L99.4872 1394.01 Q102.936 1394.01 104.765 1392.65 Q106.594 1391.26 106.594 1388.67 Q106.594 1386 104.696 1384.59 Q102.821 1383.16 99.3021 1383.16 Q97.3808 1383.16 95.1817 1383.57 Q92.9826 1383.99 90.3438 1384.87 L90.3438 1380.7 Q93.0058 1379.96 95.3206 1379.59 Q97.6585 1379.22 99.7187 1379.22 Q105.043 1379.22 108.145 1381.65 Q111.246 1384.06 111.246 1388.18 Q111.246 1391.05 109.603 1393.04 Q107.959 1395.01 104.927 1395.77 Z\" fill=\"#000000\" fill-rule=\"evenodd\" fill-opacity=\"1\" /><path clip-path=\"url(#clip610)\" d=\"M51.9412 1178.6 L81.617 1178.6 L81.617 1182.53 L51.9412 1182.53 L51.9412 1178.6 Z\" fill=\"#000000\" fill-rule=\"evenodd\" fill-opacity=\"1\" /><path clip-path=\"url(#clip610)\" d=\"M95.7373 1191.49 L112.057 1191.49 L112.057 1195.43 L90.1123 1195.43 L90.1123 1191.49 Q92.7743 1188.74 97.3576 1184.11 Q101.964 1179.46 103.145 1178.11 Q105.39 1175.59 106.27 1173.85 Q107.172 1172.09 107.172 1170.4 Q107.172 1167.65 105.228 1165.91 Q103.307 1164.18 100.205 1164.18 Q98.0058 1164.18 95.5521 1164.94 Q93.1215 1165.71 90.3438 1167.26 L90.3438 1162.53 Q93.1678 1161.4 95.6215 1160.82 Q98.0752 1160.24 100.112 1160.24 Q105.483 1160.24 108.677 1162.93 Q111.871 1165.61 111.871 1170.1 Q111.871 1172.23 111.061 1174.15 Q110.274 1176.05 108.168 1178.65 Q107.589 1179.32 104.487 1182.53 Q101.385 1185.73 95.7373 1191.49 Z\" fill=\"#000000\" fill-rule=\"evenodd\" fill-opacity=\"1\" /><path clip-path=\"url(#clip610)\" d=\"M51.5708 959.619 L81.2466 959.619 L81.2466 963.554 L51.5708 963.554 L51.5708 959.619 Z\" fill=\"#000000\" fill-rule=\"evenodd\" fill-opacity=\"1\" /><path clip-path=\"url(#clip610)\" d=\"M92.1493 972.512 L99.7882 972.512 L99.7882 946.147 L91.478 947.813 L91.478 943.554 L99.7419 941.888 L104.418 941.888 L104.418 972.512 L112.057 972.512 L112.057 976.448 L92.1493 976.448 L92.1493 972.512 Z\" fill=\"#000000\" fill-rule=\"evenodd\" fill-opacity=\"1\" /><path clip-path=\"url(#clip610)\" d=\"M100.112 725.986 Q96.5011 725.986 94.6724 729.551 Q92.8669 733.093 92.8669 740.222 Q92.8669 747.329 94.6724 750.894 Q96.5011 754.435 100.112 754.435 Q103.746 754.435 105.552 750.894 Q107.381 747.329 107.381 740.222 Q107.381 733.093 105.552 729.551 Q103.746 725.986 100.112 725.986 M100.112 722.283 Q105.922 722.283 108.978 726.889 Q112.057 731.472 112.057 740.222 Q112.057 748.949 108.978 753.556 Q105.922 758.139 100.112 758.139 Q94.3021 758.139 91.2234 753.556 Q88.1679 748.949 88.1679 740.222 Q88.1679 731.472 91.2234 726.889 Q94.3021 722.283 100.112 722.283 Z\" fill=\"#000000\" fill-rule=\"evenodd\" fill-opacity=\"1\" /><path clip-path=\"url(#clip610)\" d=\"M92.1493 534.553 L99.7882 534.553 L99.7882 508.187 L91.478 509.854 L91.478 505.594 L99.7419 503.928 L104.418 503.928 L104.418 534.553 L112.057 534.553 L112.057 538.488 L92.1493 538.488 L92.1493 534.553 Z\" fill=\"#000000\" fill-rule=\"evenodd\" fill-opacity=\"1\" /><path clip-path=\"url(#clip610)\" d=\"M95.7373 315.573 L112.057 315.573 L112.057 319.508 L90.1123 319.508 L90.1123 315.573 Q92.7743 312.818 97.3576 308.189 Q101.964 303.536 103.145 302.193 Q105.39 299.67 106.27 297.934 Q107.172 296.175 107.172 294.485 Q107.172 291.73 105.228 289.994 Q103.307 288.258 100.205 288.258 Q98.0058 288.258 95.5521 289.022 Q93.1215 289.786 90.3438 291.337 L90.3438 286.615 Q93.1678 285.48 95.6215 284.902 Q98.0752 284.323 100.112 284.323 Q105.483 284.323 108.677 287.008 Q111.871 289.693 111.871 294.184 Q111.871 296.314 111.061 298.235 Q110.274 300.133 108.168 302.726 Q107.589 303.397 104.487 306.615 Q101.385 309.809 95.7373 315.573 Z\" fill=\"#000000\" fill-rule=\"evenodd\" fill-opacity=\"1\" /><path clip-path=\"url(#clip610)\" d=\"M104.927 81.8939 Q108.283 82.6115 110.158 84.88 Q112.057 87.1485 112.057 90.4819 Q112.057 95.5976 108.538 98.3985 Q105.02 101.199 98.5382 101.199 Q96.3623 101.199 94.0475 100.76 Q91.7558 100.343 89.3021 99.4864 L89.3021 94.9726 Q91.2465 96.1068 93.5613 96.6855 Q95.8761 97.2642 98.3993 97.2642 Q102.797 97.2642 105.089 95.5281 Q107.404 93.792 107.404 90.4819 Q107.404 87.4263 105.251 85.7134 Q103.121 83.9773 99.3021 83.9773 L95.2743 83.9773 L95.2743 80.1347 L99.4872 80.1347 Q102.936 80.1347 104.765 78.769 Q106.594 77.3801 106.594 74.7875 Q106.594 72.1255 104.696 70.7134 Q102.821 69.2783 99.3021 69.2783 Q97.3808 69.2783 95.1817 69.6949 Q92.9826 70.1116 90.3438 70.9912 L90.3438 66.8246 Q93.0058 66.0838 95.3206 65.7135 Q97.6585 65.3431 99.7187 65.3431 Q105.043 65.3431 108.145 67.7736 Q111.246 70.181 111.246 74.3014 Q111.246 77.1717 109.603 79.1625 Q107.959 81.1301 104.927 81.8939 Z\" fill=\"#000000\" fill-rule=\"evenodd\" fill-opacity=\"1\" /><path clip-path=\"url(#clip612)\" d=\"\n",
       "M711.103 1278.85 L715.876 1271.02 L720.602 1263.19 L725.185 1255.35 L729.539 1247.52 L733.594 1239.69 L737.305 1231.85 L740.653 1224.02 L743.65 1216.19 L746.333 1208.35 \n",
       "  L748.767 1200.52 L751.036 1192.69 L753.24 1184.85 L755.484 1177.02 L757.88 1169.19 L760.533 1161.35 L763.544 1153.52 L767.005 1145.69 L770.999 1137.85 L775.6 1130.02 \n",
       "  L780.872 1122.19 L786.868 1114.35 L793.631 1106.52 L801.189 1098.69 L809.557 1090.85 L818.735 1083.02 L828.699 1075.19 L839.41 1067.35 L850.802 1059.52 L862.787 1051.69 \n",
       "  L875.253 1043.85 L888.064 1036.02 L901.064 1028.19 L914.085 1020.35 L926.95 1012.52 L939.491 1004.69 L951.556 996.855 L963.024 989.022 L973.817 981.188 L983.9 973.355 \n",
       "  L993.288 965.522 L1002.04 957.688 L1010.24 949.855 L1017.99 942.022 L1025.41 934.188 L1032.58 926.355 L1039.57 918.522 L1046.41 910.688 L1053.1 902.855 L1059.62 895.022 \n",
       "  L1065.92 887.189 L1071.93 879.355 L1077.61 871.522 L1082.91 863.689 L1087.79 855.855 L1092.25 848.022 L1096.31 840.189 L1099.99 832.355 L1103.34 824.522 L1106.42 816.689 \n",
       "  L1109.31 808.855 L1112.08 801.022 L1114.79 793.189 L1117.5 785.355 L1120.24 777.522 L1123.01 769.689 L1125.78 761.855 L1128.46 754.022 L1130.9 746.189 L1132.92 738.355 \n",
       "  L1134.32 730.522 L1134.86 722.689 L1134.32 714.855 L1132.52 707.022 L1129.33 699.189 L1124.7 691.355 L1118.67 683.522 L1111.37 675.689 L1103.01 667.856 L1093.89 660.022 \n",
       "  L1084.34 652.189 L1074.75 644.356 L1065.47 636.522 L1056.85 628.689 L1049.19 620.856 L1042.7 613.022 L1037.5 605.189 L1033.61 597.356 L1030.94 589.522 L1029.3 581.689 \n",
       "  L1028.39 573.856 L1027.85 566.022 L1027.28 558.189 L1026.24 550.356 L1024.34 542.522 L1021.24 534.689 L1016.67 526.856 L1010.48 519.022 L1002.62 511.189 L993.174 503.356 \n",
       "  L982.296 495.522 L970.228 487.689 L957.254 479.856 L943.676 472.023 L929.788 464.189 L915.854 456.356 L902.097 448.523 L888.694 440.689 L875.773 432.856 L863.422 425.023 \n",
       "  L851.696 417.189 L840.625 409.356 L830.225 401.523 L820.501 393.689 L811.455 385.856 L803.085 378.023 L795.389 370.189 L788.364 362.356 L782.002 354.523 L776.29 346.689 \n",
       "  L771.207 338.856 L766.717 331.023 L762.775 323.189 L759.318 315.356 L756.268 307.523 L753.536 299.689 L751.022 291.856 L748.621 284.023 L746.229 276.189 L743.754 268.356 \n",
       "  L741.114 260.523 L738.251 252.69 L735.131 244.856 L731.747 237.023 L728.12 229.19 L724.292 221.356 L720.326 213.523 L716.297 205.69 L712.284 197.856 L708.365 190.023 \n",
       "  L704.608 182.19 L701.066 174.356 L697.778 166.523 L694.764 158.69 L692.029 150.856 L689.564 143.023 L687.352 135.19 L685.37 127.356 L659.94 127.356 L657.958 135.19 \n",
       "  L655.746 143.023 L653.281 150.856 L650.545 158.69 L647.532 166.523 L644.244 174.356 L640.702 182.19 L636.945 190.023 L633.026 197.856 L629.013 205.69 L624.984 213.523 \n",
       "  L621.018 221.356 L617.19 229.19 L613.562 237.023 L610.179 244.856 L607.059 252.69 L604.196 260.523 L601.556 268.356 L599.08 276.189 L596.689 284.023 L594.288 291.856 \n",
       "  L591.773 299.689 L589.041 307.523 L585.992 315.356 L582.535 323.189 L578.592 331.023 L574.103 338.856 L569.019 346.689 L563.308 354.523 L556.946 362.356 L549.921 370.189 \n",
       "  L542.225 378.023 L533.855 385.856 L524.808 393.689 L515.084 401.523 L504.684 409.356 L493.614 417.189 L481.888 425.023 L469.537 432.856 L456.616 440.689 L443.213 448.523 \n",
       "  L429.456 456.356 L415.522 464.189 L401.634 472.023 L388.056 479.856 L375.081 487.689 L363.013 495.522 L352.136 503.356 L342.688 511.189 L334.834 519.022 L328.643 526.856 \n",
       "  L324.074 534.689 L320.97 542.522 L319.071 550.356 L318.034 558.189 L317.458 566.022 L316.92 573.856 L316.01 581.689 L314.367 589.522 L311.699 597.356 L307.81 605.189 \n",
       "  L302.611 613.022 L296.119 620.856 L288.458 628.689 L279.843 636.522 L270.564 644.356 L260.967 652.189 L251.421 660.022 L242.299 667.856 L233.942 675.689 L226.64 683.522 \n",
       "  L220.61 691.355 L215.982 699.189 L212.794 707.022 L210.993 714.855 L210.454 722.689 L210.991 730.522 L212.385 738.355 L214.41 746.189 L216.851 754.022 L219.525 761.855 \n",
       "  L222.295 769.689 L225.072 777.522 L227.815 785.355 L230.524 793.189 L233.232 801.022 L235.997 808.855 L238.886 816.689 L241.971 824.522 L245.322 832.355 L249.001 840.189 \n",
       "  L253.056 848.022 L257.518 855.855 L262.402 863.689 L267.697 871.522 L273.375 879.355 L279.391 887.189 L285.687 895.022 L292.207 902.855 L298.902 910.688 L305.743 918.522 \n",
       "  L312.731 926.355 L319.9 934.188 L327.316 942.022 L335.071 949.855 L343.271 957.688 L352.021 965.522 L361.41 973.355 L371.493 981.188 L382.286 989.022 L393.754 996.855 \n",
       "  L405.819 1004.69 L418.36 1012.52 L431.225 1020.35 L444.245 1028.19 L457.246 1036.02 L470.057 1043.85 L482.523 1051.69 L494.508 1059.52 L505.9 1067.35 L516.61 1075.19 \n",
       "  L526.575 1083.02 L535.752 1090.85 L544.121 1098.69 L551.679 1106.52 L558.441 1114.35 L564.438 1122.19 L569.709 1130.02 L574.311 1137.85 L578.305 1145.69 L581.766 1153.52 \n",
       "  L584.777 1161.35 L587.43 1169.19 L589.825 1177.02 L592.07 1184.85 L594.274 1192.69 L596.543 1200.52 L598.977 1208.35 L601.66 1216.19 L604.657 1224.02 L608.005 1231.85 \n",
       "  L611.716 1239.69 L615.771 1247.52 L620.124 1255.35 L624.707 1263.19 L629.434 1271.02 L634.206 1278.85 L711.103 1278.85  Z\n",
       "  \" fill=\"#009af9\" fill-rule=\"evenodd\" fill-opacity=\"1\"/>\n",
       "<polyline clip-path=\"url(#clip612)\" style=\"stroke:#000000; stroke-linecap:butt; stroke-linejoin:round; stroke-width:4; stroke-opacity:1; fill:none\" points=\"\n",
       "  711.103,1278.85 715.876,1271.02 720.602,1263.19 725.185,1255.35 729.539,1247.52 733.594,1239.69 737.305,1231.85 740.653,1224.02 743.65,1216.19 746.333,1208.35 \n",
       "  748.767,1200.52 751.036,1192.69 753.24,1184.85 755.484,1177.02 757.88,1169.19 760.533,1161.35 763.544,1153.52 767.005,1145.69 770.999,1137.85 775.6,1130.02 \n",
       "  780.872,1122.19 786.868,1114.35 793.631,1106.52 801.189,1098.69 809.557,1090.85 818.735,1083.02 828.699,1075.19 839.41,1067.35 850.802,1059.52 862.787,1051.69 \n",
       "  875.253,1043.85 888.064,1036.02 901.064,1028.19 914.085,1020.35 926.95,1012.52 939.491,1004.69 951.556,996.855 963.024,989.022 973.817,981.188 983.9,973.355 \n",
       "  993.288,965.522 1002.04,957.688 1010.24,949.855 1017.99,942.022 1025.41,934.188 1032.58,926.355 1039.57,918.522 1046.41,910.688 1053.1,902.855 1059.62,895.022 \n",
       "  1065.92,887.189 1071.93,879.355 1077.61,871.522 1082.91,863.689 1087.79,855.855 1092.25,848.022 1096.31,840.189 1099.99,832.355 1103.34,824.522 1106.42,816.689 \n",
       "  1109.31,808.855 1112.08,801.022 1114.79,793.189 1117.5,785.355 1120.24,777.522 1123.01,769.689 1125.78,761.855 1128.46,754.022 1130.9,746.189 1132.92,738.355 \n",
       "  1134.32,730.522 1134.86,722.689 1134.32,714.855 1132.52,707.022 1129.33,699.189 1124.7,691.355 1118.67,683.522 1111.37,675.689 1103.01,667.856 1093.89,660.022 \n",
       "  1084.34,652.189 1074.75,644.356 1065.47,636.522 1056.85,628.689 1049.19,620.856 1042.7,613.022 1037.5,605.189 1033.61,597.356 1030.94,589.522 1029.3,581.689 \n",
       "  1028.39,573.856 1027.85,566.022 1027.28,558.189 1026.24,550.356 1024.34,542.522 1021.24,534.689 1016.67,526.856 1010.48,519.022 1002.62,511.189 993.174,503.356 \n",
       "  982.296,495.522 970.228,487.689 957.254,479.856 943.676,472.023 929.788,464.189 915.854,456.356 902.097,448.523 888.694,440.689 875.773,432.856 863.422,425.023 \n",
       "  851.696,417.189 840.625,409.356 830.225,401.523 820.501,393.689 811.455,385.856 803.085,378.023 795.389,370.189 788.364,362.356 782.002,354.523 776.29,346.689 \n",
       "  771.207,338.856 766.717,331.023 762.775,323.189 759.318,315.356 756.268,307.523 753.536,299.689 751.022,291.856 748.621,284.023 746.229,276.189 743.754,268.356 \n",
       "  741.114,260.523 738.251,252.69 735.131,244.856 731.747,237.023 728.12,229.19 724.292,221.356 720.326,213.523 716.297,205.69 712.284,197.856 708.365,190.023 \n",
       "  704.608,182.19 701.066,174.356 697.778,166.523 694.764,158.69 692.029,150.856 689.564,143.023 687.352,135.19 685.37,127.356 659.94,127.356 657.958,135.19 \n",
       "  655.746,143.023 653.281,150.856 650.545,158.69 647.532,166.523 644.244,174.356 640.702,182.19 636.945,190.023 633.026,197.856 629.013,205.69 624.984,213.523 \n",
       "  621.018,221.356 617.19,229.19 613.562,237.023 610.179,244.856 607.059,252.69 604.196,260.523 601.556,268.356 599.08,276.189 596.689,284.023 594.288,291.856 \n",
       "  591.773,299.689 589.041,307.523 585.992,315.356 582.535,323.189 578.592,331.023 574.103,338.856 569.019,346.689 563.308,354.523 556.946,362.356 549.921,370.189 \n",
       "  542.225,378.023 533.855,385.856 524.808,393.689 515.084,401.523 504.684,409.356 493.614,417.189 481.888,425.023 469.537,432.856 456.616,440.689 443.213,448.523 \n",
       "  429.456,456.356 415.522,464.189 401.634,472.023 388.056,479.856 375.081,487.689 363.013,495.522 352.136,503.356 342.688,511.189 334.834,519.022 328.643,526.856 \n",
       "  324.074,534.689 320.97,542.522 319.071,550.356 318.034,558.189 317.458,566.022 316.92,573.856 316.01,581.689 314.367,589.522 311.699,597.356 307.81,605.189 \n",
       "  302.611,613.022 296.119,620.856 288.458,628.689 279.843,636.522 270.564,644.356 260.967,652.189 251.421,660.022 242.299,667.856 233.942,675.689 226.64,683.522 \n",
       "  220.61,691.355 215.982,699.189 212.794,707.022 210.993,714.855 210.454,722.689 210.991,730.522 212.385,738.355 214.41,746.189 216.851,754.022 219.525,761.855 \n",
       "  222.295,769.689 225.072,777.522 227.815,785.355 230.524,793.189 233.232,801.022 235.997,808.855 238.886,816.689 241.971,824.522 245.322,832.355 249.001,840.189 \n",
       "  253.056,848.022 257.518,855.855 262.402,863.689 267.697,871.522 273.375,879.355 279.391,887.189 285.687,895.022 292.207,902.855 298.902,910.688 305.743,918.522 \n",
       "  312.731,926.355 319.9,934.188 327.316,942.022 335.071,949.855 343.271,957.688 352.021,965.522 361.41,973.355 371.493,981.188 382.286,989.022 393.754,996.855 \n",
       "  405.819,1004.69 418.36,1012.52 431.225,1020.35 444.245,1028.19 457.246,1036.02 470.057,1043.85 482.523,1051.69 494.508,1059.52 505.9,1067.35 516.61,1075.19 \n",
       "  526.575,1083.02 535.752,1090.85 544.121,1098.69 551.679,1106.52 558.441,1114.35 564.438,1122.19 569.709,1130.02 574.311,1137.85 578.305,1145.69 581.766,1153.52 \n",
       "  584.777,1161.35 587.43,1169.19 589.825,1177.02 592.07,1184.85 594.274,1192.69 596.543,1200.52 598.977,1208.35 601.66,1216.19 604.657,1224.02 608.005,1231.85 \n",
       "  611.716,1239.69 615.771,1247.52 620.124,1255.35 624.707,1263.19 629.434,1271.02 634.206,1278.85 711.103,1278.85 \n",
       "  \"/>\n",
       "<path clip-path=\"url(#clip612)\" d=\"\n",
       "M1836.21 1445.72 L1836.23 1436.84 L1836.04 1427.97 L1835.68 1419.09 L1835.2 1410.22 L1834.68 1401.35 L1834.21 1392.47 L1833.86 1383.6 L1833.72 1374.72 L1833.86 1365.85 \n",
       "  L1834.33 1356.97 L1835.18 1348.1 L1836.43 1339.23 L1838.1 1330.35 L1840.17 1321.48 L1842.63 1312.6 L1845.43 1303.73 L1848.52 1294.86 L1851.86 1285.98 L1855.37 1277.11 \n",
       "  L1859.02 1268.23 L1862.77 1259.36 L1866.59 1250.49 L1870.49 1241.61 L1874.49 1232.74 L1878.62 1223.86 L1882.91 1214.99 L1887.4 1206.11 L1892.08 1197.24 L1896.94 1188.37 \n",
       "  L1901.93 1179.49 L1907 1170.62 L1912.08 1161.74 L1917.11 1152.87 L1922.08 1144 L1926.99 1135.12 L1931.92 1126.25 L1936.98 1117.37 L1942.3 1108.5 L1948.02 1099.63 \n",
       "  L1954.26 1090.75 L1961.11 1081.88 L1968.55 1073 L1976.52 1064.13 L1984.86 1055.25 L1993.37 1046.38 L2001.8 1037.51 L2009.91 1028.63 L2017.52 1019.76 L2024.52 1010.88 \n",
       "  L2030.93 1002.01 L2036.85 993.136 L2042.52 984.262 L2048.24 975.388 L2054.32 966.514 L2061.08 957.639 L2068.73 948.765 L2077.4 939.891 L2087.08 931.017 L2097.64 922.143 \n",
       "  L2108.85 913.269 L2120.45 904.395 L2132.13 895.521 L2143.67 886.647 L2154.9 877.772 L2165.72 868.898 L2176.14 860.024 L2186.24 851.15 L2196.12 842.276 L2205.89 833.402 \n",
       "  L2215.6 824.528 L2225.27 815.654 L2234.83 806.779 L2244.13 797.905 L2252.98 789.031 L2261.16 780.157 L2268.47 771.283 L2274.75 762.409 L2279.9 753.535 L2283.91 744.661 \n",
       "  L2286.85 735.787 L2288.81 726.912 L2289.94 718.038 L2290.36 709.164 L2290.16 700.29 L2289.39 691.416 L2288.02 682.542 L2285.99 673.668 L2283.23 664.794 L2279.65 655.92 \n",
       "  L2275.2 647.045 L2269.85 638.171 L2263.64 629.297 L2256.63 620.423 L2248.91 611.549 L2240.57 602.675 L2231.68 593.801 L2222.3 584.927 L2212.46 576.053 L2202.15 567.178 \n",
       "  L2191.34 558.304 L2180.01 549.43 L2168.14 540.556 L2155.72 531.682 L2142.77 522.808 L2129.37 513.934 L2115.62 505.06 L2101.64 496.186 L2087.61 487.311 L2073.7 478.437 \n",
       "  L2060.13 469.563 L2047.07 460.689 L2034.71 451.815 L2023.19 442.941 L2012.6 434.067 L2003.02 425.193 L1994.43 416.318 L1986.78 407.444 L1979.98 398.57 L1973.85 389.696 \n",
       "  L1968.24 380.822 L1962.94 371.948 L1957.76 363.074 L1952.54 354.2 L1947.14 345.326 L1941.47 336.451 L1935.49 327.577 L1929.21 318.703 L1922.68 309.829 L1915.96 300.955 \n",
       "  L1909.16 292.081 L1902.37 283.207 L1895.68 274.333 L1889.19 265.459 L1882.97 256.584 L1877.08 247.71 L1871.6 238.836 L1866.57 229.962 L1862.05 221.088 L1858.09 212.214 \n",
       "  L1854.71 203.34 L1851.94 194.466 L1849.76 185.592 L1848.15 176.717 L1847.04 167.843 L1846.35 158.969 L1845.97 150.095 L1845.78 141.221 L1845.66 132.347 L1845.5 123.473 \n",
       "  L1845.2 114.599 L1844.69 105.725 L1843.93 96.8504 L1842.91 87.9763 L1813.4 87.9763 L1812.39 96.8504 L1811.63 105.725 L1811.11 114.599 L1810.81 123.473 L1810.65 132.347 \n",
       "  L1810.54 141.221 L1810.35 150.095 L1809.97 158.969 L1809.28 167.843 L1808.17 176.717 L1806.55 185.592 L1804.38 194.466 L1801.6 203.34 L1798.23 212.214 L1794.26 221.088 \n",
       "  L1789.75 229.962 L1784.72 238.836 L1779.23 247.71 L1773.35 256.584 L1767.13 265.459 L1760.63 274.333 L1753.95 283.207 L1747.16 292.081 L1740.35 300.955 L1733.64 309.829 \n",
       "  L1727.1 318.703 L1720.82 327.577 L1714.84 336.451 L1709.17 345.326 L1703.77 354.2 L1698.55 363.074 L1693.38 371.948 L1688.08 380.822 L1682.46 389.696 L1676.34 398.57 \n",
       "  L1669.53 407.444 L1661.88 416.318 L1653.3 425.193 L1643.71 434.067 L1633.13 442.941 L1621.6 451.815 L1609.24 460.689 L1596.19 469.563 L1582.61 478.437 L1568.71 487.311 \n",
       "  L1554.68 496.186 L1540.7 505.06 L1526.94 513.934 L1513.54 522.808 L1500.6 531.682 L1488.18 540.556 L1476.3 549.43 L1464.97 558.304 L1454.17 567.178 L1443.85 576.053 \n",
       "  L1434.01 584.927 L1424.64 593.801 L1415.75 602.675 L1407.4 611.549 L1399.68 620.423 L1392.67 629.297 L1386.46 638.171 L1381.12 647.045 L1376.66 655.92 L1373.08 664.794 \n",
       "  L1370.32 673.668 L1368.3 682.542 L1366.93 691.416 L1366.15 700.29 L1365.96 709.164 L1366.38 718.038 L1367.51 726.912 L1369.47 735.787 L1372.4 744.661 L1376.42 753.535 \n",
       "  L1381.57 762.409 L1387.85 771.283 L1395.16 780.157 L1403.34 789.031 L1412.19 797.905 L1421.49 806.779 L1431.04 815.654 L1440.71 824.528 L1450.43 833.402 L1460.19 842.276 \n",
       "  L1470.07 851.15 L1480.17 860.024 L1490.6 868.898 L1501.42 877.772 L1512.64 886.647 L1524.18 895.521 L1535.87 904.395 L1547.46 913.269 L1558.68 922.143 L1569.24 931.017 \n",
       "  L1578.91 939.891 L1587.59 948.765 L1595.24 957.639 L1601.99 966.514 L1608.08 975.388 L1613.79 984.262 L1619.46 993.136 L1625.39 1002.01 L1631.79 1010.88 L1638.8 1019.76 \n",
       "  L1646.41 1028.63 L1654.52 1037.51 L1662.95 1046.38 L1671.45 1055.25 L1679.79 1064.13 L1687.76 1073 L1695.21 1081.88 L1702.05 1090.75 L1708.3 1099.63 L1714.02 1108.5 \n",
       "  L1719.34 1117.37 L1724.39 1126.25 L1729.32 1135.12 L1734.24 1144 L1739.2 1152.87 L1744.24 1161.74 L1749.31 1170.62 L1754.38 1179.49 L1759.38 1188.37 L1764.24 1197.24 \n",
       "  L1768.92 1206.11 L1773.4 1214.99 L1777.69 1223.86 L1781.82 1232.74 L1785.82 1241.61 L1789.72 1250.49 L1793.54 1259.36 L1797.29 1268.23 L1800.94 1277.11 L1804.46 1285.98 \n",
       "  L1807.79 1294.86 L1810.89 1303.73 L1813.69 1312.6 L1816.14 1321.48 L1818.22 1330.35 L1819.88 1339.23 L1821.14 1348.1 L1821.99 1356.97 L1822.46 1365.85 L1822.59 1374.72 \n",
       "  L1822.45 1383.6 L1822.11 1392.47 L1821.63 1401.35 L1821.12 1410.22 L1820.64 1419.09 L1820.28 1427.97 L1820.09 1436.84 L1820.1 1445.72 L1836.21 1445.72  Z\n",
       "  \" fill=\"#009af9\" fill-rule=\"evenodd\" fill-opacity=\"1\"/>\n",
       "<polyline clip-path=\"url(#clip612)\" style=\"stroke:#000000; stroke-linecap:butt; stroke-linejoin:round; stroke-width:4; stroke-opacity:1; fill:none\" points=\"\n",
       "  1836.21,1445.72 1836.23,1436.84 1836.04,1427.97 1835.68,1419.09 1835.2,1410.22 1834.68,1401.35 1834.21,1392.47 1833.86,1383.6 1833.72,1374.72 1833.86,1365.85 \n",
       "  1834.33,1356.97 1835.18,1348.1 1836.43,1339.23 1838.1,1330.35 1840.17,1321.48 1842.63,1312.6 1845.43,1303.73 1848.52,1294.86 1851.86,1285.98 1855.37,1277.11 \n",
       "  1859.02,1268.23 1862.77,1259.36 1866.59,1250.49 1870.49,1241.61 1874.49,1232.74 1878.62,1223.86 1882.91,1214.99 1887.4,1206.11 1892.08,1197.24 1896.94,1188.37 \n",
       "  1901.93,1179.49 1907,1170.62 1912.08,1161.74 1917.11,1152.87 1922.08,1144 1926.99,1135.12 1931.92,1126.25 1936.98,1117.37 1942.3,1108.5 1948.02,1099.63 \n",
       "  1954.26,1090.75 1961.11,1081.88 1968.55,1073 1976.52,1064.13 1984.86,1055.25 1993.37,1046.38 2001.8,1037.51 2009.91,1028.63 2017.52,1019.76 2024.52,1010.88 \n",
       "  2030.93,1002.01 2036.85,993.136 2042.52,984.262 2048.24,975.388 2054.32,966.514 2061.08,957.639 2068.73,948.765 2077.4,939.891 2087.08,931.017 2097.64,922.143 \n",
       "  2108.85,913.269 2120.45,904.395 2132.13,895.521 2143.67,886.647 2154.9,877.772 2165.72,868.898 2176.14,860.024 2186.24,851.15 2196.12,842.276 2205.89,833.402 \n",
       "  2215.6,824.528 2225.27,815.654 2234.83,806.779 2244.13,797.905 2252.98,789.031 2261.16,780.157 2268.47,771.283 2274.75,762.409 2279.9,753.535 2283.91,744.661 \n",
       "  2286.85,735.787 2288.81,726.912 2289.94,718.038 2290.36,709.164 2290.16,700.29 2289.39,691.416 2288.02,682.542 2285.99,673.668 2283.23,664.794 2279.65,655.92 \n",
       "  2275.2,647.045 2269.85,638.171 2263.64,629.297 2256.63,620.423 2248.91,611.549 2240.57,602.675 2231.68,593.801 2222.3,584.927 2212.46,576.053 2202.15,567.178 \n",
       "  2191.34,558.304 2180.01,549.43 2168.14,540.556 2155.72,531.682 2142.77,522.808 2129.37,513.934 2115.62,505.06 2101.64,496.186 2087.61,487.311 2073.7,478.437 \n",
       "  2060.13,469.563 2047.07,460.689 2034.71,451.815 2023.19,442.941 2012.6,434.067 2003.02,425.193 1994.43,416.318 1986.78,407.444 1979.98,398.57 1973.85,389.696 \n",
       "  1968.24,380.822 1962.94,371.948 1957.76,363.074 1952.54,354.2 1947.14,345.326 1941.47,336.451 1935.49,327.577 1929.21,318.703 1922.68,309.829 1915.96,300.955 \n",
       "  1909.16,292.081 1902.37,283.207 1895.68,274.333 1889.19,265.459 1882.97,256.584 1877.08,247.71 1871.6,238.836 1866.57,229.962 1862.05,221.088 1858.09,212.214 \n",
       "  1854.71,203.34 1851.94,194.466 1849.76,185.592 1848.15,176.717 1847.04,167.843 1846.35,158.969 1845.97,150.095 1845.78,141.221 1845.66,132.347 1845.5,123.473 \n",
       "  1845.2,114.599 1844.69,105.725 1843.93,96.8504 1842.91,87.9763 1813.4,87.9763 1812.39,96.8504 1811.63,105.725 1811.11,114.599 1810.81,123.473 1810.65,132.347 \n",
       "  1810.54,141.221 1810.35,150.095 1809.97,158.969 1809.28,167.843 1808.17,176.717 1806.55,185.592 1804.38,194.466 1801.6,203.34 1798.23,212.214 1794.26,221.088 \n",
       "  1789.75,229.962 1784.72,238.836 1779.23,247.71 1773.35,256.584 1767.13,265.459 1760.63,274.333 1753.95,283.207 1747.16,292.081 1740.35,300.955 1733.64,309.829 \n",
       "  1727.1,318.703 1720.82,327.577 1714.84,336.451 1709.17,345.326 1703.77,354.2 1698.55,363.074 1693.38,371.948 1688.08,380.822 1682.46,389.696 1676.34,398.57 \n",
       "  1669.53,407.444 1661.88,416.318 1653.3,425.193 1643.71,434.067 1633.13,442.941 1621.6,451.815 1609.24,460.689 1596.19,469.563 1582.61,478.437 1568.71,487.311 \n",
       "  1554.68,496.186 1540.7,505.06 1526.94,513.934 1513.54,522.808 1500.6,531.682 1488.18,540.556 1476.3,549.43 1464.97,558.304 1454.17,567.178 1443.85,576.053 \n",
       "  1434.01,584.927 1424.64,593.801 1415.75,602.675 1407.4,611.549 1399.68,620.423 1392.67,629.297 1386.46,638.171 1381.12,647.045 1376.66,655.92 1373.08,664.794 \n",
       "  1370.32,673.668 1368.3,682.542 1366.93,691.416 1366.15,700.29 1365.96,709.164 1366.38,718.038 1367.51,726.912 1369.47,735.787 1372.4,744.661 1376.42,753.535 \n",
       "  1381.57,762.409 1387.85,771.283 1395.16,780.157 1403.34,789.031 1412.19,797.905 1421.49,806.779 1431.04,815.654 1440.71,824.528 1450.43,833.402 1460.19,842.276 \n",
       "  1470.07,851.15 1480.17,860.024 1490.6,868.898 1501.42,877.772 1512.64,886.647 1524.18,895.521 1535.87,904.395 1547.46,913.269 1558.68,922.143 1569.24,931.017 \n",
       "  1578.91,939.891 1587.59,948.765 1595.24,957.639 1601.99,966.514 1608.08,975.388 1613.79,984.262 1619.46,993.136 1625.39,1002.01 1631.79,1010.88 1638.8,1019.76 \n",
       "  1646.41,1028.63 1654.52,1037.51 1662.95,1046.38 1671.45,1055.25 1679.79,1064.13 1687.76,1073 1695.21,1081.88 1702.05,1090.75 1708.3,1099.63 1714.02,1108.5 \n",
       "  1719.34,1117.37 1724.39,1126.25 1729.32,1135.12 1734.24,1144 1739.2,1152.87 1744.24,1161.74 1749.31,1170.62 1754.38,1179.49 1759.38,1188.37 1764.24,1197.24 \n",
       "  1768.92,1206.11 1773.4,1214.99 1777.69,1223.86 1781.82,1232.74 1785.82,1241.61 1789.72,1250.49 1793.54,1259.36 1797.29,1268.23 1800.94,1277.11 1804.46,1285.98 \n",
       "  1807.79,1294.86 1810.89,1303.73 1813.69,1312.6 1816.14,1321.48 1818.22,1330.35 1819.88,1339.23 1821.14,1348.1 1821.99,1356.97 1822.46,1365.85 1822.59,1374.72 \n",
       "  1822.45,1383.6 1822.11,1392.47 1821.63,1401.35 1821.12,1410.22 1820.64,1419.09 1820.28,1427.97 1820.09,1436.84 1820.1,1445.72 1836.21,1445.72 \n",
       "  \"/>\n",
       "<path clip-path=\"url(#clip610)\" d=\"\n",
       "M2009.07 198.898 L2279.27 198.898 L2279.27 95.2176 L2009.07 95.2176  Z\n",
       "  \" fill=\"#ffffff\" fill-rule=\"evenodd\" fill-opacity=\"1\"/>\n",
       "<polyline clip-path=\"url(#clip610)\" style=\"stroke:#000000; stroke-linecap:butt; stroke-linejoin:round; stroke-width:4; stroke-opacity:1; fill:none\" points=\"\n",
       "  2009.07,198.898 2279.27,198.898 2279.27,95.2176 2009.07,95.2176 2009.07,198.898 \n",
       "  \"/>\n",
       "<path clip-path=\"url(#clip610)\" d=\"\n",
       "M2033.56 167.794 L2180.54 167.794 L2180.54 126.322 L2033.56 126.322 L2033.56 167.794  Z\n",
       "  \" fill=\"#009af9\" fill-rule=\"evenodd\" fill-opacity=\"1\"/>\n",
       "<polyline clip-path=\"url(#clip610)\" style=\"stroke:#000000; stroke-linecap:butt; stroke-linejoin:round; stroke-width:4; stroke-opacity:1; fill:none\" points=\"\n",
       "  2033.56,167.794 2180.54,167.794 2180.54,126.322 2033.56,126.322 2033.56,167.794 \n",
       "  \"/>\n",
       "<path clip-path=\"url(#clip610)\" d=\"M2218.88 166.745 Q2217.08 171.375 2215.37 172.787 Q2213.65 174.199 2210.78 174.199 L2207.38 174.199 L2207.38 170.634 L2209.88 170.634 Q2211.64 170.634 2212.61 169.8 Q2213.58 168.967 2214.76 165.865 L2215.53 163.921 L2205.04 138.412 L2209.56 138.412 L2217.66 158.689 L2225.76 138.412 L2230.27 138.412 L2218.88 166.745 Z\" fill=\"#000000\" fill-rule=\"evenodd\" fill-opacity=\"1\" /></svg>\n"
      ]
     },
     "execution_count": 47,
     "metadata": {},
     "output_type": "execute_result"
    }
   ],
   "source": [
    "@df df violin(:z, :y, label=\"y\") "
   ]
  }
 ],
 "metadata": {
  "@webio": {
   "lastCommId": null,
   "lastKernelId": null
  },
  "kernelspec": {
   "display_name": "Julia 1.7.2",
   "language": "julia",
   "name": "julia-1.7"
  },
  "language_info": {
   "file_extension": ".jl",
   "mimetype": "application/julia",
   "name": "julia",
   "version": "1.7.3"
  }
 },
 "nbformat": 4,
 "nbformat_minor": 4
}
