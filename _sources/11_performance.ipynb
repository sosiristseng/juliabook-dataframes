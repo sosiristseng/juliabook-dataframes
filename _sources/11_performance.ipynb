{
 "cells": [
  {
   "cell_type": "markdown",
   "metadata": {},
   "source": [
    "# Performance tips"
   ]
  },
  {
   "cell_type": "code",
   "execution_count": 1,
   "metadata": {
    "execution": {
     "iopub.execute_input": "2022-07-18T00:51:23.455000Z",
     "iopub.status.busy": "2022-07-18T00:51:22.996000Z",
     "iopub.status.idle": "2022-07-18T00:51:26.993000Z",
     "shell.execute_reply": "2022-07-18T00:51:26.904000Z"
    }
   },
   "outputs": [],
   "source": [
    "using DataFrames\n",
    "using BenchmarkTools\n",
    "using CategoricalArrays\n",
    "using PooledArrays"
   ]
  },
  {
   "cell_type": "markdown",
   "metadata": {},
   "source": [
    "## Access by column number is faster than by name"
   ]
  },
  {
   "cell_type": "code",
   "execution_count": 2,
   "metadata": {
    "execution": {
     "iopub.execute_input": "2022-07-18T00:51:27.216000Z",
     "iopub.status.busy": "2022-07-18T00:51:26.995000Z",
     "iopub.status.idle": "2022-07-18T00:51:31.216000Z",
     "shell.execute_reply": "2022-07-18T00:51:31.216000Z"
    }
   },
   "outputs": [
    {
     "name": "stdout",
     "output_type": "stream",
     "text": [
      "  2.480 ns (0 allocations: 0 bytes)\n",
      "  18.536 ns (1 allocation: 32 bytes)\n"
     ]
    }
   ],
   "source": [
    "x = DataFrame(rand(5, 1000), :auto)\n",
    "@btime $x[!, 500];\n",
    "@btime $x.x500;"
   ]
  },
  {
   "cell_type": "markdown",
   "metadata": {},
   "source": [
    "## When working with data `DataFrame` use barrier functions or type annotation"
   ]
  },
  {
   "cell_type": "code",
   "execution_count": 3,
   "metadata": {
    "execution": {
     "iopub.execute_input": "2022-07-18T00:51:31.227000Z",
     "iopub.status.busy": "2022-07-18T00:51:31.227000Z",
     "iopub.status.idle": "2022-07-18T00:51:43.641000Z",
     "shell.execute_reply": "2022-07-18T00:51:43.641000Z"
    }
   },
   "outputs": [
    {
     "name": "stdout",
     "output_type": "stream",
     "text": [
      "  84.815 ms (5999017 allocations: 122.06 MiB)\n"
     ]
    }
   ],
   "source": [
    "using Random\n",
    "function f_bad() # this function will be slow\n",
    "    Random.seed!(1); x = DataFrame(rand(1000000,2), :auto)\n",
    "    y, z = x[!, 1], x[!, 2]\n",
    "    p = 0.0\n",
    "    for i in 1:nrow(x)\n",
    "        p += y[i]*z[i]\n",
    "    end\n",
    "    p\n",
    "end\n",
    "\n",
    "@btime f_bad();\n",
    "# if you run @code_warntype f_bad() then you notice\n",
    "# that Julia does not know column types of `DataFrame`\n"
   ]
  },
  {
   "cell_type": "code",
   "execution_count": 4,
   "metadata": {
    "execution": {
     "iopub.execute_input": "2022-07-18T00:51:43.645000Z",
     "iopub.status.busy": "2022-07-18T00:51:43.644000Z",
     "iopub.status.idle": "2022-07-18T00:52:06.119000Z",
     "shell.execute_reply": "2022-07-18T00:52:06.119000Z"
    }
   },
   "outputs": [
    {
     "name": "stdout",
     "output_type": "stream",
     "text": [
      "  4.493 ms (37 allocations: 30.52 MiB)\n",
      "  4.464 ms (37 allocations: 30.52 MiB)\n"
     ]
    }
   ],
   "source": [
    "# solution 1 is to use barrier function (it should be possible to use it in almost any code)\n",
    "function f_inner(y,z)\n",
    "   p = 0.0\n",
    "   for i in 1:length(y)\n",
    "       p += y[i]*z[i]\n",
    "   end\n",
    "   p\n",
    "end\n",
    "\n",
    "function f_barrier() # extract the work to an inner function\n",
    "    Random.seed!(1); x = DataFrame(rand(1000000,2), :auto)\n",
    "    f_inner(x[!, 1], x[!, 2])\n",
    "end\n",
    "\n",
    "using LinearAlgebra\n",
    "function f_inbuilt() # or use inbuilt function if possible\n",
    "    Random.seed!(1); x = DataFrame(rand(1000000,2), :auto)\n",
    "    dot(x[!, 1], x[!, 2])\n",
    "end\n",
    "\n",
    "@btime f_barrier();\n",
    "@btime f_inbuilt();"
   ]
  },
  {
   "cell_type": "code",
   "execution_count": 5,
   "metadata": {
    "execution": {
     "iopub.execute_input": "2022-07-18T00:52:06.187000Z",
     "iopub.status.busy": "2022-07-18T00:52:06.187000Z",
     "iopub.status.idle": "2022-07-18T00:52:17.436000Z",
     "shell.execute_reply": "2022-07-18T00:52:17.436000Z"
    }
   },
   "outputs": [
    {
     "name": "stdout",
     "output_type": "stream",
     "text": [
      "  5.087 ms (37 allocations: 30.52 MiB)\n"
     ]
    }
   ],
   "source": [
    "# solution 2 is to provide the types of extracted columns\n",
    "# it is simpler but there are cases in which you will not know these types\n",
    "# This example  assumes that you have DataFrames master at least from August 31, 2018\n",
    "function f_typed()\n",
    "    Random.seed!(1); x = DataFrame(rand(1000000,2), :auto)\n",
    "    y::Vector{Float64}, z::Vector{Float64} = x[!, 1], x[!, 2]\n",
    "    p = 0.0\n",
    "    for i in 1:nrow(x)\n",
    "        p += y[i]*z[i]\n",
    "    end\n",
    "    p\n",
    "end\n",
    "\n",
    "@btime f_typed();"
   ]
  },
  {
   "cell_type": "markdown",
   "metadata": {},
   "source": [
    "In general for tall and narrow tables it is often useful to use `Tables.rowtable`, `Tables.columntable` or `Tables.namedtupleiterator` for intermediate processing of data in a type-stable way."
   ]
  },
  {
   "cell_type": "markdown",
   "metadata": {},
   "source": [
    "## Consider using delayed `DataFrame` creation technique"
   ]
  },
  {
   "cell_type": "markdown",
   "metadata": {},
   "source": [
    "also notice the difference in performance between copying vs non-copying data frame creation"
   ]
  },
  {
   "cell_type": "code",
   "execution_count": 6,
   "metadata": {
    "execution": {
     "iopub.execute_input": "2022-07-18T00:52:17.439000Z",
     "iopub.status.busy": "2022-07-18T00:52:17.439000Z",
     "iopub.status.idle": "2022-07-18T00:53:02.348000Z",
     "shell.execute_reply": "2022-07-18T00:53:02.348000Z"
    }
   },
   "outputs": [
    {
     "name": "stdout",
     "output_type": "stream",
     "text": [
      "  23.844 ms (1949523 allocations: 37.40 MiB)\n",
      "  26.127 ms (1949723 allocations: 45.03 MiB)\n",
      "  1.688 ms (623 allocations: 7.66 MiB)\n",
      "  2.451 ms (823 allocations: 15.30 MiB)\n"
     ]
    }
   ],
   "source": [
    "function f1()\n",
    "    x = DataFrame([Vector{Float64}(undef, 10^4) for i in 1:100], :auto, copycols=false) # we work with a DataFrame directly\n",
    "    for c in 1:ncol(x)\n",
    "        d = x[!, c]\n",
    "        for r in 1:nrow(x)\n",
    "            d[r] = rand()\n",
    "        end\n",
    "    end\n",
    "    x\n",
    "end\n",
    "\n",
    "function f1a()\n",
    "    x = DataFrame([Vector{Float64}(undef, 10^4) for i in 1:100], :auto) # we work with a DataFrame directly\n",
    "    for c in 1:ncol(x)\n",
    "        d = x[!, c]\n",
    "        for r in 1:nrow(x)\n",
    "            d[r] = rand()\n",
    "        end\n",
    "    end\n",
    "    x\n",
    "end\n",
    "\n",
    "function f2()\n",
    "    x = Vector{Any}(undef, 100)\n",
    "    for c in 1:length(x)\n",
    "        d = Vector{Float64}(undef, 10^4)\n",
    "        for r in 1:length(d)\n",
    "            d[r] = rand()\n",
    "        end\n",
    "        x[c] = d\n",
    "    end\n",
    "    DataFrame(x, :auto, copycols=false) # we delay creation of DataFrame after we have our job done\n",
    "end\n",
    "\n",
    "function f2a()\n",
    "    x = Vector{Any}(undef, 100)\n",
    "    for c in 1:length(x)\n",
    "        d = Vector{Float64}(undef, 10^4)\n",
    "        for r in 1:length(d)\n",
    "            d[r] = rand()\n",
    "        end\n",
    "        x[c] = d\n",
    "    end\n",
    "    DataFrame(x, :auto) # we delay creation of DataFrame after we have our job done\n",
    "end\n",
    "\n",
    "@btime f1();\n",
    "@btime f1a();\n",
    "@btime f2();\n",
    "@btime f2a();"
   ]
  },
  {
   "cell_type": "markdown",
   "metadata": {},
   "source": [
    "## You can add rows to a `DataFrame` in place and it is fast"
   ]
  },
  {
   "cell_type": "code",
   "execution_count": 7,
   "metadata": {
    "execution": {
     "iopub.execute_input": "2022-07-18T00:53:02.352000Z",
     "iopub.status.busy": "2022-07-18T00:53:02.352000Z",
     "iopub.status.idle": "2022-07-18T00:53:20.707000Z",
     "shell.execute_reply": "2022-07-18T00:53:20.707000Z"
    }
   },
   "outputs": [
    {
     "name": "stdout",
     "output_type": "stream",
     "text": [
      "  4.411 ms (180 allocations: 38.15 MiB)\n",
      "  782.750 ns (17 allocations: 672 bytes)\n",
      "  416.700 ns (16 allocations: 256 bytes)\n"
     ]
    }
   ],
   "source": [
    "x = DataFrame(rand(10^6, 5), :auto)\n",
    "y = DataFrame(transpose(1.0:5.0), :auto)\n",
    "z = [1.0:5.0;]\n",
    "\n",
    "@btime vcat($x, $y); # creates a new DataFrame - slow\n",
    "@btime append!($x, $y); # in place - fast\n",
    "\n",
    "x = DataFrame(rand(10^6, 5), :auto) # reset to the same starting point\n",
    "@btime push!($x, $z); # add a single row in place - fast"
   ]
  },
  {
   "cell_type": "markdown",
   "metadata": {},
   "source": [
    "## Allowing `missing` as well as `categorical` slows down computations"
   ]
  },
  {
   "cell_type": "code",
   "execution_count": 8,
   "metadata": {
    "execution": {
     "iopub.execute_input": "2022-07-18T00:53:20.711000Z",
     "iopub.status.busy": "2022-07-18T00:53:20.711000Z",
     "iopub.status.idle": "2022-07-18T00:53:21.918000Z",
     "shell.execute_reply": "2022-07-18T00:53:21.918000Z"
    }
   },
   "outputs": [
    {
     "ename": "LoadError",
     "evalue": "ArgumentError: Package StatsBase not found in current path:\n- Run `import Pkg; Pkg.add(\"StatsBase\")` to install the StatsBase package.\n",
     "output_type": "error",
     "traceback": [
      "ArgumentError: Package StatsBase not found in current path:\n- Run `import Pkg; Pkg.add(\"StatsBase\")` to install the StatsBase package.\n",
      "",
      "Stacktrace:",
      " [1] require(into::Module, mod::Symbol)",
      "   @ Base ./loading.jl:967",
      " [2] eval",
      "   @ ./boot.jl:373 [inlined]",
      " [3] include_string(mapexpr::typeof(REPL.softscope), mod::Module, code::String, filename::String)",
      "   @ Base ./loading.jl:1196"
     ]
    }
   ],
   "source": [
    "using StatsBase\n",
    "\n",
    "function test(data) # uses countmap function to test performance\n",
    "    println(eltype(data))\n",
    "    x = rand(data, 10^6)\n",
    "    y = categorical(x)\n",
    "    println(\" raw:\")\n",
    "    @btime countmap($x)\n",
    "    println(\" categorical:\")\n",
    "    @btime countmap($y)\n",
    "    nothing\n",
    "end\n",
    "\n",
    "test(1:10)\n",
    "test([randstring() for i in 1:10])\n",
    "test(allowmissing(1:10))\n",
    "test(allowmissing([randstring() for i in 1:10]))\n"
   ]
  },
  {
   "cell_type": "markdown",
   "metadata": {},
   "source": [
    "## When aggregating use column selector and prefer integer, categorical, or pooled array grouping variable"
   ]
  },
  {
   "cell_type": "code",
   "execution_count": 9,
   "metadata": {
    "execution": {
     "iopub.execute_input": "2022-07-18T00:53:21.921000Z",
     "iopub.status.busy": "2022-07-18T00:53:21.921000Z",
     "iopub.status.idle": "2022-07-18T00:53:22.264000Z",
     "shell.execute_reply": "2022-07-18T00:53:22.263000Z"
    }
   },
   "outputs": [],
   "source": [
    "df = DataFrame(x=rand('a':'d', 10^7), y=1);"
   ]
  },
  {
   "cell_type": "code",
   "execution_count": 10,
   "metadata": {
    "execution": {
     "iopub.execute_input": "2022-07-18T00:53:22.266000Z",
     "iopub.status.busy": "2022-07-18T00:53:22.266000Z",
     "iopub.status.idle": "2022-07-18T00:53:30.102000Z",
     "shell.execute_reply": "2022-07-18T00:53:30.102000Z"
    },
    "scrolled": true
   },
   "outputs": [
    {
     "data": {
      "text/html": [
       "<p><b>GroupedDataFrame with 4 groups based on key: x</b></p><p><i>First Group (2500849 rows): x = &apos;a&apos;</i></p><div class=\"data-frame\"><table class=\"data-frame\"><thead><tr><th></th><th>x</th><th>y</th></tr><tr><th></th><th title=\"Char\">Char</th><th title=\"Int64\">Int64</th></tr></thead><tbody><tr><th>1</th><td>a</td><td>1</td></tr><tr><th>2</th><td>a</td><td>1</td></tr><tr><th>3</th><td>a</td><td>1</td></tr><tr><th>4</th><td>a</td><td>1</td></tr><tr><th>5</th><td>a</td><td>1</td></tr><tr><th>6</th><td>a</td><td>1</td></tr><tr><th>7</th><td>a</td><td>1</td></tr><tr><th>8</th><td>a</td><td>1</td></tr><tr><th>9</th><td>a</td><td>1</td></tr><tr><th>10</th><td>a</td><td>1</td></tr><tr><th>11</th><td>a</td><td>1</td></tr><tr><th>12</th><td>a</td><td>1</td></tr><tr><th>13</th><td>a</td><td>1</td></tr><tr><th>14</th><td>a</td><td>1</td></tr><tr><th>15</th><td>a</td><td>1</td></tr><tr><th>16</th><td>a</td><td>1</td></tr><tr><th>17</th><td>a</td><td>1</td></tr><tr><th>18</th><td>a</td><td>1</td></tr><tr><th>19</th><td>a</td><td>1</td></tr><tr><th>20</th><td>a</td><td>1</td></tr><tr><th>21</th><td>a</td><td>1</td></tr><tr><th>22</th><td>a</td><td>1</td></tr><tr><th>23</th><td>a</td><td>1</td></tr><tr><th>24</th><td>a</td><td>1</td></tr><tr><th>25</th><td>a</td><td>1</td></tr><tr><th>26</th><td>a</td><td>1</td></tr><tr><th>27</th><td>a</td><td>1</td></tr><tr><th>28</th><td>a</td><td>1</td></tr><tr><th>29</th><td>a</td><td>1</td></tr><tr><th>30</th><td>a</td><td>1</td></tr><tr><th>&vellip;</th><td>&vellip;</td><td>&vellip;</td></tr></tbody></table></div><p>&vellip;</p><p><i>Last Group (2499411 rows): x = &apos;d&apos;</i></p><div class=\"data-frame\"><table class=\"data-frame\"><thead><tr><th></th><th>x</th><th>y</th></tr><tr><th></th><th title=\"Char\">Char</th><th title=\"Int64\">Int64</th></tr></thead><tbody><tr><th>1</th><td>d</td><td>1</td></tr><tr><th>2</th><td>d</td><td>1</td></tr><tr><th>3</th><td>d</td><td>1</td></tr><tr><th>4</th><td>d</td><td>1</td></tr><tr><th>5</th><td>d</td><td>1</td></tr><tr><th>6</th><td>d</td><td>1</td></tr><tr><th>7</th><td>d</td><td>1</td></tr><tr><th>8</th><td>d</td><td>1</td></tr><tr><th>9</th><td>d</td><td>1</td></tr><tr><th>10</th><td>d</td><td>1</td></tr><tr><th>11</th><td>d</td><td>1</td></tr><tr><th>12</th><td>d</td><td>1</td></tr><tr><th>13</th><td>d</td><td>1</td></tr><tr><th>14</th><td>d</td><td>1</td></tr><tr><th>15</th><td>d</td><td>1</td></tr><tr><th>16</th><td>d</td><td>1</td></tr><tr><th>17</th><td>d</td><td>1</td></tr><tr><th>18</th><td>d</td><td>1</td></tr><tr><th>19</th><td>d</td><td>1</td></tr><tr><th>20</th><td>d</td><td>1</td></tr><tr><th>21</th><td>d</td><td>1</td></tr><tr><th>22</th><td>d</td><td>1</td></tr><tr><th>23</th><td>d</td><td>1</td></tr><tr><th>24</th><td>d</td><td>1</td></tr><tr><th>25</th><td>d</td><td>1</td></tr><tr><th>26</th><td>d</td><td>1</td></tr><tr><th>27</th><td>d</td><td>1</td></tr><tr><th>28</th><td>d</td><td>1</td></tr><tr><th>29</th><td>d</td><td>1</td></tr><tr><th>30</th><td>d</td><td>1</td></tr><tr><th>&vellip;</th><td>&vellip;</td><td>&vellip;</td></tr></tbody></table></div>"
      ],
      "text/latex": [
       "GroupedDataFrame with 4 groups based on key: x\n",
       "\n",
       "First Group (2500849 rows): x = 'a'\n",
       "\n",
       "\\begin{tabular}{r|cc}\n",
       "\t& x & y\\\\\n",
       "\t\\hline\n",
       "\t& Char & Int64\\\\\n",
       "\t\\hline\n",
       "\t1 & a & 1 \\\\\n",
       "\t2 & a & 1 \\\\\n",
       "\t3 & a & 1 \\\\\n",
       "\t4 & a & 1 \\\\\n",
       "\t5 & a & 1 \\\\\n",
       "\t6 & a & 1 \\\\\n",
       "\t7 & a & 1 \\\\\n",
       "\t8 & a & 1 \\\\\n",
       "\t9 & a & 1 \\\\\n",
       "\t10 & a & 1 \\\\\n",
       "\t11 & a & 1 \\\\\n",
       "\t12 & a & 1 \\\\\n",
       "\t13 & a & 1 \\\\\n",
       "\t14 & a & 1 \\\\\n",
       "\t15 & a & 1 \\\\\n",
       "\t16 & a & 1 \\\\\n",
       "\t17 & a & 1 \\\\\n",
       "\t18 & a & 1 \\\\\n",
       "\t19 & a & 1 \\\\\n",
       "\t20 & a & 1 \\\\\n",
       "\t21 & a & 1 \\\\\n",
       "\t22 & a & 1 \\\\\n",
       "\t23 & a & 1 \\\\\n",
       "\t24 & a & 1 \\\\\n",
       "\t25 & a & 1 \\\\\n",
       "\t26 & a & 1 \\\\\n",
       "\t27 & a & 1 \\\\\n",
       "\t28 & a & 1 \\\\\n",
       "\t29 & a & 1 \\\\\n",
       "\t30 & a & 1 \\\\\n",
       "\t$\\dots$ & $\\dots$ & $\\dots$ \\\\\n",
       "\\end{tabular}\n",
       "\n",
       "$\\dots$\n",
       "\n",
       "Last Group (2499411 rows): x = 'd'\n",
       "\n",
       "\\begin{tabular}{r|cc}\n",
       "\t& x & y\\\\\n",
       "\t\\hline\n",
       "\t& Char & Int64\\\\\n",
       "\t\\hline\n",
       "\t1 & d & 1 \\\\\n",
       "\t2 & d & 1 \\\\\n",
       "\t3 & d & 1 \\\\\n",
       "\t4 & d & 1 \\\\\n",
       "\t5 & d & 1 \\\\\n",
       "\t6 & d & 1 \\\\\n",
       "\t7 & d & 1 \\\\\n",
       "\t8 & d & 1 \\\\\n",
       "\t9 & d & 1 \\\\\n",
       "\t10 & d & 1 \\\\\n",
       "\t11 & d & 1 \\\\\n",
       "\t12 & d & 1 \\\\\n",
       "\t13 & d & 1 \\\\\n",
       "\t14 & d & 1 \\\\\n",
       "\t15 & d & 1 \\\\\n",
       "\t16 & d & 1 \\\\\n",
       "\t17 & d & 1 \\\\\n",
       "\t18 & d & 1 \\\\\n",
       "\t19 & d & 1 \\\\\n",
       "\t20 & d & 1 \\\\\n",
       "\t21 & d & 1 \\\\\n",
       "\t22 & d & 1 \\\\\n",
       "\t23 & d & 1 \\\\\n",
       "\t24 & d & 1 \\\\\n",
       "\t25 & d & 1 \\\\\n",
       "\t26 & d & 1 \\\\\n",
       "\t27 & d & 1 \\\\\n",
       "\t28 & d & 1 \\\\\n",
       "\t29 & d & 1 \\\\\n",
       "\t30 & d & 1 \\\\\n",
       "\t$\\dots$ & $\\dots$ & $\\dots$ \\\\\n",
       "\\end{tabular}\n"
      ],
      "text/plain": [
       "GroupedDataFrame with 4 groups based on key: x\n",
       "First Group (2500849 rows): x = 'a'\n",
       "\u001b[1m     Row \u001b[0m│\u001b[1m x    \u001b[0m\u001b[1m y     \u001b[0m\n",
       "\u001b[1m         \u001b[0m│\u001b[90m Char \u001b[0m\u001b[90m Int64 \u001b[0m\n",
       "─────────┼─────────────\n",
       "       1 │ a         1\n",
       "       2 │ a         1\n",
       "       3 │ a         1\n",
       "       4 │ a         1\n",
       "       5 │ a         1\n",
       "       6 │ a         1\n",
       "       7 │ a         1\n",
       "       8 │ a         1\n",
       "       9 │ a         1\n",
       "      10 │ a         1\n",
       "      11 │ a         1\n",
       "    ⋮    │  ⋮      ⋮\n",
       " 2500839 │ a         1\n",
       " 2500840 │ a         1\n",
       " 2500841 │ a         1\n",
       " 2500842 │ a         1\n",
       " 2500843 │ a         1\n",
       " 2500844 │ a         1\n",
       " 2500845 │ a         1\n",
       " 2500846 │ a         1\n",
       " 2500847 │ a         1\n",
       " 2500848 │ a         1\n",
       " 2500849 │ a         1\n",
       "\u001b[36m   2500827 rows omitted\u001b[0m\n",
       "⋮\n",
       "Last Group (2499411 rows): x = 'd'\n",
       "\u001b[1m     Row \u001b[0m│\u001b[1m x    \u001b[0m\u001b[1m y     \u001b[0m\n",
       "\u001b[1m         \u001b[0m│\u001b[90m Char \u001b[0m\u001b[90m Int64 \u001b[0m\n",
       "─────────┼─────────────\n",
       "       1 │ d         1\n",
       "       2 │ d         1\n",
       "       3 │ d         1\n",
       "       4 │ d         1\n",
       "       5 │ d         1\n",
       "       6 │ d         1\n",
       "       7 │ d         1\n",
       "       8 │ d         1\n",
       "       9 │ d         1\n",
       "      10 │ d         1\n",
       "      11 │ d         1\n",
       "    ⋮    │  ⋮      ⋮\n",
       " 2499401 │ d         1\n",
       " 2499402 │ d         1\n",
       " 2499403 │ d         1\n",
       " 2499404 │ d         1\n",
       " 2499405 │ d         1\n",
       " 2499406 │ d         1\n",
       " 2499407 │ d         1\n",
       " 2499408 │ d         1\n",
       " 2499409 │ d         1\n",
       " 2499410 │ d         1\n",
       " 2499411 │ d         1\n",
       "\u001b[36m   2499389 rows omitted\u001b[0m"
      ]
     },
     "execution_count": 10,
     "metadata": {},
     "output_type": "execute_result"
    }
   ],
   "source": [
    "gdf = groupby(df, :x)"
   ]
  },
  {
   "cell_type": "code",
   "execution_count": 11,
   "metadata": {
    "execution": {
     "iopub.execute_input": "2022-07-18T00:53:30.106000Z",
     "iopub.status.busy": "2022-07-18T00:53:30.106000Z",
     "iopub.status.idle": "2022-07-18T00:53:46.284000Z",
     "shell.execute_reply": "2022-07-18T00:53:46.284000Z"
    }
   },
   "outputs": [
    {
     "name": "stdout",
     "output_type": "stream",
     "text": [
      "  42.850 ms (334 allocations: 19.10 MiB)\n"
     ]
    },
    {
     "data": {
      "text/html": [
       "<div class=\"data-frame\"><p>4 rows × 2 columns</p><table class=\"data-frame\"><thead><tr><th></th><th>x</th><th>x1</th></tr><tr><th></th><th title=\"Char\">Char</th><th title=\"Int64\">Int64</th></tr></thead><tbody><tr><th>1</th><td>a</td><td>2500849</td></tr><tr><th>2</th><td>b</td><td>2499628</td></tr><tr><th>3</th><td>c</td><td>2500112</td></tr><tr><th>4</th><td>d</td><td>2499411</td></tr></tbody></table></div>"
      ],
      "text/latex": [
       "\\begin{tabular}{r|cc}\n",
       "\t& x & x1\\\\\n",
       "\t\\hline\n",
       "\t& Char & Int64\\\\\n",
       "\t\\hline\n",
       "\t1 & a & 2500849 \\\\\n",
       "\t2 & b & 2499628 \\\\\n",
       "\t3 & c & 2500112 \\\\\n",
       "\t4 & d & 2499411 \\\\\n",
       "\\end{tabular}\n"
      ],
      "text/plain": [
       "\u001b[1m4×2 DataFrame\u001b[0m\n",
       "\u001b[1m Row \u001b[0m│\u001b[1m x    \u001b[0m\u001b[1m x1      \u001b[0m\n",
       "\u001b[1m     \u001b[0m│\u001b[90m Char \u001b[0m\u001b[90m Int64   \u001b[0m\n",
       "─────┼───────────────\n",
       "   1 │ a     2500849\n",
       "   2 │ b     2499628\n",
       "   3 │ c     2500112\n",
       "   4 │ d     2499411"
      ]
     },
     "execution_count": 11,
     "metadata": {},
     "output_type": "execute_result"
    }
   ],
   "source": [
    "@btime combine(v -> sum(v.y), $gdf) # traditional syntax, slow"
   ]
  },
  {
   "cell_type": "code",
   "execution_count": 12,
   "metadata": {
    "execution": {
     "iopub.execute_input": "2022-07-18T00:53:46.288000Z",
     "iopub.status.busy": "2022-07-18T00:53:46.288000Z",
     "iopub.status.idle": "2022-07-18T00:53:58.090000Z",
     "shell.execute_reply": "2022-07-18T00:53:58.090000Z"
    },
    "scrolled": true
   },
   "outputs": [
    {
     "name": "stdout",
     "output_type": "stream",
     "text": [
      "  8.719 ms (230 allocations: 13.31 KiB)\n"
     ]
    },
    {
     "data": {
      "text/html": [
       "<div class=\"data-frame\"><p>4 rows × 2 columns</p><table class=\"data-frame\"><thead><tr><th></th><th>x</th><th>y_sum</th></tr><tr><th></th><th title=\"Char\">Char</th><th title=\"Int64\">Int64</th></tr></thead><tbody><tr><th>1</th><td>a</td><td>2500849</td></tr><tr><th>2</th><td>b</td><td>2499628</td></tr><tr><th>3</th><td>c</td><td>2500112</td></tr><tr><th>4</th><td>d</td><td>2499411</td></tr></tbody></table></div>"
      ],
      "text/latex": [
       "\\begin{tabular}{r|cc}\n",
       "\t& x & y\\_sum\\\\\n",
       "\t\\hline\n",
       "\t& Char & Int64\\\\\n",
       "\t\\hline\n",
       "\t1 & a & 2500849 \\\\\n",
       "\t2 & b & 2499628 \\\\\n",
       "\t3 & c & 2500112 \\\\\n",
       "\t4 & d & 2499411 \\\\\n",
       "\\end{tabular}\n"
      ],
      "text/plain": [
       "\u001b[1m4×2 DataFrame\u001b[0m\n",
       "\u001b[1m Row \u001b[0m│\u001b[1m x    \u001b[0m\u001b[1m y_sum   \u001b[0m\n",
       "\u001b[1m     \u001b[0m│\u001b[90m Char \u001b[0m\u001b[90m Int64   \u001b[0m\n",
       "─────┼───────────────\n",
       "   1 │ a     2500849\n",
       "   2 │ b     2499628\n",
       "   3 │ c     2500112\n",
       "   4 │ d     2499411"
      ]
     },
     "execution_count": 12,
     "metadata": {},
     "output_type": "execute_result"
    }
   ],
   "source": [
    "@btime combine($gdf, :y=>sum) # use column selector"
   ]
  },
  {
   "cell_type": "code",
   "execution_count": 13,
   "metadata": {
    "execution": {
     "iopub.execute_input": "2022-07-18T00:53:58.094000Z",
     "iopub.status.busy": "2022-07-18T00:53:58.094000Z",
     "iopub.status.idle": "2022-07-18T00:53:59.351000Z",
     "shell.execute_reply": "2022-07-18T00:53:59.351000Z"
    }
   },
   "outputs": [],
   "source": [
    "transform!(df, :x => categorical => :x);"
   ]
  },
  {
   "cell_type": "code",
   "execution_count": 14,
   "metadata": {
    "execution": {
     "iopub.execute_input": "2022-07-18T00:53:59.353000Z",
     "iopub.status.busy": "2022-07-18T00:53:59.353000Z",
     "iopub.status.idle": "2022-07-18T00:54:02.399000Z",
     "shell.execute_reply": "2022-07-18T00:54:02.396000Z"
    }
   },
   "outputs": [
    {
     "data": {
      "text/html": [
       "<p><b>GroupedDataFrame with 4 groups based on key: x</b></p><p><i>First Group (2500849 rows): x = CategoricalValue{Char, UInt32} &apos;a&apos;</i></p><div class=\"data-frame\"><table class=\"data-frame\"><thead><tr><th></th><th>x</th><th>y</th></tr><tr><th></th><th title=\"CategoricalValue{Char, UInt32}\">Cat…</th><th title=\"Int64\">Int64</th></tr></thead><tbody><tr><th>1</th><td>a</td><td>1</td></tr><tr><th>2</th><td>a</td><td>1</td></tr><tr><th>3</th><td>a</td><td>1</td></tr><tr><th>4</th><td>a</td><td>1</td></tr><tr><th>5</th><td>a</td><td>1</td></tr><tr><th>6</th><td>a</td><td>1</td></tr><tr><th>7</th><td>a</td><td>1</td></tr><tr><th>8</th><td>a</td><td>1</td></tr><tr><th>9</th><td>a</td><td>1</td></tr><tr><th>10</th><td>a</td><td>1</td></tr><tr><th>11</th><td>a</td><td>1</td></tr><tr><th>12</th><td>a</td><td>1</td></tr><tr><th>13</th><td>a</td><td>1</td></tr><tr><th>14</th><td>a</td><td>1</td></tr><tr><th>15</th><td>a</td><td>1</td></tr><tr><th>16</th><td>a</td><td>1</td></tr><tr><th>17</th><td>a</td><td>1</td></tr><tr><th>18</th><td>a</td><td>1</td></tr><tr><th>19</th><td>a</td><td>1</td></tr><tr><th>20</th><td>a</td><td>1</td></tr><tr><th>21</th><td>a</td><td>1</td></tr><tr><th>22</th><td>a</td><td>1</td></tr><tr><th>23</th><td>a</td><td>1</td></tr><tr><th>24</th><td>a</td><td>1</td></tr><tr><th>25</th><td>a</td><td>1</td></tr><tr><th>26</th><td>a</td><td>1</td></tr><tr><th>27</th><td>a</td><td>1</td></tr><tr><th>28</th><td>a</td><td>1</td></tr><tr><th>29</th><td>a</td><td>1</td></tr><tr><th>30</th><td>a</td><td>1</td></tr><tr><th>&vellip;</th><td>&vellip;</td><td>&vellip;</td></tr></tbody></table></div><p>&vellip;</p><p><i>Last Group (2499411 rows): x = CategoricalValue{Char, UInt32} &apos;d&apos;</i></p><div class=\"data-frame\"><table class=\"data-frame\"><thead><tr><th></th><th>x</th><th>y</th></tr><tr><th></th><th title=\"CategoricalValue{Char, UInt32}\">Cat…</th><th title=\"Int64\">Int64</th></tr></thead><tbody><tr><th>1</th><td>d</td><td>1</td></tr><tr><th>2</th><td>d</td><td>1</td></tr><tr><th>3</th><td>d</td><td>1</td></tr><tr><th>4</th><td>d</td><td>1</td></tr><tr><th>5</th><td>d</td><td>1</td></tr><tr><th>6</th><td>d</td><td>1</td></tr><tr><th>7</th><td>d</td><td>1</td></tr><tr><th>8</th><td>d</td><td>1</td></tr><tr><th>9</th><td>d</td><td>1</td></tr><tr><th>10</th><td>d</td><td>1</td></tr><tr><th>11</th><td>d</td><td>1</td></tr><tr><th>12</th><td>d</td><td>1</td></tr><tr><th>13</th><td>d</td><td>1</td></tr><tr><th>14</th><td>d</td><td>1</td></tr><tr><th>15</th><td>d</td><td>1</td></tr><tr><th>16</th><td>d</td><td>1</td></tr><tr><th>17</th><td>d</td><td>1</td></tr><tr><th>18</th><td>d</td><td>1</td></tr><tr><th>19</th><td>d</td><td>1</td></tr><tr><th>20</th><td>d</td><td>1</td></tr><tr><th>21</th><td>d</td><td>1</td></tr><tr><th>22</th><td>d</td><td>1</td></tr><tr><th>23</th><td>d</td><td>1</td></tr><tr><th>24</th><td>d</td><td>1</td></tr><tr><th>25</th><td>d</td><td>1</td></tr><tr><th>26</th><td>d</td><td>1</td></tr><tr><th>27</th><td>d</td><td>1</td></tr><tr><th>28</th><td>d</td><td>1</td></tr><tr><th>29</th><td>d</td><td>1</td></tr><tr><th>30</th><td>d</td><td>1</td></tr><tr><th>&vellip;</th><td>&vellip;</td><td>&vellip;</td></tr></tbody></table></div>"
      ],
      "text/latex": [
       "GroupedDataFrame with 4 groups based on key: x\n",
       "\n",
       "First Group (2500849 rows): x = CategoricalValue\\{Char, UInt32\\} 'a'\n",
       "\n",
       "\\begin{tabular}{r|cc}\n",
       "\t& x & y\\\\\n",
       "\t\\hline\n",
       "\t& Cat… & Int64\\\\\n",
       "\t\\hline\n",
       "\t1 & a & 1 \\\\\n",
       "\t2 & a & 1 \\\\\n",
       "\t3 & a & 1 \\\\\n",
       "\t4 & a & 1 \\\\\n",
       "\t5 & a & 1 \\\\\n",
       "\t6 & a & 1 \\\\\n",
       "\t7 & a & 1 \\\\\n",
       "\t8 & a & 1 \\\\\n",
       "\t9 & a & 1 \\\\\n",
       "\t10 & a & 1 \\\\\n",
       "\t11 & a & 1 \\\\\n",
       "\t12 & a & 1 \\\\\n",
       "\t13 & a & 1 \\\\\n",
       "\t14 & a & 1 \\\\\n",
       "\t15 & a & 1 \\\\\n",
       "\t16 & a & 1 \\\\\n",
       "\t17 & a & 1 \\\\\n",
       "\t18 & a & 1 \\\\\n",
       "\t19 & a & 1 \\\\\n",
       "\t20 & a & 1 \\\\\n",
       "\t21 & a & 1 \\\\\n",
       "\t22 & a & 1 \\\\\n",
       "\t23 & a & 1 \\\\\n",
       "\t24 & a & 1 \\\\\n",
       "\t25 & a & 1 \\\\\n",
       "\t26 & a & 1 \\\\\n",
       "\t27 & a & 1 \\\\\n",
       "\t28 & a & 1 \\\\\n",
       "\t29 & a & 1 \\\\\n",
       "\t30 & a & 1 \\\\\n",
       "\t$\\dots$ & $\\dots$ & $\\dots$ \\\\\n",
       "\\end{tabular}\n",
       "\n",
       "$\\dots$\n",
       "\n",
       "Last Group (2499411 rows): x = CategoricalValue\\{Char, UInt32\\} 'd'\n",
       "\n",
       "\\begin{tabular}{r|cc}\n",
       "\t& x & y\\\\\n",
       "\t\\hline\n",
       "\t& Cat… & Int64\\\\\n",
       "\t\\hline\n",
       "\t1 & d & 1 \\\\\n",
       "\t2 & d & 1 \\\\\n",
       "\t3 & d & 1 \\\\\n",
       "\t4 & d & 1 \\\\\n",
       "\t5 & d & 1 \\\\\n",
       "\t6 & d & 1 \\\\\n",
       "\t7 & d & 1 \\\\\n",
       "\t8 & d & 1 \\\\\n",
       "\t9 & d & 1 \\\\\n",
       "\t10 & d & 1 \\\\\n",
       "\t11 & d & 1 \\\\\n",
       "\t12 & d & 1 \\\\\n",
       "\t13 & d & 1 \\\\\n",
       "\t14 & d & 1 \\\\\n",
       "\t15 & d & 1 \\\\\n",
       "\t16 & d & 1 \\\\\n",
       "\t17 & d & 1 \\\\\n",
       "\t18 & d & 1 \\\\\n",
       "\t19 & d & 1 \\\\\n",
       "\t20 & d & 1 \\\\\n",
       "\t21 & d & 1 \\\\\n",
       "\t22 & d & 1 \\\\\n",
       "\t23 & d & 1 \\\\\n",
       "\t24 & d & 1 \\\\\n",
       "\t25 & d & 1 \\\\\n",
       "\t26 & d & 1 \\\\\n",
       "\t27 & d & 1 \\\\\n",
       "\t28 & d & 1 \\\\\n",
       "\t29 & d & 1 \\\\\n",
       "\t30 & d & 1 \\\\\n",
       "\t$\\dots$ & $\\dots$ & $\\dots$ \\\\\n",
       "\\end{tabular}\n"
      ],
      "text/plain": [
       "GroupedDataFrame with 4 groups based on key: x\n",
       "First Group (2500849 rows): x = CategoricalValue{Char, UInt32} 'a'\n",
       "\u001b[1m     Row \u001b[0m│\u001b[1m x    \u001b[0m\u001b[1m y     \u001b[0m\n",
       "\u001b[1m         \u001b[0m│\u001b[90m Cat… \u001b[0m\u001b[90m Int64 \u001b[0m\n",
       "─────────┼─────────────\n",
       "       1 │ a         1\n",
       "       2 │ a         1\n",
       "       3 │ a         1\n",
       "       4 │ a         1\n",
       "       5 │ a         1\n",
       "       6 │ a         1\n",
       "       7 │ a         1\n",
       "       8 │ a         1\n",
       "       9 │ a         1\n",
       "      10 │ a         1\n",
       "      11 │ a         1\n",
       "    ⋮    │  ⋮      ⋮\n",
       " 2500839 │ a         1\n",
       " 2500840 │ a         1\n",
       " 2500841 │ a         1\n",
       " 2500842 │ a         1\n",
       " 2500843 │ a         1\n",
       " 2500844 │ a         1\n",
       " 2500845 │ a         1\n",
       " 2500846 │ a         1\n",
       " 2500847 │ a         1\n",
       " 2500848 │ a         1\n",
       " 2500849 │ a         1\n",
       "\u001b[36m   2500827 rows omitted\u001b[0m\n",
       "⋮\n",
       "Last Group (2499411 rows): x = CategoricalValue{Char, UInt32} 'd'\n",
       "\u001b[1m     Row \u001b[0m│\u001b[1m x    \u001b[0m\u001b[1m y     \u001b[0m\n",
       "\u001b[1m         \u001b[0m│\u001b[90m Cat… \u001b[0m\u001b[90m Int64 \u001b[0m\n",
       "─────────┼─────────────\n",
       "       1 │ d         1\n",
       "       2 │ d         1\n",
       "       3 │ d         1\n",
       "       4 │ d         1\n",
       "       5 │ d         1\n",
       "       6 │ d         1\n",
       "       7 │ d         1\n",
       "       8 │ d         1\n",
       "       9 │ d         1\n",
       "      10 │ d         1\n",
       "      11 │ d         1\n",
       "    ⋮    │  ⋮      ⋮\n",
       " 2499401 │ d         1\n",
       " 2499402 │ d         1\n",
       " 2499403 │ d         1\n",
       " 2499404 │ d         1\n",
       " 2499405 │ d         1\n",
       " 2499406 │ d         1\n",
       " 2499407 │ d         1\n",
       " 2499408 │ d         1\n",
       " 2499409 │ d         1\n",
       " 2499410 │ d         1\n",
       " 2499411 │ d         1\n",
       "\u001b[36m   2499389 rows omitted\u001b[0m"
      ]
     },
     "execution_count": 14,
     "metadata": {},
     "output_type": "execute_result"
    }
   ],
   "source": [
    "gdf = groupby(df, :x)"
   ]
  },
  {
   "cell_type": "code",
   "execution_count": 15,
   "metadata": {
    "execution": {
     "iopub.execute_input": "2022-07-18T00:54:02.400000Z",
     "iopub.status.busy": "2022-07-18T00:54:02.400000Z",
     "iopub.status.idle": "2022-07-18T00:54:13.902000Z",
     "shell.execute_reply": "2022-07-18T00:54:13.902000Z"
    },
    "scrolled": true
   },
   "outputs": [
    {
     "name": "stdout",
     "output_type": "stream",
     "text": [
      "  8.908 ms (237 allocations: 13.89 KiB)\n"
     ]
    },
    {
     "data": {
      "text/html": [
       "<div class=\"data-frame\"><p>4 rows × 2 columns</p><table class=\"data-frame\"><thead><tr><th></th><th>x</th><th>y_sum</th></tr><tr><th></th><th title=\"CategoricalValue{Char, UInt32}\">Cat…</th><th title=\"Int64\">Int64</th></tr></thead><tbody><tr><th>1</th><td>a</td><td>2500849</td></tr><tr><th>2</th><td>b</td><td>2499628</td></tr><tr><th>3</th><td>c</td><td>2500112</td></tr><tr><th>4</th><td>d</td><td>2499411</td></tr></tbody></table></div>"
      ],
      "text/latex": [
       "\\begin{tabular}{r|cc}\n",
       "\t& x & y\\_sum\\\\\n",
       "\t\\hline\n",
       "\t& Cat… & Int64\\\\\n",
       "\t\\hline\n",
       "\t1 & a & 2500849 \\\\\n",
       "\t2 & b & 2499628 \\\\\n",
       "\t3 & c & 2500112 \\\\\n",
       "\t4 & d & 2499411 \\\\\n",
       "\\end{tabular}\n"
      ],
      "text/plain": [
       "\u001b[1m4×2 DataFrame\u001b[0m\n",
       "\u001b[1m Row \u001b[0m│\u001b[1m x    \u001b[0m\u001b[1m y_sum   \u001b[0m\n",
       "\u001b[1m     \u001b[0m│\u001b[90m Cat… \u001b[0m\u001b[90m Int64   \u001b[0m\n",
       "─────┼───────────────\n",
       "   1 │ a     2500849\n",
       "   2 │ b     2499628\n",
       "   3 │ c     2500112\n",
       "   4 │ d     2499411"
      ]
     },
     "execution_count": 15,
     "metadata": {},
     "output_type": "execute_result"
    }
   ],
   "source": [
    "@btime combine($gdf, :y=>sum)"
   ]
  },
  {
   "cell_type": "code",
   "execution_count": 16,
   "metadata": {
    "execution": {
     "iopub.execute_input": "2022-07-18T00:54:13.904000Z",
     "iopub.status.busy": "2022-07-18T00:54:13.904000Z",
     "iopub.status.idle": "2022-07-18T00:54:14.839000Z",
     "shell.execute_reply": "2022-07-18T00:54:14.839000Z"
    }
   },
   "outputs": [
    {
     "data": {
      "text/html": [
       "<div class=\"data-frame\"><p>10,000,000 rows × 2 columns</p><table class=\"data-frame\"><thead><tr><th></th><th>x</th><th>y</th></tr><tr><th></th><th title=\"Char\">Char</th><th title=\"Int64\">Int64</th></tr></thead><tbody><tr><th>1</th><td>a</td><td>1</td></tr><tr><th>2</th><td>b</td><td>1</td></tr><tr><th>3</th><td>c</td><td>1</td></tr><tr><th>4</th><td>a</td><td>1</td></tr><tr><th>5</th><td>b</td><td>1</td></tr><tr><th>6</th><td>a</td><td>1</td></tr><tr><th>7</th><td>b</td><td>1</td></tr><tr><th>8</th><td>b</td><td>1</td></tr><tr><th>9</th><td>a</td><td>1</td></tr><tr><th>10</th><td>c</td><td>1</td></tr><tr><th>11</th><td>a</td><td>1</td></tr><tr><th>12</th><td>b</td><td>1</td></tr><tr><th>13</th><td>c</td><td>1</td></tr><tr><th>14</th><td>b</td><td>1</td></tr><tr><th>15</th><td>b</td><td>1</td></tr><tr><th>16</th><td>d</td><td>1</td></tr><tr><th>17</th><td>b</td><td>1</td></tr><tr><th>18</th><td>a</td><td>1</td></tr><tr><th>19</th><td>d</td><td>1</td></tr><tr><th>20</th><td>d</td><td>1</td></tr><tr><th>21</th><td>a</td><td>1</td></tr><tr><th>22</th><td>d</td><td>1</td></tr><tr><th>23</th><td>a</td><td>1</td></tr><tr><th>24</th><td>b</td><td>1</td></tr><tr><th>25</th><td>c</td><td>1</td></tr><tr><th>26</th><td>c</td><td>1</td></tr><tr><th>27</th><td>b</td><td>1</td></tr><tr><th>28</th><td>a</td><td>1</td></tr><tr><th>29</th><td>d</td><td>1</td></tr><tr><th>30</th><td>d</td><td>1</td></tr><tr><th>&vellip;</th><td>&vellip;</td><td>&vellip;</td></tr></tbody></table></div>"
      ],
      "text/latex": [
       "\\begin{tabular}{r|cc}\n",
       "\t& x & y\\\\\n",
       "\t\\hline\n",
       "\t& Char & Int64\\\\\n",
       "\t\\hline\n",
       "\t1 & a & 1 \\\\\n",
       "\t2 & b & 1 \\\\\n",
       "\t3 & c & 1 \\\\\n",
       "\t4 & a & 1 \\\\\n",
       "\t5 & b & 1 \\\\\n",
       "\t6 & a & 1 \\\\\n",
       "\t7 & b & 1 \\\\\n",
       "\t8 & b & 1 \\\\\n",
       "\t9 & a & 1 \\\\\n",
       "\t10 & c & 1 \\\\\n",
       "\t11 & a & 1 \\\\\n",
       "\t12 & b & 1 \\\\\n",
       "\t13 & c & 1 \\\\\n",
       "\t14 & b & 1 \\\\\n",
       "\t15 & b & 1 \\\\\n",
       "\t16 & d & 1 \\\\\n",
       "\t17 & b & 1 \\\\\n",
       "\t18 & a & 1 \\\\\n",
       "\t19 & d & 1 \\\\\n",
       "\t20 & d & 1 \\\\\n",
       "\t21 & a & 1 \\\\\n",
       "\t22 & d & 1 \\\\\n",
       "\t23 & a & 1 \\\\\n",
       "\t24 & b & 1 \\\\\n",
       "\t25 & c & 1 \\\\\n",
       "\t26 & c & 1 \\\\\n",
       "\t27 & b & 1 \\\\\n",
       "\t28 & a & 1 \\\\\n",
       "\t29 & d & 1 \\\\\n",
       "\t30 & d & 1 \\\\\n",
       "\t$\\dots$ & $\\dots$ & $\\dots$ \\\\\n",
       "\\end{tabular}\n"
      ],
      "text/plain": [
       "\u001b[1m10000000×2 DataFrame\u001b[0m\n",
       "\u001b[1m      Row \u001b[0m│\u001b[1m x    \u001b[0m\u001b[1m y     \u001b[0m\n",
       "\u001b[1m          \u001b[0m│\u001b[90m Char \u001b[0m\u001b[90m Int64 \u001b[0m\n",
       "──────────┼─────────────\n",
       "        1 │ a         1\n",
       "        2 │ b         1\n",
       "        3 │ c         1\n",
       "        4 │ a         1\n",
       "        5 │ b         1\n",
       "        6 │ a         1\n",
       "        7 │ b         1\n",
       "        8 │ b         1\n",
       "        9 │ a         1\n",
       "       10 │ c         1\n",
       "       11 │ a         1\n",
       "    ⋮     │  ⋮      ⋮\n",
       "  9999991 │ b         1\n",
       "  9999992 │ a         1\n",
       "  9999993 │ a         1\n",
       "  9999994 │ a         1\n",
       "  9999995 │ d         1\n",
       "  9999996 │ a         1\n",
       "  9999997 │ a         1\n",
       "  9999998 │ c         1\n",
       "  9999999 │ c         1\n",
       " 10000000 │ a         1\n",
       "\u001b[36m    9999979 rows omitted\u001b[0m"
      ]
     },
     "execution_count": 16,
     "metadata": {},
     "output_type": "execute_result"
    }
   ],
   "source": [
    "transform!(df, :x => PooledArray{Char} => :x)"
   ]
  },
  {
   "cell_type": "code",
   "execution_count": 17,
   "metadata": {
    "execution": {
     "iopub.execute_input": "2022-07-18T00:54:14.842000Z",
     "iopub.status.busy": "2022-07-18T00:54:14.842000Z",
     "iopub.status.idle": "2022-07-18T00:54:16.645000Z",
     "shell.execute_reply": "2022-07-18T00:54:16.645000Z"
    }
   },
   "outputs": [
    {
     "data": {
      "text/html": [
       "<p><b>GroupedDataFrame with 4 groups based on key: x</b></p><p><i>First Group (2500849 rows): x = &apos;a&apos;</i></p><div class=\"data-frame\"><table class=\"data-frame\"><thead><tr><th></th><th>x</th><th>y</th></tr><tr><th></th><th title=\"Char\">Char</th><th title=\"Int64\">Int64</th></tr></thead><tbody><tr><th>1</th><td>a</td><td>1</td></tr><tr><th>2</th><td>a</td><td>1</td></tr><tr><th>3</th><td>a</td><td>1</td></tr><tr><th>4</th><td>a</td><td>1</td></tr><tr><th>5</th><td>a</td><td>1</td></tr><tr><th>6</th><td>a</td><td>1</td></tr><tr><th>7</th><td>a</td><td>1</td></tr><tr><th>8</th><td>a</td><td>1</td></tr><tr><th>9</th><td>a</td><td>1</td></tr><tr><th>10</th><td>a</td><td>1</td></tr><tr><th>11</th><td>a</td><td>1</td></tr><tr><th>12</th><td>a</td><td>1</td></tr><tr><th>13</th><td>a</td><td>1</td></tr><tr><th>14</th><td>a</td><td>1</td></tr><tr><th>15</th><td>a</td><td>1</td></tr><tr><th>16</th><td>a</td><td>1</td></tr><tr><th>17</th><td>a</td><td>1</td></tr><tr><th>18</th><td>a</td><td>1</td></tr><tr><th>19</th><td>a</td><td>1</td></tr><tr><th>20</th><td>a</td><td>1</td></tr><tr><th>21</th><td>a</td><td>1</td></tr><tr><th>22</th><td>a</td><td>1</td></tr><tr><th>23</th><td>a</td><td>1</td></tr><tr><th>24</th><td>a</td><td>1</td></tr><tr><th>25</th><td>a</td><td>1</td></tr><tr><th>26</th><td>a</td><td>1</td></tr><tr><th>27</th><td>a</td><td>1</td></tr><tr><th>28</th><td>a</td><td>1</td></tr><tr><th>29</th><td>a</td><td>1</td></tr><tr><th>30</th><td>a</td><td>1</td></tr><tr><th>&vellip;</th><td>&vellip;</td><td>&vellip;</td></tr></tbody></table></div><p>&vellip;</p><p><i>Last Group (2499411 rows): x = &apos;d&apos;</i></p><div class=\"data-frame\"><table class=\"data-frame\"><thead><tr><th></th><th>x</th><th>y</th></tr><tr><th></th><th title=\"Char\">Char</th><th title=\"Int64\">Int64</th></tr></thead><tbody><tr><th>1</th><td>d</td><td>1</td></tr><tr><th>2</th><td>d</td><td>1</td></tr><tr><th>3</th><td>d</td><td>1</td></tr><tr><th>4</th><td>d</td><td>1</td></tr><tr><th>5</th><td>d</td><td>1</td></tr><tr><th>6</th><td>d</td><td>1</td></tr><tr><th>7</th><td>d</td><td>1</td></tr><tr><th>8</th><td>d</td><td>1</td></tr><tr><th>9</th><td>d</td><td>1</td></tr><tr><th>10</th><td>d</td><td>1</td></tr><tr><th>11</th><td>d</td><td>1</td></tr><tr><th>12</th><td>d</td><td>1</td></tr><tr><th>13</th><td>d</td><td>1</td></tr><tr><th>14</th><td>d</td><td>1</td></tr><tr><th>15</th><td>d</td><td>1</td></tr><tr><th>16</th><td>d</td><td>1</td></tr><tr><th>17</th><td>d</td><td>1</td></tr><tr><th>18</th><td>d</td><td>1</td></tr><tr><th>19</th><td>d</td><td>1</td></tr><tr><th>20</th><td>d</td><td>1</td></tr><tr><th>21</th><td>d</td><td>1</td></tr><tr><th>22</th><td>d</td><td>1</td></tr><tr><th>23</th><td>d</td><td>1</td></tr><tr><th>24</th><td>d</td><td>1</td></tr><tr><th>25</th><td>d</td><td>1</td></tr><tr><th>26</th><td>d</td><td>1</td></tr><tr><th>27</th><td>d</td><td>1</td></tr><tr><th>28</th><td>d</td><td>1</td></tr><tr><th>29</th><td>d</td><td>1</td></tr><tr><th>30</th><td>d</td><td>1</td></tr><tr><th>&vellip;</th><td>&vellip;</td><td>&vellip;</td></tr></tbody></table></div>"
      ],
      "text/latex": [
       "GroupedDataFrame with 4 groups based on key: x\n",
       "\n",
       "First Group (2500849 rows): x = 'a'\n",
       "\n",
       "\\begin{tabular}{r|cc}\n",
       "\t& x & y\\\\\n",
       "\t\\hline\n",
       "\t& Char & Int64\\\\\n",
       "\t\\hline\n",
       "\t1 & a & 1 \\\\\n",
       "\t2 & a & 1 \\\\\n",
       "\t3 & a & 1 \\\\\n",
       "\t4 & a & 1 \\\\\n",
       "\t5 & a & 1 \\\\\n",
       "\t6 & a & 1 \\\\\n",
       "\t7 & a & 1 \\\\\n",
       "\t8 & a & 1 \\\\\n",
       "\t9 & a & 1 \\\\\n",
       "\t10 & a & 1 \\\\\n",
       "\t11 & a & 1 \\\\\n",
       "\t12 & a & 1 \\\\\n",
       "\t13 & a & 1 \\\\\n",
       "\t14 & a & 1 \\\\\n",
       "\t15 & a & 1 \\\\\n",
       "\t16 & a & 1 \\\\\n",
       "\t17 & a & 1 \\\\\n",
       "\t18 & a & 1 \\\\\n",
       "\t19 & a & 1 \\\\\n",
       "\t20 & a & 1 \\\\\n",
       "\t21 & a & 1 \\\\\n",
       "\t22 & a & 1 \\\\\n",
       "\t23 & a & 1 \\\\\n",
       "\t24 & a & 1 \\\\\n",
       "\t25 & a & 1 \\\\\n",
       "\t26 & a & 1 \\\\\n",
       "\t27 & a & 1 \\\\\n",
       "\t28 & a & 1 \\\\\n",
       "\t29 & a & 1 \\\\\n",
       "\t30 & a & 1 \\\\\n",
       "\t$\\dots$ & $\\dots$ & $\\dots$ \\\\\n",
       "\\end{tabular}\n",
       "\n",
       "$\\dots$\n",
       "\n",
       "Last Group (2499411 rows): x = 'd'\n",
       "\n",
       "\\begin{tabular}{r|cc}\n",
       "\t& x & y\\\\\n",
       "\t\\hline\n",
       "\t& Char & Int64\\\\\n",
       "\t\\hline\n",
       "\t1 & d & 1 \\\\\n",
       "\t2 & d & 1 \\\\\n",
       "\t3 & d & 1 \\\\\n",
       "\t4 & d & 1 \\\\\n",
       "\t5 & d & 1 \\\\\n",
       "\t6 & d & 1 \\\\\n",
       "\t7 & d & 1 \\\\\n",
       "\t8 & d & 1 \\\\\n",
       "\t9 & d & 1 \\\\\n",
       "\t10 & d & 1 \\\\\n",
       "\t11 & d & 1 \\\\\n",
       "\t12 & d & 1 \\\\\n",
       "\t13 & d & 1 \\\\\n",
       "\t14 & d & 1 \\\\\n",
       "\t15 & d & 1 \\\\\n",
       "\t16 & d & 1 \\\\\n",
       "\t17 & d & 1 \\\\\n",
       "\t18 & d & 1 \\\\\n",
       "\t19 & d & 1 \\\\\n",
       "\t20 & d & 1 \\\\\n",
       "\t21 & d & 1 \\\\\n",
       "\t22 & d & 1 \\\\\n",
       "\t23 & d & 1 \\\\\n",
       "\t24 & d & 1 \\\\\n",
       "\t25 & d & 1 \\\\\n",
       "\t26 & d & 1 \\\\\n",
       "\t27 & d & 1 \\\\\n",
       "\t28 & d & 1 \\\\\n",
       "\t29 & d & 1 \\\\\n",
       "\t30 & d & 1 \\\\\n",
       "\t$\\dots$ & $\\dots$ & $\\dots$ \\\\\n",
       "\\end{tabular}\n"
      ],
      "text/plain": [
       "GroupedDataFrame with 4 groups based on key: x\n",
       "First Group (2500849 rows): x = 'a'\n",
       "\u001b[1m     Row \u001b[0m│\u001b[1m x    \u001b[0m\u001b[1m y     \u001b[0m\n",
       "\u001b[1m         \u001b[0m│\u001b[90m Char \u001b[0m\u001b[90m Int64 \u001b[0m\n",
       "─────────┼─────────────\n",
       "       1 │ a         1\n",
       "       2 │ a         1\n",
       "       3 │ a         1\n",
       "       4 │ a         1\n",
       "       5 │ a         1\n",
       "       6 │ a         1\n",
       "       7 │ a         1\n",
       "       8 │ a         1\n",
       "       9 │ a         1\n",
       "      10 │ a         1\n",
       "      11 │ a         1\n",
       "    ⋮    │  ⋮      ⋮\n",
       " 2500839 │ a         1\n",
       " 2500840 │ a         1\n",
       " 2500841 │ a         1\n",
       " 2500842 │ a         1\n",
       " 2500843 │ a         1\n",
       " 2500844 │ a         1\n",
       " 2500845 │ a         1\n",
       " 2500846 │ a         1\n",
       " 2500847 │ a         1\n",
       " 2500848 │ a         1\n",
       " 2500849 │ a         1\n",
       "\u001b[36m   2500827 rows omitted\u001b[0m\n",
       "⋮\n",
       "Last Group (2499411 rows): x = 'd'\n",
       "\u001b[1m     Row \u001b[0m│\u001b[1m x    \u001b[0m\u001b[1m y     \u001b[0m\n",
       "\u001b[1m         \u001b[0m│\u001b[90m Char \u001b[0m\u001b[90m Int64 \u001b[0m\n",
       "─────────┼─────────────\n",
       "       1 │ d         1\n",
       "       2 │ d         1\n",
       "       3 │ d         1\n",
       "       4 │ d         1\n",
       "       5 │ d         1\n",
       "       6 │ d         1\n",
       "       7 │ d         1\n",
       "       8 │ d         1\n",
       "       9 │ d         1\n",
       "      10 │ d         1\n",
       "      11 │ d         1\n",
       "    ⋮    │  ⋮      ⋮\n",
       " 2499401 │ d         1\n",
       " 2499402 │ d         1\n",
       " 2499403 │ d         1\n",
       " 2499404 │ d         1\n",
       " 2499405 │ d         1\n",
       " 2499406 │ d         1\n",
       " 2499407 │ d         1\n",
       " 2499408 │ d         1\n",
       " 2499409 │ d         1\n",
       " 2499410 │ d         1\n",
       " 2499411 │ d         1\n",
       "\u001b[36m   2499389 rows omitted\u001b[0m"
      ]
     },
     "execution_count": 17,
     "metadata": {},
     "output_type": "execute_result"
    }
   ],
   "source": [
    "gdf = groupby(df, :x)"
   ]
  },
  {
   "cell_type": "code",
   "execution_count": 18,
   "metadata": {
    "execution": {
     "iopub.execute_input": "2022-07-18T00:54:16.649000Z",
     "iopub.status.busy": "2022-07-18T00:54:16.649000Z",
     "iopub.status.idle": "2022-07-18T00:54:27.887000Z",
     "shell.execute_reply": "2022-07-18T00:54:27.886000Z"
    },
    "scrolled": true
   },
   "outputs": [
    {
     "name": "stdout",
     "output_type": "stream",
     "text": [
      "  9.534 ms (232 allocations: 13.38 KiB)\n"
     ]
    },
    {
     "data": {
      "text/html": [
       "<div class=\"data-frame\"><p>4 rows × 2 columns</p><table class=\"data-frame\"><thead><tr><th></th><th>x</th><th>y_sum</th></tr><tr><th></th><th title=\"Char\">Char</th><th title=\"Int64\">Int64</th></tr></thead><tbody><tr><th>1</th><td>a</td><td>2500849</td></tr><tr><th>2</th><td>b</td><td>2499628</td></tr><tr><th>3</th><td>c</td><td>2500112</td></tr><tr><th>4</th><td>d</td><td>2499411</td></tr></tbody></table></div>"
      ],
      "text/latex": [
       "\\begin{tabular}{r|cc}\n",
       "\t& x & y\\_sum\\\\\n",
       "\t\\hline\n",
       "\t& Char & Int64\\\\\n",
       "\t\\hline\n",
       "\t1 & a & 2500849 \\\\\n",
       "\t2 & b & 2499628 \\\\\n",
       "\t3 & c & 2500112 \\\\\n",
       "\t4 & d & 2499411 \\\\\n",
       "\\end{tabular}\n"
      ],
      "text/plain": [
       "\u001b[1m4×2 DataFrame\u001b[0m\n",
       "\u001b[1m Row \u001b[0m│\u001b[1m x    \u001b[0m\u001b[1m y_sum   \u001b[0m\n",
       "\u001b[1m     \u001b[0m│\u001b[90m Char \u001b[0m\u001b[90m Int64   \u001b[0m\n",
       "─────┼───────────────\n",
       "   1 │ a     2500849\n",
       "   2 │ b     2499628\n",
       "   3 │ c     2500112\n",
       "   4 │ d     2499411"
      ]
     },
     "execution_count": 18,
     "metadata": {},
     "output_type": "execute_result"
    }
   ],
   "source": [
    "@btime combine($gdf, :y=>sum)"
   ]
  },
  {
   "cell_type": "markdown",
   "metadata": {},
   "source": [
    "## Use views instead of materializing a new DataFrame"
   ]
  },
  {
   "cell_type": "code",
   "execution_count": 19,
   "metadata": {
    "execution": {
     "iopub.execute_input": "2022-07-18T00:54:27.890000Z",
     "iopub.status.busy": "2022-07-18T00:54:27.890000Z",
     "iopub.status.idle": "2022-07-18T00:54:28.220000Z",
     "shell.execute_reply": "2022-07-18T00:54:28.219000Z"
    },
    "scrolled": true
   },
   "outputs": [
    {
     "data": {
      "text/html": [
       "<div class=\"data-frame\"><p>100 rows × 1,000 columns (omitted printing of 993 columns)</p><table class=\"data-frame\"><thead><tr><th></th><th>x1</th><th>x2</th><th>x3</th><th>x4</th><th>x5</th><th>x6</th><th>x7</th></tr><tr><th></th><th title=\"Float64\">Float64</th><th title=\"Float64\">Float64</th><th title=\"Float64\">Float64</th><th title=\"Float64\">Float64</th><th title=\"Float64\">Float64</th><th title=\"Float64\">Float64</th><th title=\"Float64\">Float64</th></tr></thead><tbody><tr><th>1</th><td>0.524836</td><td>0.72675</td><td>0.474059</td><td>0.521572</td><td>0.460615</td><td>0.493288</td><td>0.62556</td></tr><tr><th>2</th><td>0.450111</td><td>0.438803</td><td>0.914643</td><td>0.152005</td><td>0.470075</td><td>0.477494</td><td>0.098748</td></tr><tr><th>3</th><td>0.399348</td><td>0.810325</td><td>0.994383</td><td>0.636791</td><td>0.663914</td><td>0.358692</td><td>0.557299</td></tr><tr><th>4</th><td>0.171113</td><td>0.995161</td><td>0.957723</td><td>0.0978758</td><td>0.0672851</td><td>0.829578</td><td>0.87674</td></tr><tr><th>5</th><td>0.237382</td><td>0.367287</td><td>0.690186</td><td>0.61463</td><td>0.69947</td><td>0.571084</td><td>0.981192</td></tr><tr><th>6</th><td>0.0738984</td><td>0.895709</td><td>0.0657372</td><td>0.066569</td><td>0.479868</td><td>0.339752</td><td>0.679379</td></tr><tr><th>7</th><td>0.0838025</td><td>0.161537</td><td>0.638759</td><td>0.839586</td><td>0.461109</td><td>0.533586</td><td>0.968726</td></tr><tr><th>8</th><td>0.323185</td><td>0.679265</td><td>0.406851</td><td>0.950191</td><td>0.102193</td><td>0.0965595</td><td>0.569159</td></tr><tr><th>9</th><td>0.939335</td><td>0.0349469</td><td>0.370833</td><td>0.234694</td><td>0.499019</td><td>0.178378</td><td>0.292509</td></tr><tr><th>10</th><td>0.90771</td><td>0.599251</td><td>0.921183</td><td>0.155048</td><td>0.825517</td><td>0.417809</td><td>0.720356</td></tr><tr><th>11</th><td>0.61617</td><td>0.600701</td><td>0.0158546</td><td>0.788483</td><td>0.673693</td><td>0.905307</td><td>0.0366757</td></tr><tr><th>12</th><td>0.506228</td><td>0.602637</td><td>0.998199</td><td>0.735448</td><td>0.949338</td><td>0.634511</td><td>0.141181</td></tr><tr><th>13</th><td>0.464914</td><td>0.282784</td><td>0.414046</td><td>0.234214</td><td>0.614133</td><td>0.54159</td><td>0.367568</td></tr><tr><th>14</th><td>0.947302</td><td>0.327462</td><td>0.182383</td><td>0.475915</td><td>0.911587</td><td>0.207368</td><td>0.868821</td></tr><tr><th>15</th><td>0.154741</td><td>0.474076</td><td>0.54408</td><td>0.366031</td><td>0.265035</td><td>0.695092</td><td>0.971553</td></tr><tr><th>16</th><td>0.334337</td><td>0.582793</td><td>0.000873808</td><td>0.0855726</td><td>0.713024</td><td>0.181267</td><td>0.634381</td></tr><tr><th>17</th><td>0.566172</td><td>0.162532</td><td>0.357058</td><td>0.175467</td><td>0.502198</td><td>0.489451</td><td>0.408845</td></tr><tr><th>18</th><td>0.0269386</td><td>0.210234</td><td>0.716538</td><td>0.993341</td><td>0.892498</td><td>0.751895</td><td>0.477611</td></tr><tr><th>19</th><td>0.65602</td><td>0.270162</td><td>0.870305</td><td>0.617436</td><td>0.878699</td><td>0.142366</td><td>0.580642</td></tr><tr><th>20</th><td>0.185428</td><td>0.101299</td><td>0.865675</td><td>0.530975</td><td>0.774263</td><td>0.240913</td><td>0.198648</td></tr><tr><th>21</th><td>0.592698</td><td>0.892818</td><td>0.566977</td><td>0.0655156</td><td>0.704156</td><td>0.223823</td><td>0.672363</td></tr><tr><th>22</th><td>0.672051</td><td>0.617892</td><td>0.909576</td><td>0.902716</td><td>0.685912</td><td>0.797748</td><td>0.374085</td></tr><tr><th>23</th><td>0.225376</td><td>0.734299</td><td>0.861357</td><td>0.836991</td><td>0.216526</td><td>0.9796</td><td>0.430972</td></tr><tr><th>24</th><td>0.697722</td><td>0.586673</td><td>0.26608</td><td>0.632099</td><td>0.937948</td><td>0.820225</td><td>0.677072</td></tr><tr><th>25</th><td>0.296484</td><td>0.0199061</td><td>0.38203</td><td>0.418092</td><td>0.208257</td><td>0.0140049</td><td>0.966223</td></tr><tr><th>26</th><td>0.350249</td><td>0.520419</td><td>0.721534</td><td>0.271282</td><td>0.414686</td><td>0.266654</td><td>0.869908</td></tr><tr><th>27</th><td>0.403318</td><td>0.539874</td><td>0.906806</td><td>0.516251</td><td>0.815335</td><td>0.149898</td><td>0.313317</td></tr><tr><th>28</th><td>0.183978</td><td>0.0104943</td><td>0.596848</td><td>0.0754629</td><td>0.170785</td><td>0.230964</td><td>0.930308</td></tr><tr><th>29</th><td>0.247085</td><td>0.219024</td><td>0.105956</td><td>0.922811</td><td>0.258989</td><td>0.774253</td><td>0.477517</td></tr><tr><th>30</th><td>0.605548</td><td>0.624703</td><td>0.939283</td><td>0.222221</td><td>0.00739087</td><td>0.0772928</td><td>0.975965</td></tr><tr><th>&vellip;</th><td>&vellip;</td><td>&vellip;</td><td>&vellip;</td><td>&vellip;</td><td>&vellip;</td><td>&vellip;</td><td>&vellip;</td></tr></tbody></table></div>"
      ],
      "text/latex": [
       "\\begin{tabular}{r|cccccccc}\n",
       "\t& x1 & x2 & x3 & x4 & x5 & x6 & x7 & \\\\\n",
       "\t\\hline\n",
       "\t& Float64 & Float64 & Float64 & Float64 & Float64 & Float64 & Float64 & \\\\\n",
       "\t\\hline\n",
       "\t1 & 0.524836 & 0.72675 & 0.474059 & 0.521572 & 0.460615 & 0.493288 & 0.62556 & $\\dots$ \\\\\n",
       "\t2 & 0.450111 & 0.438803 & 0.914643 & 0.152005 & 0.470075 & 0.477494 & 0.098748 & $\\dots$ \\\\\n",
       "\t3 & 0.399348 & 0.810325 & 0.994383 & 0.636791 & 0.663914 & 0.358692 & 0.557299 & $\\dots$ \\\\\n",
       "\t4 & 0.171113 & 0.995161 & 0.957723 & 0.0978758 & 0.0672851 & 0.829578 & 0.87674 & $\\dots$ \\\\\n",
       "\t5 & 0.237382 & 0.367287 & 0.690186 & 0.61463 & 0.69947 & 0.571084 & 0.981192 & $\\dots$ \\\\\n",
       "\t6 & 0.0738984 & 0.895709 & 0.0657372 & 0.066569 & 0.479868 & 0.339752 & 0.679379 & $\\dots$ \\\\\n",
       "\t7 & 0.0838025 & 0.161537 & 0.638759 & 0.839586 & 0.461109 & 0.533586 & 0.968726 & $\\dots$ \\\\\n",
       "\t8 & 0.323185 & 0.679265 & 0.406851 & 0.950191 & 0.102193 & 0.0965595 & 0.569159 & $\\dots$ \\\\\n",
       "\t9 & 0.939335 & 0.0349469 & 0.370833 & 0.234694 & 0.499019 & 0.178378 & 0.292509 & $\\dots$ \\\\\n",
       "\t10 & 0.90771 & 0.599251 & 0.921183 & 0.155048 & 0.825517 & 0.417809 & 0.720356 & $\\dots$ \\\\\n",
       "\t11 & 0.61617 & 0.600701 & 0.0158546 & 0.788483 & 0.673693 & 0.905307 & 0.0366757 & $\\dots$ \\\\\n",
       "\t12 & 0.506228 & 0.602637 & 0.998199 & 0.735448 & 0.949338 & 0.634511 & 0.141181 & $\\dots$ \\\\\n",
       "\t13 & 0.464914 & 0.282784 & 0.414046 & 0.234214 & 0.614133 & 0.54159 & 0.367568 & $\\dots$ \\\\\n",
       "\t14 & 0.947302 & 0.327462 & 0.182383 & 0.475915 & 0.911587 & 0.207368 & 0.868821 & $\\dots$ \\\\\n",
       "\t15 & 0.154741 & 0.474076 & 0.54408 & 0.366031 & 0.265035 & 0.695092 & 0.971553 & $\\dots$ \\\\\n",
       "\t16 & 0.334337 & 0.582793 & 0.000873808 & 0.0855726 & 0.713024 & 0.181267 & 0.634381 & $\\dots$ \\\\\n",
       "\t17 & 0.566172 & 0.162532 & 0.357058 & 0.175467 & 0.502198 & 0.489451 & 0.408845 & $\\dots$ \\\\\n",
       "\t18 & 0.0269386 & 0.210234 & 0.716538 & 0.993341 & 0.892498 & 0.751895 & 0.477611 & $\\dots$ \\\\\n",
       "\t19 & 0.65602 & 0.270162 & 0.870305 & 0.617436 & 0.878699 & 0.142366 & 0.580642 & $\\dots$ \\\\\n",
       "\t20 & 0.185428 & 0.101299 & 0.865675 & 0.530975 & 0.774263 & 0.240913 & 0.198648 & $\\dots$ \\\\\n",
       "\t21 & 0.592698 & 0.892818 & 0.566977 & 0.0655156 & 0.704156 & 0.223823 & 0.672363 & $\\dots$ \\\\\n",
       "\t22 & 0.672051 & 0.617892 & 0.909576 & 0.902716 & 0.685912 & 0.797748 & 0.374085 & $\\dots$ \\\\\n",
       "\t23 & 0.225376 & 0.734299 & 0.861357 & 0.836991 & 0.216526 & 0.9796 & 0.430972 & $\\dots$ \\\\\n",
       "\t24 & 0.697722 & 0.586673 & 0.26608 & 0.632099 & 0.937948 & 0.820225 & 0.677072 & $\\dots$ \\\\\n",
       "\t25 & 0.296484 & 0.0199061 & 0.38203 & 0.418092 & 0.208257 & 0.0140049 & 0.966223 & $\\dots$ \\\\\n",
       "\t26 & 0.350249 & 0.520419 & 0.721534 & 0.271282 & 0.414686 & 0.266654 & 0.869908 & $\\dots$ \\\\\n",
       "\t27 & 0.403318 & 0.539874 & 0.906806 & 0.516251 & 0.815335 & 0.149898 & 0.313317 & $\\dots$ \\\\\n",
       "\t28 & 0.183978 & 0.0104943 & 0.596848 & 0.0754629 & 0.170785 & 0.230964 & 0.930308 & $\\dots$ \\\\\n",
       "\t29 & 0.247085 & 0.219024 & 0.105956 & 0.922811 & 0.258989 & 0.774253 & 0.477517 & $\\dots$ \\\\\n",
       "\t30 & 0.605548 & 0.624703 & 0.939283 & 0.222221 & 0.00739087 & 0.0772928 & 0.975965 & $\\dots$ \\\\\n",
       "\t$\\dots$ & $\\dots$ & $\\dots$ & $\\dots$ & $\\dots$ & $\\dots$ & $\\dots$ & $\\dots$ &  \\\\\n",
       "\\end{tabular}\n"
      ],
      "text/plain": [
       "\u001b[1m100×1000 DataFrame\u001b[0m\n",
       "\u001b[1m Row \u001b[0m│\u001b[1m x1         \u001b[0m\u001b[1m x2        \u001b[0m\u001b[1m x3        \u001b[0m\u001b[1m x4        \u001b[0m\u001b[1m x5        \u001b[0m\u001b[1m x6        \u001b[0m\u001b[1m x7  \u001b[0m ⋯\n",
       "\u001b[1m     \u001b[0m│\u001b[90m Float64    \u001b[0m\u001b[90m Float64   \u001b[0m\u001b[90m Float64   \u001b[0m\u001b[90m Float64   \u001b[0m\u001b[90m Float64   \u001b[0m\u001b[90m Float64   \u001b[0m\u001b[90m Floa\u001b[0m ⋯\n",
       "─────┼──────────────────────────────────────────────────────────────────────────\n",
       "   1 │ 0.524836    0.72675    0.474059   0.521572   0.460615   0.493288   0.62 ⋯\n",
       "   2 │ 0.450111    0.438803   0.914643   0.152005   0.470075   0.477494   0.09\n",
       "   3 │ 0.399348    0.810325   0.994383   0.636791   0.663914   0.358692   0.55\n",
       "   4 │ 0.171113    0.995161   0.957723   0.0978758  0.0672851  0.829578   0.87\n",
       "   5 │ 0.237382    0.367287   0.690186   0.61463    0.69947    0.571084   0.98 ⋯\n",
       "   6 │ 0.0738984   0.895709   0.0657372  0.066569   0.479868   0.339752   0.67\n",
       "   7 │ 0.0838025   0.161537   0.638759   0.839586   0.461109   0.533586   0.96\n",
       "   8 │ 0.323185    0.679265   0.406851   0.950191   0.102193   0.0965595  0.56\n",
       "   9 │ 0.939335    0.0349469  0.370833   0.234694   0.499019   0.178378   0.29 ⋯\n",
       "  10 │ 0.90771     0.599251   0.921183   0.155048   0.825517   0.417809   0.72\n",
       "  11 │ 0.61617     0.600701   0.0158546  0.788483   0.673693   0.905307   0.03\n",
       "  ⋮  │     ⋮           ⋮          ⋮          ⋮          ⋮          ⋮           ⋱\n",
       "  91 │ 0.641323    0.625597   0.91681    0.787903   0.166702   0.337518   0.82\n",
       "  92 │ 0.943442    0.876731   0.868601   0.293919   0.693155   0.132093   0.60 ⋯\n",
       "  93 │ 0.0269606   0.531022   0.693193   0.605056   0.711696   0.621718   0.35\n",
       "  94 │ 0.414101    0.711569   0.235081   0.379691   0.668058   0.322815   0.72\n",
       "  95 │ 0.540736    0.226629   0.0231685  0.270804   0.735636   0.769535   0.29\n",
       "  96 │ 0.468196    0.972846   0.582052   0.486228   0.787213   0.861746   0.05 ⋯\n",
       "  97 │ 0.277694    0.981509   0.79149    0.2195     0.156353   0.403785   0.95\n",
       "  98 │ 0.764454    0.336943   0.198689   0.574083   0.46029    0.0431075  0.22\n",
       "  99 │ 0.320578    0.673161   0.136341   0.579531   0.15881    0.815762   0.96\n",
       " 100 │ 0.371713    0.754916   0.275259   0.711103   0.112088   0.769875   0.72 ⋯\n",
       "\u001b[36m                                                 994 columns and 79 rows omitted\u001b[0m"
      ]
     },
     "execution_count": 19,
     "metadata": {},
     "output_type": "execute_result"
    }
   ],
   "source": [
    "x = DataFrame(rand(100, 1000), :auto)"
   ]
  },
  {
   "cell_type": "code",
   "execution_count": 20,
   "metadata": {
    "execution": {
     "iopub.execute_input": "2022-07-18T00:54:28.223000Z",
     "iopub.status.busy": "2022-07-18T00:54:28.223000Z",
     "iopub.status.idle": "2022-07-18T00:54:36.582000Z",
     "shell.execute_reply": "2022-07-18T00:54:36.582000Z"
    }
   },
   "outputs": [
    {
     "name": "stdout",
     "output_type": "stream",
     "text": [
      "  165.450 μs (2985 allocations: 159.44 KiB)\n"
     ]
    },
    {
     "data": {
      "text/html": [
       "<div class=\"data-frame\"><p>1 rows × 1,000 columns (omitted printing of 992 columns)</p><table class=\"data-frame\"><thead><tr><th></th><th>x1</th><th>x2</th><th>x3</th><th>x4</th><th>x5</th><th>x6</th><th>x7</th><th>x8</th></tr><tr><th></th><th title=\"Float64\">Float64</th><th title=\"Float64\">Float64</th><th title=\"Float64\">Float64</th><th title=\"Float64\">Float64</th><th title=\"Float64\">Float64</th><th title=\"Float64\">Float64</th><th title=\"Float64\">Float64</th><th title=\"Float64\">Float64</th></tr></thead><tbody><tr><th>1</th><td>0.524836</td><td>0.72675</td><td>0.474059</td><td>0.521572</td><td>0.460615</td><td>0.493288</td><td>0.62556</td><td>0.000997819</td></tr></tbody></table></div>"
      ],
      "text/latex": [
       "\\begin{tabular}{r|ccccccccc}\n",
       "\t& x1 & x2 & x3 & x4 & x5 & x6 & x7 & x8 & \\\\\n",
       "\t\\hline\n",
       "\t& Float64 & Float64 & Float64 & Float64 & Float64 & Float64 & Float64 & Float64 & \\\\\n",
       "\t\\hline\n",
       "\t1 & 0.524836 & 0.72675 & 0.474059 & 0.521572 & 0.460615 & 0.493288 & 0.62556 & 0.000997819 & $\\dots$ \\\\\n",
       "\\end{tabular}\n"
      ],
      "text/plain": [
       "\u001b[1m1×1000 DataFrame\u001b[0m\n",
       "\u001b[1m Row \u001b[0m│\u001b[1m x1       \u001b[0m\u001b[1m x2      \u001b[0m\u001b[1m x3       \u001b[0m\u001b[1m x4       \u001b[0m\u001b[1m x5       \u001b[0m\u001b[1m x6       \u001b[0m\u001b[1m x7      \u001b[0m\u001b[1m x8 \u001b[0m ⋯\n",
       "\u001b[1m     \u001b[0m│\u001b[90m Float64  \u001b[0m\u001b[90m Float64 \u001b[0m\u001b[90m Float64  \u001b[0m\u001b[90m Float64  \u001b[0m\u001b[90m Float64  \u001b[0m\u001b[90m Float64  \u001b[0m\u001b[90m Float64 \u001b[0m\u001b[90m Flo\u001b[0m ⋯\n",
       "─────┼──────────────────────────────────────────────────────────────────────────\n",
       "   1 │ 0.524836  0.72675  0.474059  0.521572  0.460615  0.493288  0.62556  0.0 ⋯\n",
       "\u001b[36m                                                             993 columns omitted\u001b[0m"
      ]
     },
     "execution_count": 20,
     "metadata": {},
     "output_type": "execute_result"
    }
   ],
   "source": [
    "@btime $x[1:1, :]"
   ]
  },
  {
   "cell_type": "code",
   "execution_count": 21,
   "metadata": {
    "execution": {
     "iopub.execute_input": "2022-07-18T00:54:36.585000Z",
     "iopub.status.busy": "2022-07-18T00:54:36.585000Z",
     "iopub.status.idle": "2022-07-18T00:54:41.342000Z",
     "shell.execute_reply": "2022-07-18T00:54:41.342000Z"
    }
   },
   "outputs": [
    {
     "name": "stdout",
     "output_type": "stream",
     "text": [
      "  18.785 ns (0 allocations: 0 bytes)\n"
     ]
    },
    {
     "data": {
      "text/html": [
       "<p>DataFrameRow (1000 columns)</p><div class=\"data-frame\"><table class=\"data-frame\"><thead><tr><th></th><th>x1</th><th>x2</th><th>x3</th><th>x4</th><th>x5</th><th>x6</th><th>x7</th><th>x8</th></tr><tr><th></th><th title=\"Float64\">Float64</th><th title=\"Float64\">Float64</th><th title=\"Float64\">Float64</th><th title=\"Float64\">Float64</th><th title=\"Float64\">Float64</th><th title=\"Float64\">Float64</th><th title=\"Float64\">Float64</th><th title=\"Float64\">Float64</th></tr></thead><tbody><tr><th>1</th><td>0.524836</td><td>0.72675</td><td>0.474059</td><td>0.521572</td><td>0.460615</td><td>0.493288</td><td>0.62556</td><td>0.000997819</td></tr></tbody></table></div>"
      ],
      "text/latex": [
       "\\begin{tabular}{r|ccccccccc}\n",
       "\t& x1 & x2 & x3 & x4 & x5 & x6 & x7 & x8 & \\\\\n",
       "\t\\hline\n",
       "\t& Float64 & Float64 & Float64 & Float64 & Float64 & Float64 & Float64 & Float64 & \\\\\n",
       "\t\\hline\n",
       "\t1 & 0.524836 & 0.72675 & 0.474059 & 0.521572 & 0.460615 & 0.493288 & 0.62556 & 0.000997819 & $\\dots$ \\\\\n",
       "\\end{tabular}\n"
      ],
      "text/plain": [
       "\u001b[1mDataFrameRow\u001b[0m\n",
       "\u001b[1m Row \u001b[0m│\u001b[1m x1       \u001b[0m\u001b[1m x2      \u001b[0m\u001b[1m x3       \u001b[0m\u001b[1m x4       \u001b[0m\u001b[1m x5       \u001b[0m\u001b[1m x6       \u001b[0m\u001b[1m x7      \u001b[0m\u001b[1m x8 \u001b[0m ⋯\n",
       "\u001b[1m     \u001b[0m│\u001b[90m Float64  \u001b[0m\u001b[90m Float64 \u001b[0m\u001b[90m Float64  \u001b[0m\u001b[90m Float64  \u001b[0m\u001b[90m Float64  \u001b[0m\u001b[90m Float64  \u001b[0m\u001b[90m Float64 \u001b[0m\u001b[90m Flo\u001b[0m ⋯\n",
       "─────┼──────────────────────────────────────────────────────────────────────────\n",
       "   1 │ 0.524836  0.72675  0.474059  0.521572  0.460615  0.493288  0.62556  0.0 ⋯\n",
       "\u001b[36m                                                             993 columns omitted\u001b[0m"
      ]
     },
     "execution_count": 21,
     "metadata": {},
     "output_type": "execute_result"
    }
   ],
   "source": [
    "@btime $x[1, :]"
   ]
  },
  {
   "cell_type": "code",
   "execution_count": 22,
   "metadata": {
    "execution": {
     "iopub.execute_input": "2022-07-18T00:54:41.346000Z",
     "iopub.status.busy": "2022-07-18T00:54:41.346000Z",
     "iopub.status.idle": "2022-07-18T00:54:44.337000Z",
     "shell.execute_reply": "2022-07-18T00:54:44.337000Z"
    }
   },
   "outputs": [
    {
     "name": "stdout",
     "output_type": "stream",
     "text": [
      "  17.864 ns (0 allocations: 0 bytes)\n"
     ]
    },
    {
     "data": {
      "text/html": [
       "<div class=\"data-frame\"><p>1 rows × 1,000 columns (omitted printing of 992 columns)</p><table class=\"data-frame\"><thead><tr><th></th><th>x1</th><th>x2</th><th>x3</th><th>x4</th><th>x5</th><th>x6</th><th>x7</th><th>x8</th></tr><tr><th></th><th title=\"Float64\">Float64</th><th title=\"Float64\">Float64</th><th title=\"Float64\">Float64</th><th title=\"Float64\">Float64</th><th title=\"Float64\">Float64</th><th title=\"Float64\">Float64</th><th title=\"Float64\">Float64</th><th title=\"Float64\">Float64</th></tr></thead><tbody><tr><th>1</th><td>0.524836</td><td>0.72675</td><td>0.474059</td><td>0.521572</td><td>0.460615</td><td>0.493288</td><td>0.62556</td><td>0.000997819</td></tr></tbody></table></div>"
      ],
      "text/latex": [
       "\\begin{tabular}{r|ccccccccc}\n",
       "\t& x1 & x2 & x3 & x4 & x5 & x6 & x7 & x8 & \\\\\n",
       "\t\\hline\n",
       "\t& Float64 & Float64 & Float64 & Float64 & Float64 & Float64 & Float64 & Float64 & \\\\\n",
       "\t\\hline\n",
       "\t1 & 0.524836 & 0.72675 & 0.474059 & 0.521572 & 0.460615 & 0.493288 & 0.62556 & 0.000997819 & $\\dots$ \\\\\n",
       "\\end{tabular}\n"
      ],
      "text/plain": [
       "\u001b[1m1×1000 SubDataFrame\u001b[0m\n",
       "\u001b[1m Row \u001b[0m│\u001b[1m x1       \u001b[0m\u001b[1m x2      \u001b[0m\u001b[1m x3       \u001b[0m\u001b[1m x4       \u001b[0m\u001b[1m x5       \u001b[0m\u001b[1m x6       \u001b[0m\u001b[1m x7      \u001b[0m\u001b[1m x8 \u001b[0m ⋯\n",
       "\u001b[1m     \u001b[0m│\u001b[90m Float64  \u001b[0m\u001b[90m Float64 \u001b[0m\u001b[90m Float64  \u001b[0m\u001b[90m Float64  \u001b[0m\u001b[90m Float64  \u001b[0m\u001b[90m Float64  \u001b[0m\u001b[90m Float64 \u001b[0m\u001b[90m Flo\u001b[0m ⋯\n",
       "─────┼──────────────────────────────────────────────────────────────────────────\n",
       "   1 │ 0.524836  0.72675  0.474059  0.521572  0.460615  0.493288  0.62556  0.0 ⋯\n",
       "\u001b[36m                                                             993 columns omitted\u001b[0m"
      ]
     },
     "execution_count": 22,
     "metadata": {},
     "output_type": "execute_result"
    }
   ],
   "source": [
    "@btime view($x, 1:1, :)"
   ]
  },
  {
   "cell_type": "code",
   "execution_count": 23,
   "metadata": {
    "execution": {
     "iopub.execute_input": "2022-07-18T00:54:44.340000Z",
     "iopub.status.busy": "2022-07-18T00:54:44.340000Z",
     "iopub.status.idle": "2022-07-18T00:54:48.596000Z",
     "shell.execute_reply": "2022-07-18T00:54:48.596000Z"
    }
   },
   "outputs": [
    {
     "name": "stdout",
     "output_type": "stream",
     "text": [
      "  3.643 μs (50 allocations: 4.22 KiB)\n"
     ]
    },
    {
     "data": {
      "text/html": [
       "<div class=\"data-frame\"><p>1 rows × 20 columns (omitted printing of 12 columns)</p><table class=\"data-frame\"><thead><tr><th></th><th>x1</th><th>x2</th><th>x3</th><th>x4</th><th>x5</th><th>x6</th><th>x7</th><th>x8</th></tr><tr><th></th><th title=\"Float64\">Float64</th><th title=\"Float64\">Float64</th><th title=\"Float64\">Float64</th><th title=\"Float64\">Float64</th><th title=\"Float64\">Float64</th><th title=\"Float64\">Float64</th><th title=\"Float64\">Float64</th><th title=\"Float64\">Float64</th></tr></thead><tbody><tr><th>1</th><td>0.524836</td><td>0.72675</td><td>0.474059</td><td>0.521572</td><td>0.460615</td><td>0.493288</td><td>0.62556</td><td>0.000997819</td></tr></tbody></table></div>"
      ],
      "text/latex": [
       "\\begin{tabular}{r|ccccccccc}\n",
       "\t& x1 & x2 & x3 & x4 & x5 & x6 & x7 & x8 & \\\\\n",
       "\t\\hline\n",
       "\t& Float64 & Float64 & Float64 & Float64 & Float64 & Float64 & Float64 & Float64 & \\\\\n",
       "\t\\hline\n",
       "\t1 & 0.524836 & 0.72675 & 0.474059 & 0.521572 & 0.460615 & 0.493288 & 0.62556 & 0.000997819 & $\\dots$ \\\\\n",
       "\\end{tabular}\n"
      ],
      "text/plain": [
       "\u001b[1m1×20 DataFrame\u001b[0m\n",
       "\u001b[1m Row \u001b[0m│\u001b[1m x1       \u001b[0m\u001b[1m x2      \u001b[0m\u001b[1m x3       \u001b[0m\u001b[1m x4       \u001b[0m\u001b[1m x5       \u001b[0m\u001b[1m x6       \u001b[0m\u001b[1m x7      \u001b[0m\u001b[1m x8 \u001b[0m ⋯\n",
       "\u001b[1m     \u001b[0m│\u001b[90m Float64  \u001b[0m\u001b[90m Float64 \u001b[0m\u001b[90m Float64  \u001b[0m\u001b[90m Float64  \u001b[0m\u001b[90m Float64  \u001b[0m\u001b[90m Float64  \u001b[0m\u001b[90m Float64 \u001b[0m\u001b[90m Flo\u001b[0m ⋯\n",
       "─────┼──────────────────────────────────────────────────────────────────────────\n",
       "   1 │ 0.524836  0.72675  0.474059  0.521572  0.460615  0.493288  0.62556  0.0 ⋯\n",
       "\u001b[36m                                                              13 columns omitted\u001b[0m"
      ]
     },
     "execution_count": 23,
     "metadata": {},
     "output_type": "execute_result"
    }
   ],
   "source": [
    "@btime $x[1:1, 1:20]"
   ]
  },
  {
   "cell_type": "code",
   "execution_count": 24,
   "metadata": {
    "execution": {
     "iopub.execute_input": "2022-07-18T00:54:48.599000Z",
     "iopub.status.busy": "2022-07-18T00:54:48.598000Z",
     "iopub.status.idle": "2022-07-18T00:54:51.854000Z",
     "shell.execute_reply": "2022-07-18T00:54:51.854000Z"
    }
   },
   "outputs": [
    {
     "name": "stdout",
     "output_type": "stream",
     "text": [
      "  19.097 ns (0 allocations: 0 bytes)\n"
     ]
    },
    {
     "data": {
      "text/html": [
       "<p>DataFrameRow (20 columns)</p><div class=\"data-frame\"><table class=\"data-frame\"><thead><tr><th></th><th>x1</th><th>x2</th><th>x3</th><th>x4</th><th>x5</th><th>x6</th><th>x7</th><th>x8</th></tr><tr><th></th><th title=\"Float64\">Float64</th><th title=\"Float64\">Float64</th><th title=\"Float64\">Float64</th><th title=\"Float64\">Float64</th><th title=\"Float64\">Float64</th><th title=\"Float64\">Float64</th><th title=\"Float64\">Float64</th><th title=\"Float64\">Float64</th></tr></thead><tbody><tr><th>1</th><td>0.524836</td><td>0.72675</td><td>0.474059</td><td>0.521572</td><td>0.460615</td><td>0.493288</td><td>0.62556</td><td>0.000997819</td></tr></tbody></table></div>"
      ],
      "text/latex": [
       "\\begin{tabular}{r|ccccccccc}\n",
       "\t& x1 & x2 & x3 & x4 & x5 & x6 & x7 & x8 & \\\\\n",
       "\t\\hline\n",
       "\t& Float64 & Float64 & Float64 & Float64 & Float64 & Float64 & Float64 & Float64 & \\\\\n",
       "\t\\hline\n",
       "\t1 & 0.524836 & 0.72675 & 0.474059 & 0.521572 & 0.460615 & 0.493288 & 0.62556 & 0.000997819 & $\\dots$ \\\\\n",
       "\\end{tabular}\n"
      ],
      "text/plain": [
       "\u001b[1mDataFrameRow\u001b[0m\n",
       "\u001b[1m Row \u001b[0m│\u001b[1m x1       \u001b[0m\u001b[1m x2      \u001b[0m\u001b[1m x3       \u001b[0m\u001b[1m x4       \u001b[0m\u001b[1m x5       \u001b[0m\u001b[1m x6       \u001b[0m\u001b[1m x7      \u001b[0m\u001b[1m x8 \u001b[0m ⋯\n",
       "\u001b[1m     \u001b[0m│\u001b[90m Float64  \u001b[0m\u001b[90m Float64 \u001b[0m\u001b[90m Float64  \u001b[0m\u001b[90m Float64  \u001b[0m\u001b[90m Float64  \u001b[0m\u001b[90m Float64  \u001b[0m\u001b[90m Float64 \u001b[0m\u001b[90m Flo\u001b[0m ⋯\n",
       "─────┼──────────────────────────────────────────────────────────────────────────\n",
       "   1 │ 0.524836  0.72675  0.474059  0.521572  0.460615  0.493288  0.62556  0.0 ⋯\n",
       "\u001b[36m                                                              13 columns omitted\u001b[0m"
      ]
     },
     "execution_count": 24,
     "metadata": {},
     "output_type": "execute_result"
    }
   ],
   "source": [
    "@btime $x[1, 1:20]"
   ]
  },
  {
   "cell_type": "code",
   "execution_count": 25,
   "metadata": {
    "execution": {
     "iopub.execute_input": "2022-07-18T00:54:51.857000Z",
     "iopub.status.busy": "2022-07-18T00:54:51.857000Z",
     "iopub.status.idle": "2022-07-18T00:54:55.265000Z",
     "shell.execute_reply": "2022-07-18T00:54:55.265000Z"
    }
   },
   "outputs": [
    {
     "name": "stdout",
     "output_type": "stream",
     "text": [
      "  18.184 ns (0 allocations: 0 bytes)\n"
     ]
    },
    {
     "data": {
      "text/html": [
       "<div class=\"data-frame\"><p>1 rows × 20 columns (omitted printing of 12 columns)</p><table class=\"data-frame\"><thead><tr><th></th><th>x1</th><th>x2</th><th>x3</th><th>x4</th><th>x5</th><th>x6</th><th>x7</th><th>x8</th></tr><tr><th></th><th title=\"Float64\">Float64</th><th title=\"Float64\">Float64</th><th title=\"Float64\">Float64</th><th title=\"Float64\">Float64</th><th title=\"Float64\">Float64</th><th title=\"Float64\">Float64</th><th title=\"Float64\">Float64</th><th title=\"Float64\">Float64</th></tr></thead><tbody><tr><th>1</th><td>0.524836</td><td>0.72675</td><td>0.474059</td><td>0.521572</td><td>0.460615</td><td>0.493288</td><td>0.62556</td><td>0.000997819</td></tr></tbody></table></div>"
      ],
      "text/latex": [
       "\\begin{tabular}{r|ccccccccc}\n",
       "\t& x1 & x2 & x3 & x4 & x5 & x6 & x7 & x8 & \\\\\n",
       "\t\\hline\n",
       "\t& Float64 & Float64 & Float64 & Float64 & Float64 & Float64 & Float64 & Float64 & \\\\\n",
       "\t\\hline\n",
       "\t1 & 0.524836 & 0.72675 & 0.474059 & 0.521572 & 0.460615 & 0.493288 & 0.62556 & 0.000997819 & $\\dots$ \\\\\n",
       "\\end{tabular}\n"
      ],
      "text/plain": [
       "\u001b[1m1×20 SubDataFrame\u001b[0m\n",
       "\u001b[1m Row \u001b[0m│\u001b[1m x1       \u001b[0m\u001b[1m x2      \u001b[0m\u001b[1m x3       \u001b[0m\u001b[1m x4       \u001b[0m\u001b[1m x5       \u001b[0m\u001b[1m x6       \u001b[0m\u001b[1m x7      \u001b[0m\u001b[1m x8 \u001b[0m ⋯\n",
       "\u001b[1m     \u001b[0m│\u001b[90m Float64  \u001b[0m\u001b[90m Float64 \u001b[0m\u001b[90m Float64  \u001b[0m\u001b[90m Float64  \u001b[0m\u001b[90m Float64  \u001b[0m\u001b[90m Float64  \u001b[0m\u001b[90m Float64 \u001b[0m\u001b[90m Flo\u001b[0m ⋯\n",
       "─────┼──────────────────────────────────────────────────────────────────────────\n",
       "   1 │ 0.524836  0.72675  0.474059  0.521572  0.460615  0.493288  0.62556  0.0 ⋯\n",
       "\u001b[36m                                                              13 columns omitted\u001b[0m"
      ]
     },
     "execution_count": 25,
     "metadata": {},
     "output_type": "execute_result"
    }
   ],
   "source": [
    "@btime view($x, 1:1, 1:20)"
   ]
  }
 ],
 "metadata": {
  "@webio": {
   "lastCommId": null,
   "lastKernelId": null
  },
  "kernelspec": {
   "display_name": "Julia 1.7.2",
   "language": "julia",
   "name": "julia-1.7"
  },
  "language_info": {
   "file_extension": ".jl",
   "mimetype": "application/julia",
   "name": "julia",
   "version": "1.7.3"
  }
 },
 "nbformat": 4,
 "nbformat_minor": 1
}
