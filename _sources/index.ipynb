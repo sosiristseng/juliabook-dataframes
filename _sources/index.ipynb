{
 "cells": [
  {
   "cell_type": "markdown",
   "metadata": {},
   "source": [
    "# Julia DataFrames Example\n",
    "\n",
    "A brief introduction to basic usage of [DataFrames](https://github.com/JuliaData/DataFrames.jl), by [Bogumił Kamiński](http://bogumilkaminski.pl/about/) in <https://github.com/bkamins/Julia-DataFrames-Tutorial/>, *December 12, 2021*.\n",
    "\n",
    "The tutorial contains a specification of the project environment version under\n",
    "which it should be run. In order to prepare this environment, before using the\n",
    "tutorial notebooks, while in the project folder run the following command in the\n",
    "command line:\n",
    "\n",
    "```\n",
    "julia -e 'using Pkg; Pkg.activate(\".\"); Pkg.instantiate()'\n",
    "```"
   ]
  },
  {
   "cell_type": "markdown",
   "metadata": {},
   "source": [
    "## Runtime information"
   ]
  },
  {
   "cell_type": "code",
   "execution_count": 1,
   "metadata": {
    "execution": {
     "iopub.execute_input": "2022-07-18T00:51:23.442000Z",
     "iopub.status.busy": "2022-07-18T00:51:23.006000Z",
     "iopub.status.idle": "2022-07-18T00:51:24.479000Z",
     "shell.execute_reply": "2022-07-18T00:51:24.409000Z"
    }
   },
   "outputs": [
    {
     "name": "stdout",
     "output_type": "stream",
     "text": [
      "Julia Version 1.7.3\n",
      "Commit 742b9abb4d (2022-05-06 12:58 UTC)\n",
      "Platform Info:\n",
      "  OS: Linux (x86_64-pc-linux-gnu)\n",
      "  CPU: AMD EPYC 7B13\n",
      "  WORD_SIZE: 64\n",
      "  LIBM: libopenlibm\n",
      "  LLVM: libLLVM-12.0.1 (ORCJIT, znver3)\n",
      "Environment:\n",
      "  JULIA_PATH = /usr/local/julia/\n"
     ]
    }
   ],
   "source": [
    "versioninfo()"
   ]
  },
  {
   "cell_type": "code",
   "execution_count": 2,
   "metadata": {
    "execution": {
     "iopub.execute_input": "2022-07-18T00:51:24.507000Z",
     "iopub.status.busy": "2022-07-18T00:51:24.507000Z",
     "iopub.status.idle": "2022-07-18T00:51:26.138000Z",
     "shell.execute_reply": "2022-07-18T00:51:26.138000Z"
    }
   },
   "outputs": [
    {
     "name": "stdout",
     "output_type": "stream",
     "text": [
      "\u001b[32m\u001b[1m      Status\u001b[22m\u001b[39m `/tmp/cirrus-ci-build/Project.toml`\n",
      " \u001b[90m [69666777] \u001b[39mArrow v2.3.0\n",
      " \u001b[90m [6e4b80f9] \u001b[39mBenchmarkTools v1.3.1\n",
      " \u001b[90m [336ed68f] \u001b[39mCSV v0.10.4\n",
      " \u001b[90m [324d7699] \u001b[39mCategoricalArrays v0.10.6\n",
      " \u001b[90m [8be319e6] \u001b[39mChain v0.5.0\n",
      " \u001b[90m [944b1d66] \u001b[39mCodecZlib v0.7.0\n",
      " \u001b[90m [a93c6f00] \u001b[39mDataFrames v1.3.4\n",
      " \u001b[90m [1313f7d8] \u001b[39mDataFramesMeta v0.12.0\n",
      " \u001b[90m [5789e2e9] \u001b[39mFileIO v1.14.0\n",
      " \u001b[90m [da1fdf0e] \u001b[39mFreqTables v0.4.5\n",
      " \u001b[90m [babc3d20] \u001b[39mJDF v0.5.1\n",
      " \u001b[90m [9da8a3cd] \u001b[39mJLSO v2.7.0\n",
      " \u001b[90m [b9914132] \u001b[39mJSONTables v1.0.3\n",
      " \u001b[90m [86f7a689] \u001b[39mNamedArrays v0.9.6\n",
      " \u001b[90m [2dfb63ee] \u001b[39mPooledArrays v1.4.2\n",
      " \u001b[90m [f3b207a7] \u001b[39mStatsPlots v0.15.0\n",
      " \u001b[90m [bd369af6] \u001b[39mTables v1.7.0\n",
      " \u001b[90m [a5390f91] \u001b[39mZipFile v0.10.0\n",
      " \u001b[90m [9a3f8284] \u001b[39mRandom\n",
      " \u001b[90m [10745b16] \u001b[39mStatistics\n"
     ]
    }
   ],
   "source": [
    "using Pkg\n",
    "Pkg.status()"
   ]
  }
 ],
 "metadata": {
  "kernelspec": {
   "display_name": "Julia 1.7.3",
   "language": "julia",
   "name": "julia-1.7"
  },
  "language_info": {
   "file_extension": ".jl",
   "mimetype": "application/julia",
   "name": "julia",
   "version": "1.7.3"
  }
 },
 "nbformat": 4,
 "nbformat_minor": 2
}
