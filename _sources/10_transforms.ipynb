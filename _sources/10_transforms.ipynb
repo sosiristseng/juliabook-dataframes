{
 "cells": [
  {
   "cell_type": "markdown",
   "metadata": {},
   "source": [
    "# Transformation to DataFrames\n",
    "\n",
    "> Split-apply-combine"
   ]
  },
  {
   "cell_type": "code",
   "execution_count": 1,
   "metadata": {
    "execution": {
     "iopub.execute_input": "2022-07-18T00:51:35.365000Z",
     "iopub.status.busy": "2022-07-18T00:51:34.925000Z",
     "iopub.status.idle": "2022-07-18T00:51:36.912000Z",
     "shell.execute_reply": "2022-07-18T00:51:36.806000Z"
    }
   },
   "outputs": [],
   "source": [
    "using DataFrames"
   ]
  },
  {
   "cell_type": "markdown",
   "metadata": {},
   "source": [
    "## Grouping a data frame"
   ]
  },
  {
   "cell_type": "code",
   "execution_count": 2,
   "metadata": {
    "execution": {
     "iopub.execute_input": "2022-07-18T00:51:36.915000Z",
     "iopub.status.busy": "2022-07-18T00:51:36.915000Z",
     "iopub.status.idle": "2022-07-18T00:51:41.869000Z",
     "shell.execute_reply": "2022-07-18T00:51:41.868000Z"
    },
    "scrolled": true
   },
   "outputs": [
    {
     "data": {
      "text/html": [
       "<div class=\"data-frame\"><p>8 rows × 3 columns</p><table class=\"data-frame\"><thead><tr><th></th><th>id</th><th>id2</th><th>v</th></tr><tr><th></th><th title=\"Int64\">Int64</th><th title=\"Int64\">Int64</th><th title=\"Float64\">Float64</th></tr></thead><tbody><tr><th>1</th><td>1</td><td>1</td><td>0.999201</td></tr><tr><th>2</th><td>2</td><td>2</td><td>0.510328</td></tr><tr><th>3</th><td>3</td><td>1</td><td>0.322009</td></tr><tr><th>4</th><td>4</td><td>2</td><td>0.628714</td></tr><tr><th>5</th><td>1</td><td>1</td><td>0.785066</td></tr><tr><th>6</th><td>2</td><td>2</td><td>0.472677</td></tr><tr><th>7</th><td>3</td><td>1</td><td>0.539348</td></tr><tr><th>8</th><td>4</td><td>2</td><td>0.816879</td></tr></tbody></table></div>"
      ],
      "text/latex": [
       "\\begin{tabular}{r|ccc}\n",
       "\t& id & id2 & v\\\\\n",
       "\t\\hline\n",
       "\t& Int64 & Int64 & Float64\\\\\n",
       "\t\\hline\n",
       "\t1 & 1 & 1 & 0.999201 \\\\\n",
       "\t2 & 2 & 2 & 0.510328 \\\\\n",
       "\t3 & 3 & 1 & 0.322009 \\\\\n",
       "\t4 & 4 & 2 & 0.628714 \\\\\n",
       "\t5 & 1 & 1 & 0.785066 \\\\\n",
       "\t6 & 2 & 2 & 0.472677 \\\\\n",
       "\t7 & 3 & 1 & 0.539348 \\\\\n",
       "\t8 & 4 & 2 & 0.816879 \\\\\n",
       "\\end{tabular}\n"
      ],
      "text/plain": [
       "\u001b[1m8×3 DataFrame\u001b[0m\n",
       "\u001b[1m Row \u001b[0m│\u001b[1m id    \u001b[0m\u001b[1m id2   \u001b[0m\u001b[1m v        \u001b[0m\n",
       "\u001b[1m     \u001b[0m│\u001b[90m Int64 \u001b[0m\u001b[90m Int64 \u001b[0m\u001b[90m Float64  \u001b[0m\n",
       "─────┼────────────────────────\n",
       "   1 │     1      1  0.999201\n",
       "   2 │     2      2  0.510328\n",
       "   3 │     3      1  0.322009\n",
       "   4 │     4      2  0.628714\n",
       "   5 │     1      1  0.785066\n",
       "   6 │     2      2  0.472677\n",
       "   7 │     3      1  0.539348\n",
       "   8 │     4      2  0.816879"
      ]
     },
     "execution_count": 2,
     "metadata": {},
     "output_type": "execute_result"
    }
   ],
   "source": [
    "x = DataFrame(id=[1,2,3,4,1,2,3,4], id2=[1,2,1,2,1,2,1,2], v=rand(8))"
   ]
  },
  {
   "cell_type": "code",
   "execution_count": 3,
   "metadata": {
    "execution": {
     "iopub.execute_input": "2022-07-18T00:51:41.895000Z",
     "iopub.status.busy": "2022-07-18T00:51:41.894000Z",
     "iopub.status.idle": "2022-07-18T00:51:45.763000Z",
     "shell.execute_reply": "2022-07-18T00:51:45.763000Z"
    },
    "scrolled": false
   },
   "outputs": [
    {
     "data": {
      "text/html": [
       "<p><b>GroupedDataFrame with 4 groups based on key: id</b></p><p><i>First Group (2 rows): id = 1</i></p><div class=\"data-frame\"><table class=\"data-frame\"><thead><tr><th></th><th>id</th><th>id2</th><th>v</th></tr><tr><th></th><th title=\"Int64\">Int64</th><th title=\"Int64\">Int64</th><th title=\"Float64\">Float64</th></tr></thead><tbody><tr><th>1</th><td>1</td><td>1</td><td>0.999201</td></tr><tr><th>2</th><td>1</td><td>1</td><td>0.785066</td></tr></tbody></table></div><p>&vellip;</p><p><i>Last Group (2 rows): id = 4</i></p><div class=\"data-frame\"><table class=\"data-frame\"><thead><tr><th></th><th>id</th><th>id2</th><th>v</th></tr><tr><th></th><th title=\"Int64\">Int64</th><th title=\"Int64\">Int64</th><th title=\"Float64\">Float64</th></tr></thead><tbody><tr><th>1</th><td>4</td><td>2</td><td>0.628714</td></tr><tr><th>2</th><td>4</td><td>2</td><td>0.816879</td></tr></tbody></table></div>"
      ],
      "text/latex": [
       "GroupedDataFrame with 4 groups based on key: id\n",
       "\n",
       "First Group (2 rows): id = 1\n",
       "\n",
       "\\begin{tabular}{r|ccc}\n",
       "\t& id & id2 & v\\\\\n",
       "\t\\hline\n",
       "\t& Int64 & Int64 & Float64\\\\\n",
       "\t\\hline\n",
       "\t1 & 1 & 1 & 0.999201 \\\\\n",
       "\t2 & 1 & 1 & 0.785066 \\\\\n",
       "\\end{tabular}\n",
       "\n",
       "$\\dots$\n",
       "\n",
       "Last Group (2 rows): id = 4\n",
       "\n",
       "\\begin{tabular}{r|ccc}\n",
       "\t& id & id2 & v\\\\\n",
       "\t\\hline\n",
       "\t& Int64 & Int64 & Float64\\\\\n",
       "\t\\hline\n",
       "\t1 & 4 & 2 & 0.628714 \\\\\n",
       "\t2 & 4 & 2 & 0.816879 \\\\\n",
       "\\end{tabular}\n"
      ],
      "text/plain": [
       "GroupedDataFrame with 4 groups based on key: id\n",
       "First Group (2 rows): id = 1\n",
       "\u001b[1m Row \u001b[0m│\u001b[1m id    \u001b[0m\u001b[1m id2   \u001b[0m\u001b[1m v        \u001b[0m\n",
       "\u001b[1m     \u001b[0m│\u001b[90m Int64 \u001b[0m\u001b[90m Int64 \u001b[0m\u001b[90m Float64  \u001b[0m\n",
       "─────┼────────────────────────\n",
       "   1 │     1      1  0.999201\n",
       "   2 │     1      1  0.785066\n",
       "⋮\n",
       "Last Group (2 rows): id = 4\n",
       "\u001b[1m Row \u001b[0m│\u001b[1m id    \u001b[0m\u001b[1m id2   \u001b[0m\u001b[1m v        \u001b[0m\n",
       "\u001b[1m     \u001b[0m│\u001b[90m Int64 \u001b[0m\u001b[90m Int64 \u001b[0m\u001b[90m Float64  \u001b[0m\n",
       "─────┼────────────────────────\n",
       "   1 │     4      2  0.628714\n",
       "   2 │     4      2  0.816879"
      ]
     },
     "execution_count": 3,
     "metadata": {},
     "output_type": "execute_result"
    }
   ],
   "source": [
    "groupby(x, :id)"
   ]
  },
  {
   "cell_type": "code",
   "execution_count": 4,
   "metadata": {
    "execution": {
     "iopub.execute_input": "2022-07-18T00:51:45.767000Z",
     "iopub.status.busy": "2022-07-18T00:51:45.767000Z",
     "iopub.status.idle": "2022-07-18T00:51:45.855000Z",
     "shell.execute_reply": "2022-07-18T00:51:45.855000Z"
    }
   },
   "outputs": [
    {
     "data": {
      "text/html": [
       "<p><b>GroupedDataFrame with 1 group based on key: </b></p><p><i>First Group (8 rows): </i></p><div class=\"data-frame\"><table class=\"data-frame\"><thead><tr><th></th><th>id</th><th>id2</th><th>v</th></tr><tr><th></th><th title=\"Int64\">Int64</th><th title=\"Int64\">Int64</th><th title=\"Float64\">Float64</th></tr></thead><tbody><tr><th>1</th><td>1</td><td>1</td><td>0.999201</td></tr><tr><th>2</th><td>2</td><td>2</td><td>0.510328</td></tr><tr><th>3</th><td>3</td><td>1</td><td>0.322009</td></tr><tr><th>4</th><td>4</td><td>2</td><td>0.628714</td></tr><tr><th>5</th><td>1</td><td>1</td><td>0.785066</td></tr><tr><th>6</th><td>2</td><td>2</td><td>0.472677</td></tr><tr><th>7</th><td>3</td><td>1</td><td>0.539348</td></tr><tr><th>8</th><td>4</td><td>2</td><td>0.816879</td></tr></tbody></table></div>"
      ],
      "text/latex": [
       "GroupedDataFrame with 1 group based on key: \n",
       "\n",
       "First Group (8 rows): \n",
       "\n",
       "\\begin{tabular}{r|ccc}\n",
       "\t& id & id2 & v\\\\\n",
       "\t\\hline\n",
       "\t& Int64 & Int64 & Float64\\\\\n",
       "\t\\hline\n",
       "\t1 & 1 & 1 & 0.999201 \\\\\n",
       "\t2 & 2 & 2 & 0.510328 \\\\\n",
       "\t3 & 3 & 1 & 0.322009 \\\\\n",
       "\t4 & 4 & 2 & 0.628714 \\\\\n",
       "\t5 & 1 & 1 & 0.785066 \\\\\n",
       "\t6 & 2 & 2 & 0.472677 \\\\\n",
       "\t7 & 3 & 1 & 0.539348 \\\\\n",
       "\t8 & 4 & 2 & 0.816879 \\\\\n",
       "\\end{tabular}\n"
      ],
      "text/plain": [
       "GroupedDataFrame with 1 group based on key: \n",
       "First Group (8 rows): \n",
       "\u001b[1m Row \u001b[0m│\u001b[1m id    \u001b[0m\u001b[1m id2   \u001b[0m\u001b[1m v        \u001b[0m\n",
       "\u001b[1m     \u001b[0m│\u001b[90m Int64 \u001b[0m\u001b[90m Int64 \u001b[0m\u001b[90m Float64  \u001b[0m\n",
       "─────┼────────────────────────\n",
       "   1 │     1      1  0.999201\n",
       "   2 │     2      2  0.510328\n",
       "   3 │     3      1  0.322009\n",
       "   4 │     4      2  0.628714\n",
       "   5 │     1      1  0.785066\n",
       "   6 │     2      2  0.472677\n",
       "   7 │     3      1  0.539348\n",
       "   8 │     4      2  0.816879"
      ]
     },
     "execution_count": 4,
     "metadata": {},
     "output_type": "execute_result"
    }
   ],
   "source": [
    "groupby(x, [])"
   ]
  },
  {
   "cell_type": "code",
   "execution_count": 5,
   "metadata": {
    "execution": {
     "iopub.execute_input": "2022-07-18T00:51:45.858000Z",
     "iopub.status.busy": "2022-07-18T00:51:45.858000Z",
     "iopub.status.idle": "2022-07-18T00:51:46.421000Z",
     "shell.execute_reply": "2022-07-18T00:51:46.421000Z"
    }
   },
   "outputs": [
    {
     "data": {
      "text/html": [
       "<p><b>GroupedDataFrame with 4 groups based on keys: id, id2</b></p><p><i>First Group (2 rows): id = 1, id2 = 1</i></p><div class=\"data-frame\"><table class=\"data-frame\"><thead><tr><th></th><th>id</th><th>id2</th><th>v</th></tr><tr><th></th><th title=\"Int64\">Int64</th><th title=\"Int64\">Int64</th><th title=\"Float64\">Float64</th></tr></thead><tbody><tr><th>1</th><td>1</td><td>1</td><td>0.999201</td></tr><tr><th>2</th><td>1</td><td>1</td><td>0.785066</td></tr></tbody></table></div><p>&vellip;</p><p><i>Last Group (2 rows): id = 4, id2 = 2</i></p><div class=\"data-frame\"><table class=\"data-frame\"><thead><tr><th></th><th>id</th><th>id2</th><th>v</th></tr><tr><th></th><th title=\"Int64\">Int64</th><th title=\"Int64\">Int64</th><th title=\"Float64\">Float64</th></tr></thead><tbody><tr><th>1</th><td>4</td><td>2</td><td>0.628714</td></tr><tr><th>2</th><td>4</td><td>2</td><td>0.816879</td></tr></tbody></table></div>"
      ],
      "text/latex": [
       "GroupedDataFrame with 4 groups based on keys: id, id2\n",
       "\n",
       "First Group (2 rows): id = 1, id2 = 1\n",
       "\n",
       "\\begin{tabular}{r|ccc}\n",
       "\t& id & id2 & v\\\\\n",
       "\t\\hline\n",
       "\t& Int64 & Int64 & Float64\\\\\n",
       "\t\\hline\n",
       "\t1 & 1 & 1 & 0.999201 \\\\\n",
       "\t2 & 1 & 1 & 0.785066 \\\\\n",
       "\\end{tabular}\n",
       "\n",
       "$\\dots$\n",
       "\n",
       "Last Group (2 rows): id = 4, id2 = 2\n",
       "\n",
       "\\begin{tabular}{r|ccc}\n",
       "\t& id & id2 & v\\\\\n",
       "\t\\hline\n",
       "\t& Int64 & Int64 & Float64\\\\\n",
       "\t\\hline\n",
       "\t1 & 4 & 2 & 0.628714 \\\\\n",
       "\t2 & 4 & 2 & 0.816879 \\\\\n",
       "\\end{tabular}\n"
      ],
      "text/plain": [
       "GroupedDataFrame with 4 groups based on keys: id, id2\n",
       "First Group (2 rows): id = 1, id2 = 1\n",
       "\u001b[1m Row \u001b[0m│\u001b[1m id    \u001b[0m\u001b[1m id2   \u001b[0m\u001b[1m v        \u001b[0m\n",
       "\u001b[1m     \u001b[0m│\u001b[90m Int64 \u001b[0m\u001b[90m Int64 \u001b[0m\u001b[90m Float64  \u001b[0m\n",
       "─────┼────────────────────────\n",
       "   1 │     1      1  0.999201\n",
       "   2 │     1      1  0.785066\n",
       "⋮\n",
       "Last Group (2 rows): id = 4, id2 = 2\n",
       "\u001b[1m Row \u001b[0m│\u001b[1m id    \u001b[0m\u001b[1m id2   \u001b[0m\u001b[1m v        \u001b[0m\n",
       "\u001b[1m     \u001b[0m│\u001b[90m Int64 \u001b[0m\u001b[90m Int64 \u001b[0m\u001b[90m Float64  \u001b[0m\n",
       "─────┼────────────────────────\n",
       "   1 │     4      2  0.628714\n",
       "   2 │     4      2  0.816879"
      ]
     },
     "execution_count": 5,
     "metadata": {},
     "output_type": "execute_result"
    }
   ],
   "source": [
    "gx2 = groupby(x, [:id, :id2])"
   ]
  },
  {
   "cell_type": "code",
   "execution_count": 6,
   "metadata": {
    "execution": {
     "iopub.execute_input": "2022-07-18T00:51:46.425000Z",
     "iopub.status.busy": "2022-07-18T00:51:46.425000Z",
     "iopub.status.idle": "2022-07-18T00:51:46.431000Z",
     "shell.execute_reply": "2022-07-18T00:51:46.431000Z"
    }
   },
   "outputs": [
    {
     "data": {
      "text/html": [
       "<div class=\"data-frame\"><p>8 rows × 3 columns</p><table class=\"data-frame\"><thead><tr><th></th><th>id</th><th>id2</th><th>v</th></tr><tr><th></th><th title=\"Int64\">Int64</th><th title=\"Int64\">Int64</th><th title=\"Float64\">Float64</th></tr></thead><tbody><tr><th>1</th><td>1</td><td>1</td><td>0.999201</td></tr><tr><th>2</th><td>2</td><td>2</td><td>0.510328</td></tr><tr><th>3</th><td>3</td><td>1</td><td>0.322009</td></tr><tr><th>4</th><td>4</td><td>2</td><td>0.628714</td></tr><tr><th>5</th><td>1</td><td>1</td><td>0.785066</td></tr><tr><th>6</th><td>2</td><td>2</td><td>0.472677</td></tr><tr><th>7</th><td>3</td><td>1</td><td>0.539348</td></tr><tr><th>8</th><td>4</td><td>2</td><td>0.816879</td></tr></tbody></table></div>"
      ],
      "text/latex": [
       "\\begin{tabular}{r|ccc}\n",
       "\t& id & id2 & v\\\\\n",
       "\t\\hline\n",
       "\t& Int64 & Int64 & Float64\\\\\n",
       "\t\\hline\n",
       "\t1 & 1 & 1 & 0.999201 \\\\\n",
       "\t2 & 2 & 2 & 0.510328 \\\\\n",
       "\t3 & 3 & 1 & 0.322009 \\\\\n",
       "\t4 & 4 & 2 & 0.628714 \\\\\n",
       "\t5 & 1 & 1 & 0.785066 \\\\\n",
       "\t6 & 2 & 2 & 0.472677 \\\\\n",
       "\t7 & 3 & 1 & 0.539348 \\\\\n",
       "\t8 & 4 & 2 & 0.816879 \\\\\n",
       "\\end{tabular}\n"
      ],
      "text/plain": [
       "\u001b[1m8×3 DataFrame\u001b[0m\n",
       "\u001b[1m Row \u001b[0m│\u001b[1m id    \u001b[0m\u001b[1m id2   \u001b[0m\u001b[1m v        \u001b[0m\n",
       "\u001b[1m     \u001b[0m│\u001b[90m Int64 \u001b[0m\u001b[90m Int64 \u001b[0m\u001b[90m Float64  \u001b[0m\n",
       "─────┼────────────────────────\n",
       "   1 │     1      1  0.999201\n",
       "   2 │     2      2  0.510328\n",
       "   3 │     3      1  0.322009\n",
       "   4 │     4      2  0.628714\n",
       "   5 │     1      1  0.785066\n",
       "   6 │     2      2  0.472677\n",
       "   7 │     3      1  0.539348\n",
       "   8 │     4      2  0.816879"
      ]
     },
     "execution_count": 6,
     "metadata": {},
     "output_type": "execute_result"
    }
   ],
   "source": [
    "parent(gx2) # get the parent DataFrame "
   ]
  },
  {
   "cell_type": "code",
   "execution_count": 7,
   "metadata": {
    "execution": {
     "iopub.execute_input": "2022-07-18T00:51:46.435000Z",
     "iopub.status.busy": "2022-07-18T00:51:46.435000Z",
     "iopub.status.idle": "2022-07-18T00:51:47.217000Z",
     "shell.execute_reply": "2022-07-18T00:51:47.217000Z"
    }
   },
   "outputs": [
    {
     "data": {
      "text/html": [
       "<div class=\"data-frame\"><p>8 rows × 3 columns</p><table class=\"data-frame\"><thead><tr><th></th><th>id</th><th>id2</th><th>v</th></tr><tr><th></th><th title=\"Int64\">Int64</th><th title=\"Int64\">Int64</th><th title=\"Float64\">Float64</th></tr></thead><tbody><tr><th>1</th><td>1</td><td>1</td><td>0.999201</td></tr><tr><th>2</th><td>1</td><td>1</td><td>0.785066</td></tr><tr><th>3</th><td>2</td><td>2</td><td>0.510328</td></tr><tr><th>4</th><td>2</td><td>2</td><td>0.472677</td></tr><tr><th>5</th><td>3</td><td>1</td><td>0.322009</td></tr><tr><th>6</th><td>3</td><td>1</td><td>0.539348</td></tr><tr><th>7</th><td>4</td><td>2</td><td>0.628714</td></tr><tr><th>8</th><td>4</td><td>2</td><td>0.816879</td></tr></tbody></table></div>"
      ],
      "text/latex": [
       "\\begin{tabular}{r|ccc}\n",
       "\t& id & id2 & v\\\\\n",
       "\t\\hline\n",
       "\t& Int64 & Int64 & Float64\\\\\n",
       "\t\\hline\n",
       "\t1 & 1 & 1 & 0.999201 \\\\\n",
       "\t2 & 1 & 1 & 0.785066 \\\\\n",
       "\t3 & 2 & 2 & 0.510328 \\\\\n",
       "\t4 & 2 & 2 & 0.472677 \\\\\n",
       "\t5 & 3 & 1 & 0.322009 \\\\\n",
       "\t6 & 3 & 1 & 0.539348 \\\\\n",
       "\t7 & 4 & 2 & 0.628714 \\\\\n",
       "\t8 & 4 & 2 & 0.816879 \\\\\n",
       "\\end{tabular}\n"
      ],
      "text/plain": [
       "\u001b[1m8×3 DataFrame\u001b[0m\n",
       "\u001b[1m Row \u001b[0m│\u001b[1m id    \u001b[0m\u001b[1m id2   \u001b[0m\u001b[1m v        \u001b[0m\n",
       "\u001b[1m     \u001b[0m│\u001b[90m Int64 \u001b[0m\u001b[90m Int64 \u001b[0m\u001b[90m Float64  \u001b[0m\n",
       "─────┼────────────────────────\n",
       "   1 │     1      1  0.999201\n",
       "   2 │     1      1  0.785066\n",
       "   3 │     2      2  0.510328\n",
       "   4 │     2      2  0.472677\n",
       "   5 │     3      1  0.322009\n",
       "   6 │     3      1  0.539348\n",
       "   7 │     4      2  0.628714\n",
       "   8 │     4      2  0.816879"
      ]
     },
     "execution_count": 7,
     "metadata": {},
     "output_type": "execute_result"
    }
   ],
   "source": [
    "vcat(gx2...) # back to the DataFrame, but in a different order of rows than the original"
   ]
  },
  {
   "cell_type": "code",
   "execution_count": 8,
   "metadata": {
    "execution": {
     "iopub.execute_input": "2022-07-18T00:51:47.221000Z",
     "iopub.status.busy": "2022-07-18T00:51:47.220000Z",
     "iopub.status.idle": "2022-07-18T00:51:47.472000Z",
     "shell.execute_reply": "2022-07-18T00:51:47.472000Z"
    }
   },
   "outputs": [
    {
     "data": {
      "text/html": [
       "<div class=\"data-frame\"><p>8 rows × 3 columns</p><table class=\"data-frame\"><thead><tr><th></th><th>id</th><th>id2</th><th>v</th></tr><tr><th></th><th title=\"Int64\">Int64</th><th title=\"Int64\">Int64</th><th title=\"Float64\">Float64</th></tr></thead><tbody><tr><th>1</th><td>1</td><td>1</td><td>0.999201</td></tr><tr><th>2</th><td>1</td><td>1</td><td>0.785066</td></tr><tr><th>3</th><td>2</td><td>2</td><td>0.510328</td></tr><tr><th>4</th><td>2</td><td>2</td><td>0.472677</td></tr><tr><th>5</th><td>3</td><td>1</td><td>0.322009</td></tr><tr><th>6</th><td>3</td><td>1</td><td>0.539348</td></tr><tr><th>7</th><td>4</td><td>2</td><td>0.628714</td></tr><tr><th>8</th><td>4</td><td>2</td><td>0.816879</td></tr></tbody></table></div>"
      ],
      "text/latex": [
       "\\begin{tabular}{r|ccc}\n",
       "\t& id & id2 & v\\\\\n",
       "\t\\hline\n",
       "\t& Int64 & Int64 & Float64\\\\\n",
       "\t\\hline\n",
       "\t1 & 1 & 1 & 0.999201 \\\\\n",
       "\t2 & 1 & 1 & 0.785066 \\\\\n",
       "\t3 & 2 & 2 & 0.510328 \\\\\n",
       "\t4 & 2 & 2 & 0.472677 \\\\\n",
       "\t5 & 3 & 1 & 0.322009 \\\\\n",
       "\t6 & 3 & 1 & 0.539348 \\\\\n",
       "\t7 & 4 & 2 & 0.628714 \\\\\n",
       "\t8 & 4 & 2 & 0.816879 \\\\\n",
       "\\end{tabular}\n"
      ],
      "text/plain": [
       "\u001b[1m8×3 DataFrame\u001b[0m\n",
       "\u001b[1m Row \u001b[0m│\u001b[1m id    \u001b[0m\u001b[1m id2   \u001b[0m\u001b[1m v        \u001b[0m\n",
       "\u001b[1m     \u001b[0m│\u001b[90m Int64 \u001b[0m\u001b[90m Int64 \u001b[0m\u001b[90m Float64  \u001b[0m\n",
       "─────┼────────────────────────\n",
       "   1 │     1      1  0.999201\n",
       "   2 │     1      1  0.785066\n",
       "   3 │     2      2  0.510328\n",
       "   4 │     2      2  0.472677\n",
       "   5 │     3      1  0.322009\n",
       "   6 │     3      1  0.539348\n",
       "   7 │     4      2  0.628714\n",
       "   8 │     4      2  0.816879"
      ]
     },
     "execution_count": 8,
     "metadata": {},
     "output_type": "execute_result"
    }
   ],
   "source": [
    "DataFrame(gx2) # the same"
   ]
  },
  {
   "cell_type": "code",
   "execution_count": 9,
   "metadata": {
    "execution": {
     "iopub.execute_input": "2022-07-18T00:51:47.475000Z",
     "iopub.status.busy": "2022-07-18T00:51:47.475000Z",
     "iopub.status.idle": "2022-07-18T00:51:47.602000Z",
     "shell.execute_reply": "2022-07-18T00:51:47.602000Z"
    }
   },
   "outputs": [
    {
     "data": {
      "text/html": [
       "<div class=\"data-frame\"><p>8 rows × 1 columns</p><table class=\"data-frame\"><thead><tr><th></th><th>v</th></tr><tr><th></th><th title=\"Float64\">Float64</th></tr></thead><tbody><tr><th>1</th><td>0.999201</td></tr><tr><th>2</th><td>0.785066</td></tr><tr><th>3</th><td>0.510328</td></tr><tr><th>4</th><td>0.472677</td></tr><tr><th>5</th><td>0.322009</td></tr><tr><th>6</th><td>0.539348</td></tr><tr><th>7</th><td>0.628714</td></tr><tr><th>8</th><td>0.816879</td></tr></tbody></table></div>"
      ],
      "text/latex": [
       "\\begin{tabular}{r|c}\n",
       "\t& v\\\\\n",
       "\t\\hline\n",
       "\t& Float64\\\\\n",
       "\t\\hline\n",
       "\t1 & 0.999201 \\\\\n",
       "\t2 & 0.785066 \\\\\n",
       "\t3 & 0.510328 \\\\\n",
       "\t4 & 0.472677 \\\\\n",
       "\t5 & 0.322009 \\\\\n",
       "\t6 & 0.539348 \\\\\n",
       "\t7 & 0.628714 \\\\\n",
       "\t8 & 0.816879 \\\\\n",
       "\\end{tabular}\n"
      ],
      "text/plain": [
       "\u001b[1m8×1 DataFrame\u001b[0m\n",
       "\u001b[1m Row \u001b[0m│\u001b[1m v        \u001b[0m\n",
       "\u001b[1m     \u001b[0m│\u001b[90m Float64  \u001b[0m\n",
       "─────┼──────────\n",
       "   1 │ 0.999201\n",
       "   2 │ 0.785066\n",
       "   3 │ 0.510328\n",
       "   4 │ 0.472677\n",
       "   5 │ 0.322009\n",
       "   6 │ 0.539348\n",
       "   7 │ 0.628714\n",
       "   8 │ 0.816879"
      ]
     },
     "execution_count": 9,
     "metadata": {},
     "output_type": "execute_result"
    }
   ],
   "source": [
    "DataFrame(gx2, keepkeys=false) # drop grouping columns when creating a data frame"
   ]
  },
  {
   "cell_type": "code",
   "execution_count": 10,
   "metadata": {
    "execution": {
     "iopub.execute_input": "2022-07-18T00:51:47.606000Z",
     "iopub.status.busy": "2022-07-18T00:51:47.606000Z",
     "iopub.status.idle": "2022-07-18T00:51:48.669000Z",
     "shell.execute_reply": "2022-07-18T00:51:48.669000Z"
    }
   },
   "outputs": [
    {
     "data": {
      "text/plain": [
       "2-element Vector{Symbol}:\n",
       " :id\n",
       " :id2"
      ]
     },
     "execution_count": 10,
     "metadata": {},
     "output_type": "execute_result"
    }
   ],
   "source": [
    "groupcols(gx2) # vector of names of grouping variables"
   ]
  },
  {
   "cell_type": "code",
   "execution_count": 11,
   "metadata": {
    "execution": {
     "iopub.execute_input": "2022-07-18T00:51:48.672000Z",
     "iopub.status.busy": "2022-07-18T00:51:48.672000Z",
     "iopub.status.idle": "2022-07-18T00:51:48.743000Z",
     "shell.execute_reply": "2022-07-18T00:51:48.743000Z"
    }
   },
   "outputs": [
    {
     "data": {
      "text/plain": [
       "1-element Vector{Symbol}:\n",
       " :v"
      ]
     },
     "execution_count": 11,
     "metadata": {},
     "output_type": "execute_result"
    }
   ],
   "source": [
    "valuecols(gx2) # and non-grouping variables"
   ]
  },
  {
   "cell_type": "code",
   "execution_count": 12,
   "metadata": {
    "execution": {
     "iopub.execute_input": "2022-07-18T00:51:48.747000Z",
     "iopub.status.busy": "2022-07-18T00:51:48.747000Z",
     "iopub.status.idle": "2022-07-18T00:51:49.348000Z",
     "shell.execute_reply": "2022-07-18T00:51:49.348000Z"
    }
   },
   "outputs": [
    {
     "data": {
      "text/plain": [
       "8-element Vector{Union{Missing, Int64}}:\n",
       " 1\n",
       " 2\n",
       " 3\n",
       " 4\n",
       " 1\n",
       " 2\n",
       " 3\n",
       " 4"
      ]
     },
     "execution_count": 12,
     "metadata": {},
     "output_type": "execute_result"
    }
   ],
   "source": [
    "groupindices(gx2) # group indices in parent(gx2)"
   ]
  },
  {
   "cell_type": "code",
   "execution_count": 13,
   "metadata": {
    "execution": {
     "iopub.execute_input": "2022-07-18T00:51:49.351000Z",
     "iopub.status.busy": "2022-07-18T00:51:49.351000Z",
     "iopub.status.idle": "2022-07-18T00:51:50.287000Z",
     "shell.execute_reply": "2022-07-18T00:51:50.287000Z"
    }
   },
   "outputs": [
    {
     "data": {
      "text/plain": [
       "4-element DataFrames.GroupKeys{GroupedDataFrame{DataFrame}}:\n",
       " GroupKey: (id = 1, id2 = 1)\n",
       " GroupKey: (id = 2, id2 = 2)\n",
       " GroupKey: (id = 3, id2 = 1)\n",
       " GroupKey: (id = 4, id2 = 2)"
      ]
     },
     "execution_count": 13,
     "metadata": {},
     "output_type": "execute_result"
    }
   ],
   "source": [
    "kgx2 = keys(gx2)"
   ]
  },
  {
   "cell_type": "markdown",
   "metadata": {},
   "source": [
    "You can index into a `GroupedDataFrame` like to a vector or to a dictionary.\n",
    "The second form acceps `GroupKey`, `NamedTuple` or a `Tuple`"
   ]
  },
  {
   "cell_type": "code",
   "execution_count": 14,
   "metadata": {
    "execution": {
     "iopub.execute_input": "2022-07-18T00:51:50.290000Z",
     "iopub.status.busy": "2022-07-18T00:51:50.290000Z",
     "iopub.status.idle": "2022-07-18T00:51:50.292000Z",
     "shell.execute_reply": "2022-07-18T00:51:50.292000Z"
    }
   },
   "outputs": [
    {
     "data": {
      "text/html": [
       "<p><b>GroupedDataFrame with 4 groups based on keys: id, id2</b></p><p><i>First Group (2 rows): id = 1, id2 = 1</i></p><div class=\"data-frame\"><table class=\"data-frame\"><thead><tr><th></th><th>id</th><th>id2</th><th>v</th></tr><tr><th></th><th title=\"Int64\">Int64</th><th title=\"Int64\">Int64</th><th title=\"Float64\">Float64</th></tr></thead><tbody><tr><th>1</th><td>1</td><td>1</td><td>0.999201</td></tr><tr><th>2</th><td>1</td><td>1</td><td>0.785066</td></tr></tbody></table></div><p>&vellip;</p><p><i>Last Group (2 rows): id = 4, id2 = 2</i></p><div class=\"data-frame\"><table class=\"data-frame\"><thead><tr><th></th><th>id</th><th>id2</th><th>v</th></tr><tr><th></th><th title=\"Int64\">Int64</th><th title=\"Int64\">Int64</th><th title=\"Float64\">Float64</th></tr></thead><tbody><tr><th>1</th><td>4</td><td>2</td><td>0.628714</td></tr><tr><th>2</th><td>4</td><td>2</td><td>0.816879</td></tr></tbody></table></div>"
      ],
      "text/latex": [
       "GroupedDataFrame with 4 groups based on keys: id, id2\n",
       "\n",
       "First Group (2 rows): id = 1, id2 = 1\n",
       "\n",
       "\\begin{tabular}{r|ccc}\n",
       "\t& id & id2 & v\\\\\n",
       "\t\\hline\n",
       "\t& Int64 & Int64 & Float64\\\\\n",
       "\t\\hline\n",
       "\t1 & 1 & 1 & 0.999201 \\\\\n",
       "\t2 & 1 & 1 & 0.785066 \\\\\n",
       "\\end{tabular}\n",
       "\n",
       "$\\dots$\n",
       "\n",
       "Last Group (2 rows): id = 4, id2 = 2\n",
       "\n",
       "\\begin{tabular}{r|ccc}\n",
       "\t& id & id2 & v\\\\\n",
       "\t\\hline\n",
       "\t& Int64 & Int64 & Float64\\\\\n",
       "\t\\hline\n",
       "\t1 & 4 & 2 & 0.628714 \\\\\n",
       "\t2 & 4 & 2 & 0.816879 \\\\\n",
       "\\end{tabular}\n"
      ],
      "text/plain": [
       "GroupedDataFrame with 4 groups based on keys: id, id2\n",
       "First Group (2 rows): id = 1, id2 = 1\n",
       "\u001b[1m Row \u001b[0m│\u001b[1m id    \u001b[0m\u001b[1m id2   \u001b[0m\u001b[1m v        \u001b[0m\n",
       "\u001b[1m     \u001b[0m│\u001b[90m Int64 \u001b[0m\u001b[90m Int64 \u001b[0m\u001b[90m Float64  \u001b[0m\n",
       "─────┼────────────────────────\n",
       "   1 │     1      1  0.999201\n",
       "   2 │     1      1  0.785066\n",
       "⋮\n",
       "Last Group (2 rows): id = 4, id2 = 2\n",
       "\u001b[1m Row \u001b[0m│\u001b[1m id    \u001b[0m\u001b[1m id2   \u001b[0m\u001b[1m v        \u001b[0m\n",
       "\u001b[1m     \u001b[0m│\u001b[90m Int64 \u001b[0m\u001b[90m Int64 \u001b[0m\u001b[90m Float64  \u001b[0m\n",
       "─────┼────────────────────────\n",
       "   1 │     4      2  0.628714\n",
       "   2 │     4      2  0.816879"
      ]
     },
     "execution_count": 14,
     "metadata": {},
     "output_type": "execute_result"
    }
   ],
   "source": [
    "gx2"
   ]
  },
  {
   "cell_type": "code",
   "execution_count": 15,
   "metadata": {
    "execution": {
     "iopub.execute_input": "2022-07-18T00:51:50.294000Z",
     "iopub.status.busy": "2022-07-18T00:51:50.293000Z",
     "iopub.status.idle": "2022-07-18T00:51:50.558000Z",
     "shell.execute_reply": "2022-07-18T00:51:50.558000Z"
    }
   },
   "outputs": [
    {
     "data": {
      "text/plain": [
       "GroupKey: (id = 1, id2 = 1)"
      ]
     },
     "execution_count": 15,
     "metadata": {},
     "output_type": "execute_result"
    }
   ],
   "source": [
    "k = keys(gx2)[1]"
   ]
  },
  {
   "cell_type": "code",
   "execution_count": 16,
   "metadata": {
    "execution": {
     "iopub.execute_input": "2022-07-18T00:51:50.562000Z",
     "iopub.status.busy": "2022-07-18T00:51:50.561000Z",
     "iopub.status.idle": "2022-07-18T00:51:50.847000Z",
     "shell.execute_reply": "2022-07-18T00:51:50.847000Z"
    }
   },
   "outputs": [
    {
     "data": {
      "text/plain": [
       "(id = 1, id2 = 1)"
      ]
     },
     "execution_count": 16,
     "metadata": {},
     "output_type": "execute_result"
    }
   ],
   "source": [
    "ntk = NamedTuple(k)"
   ]
  },
  {
   "cell_type": "code",
   "execution_count": 17,
   "metadata": {
    "execution": {
     "iopub.execute_input": "2022-07-18T00:51:50.850000Z",
     "iopub.status.busy": "2022-07-18T00:51:50.850000Z",
     "iopub.status.idle": "2022-07-18T00:51:51.213000Z",
     "shell.execute_reply": "2022-07-18T00:51:51.213000Z"
    }
   },
   "outputs": [
    {
     "data": {
      "text/plain": [
       "(1, 1)"
      ]
     },
     "execution_count": 17,
     "metadata": {},
     "output_type": "execute_result"
    }
   ],
   "source": [
    "tk = Tuple(k)"
   ]
  },
  {
   "cell_type": "markdown",
   "metadata": {},
   "source": [
    "the operations below produce the same result and are fast"
   ]
  },
  {
   "cell_type": "code",
   "execution_count": 18,
   "metadata": {
    "execution": {
     "iopub.execute_input": "2022-07-18T00:51:51.216000Z",
     "iopub.status.busy": "2022-07-18T00:51:51.216000Z",
     "iopub.status.idle": "2022-07-18T00:51:52.412000Z",
     "shell.execute_reply": "2022-07-18T00:51:52.412000Z"
    }
   },
   "outputs": [
    {
     "data": {
      "text/html": [
       "<div class=\"data-frame\"><p>2 rows × 3 columns</p><table class=\"data-frame\"><thead><tr><th></th><th>id</th><th>id2</th><th>v</th></tr><tr><th></th><th title=\"Int64\">Int64</th><th title=\"Int64\">Int64</th><th title=\"Float64\">Float64</th></tr></thead><tbody><tr><th>1</th><td>1</td><td>1</td><td>0.999201</td></tr><tr><th>2</th><td>1</td><td>1</td><td>0.785066</td></tr></tbody></table></div>"
      ],
      "text/latex": [
       "\\begin{tabular}{r|ccc}\n",
       "\t& id & id2 & v\\\\\n",
       "\t\\hline\n",
       "\t& Int64 & Int64 & Float64\\\\\n",
       "\t\\hline\n",
       "\t1 & 1 & 1 & 0.999201 \\\\\n",
       "\t2 & 1 & 1 & 0.785066 \\\\\n",
       "\\end{tabular}\n"
      ],
      "text/plain": [
       "\u001b[1m2×3 SubDataFrame\u001b[0m\n",
       "\u001b[1m Row \u001b[0m│\u001b[1m id    \u001b[0m\u001b[1m id2   \u001b[0m\u001b[1m v        \u001b[0m\n",
       "\u001b[1m     \u001b[0m│\u001b[90m Int64 \u001b[0m\u001b[90m Int64 \u001b[0m\u001b[90m Float64  \u001b[0m\n",
       "─────┼────────────────────────\n",
       "   1 │     1      1  0.999201\n",
       "   2 │     1      1  0.785066"
      ]
     },
     "execution_count": 18,
     "metadata": {},
     "output_type": "execute_result"
    }
   ],
   "source": [
    "gx2[1]"
   ]
  },
  {
   "cell_type": "code",
   "execution_count": 19,
   "metadata": {
    "execution": {
     "iopub.execute_input": "2022-07-18T00:51:52.416000Z",
     "iopub.status.busy": "2022-07-18T00:51:52.416000Z",
     "iopub.status.idle": "2022-07-18T00:51:52.426000Z",
     "shell.execute_reply": "2022-07-18T00:51:52.426000Z"
    }
   },
   "outputs": [
    {
     "data": {
      "text/html": [
       "<div class=\"data-frame\"><p>2 rows × 3 columns</p><table class=\"data-frame\"><thead><tr><th></th><th>id</th><th>id2</th><th>v</th></tr><tr><th></th><th title=\"Int64\">Int64</th><th title=\"Int64\">Int64</th><th title=\"Float64\">Float64</th></tr></thead><tbody><tr><th>1</th><td>1</td><td>1</td><td>0.999201</td></tr><tr><th>2</th><td>1</td><td>1</td><td>0.785066</td></tr></tbody></table></div>"
      ],
      "text/latex": [
       "\\begin{tabular}{r|ccc}\n",
       "\t& id & id2 & v\\\\\n",
       "\t\\hline\n",
       "\t& Int64 & Int64 & Float64\\\\\n",
       "\t\\hline\n",
       "\t1 & 1 & 1 & 0.999201 \\\\\n",
       "\t2 & 1 & 1 & 0.785066 \\\\\n",
       "\\end{tabular}\n"
      ],
      "text/plain": [
       "\u001b[1m2×3 SubDataFrame\u001b[0m\n",
       "\u001b[1m Row \u001b[0m│\u001b[1m id    \u001b[0m\u001b[1m id2   \u001b[0m\u001b[1m v        \u001b[0m\n",
       "\u001b[1m     \u001b[0m│\u001b[90m Int64 \u001b[0m\u001b[90m Int64 \u001b[0m\u001b[90m Float64  \u001b[0m\n",
       "─────┼────────────────────────\n",
       "   1 │     1      1  0.999201\n",
       "   2 │     1      1  0.785066"
      ]
     },
     "execution_count": 19,
     "metadata": {},
     "output_type": "execute_result"
    }
   ],
   "source": [
    "gx2[k]"
   ]
  },
  {
   "cell_type": "code",
   "execution_count": 20,
   "metadata": {
    "execution": {
     "iopub.execute_input": "2022-07-18T00:51:52.430000Z",
     "iopub.status.busy": "2022-07-18T00:51:52.430000Z",
     "iopub.status.idle": "2022-07-18T00:51:52.552000Z",
     "shell.execute_reply": "2022-07-18T00:51:52.552000Z"
    }
   },
   "outputs": [
    {
     "data": {
      "text/html": [
       "<div class=\"data-frame\"><p>2 rows × 3 columns</p><table class=\"data-frame\"><thead><tr><th></th><th>id</th><th>id2</th><th>v</th></tr><tr><th></th><th title=\"Int64\">Int64</th><th title=\"Int64\">Int64</th><th title=\"Float64\">Float64</th></tr></thead><tbody><tr><th>1</th><td>1</td><td>1</td><td>0.999201</td></tr><tr><th>2</th><td>1</td><td>1</td><td>0.785066</td></tr></tbody></table></div>"
      ],
      "text/latex": [
       "\\begin{tabular}{r|ccc}\n",
       "\t& id & id2 & v\\\\\n",
       "\t\\hline\n",
       "\t& Int64 & Int64 & Float64\\\\\n",
       "\t\\hline\n",
       "\t1 & 1 & 1 & 0.999201 \\\\\n",
       "\t2 & 1 & 1 & 0.785066 \\\\\n",
       "\\end{tabular}\n"
      ],
      "text/plain": [
       "\u001b[1m2×3 SubDataFrame\u001b[0m\n",
       "\u001b[1m Row \u001b[0m│\u001b[1m id    \u001b[0m\u001b[1m id2   \u001b[0m\u001b[1m v        \u001b[0m\n",
       "\u001b[1m     \u001b[0m│\u001b[90m Int64 \u001b[0m\u001b[90m Int64 \u001b[0m\u001b[90m Float64  \u001b[0m\n",
       "─────┼────────────────────────\n",
       "   1 │     1      1  0.999201\n",
       "   2 │     1      1  0.785066"
      ]
     },
     "execution_count": 20,
     "metadata": {},
     "output_type": "execute_result"
    }
   ],
   "source": [
    "gx2[ntk]"
   ]
  },
  {
   "cell_type": "code",
   "execution_count": 21,
   "metadata": {
    "execution": {
     "iopub.execute_input": "2022-07-18T00:51:52.556000Z",
     "iopub.status.busy": "2022-07-18T00:51:52.555000Z",
     "iopub.status.idle": "2022-07-18T00:51:52.568000Z",
     "shell.execute_reply": "2022-07-18T00:51:52.568000Z"
    }
   },
   "outputs": [
    {
     "data": {
      "text/html": [
       "<div class=\"data-frame\"><p>2 rows × 3 columns</p><table class=\"data-frame\"><thead><tr><th></th><th>id</th><th>id2</th><th>v</th></tr><tr><th></th><th title=\"Int64\">Int64</th><th title=\"Int64\">Int64</th><th title=\"Float64\">Float64</th></tr></thead><tbody><tr><th>1</th><td>1</td><td>1</td><td>0.999201</td></tr><tr><th>2</th><td>1</td><td>1</td><td>0.785066</td></tr></tbody></table></div>"
      ],
      "text/latex": [
       "\\begin{tabular}{r|ccc}\n",
       "\t& id & id2 & v\\\\\n",
       "\t\\hline\n",
       "\t& Int64 & Int64 & Float64\\\\\n",
       "\t\\hline\n",
       "\t1 & 1 & 1 & 0.999201 \\\\\n",
       "\t2 & 1 & 1 & 0.785066 \\\\\n",
       "\\end{tabular}\n"
      ],
      "text/plain": [
       "\u001b[1m2×3 SubDataFrame\u001b[0m\n",
       "\u001b[1m Row \u001b[0m│\u001b[1m id    \u001b[0m\u001b[1m id2   \u001b[0m\u001b[1m v        \u001b[0m\n",
       "\u001b[1m     \u001b[0m│\u001b[90m Int64 \u001b[0m\u001b[90m Int64 \u001b[0m\u001b[90m Float64  \u001b[0m\n",
       "─────┼────────────────────────\n",
       "   1 │     1      1  0.999201\n",
       "   2 │     1      1  0.785066"
      ]
     },
     "execution_count": 21,
     "metadata": {},
     "output_type": "execute_result"
    }
   ],
   "source": [
    "gx2[tk]"
   ]
  },
  {
   "cell_type": "markdown",
   "metadata": {},
   "source": [
    "handling missing values"
   ]
  },
  {
   "cell_type": "code",
   "execution_count": 22,
   "metadata": {
    "execution": {
     "iopub.execute_input": "2022-07-18T00:51:52.571000Z",
     "iopub.status.busy": "2022-07-18T00:51:52.571000Z",
     "iopub.status.idle": "2022-07-18T00:51:52.859000Z",
     "shell.execute_reply": "2022-07-18T00:51:52.859000Z"
    }
   },
   "outputs": [
    {
     "data": {
      "text/html": [
       "<div class=\"data-frame\"><p>5 rows × 2 columns</p><table class=\"data-frame\"><thead><tr><th></th><th>id</th><th>x</th></tr><tr><th></th><th title=\"Union{Missing, Int64}\">Int64?</th><th title=\"Int64\">Int64</th></tr></thead><tbody><tr><th>1</th><td><em>missing</em></td><td>1</td></tr><tr><th>2</th><td>5</td><td>2</td></tr><tr><th>3</th><td>1</td><td>3</td></tr><tr><th>4</th><td>3</td><td>4</td></tr><tr><th>5</th><td><em>missing</em></td><td>5</td></tr></tbody></table></div>"
      ],
      "text/latex": [
       "\\begin{tabular}{r|cc}\n",
       "\t& id & x\\\\\n",
       "\t\\hline\n",
       "\t& Int64? & Int64\\\\\n",
       "\t\\hline\n",
       "\t1 & \\emph{missing} & 1 \\\\\n",
       "\t2 & 5 & 2 \\\\\n",
       "\t3 & 1 & 3 \\\\\n",
       "\t4 & 3 & 4 \\\\\n",
       "\t5 & \\emph{missing} & 5 \\\\\n",
       "\\end{tabular}\n"
      ],
      "text/plain": [
       "\u001b[1m5×2 DataFrame\u001b[0m\n",
       "\u001b[1m Row \u001b[0m│\u001b[1m id      \u001b[0m\u001b[1m x     \u001b[0m\n",
       "\u001b[1m     \u001b[0m│\u001b[90m Int64?  \u001b[0m\u001b[90m Int64 \u001b[0m\n",
       "─────┼────────────────\n",
       "   1 │\u001b[90m missing \u001b[0m     1\n",
       "   2 │       5      2\n",
       "   3 │       1      3\n",
       "   4 │       3      4\n",
       "   5 │\u001b[90m missing \u001b[0m     5"
      ]
     },
     "execution_count": 22,
     "metadata": {},
     "output_type": "execute_result"
    }
   ],
   "source": [
    "x = DataFrame(id = [missing, 5, 1, 3, missing], x = 1:5)"
   ]
  },
  {
   "cell_type": "code",
   "execution_count": 23,
   "metadata": {
    "execution": {
     "iopub.execute_input": "2022-07-18T00:51:52.862000Z",
     "iopub.status.busy": "2022-07-18T00:51:52.862000Z",
     "iopub.status.idle": "2022-07-18T00:51:53.437000Z",
     "shell.execute_reply": "2022-07-18T00:51:53.437000Z"
    }
   },
   "outputs": [
    {
     "data": {
      "text/html": [
       "<p><b>GroupedDataFrame with 4 groups based on key: id</b></p><p><i>First Group (1 row): id = 1</i></p><div class=\"data-frame\"><table class=\"data-frame\"><thead><tr><th></th><th>id</th><th>x</th></tr><tr><th></th><th title=\"Union{Missing, Int64}\">Int64?</th><th title=\"Int64\">Int64</th></tr></thead><tbody><tr><th>1</th><td>1</td><td>3</td></tr></tbody></table></div><p>&vellip;</p><p><i>Last Group (2 rows): id = missing</i></p><div class=\"data-frame\"><table class=\"data-frame\"><thead><tr><th></th><th>id</th><th>x</th></tr><tr><th></th><th title=\"Union{Missing, Int64}\">Int64?</th><th title=\"Int64\">Int64</th></tr></thead><tbody><tr><th>1</th><td><em>missing</em></td><td>1</td></tr><tr><th>2</th><td><em>missing</em></td><td>5</td></tr></tbody></table></div>"
      ],
      "text/latex": [
       "GroupedDataFrame with 4 groups based on key: id\n",
       "\n",
       "First Group (1 row): id = 1\n",
       "\n",
       "\\begin{tabular}{r|cc}\n",
       "\t& id & x\\\\\n",
       "\t\\hline\n",
       "\t& Int64? & Int64\\\\\n",
       "\t\\hline\n",
       "\t1 & 1 & 3 \\\\\n",
       "\\end{tabular}\n",
       "\n",
       "$\\dots$\n",
       "\n",
       "Last Group (2 rows): id = missing\n",
       "\n",
       "\\begin{tabular}{r|cc}\n",
       "\t& id & x\\\\\n",
       "\t\\hline\n",
       "\t& Int64? & Int64\\\\\n",
       "\t\\hline\n",
       "\t1 & \\emph{missing} & 1 \\\\\n",
       "\t2 & \\emph{missing} & 5 \\\\\n",
       "\\end{tabular}\n"
      ],
      "text/plain": [
       "GroupedDataFrame with 4 groups based on key: id\n",
       "First Group (1 row): id = 1\n",
       "\u001b[1m Row \u001b[0m│\u001b[1m id     \u001b[0m\u001b[1m x     \u001b[0m\n",
       "\u001b[1m     \u001b[0m│\u001b[90m Int64? \u001b[0m\u001b[90m Int64 \u001b[0m\n",
       "─────┼───────────────\n",
       "   1 │      1      3\n",
       "⋮\n",
       "Last Group (2 rows): id = missing\n",
       "\u001b[1m Row \u001b[0m│\u001b[1m id      \u001b[0m\u001b[1m x     \u001b[0m\n",
       "\u001b[1m     \u001b[0m│\u001b[90m Int64?  \u001b[0m\u001b[90m Int64 \u001b[0m\n",
       "─────┼────────────────\n",
       "   1 │\u001b[90m missing \u001b[0m     1\n",
       "   2 │\u001b[90m missing \u001b[0m     5"
      ]
     },
     "execution_count": 23,
     "metadata": {},
     "output_type": "execute_result"
    }
   ],
   "source": [
    "groupby(x, :id) # by default groups include mising values and their order is not guaranteed"
   ]
  },
  {
   "cell_type": "code",
   "execution_count": 24,
   "metadata": {
    "execution": {
     "iopub.execute_input": "2022-07-18T00:51:53.441000Z",
     "iopub.status.busy": "2022-07-18T00:51:53.441000Z",
     "iopub.status.idle": "2022-07-18T00:51:54.053000Z",
     "shell.execute_reply": "2022-07-18T00:51:54.053000Z"
    }
   },
   "outputs": [
    {
     "data": {
      "text/html": [
       "<p><b>GroupedDataFrame with 3 groups based on key: id</b></p><p><i>First Group (1 row): id = 1</i></p><div class=\"data-frame\"><table class=\"data-frame\"><thead><tr><th></th><th>id</th><th>x</th></tr><tr><th></th><th title=\"Union{Missing, Int64}\">Int64?</th><th title=\"Int64\">Int64</th></tr></thead><tbody><tr><th>1</th><td>1</td><td>3</td></tr></tbody></table></div><p>&vellip;</p><p><i>Last Group (1 row): id = 5</i></p><div class=\"data-frame\"><table class=\"data-frame\"><thead><tr><th></th><th>id</th><th>x</th></tr><tr><th></th><th title=\"Union{Missing, Int64}\">Int64?</th><th title=\"Int64\">Int64</th></tr></thead><tbody><tr><th>1</th><td>5</td><td>2</td></tr></tbody></table></div>"
      ],
      "text/latex": [
       "GroupedDataFrame with 3 groups based on key: id\n",
       "\n",
       "First Group (1 row): id = 1\n",
       "\n",
       "\\begin{tabular}{r|cc}\n",
       "\t& id & x\\\\\n",
       "\t\\hline\n",
       "\t& Int64? & Int64\\\\\n",
       "\t\\hline\n",
       "\t1 & 1 & 3 \\\\\n",
       "\\end{tabular}\n",
       "\n",
       "$\\dots$\n",
       "\n",
       "Last Group (1 row): id = 5\n",
       "\n",
       "\\begin{tabular}{r|cc}\n",
       "\t& id & x\\\\\n",
       "\t\\hline\n",
       "\t& Int64? & Int64\\\\\n",
       "\t\\hline\n",
       "\t1 & 5 & 2 \\\\\n",
       "\\end{tabular}\n"
      ],
      "text/plain": [
       "GroupedDataFrame with 3 groups based on key: id\n",
       "First Group (1 row): id = 1\n",
       "\u001b[1m Row \u001b[0m│\u001b[1m id     \u001b[0m\u001b[1m x     \u001b[0m\n",
       "\u001b[1m     \u001b[0m│\u001b[90m Int64? \u001b[0m\u001b[90m Int64 \u001b[0m\n",
       "─────┼───────────────\n",
       "   1 │      1      3\n",
       "⋮\n",
       "Last Group (1 row): id = 5\n",
       "\u001b[1m Row \u001b[0m│\u001b[1m id     \u001b[0m\u001b[1m x     \u001b[0m\n",
       "\u001b[1m     \u001b[0m│\u001b[90m Int64? \u001b[0m\u001b[90m Int64 \u001b[0m\n",
       "─────┼───────────────\n",
       "   1 │      5      2"
      ]
     },
     "execution_count": 24,
     "metadata": {},
     "output_type": "execute_result"
    }
   ],
   "source": [
    "groupby(x, :id, sort=true, skipmissing=true) # but we can change it; now they are sorted"
   ]
  },
  {
   "cell_type": "code",
   "execution_count": 25,
   "metadata": {
    "execution": {
     "iopub.execute_input": "2022-07-18T00:51:54.057000Z",
     "iopub.status.busy": "2022-07-18T00:51:54.057000Z",
     "iopub.status.idle": "2022-07-18T00:51:54.176000Z",
     "shell.execute_reply": "2022-07-18T00:51:54.176000Z"
    }
   },
   "outputs": [
    {
     "data": {
      "text/html": [
       "<p><b>GroupedDataFrame with 4 groups based on key: id</b></p><p><i>First Group (2 rows): id = missing</i></p><div class=\"data-frame\"><table class=\"data-frame\"><thead><tr><th></th><th>id</th><th>x</th></tr><tr><th></th><th title=\"Union{Missing, Int64}\">Int64?</th><th title=\"Int64\">Int64</th></tr></thead><tbody><tr><th>1</th><td><em>missing</em></td><td>1</td></tr><tr><th>2</th><td><em>missing</em></td><td>5</td></tr></tbody></table></div><p>&vellip;</p><p><i>Last Group (1 row): id = 3</i></p><div class=\"data-frame\"><table class=\"data-frame\"><thead><tr><th></th><th>id</th><th>x</th></tr><tr><th></th><th title=\"Union{Missing, Int64}\">Int64?</th><th title=\"Int64\">Int64</th></tr></thead><tbody><tr><th>1</th><td>3</td><td>4</td></tr></tbody></table></div>"
      ],
      "text/latex": [
       "GroupedDataFrame with 4 groups based on key: id\n",
       "\n",
       "First Group (2 rows): id = missing\n",
       "\n",
       "\\begin{tabular}{r|cc}\n",
       "\t& id & x\\\\\n",
       "\t\\hline\n",
       "\t& Int64? & Int64\\\\\n",
       "\t\\hline\n",
       "\t1 & \\emph{missing} & 1 \\\\\n",
       "\t2 & \\emph{missing} & 5 \\\\\n",
       "\\end{tabular}\n",
       "\n",
       "$\\dots$\n",
       "\n",
       "Last Group (1 row): id = 3\n",
       "\n",
       "\\begin{tabular}{r|cc}\n",
       "\t& id & x\\\\\n",
       "\t\\hline\n",
       "\t& Int64? & Int64\\\\\n",
       "\t\\hline\n",
       "\t1 & 3 & 4 \\\\\n",
       "\\end{tabular}\n"
      ],
      "text/plain": [
       "GroupedDataFrame with 4 groups based on key: id\n",
       "First Group (2 rows): id = missing\n",
       "\u001b[1m Row \u001b[0m│\u001b[1m id      \u001b[0m\u001b[1m x     \u001b[0m\n",
       "\u001b[1m     \u001b[0m│\u001b[90m Int64?  \u001b[0m\u001b[90m Int64 \u001b[0m\n",
       "─────┼────────────────\n",
       "   1 │\u001b[90m missing \u001b[0m     1\n",
       "   2 │\u001b[90m missing \u001b[0m     5\n",
       "⋮\n",
       "Last Group (1 row): id = 3\n",
       "\u001b[1m Row \u001b[0m│\u001b[1m id     \u001b[0m\u001b[1m x     \u001b[0m\n",
       "\u001b[1m     \u001b[0m│\u001b[90m Int64? \u001b[0m\u001b[90m Int64 \u001b[0m\n",
       "─────┼───────────────\n",
       "   1 │      3      4"
      ]
     },
     "execution_count": 25,
     "metadata": {},
     "output_type": "execute_result"
    }
   ],
   "source": [
    "groupby(x, :id, sort=false) # and now they are in the order they appear in the source data frame"
   ]
  },
  {
   "cell_type": "markdown",
   "metadata": {},
   "source": [
    "## Performing transformations by group using `combine`, `select`, `select!`, `transform`, and `transform!`"
   ]
  },
  {
   "cell_type": "code",
   "execution_count": 26,
   "metadata": {
    "execution": {
     "iopub.execute_input": "2022-07-18T00:51:54.204000Z",
     "iopub.status.busy": "2022-07-18T00:51:54.204000Z",
     "iopub.status.idle": "2022-07-18T00:51:54.205000Z",
     "shell.execute_reply": "2022-07-18T00:51:54.205000Z"
    }
   },
   "outputs": [],
   "source": [
    "using Statistics\n",
    "using Chain"
   ]
  },
  {
   "cell_type": "code",
   "execution_count": 27,
   "metadata": {
    "execution": {
     "iopub.execute_input": "2022-07-18T00:51:54.208000Z",
     "iopub.status.busy": "2022-07-18T00:51:54.208000Z",
     "iopub.status.idle": "2022-07-18T00:51:54.457000Z",
     "shell.execute_reply": "2022-07-18T00:51:54.457000Z"
    }
   },
   "outputs": [
    {
     "data": {
      "text/plain": [
       "15"
      ]
     },
     "execution_count": 27,
     "metadata": {},
     "output_type": "execute_result"
    }
   ],
   "source": [
    "ENV[\"LINES\"] = 15 # reduce the number of rows in the output"
   ]
  },
  {
   "cell_type": "code",
   "execution_count": 28,
   "metadata": {
    "execution": {
     "iopub.execute_input": "2022-07-18T00:51:54.460000Z",
     "iopub.status.busy": "2022-07-18T00:51:54.460000Z",
     "iopub.status.idle": "2022-07-18T00:51:54.758000Z",
     "shell.execute_reply": "2022-07-18T00:51:54.758000Z"
    }
   },
   "outputs": [
    {
     "data": {
      "text/html": [
       "<div class=\"data-frame\"><p>100 rows × 2 columns</p><table class=\"data-frame\"><thead><tr><th></th><th>id</th><th>v</th></tr><tr><th></th><th title=\"Char\">Char</th><th title=\"Float64\">Float64</th></tr></thead><tbody><tr><th>1</th><td>c</td><td>0.018774</td></tr><tr><th>2</th><td>b</td><td>0.448722</td></tr><tr><th>3</th><td>c</td><td>0.147444</td></tr><tr><th>4</th><td>b</td><td>0.0329969</td></tr><tr><th>5</th><td>a</td><td>0.719146</td></tr><tr><th>6</th><td>b</td><td>0.168613</td></tr><tr><th>7</th><td>a</td><td>0.789873</td></tr><tr><th>8</th><td>a</td><td>0.457366</td></tr><tr><th>9</th><td>a</td><td>0.284502</td></tr><tr><th>10</th><td>c</td><td>0.954599</td></tr><tr><th>11</th><td>b</td><td>0.260828</td></tr><tr><th>12</th><td>a</td><td>0.519819</td></tr><tr><th>13</th><td>c</td><td>0.0718063</td></tr><tr><th>14</th><td>c</td><td>0.690392</td></tr><tr><th>15</th><td>c</td><td>0.94907</td></tr><tr><th>&vellip;</th><td>&vellip;</td><td>&vellip;</td></tr></tbody></table></div>"
      ],
      "text/latex": [
       "\\begin{tabular}{r|cc}\n",
       "\t& id & v\\\\\n",
       "\t\\hline\n",
       "\t& Char & Float64\\\\\n",
       "\t\\hline\n",
       "\t1 & c & 0.018774 \\\\\n",
       "\t2 & b & 0.448722 \\\\\n",
       "\t3 & c & 0.147444 \\\\\n",
       "\t4 & b & 0.0329969 \\\\\n",
       "\t5 & a & 0.719146 \\\\\n",
       "\t6 & b & 0.168613 \\\\\n",
       "\t7 & a & 0.789873 \\\\\n",
       "\t8 & a & 0.457366 \\\\\n",
       "\t9 & a & 0.284502 \\\\\n",
       "\t10 & c & 0.954599 \\\\\n",
       "\t11 & b & 0.260828 \\\\\n",
       "\t12 & a & 0.519819 \\\\\n",
       "\t13 & c & 0.0718063 \\\\\n",
       "\t14 & c & 0.690392 \\\\\n",
       "\t15 & c & 0.94907 \\\\\n",
       "\t$\\dots$ & $\\dots$ & $\\dots$ \\\\\n",
       "\\end{tabular}\n"
      ],
      "text/plain": [
       "\u001b[1m100×2 DataFrame\u001b[0m\n",
       "\u001b[1m Row \u001b[0m│\u001b[1m id   \u001b[0m\u001b[1m v         \u001b[0m\n",
       "\u001b[1m     \u001b[0m│\u001b[90m Char \u001b[0m\u001b[90m Float64   \u001b[0m\n",
       "─────┼─────────────────\n",
       "   1 │ c     0.018774\n",
       "   2 │ b     0.448722\n",
       "   3 │ c     0.147444\n",
       "  ⋮  │  ⋮        ⋮\n",
       "  98 │ c     0.912137\n",
       "  99 │ c     0.0120193\n",
       " 100 │ d     0.662505\n",
       "\u001b[36m        94 rows omitted\u001b[0m"
      ]
     },
     "execution_count": 28,
     "metadata": {},
     "output_type": "execute_result"
    }
   ],
   "source": [
    "x = DataFrame(id=rand('a':'d', 100), v=rand(100))"
   ]
  },
  {
   "cell_type": "code",
   "execution_count": 29,
   "metadata": {
    "execution": {
     "iopub.execute_input": "2022-07-18T00:51:54.761000Z",
     "iopub.status.busy": "2022-07-18T00:51:54.761000Z",
     "iopub.status.idle": "2022-07-18T00:52:02.024000Z",
     "shell.execute_reply": "2022-07-18T00:52:02.024000Z"
    }
   },
   "outputs": [
    {
     "data": {
      "text/html": [
       "<div class=\"data-frame\"><p>4 rows × 2 columns</p><table class=\"data-frame\"><thead><tr><th></th><th>id</th><th>v_mean</th></tr><tr><th></th><th title=\"Char\">Char</th><th title=\"Float64\">Float64</th></tr></thead><tbody><tr><th>1</th><td>c</td><td>0.464565</td></tr><tr><th>2</th><td>b</td><td>0.38856</td></tr><tr><th>3</th><td>a</td><td>0.460735</td></tr><tr><th>4</th><td>d</td><td>0.522204</td></tr></tbody></table></div>"
      ],
      "text/latex": [
       "\\begin{tabular}{r|cc}\n",
       "\t& id & v\\_mean\\\\\n",
       "\t\\hline\n",
       "\t& Char & Float64\\\\\n",
       "\t\\hline\n",
       "\t1 & c & 0.464565 \\\\\n",
       "\t2 & b & 0.38856 \\\\\n",
       "\t3 & a & 0.460735 \\\\\n",
       "\t4 & d & 0.522204 \\\\\n",
       "\\end{tabular}\n"
      ],
      "text/plain": [
       "\u001b[1m4×2 DataFrame\u001b[0m\n",
       "\u001b[1m Row \u001b[0m│\u001b[1m id   \u001b[0m\u001b[1m v_mean   \u001b[0m\n",
       "\u001b[1m     \u001b[0m│\u001b[90m Char \u001b[0m\u001b[90m Float64  \u001b[0m\n",
       "─────┼────────────────\n",
       "   1 │ c     0.464565\n",
       "   2 │ b     0.38856\n",
       "   3 │ a     0.460735\n",
       "   4 │ d     0.522204"
      ]
     },
     "execution_count": 29,
     "metadata": {},
     "output_type": "execute_result"
    }
   ],
   "source": [
    "# apply a function to each group of a data frame\n",
    "# combine keeps as many rows as are returned from the function\n",
    "@chain x begin\n",
    "    groupby(:id)\n",
    "    combine(:v => mean)\n",
    "end"
   ]
  },
  {
   "cell_type": "code",
   "execution_count": 30,
   "metadata": {
    "execution": {
     "iopub.execute_input": "2022-07-18T00:52:02.090000Z",
     "iopub.status.busy": "2022-07-18T00:52:02.090000Z",
     "iopub.status.idle": "2022-07-18T00:52:02.999000Z",
     "shell.execute_reply": "2022-07-18T00:52:02.999000Z"
    }
   },
   "outputs": [
    {
     "data": {
      "text/plain": [
       "Base.OneTo(100)"
      ]
     },
     "execution_count": 30,
     "metadata": {},
     "output_type": "execute_result"
    }
   ],
   "source": [
    "x.id2 = axes(x, 1)"
   ]
  },
  {
   "cell_type": "code",
   "execution_count": 31,
   "metadata": {
    "execution": {
     "iopub.execute_input": "2022-07-18T00:52:03.004000Z",
     "iopub.status.busy": "2022-07-18T00:52:03.004000Z",
     "iopub.status.idle": "2022-07-18T00:52:05.393000Z",
     "shell.execute_reply": "2022-07-18T00:52:05.393000Z"
    }
   },
   "outputs": [
    {
     "data": {
      "text/html": [
       "<div class=\"data-frame\"><p>100 rows × 4 columns</p><table class=\"data-frame\"><thead><tr><th></th><th>id</th><th>v</th><th>id2</th><th>v_mean</th></tr><tr><th></th><th title=\"Char\">Char</th><th title=\"Float64\">Float64</th><th title=\"Int64\">Int64</th><th title=\"Float64\">Float64</th></tr></thead><tbody><tr><th>1</th><td>c</td><td>0.018774</td><td>1</td><td>0.464565</td></tr><tr><th>2</th><td>b</td><td>0.448722</td><td>2</td><td>0.38856</td></tr><tr><th>3</th><td>c</td><td>0.147444</td><td>3</td><td>0.464565</td></tr><tr><th>4</th><td>b</td><td>0.0329969</td><td>4</td><td>0.38856</td></tr><tr><th>5</th><td>a</td><td>0.719146</td><td>5</td><td>0.460735</td></tr><tr><th>6</th><td>b</td><td>0.168613</td><td>6</td><td>0.38856</td></tr><tr><th>7</th><td>a</td><td>0.789873</td><td>7</td><td>0.460735</td></tr><tr><th>8</th><td>a</td><td>0.457366</td><td>8</td><td>0.460735</td></tr><tr><th>9</th><td>a</td><td>0.284502</td><td>9</td><td>0.460735</td></tr><tr><th>10</th><td>c</td><td>0.954599</td><td>10</td><td>0.464565</td></tr><tr><th>11</th><td>b</td><td>0.260828</td><td>11</td><td>0.38856</td></tr><tr><th>12</th><td>a</td><td>0.519819</td><td>12</td><td>0.460735</td></tr><tr><th>13</th><td>c</td><td>0.0718063</td><td>13</td><td>0.464565</td></tr><tr><th>14</th><td>c</td><td>0.690392</td><td>14</td><td>0.464565</td></tr><tr><th>15</th><td>c</td><td>0.94907</td><td>15</td><td>0.464565</td></tr><tr><th>&vellip;</th><td>&vellip;</td><td>&vellip;</td><td>&vellip;</td><td>&vellip;</td></tr></tbody></table></div>"
      ],
      "text/latex": [
       "\\begin{tabular}{r|cccc}\n",
       "\t& id & v & id2 & v\\_mean\\\\\n",
       "\t\\hline\n",
       "\t& Char & Float64 & Int64 & Float64\\\\\n",
       "\t\\hline\n",
       "\t1 & c & 0.018774 & 1 & 0.464565 \\\\\n",
       "\t2 & b & 0.448722 & 2 & 0.38856 \\\\\n",
       "\t3 & c & 0.147444 & 3 & 0.464565 \\\\\n",
       "\t4 & b & 0.0329969 & 4 & 0.38856 \\\\\n",
       "\t5 & a & 0.719146 & 5 & 0.460735 \\\\\n",
       "\t6 & b & 0.168613 & 6 & 0.38856 \\\\\n",
       "\t7 & a & 0.789873 & 7 & 0.460735 \\\\\n",
       "\t8 & a & 0.457366 & 8 & 0.460735 \\\\\n",
       "\t9 & a & 0.284502 & 9 & 0.460735 \\\\\n",
       "\t10 & c & 0.954599 & 10 & 0.464565 \\\\\n",
       "\t11 & b & 0.260828 & 11 & 0.38856 \\\\\n",
       "\t12 & a & 0.519819 & 12 & 0.460735 \\\\\n",
       "\t13 & c & 0.0718063 & 13 & 0.464565 \\\\\n",
       "\t14 & c & 0.690392 & 14 & 0.464565 \\\\\n",
       "\t15 & c & 0.94907 & 15 & 0.464565 \\\\\n",
       "\t$\\dots$ & $\\dots$ & $\\dots$ & $\\dots$ & $\\dots$ \\\\\n",
       "\\end{tabular}\n"
      ],
      "text/plain": [
       "\u001b[1m100×4 DataFrame\u001b[0m\n",
       "\u001b[1m Row \u001b[0m│\u001b[1m id   \u001b[0m\u001b[1m v         \u001b[0m\u001b[1m id2   \u001b[0m\u001b[1m v_mean   \u001b[0m\n",
       "\u001b[1m     \u001b[0m│\u001b[90m Char \u001b[0m\u001b[90m Float64   \u001b[0m\u001b[90m Int64 \u001b[0m\u001b[90m Float64  \u001b[0m\n",
       "─────┼──────────────────────────────────\n",
       "   1 │ c     0.018774       1  0.464565\n",
       "   2 │ b     0.448722       2  0.38856\n",
       "   3 │ c     0.147444       3  0.464565\n",
       "  ⋮  │  ⋮        ⋮        ⋮       ⋮\n",
       "  98 │ c     0.912137      98  0.464565\n",
       "  99 │ c     0.0120193     99  0.464565\n",
       " 100 │ d     0.662505     100  0.522204\n",
       "\u001b[36m                         94 rows omitted\u001b[0m"
      ]
     },
     "execution_count": 31,
     "metadata": {},
     "output_type": "execute_result"
    }
   ],
   "source": [
    "# select and transform keep as many rows as are in the source data frame and in correct order\n",
    "# additionally transform keeps all columns from the source\n",
    "@chain x begin\n",
    "    groupby(:id)\n",
    "    transform(:v => mean)\n",
    "end"
   ]
  },
  {
   "cell_type": "code",
   "execution_count": 32,
   "metadata": {
    "execution": {
     "iopub.execute_input": "2022-07-18T00:52:05.396000Z",
     "iopub.status.busy": "2022-07-18T00:52:05.396000Z",
     "iopub.status.idle": "2022-07-18T00:52:06.388000Z",
     "shell.execute_reply": "2022-07-18T00:52:06.388000Z"
    }
   },
   "outputs": [
    {
     "data": {
      "text/html": [
       "<div class=\"data-frame\"><p>100 rows × 3 columns</p><table class=\"data-frame\"><thead><tr><th></th><th>id</th><th>id2</th><th>v_mean</th></tr><tr><th></th><th title=\"Char\">Char</th><th title=\"Int64\">Int64</th><th title=\"Float64\">Float64</th></tr></thead><tbody><tr><th>1</th><td>c</td><td>1</td><td>0.464565</td></tr><tr><th>2</th><td>c</td><td>3</td><td>0.464565</td></tr><tr><th>3</th><td>c</td><td>10</td><td>0.464565</td></tr><tr><th>4</th><td>c</td><td>13</td><td>0.464565</td></tr><tr><th>5</th><td>c</td><td>14</td><td>0.464565</td></tr><tr><th>6</th><td>c</td><td>15</td><td>0.464565</td></tr><tr><th>7</th><td>c</td><td>18</td><td>0.464565</td></tr><tr><th>8</th><td>c</td><td>20</td><td>0.464565</td></tr><tr><th>9</th><td>c</td><td>21</td><td>0.464565</td></tr><tr><th>10</th><td>c</td><td>25</td><td>0.464565</td></tr><tr><th>11</th><td>c</td><td>30</td><td>0.464565</td></tr><tr><th>12</th><td>c</td><td>37</td><td>0.464565</td></tr><tr><th>13</th><td>c</td><td>40</td><td>0.464565</td></tr><tr><th>14</th><td>c</td><td>41</td><td>0.464565</td></tr><tr><th>15</th><td>c</td><td>45</td><td>0.464565</td></tr><tr><th>&vellip;</th><td>&vellip;</td><td>&vellip;</td><td>&vellip;</td></tr></tbody></table></div>"
      ],
      "text/latex": [
       "\\begin{tabular}{r|ccc}\n",
       "\t& id & id2 & v\\_mean\\\\\n",
       "\t\\hline\n",
       "\t& Char & Int64 & Float64\\\\\n",
       "\t\\hline\n",
       "\t1 & c & 1 & 0.464565 \\\\\n",
       "\t2 & c & 3 & 0.464565 \\\\\n",
       "\t3 & c & 10 & 0.464565 \\\\\n",
       "\t4 & c & 13 & 0.464565 \\\\\n",
       "\t5 & c & 14 & 0.464565 \\\\\n",
       "\t6 & c & 15 & 0.464565 \\\\\n",
       "\t7 & c & 18 & 0.464565 \\\\\n",
       "\t8 & c & 20 & 0.464565 \\\\\n",
       "\t9 & c & 21 & 0.464565 \\\\\n",
       "\t10 & c & 25 & 0.464565 \\\\\n",
       "\t11 & c & 30 & 0.464565 \\\\\n",
       "\t12 & c & 37 & 0.464565 \\\\\n",
       "\t13 & c & 40 & 0.464565 \\\\\n",
       "\t14 & c & 41 & 0.464565 \\\\\n",
       "\t15 & c & 45 & 0.464565 \\\\\n",
       "\t$\\dots$ & $\\dots$ & $\\dots$ & $\\dots$ \\\\\n",
       "\\end{tabular}\n"
      ],
      "text/plain": [
       "\u001b[1m100×3 DataFrame\u001b[0m\n",
       "\u001b[1m Row \u001b[0m│\u001b[1m id   \u001b[0m\u001b[1m id2   \u001b[0m\u001b[1m v_mean   \u001b[0m\n",
       "\u001b[1m     \u001b[0m│\u001b[90m Char \u001b[0m\u001b[90m Int64 \u001b[0m\u001b[90m Float64  \u001b[0m\n",
       "─────┼───────────────────────\n",
       "   1 │ c         1  0.464565\n",
       "   2 │ c         3  0.464565\n",
       "   3 │ c        10  0.464565\n",
       "  ⋮  │  ⋮      ⋮       ⋮\n",
       "  98 │ d        94  0.522204\n",
       "  99 │ d        95  0.522204\n",
       " 100 │ d       100  0.522204\n",
       "\u001b[36m              94 rows omitted\u001b[0m"
      ]
     },
     "execution_count": 32,
     "metadata": {},
     "output_type": "execute_result"
    }
   ],
   "source": [
    "# note that combine reorders rows by group of GroupedDataFrame\n",
    "@chain x begin\n",
    "    groupby(:id)\n",
    "    combine(:id2, :v => mean)\n",
    "end"
   ]
  },
  {
   "cell_type": "code",
   "execution_count": 33,
   "metadata": {
    "execution": {
     "iopub.execute_input": "2022-07-18T00:52:06.392000Z",
     "iopub.status.busy": "2022-07-18T00:52:06.392000Z",
     "iopub.status.idle": "2022-07-18T00:52:06.433000Z",
     "shell.execute_reply": "2022-07-18T00:52:06.433000Z"
    }
   },
   "outputs": [
    {
     "data": {
      "text/html": [
       "<div class=\"data-frame\"><p>4 rows × 2 columns</p><table class=\"data-frame\"><thead><tr><th></th><th>id</th><th>res</th></tr><tr><th></th><th title=\"Char\">Char</th><th title=\"Float64\">Float64</th></tr></thead><tbody><tr><th>1</th><td>c</td><td>0.464565</td></tr><tr><th>2</th><td>b</td><td>0.38856</td></tr><tr><th>3</th><td>a</td><td>0.460735</td></tr><tr><th>4</th><td>d</td><td>0.522204</td></tr></tbody></table></div>"
      ],
      "text/latex": [
       "\\begin{tabular}{r|cc}\n",
       "\t& id & res\\\\\n",
       "\t\\hline\n",
       "\t& Char & Float64\\\\\n",
       "\t\\hline\n",
       "\t1 & c & 0.464565 \\\\\n",
       "\t2 & b & 0.38856 \\\\\n",
       "\t3 & a & 0.460735 \\\\\n",
       "\t4 & d & 0.522204 \\\\\n",
       "\\end{tabular}\n"
      ],
      "text/plain": [
       "\u001b[1m4×2 DataFrame\u001b[0m\n",
       "\u001b[1m Row \u001b[0m│\u001b[1m id   \u001b[0m\u001b[1m res      \u001b[0m\n",
       "\u001b[1m     \u001b[0m│\u001b[90m Char \u001b[0m\u001b[90m Float64  \u001b[0m\n",
       "─────┼────────────────\n",
       "   1 │ c     0.464565\n",
       "   2 │ b     0.38856\n",
       "   3 │ a     0.460735\n",
       "   4 │ d     0.522204"
      ]
     },
     "execution_count": 33,
     "metadata": {},
     "output_type": "execute_result"
    }
   ],
   "source": [
    "# we give a custom name for the result column\n",
    "@chain x begin\n",
    "    groupby(:id)\n",
    "    combine(:v => mean => :res)\n",
    "end"
   ]
  },
  {
   "cell_type": "code",
   "execution_count": 34,
   "metadata": {
    "execution": {
     "iopub.execute_input": "2022-07-18T00:52:06.437000Z",
     "iopub.status.busy": "2022-07-18T00:52:06.436000Z",
     "iopub.status.idle": "2022-07-18T00:52:06.718000Z",
     "shell.execute_reply": "2022-07-18T00:52:06.718000Z"
    }
   },
   "outputs": [
    {
     "data": {
      "text/html": [
       "<div class=\"data-frame\"><p>4 rows × 4 columns</p><table class=\"data-frame\"><thead><tr><th></th><th>id</th><th>res1</th><th>res2</th><th>n</th></tr><tr><th></th><th title=\"Char\">Char</th><th title=\"Float64\">Float64</th><th title=\"Float64\">Float64</th><th title=\"Int64\">Int64</th></tr></thead><tbody><tr><th>1</th><td>c</td><td>0.464565</td><td>10.685</td><td>23</td></tr><tr><th>2</th><td>b</td><td>0.38856</td><td>8.54832</td><td>22</td></tr><tr><th>3</th><td>a</td><td>0.460735</td><td>14.7435</td><td>32</td></tr><tr><th>4</th><td>d</td><td>0.522204</td><td>12.0107</td><td>23</td></tr></tbody></table></div>"
      ],
      "text/latex": [
       "\\begin{tabular}{r|cccc}\n",
       "\t& id & res1 & res2 & n\\\\\n",
       "\t\\hline\n",
       "\t& Char & Float64 & Float64 & Int64\\\\\n",
       "\t\\hline\n",
       "\t1 & c & 0.464565 & 10.685 & 23 \\\\\n",
       "\t2 & b & 0.38856 & 8.54832 & 22 \\\\\n",
       "\t3 & a & 0.460735 & 14.7435 & 32 \\\\\n",
       "\t4 & d & 0.522204 & 12.0107 & 23 \\\\\n",
       "\\end{tabular}\n"
      ],
      "text/plain": [
       "\u001b[1m4×4 DataFrame\u001b[0m\n",
       "\u001b[1m Row \u001b[0m│\u001b[1m id   \u001b[0m\u001b[1m res1     \u001b[0m\u001b[1m res2     \u001b[0m\u001b[1m n     \u001b[0m\n",
       "\u001b[1m     \u001b[0m│\u001b[90m Char \u001b[0m\u001b[90m Float64  \u001b[0m\u001b[90m Float64  \u001b[0m\u001b[90m Int64 \u001b[0m\n",
       "─────┼─────────────────────────────────\n",
       "   1 │ c     0.464565  10.685       23\n",
       "   2 │ b     0.38856    8.54832     22\n",
       "   3 │ a     0.460735  14.7435      32\n",
       "   4 │ d     0.522204  12.0107      23"
      ]
     },
     "execution_count": 34,
     "metadata": {},
     "output_type": "execute_result"
    }
   ],
   "source": [
    "# you can have multiple operations\n",
    "@chain x begin\n",
    "    groupby(:id)\n",
    "    combine(:v => mean => :res1, :v => sum => :res2, nrow => :n)\n",
    "end"
   ]
  },
  {
   "cell_type": "markdown",
   "metadata": {},
   "source": [
    "Additional notes:\n",
    "* `select!` and `transform!` perform operations in-place\n",
    "* The general syntax for transformation is `source_columns => function => target_column`\n",
    "* if you pass multiple columns to a function they are treated as positional arguments\n",
    "* `ByRow` and `AsTable` work exactly like discussed for operations on data frames in 05_columns.ipynb\n",
    "* you can automatically groupby again the result of `combine`, `select` etc. by passing `ungroup=false` keyword argument to them\n",
    "* similarly `keepkeys` keyword argument allows you to drop grouping columns from the resulting data frame"
   ]
  },
  {
   "cell_type": "markdown",
   "metadata": {},
   "source": [
    "It is also allowed to pass a function to all these functions (also - as a special case, as a first argument). In this case the return value can be a table. In particular it allows for an easy dropping of groups if you return an empty table from the function.\n",
    "\n",
    "If you pass a function you can use a `do` block syntax. In case of passing a function it gets a `SubDataFrame` as its argument.\n",
    "\n",
    "Here is an example:"
   ]
  },
  {
   "cell_type": "code",
   "execution_count": 35,
   "metadata": {
    "execution": {
     "iopub.execute_input": "2022-07-18T00:52:06.722000Z",
     "iopub.status.busy": "2022-07-18T00:52:06.722000Z",
     "iopub.status.idle": "2022-07-18T00:52:07.341000Z",
     "shell.execute_reply": "2022-07-18T00:52:07.341000Z"
    }
   },
   "outputs": [
    {
     "data": {
      "text/html": [
       "<div class=\"data-frame\"><p>1 rows × 2 columns</p><table class=\"data-frame\"><thead><tr><th></th><th>id</th><th>n</th></tr><tr><th></th><th title=\"Char\">Char</th><th title=\"Int64\">Int64</th></tr></thead><tbody><tr><th>1</th><td>a</td><td>32</td></tr></tbody></table></div>"
      ],
      "text/latex": [
       "\\begin{tabular}{r|cc}\n",
       "\t& id & n\\\\\n",
       "\t\\hline\n",
       "\t& Char & Int64\\\\\n",
       "\t\\hline\n",
       "\t1 & a & 32 \\\\\n",
       "\\end{tabular}\n"
      ],
      "text/plain": [
       "\u001b[1m1×2 DataFrame\u001b[0m\n",
       "\u001b[1m Row \u001b[0m│\u001b[1m id   \u001b[0m\u001b[1m n     \u001b[0m\n",
       "\u001b[1m     \u001b[0m│\u001b[90m Char \u001b[0m\u001b[90m Int64 \u001b[0m\n",
       "─────┼─────────────\n",
       "   1 │ a        32"
      ]
     },
     "execution_count": 35,
     "metadata": {},
     "output_type": "execute_result"
    }
   ],
   "source": [
    "combine(groupby(x, :id)) do sdf\n",
    "    n = nrow(sdf)\n",
    "    n < 25 ? DataFrame() : DataFrame(n=n) # drop groups with low number of rows\n",
    "end"
   ]
  },
  {
   "cell_type": "markdown",
   "metadata": {},
   "source": [
    "You can also produce multiple columns in a single operation, e.g.:"
   ]
  },
  {
   "cell_type": "code",
   "execution_count": 36,
   "metadata": {
    "execution": {
     "iopub.execute_input": "2022-07-18T00:52:07.344000Z",
     "iopub.status.busy": "2022-07-18T00:52:07.344000Z",
     "iopub.status.idle": "2022-07-18T00:52:07.393000Z",
     "shell.execute_reply": "2022-07-18T00:52:07.393000Z"
    }
   },
   "outputs": [
    {
     "data": {
      "text/html": [
       "<div class=\"data-frame\"><p>4 rows × 2 columns</p><table class=\"data-frame\"><thead><tr><th></th><th>id</th><th>val</th></tr><tr><th></th><th title=\"Int64\">Int64</th><th title=\"Int64\">Int64</th></tr></thead><tbody><tr><th>1</th><td>1</td><td>1</td></tr><tr><th>2</th><td>1</td><td>2</td></tr><tr><th>3</th><td>2</td><td>3</td></tr><tr><th>4</th><td>2</td><td>4</td></tr></tbody></table></div>"
      ],
      "text/latex": [
       "\\begin{tabular}{r|cc}\n",
       "\t& id & val\\\\\n",
       "\t\\hline\n",
       "\t& Int64 & Int64\\\\\n",
       "\t\\hline\n",
       "\t1 & 1 & 1 \\\\\n",
       "\t2 & 1 & 2 \\\\\n",
       "\t3 & 2 & 3 \\\\\n",
       "\t4 & 2 & 4 \\\\\n",
       "\\end{tabular}\n"
      ],
      "text/plain": [
       "\u001b[1m4×2 DataFrame\u001b[0m\n",
       "\u001b[1m Row \u001b[0m│\u001b[1m id    \u001b[0m\u001b[1m val   \u001b[0m\n",
       "\u001b[1m     \u001b[0m│\u001b[90m Int64 \u001b[0m\u001b[90m Int64 \u001b[0m\n",
       "─────┼──────────────\n",
       "   1 │     1      1\n",
       "   2 │     1      2\n",
       "   3 │     2      3\n",
       "   4 │     2      4"
      ]
     },
     "execution_count": 36,
     "metadata": {},
     "output_type": "execute_result"
    }
   ],
   "source": [
    "df = DataFrame(id=[1,1,2,2], val=[1,2,3,4])"
   ]
  },
  {
   "cell_type": "code",
   "execution_count": 37,
   "metadata": {
    "execution": {
     "iopub.execute_input": "2022-07-18T00:52:07.397000Z",
     "iopub.status.busy": "2022-07-18T00:52:07.396000Z",
     "iopub.status.idle": "2022-07-18T00:52:08.325000Z",
     "shell.execute_reply": "2022-07-18T00:52:08.325000Z"
    }
   },
   "outputs": [
    {
     "data": {
      "text/html": [
       "<div class=\"data-frame\"><p>2 rows × 3 columns</p><table class=\"data-frame\"><thead><tr><th></th><th>id</th><th>x1</th><th>x2</th></tr><tr><th></th><th title=\"Int64\">Int64</th><th title=\"Int64\">Int64</th><th title=\"Int64\">Int64</th></tr></thead><tbody><tr><th>1</th><td>1</td><td>1</td><td>2</td></tr><tr><th>2</th><td>2</td><td>3</td><td>4</td></tr></tbody></table></div>"
      ],
      "text/latex": [
       "\\begin{tabular}{r|ccc}\n",
       "\t& id & x1 & x2\\\\\n",
       "\t\\hline\n",
       "\t& Int64 & Int64 & Int64\\\\\n",
       "\t\\hline\n",
       "\t1 & 1 & 1 & 2 \\\\\n",
       "\t2 & 2 & 3 & 4 \\\\\n",
       "\\end{tabular}\n"
      ],
      "text/plain": [
       "\u001b[1m2×3 DataFrame\u001b[0m\n",
       "\u001b[1m Row \u001b[0m│\u001b[1m id    \u001b[0m\u001b[1m x1    \u001b[0m\u001b[1m x2    \u001b[0m\n",
       "\u001b[1m     \u001b[0m│\u001b[90m Int64 \u001b[0m\u001b[90m Int64 \u001b[0m\u001b[90m Int64 \u001b[0m\n",
       "─────┼─────────────────────\n",
       "   1 │     1      1      2\n",
       "   2 │     2      3      4"
      ]
     },
     "execution_count": 37,
     "metadata": {},
     "output_type": "execute_result"
    }
   ],
   "source": [
    "@chain df begin\n",
    "    groupby(:id)\n",
    "    combine(:val => (x -> [x]) => AsTable)\n",
    "end"
   ]
  },
  {
   "cell_type": "code",
   "execution_count": 38,
   "metadata": {
    "execution": {
     "iopub.execute_input": "2022-07-18T00:52:08.329000Z",
     "iopub.status.busy": "2022-07-18T00:52:08.328000Z",
     "iopub.status.idle": "2022-07-18T00:52:08.647000Z",
     "shell.execute_reply": "2022-07-18T00:52:08.646000Z"
    }
   },
   "outputs": [
    {
     "data": {
      "text/html": [
       "<div class=\"data-frame\"><p>2 rows × 3 columns</p><table class=\"data-frame\"><thead><tr><th></th><th>id</th><th>c1</th><th>c2</th></tr><tr><th></th><th title=\"Int64\">Int64</th><th title=\"Int64\">Int64</th><th title=\"Int64\">Int64</th></tr></thead><tbody><tr><th>1</th><td>1</td><td>1</td><td>2</td></tr><tr><th>2</th><td>2</td><td>3</td><td>4</td></tr></tbody></table></div>"
      ],
      "text/latex": [
       "\\begin{tabular}{r|ccc}\n",
       "\t& id & c1 & c2\\\\\n",
       "\t\\hline\n",
       "\t& Int64 & Int64 & Int64\\\\\n",
       "\t\\hline\n",
       "\t1 & 1 & 1 & 2 \\\\\n",
       "\t2 & 2 & 3 & 4 \\\\\n",
       "\\end{tabular}\n"
      ],
      "text/plain": [
       "\u001b[1m2×3 DataFrame\u001b[0m\n",
       "\u001b[1m Row \u001b[0m│\u001b[1m id    \u001b[0m\u001b[1m c1    \u001b[0m\u001b[1m c2    \u001b[0m\n",
       "\u001b[1m     \u001b[0m│\u001b[90m Int64 \u001b[0m\u001b[90m Int64 \u001b[0m\u001b[90m Int64 \u001b[0m\n",
       "─────┼─────────────────────\n",
       "   1 │     1      1      2\n",
       "   2 │     2      3      4"
      ]
     },
     "execution_count": 38,
     "metadata": {},
     "output_type": "execute_result"
    }
   ],
   "source": [
    "@chain df begin\n",
    "    groupby(:id)\n",
    "    combine(:val => (x -> [x]) => [:c1, :c2])\n",
    "end"
   ]
  },
  {
   "cell_type": "markdown",
   "metadata": {},
   "source": [
    "It is easy to unnest the column into multiple columns, e.g."
   ]
  },
  {
   "cell_type": "code",
   "execution_count": 39,
   "metadata": {
    "execution": {
     "iopub.execute_input": "2022-07-18T00:52:08.650000Z",
     "iopub.status.busy": "2022-07-18T00:52:08.650000Z",
     "iopub.status.idle": "2022-07-18T00:52:08.995000Z",
     "shell.execute_reply": "2022-07-18T00:52:08.995000Z"
    }
   },
   "outputs": [
    {
     "data": {
      "text/html": [
       "<div class=\"data-frame\"><p>2 rows × 1 columns</p><table class=\"data-frame\"><thead><tr><th></th><th>a</th></tr><tr><th></th><th title=\"NamedTuple{(:p, :q), Tuple{Int64, Int64}}\">NamedTup…</th></tr></thead><tbody><tr><th>1</th><td>(p = 1, q = 2)</td></tr><tr><th>2</th><td>(p = 3, q = 4)</td></tr></tbody></table></div>"
      ],
      "text/latex": [
       "\\begin{tabular}{r|c}\n",
       "\t& a\\\\\n",
       "\t\\hline\n",
       "\t& NamedTup…\\\\\n",
       "\t\\hline\n",
       "\t1 & (p = 1, q = 2) \\\\\n",
       "\t2 & (p = 3, q = 4) \\\\\n",
       "\\end{tabular}\n"
      ],
      "text/plain": [
       "\u001b[1m2×1 DataFrame\u001b[0m\n",
       "\u001b[1m Row \u001b[0m│\u001b[1m a              \u001b[0m\n",
       "\u001b[1m     \u001b[0m│\u001b[90m NamedTup…      \u001b[0m\n",
       "─────┼────────────────\n",
       "   1 │ (p = 1, q = 2)\n",
       "   2 │ (p = 3, q = 4)"
      ]
     },
     "execution_count": 39,
     "metadata": {},
     "output_type": "execute_result"
    }
   ],
   "source": [
    "df = DataFrame(a=[(p=1, q=2), (p=3, q=4)])"
   ]
  },
  {
   "cell_type": "code",
   "execution_count": 40,
   "metadata": {
    "execution": {
     "iopub.execute_input": "2022-07-18T00:52:08.999000Z",
     "iopub.status.busy": "2022-07-18T00:52:08.999000Z",
     "iopub.status.idle": "2022-07-18T00:52:09.246000Z",
     "shell.execute_reply": "2022-07-18T00:52:09.246000Z"
    }
   },
   "outputs": [
    {
     "data": {
      "text/html": [
       "<div class=\"data-frame\"><p>2 rows × 2 columns</p><table class=\"data-frame\"><thead><tr><th></th><th>p</th><th>q</th></tr><tr><th></th><th title=\"Int64\">Int64</th><th title=\"Int64\">Int64</th></tr></thead><tbody><tr><th>1</th><td>1</td><td>2</td></tr><tr><th>2</th><td>3</td><td>4</td></tr></tbody></table></div>"
      ],
      "text/latex": [
       "\\begin{tabular}{r|cc}\n",
       "\t& p & q\\\\\n",
       "\t\\hline\n",
       "\t& Int64 & Int64\\\\\n",
       "\t\\hline\n",
       "\t1 & 1 & 2 \\\\\n",
       "\t2 & 3 & 4 \\\\\n",
       "\\end{tabular}\n"
      ],
      "text/plain": [
       "\u001b[1m2×2 DataFrame\u001b[0m\n",
       "\u001b[1m Row \u001b[0m│\u001b[1m p     \u001b[0m\u001b[1m q     \u001b[0m\n",
       "\u001b[1m     \u001b[0m│\u001b[90m Int64 \u001b[0m\u001b[90m Int64 \u001b[0m\n",
       "─────┼──────────────\n",
       "   1 │     1      2\n",
       "   2 │     3      4"
      ]
     },
     "execution_count": 40,
     "metadata": {},
     "output_type": "execute_result"
    }
   ],
   "source": [
    "select(df, :a => AsTable)"
   ]
  },
  {
   "cell_type": "code",
   "execution_count": 41,
   "metadata": {
    "execution": {
     "iopub.execute_input": "2022-07-18T00:52:09.249000Z",
     "iopub.status.busy": "2022-07-18T00:52:09.249000Z",
     "iopub.status.idle": "2022-07-18T00:52:09.555000Z",
     "shell.execute_reply": "2022-07-18T00:52:09.555000Z"
    }
   },
   "outputs": [
    {
     "data": {
      "text/html": [
       "<div class=\"data-frame\"><p>2 rows × 1 columns</p><table class=\"data-frame\"><thead><tr><th></th><th>a</th></tr><tr><th></th><th title=\"Vector{Int64}\">Array…</th></tr></thead><tbody><tr><th>1</th><td>[1, 2]</td></tr><tr><th>2</th><td>[3, 4]</td></tr></tbody></table></div>"
      ],
      "text/latex": [
       "\\begin{tabular}{r|c}\n",
       "\t& a\\\\\n",
       "\t\\hline\n",
       "\t& Array…\\\\\n",
       "\t\\hline\n",
       "\t1 & [1, 2] \\\\\n",
       "\t2 & [3, 4] \\\\\n",
       "\\end{tabular}\n"
      ],
      "text/plain": [
       "\u001b[1m2×1 DataFrame\u001b[0m\n",
       "\u001b[1m Row \u001b[0m│\u001b[1m a      \u001b[0m\n",
       "\u001b[1m     \u001b[0m│\u001b[90m Array… \u001b[0m\n",
       "─────┼────────\n",
       "   1 │ [1, 2]\n",
       "   2 │ [3, 4]"
      ]
     },
     "execution_count": 41,
     "metadata": {},
     "output_type": "execute_result"
    }
   ],
   "source": [
    "df = DataFrame(a=[[1, 2], [3, 4]])"
   ]
  },
  {
   "cell_type": "code",
   "execution_count": 42,
   "metadata": {
    "execution": {
     "iopub.execute_input": "2022-07-18T00:52:09.559000Z",
     "iopub.status.busy": "2022-07-18T00:52:09.559000Z",
     "iopub.status.idle": "2022-07-18T00:52:09.659000Z",
     "shell.execute_reply": "2022-07-18T00:52:09.659000Z"
    }
   },
   "outputs": [
    {
     "data": {
      "text/html": [
       "<div class=\"data-frame\"><p>2 rows × 2 columns</p><table class=\"data-frame\"><thead><tr><th></th><th>x1</th><th>x2</th></tr><tr><th></th><th title=\"Int64\">Int64</th><th title=\"Int64\">Int64</th></tr></thead><tbody><tr><th>1</th><td>1</td><td>2</td></tr><tr><th>2</th><td>3</td><td>4</td></tr></tbody></table></div>"
      ],
      "text/latex": [
       "\\begin{tabular}{r|cc}\n",
       "\t& x1 & x2\\\\\n",
       "\t\\hline\n",
       "\t& Int64 & Int64\\\\\n",
       "\t\\hline\n",
       "\t1 & 1 & 2 \\\\\n",
       "\t2 & 3 & 4 \\\\\n",
       "\\end{tabular}\n"
      ],
      "text/plain": [
       "\u001b[1m2×2 DataFrame\u001b[0m\n",
       "\u001b[1m Row \u001b[0m│\u001b[1m x1    \u001b[0m\u001b[1m x2    \u001b[0m\n",
       "\u001b[1m     \u001b[0m│\u001b[90m Int64 \u001b[0m\u001b[90m Int64 \u001b[0m\n",
       "─────┼──────────────\n",
       "   1 │     1      2\n",
       "   2 │     3      4"
      ]
     },
     "execution_count": 42,
     "metadata": {},
     "output_type": "execute_result"
    }
   ],
   "source": [
    "select(df, :a => AsTable) # automatic column names generated"
   ]
  },
  {
   "cell_type": "code",
   "execution_count": 43,
   "metadata": {
    "execution": {
     "iopub.execute_input": "2022-07-18T00:52:09.663000Z",
     "iopub.status.busy": "2022-07-18T00:52:09.663000Z",
     "iopub.status.idle": "2022-07-18T00:52:09.735000Z",
     "shell.execute_reply": "2022-07-18T00:52:09.735000Z"
    }
   },
   "outputs": [
    {
     "data": {
      "text/html": [
       "<div class=\"data-frame\"><p>2 rows × 2 columns</p><table class=\"data-frame\"><thead><tr><th></th><th>C1</th><th>C2</th></tr><tr><th></th><th title=\"Int64\">Int64</th><th title=\"Int64\">Int64</th></tr></thead><tbody><tr><th>1</th><td>1</td><td>2</td></tr><tr><th>2</th><td>3</td><td>4</td></tr></tbody></table></div>"
      ],
      "text/latex": [
       "\\begin{tabular}{r|cc}\n",
       "\t& C1 & C2\\\\\n",
       "\t\\hline\n",
       "\t& Int64 & Int64\\\\\n",
       "\t\\hline\n",
       "\t1 & 1 & 2 \\\\\n",
       "\t2 & 3 & 4 \\\\\n",
       "\\end{tabular}\n"
      ],
      "text/plain": [
       "\u001b[1m2×2 DataFrame\u001b[0m\n",
       "\u001b[1m Row \u001b[0m│\u001b[1m C1    \u001b[0m\u001b[1m C2    \u001b[0m\n",
       "\u001b[1m     \u001b[0m│\u001b[90m Int64 \u001b[0m\u001b[90m Int64 \u001b[0m\n",
       "─────┼──────────────\n",
       "   1 │     1      2\n",
       "   2 │     3      4"
      ]
     },
     "execution_count": 43,
     "metadata": {},
     "output_type": "execute_result"
    }
   ],
   "source": [
    "select(df, :a => [:C1, :C2]) # custom column names generated"
   ]
  },
  {
   "cell_type": "markdown",
   "metadata": {},
   "source": [
    "Finally, observe that one can conveniently apply multiple transformations using broadcasting:"
   ]
  },
  {
   "cell_type": "code",
   "execution_count": 44,
   "metadata": {
    "execution": {
     "iopub.execute_input": "2022-07-18T00:52:09.739000Z",
     "iopub.status.busy": "2022-07-18T00:52:09.739000Z",
     "iopub.status.idle": "2022-07-18T00:52:09.843000Z",
     "shell.execute_reply": "2022-07-18T00:52:09.843000Z"
    }
   },
   "outputs": [
    {
     "data": {
      "text/html": [
       "<div class=\"data-frame\"><p>100 rows × 3 columns</p><table class=\"data-frame\"><thead><tr><th></th><th>id</th><th>x1</th><th>x2</th></tr><tr><th></th><th title=\"Int64\">Int64</th><th title=\"Int64\">Int64</th><th title=\"Int64\">Int64</th></tr></thead><tbody><tr><th>1</th><td>1</td><td>1</td><td>101</td></tr><tr><th>2</th><td>2</td><td>2</td><td>102</td></tr><tr><th>3</th><td>3</td><td>3</td><td>103</td></tr><tr><th>4</th><td>4</td><td>4</td><td>104</td></tr><tr><th>5</th><td>5</td><td>5</td><td>105</td></tr><tr><th>6</th><td>6</td><td>6</td><td>106</td></tr><tr><th>7</th><td>7</td><td>7</td><td>107</td></tr><tr><th>8</th><td>8</td><td>8</td><td>108</td></tr><tr><th>9</th><td>9</td><td>9</td><td>109</td></tr><tr><th>10</th><td>10</td><td>10</td><td>110</td></tr><tr><th>11</th><td>1</td><td>11</td><td>111</td></tr><tr><th>12</th><td>2</td><td>12</td><td>112</td></tr><tr><th>13</th><td>3</td><td>13</td><td>113</td></tr><tr><th>14</th><td>4</td><td>14</td><td>114</td></tr><tr><th>15</th><td>5</td><td>15</td><td>115</td></tr><tr><th>&vellip;</th><td>&vellip;</td><td>&vellip;</td><td>&vellip;</td></tr></tbody></table></div>"
      ],
      "text/latex": [
       "\\begin{tabular}{r|ccc}\n",
       "\t& id & x1 & x2\\\\\n",
       "\t\\hline\n",
       "\t& Int64 & Int64 & Int64\\\\\n",
       "\t\\hline\n",
       "\t1 & 1 & 1 & 101 \\\\\n",
       "\t2 & 2 & 2 & 102 \\\\\n",
       "\t3 & 3 & 3 & 103 \\\\\n",
       "\t4 & 4 & 4 & 104 \\\\\n",
       "\t5 & 5 & 5 & 105 \\\\\n",
       "\t6 & 6 & 6 & 106 \\\\\n",
       "\t7 & 7 & 7 & 107 \\\\\n",
       "\t8 & 8 & 8 & 108 \\\\\n",
       "\t9 & 9 & 9 & 109 \\\\\n",
       "\t10 & 10 & 10 & 110 \\\\\n",
       "\t11 & 1 & 11 & 111 \\\\\n",
       "\t12 & 2 & 12 & 112 \\\\\n",
       "\t13 & 3 & 13 & 113 \\\\\n",
       "\t14 & 4 & 14 & 114 \\\\\n",
       "\t15 & 5 & 15 & 115 \\\\\n",
       "\t$\\dots$ & $\\dots$ & $\\dots$ & $\\dots$ \\\\\n",
       "\\end{tabular}\n"
      ],
      "text/plain": [
       "\u001b[1m100×3 DataFrame\u001b[0m\n",
       "\u001b[1m Row \u001b[0m│\u001b[1m id    \u001b[0m\u001b[1m x1    \u001b[0m\u001b[1m x2    \u001b[0m\n",
       "\u001b[1m     \u001b[0m│\u001b[90m Int64 \u001b[0m\u001b[90m Int64 \u001b[0m\u001b[90m Int64 \u001b[0m\n",
       "─────┼─────────────────────\n",
       "   1 │     1      1    101\n",
       "   2 │     2      2    102\n",
       "   3 │     3      3    103\n",
       "  ⋮  │   ⋮      ⋮      ⋮\n",
       "  98 │     8     98    198\n",
       "  99 │     9     99    199\n",
       " 100 │    10    100    200\n",
       "\u001b[36m            94 rows omitted\u001b[0m"
      ]
     },
     "execution_count": 44,
     "metadata": {},
     "output_type": "execute_result"
    }
   ],
   "source": [
    "df = DataFrame(id=repeat(1:10, 10), x1=1:100, x2=101:200)"
   ]
  },
  {
   "cell_type": "code",
   "execution_count": 45,
   "metadata": {
    "execution": {
     "iopub.execute_input": "2022-07-18T00:52:09.846000Z",
     "iopub.status.busy": "2022-07-18T00:52:09.846000Z",
     "iopub.status.idle": "2022-07-18T00:52:10.329000Z",
     "shell.execute_reply": "2022-07-18T00:52:10.329000Z"
    }
   },
   "outputs": [
    {
     "data": {
      "text/html": [
       "<div class=\"data-frame\"><p>10 rows × 3 columns</p><table class=\"data-frame\"><thead><tr><th></th><th>id</th><th>x1_minimum</th><th>x2_minimum</th></tr><tr><th></th><th title=\"Int64\">Int64</th><th title=\"Int64\">Int64</th><th title=\"Int64\">Int64</th></tr></thead><tbody><tr><th>1</th><td>1</td><td>1</td><td>101</td></tr><tr><th>2</th><td>2</td><td>2</td><td>102</td></tr><tr><th>3</th><td>3</td><td>3</td><td>103</td></tr><tr><th>4</th><td>4</td><td>4</td><td>104</td></tr><tr><th>5</th><td>5</td><td>5</td><td>105</td></tr><tr><th>6</th><td>6</td><td>6</td><td>106</td></tr><tr><th>7</th><td>7</td><td>7</td><td>107</td></tr><tr><th>8</th><td>8</td><td>8</td><td>108</td></tr><tr><th>9</th><td>9</td><td>9</td><td>109</td></tr><tr><th>10</th><td>10</td><td>10</td><td>110</td></tr></tbody></table></div>"
      ],
      "text/latex": [
       "\\begin{tabular}{r|ccc}\n",
       "\t& id & x1\\_minimum & x2\\_minimum\\\\\n",
       "\t\\hline\n",
       "\t& Int64 & Int64 & Int64\\\\\n",
       "\t\\hline\n",
       "\t1 & 1 & 1 & 101 \\\\\n",
       "\t2 & 2 & 2 & 102 \\\\\n",
       "\t3 & 3 & 3 & 103 \\\\\n",
       "\t4 & 4 & 4 & 104 \\\\\n",
       "\t5 & 5 & 5 & 105 \\\\\n",
       "\t6 & 6 & 6 & 106 \\\\\n",
       "\t7 & 7 & 7 & 107 \\\\\n",
       "\t8 & 8 & 8 & 108 \\\\\n",
       "\t9 & 9 & 9 & 109 \\\\\n",
       "\t10 & 10 & 10 & 110 \\\\\n",
       "\\end{tabular}\n"
      ],
      "text/plain": [
       "\u001b[1m10×3 DataFrame\u001b[0m\n",
       "\u001b[1m Row \u001b[0m│\u001b[1m id    \u001b[0m\u001b[1m x1_minimum \u001b[0m\u001b[1m x2_minimum \u001b[0m\n",
       "\u001b[1m     \u001b[0m│\u001b[90m Int64 \u001b[0m\u001b[90m Int64      \u001b[0m\u001b[90m Int64      \u001b[0m\n",
       "─────┼───────────────────────────────\n",
       "   1 │     1           1         101\n",
       "   2 │     2           2         102\n",
       "   3 │     3           3         103\n",
       "  ⋮  │   ⋮        ⋮           ⋮\n",
       "   8 │     8           8         108\n",
       "   9 │     9           9         109\n",
       "  10 │    10          10         110\n",
       "\u001b[36m                       4 rows omitted\u001b[0m"
      ]
     },
     "execution_count": 45,
     "metadata": {},
     "output_type": "execute_result"
    }
   ],
   "source": [
    "@chain df begin\n",
    "    groupby(:id)\n",
    "    combine([:x1, :x2] .=> minimum)\n",
    "end"
   ]
  },
  {
   "cell_type": "code",
   "execution_count": 46,
   "metadata": {
    "execution": {
     "iopub.execute_input": "2022-07-18T00:52:10.333000Z",
     "iopub.status.busy": "2022-07-18T00:52:10.333000Z",
     "iopub.status.idle": "2022-07-18T00:52:11.788000Z",
     "shell.execute_reply": "2022-07-18T00:52:11.788000Z"
    }
   },
   "outputs": [
    {
     "data": {
      "text/html": [
       "<div class=\"data-frame\"><p>10 rows × 5 columns</p><table class=\"data-frame\"><thead><tr><th></th><th>id</th><th>x1_minimum</th><th>x2_minimum</th><th>x1_maximum</th><th>x2_maximum</th></tr><tr><th></th><th title=\"Int64\">Int64</th><th title=\"Int64\">Int64</th><th title=\"Int64\">Int64</th><th title=\"Int64\">Int64</th><th title=\"Int64\">Int64</th></tr></thead><tbody><tr><th>1</th><td>1</td><td>1</td><td>101</td><td>91</td><td>191</td></tr><tr><th>2</th><td>2</td><td>2</td><td>102</td><td>92</td><td>192</td></tr><tr><th>3</th><td>3</td><td>3</td><td>103</td><td>93</td><td>193</td></tr><tr><th>4</th><td>4</td><td>4</td><td>104</td><td>94</td><td>194</td></tr><tr><th>5</th><td>5</td><td>5</td><td>105</td><td>95</td><td>195</td></tr><tr><th>6</th><td>6</td><td>6</td><td>106</td><td>96</td><td>196</td></tr><tr><th>7</th><td>7</td><td>7</td><td>107</td><td>97</td><td>197</td></tr><tr><th>8</th><td>8</td><td>8</td><td>108</td><td>98</td><td>198</td></tr><tr><th>9</th><td>9</td><td>9</td><td>109</td><td>99</td><td>199</td></tr><tr><th>10</th><td>10</td><td>10</td><td>110</td><td>100</td><td>200</td></tr></tbody></table></div>"
      ],
      "text/latex": [
       "\\begin{tabular}{r|ccccc}\n",
       "\t& id & x1\\_minimum & x2\\_minimum & x1\\_maximum & x2\\_maximum\\\\\n",
       "\t\\hline\n",
       "\t& Int64 & Int64 & Int64 & Int64 & Int64\\\\\n",
       "\t\\hline\n",
       "\t1 & 1 & 1 & 101 & 91 & 191 \\\\\n",
       "\t2 & 2 & 2 & 102 & 92 & 192 \\\\\n",
       "\t3 & 3 & 3 & 103 & 93 & 193 \\\\\n",
       "\t4 & 4 & 4 & 104 & 94 & 194 \\\\\n",
       "\t5 & 5 & 5 & 105 & 95 & 195 \\\\\n",
       "\t6 & 6 & 6 & 106 & 96 & 196 \\\\\n",
       "\t7 & 7 & 7 & 107 & 97 & 197 \\\\\n",
       "\t8 & 8 & 8 & 108 & 98 & 198 \\\\\n",
       "\t9 & 9 & 9 & 109 & 99 & 199 \\\\\n",
       "\t10 & 10 & 10 & 110 & 100 & 200 \\\\\n",
       "\\end{tabular}\n"
      ],
      "text/plain": [
       "\u001b[1m10×5 DataFrame\u001b[0m\n",
       "\u001b[1m Row \u001b[0m│\u001b[1m id    \u001b[0m\u001b[1m x1_minimum \u001b[0m\u001b[1m x2_minimum \u001b[0m\u001b[1m x1_maximum \u001b[0m\u001b[1m x2_maximum \u001b[0m\n",
       "\u001b[1m     \u001b[0m│\u001b[90m Int64 \u001b[0m\u001b[90m Int64      \u001b[0m\u001b[90m Int64      \u001b[0m\u001b[90m Int64      \u001b[0m\u001b[90m Int64      \u001b[0m\n",
       "─────┼───────────────────────────────────────────────────────\n",
       "   1 │     1           1         101          91         191\n",
       "   2 │     2           2         102          92         192\n",
       "   3 │     3           3         103          93         193\n",
       "  ⋮  │   ⋮        ⋮           ⋮           ⋮           ⋮\n",
       "   8 │     8           8         108          98         198\n",
       "   9 │     9           9         109          99         199\n",
       "  10 │    10          10         110         100         200\n",
       "\u001b[36m                                               4 rows omitted\u001b[0m"
      ]
     },
     "execution_count": 46,
     "metadata": {},
     "output_type": "execute_result"
    }
   ],
   "source": [
    "@chain df begin\n",
    "    groupby(:id)\n",
    "    combine([:x1, :x2] .=> [minimum maximum])\n",
    "end"
   ]
  },
  {
   "cell_type": "markdown",
   "metadata": {},
   "source": [
    "## Aggregation of a data frame using `mapcols`"
   ]
  },
  {
   "cell_type": "code",
   "execution_count": 47,
   "metadata": {
    "execution": {
     "iopub.execute_input": "2022-07-18T00:52:11.791000Z",
     "iopub.status.busy": "2022-07-18T00:52:11.791000Z",
     "iopub.status.idle": "2022-07-18T00:52:11.973000Z",
     "shell.execute_reply": "2022-07-18T00:52:11.973000Z"
    }
   },
   "outputs": [
    {
     "data": {
      "text/html": [
       "<div class=\"data-frame\"><p>10 rows × 10 columns (omitted printing of 2 columns)</p><table class=\"data-frame\"><thead><tr><th></th><th>x1</th><th>x2</th><th>x3</th><th>x4</th><th>x5</th><th>x6</th><th>x7</th><th>x8</th></tr><tr><th></th><th title=\"Float64\">Float64</th><th title=\"Float64\">Float64</th><th title=\"Float64\">Float64</th><th title=\"Float64\">Float64</th><th title=\"Float64\">Float64</th><th title=\"Float64\">Float64</th><th title=\"Float64\">Float64</th><th title=\"Float64\">Float64</th></tr></thead><tbody><tr><th>1</th><td>0.354268</td><td>0.873015</td><td>0.93014</td><td>0.0104162</td><td>0.213091</td><td>0.262302</td><td>0.833839</td><td>0.895973</td></tr><tr><th>2</th><td>0.776235</td><td>0.00764766</td><td>0.0862056</td><td>0.6051</td><td>0.909829</td><td>0.374558</td><td>0.796315</td><td>0.0808443</td></tr><tr><th>3</th><td>0.717413</td><td>0.591102</td><td>0.928276</td><td>0.656755</td><td>0.219839</td><td>0.0415058</td><td>0.552423</td><td>0.898149</td></tr><tr><th>4</th><td>0.451906</td><td>0.162357</td><td>0.541938</td><td>0.00625896</td><td>0.737582</td><td>0.991554</td><td>0.557809</td><td>0.0120028</td></tr><tr><th>5</th><td>0.507529</td><td>0.0561791</td><td>0.89407</td><td>0.197141</td><td>0.924109</td><td>0.0650814</td><td>0.399798</td><td>0.325991</td></tr><tr><th>6</th><td>0.901789</td><td>0.0372622</td><td>0.704815</td><td>0.789571</td><td>0.0697927</td><td>0.411419</td><td>0.65967</td><td>0.560161</td></tr><tr><th>7</th><td>0.516463</td><td>0.435145</td><td>0.594665</td><td>0.32359</td><td>0.820625</td><td>0.350092</td><td>0.671403</td><td>0.404231</td></tr><tr><th>8</th><td>0.417311</td><td>0.274661</td><td>0.00661109</td><td>0.0850267</td><td>0.150675</td><td>0.0450118</td><td>0.255303</td><td>0.384242</td></tr><tr><th>9</th><td>0.0430597</td><td>0.0089387</td><td>0.891823</td><td>0.065217</td><td>0.359573</td><td>0.531169</td><td>0.694857</td><td>0.322824</td></tr><tr><th>10</th><td>0.977402</td><td>0.277415</td><td>0.993957</td><td>0.304674</td><td>0.328166</td><td>0.681454</td><td>0.246593</td><td>0.931239</td></tr></tbody></table></div>"
      ],
      "text/latex": [
       "\\begin{tabular}{r|ccccccccc}\n",
       "\t& x1 & x2 & x3 & x4 & x5 & x6 & x7 & x8 & \\\\\n",
       "\t\\hline\n",
       "\t& Float64 & Float64 & Float64 & Float64 & Float64 & Float64 & Float64 & Float64 & \\\\\n",
       "\t\\hline\n",
       "\t1 & 0.354268 & 0.873015 & 0.93014 & 0.0104162 & 0.213091 & 0.262302 & 0.833839 & 0.895973 & $\\dots$ \\\\\n",
       "\t2 & 0.776235 & 0.00764766 & 0.0862056 & 0.6051 & 0.909829 & 0.374558 & 0.796315 & 0.0808443 & $\\dots$ \\\\\n",
       "\t3 & 0.717413 & 0.591102 & 0.928276 & 0.656755 & 0.219839 & 0.0415058 & 0.552423 & 0.898149 & $\\dots$ \\\\\n",
       "\t4 & 0.451906 & 0.162357 & 0.541938 & 0.00625896 & 0.737582 & 0.991554 & 0.557809 & 0.0120028 & $\\dots$ \\\\\n",
       "\t5 & 0.507529 & 0.0561791 & 0.89407 & 0.197141 & 0.924109 & 0.0650814 & 0.399798 & 0.325991 & $\\dots$ \\\\\n",
       "\t6 & 0.901789 & 0.0372622 & 0.704815 & 0.789571 & 0.0697927 & 0.411419 & 0.65967 & 0.560161 & $\\dots$ \\\\\n",
       "\t7 & 0.516463 & 0.435145 & 0.594665 & 0.32359 & 0.820625 & 0.350092 & 0.671403 & 0.404231 & $\\dots$ \\\\\n",
       "\t8 & 0.417311 & 0.274661 & 0.00661109 & 0.0850267 & 0.150675 & 0.0450118 & 0.255303 & 0.384242 & $\\dots$ \\\\\n",
       "\t9 & 0.0430597 & 0.0089387 & 0.891823 & 0.065217 & 0.359573 & 0.531169 & 0.694857 & 0.322824 & $\\dots$ \\\\\n",
       "\t10 & 0.977402 & 0.277415 & 0.993957 & 0.304674 & 0.328166 & 0.681454 & 0.246593 & 0.931239 & $\\dots$ \\\\\n",
       "\\end{tabular}\n"
      ],
      "text/plain": [
       "\u001b[1m10×10 DataFrame\u001b[0m\n",
       "\u001b[1m Row \u001b[0m│\u001b[1m x1        \u001b[0m\u001b[1m x2         \u001b[0m\u001b[1m x3         \u001b[0m\u001b[1m x4         \u001b[0m\u001b[1m x5        \u001b[0m\u001b[1m x6        \u001b[0m\u001b[1m x7\u001b[0m ⋯\n",
       "\u001b[1m     \u001b[0m│\u001b[90m Float64   \u001b[0m\u001b[90m Float64    \u001b[0m\u001b[90m Float64    \u001b[0m\u001b[90m Float64    \u001b[0m\u001b[90m Float64   \u001b[0m\u001b[90m Float64   \u001b[0m\u001b[90m Fl\u001b[0m ⋯\n",
       "─────┼──────────────────────────────────────────────────────────────────────────\n",
       "   1 │ 0.354268   0.873015    0.93014     0.0104162   0.213091   0.262302   0. ⋯\n",
       "   2 │ 0.776235   0.00764766  0.0862056   0.6051      0.909829   0.374558   0.\n",
       "   3 │ 0.717413   0.591102    0.928276    0.656755    0.219839   0.0415058  0.\n",
       "  ⋮  │     ⋮          ⋮           ⋮           ⋮           ⋮          ⋮         ⋱\n",
       "   8 │ 0.417311   0.274661    0.00661109  0.0850267   0.150675   0.0450118  0.\n",
       "   9 │ 0.0430597  0.0089387   0.891823    0.065217    0.359573   0.531169   0. ⋯\n",
       "  10 │ 0.977402   0.277415    0.993957    0.304674    0.328166   0.681454   0.\n",
       "\u001b[36m                                                    4 columns and 4 rows omitted\u001b[0m"
      ]
     },
     "execution_count": 47,
     "metadata": {},
     "output_type": "execute_result"
    }
   ],
   "source": [
    "x = DataFrame(rand(10, 10), :auto)"
   ]
  },
  {
   "cell_type": "code",
   "execution_count": 48,
   "metadata": {
    "execution": {
     "iopub.execute_input": "2022-07-18T00:52:11.977000Z",
     "iopub.status.busy": "2022-07-18T00:52:11.977000Z",
     "iopub.status.idle": "2022-07-18T00:52:12.078000Z",
     "shell.execute_reply": "2022-07-18T00:52:12.078000Z"
    }
   },
   "outputs": [
    {
     "data": {
      "text/html": [
       "<div class=\"data-frame\"><p>1 rows × 10 columns (omitted printing of 1 columns)</p><table class=\"data-frame\"><thead><tr><th></th><th>x1</th><th>x2</th><th>x3</th><th>x4</th><th>x5</th><th>x6</th><th>x7</th><th>x8</th><th>x9</th></tr><tr><th></th><th title=\"Float64\">Float64</th><th title=\"Float64\">Float64</th><th title=\"Float64\">Float64</th><th title=\"Float64\">Float64</th><th title=\"Float64\">Float64</th><th title=\"Float64\">Float64</th><th title=\"Float64\">Float64</th><th title=\"Float64\">Float64</th><th title=\"Float64\">Float64</th></tr></thead><tbody><tr><th>1</th><td>0.566338</td><td>0.272372</td><td>0.65725</td><td>0.304375</td><td>0.473328</td><td>0.375415</td><td>0.566801</td><td>0.481566</td><td>0.457517</td></tr></tbody></table></div>"
      ],
      "text/latex": [
       "\\begin{tabular}{r|cccccccccc}\n",
       "\t& x1 & x2 & x3 & x4 & x5 & x6 & x7 & x8 & x9 & \\\\\n",
       "\t\\hline\n",
       "\t& Float64 & Float64 & Float64 & Float64 & Float64 & Float64 & Float64 & Float64 & Float64 & \\\\\n",
       "\t\\hline\n",
       "\t1 & 0.566338 & 0.272372 & 0.65725 & 0.304375 & 0.473328 & 0.375415 & 0.566801 & 0.481566 & 0.457517 & $\\dots$ \\\\\n",
       "\\end{tabular}\n"
      ],
      "text/plain": [
       "\u001b[1m1×10 DataFrame\u001b[0m\n",
       "\u001b[1m Row \u001b[0m│\u001b[1m x1       \u001b[0m\u001b[1m x2       \u001b[0m\u001b[1m x3      \u001b[0m\u001b[1m x4       \u001b[0m\u001b[1m x5       \u001b[0m\u001b[1m x6       \u001b[0m\u001b[1m x7       \u001b[0m\u001b[1m x8\u001b[0m ⋯\n",
       "\u001b[1m     \u001b[0m│\u001b[90m Float64  \u001b[0m\u001b[90m Float64  \u001b[0m\u001b[90m Float64 \u001b[0m\u001b[90m Float64  \u001b[0m\u001b[90m Float64  \u001b[0m\u001b[90m Float64  \u001b[0m\u001b[90m Float64  \u001b[0m\u001b[90m Fl\u001b[0m ⋯\n",
       "─────┼──────────────────────────────────────────────────────────────────────────\n",
       "   1 │ 0.566338  0.272372  0.65725  0.304375  0.473328  0.375415  0.566801  0. ⋯\n",
       "\u001b[36m                                                               3 columns omitted\u001b[0m"
      ]
     },
     "execution_count": 48,
     "metadata": {},
     "output_type": "execute_result"
    }
   ],
   "source": [
    "mapcols(mean, x)"
   ]
  },
  {
   "cell_type": "markdown",
   "metadata": {},
   "source": [
    "## Mapping rows and columns using `eachcol` and `eachrow`"
   ]
  },
  {
   "cell_type": "code",
   "execution_count": 49,
   "metadata": {
    "execution": {
     "iopub.execute_input": "2022-07-18T00:52:12.083000Z",
     "iopub.status.busy": "2022-07-18T00:52:12.083000Z",
     "iopub.status.idle": "2022-07-18T00:52:12.772000Z",
     "shell.execute_reply": "2022-07-18T00:52:12.772000Z"
    }
   },
   "outputs": [
    {
     "data": {
      "text/plain": [
       "10-element Vector{Float64}:\n",
       " 0.5663375726308216\n",
       " 0.2723722436169408\n",
       " 0.6572502051595068\n",
       " 0.3043750021077753\n",
       " 0.4733283022332831\n",
       " 0.3754147060503007\n",
       " 0.566800992709003\n",
       " 0.4815657958795795\n",
       " 0.45751652305515333\n",
       " 0.6036339974117859"
      ]
     },
     "execution_count": 49,
     "metadata": {},
     "output_type": "execute_result"
    }
   ],
   "source": [
    "map(mean, eachcol(x)) # map a function over each column and return a vector"
   ]
  },
  {
   "cell_type": "code",
   "execution_count": 50,
   "metadata": {
    "execution": {
     "iopub.execute_input": "2022-07-18T00:52:12.776000Z",
     "iopub.status.busy": "2022-07-18T00:52:12.776000Z",
     "iopub.status.idle": "2022-07-18T00:52:12.890000Z",
     "shell.execute_reply": "2022-07-18T00:52:12.890000Z"
    }
   },
   "outputs": [
    {
     "name": "stdout",
     "output_type": "stream",
     "text": [
      "x1: 0.5663375726308216\n",
      "x2: 0.2723722436169408\n",
      "x3: 0.6572502051595068\n",
      "x4: 0.3043750021077753\n",
      "x5: 0.4733283022332831\n",
      "x6: 0.3754147060503007\n",
      "x7: 0.566800992709003\n",
      "x8: 0.4815657958795795\n",
      "x9: 0.45751652305515333\n",
      "x10: 0.6036339974117859\n"
     ]
    }
   ],
   "source": [
    "# an iteration returns a Pair with column name and values\n",
    "foreach(c -> println(c[1], \": \", mean(c[2])), pairs(eachcol(x)))"
   ]
  },
  {
   "cell_type": "code",
   "execution_count": 51,
   "metadata": {
    "execution": {
     "iopub.execute_input": "2022-07-18T00:52:12.894000Z",
     "iopub.status.busy": "2022-07-18T00:52:12.893000Z",
     "iopub.status.idle": "2022-07-18T00:52:13.019000Z",
     "shell.execute_reply": "2022-07-18T00:52:13.019000Z"
    }
   },
   "outputs": [
    {
     "data": {
      "text/plain": [
       "10-element Vector{Float64}:\n",
       "   0.40579839704261916\n",
       " 101.4997508578975\n",
       "   1.213685891139837\n",
       "   2.78341516012656\n",
       "   9.034129545091035\n",
       "  24.201165898293812\n",
       "   1.1868746493528575\n",
       "   1.5193682223521623\n",
       "   4.817217415544102\n",
       "   3.523253373311462"
      ]
     },
     "execution_count": 51,
     "metadata": {},
     "output_type": "execute_result"
    }
   ],
   "source": [
    "# now the returned value is DataFrameRow which works as a NamedTuple but is a view to a parent DataFrame\n",
    "map(r -> r.x1/r.x2, eachrow(x))"
   ]
  },
  {
   "cell_type": "code",
   "execution_count": 52,
   "metadata": {
    "execution": {
     "iopub.execute_input": "2022-07-18T00:52:13.022000Z",
     "iopub.status.busy": "2022-07-18T00:52:13.022000Z",
     "iopub.status.idle": "2022-07-18T00:52:13.709000Z",
     "shell.execute_reply": "2022-07-18T00:52:13.709000Z"
    }
   },
   "outputs": [
    {
     "data": {
      "text/html": [
       "<p>10×10 DataFrameRows</p><div class=\"data-frame\"><table class=\"data-frame\"><thead><tr><th></th><th>x1</th><th>x2</th><th>x3</th><th>x4</th><th>x5</th><th>x6</th><th>x7</th><th>x8</th></tr><tr><th></th><th title=\"Float64\">Float64</th><th title=\"Float64\">Float64</th><th title=\"Float64\">Float64</th><th title=\"Float64\">Float64</th><th title=\"Float64\">Float64</th><th title=\"Float64\">Float64</th><th title=\"Float64\">Float64</th><th title=\"Float64\">Float64</th></tr></thead><tbody><tr><th>1</th><td>0.354268</td><td>0.873015</td><td>0.93014</td><td>0.0104162</td><td>0.213091</td><td>0.262302</td><td>0.833839</td><td>0.895973</td></tr><tr><th>2</th><td>0.776235</td><td>0.00764766</td><td>0.0862056</td><td>0.6051</td><td>0.909829</td><td>0.374558</td><td>0.796315</td><td>0.0808443</td></tr><tr><th>3</th><td>0.717413</td><td>0.591102</td><td>0.928276</td><td>0.656755</td><td>0.219839</td><td>0.0415058</td><td>0.552423</td><td>0.898149</td></tr><tr><th>4</th><td>0.451906</td><td>0.162357</td><td>0.541938</td><td>0.00625896</td><td>0.737582</td><td>0.991554</td><td>0.557809</td><td>0.0120028</td></tr><tr><th>5</th><td>0.507529</td><td>0.0561791</td><td>0.89407</td><td>0.197141</td><td>0.924109</td><td>0.0650814</td><td>0.399798</td><td>0.325991</td></tr><tr><th>6</th><td>0.901789</td><td>0.0372622</td><td>0.704815</td><td>0.789571</td><td>0.0697927</td><td>0.411419</td><td>0.65967</td><td>0.560161</td></tr><tr><th>7</th><td>0.516463</td><td>0.435145</td><td>0.594665</td><td>0.32359</td><td>0.820625</td><td>0.350092</td><td>0.671403</td><td>0.404231</td></tr><tr><th>8</th><td>0.417311</td><td>0.274661</td><td>0.00661109</td><td>0.0850267</td><td>0.150675</td><td>0.0450118</td><td>0.255303</td><td>0.384242</td></tr><tr><th>9</th><td>0.0430597</td><td>0.0089387</td><td>0.891823</td><td>0.065217</td><td>0.359573</td><td>0.531169</td><td>0.694857</td><td>0.322824</td></tr><tr><th>10</th><td>0.977402</td><td>0.277415</td><td>0.993957</td><td>0.304674</td><td>0.328166</td><td>0.681454</td><td>0.246593</td><td>0.931239</td></tr></tbody></table></div>"
      ],
      "text/latex": [
       "\\begin{tabular}{r|ccccccccc}\n",
       "\t& x1 & x2 & x3 & x4 & x5 & x6 & x7 & x8 & \\\\\n",
       "\t\\hline\n",
       "\t& Float64 & Float64 & Float64 & Float64 & Float64 & Float64 & Float64 & Float64 & \\\\\n",
       "\t\\hline\n",
       "\t1 & 0.354268 & 0.873015 & 0.93014 & 0.0104162 & 0.213091 & 0.262302 & 0.833839 & 0.895973 & $\\dots$ \\\\\n",
       "\t2 & 0.776235 & 0.00764766 & 0.0862056 & 0.6051 & 0.909829 & 0.374558 & 0.796315 & 0.0808443 & $\\dots$ \\\\\n",
       "\t3 & 0.717413 & 0.591102 & 0.928276 & 0.656755 & 0.219839 & 0.0415058 & 0.552423 & 0.898149 & $\\dots$ \\\\\n",
       "\t4 & 0.451906 & 0.162357 & 0.541938 & 0.00625896 & 0.737582 & 0.991554 & 0.557809 & 0.0120028 & $\\dots$ \\\\\n",
       "\t5 & 0.507529 & 0.0561791 & 0.89407 & 0.197141 & 0.924109 & 0.0650814 & 0.399798 & 0.325991 & $\\dots$ \\\\\n",
       "\t6 & 0.901789 & 0.0372622 & 0.704815 & 0.789571 & 0.0697927 & 0.411419 & 0.65967 & 0.560161 & $\\dots$ \\\\\n",
       "\t7 & 0.516463 & 0.435145 & 0.594665 & 0.32359 & 0.820625 & 0.350092 & 0.671403 & 0.404231 & $\\dots$ \\\\\n",
       "\t8 & 0.417311 & 0.274661 & 0.00661109 & 0.0850267 & 0.150675 & 0.0450118 & 0.255303 & 0.384242 & $\\dots$ \\\\\n",
       "\t9 & 0.0430597 & 0.0089387 & 0.891823 & 0.065217 & 0.359573 & 0.531169 & 0.694857 & 0.322824 & $\\dots$ \\\\\n",
       "\t10 & 0.977402 & 0.277415 & 0.993957 & 0.304674 & 0.328166 & 0.681454 & 0.246593 & 0.931239 & $\\dots$ \\\\\n",
       "\\end{tabular}\n"
      ],
      "text/plain": [
       "\u001b[1m10×10 DataFrameRows\u001b[0m\n",
       "\u001b[1m Row \u001b[0m│\u001b[1m x1        \u001b[0m\u001b[1m x2         \u001b[0m\u001b[1m x3         \u001b[0m\u001b[1m x4         \u001b[0m\u001b[1m x5        \u001b[0m\u001b[1m x6        \u001b[0m\u001b[1m x7\u001b[0m ⋯\n",
       "\u001b[1m     \u001b[0m│\u001b[90m Float64   \u001b[0m\u001b[90m Float64    \u001b[0m\u001b[90m Float64    \u001b[0m\u001b[90m Float64    \u001b[0m\u001b[90m Float64   \u001b[0m\u001b[90m Float64   \u001b[0m\u001b[90m Fl\u001b[0m ⋯\n",
       "─────┼──────────────────────────────────────────────────────────────────────────\n",
       "   1 │ 0.354268   0.873015    0.93014     0.0104162   0.213091   0.262302   0. ⋯\n",
       "   2 │ 0.776235   0.00764766  0.0862056   0.6051      0.909829   0.374558   0.\n",
       "   3 │ 0.717413   0.591102    0.928276    0.656755    0.219839   0.0415058  0.\n",
       "  ⋮  │     ⋮          ⋮           ⋮           ⋮           ⋮          ⋮         ⋱\n",
       "   8 │ 0.417311   0.274661    0.00661109  0.0850267   0.150675   0.0450118  0.\n",
       "   9 │ 0.0430597  0.0089387   0.891823    0.065217    0.359573   0.531169   0. ⋯\n",
       "  10 │ 0.977402   0.277415    0.993957    0.304674    0.328166   0.681454   0.\n",
       "\u001b[36m                                                    4 columns and 4 rows omitted\u001b[0m"
      ]
     },
     "execution_count": 52,
     "metadata": {},
     "output_type": "execute_result"
    }
   ],
   "source": [
    "# it prints like a data frame, only the caption is different so that you know the type of the object\n",
    "er = eachrow(x)"
   ]
  },
  {
   "cell_type": "code",
   "execution_count": 53,
   "metadata": {
    "execution": {
     "iopub.execute_input": "2022-07-18T00:52:13.713000Z",
     "iopub.status.busy": "2022-07-18T00:52:13.712000Z",
     "iopub.status.idle": "2022-07-18T00:52:13.721000Z",
     "shell.execute_reply": "2022-07-18T00:52:13.721000Z"
    }
   },
   "outputs": [
    {
     "data": {
      "text/plain": [
       "10-element Vector{Float64}:\n",
       " 0.3542681412875809\n",
       " 0.7762353768470296\n",
       " 0.7174127148980128\n",
       " 0.45190577670303245\n",
       " 0.5075294944849811\n",
       " 0.9017890285520767\n",
       " 0.5164628718425988\n",
       " 0.4173107706658191\n",
       " 0.043059684892867156\n",
       " 0.9774018661342193"
      ]
     },
     "execution_count": 53,
     "metadata": {},
     "output_type": "execute_result"
    }
   ],
   "source": [
    "er.x1 # you can access columns of a parent data frame directly"
   ]
  },
  {
   "cell_type": "code",
   "execution_count": 54,
   "metadata": {
    "execution": {
     "iopub.execute_input": "2022-07-18T00:52:13.726000Z",
     "iopub.status.busy": "2022-07-18T00:52:13.726000Z",
     "iopub.status.idle": "2022-07-18T00:52:14.152000Z",
     "shell.execute_reply": "2022-07-18T00:52:14.152000Z"
    }
   },
   "outputs": [
    {
     "data": {
      "text/html": [
       "<p>10×10 DataFrameColumns</p><div class=\"data-frame\"><table class=\"data-frame\"><thead><tr><th></th><th>x1</th><th>x2</th><th>x3</th><th>x4</th><th>x5</th><th>x6</th><th>x7</th><th>x8</th></tr><tr><th></th><th title=\"Float64\">Float64</th><th title=\"Float64\">Float64</th><th title=\"Float64\">Float64</th><th title=\"Float64\">Float64</th><th title=\"Float64\">Float64</th><th title=\"Float64\">Float64</th><th title=\"Float64\">Float64</th><th title=\"Float64\">Float64</th></tr></thead><tbody><tr><th>1</th><td>0.354268</td><td>0.873015</td><td>0.93014</td><td>0.0104162</td><td>0.213091</td><td>0.262302</td><td>0.833839</td><td>0.895973</td></tr><tr><th>2</th><td>0.776235</td><td>0.00764766</td><td>0.0862056</td><td>0.6051</td><td>0.909829</td><td>0.374558</td><td>0.796315</td><td>0.0808443</td></tr><tr><th>3</th><td>0.717413</td><td>0.591102</td><td>0.928276</td><td>0.656755</td><td>0.219839</td><td>0.0415058</td><td>0.552423</td><td>0.898149</td></tr><tr><th>4</th><td>0.451906</td><td>0.162357</td><td>0.541938</td><td>0.00625896</td><td>0.737582</td><td>0.991554</td><td>0.557809</td><td>0.0120028</td></tr><tr><th>5</th><td>0.507529</td><td>0.0561791</td><td>0.89407</td><td>0.197141</td><td>0.924109</td><td>0.0650814</td><td>0.399798</td><td>0.325991</td></tr><tr><th>6</th><td>0.901789</td><td>0.0372622</td><td>0.704815</td><td>0.789571</td><td>0.0697927</td><td>0.411419</td><td>0.65967</td><td>0.560161</td></tr><tr><th>7</th><td>0.516463</td><td>0.435145</td><td>0.594665</td><td>0.32359</td><td>0.820625</td><td>0.350092</td><td>0.671403</td><td>0.404231</td></tr><tr><th>8</th><td>0.417311</td><td>0.274661</td><td>0.00661109</td><td>0.0850267</td><td>0.150675</td><td>0.0450118</td><td>0.255303</td><td>0.384242</td></tr><tr><th>9</th><td>0.0430597</td><td>0.0089387</td><td>0.891823</td><td>0.065217</td><td>0.359573</td><td>0.531169</td><td>0.694857</td><td>0.322824</td></tr><tr><th>10</th><td>0.977402</td><td>0.277415</td><td>0.993957</td><td>0.304674</td><td>0.328166</td><td>0.681454</td><td>0.246593</td><td>0.931239</td></tr></tbody></table></div>"
      ],
      "text/latex": [
       "\\begin{tabular}{r|ccccccccc}\n",
       "\t& x1 & x2 & x3 & x4 & x5 & x6 & x7 & x8 & \\\\\n",
       "\t\\hline\n",
       "\t& Float64 & Float64 & Float64 & Float64 & Float64 & Float64 & Float64 & Float64 & \\\\\n",
       "\t\\hline\n",
       "\t1 & 0.354268 & 0.873015 & 0.93014 & 0.0104162 & 0.213091 & 0.262302 & 0.833839 & 0.895973 & $\\dots$ \\\\\n",
       "\t2 & 0.776235 & 0.00764766 & 0.0862056 & 0.6051 & 0.909829 & 0.374558 & 0.796315 & 0.0808443 & $\\dots$ \\\\\n",
       "\t3 & 0.717413 & 0.591102 & 0.928276 & 0.656755 & 0.219839 & 0.0415058 & 0.552423 & 0.898149 & $\\dots$ \\\\\n",
       "\t4 & 0.451906 & 0.162357 & 0.541938 & 0.00625896 & 0.737582 & 0.991554 & 0.557809 & 0.0120028 & $\\dots$ \\\\\n",
       "\t5 & 0.507529 & 0.0561791 & 0.89407 & 0.197141 & 0.924109 & 0.0650814 & 0.399798 & 0.325991 & $\\dots$ \\\\\n",
       "\t6 & 0.901789 & 0.0372622 & 0.704815 & 0.789571 & 0.0697927 & 0.411419 & 0.65967 & 0.560161 & $\\dots$ \\\\\n",
       "\t7 & 0.516463 & 0.435145 & 0.594665 & 0.32359 & 0.820625 & 0.350092 & 0.671403 & 0.404231 & $\\dots$ \\\\\n",
       "\t8 & 0.417311 & 0.274661 & 0.00661109 & 0.0850267 & 0.150675 & 0.0450118 & 0.255303 & 0.384242 & $\\dots$ \\\\\n",
       "\t9 & 0.0430597 & 0.0089387 & 0.891823 & 0.065217 & 0.359573 & 0.531169 & 0.694857 & 0.322824 & $\\dots$ \\\\\n",
       "\t10 & 0.977402 & 0.277415 & 0.993957 & 0.304674 & 0.328166 & 0.681454 & 0.246593 & 0.931239 & $\\dots$ \\\\\n",
       "\\end{tabular}\n"
      ],
      "text/plain": [
       "\u001b[1m10×10 DataFrameColumns\u001b[0m\n",
       "\u001b[1m Row \u001b[0m│\u001b[1m x1        \u001b[0m\u001b[1m x2         \u001b[0m\u001b[1m x3         \u001b[0m\u001b[1m x4         \u001b[0m\u001b[1m x5        \u001b[0m\u001b[1m x6        \u001b[0m\u001b[1m x7\u001b[0m ⋯\n",
       "\u001b[1m     \u001b[0m│\u001b[90m Float64   \u001b[0m\u001b[90m Float64    \u001b[0m\u001b[90m Float64    \u001b[0m\u001b[90m Float64    \u001b[0m\u001b[90m Float64   \u001b[0m\u001b[90m Float64   \u001b[0m\u001b[90m Fl\u001b[0m ⋯\n",
       "─────┼──────────────────────────────────────────────────────────────────────────\n",
       "   1 │ 0.354268   0.873015    0.93014     0.0104162   0.213091   0.262302   0. ⋯\n",
       "   2 │ 0.776235   0.00764766  0.0862056   0.6051      0.909829   0.374558   0.\n",
       "   3 │ 0.717413   0.591102    0.928276    0.656755    0.219839   0.0415058  0.\n",
       "  ⋮  │     ⋮          ⋮           ⋮           ⋮           ⋮          ⋮         ⋱\n",
       "   8 │ 0.417311   0.274661    0.00661109  0.0850267   0.150675   0.0450118  0.\n",
       "   9 │ 0.0430597  0.0089387   0.891823    0.065217    0.359573   0.531169   0. ⋯\n",
       "  10 │ 0.977402   0.277415    0.993957    0.304674    0.328166   0.681454   0.\n",
       "\u001b[36m                                                    4 columns and 4 rows omitted\u001b[0m"
      ]
     },
     "execution_count": 54,
     "metadata": {},
     "output_type": "execute_result"
    }
   ],
   "source": [
    "# it prints like a data frame, only the caption is different so that you know the type of the object\n",
    "ec = eachcol(x)"
   ]
  },
  {
   "cell_type": "code",
   "execution_count": 55,
   "metadata": {
    "execution": {
     "iopub.execute_input": "2022-07-18T00:52:14.156000Z",
     "iopub.status.busy": "2022-07-18T00:52:14.156000Z",
     "iopub.status.idle": "2022-07-18T00:52:14.164000Z",
     "shell.execute_reply": "2022-07-18T00:52:14.164000Z"
    }
   },
   "outputs": [
    {
     "data": {
      "text/plain": [
       "10-element Vector{Float64}:\n",
       " 0.3542681412875809\n",
       " 0.7762353768470296\n",
       " 0.7174127148980128\n",
       " 0.45190577670303245\n",
       " 0.5075294944849811\n",
       " 0.9017890285520767\n",
       " 0.5164628718425988\n",
       " 0.4173107706658191\n",
       " 0.043059684892867156\n",
       " 0.9774018661342193"
      ]
     },
     "execution_count": 55,
     "metadata": {},
     "output_type": "execute_result"
    }
   ],
   "source": [
    "ec.x1 # you can access columns of a parent data frame directly"
   ]
  },
  {
   "cell_type": "markdown",
   "metadata": {},
   "source": [
    "## Transposing"
   ]
  },
  {
   "cell_type": "markdown",
   "metadata": {},
   "source": [
    "you can transpose a data frame using `permutedims`:"
   ]
  },
  {
   "cell_type": "code",
   "execution_count": 56,
   "metadata": {
    "execution": {
     "iopub.execute_input": "2022-07-18T00:52:14.167000Z",
     "iopub.status.busy": "2022-07-18T00:52:14.167000Z",
     "iopub.status.idle": "2022-07-18T00:52:14.266000Z",
     "shell.execute_reply": "2022-07-18T00:52:14.266000Z"
    }
   },
   "outputs": [
    {
     "data": {
      "text/html": [
       "<div class=\"data-frame\"><p>3 rows × 4 columns</p><table class=\"data-frame\"><thead><tr><th></th><th>x1</th><th>x2</th><th>x3</th><th>x4</th></tr><tr><th></th><th title=\"Int64\">Int64</th><th title=\"Int64\">Int64</th><th title=\"Int64\">Int64</th><th title=\"Int64\">Int64</th></tr></thead><tbody><tr><th>1</th><td>1</td><td>4</td><td>7</td><td>10</td></tr><tr><th>2</th><td>2</td><td>5</td><td>8</td><td>11</td></tr><tr><th>3</th><td>3</td><td>6</td><td>9</td><td>12</td></tr></tbody></table></div>"
      ],
      "text/latex": [
       "\\begin{tabular}{r|cccc}\n",
       "\t& x1 & x2 & x3 & x4\\\\\n",
       "\t\\hline\n",
       "\t& Int64 & Int64 & Int64 & Int64\\\\\n",
       "\t\\hline\n",
       "\t1 & 1 & 4 & 7 & 10 \\\\\n",
       "\t2 & 2 & 5 & 8 & 11 \\\\\n",
       "\t3 & 3 & 6 & 9 & 12 \\\\\n",
       "\\end{tabular}\n"
      ],
      "text/plain": [
       "\u001b[1m3×4 DataFrame\u001b[0m\n",
       "\u001b[1m Row \u001b[0m│\u001b[1m x1    \u001b[0m\u001b[1m x2    \u001b[0m\u001b[1m x3    \u001b[0m\u001b[1m x4    \u001b[0m\n",
       "\u001b[1m     \u001b[0m│\u001b[90m Int64 \u001b[0m\u001b[90m Int64 \u001b[0m\u001b[90m Int64 \u001b[0m\u001b[90m Int64 \u001b[0m\n",
       "─────┼────────────────────────────\n",
       "   1 │     1      4      7     10\n",
       "   2 │     2      5      8     11\n",
       "   3 │     3      6      9     12"
      ]
     },
     "execution_count": 56,
     "metadata": {},
     "output_type": "execute_result"
    }
   ],
   "source": [
    "df = DataFrame(reshape(1:12, 3, 4), :auto)"
   ]
  },
  {
   "cell_type": "code",
   "execution_count": 57,
   "metadata": {
    "execution": {
     "iopub.execute_input": "2022-07-18T00:52:14.269000Z",
     "iopub.status.busy": "2022-07-18T00:52:14.269000Z",
     "iopub.status.idle": "2022-07-18T00:52:15.111000Z",
     "shell.execute_reply": "2022-07-18T00:52:15.110000Z"
    }
   },
   "outputs": [
    {
     "data": {
      "text/plain": [
       "3-element Vector{String}:\n",
       " \"a\"\n",
       " \"b\"\n",
       " \"c\""
      ]
     },
     "execution_count": 57,
     "metadata": {},
     "output_type": "execute_result"
    }
   ],
   "source": [
    "df.names = [\"a\", \"b\", \"c\"]"
   ]
  },
  {
   "cell_type": "code",
   "execution_count": 58,
   "metadata": {
    "execution": {
     "iopub.execute_input": "2022-07-18T00:52:15.114000Z",
     "iopub.status.busy": "2022-07-18T00:52:15.114000Z",
     "iopub.status.idle": "2022-07-18T00:52:15.677000Z",
     "shell.execute_reply": "2022-07-18T00:52:15.677000Z"
    }
   },
   "outputs": [
    {
     "data": {
      "text/html": [
       "<div class=\"data-frame\"><p>4 rows × 4 columns</p><table class=\"data-frame\"><thead><tr><th></th><th>names</th><th>a</th><th>b</th><th>c</th></tr><tr><th></th><th title=\"String\">String</th><th title=\"Int64\">Int64</th><th title=\"Int64\">Int64</th><th title=\"Int64\">Int64</th></tr></thead><tbody><tr><th>1</th><td>x1</td><td>1</td><td>2</td><td>3</td></tr><tr><th>2</th><td>x2</td><td>4</td><td>5</td><td>6</td></tr><tr><th>3</th><td>x3</td><td>7</td><td>8</td><td>9</td></tr><tr><th>4</th><td>x4</td><td>10</td><td>11</td><td>12</td></tr></tbody></table></div>"
      ],
      "text/latex": [
       "\\begin{tabular}{r|cccc}\n",
       "\t& names & a & b & c\\\\\n",
       "\t\\hline\n",
       "\t& String & Int64 & Int64 & Int64\\\\\n",
       "\t\\hline\n",
       "\t1 & x1 & 1 & 2 & 3 \\\\\n",
       "\t2 & x2 & 4 & 5 & 6 \\\\\n",
       "\t3 & x3 & 7 & 8 & 9 \\\\\n",
       "\t4 & x4 & 10 & 11 & 12 \\\\\n",
       "\\end{tabular}\n"
      ],
      "text/plain": [
       "\u001b[1m4×4 DataFrame\u001b[0m\n",
       "\u001b[1m Row \u001b[0m│\u001b[1m names  \u001b[0m\u001b[1m a     \u001b[0m\u001b[1m b     \u001b[0m\u001b[1m c     \u001b[0m\n",
       "\u001b[1m     \u001b[0m│\u001b[90m String \u001b[0m\u001b[90m Int64 \u001b[0m\u001b[90m Int64 \u001b[0m\u001b[90m Int64 \u001b[0m\n",
       "─────┼─────────────────────────────\n",
       "   1 │ x1          1      2      3\n",
       "   2 │ x2          4      5      6\n",
       "   3 │ x3          7      8      9\n",
       "   4 │ x4         10     11     12"
      ]
     },
     "execution_count": 58,
     "metadata": {},
     "output_type": "execute_result"
    }
   ],
   "source": [
    "permutedims(df, :names)"
   ]
  }
 ],
 "metadata": {
  "@webio": {
   "lastCommId": null,
   "lastKernelId": null
  },
  "kernelspec": {
   "display_name": "Julia 1.7.2",
   "language": "julia",
   "name": "julia-1.7"
  },
  "language_info": {
   "file_extension": ".jl",
   "mimetype": "application/julia",
   "name": "julia",
   "version": "1.7.3"
  }
 },
 "nbformat": 4,
 "nbformat_minor": 1
}
