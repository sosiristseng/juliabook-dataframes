{
 "cells": [
  {
   "cell_type": "markdown",
   "metadata": {},
   "source": [
    "# Load and save DataFrames\n",
    "\n",
    "We do not cover all features of the packages. Please refer to their documentation to learn them.\n",
    "\n",
    "Here we'll load `CSV.jl` to read and write CSV files and `Arrow.jl`, `JLSO.jl`, and serialization, which allow us to work with a binary format and `JSONTables.jl` for JSON interaction. Finally we consider a custom `JDF.jl` format."
   ]
  },
  {
   "cell_type": "code",
   "execution_count": 1,
   "metadata": {
    "execution": {
     "iopub.execute_input": "2022-07-18T00:53:31.612000Z",
     "iopub.status.busy": "2022-07-18T00:53:31.164000Z",
     "iopub.status.idle": "2022-07-18T00:53:51.984000Z",
     "shell.execute_reply": "2022-07-18T00:53:51.909000Z"
    }
   },
   "outputs": [],
   "source": [
    "using DataFrames\n",
    "using Arrow\n",
    "using CSV\n",
    "using Serialization\n",
    "using JLSO\n",
    "using JSONTables\n",
    "using CodecZlib\n",
    "using ZipFile\n",
    "using JDF\n",
    "using StatsPlots # for charts\n",
    "using Mmap # for compression"
   ]
  },
  {
   "cell_type": "markdown",
   "metadata": {},
   "source": [
    "Let's create a simple `DataFrame` for testing purposes,"
   ]
  },
  {
   "cell_type": "code",
   "execution_count": 2,
   "metadata": {
    "execution": {
     "iopub.execute_input": "2022-07-18T00:53:55.716000Z",
     "iopub.status.busy": "2022-07-18T00:53:51.987000Z",
     "iopub.status.idle": "2022-07-18T00:54:03.462000Z",
     "shell.execute_reply": "2022-07-18T00:54:03.462000Z"
    }
   },
   "outputs": [
    {
     "data": {
      "text/html": [
       "<div class=\"data-frame\"><p>3 rows × 4 columns</p><table class=\"data-frame\"><thead><tr><th></th><th>A</th><th>B</th><th>C</th><th>D</th></tr><tr><th></th><th title=\"Bool\">Bool</th><th title=\"Union{Missing, Int64}\">Int64?</th><th title=\"Union{Missing, String}\">String?</th><th title=\"Union{Missing, Char}\">Char?</th></tr></thead><tbody><tr><th>1</th><td>1</td><td>1</td><td><em>missing</em></td><td>a</td></tr><tr><th>2</th><td>0</td><td>2</td><td>b</td><td><em>missing</em></td></tr><tr><th>3</th><td>1</td><td><em>missing</em></td><td>c</td><td>c</td></tr></tbody></table></div>"
      ],
      "text/latex": [
       "\\begin{tabular}{r|cccc}\n",
       "\t& A & B & C & D\\\\\n",
       "\t\\hline\n",
       "\t& Bool & Int64? & String? & Char?\\\\\n",
       "\t\\hline\n",
       "\t1 & 1 & 1 & \\emph{missing} & a \\\\\n",
       "\t2 & 0 & 2 & b & \\emph{missing} \\\\\n",
       "\t3 & 1 & \\emph{missing} & c & c \\\\\n",
       "\\end{tabular}\n"
      ],
      "text/plain": [
       "\u001b[1m3×4 DataFrame\u001b[0m\n",
       "\u001b[1m Row \u001b[0m│\u001b[1m A     \u001b[0m\u001b[1m B       \u001b[0m\u001b[1m C       \u001b[0m\u001b[1m D       \u001b[0m\n",
       "\u001b[1m     \u001b[0m│\u001b[90m Bool  \u001b[0m\u001b[90m Int64?  \u001b[0m\u001b[90m String? \u001b[0m\u001b[90m Char?   \u001b[0m\n",
       "─────┼──────────────────────────────────\n",
       "   1 │  true        1 \u001b[90m missing \u001b[0m a\n",
       "   2 │ false        2  b       \u001b[90m missing \u001b[0m\n",
       "   3 │  true \u001b[90m missing \u001b[0m c        c"
      ]
     },
     "execution_count": 2,
     "metadata": {},
     "output_type": "execute_result"
    }
   ],
   "source": [
    "x = DataFrame(A=[true, false, true], B=[1, 2, missing],\n",
    "              C=[missing, \"b\", \"c\"], D=['a', missing, 'c'])"
   ]
  },
  {
   "cell_type": "markdown",
   "metadata": {},
   "source": [
    "and use `eltypes` to look at the columnwise types."
   ]
  },
  {
   "cell_type": "code",
   "execution_count": 3,
   "metadata": {
    "execution": {
     "iopub.execute_input": "2022-07-18T00:54:03.473000Z",
     "iopub.status.busy": "2022-07-18T00:54:03.472000Z",
     "iopub.status.idle": "2022-07-18T00:54:05.203000Z",
     "shell.execute_reply": "2022-07-18T00:54:05.203000Z"
    }
   },
   "outputs": [
    {
     "data": {
      "text/plain": [
       "4-element Vector{Type}:\n",
       " Bool\n",
       " Union{Missing, Int64}\n",
       " Union{Missing, String}\n",
       " Union{Missing, Char}"
      ]
     },
     "execution_count": 3,
     "metadata": {},
     "output_type": "execute_result"
    }
   ],
   "source": [
    "eltype.(eachcol(x))"
   ]
  },
  {
   "cell_type": "markdown",
   "metadata": {},
   "source": [
    "## CSV.jl"
   ]
  },
  {
   "cell_type": "markdown",
   "metadata": {},
   "source": [
    "Let's use `CSV` to save `x` to disk; make sure `x1.csv` does not conflict with some file in your working directory."
   ]
  },
  {
   "cell_type": "code",
   "execution_count": 4,
   "metadata": {
    "execution": {
     "iopub.execute_input": "2022-07-18T00:54:05.207000Z",
     "iopub.status.busy": "2022-07-18T00:54:05.207000Z",
     "iopub.status.idle": "2022-07-18T00:54:07.133000Z",
     "shell.execute_reply": "2022-07-18T00:54:07.133000Z"
    }
   },
   "outputs": [
    {
     "data": {
      "text/plain": [
       "\"x1.csv\""
      ]
     },
     "execution_count": 4,
     "metadata": {},
     "output_type": "execute_result"
    }
   ],
   "source": [
    "CSV.write(\"x1.csv\", x)"
   ]
  },
  {
   "cell_type": "markdown",
   "metadata": {},
   "source": [
    "Now we can see how it was saved by reading `x.csv`."
   ]
  },
  {
   "cell_type": "code",
   "execution_count": 5,
   "metadata": {
    "execution": {
     "iopub.execute_input": "2022-07-18T00:54:07.137000Z",
     "iopub.status.busy": "2022-07-18T00:54:07.137000Z",
     "iopub.status.idle": "2022-07-18T00:54:07.162000Z",
     "shell.execute_reply": "2022-07-18T00:54:07.162000Z"
    }
   },
   "outputs": [
    {
     "name": "stdout",
     "output_type": "stream",
     "text": [
      "A,B,C,D\n",
      "true,1,,a\n",
      "false,2,b,\n",
      "true,,c,c\n"
     ]
    }
   ],
   "source": [
    "print(read(\"x1.csv\", String))"
   ]
  },
  {
   "cell_type": "markdown",
   "metadata": {},
   "source": [
    "We can also load it back."
   ]
  },
  {
   "cell_type": "code",
   "execution_count": 6,
   "metadata": {
    "execution": {
     "iopub.execute_input": "2022-07-18T00:54:07.165000Z",
     "iopub.status.busy": "2022-07-18T00:54:07.165000Z",
     "iopub.status.idle": "2022-07-18T00:54:21.147000Z",
     "shell.execute_reply": "2022-07-18T00:54:21.147000Z"
    }
   },
   "outputs": [
    {
     "data": {
      "text/html": [
       "<div class=\"data-frame\"><p>3 rows × 4 columns</p><table class=\"data-frame\"><thead><tr><th></th><th>A</th><th>B</th><th>C</th><th>D</th></tr><tr><th></th><th title=\"Bool\">Bool</th><th title=\"Union{Missing, Int64}\">Int64?</th><th title=\"Union{Missing, String1}\">String1?</th><th title=\"Union{Missing, String1}\">String1?</th></tr></thead><tbody><tr><th>1</th><td>1</td><td>1</td><td><em>missing</em></td><td>a</td></tr><tr><th>2</th><td>0</td><td>2</td><td>b</td><td><em>missing</em></td></tr><tr><th>3</th><td>1</td><td><em>missing</em></td><td>c</td><td>c</td></tr></tbody></table></div>"
      ],
      "text/latex": [
       "\\begin{tabular}{r|cccc}\n",
       "\t& A & B & C & D\\\\\n",
       "\t\\hline\n",
       "\t& Bool & Int64? & String1? & String1?\\\\\n",
       "\t\\hline\n",
       "\t1 & 1 & 1 & \\emph{missing} & a \\\\\n",
       "\t2 & 0 & 2 & b & \\emph{missing} \\\\\n",
       "\t3 & 1 & \\emph{missing} & c & c \\\\\n",
       "\\end{tabular}\n"
      ],
      "text/plain": [
       "\u001b[1m3×4 DataFrame\u001b[0m\n",
       "\u001b[1m Row \u001b[0m│\u001b[1m A     \u001b[0m\u001b[1m B       \u001b[0m\u001b[1m C        \u001b[0m\u001b[1m D        \u001b[0m\n",
       "\u001b[1m     \u001b[0m│\u001b[90m Bool  \u001b[0m\u001b[90m Int64?  \u001b[0m\u001b[90m String1? \u001b[0m\u001b[90m String1? \u001b[0m\n",
       "─────┼────────────────────────────────────\n",
       "   1 │  true        1 \u001b[90m missing  \u001b[0m a\n",
       "   2 │ false        2  b        \u001b[90m missing  \u001b[0m\n",
       "   3 │  true \u001b[90m missing \u001b[0m c         c"
      ]
     },
     "execution_count": 6,
     "metadata": {},
     "output_type": "execute_result"
    }
   ],
   "source": [
    "y = CSV.read(\"x1.csv\", DataFrame)"
   ]
  },
  {
   "cell_type": "markdown",
   "metadata": {},
   "source": [
    "Note that when loading in a `DataFrame` from a `CSV` the column type for columns `:C` `:D` have changed to use special strings defined in the InlineStrings.jl package."
   ]
  },
  {
   "cell_type": "code",
   "execution_count": 7,
   "metadata": {
    "execution": {
     "iopub.execute_input": "2022-07-18T00:54:21.150000Z",
     "iopub.status.busy": "2022-07-18T00:54:21.150000Z",
     "iopub.status.idle": "2022-07-18T00:54:21.164000Z",
     "shell.execute_reply": "2022-07-18T00:54:21.164000Z"
    }
   },
   "outputs": [
    {
     "data": {
      "text/plain": [
       "4-element Vector{Type}:\n",
       " Bool\n",
       " Union{Missing, Int64}\n",
       " Union{Missing, String1}\n",
       " Union{Missing, String1}"
      ]
     },
     "execution_count": 7,
     "metadata": {},
     "output_type": "execute_result"
    }
   ],
   "source": [
    "eltype.(eachcol(y))"
   ]
  },
  {
   "cell_type": "markdown",
   "metadata": {},
   "source": [
    "## Serialization, JDF.jl, and JLSO.jl"
   ]
  },
  {
   "cell_type": "markdown",
   "metadata": {},
   "source": [
    "Now we use serialization to save `x`.\n",
    "\n",
    "There are two ways to perform serialization. The first way is to use the `Serialization.serialize` as below:"
   ]
  },
  {
   "cell_type": "markdown",
   "metadata": {},
   "source": [
    "Note that in general, this process will not work if the reading and writing are done by different versions of Julia, or an instance of Julia with a different system image."
   ]
  },
  {
   "cell_type": "code",
   "execution_count": 8,
   "metadata": {
    "execution": {
     "iopub.execute_input": "2022-07-18T00:54:21.167000Z",
     "iopub.status.busy": "2022-07-18T00:54:21.167000Z",
     "iopub.status.idle": "2022-07-18T00:54:21.742000Z",
     "shell.execute_reply": "2022-07-18T00:54:21.741000Z"
    }
   },
   "outputs": [],
   "source": [
    "open(\"x.bin\", \"w\") do io\n",
    "    serialize(io, x)\n",
    "end"
   ]
  },
  {
   "cell_type": "markdown",
   "metadata": {},
   "source": [
    "Now we load back the saved file to `y` variable. Again `y` is identical to `x`. However, please beware that if you session does not have DataFrames.jl loaded, then it may not recognise the content as DataFrames.jl"
   ]
  },
  {
   "cell_type": "code",
   "execution_count": 9,
   "metadata": {
    "execution": {
     "iopub.execute_input": "2022-07-18T00:54:21.744000Z",
     "iopub.status.busy": "2022-07-18T00:54:21.744000Z",
     "iopub.status.idle": "2022-07-18T00:54:21.975000Z",
     "shell.execute_reply": "2022-07-18T00:54:21.975000Z"
    }
   },
   "outputs": [
    {
     "data": {
      "text/html": [
       "<div class=\"data-frame\"><p>3 rows × 4 columns</p><table class=\"data-frame\"><thead><tr><th></th><th>A</th><th>B</th><th>C</th><th>D</th></tr><tr><th></th><th title=\"Bool\">Bool</th><th title=\"Union{Missing, Int64}\">Int64?</th><th title=\"Union{Missing, String}\">String?</th><th title=\"Union{Missing, Char}\">Char?</th></tr></thead><tbody><tr><th>1</th><td>1</td><td>1</td><td><em>missing</em></td><td>a</td></tr><tr><th>2</th><td>0</td><td>2</td><td>b</td><td><em>missing</em></td></tr><tr><th>3</th><td>1</td><td><em>missing</em></td><td>c</td><td>c</td></tr></tbody></table></div>"
      ],
      "text/latex": [
       "\\begin{tabular}{r|cccc}\n",
       "\t& A & B & C & D\\\\\n",
       "\t\\hline\n",
       "\t& Bool & Int64? & String? & Char?\\\\\n",
       "\t\\hline\n",
       "\t1 & 1 & 1 & \\emph{missing} & a \\\\\n",
       "\t2 & 0 & 2 & b & \\emph{missing} \\\\\n",
       "\t3 & 1 & \\emph{missing} & c & c \\\\\n",
       "\\end{tabular}\n"
      ],
      "text/plain": [
       "\u001b[1m3×4 DataFrame\u001b[0m\n",
       "\u001b[1m Row \u001b[0m│\u001b[1m A     \u001b[0m\u001b[1m B       \u001b[0m\u001b[1m C       \u001b[0m\u001b[1m D       \u001b[0m\n",
       "\u001b[1m     \u001b[0m│\u001b[90m Bool  \u001b[0m\u001b[90m Int64?  \u001b[0m\u001b[90m String? \u001b[0m\u001b[90m Char?   \u001b[0m\n",
       "─────┼──────────────────────────────────\n",
       "   1 │  true        1 \u001b[90m missing \u001b[0m a\n",
       "   2 │ false        2  b       \u001b[90m missing \u001b[0m\n",
       "   3 │  true \u001b[90m missing \u001b[0m c        c"
      ]
     },
     "execution_count": 9,
     "metadata": {},
     "output_type": "execute_result"
    }
   ],
   "source": [
    "y = open(deserialize, \"x.bin\")"
   ]
  },
  {
   "cell_type": "code",
   "execution_count": 10,
   "metadata": {
    "execution": {
     "iopub.execute_input": "2022-07-18T00:54:21.978000Z",
     "iopub.status.busy": "2022-07-18T00:54:21.978000Z",
     "iopub.status.idle": "2022-07-18T00:54:21.992000Z",
     "shell.execute_reply": "2022-07-18T00:54:21.992000Z"
    }
   },
   "outputs": [
    {
     "data": {
      "text/plain": [
       "4-element Vector{Type}:\n",
       " Bool\n",
       " Union{Missing, Int64}\n",
       " Union{Missing, String}\n",
       " Union{Missing, Char}"
      ]
     },
     "execution_count": 10,
     "metadata": {},
     "output_type": "execute_result"
    }
   ],
   "source": [
    "eltype.(eachcol(y))"
   ]
  },
  {
   "cell_type": "markdown",
   "metadata": {},
   "source": [
    "## JDF.jl\n",
    "\n",
    "[JDF.jl](https://github.com/xiaodaigh/JDF) is a relatively new package designed to serialize DataFrames. You can save a DataFrame with the `savejdf` function.\n",
    "\n",
    "For more details about design assumptions and limitations of `JDF.jl` please check out https://github.com/xiaodaigh/JDF.jl."
   ]
  },
  {
   "cell_type": "code",
   "execution_count": 11,
   "metadata": {
    "execution": {
     "iopub.execute_input": "2022-07-18T00:54:21.994000Z",
     "iopub.status.busy": "2022-07-18T00:54:21.994000Z",
     "iopub.status.idle": "2022-07-18T00:54:23.405000Z",
     "shell.execute_reply": "2022-07-18T00:54:23.404000Z"
    }
   },
   "outputs": [],
   "source": [
    "JDF.save(\"x.jdf\", x);"
   ]
  },
  {
   "cell_type": "markdown",
   "metadata": {},
   "source": [
    "To load the saved JDF file, one can use the `loadjdf` function"
   ]
  },
  {
   "cell_type": "code",
   "execution_count": 12,
   "metadata": {
    "execution": {
     "iopub.execute_input": "2022-07-18T00:54:23.408000Z",
     "iopub.status.busy": "2022-07-18T00:54:23.407000Z",
     "iopub.status.idle": "2022-07-18T00:54:26.099000Z",
     "shell.execute_reply": "2022-07-18T00:54:26.099000Z"
    }
   },
   "outputs": [
    {
     "data": {
      "text/html": [
       "<div class=\"data-frame\"><p>3 rows × 4 columns</p><table class=\"data-frame\"><thead><tr><th></th><th>A</th><th>B</th><th>C</th><th>D</th></tr><tr><th></th><th title=\"Bool\">Bool</th><th title=\"Union{Missing, Int64}\">Int64?</th><th title=\"Union{Missing, String}\">String?</th><th title=\"Union{Missing, Char}\">Char?</th></tr></thead><tbody><tr><th>1</th><td>1</td><td>1</td><td><em>missing</em></td><td>a</td></tr><tr><th>2</th><td>0</td><td>2</td><td>b</td><td><em>missing</em></td></tr><tr><th>3</th><td>1</td><td><em>missing</em></td><td>c</td><td>c</td></tr></tbody></table></div>"
      ],
      "text/latex": [
       "\\begin{tabular}{r|cccc}\n",
       "\t& A & B & C & D\\\\\n",
       "\t\\hline\n",
       "\t& Bool & Int64? & String? & Char?\\\\\n",
       "\t\\hline\n",
       "\t1 & 1 & 1 & \\emph{missing} & a \\\\\n",
       "\t2 & 0 & 2 & b & \\emph{missing} \\\\\n",
       "\t3 & 1 & \\emph{missing} & c & c \\\\\n",
       "\\end{tabular}\n"
      ],
      "text/plain": [
       "\u001b[1m3×4 DataFrame\u001b[0m\n",
       "\u001b[1m Row \u001b[0m│\u001b[1m A     \u001b[0m\u001b[1m B       \u001b[0m\u001b[1m C       \u001b[0m\u001b[1m D       \u001b[0m\n",
       "\u001b[1m     \u001b[0m│\u001b[90m Bool  \u001b[0m\u001b[90m Int64?  \u001b[0m\u001b[90m String? \u001b[0m\u001b[90m Char?   \u001b[0m\n",
       "─────┼──────────────────────────────────\n",
       "   1 │  true        1 \u001b[90m missing \u001b[0m a\n",
       "   2 │ false        2  b       \u001b[90m missing \u001b[0m\n",
       "   3 │  true \u001b[90m missing \u001b[0m c        c"
      ]
     },
     "execution_count": 12,
     "metadata": {},
     "output_type": "execute_result"
    }
   ],
   "source": [
    "x_loaded = JDF.load(\"x.jdf\") |> DataFrame"
   ]
  },
  {
   "cell_type": "markdown",
   "metadata": {},
   "source": [
    "You can see that they are the same"
   ]
  },
  {
   "cell_type": "code",
   "execution_count": 13,
   "metadata": {
    "execution": {
     "iopub.execute_input": "2022-07-18T00:54:26.102000Z",
     "iopub.status.busy": "2022-07-18T00:54:26.102000Z",
     "iopub.status.idle": "2022-07-18T00:54:26.570000Z",
     "shell.execute_reply": "2022-07-18T00:54:26.570000Z"
    }
   },
   "outputs": [
    {
     "data": {
      "text/plain": [
       "true"
      ]
     },
     "execution_count": 13,
     "metadata": {},
     "output_type": "execute_result"
    }
   ],
   "source": [
    "isequal(x_loaded, x)"
   ]
  },
  {
   "cell_type": "markdown",
   "metadata": {},
   "source": [
    "JDF.jl offers the ability to load only certain columns from disk to help with working with large files"
   ]
  },
  {
   "cell_type": "code",
   "execution_count": 14,
   "metadata": {
    "execution": {
     "iopub.execute_input": "2022-07-18T00:54:26.574000Z",
     "iopub.status.busy": "2022-07-18T00:54:26.574000Z",
     "iopub.status.idle": "2022-07-18T00:54:27.027000Z",
     "shell.execute_reply": "2022-07-18T00:54:27.027000Z"
    }
   },
   "outputs": [
    {
     "data": {
      "text/plain": [
       "JDFFile{String}(\"x.jdf\")"
      ]
     },
     "execution_count": 14,
     "metadata": {},
     "output_type": "execute_result"
    }
   ],
   "source": [
    "# set up a JDFFile which is a on disk representation of `x` backed by JDF.jl\n",
    "x_ondisk = jdf\"x.jdf\""
   ]
  },
  {
   "cell_type": "markdown",
   "metadata": {},
   "source": [
    "We can see all the names of `x` without loading it into memory"
   ]
  },
  {
   "cell_type": "code",
   "execution_count": 15,
   "metadata": {
    "execution": {
     "iopub.execute_input": "2022-07-18T00:54:27.031000Z",
     "iopub.status.busy": "2022-07-18T00:54:27.031000Z",
     "iopub.status.idle": "2022-07-18T00:54:27.812000Z",
     "shell.execute_reply": "2022-07-18T00:54:27.812000Z"
    }
   },
   "outputs": [
    {
     "data": {
      "text/plain": [
       "4-element Vector{Symbol}:\n",
       " :A\n",
       " :B\n",
       " :C\n",
       " :D"
      ]
     },
     "execution_count": 15,
     "metadata": {},
     "output_type": "execute_result"
    }
   ],
   "source": [
    "names(x_ondisk)"
   ]
  },
  {
   "cell_type": "markdown",
   "metadata": {},
   "source": [
    "The below is an example of how to load only columns `:A` and `:D` "
   ]
  },
  {
   "cell_type": "code",
   "execution_count": 16,
   "metadata": {
    "execution": {
     "iopub.execute_input": "2022-07-18T00:54:27.815000Z",
     "iopub.status.busy": "2022-07-18T00:54:27.815000Z",
     "iopub.status.idle": "2022-07-18T00:54:27.950000Z",
     "shell.execute_reply": "2022-07-18T00:54:27.950000Z"
    }
   },
   "outputs": [
    {
     "data": {
      "text/html": [
       "<div class=\"data-frame\"><p>3 rows × 2 columns</p><table class=\"data-frame\"><thead><tr><th></th><th>A</th><th>D</th></tr><tr><th></th><th title=\"Bool\">Bool</th><th title=\"Union{Missing, Char}\">Char?</th></tr></thead><tbody><tr><th>1</th><td>1</td><td>a</td></tr><tr><th>2</th><td>0</td><td><em>missing</em></td></tr><tr><th>3</th><td>1</td><td>c</td></tr></tbody></table></div>"
      ],
      "text/latex": [
       "\\begin{tabular}{r|cc}\n",
       "\t& A & D\\\\\n",
       "\t\\hline\n",
       "\t& Bool & Char?\\\\\n",
       "\t\\hline\n",
       "\t1 & 1 & a \\\\\n",
       "\t2 & 0 & \\emph{missing} \\\\\n",
       "\t3 & 1 & c \\\\\n",
       "\\end{tabular}\n"
      ],
      "text/plain": [
       "\u001b[1m3×2 DataFrame\u001b[0m\n",
       "\u001b[1m Row \u001b[0m│\u001b[1m A     \u001b[0m\u001b[1m D       \u001b[0m\n",
       "\u001b[1m     \u001b[0m│\u001b[90m Bool  \u001b[0m\u001b[90m Char?   \u001b[0m\n",
       "─────┼────────────────\n",
       "   1 │  true  a\n",
       "   2 │ false \u001b[90m missing \u001b[0m\n",
       "   3 │  true  c"
      ]
     },
     "execution_count": 16,
     "metadata": {},
     "output_type": "execute_result"
    }
   ],
   "source": [
    "xd = JDF.load(x_ondisk; cols = [\"A\", \"D\"]) |> DataFrame"
   ]
  },
  {
   "cell_type": "markdown",
   "metadata": {},
   "source": [
    "## JLSO.jl\n",
    "\n",
    "Another way to perform serialization is by using the [JLSO.jl](https://github.com/invenia/JLSO.jl) library:"
   ]
  },
  {
   "cell_type": "code",
   "execution_count": 17,
   "metadata": {
    "execution": {
     "iopub.execute_input": "2022-07-18T00:54:27.953000Z",
     "iopub.status.busy": "2022-07-18T00:54:27.953000Z",
     "iopub.status.idle": "2022-07-18T00:54:33.683000Z",
     "shell.execute_reply": "2022-07-18T00:54:33.683000Z"
    }
   },
   "outputs": [],
   "source": [
    "JLSO.save(\"x.jlso\", :data => x)"
   ]
  },
  {
   "cell_type": "markdown",
   "metadata": {},
   "source": [
    "Now we can laod back the file to `y`"
   ]
  },
  {
   "cell_type": "code",
   "execution_count": 18,
   "metadata": {
    "execution": {
     "iopub.execute_input": "2022-07-18T00:54:33.686000Z",
     "iopub.status.busy": "2022-07-18T00:54:33.686000Z",
     "iopub.status.idle": "2022-07-18T00:54:39.038000Z",
     "shell.execute_reply": "2022-07-18T00:54:39.038000Z"
    }
   },
   "outputs": [
    {
     "data": {
      "text/html": [
       "<div class=\"data-frame\"><p>3 rows × 4 columns</p><table class=\"data-frame\"><thead><tr><th></th><th>A</th><th>B</th><th>C</th><th>D</th></tr><tr><th></th><th title=\"Bool\">Bool</th><th title=\"Union{Missing, Int64}\">Int64?</th><th title=\"Union{Missing, String}\">String?</th><th title=\"Union{Missing, Char}\">Char?</th></tr></thead><tbody><tr><th>1</th><td>1</td><td>1</td><td><em>missing</em></td><td>a</td></tr><tr><th>2</th><td>0</td><td>2</td><td>b</td><td><em>missing</em></td></tr><tr><th>3</th><td>1</td><td><em>missing</em></td><td>c</td><td>c</td></tr></tbody></table></div>"
      ],
      "text/latex": [
       "\\begin{tabular}{r|cccc}\n",
       "\t& A & B & C & D\\\\\n",
       "\t\\hline\n",
       "\t& Bool & Int64? & String? & Char?\\\\\n",
       "\t\\hline\n",
       "\t1 & 1 & 1 & \\emph{missing} & a \\\\\n",
       "\t2 & 0 & 2 & b & \\emph{missing} \\\\\n",
       "\t3 & 1 & \\emph{missing} & c & c \\\\\n",
       "\\end{tabular}\n"
      ],
      "text/plain": [
       "\u001b[1m3×4 DataFrame\u001b[0m\n",
       "\u001b[1m Row \u001b[0m│\u001b[1m A     \u001b[0m\u001b[1m B       \u001b[0m\u001b[1m C       \u001b[0m\u001b[1m D       \u001b[0m\n",
       "\u001b[1m     \u001b[0m│\u001b[90m Bool  \u001b[0m\u001b[90m Int64?  \u001b[0m\u001b[90m String? \u001b[0m\u001b[90m Char?   \u001b[0m\n",
       "─────┼──────────────────────────────────\n",
       "   1 │  true        1 \u001b[90m missing \u001b[0m a\n",
       "   2 │ false        2  b       \u001b[90m missing \u001b[0m\n",
       "   3 │  true \u001b[90m missing \u001b[0m c        c"
      ]
     },
     "execution_count": 18,
     "metadata": {},
     "output_type": "execute_result"
    }
   ],
   "source": [
    "y = JLSO.load(\"x.jlso\")[:data]"
   ]
  },
  {
   "cell_type": "code",
   "execution_count": 19,
   "metadata": {
    "execution": {
     "iopub.execute_input": "2022-07-18T00:54:39.041000Z",
     "iopub.status.busy": "2022-07-18T00:54:39.041000Z",
     "iopub.status.idle": "2022-07-18T00:54:39.054000Z",
     "shell.execute_reply": "2022-07-18T00:54:39.054000Z"
    }
   },
   "outputs": [
    {
     "data": {
      "text/plain": [
       "4-element Vector{Type}:\n",
       " Bool\n",
       " Union{Missing, Int64}\n",
       " Union{Missing, String}\n",
       " Union{Missing, Char}"
      ]
     },
     "execution_count": 19,
     "metadata": {},
     "output_type": "execute_result"
    }
   ],
   "source": [
    "eltype.(eachcol(y))"
   ]
  },
  {
   "cell_type": "markdown",
   "metadata": {},
   "source": [
    "## JSONTables.jl"
   ]
  },
  {
   "cell_type": "markdown",
   "metadata": {},
   "source": [
    "Often you might need to read and write data stored in JSON format. JSONTables.jl provides a way to process them in row-oriented or column-oriented layout. We present both options below."
   ]
  },
  {
   "cell_type": "code",
   "execution_count": 20,
   "metadata": {
    "execution": {
     "iopub.execute_input": "2022-07-18T00:54:39.056000Z",
     "iopub.status.busy": "2022-07-18T00:54:39.056000Z",
     "iopub.status.idle": "2022-07-18T00:54:39.637000Z",
     "shell.execute_reply": "2022-07-18T00:54:39.637000Z"
    }
   },
   "outputs": [
    {
     "data": {
      "text/plain": [
       "106"
      ]
     },
     "execution_count": 20,
     "metadata": {},
     "output_type": "execute_result"
    }
   ],
   "source": [
    "open(io -> arraytable(io, x), \"x1.json\", \"w\")"
   ]
  },
  {
   "cell_type": "code",
   "execution_count": 21,
   "metadata": {
    "execution": {
     "iopub.execute_input": "2022-07-18T00:54:39.641000Z",
     "iopub.status.busy": "2022-07-18T00:54:39.640000Z",
     "iopub.status.idle": "2022-07-18T00:54:39.947000Z",
     "shell.execute_reply": "2022-07-18T00:54:39.947000Z"
    }
   },
   "outputs": [
    {
     "data": {
      "text/plain": [
       "76"
      ]
     },
     "execution_count": 21,
     "metadata": {},
     "output_type": "execute_result"
    }
   ],
   "source": [
    "open(io -> objecttable(io, x), \"x2.json\", \"w\")"
   ]
  },
  {
   "cell_type": "code",
   "execution_count": 22,
   "metadata": {
    "execution": {
     "iopub.execute_input": "2022-07-18T00:54:39.950000Z",
     "iopub.status.busy": "2022-07-18T00:54:39.950000Z",
     "iopub.status.idle": "2022-07-18T00:54:39.951000Z",
     "shell.execute_reply": "2022-07-18T00:54:39.951000Z"
    }
   },
   "outputs": [
    {
     "name": "stdout",
     "output_type": "stream",
     "text": [
      "[{\"A\":true,\"B\":1,\"C\":null,\"D\":\"a\"},{\"A\":false,\"B\":2,\"C\":\"b\",\"D\":null},{\"A\":true,\"B\":null,\"C\":\"c\",\"D\":\"c\"}]"
     ]
    }
   ],
   "source": [
    "print(read(\"x1.json\", String))"
   ]
  },
  {
   "cell_type": "code",
   "execution_count": 23,
   "metadata": {
    "execution": {
     "iopub.execute_input": "2022-07-18T00:54:39.953000Z",
     "iopub.status.busy": "2022-07-18T00:54:39.952000Z",
     "iopub.status.idle": "2022-07-18T00:54:39.953000Z",
     "shell.execute_reply": "2022-07-18T00:54:39.953000Z"
    }
   },
   "outputs": [
    {
     "name": "stdout",
     "output_type": "stream",
     "text": [
      "{\"A\":[true,false,true],\"B\":[1,2,null],\"C\":[null,\"b\",\"c\"],\"D\":[\"a\",null,\"c\"]}"
     ]
    }
   ],
   "source": [
    "print(read(\"x2.json\", String))"
   ]
  },
  {
   "cell_type": "code",
   "execution_count": 24,
   "metadata": {
    "execution": {
     "iopub.execute_input": "2022-07-18T00:54:39.955000Z",
     "iopub.status.busy": "2022-07-18T00:54:39.955000Z",
     "iopub.status.idle": "2022-07-18T00:54:41.701000Z",
     "shell.execute_reply": "2022-07-18T00:54:41.701000Z"
    }
   },
   "outputs": [
    {
     "data": {
      "text/html": [
       "<div class=\"data-frame\"><p>3 rows × 4 columns</p><table class=\"data-frame\"><thead><tr><th></th><th>A</th><th>B</th><th>C</th><th>D</th></tr><tr><th></th><th title=\"Bool\">Bool</th><th title=\"Union{Missing, Int64}\">Int64?</th><th title=\"Union{Missing, String}\">String?</th><th title=\"Union{Missing, String}\">String?</th></tr></thead><tbody><tr><th>1</th><td>1</td><td>1</td><td><em>missing</em></td><td>a</td></tr><tr><th>2</th><td>0</td><td>2</td><td>b</td><td><em>missing</em></td></tr><tr><th>3</th><td>1</td><td><em>missing</em></td><td>c</td><td>c</td></tr></tbody></table></div>"
      ],
      "text/latex": [
       "\\begin{tabular}{r|cccc}\n",
       "\t& A & B & C & D\\\\\n",
       "\t\\hline\n",
       "\t& Bool & Int64? & String? & String?\\\\\n",
       "\t\\hline\n",
       "\t1 & 1 & 1 & \\emph{missing} & a \\\\\n",
       "\t2 & 0 & 2 & b & \\emph{missing} \\\\\n",
       "\t3 & 1 & \\emph{missing} & c & c \\\\\n",
       "\\end{tabular}\n"
      ],
      "text/plain": [
       "\u001b[1m3×4 DataFrame\u001b[0m\n",
       "\u001b[1m Row \u001b[0m│\u001b[1m A     \u001b[0m\u001b[1m B       \u001b[0m\u001b[1m C       \u001b[0m\u001b[1m D       \u001b[0m\n",
       "\u001b[1m     \u001b[0m│\u001b[90m Bool  \u001b[0m\u001b[90m Int64?  \u001b[0m\u001b[90m String? \u001b[0m\u001b[90m String? \u001b[0m\n",
       "─────┼──────────────────────────────────\n",
       "   1 │  true        1 \u001b[90m missing \u001b[0m a\n",
       "   2 │ false        2  b       \u001b[90m missing \u001b[0m\n",
       "   3 │  true \u001b[90m missing \u001b[0m c        c"
      ]
     },
     "execution_count": 24,
     "metadata": {},
     "output_type": "execute_result"
    }
   ],
   "source": [
    "y1 = open(jsontable, \"x1.json\") |> DataFrame"
   ]
  },
  {
   "cell_type": "code",
   "execution_count": 25,
   "metadata": {
    "execution": {
     "iopub.execute_input": "2022-07-18T00:54:41.704000Z",
     "iopub.status.busy": "2022-07-18T00:54:41.704000Z",
     "iopub.status.idle": "2022-07-18T00:54:41.716000Z",
     "shell.execute_reply": "2022-07-18T00:54:41.716000Z"
    }
   },
   "outputs": [
    {
     "data": {
      "text/plain": [
       "4-element Vector{Type}:\n",
       " Bool\n",
       " Union{Missing, Int64}\n",
       " Union{Missing, String}\n",
       " Union{Missing, String}"
      ]
     },
     "execution_count": 25,
     "metadata": {},
     "output_type": "execute_result"
    }
   ],
   "source": [
    "eltype.(eachcol(y1))"
   ]
  },
  {
   "cell_type": "code",
   "execution_count": 26,
   "metadata": {
    "execution": {
     "iopub.execute_input": "2022-07-18T00:54:41.719000Z",
     "iopub.status.busy": "2022-07-18T00:54:41.719000Z",
     "iopub.status.idle": "2022-07-18T00:54:42.496000Z",
     "shell.execute_reply": "2022-07-18T00:54:42.496000Z"
    }
   },
   "outputs": [
    {
     "data": {
      "text/html": [
       "<div class=\"data-frame\"><p>3 rows × 4 columns</p><table class=\"data-frame\"><thead><tr><th></th><th>A</th><th>B</th><th>C</th><th>D</th></tr><tr><th></th><th title=\"Bool\">Bool</th><th title=\"Union{Missing, Int64}\">Int64?</th><th title=\"Union{Missing, String}\">String?</th><th title=\"Union{Missing, String}\">String?</th></tr></thead><tbody><tr><th>1</th><td>1</td><td>1</td><td><em>missing</em></td><td>a</td></tr><tr><th>2</th><td>0</td><td>2</td><td>b</td><td><em>missing</em></td></tr><tr><th>3</th><td>1</td><td><em>missing</em></td><td>c</td><td>c</td></tr></tbody></table></div>"
      ],
      "text/latex": [
       "\\begin{tabular}{r|cccc}\n",
       "\t& A & B & C & D\\\\\n",
       "\t\\hline\n",
       "\t& Bool & Int64? & String? & String?\\\\\n",
       "\t\\hline\n",
       "\t1 & 1 & 1 & \\emph{missing} & a \\\\\n",
       "\t2 & 0 & 2 & b & \\emph{missing} \\\\\n",
       "\t3 & 1 & \\emph{missing} & c & c \\\\\n",
       "\\end{tabular}\n"
      ],
      "text/plain": [
       "\u001b[1m3×4 DataFrame\u001b[0m\n",
       "\u001b[1m Row \u001b[0m│\u001b[1m A     \u001b[0m\u001b[1m B       \u001b[0m\u001b[1m C       \u001b[0m\u001b[1m D       \u001b[0m\n",
       "\u001b[1m     \u001b[0m│\u001b[90m Bool  \u001b[0m\u001b[90m Int64?  \u001b[0m\u001b[90m String? \u001b[0m\u001b[90m String? \u001b[0m\n",
       "─────┼──────────────────────────────────\n",
       "   1 │  true        1 \u001b[90m missing \u001b[0m a\n",
       "   2 │ false        2  b       \u001b[90m missing \u001b[0m\n",
       "   3 │  true \u001b[90m missing \u001b[0m c        c"
      ]
     },
     "execution_count": 26,
     "metadata": {},
     "output_type": "execute_result"
    }
   ],
   "source": [
    "y2 = open(jsontable, \"x2.json\") |> DataFrame"
   ]
  },
  {
   "cell_type": "code",
   "execution_count": 27,
   "metadata": {
    "execution": {
     "iopub.execute_input": "2022-07-18T00:54:42.499000Z",
     "iopub.status.busy": "2022-07-18T00:54:42.499000Z",
     "iopub.status.idle": "2022-07-18T00:54:42.511000Z",
     "shell.execute_reply": "2022-07-18T00:54:42.511000Z"
    }
   },
   "outputs": [
    {
     "data": {
      "text/plain": [
       "4-element Vector{Type}:\n",
       " Bool\n",
       " Union{Missing, Int64}\n",
       " Union{Missing, String}\n",
       " Union{Missing, String}"
      ]
     },
     "execution_count": 27,
     "metadata": {},
     "output_type": "execute_result"
    }
   ],
   "source": [
    "eltype.(eachcol(y2))"
   ]
  },
  {
   "cell_type": "markdown",
   "metadata": {},
   "source": [
    "## Arrow.jl"
   ]
  },
  {
   "cell_type": "markdown",
   "metadata": {},
   "source": [
    "Finally we use Apache Arrow format that allows, in particular, for data interchange with R or Python."
   ]
  },
  {
   "cell_type": "code",
   "execution_count": 28,
   "metadata": {
    "execution": {
     "iopub.execute_input": "2022-07-18T00:54:42.514000Z",
     "iopub.status.busy": "2022-07-18T00:54:42.514000Z",
     "iopub.status.idle": "2022-07-18T00:54:50.612000Z",
     "shell.execute_reply": "2022-07-18T00:54:50.612000Z"
    }
   },
   "outputs": [
    {
     "data": {
      "text/plain": [
       "\"x.arrow\""
      ]
     },
     "execution_count": 28,
     "metadata": {},
     "output_type": "execute_result"
    }
   ],
   "source": [
    "Arrow.write(\"x.arrow\", x)"
   ]
  },
  {
   "cell_type": "code",
   "execution_count": 29,
   "metadata": {
    "execution": {
     "iopub.execute_input": "2022-07-18T00:54:50.615000Z",
     "iopub.status.busy": "2022-07-18T00:54:50.614000Z",
     "iopub.status.idle": "2022-07-18T00:54:53.737000Z",
     "shell.execute_reply": "2022-07-18T00:54:53.737000Z"
    }
   },
   "outputs": [
    {
     "data": {
      "text/html": [
       "<div class=\"data-frame\"><p>3 rows × 4 columns</p><table class=\"data-frame\"><thead><tr><th></th><th>A</th><th>B</th><th>C</th><th>D</th></tr><tr><th></th><th title=\"Bool\">Bool</th><th title=\"Union{Missing, Int64}\">Int64?</th><th title=\"Union{Missing, String}\">String?</th><th title=\"Union{Missing, Char}\">Char?</th></tr></thead><tbody><tr><th>1</th><td>1</td><td>1</td><td><em>missing</em></td><td>a</td></tr><tr><th>2</th><td>0</td><td>2</td><td>b</td><td><em>missing</em></td></tr><tr><th>3</th><td>1</td><td><em>missing</em></td><td>c</td><td>c</td></tr></tbody></table></div>"
      ],
      "text/latex": [
       "\\begin{tabular}{r|cccc}\n",
       "\t& A & B & C & D\\\\\n",
       "\t\\hline\n",
       "\t& Bool & Int64? & String? & Char?\\\\\n",
       "\t\\hline\n",
       "\t1 & 1 & 1 & \\emph{missing} & a \\\\\n",
       "\t2 & 0 & 2 & b & \\emph{missing} \\\\\n",
       "\t3 & 1 & \\emph{missing} & c & c \\\\\n",
       "\\end{tabular}\n"
      ],
      "text/plain": [
       "\u001b[1m3×4 DataFrame\u001b[0m\n",
       "\u001b[1m Row \u001b[0m│\u001b[1m A     \u001b[0m\u001b[1m B       \u001b[0m\u001b[1m C       \u001b[0m\u001b[1m D       \u001b[0m\n",
       "\u001b[1m     \u001b[0m│\u001b[90m Bool  \u001b[0m\u001b[90m Int64?  \u001b[0m\u001b[90m String? \u001b[0m\u001b[90m Char?   \u001b[0m\n",
       "─────┼──────────────────────────────────\n",
       "   1 │  true        1 \u001b[90m missing \u001b[0m a\n",
       "   2 │ false        2  b       \u001b[90m missing \u001b[0m\n",
       "   3 │  true \u001b[90m missing \u001b[0m c        c"
      ]
     },
     "execution_count": 29,
     "metadata": {},
     "output_type": "execute_result"
    }
   ],
   "source": [
    "y = Arrow.Table(\"x.arrow\") |> DataFrame"
   ]
  },
  {
   "cell_type": "code",
   "execution_count": 30,
   "metadata": {
    "execution": {
     "iopub.execute_input": "2022-07-18T00:54:53.740000Z",
     "iopub.status.busy": "2022-07-18T00:54:53.740000Z",
     "iopub.status.idle": "2022-07-18T00:54:53.752000Z",
     "shell.execute_reply": "2022-07-18T00:54:53.752000Z"
    }
   },
   "outputs": [
    {
     "data": {
      "text/plain": [
       "4-element Vector{Type}:\n",
       " Bool\n",
       " Union{Missing, Int64}\n",
       " Union{Missing, String}\n",
       " Union{Missing, Char}"
      ]
     },
     "execution_count": 30,
     "metadata": {},
     "output_type": "execute_result"
    }
   ],
   "source": [
    "eltype.(eachcol(y))"
   ]
  },
  {
   "cell_type": "markdown",
   "metadata": {},
   "source": [
    "Note that columns of `y` are immutable"
   ]
  },
  {
   "cell_type": "code",
   "execution_count": 31,
   "metadata": {
    "execution": {
     "iopub.execute_input": "2022-07-18T00:54:53.755000Z",
     "iopub.status.busy": "2022-07-18T00:54:53.755000Z",
     "iopub.status.idle": "2022-07-18T00:54:54.627000Z",
     "shell.execute_reply": "2022-07-18T00:54:54.626000Z"
    }
   },
   "outputs": [
    {
     "ename": "LoadError",
     "evalue": "ReadOnlyMemoryError()",
     "output_type": "error",
     "traceback": [
      "ReadOnlyMemoryError()",
      "",
      "Stacktrace:",
      " [1] setindex!",
      "   @ ./array.jl:903 [inlined]",
      " [2] setindex!(p::Arrow.BoolVector{Bool}, v::Bool, i::Int64)",
      "   @ Arrow ~/.julia/packages/Arrow/ZlMFU/src/arraytypes/bool.jl:49",
      " [3] top-level scope",
      "   @ In[31]:1",
      " [4] eval",
      "   @ ./boot.jl:373 [inlined]",
      " [5] include_string(mapexpr::typeof(REPL.softscope), mod::Module, code::String, filename::String)",
      "   @ Base ./loading.jl:1196"
     ]
    }
   ],
   "source": [
    "y.A[1] = false"
   ]
  },
  {
   "cell_type": "markdown",
   "metadata": {},
   "source": [
    "This is because `Arrow.Table` uses memory mapping and thus uses a custom vector types:"
   ]
  },
  {
   "cell_type": "code",
   "execution_count": 32,
   "metadata": {
    "execution": {
     "iopub.execute_input": "2022-07-18T00:54:54.631000Z",
     "iopub.status.busy": "2022-07-18T00:54:54.630000Z",
     "iopub.status.idle": "2022-07-18T00:54:55.279000Z",
     "shell.execute_reply": "2022-07-18T00:54:55.279000Z"
    }
   },
   "outputs": [
    {
     "data": {
      "text/plain": [
       "3-element Arrow.BoolVector{Bool}:\n",
       " 1\n",
       " 0\n",
       " 1"
      ]
     },
     "execution_count": 32,
     "metadata": {},
     "output_type": "execute_result"
    }
   ],
   "source": [
    "y.A"
   ]
  },
  {
   "cell_type": "code",
   "execution_count": 33,
   "metadata": {
    "execution": {
     "iopub.execute_input": "2022-07-18T00:54:55.282000Z",
     "iopub.status.busy": "2022-07-18T00:54:55.282000Z",
     "iopub.status.idle": "2022-07-18T00:54:55.929000Z",
     "shell.execute_reply": "2022-07-18T00:54:55.929000Z"
    }
   },
   "outputs": [
    {
     "data": {
      "text/plain": [
       "3-element Arrow.Primitive{Union{Missing, Int64}, Vector{Int64}}:\n",
       " 1\n",
       " 2\n",
       "  missing"
      ]
     },
     "execution_count": 33,
     "metadata": {},
     "output_type": "execute_result"
    }
   ],
   "source": [
    "y.B"
   ]
  },
  {
   "cell_type": "markdown",
   "metadata": {},
   "source": [
    "You can get standard Julia Base vectors by copying a data frame"
   ]
  },
  {
   "cell_type": "code",
   "execution_count": 34,
   "metadata": {
    "execution": {
     "iopub.execute_input": "2022-07-18T00:54:55.932000Z",
     "iopub.status.busy": "2022-07-18T00:54:55.932000Z",
     "iopub.status.idle": "2022-07-18T00:54:56.037000Z",
     "shell.execute_reply": "2022-07-18T00:54:56.037000Z"
    }
   },
   "outputs": [
    {
     "data": {
      "text/html": [
       "<div class=\"data-frame\"><p>3 rows × 4 columns</p><table class=\"data-frame\"><thead><tr><th></th><th>A</th><th>B</th><th>C</th><th>D</th></tr><tr><th></th><th title=\"Bool\">Bool</th><th title=\"Union{Missing, Int64}\">Int64?</th><th title=\"Union{Missing, String}\">String?</th><th title=\"Union{Missing, Char}\">Char?</th></tr></thead><tbody><tr><th>1</th><td>1</td><td>1</td><td><em>missing</em></td><td>a</td></tr><tr><th>2</th><td>0</td><td>2</td><td>b</td><td><em>missing</em></td></tr><tr><th>3</th><td>1</td><td><em>missing</em></td><td>c</td><td>c</td></tr></tbody></table></div>"
      ],
      "text/latex": [
       "\\begin{tabular}{r|cccc}\n",
       "\t& A & B & C & D\\\\\n",
       "\t\\hline\n",
       "\t& Bool & Int64? & String? & Char?\\\\\n",
       "\t\\hline\n",
       "\t1 & 1 & 1 & \\emph{missing} & a \\\\\n",
       "\t2 & 0 & 2 & b & \\emph{missing} \\\\\n",
       "\t3 & 1 & \\emph{missing} & c & c \\\\\n",
       "\\end{tabular}\n"
      ],
      "text/plain": [
       "\u001b[1m3×4 DataFrame\u001b[0m\n",
       "\u001b[1m Row \u001b[0m│\u001b[1m A     \u001b[0m\u001b[1m B       \u001b[0m\u001b[1m C       \u001b[0m\u001b[1m D       \u001b[0m\n",
       "\u001b[1m     \u001b[0m│\u001b[90m Bool  \u001b[0m\u001b[90m Int64?  \u001b[0m\u001b[90m String? \u001b[0m\u001b[90m Char?   \u001b[0m\n",
       "─────┼──────────────────────────────────\n",
       "   1 │  true        1 \u001b[90m missing \u001b[0m a\n",
       "   2 │ false        2  b       \u001b[90m missing \u001b[0m\n",
       "   3 │  true \u001b[90m missing \u001b[0m c        c"
      ]
     },
     "execution_count": 34,
     "metadata": {},
     "output_type": "execute_result"
    }
   ],
   "source": [
    "y2 = copy(y)"
   ]
  },
  {
   "cell_type": "code",
   "execution_count": 35,
   "metadata": {
    "execution": {
     "iopub.execute_input": "2022-07-18T00:54:56.040000Z",
     "iopub.status.busy": "2022-07-18T00:54:56.040000Z",
     "iopub.status.idle": "2022-07-18T00:54:56.501000Z",
     "shell.execute_reply": "2022-07-18T00:54:56.501000Z"
    }
   },
   "outputs": [
    {
     "data": {
      "text/plain": [
       "3-element Vector{Bool}:\n",
       " 1\n",
       " 0\n",
       " 1"
      ]
     },
     "execution_count": 35,
     "metadata": {},
     "output_type": "execute_result"
    }
   ],
   "source": [
    "y2.A"
   ]
  },
  {
   "cell_type": "code",
   "execution_count": 36,
   "metadata": {
    "execution": {
     "iopub.execute_input": "2022-07-18T00:54:56.504000Z",
     "iopub.status.busy": "2022-07-18T00:54:56.504000Z",
     "iopub.status.idle": "2022-07-18T00:54:57.014000Z",
     "shell.execute_reply": "2022-07-18T00:54:57.014000Z"
    }
   },
   "outputs": [
    {
     "data": {
      "text/plain": [
       "3-element Vector{Union{Missing, Int64}}:\n",
       " 1\n",
       " 2\n",
       "  missing"
      ]
     },
     "execution_count": 36,
     "metadata": {},
     "output_type": "execute_result"
    }
   ],
   "source": [
    "y2.B"
   ]
  },
  {
   "cell_type": "markdown",
   "metadata": {},
   "source": [
    "## Basic bechmarking"
   ]
  },
  {
   "cell_type": "markdown",
   "metadata": {},
   "source": [
    "Next, we'll create some files, so be careful that you don't already have these files in your working directory!\n",
    "\n",
    "In particular, we'll time how long it takes us to write a `DataFrame` with 1000 rows and 100000 columns."
   ]
  },
  {
   "cell_type": "code",
   "execution_count": 37,
   "metadata": {
    "execution": {
     "iopub.execute_input": "2022-07-18T00:54:57.018000Z",
     "iopub.status.busy": "2022-07-18T00:54:57.018000Z",
     "iopub.status.idle": "2022-07-18T00:55:43.581000Z",
     "shell.execute_reply": "2022-07-18T00:55:43.581000Z"
    }
   },
   "outputs": [
    {
     "name": "stdout",
     "output_type": "stream",
     "text": [
      "First run\n",
      "CSV.jl\n",
      " 10.760383 seconds (61.07 M allocations: 1.870 GiB, 3.14% gc time, 55.41% compilation time)\n",
      "Serialization\n",
      "  0.327672 seconds (401.32 k allocations: 21.609 MiB, 28.43% compilation time)\n",
      "JDF.jl\n",
      "  0.157502 seconds (75.70 k allocations: 148.927 MiB, 10.30% gc time, 42.18% compilation time)\n",
      "JLSO.jl\n",
      "  1.078790 seconds (302.84 k allocations: 19.269 MiB, 7.17% compilation time)\n",
      "Arrow.jl\n",
      "  2.455649 seconds (5.63 M allocations: 352.670 MiB, 3.77% gc time, 96.40% compilation time)\n",
      "JSONTables.jl arraytable\n",
      " 12.010389 seconds (230.34 M allocations: 5.531 GiB, 12.82% gc time, 1.97% compilation time)\n",
      "JSONTables.jl objecttable\n",
      "  0.484777 seconds (295.69 k allocations: 291.693 MiB, 9.38% gc time, 49.15% compilation time)\n",
      "Second run\n",
      "CSV.jl\n",
      "  4.787026 seconds (59.29 M allocations: 1.782 GiB, 4.71% gc time)\n",
      "Serialization\n",
      "  0.295322 seconds (16.70 k allocations: 504.280 KiB, 4.83% compilation time)\n",
      "JDF.jl\n",
      "  0.102290 seconds (28.12 k allocations: 146.369 MiB, 27.38% gc time)\n",
      "JLSO.jl\n",
      "  0.994502 seconds (31.63 k allocations: 4.631 MiB)\n",
      "Arrow.jl\n",
      "  0.085162 seconds (52.15 k allocations: 5.570 MiB)\n",
      "JSONTables.jl arraytable\n",
      " 11.487519 seconds (229.61 M allocations: 5.498 GiB, 10.97% gc time, 0.13% compilation time)\n",
      "JSONTables.jl objecttable\n",
      "  0.532293 seconds (18.32 k allocations: 277.676 MiB, 54.92% gc time, 2.88% compilation time)\n"
     ]
    },
    {
     "data": {
      "text/plain": [
       "0.532628395"
      ]
     },
     "execution_count": 37,
     "metadata": {},
     "output_type": "execute_result"
    }
   ],
   "source": [
    "bigdf = DataFrame(rand(Bool, 10^4, 1000), :auto)\n",
    "bigdf[!, 1] = Int.(bigdf[!, 1])\n",
    "bigdf[!, 2] = bigdf[!, 2] .+ 0.5\n",
    "bigdf[!, 3] = string.(bigdf[!, 3], \", as string\")\n",
    "println(\"First run\")\n",
    "println(\"CSV.jl\")\n",
    "csvwrite1 = @elapsed @time CSV.write(\"bigdf1.csv\", bigdf)\n",
    "println(\"Serialization\")\n",
    "serializewrite1 = @elapsed @time open(io -> serialize(io, bigdf), \"bigdf.bin\", \"w\")\n",
    "println(\"JDF.jl\")\n",
    "jdfwrite1 = @elapsed @time JDF.save(\"bigdf.jdf\", bigdf)\n",
    "println(\"JLSO.jl\")\n",
    "jlsowrite1 = @elapsed @time JLSO.save(\"bigdf.jlso\", :data => bigdf)\n",
    "println(\"Arrow.jl\")\n",
    "arrowwrite1 = @elapsed @time Arrow.write(\"bigdf.arrow\", bigdf)\n",
    "println(\"JSONTables.jl arraytable\")\n",
    "jsontablesawrite1 = @elapsed @time open(io -> arraytable(io, bigdf), \"bigdf1.json\", \"w\")\n",
    "println(\"JSONTables.jl objecttable\")\n",
    "jsontablesowrite1 = @elapsed @time open(io -> objecttable(io, bigdf), \"bigdf2.json\", \"w\")\n",
    "println(\"Second run\")\n",
    "println(\"CSV.jl\")\n",
    "csvwrite2 = @elapsed @time CSV.write(\"bigdf1.csv\", bigdf)\n",
    "println(\"Serialization\")\n",
    "serializewrite2 = @elapsed @time open(io -> serialize(io, bigdf), \"bigdf.bin\", \"w\")\n",
    "println(\"JDF.jl\")\n",
    "jdfwrite2 = @elapsed @time JDF.save(\"bigdf.jdf\", bigdf)\n",
    "println(\"JLSO.jl\")\n",
    "jlsowrite2 = @elapsed @time JLSO.save(\"bigdf.jlso\", :data => bigdf)\n",
    "println(\"Arrow.jl\")\n",
    "arrowwrite2 = @elapsed @time Arrow.write(\"bigdf.arrow\", bigdf)\n",
    "println(\"JSONTables.jl arraytable\")\n",
    "jsontablesawrite2 = @elapsed @time open(io -> arraytable(io, bigdf), \"bigdf1.json\", \"w\")\n",
    "println(\"JSONTables.jl objecttable\")\n",
    "jsontablesowrite2 = @elapsed @time open(io -> objecttable(io, bigdf), \"bigdf2.json\", \"w\")"
   ]
  },
  {
   "cell_type": "code",
   "execution_count": 38,
   "metadata": {
    "execution": {
     "iopub.execute_input": "2022-07-18T00:55:43.584000Z",
     "iopub.status.busy": "2022-07-18T00:55:43.584000Z",
     "iopub.status.idle": "2022-07-18T00:56:02.339000Z",
     "shell.execute_reply": "2022-07-18T00:56:02.338000Z"
    }
   },
   "outputs": [
    {
     "data": {
      "image/svg+xml": [
       "<?xml version=\"1.0\" encoding=\"utf-8\"?>\n",
       "<svg xmlns=\"http://www.w3.org/2000/svg\" xmlns:xlink=\"http://www.w3.org/1999/xlink\" width=\"600\" height=\"400\" viewBox=\"0 0 2400 1600\">\n",
       "<defs>\n",
       "  <clipPath id=\"clip840\">\n",
       "    <rect x=\"0\" y=\"0\" width=\"2400\" height=\"1600\"/>\n",
       "  </clipPath>\n",
       "</defs>\n",
       "<path clip-path=\"url(#clip840)\" d=\"\n",
       "M0 1600 L2400 1600 L2400 0 L0 0  Z\n",
       "  \" fill=\"#ffffff\" fill-rule=\"evenodd\" fill-opacity=\"1\"/>\n",
       "<defs>\n",
       "  <clipPath id=\"clip841\">\n",
       "    <rect x=\"480\" y=\"0\" width=\"1681\" height=\"1600\"/>\n",
       "  </clipPath>\n",
       "</defs>\n",
       "<path clip-path=\"url(#clip840)\" d=\"\n",
       "M247.459 1451.89 L2352.76 1451.89 L2352.76 244.432 L247.459 244.432  Z\n",
       "  \" fill=\"#ffffff\" fill-rule=\"evenodd\" fill-opacity=\"1\"/>\n",
       "<defs>\n",
       "  <clipPath id=\"clip842\">\n",
       "    <rect x=\"247\" y=\"244\" width=\"2106\" height=\"1208\"/>\n",
       "  </clipPath>\n",
       "</defs>\n",
       "<polyline clip-path=\"url(#clip842)\" style=\"stroke:#000000; stroke-linecap:butt; stroke-linejoin:round; stroke-width:2; stroke-opacity:0.1; fill:none\" points=\"\n",
       "  489.31,1451.89 489.31,244.432 \n",
       "  \"/>\n",
       "<polyline clip-path=\"url(#clip842)\" style=\"stroke:#000000; stroke-linecap:butt; stroke-linejoin:round; stroke-width:2; stroke-opacity:0.1; fill:none\" points=\"\n",
       "  813.629,1451.89 813.629,244.432 \n",
       "  \"/>\n",
       "<polyline clip-path=\"url(#clip842)\" style=\"stroke:#000000; stroke-linecap:butt; stroke-linejoin:round; stroke-width:2; stroke-opacity:0.1; fill:none\" points=\"\n",
       "  1137.95,1451.89 1137.95,244.432 \n",
       "  \"/>\n",
       "<polyline clip-path=\"url(#clip842)\" style=\"stroke:#000000; stroke-linecap:butt; stroke-linejoin:round; stroke-width:2; stroke-opacity:0.1; fill:none\" points=\"\n",
       "  1462.27,1451.89 1462.27,244.432 \n",
       "  \"/>\n",
       "<polyline clip-path=\"url(#clip842)\" style=\"stroke:#000000; stroke-linecap:butt; stroke-linejoin:round; stroke-width:2; stroke-opacity:0.1; fill:none\" points=\"\n",
       "  1786.59,1451.89 1786.59,244.432 \n",
       "  \"/>\n",
       "<polyline clip-path=\"url(#clip842)\" style=\"stroke:#000000; stroke-linecap:butt; stroke-linejoin:round; stroke-width:2; stroke-opacity:0.1; fill:none\" points=\"\n",
       "  2110.9,1451.89 2110.9,244.432 \n",
       "  \"/>\n",
       "<polyline clip-path=\"url(#clip840)\" style=\"stroke:#000000; stroke-linecap:butt; stroke-linejoin:round; stroke-width:4; stroke-opacity:1; fill:none\" points=\"\n",
       "  247.459,1451.89 2352.76,1451.89 \n",
       "  \"/>\n",
       "<polyline clip-path=\"url(#clip840)\" style=\"stroke:#000000; stroke-linecap:butt; stroke-linejoin:round; stroke-width:4; stroke-opacity:1; fill:none\" points=\"\n",
       "  489.31,1451.89 489.31,1432.99 \n",
       "  \"/>\n",
       "<polyline clip-path=\"url(#clip840)\" style=\"stroke:#000000; stroke-linecap:butt; stroke-linejoin:round; stroke-width:4; stroke-opacity:1; fill:none\" points=\"\n",
       "  813.629,1451.89 813.629,1432.99 \n",
       "  \"/>\n",
       "<polyline clip-path=\"url(#clip840)\" style=\"stroke:#000000; stroke-linecap:butt; stroke-linejoin:round; stroke-width:4; stroke-opacity:1; fill:none\" points=\"\n",
       "  1137.95,1451.89 1137.95,1432.99 \n",
       "  \"/>\n",
       "<polyline clip-path=\"url(#clip840)\" style=\"stroke:#000000; stroke-linecap:butt; stroke-linejoin:round; stroke-width:4; stroke-opacity:1; fill:none\" points=\"\n",
       "  1462.27,1451.89 1462.27,1432.99 \n",
       "  \"/>\n",
       "<polyline clip-path=\"url(#clip840)\" style=\"stroke:#000000; stroke-linecap:butt; stroke-linejoin:round; stroke-width:4; stroke-opacity:1; fill:none\" points=\"\n",
       "  1786.59,1451.89 1786.59,1432.99 \n",
       "  \"/>\n",
       "<polyline clip-path=\"url(#clip840)\" style=\"stroke:#000000; stroke-linecap:butt; stroke-linejoin:round; stroke-width:4; stroke-opacity:1; fill:none\" points=\"\n",
       "  2110.9,1451.89 2110.9,1432.99 \n",
       "  \"/>\n",
       "<path clip-path=\"url(#clip840)\" d=\"M420.363 1484.33 L414.021 1501.53 L426.729 1501.53 L420.363 1484.33 M417.725 1479.73 L423.025 1479.73 L436.197 1514.29 L431.336 1514.29 L428.188 1505.42 L412.609 1505.42 L409.461 1514.29 L404.53 1514.29 L417.725 1479.73 Z\" fill=\"#000000\" fill-rule=\"evenodd\" fill-opacity=\"1\" /><path clip-path=\"url(#clip840)\" d=\"M456.081 1492.34 Q455.363 1491.93 454.507 1491.74 Q453.673 1491.53 452.655 1491.53 Q449.044 1491.53 447.099 1493.89 Q445.178 1496.23 445.178 1500.63 L445.178 1514.29 L440.896 1514.29 L440.896 1488.36 L445.178 1488.36 L445.178 1492.39 Q446.521 1490.03 448.674 1488.89 Q450.826 1487.74 453.905 1487.74 Q454.345 1487.74 454.877 1487.81 Q455.41 1487.85 456.058 1487.97 L456.081 1492.34 Z\" fill=\"#000000\" fill-rule=\"evenodd\" fill-opacity=\"1\" /><path clip-path=\"url(#clip840)\" d=\"M474.738 1492.34 Q474.021 1491.93 473.164 1491.74 Q472.331 1491.53 471.312 1491.53 Q467.701 1491.53 465.757 1493.89 Q463.835 1496.23 463.835 1500.63 L463.835 1514.29 L459.553 1514.29 L459.553 1488.36 L463.835 1488.36 L463.835 1492.39 Q465.178 1490.03 467.331 1488.89 Q469.484 1487.74 472.562 1487.74 Q473.002 1487.74 473.534 1487.81 Q474.067 1487.85 474.715 1487.97 L474.738 1492.34 Z\" fill=\"#000000\" fill-rule=\"evenodd\" fill-opacity=\"1\" /><path clip-path=\"url(#clip840)\" d=\"M488.21 1491.35 Q484.784 1491.35 482.794 1494.03 Q480.803 1496.7 480.803 1501.35 Q480.803 1506 482.771 1508.69 Q484.761 1511.35 488.21 1511.35 Q491.613 1511.35 493.604 1508.66 Q495.595 1505.98 495.595 1501.35 Q495.595 1496.74 493.604 1494.06 Q491.613 1491.35 488.21 1491.35 M488.21 1487.74 Q493.766 1487.74 496.937 1491.35 Q500.108 1494.96 500.108 1501.35 Q500.108 1507.71 496.937 1511.35 Q493.766 1514.96 488.21 1514.96 Q482.632 1514.96 479.46 1511.35 Q476.312 1507.71 476.312 1501.35 Q476.312 1494.96 479.46 1491.35 Q482.632 1487.74 488.21 1487.74 Z\" fill=\"#000000\" fill-rule=\"evenodd\" fill-opacity=\"1\" /><path clip-path=\"url(#clip840)\" d=\"M504.692 1488.36 L508.951 1488.36 L514.275 1508.59 L519.576 1488.36 L524.599 1488.36 L529.923 1508.59 L535.224 1488.36 L539.483 1488.36 L532.701 1514.29 L527.678 1514.29 L522.099 1493.04 L516.497 1514.29 L511.474 1514.29 L504.692 1488.36 Z\" fill=\"#000000\" fill-rule=\"evenodd\" fill-opacity=\"1\" /><path clip-path=\"url(#clip840)\" d=\"M542.192 1508.41 L547.076 1508.41 L547.076 1514.29 L542.192 1514.29 L542.192 1508.41 Z\" fill=\"#000000\" fill-rule=\"evenodd\" fill-opacity=\"1\" /><path clip-path=\"url(#clip840)\" d=\"M556.659 1488.36 L560.918 1488.36 L560.918 1514.75 Q560.918 1519.7 559.02 1521.93 Q557.145 1524.15 552.955 1524.15 L551.335 1524.15 L551.335 1520.54 L552.469 1520.54 Q554.9 1520.54 555.779 1519.4 Q556.659 1518.29 556.659 1514.75 L556.659 1488.36 M556.659 1478.27 L560.918 1478.27 L560.918 1483.66 L556.659 1483.66 L556.659 1478.27 Z\" fill=\"#000000\" fill-rule=\"evenodd\" fill-opacity=\"1\" /><path clip-path=\"url(#clip840)\" d=\"M569.83 1478.27 L574.089 1478.27 L574.089 1514.29 L569.83 1514.29 L569.83 1478.27 Z\" fill=\"#000000\" fill-rule=\"evenodd\" fill-opacity=\"1\" /><path clip-path=\"url(#clip840)\" d=\"M779.59 1482.39 L779.59 1487.32 Q777.229 1485.12 774.543 1484.03 Q771.881 1482.95 768.872 1482.95 Q762.946 1482.95 759.798 1486.58 Q756.65 1490.19 756.65 1497.04 Q756.65 1503.87 759.798 1507.51 Q762.946 1511.12 768.872 1511.12 Q771.881 1511.12 774.543 1510.03 Q777.229 1508.94 779.59 1506.74 L779.59 1511.63 Q777.136 1513.29 774.381 1514.13 Q771.65 1514.96 768.594 1514.96 Q760.747 1514.96 756.233 1510.17 Q751.719 1505.35 751.719 1497.04 Q751.719 1488.71 756.233 1483.92 Q760.747 1479.1 768.594 1479.1 Q771.696 1479.1 774.428 1479.94 Q777.182 1480.75 779.59 1482.39 Z\" fill=\"#000000\" fill-rule=\"evenodd\" fill-opacity=\"1\" /><path clip-path=\"url(#clip840)\" d=\"M807.529 1480.86 L807.529 1485.42 Q804.867 1484.15 802.506 1483.52 Q800.145 1482.9 797.946 1482.9 Q794.127 1482.9 792.043 1484.38 Q789.983 1485.86 789.983 1488.59 Q789.983 1490.89 791.349 1492.07 Q792.738 1493.22 796.58 1493.94 L799.404 1494.52 Q804.636 1495.51 807.113 1498.04 Q809.613 1500.54 809.613 1504.75 Q809.613 1509.77 806.233 1512.37 Q802.877 1514.96 796.372 1514.96 Q793.918 1514.96 791.141 1514.4 Q788.386 1513.85 785.423 1512.76 L785.423 1507.95 Q788.27 1509.54 791.002 1510.35 Q793.733 1511.16 796.372 1511.16 Q800.377 1511.16 802.553 1509.59 Q804.728 1508.01 804.728 1505.1 Q804.728 1502.55 803.154 1501.12 Q801.603 1499.68 798.039 1498.96 L795.191 1498.41 Q789.96 1497.37 787.622 1495.14 Q785.284 1492.92 785.284 1488.96 Q785.284 1484.38 788.502 1481.74 Q791.742 1479.1 797.414 1479.1 Q799.844 1479.1 802.367 1479.54 Q804.89 1479.98 807.529 1480.86 Z\" fill=\"#000000\" fill-rule=\"evenodd\" fill-opacity=\"1\" /><path clip-path=\"url(#clip840)\" d=\"M825.816 1514.29 L812.622 1479.73 L817.506 1479.73 L828.455 1508.82 L839.427 1479.73 L844.288 1479.73 L831.117 1514.29 L825.816 1514.29 Z\" fill=\"#000000\" fill-rule=\"evenodd\" fill-opacity=\"1\" /><path clip-path=\"url(#clip840)\" d=\"M843.64 1508.41 L848.524 1508.41 L848.524 1514.29 L843.64 1514.29 L843.64 1508.41 Z\" fill=\"#000000\" fill-rule=\"evenodd\" fill-opacity=\"1\" /><path clip-path=\"url(#clip840)\" d=\"M858.108 1488.36 L862.367 1488.36 L862.367 1514.75 Q862.367 1519.7 860.469 1521.93 Q858.594 1524.15 854.404 1524.15 L852.784 1524.15 L852.784 1520.54 L853.918 1520.54 Q856.349 1520.54 857.228 1519.4 Q858.108 1518.29 858.108 1514.75 L858.108 1488.36 M858.108 1478.27 L862.367 1478.27 L862.367 1483.66 L858.108 1483.66 L858.108 1478.27 Z\" fill=\"#000000\" fill-rule=\"evenodd\" fill-opacity=\"1\" /><path clip-path=\"url(#clip840)\" d=\"M871.279 1478.27 L875.538 1478.27 L875.538 1514.29 L871.279 1514.29 L871.279 1478.27 Z\" fill=\"#000000\" fill-rule=\"evenodd\" fill-opacity=\"1\" /><path clip-path=\"url(#clip840)\" d=\"M1090.27 1479.73 L1094.95 1479.73 L1094.95 1511.88 Q1094.95 1518.13 1092.57 1520.95 Q1090.21 1523.78 1084.95 1523.78 L1083.17 1523.78 L1083.17 1519.84 L1084.63 1519.84 Q1087.73 1519.84 1089 1518.11 Q1090.27 1516.37 1090.27 1511.88 L1090.27 1479.73 Z\" fill=\"#000000\" fill-rule=\"evenodd\" fill-opacity=\"1\" /><path clip-path=\"url(#clip840)\" d=\"M1108.93 1483.57 L1108.93 1510.45 L1114.58 1510.45 Q1121.73 1510.45 1125.04 1507.2 Q1128.38 1503.96 1128.38 1496.97 Q1128.38 1490.03 1125.04 1486.81 Q1121.73 1483.57 1114.58 1483.57 L1108.93 1483.57 M1104.26 1479.73 L1113.86 1479.73 Q1123.91 1479.73 1128.61 1483.92 Q1133.31 1488.08 1133.31 1496.97 Q1133.31 1505.91 1128.58 1510.1 Q1123.86 1514.29 1113.86 1514.29 L1104.26 1514.29 L1104.26 1479.73 Z\" fill=\"#000000\" fill-rule=\"evenodd\" fill-opacity=\"1\" /><path clip-path=\"url(#clip840)\" d=\"M1140.76 1479.73 L1160.62 1479.73 L1160.62 1483.66 L1145.44 1483.66 L1145.44 1493.85 L1159.14 1493.85 L1159.14 1497.78 L1145.44 1497.78 L1145.44 1514.29 L1140.76 1514.29 L1140.76 1479.73 Z\" fill=\"#000000\" fill-rule=\"evenodd\" fill-opacity=\"1\" /><path clip-path=\"url(#clip840)\" d=\"M1160.83 1508.41 L1165.71 1508.41 L1165.71 1514.29 L1160.83 1514.29 L1160.83 1508.41 Z\" fill=\"#000000\" fill-rule=\"evenodd\" fill-opacity=\"1\" /><path clip-path=\"url(#clip840)\" d=\"M1175.3 1488.36 L1179.56 1488.36 L1179.56 1514.75 Q1179.56 1519.7 1177.66 1521.93 Q1175.78 1524.15 1171.59 1524.15 L1169.97 1524.15 L1169.97 1520.54 L1171.11 1520.54 Q1173.54 1520.54 1174.42 1519.4 Q1175.3 1518.29 1175.3 1514.75 L1175.3 1488.36 M1175.3 1478.27 L1179.56 1478.27 L1179.56 1483.66 L1175.3 1483.66 L1175.3 1478.27 Z\" fill=\"#000000\" fill-rule=\"evenodd\" fill-opacity=\"1\" /><path clip-path=\"url(#clip840)\" d=\"M1188.47 1478.27 L1192.73 1478.27 L1192.73 1514.29 L1188.47 1514.29 L1188.47 1478.27 Z\" fill=\"#000000\" fill-rule=\"evenodd\" fill-opacity=\"1\" /><path clip-path=\"url(#clip840)\" d=\"M1396.72 1479.73 L1401.4 1479.73 L1401.4 1511.88 Q1401.4 1518.13 1399.01 1520.95 Q1396.65 1523.78 1391.4 1523.78 L1389.62 1523.78 L1389.62 1519.84 L1391.08 1519.84 Q1394.18 1519.84 1395.45 1518.11 Q1396.72 1516.37 1396.72 1511.88 L1396.72 1479.73 Z\" fill=\"#000000\" fill-rule=\"evenodd\" fill-opacity=\"1\" /><path clip-path=\"url(#clip840)\" d=\"M1410.7 1479.73 L1415.38 1479.73 L1415.38 1510.35 L1432.21 1510.35 L1432.21 1514.29 L1410.7 1514.29 L1410.7 1479.73 Z\" fill=\"#000000\" fill-rule=\"evenodd\" fill-opacity=\"1\" /><path clip-path=\"url(#clip840)\" d=\"M1457.83 1480.86 L1457.83 1485.42 Q1455.17 1484.15 1452.81 1483.52 Q1450.45 1482.9 1448.25 1482.9 Q1444.43 1482.9 1442.35 1484.38 Q1440.29 1485.86 1440.29 1488.59 Q1440.29 1490.89 1441.65 1492.07 Q1443.04 1493.22 1446.88 1493.94 L1449.71 1494.52 Q1454.94 1495.51 1457.42 1498.04 Q1459.92 1500.54 1459.92 1504.75 Q1459.92 1509.77 1456.54 1512.37 Q1453.18 1514.96 1446.68 1514.96 Q1444.22 1514.96 1441.45 1514.4 Q1438.69 1513.85 1435.73 1512.76 L1435.73 1507.95 Q1438.57 1509.54 1441.31 1510.35 Q1444.04 1511.16 1446.68 1511.16 Q1450.68 1511.16 1452.86 1509.59 Q1455.03 1508.01 1455.03 1505.1 Q1455.03 1502.55 1453.46 1501.12 Q1451.91 1499.68 1448.34 1498.96 L1445.5 1498.41 Q1440.26 1497.37 1437.93 1495.14 Q1435.59 1492.92 1435.59 1488.96 Q1435.59 1484.38 1438.81 1481.74 Q1442.05 1479.1 1447.72 1479.1 Q1450.15 1479.1 1452.67 1479.54 Q1455.2 1479.98 1457.83 1480.86 Z\" fill=\"#000000\" fill-rule=\"evenodd\" fill-opacity=\"1\" /><path clip-path=\"url(#clip840)\" d=\"M1481.24 1482.9 Q1476.14 1482.9 1473.13 1486.7 Q1470.15 1490.49 1470.15 1497.04 Q1470.15 1503.57 1473.13 1507.37 Q1476.14 1511.16 1481.24 1511.16 Q1486.33 1511.16 1489.29 1507.37 Q1492.28 1503.57 1492.28 1497.04 Q1492.28 1490.49 1489.29 1486.7 Q1486.33 1482.9 1481.24 1482.9 M1481.24 1479.1 Q1488.51 1479.1 1492.86 1483.99 Q1497.21 1488.85 1497.21 1497.04 Q1497.21 1505.21 1492.86 1510.1 Q1488.51 1514.96 1481.24 1514.96 Q1473.94 1514.96 1469.57 1510.1 Q1465.22 1505.24 1465.22 1497.04 Q1465.22 1488.85 1469.57 1483.99 Q1473.94 1479.1 1481.24 1479.1 Z\" fill=\"#000000\" fill-rule=\"evenodd\" fill-opacity=\"1\" /><path clip-path=\"url(#clip840)\" d=\"M1503.02 1508.41 L1507.9 1508.41 L1507.9 1514.29 L1503.02 1514.29 L1503.02 1508.41 Z\" fill=\"#000000\" fill-rule=\"evenodd\" fill-opacity=\"1\" /><path clip-path=\"url(#clip840)\" d=\"M1517.49 1488.36 L1521.75 1488.36 L1521.75 1514.75 Q1521.75 1519.7 1519.85 1521.93 Q1517.97 1524.15 1513.78 1524.15 L1512.16 1524.15 L1512.16 1520.54 L1513.3 1520.54 Q1515.73 1520.54 1516.61 1519.4 Q1517.49 1518.29 1517.49 1514.75 L1517.49 1488.36 M1517.49 1478.27 L1521.75 1478.27 L1521.75 1483.66 L1517.49 1483.66 L1517.49 1478.27 Z\" fill=\"#000000\" fill-rule=\"evenodd\" fill-opacity=\"1\" /><path clip-path=\"url(#clip840)\" d=\"M1530.66 1478.27 L1534.92 1478.27 L1534.92 1514.29 L1530.66 1514.29 L1530.66 1478.27 Z\" fill=\"#000000\" fill-rule=\"evenodd\" fill-opacity=\"1\" /><path clip-path=\"url(#clip840)\" d=\"M1641.91 1479.73 L1646.59 1479.73 L1646.59 1511.88 Q1646.59 1518.13 1644.2 1520.95 Q1641.84 1523.78 1636.59 1523.78 L1634.8 1523.78 L1634.8 1519.84 L1636.26 1519.84 Q1639.36 1519.84 1640.64 1518.11 Q1641.91 1516.37 1641.91 1511.88 L1641.91 1479.73 Z\" fill=\"#000000\" fill-rule=\"evenodd\" fill-opacity=\"1\" /><path clip-path=\"url(#clip840)\" d=\"M1676.61 1480.86 L1676.61 1485.42 Q1673.95 1484.15 1671.59 1483.52 Q1669.23 1482.9 1667.03 1482.9 Q1663.21 1482.9 1661.12 1484.38 Q1659.06 1485.86 1659.06 1488.59 Q1659.06 1490.89 1660.43 1492.07 Q1661.82 1493.22 1665.66 1493.94 L1668.48 1494.52 Q1673.72 1495.51 1676.19 1498.04 Q1678.69 1500.54 1678.69 1504.75 Q1678.69 1509.77 1675.31 1512.37 Q1671.96 1514.96 1665.45 1514.96 Q1663 1514.96 1660.22 1514.4 Q1657.47 1513.85 1654.5 1512.76 L1654.5 1507.95 Q1657.35 1509.54 1660.08 1510.35 Q1662.81 1511.16 1665.45 1511.16 Q1669.46 1511.16 1671.63 1509.59 Q1673.81 1508.01 1673.81 1505.1 Q1673.81 1502.55 1672.23 1501.12 Q1670.68 1499.68 1667.12 1498.96 L1664.27 1498.41 Q1659.04 1497.37 1656.7 1495.14 Q1654.36 1492.92 1654.36 1488.96 Q1654.36 1484.38 1657.58 1481.74 Q1660.82 1479.1 1666.49 1479.1 Q1668.92 1479.1 1671.45 1479.54 Q1673.97 1479.98 1676.61 1480.86 Z\" fill=\"#000000\" fill-rule=\"evenodd\" fill-opacity=\"1\" /><path clip-path=\"url(#clip840)\" d=\"M1700.01 1482.9 Q1694.92 1482.9 1691.91 1486.7 Q1688.92 1490.49 1688.92 1497.04 Q1688.92 1503.57 1691.91 1507.37 Q1694.92 1511.16 1700.01 1511.16 Q1705.1 1511.16 1708.07 1507.37 Q1711.05 1503.57 1711.05 1497.04 Q1711.05 1490.49 1708.07 1486.7 Q1705.1 1482.9 1700.01 1482.9 M1700.01 1479.1 Q1707.28 1479.1 1711.63 1483.99 Q1715.98 1488.85 1715.98 1497.04 Q1715.98 1505.21 1711.63 1510.1 Q1707.28 1514.96 1700.01 1514.96 Q1692.72 1514.96 1688.35 1510.1 Q1683.99 1505.24 1683.99 1497.04 Q1683.99 1488.85 1688.35 1483.99 Q1692.72 1479.1 1700.01 1479.1 Z\" fill=\"#000000\" fill-rule=\"evenodd\" fill-opacity=\"1\" /><path clip-path=\"url(#clip840)\" d=\"M1723.3 1479.73 L1729.6 1479.73 L1744.92 1508.64 L1744.92 1479.73 L1749.46 1479.73 L1749.46 1514.29 L1743.16 1514.29 L1727.84 1485.38 L1727.84 1514.29 L1723.3 1514.29 L1723.3 1479.73 Z\" fill=\"#000000\" fill-rule=\"evenodd\" fill-opacity=\"1\" /><path clip-path=\"url(#clip840)\" d=\"M1753.97 1479.73 L1783.21 1479.73 L1783.21 1483.66 L1770.94 1483.66 L1770.94 1514.29 L1766.24 1514.29 L1766.24 1483.66 L1753.97 1483.66 L1753.97 1479.73 Z\" fill=\"#000000\" fill-rule=\"evenodd\" fill-opacity=\"1\" /><path clip-path=\"url(#clip840)\" d=\"M1791.47 1501.26 Q1786.31 1501.26 1784.32 1502.44 Q1782.33 1503.62 1782.33 1506.46 Q1782.33 1508.73 1783.81 1510.07 Q1785.31 1511.39 1787.88 1511.39 Q1791.42 1511.39 1793.55 1508.89 Q1795.71 1506.37 1795.71 1502.2 L1795.71 1501.26 L1791.47 1501.26 M1799.97 1499.5 L1799.97 1514.29 L1795.71 1514.29 L1795.71 1510.35 Q1794.25 1512.71 1792.07 1513.85 Q1789.9 1514.96 1786.75 1514.96 Q1782.77 1514.96 1780.41 1512.74 Q1778.07 1510.49 1778.07 1506.74 Q1778.07 1502.37 1780.98 1500.14 Q1783.92 1497.92 1789.73 1497.92 L1795.71 1497.92 L1795.71 1497.51 Q1795.71 1494.57 1793.76 1492.97 Q1791.84 1491.35 1788.35 1491.35 Q1786.12 1491.35 1784.02 1491.88 Q1781.91 1492.41 1779.97 1493.48 L1779.97 1489.54 Q1782.3 1488.64 1784.5 1488.2 Q1786.7 1487.74 1788.78 1487.74 Q1794.41 1487.74 1797.19 1490.65 Q1799.97 1493.57 1799.97 1499.5 Z\" fill=\"#000000\" fill-rule=\"evenodd\" fill-opacity=\"1\" /><path clip-path=\"url(#clip840)\" d=\"M1827.35 1501.35 Q1827.35 1496.65 1825.41 1493.99 Q1823.48 1491.3 1820.1 1491.3 Q1816.72 1491.3 1814.78 1493.99 Q1812.86 1496.65 1812.86 1501.35 Q1812.86 1506.05 1814.78 1508.73 Q1816.72 1511.39 1820.1 1511.39 Q1823.48 1511.39 1825.41 1508.73 Q1827.35 1506.05 1827.35 1501.35 M1812.86 1492.3 Q1814.2 1489.98 1816.24 1488.87 Q1818.3 1487.74 1821.15 1487.74 Q1825.87 1487.74 1828.81 1491.49 Q1831.77 1495.24 1831.77 1501.35 Q1831.77 1507.46 1828.81 1511.21 Q1825.87 1514.96 1821.15 1514.96 Q1818.3 1514.96 1816.24 1513.85 Q1814.2 1512.71 1812.86 1510.4 L1812.86 1514.29 L1808.58 1514.29 L1808.58 1478.27 L1812.86 1478.27 L1812.86 1492.3 Z\" fill=\"#000000\" fill-rule=\"evenodd\" fill-opacity=\"1\" /><path clip-path=\"url(#clip840)\" d=\"M1838.83 1478.27 L1843.09 1478.27 L1843.09 1514.29 L1838.83 1514.29 L1838.83 1478.27 Z\" fill=\"#000000\" fill-rule=\"evenodd\" fill-opacity=\"1\" /><path clip-path=\"url(#clip840)\" d=\"M1874.18 1500.26 L1874.18 1502.34 L1854.59 1502.34 Q1854.87 1506.74 1857.23 1509.06 Q1859.62 1511.35 1863.85 1511.35 Q1866.31 1511.35 1868.6 1510.75 Q1870.91 1510.14 1873.18 1508.94 L1873.18 1512.97 Q1870.89 1513.94 1868.48 1514.45 Q1866.08 1514.96 1863.6 1514.96 Q1857.4 1514.96 1853.76 1511.35 Q1850.15 1507.74 1850.15 1501.58 Q1850.15 1495.21 1853.58 1491.49 Q1857.03 1487.74 1862.86 1487.74 Q1868.09 1487.74 1871.12 1491.12 Q1874.18 1494.47 1874.18 1500.26 M1869.92 1499.01 Q1869.87 1495.51 1867.95 1493.43 Q1866.05 1491.35 1862.9 1491.35 Q1859.34 1491.35 1857.19 1493.36 Q1855.06 1495.38 1854.73 1499.03 L1869.92 1499.01 Z\" fill=\"#000000\" fill-rule=\"evenodd\" fill-opacity=\"1\" /><path clip-path=\"url(#clip840)\" d=\"M1897.7 1489.13 L1897.7 1493.15 Q1895.89 1492.23 1893.95 1491.76 Q1892 1491.3 1889.92 1491.3 Q1886.75 1491.3 1885.15 1492.27 Q1883.58 1493.25 1883.58 1495.19 Q1883.58 1496.67 1884.71 1497.53 Q1885.84 1498.36 1889.27 1499.13 L1890.73 1499.45 Q1895.27 1500.42 1897.16 1502.2 Q1899.09 1503.96 1899.09 1507.14 Q1899.09 1510.75 1896.21 1512.85 Q1893.37 1514.96 1888.37 1514.96 Q1886.28 1514.96 1884.02 1514.54 Q1881.77 1514.15 1879.27 1513.34 L1879.27 1508.94 Q1881.63 1510.17 1883.92 1510.79 Q1886.21 1511.39 1888.46 1511.39 Q1891.47 1511.39 1893.09 1510.38 Q1894.71 1509.33 1894.71 1507.46 Q1894.71 1505.72 1893.53 1504.8 Q1892.37 1503.87 1888.41 1503.01 L1886.93 1502.67 Q1882.97 1501.83 1881.21 1500.12 Q1879.46 1498.39 1879.46 1495.38 Q1879.46 1491.72 1882.05 1489.73 Q1884.64 1487.74 1889.41 1487.74 Q1891.77 1487.74 1893.85 1488.08 Q1895.94 1488.43 1897.7 1489.13 Z\" fill=\"#000000\" fill-rule=\"evenodd\" fill-opacity=\"1\" /><path clip-path=\"url(#clip840)\" d=\"M1906.47 1508.41 L1911.35 1508.41 L1911.35 1514.29 L1906.47 1514.29 L1906.47 1508.41 Z\" fill=\"#000000\" fill-rule=\"evenodd\" fill-opacity=\"1\" /><path clip-path=\"url(#clip840)\" d=\"M1920.94 1488.36 L1925.2 1488.36 L1925.2 1514.75 Q1925.2 1519.7 1923.3 1521.93 Q1921.42 1524.15 1917.23 1524.15 L1915.61 1524.15 L1915.61 1520.54 L1916.75 1520.54 Q1919.18 1520.54 1920.06 1519.4 Q1920.94 1518.29 1920.94 1514.75 L1920.94 1488.36 M1920.94 1478.27 L1925.2 1478.27 L1925.2 1483.66 L1920.94 1483.66 L1920.94 1478.27 Z\" fill=\"#000000\" fill-rule=\"evenodd\" fill-opacity=\"1\" /><path clip-path=\"url(#clip840)\" d=\"M1934.11 1478.27 L1938.37 1478.27 L1938.37 1514.29 L1934.11 1514.29 L1934.11 1478.27 Z\" fill=\"#000000\" fill-rule=\"evenodd\" fill-opacity=\"1\" /><path clip-path=\"url(#clip840)\" d=\"M1667.98 1543.19 Q1664.55 1543.19 1662.56 1545.87 Q1660.57 1548.54 1660.57 1553.19 Q1660.57 1557.84 1662.54 1560.53 Q1664.53 1563.19 1667.98 1563.19 Q1671.38 1563.19 1673.37 1560.5 Q1675.36 1557.82 1675.36 1553.19 Q1675.36 1548.58 1673.37 1545.9 Q1671.38 1543.19 1667.98 1543.19 M1667.98 1539.58 Q1673.53 1539.58 1676.7 1543.19 Q1679.87 1546.8 1679.87 1553.19 Q1679.87 1559.55 1676.7 1563.19 Q1673.53 1566.8 1667.98 1566.8 Q1662.4 1566.8 1659.23 1563.19 Q1656.08 1559.55 1656.08 1553.19 Q1656.08 1546.8 1659.23 1543.19 Q1662.4 1539.58 1667.98 1539.58 Z\" fill=\"#000000\" fill-rule=\"evenodd\" fill-opacity=\"1\" /><path clip-path=\"url(#clip840)\" d=\"M1705.54 1553.19 Q1705.54 1548.49 1703.6 1545.83 Q1701.68 1543.14 1698.3 1543.14 Q1694.92 1543.14 1692.98 1545.83 Q1691.05 1548.49 1691.05 1553.19 Q1691.05 1557.89 1692.98 1560.57 Q1694.92 1563.23 1698.3 1563.23 Q1701.68 1563.23 1703.6 1560.57 Q1705.54 1557.89 1705.54 1553.19 M1691.05 1544.14 Q1692.4 1541.82 1694.43 1540.71 Q1696.49 1539.58 1699.34 1539.58 Q1704.06 1539.58 1707 1543.33 Q1709.97 1547.08 1709.97 1553.19 Q1709.97 1559.3 1707 1563.05 Q1704.06 1566.8 1699.34 1566.8 Q1696.49 1566.8 1694.43 1565.69 Q1692.4 1564.55 1691.05 1562.24 L1691.05 1566.13 L1686.77 1566.13 L1686.77 1530.11 L1691.05 1530.11 L1691.05 1544.14 Z\" fill=\"#000000\" fill-rule=\"evenodd\" fill-opacity=\"1\" /><path clip-path=\"url(#clip840)\" d=\"M1717.03 1540.2 L1721.29 1540.2 L1721.29 1566.59 Q1721.29 1571.54 1719.39 1573.77 Q1717.51 1575.99 1713.32 1575.99 L1711.7 1575.99 L1711.7 1572.38 L1712.84 1572.38 Q1715.27 1572.38 1716.15 1571.24 Q1717.03 1570.13 1717.03 1566.59 L1717.03 1540.2 M1717.03 1530.11 L1721.29 1530.11 L1721.29 1535.5 L1717.03 1535.5 L1717.03 1530.11 Z\" fill=\"#000000\" fill-rule=\"evenodd\" fill-opacity=\"1\" /><path clip-path=\"url(#clip840)\" d=\"M1752.37 1552.1 L1752.37 1554.18 L1732.79 1554.18 Q1733.07 1558.58 1735.43 1560.9 Q1737.81 1563.19 1742.05 1563.19 Q1744.5 1563.19 1746.79 1562.59 Q1749.11 1561.98 1751.38 1560.78 L1751.38 1564.81 Q1749.09 1565.78 1746.68 1566.29 Q1744.27 1566.8 1741.79 1566.8 Q1735.59 1566.8 1731.96 1563.19 Q1728.35 1559.58 1728.35 1553.42 Q1728.35 1547.05 1731.77 1543.33 Q1735.22 1539.58 1741.05 1539.58 Q1746.29 1539.58 1749.32 1542.96 Q1752.37 1546.31 1752.37 1552.1 M1748.11 1550.85 Q1748.07 1547.35 1746.15 1545.27 Q1744.25 1543.19 1741.1 1543.19 Q1737.54 1543.19 1735.38 1545.2 Q1733.25 1547.22 1732.93 1550.87 L1748.11 1550.85 Z\" fill=\"#000000\" fill-rule=\"evenodd\" fill-opacity=\"1\" /><path clip-path=\"url(#clip840)\" d=\"M1778.02 1541.2 L1778.02 1545.18 Q1776.22 1544.18 1774.39 1543.7 Q1772.58 1543.19 1770.73 1543.19 Q1766.59 1543.19 1764.29 1545.83 Q1762 1548.44 1762 1553.19 Q1762 1557.93 1764.29 1560.57 Q1766.59 1563.19 1770.73 1563.19 Q1772.58 1563.19 1774.39 1562.7 Q1776.22 1562.19 1778.02 1561.2 L1778.02 1565.13 Q1776.24 1565.97 1774.32 1566.38 Q1772.42 1566.8 1770.27 1566.8 Q1764.41 1566.8 1760.96 1563.12 Q1757.51 1559.44 1757.51 1553.19 Q1757.51 1546.85 1760.98 1543.21 Q1764.48 1539.58 1770.54 1539.58 Q1772.51 1539.58 1774.39 1539.99 Q1776.26 1540.39 1778.02 1541.2 Z\" fill=\"#000000\" fill-rule=\"evenodd\" fill-opacity=\"1\" /><path clip-path=\"url(#clip840)\" d=\"M1789.64 1532.84 L1789.64 1540.2 L1798.41 1540.2 L1798.41 1543.51 L1789.64 1543.51 L1789.64 1557.59 Q1789.64 1560.76 1790.5 1561.66 Q1791.38 1562.56 1794.04 1562.56 L1798.41 1562.56 L1798.41 1566.13 L1794.04 1566.13 Q1789.11 1566.13 1787.23 1564.3 Q1785.36 1562.45 1785.36 1557.59 L1785.36 1543.51 L1782.23 1543.51 L1782.23 1540.2 L1785.36 1540.2 L1785.36 1532.84 L1789.64 1532.84 Z\" fill=\"#000000\" fill-rule=\"evenodd\" fill-opacity=\"1\" /><path clip-path=\"url(#clip840)\" d=\"M1808.23 1532.84 L1808.23 1540.2 L1817 1540.2 L1817 1543.51 L1808.23 1543.51 L1808.23 1557.59 Q1808.23 1560.76 1809.09 1561.66 Q1809.97 1562.56 1812.63 1562.56 L1817 1562.56 L1817 1566.13 L1812.63 1566.13 Q1807.7 1566.13 1805.82 1564.3 Q1803.95 1562.45 1803.95 1557.59 L1803.95 1543.51 L1800.82 1543.51 L1800.82 1540.2 L1803.95 1540.2 L1803.95 1532.84 L1808.23 1532.84 Z\" fill=\"#000000\" fill-rule=\"evenodd\" fill-opacity=\"1\" /><path clip-path=\"url(#clip840)\" d=\"M1834.39 1553.1 Q1829.22 1553.1 1827.23 1554.28 Q1825.24 1555.46 1825.24 1558.3 Q1825.24 1560.57 1826.72 1561.91 Q1828.23 1563.23 1830.8 1563.23 Q1834.34 1563.23 1836.47 1560.73 Q1838.62 1558.21 1838.62 1554.04 L1838.62 1553.1 L1834.39 1553.1 M1842.88 1551.34 L1842.88 1566.13 L1838.62 1566.13 L1838.62 1562.19 Q1837.16 1564.55 1834.99 1565.69 Q1832.81 1566.8 1829.66 1566.8 Q1825.68 1566.8 1823.32 1564.58 Q1820.98 1562.33 1820.98 1558.58 Q1820.98 1554.21 1823.9 1551.98 Q1826.84 1549.76 1832.65 1549.76 L1838.62 1549.76 L1838.62 1549.35 Q1838.62 1546.41 1836.68 1544.81 Q1834.76 1543.19 1831.26 1543.19 Q1829.04 1543.19 1826.93 1543.72 Q1824.83 1544.25 1822.88 1545.32 L1822.88 1541.38 Q1825.22 1540.48 1827.42 1540.04 Q1829.62 1539.58 1831.7 1539.58 Q1837.33 1539.58 1840.1 1542.49 Q1842.88 1545.41 1842.88 1551.34 Z\" fill=\"#000000\" fill-rule=\"evenodd\" fill-opacity=\"1\" /><path clip-path=\"url(#clip840)\" d=\"M1870.27 1553.19 Q1870.27 1548.49 1868.32 1545.83 Q1866.4 1543.14 1863.02 1543.14 Q1859.64 1543.14 1857.7 1545.83 Q1855.78 1548.49 1855.78 1553.19 Q1855.78 1557.89 1857.7 1560.57 Q1859.64 1563.23 1863.02 1563.23 Q1866.4 1563.23 1868.32 1560.57 Q1870.27 1557.89 1870.27 1553.19 M1855.78 1544.14 Q1857.12 1541.82 1859.15 1540.71 Q1861.22 1539.58 1864.06 1539.58 Q1868.78 1539.58 1871.72 1543.33 Q1874.69 1547.08 1874.69 1553.19 Q1874.69 1559.3 1871.72 1563.05 Q1868.78 1566.8 1864.06 1566.8 Q1861.22 1566.8 1859.15 1565.69 Q1857.12 1564.55 1855.78 1562.24 L1855.78 1566.13 L1851.49 1566.13 L1851.49 1530.11 L1855.78 1530.11 L1855.78 1544.14 Z\" fill=\"#000000\" fill-rule=\"evenodd\" fill-opacity=\"1\" /><path clip-path=\"url(#clip840)\" d=\"M1881.75 1530.11 L1886.01 1530.11 L1886.01 1566.13 L1881.75 1566.13 L1881.75 1530.11 Z\" fill=\"#000000\" fill-rule=\"evenodd\" fill-opacity=\"1\" /><path clip-path=\"url(#clip840)\" d=\"M1917.09 1552.1 L1917.09 1554.18 L1897.51 1554.18 Q1897.79 1558.58 1900.15 1560.9 Q1902.53 1563.19 1906.77 1563.19 Q1909.22 1563.19 1911.52 1562.59 Q1913.83 1561.98 1916.1 1560.78 L1916.1 1564.81 Q1913.81 1565.78 1911.4 1566.29 Q1908.99 1566.8 1906.52 1566.8 Q1900.31 1566.8 1896.68 1563.19 Q1893.07 1559.58 1893.07 1553.42 Q1893.07 1547.05 1896.49 1543.33 Q1899.94 1539.58 1905.77 1539.58 Q1911.01 1539.58 1914.04 1542.96 Q1917.09 1546.31 1917.09 1552.1 M1912.84 1550.85 Q1912.79 1547.35 1910.87 1545.27 Q1908.97 1543.19 1905.82 1543.19 Q1902.26 1543.19 1900.1 1545.2 Q1897.97 1547.22 1897.65 1550.87 L1912.84 1550.85 Z\" fill=\"#000000\" fill-rule=\"evenodd\" fill-opacity=\"1\" /><path clip-path=\"url(#clip840)\" d=\"M1990.7 1480.86 L1990.7 1485.42 Q1988.04 1484.15 1985.67 1483.52 Q1983.31 1482.9 1981.11 1482.9 Q1977.29 1482.9 1975.21 1484.38 Q1973.15 1485.86 1973.15 1488.59 Q1973.15 1490.89 1974.52 1492.07 Q1975.91 1493.22 1979.75 1493.94 L1982.57 1494.52 Q1987.8 1495.51 1990.28 1498.04 Q1992.78 1500.54 1992.78 1504.75 Q1992.78 1509.77 1989.4 1512.37 Q1986.04 1514.96 1979.54 1514.96 Q1977.09 1514.96 1974.31 1514.4 Q1971.55 1513.85 1968.59 1512.76 L1968.59 1507.95 Q1971.44 1509.54 1974.17 1510.35 Q1976.9 1511.16 1979.54 1511.16 Q1983.54 1511.16 1985.72 1509.59 Q1987.9 1508.01 1987.9 1505.1 Q1987.9 1502.55 1986.32 1501.12 Q1984.77 1499.68 1981.21 1498.96 L1978.36 1498.41 Q1973.13 1497.37 1970.79 1495.14 Q1968.45 1492.92 1968.45 1488.96 Q1968.45 1484.38 1971.67 1481.74 Q1974.91 1479.1 1980.58 1479.1 Q1983.01 1479.1 1985.54 1479.54 Q1988.06 1479.98 1990.7 1480.86 Z\" fill=\"#000000\" fill-rule=\"evenodd\" fill-opacity=\"1\" /><path clip-path=\"url(#clip840)\" d=\"M2022.06 1500.26 L2022.06 1502.34 L2002.48 1502.34 Q2002.76 1506.74 2005.12 1509.06 Q2007.5 1511.35 2011.74 1511.35 Q2014.19 1511.35 2016.48 1510.75 Q2018.8 1510.14 2021.07 1508.94 L2021.07 1512.97 Q2018.78 1513.94 2016.37 1514.45 Q2013.96 1514.96 2011.48 1514.96 Q2005.28 1514.96 2001.65 1511.35 Q1998.03 1507.74 1998.03 1501.58 Q1998.03 1495.21 2001.46 1491.49 Q2004.91 1487.74 2010.74 1487.74 Q2015.97 1487.74 2019.01 1491.12 Q2022.06 1494.47 2022.06 1500.26 M2017.8 1499.01 Q2017.76 1495.51 2015.84 1493.43 Q2013.94 1491.35 2010.79 1491.35 Q2007.22 1491.35 2005.07 1493.36 Q2002.94 1495.38 2002.62 1499.03 L2017.8 1499.01 Z\" fill=\"#000000\" fill-rule=\"evenodd\" fill-opacity=\"1\" /><path clip-path=\"url(#clip840)\" d=\"M2044.08 1492.34 Q2043.36 1491.93 2042.5 1491.74 Q2041.67 1491.53 2040.65 1491.53 Q2037.04 1491.53 2035.09 1493.89 Q2033.17 1496.23 2033.17 1500.63 L2033.17 1514.29 L2028.89 1514.29 L2028.89 1488.36 L2033.17 1488.36 L2033.17 1492.39 Q2034.52 1490.03 2036.67 1488.89 Q2038.82 1487.74 2041.9 1487.74 Q2042.34 1487.74 2042.87 1487.81 Q2043.41 1487.85 2044.05 1487.97 L2044.08 1492.34 Z\" fill=\"#000000\" fill-rule=\"evenodd\" fill-opacity=\"1\" /><path clip-path=\"url(#clip840)\" d=\"M2048.54 1488.36 L2052.8 1488.36 L2052.8 1514.29 L2048.54 1514.29 L2048.54 1488.36 M2048.54 1478.27 L2052.8 1478.27 L2052.8 1483.66 L2048.54 1483.66 L2048.54 1478.27 Z\" fill=\"#000000\" fill-rule=\"evenodd\" fill-opacity=\"1\" /><path clip-path=\"url(#clip840)\" d=\"M2073.5 1501.26 Q2068.34 1501.26 2066.34 1502.44 Q2064.35 1503.62 2064.35 1506.46 Q2064.35 1508.73 2065.84 1510.07 Q2067.34 1511.39 2069.91 1511.39 Q2073.45 1511.39 2075.58 1508.89 Q2077.73 1506.37 2077.73 1502.2 L2077.73 1501.26 L2073.5 1501.26 M2081.99 1499.5 L2081.99 1514.29 L2077.73 1514.29 L2077.73 1510.35 Q2076.28 1512.71 2074.1 1513.85 Q2071.92 1514.96 2068.78 1514.96 Q2064.79 1514.96 2062.43 1512.74 Q2060.09 1510.49 2060.09 1506.74 Q2060.09 1502.37 2063.01 1500.14 Q2065.95 1497.92 2071.76 1497.92 L2077.73 1497.92 L2077.73 1497.51 Q2077.73 1494.57 2075.79 1492.97 Q2073.87 1491.35 2070.37 1491.35 Q2068.15 1491.35 2066.04 1491.88 Q2063.94 1492.41 2061.99 1493.48 L2061.99 1489.54 Q2064.33 1488.64 2066.53 1488.2 Q2068.73 1487.74 2070.81 1487.74 Q2076.44 1487.74 2079.22 1490.65 Q2081.99 1493.57 2081.99 1499.5 Z\" fill=\"#000000\" fill-rule=\"evenodd\" fill-opacity=\"1\" /><path clip-path=\"url(#clip840)\" d=\"M2090.77 1478.27 L2095.03 1478.27 L2095.03 1514.29 L2090.77 1514.29 L2090.77 1478.27 Z\" fill=\"#000000\" fill-rule=\"evenodd\" fill-opacity=\"1\" /><path clip-path=\"url(#clip840)\" d=\"M2103.94 1488.36 L2108.2 1488.36 L2108.2 1514.29 L2103.94 1514.29 L2103.94 1488.36 M2103.94 1478.27 L2108.2 1478.27 L2108.2 1483.66 L2103.94 1483.66 L2103.94 1478.27 Z\" fill=\"#000000\" fill-rule=\"evenodd\" fill-opacity=\"1\" /><path clip-path=\"url(#clip840)\" d=\"M2115.26 1488.36 L2135.49 1488.36 L2135.49 1492.25 L2119.47 1510.89 L2135.49 1510.89 L2135.49 1514.29 L2114.68 1514.29 L2114.68 1510.4 L2130.7 1491.76 L2115.26 1491.76 L2115.26 1488.36 Z\" fill=\"#000000\" fill-rule=\"evenodd\" fill-opacity=\"1\" /><path clip-path=\"url(#clip840)\" d=\"M2153.77 1501.26 Q2148.61 1501.26 2146.62 1502.44 Q2144.63 1503.62 2144.63 1506.46 Q2144.63 1508.73 2146.11 1510.07 Q2147.62 1511.39 2150.19 1511.39 Q2153.73 1511.39 2155.86 1508.89 Q2158.01 1506.37 2158.01 1502.2 L2158.01 1501.26 L2153.77 1501.26 M2162.27 1499.5 L2162.27 1514.29 L2158.01 1514.29 L2158.01 1510.35 Q2156.55 1512.71 2154.38 1513.85 Q2152.2 1514.96 2149.05 1514.96 Q2145.07 1514.96 2142.71 1512.74 Q2140.37 1510.49 2140.37 1506.74 Q2140.37 1502.37 2143.29 1500.14 Q2146.23 1497.92 2152.04 1497.92 L2158.01 1497.92 L2158.01 1497.51 Q2158.01 1494.57 2156.07 1492.97 Q2154.15 1491.35 2150.65 1491.35 Q2148.43 1491.35 2146.32 1491.88 Q2144.21 1492.41 2142.27 1493.48 L2142.27 1489.54 Q2144.61 1488.64 2146.81 1488.2 Q2149.01 1487.74 2151.09 1487.74 Q2156.71 1487.74 2159.49 1490.65 Q2162.27 1493.57 2162.27 1499.5 Z\" fill=\"#000000\" fill-rule=\"evenodd\" fill-opacity=\"1\" /><path clip-path=\"url(#clip840)\" d=\"M2175.26 1481 L2175.26 1488.36 L2184.03 1488.36 L2184.03 1491.67 L2175.26 1491.67 L2175.26 1505.75 Q2175.26 1508.92 2176.11 1509.82 Q2176.99 1510.72 2179.65 1510.72 L2184.03 1510.72 L2184.03 1514.29 L2179.65 1514.29 Q2174.72 1514.29 2172.85 1512.46 Q2170.97 1510.61 2170.97 1505.75 L2170.97 1491.67 L2167.85 1491.67 L2167.85 1488.36 L2170.97 1488.36 L2170.97 1481 L2175.26 1481 Z\" fill=\"#000000\" fill-rule=\"evenodd\" fill-opacity=\"1\" /><path clip-path=\"url(#clip840)\" d=\"M2189.63 1488.36 L2193.89 1488.36 L2193.89 1514.29 L2189.63 1514.29 L2189.63 1488.36 M2189.63 1478.27 L2193.89 1478.27 L2193.89 1483.66 L2189.63 1483.66 L2189.63 1478.27 Z\" fill=\"#000000\" fill-rule=\"evenodd\" fill-opacity=\"1\" /><path clip-path=\"url(#clip840)\" d=\"M2212.85 1491.35 Q2209.42 1491.35 2207.43 1494.03 Q2205.44 1496.7 2205.44 1501.35 Q2205.44 1506 2207.41 1508.69 Q2209.4 1511.35 2212.85 1511.35 Q2216.25 1511.35 2218.24 1508.66 Q2220.23 1505.98 2220.23 1501.35 Q2220.23 1496.74 2218.24 1494.06 Q2216.25 1491.35 2212.85 1491.35 M2212.85 1487.74 Q2218.4 1487.74 2221.58 1491.35 Q2224.75 1494.96 2224.75 1501.35 Q2224.75 1507.71 2221.58 1511.35 Q2218.4 1514.96 2212.85 1514.96 Q2207.27 1514.96 2204.1 1511.35 Q2200.95 1507.71 2200.95 1501.35 Q2200.95 1494.96 2204.1 1491.35 Q2207.27 1487.74 2212.85 1487.74 Z\" fill=\"#000000\" fill-rule=\"evenodd\" fill-opacity=\"1\" /><path clip-path=\"url(#clip840)\" d=\"M2253.36 1498.64 L2253.36 1514.29 L2249.1 1514.29 L2249.1 1498.78 Q2249.1 1495.1 2247.66 1493.27 Q2246.23 1491.44 2243.36 1491.44 Q2239.91 1491.44 2237.92 1493.64 Q2235.93 1495.84 2235.93 1499.64 L2235.93 1514.29 L2231.64 1514.29 L2231.64 1488.36 L2235.93 1488.36 L2235.93 1492.39 Q2237.46 1490.05 2239.52 1488.89 Q2241.6 1487.74 2244.31 1487.74 Q2248.77 1487.74 2251.07 1490.51 Q2253.36 1493.27 2253.36 1498.64 Z\" fill=\"#000000\" fill-rule=\"evenodd\" fill-opacity=\"1\" /><polyline clip-path=\"url(#clip842)\" style=\"stroke:#000000; stroke-linecap:butt; stroke-linejoin:round; stroke-width:2; stroke-opacity:0.1; fill:none\" points=\"\n",
       "  247.459,1417.71 2352.76,1417.71 \n",
       "  \"/>\n",
       "<polyline clip-path=\"url(#clip842)\" style=\"stroke:#000000; stroke-linecap:butt; stroke-linejoin:round; stroke-width:2; stroke-opacity:0.1; fill:none\" points=\"\n",
       "  247.459,1153.53 2352.76,1153.53 \n",
       "  \"/>\n",
       "<polyline clip-path=\"url(#clip842)\" style=\"stroke:#000000; stroke-linecap:butt; stroke-linejoin:round; stroke-width:2; stroke-opacity:0.1; fill:none\" points=\"\n",
       "  247.459,889.346 2352.76,889.346 \n",
       "  \"/>\n",
       "<polyline clip-path=\"url(#clip842)\" style=\"stroke:#000000; stroke-linecap:butt; stroke-linejoin:round; stroke-width:2; stroke-opacity:0.1; fill:none\" points=\"\n",
       "  247.459,625.162 2352.76,625.162 \n",
       "  \"/>\n",
       "<polyline clip-path=\"url(#clip842)\" style=\"stroke:#000000; stroke-linecap:butt; stroke-linejoin:round; stroke-width:2; stroke-opacity:0.1; fill:none\" points=\"\n",
       "  247.459,360.977 2352.76,360.977 \n",
       "  \"/>\n",
       "<polyline clip-path=\"url(#clip840)\" style=\"stroke:#000000; stroke-linecap:butt; stroke-linejoin:round; stroke-width:4; stroke-opacity:1; fill:none\" points=\"\n",
       "  247.459,1451.89 247.459,244.432 \n",
       "  \"/>\n",
       "<polyline clip-path=\"url(#clip840)\" style=\"stroke:#000000; stroke-linecap:butt; stroke-linejoin:round; stroke-width:4; stroke-opacity:1; fill:none\" points=\"\n",
       "  247.459,1417.71 266.356,1417.71 \n",
       "  \"/>\n",
       "<polyline clip-path=\"url(#clip840)\" style=\"stroke:#000000; stroke-linecap:butt; stroke-linejoin:round; stroke-width:4; stroke-opacity:1; fill:none\" points=\"\n",
       "  247.459,1153.53 266.356,1153.53 \n",
       "  \"/>\n",
       "<polyline clip-path=\"url(#clip840)\" style=\"stroke:#000000; stroke-linecap:butt; stroke-linejoin:round; stroke-width:4; stroke-opacity:1; fill:none\" points=\"\n",
       "  247.459,889.346 266.356,889.346 \n",
       "  \"/>\n",
       "<polyline clip-path=\"url(#clip840)\" style=\"stroke:#000000; stroke-linecap:butt; stroke-linejoin:round; stroke-width:4; stroke-opacity:1; fill:none\" points=\"\n",
       "  247.459,625.162 266.356,625.162 \n",
       "  \"/>\n",
       "<polyline clip-path=\"url(#clip840)\" style=\"stroke:#000000; stroke-linecap:butt; stroke-linejoin:round; stroke-width:4; stroke-opacity:1; fill:none\" points=\"\n",
       "  247.459,360.977 266.356,360.977 \n",
       "  \"/>\n",
       "<path clip-path=\"url(#clip840)\" d=\"M154.283 1403.51 Q150.672 1403.51 148.843 1407.08 Q147.038 1410.62 147.038 1417.75 Q147.038 1424.86 148.843 1428.42 Q150.672 1431.96 154.283 1431.96 Q157.917 1431.96 159.723 1428.42 Q161.552 1424.86 161.552 1417.75 Q161.552 1410.62 159.723 1407.08 Q157.917 1403.51 154.283 1403.51 M154.283 1399.81 Q160.093 1399.81 163.149 1404.42 Q166.227 1409 166.227 1417.75 Q166.227 1426.48 163.149 1431.08 Q160.093 1435.67 154.283 1435.67 Q148.473 1435.67 145.394 1431.08 Q142.339 1426.48 142.339 1417.75 Q142.339 1409 145.394 1404.42 Q148.473 1399.81 154.283 1399.81 Z\" fill=\"#000000\" fill-rule=\"evenodd\" fill-opacity=\"1\" /><path clip-path=\"url(#clip840)\" d=\"M174.445 1429.12 L179.329 1429.12 L179.329 1434.99 L174.445 1434.99 L174.445 1429.12 Z\" fill=\"#000000\" fill-rule=\"evenodd\" fill-opacity=\"1\" /><path clip-path=\"url(#clip840)\" d=\"M199.514 1403.51 Q195.903 1403.51 194.075 1407.08 Q192.269 1410.62 192.269 1417.75 Q192.269 1424.86 194.075 1428.42 Q195.903 1431.96 199.514 1431.96 Q203.149 1431.96 204.954 1428.42 Q206.783 1424.86 206.783 1417.75 Q206.783 1410.62 204.954 1407.08 Q203.149 1403.51 199.514 1403.51 M199.514 1399.81 Q205.324 1399.81 208.38 1404.42 Q211.459 1409 211.459 1417.75 Q211.459 1426.48 208.38 1431.08 Q205.324 1435.67 199.514 1435.67 Q193.704 1435.67 190.625 1431.08 Q187.57 1426.48 187.57 1417.75 Q187.57 1409 190.625 1404.42 Q193.704 1399.81 199.514 1399.81 Z\" fill=\"#000000\" fill-rule=\"evenodd\" fill-opacity=\"1\" /><path clip-path=\"url(#clip840)\" d=\"M149.306 1166.88 L165.626 1166.88 L165.626 1170.81 L143.681 1170.81 L143.681 1166.88 Q146.343 1164.12 150.927 1159.49 Q155.533 1154.84 156.714 1153.5 Q158.959 1150.97 159.839 1149.24 Q160.741 1147.48 160.741 1145.79 Q160.741 1143.03 158.797 1141.3 Q156.876 1139.56 153.774 1139.56 Q151.575 1139.56 149.121 1140.32 Q146.691 1141.09 143.913 1142.64 L143.913 1137.92 Q146.737 1136.78 149.191 1136.2 Q151.644 1135.63 153.681 1135.63 Q159.052 1135.63 162.246 1138.31 Q165.44 1141 165.44 1145.49 Q165.44 1147.62 164.63 1149.54 Q163.843 1151.44 161.737 1154.03 Q161.158 1154.7 158.056 1157.92 Q154.954 1161.11 149.306 1166.88 Z\" fill=\"#000000\" fill-rule=\"evenodd\" fill-opacity=\"1\" /><path clip-path=\"url(#clip840)\" d=\"M175.44 1164.93 L180.325 1164.93 L180.325 1170.81 L175.44 1170.81 L175.44 1164.93 Z\" fill=\"#000000\" fill-rule=\"evenodd\" fill-opacity=\"1\" /><path clip-path=\"url(#clip840)\" d=\"M190.556 1136.25 L208.912 1136.25 L208.912 1140.19 L194.838 1140.19 L194.838 1148.66 Q195.857 1148.31 196.875 1148.15 Q197.894 1147.96 198.912 1147.96 Q204.699 1147.96 208.079 1151.13 Q211.459 1154.31 211.459 1159.72 Q211.459 1165.3 207.987 1168.4 Q204.514 1171.48 198.195 1171.48 Q196.019 1171.48 193.75 1171.11 Q191.505 1170.74 189.098 1170 L189.098 1165.3 Q191.181 1166.44 193.403 1166.99 Q195.625 1167.55 198.102 1167.55 Q202.107 1167.55 204.445 1165.44 Q206.783 1163.33 206.783 1159.72 Q206.783 1156.11 204.445 1154 Q202.107 1151.9 198.102 1151.9 Q196.227 1151.9 194.352 1152.31 Q192.5 1152.73 190.556 1153.61 L190.556 1136.25 Z\" fill=\"#000000\" fill-rule=\"evenodd\" fill-opacity=\"1\" /><path clip-path=\"url(#clip840)\" d=\"M144.329 872.066 L162.686 872.066 L162.686 876.001 L148.612 876.001 L148.612 884.473 Q149.63 884.126 150.649 883.964 Q151.667 883.779 152.686 883.779 Q158.473 883.779 161.852 886.95 Q165.232 890.121 165.232 895.538 Q165.232 901.117 161.76 904.219 Q158.288 907.297 151.968 907.297 Q149.792 907.297 147.524 906.927 Q145.279 906.556 142.871 905.816 L142.871 901.117 Q144.954 902.251 147.177 902.806 Q149.399 903.362 151.876 903.362 Q155.88 903.362 158.218 901.256 Q160.556 899.149 160.556 895.538 Q160.556 891.927 158.218 889.82 Q155.88 887.714 151.876 887.714 Q150.001 887.714 148.126 888.131 Q146.274 888.547 144.329 889.427 L144.329 872.066 Z\" fill=\"#000000\" fill-rule=\"evenodd\" fill-opacity=\"1\" /><path clip-path=\"url(#clip840)\" d=\"M174.445 900.746 L179.329 900.746 L179.329 906.626 L174.445 906.626 L174.445 900.746 Z\" fill=\"#000000\" fill-rule=\"evenodd\" fill-opacity=\"1\" /><path clip-path=\"url(#clip840)\" d=\"M199.514 875.145 Q195.903 875.145 194.075 878.709 Q192.269 882.251 192.269 889.381 Q192.269 896.487 194.075 900.052 Q195.903 903.594 199.514 903.594 Q203.149 903.594 204.954 900.052 Q206.783 896.487 206.783 889.381 Q206.783 882.251 204.954 878.709 Q203.149 875.145 199.514 875.145 M199.514 871.441 Q205.324 871.441 208.38 876.047 Q211.459 880.631 211.459 889.381 Q211.459 898.107 208.38 902.714 Q205.324 907.297 199.514 907.297 Q193.704 907.297 190.625 902.714 Q187.57 898.107 187.57 889.381 Q187.57 880.631 190.625 876.047 Q193.704 871.441 199.514 871.441 Z\" fill=\"#000000\" fill-rule=\"evenodd\" fill-opacity=\"1\" /><path clip-path=\"url(#clip840)\" d=\"M144.098 607.882 L166.32 607.882 L166.32 609.872 L153.774 642.442 L148.89 642.442 L160.695 611.817 L144.098 611.817 L144.098 607.882 Z\" fill=\"#000000\" fill-rule=\"evenodd\" fill-opacity=\"1\" /><path clip-path=\"url(#clip840)\" d=\"M175.44 636.562 L180.325 636.562 L180.325 642.442 L175.44 642.442 L175.44 636.562 Z\" fill=\"#000000\" fill-rule=\"evenodd\" fill-opacity=\"1\" /><path clip-path=\"url(#clip840)\" d=\"M190.556 607.882 L208.912 607.882 L208.912 611.817 L194.838 611.817 L194.838 620.289 Q195.857 619.942 196.875 619.78 Q197.894 619.594 198.912 619.594 Q204.699 619.594 208.079 622.766 Q211.459 625.937 211.459 631.354 Q211.459 636.932 207.987 640.034 Q204.514 643.113 198.195 643.113 Q196.019 643.113 193.75 642.742 Q191.505 642.372 189.098 641.631 L189.098 636.932 Q191.181 638.067 193.403 638.622 Q195.625 639.178 198.102 639.178 Q202.107 639.178 204.445 637.071 Q206.783 634.965 206.783 631.354 Q206.783 627.743 204.445 625.636 Q202.107 623.53 198.102 623.53 Q196.227 623.53 194.352 623.946 Q192.5 624.363 190.556 625.243 L190.556 607.882 Z\" fill=\"#000000\" fill-rule=\"evenodd\" fill-opacity=\"1\" /><path clip-path=\"url(#clip840)\" d=\"M114.931 374.322 L122.57 374.322 L122.57 347.956 L114.26 349.623 L114.26 345.364 L122.524 343.697 L127.2 343.697 L127.2 374.322 L134.839 374.322 L134.839 378.257 L114.931 378.257 L114.931 374.322 Z\" fill=\"#000000\" fill-rule=\"evenodd\" fill-opacity=\"1\" /><path clip-path=\"url(#clip840)\" d=\"M154.283 346.776 Q150.672 346.776 148.843 350.341 Q147.038 353.882 147.038 361.012 Q147.038 368.118 148.843 371.683 Q150.672 375.225 154.283 375.225 Q157.917 375.225 159.723 371.683 Q161.552 368.118 161.552 361.012 Q161.552 353.882 159.723 350.341 Q157.917 346.776 154.283 346.776 M154.283 343.072 Q160.093 343.072 163.149 347.679 Q166.227 352.262 166.227 361.012 Q166.227 369.739 163.149 374.345 Q160.093 378.929 154.283 378.929 Q148.473 378.929 145.394 374.345 Q142.339 369.739 142.339 361.012 Q142.339 352.262 145.394 347.679 Q148.473 343.072 154.283 343.072 Z\" fill=\"#000000\" fill-rule=\"evenodd\" fill-opacity=\"1\" /><path clip-path=\"url(#clip840)\" d=\"M174.445 372.378 L179.329 372.378 L179.329 378.257 L174.445 378.257 L174.445 372.378 Z\" fill=\"#000000\" fill-rule=\"evenodd\" fill-opacity=\"1\" /><path clip-path=\"url(#clip840)\" d=\"M199.514 346.776 Q195.903 346.776 194.075 350.341 Q192.269 353.882 192.269 361.012 Q192.269 368.118 194.075 371.683 Q195.903 375.225 199.514 375.225 Q203.149 375.225 204.954 371.683 Q206.783 368.118 206.783 361.012 Q206.783 353.882 204.954 350.341 Q203.149 346.776 199.514 346.776 M199.514 343.072 Q205.324 343.072 208.38 347.679 Q211.459 352.262 211.459 361.012 Q211.459 369.739 208.38 374.345 Q205.324 378.929 199.514 378.929 Q193.704 378.929 190.625 374.345 Q187.57 369.739 187.57 361.012 Q187.57 352.262 190.625 347.679 Q193.704 343.072 199.514 343.072 Z\" fill=\"#000000\" fill-rule=\"evenodd\" fill-opacity=\"1\" /><path clip-path=\"url(#clip840)\" d=\"M18.0438 932.41 L24.314 932.41 Q22.5634 936.07 21.704 939.317 Q20.8447 942.563 20.8447 945.587 Q20.8447 950.839 22.8817 953.703 Q24.9187 956.536 28.6745 956.536 Q31.8255 956.536 33.4488 954.658 Q35.0402 952.749 36.0269 947.465 L36.8226 943.582 Q38.1912 936.389 41.6605 932.983 Q45.098 929.546 50.8908 929.546 Q57.7976 929.546 61.3624 934.193 Q64.9272 938.808 64.9272 947.751 Q64.9272 951.125 64.1633 954.945 Q63.3994 958.732 61.9035 962.806 L55.2831 962.806 Q57.4793 958.891 58.5933 955.136 Q59.7073 951.38 59.7073 947.751 Q59.7073 942.245 57.543 939.253 Q55.3786 936.261 51.3682 936.261 Q47.8671 936.261 45.8937 938.426 Q43.9204 940.558 42.9337 945.46 L42.1698 949.375 Q40.7375 956.568 37.682 959.783 Q34.6264 962.997 29.1837 962.997 Q22.8817 962.997 19.2532 958.573 Q15.6248 954.117 15.6248 946.319 Q15.6248 942.977 16.2295 939.508 Q16.8343 936.039 18.0438 932.41 Z\" fill=\"#000000\" fill-rule=\"evenodd\" fill-opacity=\"1\" /><path clip-path=\"url(#clip840)\" d=\"M44.7161 889.282 L47.5806 889.282 L47.5806 916.209 Q53.6281 915.827 56.8109 912.581 Q59.9619 909.303 59.9619 903.478 Q59.9619 900.104 59.1344 896.953 Q58.3069 893.77 56.6518 890.651 L62.1899 890.651 Q63.5267 893.802 64.227 897.112 Q64.9272 900.422 64.9272 903.828 Q64.9272 912.358 59.9619 917.355 Q54.9967 922.32 46.5303 922.32 Q37.7774 922.32 32.6531 917.61 Q27.4968 912.867 27.4968 904.847 Q27.4968 897.653 32.1438 893.484 Q36.7589 889.282 44.7161 889.282 M42.9973 895.139 Q38.1912 895.203 35.3266 897.844 Q32.4621 900.454 32.4621 904.783 Q32.4621 909.685 35.2312 912.645 Q38.0002 915.573 43.0292 916.018 L42.9973 895.139 Z\" fill=\"#000000\" fill-rule=\"evenodd\" fill-opacity=\"1\" /><path clip-path=\"url(#clip840)\" d=\"M29.7248 854.016 L35.1993 854.016 Q33.8307 856.499 33.1623 859.014 Q32.4621 861.496 32.4621 864.042 Q32.4621 869.74 36.0905 872.891 Q39.6872 876.042 46.212 876.042 Q52.7369 876.042 56.3653 872.891 Q59.9619 869.74 59.9619 864.042 Q59.9619 861.496 59.2935 859.014 Q58.5933 856.499 57.2247 854.016 L62.6355 854.016 Q63.7814 856.467 64.3543 859.109 Q64.9272 861.719 64.9272 864.679 Q64.9272 872.732 59.8664 877.474 Q54.8057 882.217 46.212 882.217 Q37.491 882.217 32.4939 877.442 Q27.4968 872.636 27.4968 864.297 Q27.4968 861.592 28.0697 859.014 Q28.6108 856.435 29.7248 854.016 Z\" fill=\"#000000\" fill-rule=\"evenodd\" fill-opacity=\"1\" /><path clip-path=\"url(#clip840)\" d=\"M32.4621 830.018 Q32.4621 834.728 36.1542 837.466 Q39.8145 840.203 46.212 840.203 Q52.6095 840.203 56.3017 837.497 Q59.9619 834.76 59.9619 830.018 Q59.9619 825.339 56.2698 822.602 Q52.5777 819.864 46.212 819.864 Q39.8781 819.864 36.186 822.602 Q32.4621 825.339 32.4621 830.018 M27.4968 830.018 Q27.4968 822.379 32.4621 818.018 Q37.4273 813.658 46.212 813.658 Q54.9649 813.658 59.9619 818.018 Q64.9272 822.379 64.9272 830.018 Q64.9272 837.688 59.9619 842.049 Q54.9649 846.378 46.212 846.378 Q37.4273 846.378 32.4621 842.049 Q27.4968 837.688 27.4968 830.018 Z\" fill=\"#000000\" fill-rule=\"evenodd\" fill-opacity=\"1\" /><path clip-path=\"url(#clip840)\" d=\"M42.4881 774.318 L64.0042 774.318 L64.0042 780.174 L42.679 780.174 Q37.6183 780.174 35.1038 782.148 Q32.5894 784.121 32.5894 788.068 Q32.5894 792.81 35.6131 795.547 Q38.6368 798.285 43.8567 798.285 L64.0042 798.285 L64.0042 804.173 L28.3562 804.173 L28.3562 798.285 L33.8944 798.285 Q30.6797 796.184 29.0883 793.351 Q27.4968 790.487 27.4968 786.763 Q27.4968 780.62 31.3163 777.469 Q35.1038 774.318 42.4881 774.318 Z\" fill=\"#000000\" fill-rule=\"evenodd\" fill-opacity=\"1\" /><path clip-path=\"url(#clip840)\" d=\"M33.7671 739.179 L14.479 739.179 L14.479 733.323 L64.0042 733.323 L64.0042 739.179 L58.657 739.179 Q61.8398 741.025 63.3994 743.858 Q64.9272 746.659 64.9272 750.606 Q64.9272 757.067 59.771 761.141 Q54.6147 765.183 46.212 765.183 Q37.8093 765.183 32.6531 761.141 Q27.4968 757.067 27.4968 750.606 Q27.4968 746.659 29.0564 743.858 Q30.5842 741.025 33.7671 739.179 M46.212 759.136 Q52.6732 759.136 56.3653 756.494 Q60.0256 753.82 60.0256 749.173 Q60.0256 744.526 56.3653 741.853 Q52.6732 739.179 46.212 739.179 Q39.7508 739.179 36.0905 741.853 Q32.3984 744.526 32.3984 749.173 Q32.3984 753.82 36.0905 756.494 Q39.7508 759.136 46.212 759.136 Z\" fill=\"#000000\" fill-rule=\"evenodd\" fill-opacity=\"1\" /><path clip-path=\"url(#clip840)\" d=\"M918.127 42.336 L926.391 42.336 L939.111 93.4584 L951.79 42.336 L960.986 42.336 L973.706 93.4584 L986.385 42.336 L994.689 42.336 L979.498 102.816 L969.209 102.816 L956.449 50.3163 L943.567 102.816 L933.278 102.816 L918.127 42.336 Z\" fill=\"#000000\" fill-rule=\"evenodd\" fill-opacity=\"1\" /><path clip-path=\"url(#clip840)\" d=\"M1027.79 64.4134 Q1026.53 63.6843 1025.03 63.3602 Q1023.57 62.9956 1021.79 62.9956 Q1015.47 62.9956 1012.07 67.1275 Q1008.71 71.2189 1008.71 78.9157 L1008.71 102.816 L1001.21 102.816 L1001.21 57.4459 L1008.71 57.4459 L1008.71 64.4944 Q1011.06 60.3625 1014.82 58.3776 Q1018.59 56.3521 1023.98 56.3521 Q1024.75 56.3521 1025.68 56.4737 Q1026.61 56.5547 1027.74 56.7572 L1027.79 64.4134 Z\" fill=\"#000000\" fill-rule=\"evenodd\" fill-opacity=\"1\" /><path clip-path=\"url(#clip840)\" d=\"M1035.6 57.4459 L1043.06 57.4459 L1043.06 102.816 L1035.6 102.816 L1035.6 57.4459 M1035.6 39.7839 L1043.06 39.7839 L1043.06 49.2225 L1035.6 49.2225 L1035.6 39.7839 Z\" fill=\"#000000\" fill-rule=\"evenodd\" fill-opacity=\"1\" /><path clip-path=\"url(#clip840)\" d=\"M1066.03 44.564 L1066.03 57.4459 L1081.38 57.4459 L1081.38 63.2387 L1066.03 63.2387 L1066.03 87.8682 Q1066.03 93.4179 1067.52 94.9978 Q1069.06 96.5776 1073.72 96.5776 L1081.38 96.5776 L1081.38 102.816 L1073.72 102.816 Q1065.09 102.816 1061.81 99.6158 Q1058.53 96.3751 1058.53 87.8682 L1058.53 63.2387 L1053.06 63.2387 L1053.06 57.4459 L1058.53 57.4459 L1058.53 44.564 L1066.03 44.564 Z\" fill=\"#000000\" fill-rule=\"evenodd\" fill-opacity=\"1\" /><path clip-path=\"url(#clip840)\" d=\"M1129.99 78.2675 L1129.99 81.9133 L1095.72 81.9133 Q1096.21 89.6101 1100.34 93.661 Q1104.51 97.6714 1111.92 97.6714 Q1116.22 97.6714 1120.23 96.6181 Q1124.28 95.5649 1128.25 93.4584 L1128.25 100.507 Q1124.24 102.208 1120.02 103.1 Q1115.81 103.991 1111.48 103.991 Q1100.62 103.991 1094.26 97.6714 Q1087.94 91.3519 1087.94 80.5765 Q1087.94 69.4365 1093.94 62.9146 Q1099.97 56.3521 1110.18 56.3521 Q1119.34 56.3521 1124.64 62.2664 Q1129.99 68.1403 1129.99 78.2675 M1122.54 76.08 Q1122.45 69.9632 1119.09 66.3174 Q1115.77 62.6715 1110.26 62.6715 Q1104.02 62.6715 1100.26 66.1958 Q1096.53 69.7201 1095.96 76.1205 L1122.54 76.08 Z\" fill=\"#000000\" fill-rule=\"evenodd\" fill-opacity=\"1\" /><path clip-path=\"url(#clip840)\" d=\"M1177.1 49.0605 L1177.1 71.7861 L1187.39 71.7861 Q1193.1 71.7861 1196.22 68.8289 Q1199.34 65.8718 1199.34 60.403 Q1199.34 54.9748 1196.22 52.0177 Q1193.1 49.0605 1187.39 49.0605 L1177.1 49.0605 M1168.92 42.336 L1187.39 42.336 Q1197.56 42.336 1202.74 46.954 Q1207.97 51.5316 1207.97 60.403 Q1207.97 69.3555 1202.74 73.9331 Q1197.56 78.5106 1187.39 78.5106 L1177.1 78.5106 L1177.1 102.816 L1168.92 102.816 L1168.92 42.336 Z\" fill=\"#000000\" fill-rule=\"evenodd\" fill-opacity=\"1\" /><path clip-path=\"url(#clip840)\" d=\"M1254.47 78.2675 L1254.47 81.9133 L1220.2 81.9133 Q1220.69 89.6101 1224.82 93.661 Q1228.99 97.6714 1236.41 97.6714 Q1240.7 97.6714 1244.71 96.6181 Q1248.76 95.5649 1252.73 93.4584 L1252.73 100.507 Q1248.72 102.208 1244.51 103.1 Q1240.3 103.991 1235.96 103.991 Q1225.1 103.991 1218.74 97.6714 Q1212.43 91.3519 1212.43 80.5765 Q1212.43 69.4365 1218.42 62.9146 Q1224.46 56.3521 1234.66 56.3521 Q1243.82 56.3521 1249.13 62.2664 Q1254.47 68.1403 1254.47 78.2675 M1247.02 76.08 Q1246.94 69.9632 1243.58 66.3174 Q1240.26 62.6715 1234.75 62.6715 Q1228.51 62.6715 1224.74 66.1958 Q1221.01 69.7201 1220.45 76.1205 L1247.02 76.08 Z\" fill=\"#000000\" fill-rule=\"evenodd\" fill-opacity=\"1\" /><path clip-path=\"url(#clip840)\" d=\"M1293 64.4134 Q1291.74 63.6843 1290.24 63.3602 Q1288.79 62.9956 1287 62.9956 Q1280.68 62.9956 1277.28 67.1275 Q1273.92 71.2189 1273.92 78.9157 L1273.92 102.816 L1266.42 102.816 L1266.42 57.4459 L1273.92 57.4459 L1273.92 64.4944 Q1276.27 60.3625 1280.04 58.3776 Q1283.8 56.3521 1289.19 56.3521 Q1289.96 56.3521 1290.89 56.4737 Q1291.82 56.5547 1292.96 56.7572 L1293 64.4134 Z\" fill=\"#000000\" fill-rule=\"evenodd\" fill-opacity=\"1\" /><path clip-path=\"url(#clip840)\" d=\"M1323.78 39.7839 L1323.78 45.9818 L1316.66 45.9818 Q1312.64 45.9818 1311.07 47.6022 Q1309.53 49.2225 1309.53 53.4355 L1309.53 57.4459 L1321.8 57.4459 L1321.8 63.2387 L1309.53 63.2387 L1309.53 102.816 L1302.03 102.816 L1302.03 63.2387 L1294.9 63.2387 L1294.9 57.4459 L1302.03 57.4459 L1302.03 54.2862 Q1302.03 46.711 1305.56 43.2677 Q1309.08 39.7839 1316.74 39.7839 L1323.78 39.7839 Z\" fill=\"#000000\" fill-rule=\"evenodd\" fill-opacity=\"1\" /><path clip-path=\"url(#clip840)\" d=\"M1347.6 62.6715 Q1341.61 62.6715 1338.13 67.3706 Q1334.64 72.0291 1334.64 80.1714 Q1334.64 88.3138 1338.08 93.0128 Q1341.57 97.6714 1347.6 97.6714 Q1353.56 97.6714 1357.04 92.9723 Q1360.53 88.2733 1360.53 80.1714 Q1360.53 72.1101 1357.04 67.4111 Q1353.56 62.6715 1347.6 62.6715 M1347.6 56.3521 Q1357.33 56.3521 1362.88 62.6715 Q1368.43 68.9909 1368.43 80.1714 Q1368.43 91.3114 1362.88 97.6714 Q1357.33 103.991 1347.6 103.991 Q1337.84 103.991 1332.29 97.6714 Q1326.78 91.3114 1326.78 80.1714 Q1326.78 68.9909 1332.29 62.6715 Q1337.84 56.3521 1347.6 56.3521 Z\" fill=\"#000000\" fill-rule=\"evenodd\" fill-opacity=\"1\" /><path clip-path=\"url(#clip840)\" d=\"M1407.07 64.4134 Q1405.82 63.6843 1404.32 63.3602 Q1402.86 62.9956 1401.08 62.9956 Q1394.76 62.9956 1391.35 67.1275 Q1387.99 71.2189 1387.99 78.9157 L1387.99 102.816 L1380.5 102.816 L1380.5 57.4459 L1387.99 57.4459 L1387.99 64.4944 Q1390.34 60.3625 1394.11 58.3776 Q1397.88 56.3521 1403.26 56.3521 Q1404.03 56.3521 1404.96 56.4737 Q1405.9 56.5547 1407.03 56.7572 L1407.07 64.4134 Z\" fill=\"#000000\" fill-rule=\"evenodd\" fill-opacity=\"1\" /><path clip-path=\"url(#clip840)\" d=\"M1448.76 66.1553 Q1451.55 61.1322 1455.44 58.7422 Q1459.33 56.3521 1464.59 56.3521 Q1471.68 56.3521 1475.53 61.3347 Q1479.38 66.2768 1479.38 75.4319 L1479.38 102.816 L1471.89 102.816 L1471.89 75.6749 Q1471.89 69.153 1469.58 65.9933 Q1467.27 62.8336 1462.53 62.8336 Q1456.74 62.8336 1453.37 66.6819 Q1450.01 70.5303 1450.01 77.1738 L1450.01 102.816 L1442.52 102.816 L1442.52 75.6749 Q1442.52 69.1125 1440.21 65.9933 Q1437.9 62.8336 1433.08 62.8336 Q1427.37 62.8336 1424 66.7224 Q1420.64 70.5708 1420.64 77.1738 L1420.64 102.816 L1413.15 102.816 L1413.15 57.4459 L1420.64 57.4459 L1420.64 64.4944 Q1423.19 60.322 1426.76 58.3371 Q1430.32 56.3521 1435.23 56.3521 Q1440.17 56.3521 1443.61 58.8637 Q1447.09 61.3752 1448.76 66.1553 Z\" fill=\"#000000\" fill-rule=\"evenodd\" fill-opacity=\"1\" /><path clip-path=\"url(#clip840)\" d=\"M1514.87 80.0094 Q1505.83 80.0094 1502.35 82.0754 Q1498.86 84.1413 1498.86 89.1239 Q1498.86 93.0938 1501.46 95.4434 Q1504.09 97.7524 1508.59 97.7524 Q1514.78 97.7524 1518.51 93.3774 Q1522.28 88.9619 1522.28 81.6703 L1522.28 80.0094 L1514.87 80.0094 M1529.73 76.9307 L1529.73 102.816 L1522.28 102.816 L1522.28 95.9295 Q1519.73 100.061 1515.92 102.046 Q1512.11 103.991 1506.6 103.991 Q1499.63 103.991 1495.5 100.102 Q1491.41 96.1725 1491.41 89.6101 Q1491.41 81.9538 1496.52 78.065 Q1501.66 74.1761 1511.83 74.1761 L1522.28 74.1761 L1522.28 73.4469 Q1522.28 68.3023 1518.88 65.5072 Q1515.51 62.6715 1509.4 62.6715 Q1505.51 62.6715 1501.82 63.6032 Q1498.14 64.535 1494.73 66.3984 L1494.73 59.5118 Q1498.82 57.932 1502.67 57.1623 Q1506.52 56.3521 1510.17 56.3521 Q1520.01 56.3521 1524.87 61.4563 Q1529.73 66.5604 1529.73 76.9307 Z\" fill=\"#000000\" fill-rule=\"evenodd\" fill-opacity=\"1\" /><path clip-path=\"url(#clip840)\" d=\"M1582.8 75.4319 L1582.8 102.816 L1575.35 102.816 L1575.35 75.6749 Q1575.35 69.234 1572.83 66.0338 Q1570.32 62.8336 1565.3 62.8336 Q1559.26 62.8336 1555.78 66.6819 Q1552.3 70.5303 1552.3 77.1738 L1552.3 102.816 L1544.8 102.816 L1544.8 57.4459 L1552.3 57.4459 L1552.3 64.4944 Q1554.97 60.403 1558.58 58.3776 Q1562.22 56.3521 1566.96 56.3521 Q1574.78 56.3521 1578.79 61.2132 Q1582.8 66.0338 1582.8 75.4319 Z\" fill=\"#000000\" fill-rule=\"evenodd\" fill-opacity=\"1\" /><path clip-path=\"url(#clip840)\" d=\"M1630.32 59.1878 L1630.32 66.1553 Q1627.16 64.4134 1623.96 63.5627 Q1620.8 62.6715 1617.56 62.6715 Q1610.31 62.6715 1606.29 67.2896 Q1602.28 71.8671 1602.28 80.1714 Q1602.28 88.4758 1606.29 93.0938 Q1610.31 97.6714 1617.56 97.6714 Q1620.8 97.6714 1623.96 96.8207 Q1627.16 95.9295 1630.32 94.1876 L1630.32 101.074 Q1627.2 102.532 1623.84 103.262 Q1620.51 103.991 1616.75 103.991 Q1606.5 103.991 1600.46 97.5498 Q1594.43 91.1089 1594.43 80.1714 Q1594.43 69.072 1600.5 62.712 Q1606.62 56.3521 1617.23 56.3521 Q1620.68 56.3521 1623.96 57.0813 Q1627.24 57.7699 1630.32 59.1878 Z\" fill=\"#000000\" fill-rule=\"evenodd\" fill-opacity=\"1\" /><path clip-path=\"url(#clip840)\" d=\"M1682.09 78.2675 L1682.09 81.9133 L1647.82 81.9133 Q1648.3 89.6101 1652.43 93.661 Q1656.61 97.6714 1664.02 97.6714 Q1668.31 97.6714 1672.32 96.6181 Q1676.38 95.5649 1680.35 93.4584 L1680.35 100.507 Q1676.34 102.208 1672.12 103.1 Q1667.91 103.991 1663.57 103.991 Q1652.72 103.991 1646.36 97.6714 Q1640.04 91.3519 1640.04 80.5765 Q1640.04 69.4365 1646.03 62.9146 Q1652.07 56.3521 1662.28 56.3521 Q1671.43 56.3521 1676.74 62.2664 Q1682.09 68.1403 1682.09 78.2675 M1674.63 76.08 Q1674.55 69.9632 1671.19 66.3174 Q1667.87 62.6715 1662.36 62.6715 Q1656.12 62.6715 1652.35 66.1958 Q1648.63 69.7201 1648.06 76.1205 L1674.63 76.08 Z\" fill=\"#000000\" fill-rule=\"evenodd\" fill-opacity=\"1\" /><path clip-path=\"url(#clip840)\" d=\"M951 139.781 L951 186.811 L960.885 186.811 Q973.402 186.811 979.195 181.14 Q985.028 175.469 985.028 163.235 Q985.028 151.083 979.195 145.452 Q973.402 139.781 960.885 139.781 L951 139.781 M942.818 133.056 L959.629 133.056 Q977.21 133.056 985.433 140.388 Q993.656 147.68 993.656 163.235 Q993.656 178.872 985.393 186.204 Q977.129 193.536 959.629 193.536 L942.818 193.536 L942.818 133.056 Z\" fill=\"#000000\" fill-rule=\"evenodd\" fill-opacity=\"1\" /><path clip-path=\"url(#clip840)\" d=\"M1027 170.729 Q1017.96 170.729 1014.48 172.795 Q1010.99 174.861 1010.99 179.844 Q1010.99 183.814 1013.59 186.163 Q1016.22 188.472 1020.72 188.472 Q1026.91 188.472 1030.64 184.097 Q1034.41 179.682 1034.41 172.39 L1034.41 170.729 L1027 170.729 M1041.86 167.651 L1041.86 193.536 L1034.41 193.536 L1034.41 186.649 Q1031.86 190.781 1028.05 192.766 Q1024.24 194.711 1018.73 194.711 Q1011.76 194.711 1007.63 190.822 Q1003.54 186.893 1003.54 180.33 Q1003.54 172.674 1008.64 168.785 Q1013.79 164.896 1023.96 164.896 L1034.41 164.896 L1034.41 164.167 Q1034.41 159.022 1031.01 156.227 Q1027.64 153.392 1021.53 153.392 Q1017.64 153.392 1013.95 154.323 Q1010.27 155.255 1006.86 157.118 L1006.86 150.232 Q1010.95 148.652 1014.8 147.882 Q1018.65 147.072 1022.3 147.072 Q1032.14 147.072 1037 152.176 Q1041.86 157.28 1041.86 167.651 Z\" fill=\"#000000\" fill-rule=\"evenodd\" fill-opacity=\"1\" /><path clip-path=\"url(#clip840)\" d=\"M1064.59 135.284 L1064.59 148.166 L1079.94 148.166 L1079.94 153.959 L1064.59 153.959 L1064.59 178.588 Q1064.59 184.138 1066.09 185.718 Q1067.63 187.298 1072.28 187.298 L1079.94 187.298 L1079.94 193.536 L1072.28 193.536 Q1063.66 193.536 1060.37 190.336 Q1057.09 187.095 1057.09 178.588 L1057.09 153.959 L1051.62 153.959 L1051.62 148.166 L1057.09 148.166 L1057.09 135.284 L1064.59 135.284 Z\" fill=\"#000000\" fill-rule=\"evenodd\" fill-opacity=\"1\" /><path clip-path=\"url(#clip840)\" d=\"M1110.36 170.729 Q1101.33 170.729 1097.85 172.795 Q1094.36 174.861 1094.36 179.844 Q1094.36 183.814 1096.95 186.163 Q1099.59 188.472 1104.08 188.472 Q1110.28 188.472 1114.01 184.097 Q1117.78 179.682 1117.78 172.39 L1117.78 170.729 L1110.36 170.729 M1125.23 167.651 L1125.23 193.536 L1117.78 193.536 L1117.78 186.649 Q1115.22 190.781 1111.42 192.766 Q1107.61 194.711 1102.1 194.711 Q1095.13 194.711 1091 190.822 Q1086.91 186.893 1086.91 180.33 Q1086.91 172.674 1092.01 168.785 Q1097.16 164.896 1107.32 164.896 L1117.78 164.896 L1117.78 164.167 Q1117.78 159.022 1114.37 156.227 Q1111.01 153.392 1104.89 153.392 Q1101.01 153.392 1097.32 154.323 Q1093.63 155.255 1090.23 157.118 L1090.23 150.232 Q1094.32 148.652 1098.17 147.882 Q1102.02 147.072 1105.66 147.072 Q1115.51 147.072 1120.37 152.176 Q1125.23 157.28 1125.23 167.651 Z\" fill=\"#000000\" fill-rule=\"evenodd\" fill-opacity=\"1\" /><path clip-path=\"url(#clip840)\" d=\"M1140.91 133.056 L1175.66 133.056 L1175.66 139.943 L1149.09 139.943 L1149.09 157.767 L1173.07 157.767 L1173.07 164.653 L1149.09 164.653 L1149.09 193.536 L1140.91 193.536 L1140.91 133.056 Z\" fill=\"#000000\" fill-rule=\"evenodd\" fill-opacity=\"1\" /><path clip-path=\"url(#clip840)\" d=\"M1208.56 155.133 Q1207.3 154.404 1205.8 154.08 Q1204.34 153.716 1202.56 153.716 Q1196.24 153.716 1192.84 157.848 Q1189.48 161.939 1189.48 169.636 L1189.48 193.536 L1181.98 193.536 L1181.98 148.166 L1189.48 148.166 L1189.48 155.214 Q1191.83 151.083 1195.59 149.098 Q1199.36 147.072 1204.75 147.072 Q1205.52 147.072 1206.45 147.194 Q1207.38 147.275 1208.52 147.477 L1208.56 155.133 Z\" fill=\"#000000\" fill-rule=\"evenodd\" fill-opacity=\"1\" /><path clip-path=\"url(#clip840)\" d=\"M1236.99 170.729 Q1227.96 170.729 1224.48 172.795 Q1220.99 174.861 1220.99 179.844 Q1220.99 183.814 1223.59 186.163 Q1226.22 188.472 1230.72 188.472 Q1236.91 188.472 1240.64 184.097 Q1244.41 179.682 1244.41 172.39 L1244.41 170.729 L1236.99 170.729 M1251.86 167.651 L1251.86 193.536 L1244.41 193.536 L1244.41 186.649 Q1241.86 190.781 1238.05 192.766 Q1234.24 194.711 1228.73 194.711 Q1221.76 194.711 1217.63 190.822 Q1213.54 186.893 1213.54 180.33 Q1213.54 172.674 1218.64 168.785 Q1223.79 164.896 1233.96 164.896 L1244.41 164.896 L1244.41 164.167 Q1244.41 159.022 1241 156.227 Q1237.64 153.392 1231.53 153.392 Q1227.64 153.392 1223.95 154.323 Q1220.26 155.255 1216.86 157.118 L1216.86 150.232 Q1220.95 148.652 1224.8 147.882 Q1228.65 147.072 1232.3 147.072 Q1242.14 147.072 1247 152.176 Q1251.86 157.28 1251.86 167.651 Z\" fill=\"#000000\" fill-rule=\"evenodd\" fill-opacity=\"1\" /><path clip-path=\"url(#clip840)\" d=\"M1302.54 156.875 Q1305.33 151.852 1309.22 149.462 Q1313.11 147.072 1318.38 147.072 Q1325.47 147.072 1329.31 152.055 Q1333.16 156.997 1333.16 166.152 L1333.16 193.536 L1325.67 193.536 L1325.67 166.395 Q1325.67 159.873 1323.36 156.713 Q1321.05 153.554 1316.31 153.554 Q1310.52 153.554 1307.16 157.402 Q1303.79 161.25 1303.79 167.894 L1303.79 193.536 L1296.3 193.536 L1296.3 166.395 Q1296.3 159.832 1293.99 156.713 Q1291.68 153.554 1286.86 153.554 Q1281.15 153.554 1277.79 157.442 Q1274.42 161.291 1274.42 167.894 L1274.42 193.536 L1266.93 193.536 L1266.93 148.166 L1274.42 148.166 L1274.42 155.214 Q1276.98 151.042 1280.54 149.057 Q1284.11 147.072 1289.01 147.072 Q1293.95 147.072 1297.39 149.584 Q1300.88 152.095 1302.54 156.875 Z\" fill=\"#000000\" fill-rule=\"evenodd\" fill-opacity=\"1\" /><path clip-path=\"url(#clip840)\" d=\"M1386.84 168.988 L1386.84 172.633 L1352.57 172.633 Q1353.05 180.33 1357.18 184.381 Q1361.36 188.391 1368.77 188.391 Q1373.06 188.391 1377.07 187.338 Q1381.13 186.285 1385.1 184.178 L1385.1 191.227 Q1381.08 192.928 1376.87 193.82 Q1372.66 194.711 1368.32 194.711 Q1357.47 194.711 1351.11 188.391 Q1344.79 182.072 1344.79 171.297 Q1344.79 160.157 1350.78 153.635 Q1356.82 147.072 1367.03 147.072 Q1376.18 147.072 1381.49 152.986 Q1386.84 158.86 1386.84 168.988 M1379.38 166.8 Q1379.3 160.683 1375.94 157.037 Q1372.62 153.392 1367.11 153.392 Q1360.87 153.392 1357.1 156.916 Q1353.38 160.44 1352.81 166.841 L1379.38 166.8 Z\" fill=\"#000000\" fill-rule=\"evenodd\" fill-opacity=\"1\" /><path clip-path=\"url(#clip840)\" d=\"M1400.97 183.247 L1409.52 183.247 L1409.52 193.536 L1400.97 193.536 L1400.97 183.247 M1400.97 150.637 L1409.52 150.637 L1409.52 160.926 L1400.97 160.926 L1400.97 150.637 Z\" fill=\"#000000\" fill-rule=\"evenodd\" fill-opacity=\"1\" /><path clip-path=\"url(#clip840)\" d=\"M1485.96 170.891 Q1485.96 162.668 1482.56 158.01 Q1479.2 153.311 1473.28 153.311 Q1467.37 153.311 1463.97 158.01 Q1460.6 162.668 1460.6 170.891 Q1460.6 179.115 1463.97 183.814 Q1467.37 188.472 1473.28 188.472 Q1479.2 188.472 1482.56 183.814 Q1485.96 179.115 1485.96 170.891 M1460.6 155.052 Q1462.95 151.002 1466.52 149.057 Q1470.12 147.072 1475.11 147.072 Q1483.37 147.072 1488.51 153.635 Q1493.7 160.197 1493.7 170.891 Q1493.7 181.586 1488.51 188.148 Q1483.37 194.711 1475.11 194.711 Q1470.12 194.711 1466.52 192.766 Q1462.95 190.781 1460.6 186.73 L1460.6 193.536 L1453.11 193.536 L1453.11 130.504 L1460.6 130.504 L1460.6 155.052 Z\" fill=\"#000000\" fill-rule=\"evenodd\" fill-opacity=\"1\" /><path clip-path=\"url(#clip840)\" d=\"M1506.06 148.166 L1513.51 148.166 L1513.51 193.536 L1506.06 193.536 L1506.06 148.166 M1506.06 130.504 L1513.51 130.504 L1513.51 139.943 L1506.06 139.943 L1506.06 130.504 Z\" fill=\"#000000\" fill-rule=\"evenodd\" fill-opacity=\"1\" /><path clip-path=\"url(#clip840)\" d=\"M1558.96 170.324 Q1558.96 162.223 1555.6 157.767 Q1552.28 153.311 1546.24 153.311 Q1540.24 153.311 1536.88 157.767 Q1533.56 162.223 1533.56 170.324 Q1533.56 178.386 1536.88 182.842 Q1540.24 187.298 1546.24 187.298 Q1552.28 187.298 1555.6 182.842 Q1558.96 178.386 1558.96 170.324 M1566.41 187.905 Q1566.41 199.491 1561.27 205.122 Q1556.12 210.793 1545.51 210.793 Q1541.58 210.793 1538.1 210.185 Q1534.61 209.618 1531.33 208.403 L1531.33 201.152 Q1534.61 202.934 1537.81 203.785 Q1541.01 204.635 1544.34 204.635 Q1551.67 204.635 1555.31 200.787 Q1558.96 196.979 1558.96 189.242 L1558.96 185.556 Q1556.65 189.566 1553.05 191.551 Q1549.44 193.536 1544.42 193.536 Q1536.07 193.536 1530.97 187.176 Q1525.86 180.816 1525.86 170.324 Q1525.86 159.792 1530.97 153.432 Q1536.07 147.072 1544.42 147.072 Q1549.44 147.072 1553.05 149.057 Q1556.65 151.042 1558.96 155.052 L1558.96 148.166 L1566.41 148.166 L1566.41 187.905 Z\" fill=\"#000000\" fill-rule=\"evenodd\" fill-opacity=\"1\" /><path clip-path=\"url(#clip840)\" d=\"M1611.62 155.052 L1611.62 130.504 L1619.08 130.504 L1619.08 193.536 L1611.62 193.536 L1611.62 186.73 Q1609.27 190.781 1605.67 192.766 Q1602.1 194.711 1597.08 194.711 Q1588.86 194.711 1583.67 188.148 Q1578.53 181.586 1578.53 170.891 Q1578.53 160.197 1583.67 153.635 Q1588.86 147.072 1597.08 147.072 Q1602.1 147.072 1605.67 149.057 Q1609.27 151.002 1611.62 155.052 M1586.22 170.891 Q1586.22 179.115 1589.58 183.814 Q1592.99 188.472 1598.9 188.472 Q1604.82 188.472 1608.22 183.814 Q1611.62 179.115 1611.62 170.891 Q1611.62 162.668 1608.22 158.01 Q1604.82 153.311 1598.9 153.311 Q1592.99 153.311 1589.58 158.01 Q1586.22 162.668 1586.22 170.891 Z\" fill=\"#000000\" fill-rule=\"evenodd\" fill-opacity=\"1\" /><path clip-path=\"url(#clip840)\" d=\"M1657.4 130.504 L1657.4 136.702 L1650.27 136.702 Q1646.26 136.702 1644.68 138.322 Q1643.14 139.943 1643.14 144.155 L1643.14 148.166 L1655.41 148.166 L1655.41 153.959 L1643.14 153.959 L1643.14 193.536 L1635.64 193.536 L1635.64 153.959 L1628.51 153.959 L1628.51 148.166 L1635.64 148.166 L1635.64 145.006 Q1635.64 137.431 1639.17 133.988 Q1642.69 130.504 1650.35 130.504 L1657.4 130.504 Z\" fill=\"#000000\" fill-rule=\"evenodd\" fill-opacity=\"1\" /><path clip-path=\"url(#clip840)\" d=\"M936.761 225.761 L936.761 233.741 Q932.103 231.513 927.971 230.419 Q923.839 229.326 919.991 229.326 Q913.307 229.326 909.661 231.918 Q906.056 234.511 906.056 239.291 Q906.056 243.301 908.446 245.367 Q910.876 247.393 917.601 248.649 L922.543 249.661 Q931.698 251.403 936.032 255.819 Q940.407 260.194 940.407 267.566 Q940.407 276.357 934.493 280.894 Q928.619 285.431 917.236 285.431 Q912.942 285.431 908.081 284.459 Q903.26 283.486 898.075 281.582 L898.075 273.157 Q903.058 275.952 907.838 277.369 Q912.618 278.787 917.236 278.787 Q924.244 278.787 928.052 276.033 Q931.86 273.278 931.86 268.174 Q931.86 263.718 929.105 261.206 Q926.391 258.695 920.153 257.439 L915.17 256.467 Q906.015 254.644 901.924 250.755 Q897.832 246.866 897.832 239.939 Q897.832 231.918 903.463 227.3 Q909.134 222.682 919.059 222.682 Q923.312 222.682 927.728 223.452 Q932.143 224.222 936.761 225.761 Z\" fill=\"#000000\" fill-rule=\"evenodd\" fill-opacity=\"1\" /><path clip-path=\"url(#clip840)\" d=\"M952.844 238.886 L960.297 238.886 L960.297 284.256 L952.844 284.256 L952.844 238.886 M952.844 221.224 L960.297 221.224 L960.297 230.663 L952.844 230.663 L952.844 221.224 Z\" fill=\"#000000\" fill-rule=\"evenodd\" fill-opacity=\"1\" /><path clip-path=\"url(#clip840)\" d=\"M972.652 238.886 L1008.06 238.886 L1008.06 245.691 L980.025 278.301 L1008.06 278.301 L1008.06 284.256 L971.64 284.256 L971.64 277.45 L999.672 244.841 L972.652 244.841 L972.652 238.886 Z\" fill=\"#000000\" fill-rule=\"evenodd\" fill-opacity=\"1\" /><path clip-path=\"url(#clip840)\" d=\"M1058.25 259.708 L1058.25 263.353 L1023.98 263.353 Q1024.46 271.05 1028.6 275.101 Q1032.77 279.111 1040.18 279.111 Q1044.47 279.111 1048.49 278.058 Q1052.54 277.005 1056.51 274.898 L1056.51 281.947 Q1052.5 283.648 1048.28 284.54 Q1044.07 285.431 1039.74 285.431 Q1028.88 285.431 1022.52 279.111 Q1016.2 272.792 1016.2 262.017 Q1016.2 250.877 1022.2 244.355 Q1028.23 237.792 1038.44 237.792 Q1047.59 237.792 1052.9 243.706 Q1058.25 249.58 1058.25 259.708 M1050.79 257.52 Q1050.71 251.403 1047.35 247.757 Q1044.03 244.112 1038.52 244.112 Q1032.28 244.112 1028.51 247.636 Q1024.79 251.16 1024.22 257.561 L1050.79 257.52 Z\" fill=\"#000000\" fill-rule=\"evenodd\" fill-opacity=\"1\" /><path clip-path=\"url(#clip840)\" d=\"M1072.39 273.967 L1080.93 273.967 L1080.93 284.256 L1072.39 284.256 L1072.39 273.967 M1072.39 241.357 L1080.93 241.357 L1080.93 251.646 L1072.39 251.646 L1072.39 241.357 Z\" fill=\"#000000\" fill-rule=\"evenodd\" fill-opacity=\"1\" /><path clip-path=\"url(#clip840)\" d=\"M1142.71 221.305 Q1137.28 230.622 1134.65 239.737 Q1132.02 248.851 1132.02 258.209 Q1132.02 267.566 1134.65 276.762 Q1137.32 285.917 1142.71 295.193 L1136.23 295.193 Q1130.15 285.674 1127.11 276.478 Q1124.12 267.283 1124.12 258.209 Q1124.12 249.175 1127.11 240.02 Q1130.11 230.865 1136.23 221.305 L1142.71 221.305 Z\" fill=\"#000000\" fill-rule=\"evenodd\" fill-opacity=\"1\" /><path clip-path=\"url(#clip840)\" d=\"M1159.64 277.369 L1173.01 277.369 L1173.01 231.23 L1158.47 234.146 L1158.47 226.693 L1172.93 223.776 L1181.11 223.776 L1181.11 277.369 L1194.48 277.369 L1194.48 284.256 L1159.64 284.256 L1159.64 277.369 Z\" fill=\"#000000\" fill-rule=\"evenodd\" fill-opacity=\"1\" /><path clip-path=\"url(#clip840)\" d=\"M1228.51 229.164 Q1222.19 229.164 1218.99 235.402 Q1215.83 241.6 1215.83 254.077 Q1215.83 266.513 1218.99 272.751 Q1222.19 278.949 1228.51 278.949 Q1234.87 278.949 1238.03 272.751 Q1241.23 266.513 1241.23 254.077 Q1241.23 241.6 1238.03 235.402 Q1234.87 229.164 1228.51 229.164 M1228.51 222.682 Q1238.68 222.682 1244.02 230.744 Q1249.41 238.764 1249.41 254.077 Q1249.41 269.349 1244.02 277.41 Q1238.68 285.431 1228.51 285.431 Q1218.34 285.431 1212.95 277.41 Q1207.6 269.349 1207.6 254.077 Q1207.6 238.764 1212.95 230.744 Q1218.34 222.682 1228.51 222.682 Z\" fill=\"#000000\" fill-rule=\"evenodd\" fill-opacity=\"1\" /><path clip-path=\"url(#clip840)\" d=\"M1281.29 229.164 Q1274.97 229.164 1271.77 235.402 Q1268.61 241.6 1268.61 254.077 Q1268.61 266.513 1271.77 272.751 Q1274.97 278.949 1281.29 278.949 Q1287.65 278.949 1290.81 272.751 Q1294.01 266.513 1294.01 254.077 Q1294.01 241.6 1290.81 235.402 Q1287.65 229.164 1281.29 229.164 M1281.29 222.682 Q1291.46 222.682 1296.81 230.744 Q1302.19 238.764 1302.19 254.077 Q1302.19 269.349 1296.81 277.41 Q1291.46 285.431 1281.29 285.431 Q1271.12 285.431 1265.74 277.41 Q1260.39 269.349 1260.39 254.077 Q1260.39 238.764 1265.74 230.744 Q1271.12 222.682 1281.29 222.682 Z\" fill=\"#000000\" fill-rule=\"evenodd\" fill-opacity=\"1\" /><path clip-path=\"url(#clip840)\" d=\"M1334.07 229.164 Q1327.75 229.164 1324.55 235.402 Q1321.39 241.6 1321.39 254.077 Q1321.39 266.513 1324.55 272.751 Q1327.75 278.949 1334.07 278.949 Q1340.43 278.949 1343.59 272.751 Q1346.79 266.513 1346.79 254.077 Q1346.79 241.6 1343.59 235.402 Q1340.43 229.164 1334.07 229.164 M1334.07 222.682 Q1344.24 222.682 1349.59 230.744 Q1354.98 238.764 1354.98 254.077 Q1354.98 269.349 1349.59 277.41 Q1344.24 285.431 1334.07 285.431 Q1323.91 285.431 1318.52 277.41 Q1313.17 269.349 1313.17 254.077 Q1313.17 238.764 1318.52 230.744 Q1323.91 222.682 1334.07 222.682 Z\" fill=\"#000000\" fill-rule=\"evenodd\" fill-opacity=\"1\" /><path clip-path=\"url(#clip840)\" d=\"M1386.86 229.164 Q1380.54 229.164 1377.34 235.402 Q1374.18 241.6 1374.18 254.077 Q1374.18 266.513 1377.34 272.751 Q1380.54 278.949 1386.86 278.949 Q1393.22 278.949 1396.38 272.751 Q1399.58 266.513 1399.58 254.077 Q1399.58 241.6 1396.38 235.402 Q1393.22 229.164 1386.86 229.164 M1386.86 222.682 Q1397.03 222.682 1402.37 230.744 Q1407.76 238.764 1407.76 254.077 Q1407.76 269.349 1402.37 277.41 Q1397.03 285.431 1386.86 285.431 Q1376.69 285.431 1371.3 277.41 Q1365.95 269.349 1365.95 254.077 Q1365.95 238.764 1371.3 230.744 Q1376.69 222.682 1386.86 222.682 Z\" fill=\"#000000\" fill-rule=\"evenodd\" fill-opacity=\"1\" /><path clip-path=\"url(#clip840)\" d=\"M1422.99 273.967 L1431.54 273.967 L1431.54 280.934 L1424.9 293.897 L1419.67 293.897 L1422.99 280.934 L1422.99 273.967 Z\" fill=\"#000000\" fill-rule=\"evenodd\" fill-opacity=\"1\" /><path clip-path=\"url(#clip840)\" d=\"M1476.3 277.369 L1489.67 277.369 L1489.67 231.23 L1475.13 234.146 L1475.13 226.693 L1489.59 223.776 L1497.77 223.776 L1497.77 277.369 L1511.14 277.369 L1511.14 284.256 L1476.3 284.256 L1476.3 277.369 Z\" fill=\"#000000\" fill-rule=\"evenodd\" fill-opacity=\"1\" /><path clip-path=\"url(#clip840)\" d=\"M1545.17 229.164 Q1538.85 229.164 1535.65 235.402 Q1532.49 241.6 1532.49 254.077 Q1532.49 266.513 1535.65 272.751 Q1538.85 278.949 1545.17 278.949 Q1551.53 278.949 1554.69 272.751 Q1557.89 266.513 1557.89 254.077 Q1557.89 241.6 1554.69 235.402 Q1551.53 229.164 1545.17 229.164 M1545.17 222.682 Q1555.33 222.682 1560.68 230.744 Q1566.07 238.764 1566.07 254.077 Q1566.07 269.349 1560.68 277.41 Q1555.33 285.431 1545.17 285.431 Q1535 285.431 1529.61 277.41 Q1524.26 269.349 1524.26 254.077 Q1524.26 238.764 1529.61 230.744 Q1535 222.682 1545.17 222.682 Z\" fill=\"#000000\" fill-rule=\"evenodd\" fill-opacity=\"1\" /><path clip-path=\"url(#clip840)\" d=\"M1597.95 229.164 Q1591.63 229.164 1588.43 235.402 Q1585.27 241.6 1585.27 254.077 Q1585.27 266.513 1588.43 272.751 Q1591.63 278.949 1597.95 278.949 Q1604.31 278.949 1607.47 272.751 Q1610.67 266.513 1610.67 254.077 Q1610.67 241.6 1607.47 235.402 Q1604.31 229.164 1597.95 229.164 M1597.95 222.682 Q1608.12 222.682 1613.47 230.744 Q1618.85 238.764 1618.85 254.077 Q1618.85 269.349 1613.47 277.41 Q1608.12 285.431 1597.95 285.431 Q1587.78 285.431 1582.39 277.41 Q1577.05 269.349 1577.05 254.077 Q1577.05 238.764 1582.39 230.744 Q1587.78 222.682 1597.95 222.682 Z\" fill=\"#000000\" fill-rule=\"evenodd\" fill-opacity=\"1\" /><path clip-path=\"url(#clip840)\" d=\"M1650.73 229.164 Q1644.41 229.164 1641.21 235.402 Q1638.05 241.6 1638.05 254.077 Q1638.05 266.513 1641.21 272.751 Q1644.41 278.949 1650.73 278.949 Q1657.09 278.949 1660.25 272.751 Q1663.45 266.513 1663.45 254.077 Q1663.45 241.6 1660.25 235.402 Q1657.09 229.164 1650.73 229.164 M1650.73 222.682 Q1660.9 222.682 1666.25 230.744 Q1671.64 238.764 1671.64 254.077 Q1671.64 269.349 1666.25 277.41 Q1660.9 285.431 1650.73 285.431 Q1640.57 285.431 1635.18 277.41 Q1629.83 269.349 1629.83 254.077 Q1629.83 238.764 1635.18 230.744 Q1640.57 222.682 1650.73 222.682 Z\" fill=\"#000000\" fill-rule=\"evenodd\" fill-opacity=\"1\" /><path clip-path=\"url(#clip840)\" d=\"M1683.79 221.305 L1690.27 221.305 Q1696.35 230.865 1699.34 240.02 Q1702.38 249.175 1702.38 258.209 Q1702.38 267.283 1699.34 276.478 Q1696.35 285.674 1690.27 295.193 L1683.79 295.193 Q1689.18 285.917 1691.81 276.762 Q1694.48 267.566 1694.48 258.209 Q1694.48 248.851 1691.81 239.737 Q1689.18 230.622 1683.79 221.305 Z\" fill=\"#000000\" fill-rule=\"evenodd\" fill-opacity=\"1\" /><path clip-path=\"url(#clip842)\" d=\"\n",
       "M359.582 1158.19 L359.582 1417.71 L489.31 1417.71 L489.31 1158.19 L359.582 1158.19 L359.582 1158.19  Z\n",
       "  \" fill=\"#009af9\" fill-rule=\"evenodd\" fill-opacity=\"1\"/>\n",
       "<polyline clip-path=\"url(#clip842)\" style=\"stroke:#000000; stroke-linecap:butt; stroke-linejoin:round; stroke-width:4; stroke-opacity:1; fill:none\" points=\"\n",
       "  359.582,1158.19 359.582,1417.71 489.31,1417.71 489.31,1158.19 359.582,1158.19 \n",
       "  \"/>\n",
       "<path clip-path=\"url(#clip842)\" d=\"\n",
       "M683.901 278.605 L683.901 1417.71 L813.629 1417.71 L813.629 278.605 L683.901 278.605 L683.901 278.605  Z\n",
       "  \" fill=\"#009af9\" fill-rule=\"evenodd\" fill-opacity=\"1\"/>\n",
       "<polyline clip-path=\"url(#clip842)\" style=\"stroke:#000000; stroke-linecap:butt; stroke-linejoin:round; stroke-width:4; stroke-opacity:1; fill:none\" points=\"\n",
       "  683.901,278.605 683.901,1417.71 813.629,1417.71 813.629,278.605 683.901,278.605 \n",
       "  \"/>\n",
       "<path clip-path=\"url(#clip842)\" d=\"\n",
       "M1008.22 1401.05 L1008.22 1417.71 L1137.95 1417.71 L1137.95 1401.05 L1008.22 1401.05 L1008.22 1401.05  Z\n",
       "  \" fill=\"#009af9\" fill-rule=\"evenodd\" fill-opacity=\"1\"/>\n",
       "<polyline clip-path=\"url(#clip842)\" style=\"stroke:#000000; stroke-linecap:butt; stroke-linejoin:round; stroke-width:4; stroke-opacity:1; fill:none\" points=\"\n",
       "  1008.22,1401.05 1008.22,1417.71 1137.95,1417.71 1137.95,1401.05 1008.22,1401.05 \n",
       "  \"/>\n",
       "<path clip-path=\"url(#clip842)\" d=\"\n",
       "M1332.54 1303.69 L1332.54 1417.71 L1462.27 1417.71 L1462.27 1303.69 L1332.54 1303.69 L1332.54 1303.69  Z\n",
       "  \" fill=\"#009af9\" fill-rule=\"evenodd\" fill-opacity=\"1\"/>\n",
       "<polyline clip-path=\"url(#clip842)\" style=\"stroke:#000000; stroke-linecap:butt; stroke-linejoin:round; stroke-width:4; stroke-opacity:1; fill:none\" points=\"\n",
       "  1332.54,1303.69 1332.54,1417.71 1462.27,1417.71 1462.27,1303.69 1332.54,1303.69 \n",
       "  \"/>\n",
       "<path clip-path=\"url(#clip842)\" d=\"\n",
       "M1656.86 1361.43 L1656.86 1417.71 L1786.59 1417.71 L1786.59 1361.43 L1656.86 1361.43 L1656.86 1361.43  Z\n",
       "  \" fill=\"#009af9\" fill-rule=\"evenodd\" fill-opacity=\"1\"/>\n",
       "<polyline clip-path=\"url(#clip842)\" style=\"stroke:#000000; stroke-linecap:butt; stroke-linejoin:round; stroke-width:4; stroke-opacity:1; fill:none\" points=\"\n",
       "  1656.86,1361.43 1656.86,1417.71 1786.59,1417.71 1786.59,1361.43 1656.86,1361.43 \n",
       "  \"/>\n",
       "<path clip-path=\"url(#clip842)\" d=\"\n",
       "M1981.18 1380.51 L1981.18 1417.71 L2110.9 1417.71 L2110.9 1380.51 L1981.18 1380.51 L1981.18 1380.51  Z\n",
       "  \" fill=\"#009af9\" fill-rule=\"evenodd\" fill-opacity=\"1\"/>\n",
       "<polyline clip-path=\"url(#clip842)\" style=\"stroke:#000000; stroke-linecap:butt; stroke-linejoin:round; stroke-width:4; stroke-opacity:1; fill:none\" points=\"\n",
       "  1981.18,1380.51 1981.18,1417.71 2110.9,1417.71 2110.9,1380.51 1981.18,1380.51 \n",
       "  \"/>\n",
       "<circle clip-path=\"url(#clip842)\" style=\"fill:#009af9; stroke:none; fill-opacity:0\" cx=\"424.446\" cy=\"1158.19\" r=\"2\"/>\n",
       "<circle clip-path=\"url(#clip842)\" style=\"fill:#009af9; stroke:none; fill-opacity:0\" cx=\"748.765\" cy=\"278.605\" r=\"2\"/>\n",
       "<circle clip-path=\"url(#clip842)\" style=\"fill:#009af9; stroke:none; fill-opacity:0\" cx=\"1073.08\" cy=\"1401.05\" r=\"2\"/>\n",
       "<circle clip-path=\"url(#clip842)\" style=\"fill:#009af9; stroke:none; fill-opacity:0\" cx=\"1397.4\" cy=\"1303.69\" r=\"2\"/>\n",
       "<circle clip-path=\"url(#clip842)\" style=\"fill:#009af9; stroke:none; fill-opacity:0\" cx=\"1721.72\" cy=\"1361.43\" r=\"2\"/>\n",
       "<circle clip-path=\"url(#clip842)\" style=\"fill:#009af9; stroke:none; fill-opacity:0\" cx=\"2046.04\" cy=\"1380.51\" r=\"2\"/>\n",
       "<path clip-path=\"url(#clip842)\" d=\"\n",
       "M489.31 1408.69 L489.31 1417.71 L619.037 1417.71 L619.037 1408.69 L489.31 1408.69 L489.31 1408.69  Z\n",
       "  \" fill=\"#e26f46\" fill-rule=\"evenodd\" fill-opacity=\"1\"/>\n",
       "<polyline clip-path=\"url(#clip842)\" style=\"stroke:#000000; stroke-linecap:butt; stroke-linejoin:round; stroke-width:4; stroke-opacity:1; fill:none\" points=\"\n",
       "  489.31,1408.69 489.31,1417.71 619.037,1417.71 619.037,1408.69 489.31,1408.69 \n",
       "  \"/>\n",
       "<path clip-path=\"url(#clip842)\" d=\"\n",
       "M813.629 911.824 L813.629 1417.71 L943.356 1417.71 L943.356 911.824 L813.629 911.824 L813.629 911.824  Z\n",
       "  \" fill=\"#e26f46\" fill-rule=\"evenodd\" fill-opacity=\"1\"/>\n",
       "<polyline clip-path=\"url(#clip842)\" style=\"stroke:#000000; stroke-linecap:butt; stroke-linejoin:round; stroke-width:4; stroke-opacity:1; fill:none\" points=\"\n",
       "  813.629,911.824 813.629,1417.71 943.356,1417.71 943.356,911.824 813.629,911.824 \n",
       "  \"/>\n",
       "<path clip-path=\"url(#clip842)\" d=\"\n",
       "M1137.95 1406.88 L1137.95 1417.71 L1267.68 1417.71 L1267.68 1406.88 L1137.95 1406.88 L1137.95 1406.88  Z\n",
       "  \" fill=\"#e26f46\" fill-rule=\"evenodd\" fill-opacity=\"1\"/>\n",
       "<polyline clip-path=\"url(#clip842)\" style=\"stroke:#000000; stroke-linecap:butt; stroke-linejoin:round; stroke-width:4; stroke-opacity:1; fill:none\" points=\"\n",
       "  1137.95,1406.88 1137.95,1417.71 1267.68,1417.71 1267.68,1406.88 1137.95,1406.88 \n",
       "  \"/>\n",
       "<path clip-path=\"url(#clip842)\" d=\"\n",
       "M1462.27 1312.59 L1462.27 1417.71 L1591.99 1417.71 L1591.99 1312.59 L1462.27 1312.59 L1462.27 1312.59  Z\n",
       "  \" fill=\"#e26f46\" fill-rule=\"evenodd\" fill-opacity=\"1\"/>\n",
       "<polyline clip-path=\"url(#clip842)\" style=\"stroke:#000000; stroke-linecap:butt; stroke-linejoin:round; stroke-width:4; stroke-opacity:1; fill:none\" points=\"\n",
       "  1462.27,1312.59 1462.27,1417.71 1591.99,1417.71 1591.99,1312.59 1462.27,1312.59 \n",
       "  \"/>\n",
       "<path clip-path=\"url(#clip842)\" d=\"\n",
       "M1786.59 1361.43 L1786.59 1417.71 L1916.31 1417.71 L1916.31 1361.43 L1786.59 1361.43 L1786.59 1361.43  Z\n",
       "  \" fill=\"#e26f46\" fill-rule=\"evenodd\" fill-opacity=\"1\"/>\n",
       "<polyline clip-path=\"url(#clip842)\" style=\"stroke:#000000; stroke-linecap:butt; stroke-linejoin:round; stroke-width:4; stroke-opacity:1; fill:none\" points=\"\n",
       "  1786.59,1361.43 1786.59,1417.71 1916.31,1417.71 1916.31,1361.43 1786.59,1361.43 \n",
       "  \"/>\n",
       "<path clip-path=\"url(#clip842)\" d=\"\n",
       "M2110.9 1380.51 L2110.9 1417.71 L2240.63 1417.71 L2240.63 1380.51 L2110.9 1380.51 L2110.9 1380.51  Z\n",
       "  \" fill=\"#e26f46\" fill-rule=\"evenodd\" fill-opacity=\"1\"/>\n",
       "<polyline clip-path=\"url(#clip842)\" style=\"stroke:#000000; stroke-linecap:butt; stroke-linejoin:round; stroke-width:4; stroke-opacity:1; fill:none\" points=\"\n",
       "  2110.9,1380.51 2110.9,1417.71 2240.63,1417.71 2240.63,1380.51 2110.9,1380.51 \n",
       "  \"/>\n",
       "<circle clip-path=\"url(#clip842)\" style=\"fill:#e26f46; stroke:none; fill-opacity:0\" cx=\"554.174\" cy=\"1408.69\" r=\"2\"/>\n",
       "<circle clip-path=\"url(#clip842)\" style=\"fill:#e26f46; stroke:none; fill-opacity:0\" cx=\"878.493\" cy=\"911.824\" r=\"2\"/>\n",
       "<circle clip-path=\"url(#clip842)\" style=\"fill:#e26f46; stroke:none; fill-opacity:0\" cx=\"1202.81\" cy=\"1406.88\" r=\"2\"/>\n",
       "<circle clip-path=\"url(#clip842)\" style=\"fill:#e26f46; stroke:none; fill-opacity:0\" cx=\"1527.13\" cy=\"1312.59\" r=\"2\"/>\n",
       "<circle clip-path=\"url(#clip842)\" style=\"fill:#e26f46; stroke:none; fill-opacity:0\" cx=\"1851.45\" cy=\"1361.43\" r=\"2\"/>\n",
       "<circle clip-path=\"url(#clip842)\" style=\"fill:#e26f46; stroke:none; fill-opacity:0\" cx=\"2175.77\" cy=\"1380.51\" r=\"2\"/>\n",
       "<path clip-path=\"url(#clip840)\" d=\"\n",
       "M1966.13 440.201 L2282.58 440.201 L2282.58 284.681 L1966.13 284.681  Z\n",
       "  \" fill=\"#ffffff\" fill-rule=\"evenodd\" fill-opacity=\"1\"/>\n",
       "<polyline clip-path=\"url(#clip840)\" style=\"stroke:#000000; stroke-linecap:butt; stroke-linejoin:round; stroke-width:4; stroke-opacity:1; fill:none\" points=\"\n",
       "  1966.13,440.201 2282.58,440.201 2282.58,284.681 1966.13,284.681 1966.13,440.201 \n",
       "  \"/>\n",
       "<path clip-path=\"url(#clip840)\" d=\"\n",
       "M1989.53 357.257 L2129.88 357.257 L2129.88 315.785 L1989.53 315.785 L1989.53 357.257  Z\n",
       "  \" fill=\"#009af9\" fill-rule=\"evenodd\" fill-opacity=\"1\"/>\n",
       "<polyline clip-path=\"url(#clip840)\" style=\"stroke:#000000; stroke-linecap:butt; stroke-linejoin:round; stroke-width:4; stroke-opacity:1; fill:none\" points=\"\n",
       "  1989.53,357.257 2129.88,357.257 2129.88,315.785 1989.53,315.785 1989.53,357.257 \n",
       "  \"/>\n",
       "<path clip-path=\"url(#clip840)\" d=\"M2153.94 349.865 L2161.58 349.865 L2161.58 323.5 L2153.27 325.167 L2153.27 320.907 L2161.54 319.241 L2166.21 319.241 L2166.21 349.865 L2173.85 349.865 L2173.85 353.801 L2153.94 353.801 L2153.94 349.865 Z\" fill=\"#000000\" fill-rule=\"evenodd\" fill-opacity=\"1\" /><path clip-path=\"url(#clip840)\" d=\"M2199.22 328.639 L2199.22 332.667 Q2197.42 331.741 2195.47 331.278 Q2193.53 330.815 2191.44 330.815 Q2188.27 330.815 2186.67 331.787 Q2185.1 332.759 2185.1 334.704 Q2185.1 336.185 2186.24 337.041 Q2187.37 337.875 2190.8 338.639 L2192.25 338.963 Q2196.79 339.935 2198.69 341.717 Q2200.61 343.477 2200.61 346.648 Q2200.61 350.259 2197.74 352.365 Q2194.89 354.472 2189.89 354.472 Q2187.81 354.472 2185.54 354.055 Q2183.3 353.662 2180.8 352.852 L2180.8 348.453 Q2183.16 349.68 2185.45 350.305 Q2187.74 350.907 2189.99 350.907 Q2192.99 350.907 2194.61 349.889 Q2196.23 348.847 2196.23 346.972 Q2196.23 345.236 2195.05 344.31 Q2193.9 343.384 2189.94 342.528 L2188.46 342.18 Q2184.5 341.347 2182.74 339.634 Q2180.98 337.898 2180.98 334.889 Q2180.98 331.231 2183.57 329.241 Q2186.17 327.25 2190.93 327.25 Q2193.3 327.25 2195.38 327.597 Q2197.46 327.944 2199.22 328.639 Z\" fill=\"#000000\" fill-rule=\"evenodd\" fill-opacity=\"1\" /><path clip-path=\"url(#clip840)\" d=\"M2211.61 320.514 L2211.61 327.875 L2220.38 327.875 L2220.38 331.185 L2211.61 331.185 L2211.61 345.259 Q2211.61 348.43 2212.46 349.333 Q2213.34 350.236 2216 350.236 L2220.38 350.236 L2220.38 353.801 L2216 353.801 Q2211.07 353.801 2209.2 351.972 Q2207.32 350.12 2207.32 345.259 L2207.32 331.185 L2204.2 331.185 L2204.2 327.875 L2207.32 327.875 L2207.32 320.514 L2211.61 320.514 Z\" fill=\"#000000\" fill-rule=\"evenodd\" fill-opacity=\"1\" /><path clip-path=\"url(#clip840)\" d=\"\n",
       "M1989.53 409.097 L2129.88 409.097 L2129.88 367.625 L1989.53 367.625 L1989.53 409.097  Z\n",
       "  \" fill=\"#e26f46\" fill-rule=\"evenodd\" fill-opacity=\"1\"/>\n",
       "<polyline clip-path=\"url(#clip840)\" style=\"stroke:#000000; stroke-linecap:butt; stroke-linejoin:round; stroke-width:4; stroke-opacity:1; fill:none\" points=\"\n",
       "  1989.53,409.097 2129.88,409.097 2129.88,367.625 1989.53,367.625 1989.53,409.097 \n",
       "  \"/>\n",
       "<path clip-path=\"url(#clip840)\" d=\"M2158.9 401.705 L2175.22 401.705 L2175.22 405.641 L2153.27 405.641 L2153.27 401.705 Q2155.93 398.951 2160.52 394.321 Q2165.12 389.669 2166.3 388.326 Q2168.55 385.803 2169.43 384.067 Q2170.33 382.307 2170.33 380.618 Q2170.33 377.863 2168.39 376.127 Q2166.47 374.391 2163.36 374.391 Q2161.17 374.391 2158.71 375.155 Q2156.28 375.919 2153.5 377.47 L2153.5 372.747 Q2156.33 371.613 2158.78 371.034 Q2161.24 370.456 2163.27 370.456 Q2168.64 370.456 2171.84 373.141 Q2175.03 375.826 2175.03 380.317 Q2175.03 382.446 2174.22 384.368 Q2173.43 386.266 2171.33 388.858 Q2170.75 389.53 2167.65 392.747 Q2164.55 395.942 2158.9 401.705 Z\" fill=\"#000000\" fill-rule=\"evenodd\" fill-opacity=\"1\" /><path clip-path=\"url(#clip840)\" d=\"M2205.98 389.993 L2205.98 405.641 L2201.72 405.641 L2201.72 390.131 Q2201.72 386.451 2200.29 384.622 Q2198.85 382.794 2195.98 382.794 Q2192.53 382.794 2190.54 384.993 Q2188.55 387.192 2188.55 390.988 L2188.55 405.641 L2184.27 405.641 L2184.27 379.715 L2188.55 379.715 L2188.55 383.743 Q2190.08 381.405 2192.14 380.247 Q2194.22 379.09 2196.93 379.09 Q2201.4 379.09 2203.69 381.868 Q2205.98 384.622 2205.98 389.993 Z\" fill=\"#000000\" fill-rule=\"evenodd\" fill-opacity=\"1\" /><path clip-path=\"url(#clip840)\" d=\"M2231.54 383.65 L2231.54 369.622 L2235.79 369.622 L2235.79 405.641 L2231.54 405.641 L2231.54 401.752 Q2230.19 404.067 2228.13 405.201 Q2226.1 406.312 2223.23 406.312 Q2218.53 406.312 2215.56 402.562 Q2212.62 398.812 2212.62 392.701 Q2212.62 386.59 2215.56 382.84 Q2218.53 379.09 2223.23 379.09 Q2226.1 379.09 2228.13 380.224 Q2230.19 381.335 2231.54 383.65 M2217.02 392.701 Q2217.02 397.4 2218.94 400.085 Q2220.89 402.747 2224.27 402.747 Q2227.65 402.747 2229.59 400.085 Q2231.54 397.4 2231.54 392.701 Q2231.54 388.002 2229.59 385.34 Q2227.65 382.655 2224.27 382.655 Q2220.89 382.655 2218.94 385.34 Q2217.02 388.002 2217.02 392.701 Z\" fill=\"#000000\" fill-rule=\"evenodd\" fill-opacity=\"1\" /></svg>\n"
      ]
     },
     "execution_count": 38,
     "metadata": {},
     "output_type": "execute_result"
    }
   ],
   "source": [
    "groupedbar(\n",
    "    # Exclude JSONTables.jl arraytable due to timing\n",
    "    repeat([\"CSV.jl\", \"Serialization\", \"JDF.jl\", \"JLSO.jl\", \"Arrow.jl\", \"JSONTables.jl\\nobjecttable\"],\n",
    "            inner = 2),\n",
    "    [csvwrite1, csvwrite2, serializewrite1, serializewrite1, jdfwrite1, jdfwrite2,\n",
    "     jlsowrite1, jlsowrite2, arrowwrite1, arrowwrite2, jsontablesowrite2, jsontablesowrite2],\n",
    "    group = repeat([\"1st\", \"2nd\"], outer = 6),\n",
    "    ylab = \"Second\",\n",
    "    title = \"Write Performance\\nDataFrame: bigdf\\nSize: $(size(bigdf))\"\n",
    ")"
   ]
  },
  {
   "cell_type": "code",
   "execution_count": 39,
   "metadata": {
    "execution": {
     "iopub.execute_input": "2022-07-18T00:56:02.343000Z",
     "iopub.status.busy": "2022-07-18T00:56:02.342000Z",
     "iopub.status.idle": "2022-07-18T00:56:03.903000Z",
     "shell.execute_reply": "2022-07-18T00:56:03.903000Z"
    }
   },
   "outputs": [
    {
     "data": {
      "text/html": [
       "<div class=\"data-frame\"><p>6 rows × 2 columns</p><table class=\"data-frame\"><thead><tr><th></th><th>file</th><th>size</th></tr><tr><th></th><th title=\"String\">String</th><th title=\"Int64\">Int64</th></tr></thead><tbody><tr><th>1</th><td>bigdf.arrow</td><td>1742834</td></tr><tr><th>2</th><td>bigdf.bin</td><td>5200698</td></tr><tr><th>3</th><td>bigdf.jdf</td><td>5219979</td></tr><tr><th>4</th><td>bigdf1.csv</td><td>55084591</td></tr><tr><th>5</th><td>bigdf2.json</td><td>55088592</td></tr><tr><th>6</th><td>bigdf1.json</td><td>124029699</td></tr></tbody></table></div>"
      ],
      "text/latex": [
       "\\begin{tabular}{r|cc}\n",
       "\t& file & size\\\\\n",
       "\t\\hline\n",
       "\t& String & Int64\\\\\n",
       "\t\\hline\n",
       "\t1 & bigdf.arrow & 1742834 \\\\\n",
       "\t2 & bigdf.bin & 5200698 \\\\\n",
       "\t3 & bigdf.jdf & 5219979 \\\\\n",
       "\t4 & bigdf1.csv & 55084591 \\\\\n",
       "\t5 & bigdf2.json & 55088592 \\\\\n",
       "\t6 & bigdf1.json & 124029699 \\\\\n",
       "\\end{tabular}\n"
      ],
      "text/plain": [
       "\u001b[1m6×2 DataFrame\u001b[0m\n",
       "\u001b[1m Row \u001b[0m│\u001b[1m file        \u001b[0m\u001b[1m size      \u001b[0m\n",
       "\u001b[1m     \u001b[0m│\u001b[90m String      \u001b[0m\u001b[90m Int64     \u001b[0m\n",
       "─────┼────────────────────────\n",
       "   1 │ bigdf.arrow    1742834\n",
       "   2 │ bigdf.bin      5200698\n",
       "   3 │ bigdf.jdf      5219979\n",
       "   4 │ bigdf1.csv    55084591\n",
       "   5 │ bigdf2.json   55088592\n",
       "   6 │ bigdf1.json  124029699"
      ]
     },
     "execution_count": 39,
     "metadata": {},
     "output_type": "execute_result"
    }
   ],
   "source": [
    "data_files = [\"bigdf1.csv\", \"bigdf.bin\", \"bigdf.arrow\", \"bigdf1.json\", \"bigdf2.json\"]\n",
    "df = DataFrame(file = data_files, size = getfield.(stat.(data_files), :size))\n",
    "append!(df, DataFrame(file = \"bigdf.jdf\", size=reduce((x,y)->x+y.size,\n",
    "                                                      stat.(joinpath.(\"bigdf.jdf\", readdir(\"bigdf.jdf\"))),\n",
    "                                                      init=0)))\n",
    "sort!(df, :size)"
   ]
  },
  {
   "cell_type": "code",
   "execution_count": 40,
   "metadata": {
    "execution": {
     "iopub.execute_input": "2022-07-18T00:56:03.907000Z",
     "iopub.status.busy": "2022-07-18T00:56:03.906000Z",
     "iopub.status.idle": "2022-07-18T00:56:06.751000Z",
     "shell.execute_reply": "2022-07-18T00:56:06.751000Z"
    }
   },
   "outputs": [
    {
     "data": {
      "image/svg+xml": [
       "<?xml version=\"1.0\" encoding=\"utf-8\"?>\n",
       "<svg xmlns=\"http://www.w3.org/2000/svg\" xmlns:xlink=\"http://www.w3.org/1999/xlink\" width=\"600\" height=\"400\" viewBox=\"0 0 2400 1600\">\n",
       "<defs>\n",
       "  <clipPath id=\"clip880\">\n",
       "    <rect x=\"0\" y=\"0\" width=\"2400\" height=\"1600\"/>\n",
       "  </clipPath>\n",
       "</defs>\n",
       "<path clip-path=\"url(#clip880)\" d=\"\n",
       "M0 1600 L2400 1600 L2400 0 L0 0  Z\n",
       "  \" fill=\"#ffffff\" fill-rule=\"evenodd\" fill-opacity=\"1\"/>\n",
       "<defs>\n",
       "  <clipPath id=\"clip881\">\n",
       "    <rect x=\"480\" y=\"0\" width=\"1681\" height=\"1600\"/>\n",
       "  </clipPath>\n",
       "</defs>\n",
       "<path clip-path=\"url(#clip880)\" d=\"\n",
       "M232.389 1486.45 L2352.76 1486.45 L2352.76 123.472 L232.389 123.472  Z\n",
       "  \" fill=\"#ffffff\" fill-rule=\"evenodd\" fill-opacity=\"1\"/>\n",
       "<defs>\n",
       "  <clipPath id=\"clip882\">\n",
       "    <rect x=\"232\" y=\"123\" width=\"2121\" height=\"1364\"/>\n",
       "  </clipPath>\n",
       "</defs>\n",
       "<polyline clip-path=\"url(#clip882)\" style=\"stroke:#000000; stroke-linecap:butt; stroke-linejoin:round; stroke-width:2; stroke-opacity:0.1; fill:none\" points=\"\n",
       "  479.159,1486.45 479.159,123.472 \n",
       "  \"/>\n",
       "<polyline clip-path=\"url(#clip882)\" style=\"stroke:#000000; stroke-linecap:butt; stroke-linejoin:round; stroke-width:2; stroke-opacity:0.1; fill:none\" points=\"\n",
       "  804.525,1486.45 804.525,123.472 \n",
       "  \"/>\n",
       "<polyline clip-path=\"url(#clip882)\" style=\"stroke:#000000; stroke-linecap:butt; stroke-linejoin:round; stroke-width:2; stroke-opacity:0.1; fill:none\" points=\"\n",
       "  1129.89,1486.45 1129.89,123.472 \n",
       "  \"/>\n",
       "<polyline clip-path=\"url(#clip882)\" style=\"stroke:#000000; stroke-linecap:butt; stroke-linejoin:round; stroke-width:2; stroke-opacity:0.1; fill:none\" points=\"\n",
       "  1455.26,1486.45 1455.26,123.472 \n",
       "  \"/>\n",
       "<polyline clip-path=\"url(#clip882)\" style=\"stroke:#000000; stroke-linecap:butt; stroke-linejoin:round; stroke-width:2; stroke-opacity:0.1; fill:none\" points=\"\n",
       "  1780.62,1486.45 1780.62,123.472 \n",
       "  \"/>\n",
       "<polyline clip-path=\"url(#clip882)\" style=\"stroke:#000000; stroke-linecap:butt; stroke-linejoin:round; stroke-width:2; stroke-opacity:0.1; fill:none\" points=\"\n",
       "  2105.99,1486.45 2105.99,123.472 \n",
       "  \"/>\n",
       "<polyline clip-path=\"url(#clip880)\" style=\"stroke:#000000; stroke-linecap:butt; stroke-linejoin:round; stroke-width:4; stroke-opacity:1; fill:none\" points=\"\n",
       "  232.389,1486.45 2352.76,1486.45 \n",
       "  \"/>\n",
       "<polyline clip-path=\"url(#clip880)\" style=\"stroke:#000000; stroke-linecap:butt; stroke-linejoin:round; stroke-width:4; stroke-opacity:1; fill:none\" points=\"\n",
       "  479.159,1486.45 479.159,1467.55 \n",
       "  \"/>\n",
       "<polyline clip-path=\"url(#clip880)\" style=\"stroke:#000000; stroke-linecap:butt; stroke-linejoin:round; stroke-width:4; stroke-opacity:1; fill:none\" points=\"\n",
       "  804.525,1486.45 804.525,1467.55 \n",
       "  \"/>\n",
       "<polyline clip-path=\"url(#clip880)\" style=\"stroke:#000000; stroke-linecap:butt; stroke-linejoin:round; stroke-width:4; stroke-opacity:1; fill:none\" points=\"\n",
       "  1129.89,1486.45 1129.89,1467.55 \n",
       "  \"/>\n",
       "<polyline clip-path=\"url(#clip880)\" style=\"stroke:#000000; stroke-linecap:butt; stroke-linejoin:round; stroke-width:4; stroke-opacity:1; fill:none\" points=\"\n",
       "  1455.26,1486.45 1455.26,1467.55 \n",
       "  \"/>\n",
       "<polyline clip-path=\"url(#clip880)\" style=\"stroke:#000000; stroke-linecap:butt; stroke-linejoin:round; stroke-width:4; stroke-opacity:1; fill:none\" points=\"\n",
       "  1780.62,1486.45 1780.62,1467.55 \n",
       "  \"/>\n",
       "<polyline clip-path=\"url(#clip880)\" style=\"stroke:#000000; stroke-linecap:butt; stroke-linejoin:round; stroke-width:4; stroke-opacity:1; fill:none\" points=\"\n",
       "  2105.99,1486.45 2105.99,1467.55 \n",
       "  \"/>\n",
       "<path clip-path=\"url(#clip880)\" d=\"M368.234 1535.91 Q368.234 1531.21 366.29 1528.55 Q364.368 1525.86 360.989 1525.86 Q357.609 1525.86 355.665 1528.55 Q353.743 1531.21 353.743 1535.91 Q353.743 1540.61 355.665 1543.29 Q357.609 1545.95 360.989 1545.95 Q364.368 1545.95 366.29 1543.29 Q368.234 1540.61 368.234 1535.91 M353.743 1526.86 Q355.086 1524.54 357.123 1523.43 Q359.183 1522.3 362.03 1522.3 Q366.753 1522.3 369.692 1526.05 Q372.655 1529.8 372.655 1535.91 Q372.655 1542.02 369.692 1545.77 Q366.753 1549.52 362.03 1549.52 Q359.183 1549.52 357.123 1548.41 Q355.086 1547.27 353.743 1544.96 L353.743 1548.85 L349.461 1548.85 L349.461 1512.83 L353.743 1512.83 L353.743 1526.86 Z\" fill=\"#000000\" fill-rule=\"evenodd\" fill-opacity=\"1\" /><path clip-path=\"url(#clip880)\" d=\"M379.715 1522.92 L383.975 1522.92 L383.975 1548.85 L379.715 1548.85 L379.715 1522.92 M379.715 1512.83 L383.975 1512.83 L383.975 1518.22 L379.715 1518.22 L379.715 1512.83 Z\" fill=\"#000000\" fill-rule=\"evenodd\" fill-opacity=\"1\" /><path clip-path=\"url(#clip880)\" d=\"M409.947 1535.58 Q409.947 1530.95 408.026 1528.41 Q406.127 1525.86 402.678 1525.86 Q399.252 1525.86 397.331 1528.41 Q395.433 1530.95 395.433 1535.58 Q395.433 1540.19 397.331 1542.74 Q399.252 1545.28 402.678 1545.28 Q406.127 1545.28 408.026 1542.74 Q409.947 1540.19 409.947 1535.58 M414.206 1545.63 Q414.206 1552.25 411.266 1555.47 Q408.326 1558.71 402.262 1558.71 Q400.016 1558.71 398.026 1558.36 Q396.035 1558.04 394.16 1557.34 L394.16 1553.2 Q396.035 1554.22 397.864 1554.7 Q399.692 1555.19 401.59 1555.19 Q405.78 1555.19 407.863 1552.99 Q409.947 1550.82 409.947 1546.39 L409.947 1544.29 Q408.627 1546.58 406.567 1547.71 Q404.507 1548.85 401.637 1548.85 Q396.868 1548.85 393.952 1545.21 Q391.035 1541.58 391.035 1535.58 Q391.035 1529.57 393.952 1525.93 Q396.868 1522.3 401.637 1522.3 Q404.507 1522.3 406.567 1523.43 Q408.627 1524.57 409.947 1526.86 L409.947 1522.92 L414.206 1522.92 L414.206 1545.63 Z\" fill=\"#000000\" fill-rule=\"evenodd\" fill-opacity=\"1\" /><path clip-path=\"url(#clip880)\" d=\"M440.039 1526.86 L440.039 1512.83 L444.298 1512.83 L444.298 1548.85 L440.039 1548.85 L440.039 1544.96 Q438.697 1547.27 436.636 1548.41 Q434.599 1549.52 431.729 1549.52 Q427.03 1549.52 424.067 1545.77 Q421.127 1542.02 421.127 1535.91 Q421.127 1529.8 424.067 1526.05 Q427.03 1522.3 431.729 1522.3 Q434.599 1522.3 436.636 1523.43 Q438.697 1524.54 440.039 1526.86 M425.525 1535.91 Q425.525 1540.61 427.447 1543.29 Q429.391 1545.95 432.771 1545.95 Q436.15 1545.95 438.095 1543.29 Q440.039 1540.61 440.039 1535.91 Q440.039 1531.21 438.095 1528.55 Q436.15 1525.86 432.771 1525.86 Q429.391 1525.86 427.447 1528.55 Q425.525 1531.21 425.525 1535.91 Z\" fill=\"#000000\" fill-rule=\"evenodd\" fill-opacity=\"1\" /><path clip-path=\"url(#clip880)\" d=\"M466.197 1512.83 L466.197 1516.37 L462.122 1516.37 Q459.831 1516.37 458.928 1517.3 Q458.048 1518.22 458.048 1520.63 L458.048 1522.92 L465.062 1522.92 L465.062 1526.23 L458.048 1526.23 L458.048 1548.85 L453.766 1548.85 L453.766 1526.23 L449.692 1526.23 L449.692 1522.92 L453.766 1522.92 L453.766 1521.12 Q453.766 1516.79 455.78 1514.82 Q457.794 1512.83 462.169 1512.83 L466.197 1512.83 Z\" fill=\"#000000\" fill-rule=\"evenodd\" fill-opacity=\"1\" /><path clip-path=\"url(#clip880)\" d=\"M466.914 1542.97 L471.798 1542.97 L471.798 1548.85 L466.914 1548.85 L466.914 1542.97 Z\" fill=\"#000000\" fill-rule=\"evenodd\" fill-opacity=\"1\" /><path clip-path=\"url(#clip880)\" d=\"M493.164 1535.82 Q488.002 1535.82 486.011 1537 Q484.02 1538.18 484.02 1541.02 Q484.02 1543.29 485.502 1544.63 Q487.007 1545.95 489.576 1545.95 Q493.118 1545.95 495.247 1543.45 Q497.4 1540.93 497.4 1536.76 L497.4 1535.82 L493.164 1535.82 M501.659 1534.06 L501.659 1548.85 L497.4 1548.85 L497.4 1544.91 Q495.942 1547.27 493.766 1548.41 Q491.59 1549.52 488.442 1549.52 Q484.46 1549.52 482.099 1547.3 Q479.761 1545.05 479.761 1541.3 Q479.761 1536.93 482.678 1534.7 Q485.618 1532.48 491.428 1532.48 L497.4 1532.48 L497.4 1532.07 Q497.4 1529.13 495.456 1527.53 Q493.534 1525.91 490.039 1525.91 Q487.817 1525.91 485.71 1526.44 Q483.604 1526.97 481.659 1528.04 L481.659 1524.1 Q483.997 1523.2 486.196 1522.76 Q488.395 1522.3 490.479 1522.3 Q496.104 1522.3 498.882 1525.21 Q501.659 1528.13 501.659 1534.06 Z\" fill=\"#000000\" fill-rule=\"evenodd\" fill-opacity=\"1\" /><path clip-path=\"url(#clip880)\" d=\"M525.455 1526.9 Q524.738 1526.49 523.881 1526.3 Q523.048 1526.09 522.03 1526.09 Q518.418 1526.09 516.474 1528.45 Q514.553 1530.79 514.553 1535.19 L514.553 1548.85 L510.27 1548.85 L510.27 1522.92 L514.553 1522.92 L514.553 1526.95 Q515.895 1524.59 518.048 1523.45 Q520.201 1522.3 523.28 1522.3 Q523.719 1522.3 524.252 1522.37 Q524.784 1522.41 525.432 1522.53 L525.455 1526.9 Z\" fill=\"#000000\" fill-rule=\"evenodd\" fill-opacity=\"1\" /><path clip-path=\"url(#clip880)\" d=\"M544.113 1526.9 Q543.395 1526.49 542.539 1526.3 Q541.705 1526.09 540.687 1526.09 Q537.076 1526.09 535.131 1528.45 Q533.21 1530.79 533.21 1535.19 L533.21 1548.85 L528.928 1548.85 L528.928 1522.92 L533.21 1522.92 L533.21 1526.95 Q534.553 1524.59 536.705 1523.45 Q538.858 1522.3 541.937 1522.3 Q542.377 1522.3 542.909 1522.37 Q543.441 1522.41 544.09 1522.53 L544.113 1526.9 Z\" fill=\"#000000\" fill-rule=\"evenodd\" fill-opacity=\"1\" /><path clip-path=\"url(#clip880)\" d=\"M557.585 1525.91 Q554.159 1525.91 552.168 1528.59 Q550.178 1531.26 550.178 1535.91 Q550.178 1540.56 552.145 1543.25 Q554.136 1545.91 557.585 1545.91 Q560.988 1545.91 562.978 1543.22 Q564.969 1540.54 564.969 1535.91 Q564.969 1531.3 562.978 1528.62 Q560.988 1525.91 557.585 1525.91 M557.585 1522.3 Q563.14 1522.3 566.312 1525.91 Q569.483 1529.52 569.483 1535.91 Q569.483 1542.27 566.312 1545.91 Q563.14 1549.52 557.585 1549.52 Q552.006 1549.52 548.835 1545.91 Q545.687 1542.27 545.687 1535.91 Q545.687 1529.52 548.835 1525.91 Q552.006 1522.3 557.585 1522.3 Z\" fill=\"#000000\" fill-rule=\"evenodd\" fill-opacity=\"1\" /><path clip-path=\"url(#clip880)\" d=\"M574.066 1522.92 L578.326 1522.92 L583.65 1543.15 L588.95 1522.92 L593.974 1522.92 L599.298 1543.15 L604.599 1522.92 L608.858 1522.92 L602.075 1548.85 L597.052 1548.85 L591.474 1527.6 L585.872 1548.85 L580.849 1548.85 L574.066 1522.92 Z\" fill=\"#000000\" fill-rule=\"evenodd\" fill-opacity=\"1\" /><path clip-path=\"url(#clip880)\" d=\"M724.93 1535.91 Q724.93 1531.21 722.986 1528.55 Q721.064 1525.86 717.685 1525.86 Q714.305 1525.86 712.361 1528.55 Q710.44 1531.21 710.44 1535.91 Q710.44 1540.61 712.361 1543.29 Q714.305 1545.95 717.685 1545.95 Q721.064 1545.95 722.986 1543.29 Q724.93 1540.61 724.93 1535.91 M710.44 1526.86 Q711.782 1524.54 713.819 1523.43 Q715.879 1522.3 718.727 1522.3 Q723.449 1522.3 726.389 1526.05 Q729.351 1529.8 729.351 1535.91 Q729.351 1542.02 726.389 1545.77 Q723.449 1549.52 718.727 1549.52 Q715.879 1549.52 713.819 1548.41 Q711.782 1547.27 710.44 1544.96 L710.44 1548.85 L706.157 1548.85 L706.157 1512.83 L710.44 1512.83 L710.44 1526.86 Z\" fill=\"#000000\" fill-rule=\"evenodd\" fill-opacity=\"1\" /><path clip-path=\"url(#clip880)\" d=\"M736.412 1522.92 L740.671 1522.92 L740.671 1548.85 L736.412 1548.85 L736.412 1522.92 M736.412 1512.83 L740.671 1512.83 L740.671 1518.22 L736.412 1518.22 L736.412 1512.83 Z\" fill=\"#000000\" fill-rule=\"evenodd\" fill-opacity=\"1\" /><path clip-path=\"url(#clip880)\" d=\"M766.643 1535.58 Q766.643 1530.95 764.722 1528.41 Q762.824 1525.86 759.374 1525.86 Q755.949 1525.86 754.027 1528.41 Q752.129 1530.95 752.129 1535.58 Q752.129 1540.19 754.027 1542.74 Q755.949 1545.28 759.374 1545.28 Q762.824 1545.28 764.722 1542.74 Q766.643 1540.19 766.643 1535.58 M770.902 1545.63 Q770.902 1552.25 767.962 1555.47 Q765.023 1558.71 758.958 1558.71 Q756.712 1558.71 754.722 1558.36 Q752.731 1558.04 750.856 1557.34 L750.856 1553.2 Q752.731 1554.22 754.56 1554.7 Q756.388 1555.19 758.287 1555.19 Q762.476 1555.19 764.56 1552.99 Q766.643 1550.82 766.643 1546.39 L766.643 1544.29 Q765.324 1546.58 763.263 1547.71 Q761.203 1548.85 758.333 1548.85 Q753.564 1548.85 750.648 1545.21 Q747.731 1541.58 747.731 1535.58 Q747.731 1529.57 750.648 1525.93 Q753.564 1522.3 758.333 1522.3 Q761.203 1522.3 763.263 1523.43 Q765.324 1524.57 766.643 1526.86 L766.643 1522.92 L770.902 1522.92 L770.902 1545.63 Z\" fill=\"#000000\" fill-rule=\"evenodd\" fill-opacity=\"1\" /><path clip-path=\"url(#clip880)\" d=\"M796.735 1526.86 L796.735 1512.83 L800.995 1512.83 L800.995 1548.85 L796.735 1548.85 L796.735 1544.96 Q795.393 1547.27 793.333 1548.41 Q791.296 1549.52 788.425 1549.52 Q783.726 1549.52 780.763 1545.77 Q777.823 1542.02 777.823 1535.91 Q777.823 1529.8 780.763 1526.05 Q783.726 1522.3 788.425 1522.3 Q791.296 1522.3 793.333 1523.43 Q795.393 1524.54 796.735 1526.86 M782.222 1535.91 Q782.222 1540.61 784.143 1543.29 Q786.087 1545.95 789.467 1545.95 Q792.847 1545.95 794.791 1543.29 Q796.735 1540.61 796.735 1535.91 Q796.735 1531.21 794.791 1528.55 Q792.847 1525.86 789.467 1525.86 Q786.087 1525.86 784.143 1528.55 Q782.222 1531.21 782.222 1535.91 Z\" fill=\"#000000\" fill-rule=\"evenodd\" fill-opacity=\"1\" /><path clip-path=\"url(#clip880)\" d=\"M822.893 1512.83 L822.893 1516.37 L818.819 1516.37 Q816.527 1516.37 815.624 1517.3 Q814.745 1518.22 814.745 1520.63 L814.745 1522.92 L821.758 1522.92 L821.758 1526.23 L814.745 1526.23 L814.745 1548.85 L810.462 1548.85 L810.462 1526.23 L806.388 1526.23 L806.388 1522.92 L810.462 1522.92 L810.462 1521.12 Q810.462 1516.79 812.476 1514.82 Q814.49 1512.83 818.865 1512.83 L822.893 1512.83 Z\" fill=\"#000000\" fill-rule=\"evenodd\" fill-opacity=\"1\" /><path clip-path=\"url(#clip880)\" d=\"M823.61 1542.97 L828.494 1542.97 L828.494 1548.85 L823.61 1548.85 L823.61 1542.97 Z\" fill=\"#000000\" fill-rule=\"evenodd\" fill-opacity=\"1\" /><path clip-path=\"url(#clip880)\" d=\"M856.689 1535.91 Q856.689 1531.21 854.744 1528.55 Q852.823 1525.86 849.443 1525.86 Q846.064 1525.86 844.119 1528.55 Q842.198 1531.21 842.198 1535.91 Q842.198 1540.61 844.119 1543.29 Q846.064 1545.95 849.443 1545.95 Q852.823 1545.95 854.744 1543.29 Q856.689 1540.61 856.689 1535.91 M842.198 1526.86 Q843.541 1524.54 845.578 1523.43 Q847.638 1522.3 850.485 1522.3 Q855.207 1522.3 858.147 1526.05 Q861.11 1529.8 861.11 1535.91 Q861.11 1542.02 858.147 1545.77 Q855.207 1549.52 850.485 1549.52 Q847.638 1549.52 845.578 1548.41 Q843.541 1547.27 842.198 1544.96 L842.198 1548.85 L837.916 1548.85 L837.916 1512.83 L842.198 1512.83 L842.198 1526.86 Z\" fill=\"#000000\" fill-rule=\"evenodd\" fill-opacity=\"1\" /><path clip-path=\"url(#clip880)\" d=\"M868.17 1522.92 L872.429 1522.92 L872.429 1548.85 L868.17 1548.85 L868.17 1522.92 M868.17 1512.83 L872.429 1512.83 L872.429 1518.22 L868.17 1518.22 L868.17 1512.83 Z\" fill=\"#000000\" fill-rule=\"evenodd\" fill-opacity=\"1\" /><path clip-path=\"url(#clip880)\" d=\"M902.892 1533.2 L902.892 1548.85 L898.633 1548.85 L898.633 1533.34 Q898.633 1529.66 897.198 1527.83 Q895.763 1526 892.892 1526 Q889.443 1526 887.452 1528.2 Q885.462 1530.4 885.462 1534.2 L885.462 1548.85 L881.179 1548.85 L881.179 1522.92 L885.462 1522.92 L885.462 1526.95 Q886.99 1524.61 889.05 1523.45 Q891.133 1522.3 893.841 1522.3 Q898.309 1522.3 900.601 1525.07 Q902.892 1527.83 902.892 1533.2 Z\" fill=\"#000000\" fill-rule=\"evenodd\" fill-opacity=\"1\" /><path clip-path=\"url(#clip880)\" d=\"M1054.51 1535.91 Q1054.51 1531.21 1052.56 1528.55 Q1050.64 1525.86 1047.26 1525.86 Q1043.88 1525.86 1041.94 1528.55 Q1040.02 1531.21 1040.02 1535.91 Q1040.02 1540.61 1041.94 1543.29 Q1043.88 1545.95 1047.26 1545.95 Q1050.64 1545.95 1052.56 1543.29 Q1054.51 1540.61 1054.51 1535.91 M1040.02 1526.86 Q1041.36 1524.54 1043.4 1523.43 Q1045.46 1522.3 1048.3 1522.3 Q1053.03 1522.3 1055.97 1526.05 Q1058.93 1529.8 1058.93 1535.91 Q1058.93 1542.02 1055.97 1545.77 Q1053.03 1549.52 1048.3 1549.52 Q1045.46 1549.52 1043.4 1548.41 Q1041.36 1547.27 1040.02 1544.96 L1040.02 1548.85 L1035.74 1548.85 L1035.74 1512.83 L1040.02 1512.83 L1040.02 1526.86 Z\" fill=\"#000000\" fill-rule=\"evenodd\" fill-opacity=\"1\" /><path clip-path=\"url(#clip880)\" d=\"M1065.99 1522.92 L1070.25 1522.92 L1070.25 1548.85 L1065.99 1548.85 L1065.99 1522.92 M1065.99 1512.83 L1070.25 1512.83 L1070.25 1518.22 L1065.99 1518.22 L1065.99 1512.83 Z\" fill=\"#000000\" fill-rule=\"evenodd\" fill-opacity=\"1\" /><path clip-path=\"url(#clip880)\" d=\"M1096.22 1535.58 Q1096.22 1530.95 1094.3 1528.41 Q1092.4 1525.86 1088.95 1525.86 Q1085.53 1525.86 1083.61 1528.41 Q1081.71 1530.95 1081.71 1535.58 Q1081.71 1540.19 1083.61 1542.74 Q1085.53 1545.28 1088.95 1545.28 Q1092.4 1545.28 1094.3 1542.74 Q1096.22 1540.19 1096.22 1535.58 M1100.48 1545.63 Q1100.48 1552.25 1097.54 1555.47 Q1094.6 1558.71 1088.54 1558.71 Q1086.29 1558.71 1084.3 1558.36 Q1082.31 1558.04 1080.43 1557.34 L1080.43 1553.2 Q1082.31 1554.22 1084.14 1554.7 Q1085.97 1555.19 1087.86 1555.19 Q1092.05 1555.19 1094.14 1552.99 Q1096.22 1550.82 1096.22 1546.39 L1096.22 1544.29 Q1094.9 1546.58 1092.84 1547.71 Q1090.78 1548.85 1087.91 1548.85 Q1083.14 1548.85 1080.23 1545.21 Q1077.31 1541.58 1077.31 1535.58 Q1077.31 1529.57 1080.23 1525.93 Q1083.14 1522.3 1087.91 1522.3 Q1090.78 1522.3 1092.84 1523.43 Q1094.9 1524.57 1096.22 1526.86 L1096.22 1522.92 L1100.48 1522.92 L1100.48 1545.63 Z\" fill=\"#000000\" fill-rule=\"evenodd\" fill-opacity=\"1\" /><path clip-path=\"url(#clip880)\" d=\"M1126.31 1526.86 L1126.31 1512.83 L1130.57 1512.83 L1130.57 1548.85 L1126.31 1548.85 L1126.31 1544.96 Q1124.97 1547.27 1122.91 1548.41 Q1120.87 1549.52 1118 1549.52 Q1113.3 1549.52 1110.34 1545.77 Q1107.4 1542.02 1107.4 1535.91 Q1107.4 1529.8 1110.34 1526.05 Q1113.3 1522.3 1118 1522.3 Q1120.87 1522.3 1122.91 1523.43 Q1124.97 1524.54 1126.31 1526.86 M1111.8 1535.91 Q1111.8 1540.61 1113.72 1543.29 Q1115.67 1545.95 1119.05 1545.95 Q1122.42 1545.95 1124.37 1543.29 Q1126.31 1540.61 1126.31 1535.91 Q1126.31 1531.21 1124.37 1528.55 Q1122.42 1525.86 1119.05 1525.86 Q1115.67 1525.86 1113.72 1528.55 Q1111.8 1531.21 1111.8 1535.91 Z\" fill=\"#000000\" fill-rule=\"evenodd\" fill-opacity=\"1\" /><path clip-path=\"url(#clip880)\" d=\"M1152.47 1512.83 L1152.47 1516.37 L1148.4 1516.37 Q1146.11 1516.37 1145.2 1517.3 Q1144.32 1518.22 1144.32 1520.63 L1144.32 1522.92 L1151.34 1522.92 L1151.34 1526.23 L1144.32 1526.23 L1144.32 1548.85 L1140.04 1548.85 L1140.04 1526.23 L1135.97 1526.23 L1135.97 1522.92 L1140.04 1522.92 L1140.04 1521.12 Q1140.04 1516.79 1142.05 1514.82 Q1144.07 1512.83 1148.44 1512.83 L1152.47 1512.83 Z\" fill=\"#000000\" fill-rule=\"evenodd\" fill-opacity=\"1\" /><path clip-path=\"url(#clip880)\" d=\"M1153.19 1542.97 L1158.07 1542.97 L1158.07 1548.85 L1153.19 1548.85 L1153.19 1542.97 Z\" fill=\"#000000\" fill-rule=\"evenodd\" fill-opacity=\"1\" /><path clip-path=\"url(#clip880)\" d=\"M1167.66 1522.92 L1171.92 1522.92 L1171.92 1549.31 Q1171.92 1554.26 1170.02 1556.49 Q1168.14 1558.71 1163.95 1558.71 L1162.33 1558.71 L1162.33 1555.1 L1163.47 1555.1 Q1165.9 1555.1 1166.78 1553.96 Q1167.66 1552.85 1167.66 1549.31 L1167.66 1522.92 M1167.66 1512.83 L1171.92 1512.83 L1171.92 1518.22 L1167.66 1518.22 L1167.66 1512.83 Z\" fill=\"#000000\" fill-rule=\"evenodd\" fill-opacity=\"1\" /><path clip-path=\"url(#clip880)\" d=\"M1197.89 1526.86 L1197.89 1512.83 L1202.15 1512.83 L1202.15 1548.85 L1197.89 1548.85 L1197.89 1544.96 Q1196.54 1547.27 1194.48 1548.41 Q1192.45 1549.52 1189.58 1549.52 Q1184.88 1549.52 1181.92 1545.77 Q1178.98 1542.02 1178.98 1535.91 Q1178.98 1529.8 1181.92 1526.05 Q1184.88 1522.3 1189.58 1522.3 Q1192.45 1522.3 1194.48 1523.43 Q1196.54 1524.54 1197.89 1526.86 M1183.37 1535.91 Q1183.37 1540.61 1185.29 1543.29 Q1187.24 1545.95 1190.62 1545.95 Q1194 1545.95 1195.94 1543.29 Q1197.89 1540.61 1197.89 1535.91 Q1197.89 1531.21 1195.94 1528.55 Q1194 1525.86 1190.62 1525.86 Q1187.24 1525.86 1185.29 1528.55 Q1183.37 1531.21 1183.37 1535.91 Z\" fill=\"#000000\" fill-rule=\"evenodd\" fill-opacity=\"1\" /><path clip-path=\"url(#clip880)\" d=\"M1224.04 1512.83 L1224.04 1516.37 L1219.97 1516.37 Q1217.68 1516.37 1216.78 1517.3 Q1215.9 1518.22 1215.9 1520.63 L1215.9 1522.92 L1222.91 1522.92 L1222.91 1526.23 L1215.9 1526.23 L1215.9 1548.85 L1211.61 1548.85 L1211.61 1526.23 L1207.54 1526.23 L1207.54 1522.92 L1211.61 1522.92 L1211.61 1521.12 Q1211.61 1516.79 1213.63 1514.82 Q1215.64 1512.83 1220.02 1512.83 L1224.04 1512.83 Z\" fill=\"#000000\" fill-rule=\"evenodd\" fill-opacity=\"1\" /><path clip-path=\"url(#clip880)\" d=\"M1354.79 1535.91 Q1354.79 1531.21 1352.85 1528.55 Q1350.93 1525.86 1347.55 1525.86 Q1344.17 1525.86 1342.22 1528.55 Q1340.3 1531.21 1340.3 1535.91 Q1340.3 1540.61 1342.22 1543.29 Q1344.17 1545.95 1347.55 1545.95 Q1350.93 1545.95 1352.85 1543.29 Q1354.79 1540.61 1354.79 1535.91 M1340.3 1526.86 Q1341.64 1524.54 1343.68 1523.43 Q1345.74 1522.3 1348.59 1522.3 Q1353.31 1522.3 1356.25 1526.05 Q1359.21 1529.8 1359.21 1535.91 Q1359.21 1542.02 1356.25 1545.77 Q1353.31 1549.52 1348.59 1549.52 Q1345.74 1549.52 1343.68 1548.41 Q1341.64 1547.27 1340.3 1544.96 L1340.3 1548.85 L1336.02 1548.85 L1336.02 1512.83 L1340.3 1512.83 L1340.3 1526.86 Z\" fill=\"#000000\" fill-rule=\"evenodd\" fill-opacity=\"1\" /><path clip-path=\"url(#clip880)\" d=\"M1366.27 1522.92 L1370.53 1522.92 L1370.53 1548.85 L1366.27 1548.85 L1366.27 1522.92 M1366.27 1512.83 L1370.53 1512.83 L1370.53 1518.22 L1366.27 1518.22 L1366.27 1512.83 Z\" fill=\"#000000\" fill-rule=\"evenodd\" fill-opacity=\"1\" /><path clip-path=\"url(#clip880)\" d=\"M1396.51 1535.58 Q1396.51 1530.95 1394.58 1528.41 Q1392.69 1525.86 1389.24 1525.86 Q1385.81 1525.86 1383.89 1528.41 Q1381.99 1530.95 1381.99 1535.58 Q1381.99 1540.19 1383.89 1542.74 Q1385.81 1545.28 1389.24 1545.28 Q1392.69 1545.28 1394.58 1542.74 Q1396.51 1540.19 1396.51 1535.58 M1400.76 1545.63 Q1400.76 1552.25 1397.83 1555.47 Q1394.89 1558.71 1388.82 1558.71 Q1386.58 1558.71 1384.58 1558.36 Q1382.59 1558.04 1380.72 1557.34 L1380.72 1553.2 Q1382.59 1554.22 1384.42 1554.7 Q1386.25 1555.19 1388.15 1555.19 Q1392.34 1555.19 1394.42 1552.99 Q1396.51 1550.82 1396.51 1546.39 L1396.51 1544.29 Q1395.19 1546.58 1393.13 1547.71 Q1391.07 1548.85 1388.2 1548.85 Q1383.43 1548.85 1380.51 1545.21 Q1377.59 1541.58 1377.59 1535.58 Q1377.59 1529.57 1380.51 1525.93 Q1383.43 1522.3 1388.2 1522.3 Q1391.07 1522.3 1393.13 1523.43 Q1395.19 1524.57 1396.51 1526.86 L1396.51 1522.92 L1400.76 1522.92 L1400.76 1545.63 Z\" fill=\"#000000\" fill-rule=\"evenodd\" fill-opacity=\"1\" /><path clip-path=\"url(#clip880)\" d=\"M1426.6 1526.86 L1426.6 1512.83 L1430.86 1512.83 L1430.86 1548.85 L1426.6 1548.85 L1426.6 1544.96 Q1425.26 1547.27 1423.2 1548.41 Q1421.16 1549.52 1418.29 1549.52 Q1413.59 1549.52 1410.63 1545.77 Q1407.69 1542.02 1407.69 1535.91 Q1407.69 1529.8 1410.63 1526.05 Q1413.59 1522.3 1418.29 1522.3 Q1421.16 1522.3 1423.2 1523.43 Q1425.26 1524.54 1426.6 1526.86 M1412.08 1535.91 Q1412.08 1540.61 1414.01 1543.29 Q1415.95 1545.95 1419.33 1545.95 Q1422.71 1545.95 1424.65 1543.29 Q1426.6 1540.61 1426.6 1535.91 Q1426.6 1531.21 1424.65 1528.55 Q1422.71 1525.86 1419.33 1525.86 Q1415.95 1525.86 1414.01 1528.55 Q1412.08 1531.21 1412.08 1535.91 Z\" fill=\"#000000\" fill-rule=\"evenodd\" fill-opacity=\"1\" /><path clip-path=\"url(#clip880)\" d=\"M1452.76 1512.83 L1452.76 1516.37 L1448.68 1516.37 Q1446.39 1516.37 1445.49 1517.3 Q1444.61 1518.22 1444.61 1520.63 L1444.61 1522.92 L1451.62 1522.92 L1451.62 1526.23 L1444.61 1526.23 L1444.61 1548.85 L1440.32 1548.85 L1440.32 1526.23 L1436.25 1526.23 L1436.25 1522.92 L1440.32 1522.92 L1440.32 1521.12 Q1440.32 1516.79 1442.34 1514.82 Q1444.35 1512.83 1448.73 1512.83 L1452.76 1512.83 Z\" fill=\"#000000\" fill-rule=\"evenodd\" fill-opacity=\"1\" /><path clip-path=\"url(#clip880)\" d=\"M1457.73 1544.91 L1465.37 1544.91 L1465.37 1518.55 L1457.06 1520.21 L1457.06 1515.95 L1465.32 1514.29 L1470 1514.29 L1470 1544.91 L1477.64 1544.91 L1477.64 1548.85 L1457.73 1548.85 L1457.73 1544.91 Z\" fill=\"#000000\" fill-rule=\"evenodd\" fill-opacity=\"1\" /><path clip-path=\"url(#clip880)\" d=\"M1487.08 1542.97 L1491.97 1542.97 L1491.97 1548.85 L1487.08 1548.85 L1487.08 1542.97 Z\" fill=\"#000000\" fill-rule=\"evenodd\" fill-opacity=\"1\" /><path clip-path=\"url(#clip880)\" d=\"M1520.21 1523.92 L1520.21 1527.9 Q1518.4 1526.9 1516.57 1526.42 Q1514.77 1525.91 1512.92 1525.91 Q1508.77 1525.91 1506.48 1528.55 Q1504.19 1531.16 1504.19 1535.91 Q1504.19 1540.65 1506.48 1543.29 Q1508.77 1545.91 1512.92 1545.91 Q1514.77 1545.91 1516.57 1545.42 Q1518.4 1544.91 1520.21 1543.92 L1520.21 1547.85 Q1518.43 1548.69 1516.5 1549.1 Q1514.61 1549.52 1512.45 1549.52 Q1506.6 1549.52 1503.15 1545.84 Q1499.7 1542.16 1499.7 1535.91 Q1499.7 1529.57 1503.17 1525.93 Q1506.67 1522.3 1512.73 1522.3 Q1514.7 1522.3 1516.57 1522.71 Q1518.45 1523.11 1520.21 1523.92 Z\" fill=\"#000000\" fill-rule=\"evenodd\" fill-opacity=\"1\" /><path clip-path=\"url(#clip880)\" d=\"M1544.14 1523.69 L1544.14 1527.71 Q1542.34 1526.79 1540.39 1526.32 Q1538.45 1525.86 1536.37 1525.86 Q1533.19 1525.86 1531.6 1526.83 Q1530.02 1527.81 1530.02 1529.75 Q1530.02 1531.23 1531.16 1532.09 Q1532.29 1532.92 1535.72 1533.69 L1537.18 1534.01 Q1541.71 1534.98 1543.61 1536.76 Q1545.53 1538.52 1545.53 1541.7 Q1545.53 1545.31 1542.66 1547.41 Q1539.82 1549.52 1534.82 1549.52 Q1532.73 1549.52 1530.46 1549.1 Q1528.22 1548.71 1525.72 1547.9 L1525.72 1543.5 Q1528.08 1544.73 1530.37 1545.35 Q1532.66 1545.95 1534.91 1545.95 Q1537.92 1545.95 1539.54 1544.94 Q1541.16 1543.89 1541.16 1542.02 Q1541.16 1540.28 1539.98 1539.36 Q1538.82 1538.43 1534.86 1537.57 L1533.38 1537.23 Q1529.42 1536.39 1527.66 1534.68 Q1525.9 1532.95 1525.9 1529.94 Q1525.9 1526.28 1528.5 1524.29 Q1531.09 1522.3 1535.86 1522.3 Q1538.22 1522.3 1540.3 1522.64 Q1542.38 1522.99 1544.14 1523.69 Z\" fill=\"#000000\" fill-rule=\"evenodd\" fill-opacity=\"1\" /><path clip-path=\"url(#clip880)\" d=\"M1549.26 1522.92 L1553.77 1522.92 L1561.88 1544.68 L1569.98 1522.92 L1574.49 1522.92 L1564.77 1548.85 L1558.98 1548.85 L1549.26 1522.92 Z\" fill=\"#000000\" fill-rule=\"evenodd\" fill-opacity=\"1\" /><path clip-path=\"url(#clip880)\" d=\"M1672.42 1535.91 Q1672.42 1531.21 1670.47 1528.55 Q1668.55 1525.86 1665.17 1525.86 Q1661.79 1525.86 1659.85 1528.55 Q1657.92 1531.21 1657.92 1535.91 Q1657.92 1540.61 1659.85 1543.29 Q1661.79 1545.95 1665.17 1545.95 Q1668.55 1545.95 1670.47 1543.29 Q1672.42 1540.61 1672.42 1535.91 M1657.92 1526.86 Q1659.27 1524.54 1661.3 1523.43 Q1663.36 1522.3 1666.21 1522.3 Q1670.93 1522.3 1673.87 1526.05 Q1676.84 1529.8 1676.84 1535.91 Q1676.84 1542.02 1673.87 1545.77 Q1670.93 1549.52 1666.21 1549.52 Q1663.36 1549.52 1661.3 1548.41 Q1659.27 1547.27 1657.92 1544.96 L1657.92 1548.85 L1653.64 1548.85 L1653.64 1512.83 L1657.92 1512.83 L1657.92 1526.86 Z\" fill=\"#000000\" fill-rule=\"evenodd\" fill-opacity=\"1\" /><path clip-path=\"url(#clip880)\" d=\"M1683.9 1522.92 L1688.16 1522.92 L1688.16 1548.85 L1683.9 1548.85 L1683.9 1522.92 M1683.9 1512.83 L1688.16 1512.83 L1688.16 1518.22 L1683.9 1518.22 L1683.9 1512.83 Z\" fill=\"#000000\" fill-rule=\"evenodd\" fill-opacity=\"1\" /><path clip-path=\"url(#clip880)\" d=\"M1714.13 1535.58 Q1714.13 1530.95 1712.21 1528.41 Q1710.31 1525.86 1706.86 1525.86 Q1703.43 1525.86 1701.51 1528.41 Q1699.61 1530.95 1699.61 1535.58 Q1699.61 1540.19 1701.51 1542.74 Q1703.43 1545.28 1706.86 1545.28 Q1710.31 1545.28 1712.21 1542.74 Q1714.13 1540.19 1714.13 1535.58 M1718.39 1545.63 Q1718.39 1552.25 1715.45 1555.47 Q1712.51 1558.71 1706.44 1558.71 Q1704.2 1558.71 1702.21 1558.36 Q1700.22 1558.04 1698.34 1557.34 L1698.34 1553.2 Q1700.22 1554.22 1702.04 1554.7 Q1703.87 1555.19 1705.77 1555.19 Q1709.96 1555.19 1712.04 1552.99 Q1714.13 1550.82 1714.13 1546.39 L1714.13 1544.29 Q1712.81 1546.58 1710.75 1547.71 Q1708.69 1548.85 1705.82 1548.85 Q1701.05 1548.85 1698.13 1545.21 Q1695.22 1541.58 1695.22 1535.58 Q1695.22 1529.57 1698.13 1525.93 Q1701.05 1522.3 1705.82 1522.3 Q1708.69 1522.3 1710.75 1523.43 Q1712.81 1524.57 1714.13 1526.86 L1714.13 1522.92 L1718.39 1522.92 L1718.39 1545.63 Z\" fill=\"#000000\" fill-rule=\"evenodd\" fill-opacity=\"1\" /><path clip-path=\"url(#clip880)\" d=\"M1744.22 1526.86 L1744.22 1512.83 L1748.48 1512.83 L1748.48 1548.85 L1744.22 1548.85 L1744.22 1544.96 Q1742.88 1547.27 1740.82 1548.41 Q1738.78 1549.52 1735.91 1549.52 Q1731.21 1549.52 1728.25 1545.77 Q1725.31 1542.02 1725.31 1535.91 Q1725.31 1529.8 1728.25 1526.05 Q1731.21 1522.3 1735.91 1522.3 Q1738.78 1522.3 1740.82 1523.43 Q1742.88 1524.54 1744.22 1526.86 M1729.71 1535.91 Q1729.71 1540.61 1731.63 1543.29 Q1733.57 1545.95 1736.95 1545.95 Q1740.33 1545.95 1742.28 1543.29 Q1744.22 1540.61 1744.22 1535.91 Q1744.22 1531.21 1742.28 1528.55 Q1740.33 1525.86 1736.95 1525.86 Q1733.57 1525.86 1731.63 1528.55 Q1729.71 1531.21 1729.71 1535.91 Z\" fill=\"#000000\" fill-rule=\"evenodd\" fill-opacity=\"1\" /><path clip-path=\"url(#clip880)\" d=\"M1770.38 1512.83 L1770.38 1516.37 L1766.3 1516.37 Q1764.01 1516.37 1763.11 1517.3 Q1762.23 1518.22 1762.23 1520.63 L1762.23 1522.92 L1769.24 1522.92 L1769.24 1526.23 L1762.23 1526.23 L1762.23 1548.85 L1757.95 1548.85 L1757.95 1526.23 L1753.87 1526.23 L1753.87 1522.92 L1757.95 1522.92 L1757.95 1521.12 Q1757.95 1516.79 1759.96 1514.82 Q1761.97 1512.83 1766.35 1512.83 L1770.38 1512.83 Z\" fill=\"#000000\" fill-rule=\"evenodd\" fill-opacity=\"1\" /><path clip-path=\"url(#clip880)\" d=\"M1778.57 1544.91 L1794.89 1544.91 L1794.89 1548.85 L1772.95 1548.85 L1772.95 1544.91 Q1775.61 1542.16 1780.19 1537.53 Q1784.8 1532.88 1785.98 1531.53 Q1788.22 1529.01 1789.1 1527.27 Q1790.01 1525.51 1790.01 1523.82 Q1790.01 1521.07 1788.06 1519.33 Q1786.14 1517.6 1783.04 1517.6 Q1780.84 1517.6 1778.39 1518.36 Q1775.96 1519.13 1773.18 1520.68 L1773.18 1515.95 Q1776 1514.82 1778.46 1514.24 Q1780.91 1513.66 1782.95 1513.66 Q1788.32 1513.66 1791.51 1516.35 Q1794.71 1519.03 1794.71 1523.52 Q1794.71 1525.65 1793.9 1527.57 Q1793.11 1529.47 1791 1532.07 Q1790.42 1532.74 1787.32 1535.95 Q1784.22 1539.15 1778.57 1544.91 Z\" fill=\"#000000\" fill-rule=\"evenodd\" fill-opacity=\"1\" /><path clip-path=\"url(#clip880)\" d=\"M1804.71 1542.97 L1809.59 1542.97 L1809.59 1548.85 L1804.71 1548.85 L1804.71 1542.97 Z\" fill=\"#000000\" fill-rule=\"evenodd\" fill-opacity=\"1\" /><path clip-path=\"url(#clip880)\" d=\"M1819.17 1522.92 L1823.43 1522.92 L1823.43 1549.31 Q1823.43 1554.26 1821.53 1556.49 Q1819.66 1558.71 1815.47 1558.71 L1813.85 1558.71 L1813.85 1555.1 L1814.98 1555.1 Q1817.41 1555.1 1818.29 1553.96 Q1819.17 1552.85 1819.17 1549.31 L1819.17 1522.92 M1819.17 1512.83 L1823.43 1512.83 L1823.43 1518.22 L1819.17 1518.22 L1819.17 1512.83 Z\" fill=\"#000000\" fill-rule=\"evenodd\" fill-opacity=\"1\" /><path clip-path=\"url(#clip880)\" d=\"M1848.87 1523.69 L1848.87 1527.71 Q1847.07 1526.79 1845.12 1526.32 Q1843.18 1525.86 1841.09 1525.86 Q1837.92 1525.86 1836.33 1526.83 Q1834.75 1527.81 1834.75 1529.75 Q1834.75 1531.23 1835.89 1532.09 Q1837.02 1532.92 1840.45 1533.69 L1841.9 1534.01 Q1846.44 1534.98 1848.34 1536.76 Q1850.26 1538.52 1850.26 1541.7 Q1850.26 1545.31 1847.39 1547.41 Q1844.54 1549.52 1839.54 1549.52 Q1837.46 1549.52 1835.19 1549.1 Q1832.95 1548.71 1830.45 1547.9 L1830.45 1543.5 Q1832.81 1544.73 1835.1 1545.35 Q1837.39 1545.95 1839.64 1545.95 Q1842.65 1545.95 1844.27 1544.94 Q1845.89 1543.89 1845.89 1542.02 Q1845.89 1540.28 1844.71 1539.36 Q1843.55 1538.43 1839.59 1537.57 L1838.11 1537.23 Q1834.15 1536.39 1832.39 1534.68 Q1830.63 1532.95 1830.63 1529.94 Q1830.63 1526.28 1833.22 1524.29 Q1835.82 1522.3 1840.59 1522.3 Q1842.95 1522.3 1845.03 1522.64 Q1847.11 1522.99 1848.87 1523.69 Z\" fill=\"#000000\" fill-rule=\"evenodd\" fill-opacity=\"1\" /><path clip-path=\"url(#clip880)\" d=\"M1867.09 1525.91 Q1863.66 1525.91 1861.67 1528.59 Q1859.68 1531.26 1859.68 1535.91 Q1859.68 1540.56 1861.65 1543.25 Q1863.64 1545.91 1867.09 1545.91 Q1870.49 1545.91 1872.48 1543.22 Q1874.47 1540.54 1874.47 1535.91 Q1874.47 1531.3 1872.48 1528.62 Q1870.49 1525.91 1867.09 1525.91 M1867.09 1522.3 Q1872.65 1522.3 1875.82 1525.91 Q1878.99 1529.52 1878.99 1535.91 Q1878.99 1542.27 1875.82 1545.91 Q1872.65 1549.52 1867.09 1549.52 Q1861.51 1549.52 1858.34 1545.91 Q1855.19 1542.27 1855.19 1535.91 Q1855.19 1529.52 1858.34 1525.91 Q1861.51 1522.3 1867.09 1522.3 Z\" fill=\"#000000\" fill-rule=\"evenodd\" fill-opacity=\"1\" /><path clip-path=\"url(#clip880)\" d=\"M1907.6 1533.2 L1907.6 1548.85 L1903.34 1548.85 L1903.34 1533.34 Q1903.34 1529.66 1901.9 1527.83 Q1900.47 1526 1897.6 1526 Q1894.15 1526 1892.16 1528.2 Q1890.17 1530.4 1890.17 1534.2 L1890.17 1548.85 L1885.89 1548.85 L1885.89 1522.92 L1890.17 1522.92 L1890.17 1526.95 Q1891.7 1524.61 1893.76 1523.45 Q1895.84 1522.3 1898.55 1522.3 Q1903.02 1522.3 1905.31 1525.07 Q1907.6 1527.83 1907.6 1533.2 Z\" fill=\"#000000\" fill-rule=\"evenodd\" fill-opacity=\"1\" /><path clip-path=\"url(#clip880)\" d=\"M1997.78 1535.91 Q1997.78 1531.21 1995.84 1528.55 Q1993.91 1525.86 1990.54 1525.86 Q1987.16 1525.86 1985.21 1528.55 Q1983.29 1531.21 1983.29 1535.91 Q1983.29 1540.61 1985.21 1543.29 Q1987.16 1545.95 1990.54 1545.95 Q1993.91 1545.95 1995.84 1543.29 Q1997.78 1540.61 1997.78 1535.91 M1983.29 1526.86 Q1984.63 1524.54 1986.67 1523.43 Q1988.73 1522.3 1991.58 1522.3 Q1996.3 1522.3 1999.24 1526.05 Q2002.2 1529.8 2002.2 1535.91 Q2002.2 1542.02 1999.24 1545.77 Q1996.3 1549.52 1991.58 1549.52 Q1988.73 1549.52 1986.67 1548.41 Q1984.63 1547.27 1983.29 1544.96 L1983.29 1548.85 L1979.01 1548.85 L1979.01 1512.83 L1983.29 1512.83 L1983.29 1526.86 Z\" fill=\"#000000\" fill-rule=\"evenodd\" fill-opacity=\"1\" /><path clip-path=\"url(#clip880)\" d=\"M2009.26 1522.92 L2013.52 1522.92 L2013.52 1548.85 L2009.26 1548.85 L2009.26 1522.92 M2009.26 1512.83 L2013.52 1512.83 L2013.52 1518.22 L2009.26 1518.22 L2009.26 1512.83 Z\" fill=\"#000000\" fill-rule=\"evenodd\" fill-opacity=\"1\" /><path clip-path=\"url(#clip880)\" d=\"M2039.49 1535.58 Q2039.49 1530.95 2037.57 1528.41 Q2035.67 1525.86 2032.22 1525.86 Q2028.8 1525.86 2026.88 1528.41 Q2024.98 1530.95 2024.98 1535.58 Q2024.98 1540.19 2026.88 1542.74 Q2028.8 1545.28 2032.22 1545.28 Q2035.67 1545.28 2037.57 1542.74 Q2039.49 1540.19 2039.49 1535.58 M2043.75 1545.63 Q2043.75 1552.25 2040.81 1555.47 Q2037.87 1558.71 2031.81 1558.71 Q2029.56 1558.71 2027.57 1558.36 Q2025.58 1558.04 2023.71 1557.34 L2023.71 1553.2 Q2025.58 1554.22 2027.41 1554.7 Q2029.24 1555.19 2031.14 1555.19 Q2035.33 1555.19 2037.41 1552.99 Q2039.49 1550.82 2039.49 1546.39 L2039.49 1544.29 Q2038.17 1546.58 2036.11 1547.71 Q2034.05 1548.85 2031.18 1548.85 Q2026.41 1548.85 2023.5 1545.21 Q2020.58 1541.58 2020.58 1535.58 Q2020.58 1529.57 2023.5 1525.93 Q2026.41 1522.3 2031.18 1522.3 Q2034.05 1522.3 2036.11 1523.43 Q2038.17 1524.57 2039.49 1526.86 L2039.49 1522.92 L2043.75 1522.92 L2043.75 1545.63 Z\" fill=\"#000000\" fill-rule=\"evenodd\" fill-opacity=\"1\" /><path clip-path=\"url(#clip880)\" d=\"M2069.59 1526.86 L2069.59 1512.83 L2073.84 1512.83 L2073.84 1548.85 L2069.59 1548.85 L2069.59 1544.96 Q2068.24 1547.27 2066.18 1548.41 Q2064.15 1549.52 2061.28 1549.52 Q2056.58 1549.52 2053.61 1545.77 Q2050.67 1542.02 2050.67 1535.91 Q2050.67 1529.8 2053.61 1526.05 Q2056.58 1522.3 2061.28 1522.3 Q2064.15 1522.3 2066.18 1523.43 Q2068.24 1524.54 2069.59 1526.86 M2055.07 1535.91 Q2055.07 1540.61 2056.99 1543.29 Q2058.94 1545.95 2062.32 1545.95 Q2065.7 1545.95 2067.64 1543.29 Q2069.59 1540.61 2069.59 1535.91 Q2069.59 1531.21 2067.64 1528.55 Q2065.7 1525.86 2062.32 1525.86 Q2058.94 1525.86 2056.99 1528.55 Q2055.07 1531.21 2055.07 1535.91 Z\" fill=\"#000000\" fill-rule=\"evenodd\" fill-opacity=\"1\" /><path clip-path=\"url(#clip880)\" d=\"M2095.74 1512.83 L2095.74 1516.37 L2091.67 1516.37 Q2089.38 1516.37 2088.47 1517.3 Q2087.59 1518.22 2087.59 1520.63 L2087.59 1522.92 L2094.61 1522.92 L2094.61 1526.23 L2087.59 1526.23 L2087.59 1548.85 L2083.31 1548.85 L2083.31 1526.23 L2079.24 1526.23 L2079.24 1522.92 L2083.31 1522.92 L2083.31 1521.12 Q2083.31 1516.79 2085.33 1514.82 Q2087.34 1512.83 2091.72 1512.83 L2095.74 1512.83 Z\" fill=\"#000000\" fill-rule=\"evenodd\" fill-opacity=\"1\" /><path clip-path=\"url(#clip880)\" d=\"M2100.72 1544.91 L2108.36 1544.91 L2108.36 1518.55 L2100.05 1520.21 L2100.05 1515.95 L2108.31 1514.29 L2112.99 1514.29 L2112.99 1544.91 L2120.63 1544.91 L2120.63 1548.85 L2100.72 1548.85 L2100.72 1544.91 Z\" fill=\"#000000\" fill-rule=\"evenodd\" fill-opacity=\"1\" /><path clip-path=\"url(#clip880)\" d=\"M2130.07 1542.97 L2134.96 1542.97 L2134.96 1548.85 L2130.07 1548.85 L2130.07 1542.97 Z\" fill=\"#000000\" fill-rule=\"evenodd\" fill-opacity=\"1\" /><path clip-path=\"url(#clip880)\" d=\"M2144.54 1522.92 L2148.8 1522.92 L2148.8 1549.31 Q2148.8 1554.26 2146.9 1556.49 Q2145.02 1558.71 2140.84 1558.71 L2139.21 1558.71 L2139.21 1555.1 L2140.35 1555.1 Q2142.78 1555.1 2143.66 1553.96 Q2144.54 1552.85 2144.54 1549.31 L2144.54 1522.92 M2144.54 1512.83 L2148.8 1512.83 L2148.8 1518.22 L2144.54 1518.22 L2144.54 1512.83 Z\" fill=\"#000000\" fill-rule=\"evenodd\" fill-opacity=\"1\" /><path clip-path=\"url(#clip880)\" d=\"M2174.24 1523.69 L2174.24 1527.71 Q2172.43 1526.79 2170.49 1526.32 Q2168.54 1525.86 2166.46 1525.86 Q2163.29 1525.86 2161.69 1526.83 Q2160.12 1527.81 2160.12 1529.75 Q2160.12 1531.23 2161.25 1532.09 Q2162.39 1532.92 2165.81 1533.69 L2167.27 1534.01 Q2171.81 1534.98 2173.71 1536.76 Q2175.63 1538.52 2175.63 1541.7 Q2175.63 1545.31 2172.76 1547.41 Q2169.91 1549.52 2164.91 1549.52 Q2162.83 1549.52 2160.56 1549.1 Q2158.31 1548.71 2155.81 1547.9 L2155.81 1543.5 Q2158.17 1544.73 2160.46 1545.35 Q2162.76 1545.95 2165 1545.95 Q2168.01 1545.95 2169.63 1544.94 Q2171.25 1543.89 2171.25 1542.02 Q2171.25 1540.28 2170.07 1539.36 Q2168.91 1538.43 2164.96 1537.57 L2163.47 1537.23 Q2159.52 1536.39 2157.76 1534.68 Q2156 1532.95 2156 1529.94 Q2156 1526.28 2158.59 1524.29 Q2161.18 1522.3 2165.95 1522.3 Q2168.31 1522.3 2170.4 1522.64 Q2172.48 1522.99 2174.24 1523.69 Z\" fill=\"#000000\" fill-rule=\"evenodd\" fill-opacity=\"1\" /><path clip-path=\"url(#clip880)\" d=\"M2192.46 1525.91 Q2189.03 1525.91 2187.04 1528.59 Q2185.05 1531.26 2185.05 1535.91 Q2185.05 1540.56 2187.02 1543.25 Q2189.01 1545.91 2192.46 1545.91 Q2195.86 1545.91 2197.85 1543.22 Q2199.84 1540.54 2199.84 1535.91 Q2199.84 1531.3 2197.85 1528.62 Q2195.86 1525.91 2192.46 1525.91 M2192.46 1522.3 Q2198.01 1522.3 2201.18 1525.91 Q2204.35 1529.52 2204.35 1535.91 Q2204.35 1542.27 2201.18 1545.91 Q2198.01 1549.52 2192.46 1549.52 Q2186.88 1549.52 2183.71 1545.91 Q2180.56 1542.27 2180.56 1535.91 Q2180.56 1529.52 2183.71 1525.91 Q2186.88 1522.3 2192.46 1522.3 Z\" fill=\"#000000\" fill-rule=\"evenodd\" fill-opacity=\"1\" /><path clip-path=\"url(#clip880)\" d=\"M2232.96 1533.2 L2232.96 1548.85 L2228.71 1548.85 L2228.71 1533.34 Q2228.71 1529.66 2227.27 1527.83 Q2225.83 1526 2222.96 1526 Q2219.52 1526 2217.52 1528.2 Q2215.53 1530.4 2215.53 1534.2 L2215.53 1548.85 L2211.25 1548.85 L2211.25 1522.92 L2215.53 1522.92 L2215.53 1526.95 Q2217.06 1524.61 2219.12 1523.45 Q2221.21 1522.3 2223.91 1522.3 Q2228.38 1522.3 2230.67 1525.07 Q2232.96 1527.83 2232.96 1533.2 Z\" fill=\"#000000\" fill-rule=\"evenodd\" fill-opacity=\"1\" /><polyline clip-path=\"url(#clip882)\" style=\"stroke:#000000; stroke-linecap:butt; stroke-linejoin:round; stroke-width:2; stroke-opacity:0.1; fill:none\" points=\"\n",
       "  232.389,1447.87 2352.76,1447.87 \n",
       "  \"/>\n",
       "<polyline clip-path=\"url(#clip882)\" style=\"stroke:#000000; stroke-linecap:butt; stroke-linejoin:round; stroke-width:2; stroke-opacity:0.1; fill:none\" points=\"\n",
       "  232.389,1176.11 2352.76,1176.11 \n",
       "  \"/>\n",
       "<polyline clip-path=\"url(#clip882)\" style=\"stroke:#000000; stroke-linecap:butt; stroke-linejoin:round; stroke-width:2; stroke-opacity:0.1; fill:none\" points=\"\n",
       "  232.389,904.339 2352.76,904.339 \n",
       "  \"/>\n",
       "<polyline clip-path=\"url(#clip882)\" style=\"stroke:#000000; stroke-linecap:butt; stroke-linejoin:round; stroke-width:2; stroke-opacity:0.1; fill:none\" points=\"\n",
       "  232.389,632.573 2352.76,632.573 \n",
       "  \"/>\n",
       "<polyline clip-path=\"url(#clip882)\" style=\"stroke:#000000; stroke-linecap:butt; stroke-linejoin:round; stroke-width:2; stroke-opacity:0.1; fill:none\" points=\"\n",
       "  232.389,360.806 2352.76,360.806 \n",
       "  \"/>\n",
       "<polyline clip-path=\"url(#clip880)\" style=\"stroke:#000000; stroke-linecap:butt; stroke-linejoin:round; stroke-width:4; stroke-opacity:1; fill:none\" points=\"\n",
       "  232.389,1486.45 232.389,123.472 \n",
       "  \"/>\n",
       "<polyline clip-path=\"url(#clip880)\" style=\"stroke:#000000; stroke-linecap:butt; stroke-linejoin:round; stroke-width:4; stroke-opacity:1; fill:none\" points=\"\n",
       "  232.389,1447.87 251.287,1447.87 \n",
       "  \"/>\n",
       "<polyline clip-path=\"url(#clip880)\" style=\"stroke:#000000; stroke-linecap:butt; stroke-linejoin:round; stroke-width:4; stroke-opacity:1; fill:none\" points=\"\n",
       "  232.389,1176.11 251.287,1176.11 \n",
       "  \"/>\n",
       "<polyline clip-path=\"url(#clip880)\" style=\"stroke:#000000; stroke-linecap:butt; stroke-linejoin:round; stroke-width:4; stroke-opacity:1; fill:none\" points=\"\n",
       "  232.389,904.339 251.287,904.339 \n",
       "  \"/>\n",
       "<polyline clip-path=\"url(#clip880)\" style=\"stroke:#000000; stroke-linecap:butt; stroke-linejoin:round; stroke-width:4; stroke-opacity:1; fill:none\" points=\"\n",
       "  232.389,632.573 251.287,632.573 \n",
       "  \"/>\n",
       "<polyline clip-path=\"url(#clip880)\" style=\"stroke:#000000; stroke-linecap:butt; stroke-linejoin:round; stroke-width:4; stroke-opacity:1; fill:none\" points=\"\n",
       "  232.389,360.806 251.287,360.806 \n",
       "  \"/>\n",
       "<path clip-path=\"url(#clip880)\" d=\"M184.445 1433.67 Q180.834 1433.67 179.005 1437.24 Q177.2 1440.78 177.2 1447.91 Q177.2 1455.01 179.005 1458.58 Q180.834 1462.12 184.445 1462.12 Q188.079 1462.12 189.885 1458.58 Q191.713 1455.01 191.713 1447.91 Q191.713 1440.78 189.885 1437.24 Q188.079 1433.67 184.445 1433.67 M184.445 1429.97 Q190.255 1429.97 193.311 1434.57 Q196.389 1439.16 196.389 1447.91 Q196.389 1456.63 193.311 1461.24 Q190.255 1465.82 184.445 1465.82 Q178.635 1465.82 175.556 1461.24 Q172.501 1456.63 172.501 1447.91 Q172.501 1439.16 175.556 1434.57 Q178.635 1429.97 184.445 1429.97 Z\" fill=\"#000000\" fill-rule=\"evenodd\" fill-opacity=\"1\" /><path clip-path=\"url(#clip880)\" d=\"M149.306 1189.45 L165.626 1189.45 L165.626 1193.39 L143.681 1193.39 L143.681 1189.45 Q146.343 1186.7 150.927 1182.07 Q155.533 1177.41 156.714 1176.07 Q158.959 1173.55 159.839 1171.81 Q160.741 1170.05 160.741 1168.36 Q160.741 1165.61 158.797 1163.87 Q156.876 1162.14 153.774 1162.14 Q151.575 1162.14 149.121 1162.9 Q146.691 1163.66 143.913 1165.22 L143.913 1160.49 Q146.737 1159.36 149.191 1158.78 Q151.644 1158.2 153.681 1158.2 Q159.052 1158.2 162.246 1160.89 Q165.44 1163.57 165.44 1168.06 Q165.44 1170.19 164.63 1172.11 Q163.843 1174.01 161.737 1176.6 Q161.158 1177.28 158.056 1180.49 Q154.954 1183.69 149.306 1189.45 Z\" fill=\"#000000\" fill-rule=\"evenodd\" fill-opacity=\"1\" /><path clip-path=\"url(#clip880)\" d=\"M175.487 1158.83 L193.843 1158.83 L193.843 1162.76 L179.769 1162.76 L179.769 1171.23 Q180.788 1170.89 181.806 1170.72 Q182.825 1170.54 183.843 1170.54 Q189.63 1170.54 193.01 1173.71 Q196.389 1176.88 196.389 1182.3 Q196.389 1187.88 192.917 1190.98 Q189.445 1194.06 183.126 1194.06 Q180.95 1194.06 178.681 1193.69 Q176.436 1193.32 174.028 1192.58 L174.028 1187.88 Q176.112 1189.01 178.334 1189.57 Q180.556 1190.12 183.033 1190.12 Q187.038 1190.12 189.375 1188.02 Q191.713 1185.91 191.713 1182.3 Q191.713 1178.69 189.375 1176.58 Q187.038 1174.47 183.033 1174.47 Q181.158 1174.47 179.283 1174.89 Q177.431 1175.31 175.487 1176.19 L175.487 1158.83 Z\" fill=\"#000000\" fill-rule=\"evenodd\" fill-opacity=\"1\" /><path clip-path=\"url(#clip880)\" d=\"M144.329 887.059 L162.686 887.059 L162.686 890.995 L148.612 890.995 L148.612 899.467 Q149.63 899.119 150.649 898.957 Q151.667 898.772 152.686 898.772 Q158.473 898.772 161.852 901.944 Q165.232 905.115 165.232 910.531 Q165.232 916.11 161.76 919.212 Q158.288 922.291 151.968 922.291 Q149.792 922.291 147.524 921.92 Q145.279 921.55 142.871 920.809 L142.871 916.11 Q144.954 917.244 147.177 917.8 Q149.399 918.355 151.876 918.355 Q155.88 918.355 158.218 916.249 Q160.556 914.143 160.556 910.531 Q160.556 906.92 158.218 904.814 Q155.88 902.707 151.876 902.707 Q150.001 902.707 148.126 903.124 Q146.274 903.541 144.329 904.42 L144.329 887.059 Z\" fill=\"#000000\" fill-rule=\"evenodd\" fill-opacity=\"1\" /><path clip-path=\"url(#clip880)\" d=\"M184.445 890.138 Q180.834 890.138 179.005 893.703 Q177.2 897.245 177.2 904.374 Q177.2 911.481 179.005 915.045 Q180.834 918.587 184.445 918.587 Q188.079 918.587 189.885 915.045 Q191.713 911.481 191.713 904.374 Q191.713 897.245 189.885 893.703 Q188.079 890.138 184.445 890.138 M184.445 886.434 Q190.255 886.434 193.311 891.041 Q196.389 895.624 196.389 904.374 Q196.389 913.101 193.311 917.707 Q190.255 922.291 184.445 922.291 Q178.635 922.291 175.556 917.707 Q172.501 913.101 172.501 904.374 Q172.501 895.624 175.556 891.041 Q178.635 886.434 184.445 886.434 Z\" fill=\"#000000\" fill-rule=\"evenodd\" fill-opacity=\"1\" /><path clip-path=\"url(#clip880)\" d=\"M144.098 615.293 L166.32 615.293 L166.32 617.283 L153.774 649.853 L148.89 649.853 L160.695 619.228 L144.098 619.228 L144.098 615.293 Z\" fill=\"#000000\" fill-rule=\"evenodd\" fill-opacity=\"1\" /><path clip-path=\"url(#clip880)\" d=\"M175.487 615.293 L193.843 615.293 L193.843 619.228 L179.769 619.228 L179.769 627.7 Q180.788 627.353 181.806 627.191 Q182.825 627.005 183.843 627.005 Q189.63 627.005 193.01 630.177 Q196.389 633.348 196.389 638.765 Q196.389 644.343 192.917 647.445 Q189.445 650.524 183.126 650.524 Q180.95 650.524 178.681 650.153 Q176.436 649.783 174.028 649.042 L174.028 644.343 Q176.112 645.478 178.334 646.033 Q180.556 646.589 183.033 646.589 Q187.038 646.589 189.375 644.482 Q191.713 642.376 191.713 638.765 Q191.713 635.154 189.375 633.047 Q187.038 630.941 183.033 630.941 Q181.158 630.941 179.283 631.357 Q177.431 631.774 175.487 632.654 L175.487 615.293 Z\" fill=\"#000000\" fill-rule=\"evenodd\" fill-opacity=\"1\" /><path clip-path=\"url(#clip880)\" d=\"M114.931 374.15 L122.57 374.15 L122.57 347.785 L114.26 349.452 L114.26 345.192 L122.524 343.526 L127.2 343.526 L127.2 374.15 L134.839 374.15 L134.839 378.086 L114.931 378.086 L114.931 374.15 Z\" fill=\"#000000\" fill-rule=\"evenodd\" fill-opacity=\"1\" /><path clip-path=\"url(#clip880)\" d=\"M154.283 346.604 Q150.672 346.604 148.843 350.169 Q147.038 353.711 147.038 360.84 Q147.038 367.947 148.843 371.512 Q150.672 375.053 154.283 375.053 Q157.917 375.053 159.723 371.512 Q161.552 367.947 161.552 360.84 Q161.552 353.711 159.723 350.169 Q157.917 346.604 154.283 346.604 M154.283 342.901 Q160.093 342.901 163.149 347.507 Q166.227 352.09 166.227 360.84 Q166.227 369.567 163.149 374.174 Q160.093 378.757 154.283 378.757 Q148.473 378.757 145.394 374.174 Q142.339 369.567 142.339 360.84 Q142.339 352.09 145.394 347.507 Q148.473 342.901 154.283 342.901 Z\" fill=\"#000000\" fill-rule=\"evenodd\" fill-opacity=\"1\" /><path clip-path=\"url(#clip880)\" d=\"M184.445 346.604 Q180.834 346.604 179.005 350.169 Q177.2 353.711 177.2 360.84 Q177.2 367.947 179.005 371.512 Q180.834 375.053 184.445 375.053 Q188.079 375.053 189.885 371.512 Q191.713 367.947 191.713 360.84 Q191.713 353.711 189.885 350.169 Q188.079 346.604 184.445 346.604 M184.445 342.901 Q190.255 342.901 193.311 347.507 Q196.389 352.09 196.389 360.84 Q196.389 369.567 193.311 374.174 Q190.255 378.757 184.445 378.757 Q178.635 378.757 175.556 374.174 Q172.501 369.567 172.501 360.84 Q172.501 352.09 175.556 347.507 Q178.635 342.901 184.445 342.901 Z\" fill=\"#000000\" fill-rule=\"evenodd\" fill-opacity=\"1\" /><path clip-path=\"url(#clip880)\" d=\"M16.4842 849.934 L16.4842 840.353 L48.8219 828.227 L16.4842 816.036 L16.4842 806.456 L64.0042 806.456 L64.0042 812.726 L22.277 812.726 L54.8694 824.98 L54.8694 831.441 L22.277 843.695 L64.0042 843.695 L64.0042 849.934 L16.4842 849.934 Z\" fill=\"#000000\" fill-rule=\"evenodd\" fill-opacity=\"1\" /><path clip-path=\"url(#clip880)\" d=\"M41.3104 787.263 L58.7206 787.263 L58.7206 776.951 Q58.7206 771.763 56.5881 769.28 Q54.4238 766.766 49.9996 766.766 Q45.5436 766.766 43.4429 769.28 Q41.3104 771.763 41.3104 776.951 L41.3104 787.263 M21.7677 787.263 L36.0905 787.263 L36.0905 777.747 Q36.0905 773.036 34.34 770.744 Q32.5576 768.421 28.9291 768.421 Q25.3325 768.421 23.5501 770.744 Q21.7677 773.036 21.7677 777.747 L21.7677 787.263 M16.4842 793.693 L16.4842 777.269 Q16.4842 769.917 19.5397 765.938 Q22.5952 761.96 28.2289 761.96 Q32.5894 761.96 35.1675 763.997 Q37.7456 766.034 38.3822 769.98 Q39.4007 765.238 42.6472 762.628 Q45.8619 759.986 50.6998 759.986 Q57.0655 759.986 60.5348 764.315 Q64.0042 768.644 64.0042 776.633 L64.0042 793.693 L16.4842 793.693 Z\" fill=\"#000000\" fill-rule=\"evenodd\" fill-opacity=\"1\" /><path clip-path=\"url(#clip880)\" d=\"M863.298 12.096 L898.055 12.096 L898.055 18.9825 L871.481 18.9825 L871.481 36.8065 L895.462 36.8065 L895.462 43.6931 L871.481 43.6931 L871.481 72.576 L863.298 72.576 L863.298 12.096 Z\" fill=\"#000000\" fill-rule=\"evenodd\" fill-opacity=\"1\" /><path clip-path=\"url(#clip880)\" d=\"M925.318 32.4315 Q919.322 32.4315 915.839 37.1306 Q912.355 41.7891 912.355 49.9314 Q912.355 58.0738 915.798 62.7728 Q919.282 67.4314 925.318 67.4314 Q931.272 67.4314 934.756 62.7323 Q938.24 58.0333 938.24 49.9314 Q938.24 41.8701 934.756 37.1711 Q931.272 32.4315 925.318 32.4315 M925.318 26.1121 Q935.04 26.1121 940.59 32.4315 Q946.139 38.7509 946.139 49.9314 Q946.139 61.0714 940.59 67.4314 Q935.04 73.7508 925.318 73.7508 Q915.555 73.7508 910.005 67.4314 Q904.496 61.0714 904.496 49.9314 Q904.496 38.7509 910.005 32.4315 Q915.555 26.1121 925.318 26.1121 Z\" fill=\"#000000\" fill-rule=\"evenodd\" fill-opacity=\"1\" /><path clip-path=\"url(#clip880)\" d=\"M984.785 34.1734 Q983.529 33.4443 982.03 33.1202 Q980.572 32.7556 978.79 32.7556 Q972.47 32.7556 969.067 36.8875 Q965.705 40.9789 965.705 48.6757 L965.705 72.576 L958.211 72.576 L958.211 27.2059 L965.705 27.2059 L965.705 34.2544 Q968.055 30.1225 971.822 28.1376 Q975.589 26.1121 980.977 26.1121 Q981.747 26.1121 982.678 26.2337 Q983.61 26.3147 984.744 26.5172 L984.785 34.1734 Z\" fill=\"#000000\" fill-rule=\"evenodd\" fill-opacity=\"1\" /><path clip-path=\"url(#clip880)\" d=\"M1026.47 35.9153 Q1029.26 30.8922 1033.15 28.5022 Q1037.04 26.1121 1042.31 26.1121 Q1049.4 26.1121 1053.25 31.0947 Q1057.09 36.0368 1057.09 45.1919 L1057.09 72.576 L1049.6 72.576 L1049.6 45.4349 Q1049.6 38.913 1047.29 35.7533 Q1044.98 32.5936 1040.24 32.5936 Q1034.45 32.5936 1031.09 36.4419 Q1027.72 40.2903 1027.72 46.9338 L1027.72 72.576 L1020.23 72.576 L1020.23 45.4349 Q1020.23 38.8725 1017.92 35.7533 Q1015.61 32.5936 1010.79 32.5936 Q1005.08 32.5936 1001.72 36.4824 Q998.355 40.3308 998.355 46.9338 L998.355 72.576 L990.861 72.576 L990.861 27.2059 L998.355 27.2059 L998.355 34.2544 Q1000.91 30.082 1004.47 28.0971 Q1008.04 26.1121 1012.94 26.1121 Q1017.88 26.1121 1021.32 28.6237 Q1024.81 31.1352 1026.47 35.9153 Z\" fill=\"#000000\" fill-rule=\"evenodd\" fill-opacity=\"1\" /><path clip-path=\"url(#clip880)\" d=\"M1092.58 49.7694 Q1083.55 49.7694 1080.06 51.8354 Q1076.58 53.9013 1076.58 58.8839 Q1076.58 62.8538 1079.17 65.2034 Q1081.8 67.5124 1086.3 67.5124 Q1092.5 67.5124 1096.23 63.1374 Q1099.99 58.7219 1099.99 51.4303 L1099.99 49.7694 L1092.58 49.7694 M1107.45 46.6907 L1107.45 72.576 L1099.99 72.576 L1099.99 65.6895 Q1097.44 69.8214 1093.63 71.8063 Q1089.82 73.7508 1084.32 73.7508 Q1077.35 73.7508 1073.22 69.8619 Q1069.12 65.9325 1069.12 59.3701 Q1069.12 51.7138 1074.23 47.825 Q1079.37 43.9361 1089.54 43.9361 L1099.99 43.9361 L1099.99 43.2069 Q1099.99 38.0623 1096.59 35.2672 Q1093.23 32.4315 1087.11 32.4315 Q1083.22 32.4315 1079.54 33.3632 Q1075.85 34.295 1072.45 36.1584 L1072.45 29.2718 Q1076.54 27.692 1080.39 26.9223 Q1084.23 26.1121 1087.88 26.1121 Q1097.72 26.1121 1102.59 31.2163 Q1107.45 36.3204 1107.45 46.6907 Z\" fill=\"#000000\" fill-rule=\"evenodd\" fill-opacity=\"1\" /><path clip-path=\"url(#clip880)\" d=\"M1130.17 14.324 L1130.17 27.2059 L1145.52 27.2059 L1145.52 32.9987 L1130.17 32.9987 L1130.17 57.6282 Q1130.17 63.1779 1131.67 64.7578 Q1133.21 66.3376 1137.87 66.3376 L1145.52 66.3376 L1145.52 72.576 L1137.87 72.576 Q1129.24 72.576 1125.96 69.3758 Q1122.68 66.1351 1122.68 57.6282 L1122.68 32.9987 L1117.21 32.9987 L1117.21 27.2059 L1122.68 27.2059 L1122.68 14.324 L1130.17 14.324 Z\" fill=\"#000000\" fill-rule=\"evenodd\" fill-opacity=\"1\" /><path clip-path=\"url(#clip880)\" d=\"M1182.02 12.096 L1216.78 12.096 L1216.78 18.9825 L1190.21 18.9825 L1190.21 36.8065 L1214.19 36.8065 L1214.19 43.6931 L1190.21 43.6931 L1190.21 72.576 L1182.02 72.576 L1182.02 12.096 Z\" fill=\"#000000\" fill-rule=\"evenodd\" fill-opacity=\"1\" /><path clip-path=\"url(#clip880)\" d=\"M1223.38 27.2059 L1230.84 27.2059 L1230.84 72.576 L1223.38 72.576 L1223.38 27.2059 M1223.38 9.54393 L1230.84 9.54393 L1230.84 18.9825 L1223.38 18.9825 L1223.38 9.54393 Z\" fill=\"#000000\" fill-rule=\"evenodd\" fill-opacity=\"1\" /><path clip-path=\"url(#clip880)\" d=\"M1246.43 9.54393 L1253.89 9.54393 L1253.89 72.576 L1246.43 72.576 L1246.43 9.54393 Z\" fill=\"#000000\" fill-rule=\"evenodd\" fill-opacity=\"1\" /><path clip-path=\"url(#clip880)\" d=\"M1308.29 48.0275 L1308.29 51.6733 L1274.02 51.6733 Q1274.51 59.3701 1278.64 63.421 Q1282.81 67.4314 1290.22 67.4314 Q1294.52 67.4314 1298.53 66.3781 Q1302.58 65.3249 1306.55 63.2184 L1306.55 70.267 Q1302.54 71.9684 1298.32 72.8596 Q1294.11 73.7508 1289.78 73.7508 Q1278.92 73.7508 1272.56 67.4314 Q1266.24 61.1119 1266.24 50.3365 Q1266.24 39.1965 1272.24 32.6746 Q1278.27 26.1121 1288.48 26.1121 Q1297.64 26.1121 1302.94 32.0264 Q1308.29 37.9003 1308.29 48.0275 M1300.84 45.84 Q1300.76 39.7232 1297.39 36.0774 Q1294.07 32.4315 1288.56 32.4315 Q1282.32 32.4315 1278.56 35.9558 Q1274.83 39.4801 1274.26 45.8805 L1300.84 45.84 Z\" fill=\"#000000\" fill-rule=\"evenodd\" fill-opacity=\"1\" /><path clip-path=\"url(#clip880)\" d=\"M1383.47 14.0809 L1383.47 22.0612 Q1378.82 19.8332 1374.68 18.7395 Q1370.55 17.6457 1366.7 17.6457 Q1360.02 17.6457 1356.37 20.2383 Q1352.77 22.8309 1352.77 27.611 Q1352.77 31.6214 1355.16 33.6873 Q1357.59 35.7128 1364.31 36.9686 L1369.26 37.9813 Q1378.41 39.7232 1382.75 44.1387 Q1387.12 48.5136 1387.12 55.8863 Q1387.12 64.6767 1381.21 69.2137 Q1375.33 73.7508 1363.95 73.7508 Q1359.66 73.7508 1354.79 72.7785 Q1349.97 71.8063 1344.79 69.9024 L1344.79 61.4765 Q1349.77 64.2716 1354.55 65.6895 Q1359.33 67.1073 1363.95 67.1073 Q1370.96 67.1073 1374.77 64.3527 Q1378.57 61.598 1378.57 56.4939 Q1378.57 52.0379 1375.82 49.5264 Q1373.1 47.0148 1366.87 45.759 L1361.88 44.7868 Q1352.73 42.9639 1348.64 39.075 Q1344.55 35.1862 1344.55 28.2591 Q1344.55 20.2383 1350.18 15.6203 Q1355.85 11.0023 1365.77 11.0023 Q1370.03 11.0023 1374.44 11.7719 Q1378.86 12.5416 1383.47 14.0809 Z\" fill=\"#000000\" fill-rule=\"evenodd\" fill-opacity=\"1\" /><path clip-path=\"url(#clip880)\" d=\"M1399.56 27.2059 L1407.01 27.2059 L1407.01 72.576 L1399.56 72.576 L1399.56 27.2059 M1399.56 9.54393 L1407.01 9.54393 L1407.01 18.9825 L1399.56 18.9825 L1399.56 9.54393 Z\" fill=\"#000000\" fill-rule=\"evenodd\" fill-opacity=\"1\" /><path clip-path=\"url(#clip880)\" d=\"M1419.37 27.2059 L1454.77 27.2059 L1454.77 34.0114 L1426.74 66.6212 L1454.77 66.6212 L1454.77 72.576 L1418.35 72.576 L1418.35 65.7705 L1446.39 33.1607 L1419.37 33.1607 L1419.37 27.2059 Z\" fill=\"#000000\" fill-rule=\"evenodd\" fill-opacity=\"1\" /><path clip-path=\"url(#clip880)\" d=\"M1504.96 48.0275 L1504.96 51.6733 L1470.69 51.6733 Q1471.18 59.3701 1475.31 63.421 Q1479.48 67.4314 1486.89 67.4314 Q1491.19 67.4314 1495.2 66.3781 Q1499.25 65.3249 1503.22 63.2184 L1503.22 70.267 Q1499.21 71.9684 1495 72.8596 Q1490.78 73.7508 1486.45 73.7508 Q1475.59 73.7508 1469.23 67.4314 Q1462.91 61.1119 1462.91 50.3365 Q1462.91 39.1965 1468.91 32.6746 Q1474.94 26.1121 1485.15 26.1121 Q1494.31 26.1121 1499.61 32.0264 Q1504.96 37.9003 1504.96 48.0275 M1497.51 45.84 Q1497.43 39.7232 1494.06 36.0774 Q1490.74 32.4315 1485.23 32.4315 Q1479 32.4315 1475.23 35.9558 Q1471.5 39.4801 1470.93 45.8805 L1497.51 45.84 Z\" fill=\"#000000\" fill-rule=\"evenodd\" fill-opacity=\"1\" /><path clip-path=\"url(#clip880)\" d=\"M1561.47 9.62495 Q1556.04 18.942 1553.41 28.0566 Q1550.78 37.1711 1550.78 46.5287 Q1550.78 55.8863 1553.41 65.0818 Q1556.08 74.2369 1561.47 83.5134 L1554.99 83.5134 Q1548.91 73.9938 1545.88 64.7983 Q1542.88 55.6027 1542.88 46.5287 Q1542.88 37.4952 1545.88 28.3401 Q1548.87 19.1851 1554.99 9.62495 L1561.47 9.62495 Z\" fill=\"#000000\" fill-rule=\"evenodd\" fill-opacity=\"1\" /><path clip-path=\"url(#clip880)\" d=\"M1576.26 12.096 L1588.45 12.096 L1603.88 53.2532 L1619.4 12.096 L1631.59 12.096 L1631.59 72.576 L1623.61 72.576 L1623.61 19.4686 L1608.02 60.9499 L1599.79 60.9499 L1584.2 19.4686 L1584.2 72.576 L1576.26 72.576 L1576.26 12.096 Z\" fill=\"#000000\" fill-rule=\"evenodd\" fill-opacity=\"1\" /><path clip-path=\"url(#clip880)\" d=\"M1656.02 43.6931 L1656.02 65.8515 L1669.14 65.8515 Q1675.75 65.8515 1678.91 63.1374 Q1682.11 60.3828 1682.11 54.752 Q1682.11 49.0808 1678.91 46.4072 Q1675.75 43.6931 1669.14 43.6931 L1656.02 43.6931 M1656.02 18.8205 L1656.02 37.0496 L1668.13 37.0496 Q1674.13 37.0496 1677.04 34.8216 Q1680 32.5531 1680 27.935 Q1680 23.3575 1677.04 21.089 Q1674.13 18.8205 1668.13 18.8205 L1656.02 18.8205 M1647.84 12.096 L1668.74 12.096 Q1678.1 12.096 1683.16 15.9849 Q1688.22 19.8737 1688.22 27.0438 Q1688.22 32.5936 1685.63 35.8748 Q1683.04 39.156 1678.02 39.9662 Q1684.05 41.2625 1687.37 45.3944 Q1690.74 49.4858 1690.74 55.6432 Q1690.74 63.745 1685.23 68.1605 Q1679.72 72.576 1669.55 72.576 L1647.84 72.576 L1647.84 12.096 Z\" fill=\"#000000\" fill-rule=\"evenodd\" fill-opacity=\"1\" /><path clip-path=\"url(#clip880)\" d=\"M1703.25 9.62495 L1709.73 9.62495 Q1715.81 19.1851 1718.81 28.3401 Q1721.85 37.4952 1721.85 46.5287 Q1721.85 55.6027 1718.81 64.7983 Q1715.81 73.9938 1709.73 83.5134 L1703.25 83.5134 Q1708.64 74.2369 1711.27 65.0818 Q1713.95 55.8863 1713.95 46.5287 Q1713.95 37.1711 1711.27 28.0566 Q1708.64 18.942 1703.25 9.62495 Z\" fill=\"#000000\" fill-rule=\"evenodd\" fill-opacity=\"1\" /><path clip-path=\"url(#clip882)\" d=\"\n",
       "M349.013 1429.8 L349.013 1447.87 L609.306 1447.87 L609.306 1429.8 L349.013 1429.8 L349.013 1429.8  Z\n",
       "  \" fill=\"#009af9\" fill-rule=\"evenodd\" fill-opacity=\"1\"/>\n",
       "<polyline clip-path=\"url(#clip882)\" style=\"stroke:#000000; stroke-linecap:butt; stroke-linejoin:round; stroke-width:4; stroke-opacity:1; fill:none\" points=\"\n",
       "  349.013,1429.8 349.013,1447.87 609.306,1447.87 609.306,1429.8 349.013,1429.8 \n",
       "  \"/>\n",
       "<path clip-path=\"url(#clip882)\" d=\"\n",
       "M674.379 1393.96 L674.379 1447.87 L934.671 1447.87 L934.671 1393.96 L674.379 1393.96 L674.379 1393.96  Z\n",
       "  \" fill=\"#009af9\" fill-rule=\"evenodd\" fill-opacity=\"1\"/>\n",
       "<polyline clip-path=\"url(#clip882)\" style=\"stroke:#000000; stroke-linecap:butt; stroke-linejoin:round; stroke-width:4; stroke-opacity:1; fill:none\" points=\"\n",
       "  674.379,1393.96 674.379,1447.87 934.671,1447.87 934.671,1393.96 674.379,1393.96 \n",
       "  \"/>\n",
       "<path clip-path=\"url(#clip882)\" d=\"\n",
       "M999.744 1393.76 L999.744 1447.87 L1260.04 1447.87 L1260.04 1393.76 L999.744 1393.76 L999.744 1393.76  Z\n",
       "  \" fill=\"#009af9\" fill-rule=\"evenodd\" fill-opacity=\"1\"/>\n",
       "<polyline clip-path=\"url(#clip882)\" style=\"stroke:#000000; stroke-linecap:butt; stroke-linejoin:round; stroke-width:4; stroke-opacity:1; fill:none\" points=\"\n",
       "  999.744,1393.76 999.744,1447.87 1260.04,1447.87 1260.04,1393.76 999.744,1393.76 \n",
       "  \"/>\n",
       "<path clip-path=\"url(#clip882)\" d=\"\n",
       "M1325.11 876.807 L1325.11 1447.87 L1585.4 1447.87 L1585.4 876.807 L1325.11 876.807 L1325.11 876.807  Z\n",
       "  \" fill=\"#009af9\" fill-rule=\"evenodd\" fill-opacity=\"1\"/>\n",
       "<polyline clip-path=\"url(#clip882)\" style=\"stroke:#000000; stroke-linecap:butt; stroke-linejoin:round; stroke-width:4; stroke-opacity:1; fill:none\" points=\"\n",
       "  1325.11,876.807 1325.11,1447.87 1585.4,1447.87 1585.4,876.807 1325.11,876.807 \n",
       "  \"/>\n",
       "<path clip-path=\"url(#clip882)\" d=\"\n",
       "M1650.47 876.765 L1650.47 1447.87 L1910.77 1447.87 L1910.77 876.765 L1650.47 876.765 L1650.47 876.765  Z\n",
       "  \" fill=\"#009af9\" fill-rule=\"evenodd\" fill-opacity=\"1\"/>\n",
       "<polyline clip-path=\"url(#clip882)\" style=\"stroke:#000000; stroke-linecap:butt; stroke-linejoin:round; stroke-width:4; stroke-opacity:1; fill:none\" points=\"\n",
       "  1650.47,876.765 1650.47,1447.87 1910.77,1447.87 1910.77,876.765 1650.47,876.765 \n",
       "  \"/>\n",
       "<path clip-path=\"url(#clip882)\" d=\"\n",
       "M1975.84 162.047 L1975.84 1447.87 L2236.13 1447.87 L2236.13 162.047 L1975.84 162.047 L1975.84 162.047  Z\n",
       "  \" fill=\"#009af9\" fill-rule=\"evenodd\" fill-opacity=\"1\"/>\n",
       "<polyline clip-path=\"url(#clip882)\" style=\"stroke:#000000; stroke-linecap:butt; stroke-linejoin:round; stroke-width:4; stroke-opacity:1; fill:none\" points=\"\n",
       "  1975.84,162.047 1975.84,1447.87 2236.13,1447.87 2236.13,162.047 1975.84,162.047 \n",
       "  \"/>\n",
       "<circle clip-path=\"url(#clip882)\" style=\"fill:#009af9; stroke:none; fill-opacity:0\" cx=\"479.159\" cy=\"1429.8\" r=\"2\"/>\n",
       "<circle clip-path=\"url(#clip882)\" style=\"fill:#009af9; stroke:none; fill-opacity:0\" cx=\"804.525\" cy=\"1393.96\" r=\"2\"/>\n",
       "<circle clip-path=\"url(#clip882)\" style=\"fill:#009af9; stroke:none; fill-opacity:0\" cx=\"1129.89\" cy=\"1393.76\" r=\"2\"/>\n",
       "<circle clip-path=\"url(#clip882)\" style=\"fill:#009af9; stroke:none; fill-opacity:0\" cx=\"1455.26\" cy=\"876.807\" r=\"2\"/>\n",
       "<circle clip-path=\"url(#clip882)\" style=\"fill:#009af9; stroke:none; fill-opacity:0\" cx=\"1780.62\" cy=\"876.765\" r=\"2\"/>\n",
       "<circle clip-path=\"url(#clip882)\" style=\"fill:#009af9; stroke:none; fill-opacity:0\" cx=\"2105.99\" cy=\"162.047\" r=\"2\"/>\n",
       "<path clip-path=\"url(#clip880)\" d=\"\n",
       "M1954.81 272.585 L2282.08 272.585 L2282.08 168.905 L1954.81 168.905  Z\n",
       "  \" fill=\"#ffffff\" fill-rule=\"evenodd\" fill-opacity=\"1\"/>\n",
       "<polyline clip-path=\"url(#clip880)\" style=\"stroke:#000000; stroke-linecap:butt; stroke-linejoin:round; stroke-width:4; stroke-opacity:1; fill:none\" points=\"\n",
       "  1954.81,272.585 2282.08,272.585 2282.08,168.905 1954.81,168.905 1954.81,272.585 \n",
       "  \"/>\n",
       "<path clip-path=\"url(#clip880)\" d=\"\n",
       "M1978.37 241.481 L2119.73 241.481 L2119.73 200.009 L1978.37 200.009 L1978.37 241.481  Z\n",
       "  \" fill=\"#009af9\" fill-rule=\"evenodd\" fill-opacity=\"1\"/>\n",
       "<polyline clip-path=\"url(#clip880)\" style=\"stroke:#000000; stroke-linecap:butt; stroke-linejoin:round; stroke-width:4; stroke-opacity:1; fill:none\" points=\"\n",
       "  1978.37,241.481 2119.73,241.481 2119.73,200.009 1978.37,200.009 1978.37,241.481 \n",
       "  \"/>\n",
       "<path clip-path=\"url(#clip880)\" d=\"M2165.54 204.599 L2165.54 209.159 Q2162.87 207.886 2160.51 207.261 Q2158.15 206.636 2155.95 206.636 Q2152.13 206.636 2150.05 208.117 Q2147.99 209.599 2147.99 212.33 Q2147.99 214.622 2149.36 215.803 Q2150.75 216.96 2154.59 217.678 L2157.41 218.256 Q2162.64 219.252 2165.12 221.775 Q2167.62 224.275 2167.62 228.488 Q2167.62 233.511 2164.24 236.103 Q2160.88 238.696 2154.38 238.696 Q2151.93 238.696 2149.15 238.14 Q2146.39 237.585 2143.43 236.497 L2143.43 231.682 Q2146.28 233.279 2149.01 234.089 Q2151.74 234.9 2154.38 234.9 Q2158.38 234.9 2160.56 233.326 Q2162.74 231.752 2162.74 228.835 Q2162.74 226.289 2161.16 224.853 Q2159.61 223.418 2156.05 222.701 L2153.2 222.145 Q2147.97 221.103 2145.63 218.881 Q2143.29 216.659 2143.29 212.701 Q2143.29 208.117 2146.51 205.479 Q2149.75 202.84 2155.42 202.84 Q2157.85 202.84 2160.37 203.279 Q2162.9 203.719 2165.54 204.599 Z\" fill=\"#000000\" fill-rule=\"evenodd\" fill-opacity=\"1\" /><path clip-path=\"url(#clip880)\" d=\"M2174.73 212.099 L2178.99 212.099 L2178.99 238.025 L2174.73 238.025 L2174.73 212.099 M2174.73 202.006 L2178.99 202.006 L2178.99 207.4 L2174.73 207.4 L2174.73 202.006 Z\" fill=\"#000000\" fill-rule=\"evenodd\" fill-opacity=\"1\" /><path clip-path=\"url(#clip880)\" d=\"M2186.05 212.099 L2206.28 212.099 L2206.28 215.988 L2190.26 234.622 L2206.28 234.622 L2206.28 238.025 L2185.47 238.025 L2185.47 234.136 L2201.49 215.502 L2186.05 215.502 L2186.05 212.099 Z\" fill=\"#000000\" fill-rule=\"evenodd\" fill-opacity=\"1\" /><path clip-path=\"url(#clip880)\" d=\"M2234.96 223.997 L2234.96 226.08 L2215.37 226.08 Q2215.65 230.478 2218.01 232.793 Q2220.4 235.085 2224.63 235.085 Q2227.09 235.085 2229.38 234.483 Q2231.69 233.881 2233.96 232.677 L2233.96 236.705 Q2231.67 237.677 2229.26 238.187 Q2226.86 238.696 2224.38 238.696 Q2218.18 238.696 2214.54 235.085 Q2210.93 231.474 2210.93 225.316 Q2210.93 218.951 2214.36 215.224 Q2217.81 211.474 2223.64 211.474 Q2228.87 211.474 2231.9 214.853 Q2234.96 218.21 2234.96 223.997 M2230.7 222.747 Q2230.65 219.252 2228.73 217.168 Q2226.83 215.085 2223.68 215.085 Q2220.12 215.085 2217.97 217.099 Q2215.84 219.113 2215.51 222.77 L2230.7 222.747 Z\" fill=\"#000000\" fill-rule=\"evenodd\" fill-opacity=\"1\" /></svg>\n"
      ]
     },
     "execution_count": 40,
     "metadata": {},
     "output_type": "execute_result"
    }
   ],
   "source": [
    "@df df plot(:file, :size/1024^2, seriestype=:bar, title = \"Format File Size (MB)\", label=\"Size\", ylab=\"MB\")"
   ]
  },
  {
   "cell_type": "code",
   "execution_count": 41,
   "metadata": {
    "execution": {
     "iopub.execute_input": "2022-07-18T00:56:06.755000Z",
     "iopub.status.busy": "2022-07-18T00:56:06.755000Z",
     "iopub.status.idle": "2022-07-18T00:56:36.145000Z",
     "shell.execute_reply": "2022-07-18T00:56:36.145000Z"
    }
   },
   "outputs": [
    {
     "name": "stdout",
     "output_type": "stream",
     "text": [
      "First run\n",
      "CSV.jl\n",
      "  1.241955 seconds (767.81 k allocations: 77.641 MiB, 2.37% gc time, 38.74% compilation time)\n",
      "Serialization\n",
      "  0.509210 seconds (9.49 M allocations: 155.529 MiB, 4.94% gc time, 5.32% compilation time)\n",
      "JDF.jl\n",
      "  1.856927 seconds (328.98 k allocations: 170.314 MiB, 1.81% gc time, 92.53% compilation time)\n",
      "JLSO.jl\n",
      "  0.355795 seconds (9.51 M allocations: 157.829 MiB, 9.21% gc time, 5.18% compilation time)\n",
      "Arrow.jl\n",
      "  0.411612 seconds (488.67 k allocations: 26.124 MiB, 98.09% compilation time)\n",
      "  0.053611 seconds (12.50 k allocations: 10.358 MiB)\n",
      "JSONTables.jl arraytable\n",
      " 11.275657 seconds (240.46 k allocations: 1.338 GiB, 5.86% gc time, 0.00% compilation time)\n",
      "JSONTables.jl objecttable\n",
      "  0.472292 seconds (54.19 k allocations: 285.101 MiB, 2.06% gc time, 11.74% compilation time)\n",
      "Second run\n",
      "  0.873709 seconds (21.25 k allocations: 32.630 MiB)\n",
      "Serialization\n",
      "  0.461200 seconds (9.48 M allocations: 154.666 MiB)\n",
      "JDF.jl\n",
      "  0.129120 seconds (67.20 k allocations: 157.911 MiB, 23.15% gc time)\n",
      "JLSO.jl\n",
      "  0.311029 seconds (9.50 M allocations: 157.297 MiB)\n",
      "Arrow.jl\n",
      "  0.005541 seconds (68.52 k allocations: 3.344 MiB)\n",
      "  0.053547 seconds (12.50 k allocations: 10.358 MiB)\n",
      "JSONTables.jl arraytable\n",
      " 10.630899 seconds (240.06 k allocations: 1.338 GiB, 0.44% gc time)\n",
      "JSONTables.jl objecttable\n",
      "  0.427410 seconds (9.06 k allocations: 282.653 MiB, 6.66% gc time)\n"
     ]
    }
   ],
   "source": [
    "println(\"First run\")\n",
    "println(\"CSV.jl\")\n",
    "csvread1 = @elapsed @time CSV.read(\"bigdf1.csv\", DataFrame)\n",
    "println(\"Serialization\")\n",
    "serializeread1 = @elapsed @time open(deserialize, \"bigdf.bin\")\n",
    "println(\"JDF.jl\")\n",
    "jdfread1 = @elapsed @time JDF.load(\"bigdf.jdf\") |> DataFrame\n",
    "println(\"JLSO.jl\")\n",
    "jlsoread1 = @elapsed @time JLSO.load(\"bigdf.jlso\")\n",
    "println(\"Arrow.jl\")\n",
    "arrowread1 = @elapsed @time df_tmp = Arrow.Table(\"bigdf.arrow\") |> DataFrame\n",
    "arrowread1copy = @elapsed @time copy(df_tmp)\n",
    "println(\"JSONTables.jl arraytable\")\n",
    "jsontablesaread1 = @elapsed @time open(jsontable, \"bigdf1.json\")\n",
    "println(\"JSONTables.jl objecttable\")\n",
    "jsontablesoread1 = @elapsed @time open(jsontable, \"bigdf2.json\")\n",
    "println(\"Second run\")\n",
    "csvread2 = @elapsed @time CSV.read(\"bigdf1.csv\", DataFrame)\n",
    "println(\"Serialization\")\n",
    "serializeread2 = @elapsed @time open(deserialize, \"bigdf.bin\")\n",
    "println(\"JDF.jl\")\n",
    "jdfread2 = @elapsed @time JDF.load(\"bigdf.jdf\") |> DataFrame\n",
    "println(\"JLSO.jl\")\n",
    "jlsoread2 = @elapsed @time JLSO.load(\"bigdf.jlso\")\n",
    "println(\"Arrow.jl\")\n",
    "arrowread2 = @elapsed @time df_tmp = Arrow.Table(\"bigdf.arrow\") |> DataFrame\n",
    "arrowread2copy = @elapsed @time copy(df_tmp)\n",
    "println(\"JSONTables.jl arraytable\")\n",
    "jsontablesaread2 = @elapsed @time open(jsontable, \"bigdf1.json\")\n",
    "println(\"JSONTables.jl objecttable\")\n",
    "jsontablesoread2 = @elapsed @time open(jsontable, \"bigdf2.json\");"
   ]
  },
  {
   "cell_type": "code",
   "execution_count": 42,
   "metadata": {
    "execution": {
     "iopub.execute_input": "2022-07-18T00:56:36.149000Z",
     "iopub.status.busy": "2022-07-18T00:56:36.149000Z",
     "iopub.status.idle": "2022-07-18T00:56:36.166000Z",
     "shell.execute_reply": "2022-07-18T00:56:36.166000Z"
    }
   },
   "outputs": [
    {
     "data": {
      "image/svg+xml": [
       "<?xml version=\"1.0\" encoding=\"utf-8\"?>\n",
       "<svg xmlns=\"http://www.w3.org/2000/svg\" xmlns:xlink=\"http://www.w3.org/1999/xlink\" width=\"600\" height=\"400\" viewBox=\"0 0 2400 1600\">\n",
       "<defs>\n",
       "  <clipPath id=\"clip920\">\n",
       "    <rect x=\"0\" y=\"0\" width=\"2400\" height=\"1600\"/>\n",
       "  </clipPath>\n",
       "</defs>\n",
       "<path clip-path=\"url(#clip920)\" d=\"\n",
       "M0 1600 L2400 1600 L2400 0 L0 0  Z\n",
       "  \" fill=\"#ffffff\" fill-rule=\"evenodd\" fill-opacity=\"1\"/>\n",
       "<defs>\n",
       "  <clipPath id=\"clip921\">\n",
       "    <rect x=\"480\" y=\"0\" width=\"1681\" height=\"1600\"/>\n",
       "  </clipPath>\n",
       "</defs>\n",
       "<path clip-path=\"url(#clip920)\" d=\"\n",
       "M219.38 1451.89 L2352.76 1451.89 L2352.76 244.432 L219.38 244.432  Z\n",
       "  \" fill=\"#ffffff\" fill-rule=\"evenodd\" fill-opacity=\"1\"/>\n",
       "<defs>\n",
       "  <clipPath id=\"clip922\">\n",
       "    <rect x=\"219\" y=\"244\" width=\"2134\" height=\"1208\"/>\n",
       "  </clipPath>\n",
       "</defs>\n",
       "<polyline clip-path=\"url(#clip922)\" style=\"stroke:#000000; stroke-linecap:butt; stroke-linejoin:round; stroke-width:2; stroke-opacity:0.1; fill:none\" points=\"\n",
       "  445.609,1451.89 445.609,244.432 \n",
       "  \"/>\n",
       "<polyline clip-path=\"url(#clip922)\" style=\"stroke:#000000; stroke-linecap:butt; stroke-linejoin:round; stroke-width:2; stroke-opacity:0.1; fill:none\" points=\"\n",
       "  725.762,1451.89 725.762,244.432 \n",
       "  \"/>\n",
       "<polyline clip-path=\"url(#clip922)\" style=\"stroke:#000000; stroke-linecap:butt; stroke-linejoin:round; stroke-width:2; stroke-opacity:0.1; fill:none\" points=\"\n",
       "  1005.92,1451.89 1005.92,244.432 \n",
       "  \"/>\n",
       "<polyline clip-path=\"url(#clip922)\" style=\"stroke:#000000; stroke-linecap:butt; stroke-linejoin:round; stroke-width:2; stroke-opacity:0.1; fill:none\" points=\"\n",
       "  1286.07,1451.89 1286.07,244.432 \n",
       "  \"/>\n",
       "<polyline clip-path=\"url(#clip922)\" style=\"stroke:#000000; stroke-linecap:butt; stroke-linejoin:round; stroke-width:2; stroke-opacity:0.1; fill:none\" points=\"\n",
       "  1566.22,1451.89 1566.22,244.432 \n",
       "  \"/>\n",
       "<polyline clip-path=\"url(#clip922)\" style=\"stroke:#000000; stroke-linecap:butt; stroke-linejoin:round; stroke-width:2; stroke-opacity:0.1; fill:none\" points=\"\n",
       "  1846.37,1451.89 1846.37,244.432 \n",
       "  \"/>\n",
       "<polyline clip-path=\"url(#clip922)\" style=\"stroke:#000000; stroke-linecap:butt; stroke-linejoin:round; stroke-width:2; stroke-opacity:0.1; fill:none\" points=\"\n",
       "  2126.53,1451.89 2126.53,244.432 \n",
       "  \"/>\n",
       "<polyline clip-path=\"url(#clip920)\" style=\"stroke:#000000; stroke-linecap:butt; stroke-linejoin:round; stroke-width:4; stroke-opacity:1; fill:none\" points=\"\n",
       "  219.38,1451.89 2352.76,1451.89 \n",
       "  \"/>\n",
       "<polyline clip-path=\"url(#clip920)\" style=\"stroke:#000000; stroke-linecap:butt; stroke-linejoin:round; stroke-width:4; stroke-opacity:1; fill:none\" points=\"\n",
       "  445.609,1451.89 445.609,1432.99 \n",
       "  \"/>\n",
       "<polyline clip-path=\"url(#clip920)\" style=\"stroke:#000000; stroke-linecap:butt; stroke-linejoin:round; stroke-width:4; stroke-opacity:1; fill:none\" points=\"\n",
       "  725.762,1451.89 725.762,1432.99 \n",
       "  \"/>\n",
       "<polyline clip-path=\"url(#clip920)\" style=\"stroke:#000000; stroke-linecap:butt; stroke-linejoin:round; stroke-width:4; stroke-opacity:1; fill:none\" points=\"\n",
       "  1005.92,1451.89 1005.92,1432.99 \n",
       "  \"/>\n",
       "<polyline clip-path=\"url(#clip920)\" style=\"stroke:#000000; stroke-linecap:butt; stroke-linejoin:round; stroke-width:4; stroke-opacity:1; fill:none\" points=\"\n",
       "  1286.07,1451.89 1286.07,1432.99 \n",
       "  \"/>\n",
       "<polyline clip-path=\"url(#clip920)\" style=\"stroke:#000000; stroke-linecap:butt; stroke-linejoin:round; stroke-width:4; stroke-opacity:1; fill:none\" points=\"\n",
       "  1566.22,1451.89 1566.22,1432.99 \n",
       "  \"/>\n",
       "<polyline clip-path=\"url(#clip920)\" style=\"stroke:#000000; stroke-linecap:butt; stroke-linejoin:round; stroke-width:4; stroke-opacity:1; fill:none\" points=\"\n",
       "  1846.37,1451.89 1846.37,1432.99 \n",
       "  \"/>\n",
       "<polyline clip-path=\"url(#clip920)\" style=\"stroke:#000000; stroke-linecap:butt; stroke-linejoin:round; stroke-width:4; stroke-opacity:1; fill:none\" points=\"\n",
       "  2126.53,1451.89 2126.53,1432.99 \n",
       "  \"/>\n",
       "<path clip-path=\"url(#clip920)\" d=\"M376.663 1484.33 L370.32 1501.53 L383.029 1501.53 L376.663 1484.33 M374.024 1479.73 L379.325 1479.73 L392.496 1514.29 L387.635 1514.29 L384.487 1505.42 L368.908 1505.42 L365.76 1514.29 L360.83 1514.29 L374.024 1479.73 Z\" fill=\"#000000\" fill-rule=\"evenodd\" fill-opacity=\"1\" /><path clip-path=\"url(#clip920)\" d=\"M412.38 1492.34 Q411.663 1491.93 410.806 1491.74 Q409.973 1491.53 408.954 1491.53 Q405.343 1491.53 403.399 1493.89 Q401.478 1496.23 401.478 1500.63 L401.478 1514.29 L397.195 1514.29 L397.195 1488.36 L401.478 1488.36 L401.478 1492.39 Q402.82 1490.03 404.973 1488.89 Q407.126 1487.74 410.204 1487.74 Q410.644 1487.74 411.177 1487.81 Q411.709 1487.85 412.357 1487.97 L412.38 1492.34 Z\" fill=\"#000000\" fill-rule=\"evenodd\" fill-opacity=\"1\" /><path clip-path=\"url(#clip920)\" d=\"M431.038 1492.34 Q430.32 1491.93 429.464 1491.74 Q428.63 1491.53 427.612 1491.53 Q424.001 1491.53 422.056 1493.89 Q420.135 1496.23 420.135 1500.63 L420.135 1514.29 L415.852 1514.29 L415.852 1488.36 L420.135 1488.36 L420.135 1492.39 Q421.477 1490.03 423.63 1488.89 Q425.783 1487.74 428.862 1487.74 Q429.301 1487.74 429.834 1487.81 Q430.366 1487.85 431.014 1487.97 L431.038 1492.34 Z\" fill=\"#000000\" fill-rule=\"evenodd\" fill-opacity=\"1\" /><path clip-path=\"url(#clip920)\" d=\"M444.51 1491.35 Q441.084 1491.35 439.093 1494.03 Q437.102 1496.7 437.102 1501.35 Q437.102 1506 439.07 1508.69 Q441.061 1511.35 444.51 1511.35 Q447.912 1511.35 449.903 1508.66 Q451.894 1505.98 451.894 1501.35 Q451.894 1496.74 449.903 1494.06 Q447.912 1491.35 444.51 1491.35 M444.51 1487.74 Q450.065 1487.74 453.237 1491.35 Q456.408 1494.96 456.408 1501.35 Q456.408 1507.71 453.237 1511.35 Q450.065 1514.96 444.51 1514.96 Q438.931 1514.96 435.76 1511.35 Q432.612 1507.71 432.612 1501.35 Q432.612 1494.96 435.76 1491.35 Q438.931 1487.74 444.51 1487.74 Z\" fill=\"#000000\" fill-rule=\"evenodd\" fill-opacity=\"1\" /><path clip-path=\"url(#clip920)\" d=\"M460.991 1488.36 L465.25 1488.36 L470.574 1508.59 L475.875 1488.36 L480.898 1488.36 L486.222 1508.59 L491.523 1488.36 L495.783 1488.36 L489 1514.29 L483.977 1514.29 L478.398 1493.04 L472.797 1514.29 L467.773 1514.29 L460.991 1488.36 Z\" fill=\"#000000\" fill-rule=\"evenodd\" fill-opacity=\"1\" /><path clip-path=\"url(#clip920)\" d=\"M498.491 1508.41 L503.375 1508.41 L503.375 1514.29 L498.491 1514.29 L498.491 1508.41 Z\" fill=\"#000000\" fill-rule=\"evenodd\" fill-opacity=\"1\" /><path clip-path=\"url(#clip920)\" d=\"M512.958 1488.36 L517.218 1488.36 L517.218 1514.75 Q517.218 1519.7 515.32 1521.93 Q513.445 1524.15 509.255 1524.15 L507.634 1524.15 L507.634 1520.54 L508.769 1520.54 Q511.199 1520.54 512.079 1519.4 Q512.958 1518.29 512.958 1514.75 L512.958 1488.36 M512.958 1478.27 L517.218 1478.27 L517.218 1483.66 L512.958 1483.66 L512.958 1478.27 Z\" fill=\"#000000\" fill-rule=\"evenodd\" fill-opacity=\"1\" /><path clip-path=\"url(#clip920)\" d=\"M526.13 1478.27 L530.389 1478.27 L530.389 1514.29 L526.13 1514.29 L526.13 1478.27 Z\" fill=\"#000000\" fill-rule=\"evenodd\" fill-opacity=\"1\" /><path clip-path=\"url(#clip920)\" d=\"M656.816 1484.33 L650.473 1501.53 L663.181 1501.53 L656.816 1484.33 M654.177 1479.73 L659.478 1479.73 L672.649 1514.29 L667.788 1514.29 L664.64 1505.42 L649.061 1505.42 L645.913 1514.29 L640.983 1514.29 L654.177 1479.73 Z\" fill=\"#000000\" fill-rule=\"evenodd\" fill-opacity=\"1\" /><path clip-path=\"url(#clip920)\" d=\"M692.533 1492.34 Q691.816 1491.93 690.959 1491.74 Q690.126 1491.53 689.107 1491.53 Q685.496 1491.53 683.552 1493.89 Q681.63 1496.23 681.63 1500.63 L681.63 1514.29 L677.348 1514.29 L677.348 1488.36 L681.63 1488.36 L681.63 1492.39 Q682.973 1490.03 685.126 1488.89 Q687.279 1487.74 690.357 1487.74 Q690.797 1487.74 691.329 1487.81 Q691.862 1487.85 692.51 1487.97 L692.533 1492.34 Z\" fill=\"#000000\" fill-rule=\"evenodd\" fill-opacity=\"1\" /><path clip-path=\"url(#clip920)\" d=\"M711.19 1492.34 Q710.473 1491.93 709.616 1491.74 Q708.783 1491.53 707.765 1491.53 Q704.153 1491.53 702.209 1493.89 Q700.288 1496.23 700.288 1500.63 L700.288 1514.29 L696.005 1514.29 L696.005 1488.36 L700.288 1488.36 L700.288 1492.39 Q701.63 1490.03 703.783 1488.89 Q705.936 1487.74 709.015 1487.74 Q709.454 1487.74 709.987 1487.81 Q710.519 1487.85 711.167 1487.97 L711.19 1492.34 Z\" fill=\"#000000\" fill-rule=\"evenodd\" fill-opacity=\"1\" /><path clip-path=\"url(#clip920)\" d=\"M724.663 1491.35 Q721.237 1491.35 719.246 1494.03 Q717.255 1496.7 717.255 1501.35 Q717.255 1506 719.223 1508.69 Q721.214 1511.35 724.663 1511.35 Q728.065 1511.35 730.056 1508.66 Q732.047 1505.98 732.047 1501.35 Q732.047 1496.74 730.056 1494.06 Q728.065 1491.35 724.663 1491.35 M724.663 1487.74 Q730.218 1487.74 733.389 1491.35 Q736.561 1494.96 736.561 1501.35 Q736.561 1507.71 733.389 1511.35 Q730.218 1514.96 724.663 1514.96 Q719.084 1514.96 715.913 1511.35 Q712.765 1507.71 712.765 1501.35 Q712.765 1494.96 715.913 1491.35 Q719.084 1487.74 724.663 1487.74 Z\" fill=\"#000000\" fill-rule=\"evenodd\" fill-opacity=\"1\" /><path clip-path=\"url(#clip920)\" d=\"M741.144 1488.36 L745.403 1488.36 L750.727 1508.59 L756.028 1488.36 L761.051 1488.36 L766.375 1508.59 L771.676 1488.36 L775.936 1488.36 L769.153 1514.29 L764.13 1514.29 L758.551 1493.04 L752.95 1514.29 L747.926 1514.29 L741.144 1488.36 Z\" fill=\"#000000\" fill-rule=\"evenodd\" fill-opacity=\"1\" /><path clip-path=\"url(#clip920)\" d=\"M778.644 1508.41 L783.528 1508.41 L783.528 1514.29 L778.644 1514.29 L778.644 1508.41 Z\" fill=\"#000000\" fill-rule=\"evenodd\" fill-opacity=\"1\" /><path clip-path=\"url(#clip920)\" d=\"M793.111 1488.36 L797.371 1488.36 L797.371 1514.75 Q797.371 1519.7 795.472 1521.93 Q793.597 1524.15 789.408 1524.15 L787.787 1524.15 L787.787 1520.54 L788.922 1520.54 Q791.352 1520.54 792.232 1519.4 Q793.111 1518.29 793.111 1514.75 L793.111 1488.36 M793.111 1478.27 L797.371 1478.27 L797.371 1483.66 L793.111 1483.66 L793.111 1478.27 Z\" fill=\"#000000\" fill-rule=\"evenodd\" fill-opacity=\"1\" /><path clip-path=\"url(#clip920)\" d=\"M806.283 1478.27 L810.542 1478.27 L810.542 1514.29 L806.283 1514.29 L806.283 1478.27 Z\" fill=\"#000000\" fill-rule=\"evenodd\" fill-opacity=\"1\" /><path clip-path=\"url(#clip920)\" d=\"M691.677 1541.2 L691.677 1545.18 Q689.871 1544.18 688.042 1543.7 Q686.237 1543.19 684.385 1543.19 Q680.242 1543.19 677.95 1545.83 Q675.658 1548.44 675.658 1553.19 Q675.658 1557.93 677.95 1560.57 Q680.242 1563.19 684.385 1563.19 Q686.237 1563.19 688.042 1562.7 Q689.871 1562.19 691.677 1561.2 L691.677 1565.13 Q689.894 1565.97 687.973 1566.38 Q686.075 1566.8 683.922 1566.8 Q678.066 1566.8 674.617 1563.12 Q671.168 1559.44 671.168 1553.19 Q671.168 1546.85 674.64 1543.21 Q678.135 1539.58 684.2 1539.58 Q686.167 1539.58 688.042 1539.99 Q689.917 1540.39 691.677 1541.2 Z\" fill=\"#000000\" fill-rule=\"evenodd\" fill-opacity=\"1\" /><path clip-path=\"url(#clip920)\" d=\"M709.13 1543.19 Q705.704 1543.19 703.714 1545.87 Q701.723 1548.54 701.723 1553.19 Q701.723 1557.84 703.691 1560.53 Q705.681 1563.19 709.13 1563.19 Q712.533 1563.19 714.524 1560.5 Q716.515 1557.82 716.515 1553.19 Q716.515 1548.58 714.524 1545.9 Q712.533 1543.19 709.13 1543.19 M709.13 1539.58 Q714.686 1539.58 717.857 1543.19 Q721.028 1546.8 721.028 1553.19 Q721.028 1559.55 717.857 1563.19 Q714.686 1566.8 709.13 1566.8 Q703.552 1566.8 700.38 1563.19 Q697.232 1559.55 697.232 1553.19 Q697.232 1546.8 700.38 1543.19 Q703.552 1539.58 709.13 1539.58 Z\" fill=\"#000000\" fill-rule=\"evenodd\" fill-opacity=\"1\" /><path clip-path=\"url(#clip920)\" d=\"M732.209 1562.24 L732.209 1575.99 L727.927 1575.99 L727.927 1540.2 L732.209 1540.2 L732.209 1544.14 Q733.551 1541.82 735.589 1540.71 Q737.649 1539.58 740.496 1539.58 Q745.218 1539.58 748.158 1543.33 Q751.121 1547.08 751.121 1553.19 Q751.121 1559.3 748.158 1563.05 Q745.218 1566.8 740.496 1566.8 Q737.649 1566.8 735.589 1565.69 Q733.551 1564.55 732.209 1562.24 M746.7 1553.19 Q746.7 1548.49 744.755 1545.83 Q742.834 1543.14 739.454 1543.14 Q736.075 1543.14 734.13 1545.83 Q732.209 1548.49 732.209 1553.19 Q732.209 1557.89 734.13 1560.57 Q736.075 1563.23 739.454 1563.23 Q742.834 1563.23 744.755 1560.57 Q746.7 1557.89 746.7 1553.19 Z\" fill=\"#000000\" fill-rule=\"evenodd\" fill-opacity=\"1\" /><path clip-path=\"url(#clip920)\" d=\"M768.968 1568.54 Q767.162 1573.16 765.449 1574.58 Q763.737 1575.99 760.866 1575.99 L757.463 1575.99 L757.463 1572.42 L759.963 1572.42 Q761.723 1572.42 762.695 1571.59 Q763.667 1570.76 764.848 1567.66 L765.612 1565.71 L755.125 1540.2 L759.639 1540.2 L767.741 1560.48 L775.843 1540.2 L780.357 1540.2 L768.968 1568.54 Z\" fill=\"#000000\" fill-rule=\"evenodd\" fill-opacity=\"1\" /><path clip-path=\"url(#clip920)\" d=\"M971.876 1482.39 L971.876 1487.32 Q969.515 1485.12 966.83 1484.03 Q964.168 1482.95 961.158 1482.95 Q955.233 1482.95 952.084 1486.58 Q948.936 1490.19 948.936 1497.04 Q948.936 1503.87 952.084 1507.51 Q955.233 1511.12 961.158 1511.12 Q964.168 1511.12 966.83 1510.03 Q969.515 1508.94 971.876 1506.74 L971.876 1511.63 Q969.422 1513.29 966.668 1514.13 Q963.936 1514.96 960.881 1514.96 Q953.033 1514.96 948.52 1510.17 Q944.006 1505.35 944.006 1497.04 Q944.006 1488.71 948.52 1483.92 Q953.033 1479.1 960.881 1479.1 Q963.982 1479.1 966.714 1479.94 Q969.469 1480.75 971.876 1482.39 Z\" fill=\"#000000\" fill-rule=\"evenodd\" fill-opacity=\"1\" /><path clip-path=\"url(#clip920)\" d=\"M999.816 1480.86 L999.816 1485.42 Q997.154 1484.15 994.792 1483.52 Q992.431 1482.9 990.232 1482.9 Q986.413 1482.9 984.33 1484.38 Q982.269 1485.86 982.269 1488.59 Q982.269 1490.89 983.635 1492.07 Q985.024 1493.22 988.867 1493.94 L991.691 1494.52 Q996.922 1495.51 999.399 1498.04 Q1001.9 1500.54 1001.9 1504.75 Q1001.9 1509.77 998.519 1512.37 Q995.163 1514.96 988.658 1514.96 Q986.205 1514.96 983.427 1514.4 Q980.672 1513.85 977.709 1512.76 L977.709 1507.95 Q980.556 1509.54 983.288 1510.35 Q986.019 1511.16 988.658 1511.16 Q992.663 1511.16 994.839 1509.59 Q997.015 1508.01 997.015 1505.1 Q997.015 1502.55 995.441 1501.12 Q993.89 1499.68 990.325 1498.96 L987.478 1498.41 Q982.246 1497.37 979.908 1495.14 Q977.57 1492.92 977.57 1488.96 Q977.57 1484.38 980.788 1481.74 Q984.029 1479.1 989.7 1479.1 Q992.13 1479.1 994.654 1479.54 Q997.177 1479.98 999.816 1480.86 Z\" fill=\"#000000\" fill-rule=\"evenodd\" fill-opacity=\"1\" /><path clip-path=\"url(#clip920)\" d=\"M1018.1 1514.29 L1004.91 1479.73 L1009.79 1479.73 L1020.74 1508.82 L1031.71 1479.73 L1036.57 1479.73 L1023.4 1514.29 L1018.1 1514.29 Z\" fill=\"#000000\" fill-rule=\"evenodd\" fill-opacity=\"1\" /><path clip-path=\"url(#clip920)\" d=\"M1035.93 1508.41 L1040.81 1508.41 L1040.81 1514.29 L1035.93 1514.29 L1035.93 1508.41 Z\" fill=\"#000000\" fill-rule=\"evenodd\" fill-opacity=\"1\" /><path clip-path=\"url(#clip920)\" d=\"M1050.39 1488.36 L1054.65 1488.36 L1054.65 1514.75 Q1054.65 1519.7 1052.76 1521.93 Q1050.88 1524.15 1046.69 1524.15 L1045.07 1524.15 L1045.07 1520.54 L1046.2 1520.54 Q1048.63 1520.54 1049.51 1519.4 Q1050.39 1518.29 1050.39 1514.75 L1050.39 1488.36 M1050.39 1478.27 L1054.65 1478.27 L1054.65 1483.66 L1050.39 1483.66 L1050.39 1478.27 Z\" fill=\"#000000\" fill-rule=\"evenodd\" fill-opacity=\"1\" /><path clip-path=\"url(#clip920)\" d=\"M1063.57 1478.27 L1067.82 1478.27 L1067.82 1514.29 L1063.57 1514.29 L1063.57 1478.27 Z\" fill=\"#000000\" fill-rule=\"evenodd\" fill-opacity=\"1\" /><path clip-path=\"url(#clip920)\" d=\"M1238.39 1479.73 L1243.07 1479.73 L1243.07 1511.88 Q1243.07 1518.13 1240.69 1520.95 Q1238.33 1523.78 1233.07 1523.78 L1231.29 1523.78 L1231.29 1519.84 L1232.75 1519.84 Q1235.85 1519.84 1237.12 1518.11 Q1238.39 1516.37 1238.39 1511.88 L1238.39 1479.73 Z\" fill=\"#000000\" fill-rule=\"evenodd\" fill-opacity=\"1\" /><path clip-path=\"url(#clip920)\" d=\"M1257.05 1483.57 L1257.05 1510.45 L1262.7 1510.45 Q1269.85 1510.45 1273.16 1507.2 Q1276.5 1503.96 1276.5 1496.97 Q1276.5 1490.03 1273.16 1486.81 Q1269.85 1483.57 1262.7 1483.57 L1257.05 1483.57 M1252.38 1479.73 L1261.98 1479.73 Q1272.03 1479.73 1276.73 1483.92 Q1281.43 1488.08 1281.43 1496.97 Q1281.43 1505.91 1276.7 1510.1 Q1271.98 1514.29 1261.98 1514.29 L1252.38 1514.29 L1252.38 1479.73 Z\" fill=\"#000000\" fill-rule=\"evenodd\" fill-opacity=\"1\" /><path clip-path=\"url(#clip920)\" d=\"M1288.88 1479.73 L1308.74 1479.73 L1308.74 1483.66 L1293.56 1483.66 L1293.56 1493.85 L1307.26 1493.85 L1307.26 1497.78 L1293.56 1497.78 L1293.56 1514.29 L1288.88 1514.29 L1288.88 1479.73 Z\" fill=\"#000000\" fill-rule=\"evenodd\" fill-opacity=\"1\" /><path clip-path=\"url(#clip920)\" d=\"M1308.95 1508.41 L1313.83 1508.41 L1313.83 1514.29 L1308.95 1514.29 L1308.95 1508.41 Z\" fill=\"#000000\" fill-rule=\"evenodd\" fill-opacity=\"1\" /><path clip-path=\"url(#clip920)\" d=\"M1323.42 1488.36 L1327.68 1488.36 L1327.68 1514.75 Q1327.68 1519.7 1325.78 1521.93 Q1323.9 1524.15 1319.71 1524.15 L1318.09 1524.15 L1318.09 1520.54 L1319.23 1520.54 Q1321.66 1520.54 1322.54 1519.4 Q1323.42 1518.29 1323.42 1514.75 L1323.42 1488.36 M1323.42 1478.27 L1327.68 1478.27 L1327.68 1483.66 L1323.42 1483.66 L1323.42 1478.27 Z\" fill=\"#000000\" fill-rule=\"evenodd\" fill-opacity=\"1\" /><path clip-path=\"url(#clip920)\" d=\"M1336.59 1478.27 L1340.85 1478.27 L1340.85 1514.29 L1336.59 1514.29 L1336.59 1478.27 Z\" fill=\"#000000\" fill-rule=\"evenodd\" fill-opacity=\"1\" /><path clip-path=\"url(#clip920)\" d=\"M1500.68 1479.73 L1505.35 1479.73 L1505.35 1511.88 Q1505.35 1518.13 1502.97 1520.95 Q1500.61 1523.78 1495.35 1523.78 L1493.57 1523.78 L1493.57 1519.84 L1495.03 1519.84 Q1498.13 1519.84 1499.4 1518.11 Q1500.68 1516.37 1500.68 1511.88 L1500.68 1479.73 Z\" fill=\"#000000\" fill-rule=\"evenodd\" fill-opacity=\"1\" /><path clip-path=\"url(#clip920)\" d=\"M1514.66 1479.73 L1519.33 1479.73 L1519.33 1510.35 L1536.16 1510.35 L1536.16 1514.29 L1514.66 1514.29 L1514.66 1479.73 Z\" fill=\"#000000\" fill-rule=\"evenodd\" fill-opacity=\"1\" /><path clip-path=\"url(#clip920)\" d=\"M1561.79 1480.86 L1561.79 1485.42 Q1559.13 1484.15 1556.76 1483.52 Q1554.4 1482.9 1552.2 1482.9 Q1548.39 1482.9 1546.3 1484.38 Q1544.24 1485.86 1544.24 1488.59 Q1544.24 1490.89 1545.61 1492.07 Q1547 1493.22 1550.84 1493.94 L1553.66 1494.52 Q1558.89 1495.51 1561.37 1498.04 Q1563.87 1500.54 1563.87 1504.75 Q1563.87 1509.77 1560.49 1512.37 Q1557.14 1514.96 1550.63 1514.96 Q1548.18 1514.96 1545.4 1514.4 Q1542.64 1513.85 1539.68 1512.76 L1539.68 1507.95 Q1542.53 1509.54 1545.26 1510.35 Q1547.99 1511.16 1550.63 1511.16 Q1554.64 1511.16 1556.81 1509.59 Q1558.99 1508.01 1558.99 1505.1 Q1558.99 1502.55 1557.41 1501.12 Q1555.86 1499.68 1552.3 1498.96 L1549.45 1498.41 Q1544.22 1497.37 1541.88 1495.14 Q1539.54 1492.92 1539.54 1488.96 Q1539.54 1484.38 1542.76 1481.74 Q1546 1479.1 1551.67 1479.1 Q1554.1 1479.1 1556.63 1479.54 Q1559.15 1479.98 1561.79 1480.86 Z\" fill=\"#000000\" fill-rule=\"evenodd\" fill-opacity=\"1\" /><path clip-path=\"url(#clip920)\" d=\"M1585.19 1482.9 Q1580.1 1482.9 1577.09 1486.7 Q1574.1 1490.49 1574.1 1497.04 Q1574.1 1503.57 1577.09 1507.37 Q1580.1 1511.16 1585.19 1511.16 Q1590.28 1511.16 1593.25 1507.37 Q1596.23 1503.57 1596.23 1497.04 Q1596.23 1490.49 1593.25 1486.7 Q1590.28 1482.9 1585.19 1482.9 M1585.19 1479.1 Q1592.46 1479.1 1596.81 1483.99 Q1601.16 1488.85 1601.16 1497.04 Q1601.16 1505.21 1596.81 1510.1 Q1592.46 1514.96 1585.19 1514.96 Q1577.9 1514.96 1573.52 1510.1 Q1569.17 1505.24 1569.17 1497.04 Q1569.17 1488.85 1573.52 1483.99 Q1577.9 1479.1 1585.19 1479.1 Z\" fill=\"#000000\" fill-rule=\"evenodd\" fill-opacity=\"1\" /><path clip-path=\"url(#clip920)\" d=\"M1606.97 1508.41 L1611.86 1508.41 L1611.86 1514.29 L1606.97 1514.29 L1606.97 1508.41 Z\" fill=\"#000000\" fill-rule=\"evenodd\" fill-opacity=\"1\" /><path clip-path=\"url(#clip920)\" d=\"M1621.44 1488.36 L1625.7 1488.36 L1625.7 1514.75 Q1625.7 1519.7 1623.8 1521.93 Q1621.93 1524.15 1617.74 1524.15 L1616.12 1524.15 L1616.12 1520.54 L1617.25 1520.54 Q1619.68 1520.54 1620.56 1519.4 Q1621.44 1518.29 1621.44 1514.75 L1621.44 1488.36 M1621.44 1478.27 L1625.7 1478.27 L1625.7 1483.66 L1621.44 1483.66 L1621.44 1478.27 Z\" fill=\"#000000\" fill-rule=\"evenodd\" fill-opacity=\"1\" /><path clip-path=\"url(#clip920)\" d=\"M1634.61 1478.27 L1638.87 1478.27 L1638.87 1514.29 L1634.61 1514.29 L1634.61 1478.27 Z\" fill=\"#000000\" fill-rule=\"evenodd\" fill-opacity=\"1\" /><path clip-path=\"url(#clip920)\" d=\"M1796.15 1479.73 L1800.83 1479.73 L1800.83 1511.88 Q1800.83 1518.13 1798.45 1520.95 Q1796.08 1523.78 1790.83 1523.78 L1789.05 1523.78 L1789.05 1519.84 L1790.51 1519.84 Q1793.61 1519.84 1794.88 1518.11 Q1796.15 1516.37 1796.15 1511.88 L1796.15 1479.73 Z\" fill=\"#000000\" fill-rule=\"evenodd\" fill-opacity=\"1\" /><path clip-path=\"url(#clip920)\" d=\"M1830.85 1480.86 L1830.85 1485.42 Q1828.19 1484.15 1825.83 1483.52 Q1823.47 1482.9 1821.27 1482.9 Q1817.45 1482.9 1815.37 1484.38 Q1813.31 1485.86 1813.31 1488.59 Q1813.31 1490.89 1814.67 1492.07 Q1816.06 1493.22 1819.9 1493.94 L1822.73 1494.52 Q1827.96 1495.51 1830.44 1498.04 Q1832.94 1500.54 1832.94 1504.75 Q1832.94 1509.77 1829.56 1512.37 Q1826.2 1514.96 1819.7 1514.96 Q1817.24 1514.96 1814.46 1514.4 Q1811.71 1513.85 1808.75 1512.76 L1808.75 1507.95 Q1811.59 1509.54 1814.33 1510.35 Q1817.06 1511.16 1819.7 1511.16 Q1823.7 1511.16 1825.88 1509.59 Q1828.05 1508.01 1828.05 1505.1 Q1828.05 1502.55 1826.48 1501.12 Q1824.93 1499.68 1821.36 1498.96 L1818.52 1498.41 Q1813.28 1497.37 1810.95 1495.14 Q1808.61 1492.92 1808.61 1488.96 Q1808.61 1484.38 1811.83 1481.74 Q1815.07 1479.1 1820.74 1479.1 Q1823.17 1479.1 1825.69 1479.54 Q1828.21 1479.98 1830.85 1480.86 Z\" fill=\"#000000\" fill-rule=\"evenodd\" fill-opacity=\"1\" /><path clip-path=\"url(#clip920)\" d=\"M1854.26 1482.9 Q1849.16 1482.9 1846.15 1486.7 Q1843.17 1490.49 1843.17 1497.04 Q1843.17 1503.57 1846.15 1507.37 Q1849.16 1511.16 1854.26 1511.16 Q1859.35 1511.16 1862.31 1507.37 Q1865.3 1503.57 1865.3 1497.04 Q1865.3 1490.49 1862.31 1486.7 Q1859.35 1482.9 1854.26 1482.9 M1854.26 1479.1 Q1861.52 1479.1 1865.88 1483.99 Q1870.23 1488.85 1870.23 1497.04 Q1870.23 1505.21 1865.88 1510.1 Q1861.52 1514.96 1854.26 1514.96 Q1846.96 1514.96 1842.59 1510.1 Q1838.24 1505.24 1838.24 1497.04 Q1838.24 1488.85 1842.59 1483.99 Q1846.96 1479.1 1854.26 1479.1 Z\" fill=\"#000000\" fill-rule=\"evenodd\" fill-opacity=\"1\" /><path clip-path=\"url(#clip920)\" d=\"M1877.54 1479.73 L1883.84 1479.73 L1899.16 1508.64 L1899.16 1479.73 L1903.7 1479.73 L1903.7 1514.29 L1897.4 1514.29 L1882.08 1485.38 L1882.08 1514.29 L1877.54 1514.29 L1877.54 1479.73 Z\" fill=\"#000000\" fill-rule=\"evenodd\" fill-opacity=\"1\" /><path clip-path=\"url(#clip920)\" d=\"M1727.76 1543.19 Q1724.34 1543.19 1722.35 1545.87 Q1720.36 1548.54 1720.36 1553.19 Q1720.36 1557.84 1722.32 1560.53 Q1724.31 1563.19 1727.76 1563.19 Q1731.17 1563.19 1733.16 1560.5 Q1735.15 1557.82 1735.15 1553.19 Q1735.15 1548.58 1733.16 1545.9 Q1731.17 1543.19 1727.76 1543.19 M1727.76 1539.58 Q1733.32 1539.58 1736.49 1543.19 Q1739.66 1546.8 1739.66 1553.19 Q1739.66 1559.55 1736.49 1563.19 Q1733.32 1566.8 1727.76 1566.8 Q1722.18 1566.8 1719.01 1563.19 Q1715.87 1559.55 1715.87 1553.19 Q1715.87 1546.8 1719.01 1543.19 Q1722.18 1539.58 1727.76 1539.58 Z\" fill=\"#000000\" fill-rule=\"evenodd\" fill-opacity=\"1\" /><path clip-path=\"url(#clip920)\" d=\"M1765.33 1553.19 Q1765.33 1548.49 1763.39 1545.83 Q1761.47 1543.14 1758.09 1543.14 Q1754.71 1543.14 1752.76 1545.83 Q1750.84 1548.49 1750.84 1553.19 Q1750.84 1557.89 1752.76 1560.57 Q1754.71 1563.23 1758.09 1563.23 Q1761.47 1563.23 1763.39 1560.57 Q1765.33 1557.89 1765.33 1553.19 M1750.84 1544.14 Q1752.18 1541.82 1754.22 1540.71 Q1756.28 1539.58 1759.13 1539.58 Q1763.85 1539.58 1766.79 1543.33 Q1769.75 1547.08 1769.75 1553.19 Q1769.75 1559.3 1766.79 1563.05 Q1763.85 1566.8 1759.13 1566.8 Q1756.28 1566.8 1754.22 1565.69 Q1752.18 1564.55 1750.84 1562.24 L1750.84 1566.13 L1746.56 1566.13 L1746.56 1530.11 L1750.84 1530.11 L1750.84 1544.14 Z\" fill=\"#000000\" fill-rule=\"evenodd\" fill-opacity=\"1\" /><path clip-path=\"url(#clip920)\" d=\"M1776.81 1540.2 L1781.07 1540.2 L1781.07 1566.59 Q1781.07 1571.54 1779.18 1573.77 Q1777.3 1575.99 1773.11 1575.99 L1771.49 1575.99 L1771.49 1572.38 L1772.62 1572.38 Q1775.05 1572.38 1775.93 1571.24 Q1776.81 1570.13 1776.81 1566.59 L1776.81 1540.2 M1776.81 1530.11 L1781.07 1530.11 L1781.07 1535.5 L1776.81 1535.5 L1776.81 1530.11 Z\" fill=\"#000000\" fill-rule=\"evenodd\" fill-opacity=\"1\" /><path clip-path=\"url(#clip920)\" d=\"M1812.16 1552.1 L1812.16 1554.18 L1792.58 1554.18 Q1792.86 1558.58 1795.22 1560.9 Q1797.6 1563.19 1801.84 1563.19 Q1804.29 1563.19 1806.58 1562.59 Q1808.9 1561.98 1811.17 1560.78 L1811.17 1564.81 Q1808.87 1565.78 1806.47 1566.29 Q1804.06 1566.8 1801.58 1566.8 Q1795.38 1566.8 1791.74 1563.19 Q1788.13 1559.58 1788.13 1553.42 Q1788.13 1547.05 1791.56 1543.33 Q1795.01 1539.58 1800.84 1539.58 Q1806.07 1539.58 1809.11 1542.96 Q1812.16 1546.31 1812.16 1552.1 M1807.9 1550.85 Q1807.86 1547.35 1805.93 1545.27 Q1804.04 1543.19 1800.89 1543.19 Q1797.32 1543.19 1795.17 1545.2 Q1793.04 1547.22 1792.72 1550.87 L1807.9 1550.85 Z\" fill=\"#000000\" fill-rule=\"evenodd\" fill-opacity=\"1\" /><path clip-path=\"url(#clip920)\" d=\"M1837.81 1541.2 L1837.81 1545.18 Q1836 1544.18 1834.17 1543.7 Q1832.37 1543.19 1830.52 1543.19 Q1826.37 1543.19 1824.08 1545.83 Q1821.79 1548.44 1821.79 1553.19 Q1821.79 1557.93 1824.08 1560.57 Q1826.37 1563.19 1830.52 1563.19 Q1832.37 1563.19 1834.17 1562.7 Q1836 1562.19 1837.81 1561.2 L1837.81 1565.13 Q1836.03 1565.97 1834.11 1566.38 Q1832.21 1566.8 1830.05 1566.8 Q1824.2 1566.8 1820.75 1563.12 Q1817.3 1559.44 1817.3 1553.19 Q1817.3 1546.85 1820.77 1543.21 Q1824.27 1539.58 1830.33 1539.58 Q1832.3 1539.58 1834.17 1539.99 Q1836.05 1540.39 1837.81 1541.2 Z\" fill=\"#000000\" fill-rule=\"evenodd\" fill-opacity=\"1\" /><path clip-path=\"url(#clip920)\" d=\"M1849.43 1532.84 L1849.43 1540.2 L1858.2 1540.2 L1858.2 1543.51 L1849.43 1543.51 L1849.43 1557.59 Q1849.43 1560.76 1850.29 1561.66 Q1851.17 1562.56 1853.83 1562.56 L1858.2 1562.56 L1858.2 1566.13 L1853.83 1566.13 Q1848.9 1566.13 1847.02 1564.3 Q1845.15 1562.45 1845.15 1557.59 L1845.15 1543.51 L1842.02 1543.51 L1842.02 1540.2 L1845.15 1540.2 L1845.15 1532.84 L1849.43 1532.84 Z\" fill=\"#000000\" fill-rule=\"evenodd\" fill-opacity=\"1\" /><path clip-path=\"url(#clip920)\" d=\"M1868.02 1532.84 L1868.02 1540.2 L1876.79 1540.2 L1876.79 1543.51 L1868.02 1543.51 L1868.02 1557.59 Q1868.02 1560.76 1868.87 1561.66 Q1869.75 1562.56 1872.42 1562.56 L1876.79 1562.56 L1876.79 1566.13 L1872.42 1566.13 Q1867.48 1566.13 1865.61 1564.3 Q1863.73 1562.45 1863.73 1557.59 L1863.73 1543.51 L1860.61 1543.51 L1860.61 1540.2 L1863.73 1540.2 L1863.73 1532.84 L1868.02 1532.84 Z\" fill=\"#000000\" fill-rule=\"evenodd\" fill-opacity=\"1\" /><path clip-path=\"url(#clip920)\" d=\"M1894.17 1553.1 Q1889.01 1553.1 1887.02 1554.28 Q1885.03 1555.46 1885.03 1558.3 Q1885.03 1560.57 1886.51 1561.91 Q1888.02 1563.23 1890.59 1563.23 Q1894.13 1563.23 1896.26 1560.73 Q1898.41 1558.21 1898.41 1554.04 L1898.41 1553.1 L1894.17 1553.1 M1902.67 1551.34 L1902.67 1566.13 L1898.41 1566.13 L1898.41 1562.19 Q1896.95 1564.55 1894.78 1565.69 Q1892.6 1566.8 1889.45 1566.8 Q1885.47 1566.8 1883.11 1564.58 Q1880.77 1562.33 1880.77 1558.58 Q1880.77 1554.21 1883.69 1551.98 Q1886.63 1549.76 1892.44 1549.76 L1898.41 1549.76 L1898.41 1549.35 Q1898.41 1546.41 1896.47 1544.81 Q1894.54 1543.19 1891.05 1543.19 Q1888.83 1543.19 1886.72 1543.72 Q1884.61 1544.25 1882.67 1545.32 L1882.67 1541.38 Q1885.01 1540.48 1887.21 1540.04 Q1889.41 1539.58 1891.49 1539.58 Q1897.11 1539.58 1899.89 1542.49 Q1902.67 1545.41 1902.67 1551.34 Z\" fill=\"#000000\" fill-rule=\"evenodd\" fill-opacity=\"1\" /><path clip-path=\"url(#clip920)\" d=\"M1930.05 1553.19 Q1930.05 1548.49 1928.11 1545.83 Q1926.19 1543.14 1922.81 1543.14 Q1919.43 1543.14 1917.48 1545.83 Q1915.56 1548.49 1915.56 1553.19 Q1915.56 1557.89 1917.48 1560.57 Q1919.43 1563.23 1922.81 1563.23 Q1926.19 1563.23 1928.11 1560.57 Q1930.05 1557.89 1930.05 1553.19 M1915.56 1544.14 Q1916.91 1541.82 1918.94 1540.71 Q1921 1539.58 1923.85 1539.58 Q1928.57 1539.58 1931.51 1543.33 Q1934.48 1547.08 1934.48 1553.19 Q1934.48 1559.3 1931.51 1563.05 Q1928.57 1566.8 1923.85 1566.8 Q1921 1566.8 1918.94 1565.69 Q1916.91 1564.55 1915.56 1562.24 L1915.56 1566.13 L1911.28 1566.13 L1911.28 1530.11 L1915.56 1530.11 L1915.56 1544.14 Z\" fill=\"#000000\" fill-rule=\"evenodd\" fill-opacity=\"1\" /><path clip-path=\"url(#clip920)\" d=\"M1941.54 1530.11 L1945.79 1530.11 L1945.79 1566.13 L1941.54 1566.13 L1941.54 1530.11 Z\" fill=\"#000000\" fill-rule=\"evenodd\" fill-opacity=\"1\" /><path clip-path=\"url(#clip920)\" d=\"M1976.88 1552.1 L1976.88 1554.18 L1957.3 1554.18 Q1957.58 1558.58 1959.94 1560.9 Q1962.32 1563.19 1966.56 1563.19 Q1969.01 1563.19 1971.3 1562.59 Q1973.62 1561.98 1975.89 1560.78 L1975.89 1564.81 Q1973.6 1565.78 1971.19 1566.29 Q1968.78 1566.8 1966.3 1566.8 Q1960.1 1566.8 1956.47 1563.19 Q1952.85 1559.58 1952.85 1553.42 Q1952.85 1547.05 1956.28 1543.33 Q1959.73 1539.58 1965.56 1539.58 Q1970.79 1539.58 1973.83 1542.96 Q1976.88 1546.31 1976.88 1552.1 M1972.62 1550.85 Q1972.58 1547.35 1970.66 1545.27 Q1968.76 1543.19 1965.61 1543.19 Q1962.04 1543.19 1959.89 1545.2 Q1957.76 1547.22 1957.44 1550.87 L1972.62 1550.85 Z\" fill=\"#000000\" fill-rule=\"evenodd\" fill-opacity=\"1\" /><path clip-path=\"url(#clip920)\" d=\"M2006.32 1480.86 L2006.32 1485.42 Q2003.66 1484.15 2001.3 1483.52 Q1998.93 1482.9 1996.74 1482.9 Q1992.92 1482.9 1990.83 1484.38 Q1988.77 1485.86 1988.77 1488.59 Q1988.77 1490.89 1990.14 1492.07 Q1991.53 1493.22 1995.37 1493.94 L1998.19 1494.52 Q2003.43 1495.51 2005.9 1498.04 Q2008.4 1500.54 2008.4 1504.75 Q2008.4 1509.77 2005.02 1512.37 Q2001.67 1514.96 1995.16 1514.96 Q1992.71 1514.96 1989.93 1514.4 Q1987.18 1513.85 1984.21 1512.76 L1984.21 1507.95 Q1987.06 1509.54 1989.79 1510.35 Q1992.52 1511.16 1995.16 1511.16 Q1999.17 1511.16 2001.34 1509.59 Q2003.52 1508.01 2003.52 1505.1 Q2003.52 1502.55 2001.94 1501.12 Q2000.39 1499.68 1996.83 1498.96 L1993.98 1498.41 Q1988.75 1497.37 1986.41 1495.14 Q1984.07 1492.92 1984.07 1488.96 Q1984.07 1484.38 1987.29 1481.74 Q1990.53 1479.1 1996.2 1479.1 Q1998.63 1479.1 2001.16 1479.54 Q2003.68 1479.98 2006.32 1480.86 Z\" fill=\"#000000\" fill-rule=\"evenodd\" fill-opacity=\"1\" /><path clip-path=\"url(#clip920)\" d=\"M2037.68 1500.26 L2037.68 1502.34 L2018.1 1502.34 Q2018.38 1506.74 2020.74 1509.06 Q2023.12 1511.35 2027.36 1511.35 Q2029.81 1511.35 2032.11 1510.75 Q2034.42 1510.14 2036.69 1508.94 L2036.69 1512.97 Q2034.4 1513.94 2031.99 1514.45 Q2029.58 1514.96 2027.11 1514.96 Q2020.9 1514.96 2017.27 1511.35 Q2013.66 1507.74 2013.66 1501.58 Q2013.66 1495.21 2017.08 1491.49 Q2020.53 1487.74 2026.37 1487.74 Q2031.6 1487.74 2034.63 1491.12 Q2037.68 1494.47 2037.68 1500.26 M2033.43 1499.01 Q2033.38 1495.51 2031.46 1493.43 Q2029.56 1491.35 2026.41 1491.35 Q2022.85 1491.35 2020.69 1493.36 Q2018.56 1495.38 2018.24 1499.03 L2033.43 1499.01 Z\" fill=\"#000000\" fill-rule=\"evenodd\" fill-opacity=\"1\" /><path clip-path=\"url(#clip920)\" d=\"M2059.7 1492.34 Q2058.98 1491.93 2058.12 1491.74 Q2057.29 1491.53 2056.27 1491.53 Q2052.66 1491.53 2050.72 1493.89 Q2048.8 1496.23 2048.8 1500.63 L2048.8 1514.29 L2044.51 1514.29 L2044.51 1488.36 L2048.8 1488.36 L2048.8 1492.39 Q2050.14 1490.03 2052.29 1488.89 Q2054.44 1487.74 2057.52 1487.74 Q2057.96 1487.74 2058.49 1487.81 Q2059.03 1487.85 2059.68 1487.97 L2059.7 1492.34 Z\" fill=\"#000000\" fill-rule=\"evenodd\" fill-opacity=\"1\" /><path clip-path=\"url(#clip920)\" d=\"M2064.17 1488.36 L2068.43 1488.36 L2068.43 1514.29 L2064.17 1514.29 L2064.17 1488.36 M2064.17 1478.27 L2068.43 1478.27 L2068.43 1483.66 L2064.17 1483.66 L2064.17 1478.27 Z\" fill=\"#000000\" fill-rule=\"evenodd\" fill-opacity=\"1\" /><path clip-path=\"url(#clip920)\" d=\"M2089.12 1501.26 Q2083.96 1501.26 2081.97 1502.44 Q2079.98 1503.62 2079.98 1506.46 Q2079.98 1508.73 2081.46 1510.07 Q2082.96 1511.39 2085.53 1511.39 Q2089.07 1511.39 2091.2 1508.89 Q2093.36 1506.37 2093.36 1502.2 L2093.36 1501.26 L2089.12 1501.26 M2097.61 1499.5 L2097.61 1514.29 L2093.36 1514.29 L2093.36 1510.35 Q2091.9 1512.71 2089.72 1513.85 Q2087.55 1514.96 2084.4 1514.96 Q2080.42 1514.96 2078.05 1512.74 Q2075.72 1510.49 2075.72 1506.74 Q2075.72 1502.37 2078.63 1500.14 Q2081.57 1497.92 2087.38 1497.92 L2093.36 1497.92 L2093.36 1497.51 Q2093.36 1494.57 2091.41 1492.97 Q2089.49 1491.35 2085.99 1491.35 Q2083.77 1491.35 2081.67 1491.88 Q2079.56 1492.41 2077.62 1493.48 L2077.62 1489.54 Q2079.95 1488.64 2082.15 1488.2 Q2084.35 1487.74 2086.43 1487.74 Q2092.06 1487.74 2094.84 1490.65 Q2097.61 1493.57 2097.61 1499.5 Z\" fill=\"#000000\" fill-rule=\"evenodd\" fill-opacity=\"1\" /><path clip-path=\"url(#clip920)\" d=\"M2106.39 1478.27 L2110.65 1478.27 L2110.65 1514.29 L2106.39 1514.29 L2106.39 1478.27 Z\" fill=\"#000000\" fill-rule=\"evenodd\" fill-opacity=\"1\" /><path clip-path=\"url(#clip920)\" d=\"M2119.56 1488.36 L2123.82 1488.36 L2123.82 1514.29 L2119.56 1514.29 L2119.56 1488.36 M2119.56 1478.27 L2123.82 1478.27 L2123.82 1483.66 L2119.56 1483.66 L2119.56 1478.27 Z\" fill=\"#000000\" fill-rule=\"evenodd\" fill-opacity=\"1\" /><path clip-path=\"url(#clip920)\" d=\"M2130.88 1488.36 L2151.11 1488.36 L2151.11 1492.25 L2135.09 1510.89 L2151.11 1510.89 L2151.11 1514.29 L2130.3 1514.29 L2130.3 1510.4 L2146.32 1491.76 L2130.88 1491.76 L2130.88 1488.36 Z\" fill=\"#000000\" fill-rule=\"evenodd\" fill-opacity=\"1\" /><path clip-path=\"url(#clip920)\" d=\"M2169.4 1501.26 Q2164.23 1501.26 2162.24 1502.44 Q2160.25 1503.62 2160.25 1506.46 Q2160.25 1508.73 2161.73 1510.07 Q2163.24 1511.39 2165.81 1511.39 Q2169.35 1511.39 2171.48 1508.89 Q2173.63 1506.37 2173.63 1502.2 L2173.63 1501.26 L2169.4 1501.26 M2177.89 1499.5 L2177.89 1514.29 L2173.63 1514.29 L2173.63 1510.35 Q2172.17 1512.71 2170 1513.85 Q2167.82 1514.96 2164.67 1514.96 Q2160.69 1514.96 2158.33 1512.74 Q2155.99 1510.49 2155.99 1506.74 Q2155.99 1502.37 2158.91 1500.14 Q2161.85 1497.92 2167.66 1497.92 L2173.63 1497.92 L2173.63 1497.51 Q2173.63 1494.57 2171.69 1492.97 Q2169.77 1491.35 2166.27 1491.35 Q2164.05 1491.35 2161.94 1491.88 Q2159.84 1492.41 2157.89 1493.48 L2157.89 1489.54 Q2160.23 1488.64 2162.43 1488.2 Q2164.63 1487.74 2166.71 1487.74 Q2172.34 1487.74 2175.11 1490.65 Q2177.89 1493.57 2177.89 1499.5 Z\" fill=\"#000000\" fill-rule=\"evenodd\" fill-opacity=\"1\" /><path clip-path=\"url(#clip920)\" d=\"M2190.88 1481 L2190.88 1488.36 L2199.65 1488.36 L2199.65 1491.67 L2190.88 1491.67 L2190.88 1505.75 Q2190.88 1508.92 2191.73 1509.82 Q2192.61 1510.72 2195.28 1510.72 L2199.65 1510.72 L2199.65 1514.29 L2195.28 1514.29 Q2190.35 1514.29 2188.47 1512.46 Q2186.6 1510.61 2186.6 1505.75 L2186.6 1491.67 L2183.47 1491.67 L2183.47 1488.36 L2186.6 1488.36 L2186.6 1481 L2190.88 1481 Z\" fill=\"#000000\" fill-rule=\"evenodd\" fill-opacity=\"1\" /><path clip-path=\"url(#clip920)\" d=\"M2205.25 1488.36 L2209.51 1488.36 L2209.51 1514.29 L2205.25 1514.29 L2205.25 1488.36 M2205.25 1478.27 L2209.51 1478.27 L2209.51 1483.66 L2205.25 1483.66 L2205.25 1478.27 Z\" fill=\"#000000\" fill-rule=\"evenodd\" fill-opacity=\"1\" /><path clip-path=\"url(#clip920)\" d=\"M2228.47 1491.35 Q2225.04 1491.35 2223.05 1494.03 Q2221.06 1496.7 2221.06 1501.35 Q2221.06 1506 2223.03 1508.69 Q2225.02 1511.35 2228.47 1511.35 Q2231.87 1511.35 2233.86 1508.66 Q2235.85 1505.98 2235.85 1501.35 Q2235.85 1496.74 2233.86 1494.06 Q2231.87 1491.35 2228.47 1491.35 M2228.47 1487.74 Q2234.03 1487.74 2237.2 1491.35 Q2240.37 1494.96 2240.37 1501.35 Q2240.37 1507.71 2237.2 1511.35 Q2234.03 1514.96 2228.47 1514.96 Q2222.89 1514.96 2219.72 1511.35 Q2216.57 1507.71 2216.57 1501.35 Q2216.57 1494.96 2219.72 1491.35 Q2222.89 1487.74 2228.47 1487.74 Z\" fill=\"#000000\" fill-rule=\"evenodd\" fill-opacity=\"1\" /><path clip-path=\"url(#clip920)\" d=\"M2268.98 1498.64 L2268.98 1514.29 L2264.72 1514.29 L2264.72 1498.78 Q2264.72 1495.1 2263.29 1493.27 Q2261.85 1491.44 2258.98 1491.44 Q2255.53 1491.44 2253.54 1493.64 Q2251.55 1495.84 2251.55 1499.64 L2251.55 1514.29 L2247.27 1514.29 L2247.27 1488.36 L2251.55 1488.36 L2251.55 1492.39 Q2253.08 1490.05 2255.14 1488.89 Q2257.22 1487.74 2259.93 1487.74 Q2264.4 1487.74 2266.69 1490.51 Q2268.98 1493.27 2268.98 1498.64 Z\" fill=\"#000000\" fill-rule=\"evenodd\" fill-opacity=\"1\" /><polyline clip-path=\"url(#clip922)\" style=\"stroke:#000000; stroke-linecap:butt; stroke-linejoin:round; stroke-width:2; stroke-opacity:0.1; fill:none\" points=\"\n",
       "  219.38,1417.71 2352.76,1417.71 \n",
       "  \"/>\n",
       "<polyline clip-path=\"url(#clip922)\" style=\"stroke:#000000; stroke-linecap:butt; stroke-linejoin:round; stroke-width:2; stroke-opacity:0.1; fill:none\" points=\"\n",
       "  219.38,1111.03 2352.76,1111.03 \n",
       "  \"/>\n",
       "<polyline clip-path=\"url(#clip922)\" style=\"stroke:#000000; stroke-linecap:butt; stroke-linejoin:round; stroke-width:2; stroke-opacity:0.1; fill:none\" points=\"\n",
       "  219.38,804.348 2352.76,804.348 \n",
       "  \"/>\n",
       "<polyline clip-path=\"url(#clip922)\" style=\"stroke:#000000; stroke-linecap:butt; stroke-linejoin:round; stroke-width:2; stroke-opacity:0.1; fill:none\" points=\"\n",
       "  219.38,497.665 2352.76,497.665 \n",
       "  \"/>\n",
       "<polyline clip-path=\"url(#clip920)\" style=\"stroke:#000000; stroke-linecap:butt; stroke-linejoin:round; stroke-width:4; stroke-opacity:1; fill:none\" points=\"\n",
       "  219.38,1451.89 219.38,244.432 \n",
       "  \"/>\n",
       "<polyline clip-path=\"url(#clip920)\" style=\"stroke:#000000; stroke-linecap:butt; stroke-linejoin:round; stroke-width:4; stroke-opacity:1; fill:none\" points=\"\n",
       "  219.38,1417.71 238.278,1417.71 \n",
       "  \"/>\n",
       "<polyline clip-path=\"url(#clip920)\" style=\"stroke:#000000; stroke-linecap:butt; stroke-linejoin:round; stroke-width:4; stroke-opacity:1; fill:none\" points=\"\n",
       "  219.38,1111.03 238.278,1111.03 \n",
       "  \"/>\n",
       "<polyline clip-path=\"url(#clip920)\" style=\"stroke:#000000; stroke-linecap:butt; stroke-linejoin:round; stroke-width:4; stroke-opacity:1; fill:none\" points=\"\n",
       "  219.38,804.348 238.278,804.348 \n",
       "  \"/>\n",
       "<polyline clip-path=\"url(#clip920)\" style=\"stroke:#000000; stroke-linecap:butt; stroke-linejoin:round; stroke-width:4; stroke-opacity:1; fill:none\" points=\"\n",
       "  219.38,497.665 238.278,497.665 \n",
       "  \"/>\n",
       "<path clip-path=\"url(#clip920)\" d=\"M126.205 1403.51 Q122.593 1403.51 120.765 1407.08 Q118.959 1410.62 118.959 1417.75 Q118.959 1424.86 120.765 1428.42 Q122.593 1431.96 126.205 1431.96 Q129.839 1431.96 131.644 1428.42 Q133.473 1424.86 133.473 1417.75 Q133.473 1410.62 131.644 1407.08 Q129.839 1403.51 126.205 1403.51 M126.205 1399.81 Q132.015 1399.81 135.07 1404.42 Q138.149 1409 138.149 1417.75 Q138.149 1426.48 135.07 1431.08 Q132.015 1435.67 126.205 1435.67 Q120.394 1435.67 117.316 1431.08 Q114.26 1426.48 114.26 1417.75 Q114.26 1409 117.316 1404.42 Q120.394 1399.81 126.205 1399.81 Z\" fill=\"#000000\" fill-rule=\"evenodd\" fill-opacity=\"1\" /><path clip-path=\"url(#clip920)\" d=\"M146.366 1429.12 L151.251 1429.12 L151.251 1434.99 L146.366 1434.99 L146.366 1429.12 Z\" fill=\"#000000\" fill-rule=\"evenodd\" fill-opacity=\"1\" /><path clip-path=\"url(#clip920)\" d=\"M171.436 1403.51 Q167.825 1403.51 165.996 1407.08 Q164.19 1410.62 164.19 1417.75 Q164.19 1424.86 165.996 1428.42 Q167.825 1431.96 171.436 1431.96 Q175.07 1431.96 176.876 1428.42 Q178.704 1424.86 178.704 1417.75 Q178.704 1410.62 176.876 1407.08 Q175.07 1403.51 171.436 1403.51 M171.436 1399.81 Q177.246 1399.81 180.301 1404.42 Q183.38 1409 183.38 1417.75 Q183.38 1426.48 180.301 1431.08 Q177.246 1435.67 171.436 1435.67 Q165.626 1435.67 162.547 1431.08 Q159.491 1426.48 159.491 1417.75 Q159.491 1409 162.547 1404.42 Q165.626 1399.81 171.436 1399.81 Z\" fill=\"#000000\" fill-rule=\"evenodd\" fill-opacity=\"1\" /><path clip-path=\"url(#clip920)\" d=\"M127.2 1096.83 Q123.589 1096.83 121.76 1100.39 Q119.955 1103.94 119.955 1111.07 Q119.955 1118.17 121.76 1121.74 Q123.589 1125.28 127.2 1125.28 Q130.834 1125.28 132.64 1121.74 Q134.468 1118.17 134.468 1111.07 Q134.468 1103.94 132.64 1100.39 Q130.834 1096.83 127.2 1096.83 M127.2 1093.13 Q133.01 1093.13 136.066 1097.73 Q139.144 1102.32 139.144 1111.07 Q139.144 1119.79 136.066 1124.4 Q133.01 1128.98 127.2 1128.98 Q121.39 1128.98 118.311 1124.4 Q115.256 1119.79 115.256 1111.07 Q115.256 1102.32 118.311 1097.73 Q121.39 1093.13 127.2 1093.13 Z\" fill=\"#000000\" fill-rule=\"evenodd\" fill-opacity=\"1\" /><path clip-path=\"url(#clip920)\" d=\"M147.362 1122.43 L152.246 1122.43 L152.246 1128.31 L147.362 1128.31 L147.362 1122.43 Z\" fill=\"#000000\" fill-rule=\"evenodd\" fill-opacity=\"1\" /><path clip-path=\"url(#clip920)\" d=\"M162.477 1093.75 L180.834 1093.75 L180.834 1097.69 L166.76 1097.69 L166.76 1106.16 Q167.778 1105.81 168.797 1105.65 Q169.815 1105.46 170.834 1105.46 Q176.621 1105.46 180.001 1108.64 Q183.38 1111.81 183.38 1117.22 Q183.38 1122.8 179.908 1125.9 Q176.436 1128.98 170.116 1128.98 Q167.94 1128.98 165.672 1128.61 Q163.427 1128.24 161.019 1127.5 L161.019 1122.8 Q163.102 1123.94 165.325 1124.49 Q167.547 1125.05 170.024 1125.05 Q174.028 1125.05 176.366 1122.94 Q178.704 1120.83 178.704 1117.22 Q178.704 1113.61 176.366 1111.51 Q174.028 1109.4 170.024 1109.4 Q168.149 1109.4 166.274 1109.82 Q164.422 1110.23 162.477 1111.11 L162.477 1093.75 Z\" fill=\"#000000\" fill-rule=\"evenodd\" fill-opacity=\"1\" /><path clip-path=\"url(#clip920)\" d=\"M117.015 817.693 L124.654 817.693 L124.654 791.327 L116.343 792.994 L116.343 788.735 L124.607 787.068 L129.283 787.068 L129.283 817.693 L136.922 817.693 L136.922 821.628 L117.015 821.628 L117.015 817.693 Z\" fill=\"#000000\" fill-rule=\"evenodd\" fill-opacity=\"1\" /><path clip-path=\"url(#clip920)\" d=\"M146.366 815.749 L151.251 815.749 L151.251 821.628 L146.366 821.628 L146.366 815.749 Z\" fill=\"#000000\" fill-rule=\"evenodd\" fill-opacity=\"1\" /><path clip-path=\"url(#clip920)\" d=\"M171.436 790.147 Q167.825 790.147 165.996 793.712 Q164.19 797.253 164.19 804.383 Q164.19 811.489 165.996 815.054 Q167.825 818.596 171.436 818.596 Q175.07 818.596 176.876 815.054 Q178.704 811.489 178.704 804.383 Q178.704 797.253 176.876 793.712 Q175.07 790.147 171.436 790.147 M171.436 786.443 Q177.246 786.443 180.301 791.05 Q183.38 795.633 183.38 804.383 Q183.38 813.11 180.301 817.716 Q177.246 822.3 171.436 822.3 Q165.626 822.3 162.547 817.716 Q159.491 813.11 159.491 804.383 Q159.491 795.633 162.547 791.05 Q165.626 786.443 171.436 786.443 Z\" fill=\"#000000\" fill-rule=\"evenodd\" fill-opacity=\"1\" /><path clip-path=\"url(#clip920)\" d=\"M118.01 511.01 L125.649 511.01 L125.649 484.644 L117.339 486.311 L117.339 482.052 L125.603 480.385 L130.279 480.385 L130.279 511.01 L137.917 511.01 L137.917 514.945 L118.01 514.945 L118.01 511.01 Z\" fill=\"#000000\" fill-rule=\"evenodd\" fill-opacity=\"1\" /><path clip-path=\"url(#clip920)\" d=\"M147.362 509.065 L152.246 509.065 L152.246 514.945 L147.362 514.945 L147.362 509.065 Z\" fill=\"#000000\" fill-rule=\"evenodd\" fill-opacity=\"1\" /><path clip-path=\"url(#clip920)\" d=\"M162.477 480.385 L180.834 480.385 L180.834 484.32 L166.76 484.32 L166.76 492.792 Q167.778 492.445 168.797 492.283 Q169.815 492.098 170.834 492.098 Q176.621 492.098 180.001 495.269 Q183.38 498.441 183.38 503.857 Q183.38 509.436 179.908 512.538 Q176.436 515.616 170.116 515.616 Q167.94 515.616 165.672 515.246 Q163.427 514.876 161.019 514.135 L161.019 509.436 Q163.102 510.57 165.325 511.126 Q167.547 511.681 170.024 511.681 Q174.028 511.681 176.366 509.575 Q178.704 507.468 178.704 503.857 Q178.704 500.246 176.366 498.14 Q174.028 496.033 170.024 496.033 Q168.149 496.033 166.274 496.45 Q164.422 496.866 162.477 497.746 L162.477 480.385 Z\" fill=\"#000000\" fill-rule=\"evenodd\" fill-opacity=\"1\" /><path clip-path=\"url(#clip920)\" d=\"M18.0438 932.41 L24.314 932.41 Q22.5634 936.07 21.704 939.317 Q20.8447 942.563 20.8447 945.587 Q20.8447 950.839 22.8817 953.703 Q24.9187 956.536 28.6745 956.536 Q31.8255 956.536 33.4488 954.658 Q35.0402 952.749 36.0269 947.465 L36.8226 943.582 Q38.1912 936.389 41.6605 932.983 Q45.098 929.546 50.8908 929.546 Q57.7976 929.546 61.3624 934.193 Q64.9272 938.808 64.9272 947.751 Q64.9272 951.125 64.1633 954.945 Q63.3994 958.732 61.9035 962.806 L55.2831 962.806 Q57.4793 958.891 58.5933 955.136 Q59.7073 951.38 59.7073 947.751 Q59.7073 942.245 57.543 939.253 Q55.3786 936.261 51.3682 936.261 Q47.8671 936.261 45.8937 938.426 Q43.9204 940.558 42.9337 945.46 L42.1698 949.375 Q40.7375 956.568 37.682 959.783 Q34.6264 962.997 29.1837 962.997 Q22.8817 962.997 19.2532 958.573 Q15.6248 954.117 15.6248 946.319 Q15.6248 942.977 16.2295 939.508 Q16.8343 936.039 18.0438 932.41 Z\" fill=\"#000000\" fill-rule=\"evenodd\" fill-opacity=\"1\" /><path clip-path=\"url(#clip920)\" d=\"M44.7161 889.282 L47.5806 889.282 L47.5806 916.209 Q53.6281 915.827 56.8109 912.581 Q59.9619 909.303 59.9619 903.478 Q59.9619 900.104 59.1344 896.953 Q58.3069 893.77 56.6518 890.651 L62.1899 890.651 Q63.5267 893.802 64.227 897.112 Q64.9272 900.422 64.9272 903.828 Q64.9272 912.358 59.9619 917.355 Q54.9967 922.32 46.5303 922.32 Q37.7774 922.32 32.6531 917.61 Q27.4968 912.867 27.4968 904.847 Q27.4968 897.653 32.1438 893.484 Q36.7589 889.282 44.7161 889.282 M42.9973 895.139 Q38.1912 895.203 35.3266 897.844 Q32.4621 900.454 32.4621 904.783 Q32.4621 909.685 35.2312 912.645 Q38.0002 915.573 43.0292 916.018 L42.9973 895.139 Z\" fill=\"#000000\" fill-rule=\"evenodd\" fill-opacity=\"1\" /><path clip-path=\"url(#clip920)\" d=\"M29.7248 854.016 L35.1993 854.016 Q33.8307 856.499 33.1623 859.014 Q32.4621 861.496 32.4621 864.042 Q32.4621 869.74 36.0905 872.891 Q39.6872 876.042 46.212 876.042 Q52.7369 876.042 56.3653 872.891 Q59.9619 869.74 59.9619 864.042 Q59.9619 861.496 59.2935 859.014 Q58.5933 856.499 57.2247 854.016 L62.6355 854.016 Q63.7814 856.467 64.3543 859.109 Q64.9272 861.719 64.9272 864.679 Q64.9272 872.732 59.8664 877.474 Q54.8057 882.217 46.212 882.217 Q37.491 882.217 32.4939 877.442 Q27.4968 872.636 27.4968 864.297 Q27.4968 861.592 28.0697 859.014 Q28.6108 856.435 29.7248 854.016 Z\" fill=\"#000000\" fill-rule=\"evenodd\" fill-opacity=\"1\" /><path clip-path=\"url(#clip920)\" d=\"M32.4621 830.018 Q32.4621 834.728 36.1542 837.466 Q39.8145 840.203 46.212 840.203 Q52.6095 840.203 56.3017 837.497 Q59.9619 834.76 59.9619 830.018 Q59.9619 825.339 56.2698 822.602 Q52.5777 819.864 46.212 819.864 Q39.8781 819.864 36.186 822.602 Q32.4621 825.339 32.4621 830.018 M27.4968 830.018 Q27.4968 822.379 32.4621 818.018 Q37.4273 813.658 46.212 813.658 Q54.9649 813.658 59.9619 818.018 Q64.9272 822.379 64.9272 830.018 Q64.9272 837.688 59.9619 842.049 Q54.9649 846.378 46.212 846.378 Q37.4273 846.378 32.4621 842.049 Q27.4968 837.688 27.4968 830.018 Z\" fill=\"#000000\" fill-rule=\"evenodd\" fill-opacity=\"1\" /><path clip-path=\"url(#clip920)\" d=\"M42.4881 774.318 L64.0042 774.318 L64.0042 780.174 L42.679 780.174 Q37.6183 780.174 35.1038 782.148 Q32.5894 784.121 32.5894 788.068 Q32.5894 792.81 35.6131 795.547 Q38.6368 798.285 43.8567 798.285 L64.0042 798.285 L64.0042 804.173 L28.3562 804.173 L28.3562 798.285 L33.8944 798.285 Q30.6797 796.184 29.0883 793.351 Q27.4968 790.487 27.4968 786.763 Q27.4968 780.62 31.3163 777.469 Q35.1038 774.318 42.4881 774.318 Z\" fill=\"#000000\" fill-rule=\"evenodd\" fill-opacity=\"1\" /><path clip-path=\"url(#clip920)\" d=\"M33.7671 739.179 L14.479 739.179 L14.479 733.323 L64.0042 733.323 L64.0042 739.179 L58.657 739.179 Q61.8398 741.025 63.3994 743.858 Q64.9272 746.659 64.9272 750.606 Q64.9272 757.067 59.771 761.141 Q54.6147 765.183 46.212 765.183 Q37.8093 765.183 32.6531 761.141 Q27.4968 757.067 27.4968 750.606 Q27.4968 746.659 29.0564 743.858 Q30.5842 741.025 33.7671 739.179 M46.212 759.136 Q52.6732 759.136 56.3653 756.494 Q60.0256 753.82 60.0256 749.173 Q60.0256 744.526 56.3653 741.853 Q52.6732 739.179 46.212 739.179 Q39.7508 739.179 36.0905 741.853 Q32.3984 744.526 32.3984 749.173 Q32.3984 753.82 36.0905 756.494 Q39.7508 759.136 46.212 759.136 Z\" fill=\"#000000\" fill-rule=\"evenodd\" fill-opacity=\"1\" /><path clip-path=\"url(#clip920)\" d=\"M940.749 74.4597 Q943.382 75.3509 945.853 78.2675 Q948.364 81.1842 950.876 86.2883 L959.18 102.816 L950.39 102.816 L942.653 87.301 Q939.655 81.2247 936.819 79.2397 Q934.024 77.2548 929.163 77.2548 L920.251 77.2548 L920.251 102.816 L912.068 102.816 L912.068 42.336 L930.54 42.336 Q940.911 42.336 946.015 46.6705 Q951.119 51.0049 951.119 59.7549 Q951.119 65.4667 948.445 69.234 Q945.812 73.0013 940.749 74.4597 M920.251 49.0605 L920.251 70.5303 L930.54 70.5303 Q936.455 70.5303 939.452 67.8162 Q942.491 65.0616 942.491 59.7549 Q942.491 54.4482 939.452 51.7746 Q936.455 49.0605 930.54 49.0605 L920.251 49.0605 Z\" fill=\"#000000\" fill-rule=\"evenodd\" fill-opacity=\"1\" /><path clip-path=\"url(#clip920)\" d=\"M1004.47 78.2675 L1004.47 81.9133 L970.199 81.9133 Q970.685 89.6101 974.817 93.661 Q978.989 97.6714 986.402 97.6714 Q990.696 97.6714 994.707 96.6181 Q998.758 95.5649 1002.73 93.4584 L1002.73 100.507 Q998.717 102.208 994.504 103.1 Q990.291 103.991 985.957 103.991 Q975.1 103.991 968.74 97.6714 Q962.421 91.3519 962.421 80.5765 Q962.421 69.4365 968.416 62.9146 Q974.452 56.3521 984.661 56.3521 Q993.816 56.3521 999.122 62.2664 Q1004.47 68.1403 1004.47 78.2675 M997.016 76.08 Q996.935 69.9632 993.572 66.3174 Q990.251 62.6715 984.742 62.6715 Q978.503 62.6715 974.736 66.1958 Q971.009 69.7201 970.442 76.1205 L997.016 76.08 Z\" fill=\"#000000\" fill-rule=\"evenodd\" fill-opacity=\"1\" /><path clip-path=\"url(#clip920)\" d=\"M1037.32 80.0094 Q1028.29 80.0094 1024.8 82.0754 Q1021.32 84.1413 1021.32 89.1239 Q1021.32 93.0938 1023.91 95.4434 Q1026.55 97.7524 1031.04 97.7524 Q1037.24 97.7524 1040.97 93.3774 Q1044.74 88.9619 1044.74 81.6703 L1044.74 80.0094 L1037.32 80.0094 M1052.19 76.9307 L1052.19 102.816 L1044.74 102.816 L1044.74 95.9295 Q1042.18 100.061 1038.38 102.046 Q1034.57 103.991 1029.06 103.991 Q1022.09 103.991 1017.96 100.102 Q1013.87 96.1725 1013.87 89.6101 Q1013.87 81.9538 1018.97 78.065 Q1024.12 74.1761 1034.28 74.1761 L1044.74 74.1761 L1044.74 73.4469 Q1044.74 68.3023 1041.33 65.5072 Q1037.97 62.6715 1031.85 62.6715 Q1027.96 62.6715 1024.28 63.6032 Q1020.59 64.535 1017.19 66.3984 L1017.19 59.5118 Q1021.28 57.932 1025.13 57.1623 Q1028.98 56.3521 1032.62 56.3521 Q1042.47 56.3521 1047.33 61.4563 Q1052.19 66.5604 1052.19 76.9307 Z\" fill=\"#000000\" fill-rule=\"evenodd\" fill-opacity=\"1\" /><path clip-path=\"url(#clip920)\" d=\"M1097.4 64.3324 L1097.4 39.7839 L1104.85 39.7839 L1104.85 102.816 L1097.4 102.816 L1097.4 96.0105 Q1095.05 100.061 1091.44 102.046 Q1087.88 103.991 1082.85 103.991 Q1074.63 103.991 1069.45 97.4283 Q1064.3 90.8658 1064.3 80.1714 Q1064.3 69.4771 1069.45 62.9146 Q1074.63 56.3521 1082.85 56.3521 Q1087.88 56.3521 1091.44 58.3371 Q1095.05 60.2815 1097.4 64.3324 M1072 80.1714 Q1072 88.3948 1075.36 93.0938 Q1078.76 97.7524 1084.68 97.7524 Q1090.59 97.7524 1093.99 93.0938 Q1097.4 88.3948 1097.4 80.1714 Q1097.4 71.9481 1093.99 67.2896 Q1090.59 62.5905 1084.68 62.5905 Q1078.76 62.5905 1075.36 67.2896 Q1072 71.9481 1072 80.1714 Z\" fill=\"#000000\" fill-rule=\"evenodd\" fill-opacity=\"1\" /><path clip-path=\"url(#clip920)\" d=\"M1155.08 49.0605 L1155.08 71.7861 L1165.37 71.7861 Q1171.08 71.7861 1174.2 68.8289 Q1177.32 65.8718 1177.32 60.403 Q1177.32 54.9748 1174.2 52.0177 Q1171.08 49.0605 1165.37 49.0605 L1155.08 49.0605 M1146.9 42.336 L1165.37 42.336 Q1175.54 42.336 1180.72 46.954 Q1185.95 51.5316 1185.95 60.403 Q1185.95 69.3555 1180.72 73.9331 Q1175.54 78.5106 1165.37 78.5106 L1155.08 78.5106 L1155.08 102.816 L1146.9 102.816 L1146.9 42.336 Z\" fill=\"#000000\" fill-rule=\"evenodd\" fill-opacity=\"1\" /><path clip-path=\"url(#clip920)\" d=\"M1232.45 78.2675 L1232.45 81.9133 L1198.18 81.9133 Q1198.67 89.6101 1202.8 93.661 Q1206.97 97.6714 1214.39 97.6714 Q1218.68 97.6714 1222.69 96.6181 Q1226.74 95.5649 1230.71 93.4584 L1230.71 100.507 Q1226.7 102.208 1222.49 103.1 Q1218.28 103.991 1213.94 103.991 Q1203.09 103.991 1196.73 97.6714 Q1190.41 91.3519 1190.41 80.5765 Q1190.41 69.4365 1196.4 62.9146 Q1202.44 56.3521 1212.65 56.3521 Q1221.8 56.3521 1227.11 62.2664 Q1232.45 68.1403 1232.45 78.2675 M1225 76.08 Q1224.92 69.9632 1221.56 66.3174 Q1218.24 62.6715 1212.73 62.6715 Q1206.49 62.6715 1202.72 66.1958 Q1198.99 69.7201 1198.43 76.1205 L1225 76.08 Z\" fill=\"#000000\" fill-rule=\"evenodd\" fill-opacity=\"1\" /><path clip-path=\"url(#clip920)\" d=\"M1270.98 64.4134 Q1269.72 63.6843 1268.22 63.3602 Q1266.77 62.9956 1264.98 62.9956 Q1258.66 62.9956 1255.26 67.1275 Q1251.9 71.2189 1251.9 78.9157 L1251.9 102.816 L1244.4 102.816 L1244.4 57.4459 L1251.9 57.4459 L1251.9 64.4944 Q1254.25 60.3625 1258.02 58.3776 Q1261.78 56.3521 1267.17 56.3521 Q1267.94 56.3521 1268.87 56.4737 Q1269.8 56.5547 1270.94 56.7572 L1270.98 64.4134 Z\" fill=\"#000000\" fill-rule=\"evenodd\" fill-opacity=\"1\" /><path clip-path=\"url(#clip920)\" d=\"M1301.77 39.7839 L1301.77 45.9818 L1294.64 45.9818 Q1290.63 45.9818 1289.05 47.6022 Q1287.51 49.2225 1287.51 53.4355 L1287.51 57.4459 L1299.78 57.4459 L1299.78 63.2387 L1287.51 63.2387 L1287.51 102.816 L1280.01 102.816 L1280.01 63.2387 L1272.88 63.2387 L1272.88 57.4459 L1280.01 57.4459 L1280.01 54.2862 Q1280.01 46.711 1283.54 43.2677 Q1287.06 39.7839 1294.72 39.7839 L1301.77 39.7839 Z\" fill=\"#000000\" fill-rule=\"evenodd\" fill-opacity=\"1\" /><path clip-path=\"url(#clip920)\" d=\"M1325.58 62.6715 Q1319.59 62.6715 1316.11 67.3706 Q1312.62 72.0291 1312.62 80.1714 Q1312.62 88.3138 1316.06 93.0128 Q1319.55 97.6714 1325.58 97.6714 Q1331.54 97.6714 1335.02 92.9723 Q1338.51 88.2733 1338.51 80.1714 Q1338.51 72.1101 1335.02 67.4111 Q1331.54 62.6715 1325.58 62.6715 M1325.58 56.3521 Q1335.31 56.3521 1340.86 62.6715 Q1346.41 68.9909 1346.41 80.1714 Q1346.41 91.3114 1340.86 97.6714 Q1335.31 103.991 1325.58 103.991 Q1315.82 103.991 1310.27 97.6714 Q1304.76 91.3114 1304.76 80.1714 Q1304.76 68.9909 1310.27 62.6715 Q1315.82 56.3521 1325.58 56.3521 Z\" fill=\"#000000\" fill-rule=\"evenodd\" fill-opacity=\"1\" /><path clip-path=\"url(#clip920)\" d=\"M1385.05 64.4134 Q1383.8 63.6843 1382.3 63.3602 Q1380.84 62.9956 1379.06 62.9956 Q1372.74 62.9956 1369.33 67.1275 Q1365.97 71.2189 1365.97 78.9157 L1365.97 102.816 L1358.48 102.816 L1358.48 57.4459 L1365.97 57.4459 L1365.97 64.4944 Q1368.32 60.3625 1372.09 58.3776 Q1375.86 56.3521 1381.24 56.3521 Q1382.01 56.3521 1382.95 56.4737 Q1383.88 56.5547 1385.01 56.7572 L1385.05 64.4134 Z\" fill=\"#000000\" fill-rule=\"evenodd\" fill-opacity=\"1\" /><path clip-path=\"url(#clip920)\" d=\"M1426.74 66.1553 Q1429.53 61.1322 1433.42 58.7422 Q1437.31 56.3521 1442.57 56.3521 Q1449.66 56.3521 1453.51 61.3347 Q1457.36 66.2768 1457.36 75.4319 L1457.36 102.816 L1449.87 102.816 L1449.87 75.6749 Q1449.87 69.153 1447.56 65.9933 Q1445.25 62.8336 1440.51 62.8336 Q1434.72 62.8336 1431.35 66.6819 Q1427.99 70.5303 1427.99 77.1738 L1427.99 102.816 L1420.5 102.816 L1420.5 75.6749 Q1420.5 69.1125 1418.19 65.9933 Q1415.88 62.8336 1411.06 62.8336 Q1405.35 62.8336 1401.98 66.7224 Q1398.62 70.5708 1398.62 77.1738 L1398.62 102.816 L1391.13 102.816 L1391.13 57.4459 L1398.62 57.4459 L1398.62 64.4944 Q1401.17 60.322 1404.74 58.3371 Q1408.3 56.3521 1413.21 56.3521 Q1418.15 56.3521 1421.59 58.8637 Q1425.07 61.3752 1426.74 66.1553 Z\" fill=\"#000000\" fill-rule=\"evenodd\" fill-opacity=\"1\" /><path clip-path=\"url(#clip920)\" d=\"M1492.85 80.0094 Q1483.81 80.0094 1480.33 82.0754 Q1476.85 84.1413 1476.85 89.1239 Q1476.85 93.0938 1479.44 95.4434 Q1482.07 97.7524 1486.57 97.7524 Q1492.77 97.7524 1496.49 93.3774 Q1500.26 88.9619 1500.26 81.6703 L1500.26 80.0094 L1492.85 80.0094 M1507.71 76.9307 L1507.71 102.816 L1500.26 102.816 L1500.26 95.9295 Q1497.71 100.061 1493.9 102.046 Q1490.09 103.991 1484.58 103.991 Q1477.62 103.991 1473.48 100.102 Q1469.39 96.1725 1469.39 89.6101 Q1469.39 81.9538 1474.5 78.065 Q1479.64 74.1761 1489.81 74.1761 L1500.26 74.1761 L1500.26 73.4469 Q1500.26 68.3023 1496.86 65.5072 Q1493.49 62.6715 1487.38 62.6715 Q1483.49 62.6715 1479.8 63.6032 Q1476.12 64.535 1472.71 66.3984 L1472.71 59.5118 Q1476.8 57.932 1480.65 57.1623 Q1484.5 56.3521 1488.15 56.3521 Q1497.99 56.3521 1502.85 61.4563 Q1507.71 66.5604 1507.71 76.9307 Z\" fill=\"#000000\" fill-rule=\"evenodd\" fill-opacity=\"1\" /><path clip-path=\"url(#clip920)\" d=\"M1560.78 75.4319 L1560.78 102.816 L1553.33 102.816 L1553.33 75.6749 Q1553.33 69.234 1550.81 66.0338 Q1548.3 62.8336 1543.28 62.8336 Q1537.24 62.8336 1533.76 66.6819 Q1530.28 70.5303 1530.28 77.1738 L1530.28 102.816 L1522.78 102.816 L1522.78 57.4459 L1530.28 57.4459 L1530.28 64.4944 Q1532.95 60.403 1536.56 58.3776 Q1540.2 56.3521 1544.94 56.3521 Q1552.76 56.3521 1556.77 61.2132 Q1560.78 66.0338 1560.78 75.4319 Z\" fill=\"#000000\" fill-rule=\"evenodd\" fill-opacity=\"1\" /><path clip-path=\"url(#clip920)\" d=\"M1608.3 59.1878 L1608.3 66.1553 Q1605.14 64.4134 1601.94 63.5627 Q1598.78 62.6715 1595.54 62.6715 Q1588.29 62.6715 1584.28 67.2896 Q1580.26 71.8671 1580.26 80.1714 Q1580.26 88.4758 1584.28 93.0938 Q1588.29 97.6714 1595.54 97.6714 Q1598.78 97.6714 1601.94 96.8207 Q1605.14 95.9295 1608.3 94.1876 L1608.3 101.074 Q1605.18 102.532 1601.82 103.262 Q1598.49 103.991 1594.73 103.991 Q1584.48 103.991 1578.44 97.5498 Q1572.41 91.1089 1572.41 80.1714 Q1572.41 69.072 1578.48 62.712 Q1584.6 56.3521 1595.21 56.3521 Q1598.66 56.3521 1601.94 57.0813 Q1605.22 57.7699 1608.3 59.1878 Z\" fill=\"#000000\" fill-rule=\"evenodd\" fill-opacity=\"1\" /><path clip-path=\"url(#clip920)\" d=\"M1660.07 78.2675 L1660.07 81.9133 L1625.8 81.9133 Q1626.28 89.6101 1630.42 93.661 Q1634.59 97.6714 1642 97.6714 Q1646.29 97.6714 1650.31 96.6181 Q1654.36 95.5649 1658.33 93.4584 L1658.33 100.507 Q1654.32 102.208 1650.1 103.1 Q1645.89 103.991 1641.56 103.991 Q1630.7 103.991 1624.34 97.6714 Q1618.02 91.3519 1618.02 80.5765 Q1618.02 69.4365 1624.01 62.9146 Q1630.05 56.3521 1640.26 56.3521 Q1649.41 56.3521 1654.72 62.2664 Q1660.07 68.1403 1660.07 78.2675 M1652.61 76.08 Q1652.53 69.9632 1649.17 66.3174 Q1645.85 62.6715 1640.34 62.6715 Q1634.1 62.6715 1630.33 66.1958 Q1626.61 69.7201 1626.04 76.1205 L1652.61 76.08 Z\" fill=\"#000000\" fill-rule=\"evenodd\" fill-opacity=\"1\" /><path clip-path=\"url(#clip920)\" d=\"M936.961 139.781 L936.961 186.811 L946.845 186.811 Q959.363 186.811 965.155 181.14 Q970.989 175.469 970.989 163.235 Q970.989 151.083 965.155 145.452 Q959.363 139.781 946.845 139.781 L936.961 139.781 M928.778 133.056 L945.59 133.056 Q963.17 133.056 971.394 140.388 Q979.617 147.68 979.617 163.235 Q979.617 178.872 971.353 186.204 Q963.089 193.536 945.59 193.536 L928.778 193.536 L928.778 133.056 Z\" fill=\"#000000\" fill-rule=\"evenodd\" fill-opacity=\"1\" /><path clip-path=\"url(#clip920)\" d=\"M1012.96 170.729 Q1003.92 170.729 1000.44 172.795 Q996.955 174.861 996.955 179.844 Q996.955 183.814 999.548 186.163 Q1002.18 188.472 1006.68 188.472 Q1012.88 188.472 1016.6 184.097 Q1020.37 179.682 1020.37 172.39 L1020.37 170.729 L1012.96 170.729 M1027.82 167.651 L1027.82 193.536 L1020.37 193.536 L1020.37 186.649 Q1017.82 190.781 1014.01 192.766 Q1010.2 194.711 1004.69 194.711 Q997.725 194.711 993.593 190.822 Q989.501 186.893 989.501 180.33 Q989.501 172.674 994.605 168.785 Q999.75 164.896 1009.92 164.896 L1020.37 164.896 L1020.37 164.167 Q1020.37 159.022 1016.97 156.227 Q1013.6 153.392 1007.49 153.392 Q1003.6 153.392 999.912 154.323 Q996.226 155.255 992.823 157.118 L992.823 150.232 Q996.914 148.652 1000.76 147.882 Q1004.61 147.072 1008.26 147.072 Q1018.1 147.072 1022.96 152.176 Q1027.82 157.28 1027.82 167.651 Z\" fill=\"#000000\" fill-rule=\"evenodd\" fill-opacity=\"1\" /><path clip-path=\"url(#clip920)\" d=\"M1050.55 135.284 L1050.55 148.166 L1065.9 148.166 L1065.9 153.959 L1050.55 153.959 L1050.55 178.588 Q1050.55 184.138 1052.05 185.718 Q1053.59 187.298 1058.25 187.298 L1065.9 187.298 L1065.9 193.536 L1058.25 193.536 Q1049.62 193.536 1046.34 190.336 Q1043.05 187.095 1043.05 178.588 L1043.05 153.959 L1037.59 153.959 L1037.59 148.166 L1043.05 148.166 L1043.05 135.284 L1050.55 135.284 Z\" fill=\"#000000\" fill-rule=\"evenodd\" fill-opacity=\"1\" /><path clip-path=\"url(#clip920)\" d=\"M1096.32 170.729 Q1087.29 170.729 1083.81 172.795 Q1080.32 174.861 1080.32 179.844 Q1080.32 183.814 1082.92 186.163 Q1085.55 188.472 1090.04 188.472 Q1096.24 188.472 1099.97 184.097 Q1103.74 179.682 1103.74 172.39 L1103.74 170.729 L1096.32 170.729 M1111.19 167.651 L1111.19 193.536 L1103.74 193.536 L1103.74 186.649 Q1101.18 190.781 1097.38 192.766 Q1093.57 194.711 1088.06 194.711 Q1081.09 194.711 1076.96 190.822 Q1072.87 186.893 1072.87 180.33 Q1072.87 172.674 1077.97 168.785 Q1083.12 164.896 1093.29 164.896 L1103.74 164.896 L1103.74 164.167 Q1103.74 159.022 1100.33 156.227 Q1096.97 153.392 1090.85 153.392 Q1086.97 153.392 1083.28 154.323 Q1079.59 155.255 1076.19 157.118 L1076.19 150.232 Q1080.28 148.652 1084.13 147.882 Q1087.98 147.072 1091.62 147.072 Q1101.47 147.072 1106.33 152.176 Q1111.19 157.28 1111.19 167.651 Z\" fill=\"#000000\" fill-rule=\"evenodd\" fill-opacity=\"1\" /><path clip-path=\"url(#clip920)\" d=\"M1126.87 133.056 L1161.62 133.056 L1161.62 139.943 L1135.05 139.943 L1135.05 157.767 L1159.03 157.767 L1159.03 164.653 L1135.05 164.653 L1135.05 193.536 L1126.87 193.536 L1126.87 133.056 Z\" fill=\"#000000\" fill-rule=\"evenodd\" fill-opacity=\"1\" /><path clip-path=\"url(#clip920)\" d=\"M1194.52 155.133 Q1193.26 154.404 1191.76 154.08 Q1190.3 153.716 1188.52 153.716 Q1182.2 153.716 1178.8 157.848 Q1175.44 161.939 1175.44 169.636 L1175.44 193.536 L1167.94 193.536 L1167.94 148.166 L1175.44 148.166 L1175.44 155.214 Q1177.79 151.083 1181.55 149.098 Q1185.32 147.072 1190.71 147.072 Q1191.48 147.072 1192.41 147.194 Q1193.34 147.275 1194.48 147.477 L1194.52 155.133 Z\" fill=\"#000000\" fill-rule=\"evenodd\" fill-opacity=\"1\" /><path clip-path=\"url(#clip920)\" d=\"M1222.95 170.729 Q1213.92 170.729 1210.44 172.795 Q1206.95 174.861 1206.95 179.844 Q1206.95 183.814 1209.55 186.163 Q1212.18 188.472 1216.68 188.472 Q1222.87 188.472 1226.6 184.097 Q1230.37 179.682 1230.37 172.39 L1230.37 170.729 L1222.95 170.729 M1237.82 167.651 L1237.82 193.536 L1230.37 193.536 L1230.37 186.649 Q1227.82 190.781 1224.01 192.766 Q1220.2 194.711 1214.69 194.711 Q1207.72 194.711 1203.59 190.822 Q1199.5 186.893 1199.5 180.33 Q1199.5 172.674 1204.6 168.785 Q1209.75 164.896 1219.92 164.896 L1230.37 164.896 L1230.37 164.167 Q1230.37 159.022 1226.97 156.227 Q1223.6 153.392 1217.49 153.392 Q1213.6 153.392 1209.91 154.323 Q1206.22 155.255 1202.82 157.118 L1202.82 150.232 Q1206.91 148.652 1210.76 147.882 Q1214.61 147.072 1218.26 147.072 Q1228.1 147.072 1232.96 152.176 Q1237.82 157.28 1237.82 167.651 Z\" fill=\"#000000\" fill-rule=\"evenodd\" fill-opacity=\"1\" /><path clip-path=\"url(#clip920)\" d=\"M1288.5 156.875 Q1291.29 151.852 1295.18 149.462 Q1299.07 147.072 1304.34 147.072 Q1311.43 147.072 1315.28 152.055 Q1319.12 156.997 1319.12 166.152 L1319.12 193.536 L1311.63 193.536 L1311.63 166.395 Q1311.63 159.873 1309.32 156.713 Q1307.01 153.554 1302.27 153.554 Q1296.48 153.554 1293.12 157.402 Q1289.75 161.25 1289.75 167.894 L1289.75 193.536 L1282.26 193.536 L1282.26 166.395 Q1282.26 159.832 1279.95 156.713 Q1277.64 153.554 1272.82 153.554 Q1267.11 153.554 1263.75 157.442 Q1260.39 161.291 1260.39 167.894 L1260.39 193.536 L1252.89 193.536 L1252.89 148.166 L1260.39 148.166 L1260.39 155.214 Q1262.94 151.042 1266.5 149.057 Q1270.07 147.072 1274.97 147.072 Q1279.91 147.072 1283.35 149.584 Q1286.84 152.095 1288.5 156.875 Z\" fill=\"#000000\" fill-rule=\"evenodd\" fill-opacity=\"1\" /><path clip-path=\"url(#clip920)\" d=\"M1372.8 168.988 L1372.8 172.633 L1338.53 172.633 Q1339.01 180.33 1343.15 184.381 Q1347.32 188.391 1354.73 188.391 Q1359.02 188.391 1363.04 187.338 Q1367.09 186.285 1371.06 184.178 L1371.06 191.227 Q1367.05 192.928 1362.83 193.82 Q1358.62 194.711 1354.29 194.711 Q1343.43 194.711 1337.07 188.391 Q1330.75 182.072 1330.75 171.297 Q1330.75 160.157 1336.74 153.635 Q1342.78 147.072 1352.99 147.072 Q1362.14 147.072 1367.45 152.986 Q1372.8 158.86 1372.8 168.988 M1365.34 166.8 Q1365.26 160.683 1361.9 157.037 Q1358.58 153.392 1353.07 153.392 Q1346.83 153.392 1343.06 156.916 Q1339.34 160.44 1338.77 166.841 L1365.34 166.8 Z\" fill=\"#000000\" fill-rule=\"evenodd\" fill-opacity=\"1\" /><path clip-path=\"url(#clip920)\" d=\"M1386.94 183.247 L1395.48 183.247 L1395.48 193.536 L1386.94 193.536 L1386.94 183.247 M1386.94 150.637 L1395.48 150.637 L1395.48 160.926 L1386.94 160.926 L1386.94 150.637 Z\" fill=\"#000000\" fill-rule=\"evenodd\" fill-opacity=\"1\" /><path clip-path=\"url(#clip920)\" d=\"M1471.92 170.891 Q1471.92 162.668 1468.52 158.01 Q1465.16 153.311 1459.24 153.311 Q1453.33 153.311 1449.93 158.01 Q1446.56 162.668 1446.56 170.891 Q1446.56 179.115 1449.93 183.814 Q1453.33 188.472 1459.24 188.472 Q1465.16 188.472 1468.52 183.814 Q1471.92 179.115 1471.92 170.891 M1446.56 155.052 Q1448.91 151.002 1452.48 149.057 Q1456.08 147.072 1461.07 147.072 Q1469.33 147.072 1474.48 153.635 Q1479.66 160.197 1479.66 170.891 Q1479.66 181.586 1474.48 188.148 Q1469.33 194.711 1461.07 194.711 Q1456.08 194.711 1452.48 192.766 Q1448.91 190.781 1446.56 186.73 L1446.56 193.536 L1439.07 193.536 L1439.07 130.504 L1446.56 130.504 L1446.56 155.052 Z\" fill=\"#000000\" fill-rule=\"evenodd\" fill-opacity=\"1\" /><path clip-path=\"url(#clip920)\" d=\"M1492.02 148.166 L1499.47 148.166 L1499.47 193.536 L1492.02 193.536 L1492.02 148.166 M1492.02 130.504 L1499.47 130.504 L1499.47 139.943 L1492.02 139.943 L1492.02 130.504 Z\" fill=\"#000000\" fill-rule=\"evenodd\" fill-opacity=\"1\" /><path clip-path=\"url(#clip920)\" d=\"M1544.92 170.324 Q1544.92 162.223 1541.56 157.767 Q1538.24 153.311 1532.2 153.311 Q1526.21 153.311 1522.84 157.767 Q1519.52 162.223 1519.52 170.324 Q1519.52 178.386 1522.84 182.842 Q1526.21 187.298 1532.2 187.298 Q1538.24 187.298 1541.56 182.842 Q1544.92 178.386 1544.92 170.324 M1552.37 187.905 Q1552.37 199.491 1547.23 205.122 Q1542.09 210.793 1531.47 210.793 Q1527.54 210.793 1524.06 210.185 Q1520.57 209.618 1517.29 208.403 L1517.29 201.152 Q1520.57 202.934 1523.78 203.785 Q1526.98 204.635 1530.3 204.635 Q1537.63 204.635 1541.27 200.787 Q1544.92 196.979 1544.92 189.242 L1544.92 185.556 Q1542.61 189.566 1539.01 191.551 Q1535.4 193.536 1530.38 193.536 Q1522.03 193.536 1516.93 187.176 Q1511.82 180.816 1511.82 170.324 Q1511.82 159.792 1516.93 153.432 Q1522.03 147.072 1530.38 147.072 Q1535.4 147.072 1539.01 149.057 Q1542.61 151.042 1544.92 155.052 L1544.92 148.166 L1552.37 148.166 L1552.37 187.905 Z\" fill=\"#000000\" fill-rule=\"evenodd\" fill-opacity=\"1\" /><path clip-path=\"url(#clip920)\" d=\"M1597.58 155.052 L1597.58 130.504 L1605.04 130.504 L1605.04 193.536 L1597.58 193.536 L1597.58 186.73 Q1595.23 190.781 1591.63 192.766 Q1588.06 194.711 1583.04 194.711 Q1574.82 194.711 1569.63 188.148 Q1564.49 181.586 1564.49 170.891 Q1564.49 160.197 1569.63 153.635 Q1574.82 147.072 1583.04 147.072 Q1588.06 147.072 1591.63 149.057 Q1595.23 151.002 1597.58 155.052 M1572.18 170.891 Q1572.18 179.115 1575.55 183.814 Q1578.95 188.472 1584.86 188.472 Q1590.78 188.472 1594.18 183.814 Q1597.58 179.115 1597.58 170.891 Q1597.58 162.668 1594.18 158.01 Q1590.78 153.311 1584.86 153.311 Q1578.95 153.311 1575.55 158.01 Q1572.18 162.668 1572.18 170.891 Z\" fill=\"#000000\" fill-rule=\"evenodd\" fill-opacity=\"1\" /><path clip-path=\"url(#clip920)\" d=\"M1643.36 130.504 L1643.36 136.702 L1636.23 136.702 Q1632.22 136.702 1630.64 138.322 Q1629.1 139.943 1629.1 144.155 L1629.1 148.166 L1641.37 148.166 L1641.37 153.959 L1629.1 153.959 L1629.1 193.536 L1621.6 193.536 L1621.6 153.959 L1614.47 153.959 L1614.47 148.166 L1621.6 148.166 L1621.6 145.006 Q1621.6 137.431 1625.13 133.988 Q1628.65 130.504 1636.31 130.504 L1643.36 130.504 Z\" fill=\"#000000\" fill-rule=\"evenodd\" fill-opacity=\"1\" /><path clip-path=\"url(#clip920)\" d=\"M922.722 225.761 L922.722 233.741 Q918.064 231.513 913.932 230.419 Q909.8 229.326 905.951 229.326 Q899.267 229.326 895.622 231.918 Q892.016 234.511 892.016 239.291 Q892.016 243.301 894.406 245.367 Q896.837 247.393 903.561 248.649 L908.504 249.661 Q917.659 251.403 921.993 255.819 Q926.368 260.194 926.368 267.566 Q926.368 276.357 920.454 280.894 Q914.58 285.431 903.197 285.431 Q898.903 285.431 894.042 284.459 Q889.221 283.486 884.036 281.582 L884.036 273.157 Q889.019 275.952 893.799 277.369 Q898.579 278.787 903.197 278.787 Q910.205 278.787 914.013 276.033 Q917.821 273.278 917.821 268.174 Q917.821 263.718 915.066 261.206 Q912.352 258.695 906.113 257.439 L901.131 256.467 Q891.976 254.644 887.884 250.755 Q883.793 246.866 883.793 239.939 Q883.793 231.918 889.424 227.3 Q895.095 222.682 905.02 222.682 Q909.273 222.682 913.689 223.452 Q918.104 224.222 922.722 225.761 Z\" fill=\"#000000\" fill-rule=\"evenodd\" fill-opacity=\"1\" /><path clip-path=\"url(#clip920)\" d=\"M938.804 238.886 L946.258 238.886 L946.258 284.256 L938.804 284.256 L938.804 238.886 M938.804 221.224 L946.258 221.224 L946.258 230.663 L938.804 230.663 L938.804 221.224 Z\" fill=\"#000000\" fill-rule=\"evenodd\" fill-opacity=\"1\" /><path clip-path=\"url(#clip920)\" d=\"M958.613 238.886 L994.018 238.886 L994.018 245.691 L965.986 278.301 L994.018 278.301 L994.018 284.256 L957.6 284.256 L957.6 277.45 L985.633 244.841 L958.613 244.841 L958.613 238.886 Z\" fill=\"#000000\" fill-rule=\"evenodd\" fill-opacity=\"1\" /><path clip-path=\"url(#clip920)\" d=\"M1044.21 259.708 L1044.21 263.353 L1009.94 263.353 Q1010.42 271.05 1014.56 275.101 Q1018.73 279.111 1026.14 279.111 Q1030.44 279.111 1034.45 278.058 Q1038.5 277.005 1042.47 274.898 L1042.47 281.947 Q1038.46 283.648 1034.24 284.54 Q1030.03 285.431 1025.7 285.431 Q1014.84 285.431 1008.48 279.111 Q1002.16 272.792 1002.16 262.017 Q1002.16 250.877 1008.16 244.355 Q1014.19 237.792 1024.4 237.792 Q1033.55 237.792 1038.86 243.706 Q1044.21 249.58 1044.21 259.708 M1036.76 257.52 Q1036.67 251.403 1033.31 247.757 Q1029.99 244.112 1024.48 244.112 Q1018.24 244.112 1014.48 247.636 Q1010.75 251.16 1010.18 257.561 L1036.76 257.52 Z\" fill=\"#000000\" fill-rule=\"evenodd\" fill-opacity=\"1\" /><path clip-path=\"url(#clip920)\" d=\"M1058.35 273.967 L1066.89 273.967 L1066.89 284.256 L1058.35 284.256 L1058.35 273.967 M1058.35 241.357 L1066.89 241.357 L1066.89 251.646 L1058.35 251.646 L1058.35 241.357 Z\" fill=\"#000000\" fill-rule=\"evenodd\" fill-opacity=\"1\" /><path clip-path=\"url(#clip920)\" d=\"M1128.67 221.305 Q1123.24 230.622 1120.61 239.737 Q1117.98 248.851 1117.98 258.209 Q1117.98 267.566 1120.61 276.762 Q1123.28 285.917 1128.67 295.193 L1122.19 295.193 Q1116.11 285.674 1113.07 276.478 Q1110.08 267.283 1110.08 258.209 Q1110.08 249.175 1113.07 240.02 Q1116.07 230.865 1122.19 221.305 L1128.67 221.305 Z\" fill=\"#000000\" fill-rule=\"evenodd\" fill-opacity=\"1\" /><path clip-path=\"url(#clip920)\" d=\"M1145.6 277.369 L1158.97 277.369 L1158.97 231.23 L1144.43 234.146 L1144.43 226.693 L1158.89 223.776 L1167.07 223.776 L1167.07 277.369 L1180.44 277.369 L1180.44 284.256 L1145.6 284.256 L1145.6 277.369 Z\" fill=\"#000000\" fill-rule=\"evenodd\" fill-opacity=\"1\" /><path clip-path=\"url(#clip920)\" d=\"M1214.47 229.164 Q1208.15 229.164 1204.95 235.402 Q1201.79 241.6 1201.79 254.077 Q1201.79 266.513 1204.95 272.751 Q1208.15 278.949 1214.47 278.949 Q1220.83 278.949 1223.99 272.751 Q1227.19 266.513 1227.19 254.077 Q1227.19 241.6 1223.99 235.402 Q1220.83 229.164 1214.47 229.164 M1214.47 222.682 Q1224.64 222.682 1229.98 230.744 Q1235.37 238.764 1235.37 254.077 Q1235.37 269.349 1229.98 277.41 Q1224.64 285.431 1214.47 285.431 Q1204.3 285.431 1198.91 277.41 Q1193.57 269.349 1193.57 254.077 Q1193.57 238.764 1198.91 230.744 Q1204.3 222.682 1214.47 222.682 Z\" fill=\"#000000\" fill-rule=\"evenodd\" fill-opacity=\"1\" /><path clip-path=\"url(#clip920)\" d=\"M1267.25 229.164 Q1260.93 229.164 1257.73 235.402 Q1254.57 241.6 1254.57 254.077 Q1254.57 266.513 1257.73 272.751 Q1260.93 278.949 1267.25 278.949 Q1273.61 278.949 1276.77 272.751 Q1279.97 266.513 1279.97 254.077 Q1279.97 241.6 1276.77 235.402 Q1273.61 229.164 1267.25 229.164 M1267.25 222.682 Q1277.42 222.682 1282.77 230.744 Q1288.15 238.764 1288.15 254.077 Q1288.15 269.349 1282.77 277.41 Q1277.42 285.431 1267.25 285.431 Q1257.08 285.431 1251.7 277.41 Q1246.35 269.349 1246.35 254.077 Q1246.35 238.764 1251.7 230.744 Q1257.08 222.682 1267.25 222.682 Z\" fill=\"#000000\" fill-rule=\"evenodd\" fill-opacity=\"1\" /><path clip-path=\"url(#clip920)\" d=\"M1320.03 229.164 Q1313.72 229.164 1310.52 235.402 Q1307.36 241.6 1307.36 254.077 Q1307.36 266.513 1310.52 272.751 Q1313.72 278.949 1320.03 278.949 Q1326.39 278.949 1329.55 272.751 Q1332.75 266.513 1332.75 254.077 Q1332.75 241.6 1329.55 235.402 Q1326.39 229.164 1320.03 229.164 M1320.03 222.682 Q1330.2 222.682 1335.55 230.744 Q1340.94 238.764 1340.94 254.077 Q1340.94 269.349 1335.55 277.41 Q1330.2 285.431 1320.03 285.431 Q1309.87 285.431 1304.48 277.41 Q1299.13 269.349 1299.13 254.077 Q1299.13 238.764 1304.48 230.744 Q1309.87 222.682 1320.03 222.682 Z\" fill=\"#000000\" fill-rule=\"evenodd\" fill-opacity=\"1\" /><path clip-path=\"url(#clip920)\" d=\"M1372.82 229.164 Q1366.5 229.164 1363.3 235.402 Q1360.14 241.6 1360.14 254.077 Q1360.14 266.513 1363.3 272.751 Q1366.5 278.949 1372.82 278.949 Q1379.18 278.949 1382.34 272.751 Q1385.54 266.513 1385.54 254.077 Q1385.54 241.6 1382.34 235.402 Q1379.18 229.164 1372.82 229.164 M1372.82 222.682 Q1382.99 222.682 1388.33 230.744 Q1393.72 238.764 1393.72 254.077 Q1393.72 269.349 1388.33 277.41 Q1382.99 285.431 1372.82 285.431 Q1362.65 285.431 1357.26 277.41 Q1351.92 269.349 1351.92 254.077 Q1351.92 238.764 1357.26 230.744 Q1362.65 222.682 1372.82 222.682 Z\" fill=\"#000000\" fill-rule=\"evenodd\" fill-opacity=\"1\" /><path clip-path=\"url(#clip920)\" d=\"M1408.95 273.967 L1417.5 273.967 L1417.5 280.934 L1410.86 293.897 L1405.63 293.897 L1408.95 280.934 L1408.95 273.967 Z\" fill=\"#000000\" fill-rule=\"evenodd\" fill-opacity=\"1\" /><path clip-path=\"url(#clip920)\" d=\"M1462.26 277.369 L1475.63 277.369 L1475.63 231.23 L1461.09 234.146 L1461.09 226.693 L1475.55 223.776 L1483.73 223.776 L1483.73 277.369 L1497.1 277.369 L1497.1 284.256 L1462.26 284.256 L1462.26 277.369 Z\" fill=\"#000000\" fill-rule=\"evenodd\" fill-opacity=\"1\" /><path clip-path=\"url(#clip920)\" d=\"M1531.13 229.164 Q1524.81 229.164 1521.61 235.402 Q1518.45 241.6 1518.45 254.077 Q1518.45 266.513 1521.61 272.751 Q1524.81 278.949 1531.13 278.949 Q1537.49 278.949 1540.65 272.751 Q1543.85 266.513 1543.85 254.077 Q1543.85 241.6 1540.65 235.402 Q1537.49 229.164 1531.13 229.164 M1531.13 222.682 Q1541.3 222.682 1546.64 230.744 Q1552.03 238.764 1552.03 254.077 Q1552.03 269.349 1546.64 277.41 Q1541.3 285.431 1531.13 285.431 Q1520.96 285.431 1515.57 277.41 Q1510.22 269.349 1510.22 254.077 Q1510.22 238.764 1515.57 230.744 Q1520.96 222.682 1531.13 222.682 Z\" fill=\"#000000\" fill-rule=\"evenodd\" fill-opacity=\"1\" /><path clip-path=\"url(#clip920)\" d=\"M1583.91 229.164 Q1577.59 229.164 1574.39 235.402 Q1571.23 241.6 1571.23 254.077 Q1571.23 266.513 1574.39 272.751 Q1577.59 278.949 1583.91 278.949 Q1590.27 278.949 1593.43 272.751 Q1596.63 266.513 1596.63 254.077 Q1596.63 241.6 1593.43 235.402 Q1590.27 229.164 1583.91 229.164 M1583.91 222.682 Q1594.08 222.682 1599.43 230.744 Q1604.81 238.764 1604.81 254.077 Q1604.81 269.349 1599.43 277.41 Q1594.08 285.431 1583.91 285.431 Q1573.74 285.431 1568.36 277.41 Q1563.01 269.349 1563.01 254.077 Q1563.01 238.764 1568.36 230.744 Q1573.74 222.682 1583.91 222.682 Z\" fill=\"#000000\" fill-rule=\"evenodd\" fill-opacity=\"1\" /><path clip-path=\"url(#clip920)\" d=\"M1636.69 229.164 Q1630.37 229.164 1627.17 235.402 Q1624.01 241.6 1624.01 254.077 Q1624.01 266.513 1627.17 272.751 Q1630.37 278.949 1636.69 278.949 Q1643.05 278.949 1646.21 272.751 Q1649.41 266.513 1649.41 254.077 Q1649.41 241.6 1646.21 235.402 Q1643.05 229.164 1636.69 229.164 M1636.69 222.682 Q1646.86 222.682 1652.21 230.744 Q1657.6 238.764 1657.6 254.077 Q1657.6 269.349 1652.21 277.41 Q1646.86 285.431 1636.69 285.431 Q1626.53 285.431 1621.14 277.41 Q1615.79 269.349 1615.79 254.077 Q1615.79 238.764 1621.14 230.744 Q1626.53 222.682 1636.69 222.682 Z\" fill=\"#000000\" fill-rule=\"evenodd\" fill-opacity=\"1\" /><path clip-path=\"url(#clip920)\" d=\"M1669.75 221.305 L1676.23 221.305 Q1682.31 230.865 1685.3 240.02 Q1688.34 249.175 1688.34 258.209 Q1688.34 267.283 1685.3 276.478 Q1682.31 285.674 1676.23 295.193 L1669.75 295.193 Q1675.14 285.917 1677.77 276.762 Q1680.44 267.566 1680.44 258.209 Q1680.44 248.851 1677.77 239.737 Q1675.14 230.622 1669.75 221.305 Z\" fill=\"#000000\" fill-rule=\"evenodd\" fill-opacity=\"1\" /><path clip-path=\"url(#clip922)\" d=\"\n",
       "M333.548 1165.18 L333.548 1417.71 L445.609 1417.71 L445.609 1165.18 L333.548 1165.18 L333.548 1165.18  Z\n",
       "  \" fill=\"#009af9\" fill-rule=\"evenodd\" fill-opacity=\"1\"/>\n",
       "<polyline clip-path=\"url(#clip922)\" style=\"stroke:#000000; stroke-linecap:butt; stroke-linejoin:round; stroke-width:4; stroke-opacity:1; fill:none\" points=\"\n",
       "  333.548,1165.18 333.548,1417.71 445.609,1417.71 445.609,1165.18 333.548,1165.18 \n",
       "  \"/>\n",
       "<path clip-path=\"url(#clip922)\" d=\"\n",
       "M613.701 1132.24 L613.701 1417.71 L725.762 1417.71 L725.762 1132.24 L613.701 1132.24 L613.701 1132.24  Z\n",
       "  \" fill=\"#009af9\" fill-rule=\"evenodd\" fill-opacity=\"1\"/>\n",
       "<polyline clip-path=\"url(#clip922)\" style=\"stroke:#000000; stroke-linecap:butt; stroke-linejoin:round; stroke-width:4; stroke-opacity:1; fill:none\" points=\"\n",
       "  613.701,1132.24 613.701,1417.71 725.762,1417.71 725.762,1132.24 613.701,1132.24 \n",
       "  \"/>\n",
       "<path clip-path=\"url(#clip922)\" d=\"\n",
       "M893.854 655.771 L893.854 1417.71 L1005.92 1417.71 L1005.92 655.771 L893.854 655.771 L893.854 655.771  Z\n",
       "  \" fill=\"#009af9\" fill-rule=\"evenodd\" fill-opacity=\"1\"/>\n",
       "<polyline clip-path=\"url(#clip922)\" style=\"stroke:#000000; stroke-linecap:butt; stroke-linejoin:round; stroke-width:4; stroke-opacity:1; fill:none\" points=\"\n",
       "  893.854,655.771 893.854,1417.71 1005.92,1417.71 1005.92,655.771 893.854,655.771 \n",
       "  \"/>\n",
       "<path clip-path=\"url(#clip922)\" d=\"\n",
       "M1174.01 278.605 L1174.01 1417.71 L1286.07 1417.71 L1286.07 278.605 L1174.01 278.605 L1174.01 278.605  Z\n",
       "  \" fill=\"#009af9\" fill-rule=\"evenodd\" fill-opacity=\"1\"/>\n",
       "<polyline clip-path=\"url(#clip922)\" style=\"stroke:#000000; stroke-linecap:butt; stroke-linejoin:round; stroke-width:4; stroke-opacity:1; fill:none\" points=\"\n",
       "  1174.01,278.605 1174.01,1417.71 1286.07,1417.71 1286.07,278.605 1174.01,278.605 \n",
       "  \"/>\n",
       "<path clip-path=\"url(#clip922)\" d=\"\n",
       "M1454.16 1199.34 L1454.16 1417.71 L1566.22 1417.71 L1566.22 1199.34 L1454.16 1199.34 L1454.16 1199.34  Z\n",
       "  \" fill=\"#009af9\" fill-rule=\"evenodd\" fill-opacity=\"1\"/>\n",
       "<polyline clip-path=\"url(#clip922)\" style=\"stroke:#000000; stroke-linecap:butt; stroke-linejoin:round; stroke-width:4; stroke-opacity:1; fill:none\" points=\"\n",
       "  1454.16,1199.34 1454.16,1417.71 1566.22,1417.71 1566.22,1199.34 1454.16,1199.34 \n",
       "  \"/>\n",
       "<path clip-path=\"url(#clip922)\" d=\"\n",
       "M1734.31 1127.85 L1734.31 1417.71 L1846.37 1417.71 L1846.37 1127.85 L1734.31 1127.85 L1734.31 1127.85  Z\n",
       "  \" fill=\"#009af9\" fill-rule=\"evenodd\" fill-opacity=\"1\"/>\n",
       "<polyline clip-path=\"url(#clip922)\" style=\"stroke:#000000; stroke-linecap:butt; stroke-linejoin:round; stroke-width:4; stroke-opacity:1; fill:none\" points=\"\n",
       "  1734.31,1127.85 1734.31,1417.71 1846.37,1417.71 1846.37,1127.85 1734.31,1127.85 \n",
       "  \"/>\n",
       "<path clip-path=\"url(#clip922)\" d=\"\n",
       "M2014.47 1105.22 L2014.47 1417.71 L2126.53 1417.71 L2126.53 1105.22 L2014.47 1105.22 L2014.47 1105.22  Z\n",
       "  \" fill=\"#009af9\" fill-rule=\"evenodd\" fill-opacity=\"1\"/>\n",
       "<polyline clip-path=\"url(#clip922)\" style=\"stroke:#000000; stroke-linecap:butt; stroke-linejoin:round; stroke-width:4; stroke-opacity:1; fill:none\" points=\"\n",
       "  2014.47,1105.22 2014.47,1417.71 2126.53,1417.71 2126.53,1105.22 2014.47,1105.22 \n",
       "  \"/>\n",
       "<circle clip-path=\"url(#clip922)\" style=\"fill:#009af9; stroke:none; fill-opacity:0\" cx=\"389.579\" cy=\"1165.18\" r=\"2\"/>\n",
       "<circle clip-path=\"url(#clip922)\" style=\"fill:#009af9; stroke:none; fill-opacity:0\" cx=\"669.732\" cy=\"1132.24\" r=\"2\"/>\n",
       "<circle clip-path=\"url(#clip922)\" style=\"fill:#009af9; stroke:none; fill-opacity:0\" cx=\"949.885\" cy=\"655.771\" r=\"2\"/>\n",
       "<circle clip-path=\"url(#clip922)\" style=\"fill:#009af9; stroke:none; fill-opacity:0\" cx=\"1230.04\" cy=\"278.605\" r=\"2\"/>\n",
       "<circle clip-path=\"url(#clip922)\" style=\"fill:#009af9; stroke:none; fill-opacity:0\" cx=\"1510.19\" cy=\"1199.34\" r=\"2\"/>\n",
       "<circle clip-path=\"url(#clip922)\" style=\"fill:#009af9; stroke:none; fill-opacity:0\" cx=\"1790.34\" cy=\"1127.85\" r=\"2\"/>\n",
       "<circle clip-path=\"url(#clip922)\" style=\"fill:#009af9; stroke:none; fill-opacity:0\" cx=\"2070.5\" cy=\"1105.22\" r=\"2\"/>\n",
       "<path clip-path=\"url(#clip922)\" d=\"\n",
       "M445.609 1414.27 L445.609 1417.71 L557.67 1417.71 L557.67 1414.27 L445.609 1414.27 L445.609 1414.27  Z\n",
       "  \" fill=\"#e26f46\" fill-rule=\"evenodd\" fill-opacity=\"1\"/>\n",
       "<polyline clip-path=\"url(#clip922)\" style=\"stroke:#000000; stroke-linecap:butt; stroke-linejoin:round; stroke-width:4; stroke-opacity:1; fill:none\" points=\"\n",
       "  445.609,1414.27 445.609,1417.71 557.67,1417.71 557.67,1414.27 445.609,1414.27 \n",
       "  \"/>\n",
       "<path clip-path=\"url(#clip922)\" d=\"\n",
       "M725.762 1381.25 L725.762 1417.71 L837.823 1417.71 L837.823 1381.25 L725.762 1381.25 L725.762 1381.25  Z\n",
       "  \" fill=\"#e26f46\" fill-rule=\"evenodd\" fill-opacity=\"1\"/>\n",
       "<polyline clip-path=\"url(#clip922)\" style=\"stroke:#000000; stroke-linecap:butt; stroke-linejoin:round; stroke-width:4; stroke-opacity:1; fill:none\" points=\"\n",
       "  725.762,1381.25 725.762,1417.71 837.823,1417.71 837.823,1381.25 725.762,1381.25 \n",
       "  \"/>\n",
       "<path clip-path=\"url(#clip922)\" d=\"\n",
       "M1005.92 881.638 L1005.92 1417.71 L1117.98 1417.71 L1117.98 881.638 L1005.92 881.638 L1005.92 881.638  Z\n",
       "  \" fill=\"#e26f46\" fill-rule=\"evenodd\" fill-opacity=\"1\"/>\n",
       "<polyline clip-path=\"url(#clip922)\" style=\"stroke:#000000; stroke-linecap:butt; stroke-linejoin:round; stroke-width:4; stroke-opacity:1; fill:none\" points=\"\n",
       "  1005.92,881.638 1005.92,1417.71 1117.98,1417.71 1117.98,881.638 1005.92,881.638 \n",
       "  \"/>\n",
       "<path clip-path=\"url(#clip922)\" d=\"\n",
       "M1286.07 1338.38 L1286.07 1417.71 L1398.13 1417.71 L1398.13 1338.38 L1286.07 1338.38 L1286.07 1338.38  Z\n",
       "  \" fill=\"#e26f46\" fill-rule=\"evenodd\" fill-opacity=\"1\"/>\n",
       "<polyline clip-path=\"url(#clip922)\" style=\"stroke:#000000; stroke-linecap:butt; stroke-linejoin:round; stroke-width:4; stroke-opacity:1; fill:none\" points=\"\n",
       "  1286.07,1338.38 1286.07,1417.71 1398.13,1417.71 1398.13,1338.38 1286.07,1338.38 \n",
       "  \"/>\n",
       "<path clip-path=\"url(#clip922)\" d=\"\n",
       "M1566.22 1226.77 L1566.22 1417.71 L1678.28 1417.71 L1678.28 1226.77 L1566.22 1226.77 L1566.22 1226.77  Z\n",
       "  \" fill=\"#e26f46\" fill-rule=\"evenodd\" fill-opacity=\"1\"/>\n",
       "<polyline clip-path=\"url(#clip922)\" style=\"stroke:#000000; stroke-linecap:butt; stroke-linejoin:round; stroke-width:4; stroke-opacity:1; fill:none\" points=\"\n",
       "  1566.22,1226.77 1566.22,1417.71 1678.28,1417.71 1678.28,1226.77 1566.22,1226.77 \n",
       "  \"/>\n",
       "<path clip-path=\"url(#clip922)\" d=\"\n",
       "M1846.37 1155.36 L1846.37 1417.71 L1958.44 1417.71 L1958.44 1155.36 L1846.37 1155.36 L1846.37 1155.36  Z\n",
       "  \" fill=\"#e26f46\" fill-rule=\"evenodd\" fill-opacity=\"1\"/>\n",
       "<polyline clip-path=\"url(#clip922)\" style=\"stroke:#000000; stroke-linecap:butt; stroke-linejoin:round; stroke-width:4; stroke-opacity:1; fill:none\" points=\"\n",
       "  1846.37,1155.36 1846.37,1417.71 1958.44,1417.71 1958.44,1155.36 1846.37,1155.36 \n",
       "  \"/>\n",
       "<path clip-path=\"url(#clip922)\" d=\"\n",
       "M2126.53 1134.66 L2126.53 1417.71 L2238.59 1417.71 L2238.59 1134.66 L2126.53 1134.66 L2126.53 1134.66  Z\n",
       "  \" fill=\"#e26f46\" fill-rule=\"evenodd\" fill-opacity=\"1\"/>\n",
       "<polyline clip-path=\"url(#clip922)\" style=\"stroke:#000000; stroke-linecap:butt; stroke-linejoin:round; stroke-width:4; stroke-opacity:1; fill:none\" points=\"\n",
       "  2126.53,1134.66 2126.53,1417.71 2238.59,1417.71 2238.59,1134.66 2126.53,1134.66 \n",
       "  \"/>\n",
       "<circle clip-path=\"url(#clip922)\" style=\"fill:#e26f46; stroke:none; fill-opacity:0\" cx=\"501.64\" cy=\"1414.27\" r=\"2\"/>\n",
       "<circle clip-path=\"url(#clip922)\" style=\"fill:#e26f46; stroke:none; fill-opacity:0\" cx=\"781.793\" cy=\"1381.25\" r=\"2\"/>\n",
       "<circle clip-path=\"url(#clip922)\" style=\"fill:#e26f46; stroke:none; fill-opacity:0\" cx=\"1061.95\" cy=\"881.638\" r=\"2\"/>\n",
       "<circle clip-path=\"url(#clip922)\" style=\"fill:#e26f46; stroke:none; fill-opacity:0\" cx=\"1342.1\" cy=\"1338.38\" r=\"2\"/>\n",
       "<circle clip-path=\"url(#clip922)\" style=\"fill:#e26f46; stroke:none; fill-opacity:0\" cx=\"1622.25\" cy=\"1226.77\" r=\"2\"/>\n",
       "<circle clip-path=\"url(#clip922)\" style=\"fill:#e26f46; stroke:none; fill-opacity:0\" cx=\"1902.4\" cy=\"1155.36\" r=\"2\"/>\n",
       "<circle clip-path=\"url(#clip922)\" style=\"fill:#e26f46; stroke:none; fill-opacity:0\" cx=\"2182.56\" cy=\"1134.66\" r=\"2\"/>\n",
       "<path clip-path=\"url(#clip920)\" d=\"\n",
       "M1962.08 440.201 L2281.64 440.201 L2281.64 284.681 L1962.08 284.681  Z\n",
       "  \" fill=\"#ffffff\" fill-rule=\"evenodd\" fill-opacity=\"1\"/>\n",
       "<polyline clip-path=\"url(#clip920)\" style=\"stroke:#000000; stroke-linecap:butt; stroke-linejoin:round; stroke-width:4; stroke-opacity:1; fill:none\" points=\"\n",
       "  1962.08,440.201 2281.64,440.201 2281.64,284.681 1962.08,284.681 1962.08,440.201 \n",
       "  \"/>\n",
       "<path clip-path=\"url(#clip920)\" d=\"\n",
       "M1985.78 357.257 L2128.01 357.257 L2128.01 315.785 L1985.78 315.785 L1985.78 357.257  Z\n",
       "  \" fill=\"#009af9\" fill-rule=\"evenodd\" fill-opacity=\"1\"/>\n",
       "<polyline clip-path=\"url(#clip920)\" style=\"stroke:#000000; stroke-linecap:butt; stroke-linejoin:round; stroke-width:4; stroke-opacity:1; fill:none\" points=\"\n",
       "  1985.78,357.257 2128.01,357.257 2128.01,315.785 1985.78,315.785 1985.78,357.257 \n",
       "  \"/>\n",
       "<path clip-path=\"url(#clip920)\" d=\"M2152.38 349.865 L2160.02 349.865 L2160.02 323.5 L2151.71 325.167 L2151.71 320.907 L2159.98 319.241 L2164.65 319.241 L2164.65 349.865 L2172.29 349.865 L2172.29 353.801 L2152.38 353.801 L2152.38 349.865 Z\" fill=\"#000000\" fill-rule=\"evenodd\" fill-opacity=\"1\" /><path clip-path=\"url(#clip920)\" d=\"M2197.66 328.639 L2197.66 332.667 Q2195.86 331.741 2193.91 331.278 Q2191.97 330.815 2189.88 330.815 Q2186.71 330.815 2185.11 331.787 Q2183.54 332.759 2183.54 334.704 Q2183.54 336.185 2184.68 337.041 Q2185.81 337.875 2189.24 338.639 L2190.69 338.963 Q2195.23 339.935 2197.13 341.717 Q2199.05 343.477 2199.05 346.648 Q2199.05 350.259 2196.18 352.365 Q2193.33 354.472 2188.33 354.472 Q2186.25 354.472 2183.98 354.055 Q2181.74 353.662 2179.24 352.852 L2179.24 348.453 Q2181.6 349.68 2183.89 350.305 Q2186.18 350.907 2188.43 350.907 Q2191.43 350.907 2193.05 349.889 Q2194.68 348.847 2194.68 346.972 Q2194.68 345.236 2193.49 344.31 Q2192.34 343.384 2188.38 342.528 L2186.9 342.18 Q2182.94 341.347 2181.18 339.634 Q2179.42 337.898 2179.42 334.889 Q2179.42 331.231 2182.01 329.241 Q2184.61 327.25 2189.37 327.25 Q2191.74 327.25 2193.82 327.597 Q2195.9 327.944 2197.66 328.639 Z\" fill=\"#000000\" fill-rule=\"evenodd\" fill-opacity=\"1\" /><path clip-path=\"url(#clip920)\" d=\"M2210.05 320.514 L2210.05 327.875 L2218.82 327.875 L2218.82 331.185 L2210.05 331.185 L2210.05 345.259 Q2210.05 348.43 2210.9 349.333 Q2211.78 350.236 2214.44 350.236 L2218.82 350.236 L2218.82 353.801 L2214.44 353.801 Q2209.51 353.801 2207.64 351.972 Q2205.76 350.12 2205.76 345.259 L2205.76 331.185 L2202.64 331.185 L2202.64 327.875 L2205.76 327.875 L2205.76 320.514 L2210.05 320.514 Z\" fill=\"#000000\" fill-rule=\"evenodd\" fill-opacity=\"1\" /><path clip-path=\"url(#clip920)\" d=\"\n",
       "M1985.78 409.097 L2128.01 409.097 L2128.01 367.625 L1985.78 367.625 L1985.78 409.097  Z\n",
       "  \" fill=\"#e26f46\" fill-rule=\"evenodd\" fill-opacity=\"1\"/>\n",
       "<polyline clip-path=\"url(#clip920)\" style=\"stroke:#000000; stroke-linecap:butt; stroke-linejoin:round; stroke-width:4; stroke-opacity:1; fill:none\" points=\"\n",
       "  1985.78,409.097 2128.01,409.097 2128.01,367.625 1985.78,367.625 1985.78,409.097 \n",
       "  \"/>\n",
       "<path clip-path=\"url(#clip920)\" d=\"M2157.34 401.705 L2173.66 401.705 L2173.66 405.641 L2151.71 405.641 L2151.71 401.705 Q2154.37 398.951 2158.96 394.321 Q2163.56 389.669 2164.74 388.326 Q2166.99 385.803 2167.87 384.067 Q2168.77 382.307 2168.77 380.618 Q2168.77 377.863 2166.83 376.127 Q2164.91 374.391 2161.8 374.391 Q2159.61 374.391 2157.15 375.155 Q2154.72 375.919 2151.94 377.47 L2151.94 372.747 Q2154.77 371.613 2157.22 371.034 Q2159.68 370.456 2161.71 370.456 Q2167.08 370.456 2170.28 373.141 Q2173.47 375.826 2173.47 380.317 Q2173.47 382.446 2172.66 384.368 Q2171.87 386.266 2169.77 388.858 Q2169.19 389.53 2166.09 392.747 Q2162.99 395.942 2157.34 401.705 Z\" fill=\"#000000\" fill-rule=\"evenodd\" fill-opacity=\"1\" /><path clip-path=\"url(#clip920)\" d=\"M2204.42 389.993 L2204.42 405.641 L2200.16 405.641 L2200.16 390.131 Q2200.16 386.451 2198.73 384.622 Q2197.29 382.794 2194.42 382.794 Q2190.97 382.794 2188.98 384.993 Q2186.99 387.192 2186.99 390.988 L2186.99 405.641 L2182.71 405.641 L2182.71 379.715 L2186.99 379.715 L2186.99 383.743 Q2188.52 381.405 2190.58 380.247 Q2192.66 379.09 2195.37 379.09 Q2199.84 379.09 2202.13 381.868 Q2204.42 384.622 2204.42 389.993 Z\" fill=\"#000000\" fill-rule=\"evenodd\" fill-opacity=\"1\" /><path clip-path=\"url(#clip920)\" d=\"M2229.98 383.65 L2229.98 369.622 L2234.24 369.622 L2234.24 405.641 L2229.98 405.641 L2229.98 401.752 Q2228.63 404.067 2226.57 405.201 Q2224.54 406.312 2221.67 406.312 Q2216.97 406.312 2214 402.562 Q2211.06 398.812 2211.06 392.701 Q2211.06 386.59 2214 382.84 Q2216.97 379.09 2221.67 379.09 Q2224.54 379.09 2226.57 380.224 Q2228.63 381.335 2229.98 383.65 M2215.46 392.701 Q2215.46 397.4 2217.38 400.085 Q2219.33 402.747 2222.71 402.747 Q2226.09 402.747 2228.03 400.085 Q2229.98 397.4 2229.98 392.701 Q2229.98 388.002 2228.03 385.34 Q2226.09 382.655 2222.71 382.655 Q2219.33 382.655 2217.38 385.34 Q2215.46 388.002 2215.46 392.701 Z\" fill=\"#000000\" fill-rule=\"evenodd\" fill-opacity=\"1\" /></svg>\n"
      ]
     },
     "execution_count": 42,
     "metadata": {},
     "output_type": "execute_result"
    }
   ],
   "source": [
    "# Exclude JSON\\narraytable arraytable due to much longer timing\n",
    "groupedbar(\n",
    "    repeat([\"CSV.jl\", \"Serialization\", \"JDF.jl\", \"JLSO.jl\", \"Arrow.jl\", \"Arrow.jl\\ncopy\", #\"JSON\\narraytable\",\n",
    "            \"JSON\\nobjecttable\"], inner = 2),\n",
    "    [csvread1, csvread2, serializeread1, serializeread2, jdfread1, jdfread2, jlsoread1, jlsoread2,\n",
    "     arrowread1, arrowread2, arrowread1+arrowread1copy, arrowread2+arrowread2copy,\n",
    "     # jsontablesaread1, jsontablesaread2,\n",
    "     jsontablesoread1, jsontablesoread2],    \n",
    "    group = repeat([\"1st\", \"2nd\"], outer = 7),\n",
    "    ylab = \"Second\",\n",
    "    title = \"Read Performance\\nDataFrame: bigdf\\nSize: $(size(bigdf))\"\n",
    ")"
   ]
  },
  {
   "cell_type": "markdown",
   "metadata": {},
   "source": [
    "## Using gzip compression"
   ]
  },
  {
   "cell_type": "markdown",
   "metadata": {},
   "source": [
    "A common user requirement is to be able to load and save CSV that are compressed using gzip. Below we show how this can be accomplished using `CodecZlib.jl`. The same pattern is applicable to `JSONTables.jl` compression/decompression.\n",
    "\n",
    "Again make sure that you do not have file named `df_compress_test.csv.gz` in your working directory.\n",
    "\n",
    "We first generate a random data frame."
   ]
  },
  {
   "cell_type": "code",
   "execution_count": 43,
   "metadata": {
    "execution": {
     "iopub.execute_input": "2022-07-18T00:56:36.169000Z",
     "iopub.status.busy": "2022-07-18T00:56:36.169000Z",
     "iopub.status.idle": "2022-07-18T00:56:36.322000Z",
     "shell.execute_reply": "2022-07-18T00:56:36.322000Z"
    }
   },
   "outputs": [
    {
     "data": {
      "text/html": [
       "<div class=\"data-frame\"><p>10 rows × 1,000 columns (omitted printing of 988 columns)</p><table class=\"data-frame\"><thead><tr><th></th><th>x1</th><th>x2</th><th>x3</th><th>x4</th><th>x5</th><th>x6</th><th>x7</th><th>x8</th><th>x9</th><th>x10</th><th>x11</th><th>x12</th></tr><tr><th></th><th title=\"Int64\">Int64</th><th title=\"Int64\">Int64</th><th title=\"Int64\">Int64</th><th title=\"Int64\">Int64</th><th title=\"Int64\">Int64</th><th title=\"Int64\">Int64</th><th title=\"Int64\">Int64</th><th title=\"Int64\">Int64</th><th title=\"Int64\">Int64</th><th title=\"Int64\">Int64</th><th title=\"Int64\">Int64</th><th title=\"Int64\">Int64</th></tr></thead><tbody><tr><th>1</th><td>8</td><td>5</td><td>7</td><td>8</td><td>4</td><td>2</td><td>7</td><td>6</td><td>9</td><td>6</td><td>2</td><td>8</td></tr><tr><th>2</th><td>3</td><td>5</td><td>1</td><td>10</td><td>3</td><td>8</td><td>7</td><td>2</td><td>6</td><td>1</td><td>2</td><td>7</td></tr><tr><th>3</th><td>6</td><td>8</td><td>8</td><td>4</td><td>7</td><td>3</td><td>8</td><td>8</td><td>3</td><td>10</td><td>7</td><td>2</td></tr><tr><th>4</th><td>3</td><td>8</td><td>10</td><td>10</td><td>9</td><td>5</td><td>4</td><td>8</td><td>9</td><td>8</td><td>6</td><td>9</td></tr><tr><th>5</th><td>4</td><td>4</td><td>4</td><td>9</td><td>6</td><td>9</td><td>4</td><td>3</td><td>1</td><td>4</td><td>10</td><td>9</td></tr><tr><th>6</th><td>3</td><td>8</td><td>9</td><td>4</td><td>6</td><td>2</td><td>4</td><td>6</td><td>6</td><td>8</td><td>2</td><td>4</td></tr><tr><th>7</th><td>3</td><td>3</td><td>2</td><td>2</td><td>3</td><td>1</td><td>2</td><td>4</td><td>4</td><td>8</td><td>4</td><td>5</td></tr><tr><th>8</th><td>3</td><td>2</td><td>4</td><td>10</td><td>5</td><td>9</td><td>3</td><td>3</td><td>1</td><td>5</td><td>6</td><td>6</td></tr><tr><th>9</th><td>6</td><td>10</td><td>2</td><td>3</td><td>2</td><td>10</td><td>8</td><td>1</td><td>9</td><td>5</td><td>4</td><td>3</td></tr><tr><th>10</th><td>6</td><td>2</td><td>3</td><td>5</td><td>9</td><td>4</td><td>6</td><td>7</td><td>9</td><td>8</td><td>6</td><td>7</td></tr></tbody></table></div>"
      ],
      "text/latex": [
       "\\begin{tabular}{r|ccccccccccccc}\n",
       "\t& x1 & x2 & x3 & x4 & x5 & x6 & x7 & x8 & x9 & x10 & x11 & x12 & \\\\\n",
       "\t\\hline\n",
       "\t& Int64 & Int64 & Int64 & Int64 & Int64 & Int64 & Int64 & Int64 & Int64 & Int64 & Int64 & Int64 & \\\\\n",
       "\t\\hline\n",
       "\t1 & 8 & 5 & 7 & 8 & 4 & 2 & 7 & 6 & 9 & 6 & 2 & 8 & $\\dots$ \\\\\n",
       "\t2 & 3 & 5 & 1 & 10 & 3 & 8 & 7 & 2 & 6 & 1 & 2 & 7 & $\\dots$ \\\\\n",
       "\t3 & 6 & 8 & 8 & 4 & 7 & 3 & 8 & 8 & 3 & 10 & 7 & 2 & $\\dots$ \\\\\n",
       "\t4 & 3 & 8 & 10 & 10 & 9 & 5 & 4 & 8 & 9 & 8 & 6 & 9 & $\\dots$ \\\\\n",
       "\t5 & 4 & 4 & 4 & 9 & 6 & 9 & 4 & 3 & 1 & 4 & 10 & 9 & $\\dots$ \\\\\n",
       "\t6 & 3 & 8 & 9 & 4 & 6 & 2 & 4 & 6 & 6 & 8 & 2 & 4 & $\\dots$ \\\\\n",
       "\t7 & 3 & 3 & 2 & 2 & 3 & 1 & 2 & 4 & 4 & 8 & 4 & 5 & $\\dots$ \\\\\n",
       "\t8 & 3 & 2 & 4 & 10 & 5 & 9 & 3 & 3 & 1 & 5 & 6 & 6 & $\\dots$ \\\\\n",
       "\t9 & 6 & 10 & 2 & 3 & 2 & 10 & 8 & 1 & 9 & 5 & 4 & 3 & $\\dots$ \\\\\n",
       "\t10 & 6 & 2 & 3 & 5 & 9 & 4 & 6 & 7 & 9 & 8 & 6 & 7 & $\\dots$ \\\\\n",
       "\\end{tabular}\n"
      ],
      "text/plain": [
       "\u001b[1m10×1000 DataFrame\u001b[0m\n",
       "\u001b[1m Row \u001b[0m│\u001b[1m x1    \u001b[0m\u001b[1m x2    \u001b[0m\u001b[1m x3    \u001b[0m\u001b[1m x4    \u001b[0m\u001b[1m x5    \u001b[0m\u001b[1m x6    \u001b[0m\u001b[1m x7    \u001b[0m\u001b[1m x8    \u001b[0m\u001b[1m x9    \u001b[0m\u001b[1m x10   \u001b[0m\u001b[1m x\u001b[0m ⋯\n",
       "\u001b[1m     \u001b[0m│\u001b[90m Int64 \u001b[0m\u001b[90m Int64 \u001b[0m\u001b[90m Int64 \u001b[0m\u001b[90m Int64 \u001b[0m\u001b[90m Int64 \u001b[0m\u001b[90m Int64 \u001b[0m\u001b[90m Int64 \u001b[0m\u001b[90m Int64 \u001b[0m\u001b[90m Int64 \u001b[0m\u001b[90m Int64 \u001b[0m\u001b[90m I\u001b[0m ⋯\n",
       "─────┼──────────────────────────────────────────────────────────────────────────\n",
       "   1 │     8      5      7      8      4      2      7      6      9      6    ⋯\n",
       "   2 │     3      5      1     10      3      8      7      2      6      1\n",
       "   3 │     6      8      8      4      7      3      8      8      3     10\n",
       "   4 │     3      8     10     10      9      5      4      8      9      8\n",
       "   5 │     4      4      4      9      6      9      4      3      1      4    ⋯\n",
       "   6 │     3      8      9      4      6      2      4      6      6      8\n",
       "   7 │     3      3      2      2      3      1      2      4      4      8\n",
       "   8 │     3      2      4     10      5      9      3      3      1      5\n",
       "   9 │     6     10      2      3      2     10      8      1      9      5    ⋯\n",
       "  10 │     6      2      3      5      9      4      6      7      9      8\n",
       "\u001b[36m                                                             990 columns omitted\u001b[0m"
      ]
     },
     "execution_count": 43,
     "metadata": {},
     "output_type": "execute_result"
    }
   ],
   "source": [
    "df = DataFrame(rand(1:10, 10, 1000), :auto)"
   ]
  },
  {
   "cell_type": "code",
   "execution_count": 44,
   "metadata": {
    "execution": {
     "iopub.execute_input": "2022-07-18T00:56:36.326000Z",
     "iopub.status.busy": "2022-07-18T00:56:36.325000Z",
     "iopub.status.idle": "2022-07-18T00:56:42.583000Z",
     "shell.execute_reply": "2022-07-18T00:56:42.583000Z"
    }
   },
   "outputs": [],
   "source": [
    "# GzipCompressorStream comes from CodecZlib\n",
    "\n",
    "open(\"df_compress_test.csv.gz\", \"w\") do io\n",
    "    stream = GzipCompressorStream(io)\n",
    "    CSV.write(stream, df)\n",
    "    close(stream)\n",
    "end"
   ]
  },
  {
   "cell_type": "code",
   "execution_count": 45,
   "metadata": {
    "execution": {
     "iopub.execute_input": "2022-07-18T00:56:42.586000Z",
     "iopub.status.busy": "2022-07-18T00:56:42.586000Z",
     "iopub.status.idle": "2022-07-18T00:56:42.734000Z",
     "shell.execute_reply": "2022-07-18T00:56:42.734000Z"
    }
   },
   "outputs": [
    {
     "data": {
      "text/html": [
       "<div class=\"data-frame\"><p>10 rows × 1,000 columns (omitted printing of 988 columns)</p><table class=\"data-frame\"><thead><tr><th></th><th>x1</th><th>x2</th><th>x3</th><th>x4</th><th>x5</th><th>x6</th><th>x7</th><th>x8</th><th>x9</th><th>x10</th><th>x11</th><th>x12</th></tr><tr><th></th><th title=\"Int64\">Int64</th><th title=\"Int64\">Int64</th><th title=\"Int64\">Int64</th><th title=\"Int64\">Int64</th><th title=\"Int64\">Int64</th><th title=\"Int64\">Int64</th><th title=\"Int64\">Int64</th><th title=\"Int64\">Int64</th><th title=\"Int64\">Int64</th><th title=\"Int64\">Int64</th><th title=\"Int64\">Int64</th><th title=\"Int64\">Int64</th></tr></thead><tbody><tr><th>1</th><td>8</td><td>5</td><td>7</td><td>8</td><td>4</td><td>2</td><td>7</td><td>6</td><td>9</td><td>6</td><td>2</td><td>8</td></tr><tr><th>2</th><td>3</td><td>5</td><td>1</td><td>10</td><td>3</td><td>8</td><td>7</td><td>2</td><td>6</td><td>1</td><td>2</td><td>7</td></tr><tr><th>3</th><td>6</td><td>8</td><td>8</td><td>4</td><td>7</td><td>3</td><td>8</td><td>8</td><td>3</td><td>10</td><td>7</td><td>2</td></tr><tr><th>4</th><td>3</td><td>8</td><td>10</td><td>10</td><td>9</td><td>5</td><td>4</td><td>8</td><td>9</td><td>8</td><td>6</td><td>9</td></tr><tr><th>5</th><td>4</td><td>4</td><td>4</td><td>9</td><td>6</td><td>9</td><td>4</td><td>3</td><td>1</td><td>4</td><td>10</td><td>9</td></tr><tr><th>6</th><td>3</td><td>8</td><td>9</td><td>4</td><td>6</td><td>2</td><td>4</td><td>6</td><td>6</td><td>8</td><td>2</td><td>4</td></tr><tr><th>7</th><td>3</td><td>3</td><td>2</td><td>2</td><td>3</td><td>1</td><td>2</td><td>4</td><td>4</td><td>8</td><td>4</td><td>5</td></tr><tr><th>8</th><td>3</td><td>2</td><td>4</td><td>10</td><td>5</td><td>9</td><td>3</td><td>3</td><td>1</td><td>5</td><td>6</td><td>6</td></tr><tr><th>9</th><td>6</td><td>10</td><td>2</td><td>3</td><td>2</td><td>10</td><td>8</td><td>1</td><td>9</td><td>5</td><td>4</td><td>3</td></tr><tr><th>10</th><td>6</td><td>2</td><td>3</td><td>5</td><td>9</td><td>4</td><td>6</td><td>7</td><td>9</td><td>8</td><td>6</td><td>7</td></tr></tbody></table></div>"
      ],
      "text/latex": [
       "\\begin{tabular}{r|ccccccccccccc}\n",
       "\t& x1 & x2 & x3 & x4 & x5 & x6 & x7 & x8 & x9 & x10 & x11 & x12 & \\\\\n",
       "\t\\hline\n",
       "\t& Int64 & Int64 & Int64 & Int64 & Int64 & Int64 & Int64 & Int64 & Int64 & Int64 & Int64 & Int64 & \\\\\n",
       "\t\\hline\n",
       "\t1 & 8 & 5 & 7 & 8 & 4 & 2 & 7 & 6 & 9 & 6 & 2 & 8 & $\\dots$ \\\\\n",
       "\t2 & 3 & 5 & 1 & 10 & 3 & 8 & 7 & 2 & 6 & 1 & 2 & 7 & $\\dots$ \\\\\n",
       "\t3 & 6 & 8 & 8 & 4 & 7 & 3 & 8 & 8 & 3 & 10 & 7 & 2 & $\\dots$ \\\\\n",
       "\t4 & 3 & 8 & 10 & 10 & 9 & 5 & 4 & 8 & 9 & 8 & 6 & 9 & $\\dots$ \\\\\n",
       "\t5 & 4 & 4 & 4 & 9 & 6 & 9 & 4 & 3 & 1 & 4 & 10 & 9 & $\\dots$ \\\\\n",
       "\t6 & 3 & 8 & 9 & 4 & 6 & 2 & 4 & 6 & 6 & 8 & 2 & 4 & $\\dots$ \\\\\n",
       "\t7 & 3 & 3 & 2 & 2 & 3 & 1 & 2 & 4 & 4 & 8 & 4 & 5 & $\\dots$ \\\\\n",
       "\t8 & 3 & 2 & 4 & 10 & 5 & 9 & 3 & 3 & 1 & 5 & 6 & 6 & $\\dots$ \\\\\n",
       "\t9 & 6 & 10 & 2 & 3 & 2 & 10 & 8 & 1 & 9 & 5 & 4 & 3 & $\\dots$ \\\\\n",
       "\t10 & 6 & 2 & 3 & 5 & 9 & 4 & 6 & 7 & 9 & 8 & 6 & 7 & $\\dots$ \\\\\n",
       "\\end{tabular}\n"
      ],
      "text/plain": [
       "\u001b[1m10×1000 DataFrame\u001b[0m\n",
       "\u001b[1m Row \u001b[0m│\u001b[1m x1    \u001b[0m\u001b[1m x2    \u001b[0m\u001b[1m x3    \u001b[0m\u001b[1m x4    \u001b[0m\u001b[1m x5    \u001b[0m\u001b[1m x6    \u001b[0m\u001b[1m x7    \u001b[0m\u001b[1m x8    \u001b[0m\u001b[1m x9    \u001b[0m\u001b[1m x10   \u001b[0m\u001b[1m x\u001b[0m ⋯\n",
       "\u001b[1m     \u001b[0m│\u001b[90m Int64 \u001b[0m\u001b[90m Int64 \u001b[0m\u001b[90m Int64 \u001b[0m\u001b[90m Int64 \u001b[0m\u001b[90m Int64 \u001b[0m\u001b[90m Int64 \u001b[0m\u001b[90m Int64 \u001b[0m\u001b[90m Int64 \u001b[0m\u001b[90m Int64 \u001b[0m\u001b[90m Int64 \u001b[0m\u001b[90m I\u001b[0m ⋯\n",
       "─────┼──────────────────────────────────────────────────────────────────────────\n",
       "   1 │     8      5      7      8      4      2      7      6      9      6    ⋯\n",
       "   2 │     3      5      1     10      3      8      7      2      6      1\n",
       "   3 │     6      8      8      4      7      3      8      8      3     10\n",
       "   4 │     3      8     10     10      9      5      4      8      9      8\n",
       "   5 │     4      4      4      9      6      9      4      3      1      4    ⋯\n",
       "   6 │     3      8      9      4      6      2      4      6      6      8\n",
       "   7 │     3      3      2      2      3      1      2      4      4      8\n",
       "   8 │     3      2      4     10      5      9      3      3      1      5\n",
       "   9 │     6     10      2      3      2     10      8      1      9      5    ⋯\n",
       "  10 │     6      2      3      5      9      4      6      7      9      8\n",
       "\u001b[36m                                                             990 columns omitted\u001b[0m"
      ]
     },
     "execution_count": 45,
     "metadata": {},
     "output_type": "execute_result"
    }
   ],
   "source": [
    "df2 = CSV.File(transcode(GzipDecompressor, Mmap.mmap(\"df_compress_test.csv.gz\"))) |> DataFrame"
   ]
  },
  {
   "cell_type": "code",
   "execution_count": 46,
   "metadata": {
    "execution": {
     "iopub.execute_input": "2022-07-18T00:56:42.738000Z",
     "iopub.status.busy": "2022-07-18T00:56:42.738000Z",
     "iopub.status.idle": "2022-07-18T00:56:42.776000Z",
     "shell.execute_reply": "2022-07-18T00:56:42.776000Z"
    }
   },
   "outputs": [
    {
     "data": {
      "text/plain": [
       "true"
      ]
     },
     "execution_count": 46,
     "metadata": {},
     "output_type": "execute_result"
    }
   ],
   "source": [
    "df == df2"
   ]
  },
  {
   "cell_type": "markdown",
   "metadata": {},
   "source": [
    "## Using zip files"
   ]
  },
  {
   "cell_type": "markdown",
   "metadata": {},
   "source": [
    "Sometimes you may have files compressed inside a zip file.\n",
    "\n",
    "In such a situation you may use [ZipFile.jl](https://github.com/fhs/ZipFile.jl) in conjunction an an appropriate reader to read the files.\n",
    "\n",
    "Here we first create a ZIP file and then read back its contents into a `DataFrame`."
   ]
  },
  {
   "cell_type": "code",
   "execution_count": 47,
   "metadata": {
    "execution": {
     "iopub.execute_input": "2022-07-18T00:56:42.779000Z",
     "iopub.status.busy": "2022-07-18T00:56:42.779000Z",
     "iopub.status.idle": "2022-07-18T00:56:42.781000Z",
     "shell.execute_reply": "2022-07-18T00:56:42.781000Z"
    }
   },
   "outputs": [
    {
     "data": {
      "text/html": [
       "<div class=\"data-frame\"><p>3 rows × 4 columns</p><table class=\"data-frame\"><thead><tr><th></th><th>x1</th><th>x2</th><th>x3</th><th>x4</th></tr><tr><th></th><th title=\"Int64\">Int64</th><th title=\"Int64\">Int64</th><th title=\"Int64\">Int64</th><th title=\"Int64\">Int64</th></tr></thead><tbody><tr><th>1</th><td>4</td><td>8</td><td>1</td><td>6</td></tr><tr><th>2</th><td>5</td><td>4</td><td>5</td><td>1</td></tr><tr><th>3</th><td>6</td><td>7</td><td>9</td><td>9</td></tr></tbody></table></div>"
      ],
      "text/latex": [
       "\\begin{tabular}{r|cccc}\n",
       "\t& x1 & x2 & x3 & x4\\\\\n",
       "\t\\hline\n",
       "\t& Int64 & Int64 & Int64 & Int64\\\\\n",
       "\t\\hline\n",
       "\t1 & 4 & 8 & 1 & 6 \\\\\n",
       "\t2 & 5 & 4 & 5 & 1 \\\\\n",
       "\t3 & 6 & 7 & 9 & 9 \\\\\n",
       "\\end{tabular}\n"
      ],
      "text/plain": [
       "\u001b[1m3×4 DataFrame\u001b[0m\n",
       "\u001b[1m Row \u001b[0m│\u001b[1m x1    \u001b[0m\u001b[1m x2    \u001b[0m\u001b[1m x3    \u001b[0m\u001b[1m x4    \u001b[0m\n",
       "\u001b[1m     \u001b[0m│\u001b[90m Int64 \u001b[0m\u001b[90m Int64 \u001b[0m\u001b[90m Int64 \u001b[0m\u001b[90m Int64 \u001b[0m\n",
       "─────┼────────────────────────────\n",
       "   1 │     4      8      1      6\n",
       "   2 │     5      4      5      1\n",
       "   3 │     6      7      9      9"
      ]
     },
     "execution_count": 47,
     "metadata": {},
     "output_type": "execute_result"
    }
   ],
   "source": [
    "df1 = DataFrame(rand(1:10, 3, 4), :auto)"
   ]
  },
  {
   "cell_type": "code",
   "execution_count": 48,
   "metadata": {
    "execution": {
     "iopub.execute_input": "2022-07-18T00:56:42.783000Z",
     "iopub.status.busy": "2022-07-18T00:56:42.783000Z",
     "iopub.status.idle": "2022-07-18T00:56:42.785000Z",
     "shell.execute_reply": "2022-07-18T00:56:42.785000Z"
    }
   },
   "outputs": [
    {
     "data": {
      "text/html": [
       "<div class=\"data-frame\"><p>3 rows × 4 columns</p><table class=\"data-frame\"><thead><tr><th></th><th>x1</th><th>x2</th><th>x3</th><th>x4</th></tr><tr><th></th><th title=\"Int64\">Int64</th><th title=\"Int64\">Int64</th><th title=\"Int64\">Int64</th><th title=\"Int64\">Int64</th></tr></thead><tbody><tr><th>1</th><td>6</td><td>8</td><td>9</td><td>8</td></tr><tr><th>2</th><td>6</td><td>9</td><td>4</td><td>10</td></tr><tr><th>3</th><td>4</td><td>5</td><td>10</td><td>9</td></tr></tbody></table></div>"
      ],
      "text/latex": [
       "\\begin{tabular}{r|cccc}\n",
       "\t& x1 & x2 & x3 & x4\\\\\n",
       "\t\\hline\n",
       "\t& Int64 & Int64 & Int64 & Int64\\\\\n",
       "\t\\hline\n",
       "\t1 & 6 & 8 & 9 & 8 \\\\\n",
       "\t2 & 6 & 9 & 4 & 10 \\\\\n",
       "\t3 & 4 & 5 & 10 & 9 \\\\\n",
       "\\end{tabular}\n"
      ],
      "text/plain": [
       "\u001b[1m3×4 DataFrame\u001b[0m\n",
       "\u001b[1m Row \u001b[0m│\u001b[1m x1    \u001b[0m\u001b[1m x2    \u001b[0m\u001b[1m x3    \u001b[0m\u001b[1m x4    \u001b[0m\n",
       "\u001b[1m     \u001b[0m│\u001b[90m Int64 \u001b[0m\u001b[90m Int64 \u001b[0m\u001b[90m Int64 \u001b[0m\u001b[90m Int64 \u001b[0m\n",
       "─────┼────────────────────────────\n",
       "   1 │     6      8      9      8\n",
       "   2 │     6      9      4     10\n",
       "   3 │     4      5     10      9"
      ]
     },
     "execution_count": 48,
     "metadata": {},
     "output_type": "execute_result"
    }
   ],
   "source": [
    "df2 = DataFrame(rand(1:10, 3, 4), :auto)"
   ]
  },
  {
   "cell_type": "markdown",
   "metadata": {},
   "source": [
    "And we show yet another way to write a `DataFrame` into a CSV file"
   ]
  },
  {
   "cell_type": "code",
   "execution_count": 49,
   "metadata": {
    "execution": {
     "iopub.execute_input": "2022-07-18T00:56:42.788000Z",
     "iopub.status.busy": "2022-07-18T00:56:42.788000Z",
     "iopub.status.idle": "2022-07-18T00:56:43.489000Z",
     "shell.execute_reply": "2022-07-18T00:56:43.489000Z"
    }
   },
   "outputs": [],
   "source": [
    "# write a CSV file into the zip file\n",
    "w = ZipFile.Writer(\"x.zip\")\n",
    "\n",
    "f1 = ZipFile.addfile(w, \"x1.csv\")\n",
    "write(f1, sprint(show, \"text/csv\", df1))\n",
    "\n",
    "# write a second CSV file into zip file\n",
    "f2 = ZipFile.addfile(w, \"x2.csv\", method=ZipFile.Deflate)\n",
    "write(f2, sprint(show, \"text/csv\", df2))\n",
    "\n",
    "close(w)"
   ]
  },
  {
   "cell_type": "markdown",
   "metadata": {},
   "source": [
    "Now we read the CSV we have written:"
   ]
  },
  {
   "cell_type": "code",
   "execution_count": 50,
   "metadata": {
    "execution": {
     "iopub.execute_input": "2022-07-18T00:56:43.491000Z",
     "iopub.status.busy": "2022-07-18T00:56:43.491000Z",
     "iopub.status.idle": "2022-07-18T00:56:43.918000Z",
     "shell.execute_reply": "2022-07-18T00:56:43.918000Z"
    }
   },
   "outputs": [],
   "source": [
    "z = ZipFile.Reader(\"x.zip\");"
   ]
  },
  {
   "cell_type": "code",
   "execution_count": 51,
   "metadata": {
    "execution": {
     "iopub.execute_input": "2022-07-18T00:56:43.921000Z",
     "iopub.status.busy": "2022-07-18T00:56:43.921000Z",
     "iopub.status.idle": "2022-07-18T00:56:44.154000Z",
     "shell.execute_reply": "2022-07-18T00:56:44.153000Z"
    }
   },
   "outputs": [
    {
     "data": {
      "text/html": [
       "<div class=\"data-frame\"><p>3 rows × 4 columns</p><table class=\"data-frame\"><thead><tr><th></th><th>x1</th><th>x2</th><th>x3</th><th>x4</th></tr><tr><th></th><th title=\"Int64\">Int64</th><th title=\"Int64\">Int64</th><th title=\"Int64\">Int64</th><th title=\"Int64\">Int64</th></tr></thead><tbody><tr><th>1</th><td>4</td><td>8</td><td>1</td><td>6</td></tr><tr><th>2</th><td>5</td><td>4</td><td>5</td><td>1</td></tr><tr><th>3</th><td>6</td><td>7</td><td>9</td><td>9</td></tr></tbody></table></div>"
      ],
      "text/latex": [
       "\\begin{tabular}{r|cccc}\n",
       "\t& x1 & x2 & x3 & x4\\\\\n",
       "\t\\hline\n",
       "\t& Int64 & Int64 & Int64 & Int64\\\\\n",
       "\t\\hline\n",
       "\t1 & 4 & 8 & 1 & 6 \\\\\n",
       "\t2 & 5 & 4 & 5 & 1 \\\\\n",
       "\t3 & 6 & 7 & 9 & 9 \\\\\n",
       "\\end{tabular}\n"
      ],
      "text/plain": [
       "\u001b[1m3×4 DataFrame\u001b[0m\n",
       "\u001b[1m Row \u001b[0m│\u001b[1m x1    \u001b[0m\u001b[1m x2    \u001b[0m\u001b[1m x3    \u001b[0m\u001b[1m x4    \u001b[0m\n",
       "\u001b[1m     \u001b[0m│\u001b[90m Int64 \u001b[0m\u001b[90m Int64 \u001b[0m\u001b[90m Int64 \u001b[0m\u001b[90m Int64 \u001b[0m\n",
       "─────┼────────────────────────────\n",
       "   1 │     4      8      1      6\n",
       "   2 │     5      4      5      1\n",
       "   3 │     6      7      9      9"
      ]
     },
     "execution_count": 51,
     "metadata": {},
     "output_type": "execute_result"
    }
   ],
   "source": [
    "# find the index index of file called x1.csv\n",
    "index_xcsv = findfirst(x->x.name == \"x1.csv\", z.files)\n",
    "# to read the x1.csv file in the zip file\n",
    "df1_2 = CSV.read(read(z.files[index_xcsv]), DataFrame)"
   ]
  },
  {
   "cell_type": "code",
   "execution_count": 52,
   "metadata": {
    "execution": {
     "iopub.execute_input": "2022-07-18T00:56:44.157000Z",
     "iopub.status.busy": "2022-07-18T00:56:44.157000Z",
     "iopub.status.idle": "2022-07-18T00:56:44.158000Z",
     "shell.execute_reply": "2022-07-18T00:56:44.158000Z"
    }
   },
   "outputs": [
    {
     "data": {
      "text/plain": [
       "true"
      ]
     },
     "execution_count": 52,
     "metadata": {},
     "output_type": "execute_result"
    }
   ],
   "source": [
    "df1_2 == df1"
   ]
  },
  {
   "cell_type": "code",
   "execution_count": 53,
   "metadata": {
    "execution": {
     "iopub.execute_input": "2022-07-18T00:56:44.160000Z",
     "iopub.status.busy": "2022-07-18T00:56:44.160000Z",
     "iopub.status.idle": "2022-07-18T00:56:44.247000Z",
     "shell.execute_reply": "2022-07-18T00:56:44.247000Z"
    }
   },
   "outputs": [
    {
     "data": {
      "text/html": [
       "<div class=\"data-frame\"><p>3 rows × 4 columns</p><table class=\"data-frame\"><thead><tr><th></th><th>x1</th><th>x2</th><th>x3</th><th>x4</th></tr><tr><th></th><th title=\"Int64\">Int64</th><th title=\"Int64\">Int64</th><th title=\"Int64\">Int64</th><th title=\"Int64\">Int64</th></tr></thead><tbody><tr><th>1</th><td>6</td><td>8</td><td>9</td><td>8</td></tr><tr><th>2</th><td>6</td><td>9</td><td>4</td><td>10</td></tr><tr><th>3</th><td>4</td><td>5</td><td>10</td><td>9</td></tr></tbody></table></div>"
      ],
      "text/latex": [
       "\\begin{tabular}{r|cccc}\n",
       "\t& x1 & x2 & x3 & x4\\\\\n",
       "\t\\hline\n",
       "\t& Int64 & Int64 & Int64 & Int64\\\\\n",
       "\t\\hline\n",
       "\t1 & 6 & 8 & 9 & 8 \\\\\n",
       "\t2 & 6 & 9 & 4 & 10 \\\\\n",
       "\t3 & 4 & 5 & 10 & 9 \\\\\n",
       "\\end{tabular}\n"
      ],
      "text/plain": [
       "\u001b[1m3×4 DataFrame\u001b[0m\n",
       "\u001b[1m Row \u001b[0m│\u001b[1m x1    \u001b[0m\u001b[1m x2    \u001b[0m\u001b[1m x3    \u001b[0m\u001b[1m x4    \u001b[0m\n",
       "\u001b[1m     \u001b[0m│\u001b[90m Int64 \u001b[0m\u001b[90m Int64 \u001b[0m\u001b[90m Int64 \u001b[0m\u001b[90m Int64 \u001b[0m\n",
       "─────┼────────────────────────────\n",
       "   1 │     6      8      9      8\n",
       "   2 │     6      9      4     10\n",
       "   3 │     4      5     10      9"
      ]
     },
     "execution_count": 53,
     "metadata": {},
     "output_type": "execute_result"
    }
   ],
   "source": [
    "# find the index index of file called x2.csv\n",
    "index_xcsv = findfirst(x->x.name == \"x2.csv\", z.files)\n",
    "# to read the x2.csv file in the zip file\n",
    "df2_2 = CSV.read(read(z.files[index_xcsv]), DataFrame)"
   ]
  },
  {
   "cell_type": "code",
   "execution_count": 54,
   "metadata": {
    "execution": {
     "iopub.execute_input": "2022-07-18T00:56:44.250000Z",
     "iopub.status.busy": "2022-07-18T00:56:44.250000Z",
     "iopub.status.idle": "2022-07-18T00:56:44.251000Z",
     "shell.execute_reply": "2022-07-18T00:56:44.251000Z"
    }
   },
   "outputs": [
    {
     "data": {
      "text/plain": [
       "true"
      ]
     },
     "execution_count": 54,
     "metadata": {},
     "output_type": "execute_result"
    }
   ],
   "source": [
    "df2_2 == df2"
   ]
  },
  {
   "cell_type": "markdown",
   "metadata": {},
   "source": [
    "Note that once you read a given file from `z` object its stream is all used-up (it is at its end). Therefore to read it again you need to close `z` and open it again.\n",
    "\n",
    "Also do not forget to close the zip file once done."
   ]
  },
  {
   "cell_type": "code",
   "execution_count": 55,
   "metadata": {
    "execution": {
     "iopub.execute_input": "2022-07-18T00:56:44.253000Z",
     "iopub.status.busy": "2022-07-18T00:56:44.253000Z",
     "iopub.status.idle": "2022-07-18T00:56:44.260000Z",
     "shell.execute_reply": "2022-07-18T00:56:44.259000Z"
    }
   },
   "outputs": [],
   "source": [
    "close(z)"
   ]
  },
  {
   "cell_type": "markdown",
   "metadata": {},
   "source": [
    "Finally, let's clean up. Do not run the next cell unless you are sure that it will not erase your important files."
   ]
  },
  {
   "cell_type": "code",
   "execution_count": 56,
   "metadata": {
    "execution": {
     "iopub.execute_input": "2022-07-18T00:56:44.262000Z",
     "iopub.status.busy": "2022-07-18T00:56:44.262000Z",
     "iopub.status.idle": "2022-07-18T00:56:44.292000Z",
     "shell.execute_reply": "2022-07-18T00:56:44.292000Z"
    }
   },
   "outputs": [],
   "source": [
    "foreach(rm, [\"x1.csv\", \"x.bin\", \"x.jlso\", \"x1.json\", \"x2.json\",\n",
    "             \"bigdf1.csv\", \"bigdf.bin\", \"bigdf.jlso\", \"bigdf1.json\", \"bigdf2.json\", \n",
    "             \"x.zip\"])"
   ]
  },
  {
   "cell_type": "code",
   "execution_count": 57,
   "metadata": {
    "execution": {
     "iopub.execute_input": "2022-07-18T00:56:44.295000Z",
     "iopub.status.busy": "2022-07-18T00:56:44.295000Z",
     "iopub.status.idle": "2022-07-18T00:56:44.303000Z",
     "shell.execute_reply": "2022-07-18T00:56:44.303000Z"
    }
   },
   "outputs": [],
   "source": [
    "rm(\"bigdf.jdf\", recursive=true)\n",
    "rm(\"x.jdf\", recursive=true)"
   ]
  },
  {
   "cell_type": "markdown",
   "metadata": {},
   "source": [
    "Note that we did not remove `x.arrow` and `bigdf.arrow` and `df_compress_test.csv.gz` - you have to do it manually, as these files are memory mapped."
   ]
  }
 ],
 "metadata": {
  "@webio": {
   "lastCommId": null,
   "lastKernelId": null
  },
  "kernelspec": {
   "display_name": "Julia 1.7.2",
   "language": "julia",
   "name": "julia-1.7"
  },
  "language_info": {
   "file_extension": ".jl",
   "mimetype": "application/julia",
   "name": "julia",
   "version": "1.7.3"
  }
 },
 "nbformat": 4,
 "nbformat_minor": 4
}
