{
 "cells": [
  {
   "cell_type": "markdown",
   "metadata": {},
   "source": [
    "# Basic information about a data frame\n",
    "\n",
    "Let's start by creating a `DataFrame` object, `x`, so that we can learn how to get information on that data frame."
   ]
  },
  {
   "cell_type": "code",
   "execution_count": 1,
   "metadata": {
    "execution": {
     "iopub.execute_input": "2022-07-18T00:53:51.948000Z",
     "iopub.status.busy": "2022-07-18T00:53:51.501000Z",
     "iopub.status.idle": "2022-07-18T00:53:53.442000Z",
     "shell.execute_reply": "2022-07-18T00:53:53.329000Z"
    }
   },
   "outputs": [],
   "source": [
    "using DataFrames"
   ]
  },
  {
   "cell_type": "code",
   "execution_count": 2,
   "metadata": {
    "execution": {
     "iopub.execute_input": "2022-07-18T00:53:53.470000Z",
     "iopub.status.busy": "2022-07-18T00:53:53.470000Z",
     "iopub.status.idle": "2022-07-18T00:53:58.811000Z",
     "shell.execute_reply": "2022-07-18T00:53:58.811000Z"
    }
   },
   "outputs": [
    {
     "data": {
      "text/html": [
       "<div class=\"data-frame\"><p>2 rows × 3 columns</p><table class=\"data-frame\"><thead><tr><th></th><th>A</th><th>B</th><th>C</th></tr><tr><th></th><th title=\"Int64\">Int64</th><th title=\"Union{Missing, Float64}\">Float64?</th><th title=\"String\">String</th></tr></thead><tbody><tr><th>1</th><td>1</td><td>1.0</td><td>a</td></tr><tr><th>2</th><td>2</td><td><em>missing</em></td><td>b</td></tr></tbody></table></div>"
      ],
      "text/latex": [
       "\\begin{tabular}{r|ccc}\n",
       "\t& A & B & C\\\\\n",
       "\t\\hline\n",
       "\t& Int64 & Float64? & String\\\\\n",
       "\t\\hline\n",
       "\t1 & 1 & 1.0 & a \\\\\n",
       "\t2 & 2 & \\emph{missing} & b \\\\\n",
       "\\end{tabular}\n"
      ],
      "text/plain": [
       "\u001b[1m2×3 DataFrame\u001b[0m\n",
       "\u001b[1m Row \u001b[0m│\u001b[1m A     \u001b[0m\u001b[1m B         \u001b[0m\u001b[1m C      \u001b[0m\n",
       "\u001b[1m     \u001b[0m│\u001b[90m Int64 \u001b[0m\u001b[90m Float64?  \u001b[0m\u001b[90m String \u001b[0m\n",
       "─────┼──────────────────────────\n",
       "   1 │     1        1.0  a\n",
       "   2 │     2 \u001b[90m missing   \u001b[0m b"
      ]
     },
     "execution_count": 2,
     "metadata": {},
     "output_type": "execute_result"
    }
   ],
   "source": [
    "x = DataFrame(A = [1, 2], B = [1.0, missing], C = [\"a\", \"b\"])"
   ]
  },
  {
   "cell_type": "markdown",
   "metadata": {},
   "source": [
    "The standard `size` function works to get dimensions of the `DataFrame`,"
   ]
  },
  {
   "cell_type": "code",
   "execution_count": 3,
   "metadata": {
    "execution": {
     "iopub.execute_input": "2022-07-18T00:53:58.833000Z",
     "iopub.status.busy": "2022-07-18T00:53:58.833000Z",
     "iopub.status.idle": "2022-07-18T00:53:59.231000Z",
     "shell.execute_reply": "2022-07-18T00:53:59.231000Z"
    }
   },
   "outputs": [
    {
     "data": {
      "text/plain": [
       "((2, 3), 2, 3)"
      ]
     },
     "execution_count": 3,
     "metadata": {},
     "output_type": "execute_result"
    }
   ],
   "source": [
    "size(x), size(x, 1), size(x, 2)"
   ]
  },
  {
   "cell_type": "markdown",
   "metadata": {},
   "source": [
    "as well as `nrow` and `ncol` from R."
   ]
  },
  {
   "cell_type": "code",
   "execution_count": 4,
   "metadata": {
    "execution": {
     "iopub.execute_input": "2022-07-18T00:53:59.234000Z",
     "iopub.status.busy": "2022-07-18T00:53:59.234000Z",
     "iopub.status.idle": "2022-07-18T00:53:59.546000Z",
     "shell.execute_reply": "2022-07-18T00:53:59.546000Z"
    }
   },
   "outputs": [
    {
     "data": {
      "text/plain": [
       "(2, 3)"
      ]
     },
     "execution_count": 4,
     "metadata": {},
     "output_type": "execute_result"
    }
   ],
   "source": [
    "nrow(x), ncol(x)"
   ]
  },
  {
   "cell_type": "markdown",
   "metadata": {},
   "source": [
    "`describe` gives basic summary statistics of data in your `DataFrame` (check out the help of `describe` for information on how to customize shown statistics)."
   ]
  },
  {
   "cell_type": "code",
   "execution_count": 5,
   "metadata": {
    "execution": {
     "iopub.execute_input": "2022-07-18T00:53:59.550000Z",
     "iopub.status.busy": "2022-07-18T00:53:59.549000Z",
     "iopub.status.idle": "2022-07-18T00:54:02.257000Z",
     "shell.execute_reply": "2022-07-18T00:54:02.257000Z"
    }
   },
   "outputs": [
    {
     "data": {
      "text/html": [
       "<div class=\"data-frame\"><p>3 rows × 7 columns</p><table class=\"data-frame\"><thead><tr><th></th><th>variable</th><th>mean</th><th>min</th><th>median</th><th>max</th><th>nmissing</th><th>eltype</th></tr><tr><th></th><th title=\"Symbol\">Symbol</th><th title=\"Union{Nothing, Float64}\">Union…</th><th title=\"Any\">Any</th><th title=\"Union{Nothing, Float64}\">Union…</th><th title=\"Any\">Any</th><th title=\"Int64\">Int64</th><th title=\"Type\">Type</th></tr></thead><tbody><tr><th>1</th><td>A</td><td>1.5</td><td>1</td><td>1.5</td><td>2</td><td>0</td><td>Int64</td></tr><tr><th>2</th><td>B</td><td>1.0</td><td>1.0</td><td>1.0</td><td>1.0</td><td>1</td><td>Union{Missing, Float64}</td></tr><tr><th>3</th><td>C</td><td></td><td>a</td><td></td><td>b</td><td>0</td><td>String</td></tr></tbody></table></div>"
      ],
      "text/latex": [
       "\\begin{tabular}{r|ccccccc}\n",
       "\t& variable & mean & min & median & max & nmissing & eltype\\\\\n",
       "\t\\hline\n",
       "\t& Symbol & Union… & Any & Union… & Any & Int64 & Type\\\\\n",
       "\t\\hline\n",
       "\t1 & A & 1.5 & 1 & 1.5 & 2 & 0 & Int64 \\\\\n",
       "\t2 & B & 1.0 & 1.0 & 1.0 & 1.0 & 1 & Union\\{Missing, Float64\\} \\\\\n",
       "\t3 & C &  & a &  & b & 0 & String \\\\\n",
       "\\end{tabular}\n"
      ],
      "text/plain": [
       "\u001b[1m3×7 DataFrame\u001b[0m\n",
       "\u001b[1m Row \u001b[0m│\u001b[1m variable \u001b[0m\u001b[1m mean   \u001b[0m\u001b[1m min \u001b[0m\u001b[1m median \u001b[0m\u001b[1m max \u001b[0m\u001b[1m nmissing \u001b[0m\u001b[1m eltype                  \u001b[0m\n",
       "\u001b[1m     \u001b[0m│\u001b[90m Symbol   \u001b[0m\u001b[90m Union… \u001b[0m\u001b[90m Any \u001b[0m\u001b[90m Union… \u001b[0m\u001b[90m Any \u001b[0m\u001b[90m Int64    \u001b[0m\u001b[90m Type                    \u001b[0m\n",
       "─────┼───────────────────────────────────────────────────────────────────────\n",
       "   1 │ A         1.5     1    1.5     2           0  Int64\n",
       "   2 │ B         1.0     1.0  1.0     1.0         1  Union{Missing, Float64}\n",
       "   3 │ C        \u001b[90m        \u001b[0m a   \u001b[90m        \u001b[0m b           0  String"
      ]
     },
     "execution_count": 5,
     "metadata": {},
     "output_type": "execute_result"
    }
   ],
   "source": [
    "describe(x)"
   ]
  },
  {
   "cell_type": "markdown",
   "metadata": {},
   "source": [
    "you can limit the columns shown by `describe` using `cols` keyword argument"
   ]
  },
  {
   "cell_type": "code",
   "execution_count": 6,
   "metadata": {
    "execution": {
     "iopub.execute_input": "2022-07-18T00:54:02.260000Z",
     "iopub.status.busy": "2022-07-18T00:54:02.260000Z",
     "iopub.status.idle": "2022-07-18T00:54:02.574000Z",
     "shell.execute_reply": "2022-07-18T00:54:02.574000Z"
    }
   },
   "outputs": [
    {
     "data": {
      "text/html": [
       "<div class=\"data-frame\"><p>2 rows × 7 columns</p><table class=\"data-frame\"><thead><tr><th></th><th>variable</th><th>mean</th><th>min</th><th>median</th><th>max</th><th>nmissing</th><th>eltype</th></tr><tr><th></th><th title=\"Symbol\">Symbol</th><th title=\"Float64\">Float64</th><th title=\"Real\">Real</th><th title=\"Float64\">Float64</th><th title=\"Real\">Real</th><th title=\"Int64\">Int64</th><th title=\"Type\">Type</th></tr></thead><tbody><tr><th>1</th><td>A</td><td>1.5</td><td>1</td><td>1.5</td><td>2</td><td>0</td><td>Int64</td></tr><tr><th>2</th><td>B</td><td>1.0</td><td>1.0</td><td>1.0</td><td>1.0</td><td>1</td><td>Union{Missing, Float64}</td></tr></tbody></table></div>"
      ],
      "text/latex": [
       "\\begin{tabular}{r|ccccccc}\n",
       "\t& variable & mean & min & median & max & nmissing & eltype\\\\\n",
       "\t\\hline\n",
       "\t& Symbol & Float64 & Real & Float64 & Real & Int64 & Type\\\\\n",
       "\t\\hline\n",
       "\t1 & A & 1.5 & 1 & 1.5 & 2 & 0 & Int64 \\\\\n",
       "\t2 & B & 1.0 & 1.0 & 1.0 & 1.0 & 1 & Union\\{Missing, Float64\\} \\\\\n",
       "\\end{tabular}\n"
      ],
      "text/plain": [
       "\u001b[1m2×7 DataFrame\u001b[0m\n",
       "\u001b[1m Row \u001b[0m│\u001b[1m variable \u001b[0m\u001b[1m mean    \u001b[0m\u001b[1m min  \u001b[0m\u001b[1m median  \u001b[0m\u001b[1m max  \u001b[0m\u001b[1m nmissing \u001b[0m\u001b[1m eltype               \u001b[0m ⋯\n",
       "\u001b[1m     \u001b[0m│\u001b[90m Symbol   \u001b[0m\u001b[90m Float64 \u001b[0m\u001b[90m Real \u001b[0m\u001b[90m Float64 \u001b[0m\u001b[90m Real \u001b[0m\u001b[90m Int64    \u001b[0m\u001b[90m Type                 \u001b[0m ⋯\n",
       "─────┼──────────────────────────────────────────────────────────────────────────\n",
       "   1 │ A             1.5   1        1.5   2           0  Int64                 ⋯\n",
       "   2 │ B             1.0   1.0      1.0   1.0         1  Union{Missing, Float6\n",
       "\u001b[36m                                                                1 column omitted\u001b[0m"
      ]
     },
     "execution_count": 6,
     "metadata": {},
     "output_type": "execute_result"
    }
   ],
   "source": [
    "describe(x, cols=1:2)"
   ]
  },
  {
   "cell_type": "markdown",
   "metadata": {},
   "source": [
    "`names` will return the names of all columns as strings"
   ]
  },
  {
   "cell_type": "code",
   "execution_count": 7,
   "metadata": {
    "execution": {
     "iopub.execute_input": "2022-07-18T00:54:02.577000Z",
     "iopub.status.busy": "2022-07-18T00:54:02.577000Z",
     "iopub.status.idle": "2022-07-18T00:54:03.752000Z",
     "shell.execute_reply": "2022-07-18T00:54:03.752000Z"
    }
   },
   "outputs": [
    {
     "data": {
      "text/plain": [
       "3-element Vector{String}:\n",
       " \"A\"\n",
       " \"B\"\n",
       " \"C\""
      ]
     },
     "execution_count": 7,
     "metadata": {},
     "output_type": "execute_result"
    }
   ],
   "source": [
    "names(x)"
   ]
  },
  {
   "cell_type": "markdown",
   "metadata": {},
   "source": [
    "you can also get column names with a given `eltype`:"
   ]
  },
  {
   "cell_type": "code",
   "execution_count": 8,
   "metadata": {
    "execution": {
     "iopub.execute_input": "2022-07-18T00:54:03.767000Z",
     "iopub.status.busy": "2022-07-18T00:54:03.767000Z",
     "iopub.status.idle": "2022-07-18T00:54:03.864000Z",
     "shell.execute_reply": "2022-07-18T00:54:03.864000Z"
    }
   },
   "outputs": [
    {
     "data": {
      "text/plain": [
       "1-element Vector{String}:\n",
       " \"C\""
      ]
     },
     "execution_count": 8,
     "metadata": {},
     "output_type": "execute_result"
    }
   ],
   "source": [
    "names(x, String)"
   ]
  },
  {
   "cell_type": "markdown",
   "metadata": {},
   "source": [
    "use `propertynames` to get a vector of `Symbol`s:"
   ]
  },
  {
   "cell_type": "code",
   "execution_count": 9,
   "metadata": {
    "execution": {
     "iopub.execute_input": "2022-07-18T00:54:03.869000Z",
     "iopub.status.busy": "2022-07-18T00:54:03.869000Z",
     "iopub.status.idle": "2022-07-18T00:54:04.470000Z",
     "shell.execute_reply": "2022-07-18T00:54:04.470000Z"
    }
   },
   "outputs": [
    {
     "data": {
      "text/plain": [
       "3-element Vector{Symbol}:\n",
       " :A\n",
       " :B\n",
       " :C"
      ]
     },
     "execution_count": 9,
     "metadata": {},
     "output_type": "execute_result"
    }
   ],
   "source": [
    "propertynames(x)"
   ]
  },
  {
   "cell_type": "markdown",
   "metadata": {},
   "source": [
    "using `eltype` on `eachcol(x)` returns element types of columns:"
   ]
  },
  {
   "cell_type": "code",
   "execution_count": 10,
   "metadata": {
    "execution": {
     "iopub.execute_input": "2022-07-18T00:54:04.474000Z",
     "iopub.status.busy": "2022-07-18T00:54:04.474000Z",
     "iopub.status.idle": "2022-07-18T00:54:05.289000Z",
     "shell.execute_reply": "2022-07-18T00:54:05.289000Z"
    }
   },
   "outputs": [
    {
     "data": {
      "text/plain": [
       "3-element Vector{Type}:\n",
       " Int64\n",
       " Union{Missing, Float64}\n",
       " String"
      ]
     },
     "execution_count": 10,
     "metadata": {},
     "output_type": "execute_result"
    }
   ],
   "source": [
    "eltype.(eachcol(x))"
   ]
  },
  {
   "cell_type": "markdown",
   "metadata": {},
   "source": [
    "Here we create some large `DataFrame`"
   ]
  },
  {
   "cell_type": "code",
   "execution_count": 11,
   "metadata": {
    "execution": {
     "iopub.execute_input": "2022-07-18T00:54:05.293000Z",
     "iopub.status.busy": "2022-07-18T00:54:05.293000Z",
     "iopub.status.idle": "2022-07-18T00:54:05.464000Z",
     "shell.execute_reply": "2022-07-18T00:54:05.464000Z"
    },
    "scrolled": true
   },
   "outputs": [
    {
     "data": {
      "text/html": [
       "<div class=\"data-frame\"><p>1,000 rows × 10 columns</p><table class=\"data-frame\"><thead><tr><th></th><th>x1</th><th>x2</th><th>x3</th><th>x4</th><th>x5</th><th>x6</th><th>x7</th><th>x8</th><th>x9</th><th>x10</th></tr><tr><th></th><th title=\"Int64\">Int64</th><th title=\"Int64\">Int64</th><th title=\"Int64\">Int64</th><th title=\"Int64\">Int64</th><th title=\"Int64\">Int64</th><th title=\"Int64\">Int64</th><th title=\"Int64\">Int64</th><th title=\"Int64\">Int64</th><th title=\"Int64\">Int64</th><th title=\"Int64\">Int64</th></tr></thead><tbody><tr><th>1</th><td>9</td><td>10</td><td>1</td><td>9</td><td>2</td><td>10</td><td>3</td><td>10</td><td>9</td><td>10</td></tr><tr><th>2</th><td>5</td><td>1</td><td>7</td><td>9</td><td>8</td><td>2</td><td>10</td><td>1</td><td>4</td><td>1</td></tr><tr><th>3</th><td>9</td><td>10</td><td>5</td><td>3</td><td>9</td><td>1</td><td>3</td><td>5</td><td>3</td><td>1</td></tr><tr><th>4</th><td>2</td><td>4</td><td>1</td><td>2</td><td>10</td><td>5</td><td>2</td><td>5</td><td>4</td><td>5</td></tr><tr><th>5</th><td>5</td><td>5</td><td>5</td><td>10</td><td>8</td><td>6</td><td>6</td><td>8</td><td>9</td><td>8</td></tr><tr><th>6</th><td>7</td><td>5</td><td>6</td><td>5</td><td>9</td><td>8</td><td>7</td><td>3</td><td>3</td><td>8</td></tr><tr><th>7</th><td>6</td><td>6</td><td>4</td><td>9</td><td>6</td><td>8</td><td>10</td><td>1</td><td>8</td><td>9</td></tr><tr><th>8</th><td>6</td><td>3</td><td>7</td><td>5</td><td>2</td><td>8</td><td>4</td><td>2</td><td>7</td><td>5</td></tr><tr><th>9</th><td>10</td><td>3</td><td>1</td><td>8</td><td>7</td><td>7</td><td>1</td><td>2</td><td>9</td><td>1</td></tr><tr><th>10</th><td>5</td><td>10</td><td>2</td><td>9</td><td>4</td><td>10</td><td>6</td><td>6</td><td>10</td><td>8</td></tr><tr><th>11</th><td>4</td><td>6</td><td>2</td><td>10</td><td>5</td><td>10</td><td>6</td><td>10</td><td>10</td><td>5</td></tr><tr><th>12</th><td>7</td><td>4</td><td>8</td><td>4</td><td>2</td><td>6</td><td>7</td><td>8</td><td>7</td><td>9</td></tr><tr><th>13</th><td>6</td><td>2</td><td>6</td><td>7</td><td>3</td><td>6</td><td>2</td><td>10</td><td>1</td><td>3</td></tr><tr><th>14</th><td>4</td><td>6</td><td>6</td><td>5</td><td>6</td><td>3</td><td>5</td><td>7</td><td>7</td><td>6</td></tr><tr><th>15</th><td>4</td><td>7</td><td>9</td><td>2</td><td>5</td><td>9</td><td>2</td><td>10</td><td>1</td><td>3</td></tr><tr><th>16</th><td>1</td><td>5</td><td>2</td><td>7</td><td>6</td><td>6</td><td>2</td><td>6</td><td>3</td><td>1</td></tr><tr><th>17</th><td>5</td><td>6</td><td>3</td><td>9</td><td>4</td><td>8</td><td>8</td><td>5</td><td>9</td><td>4</td></tr><tr><th>18</th><td>7</td><td>4</td><td>7</td><td>4</td><td>2</td><td>1</td><td>7</td><td>1</td><td>7</td><td>2</td></tr><tr><th>19</th><td>1</td><td>8</td><td>10</td><td>6</td><td>5</td><td>5</td><td>4</td><td>8</td><td>2</td><td>6</td></tr><tr><th>20</th><td>3</td><td>6</td><td>6</td><td>5</td><td>7</td><td>7</td><td>8</td><td>4</td><td>1</td><td>9</td></tr><tr><th>21</th><td>8</td><td>5</td><td>9</td><td>5</td><td>6</td><td>2</td><td>10</td><td>6</td><td>7</td><td>3</td></tr><tr><th>22</th><td>4</td><td>2</td><td>7</td><td>7</td><td>2</td><td>4</td><td>1</td><td>8</td><td>4</td><td>3</td></tr><tr><th>23</th><td>4</td><td>8</td><td>8</td><td>9</td><td>9</td><td>8</td><td>10</td><td>5</td><td>3</td><td>9</td></tr><tr><th>24</th><td>8</td><td>8</td><td>1</td><td>9</td><td>5</td><td>7</td><td>5</td><td>9</td><td>6</td><td>9</td></tr><tr><th>25</th><td>1</td><td>2</td><td>7</td><td>2</td><td>10</td><td>8</td><td>3</td><td>6</td><td>7</td><td>10</td></tr><tr><th>26</th><td>8</td><td>3</td><td>2</td><td>7</td><td>8</td><td>2</td><td>10</td><td>10</td><td>5</td><td>8</td></tr><tr><th>27</th><td>8</td><td>9</td><td>7</td><td>9</td><td>7</td><td>2</td><td>5</td><td>1</td><td>6</td><td>9</td></tr><tr><th>28</th><td>9</td><td>6</td><td>5</td><td>5</td><td>8</td><td>1</td><td>2</td><td>8</td><td>3</td><td>1</td></tr><tr><th>29</th><td>1</td><td>7</td><td>4</td><td>8</td><td>6</td><td>6</td><td>8</td><td>8</td><td>6</td><td>3</td></tr><tr><th>30</th><td>9</td><td>3</td><td>3</td><td>9</td><td>2</td><td>10</td><td>5</td><td>7</td><td>4</td><td>1</td></tr><tr><th>&vellip;</th><td>&vellip;</td><td>&vellip;</td><td>&vellip;</td><td>&vellip;</td><td>&vellip;</td><td>&vellip;</td><td>&vellip;</td><td>&vellip;</td><td>&vellip;</td><td>&vellip;</td></tr></tbody></table></div>"
      ],
      "text/latex": [
       "\\begin{tabular}{r|cccccccccc}\n",
       "\t& x1 & x2 & x3 & x4 & x5 & x6 & x7 & x8 & x9 & x10\\\\\n",
       "\t\\hline\n",
       "\t& Int64 & Int64 & Int64 & Int64 & Int64 & Int64 & Int64 & Int64 & Int64 & Int64\\\\\n",
       "\t\\hline\n",
       "\t1 & 9 & 10 & 1 & 9 & 2 & 10 & 3 & 10 & 9 & 10 \\\\\n",
       "\t2 & 5 & 1 & 7 & 9 & 8 & 2 & 10 & 1 & 4 & 1 \\\\\n",
       "\t3 & 9 & 10 & 5 & 3 & 9 & 1 & 3 & 5 & 3 & 1 \\\\\n",
       "\t4 & 2 & 4 & 1 & 2 & 10 & 5 & 2 & 5 & 4 & 5 \\\\\n",
       "\t5 & 5 & 5 & 5 & 10 & 8 & 6 & 6 & 8 & 9 & 8 \\\\\n",
       "\t6 & 7 & 5 & 6 & 5 & 9 & 8 & 7 & 3 & 3 & 8 \\\\\n",
       "\t7 & 6 & 6 & 4 & 9 & 6 & 8 & 10 & 1 & 8 & 9 \\\\\n",
       "\t8 & 6 & 3 & 7 & 5 & 2 & 8 & 4 & 2 & 7 & 5 \\\\\n",
       "\t9 & 10 & 3 & 1 & 8 & 7 & 7 & 1 & 2 & 9 & 1 \\\\\n",
       "\t10 & 5 & 10 & 2 & 9 & 4 & 10 & 6 & 6 & 10 & 8 \\\\\n",
       "\t11 & 4 & 6 & 2 & 10 & 5 & 10 & 6 & 10 & 10 & 5 \\\\\n",
       "\t12 & 7 & 4 & 8 & 4 & 2 & 6 & 7 & 8 & 7 & 9 \\\\\n",
       "\t13 & 6 & 2 & 6 & 7 & 3 & 6 & 2 & 10 & 1 & 3 \\\\\n",
       "\t14 & 4 & 6 & 6 & 5 & 6 & 3 & 5 & 7 & 7 & 6 \\\\\n",
       "\t15 & 4 & 7 & 9 & 2 & 5 & 9 & 2 & 10 & 1 & 3 \\\\\n",
       "\t16 & 1 & 5 & 2 & 7 & 6 & 6 & 2 & 6 & 3 & 1 \\\\\n",
       "\t17 & 5 & 6 & 3 & 9 & 4 & 8 & 8 & 5 & 9 & 4 \\\\\n",
       "\t18 & 7 & 4 & 7 & 4 & 2 & 1 & 7 & 1 & 7 & 2 \\\\\n",
       "\t19 & 1 & 8 & 10 & 6 & 5 & 5 & 4 & 8 & 2 & 6 \\\\\n",
       "\t20 & 3 & 6 & 6 & 5 & 7 & 7 & 8 & 4 & 1 & 9 \\\\\n",
       "\t21 & 8 & 5 & 9 & 5 & 6 & 2 & 10 & 6 & 7 & 3 \\\\\n",
       "\t22 & 4 & 2 & 7 & 7 & 2 & 4 & 1 & 8 & 4 & 3 \\\\\n",
       "\t23 & 4 & 8 & 8 & 9 & 9 & 8 & 10 & 5 & 3 & 9 \\\\\n",
       "\t24 & 8 & 8 & 1 & 9 & 5 & 7 & 5 & 9 & 6 & 9 \\\\\n",
       "\t25 & 1 & 2 & 7 & 2 & 10 & 8 & 3 & 6 & 7 & 10 \\\\\n",
       "\t26 & 8 & 3 & 2 & 7 & 8 & 2 & 10 & 10 & 5 & 8 \\\\\n",
       "\t27 & 8 & 9 & 7 & 9 & 7 & 2 & 5 & 1 & 6 & 9 \\\\\n",
       "\t28 & 9 & 6 & 5 & 5 & 8 & 1 & 2 & 8 & 3 & 1 \\\\\n",
       "\t29 & 1 & 7 & 4 & 8 & 6 & 6 & 8 & 8 & 6 & 3 \\\\\n",
       "\t30 & 9 & 3 & 3 & 9 & 2 & 10 & 5 & 7 & 4 & 1 \\\\\n",
       "\t$\\dots$ & $\\dots$ & $\\dots$ & $\\dots$ & $\\dots$ & $\\dots$ & $\\dots$ & $\\dots$ & $\\dots$ & $\\dots$ & $\\dots$ \\\\\n",
       "\\end{tabular}\n"
      ],
      "text/plain": [
       "\u001b[1m1000×10 DataFrame\u001b[0m\n",
       "\u001b[1m  Row \u001b[0m│\u001b[1m x1    \u001b[0m\u001b[1m x2    \u001b[0m\u001b[1m x3    \u001b[0m\u001b[1m x4    \u001b[0m\u001b[1m x5    \u001b[0m\u001b[1m x6    \u001b[0m\u001b[1m x7    \u001b[0m\u001b[1m x8    \u001b[0m\u001b[1m x9    \u001b[0m\u001b[1m x10   \u001b[0m\n",
       "\u001b[1m      \u001b[0m│\u001b[90m Int64 \u001b[0m\u001b[90m Int64 \u001b[0m\u001b[90m Int64 \u001b[0m\u001b[90m Int64 \u001b[0m\u001b[90m Int64 \u001b[0m\u001b[90m Int64 \u001b[0m\u001b[90m Int64 \u001b[0m\u001b[90m Int64 \u001b[0m\u001b[90m Int64 \u001b[0m\u001b[90m Int64 \u001b[0m\n",
       "──────┼──────────────────────────────────────────────────────────────────────\n",
       "    1 │     9     10      1      9      2     10      3     10      9     10\n",
       "    2 │     5      1      7      9      8      2     10      1      4      1\n",
       "    3 │     9     10      5      3      9      1      3      5      3      1\n",
       "    4 │     2      4      1      2     10      5      2      5      4      5\n",
       "    5 │     5      5      5     10      8      6      6      8      9      8\n",
       "    6 │     7      5      6      5      9      8      7      3      3      8\n",
       "    7 │     6      6      4      9      6      8     10      1      8      9\n",
       "    8 │     6      3      7      5      2      8      4      2      7      5\n",
       "    9 │    10      3      1      8      7      7      1      2      9      1\n",
       "   10 │     5     10      2      9      4     10      6      6     10      8\n",
       "   11 │     4      6      2     10      5     10      6     10     10      5\n",
       "  ⋮   │   ⋮      ⋮      ⋮      ⋮      ⋮      ⋮      ⋮      ⋮      ⋮      ⋮\n",
       "  991 │     3      1      5      3      1      2      7      6      3      3\n",
       "  992 │     3      8      1      1      8     10      7      8     10     10\n",
       "  993 │     7      3      7      4      7      3      4      2     10      1\n",
       "  994 │     7      8      8      7     10      9      1      8      8      3\n",
       "  995 │     2      5      1      9      3      1      6      8     10      2\n",
       "  996 │     3      9      4      8      1      4      9      4      4      3\n",
       "  997 │     7      2     10      9      4      8      5      4     10     10\n",
       "  998 │     6      5      3      9      7     10      4      4      1      1\n",
       "  999 │     8      1      1      4      5      1      3      5      1      4\n",
       " 1000 │     8      8      4      3      7      5      8      8      1      8\n",
       "\u001b[36m                                                             979 rows omitted\u001b[0m"
      ]
     },
     "execution_count": 11,
     "metadata": {},
     "output_type": "execute_result"
    }
   ],
   "source": [
    "y = DataFrame(rand(1:10, 1000, 10), :auto)"
   ]
  },
  {
   "cell_type": "markdown",
   "metadata": {},
   "source": [
    "and then we can use `first` to peek into its first few rows"
   ]
  },
  {
   "cell_type": "code",
   "execution_count": 12,
   "metadata": {
    "execution": {
     "iopub.execute_input": "2022-07-18T00:54:05.469000Z",
     "iopub.status.busy": "2022-07-18T00:54:05.468000Z",
     "iopub.status.idle": "2022-07-18T00:54:05.580000Z",
     "shell.execute_reply": "2022-07-18T00:54:05.580000Z"
    }
   },
   "outputs": [
    {
     "data": {
      "text/html": [
       "<div class=\"data-frame\"><p>5 rows × 10 columns</p><table class=\"data-frame\"><thead><tr><th></th><th>x1</th><th>x2</th><th>x3</th><th>x4</th><th>x5</th><th>x6</th><th>x7</th><th>x8</th><th>x9</th><th>x10</th></tr><tr><th></th><th title=\"Int64\">Int64</th><th title=\"Int64\">Int64</th><th title=\"Int64\">Int64</th><th title=\"Int64\">Int64</th><th title=\"Int64\">Int64</th><th title=\"Int64\">Int64</th><th title=\"Int64\">Int64</th><th title=\"Int64\">Int64</th><th title=\"Int64\">Int64</th><th title=\"Int64\">Int64</th></tr></thead><tbody><tr><th>1</th><td>9</td><td>10</td><td>1</td><td>9</td><td>2</td><td>10</td><td>3</td><td>10</td><td>9</td><td>10</td></tr><tr><th>2</th><td>5</td><td>1</td><td>7</td><td>9</td><td>8</td><td>2</td><td>10</td><td>1</td><td>4</td><td>1</td></tr><tr><th>3</th><td>9</td><td>10</td><td>5</td><td>3</td><td>9</td><td>1</td><td>3</td><td>5</td><td>3</td><td>1</td></tr><tr><th>4</th><td>2</td><td>4</td><td>1</td><td>2</td><td>10</td><td>5</td><td>2</td><td>5</td><td>4</td><td>5</td></tr><tr><th>5</th><td>5</td><td>5</td><td>5</td><td>10</td><td>8</td><td>6</td><td>6</td><td>8</td><td>9</td><td>8</td></tr></tbody></table></div>"
      ],
      "text/latex": [
       "\\begin{tabular}{r|cccccccccc}\n",
       "\t& x1 & x2 & x3 & x4 & x5 & x6 & x7 & x8 & x9 & x10\\\\\n",
       "\t\\hline\n",
       "\t& Int64 & Int64 & Int64 & Int64 & Int64 & Int64 & Int64 & Int64 & Int64 & Int64\\\\\n",
       "\t\\hline\n",
       "\t1 & 9 & 10 & 1 & 9 & 2 & 10 & 3 & 10 & 9 & 10 \\\\\n",
       "\t2 & 5 & 1 & 7 & 9 & 8 & 2 & 10 & 1 & 4 & 1 \\\\\n",
       "\t3 & 9 & 10 & 5 & 3 & 9 & 1 & 3 & 5 & 3 & 1 \\\\\n",
       "\t4 & 2 & 4 & 1 & 2 & 10 & 5 & 2 & 5 & 4 & 5 \\\\\n",
       "\t5 & 5 & 5 & 5 & 10 & 8 & 6 & 6 & 8 & 9 & 8 \\\\\n",
       "\\end{tabular}\n"
      ],
      "text/plain": [
       "\u001b[1m5×10 DataFrame\u001b[0m\n",
       "\u001b[1m Row \u001b[0m│\u001b[1m x1    \u001b[0m\u001b[1m x2    \u001b[0m\u001b[1m x3    \u001b[0m\u001b[1m x4    \u001b[0m\u001b[1m x5    \u001b[0m\u001b[1m x6    \u001b[0m\u001b[1m x7    \u001b[0m\u001b[1m x8    \u001b[0m\u001b[1m x9    \u001b[0m\u001b[1m x10   \u001b[0m\n",
       "\u001b[1m     \u001b[0m│\u001b[90m Int64 \u001b[0m\u001b[90m Int64 \u001b[0m\u001b[90m Int64 \u001b[0m\u001b[90m Int64 \u001b[0m\u001b[90m Int64 \u001b[0m\u001b[90m Int64 \u001b[0m\u001b[90m Int64 \u001b[0m\u001b[90m Int64 \u001b[0m\u001b[90m Int64 \u001b[0m\u001b[90m Int64 \u001b[0m\n",
       "─────┼──────────────────────────────────────────────────────────────────────\n",
       "   1 │     9     10      1      9      2     10      3     10      9     10\n",
       "   2 │     5      1      7      9      8      2     10      1      4      1\n",
       "   3 │     9     10      5      3      9      1      3      5      3      1\n",
       "   4 │     2      4      1      2     10      5      2      5      4      5\n",
       "   5 │     5      5      5     10      8      6      6      8      9      8"
      ]
     },
     "execution_count": 12,
     "metadata": {},
     "output_type": "execute_result"
    }
   ],
   "source": [
    "first(y, 5)"
   ]
  },
  {
   "cell_type": "markdown",
   "metadata": {},
   "source": [
    "and `last` to see its bottom rows."
   ]
  },
  {
   "cell_type": "code",
   "execution_count": 13,
   "metadata": {
    "execution": {
     "iopub.execute_input": "2022-07-18T00:54:05.584000Z",
     "iopub.status.busy": "2022-07-18T00:54:05.584000Z",
     "iopub.status.idle": "2022-07-18T00:54:05.606000Z",
     "shell.execute_reply": "2022-07-18T00:54:05.606000Z"
    }
   },
   "outputs": [
    {
     "data": {
      "text/html": [
       "<div class=\"data-frame\"><p>3 rows × 10 columns</p><table class=\"data-frame\"><thead><tr><th></th><th>x1</th><th>x2</th><th>x3</th><th>x4</th><th>x5</th><th>x6</th><th>x7</th><th>x8</th><th>x9</th><th>x10</th></tr><tr><th></th><th title=\"Int64\">Int64</th><th title=\"Int64\">Int64</th><th title=\"Int64\">Int64</th><th title=\"Int64\">Int64</th><th title=\"Int64\">Int64</th><th title=\"Int64\">Int64</th><th title=\"Int64\">Int64</th><th title=\"Int64\">Int64</th><th title=\"Int64\">Int64</th><th title=\"Int64\">Int64</th></tr></thead><tbody><tr><th>1</th><td>6</td><td>5</td><td>3</td><td>9</td><td>7</td><td>10</td><td>4</td><td>4</td><td>1</td><td>1</td></tr><tr><th>2</th><td>8</td><td>1</td><td>1</td><td>4</td><td>5</td><td>1</td><td>3</td><td>5</td><td>1</td><td>4</td></tr><tr><th>3</th><td>8</td><td>8</td><td>4</td><td>3</td><td>7</td><td>5</td><td>8</td><td>8</td><td>1</td><td>8</td></tr></tbody></table></div>"
      ],
      "text/latex": [
       "\\begin{tabular}{r|cccccccccc}\n",
       "\t& x1 & x2 & x3 & x4 & x5 & x6 & x7 & x8 & x9 & x10\\\\\n",
       "\t\\hline\n",
       "\t& Int64 & Int64 & Int64 & Int64 & Int64 & Int64 & Int64 & Int64 & Int64 & Int64\\\\\n",
       "\t\\hline\n",
       "\t1 & 6 & 5 & 3 & 9 & 7 & 10 & 4 & 4 & 1 & 1 \\\\\n",
       "\t2 & 8 & 1 & 1 & 4 & 5 & 1 & 3 & 5 & 1 & 4 \\\\\n",
       "\t3 & 8 & 8 & 4 & 3 & 7 & 5 & 8 & 8 & 1 & 8 \\\\\n",
       "\\end{tabular}\n"
      ],
      "text/plain": [
       "\u001b[1m3×10 DataFrame\u001b[0m\n",
       "\u001b[1m Row \u001b[0m│\u001b[1m x1    \u001b[0m\u001b[1m x2    \u001b[0m\u001b[1m x3    \u001b[0m\u001b[1m x4    \u001b[0m\u001b[1m x5    \u001b[0m\u001b[1m x6    \u001b[0m\u001b[1m x7    \u001b[0m\u001b[1m x8    \u001b[0m\u001b[1m x9    \u001b[0m\u001b[1m x10   \u001b[0m\n",
       "\u001b[1m     \u001b[0m│\u001b[90m Int64 \u001b[0m\u001b[90m Int64 \u001b[0m\u001b[90m Int64 \u001b[0m\u001b[90m Int64 \u001b[0m\u001b[90m Int64 \u001b[0m\u001b[90m Int64 \u001b[0m\u001b[90m Int64 \u001b[0m\u001b[90m Int64 \u001b[0m\u001b[90m Int64 \u001b[0m\u001b[90m Int64 \u001b[0m\n",
       "─────┼──────────────────────────────────────────────────────────────────────\n",
       "   1 │     6      5      3      9      7     10      4      4      1      1\n",
       "   2 │     8      1      1      4      5      1      3      5      1      4\n",
       "   3 │     8      8      4      3      7      5      8      8      1      8"
      ]
     },
     "execution_count": 13,
     "metadata": {},
     "output_type": "execute_result"
    }
   ],
   "source": [
    "last(y, 3)"
   ]
  },
  {
   "cell_type": "markdown",
   "metadata": {},
   "source": [
    "Using `first` and `last` without number of rows will return a first/last `DataFrameRow` in the `DataFrame`"
   ]
  },
  {
   "cell_type": "code",
   "execution_count": 14,
   "metadata": {
    "execution": {
     "iopub.execute_input": "2022-07-18T00:54:05.610000Z",
     "iopub.status.busy": "2022-07-18T00:54:05.610000Z",
     "iopub.status.idle": "2022-07-18T00:54:08.969000Z",
     "shell.execute_reply": "2022-07-18T00:54:08.969000Z"
    }
   },
   "outputs": [
    {
     "data": {
      "text/html": [
       "<p>DataFrameRow (10 columns)</p><div class=\"data-frame\"><table class=\"data-frame\"><thead><tr><th></th><th>x1</th><th>x2</th><th>x3</th><th>x4</th><th>x5</th><th>x6</th><th>x7</th><th>x8</th><th>x9</th><th>x10</th></tr><tr><th></th><th title=\"Int64\">Int64</th><th title=\"Int64\">Int64</th><th title=\"Int64\">Int64</th><th title=\"Int64\">Int64</th><th title=\"Int64\">Int64</th><th title=\"Int64\">Int64</th><th title=\"Int64\">Int64</th><th title=\"Int64\">Int64</th><th title=\"Int64\">Int64</th><th title=\"Int64\">Int64</th></tr></thead><tbody><tr><th>1</th><td>9</td><td>10</td><td>1</td><td>9</td><td>2</td><td>10</td><td>3</td><td>10</td><td>9</td><td>10</td></tr></tbody></table></div>"
      ],
      "text/latex": [
       "\\begin{tabular}{r|cccccccccc}\n",
       "\t& x1 & x2 & x3 & x4 & x5 & x6 & x7 & x8 & x9 & x10\\\\\n",
       "\t\\hline\n",
       "\t& Int64 & Int64 & Int64 & Int64 & Int64 & Int64 & Int64 & Int64 & Int64 & Int64\\\\\n",
       "\t\\hline\n",
       "\t1 & 9 & 10 & 1 & 9 & 2 & 10 & 3 & 10 & 9 & 10 \\\\\n",
       "\\end{tabular}\n"
      ],
      "text/plain": [
       "\u001b[1mDataFrameRow\u001b[0m\n",
       "\u001b[1m Row \u001b[0m│\u001b[1m x1    \u001b[0m\u001b[1m x2    \u001b[0m\u001b[1m x3    \u001b[0m\u001b[1m x4    \u001b[0m\u001b[1m x5    \u001b[0m\u001b[1m x6    \u001b[0m\u001b[1m x7    \u001b[0m\u001b[1m x8    \u001b[0m\u001b[1m x9    \u001b[0m\u001b[1m x10   \u001b[0m\n",
       "\u001b[1m     \u001b[0m│\u001b[90m Int64 \u001b[0m\u001b[90m Int64 \u001b[0m\u001b[90m Int64 \u001b[0m\u001b[90m Int64 \u001b[0m\u001b[90m Int64 \u001b[0m\u001b[90m Int64 \u001b[0m\u001b[90m Int64 \u001b[0m\u001b[90m Int64 \u001b[0m\u001b[90m Int64 \u001b[0m\u001b[90m Int64 \u001b[0m\n",
       "─────┼──────────────────────────────────────────────────────────────────────\n",
       "   1 │     9     10      1      9      2     10      3     10      9     10"
      ]
     },
     "execution_count": 14,
     "metadata": {},
     "output_type": "execute_result"
    }
   ],
   "source": [
    "first(y)"
   ]
  },
  {
   "cell_type": "code",
   "execution_count": 15,
   "metadata": {
    "execution": {
     "iopub.execute_input": "2022-07-18T00:54:08.972000Z",
     "iopub.status.busy": "2022-07-18T00:54:08.972000Z",
     "iopub.status.idle": "2022-07-18T00:54:08.983000Z",
     "shell.execute_reply": "2022-07-18T00:54:08.983000Z"
    }
   },
   "outputs": [
    {
     "data": {
      "text/html": [
       "<p>DataFrameRow (10 columns)</p><div class=\"data-frame\"><table class=\"data-frame\"><thead><tr><th></th><th>x1</th><th>x2</th><th>x3</th><th>x4</th><th>x5</th><th>x6</th><th>x7</th><th>x8</th><th>x9</th><th>x10</th></tr><tr><th></th><th title=\"Int64\">Int64</th><th title=\"Int64\">Int64</th><th title=\"Int64\">Int64</th><th title=\"Int64\">Int64</th><th title=\"Int64\">Int64</th><th title=\"Int64\">Int64</th><th title=\"Int64\">Int64</th><th title=\"Int64\">Int64</th><th title=\"Int64\">Int64</th><th title=\"Int64\">Int64</th></tr></thead><tbody><tr><th>1000</th><td>8</td><td>8</td><td>4</td><td>3</td><td>7</td><td>5</td><td>8</td><td>8</td><td>1</td><td>8</td></tr></tbody></table></div>"
      ],
      "text/latex": [
       "\\begin{tabular}{r|cccccccccc}\n",
       "\t& x1 & x2 & x3 & x4 & x5 & x6 & x7 & x8 & x9 & x10\\\\\n",
       "\t\\hline\n",
       "\t& Int64 & Int64 & Int64 & Int64 & Int64 & Int64 & Int64 & Int64 & Int64 & Int64\\\\\n",
       "\t\\hline\n",
       "\t1000 & 8 & 8 & 4 & 3 & 7 & 5 & 8 & 8 & 1 & 8 \\\\\n",
       "\\end{tabular}\n"
      ],
      "text/plain": [
       "\u001b[1mDataFrameRow\u001b[0m\n",
       "\u001b[1m  Row \u001b[0m│\u001b[1m x1    \u001b[0m\u001b[1m x2    \u001b[0m\u001b[1m x3    \u001b[0m\u001b[1m x4    \u001b[0m\u001b[1m x5    \u001b[0m\u001b[1m x6    \u001b[0m\u001b[1m x7    \u001b[0m\u001b[1m x8    \u001b[0m\u001b[1m x9    \u001b[0m\u001b[1m x10   \u001b[0m\n",
       "\u001b[1m      \u001b[0m│\u001b[90m Int64 \u001b[0m\u001b[90m Int64 \u001b[0m\u001b[90m Int64 \u001b[0m\u001b[90m Int64 \u001b[0m\u001b[90m Int64 \u001b[0m\u001b[90m Int64 \u001b[0m\u001b[90m Int64 \u001b[0m\u001b[90m Int64 \u001b[0m\u001b[90m Int64 \u001b[0m\u001b[90m Int64 \u001b[0m\n",
       "──────┼──────────────────────────────────────────────────────────────────────\n",
       " 1000 │     8      8      4      3      7      5      8      8      1      8"
      ]
     },
     "execution_count": 15,
     "metadata": {},
     "output_type": "execute_result"
    }
   ],
   "source": [
    "last(y)"
   ]
  },
  {
   "cell_type": "markdown",
   "metadata": {},
   "source": [
    "## Displaying large data frames"
   ]
  },
  {
   "cell_type": "markdown",
   "metadata": {},
   "source": [
    "Create a wide and tall data frame:"
   ]
  },
  {
   "cell_type": "code",
   "execution_count": 16,
   "metadata": {
    "execution": {
     "iopub.execute_input": "2022-07-18T00:54:08.987000Z",
     "iopub.status.busy": "2022-07-18T00:54:08.987000Z",
     "iopub.status.idle": "2022-07-18T00:54:09.204000Z",
     "shell.execute_reply": "2022-07-18T00:54:09.204000Z"
    },
    "scrolled": true
   },
   "outputs": [
    {
     "data": {
      "text/html": [
       "<div class=\"data-frame\"><p>100 rows × 100 columns (omitted printing of 92 columns)</p><table class=\"data-frame\"><thead><tr><th></th><th>x1</th><th>x2</th><th>x3</th><th>x4</th><th>x5</th><th>x6</th><th>x7</th><th>x8</th></tr><tr><th></th><th title=\"Float64\">Float64</th><th title=\"Float64\">Float64</th><th title=\"Float64\">Float64</th><th title=\"Float64\">Float64</th><th title=\"Float64\">Float64</th><th title=\"Float64\">Float64</th><th title=\"Float64\">Float64</th><th title=\"Float64\">Float64</th></tr></thead><tbody><tr><th>1</th><td>0.895515</td><td>0.122478</td><td>0.43021</td><td>0.947462</td><td>0.177689</td><td>0.940036</td><td>0.0800526</td><td>0.0605464</td></tr><tr><th>2</th><td>0.79084</td><td>0.0437097</td><td>0.883725</td><td>0.653532</td><td>0.801702</td><td>0.00766898</td><td>0.898272</td><td>0.352463</td></tr><tr><th>3</th><td>0.617988</td><td>0.387487</td><td>0.318054</td><td>0.764076</td><td>0.506029</td><td>0.505076</td><td>0.858486</td><td>0.020337</td></tr><tr><th>4</th><td>0.33011</td><td>0.160413</td><td>0.0273744</td><td>0.277932</td><td>0.660373</td><td>0.302</td><td>0.236495</td><td>0.424567</td></tr><tr><th>5</th><td>0.137219</td><td>0.751608</td><td>0.359242</td><td>0.614104</td><td>0.363926</td><td>0.958595</td><td>0.776145</td><td>0.757605</td></tr><tr><th>6</th><td>0.883833</td><td>0.446591</td><td>0.843669</td><td>0.0150616</td><td>0.168174</td><td>0.259399</td><td>0.892036</td><td>0.724112</td></tr><tr><th>7</th><td>0.945243</td><td>0.968535</td><td>0.0571247</td><td>0.43819</td><td>0.232547</td><td>0.229044</td><td>0.831233</td><td>0.612208</td></tr><tr><th>8</th><td>0.972199</td><td>0.440778</td><td>0.594305</td><td>0.508575</td><td>0.56609</td><td>0.680669</td><td>0.157559</td><td>0.656047</td></tr><tr><th>9</th><td>0.641235</td><td>0.0841282</td><td>0.922782</td><td>0.226138</td><td>0.177105</td><td>0.33052</td><td>0.867605</td><td>0.945299</td></tr><tr><th>10</th><td>0.614527</td><td>0.680108</td><td>0.220532</td><td>0.648881</td><td>0.35948</td><td>0.85442</td><td>0.651811</td><td>0.321926</td></tr><tr><th>11</th><td>0.455753</td><td>0.297238</td><td>0.336416</td><td>0.162537</td><td>0.442795</td><td>0.31025</td><td>0.265898</td><td>0.99516</td></tr><tr><th>12</th><td>0.88316</td><td>0.869755</td><td>0.965695</td><td>0.601286</td><td>0.91858</td><td>0.38981</td><td>0.989975</td><td>0.666838</td></tr><tr><th>13</th><td>0.811348</td><td>0.375026</td><td>0.0718615</td><td>0.761148</td><td>0.638277</td><td>0.719468</td><td>0.440553</td><td>0.0509796</td></tr><tr><th>14</th><td>0.993557</td><td>0.351657</td><td>0.871165</td><td>0.0635022</td><td>0.358022</td><td>0.146603</td><td>0.445714</td><td>0.715665</td></tr><tr><th>15</th><td>0.965317</td><td>0.976105</td><td>0.70875</td><td>0.391323</td><td>0.611455</td><td>0.605231</td><td>0.423904</td><td>0.959484</td></tr><tr><th>16</th><td>0.643178</td><td>0.0445658</td><td>0.560415</td><td>0.331466</td><td>0.0172067</td><td>0.907359</td><td>0.537104</td><td>0.326839</td></tr><tr><th>17</th><td>0.824414</td><td>0.111152</td><td>0.980194</td><td>0.384752</td><td>0.701328</td><td>0.221402</td><td>0.673918</td><td>0.353356</td></tr><tr><th>18</th><td>0.836941</td><td>0.472405</td><td>0.714391</td><td>0.531212</td><td>0.123676</td><td>0.382687</td><td>0.0935246</td><td>0.749546</td></tr><tr><th>19</th><td>0.442309</td><td>0.689547</td><td>0.524711</td><td>0.731579</td><td>0.0179696</td><td>0.637288</td><td>0.826708</td><td>0.431503</td></tr><tr><th>20</th><td>0.853101</td><td>0.2266</td><td>0.425673</td><td>0.283455</td><td>0.79788</td><td>0.512764</td><td>0.906406</td><td>0.462448</td></tr><tr><th>21</th><td>0.921376</td><td>0.745047</td><td>0.783618</td><td>0.332627</td><td>0.248526</td><td>0.367233</td><td>0.860156</td><td>0.0603976</td></tr><tr><th>22</th><td>0.0543547</td><td>0.0633895</td><td>0.672191</td><td>0.62755</td><td>0.370983</td><td>0.132401</td><td>0.558467</td><td>0.768104</td></tr><tr><th>23</th><td>0.317858</td><td>0.468565</td><td>0.768392</td><td>0.343514</td><td>0.771712</td><td>0.263468</td><td>0.258996</td><td>0.183933</td></tr><tr><th>24</th><td>0.731119</td><td>0.349539</td><td>0.152898</td><td>0.0598092</td><td>0.165279</td><td>0.0127239</td><td>0.535052</td><td>0.686238</td></tr><tr><th>25</th><td>0.92108</td><td>0.529965</td><td>0.550251</td><td>0.906053</td><td>0.676205</td><td>0.42655</td><td>0.303984</td><td>0.598421</td></tr><tr><th>26</th><td>0.670735</td><td>0.961297</td><td>0.119535</td><td>0.684393</td><td>0.403292</td><td>0.247053</td><td>0.695027</td><td>0.455438</td></tr><tr><th>27</th><td>0.321633</td><td>0.724078</td><td>0.970726</td><td>0.297297</td><td>0.154203</td><td>0.766421</td><td>0.0829253</td><td>0.394211</td></tr><tr><th>28</th><td>0.838781</td><td>0.784648</td><td>0.572809</td><td>0.347417</td><td>0.772004</td><td>0.86805</td><td>0.100184</td><td>0.531091</td></tr><tr><th>29</th><td>0.118514</td><td>0.31453</td><td>0.272581</td><td>0.830515</td><td>0.184089</td><td>0.781177</td><td>0.180561</td><td>0.487795</td></tr><tr><th>30</th><td>0.0525393</td><td>0.911733</td><td>0.640634</td><td>0.16502</td><td>0.61651</td><td>0.795054</td><td>0.895579</td><td>0.768517</td></tr><tr><th>&vellip;</th><td>&vellip;</td><td>&vellip;</td><td>&vellip;</td><td>&vellip;</td><td>&vellip;</td><td>&vellip;</td><td>&vellip;</td><td>&vellip;</td></tr></tbody></table></div>"
      ],
      "text/latex": [
       "\\begin{tabular}{r|ccccccccc}\n",
       "\t& x1 & x2 & x3 & x4 & x5 & x6 & x7 & x8 & \\\\\n",
       "\t\\hline\n",
       "\t& Float64 & Float64 & Float64 & Float64 & Float64 & Float64 & Float64 & Float64 & \\\\\n",
       "\t\\hline\n",
       "\t1 & 0.895515 & 0.122478 & 0.43021 & 0.947462 & 0.177689 & 0.940036 & 0.0800526 & 0.0605464 & $\\dots$ \\\\\n",
       "\t2 & 0.79084 & 0.0437097 & 0.883725 & 0.653532 & 0.801702 & 0.00766898 & 0.898272 & 0.352463 & $\\dots$ \\\\\n",
       "\t3 & 0.617988 & 0.387487 & 0.318054 & 0.764076 & 0.506029 & 0.505076 & 0.858486 & 0.020337 & $\\dots$ \\\\\n",
       "\t4 & 0.33011 & 0.160413 & 0.0273744 & 0.277932 & 0.660373 & 0.302 & 0.236495 & 0.424567 & $\\dots$ \\\\\n",
       "\t5 & 0.137219 & 0.751608 & 0.359242 & 0.614104 & 0.363926 & 0.958595 & 0.776145 & 0.757605 & $\\dots$ \\\\\n",
       "\t6 & 0.883833 & 0.446591 & 0.843669 & 0.0150616 & 0.168174 & 0.259399 & 0.892036 & 0.724112 & $\\dots$ \\\\\n",
       "\t7 & 0.945243 & 0.968535 & 0.0571247 & 0.43819 & 0.232547 & 0.229044 & 0.831233 & 0.612208 & $\\dots$ \\\\\n",
       "\t8 & 0.972199 & 0.440778 & 0.594305 & 0.508575 & 0.56609 & 0.680669 & 0.157559 & 0.656047 & $\\dots$ \\\\\n",
       "\t9 & 0.641235 & 0.0841282 & 0.922782 & 0.226138 & 0.177105 & 0.33052 & 0.867605 & 0.945299 & $\\dots$ \\\\\n",
       "\t10 & 0.614527 & 0.680108 & 0.220532 & 0.648881 & 0.35948 & 0.85442 & 0.651811 & 0.321926 & $\\dots$ \\\\\n",
       "\t11 & 0.455753 & 0.297238 & 0.336416 & 0.162537 & 0.442795 & 0.31025 & 0.265898 & 0.99516 & $\\dots$ \\\\\n",
       "\t12 & 0.88316 & 0.869755 & 0.965695 & 0.601286 & 0.91858 & 0.38981 & 0.989975 & 0.666838 & $\\dots$ \\\\\n",
       "\t13 & 0.811348 & 0.375026 & 0.0718615 & 0.761148 & 0.638277 & 0.719468 & 0.440553 & 0.0509796 & $\\dots$ \\\\\n",
       "\t14 & 0.993557 & 0.351657 & 0.871165 & 0.0635022 & 0.358022 & 0.146603 & 0.445714 & 0.715665 & $\\dots$ \\\\\n",
       "\t15 & 0.965317 & 0.976105 & 0.70875 & 0.391323 & 0.611455 & 0.605231 & 0.423904 & 0.959484 & $\\dots$ \\\\\n",
       "\t16 & 0.643178 & 0.0445658 & 0.560415 & 0.331466 & 0.0172067 & 0.907359 & 0.537104 & 0.326839 & $\\dots$ \\\\\n",
       "\t17 & 0.824414 & 0.111152 & 0.980194 & 0.384752 & 0.701328 & 0.221402 & 0.673918 & 0.353356 & $\\dots$ \\\\\n",
       "\t18 & 0.836941 & 0.472405 & 0.714391 & 0.531212 & 0.123676 & 0.382687 & 0.0935246 & 0.749546 & $\\dots$ \\\\\n",
       "\t19 & 0.442309 & 0.689547 & 0.524711 & 0.731579 & 0.0179696 & 0.637288 & 0.826708 & 0.431503 & $\\dots$ \\\\\n",
       "\t20 & 0.853101 & 0.2266 & 0.425673 & 0.283455 & 0.79788 & 0.512764 & 0.906406 & 0.462448 & $\\dots$ \\\\\n",
       "\t21 & 0.921376 & 0.745047 & 0.783618 & 0.332627 & 0.248526 & 0.367233 & 0.860156 & 0.0603976 & $\\dots$ \\\\\n",
       "\t22 & 0.0543547 & 0.0633895 & 0.672191 & 0.62755 & 0.370983 & 0.132401 & 0.558467 & 0.768104 & $\\dots$ \\\\\n",
       "\t23 & 0.317858 & 0.468565 & 0.768392 & 0.343514 & 0.771712 & 0.263468 & 0.258996 & 0.183933 & $\\dots$ \\\\\n",
       "\t24 & 0.731119 & 0.349539 & 0.152898 & 0.0598092 & 0.165279 & 0.0127239 & 0.535052 & 0.686238 & $\\dots$ \\\\\n",
       "\t25 & 0.92108 & 0.529965 & 0.550251 & 0.906053 & 0.676205 & 0.42655 & 0.303984 & 0.598421 & $\\dots$ \\\\\n",
       "\t26 & 0.670735 & 0.961297 & 0.119535 & 0.684393 & 0.403292 & 0.247053 & 0.695027 & 0.455438 & $\\dots$ \\\\\n",
       "\t27 & 0.321633 & 0.724078 & 0.970726 & 0.297297 & 0.154203 & 0.766421 & 0.0829253 & 0.394211 & $\\dots$ \\\\\n",
       "\t28 & 0.838781 & 0.784648 & 0.572809 & 0.347417 & 0.772004 & 0.86805 & 0.100184 & 0.531091 & $\\dots$ \\\\\n",
       "\t29 & 0.118514 & 0.31453 & 0.272581 & 0.830515 & 0.184089 & 0.781177 & 0.180561 & 0.487795 & $\\dots$ \\\\\n",
       "\t30 & 0.0525393 & 0.911733 & 0.640634 & 0.16502 & 0.61651 & 0.795054 & 0.895579 & 0.768517 & $\\dots$ \\\\\n",
       "\t$\\dots$ & $\\dots$ & $\\dots$ & $\\dots$ & $\\dots$ & $\\dots$ & $\\dots$ & $\\dots$ & $\\dots$ &  \\\\\n",
       "\\end{tabular}\n"
      ],
      "text/plain": [
       "\u001b[1m100×100 DataFrame\u001b[0m\n",
       "\u001b[1m Row \u001b[0m│\u001b[1m x1        \u001b[0m\u001b[1m x2        \u001b[0m\u001b[1m x3        \u001b[0m\u001b[1m x4        \u001b[0m\u001b[1m x5         \u001b[0m\u001b[1m x6         \u001b[0m\u001b[1m x7 \u001b[0m ⋯\n",
       "\u001b[1m     \u001b[0m│\u001b[90m Float64   \u001b[0m\u001b[90m Float64   \u001b[0m\u001b[90m Float64   \u001b[0m\u001b[90m Float64   \u001b[0m\u001b[90m Float64    \u001b[0m\u001b[90m Float64    \u001b[0m\u001b[90m Flo\u001b[0m ⋯\n",
       "─────┼──────────────────────────────────────────────────────────────────────────\n",
       "   1 │ 0.895515   0.122478   0.43021    0.947462   0.177689    0.940036    0.0 ⋯\n",
       "   2 │ 0.79084    0.0437097  0.883725   0.653532   0.801702    0.00766898  0.8\n",
       "   3 │ 0.617988   0.387487   0.318054   0.764076   0.506029    0.505076    0.8\n",
       "   4 │ 0.33011    0.160413   0.0273744  0.277932   0.660373    0.302       0.2\n",
       "   5 │ 0.137219   0.751608   0.359242   0.614104   0.363926    0.958595    0.7 ⋯\n",
       "   6 │ 0.883833   0.446591   0.843669   0.0150616  0.168174    0.259399    0.8\n",
       "   7 │ 0.945243   0.968535   0.0571247  0.43819    0.232547    0.229044    0.8\n",
       "   8 │ 0.972199   0.440778   0.594305   0.508575   0.56609     0.680669    0.1\n",
       "   9 │ 0.641235   0.0841282  0.922782   0.226138   0.177105    0.33052     0.8 ⋯\n",
       "  10 │ 0.614527   0.680108   0.220532   0.648881   0.35948     0.85442     0.6\n",
       "  11 │ 0.455753   0.297238   0.336416   0.162537   0.442795    0.31025     0.2\n",
       "  ⋮  │     ⋮          ⋮          ⋮          ⋮          ⋮           ⋮           ⋱\n",
       "  91 │ 0.167954   0.810922   0.336515   0.709018   0.205856    0.447221    0.9\n",
       "  92 │ 0.462308   0.912834   0.947242   0.93093    0.600357    0.0834801   0.0 ⋯\n",
       "  93 │ 0.29369    0.39431    0.855248   0.965464   0.259276    0.900838    0.5\n",
       "  94 │ 0.657013   0.711188   0.642681   0.638433   0.931273    0.443636    0.6\n",
       "  95 │ 0.45879    0.138533   0.811109   0.301792   0.00418657  0.289379    0.4\n",
       "  96 │ 0.0284348  0.601195   0.458079   0.618591   0.195801    0.86386     0.8 ⋯\n",
       "  97 │ 0.012937   0.881627   0.694622   0.0293972  0.715198    0.329866    0.2\n",
       "  98 │ 0.621857   0.325063   0.47823    0.0881478  0.662669    0.659422    0.0\n",
       "  99 │ 0.105319   0.454482   0.364169   0.0615272  0.133278    0.447762    0.6\n",
       " 100 │ 0.131912   0.316544   0.696454   0.830066   0.870482    0.351827    0.9 ⋯\n",
       "\u001b[36m                                                  94 columns and 79 rows omitted\u001b[0m"
      ]
     },
     "execution_count": 16,
     "metadata": {},
     "output_type": "execute_result"
    }
   ],
   "source": [
    "df = DataFrame(rand(100, 100), :auto)"
   ]
  },
  {
   "cell_type": "markdown",
   "metadata": {},
   "source": [
    "we can see that 92 of its columns were not printed. Also we get its first 30 rows. You can easily change this behavior by changing the value of `ENV[\"LINES\"]` and `ENV[\"COLUMNS\"]`."
   ]
  },
  {
   "cell_type": "code",
   "execution_count": 17,
   "metadata": {
    "execution": {
     "iopub.execute_input": "2022-07-18T00:54:09.209000Z",
     "iopub.status.busy": "2022-07-18T00:54:09.208000Z",
     "iopub.status.idle": "2022-07-18T00:54:09.468000Z",
     "shell.execute_reply": "2022-07-18T00:54:09.467000Z"
    }
   },
   "outputs": [
    {
     "data": {
      "text/plain": [
       "10"
      ]
     },
     "execution_count": 17,
     "metadata": {},
     "output_type": "execute_result"
    }
   ],
   "source": [
    "ENV[\"LINES\"] = 10"
   ]
  },
  {
   "cell_type": "code",
   "execution_count": 18,
   "metadata": {
    "execution": {
     "iopub.execute_input": "2022-07-18T00:54:09.471000Z",
     "iopub.status.busy": "2022-07-18T00:54:09.471000Z",
     "iopub.status.idle": "2022-07-18T00:54:09.472000Z",
     "shell.execute_reply": "2022-07-18T00:54:09.472000Z"
    }
   },
   "outputs": [
    {
     "data": {
      "text/plain": [
       "200"
      ]
     },
     "execution_count": 18,
     "metadata": {},
     "output_type": "execute_result"
    }
   ],
   "source": [
    "ENV[\"COLUMNS\"] = 200"
   ]
  },
  {
   "cell_type": "code",
   "execution_count": 19,
   "metadata": {
    "execution": {
     "iopub.execute_input": "2022-07-18T00:54:09.474000Z",
     "iopub.status.busy": "2022-07-18T00:54:09.474000Z",
     "iopub.status.idle": "2022-07-18T00:54:09.481000Z",
     "shell.execute_reply": "2022-07-18T00:54:09.481000Z"
    }
   },
   "outputs": [
    {
     "data": {
      "text/html": [
       "<div class=\"data-frame\"><p>100 rows × 100 columns (omitted printing of 81 columns)</p><table class=\"data-frame\"><thead><tr><th></th><th>x1</th><th>x2</th><th>x3</th><th>x4</th><th>x5</th><th>x6</th><th>x7</th><th>x8</th><th>x9</th><th>x10</th><th>x11</th><th>x12</th><th>x13</th><th>x14</th><th>x15</th><th>x16</th><th>x17</th><th>x18</th><th>x19</th></tr><tr><th></th><th title=\"Float64\">Float64</th><th title=\"Float64\">Float64</th><th title=\"Float64\">Float64</th><th title=\"Float64\">Float64</th><th title=\"Float64\">Float64</th><th title=\"Float64\">Float64</th><th title=\"Float64\">Float64</th><th title=\"Float64\">Float64</th><th title=\"Float64\">Float64</th><th title=\"Float64\">Float64</th><th title=\"Float64\">Float64</th><th title=\"Float64\">Float64</th><th title=\"Float64\">Float64</th><th title=\"Float64\">Float64</th><th title=\"Float64\">Float64</th><th title=\"Float64\">Float64</th><th title=\"Float64\">Float64</th><th title=\"Float64\">Float64</th><th title=\"Float64\">Float64</th></tr></thead><tbody><tr><th>1</th><td>0.895515</td><td>0.122478</td><td>0.43021</td><td>0.947462</td><td>0.177689</td><td>0.940036</td><td>0.0800526</td><td>0.0605464</td><td>0.144485</td><td>0.771371</td><td>0.87796</td><td>0.505235</td><td>0.286084</td><td>0.587084</td><td>0.635324</td><td>0.0321169</td><td>0.961375</td><td>0.911213</td><td>0.0926078</td></tr><tr><th>2</th><td>0.79084</td><td>0.0437097</td><td>0.883725</td><td>0.653532</td><td>0.801702</td><td>0.00766898</td><td>0.898272</td><td>0.352463</td><td>0.680297</td><td>0.0731915</td><td>0.981606</td><td>0.639526</td><td>0.241439</td><td>0.694869</td><td>0.736835</td><td>0.725853</td><td>0.260728</td><td>0.726286</td><td>0.660242</td></tr><tr><th>3</th><td>0.617988</td><td>0.387487</td><td>0.318054</td><td>0.764076</td><td>0.506029</td><td>0.505076</td><td>0.858486</td><td>0.020337</td><td>0.202723</td><td>0.935914</td><td>0.460463</td><td>0.112408</td><td>0.573712</td><td>0.850772</td><td>0.261814</td><td>0.569291</td><td>0.162676</td><td>0.170768</td><td>0.280298</td></tr><tr><th>4</th><td>0.33011</td><td>0.160413</td><td>0.0273744</td><td>0.277932</td><td>0.660373</td><td>0.302</td><td>0.236495</td><td>0.424567</td><td>0.475889</td><td>0.293931</td><td>0.235654</td><td>0.692486</td><td>0.348565</td><td>0.40103</td><td>0.177299</td><td>0.25912</td><td>0.248149</td><td>0.523958</td><td>0.290321</td></tr><tr><th>5</th><td>0.137219</td><td>0.751608</td><td>0.359242</td><td>0.614104</td><td>0.363926</td><td>0.958595</td><td>0.776145</td><td>0.757605</td><td>0.900448</td><td>0.555793</td><td>0.33023</td><td>0.14108</td><td>0.524951</td><td>0.342711</td><td>0.776811</td><td>0.632302</td><td>0.233622</td><td>0.063797</td><td>0.891215</td></tr><tr><th>6</th><td>0.883833</td><td>0.446591</td><td>0.843669</td><td>0.0150616</td><td>0.168174</td><td>0.259399</td><td>0.892036</td><td>0.724112</td><td>0.918434</td><td>0.143452</td><td>0.645022</td><td>0.276158</td><td>0.627481</td><td>0.511584</td><td>0.131376</td><td>0.763089</td><td>0.655206</td><td>0.805891</td><td>0.892849</td></tr><tr><th>7</th><td>0.945243</td><td>0.968535</td><td>0.0571247</td><td>0.43819</td><td>0.232547</td><td>0.229044</td><td>0.831233</td><td>0.612208</td><td>0.206948</td><td>0.290748</td><td>0.815872</td><td>0.270091</td><td>0.0599951</td><td>0.724633</td><td>0.866094</td><td>0.921528</td><td>0.485681</td><td>0.099164</td><td>0.635257</td></tr><tr><th>8</th><td>0.972199</td><td>0.440778</td><td>0.594305</td><td>0.508575</td><td>0.56609</td><td>0.680669</td><td>0.157559</td><td>0.656047</td><td>0.246124</td><td>0.758434</td><td>0.150791</td><td>0.0187106</td><td>0.23321</td><td>0.521247</td><td>0.706315</td><td>0.110001</td><td>0.941937</td><td>0.321936</td><td>0.362289</td></tr><tr><th>9</th><td>0.641235</td><td>0.0841282</td><td>0.922782</td><td>0.226138</td><td>0.177105</td><td>0.33052</td><td>0.867605</td><td>0.945299</td><td>0.646767</td><td>0.426581</td><td>0.0123345</td><td>0.287967</td><td>0.3017</td><td>0.180796</td><td>0.420178</td><td>0.64986</td><td>0.30148</td><td>0.935868</td><td>0.0858095</td></tr><tr><th>10</th><td>0.614527</td><td>0.680108</td><td>0.220532</td><td>0.648881</td><td>0.35948</td><td>0.85442</td><td>0.651811</td><td>0.321926</td><td>0.613538</td><td>0.875944</td><td>0.786885</td><td>0.742021</td><td>0.945884</td><td>0.290851</td><td>0.970736</td><td>0.714771</td><td>0.946009</td><td>0.67625</td><td>0.917979</td></tr><tr><th>&vellip;</th><td>&vellip;</td><td>&vellip;</td><td>&vellip;</td><td>&vellip;</td><td>&vellip;</td><td>&vellip;</td><td>&vellip;</td><td>&vellip;</td><td>&vellip;</td><td>&vellip;</td><td>&vellip;</td><td>&vellip;</td><td>&vellip;</td><td>&vellip;</td><td>&vellip;</td><td>&vellip;</td><td>&vellip;</td><td>&vellip;</td><td>&vellip;</td></tr></tbody></table></div>"
      ],
      "text/latex": [
       "\\begin{tabular}{r|cccccccccccccccccccc}\n",
       "\t& x1 & x2 & x3 & x4 & x5 & x6 & x7 & x8 & x9 & x10 & x11 & x12 & x13 & x14 & x15 & x16 & x17 & x18 & x19 & \\\\\n",
       "\t\\hline\n",
       "\t& Float64 & Float64 & Float64 & Float64 & Float64 & Float64 & Float64 & Float64 & Float64 & Float64 & Float64 & Float64 & Float64 & Float64 & Float64 & Float64 & Float64 & Float64 & Float64 & \\\\\n",
       "\t\\hline\n",
       "\t1 & 0.895515 & 0.122478 & 0.43021 & 0.947462 & 0.177689 & 0.940036 & 0.0800526 & 0.0605464 & 0.144485 & 0.771371 & 0.87796 & 0.505235 & 0.286084 & 0.587084 & 0.635324 & 0.0321169 & 0.961375 & 0.911213 & 0.0926078 & $\\dots$ \\\\\n",
       "\t2 & 0.79084 & 0.0437097 & 0.883725 & 0.653532 & 0.801702 & 0.00766898 & 0.898272 & 0.352463 & 0.680297 & 0.0731915 & 0.981606 & 0.639526 & 0.241439 & 0.694869 & 0.736835 & 0.725853 & 0.260728 & 0.726286 & 0.660242 & $\\dots$ \\\\\n",
       "\t3 & 0.617988 & 0.387487 & 0.318054 & 0.764076 & 0.506029 & 0.505076 & 0.858486 & 0.020337 & 0.202723 & 0.935914 & 0.460463 & 0.112408 & 0.573712 & 0.850772 & 0.261814 & 0.569291 & 0.162676 & 0.170768 & 0.280298 & $\\dots$ \\\\\n",
       "\t4 & 0.33011 & 0.160413 & 0.0273744 & 0.277932 & 0.660373 & 0.302 & 0.236495 & 0.424567 & 0.475889 & 0.293931 & 0.235654 & 0.692486 & 0.348565 & 0.40103 & 0.177299 & 0.25912 & 0.248149 & 0.523958 & 0.290321 & $\\dots$ \\\\\n",
       "\t5 & 0.137219 & 0.751608 & 0.359242 & 0.614104 & 0.363926 & 0.958595 & 0.776145 & 0.757605 & 0.900448 & 0.555793 & 0.33023 & 0.14108 & 0.524951 & 0.342711 & 0.776811 & 0.632302 & 0.233622 & 0.063797 & 0.891215 & $\\dots$ \\\\\n",
       "\t6 & 0.883833 & 0.446591 & 0.843669 & 0.0150616 & 0.168174 & 0.259399 & 0.892036 & 0.724112 & 0.918434 & 0.143452 & 0.645022 & 0.276158 & 0.627481 & 0.511584 & 0.131376 & 0.763089 & 0.655206 & 0.805891 & 0.892849 & $\\dots$ \\\\\n",
       "\t7 & 0.945243 & 0.968535 & 0.0571247 & 0.43819 & 0.232547 & 0.229044 & 0.831233 & 0.612208 & 0.206948 & 0.290748 & 0.815872 & 0.270091 & 0.0599951 & 0.724633 & 0.866094 & 0.921528 & 0.485681 & 0.099164 & 0.635257 & $\\dots$ \\\\\n",
       "\t8 & 0.972199 & 0.440778 & 0.594305 & 0.508575 & 0.56609 & 0.680669 & 0.157559 & 0.656047 & 0.246124 & 0.758434 & 0.150791 & 0.0187106 & 0.23321 & 0.521247 & 0.706315 & 0.110001 & 0.941937 & 0.321936 & 0.362289 & $\\dots$ \\\\\n",
       "\t9 & 0.641235 & 0.0841282 & 0.922782 & 0.226138 & 0.177105 & 0.33052 & 0.867605 & 0.945299 & 0.646767 & 0.426581 & 0.0123345 & 0.287967 & 0.3017 & 0.180796 & 0.420178 & 0.64986 & 0.30148 & 0.935868 & 0.0858095 & $\\dots$ \\\\\n",
       "\t10 & 0.614527 & 0.680108 & 0.220532 & 0.648881 & 0.35948 & 0.85442 & 0.651811 & 0.321926 & 0.613538 & 0.875944 & 0.786885 & 0.742021 & 0.945884 & 0.290851 & 0.970736 & 0.714771 & 0.946009 & 0.67625 & 0.917979 & $\\dots$ \\\\\n",
       "\t$\\dots$ & $\\dots$ & $\\dots$ & $\\dots$ & $\\dots$ & $\\dots$ & $\\dots$ & $\\dots$ & $\\dots$ & $\\dots$ & $\\dots$ & $\\dots$ & $\\dots$ & $\\dots$ & $\\dots$ & $\\dots$ & $\\dots$ & $\\dots$ & $\\dots$ & $\\dots$ &  \\\\\n",
       "\\end{tabular}\n"
      ],
      "text/plain": [
       "\u001b[1m100×100 DataFrame\u001b[0m\n",
       "\u001b[1m Row \u001b[0m│\u001b[1m x1       \u001b[0m\u001b[1m x2        \u001b[0m\u001b[1m x3        \u001b[0m\u001b[1m x4        \u001b[0m\u001b[1m x5       \u001b[0m\u001b[1m x6         \u001b[0m\u001b[1m x7        \u001b[0m\u001b[1m x8        \u001b[0m\u001b[1m x9       \u001b[0m\u001b[1m x10       \u001b[0m\u001b[1m x11        \u001b[0m\u001b[1m x12       \u001b[0m\u001b[1m x13      \u001b[0m\u001b[1m x14       \u001b[0m\u001b[1m x15      \u001b[0m\u001b[1m x16       \u001b[0m\u001b[1m x17      \u001b[0m\u001b[1m x18     \u001b[0m ⋯\n",
       "\u001b[1m     \u001b[0m│\u001b[90m Float64  \u001b[0m\u001b[90m Float64   \u001b[0m\u001b[90m Float64   \u001b[0m\u001b[90m Float64   \u001b[0m\u001b[90m Float64  \u001b[0m\u001b[90m Float64    \u001b[0m\u001b[90m Float64   \u001b[0m\u001b[90m Float64   \u001b[0m\u001b[90m Float64  \u001b[0m\u001b[90m Float64   \u001b[0m\u001b[90m Float64    \u001b[0m\u001b[90m Float64   \u001b[0m\u001b[90m Float64  \u001b[0m\u001b[90m Float64   \u001b[0m\u001b[90m Float64  \u001b[0m\u001b[90m Float64   \u001b[0m\u001b[90m Float64  \u001b[0m\u001b[90m Float64 \u001b[0m ⋯\n",
       "─────┼──────────────────────────────────────────────────────────────────────────────────────────────────────────────────────────────────────────────────────────────────────────────────────────────────\n",
       "   1 │ 0.895515  0.122478   0.43021    0.947462   0.177689  0.940036    0.0800526  0.0605464  0.144485  0.771371   0.87796     0.505235   0.286084  0.587084   0.635324  0.0321169  0.961375  0.911213 ⋯\n",
       "  ⋮  │    ⋮          ⋮          ⋮          ⋮         ⋮          ⋮           ⋮          ⋮         ⋮          ⋮          ⋮           ⋮         ⋮          ⋮         ⋮          ⋮         ⋮         ⋮     ⋱\n",
       "\u001b[36m                                                                                                                                                                          82 columns and 99 rows omitted\u001b[0m"
      ]
     },
     "execution_count": 19,
     "metadata": {},
     "output_type": "execute_result"
    }
   ],
   "source": [
    "df"
   ]
  },
  {
   "cell_type": "markdown",
   "metadata": {},
   "source": [
    "### Most elementary get and set operations\n",
    "\n",
    "Given the `DataFrame` `x` we have created earlier, here are various ways to grab one of its columns as a `Vector`."
   ]
  },
  {
   "cell_type": "code",
   "execution_count": 20,
   "metadata": {
    "execution": {
     "iopub.execute_input": "2022-07-18T00:54:09.483000Z",
     "iopub.status.busy": "2022-07-18T00:54:09.483000Z",
     "iopub.status.idle": "2022-07-18T00:54:09.492000Z",
     "shell.execute_reply": "2022-07-18T00:54:09.492000Z"
    }
   },
   "outputs": [
    {
     "data": {
      "text/html": [
       "<div class=\"data-frame\"><p>2 rows × 3 columns</p><table class=\"data-frame\"><thead><tr><th></th><th>A</th><th>B</th><th>C</th></tr><tr><th></th><th title=\"Int64\">Int64</th><th title=\"Union{Missing, Float64}\">Float64?</th><th title=\"String\">String</th></tr></thead><tbody><tr><th>1</th><td>1</td><td>1.0</td><td>a</td></tr><tr><th>2</th><td>2</td><td><em>missing</em></td><td>b</td></tr></tbody></table></div>"
      ],
      "text/latex": [
       "\\begin{tabular}{r|ccc}\n",
       "\t& A & B & C\\\\\n",
       "\t\\hline\n",
       "\t& Int64 & Float64? & String\\\\\n",
       "\t\\hline\n",
       "\t1 & 1 & 1.0 & a \\\\\n",
       "\t2 & 2 & \\emph{missing} & b \\\\\n",
       "\\end{tabular}\n"
      ],
      "text/plain": [
       "\u001b[1m2×3 DataFrame\u001b[0m\n",
       "\u001b[1m Row \u001b[0m│\u001b[1m A     \u001b[0m\u001b[1m B         \u001b[0m\u001b[1m C      \u001b[0m\n",
       "\u001b[1m     \u001b[0m│\u001b[90m Int64 \u001b[0m\u001b[90m Float64?  \u001b[0m\u001b[90m String \u001b[0m\n",
       "─────┼──────────────────────────\n",
       "   1 │     1        1.0  a\n",
       "   2 │     2 \u001b[90m missing   \u001b[0m b"
      ]
     },
     "execution_count": 20,
     "metadata": {},
     "output_type": "execute_result"
    }
   ],
   "source": [
    "x"
   ]
  },
  {
   "cell_type": "code",
   "execution_count": 21,
   "metadata": {
    "execution": {
     "iopub.execute_input": "2022-07-18T00:54:09.496000Z",
     "iopub.status.busy": "2022-07-18T00:54:09.495000Z",
     "iopub.status.idle": "2022-07-18T00:54:10.079000Z",
     "shell.execute_reply": "2022-07-18T00:54:10.079000Z"
    }
   },
   "outputs": [
    {
     "data": {
      "text/plain": [
       "([1, 2], [1, 2], [1, 2])"
      ]
     },
     "execution_count": 21,
     "metadata": {},
     "output_type": "execute_result"
    }
   ],
   "source": [
    "x.A, x[!, 1], x[!, :A] # all get the vector stored in our DataFrame without copying it"
   ]
  },
  {
   "cell_type": "code",
   "execution_count": 22,
   "metadata": {
    "execution": {
     "iopub.execute_input": "2022-07-18T00:54:10.083000Z",
     "iopub.status.busy": "2022-07-18T00:54:10.082000Z",
     "iopub.status.idle": "2022-07-18T00:54:10.469000Z",
     "shell.execute_reply": "2022-07-18T00:54:10.469000Z"
    }
   },
   "outputs": [
    {
     "data": {
      "text/plain": [
       "([1, 2], [1, 2])"
      ]
     },
     "execution_count": 22,
     "metadata": {},
     "output_type": "execute_result"
    }
   ],
   "source": [
    "x.\"A\", x[!, \"A\"] # the same using string indexing"
   ]
  },
  {
   "cell_type": "code",
   "execution_count": 23,
   "metadata": {
    "execution": {
     "iopub.execute_input": "2022-07-18T00:54:10.474000Z",
     "iopub.status.busy": "2022-07-18T00:54:10.474000Z",
     "iopub.status.idle": "2022-07-18T00:54:10.825000Z",
     "shell.execute_reply": "2022-07-18T00:54:10.825000Z"
    }
   },
   "outputs": [
    {
     "data": {
      "text/plain": [
       "2-element Vector{Int64}:\n",
       " 1\n",
       " 2"
      ]
     },
     "execution_count": 23,
     "metadata": {},
     "output_type": "execute_result"
    }
   ],
   "source": [
    "x[:, 1] # note that this creates a copy"
   ]
  },
  {
   "cell_type": "code",
   "execution_count": 24,
   "metadata": {
    "execution": {
     "iopub.execute_input": "2022-07-18T00:54:10.828000Z",
     "iopub.status.busy": "2022-07-18T00:54:10.828000Z",
     "iopub.status.idle": "2022-07-18T00:54:11.120000Z",
     "shell.execute_reply": "2022-07-18T00:54:11.120000Z"
    }
   },
   "outputs": [
    {
     "data": {
      "text/plain": [
       "false"
      ]
     },
     "execution_count": 24,
     "metadata": {},
     "output_type": "execute_result"
    }
   ],
   "source": [
    "x[:, 1] === x[:, 1]"
   ]
  },
  {
   "cell_type": "markdown",
   "metadata": {},
   "source": [
    "To grab one row as a `DataFrame`, we can index as follows."
   ]
  },
  {
   "cell_type": "code",
   "execution_count": 25,
   "metadata": {
    "execution": {
     "iopub.execute_input": "2022-07-18T00:54:11.125000Z",
     "iopub.status.busy": "2022-07-18T00:54:11.125000Z",
     "iopub.status.idle": "2022-07-18T00:54:11.195000Z",
     "shell.execute_reply": "2022-07-18T00:54:11.195000Z"
    }
   },
   "outputs": [
    {
     "data": {
      "text/html": [
       "<div class=\"data-frame\"><p>1 rows × 3 columns</p><table class=\"data-frame\"><thead><tr><th></th><th>A</th><th>B</th><th>C</th></tr><tr><th></th><th title=\"Int64\">Int64</th><th title=\"Union{Missing, Float64}\">Float64?</th><th title=\"String\">String</th></tr></thead><tbody><tr><th>1</th><td>1</td><td>1.0</td><td>a</td></tr></tbody></table></div>"
      ],
      "text/latex": [
       "\\begin{tabular}{r|ccc}\n",
       "\t& A & B & C\\\\\n",
       "\t\\hline\n",
       "\t& Int64 & Float64? & String\\\\\n",
       "\t\\hline\n",
       "\t1 & 1 & 1.0 & a \\\\\n",
       "\\end{tabular}\n"
      ],
      "text/plain": [
       "\u001b[1m1×3 DataFrame\u001b[0m\n",
       "\u001b[1m Row \u001b[0m│\u001b[1m A     \u001b[0m\u001b[1m B        \u001b[0m\u001b[1m C      \u001b[0m\n",
       "\u001b[1m     \u001b[0m│\u001b[90m Int64 \u001b[0m\u001b[90m Float64? \u001b[0m\u001b[90m String \u001b[0m\n",
       "─────┼─────────────────────────\n",
       "   1 │     1       1.0  a"
      ]
     },
     "execution_count": 25,
     "metadata": {},
     "output_type": "execute_result"
    }
   ],
   "source": [
    "x[1:1, :]"
   ]
  },
  {
   "cell_type": "code",
   "execution_count": 26,
   "metadata": {
    "execution": {
     "iopub.execute_input": "2022-07-18T00:54:11.199000Z",
     "iopub.status.busy": "2022-07-18T00:54:11.198000Z",
     "iopub.status.idle": "2022-07-18T00:54:11.341000Z",
     "shell.execute_reply": "2022-07-18T00:54:11.340000Z"
    }
   },
   "outputs": [
    {
     "data": {
      "text/html": [
       "<p>DataFrameRow (3 columns)</p><div class=\"data-frame\"><table class=\"data-frame\"><thead><tr><th></th><th>A</th><th>B</th><th>C</th></tr><tr><th></th><th title=\"Int64\">Int64</th><th title=\"Union{Missing, Float64}\">Float64?</th><th title=\"String\">String</th></tr></thead><tbody><tr><th>1</th><td>1</td><td>1.0</td><td>a</td></tr></tbody></table></div>"
      ],
      "text/latex": [
       "\\begin{tabular}{r|ccc}\n",
       "\t& A & B & C\\\\\n",
       "\t\\hline\n",
       "\t& Int64 & Float64? & String\\\\\n",
       "\t\\hline\n",
       "\t1 & 1 & 1.0 & a \\\\\n",
       "\\end{tabular}\n"
      ],
      "text/plain": [
       "\u001b[1mDataFrameRow\u001b[0m\n",
       "\u001b[1m Row \u001b[0m│\u001b[1m A     \u001b[0m\u001b[1m B        \u001b[0m\u001b[1m C      \u001b[0m\n",
       "\u001b[1m     \u001b[0m│\u001b[90m Int64 \u001b[0m\u001b[90m Float64? \u001b[0m\u001b[90m String \u001b[0m\n",
       "─────┼─────────────────────────\n",
       "   1 │     1       1.0  a"
      ]
     },
     "execution_count": 26,
     "metadata": {},
     "output_type": "execute_result"
    }
   ],
   "source": [
    "x[1, :] # this produces a DataFrameRow which is treated as 1-dimensional object similar to a NamedTuple"
   ]
  },
  {
   "cell_type": "markdown",
   "metadata": {},
   "source": [
    "We can grab a single cell or element with the same syntax to grab an element of an array."
   ]
  },
  {
   "cell_type": "code",
   "execution_count": 27,
   "metadata": {
    "execution": {
     "iopub.execute_input": "2022-07-18T00:54:11.344000Z",
     "iopub.status.busy": "2022-07-18T00:54:11.344000Z",
     "iopub.status.idle": "2022-07-18T00:54:11.345000Z",
     "shell.execute_reply": "2022-07-18T00:54:11.345000Z"
    }
   },
   "outputs": [
    {
     "data": {
      "text/plain": [
       "1"
      ]
     },
     "execution_count": 27,
     "metadata": {},
     "output_type": "execute_result"
    }
   ],
   "source": [
    "x[1, 1]"
   ]
  },
  {
   "cell_type": "markdown",
   "metadata": {},
   "source": [
    "or a new `DataFrame` that is a subset of rows and columns"
   ]
  },
  {
   "cell_type": "code",
   "execution_count": 28,
   "metadata": {
    "execution": {
     "iopub.execute_input": "2022-07-18T00:54:11.347000Z",
     "iopub.status.busy": "2022-07-18T00:54:11.347000Z",
     "iopub.status.idle": "2022-07-18T00:54:11.395000Z",
     "shell.execute_reply": "2022-07-18T00:54:11.395000Z"
    }
   },
   "outputs": [
    {
     "data": {
      "text/html": [
       "<div class=\"data-frame\"><p>2 rows × 2 columns</p><table class=\"data-frame\"><thead><tr><th></th><th>A</th><th>B</th></tr><tr><th></th><th title=\"Int64\">Int64</th><th title=\"Union{Missing, Float64}\">Float64?</th></tr></thead><tbody><tr><th>1</th><td>1</td><td>1.0</td></tr><tr><th>2</th><td>2</td><td><em>missing</em></td></tr></tbody></table></div>"
      ],
      "text/latex": [
       "\\begin{tabular}{r|cc}\n",
       "\t& A & B\\\\\n",
       "\t\\hline\n",
       "\t& Int64 & Float64?\\\\\n",
       "\t\\hline\n",
       "\t1 & 1 & 1.0 \\\\\n",
       "\t2 & 2 & \\emph{missing} \\\\\n",
       "\\end{tabular}\n"
      ],
      "text/plain": [
       "\u001b[1m2×2 DataFrame\u001b[0m\n",
       "\u001b[1m Row \u001b[0m│\u001b[1m A     \u001b[0m\u001b[1m B         \u001b[0m\n",
       "\u001b[1m     \u001b[0m│\u001b[90m Int64 \u001b[0m\u001b[90m Float64?  \u001b[0m\n",
       "─────┼──────────────────\n",
       "   1 │     1        1.0\n",
       "   2 │     2 \u001b[90m missing   \u001b[0m"
      ]
     },
     "execution_count": 28,
     "metadata": {},
     "output_type": "execute_result"
    }
   ],
   "source": [
    "x[1:2, 1:2]"
   ]
  },
  {
   "cell_type": "markdown",
   "metadata": {},
   "source": [
    "You can also use `Regex` to select columns and `Not` from InvertedIndices.jl both to select rows and columns"
   ]
  },
  {
   "cell_type": "code",
   "execution_count": 29,
   "metadata": {
    "execution": {
     "iopub.execute_input": "2022-07-18T00:54:11.399000Z",
     "iopub.status.busy": "2022-07-18T00:54:11.399000Z",
     "iopub.status.idle": "2022-07-18T00:54:11.642000Z",
     "shell.execute_reply": "2022-07-18T00:54:11.642000Z"
    }
   },
   "outputs": [
    {
     "data": {
      "text/html": [
       "<div class=\"data-frame\"><p>1 rows × 1 columns</p><table class=\"data-frame\"><thead><tr><th></th><th>A</th></tr><tr><th></th><th title=\"Int64\">Int64</th></tr></thead><tbody><tr><th>1</th><td>2</td></tr></tbody></table></div>"
      ],
      "text/latex": [
       "\\begin{tabular}{r|c}\n",
       "\t& A\\\\\n",
       "\t\\hline\n",
       "\t& Int64\\\\\n",
       "\t\\hline\n",
       "\t1 & 2 \\\\\n",
       "\\end{tabular}\n"
      ],
      "text/plain": [
       "\u001b[1m1×1 DataFrame\u001b[0m\n",
       "\u001b[1m Row \u001b[0m│\u001b[1m A     \u001b[0m\n",
       "\u001b[1m     \u001b[0m│\u001b[90m Int64 \u001b[0m\n",
       "─────┼───────\n",
       "   1 │     2"
      ]
     },
     "execution_count": 29,
     "metadata": {},
     "output_type": "execute_result"
    }
   ],
   "source": [
    "x[Not(1), r\"A\"]"
   ]
  },
  {
   "cell_type": "code",
   "execution_count": 30,
   "metadata": {
    "execution": {
     "iopub.execute_input": "2022-07-18T00:54:11.646000Z",
     "iopub.status.busy": "2022-07-18T00:54:11.646000Z",
     "iopub.status.idle": "2022-07-18T00:54:11.827000Z",
     "shell.execute_reply": "2022-07-18T00:54:11.827000Z"
    }
   },
   "outputs": [
    {
     "data": {
      "text/html": [
       "<div class=\"data-frame\"><p>2 rows × 2 columns</p><table class=\"data-frame\"><thead><tr><th></th><th>B</th><th>C</th></tr><tr><th></th><th title=\"Union{Missing, Float64}\">Float64?</th><th title=\"String\">String</th></tr></thead><tbody><tr><th>1</th><td>1.0</td><td>a</td></tr><tr><th>2</th><td><em>missing</em></td><td>b</td></tr></tbody></table></div>"
      ],
      "text/latex": [
       "\\begin{tabular}{r|cc}\n",
       "\t& B & C\\\\\n",
       "\t\\hline\n",
       "\t& Float64? & String\\\\\n",
       "\t\\hline\n",
       "\t1 & 1.0 & a \\\\\n",
       "\t2 & \\emph{missing} & b \\\\\n",
       "\\end{tabular}\n"
      ],
      "text/plain": [
       "\u001b[1m2×2 DataFrame\u001b[0m\n",
       "\u001b[1m Row \u001b[0m│\u001b[1m B         \u001b[0m\u001b[1m C      \u001b[0m\n",
       "\u001b[1m     \u001b[0m│\u001b[90m Float64?  \u001b[0m\u001b[90m String \u001b[0m\n",
       "─────┼───────────────────\n",
       "   1 │       1.0  a\n",
       "   2 │\u001b[90m missing   \u001b[0m b"
      ]
     },
     "execution_count": 30,
     "metadata": {},
     "output_type": "execute_result"
    }
   ],
   "source": [
    "x[!, Not(1)] # ! indicates that underlying columns are not copied"
   ]
  },
  {
   "cell_type": "code",
   "execution_count": 31,
   "metadata": {
    "execution": {
     "iopub.execute_input": "2022-07-18T00:54:11.830000Z",
     "iopub.status.busy": "2022-07-18T00:54:11.830000Z",
     "iopub.status.idle": "2022-07-18T00:54:11.853000Z",
     "shell.execute_reply": "2022-07-18T00:54:11.853000Z"
    }
   },
   "outputs": [
    {
     "data": {
      "text/html": [
       "<div class=\"data-frame\"><p>2 rows × 2 columns</p><table class=\"data-frame\"><thead><tr><th></th><th>B</th><th>C</th></tr><tr><th></th><th title=\"Union{Missing, Float64}\">Float64?</th><th title=\"String\">String</th></tr></thead><tbody><tr><th>1</th><td>1.0</td><td>a</td></tr><tr><th>2</th><td><em>missing</em></td><td>b</td></tr></tbody></table></div>"
      ],
      "text/latex": [
       "\\begin{tabular}{r|cc}\n",
       "\t& B & C\\\\\n",
       "\t\\hline\n",
       "\t& Float64? & String\\\\\n",
       "\t\\hline\n",
       "\t1 & 1.0 & a \\\\\n",
       "\t2 & \\emph{missing} & b \\\\\n",
       "\\end{tabular}\n"
      ],
      "text/plain": [
       "\u001b[1m2×2 DataFrame\u001b[0m\n",
       "\u001b[1m Row \u001b[0m│\u001b[1m B         \u001b[0m\u001b[1m C      \u001b[0m\n",
       "\u001b[1m     \u001b[0m│\u001b[90m Float64?  \u001b[0m\u001b[90m String \u001b[0m\n",
       "─────┼───────────────────\n",
       "   1 │       1.0  a\n",
       "   2 │\u001b[90m missing   \u001b[0m b"
      ]
     },
     "execution_count": 31,
     "metadata": {},
     "output_type": "execute_result"
    }
   ],
   "source": [
    "x[:, Not(1)] # : means that the columns will get copied"
   ]
  },
  {
   "cell_type": "markdown",
   "metadata": {},
   "source": [
    "Assignment of a scalar to a data frame can be done in ranges using broadcasting:"
   ]
  },
  {
   "cell_type": "code",
   "execution_count": 32,
   "metadata": {
    "execution": {
     "iopub.execute_input": "2022-07-18T00:54:11.855000Z",
     "iopub.status.busy": "2022-07-18T00:54:11.855000Z",
     "iopub.status.idle": "2022-07-18T00:54:11.998000Z",
     "shell.execute_reply": "2022-07-18T00:54:11.998000Z"
    }
   },
   "outputs": [
    {
     "data": {
      "text/html": [
       "<div class=\"data-frame\"><p>2 rows × 3 columns</p><table class=\"data-frame\"><thead><tr><th></th><th>A</th><th>B</th><th>C</th></tr><tr><th></th><th title=\"Int64\">Int64</th><th title=\"Union{Missing, Float64}\">Float64?</th><th title=\"String\">String</th></tr></thead><tbody><tr><th>1</th><td>1</td><td>1.0</td><td>a</td></tr><tr><th>2</th><td>1</td><td>1.0</td><td>b</td></tr></tbody></table></div>"
      ],
      "text/latex": [
       "\\begin{tabular}{r|ccc}\n",
       "\t& A & B & C\\\\\n",
       "\t\\hline\n",
       "\t& Int64 & Float64? & String\\\\\n",
       "\t\\hline\n",
       "\t1 & 1 & 1.0 & a \\\\\n",
       "\t2 & 1 & 1.0 & b \\\\\n",
       "\\end{tabular}\n"
      ],
      "text/plain": [
       "\u001b[1m2×3 DataFrame\u001b[0m\n",
       "\u001b[1m Row \u001b[0m│\u001b[1m A     \u001b[0m\u001b[1m B        \u001b[0m\u001b[1m C      \u001b[0m\n",
       "\u001b[1m     \u001b[0m│\u001b[90m Int64 \u001b[0m\u001b[90m Float64? \u001b[0m\u001b[90m String \u001b[0m\n",
       "─────┼─────────────────────────\n",
       "   1 │     1       1.0  a\n",
       "   2 │     1       1.0  b"
      ]
     },
     "execution_count": 32,
     "metadata": {},
     "output_type": "execute_result"
    }
   ],
   "source": [
    "x[1:2, 1:2] .= 1\n",
    "x"
   ]
  },
  {
   "cell_type": "markdown",
   "metadata": {},
   "source": [
    "Assignment of a vector of length equal to the number of assigned rows using broadcasting"
   ]
  },
  {
   "cell_type": "code",
   "execution_count": 33,
   "metadata": {
    "execution": {
     "iopub.execute_input": "2022-07-18T00:54:12.002000Z",
     "iopub.status.busy": "2022-07-18T00:54:12.002000Z",
     "iopub.status.idle": "2022-07-18T00:54:12.245000Z",
     "shell.execute_reply": "2022-07-18T00:54:12.245000Z"
    }
   },
   "outputs": [
    {
     "data": {
      "text/html": [
       "<div class=\"data-frame\"><p>2 rows × 3 columns</p><table class=\"data-frame\"><thead><tr><th></th><th>A</th><th>B</th><th>C</th></tr><tr><th></th><th title=\"Int64\">Int64</th><th title=\"Union{Missing, Float64}\">Float64?</th><th title=\"String\">String</th></tr></thead><tbody><tr><th>1</th><td>1</td><td>1.0</td><td>a</td></tr><tr><th>2</th><td>2</td><td>2.0</td><td>b</td></tr></tbody></table></div>"
      ],
      "text/latex": [
       "\\begin{tabular}{r|ccc}\n",
       "\t& A & B & C\\\\\n",
       "\t\\hline\n",
       "\t& Int64 & Float64? & String\\\\\n",
       "\t\\hline\n",
       "\t1 & 1 & 1.0 & a \\\\\n",
       "\t2 & 2 & 2.0 & b \\\\\n",
       "\\end{tabular}\n"
      ],
      "text/plain": [
       "\u001b[1m2×3 DataFrame\u001b[0m\n",
       "\u001b[1m Row \u001b[0m│\u001b[1m A     \u001b[0m\u001b[1m B        \u001b[0m\u001b[1m C      \u001b[0m\n",
       "\u001b[1m     \u001b[0m│\u001b[90m Int64 \u001b[0m\u001b[90m Float64? \u001b[0m\u001b[90m String \u001b[0m\n",
       "─────┼─────────────────────────\n",
       "   1 │     1       1.0  a\n",
       "   2 │     2       2.0  b"
      ]
     },
     "execution_count": 33,
     "metadata": {},
     "output_type": "execute_result"
    }
   ],
   "source": [
    "x[1:2, 1:2] .= [1,2]\n",
    "x"
   ]
  },
  {
   "cell_type": "markdown",
   "metadata": {},
   "source": [
    "Assignment or of another data frame of matching size and column names, again using broadcasting:"
   ]
  },
  {
   "cell_type": "code",
   "execution_count": 34,
   "metadata": {
    "execution": {
     "iopub.execute_input": "2022-07-18T00:54:12.250000Z",
     "iopub.status.busy": "2022-07-18T00:54:12.250000Z",
     "iopub.status.idle": "2022-07-18T00:54:12.577000Z",
     "shell.execute_reply": "2022-07-18T00:54:12.576000Z"
    }
   },
   "outputs": [
    {
     "data": {
      "text/html": [
       "<div class=\"data-frame\"><p>2 rows × 3 columns</p><table class=\"data-frame\"><thead><tr><th></th><th>A</th><th>B</th><th>C</th></tr><tr><th></th><th title=\"Int64\">Int64</th><th title=\"Union{Missing, Float64}\">Float64?</th><th title=\"String\">String</th></tr></thead><tbody><tr><th>1</th><td>5</td><td>6.0</td><td>a</td></tr><tr><th>2</th><td>7</td><td>8.0</td><td>b</td></tr></tbody></table></div>"
      ],
      "text/latex": [
       "\\begin{tabular}{r|ccc}\n",
       "\t& A & B & C\\\\\n",
       "\t\\hline\n",
       "\t& Int64 & Float64? & String\\\\\n",
       "\t\\hline\n",
       "\t1 & 5 & 6.0 & a \\\\\n",
       "\t2 & 7 & 8.0 & b \\\\\n",
       "\\end{tabular}\n"
      ],
      "text/plain": [
       "\u001b[1m2×3 DataFrame\u001b[0m\n",
       "\u001b[1m Row \u001b[0m│\u001b[1m A     \u001b[0m\u001b[1m B        \u001b[0m\u001b[1m C      \u001b[0m\n",
       "\u001b[1m     \u001b[0m│\u001b[90m Int64 \u001b[0m\u001b[90m Float64? \u001b[0m\u001b[90m String \u001b[0m\n",
       "─────┼─────────────────────────\n",
       "   1 │     5       6.0  a\n",
       "   2 │     7       8.0  b"
      ]
     },
     "execution_count": 34,
     "metadata": {},
     "output_type": "execute_result"
    }
   ],
   "source": [
    "x[1:2, 1:2] .= DataFrame([5 6; 7 8], [:A, :B])\n",
    "x"
   ]
  },
  {
   "cell_type": "markdown",
   "metadata": {},
   "source": [
    "**Caution**\n",
    "\n",
    "With `df[!, :col]` and `df.col` syntax you get a direct (non copying) access to a column of a data frame.\n",
    "This is potentially unsafe as you can easily corrupt data in the `df` data frame if you resize, sort, etc. the column obtained in this way.\n",
    "Therefore such access should be used with caution.\n",
    "\n",
    "Similarly `df[!, cols]` when `cols` is a collection of columns produces a new data frame that holds the same (not copied) columns as the source `df` data frame. Similarly, modifying the data frame obtained via `df[!, cols]` might cause problems with the consistency of `df`.\n",
    "\n",
    "The `df[:, :col]` and `df[:, cols]` syntaxes always copy columns so they are safe to use (and should generally be preferred except for performance or memory critical use cases)."
   ]
  },
  {
   "cell_type": "markdown",
   "metadata": {},
   "source": [
    "Here are examples of how `Cols` and `Between` can be used to select columns of a data frame."
   ]
  },
  {
   "cell_type": "code",
   "execution_count": 35,
   "metadata": {
    "execution": {
     "iopub.execute_input": "2022-07-18T00:54:12.581000Z",
     "iopub.status.busy": "2022-07-18T00:54:12.580000Z",
     "iopub.status.idle": "2022-07-18T00:54:12.582000Z",
     "shell.execute_reply": "2022-07-18T00:54:12.582000Z"
    }
   },
   "outputs": [
    {
     "data": {
      "text/html": [
       "<div class=\"data-frame\"><p>4 rows × 5 columns</p><table class=\"data-frame\"><thead><tr><th></th><th>x1</th><th>x2</th><th>x3</th><th>x4</th><th>x5</th></tr><tr><th></th><th title=\"Float64\">Float64</th><th title=\"Float64\">Float64</th><th title=\"Float64\">Float64</th><th title=\"Float64\">Float64</th><th title=\"Float64\">Float64</th></tr></thead><tbody><tr><th>1</th><td>0.059842</td><td>0.59467</td><td>0.115021</td><td>0.75207</td><td>0.424398</td></tr><tr><th>2</th><td>0.264698</td><td>0.0942013</td><td>0.269276</td><td>0.242939</td><td>0.949513</td></tr><tr><th>3</th><td>0.423581</td><td>0.63315</td><td>0.34089</td><td>0.286639</td><td>0.181045</td></tr><tr><th>4</th><td>0.884411</td><td>0.350776</td><td>0.456152</td><td>0.657085</td><td>0.779614</td></tr></tbody></table></div>"
      ],
      "text/latex": [
       "\\begin{tabular}{r|ccccc}\n",
       "\t& x1 & x2 & x3 & x4 & x5\\\\\n",
       "\t\\hline\n",
       "\t& Float64 & Float64 & Float64 & Float64 & Float64\\\\\n",
       "\t\\hline\n",
       "\t1 & 0.059842 & 0.59467 & 0.115021 & 0.75207 & 0.424398 \\\\\n",
       "\t2 & 0.264698 & 0.0942013 & 0.269276 & 0.242939 & 0.949513 \\\\\n",
       "\t3 & 0.423581 & 0.63315 & 0.34089 & 0.286639 & 0.181045 \\\\\n",
       "\t4 & 0.884411 & 0.350776 & 0.456152 & 0.657085 & 0.779614 \\\\\n",
       "\\end{tabular}\n"
      ],
      "text/plain": [
       "\u001b[1m4×5 DataFrame\u001b[0m\n",
       "\u001b[1m Row \u001b[0m│\u001b[1m x1       \u001b[0m\u001b[1m x2        \u001b[0m\u001b[1m x3       \u001b[0m\u001b[1m x4       \u001b[0m\u001b[1m x5       \u001b[0m\n",
       "\u001b[1m     \u001b[0m│\u001b[90m Float64  \u001b[0m\u001b[90m Float64   \u001b[0m\u001b[90m Float64  \u001b[0m\u001b[90m Float64  \u001b[0m\u001b[90m Float64  \u001b[0m\n",
       "─────┼───────────────────────────────────────────────────\n",
       "   1 │ 0.059842  0.59467    0.115021  0.75207   0.424398\n",
       "  ⋮  │    ⋮          ⋮         ⋮         ⋮         ⋮\n",
       "\u001b[36m                                           3 rows omitted\u001b[0m"
      ]
     },
     "execution_count": 35,
     "metadata": {},
     "output_type": "execute_result"
    }
   ],
   "source": [
    "x = DataFrame(rand(4, 5), :auto)"
   ]
  },
  {
   "cell_type": "code",
   "execution_count": 36,
   "metadata": {
    "execution": {
     "iopub.execute_input": "2022-07-18T00:54:12.585000Z",
     "iopub.status.busy": "2022-07-18T00:54:12.584000Z",
     "iopub.status.idle": "2022-07-18T00:54:12.626000Z",
     "shell.execute_reply": "2022-07-18T00:54:12.626000Z"
    }
   },
   "outputs": [
    {
     "data": {
      "text/html": [
       "<div class=\"data-frame\"><p>4 rows × 3 columns</p><table class=\"data-frame\"><thead><tr><th></th><th>x2</th><th>x3</th><th>x4</th></tr><tr><th></th><th title=\"Float64\">Float64</th><th title=\"Float64\">Float64</th><th title=\"Float64\">Float64</th></tr></thead><tbody><tr><th>1</th><td>0.59467</td><td>0.115021</td><td>0.75207</td></tr><tr><th>2</th><td>0.0942013</td><td>0.269276</td><td>0.242939</td></tr><tr><th>3</th><td>0.63315</td><td>0.34089</td><td>0.286639</td></tr><tr><th>4</th><td>0.350776</td><td>0.456152</td><td>0.657085</td></tr></tbody></table></div>"
      ],
      "text/latex": [
       "\\begin{tabular}{r|ccc}\n",
       "\t& x2 & x3 & x4\\\\\n",
       "\t\\hline\n",
       "\t& Float64 & Float64 & Float64\\\\\n",
       "\t\\hline\n",
       "\t1 & 0.59467 & 0.115021 & 0.75207 \\\\\n",
       "\t2 & 0.0942013 & 0.269276 & 0.242939 \\\\\n",
       "\t3 & 0.63315 & 0.34089 & 0.286639 \\\\\n",
       "\t4 & 0.350776 & 0.456152 & 0.657085 \\\\\n",
       "\\end{tabular}\n"
      ],
      "text/plain": [
       "\u001b[1m4×3 DataFrame\u001b[0m\n",
       "\u001b[1m Row \u001b[0m│\u001b[1m x2        \u001b[0m\u001b[1m x3       \u001b[0m\u001b[1m x4       \u001b[0m\n",
       "\u001b[1m     \u001b[0m│\u001b[90m Float64   \u001b[0m\u001b[90m Float64  \u001b[0m\u001b[90m Float64  \u001b[0m\n",
       "─────┼───────────────────────────────\n",
       "   1 │ 0.59467    0.115021  0.75207\n",
       "  ⋮  │     ⋮         ⋮         ⋮\n",
       "\u001b[36m                       3 rows omitted\u001b[0m"
      ]
     },
     "execution_count": 36,
     "metadata": {},
     "output_type": "execute_result"
    }
   ],
   "source": [
    "x[:, Between(:x2, :x4)]"
   ]
  },
  {
   "cell_type": "code",
   "execution_count": 37,
   "metadata": {
    "execution": {
     "iopub.execute_input": "2022-07-18T00:54:12.632000Z",
     "iopub.status.busy": "2022-07-18T00:54:12.632000Z",
     "iopub.status.idle": "2022-07-18T00:54:12.813000Z",
     "shell.execute_reply": "2022-07-18T00:54:12.813000Z"
    }
   },
   "outputs": [
    {
     "data": {
      "text/html": [
       "<div class=\"data-frame\"><p>4 rows × 4 columns</p><table class=\"data-frame\"><thead><tr><th></th><th>x1</th><th>x2</th><th>x3</th><th>x4</th></tr><tr><th></th><th title=\"Float64\">Float64</th><th title=\"Float64\">Float64</th><th title=\"Float64\">Float64</th><th title=\"Float64\">Float64</th></tr></thead><tbody><tr><th>1</th><td>0.059842</td><td>0.59467</td><td>0.115021</td><td>0.75207</td></tr><tr><th>2</th><td>0.264698</td><td>0.0942013</td><td>0.269276</td><td>0.242939</td></tr><tr><th>3</th><td>0.423581</td><td>0.63315</td><td>0.34089</td><td>0.286639</td></tr><tr><th>4</th><td>0.884411</td><td>0.350776</td><td>0.456152</td><td>0.657085</td></tr></tbody></table></div>"
      ],
      "text/latex": [
       "\\begin{tabular}{r|cccc}\n",
       "\t& x1 & x2 & x3 & x4\\\\\n",
       "\t\\hline\n",
       "\t& Float64 & Float64 & Float64 & Float64\\\\\n",
       "\t\\hline\n",
       "\t1 & 0.059842 & 0.59467 & 0.115021 & 0.75207 \\\\\n",
       "\t2 & 0.264698 & 0.0942013 & 0.269276 & 0.242939 \\\\\n",
       "\t3 & 0.423581 & 0.63315 & 0.34089 & 0.286639 \\\\\n",
       "\t4 & 0.884411 & 0.350776 & 0.456152 & 0.657085 \\\\\n",
       "\\end{tabular}\n"
      ],
      "text/plain": [
       "\u001b[1m4×4 DataFrame\u001b[0m\n",
       "\u001b[1m Row \u001b[0m│\u001b[1m x1       \u001b[0m\u001b[1m x2        \u001b[0m\u001b[1m x3       \u001b[0m\u001b[1m x4       \u001b[0m\n",
       "\u001b[1m     \u001b[0m│\u001b[90m Float64  \u001b[0m\u001b[90m Float64   \u001b[0m\u001b[90m Float64  \u001b[0m\u001b[90m Float64  \u001b[0m\n",
       "─────┼─────────────────────────────────────────\n",
       "   1 │ 0.059842  0.59467    0.115021  0.75207\n",
       "  ⋮  │    ⋮          ⋮         ⋮         ⋮\n",
       "\u001b[36m                                 3 rows omitted\u001b[0m"
      ]
     },
     "execution_count": 37,
     "metadata": {},
     "output_type": "execute_result"
    }
   ],
   "source": [
    "x[:, Cols(\"x1\", Between(\"x2\", \"x4\"))]"
   ]
  },
  {
   "cell_type": "markdown",
   "metadata": {},
   "source": [
    "## Views"
   ]
  },
  {
   "cell_type": "markdown",
   "metadata": {},
   "source": [
    "You can simply create a view of a `DataFrame` (it is more efficient than creating a materialized selection). Here are the possible return value options."
   ]
  },
  {
   "cell_type": "code",
   "execution_count": 38,
   "metadata": {
    "execution": {
     "iopub.execute_input": "2022-07-18T00:54:12.819000Z",
     "iopub.status.busy": "2022-07-18T00:54:12.818000Z",
     "iopub.status.idle": "2022-07-18T00:54:13.665000Z",
     "shell.execute_reply": "2022-07-18T00:54:13.665000Z"
    }
   },
   "outputs": [
    {
     "data": {
      "text/plain": [
       "2-element view(::Vector{Float64}, 1:2) with eltype Float64:\n",
       " 0.05984198400800622\n",
       " 0.2646975736612095"
      ]
     },
     "execution_count": 38,
     "metadata": {},
     "output_type": "execute_result"
    }
   ],
   "source": [
    "@view x[1:2, 1]"
   ]
  },
  {
   "cell_type": "code",
   "execution_count": 39,
   "metadata": {
    "execution": {
     "iopub.execute_input": "2022-07-18T00:54:13.668000Z",
     "iopub.status.busy": "2022-07-18T00:54:13.668000Z",
     "iopub.status.idle": "2022-07-18T00:54:14.255000Z",
     "shell.execute_reply": "2022-07-18T00:54:14.255000Z"
    }
   },
   "outputs": [
    {
     "data": {
      "text/plain": [
       "0-dimensional view(::Vector{Float64}, 1) with eltype Float64:\n",
       "0.05984198400800622"
      ]
     },
     "execution_count": 39,
     "metadata": {},
     "output_type": "execute_result"
    }
   ],
   "source": [
    "@view x[1,1]"
   ]
  },
  {
   "cell_type": "code",
   "execution_count": 40,
   "metadata": {
    "execution": {
     "iopub.execute_input": "2022-07-18T00:54:14.258000Z",
     "iopub.status.busy": "2022-07-18T00:54:14.257000Z",
     "iopub.status.idle": "2022-07-18T00:54:16.047000Z",
     "shell.execute_reply": "2022-07-18T00:54:16.047000Z"
    }
   },
   "outputs": [
    {
     "data": {
      "text/html": [
       "<p>DataFrameRow (2 columns)</p><div class=\"data-frame\"><table class=\"data-frame\"><thead><tr><th></th><th>x1</th><th>x2</th></tr><tr><th></th><th title=\"Float64\">Float64</th><th title=\"Float64\">Float64</th></tr></thead><tbody><tr><th>1</th><td>0.059842</td><td>0.59467</td></tr></tbody></table></div>"
      ],
      "text/latex": [
       "\\begin{tabular}{r|cc}\n",
       "\t& x1 & x2\\\\\n",
       "\t\\hline\n",
       "\t& Float64 & Float64\\\\\n",
       "\t\\hline\n",
       "\t1 & 0.059842 & 0.59467 \\\\\n",
       "\\end{tabular}\n"
      ],
      "text/plain": [
       "\u001b[1mDataFrameRow\u001b[0m\n",
       "\u001b[1m Row \u001b[0m│\u001b[1m x1       \u001b[0m\u001b[1m x2      \u001b[0m\n",
       "\u001b[1m     \u001b[0m│\u001b[90m Float64  \u001b[0m\u001b[90m Float64 \u001b[0m\n",
       "─────┼───────────────────\n",
       "   1 │ 0.059842  0.59467"
      ]
     },
     "execution_count": 40,
     "metadata": {},
     "output_type": "execute_result"
    }
   ],
   "source": [
    "@view x[1, 1:2] # a DataFrameRow, the same as for x[1, 1:2] without a view"
   ]
  },
  {
   "cell_type": "code",
   "execution_count": 41,
   "metadata": {
    "execution": {
     "iopub.execute_input": "2022-07-18T00:54:16.050000Z",
     "iopub.status.busy": "2022-07-18T00:54:16.050000Z",
     "iopub.status.idle": "2022-07-18T00:54:18.195000Z",
     "shell.execute_reply": "2022-07-18T00:54:18.195000Z"
    }
   },
   "outputs": [
    {
     "data": {
      "text/html": [
       "<div class=\"data-frame\"><p>2 rows × 2 columns</p><table class=\"data-frame\"><thead><tr><th></th><th>x1</th><th>x2</th></tr><tr><th></th><th title=\"Float64\">Float64</th><th title=\"Float64\">Float64</th></tr></thead><tbody><tr><th>1</th><td>0.059842</td><td>0.59467</td></tr><tr><th>2</th><td>0.264698</td><td>0.0942013</td></tr></tbody></table></div>"
      ],
      "text/latex": [
       "\\begin{tabular}{r|cc}\n",
       "\t& x1 & x2\\\\\n",
       "\t\\hline\n",
       "\t& Float64 & Float64\\\\\n",
       "\t\\hline\n",
       "\t1 & 0.059842 & 0.59467 \\\\\n",
       "\t2 & 0.264698 & 0.0942013 \\\\\n",
       "\\end{tabular}\n"
      ],
      "text/plain": [
       "\u001b[1m2×2 SubDataFrame\u001b[0m\n",
       "\u001b[1m Row \u001b[0m│\u001b[1m x1       \u001b[0m\u001b[1m x2        \u001b[0m\n",
       "\u001b[1m     \u001b[0m│\u001b[90m Float64  \u001b[0m\u001b[90m Float64   \u001b[0m\n",
       "─────┼─────────────────────\n",
       "   1 │ 0.059842  0.59467\n",
       "   2 │ 0.264698  0.0942013"
      ]
     },
     "execution_count": 41,
     "metadata": {},
     "output_type": "execute_result"
    }
   ],
   "source": [
    "@view x[1:2, 1:2] # a SubDataFrame"
   ]
  },
  {
   "cell_type": "markdown",
   "metadata": {},
   "source": [
    "## Adding new columns to a data frame"
   ]
  },
  {
   "cell_type": "code",
   "execution_count": 42,
   "metadata": {
    "execution": {
     "iopub.execute_input": "2022-07-18T00:54:18.199000Z",
     "iopub.status.busy": "2022-07-18T00:54:18.199000Z",
     "iopub.status.idle": "2022-07-18T00:54:18.207000Z",
     "shell.execute_reply": "2022-07-18T00:54:18.207000Z"
    }
   },
   "outputs": [
    {
     "data": {
      "text/html": [
       "<div class=\"data-frame\"><p>0 rows × 0 columns</p><table class=\"data-frame\"><thead><tr><th></th></tr><tr><th></th></tr></thead><tbody></tbody></table></div>"
      ],
      "text/latex": [
       "\\begin{tabular}{r|}\n",
       "\t& \\\\\n",
       "\t\\hline\n",
       "\t& \\\\\n",
       "\t\\hline\n",
       "\\end{tabular}\n"
      ],
      "text/plain": [
       "\u001b[1m0×0 DataFrame\u001b[0m"
      ]
     },
     "execution_count": 42,
     "metadata": {},
     "output_type": "execute_result"
    }
   ],
   "source": [
    "df = DataFrame()"
   ]
  },
  {
   "cell_type": "markdown",
   "metadata": {},
   "source": [
    "using `setproperty!`"
   ]
  },
  {
   "cell_type": "code",
   "execution_count": 43,
   "metadata": {
    "execution": {
     "iopub.execute_input": "2022-07-18T00:54:18.209000Z",
     "iopub.status.busy": "2022-07-18T00:54:18.209000Z",
     "iopub.status.idle": "2022-07-18T00:54:18.215000Z",
     "shell.execute_reply": "2022-07-18T00:54:18.215000Z"
    }
   },
   "outputs": [
    {
     "data": {
      "text/html": [
       "<div class=\"data-frame\"><p>3 rows × 1 columns</p><table class=\"data-frame\"><thead><tr><th></th><th>a</th></tr><tr><th></th><th title=\"Int64\">Int64</th></tr></thead><tbody><tr><th>1</th><td>1</td></tr><tr><th>2</th><td>2</td></tr><tr><th>3</th><td>3</td></tr></tbody></table></div>"
      ],
      "text/latex": [
       "\\begin{tabular}{r|c}\n",
       "\t& a\\\\\n",
       "\t\\hline\n",
       "\t& Int64\\\\\n",
       "\t\\hline\n",
       "\t1 & 1 \\\\\n",
       "\t2 & 2 \\\\\n",
       "\t3 & 3 \\\\\n",
       "\\end{tabular}\n"
      ],
      "text/plain": [
       "\u001b[1m3×1 DataFrame\u001b[0m\n",
       "\u001b[1m Row \u001b[0m│\u001b[1m a     \u001b[0m\n",
       "\u001b[1m     \u001b[0m│\u001b[90m Int64 \u001b[0m\n",
       "─────┼───────\n",
       "   1 │     1\n",
       "   2 │     2\n",
       "   3 │     3"
      ]
     },
     "execution_count": 43,
     "metadata": {},
     "output_type": "execute_result"
    }
   ],
   "source": [
    "x = [1, 2, 3]\n",
    "df.a = x\n",
    "df"
   ]
  },
  {
   "cell_type": "code",
   "execution_count": 44,
   "metadata": {
    "execution": {
     "iopub.execute_input": "2022-07-18T00:54:18.218000Z",
     "iopub.status.busy": "2022-07-18T00:54:18.217000Z",
     "iopub.status.idle": "2022-07-18T00:54:18.218000Z",
     "shell.execute_reply": "2022-07-18T00:54:18.218000Z"
    }
   },
   "outputs": [
    {
     "data": {
      "text/plain": [
       "true"
      ]
     },
     "execution_count": 44,
     "metadata": {},
     "output_type": "execute_result"
    }
   ],
   "source": [
    "df.a === x # no copy is performed"
   ]
  },
  {
   "cell_type": "markdown",
   "metadata": {},
   "source": [
    "using `setindex!`"
   ]
  },
  {
   "cell_type": "code",
   "execution_count": 45,
   "metadata": {
    "execution": {
     "iopub.execute_input": "2022-07-18T00:54:18.220000Z",
     "iopub.status.busy": "2022-07-18T00:54:18.220000Z",
     "iopub.status.idle": "2022-07-18T00:54:18.305000Z",
     "shell.execute_reply": "2022-07-18T00:54:18.305000Z"
    }
   },
   "outputs": [
    {
     "data": {
      "text/html": [
       "<div class=\"data-frame\"><p>3 rows × 3 columns</p><table class=\"data-frame\"><thead><tr><th></th><th>a</th><th>b</th><th>c</th></tr><tr><th></th><th title=\"Int64\">Int64</th><th title=\"Int64\">Int64</th><th title=\"Int64\">Int64</th></tr></thead><tbody><tr><th>1</th><td>1</td><td>1</td><td>1</td></tr><tr><th>2</th><td>2</td><td>2</td><td>2</td></tr><tr><th>3</th><td>3</td><td>3</td><td>3</td></tr></tbody></table></div>"
      ],
      "text/latex": [
       "\\begin{tabular}{r|ccc}\n",
       "\t& a & b & c\\\\\n",
       "\t\\hline\n",
       "\t& Int64 & Int64 & Int64\\\\\n",
       "\t\\hline\n",
       "\t1 & 1 & 1 & 1 \\\\\n",
       "\t2 & 2 & 2 & 2 \\\\\n",
       "\t3 & 3 & 3 & 3 \\\\\n",
       "\\end{tabular}\n"
      ],
      "text/plain": [
       "\u001b[1m3×3 DataFrame\u001b[0m\n",
       "\u001b[1m Row \u001b[0m│\u001b[1m a     \u001b[0m\u001b[1m b     \u001b[0m\u001b[1m c     \u001b[0m\n",
       "\u001b[1m     \u001b[0m│\u001b[90m Int64 \u001b[0m\u001b[90m Int64 \u001b[0m\u001b[90m Int64 \u001b[0m\n",
       "─────┼─────────────────────\n",
       "   1 │     1      1      1\n",
       "   2 │     2      2      2\n",
       "   3 │     3      3      3"
      ]
     },
     "execution_count": 45,
     "metadata": {},
     "output_type": "execute_result"
    }
   ],
   "source": [
    "df[!, :b] = x\n",
    "df[:, :c] = x\n",
    "df"
   ]
  },
  {
   "cell_type": "code",
   "execution_count": 46,
   "metadata": {
    "execution": {
     "iopub.execute_input": "2022-07-18T00:54:18.308000Z",
     "iopub.status.busy": "2022-07-18T00:54:18.308000Z",
     "iopub.status.idle": "2022-07-18T00:54:18.309000Z",
     "shell.execute_reply": "2022-07-18T00:54:18.309000Z"
    }
   },
   "outputs": [
    {
     "data": {
      "text/plain": [
       "true"
      ]
     },
     "execution_count": 46,
     "metadata": {},
     "output_type": "execute_result"
    }
   ],
   "source": [
    "df.b === x # no copy"
   ]
  },
  {
   "cell_type": "code",
   "execution_count": 47,
   "metadata": {
    "execution": {
     "iopub.execute_input": "2022-07-18T00:54:18.311000Z",
     "iopub.status.busy": "2022-07-18T00:54:18.311000Z",
     "iopub.status.idle": "2022-07-18T00:54:18.312000Z",
     "shell.execute_reply": "2022-07-18T00:54:18.312000Z"
    }
   },
   "outputs": [
    {
     "data": {
      "text/plain": [
       "false"
      ]
     },
     "execution_count": 47,
     "metadata": {},
     "output_type": "execute_result"
    }
   ],
   "source": [
    "df.c === x # copy"
   ]
  },
  {
   "cell_type": "code",
   "execution_count": 48,
   "metadata": {
    "execution": {
     "iopub.execute_input": "2022-07-18T00:54:18.313000Z",
     "iopub.status.busy": "2022-07-18T00:54:18.313000Z",
     "iopub.status.idle": "2022-07-18T00:54:18.495000Z",
     "shell.execute_reply": "2022-07-18T00:54:18.495000Z"
    }
   },
   "outputs": [
    {
     "data": {
      "text/html": [
       "<div class=\"data-frame\"><p>3 rows × 5 columns</p><table class=\"data-frame\"><thead><tr><th></th><th>a</th><th>b</th><th>c</th><th>d</th><th>e</th></tr><tr><th></th><th title=\"Int64\">Int64</th><th title=\"Int64\">Int64</th><th title=\"Int64\">Int64</th><th title=\"Int64\">Int64</th><th title=\"Int64\">Int64</th></tr></thead><tbody><tr><th>1</th><td>1</td><td>1</td><td>1</td><td>1</td><td>1</td></tr><tr><th>2</th><td>2</td><td>2</td><td>2</td><td>2</td><td>2</td></tr><tr><th>3</th><td>3</td><td>3</td><td>3</td><td>3</td><td>3</td></tr></tbody></table></div>"
      ],
      "text/latex": [
       "\\begin{tabular}{r|ccccc}\n",
       "\t& a & b & c & d & e\\\\\n",
       "\t\\hline\n",
       "\t& Int64 & Int64 & Int64 & Int64 & Int64\\\\\n",
       "\t\\hline\n",
       "\t1 & 1 & 1 & 1 & 1 & 1 \\\\\n",
       "\t2 & 2 & 2 & 2 & 2 & 2 \\\\\n",
       "\t3 & 3 & 3 & 3 & 3 & 3 \\\\\n",
       "\\end{tabular}\n"
      ],
      "text/plain": [
       "\u001b[1m3×5 DataFrame\u001b[0m\n",
       "\u001b[1m Row \u001b[0m│\u001b[1m a     \u001b[0m\u001b[1m b     \u001b[0m\u001b[1m c     \u001b[0m\u001b[1m d     \u001b[0m\u001b[1m e     \u001b[0m\n",
       "\u001b[1m     \u001b[0m│\u001b[90m Int64 \u001b[0m\u001b[90m Int64 \u001b[0m\u001b[90m Int64 \u001b[0m\u001b[90m Int64 \u001b[0m\u001b[90m Int64 \u001b[0m\n",
       "─────┼───────────────────────────────────\n",
       "   1 │     1      1      1      1      1\n",
       "   2 │     2      2      2      2      2\n",
       "   3 │     3      3      3      3      3"
      ]
     },
     "execution_count": 48,
     "metadata": {},
     "output_type": "execute_result"
    }
   ],
   "source": [
    "df[!, :d] .= x\n",
    "df[:, :e] .= x\n",
    "df"
   ]
  },
  {
   "cell_type": "code",
   "execution_count": 49,
   "metadata": {
    "execution": {
     "iopub.execute_input": "2022-07-18T00:54:18.499000Z",
     "iopub.status.busy": "2022-07-18T00:54:18.499000Z",
     "iopub.status.idle": "2022-07-18T00:54:18.824000Z",
     "shell.execute_reply": "2022-07-18T00:54:18.824000Z"
    }
   },
   "outputs": [
    {
     "data": {
      "text/plain": [
       "(false, false)"
      ]
     },
     "execution_count": 49,
     "metadata": {},
     "output_type": "execute_result"
    }
   ],
   "source": [
    "df.d === x, df.e === x # both copy, so in this case `!` and `:` has the same effect"
   ]
  },
  {
   "cell_type": "markdown",
   "metadata": {},
   "source": [
    "note that in our data frame columns `:a` and `:b` store the vector `x` (not a copy)"
   ]
  },
  {
   "cell_type": "code",
   "execution_count": 50,
   "metadata": {
    "execution": {
     "iopub.execute_input": "2022-07-18T00:54:18.827000Z",
     "iopub.status.busy": "2022-07-18T00:54:18.827000Z",
     "iopub.status.idle": "2022-07-18T00:54:18.828000Z",
     "shell.execute_reply": "2022-07-18T00:54:18.828000Z"
    }
   },
   "outputs": [
    {
     "data": {
      "text/plain": [
       "true"
      ]
     },
     "execution_count": 50,
     "metadata": {},
     "output_type": "execute_result"
    }
   ],
   "source": [
    "df.a === df.b === x"
   ]
  },
  {
   "cell_type": "markdown",
   "metadata": {},
   "source": [
    "This can lead to silent errors. For example this code leads to a bug (note that calling `pairs` on `eachcol(df)` creates an iterator of (column name, column) pairs):"
   ]
  },
  {
   "cell_type": "code",
   "execution_count": 51,
   "metadata": {
    "execution": {
     "iopub.execute_input": "2022-07-18T00:54:18.830000Z",
     "iopub.status.busy": "2022-07-18T00:54:18.830000Z",
     "iopub.status.idle": "2022-07-18T00:54:18.913000Z",
     "shell.execute_reply": "2022-07-18T00:54:18.913000Z"
    }
   },
   "outputs": [
    {
     "name": "stdout",
     "output_type": "stream",
     "text": [
      "a: 3\n",
      "b: 2\n",
      "c: 3\n",
      "d: 3\n",
      "e: 3\n"
     ]
    }
   ],
   "source": [
    "for (n, c) in pairs(eachcol(df))\n",
    "    println(\"$n: \", pop!(c))\n",
    "end"
   ]
  },
  {
   "cell_type": "markdown",
   "metadata": {},
   "source": [
    "note that for column `:b` we printed `2` as `3` was removed from it when we used `pop!` on column `:a`."
   ]
  },
  {
   "cell_type": "markdown",
   "metadata": {},
   "source": [
    "Such mistakes sometimes happen. Because of this DataFrames.jl performs consistency checks before doing an expensive operation (most notably before showing a data frame)."
   ]
  },
  {
   "cell_type": "code",
   "execution_count": 52,
   "metadata": {
    "execution": {
     "iopub.execute_input": "2022-07-18T00:54:18.916000Z",
     "iopub.status.busy": "2022-07-18T00:54:18.916000Z",
     "iopub.status.idle": "2022-07-18T00:54:20.010000Z",
     "shell.execute_reply": "2022-07-18T00:54:20.010000Z"
    }
   },
   "outputs": [
    {
     "ename": "AssertionError",
     "evalue": "AssertionError: Data frame is corrupt: length of column :c (2) does not match length of column 1 (1). The column vector has likely been resized unintentionally (either directly or because it is shared with another data frame).",
     "output_type": "error",
     "traceback": [
      "AssertionError: Data frame is corrupt: length of column :c (2) does not match length of column 1 (1). The column vector has likely been resized unintentionally (either directly or because it is shared with another data frame).",
      "",
      "Stacktrace:",
      "  [1] _check_consistency(df::DataFrame)",
      "    @ DataFrames ~/.julia/packages/DataFrames/zqFGs/src/dataframe/dataframe.jl:459",
      "  [2] _show(io::IOContext{IOBuffer}, df::DataFrame; allrows::Bool, allcols::Bool, rowlabel::Symbol, summary::Bool, eltypes::Bool, rowid::Nothing, truncate::Int64, kwargs::Base.Pairs{Symbol, Union{}, Tuple{}, NamedTuple{(), Tuple{}}})",
      "    @ DataFrames ~/.julia/packages/DataFrames/zqFGs/src/abstractdataframe/show.jl:167",
      "  [3] #show#737",
      "    @ ~/.julia/packages/DataFrames/zqFGs/src/abstractdataframe/show.jl:353 [inlined]",
      "  [4] show(io::IOContext{IOBuffer}, df::DataFrame)",
      "    @ DataFrames ~/.julia/packages/DataFrames/zqFGs/src/abstractdataframe/show.jl:353",
      "  [5] #show#752",
      "    @ ~/.julia/packages/DataFrames/zqFGs/src/abstractdataframe/io.jl:138 [inlined]",
      "  [6] show",
      "    @ ~/.julia/packages/DataFrames/zqFGs/src/abstractdataframe/io.jl:138 [inlined]",
      "  [7] limitstringmime(mime::MIME{Symbol(\"text/plain\")}, x::DataFrame)",
      "    @ IJulia ~/.julia/packages/IJulia/AQu2H/src/inline.jl:43",
      "  [8] display_mimestring",
      "    @ ~/.julia/packages/IJulia/AQu2H/src/display.jl:71 [inlined]",
      "  [9] display_dict(x::DataFrame)",
      "    @ IJulia ~/.julia/packages/IJulia/AQu2H/src/display.jl:102",
      " [10] #invokelatest#2",
      "    @ ./essentials.jl:716 [inlined]",
      " [11] invokelatest",
      "    @ ./essentials.jl:714 [inlined]",
      " [12] execute_request(socket::ZMQ.Socket, msg::IJulia.Msg)",
      "    @ IJulia ~/.julia/packages/IJulia/AQu2H/src/execute_request.jl:112",
      " [13] #invokelatest#2",
      "    @ ./essentials.jl:716 [inlined]",
      " [14] invokelatest",
      "    @ ./essentials.jl:714 [inlined]",
      " [15] eventloop(socket::ZMQ.Socket)",
      "    @ IJulia ~/.julia/packages/IJulia/AQu2H/src/eventloop.jl:8",
      " [16] (::IJulia.var\"#15#18\")()",
      "    @ IJulia ./task.jl:429"
     ]
    }
   ],
   "source": [
    "df"
   ]
  },
  {
   "cell_type": "markdown",
   "metadata": {},
   "source": [
    "We can investigate the columns to find out what happend:"
   ]
  },
  {
   "cell_type": "code",
   "execution_count": 53,
   "metadata": {
    "execution": {
     "iopub.execute_input": "2022-07-18T00:54:20.013000Z",
     "iopub.status.busy": "2022-07-18T00:54:20.013000Z",
     "iopub.status.idle": "2022-07-18T00:54:20.825000Z",
     "shell.execute_reply": "2022-07-18T00:54:20.825000Z"
    }
   },
   "outputs": [
    {
     "data": {
      "text/plain": [
       "5-element Vector{Pair{Symbol, AbstractVector}}:\n",
       " :a => [1]\n",
       " :b => [1]\n",
       " :c => [1, 2]\n",
       " :d => [1, 2]\n",
       " :e => [1, 2]"
      ]
     },
     "execution_count": 53,
     "metadata": {},
     "output_type": "execute_result"
    }
   ],
   "source": [
    "collect(pairs(eachcol(df)))"
   ]
  },
  {
   "cell_type": "markdown",
   "metadata": {},
   "source": [
    "The output confirms that the data frame `df` got corrupted."
   ]
  },
  {
   "cell_type": "markdown",
   "metadata": {},
   "source": [
    "DataFrames.jl supports a complete set of `getindex`, `getproperty`, `setindex!`, `setproperty!`, `view`, broadcasting, and broadcasting assignment operations. The details are explained here: http://juliadata.github.io/DataFrames.jl/latest/lib/indexing/."
   ]
  },
  {
   "cell_type": "markdown",
   "metadata": {},
   "source": [
    "## Comparisons"
   ]
  },
  {
   "cell_type": "code",
   "execution_count": 54,
   "metadata": {
    "execution": {
     "iopub.execute_input": "2022-07-18T00:54:20.828000Z",
     "iopub.status.busy": "2022-07-18T00:54:20.828000Z",
     "iopub.status.idle": "2022-07-18T00:54:20.829000Z",
     "shell.execute_reply": "2022-07-18T00:54:20.829000Z"
    }
   },
   "outputs": [],
   "source": [
    "using DataFrames"
   ]
  },
  {
   "cell_type": "code",
   "execution_count": 55,
   "metadata": {
    "execution": {
     "iopub.execute_input": "2022-07-18T00:54:20.831000Z",
     "iopub.status.busy": "2022-07-18T00:54:20.831000Z",
     "iopub.status.idle": "2022-07-18T00:54:20.849000Z",
     "shell.execute_reply": "2022-07-18T00:54:20.849000Z"
    }
   },
   "outputs": [
    {
     "data": {
      "text/html": [
       "<div class=\"data-frame\"><p>2 rows × 3 columns</p><table class=\"data-frame\"><thead><tr><th></th><th>x1</th><th>x2</th><th>x3</th></tr><tr><th></th><th title=\"Float64\">Float64</th><th title=\"Float64\">Float64</th><th title=\"Float64\">Float64</th></tr></thead><tbody><tr><th>1</th><td>0.910762</td><td>0.354667</td><td>0.630757</td></tr><tr><th>2</th><td>0.79466</td><td>0.13567</td><td>0.0295027</td></tr></tbody></table></div>"
      ],
      "text/latex": [
       "\\begin{tabular}{r|ccc}\n",
       "\t& x1 & x2 & x3\\\\\n",
       "\t\\hline\n",
       "\t& Float64 & Float64 & Float64\\\\\n",
       "\t\\hline\n",
       "\t1 & 0.910762 & 0.354667 & 0.630757 \\\\\n",
       "\t2 & 0.79466 & 0.13567 & 0.0295027 \\\\\n",
       "\\end{tabular}\n"
      ],
      "text/plain": [
       "\u001b[1m2×3 DataFrame\u001b[0m\n",
       "\u001b[1m Row \u001b[0m│\u001b[1m x1       \u001b[0m\u001b[1m x2       \u001b[0m\u001b[1m x3        \u001b[0m\n",
       "\u001b[1m     \u001b[0m│\u001b[90m Float64  \u001b[0m\u001b[90m Float64  \u001b[0m\u001b[90m Float64   \u001b[0m\n",
       "─────┼───────────────────────────────\n",
       "   1 │ 0.910762  0.354667  0.630757\n",
       "   2 │ 0.79466   0.13567   0.0295027"
      ]
     },
     "execution_count": 55,
     "metadata": {},
     "output_type": "execute_result"
    }
   ],
   "source": [
    "df = DataFrame(rand(2,3), :auto)"
   ]
  },
  {
   "cell_type": "code",
   "execution_count": 56,
   "metadata": {
    "execution": {
     "iopub.execute_input": "2022-07-18T00:54:20.854000Z",
     "iopub.status.busy": "2022-07-18T00:54:20.853000Z",
     "iopub.status.idle": "2022-07-18T00:54:20.865000Z",
     "shell.execute_reply": "2022-07-18T00:54:20.865000Z"
    }
   },
   "outputs": [
    {
     "data": {
      "text/html": [
       "<div class=\"data-frame\"><p>2 rows × 3 columns</p><table class=\"data-frame\"><thead><tr><th></th><th>x1</th><th>x2</th><th>x3</th></tr><tr><th></th><th title=\"Float64\">Float64</th><th title=\"Float64\">Float64</th><th title=\"Float64\">Float64</th></tr></thead><tbody><tr><th>1</th><td>0.910762</td><td>0.354667</td><td>0.630757</td></tr><tr><th>2</th><td>0.79466</td><td>0.13567</td><td>0.0295027</td></tr></tbody></table></div>"
      ],
      "text/latex": [
       "\\begin{tabular}{r|ccc}\n",
       "\t& x1 & x2 & x3\\\\\n",
       "\t\\hline\n",
       "\t& Float64 & Float64 & Float64\\\\\n",
       "\t\\hline\n",
       "\t1 & 0.910762 & 0.354667 & 0.630757 \\\\\n",
       "\t2 & 0.79466 & 0.13567 & 0.0295027 \\\\\n",
       "\\end{tabular}\n"
      ],
      "text/plain": [
       "\u001b[1m2×3 DataFrame\u001b[0m\n",
       "\u001b[1m Row \u001b[0m│\u001b[1m x1       \u001b[0m\u001b[1m x2       \u001b[0m\u001b[1m x3        \u001b[0m\n",
       "\u001b[1m     \u001b[0m│\u001b[90m Float64  \u001b[0m\u001b[90m Float64  \u001b[0m\u001b[90m Float64   \u001b[0m\n",
       "─────┼───────────────────────────────\n",
       "   1 │ 0.910762  0.354667  0.630757\n",
       "   2 │ 0.79466   0.13567   0.0295027"
      ]
     },
     "execution_count": 56,
     "metadata": {},
     "output_type": "execute_result"
    }
   ],
   "source": [
    "df2 = copy(df)"
   ]
  },
  {
   "cell_type": "code",
   "execution_count": 57,
   "metadata": {
    "execution": {
     "iopub.execute_input": "2022-07-18T00:54:20.868000Z",
     "iopub.status.busy": "2022-07-18T00:54:20.868000Z",
     "iopub.status.idle": "2022-07-18T00:54:20.918000Z",
     "shell.execute_reply": "2022-07-18T00:54:20.918000Z"
    }
   },
   "outputs": [
    {
     "data": {
      "text/plain": [
       "true"
      ]
     },
     "execution_count": 57,
     "metadata": {},
     "output_type": "execute_result"
    }
   ],
   "source": [
    "df == df2 # compares column names and contents"
   ]
  },
  {
   "cell_type": "markdown",
   "metadata": {},
   "source": [
    "create a minimally different data frame and use `isapprox` for comparison"
   ]
  },
  {
   "cell_type": "code",
   "execution_count": 58,
   "metadata": {
    "execution": {
     "iopub.execute_input": "2022-07-18T00:54:20.921000Z",
     "iopub.status.busy": "2022-07-18T00:54:20.921000Z",
     "iopub.status.idle": "2022-07-18T00:54:21.073000Z",
     "shell.execute_reply": "2022-07-18T00:54:21.073000Z"
    }
   },
   "outputs": [
    {
     "data": {
      "text/html": [
       "<div class=\"data-frame\"><p>2 rows × 3 columns</p><table class=\"data-frame\"><thead><tr><th></th><th>x1</th><th>x2</th><th>x3</th></tr><tr><th></th><th title=\"Float64\">Float64</th><th title=\"Float64\">Float64</th><th title=\"Float64\">Float64</th></tr></thead><tbody><tr><th>1</th><td>0.910762</td><td>0.354667</td><td>0.630757</td></tr><tr><th>2</th><td>0.79466</td><td>0.13567</td><td>0.0295027</td></tr></tbody></table></div>"
      ],
      "text/latex": [
       "\\begin{tabular}{r|ccc}\n",
       "\t& x1 & x2 & x3\\\\\n",
       "\t\\hline\n",
       "\t& Float64 & Float64 & Float64\\\\\n",
       "\t\\hline\n",
       "\t1 & 0.910762 & 0.354667 & 0.630757 \\\\\n",
       "\t2 & 0.79466 & 0.13567 & 0.0295027 \\\\\n",
       "\\end{tabular}\n"
      ],
      "text/plain": [
       "\u001b[1m2×3 DataFrame\u001b[0m\n",
       "\u001b[1m Row \u001b[0m│\u001b[1m x1       \u001b[0m\u001b[1m x2       \u001b[0m\u001b[1m x3        \u001b[0m\n",
       "\u001b[1m     \u001b[0m│\u001b[90m Float64  \u001b[0m\u001b[90m Float64  \u001b[0m\u001b[90m Float64   \u001b[0m\n",
       "─────┼───────────────────────────────\n",
       "   1 │ 0.910762  0.354667  0.630757\n",
       "   2 │ 0.79466   0.13567   0.0295027"
      ]
     },
     "execution_count": 58,
     "metadata": {},
     "output_type": "execute_result"
    }
   ],
   "source": [
    "df3 = df2 .+ eps()"
   ]
  },
  {
   "cell_type": "code",
   "execution_count": 59,
   "metadata": {
    "execution": {
     "iopub.execute_input": "2022-07-18T00:54:21.076000Z",
     "iopub.status.busy": "2022-07-18T00:54:21.076000Z",
     "iopub.status.idle": "2022-07-18T00:54:21.077000Z",
     "shell.execute_reply": "2022-07-18T00:54:21.077000Z"
    }
   },
   "outputs": [
    {
     "data": {
      "text/plain": [
       "false"
      ]
     },
     "execution_count": 59,
     "metadata": {},
     "output_type": "execute_result"
    }
   ],
   "source": [
    "df == df3"
   ]
  },
  {
   "cell_type": "code",
   "execution_count": 60,
   "metadata": {
    "execution": {
     "iopub.execute_input": "2022-07-18T00:54:21.079000Z",
     "iopub.status.busy": "2022-07-18T00:54:21.079000Z",
     "iopub.status.idle": "2022-07-18T00:54:21.715000Z",
     "shell.execute_reply": "2022-07-18T00:54:21.715000Z"
    }
   },
   "outputs": [
    {
     "data": {
      "text/plain": [
       "true"
      ]
     },
     "execution_count": 60,
     "metadata": {},
     "output_type": "execute_result"
    }
   ],
   "source": [
    "isapprox(df, df3)"
   ]
  },
  {
   "cell_type": "code",
   "execution_count": 61,
   "metadata": {
    "execution": {
     "iopub.execute_input": "2022-07-18T00:54:21.718000Z",
     "iopub.status.busy": "2022-07-18T00:54:21.718000Z",
     "iopub.status.idle": "2022-07-18T00:54:22.144000Z",
     "shell.execute_reply": "2022-07-18T00:54:22.144000Z"
    }
   },
   "outputs": [
    {
     "data": {
      "text/plain": [
       "false"
      ]
     },
     "execution_count": 61,
     "metadata": {},
     "output_type": "execute_result"
    }
   ],
   "source": [
    "isapprox(df, df3, atol = eps()/2)"
   ]
  },
  {
   "cell_type": "markdown",
   "metadata": {},
   "source": [
    "`missings` are handled as in Julia Base"
   ]
  },
  {
   "cell_type": "code",
   "execution_count": 62,
   "metadata": {
    "execution": {
     "iopub.execute_input": "2022-07-18T00:54:22.147000Z",
     "iopub.status.busy": "2022-07-18T00:54:22.147000Z",
     "iopub.status.idle": "2022-07-18T00:54:22.250000Z",
     "shell.execute_reply": "2022-07-18T00:54:22.250000Z"
    }
   },
   "outputs": [
    {
     "data": {
      "text/html": [
       "<div class=\"data-frame\"><p>1 rows × 1 columns</p><table class=\"data-frame\"><thead><tr><th></th><th>a</th></tr><tr><th></th><th title=\"Missing\">Missing</th></tr></thead><tbody><tr><th>1</th><td><em>missing</em></td></tr></tbody></table></div>"
      ],
      "text/latex": [
       "\\begin{tabular}{r|c}\n",
       "\t& a\\\\\n",
       "\t\\hline\n",
       "\t& Missing\\\\\n",
       "\t\\hline\n",
       "\t1 & \\emph{missing} \\\\\n",
       "\\end{tabular}\n"
      ],
      "text/plain": [
       "\u001b[1m1×1 DataFrame\u001b[0m\n",
       "\u001b[1m Row \u001b[0m│\u001b[1m a       \u001b[0m\n",
       "\u001b[1m     \u001b[0m│\u001b[90m Missing \u001b[0m\n",
       "─────┼─────────\n",
       "   1 │\u001b[90m missing \u001b[0m"
      ]
     },
     "execution_count": 62,
     "metadata": {},
     "output_type": "execute_result"
    }
   ],
   "source": [
    "df = DataFrame(a=missing)"
   ]
  },
  {
   "cell_type": "code",
   "execution_count": 63,
   "metadata": {
    "execution": {
     "iopub.execute_input": "2022-07-18T00:54:22.253000Z",
     "iopub.status.busy": "2022-07-18T00:54:22.253000Z",
     "iopub.status.idle": "2022-07-18T00:54:22.521000Z",
     "shell.execute_reply": "2022-07-18T00:54:22.521000Z"
    }
   },
   "outputs": [
    {
     "data": {
      "text/plain": [
       "missing"
      ]
     },
     "execution_count": 63,
     "metadata": {},
     "output_type": "execute_result"
    }
   ],
   "source": [
    "df == df"
   ]
  },
  {
   "cell_type": "code",
   "execution_count": 64,
   "metadata": {
    "execution": {
     "iopub.execute_input": "2022-07-18T00:54:22.524000Z",
     "iopub.status.busy": "2022-07-18T00:54:22.524000Z",
     "iopub.status.idle": "2022-07-18T00:54:22.525000Z",
     "shell.execute_reply": "2022-07-18T00:54:22.525000Z"
    }
   },
   "outputs": [
    {
     "data": {
      "text/plain": [
       "true"
      ]
     },
     "execution_count": 64,
     "metadata": {},
     "output_type": "execute_result"
    }
   ],
   "source": [
    "df === df"
   ]
  },
  {
   "cell_type": "code",
   "execution_count": 65,
   "metadata": {
    "execution": {
     "iopub.execute_input": "2022-07-18T00:54:22.530000Z",
     "iopub.status.busy": "2022-07-18T00:54:22.529000Z",
     "iopub.status.idle": "2022-07-18T00:54:22.560000Z",
     "shell.execute_reply": "2022-07-18T00:54:22.560000Z"
    }
   },
   "outputs": [
    {
     "data": {
      "text/plain": [
       "true"
      ]
     },
     "execution_count": 65,
     "metadata": {},
     "output_type": "execute_result"
    }
   ],
   "source": [
    "isequal(df, df)"
   ]
  }
 ],
 "metadata": {
  "@webio": {
   "lastCommId": null,
   "lastKernelId": null
  },
  "kernelspec": {
   "display_name": "Julia 1.7.2",
   "language": "julia",
   "name": "julia-1.7"
  },
  "language_info": {
   "file_extension": ".jl",
   "mimetype": "application/julia",
   "name": "julia",
   "version": "1.7.3"
  }
 },
 "nbformat": 4,
 "nbformat_minor": 1
}
