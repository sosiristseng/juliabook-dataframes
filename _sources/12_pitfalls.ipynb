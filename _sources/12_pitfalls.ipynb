{
 "cells": [
  {
   "cell_type": "markdown",
   "metadata": {},
   "source": [
    "# Possible pitfalls"
   ]
  },
  {
   "cell_type": "code",
   "execution_count": 1,
   "metadata": {
    "execution": {
     "iopub.execute_input": "2022-07-18T00:51:23.460000Z",
     "iopub.status.busy": "2022-07-18T00:51:23.007000Z",
     "iopub.status.idle": "2022-07-18T00:51:25.067000Z",
     "shell.execute_reply": "2022-07-18T00:51:24.958000Z"
    }
   },
   "outputs": [],
   "source": [
    "using DataFrames"
   ]
  },
  {
   "cell_type": "markdown",
   "metadata": {},
   "source": [
    "## Know what is copied when creating a `DataFrame`"
   ]
  },
  {
   "cell_type": "code",
   "execution_count": 2,
   "metadata": {
    "execution": {
     "iopub.execute_input": "2022-07-18T00:51:25.070000Z",
     "iopub.status.busy": "2022-07-18T00:51:25.069000Z",
     "iopub.status.idle": "2022-07-18T00:51:30.058000Z",
     "shell.execute_reply": "2022-07-18T00:51:30.058000Z"
    }
   },
   "outputs": [
    {
     "data": {
      "text/html": [
       "<div class=\"data-frame\"><p>3 rows × 5 columns</p><table class=\"data-frame\"><thead><tr><th></th><th>x1</th><th>x2</th><th>x3</th><th>x4</th><th>x5</th></tr><tr><th></th><th title=\"Float64\">Float64</th><th title=\"Float64\">Float64</th><th title=\"Float64\">Float64</th><th title=\"Float64\">Float64</th><th title=\"Float64\">Float64</th></tr></thead><tbody><tr><th>1</th><td>0.632706</td><td>0.828699</td><td>0.652296</td><td>0.470422</td><td>0.121272</td></tr><tr><th>2</th><td>0.328729</td><td>0.378696</td><td>0.289502</td><td>0.11514</td><td>0.15551</td></tr><tr><th>3</th><td>0.305744</td><td>0.694864</td><td>0.384864</td><td>0.867069</td><td>0.535597</td></tr></tbody></table></div>"
      ],
      "text/latex": [
       "\\begin{tabular}{r|ccccc}\n",
       "\t& x1 & x2 & x3 & x4 & x5\\\\\n",
       "\t\\hline\n",
       "\t& Float64 & Float64 & Float64 & Float64 & Float64\\\\\n",
       "\t\\hline\n",
       "\t1 & 0.632706 & 0.828699 & 0.652296 & 0.470422 & 0.121272 \\\\\n",
       "\t2 & 0.328729 & 0.378696 & 0.289502 & 0.11514 & 0.15551 \\\\\n",
       "\t3 & 0.305744 & 0.694864 & 0.384864 & 0.867069 & 0.535597 \\\\\n",
       "\\end{tabular}\n"
      ],
      "text/plain": [
       "\u001b[1m3×5 DataFrame\u001b[0m\n",
       "\u001b[1m Row \u001b[0m│\u001b[1m x1       \u001b[0m\u001b[1m x2       \u001b[0m\u001b[1m x3       \u001b[0m\u001b[1m x4       \u001b[0m\u001b[1m x5       \u001b[0m\n",
       "\u001b[1m     \u001b[0m│\u001b[90m Float64  \u001b[0m\u001b[90m Float64  \u001b[0m\u001b[90m Float64  \u001b[0m\u001b[90m Float64  \u001b[0m\u001b[90m Float64  \u001b[0m\n",
       "─────┼──────────────────────────────────────────────────\n",
       "   1 │ 0.632706  0.828699  0.652296  0.470422  0.121272\n",
       "   2 │ 0.328729  0.378696  0.289502  0.11514   0.15551\n",
       "   3 │ 0.305744  0.694864  0.384864  0.867069  0.535597"
      ]
     },
     "execution_count": 2,
     "metadata": {},
     "output_type": "execute_result"
    }
   ],
   "source": [
    "x = DataFrame(rand(3, 5), :auto)"
   ]
  },
  {
   "cell_type": "code",
   "execution_count": 3,
   "metadata": {
    "execution": {
     "iopub.execute_input": "2022-07-18T00:51:30.111000Z",
     "iopub.status.busy": "2022-07-18T00:51:30.110000Z",
     "iopub.status.idle": "2022-07-18T00:51:30.498000Z",
     "shell.execute_reply": "2022-07-18T00:51:30.498000Z"
    }
   },
   "outputs": [
    {
     "data": {
      "text/plain": [
       "false"
      ]
     },
     "execution_count": 3,
     "metadata": {},
     "output_type": "execute_result"
    }
   ],
   "source": [
    "y = copy(x)\n",
    "x === y # not the same object"
   ]
  },
  {
   "cell_type": "code",
   "execution_count": 4,
   "metadata": {
    "execution": {
     "iopub.execute_input": "2022-07-18T00:51:30.501000Z",
     "iopub.status.busy": "2022-07-18T00:51:30.501000Z",
     "iopub.status.idle": "2022-07-18T00:51:30.512000Z",
     "shell.execute_reply": "2022-07-18T00:51:30.512000Z"
    }
   },
   "outputs": [
    {
     "data": {
      "text/plain": [
       "false"
      ]
     },
     "execution_count": 4,
     "metadata": {},
     "output_type": "execute_result"
    }
   ],
   "source": [
    "y = DataFrame(x)\n",
    "x === y"
   ]
  },
  {
   "cell_type": "code",
   "execution_count": 5,
   "metadata": {
    "execution": {
     "iopub.execute_input": "2022-07-18T00:51:30.515000Z",
     "iopub.status.busy": "2022-07-18T00:51:30.515000Z",
     "iopub.status.idle": "2022-07-18T00:51:30.541000Z",
     "shell.execute_reply": "2022-07-18T00:51:30.541000Z"
    }
   },
   "outputs": [
    {
     "data": {
      "text/plain": [
       "false"
      ]
     },
     "execution_count": 5,
     "metadata": {},
     "output_type": "execute_result"
    }
   ],
   "source": [
    "any(x[!, i] === y[!, i] for i in ncol(x)) # the columns are also not the same"
   ]
  },
  {
   "cell_type": "code",
   "execution_count": 6,
   "metadata": {
    "execution": {
     "iopub.execute_input": "2022-07-18T00:51:30.544000Z",
     "iopub.status.busy": "2022-07-18T00:51:30.544000Z",
     "iopub.status.idle": "2022-07-18T00:51:30.556000Z",
     "shell.execute_reply": "2022-07-18T00:51:30.556000Z"
    }
   },
   "outputs": [
    {
     "data": {
      "text/plain": [
       "false"
      ]
     },
     "execution_count": 6,
     "metadata": {},
     "output_type": "execute_result"
    }
   ],
   "source": [
    "y = DataFrame(x, copycols=false)\n",
    "x === y"
   ]
  },
  {
   "cell_type": "code",
   "execution_count": 7,
   "metadata": {
    "execution": {
     "iopub.execute_input": "2022-07-18T00:51:30.558000Z",
     "iopub.status.busy": "2022-07-18T00:51:30.558000Z",
     "iopub.status.idle": "2022-07-18T00:51:30.574000Z",
     "shell.execute_reply": "2022-07-18T00:51:30.574000Z"
    }
   },
   "outputs": [
    {
     "data": {
      "text/plain": [
       "true"
      ]
     },
     "execution_count": 7,
     "metadata": {},
     "output_type": "execute_result"
    }
   ],
   "source": [
    "all(x[!, i] === y[!, i] for i in ncol(x)) # the columns are the same"
   ]
  },
  {
   "cell_type": "code",
   "execution_count": 8,
   "metadata": {
    "execution": {
     "iopub.execute_input": "2022-07-18T00:51:30.576000Z",
     "iopub.status.busy": "2022-07-18T00:51:30.576000Z",
     "iopub.status.idle": "2022-07-18T00:51:30.980000Z",
     "shell.execute_reply": "2022-07-18T00:51:30.980000Z"
    }
   },
   "outputs": [
    {
     "data": {
      "text/html": [
       "<div class=\"data-frame\"><p>3 rows × 2 columns</p><table class=\"data-frame\"><thead><tr><th></th><th>x</th><th>y</th></tr><tr><th></th><th title=\"Int64\">Int64</th><th title=\"Int64\">Int64</th></tr></thead><tbody><tr><th>1</th><td>1</td><td>1</td></tr><tr><th>2</th><td>2</td><td>2</td></tr><tr><th>3</th><td>3</td><td>3</td></tr></tbody></table></div>"
      ],
      "text/latex": [
       "\\begin{tabular}{r|cc}\n",
       "\t& x & y\\\\\n",
       "\t\\hline\n",
       "\t& Int64 & Int64\\\\\n",
       "\t\\hline\n",
       "\t1 & 1 & 1 \\\\\n",
       "\t2 & 2 & 2 \\\\\n",
       "\t3 & 3 & 3 \\\\\n",
       "\\end{tabular}\n"
      ],
      "text/plain": [
       "\u001b[1m3×2 DataFrame\u001b[0m\n",
       "\u001b[1m Row \u001b[0m│\u001b[1m x     \u001b[0m\u001b[1m y     \u001b[0m\n",
       "\u001b[1m     \u001b[0m│\u001b[90m Int64 \u001b[0m\u001b[90m Int64 \u001b[0m\n",
       "─────┼──────────────\n",
       "   1 │     1      1\n",
       "   2 │     2      2\n",
       "   3 │     3      3"
      ]
     },
     "execution_count": 8,
     "metadata": {},
     "output_type": "execute_result"
    }
   ],
   "source": [
    "x = 1:3; y = [1, 2, 3]; df = DataFrame(x=x,y=y) # the same when creating data frames using kwarg syntax"
   ]
  },
  {
   "cell_type": "code",
   "execution_count": 9,
   "metadata": {
    "execution": {
     "iopub.execute_input": "2022-07-18T00:51:30.984000Z",
     "iopub.status.busy": "2022-07-18T00:51:30.984000Z",
     "iopub.status.idle": "2022-07-18T00:51:30.991000Z",
     "shell.execute_reply": "2022-07-18T00:51:30.991000Z"
    }
   },
   "outputs": [
    {
     "data": {
      "text/plain": [
       "false"
      ]
     },
     "execution_count": 9,
     "metadata": {},
     "output_type": "execute_result"
    }
   ],
   "source": [
    "y === df.y # different object"
   ]
  },
  {
   "cell_type": "code",
   "execution_count": 10,
   "metadata": {
    "execution": {
     "iopub.execute_input": "2022-07-18T00:51:30.993000Z",
     "iopub.status.busy": "2022-07-18T00:51:30.993000Z",
     "iopub.status.idle": "2022-07-18T00:51:31.449000Z",
     "shell.execute_reply": "2022-07-18T00:51:31.449000Z"
    }
   },
   "outputs": [
    {
     "data": {
      "text/plain": [
       "(UnitRange{Int64}, Vector{Int64})"
      ]
     },
     "execution_count": 10,
     "metadata": {},
     "output_type": "execute_result"
    }
   ],
   "source": [
    "typeof(x), typeof(df.x) # range is converted to a vector"
   ]
  },
  {
   "cell_type": "code",
   "execution_count": 11,
   "metadata": {
    "execution": {
     "iopub.execute_input": "2022-07-18T00:51:31.452000Z",
     "iopub.status.busy": "2022-07-18T00:51:31.452000Z",
     "iopub.status.idle": "2022-07-18T00:51:31.473000Z",
     "shell.execute_reply": "2022-07-18T00:51:31.473000Z"
    }
   },
   "outputs": [
    {
     "data": {
      "text/plain": [
       "false"
      ]
     },
     "execution_count": 11,
     "metadata": {},
     "output_type": "execute_result"
    }
   ],
   "source": [
    "y === df[:, :y] # slicing rows always creates a copy"
   ]
  },
  {
   "cell_type": "markdown",
   "metadata": {},
   "source": [
    "you can avoid copying by using `copycols=false` keyword argument in functions."
   ]
  },
  {
   "cell_type": "code",
   "execution_count": 12,
   "metadata": {
    "execution": {
     "iopub.execute_input": "2022-07-18T00:51:31.477000Z",
     "iopub.status.busy": "2022-07-18T00:51:31.476000Z",
     "iopub.status.idle": "2022-07-18T00:51:31.525000Z",
     "shell.execute_reply": "2022-07-18T00:51:31.525000Z"
    }
   },
   "outputs": [
    {
     "data": {
      "text/html": [
       "<div class=\"data-frame\"><p>3 rows × 2 columns</p><table class=\"data-frame\"><thead><tr><th></th><th>x</th><th>y</th></tr><tr><th></th><th title=\"Int64\">Int64</th><th title=\"Int64\">Int64</th></tr></thead><tbody><tr><th>1</th><td>1</td><td>1</td></tr><tr><th>2</th><td>2</td><td>2</td></tr><tr><th>3</th><td>3</td><td>3</td></tr></tbody></table></div>"
      ],
      "text/latex": [
       "\\begin{tabular}{r|cc}\n",
       "\t& x & y\\\\\n",
       "\t\\hline\n",
       "\t& Int64 & Int64\\\\\n",
       "\t\\hline\n",
       "\t1 & 1 & 1 \\\\\n",
       "\t2 & 2 & 2 \\\\\n",
       "\t3 & 3 & 3 \\\\\n",
       "\\end{tabular}\n"
      ],
      "text/plain": [
       "\u001b[1m3×2 DataFrame\u001b[0m\n",
       "\u001b[1m Row \u001b[0m│\u001b[1m x     \u001b[0m\u001b[1m y     \u001b[0m\n",
       "\u001b[1m     \u001b[0m│\u001b[90m Int64 \u001b[0m\u001b[90m Int64 \u001b[0m\n",
       "─────┼──────────────\n",
       "   1 │     1      1\n",
       "   2 │     2      2\n",
       "   3 │     3      3"
      ]
     },
     "execution_count": 12,
     "metadata": {},
     "output_type": "execute_result"
    }
   ],
   "source": [
    "df = DataFrame(x=x,y=y, copycols=false)"
   ]
  },
  {
   "cell_type": "code",
   "execution_count": 13,
   "metadata": {
    "execution": {
     "iopub.execute_input": "2022-07-18T00:51:31.529000Z",
     "iopub.status.busy": "2022-07-18T00:51:31.529000Z",
     "iopub.status.idle": "2022-07-18T00:51:31.530000Z",
     "shell.execute_reply": "2022-07-18T00:51:31.530000Z"
    }
   },
   "outputs": [
    {
     "data": {
      "text/plain": [
       "true"
      ]
     },
     "execution_count": 13,
     "metadata": {},
     "output_type": "execute_result"
    }
   ],
   "source": [
    "y === df.y # now it is the same"
   ]
  },
  {
   "cell_type": "code",
   "execution_count": 14,
   "metadata": {
    "execution": {
     "iopub.execute_input": "2022-07-18T00:51:31.532000Z",
     "iopub.status.busy": "2022-07-18T00:51:31.532000Z",
     "iopub.status.idle": "2022-07-18T00:51:31.648000Z",
     "shell.execute_reply": "2022-07-18T00:51:31.648000Z"
    }
   },
   "outputs": [
    {
     "data": {
      "text/plain": [
       "false"
      ]
     },
     "execution_count": 14,
     "metadata": {},
     "output_type": "execute_result"
    }
   ],
   "source": [
    "select(df, :y)[!, 1] === y # not the same"
   ]
  },
  {
   "cell_type": "code",
   "execution_count": 15,
   "metadata": {
    "execution": {
     "iopub.execute_input": "2022-07-18T00:51:31.651000Z",
     "iopub.status.busy": "2022-07-18T00:51:31.651000Z",
     "iopub.status.idle": "2022-07-18T00:51:31.657000Z",
     "shell.execute_reply": "2022-07-18T00:51:31.657000Z"
    }
   },
   "outputs": [
    {
     "data": {
      "text/plain": [
       "true"
      ]
     },
     "execution_count": 15,
     "metadata": {},
     "output_type": "execute_result"
    }
   ],
   "source": [
    "select(df, :y, copycols=false)[!, 1] === y # the same"
   ]
  },
  {
   "cell_type": "markdown",
   "metadata": {},
   "source": [
    "## Do not modify the parent of `GroupedDataFrame` or `view`"
   ]
  },
  {
   "cell_type": "code",
   "execution_count": 16,
   "metadata": {
    "execution": {
     "iopub.execute_input": "2022-07-18T00:51:31.660000Z",
     "iopub.status.busy": "2022-07-18T00:51:31.660000Z",
     "iopub.status.idle": "2022-07-18T00:51:35.410000Z",
     "shell.execute_reply": "2022-07-18T00:51:35.410000Z"
    }
   },
   "outputs": [
    {
     "data": {
      "text/html": [
       "<p><b>GroupedDataFrame with 2 groups based on key: id</b></p><p><i>First Group (3 rows): id = 1</i></p><div class=\"data-frame\"><table class=\"data-frame\"><thead><tr><th></th><th>id</th><th>x</th></tr><tr><th></th><th title=\"Int64\">Int64</th><th title=\"Int64\">Int64</th></tr></thead><tbody><tr><th>1</th><td>1</td><td>1</td></tr><tr><th>2</th><td>1</td><td>3</td></tr><tr><th>3</th><td>1</td><td>5</td></tr></tbody></table></div><p>&vellip;</p><p><i>Last Group (3 rows): id = 2</i></p><div class=\"data-frame\"><table class=\"data-frame\"><thead><tr><th></th><th>id</th><th>x</th></tr><tr><th></th><th title=\"Int64\">Int64</th><th title=\"Int64\">Int64</th></tr></thead><tbody><tr><th>1</th><td>2</td><td>2</td></tr><tr><th>2</th><td>2</td><td>4</td></tr><tr><th>3</th><td>2</td><td>6</td></tr></tbody></table></div>"
      ],
      "text/latex": [
       "GroupedDataFrame with 2 groups based on key: id\n",
       "\n",
       "First Group (3 rows): id = 1\n",
       "\n",
       "\\begin{tabular}{r|cc}\n",
       "\t& id & x\\\\\n",
       "\t\\hline\n",
       "\t& Int64 & Int64\\\\\n",
       "\t\\hline\n",
       "\t1 & 1 & 1 \\\\\n",
       "\t2 & 1 & 3 \\\\\n",
       "\t3 & 1 & 5 \\\\\n",
       "\\end{tabular}\n",
       "\n",
       "$\\dots$\n",
       "\n",
       "Last Group (3 rows): id = 2\n",
       "\n",
       "\\begin{tabular}{r|cc}\n",
       "\t& id & x\\\\\n",
       "\t\\hline\n",
       "\t& Int64 & Int64\\\\\n",
       "\t\\hline\n",
       "\t1 & 2 & 2 \\\\\n",
       "\t2 & 2 & 4 \\\\\n",
       "\t3 & 2 & 6 \\\\\n",
       "\\end{tabular}\n"
      ],
      "text/plain": [
       "GroupedDataFrame with 2 groups based on key: id\n",
       "First Group (3 rows): id = 1\n",
       "\u001b[1m Row \u001b[0m│\u001b[1m id    \u001b[0m\u001b[1m x     \u001b[0m\n",
       "\u001b[1m     \u001b[0m│\u001b[90m Int64 \u001b[0m\u001b[90m Int64 \u001b[0m\n",
       "─────┼──────────────\n",
       "   1 │     1      1\n",
       "   2 │     1      3\n",
       "   3 │     1      5\n",
       "⋮\n",
       "Last Group (3 rows): id = 2\n",
       "\u001b[1m Row \u001b[0m│\u001b[1m id    \u001b[0m\u001b[1m x     \u001b[0m\n",
       "\u001b[1m     \u001b[0m│\u001b[90m Int64 \u001b[0m\u001b[90m Int64 \u001b[0m\n",
       "─────┼──────────────\n",
       "   1 │     2      2\n",
       "   2 │     2      4\n",
       "   3 │     2      6"
      ]
     },
     "execution_count": 16,
     "metadata": {},
     "output_type": "execute_result"
    }
   ],
   "source": [
    "x = DataFrame(id=repeat([1,2], outer=3), x=1:6)\n",
    "g = groupby(x, :id)"
   ]
  },
  {
   "cell_type": "code",
   "execution_count": 17,
   "metadata": {
    "execution": {
     "iopub.execute_input": "2022-07-18T00:51:35.414000Z",
     "iopub.status.busy": "2022-07-18T00:51:35.414000Z",
     "iopub.status.idle": "2022-07-18T00:51:35.436000Z",
     "shell.execute_reply": "2022-07-18T00:51:35.436000Z"
    }
   },
   "outputs": [
    {
     "data": {
      "text/html": [
       "<p><b>GroupedDataFrame with 2 groups based on key: id</b></p><p><i>First Group (3 rows): id = 2</i></p><div class=\"data-frame\"><table class=\"data-frame\"><thead><tr><th></th><th>id</th><th>x</th></tr><tr><th></th><th title=\"Int64\">Int64</th><th title=\"Int64\">Int64</th></tr></thead><tbody><tr><th>1</th><td>2</td><td>1</td></tr><tr><th>2</th><td>2</td><td>3</td></tr><tr><th>3</th><td>1</td><td>5</td></tr></tbody></table></div><p>&vellip;</p><p><i>Last Group (3 rows): id = 2</i></p><div class=\"data-frame\"><table class=\"data-frame\"><thead><tr><th></th><th>id</th><th>x</th></tr><tr><th></th><th title=\"Int64\">Int64</th><th title=\"Int64\">Int64</th></tr></thead><tbody><tr><th>1</th><td>2</td><td>2</td></tr><tr><th>2</th><td>2</td><td>4</td></tr><tr><th>3</th><td>2</td><td>6</td></tr></tbody></table></div>"
      ],
      "text/latex": [
       "GroupedDataFrame with 2 groups based on key: id\n",
       "\n",
       "First Group (3 rows): id = 2\n",
       "\n",
       "\\begin{tabular}{r|cc}\n",
       "\t& id & x\\\\\n",
       "\t\\hline\n",
       "\t& Int64 & Int64\\\\\n",
       "\t\\hline\n",
       "\t1 & 2 & 1 \\\\\n",
       "\t2 & 2 & 3 \\\\\n",
       "\t3 & 1 & 5 \\\\\n",
       "\\end{tabular}\n",
       "\n",
       "$\\dots$\n",
       "\n",
       "Last Group (3 rows): id = 2\n",
       "\n",
       "\\begin{tabular}{r|cc}\n",
       "\t& id & x\\\\\n",
       "\t\\hline\n",
       "\t& Int64 & Int64\\\\\n",
       "\t\\hline\n",
       "\t1 & 2 & 2 \\\\\n",
       "\t2 & 2 & 4 \\\\\n",
       "\t3 & 2 & 6 \\\\\n",
       "\\end{tabular}\n"
      ],
      "text/plain": [
       "GroupedDataFrame with 2 groups based on key: id\n",
       "First Group (3 rows): id = 2\n",
       "\u001b[1m Row \u001b[0m│\u001b[1m id    \u001b[0m\u001b[1m x     \u001b[0m\n",
       "\u001b[1m     \u001b[0m│\u001b[90m Int64 \u001b[0m\u001b[90m Int64 \u001b[0m\n",
       "─────┼──────────────\n",
       "   1 │     2      1\n",
       "   2 │     2      3\n",
       "   3 │     1      5\n",
       "⋮\n",
       "Last Group (3 rows): id = 2\n",
       "\u001b[1m Row \u001b[0m│\u001b[1m id    \u001b[0m\u001b[1m x     \u001b[0m\n",
       "\u001b[1m     \u001b[0m│\u001b[90m Int64 \u001b[0m\u001b[90m Int64 \u001b[0m\n",
       "─────┼──────────────\n",
       "   1 │     2      2\n",
       "   2 │     2      4\n",
       "   3 │     2      6"
      ]
     },
     "execution_count": 17,
     "metadata": {},
     "output_type": "execute_result"
    }
   ],
   "source": [
    "x[1:3, 1] = [2,2,2]\n",
    "g # well - it is wrong now, g is only a view"
   ]
  },
  {
   "cell_type": "code",
   "execution_count": 18,
   "metadata": {
    "execution": {
     "iopub.execute_input": "2022-07-18T00:51:35.440000Z",
     "iopub.status.busy": "2022-07-18T00:51:35.440000Z",
     "iopub.status.idle": "2022-07-18T00:51:36.907000Z",
     "shell.execute_reply": "2022-07-18T00:51:36.907000Z"
    }
   },
   "outputs": [
    {
     "data": {
      "text/html": [
       "<div class=\"data-frame\"><p>2 rows × 2 columns</p><table class=\"data-frame\"><thead><tr><th></th><th>id</th><th>x</th></tr><tr><th></th><th title=\"Int64\">Int64</th><th title=\"Int64\">Int64</th></tr></thead><tbody><tr><th>1</th><td>1</td><td>5</td></tr><tr><th>2</th><td>2</td><td>6</td></tr></tbody></table></div>"
      ],
      "text/latex": [
       "\\begin{tabular}{r|cc}\n",
       "\t& id & x\\\\\n",
       "\t\\hline\n",
       "\t& Int64 & Int64\\\\\n",
       "\t\\hline\n",
       "\t1 & 1 & 5 \\\\\n",
       "\t2 & 2 & 6 \\\\\n",
       "\\end{tabular}\n"
      ],
      "text/plain": [
       "\u001b[1m2×2 SubDataFrame\u001b[0m\n",
       "\u001b[1m Row \u001b[0m│\u001b[1m id    \u001b[0m\u001b[1m x     \u001b[0m\n",
       "\u001b[1m     \u001b[0m│\u001b[90m Int64 \u001b[0m\u001b[90m Int64 \u001b[0m\n",
       "─────┼──────────────\n",
       "   1 │     1      5\n",
       "   2 │     2      6"
      ]
     },
     "execution_count": 18,
     "metadata": {},
     "output_type": "execute_result"
    }
   ],
   "source": [
    "s = view(x, 5:6, :)"
   ]
  },
  {
   "cell_type": "code",
   "execution_count": 19,
   "metadata": {
    "execution": {
     "iopub.execute_input": "2022-07-18T00:51:36.910000Z",
     "iopub.status.busy": "2022-07-18T00:51:36.910000Z",
     "iopub.status.idle": "2022-07-18T00:51:36.959000Z",
     "shell.execute_reply": "2022-07-18T00:51:36.959000Z"
    }
   },
   "outputs": [
    {
     "data": {
      "text/html": [
       "<div class=\"data-frame\"><p>2 rows × 2 columns</p><table class=\"data-frame\"><thead><tr><th></th><th>id</th><th>x</th></tr><tr><th></th><th title=\"Int64\">Int64</th><th title=\"Int64\">Int64</th></tr></thead><tbody><tr><th>1</th><td>2</td><td>1</td></tr><tr><th>2</th><td>2</td><td>2</td></tr></tbody></table></div>"
      ],
      "text/latex": [
       "\\begin{tabular}{r|cc}\n",
       "\t& id & x\\\\\n",
       "\t\\hline\n",
       "\t& Int64 & Int64\\\\\n",
       "\t\\hline\n",
       "\t1 & 2 & 1 \\\\\n",
       "\t2 & 2 & 2 \\\\\n",
       "\\end{tabular}\n"
      ],
      "text/plain": [
       "\u001b[1m2×2 DataFrame\u001b[0m\n",
       "\u001b[1m Row \u001b[0m│\u001b[1m id    \u001b[0m\u001b[1m x     \u001b[0m\n",
       "\u001b[1m     \u001b[0m│\u001b[90m Int64 \u001b[0m\u001b[90m Int64 \u001b[0m\n",
       "─────┼──────────────\n",
       "   1 │     2      1\n",
       "   2 │     2      2"
      ]
     },
     "execution_count": 19,
     "metadata": {},
     "output_type": "execute_result"
    }
   ],
   "source": [
    "delete!(x, 3:6)"
   ]
  },
  {
   "cell_type": "code",
   "execution_count": 20,
   "metadata": {
    "execution": {
     "iopub.execute_input": "2022-07-18T00:51:36.962000Z",
     "iopub.status.busy": "2022-07-18T00:51:36.962000Z",
     "iopub.status.idle": "2022-07-18T00:51:38.032000Z",
     "shell.execute_reply": "2022-07-18T00:51:38.032000Z"
    }
   },
   "outputs": [
    {
     "ename": "BoundsError",
     "evalue": "BoundsError: attempt to access 2-element Vector{Int64} at index [5:6]",
     "output_type": "error",
     "traceback": [
      "BoundsError: attempt to access 2-element Vector{Int64} at index [5:6]",
      "",
      "Stacktrace:",
      "  [1] throw_boundserror(A::Vector{Int64}, I::Tuple{UnitRange{Int64}})",
      "    @ Base ./abstractarray.jl:691",
      "  [2] checkbounds",
      "    @ ./abstractarray.jl:656 [inlined]",
      "  [3] view(A::Vector{Int64}, I::UnitRange{Int64})",
      "    @ Base ./subarray.jl:177",
      "  [4] view",
      "    @ ~/.julia/packages/DataFrames/zqFGs/src/subdataframe/subdataframe.jl:129 [inlined]",
      "  [5] getindex",
      "    @ ~/.julia/packages/DataFrames/zqFGs/src/subdataframe/subdataframe.jl:166 [inlined]",
      "  [6] getindex",
      "    @ ~/.julia/packages/DataFrames/zqFGs/src/abstractdataframe/iteration.jl:200 [inlined]",
      "  [7] iterate(itr::DataFrames.DataFrameColumns{SubDataFrame{DataFrame, DataFrames.Index, UnitRange{Int64}}}, i::Int64) (repeats 2 times)",
      "    @ DataFrames ~/.julia/packages/DataFrames/zqFGs/src/abstractdataframe/iteration.jl:198",
      "  [8] _show(io::IOContext{IOBuffer}, df::SubDataFrame{DataFrame, DataFrames.Index, UnitRange{Int64}}; allrows::Bool, allcols::Bool, rowlabel::Symbol, summary::Bool, eltypes::Bool, rowid::Nothing, truncate::Int64, kwargs::Base.Pairs{Symbol, Union{}, Tuple{}, NamedTuple{(), Tuple{}}})",
      "    @ DataFrames ~/.julia/packages/DataFrames/zqFGs/src/abstractdataframe/show.jl:172",
      "  [9] #show#737",
      "    @ ~/.julia/packages/DataFrames/zqFGs/src/abstractdataframe/show.jl:353 [inlined]",
      " [10] show(io::IOContext{IOBuffer}, df::SubDataFrame{DataFrame, DataFrames.Index, UnitRange{Int64}})",
      "    @ DataFrames ~/.julia/packages/DataFrames/zqFGs/src/abstractdataframe/show.jl:353",
      " [11] #show#752",
      "    @ ~/.julia/packages/DataFrames/zqFGs/src/abstractdataframe/io.jl:138 [inlined]",
      " [12] show",
      "    @ ~/.julia/packages/DataFrames/zqFGs/src/abstractdataframe/io.jl:138 [inlined]",
      " [13] limitstringmime(mime::MIME{Symbol(\"text/plain\")}, x::SubDataFrame{DataFrame, DataFrames.Index, UnitRange{Int64}})",
      "    @ IJulia ~/.julia/packages/IJulia/AQu2H/src/inline.jl:43",
      " [14] display_mimestring",
      "    @ ~/.julia/packages/IJulia/AQu2H/src/display.jl:71 [inlined]",
      " [15] display_dict(x::SubDataFrame{DataFrame, DataFrames.Index, UnitRange{Int64}})",
      "    @ IJulia ~/.julia/packages/IJulia/AQu2H/src/display.jl:102",
      " [16] #invokelatest#2",
      "    @ ./essentials.jl:716 [inlined]",
      " [17] invokelatest",
      "    @ ./essentials.jl:714 [inlined]",
      " [18] execute_request(socket::ZMQ.Socket, msg::IJulia.Msg)",
      "    @ IJulia ~/.julia/packages/IJulia/AQu2H/src/execute_request.jl:112",
      " [19] #invokelatest#2",
      "    @ ./essentials.jl:716 [inlined]",
      " [20] invokelatest",
      "    @ ./essentials.jl:714 [inlined]",
      " [21] eventloop(socket::ZMQ.Socket)",
      "    @ IJulia ~/.julia/packages/IJulia/AQu2H/src/eventloop.jl:8",
      " [22] (::IJulia.var\"#15#18\")()",
      "    @ IJulia ./task.jl:429"
     ]
    }
   ],
   "source": [
    "s # error"
   ]
  },
  {
   "cell_type": "markdown",
   "metadata": {},
   "source": [
    "## Single column selection for `DataFrame` creates aliases with `!` and `getproperty` syntax and copies with `:`"
   ]
  },
  {
   "cell_type": "code",
   "execution_count": 21,
   "metadata": {
    "execution": {
     "iopub.execute_input": "2022-07-18T00:51:38.036000Z",
     "iopub.status.busy": "2022-07-18T00:51:38.036000Z",
     "iopub.status.idle": "2022-07-18T00:51:38.511000Z",
     "shell.execute_reply": "2022-07-18T00:51:38.511000Z"
    }
   },
   "outputs": [
    {
     "data": {
      "text/html": [
       "<div class=\"data-frame\"><p>3 rows × 5 columns</p><table class=\"data-frame\"><thead><tr><th></th><th>a</th><th>b</th><th>c</th><th>d</th><th>e</th></tr><tr><th></th><th title=\"Int64\">Int64</th><th title=\"Int64\">Int64</th><th title=\"Int64\">Int64</th><th title=\"Int64\">Int64</th><th title=\"Int64\">Int64</th></tr></thead><tbody><tr><th>1</th><td>1</td><td>1</td><td>1</td><td>1</td><td>1</td></tr><tr><th>2</th><td>2</td><td>2</td><td>2</td><td>2</td><td>2</td></tr><tr><th>3</th><td>3</td><td>3</td><td>3</td><td>3</td><td>3</td></tr></tbody></table></div>"
      ],
      "text/latex": [
       "\\begin{tabular}{r|ccccc}\n",
       "\t& a & b & c & d & e\\\\\n",
       "\t\\hline\n",
       "\t& Int64 & Int64 & Int64 & Int64 & Int64\\\\\n",
       "\t\\hline\n",
       "\t1 & 1 & 1 & 1 & 1 & 1 \\\\\n",
       "\t2 & 2 & 2 & 2 & 2 & 2 \\\\\n",
       "\t3 & 3 & 3 & 3 & 3 & 3 \\\\\n",
       "\\end{tabular}\n"
      ],
      "text/plain": [
       "\u001b[1m3×5 DataFrame\u001b[0m\n",
       "\u001b[1m Row \u001b[0m│\u001b[1m a     \u001b[0m\u001b[1m b     \u001b[0m\u001b[1m c     \u001b[0m\u001b[1m d     \u001b[0m\u001b[1m e     \u001b[0m\n",
       "\u001b[1m     \u001b[0m│\u001b[90m Int64 \u001b[0m\u001b[90m Int64 \u001b[0m\u001b[90m Int64 \u001b[0m\u001b[90m Int64 \u001b[0m\u001b[90m Int64 \u001b[0m\n",
       "─────┼───────────────────────────────────\n",
       "   1 │     1      1      1      1      1\n",
       "   2 │     2      2      2      2      2\n",
       "   3 │     3      3      3      3      3"
      ]
     },
     "metadata": {},
     "output_type": "display_data"
    },
    {
     "data": {
      "text/html": [
       "<div class=\"data-frame\"><p>3 rows × 5 columns</p><table class=\"data-frame\"><thead><tr><th></th><th>a</th><th>b</th><th>c</th><th>d</th><th>e</th></tr><tr><th></th><th title=\"Int64\">Int64</th><th title=\"Int64\">Int64</th><th title=\"Int64\">Int64</th><th title=\"Int64\">Int64</th><th title=\"Int64\">Int64</th></tr></thead><tbody><tr><th>1</th><td>100</td><td>100</td><td>1</td><td>1</td><td>1</td></tr><tr><th>2</th><td>2</td><td>2</td><td>2</td><td>2</td><td>2</td></tr><tr><th>3</th><td>3</td><td>3</td><td>3</td><td>3</td><td>3</td></tr></tbody></table></div>"
      ],
      "text/latex": [
       "\\begin{tabular}{r|ccccc}\n",
       "\t& a & b & c & d & e\\\\\n",
       "\t\\hline\n",
       "\t& Int64 & Int64 & Int64 & Int64 & Int64\\\\\n",
       "\t\\hline\n",
       "\t1 & 100 & 100 & 1 & 1 & 1 \\\\\n",
       "\t2 & 2 & 2 & 2 & 2 & 2 \\\\\n",
       "\t3 & 3 & 3 & 3 & 3 & 3 \\\\\n",
       "\\end{tabular}\n"
      ],
      "text/plain": [
       "\u001b[1m3×5 DataFrame\u001b[0m\n",
       "\u001b[1m Row \u001b[0m│\u001b[1m a     \u001b[0m\u001b[1m b     \u001b[0m\u001b[1m c     \u001b[0m\u001b[1m d     \u001b[0m\u001b[1m e     \u001b[0m\n",
       "\u001b[1m     \u001b[0m│\u001b[90m Int64 \u001b[0m\u001b[90m Int64 \u001b[0m\u001b[90m Int64 \u001b[0m\u001b[90m Int64 \u001b[0m\u001b[90m Int64 \u001b[0m\n",
       "─────┼───────────────────────────────────\n",
       "   1 │   100    100      1      1      1\n",
       "   2 │     2      2      2      2      2\n",
       "   3 │     3      3      3      3      3"
      ]
     },
     "metadata": {},
     "output_type": "display_data"
    }
   ],
   "source": [
    "x = DataFrame(a=1:3)\n",
    "x.b = x[!, 1] # alias\n",
    "x.c = x[:, 1] # copy\n",
    "x.d = x[!, 1][:] # copy\n",
    "x.e = copy(x[!, 1]) # explicit copy\n",
    "display(x)\n",
    "x[1,1] = 100\n",
    "display(x)"
   ]
  },
  {
   "cell_type": "markdown",
   "metadata": {},
   "source": [
    "## When iterating rows of a data frame \n",
    "\n",
    "- use `eachrow` to avoid compilation cost (wide tables), \n",
    "- but `Tables.namedtupleiterator` for fast execution (tall tables)"
   ]
  },
  {
   "cell_type": "markdown",
   "metadata": {},
   "source": [
    "this table is wide"
   ]
  },
  {
   "cell_type": "code",
   "execution_count": 22,
   "metadata": {
    "execution": {
     "iopub.execute_input": "2022-07-18T00:51:38.514000Z",
     "iopub.status.busy": "2022-07-18T00:51:38.514000Z",
     "iopub.status.idle": "2022-07-18T00:51:39.308000Z",
     "shell.execute_reply": "2022-07-18T00:51:39.308000Z"
    }
   },
   "outputs": [
    {
     "data": {
      "text/html": [
       "<div class=\"data-frame\"><p>2 rows × 900 columns (omitted printing of 888 columns)</p><table class=\"data-frame\"><thead><tr><th></th><th>x1</th><th>x2</th><th>x3</th><th>x4</th><th>x5</th><th>x6</th><th>x7</th><th>x8</th><th>x9</th><th>x10</th><th>x11</th><th>x12</th></tr><tr><th></th><th title=\"Char\">Char</th><th title=\"Bool\">Bool</th><th title=\"Float64\">Float64</th><th title=\"Float64\">Float64</th><th title=\"Char\">Char</th><th title=\"Char\">Char</th><th title=\"Int64\">Int64</th><th title=\"Bool\">Bool</th><th title=\"Int64\">Int64</th><th title=\"Bool\">Bool</th><th title=\"Float64\">Float64</th><th title=\"Bool\">Bool</th></tr></thead><tbody><tr><th>1</th><td>a</td><td>0</td><td>1.0</td><td>1.0</td><td>a</td><td>a</td><td>1</td><td>0</td><td>1</td><td>0</td><td>1.0</td><td>0</td></tr><tr><th>2</th><td>b</td><td>1</td><td>2.0</td><td>2.0</td><td>b</td><td>b</td><td>2</td><td>1</td><td>2</td><td>1</td><td>2.0</td><td>1</td></tr></tbody></table></div>"
      ],
      "text/latex": [
       "\\begin{tabular}{r|ccccccccccccc}\n",
       "\t& x1 & x2 & x3 & x4 & x5 & x6 & x7 & x8 & x9 & x10 & x11 & x12 & \\\\\n",
       "\t\\hline\n",
       "\t& Char & Bool & Float64 & Float64 & Char & Char & Int64 & Bool & Int64 & Bool & Float64 & Bool & \\\\\n",
       "\t\\hline\n",
       "\t1 & a & 0 & 1.0 & 1.0 & a & a & 1 & 0 & 1 & 0 & 1.0 & 0 & $\\dots$ \\\\\n",
       "\t2 & b & 1 & 2.0 & 2.0 & b & b & 2 & 1 & 2 & 1 & 2.0 & 1 & $\\dots$ \\\\\n",
       "\\end{tabular}\n"
      ],
      "text/plain": [
       "\u001b[1m2×900 DataFrame\u001b[0m\n",
       "\u001b[1m Row \u001b[0m│\u001b[1m x1   \u001b[0m\u001b[1m x2    \u001b[0m\u001b[1m x3      \u001b[0m\u001b[1m x4      \u001b[0m\u001b[1m x5   \u001b[0m\u001b[1m x6   \u001b[0m\u001b[1m x7    \u001b[0m\u001b[1m x8    \u001b[0m\u001b[1m x9    \u001b[0m\u001b[1m x10   \u001b[0m\u001b[1m \u001b[0m ⋯\n",
       "\u001b[1m     \u001b[0m│\u001b[90m Char \u001b[0m\u001b[90m Bool  \u001b[0m\u001b[90m Float64 \u001b[0m\u001b[90m Float64 \u001b[0m\u001b[90m Char \u001b[0m\u001b[90m Char \u001b[0m\u001b[90m Int64 \u001b[0m\u001b[90m Bool  \u001b[0m\u001b[90m Int64 \u001b[0m\u001b[90m Bool  \u001b[0m\u001b[90m \u001b[0m ⋯\n",
       "─────┼──────────────────────────────────────────────────────────────────────────\n",
       "   1 │ a     false      1.0      1.0  a     a         1  false      1  false   ⋯\n",
       "   2 │ b      true      2.0      2.0  b     b         2   true      2   true\n",
       "\u001b[36m                                                             890 columns omitted\u001b[0m"
      ]
     },
     "execution_count": 22,
     "metadata": {},
     "output_type": "execute_result"
    }
   ],
   "source": [
    "df1 = DataFrame([rand([1:2, 'a':'b', false:true, 1.0:2.0]) for i in 1:900], :auto)"
   ]
  },
  {
   "cell_type": "code",
   "execution_count": 23,
   "metadata": {
    "execution": {
     "iopub.execute_input": "2022-07-18T00:51:39.311000Z",
     "iopub.status.busy": "2022-07-18T00:51:39.311000Z",
     "iopub.status.idle": "2022-07-18T00:51:42.261000Z",
     "shell.execute_reply": "2022-07-18T00:51:42.261000Z"
    }
   },
   "outputs": [
    {
     "name": "stdout",
     "output_type": "stream",
     "text": [
      "  0.054688 seconds (86.08 k allocations: 4.747 MiB, 99.92% compilation time)\n"
     ]
    },
    {
     "data": {
      "text/plain": [
       "2-element Vector{DataFrameRow}:\n",
       " \u001b[1mDataFrameRow\u001b[0m\n",
       "\u001b[1m Row \u001b[0m│\u001b[1m x1   \u001b[0m\u001b[1m x2    \u001b[0m\u001b[1m x3      \u001b[0m\u001b[1m x4      \u001b[0m\u001b[1m x5   \u001b[0m\u001b[1m x6   \u001b[0m\u001b[1m x7    \u001b[0m\u001b[1m x8    \u001b[0m\u001b[1m x9    \u001b[0m\u001b[1m x10   \u001b[0m\u001b[1m \u001b[0m ⋯\n",
       "\u001b[1m     \u001b[0m│\u001b[90m Char \u001b[0m\u001b[90m Bool  \u001b[0m\u001b[90m Float64 \u001b[0m\u001b[90m Float64 \u001b[0m\u001b[90m Char \u001b[0m\u001b[90m Char \u001b[0m\u001b[90m Int64 \u001b[0m\u001b[90m Bool  \u001b[0m\u001b[90m Int64 \u001b[0m\u001b[90m Bool  \u001b[0m\u001b[90m \u001b[0m ⋯\n",
       "─────┼──────────────────────────────────────────────────────────────────────────\n",
       "   1 │ a     false      1.0      1.0  a     a         1  false      1  false   ⋯\n",
       "\u001b[36m                                                             890 columns omitted\u001b[0m\n",
       " \u001b[1mDataFrameRow\u001b[0m\n",
       "\u001b[1m Row \u001b[0m│\u001b[1m x1   \u001b[0m\u001b[1m x2   \u001b[0m\u001b[1m x3      \u001b[0m\u001b[1m x4      \u001b[0m\u001b[1m x5   \u001b[0m\u001b[1m x6   \u001b[0m\u001b[1m x7    \u001b[0m\u001b[1m x8   \u001b[0m\u001b[1m x9    \u001b[0m\u001b[1m x10  \u001b[0m\u001b[1m x11\u001b[0m ⋯\n",
       "\u001b[1m     \u001b[0m│\u001b[90m Char \u001b[0m\u001b[90m Bool \u001b[0m\u001b[90m Float64 \u001b[0m\u001b[90m Float64 \u001b[0m\u001b[90m Char \u001b[0m\u001b[90m Char \u001b[0m\u001b[90m Int64 \u001b[0m\u001b[90m Bool \u001b[0m\u001b[90m Int64 \u001b[0m\u001b[90m Bool \u001b[0m\u001b[90m Flo\u001b[0m ⋯\n",
       "─────┼──────────────────────────────────────────────────────────────────────────\n",
       "   2 │ b     true      2.0      2.0  b     b         2  true      2  true      ⋯\n",
       "\u001b[36m                                                             890 columns omitted\u001b[0m"
      ]
     },
     "execution_count": 23,
     "metadata": {},
     "output_type": "execute_result"
    }
   ],
   "source": [
    "@time collect(eachrow(df1))"
   ]
  },
  {
   "cell_type": "code",
   "execution_count": 24,
   "metadata": {
    "execution": {
     "iopub.execute_input": "2022-07-18T00:51:42.264000Z",
     "iopub.status.busy": "2022-07-18T00:51:42.264000Z",
     "iopub.status.idle": "2022-07-18T00:51:54.316000Z",
     "shell.execute_reply": "2022-07-18T00:51:54.316000Z"
    }
   },
   "outputs": [
    {
     "name": "stdout",
     "output_type": "stream",
     "text": [
      " 12.036778 seconds (2.53 M allocations: 160.368 MiB, 0.69% gc time, 99.92% compilation time)\n"
     ]
    }
   ],
   "source": [
    "@time collect(Tables.namedtupleiterator(df1));"
   ]
  },
  {
   "cell_type": "markdown",
   "metadata": {},
   "source": [
    "as you can see the time to compile `Tables.namedtupleiterator` is very large in this case, and it would get much worse if the table was wider (that is why we include this tip in pitfalls notebook)"
   ]
  },
  {
   "cell_type": "markdown",
   "metadata": {},
   "source": [
    "the table below is tall"
   ]
  },
  {
   "cell_type": "code",
   "execution_count": 25,
   "metadata": {
    "execution": {
     "iopub.execute_input": "2022-07-18T00:51:54.319000Z",
     "iopub.status.busy": "2022-07-18T00:51:54.319000Z",
     "iopub.status.idle": "2022-07-18T00:51:54.441000Z",
     "shell.execute_reply": "2022-07-18T00:51:54.441000Z"
    }
   },
   "outputs": [
    {
     "data": {
      "text/html": [
       "<div class=\"data-frame\"><p>1,000,000 rows × 10 columns (omitted printing of 2 columns)</p><table class=\"data-frame\"><thead><tr><th></th><th>x1</th><th>x2</th><th>x3</th><th>x4</th><th>x5</th><th>x6</th><th>x7</th><th>x8</th></tr><tr><th></th><th title=\"Float64\">Float64</th><th title=\"Float64\">Float64</th><th title=\"Float64\">Float64</th><th title=\"Float64\">Float64</th><th title=\"Float64\">Float64</th><th title=\"Float64\">Float64</th><th title=\"Float64\">Float64</th><th title=\"Float64\">Float64</th></tr></thead><tbody><tr><th>1</th><td>0.645921</td><td>0.491887</td><td>0.389992</td><td>0.228953</td><td>0.654484</td><td>0.948857</td><td>0.581677</td><td>0.0193141</td></tr><tr><th>2</th><td>0.118609</td><td>0.368878</td><td>0.980045</td><td>0.587752</td><td>0.909204</td><td>0.907201</td><td>0.900109</td><td>0.59192</td></tr><tr><th>3</th><td>0.169184</td><td>0.344385</td><td>0.668348</td><td>0.480096</td><td>0.890114</td><td>0.0845076</td><td>0.0166872</td><td>0.321769</td></tr><tr><th>4</th><td>0.241078</td><td>0.916109</td><td>0.439923</td><td>0.876351</td><td>0.436529</td><td>0.465807</td><td>0.830802</td><td>0.109801</td></tr><tr><th>5</th><td>0.778605</td><td>0.365662</td><td>0.544145</td><td>0.188905</td><td>0.191452</td><td>0.30328</td><td>0.586022</td><td>0.127979</td></tr><tr><th>6</th><td>0.911988</td><td>0.767918</td><td>0.936312</td><td>0.730067</td><td>0.831546</td><td>0.841071</td><td>0.835001</td><td>0.0632923</td></tr><tr><th>7</th><td>0.668706</td><td>0.55897</td><td>0.663811</td><td>0.182541</td><td>0.95669</td><td>0.78937</td><td>0.258726</td><td>0.938542</td></tr><tr><th>8</th><td>0.935811</td><td>0.335218</td><td>0.729323</td><td>0.79415</td><td>0.411703</td><td>0.487489</td><td>0.0656464</td><td>0.426007</td></tr><tr><th>9</th><td>0.442173</td><td>0.310678</td><td>0.213951</td><td>0.00452081</td><td>0.352958</td><td>0.872389</td><td>0.458232</td><td>0.0962693</td></tr><tr><th>10</th><td>0.726673</td><td>0.773645</td><td>0.953159</td><td>0.624539</td><td>0.264796</td><td>0.00210201</td><td>0.653499</td><td>0.0157098</td></tr><tr><th>11</th><td>0.046891</td><td>0.502946</td><td>0.963178</td><td>0.71773</td><td>0.354135</td><td>0.956655</td><td>0.993757</td><td>0.212947</td></tr><tr><th>12</th><td>0.599237</td><td>0.518882</td><td>0.921542</td><td>0.787203</td><td>0.492592</td><td>0.785985</td><td>0.134336</td><td>0.00913773</td></tr><tr><th>13</th><td>0.716512</td><td>0.936087</td><td>0.937548</td><td>0.311575</td><td>0.617203</td><td>0.39279</td><td>0.889169</td><td>0.532063</td></tr><tr><th>14</th><td>0.107486</td><td>0.0145155</td><td>0.163618</td><td>0.562416</td><td>0.0547508</td><td>0.435703</td><td>0.632737</td><td>0.863746</td></tr><tr><th>15</th><td>0.659664</td><td>0.704509</td><td>0.92007</td><td>0.147672</td><td>0.366539</td><td>0.011212</td><td>0.243596</td><td>0.802634</td></tr><tr><th>16</th><td>0.52944</td><td>0.167899</td><td>0.107044</td><td>0.97909</td><td>0.843473</td><td>0.554448</td><td>0.837361</td><td>0.190463</td></tr><tr><th>17</th><td>0.952554</td><td>0.486518</td><td>0.788952</td><td>0.250643</td><td>0.487263</td><td>0.854123</td><td>0.642234</td><td>0.342542</td></tr><tr><th>18</th><td>0.786387</td><td>0.398101</td><td>0.542703</td><td>0.507493</td><td>0.183178</td><td>0.188148</td><td>0.825812</td><td>0.704878</td></tr><tr><th>19</th><td>0.284457</td><td>0.899611</td><td>0.903959</td><td>0.848365</td><td>0.024264</td><td>0.519501</td><td>0.88795</td><td>0.272359</td></tr><tr><th>20</th><td>0.198008</td><td>0.734183</td><td>0.48452</td><td>0.65079</td><td>0.720299</td><td>0.827277</td><td>0.538476</td><td>0.498344</td></tr><tr><th>21</th><td>0.0756742</td><td>0.142437</td><td>0.648634</td><td>0.699018</td><td>0.0934417</td><td>0.621507</td><td>0.0125675</td><td>0.3421</td></tr><tr><th>22</th><td>0.256522</td><td>0.935995</td><td>0.0502429</td><td>0.109561</td><td>0.441888</td><td>0.243157</td><td>0.764159</td><td>0.881011</td></tr><tr><th>23</th><td>0.737451</td><td>0.841818</td><td>0.927732</td><td>0.0450841</td><td>0.536566</td><td>0.139718</td><td>0.106962</td><td>0.693149</td></tr><tr><th>24</th><td>0.506534</td><td>0.976168</td><td>0.336033</td><td>0.771196</td><td>0.0425035</td><td>0.588113</td><td>0.564099</td><td>0.498503</td></tr><tr><th>25</th><td>0.504096</td><td>0.680875</td><td>0.826658</td><td>0.142039</td><td>0.879474</td><td>0.204813</td><td>0.378905</td><td>0.592586</td></tr><tr><th>26</th><td>0.270848</td><td>0.812268</td><td>0.597422</td><td>0.145975</td><td>0.709578</td><td>0.915783</td><td>0.0152823</td><td>0.919308</td></tr><tr><th>27</th><td>0.935106</td><td>0.817663</td><td>0.428786</td><td>0.848016</td><td>0.0321593</td><td>0.250729</td><td>0.80271</td><td>0.625737</td></tr><tr><th>28</th><td>0.0120714</td><td>0.580692</td><td>0.937008</td><td>0.425792</td><td>0.899739</td><td>0.0387843</td><td>0.0571806</td><td>0.514857</td></tr><tr><th>29</th><td>0.316299</td><td>0.111216</td><td>0.0667185</td><td>0.567589</td><td>0.567519</td><td>0.141087</td><td>0.904584</td><td>0.760883</td></tr><tr><th>30</th><td>0.778474</td><td>0.222674</td><td>0.0146566</td><td>0.0216054</td><td>0.897392</td><td>0.731576</td><td>0.277265</td><td>0.136753</td></tr><tr><th>&vellip;</th><td>&vellip;</td><td>&vellip;</td><td>&vellip;</td><td>&vellip;</td><td>&vellip;</td><td>&vellip;</td><td>&vellip;</td><td>&vellip;</td></tr></tbody></table></div>"
      ],
      "text/latex": [
       "\\begin{tabular}{r|ccccccccc}\n",
       "\t& x1 & x2 & x3 & x4 & x5 & x6 & x7 & x8 & \\\\\n",
       "\t\\hline\n",
       "\t& Float64 & Float64 & Float64 & Float64 & Float64 & Float64 & Float64 & Float64 & \\\\\n",
       "\t\\hline\n",
       "\t1 & 0.645921 & 0.491887 & 0.389992 & 0.228953 & 0.654484 & 0.948857 & 0.581677 & 0.0193141 & $\\dots$ \\\\\n",
       "\t2 & 0.118609 & 0.368878 & 0.980045 & 0.587752 & 0.909204 & 0.907201 & 0.900109 & 0.59192 & $\\dots$ \\\\\n",
       "\t3 & 0.169184 & 0.344385 & 0.668348 & 0.480096 & 0.890114 & 0.0845076 & 0.0166872 & 0.321769 & $\\dots$ \\\\\n",
       "\t4 & 0.241078 & 0.916109 & 0.439923 & 0.876351 & 0.436529 & 0.465807 & 0.830802 & 0.109801 & $\\dots$ \\\\\n",
       "\t5 & 0.778605 & 0.365662 & 0.544145 & 0.188905 & 0.191452 & 0.30328 & 0.586022 & 0.127979 & $\\dots$ \\\\\n",
       "\t6 & 0.911988 & 0.767918 & 0.936312 & 0.730067 & 0.831546 & 0.841071 & 0.835001 & 0.0632923 & $\\dots$ \\\\\n",
       "\t7 & 0.668706 & 0.55897 & 0.663811 & 0.182541 & 0.95669 & 0.78937 & 0.258726 & 0.938542 & $\\dots$ \\\\\n",
       "\t8 & 0.935811 & 0.335218 & 0.729323 & 0.79415 & 0.411703 & 0.487489 & 0.0656464 & 0.426007 & $\\dots$ \\\\\n",
       "\t9 & 0.442173 & 0.310678 & 0.213951 & 0.00452081 & 0.352958 & 0.872389 & 0.458232 & 0.0962693 & $\\dots$ \\\\\n",
       "\t10 & 0.726673 & 0.773645 & 0.953159 & 0.624539 & 0.264796 & 0.00210201 & 0.653499 & 0.0157098 & $\\dots$ \\\\\n",
       "\t11 & 0.046891 & 0.502946 & 0.963178 & 0.71773 & 0.354135 & 0.956655 & 0.993757 & 0.212947 & $\\dots$ \\\\\n",
       "\t12 & 0.599237 & 0.518882 & 0.921542 & 0.787203 & 0.492592 & 0.785985 & 0.134336 & 0.00913773 & $\\dots$ \\\\\n",
       "\t13 & 0.716512 & 0.936087 & 0.937548 & 0.311575 & 0.617203 & 0.39279 & 0.889169 & 0.532063 & $\\dots$ \\\\\n",
       "\t14 & 0.107486 & 0.0145155 & 0.163618 & 0.562416 & 0.0547508 & 0.435703 & 0.632737 & 0.863746 & $\\dots$ \\\\\n",
       "\t15 & 0.659664 & 0.704509 & 0.92007 & 0.147672 & 0.366539 & 0.011212 & 0.243596 & 0.802634 & $\\dots$ \\\\\n",
       "\t16 & 0.52944 & 0.167899 & 0.107044 & 0.97909 & 0.843473 & 0.554448 & 0.837361 & 0.190463 & $\\dots$ \\\\\n",
       "\t17 & 0.952554 & 0.486518 & 0.788952 & 0.250643 & 0.487263 & 0.854123 & 0.642234 & 0.342542 & $\\dots$ \\\\\n",
       "\t18 & 0.786387 & 0.398101 & 0.542703 & 0.507493 & 0.183178 & 0.188148 & 0.825812 & 0.704878 & $\\dots$ \\\\\n",
       "\t19 & 0.284457 & 0.899611 & 0.903959 & 0.848365 & 0.024264 & 0.519501 & 0.88795 & 0.272359 & $\\dots$ \\\\\n",
       "\t20 & 0.198008 & 0.734183 & 0.48452 & 0.65079 & 0.720299 & 0.827277 & 0.538476 & 0.498344 & $\\dots$ \\\\\n",
       "\t21 & 0.0756742 & 0.142437 & 0.648634 & 0.699018 & 0.0934417 & 0.621507 & 0.0125675 & 0.3421 & $\\dots$ \\\\\n",
       "\t22 & 0.256522 & 0.935995 & 0.0502429 & 0.109561 & 0.441888 & 0.243157 & 0.764159 & 0.881011 & $\\dots$ \\\\\n",
       "\t23 & 0.737451 & 0.841818 & 0.927732 & 0.0450841 & 0.536566 & 0.139718 & 0.106962 & 0.693149 & $\\dots$ \\\\\n",
       "\t24 & 0.506534 & 0.976168 & 0.336033 & 0.771196 & 0.0425035 & 0.588113 & 0.564099 & 0.498503 & $\\dots$ \\\\\n",
       "\t25 & 0.504096 & 0.680875 & 0.826658 & 0.142039 & 0.879474 & 0.204813 & 0.378905 & 0.592586 & $\\dots$ \\\\\n",
       "\t26 & 0.270848 & 0.812268 & 0.597422 & 0.145975 & 0.709578 & 0.915783 & 0.0152823 & 0.919308 & $\\dots$ \\\\\n",
       "\t27 & 0.935106 & 0.817663 & 0.428786 & 0.848016 & 0.0321593 & 0.250729 & 0.80271 & 0.625737 & $\\dots$ \\\\\n",
       "\t28 & 0.0120714 & 0.580692 & 0.937008 & 0.425792 & 0.899739 & 0.0387843 & 0.0571806 & 0.514857 & $\\dots$ \\\\\n",
       "\t29 & 0.316299 & 0.111216 & 0.0667185 & 0.567589 & 0.567519 & 0.141087 & 0.904584 & 0.760883 & $\\dots$ \\\\\n",
       "\t30 & 0.778474 & 0.222674 & 0.0146566 & 0.0216054 & 0.897392 & 0.731576 & 0.277265 & 0.136753 & $\\dots$ \\\\\n",
       "\t$\\dots$ & $\\dots$ & $\\dots$ & $\\dots$ & $\\dots$ & $\\dots$ & $\\dots$ & $\\dots$ & $\\dots$ &  \\\\\n",
       "\\end{tabular}\n"
      ],
      "text/plain": [
       "\u001b[1m1000000×10 DataFrame\u001b[0m\n",
       "\u001b[1m     Row \u001b[0m│\u001b[1m x1        \u001b[0m\u001b[1m x2        \u001b[0m\u001b[1m x3        \u001b[0m\u001b[1m x4         \u001b[0m\u001b[1m x5         \u001b[0m\u001b[1m x6        \u001b[0m ⋯\n",
       "\u001b[1m         \u001b[0m│\u001b[90m Float64   \u001b[0m\u001b[90m Float64   \u001b[0m\u001b[90m Float64   \u001b[0m\u001b[90m Float64    \u001b[0m\u001b[90m Float64    \u001b[0m\u001b[90m Float64   \u001b[0m ⋯\n",
       "─────────┼──────────────────────────────────────────────────────────────────────\n",
       "       1 │ 0.645921   0.491887   0.389992   0.228953    0.654484    0.948857   ⋯\n",
       "       2 │ 0.118609   0.368878   0.980045   0.587752    0.909204    0.907201\n",
       "       3 │ 0.169184   0.344385   0.668348   0.480096    0.890114    0.0845076\n",
       "       4 │ 0.241078   0.916109   0.439923   0.876351    0.436529    0.465807\n",
       "       5 │ 0.778605   0.365662   0.544145   0.188905    0.191452    0.30328    ⋯\n",
       "       6 │ 0.911988   0.767918   0.936312   0.730067    0.831546    0.841071\n",
       "       7 │ 0.668706   0.55897    0.663811   0.182541    0.95669     0.78937\n",
       "       8 │ 0.935811   0.335218   0.729323   0.79415     0.411703    0.487489\n",
       "       9 │ 0.442173   0.310678   0.213951   0.00452081  0.352958    0.872389   ⋯\n",
       "      10 │ 0.726673   0.773645   0.953159   0.624539    0.264796    0.00210201\n",
       "      11 │ 0.046891   0.502946   0.963178   0.71773     0.354135    0.956655\n",
       "    ⋮    │     ⋮          ⋮          ⋮          ⋮           ⋮           ⋮      ⋱\n",
       "  999991 │ 0.653017   0.528035   0.631359   0.449596    0.558012    0.548935\n",
       "  999992 │ 0.274801   0.0237129  0.713654   0.305905    0.647557    0.424396   ⋯\n",
       "  999993 │ 0.12401    0.715704   0.835337   0.0781835   0.662734    0.180163\n",
       "  999994 │ 0.391027   0.290762   0.0685963  0.57012     0.00761442  0.762174\n",
       "  999995 │ 0.0363532  0.461621   0.464875   0.64368     0.327201    0.518157\n",
       "  999996 │ 0.833186   0.50747    0.560255   0.437265    0.371151    0.851049   ⋯\n",
       "  999997 │ 0.436011   0.905951   0.963322   0.751816    0.787955    0.472461\n",
       "  999998 │ 0.461916   0.932959   0.72252    0.401716    0.0996697   0.104473\n",
       "  999999 │ 0.95612    0.0940087  0.08685    0.0561576   0.738392    0.737949\n",
       " 1000000 │ 0.190681   0.930832   0.707229   0.654798    0.361889    0.817835   ⋯\n",
       "\u001b[36m                                               4 columns and 999979 rows omitted\u001b[0m"
      ]
     },
     "execution_count": 25,
     "metadata": {},
     "output_type": "execute_result"
    }
   ],
   "source": [
    "df2 = DataFrame(rand(10^6, 10), :auto)"
   ]
  },
  {
   "cell_type": "code",
   "execution_count": 26,
   "metadata": {
    "execution": {
     "iopub.execute_input": "2022-07-18T00:51:54.445000Z",
     "iopub.status.busy": "2022-07-18T00:51:54.445000Z",
     "iopub.status.idle": "2022-07-18T00:52:00.502000Z",
     "shell.execute_reply": "2022-07-18T00:52:00.502000Z"
    }
   },
   "outputs": [
    {
     "name": "stdout",
     "output_type": "stream",
     "text": [
      "  4.332456 seconds (60.19 M allocations: 1.061 GiB, 12.51% gc time, 2.66% compilation time)\n"
     ]
    },
    {
     "data": {
      "text/plain": [
       "1000000-element Vector{Float64}:\n",
       " 5.232411779775741\n",
       " 6.027783651517928\n",
       " 4.009419962874653\n",
       " 5.03823050700658\n",
       " 4.413149060902737\n",
       " 7.128282987803032\n",
       " 6.098800005138575\n",
       " 5.383892749790318\n",
       " 4.06348101185808\n",
       " 5.174425492450083\n",
       " 5.457695281098244\n",
       " 5.309960192944014\n",
       " 6.382438499807212\n",
       " ⋮\n",
       " 5.501632296667598\n",
       " 6.318108405565564\n",
       " 5.625675913657931\n",
       " 4.3682926922091765\n",
       " 5.108101619554987\n",
       " 4.310174474396364\n",
       " 4.752829000387278\n",
       " 5.129459228916927\n",
       " 4.9650116172529035\n",
       " 5.316763267689454\n",
       " 3.6612234918781033\n",
       " 4.924316432677755"
      ]
     },
     "execution_count": 26,
     "metadata": {},
     "output_type": "execute_result"
    }
   ],
   "source": [
    "@time map(sum, eachrow(df2))"
   ]
  },
  {
   "cell_type": "code",
   "execution_count": 27,
   "metadata": {
    "execution": {
     "iopub.execute_input": "2022-07-18T00:52:00.505000Z",
     "iopub.status.busy": "2022-07-18T00:52:00.505000Z",
     "iopub.status.idle": "2022-07-18T00:52:04.595000Z",
     "shell.execute_reply": "2022-07-18T00:52:04.595000Z"
    }
   },
   "outputs": [
    {
     "name": "stdout",
     "output_type": "stream",
     "text": [
      "  3.996981 seconds (59.99 M allocations: 1.050 GiB, 5.63% gc time)\n"
     ]
    },
    {
     "data": {
      "text/plain": [
       "1000000-element Vector{Float64}:\n",
       " 5.232411779775741\n",
       " 6.027783651517928\n",
       " 4.009419962874653\n",
       " 5.03823050700658\n",
       " 4.413149060902737\n",
       " 7.128282987803032\n",
       " 6.098800005138575\n",
       " 5.383892749790318\n",
       " 4.06348101185808\n",
       " 5.174425492450083\n",
       " 5.457695281098244\n",
       " 5.309960192944014\n",
       " 6.382438499807212\n",
       " ⋮\n",
       " 5.501632296667598\n",
       " 6.318108405565564\n",
       " 5.625675913657931\n",
       " 4.3682926922091765\n",
       " 5.108101619554987\n",
       " 4.310174474396364\n",
       " 4.752829000387278\n",
       " 5.129459228916927\n",
       " 4.9650116172529035\n",
       " 5.316763267689454\n",
       " 3.6612234918781033\n",
       " 4.924316432677755"
      ]
     },
     "execution_count": 27,
     "metadata": {},
     "output_type": "execute_result"
    }
   ],
   "source": [
    "@time map(sum, eachrow(df2))"
   ]
  },
  {
   "cell_type": "code",
   "execution_count": 28,
   "metadata": {
    "execution": {
     "iopub.execute_input": "2022-07-18T00:52:04.598000Z",
     "iopub.status.busy": "2022-07-18T00:52:04.598000Z",
     "iopub.status.idle": "2022-07-18T00:52:05.391000Z",
     "shell.execute_reply": "2022-07-18T00:52:05.391000Z"
    }
   },
   "outputs": [
    {
     "name": "stdout",
     "output_type": "stream",
     "text": [
      "  0.766770 seconds (500.50 k allocations: 35.528 MiB, 90.22% compilation time)\n"
     ]
    },
    {
     "data": {
      "text/plain": [
       "1000000-element Vector{Float64}:\n",
       " 5.232411779775741\n",
       " 6.027783651517928\n",
       " 4.009419962874653\n",
       " 5.03823050700658\n",
       " 4.413149060902737\n",
       " 7.128282987803032\n",
       " 6.098800005138575\n",
       " 5.383892749790318\n",
       " 4.06348101185808\n",
       " 5.174425492450083\n",
       " 5.457695281098244\n",
       " 5.309960192944014\n",
       " 6.382438499807212\n",
       " ⋮\n",
       " 5.501632296667598\n",
       " 6.318108405565564\n",
       " 5.625675913657931\n",
       " 4.3682926922091765\n",
       " 5.108101619554987\n",
       " 4.310174474396364\n",
       " 4.752829000387278\n",
       " 5.129459228916927\n",
       " 4.9650116172529035\n",
       " 5.316763267689454\n",
       " 3.6612234918781033\n",
       " 4.924316432677755"
      ]
     },
     "execution_count": 28,
     "metadata": {},
     "output_type": "execute_result"
    }
   ],
   "source": [
    "@time map(sum, Tables.namedtupleiterator(df2))"
   ]
  },
  {
   "cell_type": "code",
   "execution_count": 29,
   "metadata": {
    "execution": {
     "iopub.execute_input": "2022-07-18T00:52:05.395000Z",
     "iopub.status.busy": "2022-07-18T00:52:05.395000Z",
     "iopub.status.idle": "2022-07-18T00:52:05.521000Z",
     "shell.execute_reply": "2022-07-18T00:52:05.521000Z"
    }
   },
   "outputs": [
    {
     "name": "stdout",
     "output_type": "stream",
     "text": [
      "  0.073676 seconds (13 allocations: 7.630 MiB)\n"
     ]
    },
    {
     "data": {
      "text/plain": [
       "1000000-element Vector{Float64}:\n",
       " 5.232411779775741\n",
       " 6.027783651517928\n",
       " 4.009419962874653\n",
       " 5.03823050700658\n",
       " 4.413149060902737\n",
       " 7.128282987803032\n",
       " 6.098800005138575\n",
       " 5.383892749790318\n",
       " 4.06348101185808\n",
       " 5.174425492450083\n",
       " 5.457695281098244\n",
       " 5.309960192944014\n",
       " 6.382438499807212\n",
       " ⋮\n",
       " 5.501632296667598\n",
       " 6.318108405565564\n",
       " 5.625675913657931\n",
       " 4.3682926922091765\n",
       " 5.108101619554987\n",
       " 4.310174474396364\n",
       " 4.752829000387278\n",
       " 5.129459228916927\n",
       " 4.9650116172529035\n",
       " 5.316763267689454\n",
       " 3.6612234918781033\n",
       " 4.924316432677755"
      ]
     },
     "execution_count": 29,
     "metadata": {},
     "output_type": "execute_result"
    }
   ],
   "source": [
    "@time map(sum, Tables.namedtupleiterator(df2))"
   ]
  },
  {
   "cell_type": "markdown",
   "metadata": {},
   "source": [
    "as you can see - this time it is much faster to iterate a type stable container"
   ]
  },
  {
   "cell_type": "markdown",
   "metadata": {},
   "source": [
    "still you might want to use the `select` syntax, which is optimized for such reductions:"
   ]
  },
  {
   "cell_type": "code",
   "execution_count": 30,
   "metadata": {
    "execution": {
     "iopub.execute_input": "2022-07-18T00:52:05.589000Z",
     "iopub.status.busy": "2022-07-18T00:52:05.588000Z",
     "iopub.status.idle": "2022-07-18T00:52:07.072000Z",
     "shell.execute_reply": "2022-07-18T00:52:07.072000Z"
    }
   },
   "outputs": [
    {
     "name": "stdout",
     "output_type": "stream",
     "text": [
      "  1.447752 seconds (2.20 M allocations: 136.225 MiB, 2.35% gc time, 99.26% compilation time)\n"
     ]
    },
    {
     "data": {
      "text/plain": [
       "1000000-element Vector{Float64}:\n",
       " 5.232411779775741\n",
       " 6.027783651517928\n",
       " 4.009419962874653\n",
       " 5.03823050700658\n",
       " 4.413149060902737\n",
       " 7.128282987803032\n",
       " 6.098800005138575\n",
       " 5.383892749790318\n",
       " 4.06348101185808\n",
       " 5.174425492450083\n",
       " 5.457695281098244\n",
       " 5.309960192944014\n",
       " 6.382438499807212\n",
       " ⋮\n",
       " 5.501632296667598\n",
       " 6.318108405565564\n",
       " 5.625675913657931\n",
       " 4.3682926922091765\n",
       " 5.108101619554987\n",
       " 4.310174474396364\n",
       " 4.752829000387278\n",
       " 5.129459228916927\n",
       " 4.9650116172529035\n",
       " 5.316763267689454\n",
       " 3.6612234918781033\n",
       " 4.924316432677755"
      ]
     },
     "execution_count": 30,
     "metadata": {},
     "output_type": "execute_result"
    }
   ],
   "source": [
    "@time select(df2, AsTable(:) => ByRow(sum) => \"sum\").sum # this includes compilation time"
   ]
  },
  {
   "cell_type": "code",
   "execution_count": 31,
   "metadata": {
    "execution": {
     "iopub.execute_input": "2022-07-18T00:52:07.075000Z",
     "iopub.status.busy": "2022-07-18T00:52:07.075000Z",
     "iopub.status.idle": "2022-07-18T00:52:07.107000Z",
     "shell.execute_reply": "2022-07-18T00:52:07.107000Z"
    }
   },
   "outputs": [
    {
     "name": "stdout",
     "output_type": "stream",
     "text": [
      "  0.009120 seconds (153 allocations: 7.637 MiB)\n"
     ]
    },
    {
     "data": {
      "text/plain": [
       "1000000-element Vector{Float64}:\n",
       " 5.232411779775741\n",
       " 6.027783651517928\n",
       " 4.009419962874653\n",
       " 5.03823050700658\n",
       " 4.413149060902737\n",
       " 7.128282987803032\n",
       " 6.098800005138575\n",
       " 5.383892749790318\n",
       " 4.06348101185808\n",
       " 5.174425492450083\n",
       " 5.457695281098244\n",
       " 5.309960192944014\n",
       " 6.382438499807212\n",
       " ⋮\n",
       " 5.501632296667598\n",
       " 6.318108405565564\n",
       " 5.625675913657931\n",
       " 4.3682926922091765\n",
       " 5.108101619554987\n",
       " 4.310174474396364\n",
       " 4.752829000387278\n",
       " 5.129459228916927\n",
       " 4.9650116172529035\n",
       " 5.316763267689454\n",
       " 3.6612234918781033\n",
       " 4.924316432677755"
      ]
     },
     "execution_count": 31,
     "metadata": {},
     "output_type": "execute_result"
    }
   ],
   "source": [
    "@time select(df2, AsTable(:) => ByRow(sum) => \"sum\").sum"
   ]
  }
 ],
 "metadata": {
  "@webio": {
   "lastCommId": null,
   "lastKernelId": null
  },
  "kernelspec": {
   "display_name": "Julia 1.7.2",
   "language": "julia",
   "name": "julia-1.7"
  },
  "language_info": {
   "file_extension": ".jl",
   "mimetype": "application/julia",
   "name": "julia",
   "version": "1.7.3"
  }
 },
 "nbformat": 4,
 "nbformat_minor": 1
}
