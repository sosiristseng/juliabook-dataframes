{
 "cells": [
  {
   "cell_type": "markdown",
   "metadata": {},
   "source": [
    "# Working with CategoricalArrays"
   ]
  },
  {
   "cell_type": "code",
   "execution_count": 1,
   "metadata": {
    "execution": {
     "iopub.execute_input": "2022-07-18T00:52:41.980000Z",
     "iopub.status.busy": "2022-07-18T00:52:41.515000Z",
     "iopub.status.idle": "2022-07-18T00:52:45.028000Z",
     "shell.execute_reply": "2022-07-18T00:52:44.948000Z"
    }
   },
   "outputs": [],
   "source": [
    "using DataFrames # load package\n",
    "using CategoricalArrays # CategoricalArrays.jl is independent from DataFrames.jl but it is often used in combination"
   ]
  },
  {
   "cell_type": "markdown",
   "metadata": {},
   "source": [
    "## Constructor"
   ]
  },
  {
   "cell_type": "code",
   "execution_count": 2,
   "metadata": {
    "execution": {
     "iopub.execute_input": "2022-07-18T00:52:45.279000Z",
     "iopub.status.busy": "2022-07-18T00:52:45.032000Z",
     "iopub.status.idle": "2022-07-18T00:52:47.660000Z",
     "shell.execute_reply": "2022-07-18T00:52:47.660000Z"
    }
   },
   "outputs": [
    {
     "data": {
      "text/plain": [
       "4-element CategoricalArray{String,1,UInt32}:\n",
       " \"A\"\n",
       " \"B\"\n",
       " \"B\"\n",
       " \"C\""
      ]
     },
     "execution_count": 2,
     "metadata": {},
     "output_type": "execute_result"
    }
   ],
   "source": [
    "x = categorical([\"A\", \"B\", \"B\", \"C\"]) # unordered"
   ]
  },
  {
   "cell_type": "code",
   "execution_count": 3,
   "metadata": {
    "execution": {
     "iopub.execute_input": "2022-07-18T00:52:47.688000Z",
     "iopub.status.busy": "2022-07-18T00:52:47.688000Z",
     "iopub.status.idle": "2022-07-18T00:52:47.708000Z",
     "shell.execute_reply": "2022-07-18T00:52:47.708000Z"
    }
   },
   "outputs": [
    {
     "data": {
      "text/plain": [
       "4-element CategoricalArray{String,1,UInt32}:\n",
       " \"A\"\n",
       " \"B\"\n",
       " \"B\"\n",
       " \"C\""
      ]
     },
     "execution_count": 3,
     "metadata": {},
     "output_type": "execute_result"
    }
   ],
   "source": [
    "y = categorical([\"A\", \"B\", \"B\", \"C\"], ordered=true) # ordered, by default order is sorting order"
   ]
  },
  {
   "cell_type": "code",
   "execution_count": 4,
   "metadata": {
    "execution": {
     "iopub.execute_input": "2022-07-18T00:52:47.712000Z",
     "iopub.status.busy": "2022-07-18T00:52:47.712000Z",
     "iopub.status.idle": "2022-07-18T00:52:48.883000Z",
     "shell.execute_reply": "2022-07-18T00:52:48.883000Z"
    }
   },
   "outputs": [
    {
     "data": {
      "text/plain": [
       "5-element CategoricalArray{Union{Missing, String},1,UInt32}:\n",
       " \"A\"\n",
       " \"B\"\n",
       " \"B\"\n",
       " \"C\"\n",
       " missing"
      ]
     },
     "execution_count": 4,
     "metadata": {},
     "output_type": "execute_result"
    }
   ],
   "source": [
    "z = categorical([\"A\",\"B\",\"B\",\"C\", missing]) # unordered with missings"
   ]
  },
  {
   "cell_type": "code",
   "execution_count": 5,
   "metadata": {
    "execution": {
     "iopub.execute_input": "2022-07-18T00:52:48.887000Z",
     "iopub.status.busy": "2022-07-18T00:52:48.886000Z",
     "iopub.status.idle": "2022-07-18T00:52:49.740000Z",
     "shell.execute_reply": "2022-07-18T00:52:49.740000Z"
    }
   },
   "outputs": [
    {
     "data": {
      "text/plain": [
       "10-element CategoricalArray{String,1,UInt32}:\n",
       " \"Q1: [1.0, 2.8)\"\n",
       " \"Q1: [1.0, 2.8)\"\n",
       " \"Q2: [2.8, 4.6)\"\n",
       " \"Q2: [2.8, 4.6)\"\n",
       " \"Q3: [4.6, 6.4)\"\n",
       " \"Q3: [4.6, 6.4)\"\n",
       " \"Q4: [6.4, 8.2)\"\n",
       " \"Q4: [6.4, 8.2)\"\n",
       " \"Q5: [8.2, 10.0]\"\n",
       " \"Q5: [8.2, 10.0]\""
      ]
     },
     "execution_count": 5,
     "metadata": {},
     "output_type": "execute_result"
    }
   ],
   "source": [
    "c = cut(1:10, 5) # ordered, into equal counts, possible to rename labels and give custom breaks"
   ]
  },
  {
   "cell_type": "markdown",
   "metadata": {},
   "source": [
    "(we will cover grouping later, but let us here use it to analyze the results, we use Chain.jl for chaining)"
   ]
  },
  {
   "cell_type": "code",
   "execution_count": 6,
   "metadata": {
    "execution": {
     "iopub.execute_input": "2022-07-18T00:52:49.743000Z",
     "iopub.status.busy": "2022-07-18T00:52:49.743000Z",
     "iopub.status.idle": "2022-07-18T00:52:49.782000Z",
     "shell.execute_reply": "2022-07-18T00:52:49.781000Z"
    }
   },
   "outputs": [],
   "source": [
    "using Chain"
   ]
  },
  {
   "cell_type": "code",
   "execution_count": 7,
   "metadata": {
    "execution": {
     "iopub.execute_input": "2022-07-18T00:52:49.784000Z",
     "iopub.status.busy": "2022-07-18T00:52:49.784000Z",
     "iopub.status.idle": "2022-07-18T00:53:01.286000Z",
     "shell.execute_reply": "2022-07-18T00:53:01.285000Z"
    }
   },
   "outputs": [
    {
     "data": {
      "text/html": [
       "<div class=\"data-frame\"><p>10 rows × 2 columns</p><table class=\"data-frame\"><thead><tr><th></th><th>x</th><th>nrow</th></tr><tr><th></th><th title=\"CategoricalValue{String, UInt32}\">Cat…</th><th title=\"Int64\">Int64</th></tr></thead><tbody><tr><th>1</th><td>Q1: [-4.4842270022039346, -1.2799106158185642)</td><td>10000</td></tr><tr><th>2</th><td>Q2: [-1.2799106158185642, -0.8420172973507515)</td><td>10000</td></tr><tr><th>3</th><td>Q3: [-0.8420172973507515, -0.5219575918530466)</td><td>10000</td></tr><tr><th>4</th><td>Q4: [-0.5219575918530466, -0.25149371840438134)</td><td>10000</td></tr><tr><th>5</th><td>Q5: [-0.25149371840438134, 0.0032018194428018376)</td><td>10000</td></tr><tr><th>6</th><td>Q6: [0.0032018194428018376, 0.2550415885410022)</td><td>10000</td></tr><tr><th>7</th><td>Q7: [0.2550415885410022, 0.5285048062665039)</td><td>10000</td></tr><tr><th>8</th><td>Q8: [0.5285048062665039, 0.8496454198359681)</td><td>10000</td></tr><tr><th>9</th><td>Q9: [0.8496454198359681, 1.2803570489988245)</td><td>10000</td></tr><tr><th>10</th><td>Q10: [1.2803570489988245, 4.825235859144948]</td><td>10000</td></tr></tbody></table></div>"
      ],
      "text/latex": [
       "\\begin{tabular}{r|cc}\n",
       "\t& x & nrow\\\\\n",
       "\t\\hline\n",
       "\t& Cat… & Int64\\\\\n",
       "\t\\hline\n",
       "\t1 & Q1: [-4.4842270022039346, -1.2799106158185642) & 10000 \\\\\n",
       "\t2 & Q2: [-1.2799106158185642, -0.8420172973507515) & 10000 \\\\\n",
       "\t3 & Q3: [-0.8420172973507515, -0.5219575918530466) & 10000 \\\\\n",
       "\t4 & Q4: [-0.5219575918530466, -0.25149371840438134) & 10000 \\\\\n",
       "\t5 & Q5: [-0.25149371840438134, 0.0032018194428018376) & 10000 \\\\\n",
       "\t6 & Q6: [0.0032018194428018376, 0.2550415885410022) & 10000 \\\\\n",
       "\t7 & Q7: [0.2550415885410022, 0.5285048062665039) & 10000 \\\\\n",
       "\t8 & Q8: [0.5285048062665039, 0.8496454198359681) & 10000 \\\\\n",
       "\t9 & Q9: [0.8496454198359681, 1.2803570489988245) & 10000 \\\\\n",
       "\t10 & Q10: [1.2803570489988245, 4.825235859144948] & 10000 \\\\\n",
       "\\end{tabular}\n"
      ],
      "text/plain": [
       "\u001b[1m10×2 DataFrame\u001b[0m\n",
       "\u001b[1m Row \u001b[0m│\u001b[1m x                                 \u001b[0m\u001b[1m nrow  \u001b[0m\n",
       "\u001b[1m     \u001b[0m│\u001b[90m Cat…                              \u001b[0m\u001b[90m Int64 \u001b[0m\n",
       "─────┼──────────────────────────────────────────\n",
       "   1 │ Q1: [-4.4842270022039346, -1.279…  10000\n",
       "   2 │ Q2: [-1.2799106158185642, -0.842…  10000\n",
       "   3 │ Q3: [-0.8420172973507515, -0.521…  10000\n",
       "   4 │ Q4: [-0.5219575918530466, -0.251…  10000\n",
       "   5 │ Q5: [-0.25149371840438134, 0.003…  10000\n",
       "   6 │ Q6: [0.0032018194428018376, 0.25…  10000\n",
       "   7 │ Q7: [0.2550415885410022, 0.52850…  10000\n",
       "   8 │ Q8: [0.5285048062665039, 0.84964…  10000\n",
       "   9 │ Q9: [0.8496454198359681, 1.28035…  10000\n",
       "  10 │ Q10: [1.2803570489988245, 4.8252…  10000"
      ]
     },
     "execution_count": 7,
     "metadata": {},
     "output_type": "execute_result"
    }
   ],
   "source": [
    "@chain DataFrame(x=cut(randn(100000), 10)) begin\n",
    "      groupby(:x)\n",
    "      combine(nrow) # just to make sure cut works right\n",
    "end"
   ]
  },
  {
   "cell_type": "code",
   "execution_count": 8,
   "metadata": {
    "execution": {
     "iopub.execute_input": "2022-07-18T00:53:01.288000Z",
     "iopub.status.busy": "2022-07-18T00:53:01.287000Z",
     "iopub.status.idle": "2022-07-18T00:53:02.425000Z",
     "shell.execute_reply": "2022-07-18T00:53:02.424000Z"
    }
   },
   "outputs": [
    {
     "data": {
      "text/plain": [
       "5-element CategoricalArray{Int64,1,UInt32}:\n",
       " 1\n",
       " 2\n",
       " 2\n",
       " 3\n",
       " 3"
      ]
     },
     "execution_count": 8,
     "metadata": {},
     "output_type": "execute_result"
    }
   ],
   "source": [
    "v = categorical([1,2,2,3,3]) # contains integers not strings"
   ]
  },
  {
   "cell_type": "code",
   "execution_count": 9,
   "metadata": {
    "execution": {
     "iopub.execute_input": "2022-07-18T00:53:02.427000Z",
     "iopub.status.busy": "2022-07-18T00:53:02.426000Z",
     "iopub.status.idle": "2022-07-18T00:53:03.253000Z",
     "shell.execute_reply": "2022-07-18T00:53:03.252000Z"
    }
   },
   "outputs": [
    {
     "data": {
      "text/plain": [
       "5-element Vector{Union{Missing, String}}:\n",
       " \"A\"\n",
       " \"B\"\n",
       " \"B\"\n",
       " \"C\"\n",
       " missing"
      ]
     },
     "execution_count": 9,
     "metadata": {},
     "output_type": "execute_result"
    }
   ],
   "source": [
    "Vector{Union{String, Missing}}(z) # sometimes you need to convert back to a standard vector"
   ]
  },
  {
   "cell_type": "markdown",
   "metadata": {},
   "source": [
    "## Managing levels"
   ]
  },
  {
   "cell_type": "code",
   "execution_count": 10,
   "metadata": {
    "execution": {
     "iopub.execute_input": "2022-07-18T00:53:03.255000Z",
     "iopub.status.busy": "2022-07-18T00:53:03.254000Z",
     "iopub.status.idle": "2022-07-18T00:53:04.488000Z",
     "shell.execute_reply": "2022-07-18T00:53:04.488000Z"
    }
   },
   "outputs": [
    {
     "data": {
      "text/plain": [
       "5-element Vector{CategoricalVector{T, UInt32} where T}:\n",
       " CategoricalValue{String, UInt32}[\"A\", \"B\", \"B\", \"C\"]\n",
       " CategoricalValue{String, UInt32}[\"A\", \"B\", \"B\", \"C\"]\n",
       " Union{Missing, CategoricalValue{String, UInt32}}[\"A\", \"B\", \"B\", \"C\", missing]\n",
       " CategoricalValue{String, UInt32}[\"Q1: [1.0, 2.8)\", \"Q1: [1.0, 2.8)\", \"Q2: [2.8, 4.6)\", \"Q2: [2.8, 4.6)\", \"Q3: [4.6, 6.4)\", \"Q3: [4.6, 6.4)\", \"Q4: [6.4, 8.2)\", \"Q4: [6.4, 8.2)\", \"Q5: [8.2, 10.0]\", \"Q5: [8.2, 10.0]\"]\n",
       " CategoricalValue{Int64, UInt32}[1, 2, 2, 3, 3]"
      ]
     },
     "execution_count": 10,
     "metadata": {},
     "output_type": "execute_result"
    }
   ],
   "source": [
    "arr = [x,y,z,c,v]"
   ]
  },
  {
   "cell_type": "code",
   "execution_count": 11,
   "metadata": {
    "execution": {
     "iopub.execute_input": "2022-07-18T00:53:04.490000Z",
     "iopub.status.busy": "2022-07-18T00:53:04.490000Z",
     "iopub.status.idle": "2022-07-18T00:53:05.251000Z",
     "shell.execute_reply": "2022-07-18T00:53:05.251000Z"
    }
   },
   "outputs": [
    {
     "data": {
      "text/plain": [
       "5-element BitVector:\n",
       " 0\n",
       " 1\n",
       " 0\n",
       " 1\n",
       " 0"
      ]
     },
     "execution_count": 11,
     "metadata": {},
     "output_type": "execute_result"
    }
   ],
   "source": [
    "isordered.(arr) # chcek if categorical array is orderd"
   ]
  },
  {
   "cell_type": "code",
   "execution_count": 12,
   "metadata": {
    "execution": {
     "iopub.execute_input": "2022-07-18T00:53:05.255000Z",
     "iopub.status.busy": "2022-07-18T00:53:05.255000Z",
     "iopub.status.idle": "2022-07-18T00:53:05.658000Z",
     "shell.execute_reply": "2022-07-18T00:53:05.657000Z"
    }
   },
   "outputs": [
    {
     "data": {
      "text/plain": [
       "(CategoricalValue{String, UInt32}[\"A\", \"B\", \"B\", \"C\"], true)"
      ]
     },
     "execution_count": 12,
     "metadata": {},
     "output_type": "execute_result"
    }
   ],
   "source": [
    "ordered!(x, true), isordered(x) # make x ordered"
   ]
  },
  {
   "cell_type": "code",
   "execution_count": 13,
   "metadata": {
    "execution": {
     "iopub.execute_input": "2022-07-18T00:53:05.660000Z",
     "iopub.status.busy": "2022-07-18T00:53:05.660000Z",
     "iopub.status.idle": "2022-07-18T00:53:05.663000Z",
     "shell.execute_reply": "2022-07-18T00:53:05.663000Z"
    }
   },
   "outputs": [
    {
     "data": {
      "text/plain": [
       "(CategoricalValue{String, UInt32}[\"A\", \"B\", \"B\", \"C\"], false)"
      ]
     },
     "execution_count": 13,
     "metadata": {},
     "output_type": "execute_result"
    }
   ],
   "source": [
    "ordered!(x, false), isordered(x) # and unordered again"
   ]
  },
  {
   "cell_type": "code",
   "execution_count": 14,
   "metadata": {
    "execution": {
     "iopub.execute_input": "2022-07-18T00:53:05.665000Z",
     "iopub.status.busy": "2022-07-18T00:53:05.664000Z",
     "iopub.status.idle": "2022-07-18T00:53:06.845000Z",
     "shell.execute_reply": "2022-07-18T00:53:06.845000Z"
    }
   },
   "outputs": [
    {
     "data": {
      "text/plain": [
       "5-element Vector{Vector}:\n",
       " [\"A\", \"B\", \"C\"]\n",
       " [\"A\", \"B\", \"C\"]\n",
       " [\"A\", \"B\", \"C\"]\n",
       " [\"Q1: [1.0, 2.8)\", \"Q2: [2.8, 4.6)\", \"Q3: [4.6, 6.4)\", \"Q4: [6.4, 8.2)\", \"Q5: [8.2, 10.0]\"]\n",
       " [1, 2, 3]"
      ]
     },
     "execution_count": 14,
     "metadata": {},
     "output_type": "execute_result"
    }
   ],
   "source": [
    "levels.(arr) # list levels"
   ]
  },
  {
   "cell_type": "code",
   "execution_count": 15,
   "metadata": {
    "execution": {
     "iopub.execute_input": "2022-07-18T00:53:06.848000Z",
     "iopub.status.busy": "2022-07-18T00:53:06.848000Z",
     "iopub.status.idle": "2022-07-18T00:53:07.283000Z",
     "shell.execute_reply": "2022-07-18T00:53:07.283000Z"
    }
   },
   "outputs": [
    {
     "data": {
      "text/plain": [
       "5-element Vector{Vector}:\n",
       " [\"A\", \"B\", \"C\"]\n",
       " [\"A\", \"B\", \"C\"]\n",
       " Union{Missing, String}[\"A\", \"B\", \"C\", missing]\n",
       " [\"Q1: [1.0, 2.8)\", \"Q2: [2.8, 4.6)\", \"Q3: [4.6, 6.4)\", \"Q4: [6.4, 8.2)\", \"Q5: [8.2, 10.0]\"]\n",
       " [1, 2, 3]"
      ]
     },
     "execution_count": 15,
     "metadata": {},
     "output_type": "execute_result"
    }
   ],
   "source": [
    "unique.(arr) # missing will be included"
   ]
  },
  {
   "cell_type": "code",
   "execution_count": 16,
   "metadata": {
    "execution": {
     "iopub.execute_input": "2022-07-18T00:53:07.291000Z",
     "iopub.status.busy": "2022-07-18T00:53:07.290000Z",
     "iopub.status.idle": "2022-07-18T00:53:07.552000Z",
     "shell.execute_reply": "2022-07-18T00:53:07.551000Z"
    }
   },
   "outputs": [
    {
     "data": {
      "text/plain": [
       "true"
      ]
     },
     "execution_count": 16,
     "metadata": {},
     "output_type": "execute_result"
    }
   ],
   "source": [
    "y[1] < y[2] # can compare as y is ordered"
   ]
  },
  {
   "cell_type": "code",
   "execution_count": 17,
   "metadata": {
    "execution": {
     "iopub.execute_input": "2022-07-18T00:53:07.555000Z",
     "iopub.status.busy": "2022-07-18T00:53:07.555000Z",
     "iopub.status.idle": "2022-07-18T00:53:08.467000Z",
     "shell.execute_reply": "2022-07-18T00:53:08.467000Z"
    }
   },
   "outputs": [
    {
     "ename": "LoadError",
     "evalue": "ArgumentError: Unordered CategoricalValue objects cannot be tested for order using <. Use isless instead, or call the ordered! function on the parent array to change this",
     "output_type": "error",
     "traceback": [
      "ArgumentError: Unordered CategoricalValue objects cannot be tested for order using <. Use isless instead, or call the ordered! function on the parent array to change this",
      "",
      "Stacktrace:",
      " [1] <(x::CategoricalValue{Int64, UInt32}, y::CategoricalValue{Int64, UInt32})",
      "   @ CategoricalArrays ~/.julia/packages/CategoricalArrays/zg8z5/src/value.jl:170",
      " [2] top-level scope",
      "   @ In[17]:1",
      " [3] eval",
      "   @ ./boot.jl:373 [inlined]",
      " [4] include_string(mapexpr::typeof(REPL.softscope), mod::Module, code::String, filename::String)",
      "   @ Base ./loading.jl:1196"
     ]
    }
   ],
   "source": [
    "v[1] < v[2] # not comparable, v is unordered although it contains integers"
   ]
  },
  {
   "cell_type": "code",
   "execution_count": 18,
   "metadata": {
    "execution": {
     "iopub.execute_input": "2022-07-18T00:53:08.471000Z",
     "iopub.status.busy": "2022-07-18T00:53:08.471000Z",
     "iopub.status.idle": "2022-07-18T00:53:08.483000Z",
     "shell.execute_reply": "2022-07-18T00:53:08.483000Z"
    }
   },
   "outputs": [
    {
     "ename": "LoadError",
     "evalue": "ArgumentError: cannot compare a `CategoricalValue` to value `v` of type `String`: wrap `v` using `CategoricalValue(v, catvalue)` or `CategoricalValue(v, catarray)` first",
     "output_type": "error",
     "traceback": [
      "ArgumentError: cannot compare a `CategoricalValue` to value `v` of type `String`: wrap `v` using `CategoricalValue(v, catvalue)` or `CategoricalValue(v, catarray)` first",
      "",
      "Stacktrace:",
      " [1] <(x::CategoricalValue{String, UInt32}, y::String)",
      "   @ CategoricalArrays ~/.julia/packages/CategoricalArrays/zg8z5/src/value.jl:177",
      " [2] top-level scope",
      "   @ In[18]:1",
      " [3] eval",
      "   @ ./boot.jl:373 [inlined]",
      " [4] include_string(mapexpr::typeof(REPL.softscope), mod::Module, code::String, filename::String)",
      "   @ Base ./loading.jl:1196"
     ]
    }
   ],
   "source": [
    "y[2] < \"A\" # comparison against type underlying categorical value is not allowed"
   ]
  },
  {
   "cell_type": "code",
   "execution_count": 19,
   "metadata": {
    "execution": {
     "iopub.execute_input": "2022-07-18T00:53:08.491000Z",
     "iopub.status.busy": "2022-07-18T00:53:08.491000Z",
     "iopub.status.idle": "2022-07-18T00:53:08.513000Z",
     "shell.execute_reply": "2022-07-18T00:53:08.512000Z"
    }
   },
   "outputs": [
    {
     "data": {
      "text/plain": [
       "false"
      ]
     },
     "execution_count": 19,
     "metadata": {},
     "output_type": "execute_result"
    }
   ],
   "source": [
    "y[2] < CategoricalValue(\"A\", y) # you need to explicitly convert a value to a level"
   ]
  },
  {
   "cell_type": "code",
   "execution_count": 20,
   "metadata": {
    "execution": {
     "iopub.execute_input": "2022-07-18T00:53:08.519000Z",
     "iopub.status.busy": "2022-07-18T00:53:08.519000Z",
     "iopub.status.idle": "2022-07-18T00:53:08.636000Z",
     "shell.execute_reply": "2022-07-18T00:53:08.636000Z"
    }
   },
   "outputs": [
    {
     "ename": "LoadError",
     "evalue": "ArgumentError: level Z not found in source pool",
     "output_type": "error",
     "traceback": [
      "ArgumentError: level Z not found in source pool",
      "",
      "Stacktrace:",
      " [1] CategoricalValue(value::String, source::CategoricalVector{String, UInt32, String, CategoricalValue{String, UInt32}, Union{}})",
      "   @ CategoricalArrays ~/.julia/packages/CategoricalArrays/zg8z5/src/value.jl:13",
      " [2] top-level scope",
      "   @ In[20]:1",
      " [3] eval",
      "   @ ./boot.jl:373 [inlined]",
      " [4] include_string(mapexpr::typeof(REPL.softscope), mod::Module, code::String, filename::String)",
      "   @ Base ./loading.jl:1196"
     ]
    }
   ],
   "source": [
    "y[2] < CategoricalValue(\"Z\", y) # but it is treated as a level, and thus only valid levels are allowed"
   ]
  },
  {
   "cell_type": "code",
   "execution_count": 21,
   "metadata": {
    "execution": {
     "iopub.execute_input": "2022-07-18T00:53:08.640000Z",
     "iopub.status.busy": "2022-07-18T00:53:08.640000Z",
     "iopub.status.idle": "2022-07-18T00:53:08.644000Z",
     "shell.execute_reply": "2022-07-18T00:53:08.644000Z"
    }
   },
   "outputs": [
    {
     "data": {
      "text/plain": [
       "4-element CategoricalArray{String,1,UInt32}:\n",
       " \"A\"\n",
       " \"B\"\n",
       " \"B\"\n",
       " \"C\""
      ]
     },
     "execution_count": 21,
     "metadata": {},
     "output_type": "execute_result"
    }
   ],
   "source": [
    "levels!(y, [\"C\", \"B\", \"A\"]) # you can reorder levels, mostly useful for ordered CategoricalArrays"
   ]
  },
  {
   "cell_type": "code",
   "execution_count": 22,
   "metadata": {
    "execution": {
     "iopub.execute_input": "2022-07-18T00:53:08.646000Z",
     "iopub.status.busy": "2022-07-18T00:53:08.646000Z",
     "iopub.status.idle": "2022-07-18T00:53:08.647000Z",
     "shell.execute_reply": "2022-07-18T00:53:08.647000Z"
    }
   },
   "outputs": [
    {
     "data": {
      "text/plain": [
       "false"
      ]
     },
     "execution_count": 22,
     "metadata": {},
     "output_type": "execute_result"
    }
   ],
   "source": [
    "y[1] < y[2] # observe that the order is changed"
   ]
  },
  {
   "cell_type": "code",
   "execution_count": 23,
   "metadata": {
    "execution": {
     "iopub.execute_input": "2022-07-18T00:53:08.649000Z",
     "iopub.status.busy": "2022-07-18T00:53:08.649000Z",
     "iopub.status.idle": "2022-07-18T00:53:08.728000Z",
     "shell.execute_reply": "2022-07-18T00:53:08.728000Z"
    }
   },
   "outputs": [
    {
     "ename": "LoadError",
     "evalue": "ArgumentError: cannot remove level \"C\" as it is used at position 4 and allowmissing=false.",
     "output_type": "error",
     "traceback": [
      "ArgumentError: cannot remove level \"C\" as it is used at position 4 and allowmissing=false.",
      "",
      "Stacktrace:",
      " [1] levels!(A::CategoricalVector{Union{Missing, String}, UInt32, String, CategoricalValue{String, UInt32}, Missing}, newlevels::Vector{String}; allowmissing::Bool, allow_missing::Nothing)",
      "   @ CategoricalArrays ~/.julia/packages/CategoricalArrays/zg8z5/src/array.jl:844",
      " [2] levels!(A::CategoricalVector{Union{Missing, String}, UInt32, String, CategoricalValue{String, UInt32}, Missing}, newlevels::Vector{String})",
      "   @ CategoricalArrays ~/.julia/packages/CategoricalArrays/zg8z5/src/array.jl:781",
      " [3] top-level scope",
      "   @ In[23]:1",
      " [4] eval",
      "   @ ./boot.jl:373 [inlined]",
      " [5] include_string(mapexpr::typeof(REPL.softscope), mod::Module, code::String, filename::String)",
      "   @ Base ./loading.jl:1196"
     ]
    }
   ],
   "source": [
    "levels!(z, [\"A\", \"B\"]) # you have to specify all levels that are present"
   ]
  },
  {
   "cell_type": "code",
   "execution_count": 24,
   "metadata": {
    "execution": {
     "iopub.execute_input": "2022-07-18T00:53:08.732000Z",
     "iopub.status.busy": "2022-07-18T00:53:08.732000Z",
     "iopub.status.idle": "2022-07-18T00:53:08.750000Z",
     "shell.execute_reply": "2022-07-18T00:53:08.750000Z"
    }
   },
   "outputs": [
    {
     "data": {
      "text/plain": [
       "5-element CategoricalArray{Union{Missing, String},1,UInt32}:\n",
       " \"A\"\n",
       " \"B\"\n",
       " \"B\"\n",
       " missing\n",
       " missing"
      ]
     },
     "execution_count": 24,
     "metadata": {},
     "output_type": "execute_result"
    }
   ],
   "source": [
    "levels!(z, [\"A\", \"B\"], allowmissing=true) # unless the underlying array allows for missings and force removal of levels"
   ]
  },
  {
   "cell_type": "code",
   "execution_count": 25,
   "metadata": {
    "execution": {
     "iopub.execute_input": "2022-07-18T00:53:08.754000Z",
     "iopub.status.busy": "2022-07-18T00:53:08.753000Z",
     "iopub.status.idle": "2022-07-18T00:53:08.765000Z",
     "shell.execute_reply": "2022-07-18T00:53:08.765000Z"
    }
   },
   "outputs": [
    {
     "data": {
      "text/plain": [
       "5-element CategoricalArray{Union{Missing, String},1,UInt32}:\n",
       " \"B\"\n",
       " \"B\"\n",
       " \"B\"\n",
       " missing\n",
       " missing"
      ]
     },
     "execution_count": 25,
     "metadata": {},
     "output_type": "execute_result"
    }
   ],
   "source": [
    "z[1] = \"B\"\n",
    "z # now z has only \"B\" entries"
   ]
  },
  {
   "cell_type": "code",
   "execution_count": 26,
   "metadata": {
    "execution": {
     "iopub.execute_input": "2022-07-18T00:53:08.770000Z",
     "iopub.status.busy": "2022-07-18T00:53:08.770000Z",
     "iopub.status.idle": "2022-07-18T00:53:09.159000Z",
     "shell.execute_reply": "2022-07-18T00:53:09.159000Z"
    }
   },
   "outputs": [
    {
     "data": {
      "text/plain": [
       "2-element Vector{String}:\n",
       " \"A\"\n",
       " \"B\""
      ]
     },
     "execution_count": 26,
     "metadata": {},
     "output_type": "execute_result"
    }
   ],
   "source": [
    "levels(z) # but it remembers the levels it had (the reason is mostly performance)"
   ]
  },
  {
   "cell_type": "code",
   "execution_count": 27,
   "metadata": {
    "execution": {
     "iopub.execute_input": "2022-07-18T00:53:09.162000Z",
     "iopub.status.busy": "2022-07-18T00:53:09.162000Z",
     "iopub.status.idle": "2022-07-18T00:53:09.337000Z",
     "shell.execute_reply": "2022-07-18T00:53:09.336000Z"
    }
   },
   "outputs": [
    {
     "data": {
      "text/plain": [
       "1-element Vector{String}:\n",
       " \"B\""
      ]
     },
     "execution_count": 27,
     "metadata": {},
     "output_type": "execute_result"
    }
   ],
   "source": [
    "droplevels!(z) # this way we can clean it up\n",
    "levels(z)"
   ]
  },
  {
   "cell_type": "markdown",
   "metadata": {},
   "source": [
    "## Data manipulation"
   ]
  },
  {
   "cell_type": "code",
   "execution_count": 28,
   "metadata": {
    "execution": {
     "iopub.execute_input": "2022-07-18T00:53:09.340000Z",
     "iopub.status.busy": "2022-07-18T00:53:09.340000Z",
     "iopub.status.idle": "2022-07-18T00:53:09.750000Z",
     "shell.execute_reply": "2022-07-18T00:53:09.750000Z"
    }
   },
   "outputs": [
    {
     "data": {
      "text/plain": [
       "(CategoricalValue{String, UInt32}[\"A\", \"B\", \"B\", \"C\"], [\"A\", \"B\", \"C\"])"
      ]
     },
     "execution_count": 28,
     "metadata": {},
     "output_type": "execute_result"
    }
   ],
   "source": [
    "x, levels(x)"
   ]
  },
  {
   "cell_type": "code",
   "execution_count": 29,
   "metadata": {
    "execution": {
     "iopub.execute_input": "2022-07-18T00:53:09.753000Z",
     "iopub.status.busy": "2022-07-18T00:53:09.753000Z",
     "iopub.status.idle": "2022-07-18T00:53:09.763000Z",
     "shell.execute_reply": "2022-07-18T00:53:09.763000Z"
    }
   },
   "outputs": [
    {
     "data": {
      "text/plain": [
       "(CategoricalValue{String, UInt32}[\"A\", \"0\", \"B\", \"C\"], [\"A\", \"B\", \"C\", \"0\"])"
      ]
     },
     "execution_count": 29,
     "metadata": {},
     "output_type": "execute_result"
    }
   ],
   "source": [
    "x[2] = \"0\"\n",
    "x, levels(x) # new level added at the end (works only for unordered)"
   ]
  },
  {
   "cell_type": "code",
   "execution_count": 30,
   "metadata": {
    "execution": {
     "iopub.execute_input": "2022-07-18T00:53:09.767000Z",
     "iopub.status.busy": "2022-07-18T00:53:09.766000Z",
     "iopub.status.idle": "2022-07-18T00:53:10.266000Z",
     "shell.execute_reply": "2022-07-18T00:53:10.266000Z"
    }
   },
   "outputs": [
    {
     "data": {
      "text/plain": [
       "(CategoricalValue{Int64, UInt32}[1, 2, 2, 3, 3], [1, 2, 3])"
      ]
     },
     "execution_count": 30,
     "metadata": {},
     "output_type": "execute_result"
    }
   ],
   "source": [
    "v, levels(v)"
   ]
  },
  {
   "cell_type": "code",
   "execution_count": 31,
   "metadata": {
    "execution": {
     "iopub.execute_input": "2022-07-18T00:53:10.269000Z",
     "iopub.status.busy": "2022-07-18T00:53:10.269000Z",
     "iopub.status.idle": "2022-07-18T00:53:10.956000Z",
     "shell.execute_reply": "2022-07-18T00:53:10.956000Z"
    }
   },
   "outputs": [
    {
     "ename": "LoadError",
     "evalue": "MethodError: no method matching +(::CategoricalValue{Int64, UInt32}, ::CategoricalValue{Int64, UInt32})\n\u001b[0mClosest candidates are:\n\u001b[0m  +(::Any, ::Any, \u001b[91m::Any\u001b[39m, \u001b[91m::Any...\u001b[39m) at /usr/local/share/julia/base/operators.jl:655",
     "output_type": "error",
     "traceback": [
      "MethodError: no method matching +(::CategoricalValue{Int64, UInt32}, ::CategoricalValue{Int64, UInt32})\n\u001b[0mClosest candidates are:\n\u001b[0m  +(::Any, ::Any, \u001b[91m::Any\u001b[39m, \u001b[91m::Any...\u001b[39m) at /usr/local/share/julia/base/operators.jl:655",
      "",
      "Stacktrace:",
      " [1] top-level scope",
      "   @ In[31]:1",
      " [2] eval",
      "   @ ./boot.jl:373 [inlined]",
      " [3] include_string(mapexpr::typeof(REPL.softscope), mod::Module, code::String, filename::String)",
      "   @ Base ./loading.jl:1196"
     ]
    }
   ],
   "source": [
    "v[1] + v[2] # even though the underlying data is Int, we cannot operate on it"
   ]
  },
  {
   "cell_type": "code",
   "execution_count": 32,
   "metadata": {
    "execution": {
     "iopub.execute_input": "2022-07-18T00:53:10.961000Z",
     "iopub.status.busy": "2022-07-18T00:53:10.960000Z",
     "iopub.status.idle": "2022-07-18T00:53:11.365000Z",
     "shell.execute_reply": "2022-07-18T00:53:11.365000Z"
    }
   },
   "outputs": [
    {
     "data": {
      "text/plain": [
       "5-element Vector{Int64}:\n",
       " 1\n",
       " 2\n",
       " 2\n",
       " 3\n",
       " 3"
      ]
     },
     "execution_count": 32,
     "metadata": {},
     "output_type": "execute_result"
    }
   ],
   "source": [
    "Vector{Int}(v) # you have either to retrieve the data by conversion (may be expensive)"
   ]
  },
  {
   "cell_type": "code",
   "execution_count": 33,
   "metadata": {
    "execution": {
     "iopub.execute_input": "2022-07-18T00:53:11.369000Z",
     "iopub.status.busy": "2022-07-18T00:53:11.369000Z",
     "iopub.status.idle": "2022-07-18T00:53:11.622000Z",
     "shell.execute_reply": "2022-07-18T00:53:11.622000Z"
    }
   },
   "outputs": [
    {
     "data": {
      "text/plain": [
       "3"
      ]
     },
     "execution_count": 33,
     "metadata": {},
     "output_type": "execute_result"
    }
   ],
   "source": [
    "unwrap(v[1]) + unwrap(v[2]) # or get a single value"
   ]
  },
  {
   "cell_type": "code",
   "execution_count": 34,
   "metadata": {
    "execution": {
     "iopub.execute_input": "2022-07-18T00:53:11.626000Z",
     "iopub.status.busy": "2022-07-18T00:53:11.625000Z",
     "iopub.status.idle": "2022-07-18T00:53:11.684000Z",
     "shell.execute_reply": "2022-07-18T00:53:11.682000Z"
    }
   },
   "outputs": [
    {
     "data": {
      "text/plain": [
       "5-element Vector{Int64}:\n",
       " 1\n",
       " 2\n",
       " 2\n",
       " 3\n",
       " 3"
      ]
     },
     "execution_count": 34,
     "metadata": {},
     "output_type": "execute_result"
    }
   ],
   "source": [
    "unwrap.(v) # this will work for arrays witout missings"
   ]
  },
  {
   "cell_type": "code",
   "execution_count": 35,
   "metadata": {
    "execution": {
     "iopub.execute_input": "2022-07-18T00:53:11.686000Z",
     "iopub.status.busy": "2022-07-18T00:53:11.686000Z",
     "iopub.status.idle": "2022-07-18T00:53:11.908000Z",
     "shell.execute_reply": "2022-07-18T00:53:11.908000Z"
    }
   },
   "outputs": [
    {
     "data": {
      "text/plain": [
       "5-element Vector{Union{Missing, String}}:\n",
       " \"B\"\n",
       " \"B\"\n",
       " \"B\"\n",
       " missing\n",
       " missing"
      ]
     },
     "execution_count": 35,
     "metadata": {},
     "output_type": "execute_result"
    }
   ],
   "source": [
    "unwrap.(z) # also works on missing values"
   ]
  },
  {
   "cell_type": "code",
   "execution_count": 36,
   "metadata": {
    "execution": {
     "iopub.execute_input": "2022-07-18T00:53:11.911000Z",
     "iopub.status.busy": "2022-07-18T00:53:11.910000Z",
     "iopub.status.idle": "2022-07-18T00:53:11.914000Z",
     "shell.execute_reply": "2022-07-18T00:53:11.914000Z"
    }
   },
   "outputs": [
    {
     "data": {
      "text/plain": [
       "5-element Vector{Union{Missing, String}}:\n",
       " \"B\"\n",
       " \"B\"\n",
       " \"B\"\n",
       " missing\n",
       " missing"
      ]
     },
     "execution_count": 36,
     "metadata": {},
     "output_type": "execute_result"
    }
   ],
   "source": [
    "Vector{Union{String, Missing}}(z) # or do the conversion"
   ]
  },
  {
   "cell_type": "code",
   "execution_count": 37,
   "metadata": {
    "execution": {
     "iopub.execute_input": "2022-07-18T00:53:11.919000Z",
     "iopub.status.busy": "2022-07-18T00:53:11.918000Z",
     "iopub.status.idle": "2022-07-18T00:53:12.656000Z",
     "shell.execute_reply": "2022-07-18T00:53:12.656000Z"
    }
   },
   "outputs": [
    {
     "data": {
      "text/plain": [
       "6-element Vector{Union{Missing, Int64}}:\n",
       " 10\n",
       "  2\n",
       "  3\n",
       "  4\n",
       "  5\n",
       "   missing"
      ]
     },
     "execution_count": 37,
     "metadata": {},
     "output_type": "execute_result"
    }
   ],
   "source": [
    "recode([1,2,3,4,5,missing], 1=>10) # recode some values in an array; has also in place recode! equivalent"
   ]
  },
  {
   "cell_type": "code",
   "execution_count": 38,
   "metadata": {
    "execution": {
     "iopub.execute_input": "2022-07-18T00:53:12.663000Z",
     "iopub.status.busy": "2022-07-18T00:53:12.663000Z",
     "iopub.status.idle": "2022-07-18T00:53:13.385000Z",
     "shell.execute_reply": "2022-07-18T00:53:13.385000Z"
    }
   },
   "outputs": [
    {
     "data": {
      "text/plain": [
       "6-element Vector{Union{Missing, Int64, String}}:\n",
       " 10\n",
       " 20\n",
       "   \"a\"\n",
       "   \"a\"\n",
       "   \"a\"\n",
       "   missing"
      ]
     },
     "execution_count": 38,
     "metadata": {},
     "output_type": "execute_result"
    }
   ],
   "source": [
    "recode([1,2,3,4,5,missing], \"a\", 1=>10, 2=>20) # here we provided a default value for not mapped recodings"
   ]
  },
  {
   "cell_type": "code",
   "execution_count": 39,
   "metadata": {
    "execution": {
     "iopub.execute_input": "2022-07-18T00:53:13.391000Z",
     "iopub.status.busy": "2022-07-18T00:53:13.391000Z",
     "iopub.status.idle": "2022-07-18T00:53:14.099000Z",
     "shell.execute_reply": "2022-07-18T00:53:14.098000Z"
    }
   },
   "outputs": [
    {
     "data": {
      "text/plain": [
       "6-element Vector{Union{Int64, String}}:\n",
       " 10\n",
       "  2\n",
       "  3\n",
       "  4\n",
       "  5\n",
       "   \"missing\""
      ]
     },
     "execution_count": 39,
     "metadata": {},
     "output_type": "execute_result"
    }
   ],
   "source": [
    "recode([1,2,3,4,5,missing], 1=>10, missing=>\"missing\") # to recode Missing you have to do it explicitly"
   ]
  },
  {
   "cell_type": "code",
   "execution_count": 40,
   "metadata": {
    "execution": {
     "iopub.execute_input": "2022-07-18T00:53:14.104000Z",
     "iopub.status.busy": "2022-07-18T00:53:14.103000Z",
     "iopub.status.idle": "2022-07-18T00:53:15.082000Z",
     "shell.execute_reply": "2022-07-18T00:53:15.081000Z"
    }
   },
   "outputs": [
    {
     "data": {
      "text/plain": [
       "(Union{Missing, CategoricalValue{Int64, UInt32}}[1, 2, 3, 4, 5, missing], [1, 2, 3, 4, 5])"
      ]
     },
     "execution_count": 40,
     "metadata": {},
     "output_type": "execute_result"
    }
   ],
   "source": [
    "t = categorical([1:5; missing])\n",
    "t, levels(t)"
   ]
  },
  {
   "cell_type": "code",
   "execution_count": 41,
   "metadata": {
    "execution": {
     "iopub.execute_input": "2022-07-18T00:53:15.084000Z",
     "iopub.status.busy": "2022-07-18T00:53:15.083000Z",
     "iopub.status.idle": "2022-07-18T00:53:16.357000Z",
     "shell.execute_reply": "2022-07-18T00:53:16.357000Z"
    }
   },
   "outputs": [
    {
     "data": {
      "text/plain": [
       "(Union{Missing, CategoricalValue{Int64, UInt32}}[2, 2, 2, 4, 5, missing], [2, 4, 5])"
      ]
     },
     "execution_count": 41,
     "metadata": {},
     "output_type": "execute_result"
    }
   ],
   "source": [
    "recode!(t, [1,3]=>2)\n",
    "t, levels(t) # note that the levels are dropped after recode"
   ]
  },
  {
   "cell_type": "code",
   "execution_count": 42,
   "metadata": {
    "execution": {
     "iopub.execute_input": "2022-07-18T00:53:16.361000Z",
     "iopub.status.busy": "2022-07-18T00:53:16.360000Z",
     "iopub.status.idle": "2022-07-18T00:53:17.078000Z",
     "shell.execute_reply": "2022-07-18T00:53:17.078000Z"
    }
   },
   "outputs": [
    {
     "data": {
      "text/plain": [
       "3-element Vector{Int64}:\n",
       "  3\n",
       "  0\n",
       " -1"
      ]
     },
     "execution_count": 42,
     "metadata": {},
     "output_type": "execute_result"
    }
   ],
   "source": [
    "t = categorical([1,2,3], ordered=true)\n",
    "levels(recode(t, 2=>0, 1=>-1)) # and if you introduce a new levels they are added at the end in the order of appearance"
   ]
  },
  {
   "cell_type": "code",
   "execution_count": 43,
   "metadata": {
    "execution": {
     "iopub.execute_input": "2022-07-18T00:53:17.082000Z",
     "iopub.status.busy": "2022-07-18T00:53:17.081000Z",
     "iopub.status.idle": "2022-07-18T00:53:17.387000Z",
     "shell.execute_reply": "2022-07-18T00:53:17.387000Z"
    }
   },
   "outputs": [
    {
     "data": {
      "text/plain": [
       "3-element Vector{Int64}:\n",
       " 100\n",
       " 200\n",
       " 300"
      ]
     },
     "execution_count": 43,
     "metadata": {},
     "output_type": "execute_result"
    }
   ],
   "source": [
    "t = categorical([1,2,3,4,5], ordered=true) # when using default it becomes the last level\n",
    "levels(recode(t, 300, [1,2]=>100, 3=>200))"
   ]
  },
  {
   "cell_type": "markdown",
   "metadata": {},
   "source": [
    "## Comparisons"
   ]
  },
  {
   "cell_type": "code",
   "execution_count": 44,
   "metadata": {
    "execution": {
     "iopub.execute_input": "2022-07-18T00:53:17.392000Z",
     "iopub.status.busy": "2022-07-18T00:53:17.391000Z",
     "iopub.status.idle": "2022-07-18T00:53:18.082000Z",
     "shell.execute_reply": "2022-07-18T00:53:18.082000Z"
    }
   },
   "outputs": [
    {
     "data": {
      "text/plain": [
       "4×4 Matrix{Bool}:\n",
       " 1  1  1  1\n",
       " 1  1  1  1\n",
       " 1  1  1  1\n",
       " 1  1  1  1"
      ]
     },
     "execution_count": 44,
     "metadata": {},
     "output_type": "execute_result"
    }
   ],
   "source": [
    "x = categorical([1,2,3])\n",
    "xs = [x, categorical(x), categorical(x, ordered=true), categorical(x, ordered=true)]\n",
    "levels!(xs[2], [3,2,1])\n",
    "levels!(xs[4], [2,3,1])\n",
    "[a == b for a in xs, b in xs] # all are equal - comparison only by contents"
   ]
  },
  {
   "cell_type": "code",
   "execution_count": 45,
   "metadata": {
    "execution": {
     "iopub.execute_input": "2022-07-18T00:53:18.088000Z",
     "iopub.status.busy": "2022-07-18T00:53:18.087000Z",
     "iopub.status.idle": "2022-07-18T00:53:18.148000Z",
     "shell.execute_reply": "2022-07-18T00:53:18.147000Z"
    }
   },
   "outputs": [
    {
     "data": {
      "text/plain": [
       "4×4 Matrix{Bool}:\n",
       " 1  0  0  0\n",
       " 0  1  0  0\n",
       " 0  0  1  0\n",
       " 0  0  0  1"
      ]
     },
     "execution_count": 45,
     "metadata": {},
     "output_type": "execute_result"
    }
   ],
   "source": [
    "signature(x::CategoricalArray) = (x, levels(x), isordered(x)) # this is actually the full signature of CategoricalArray\n",
    "# all are different, notice that x[1] and x[2] are unordered but have a different order of levels\n",
    "[signature(a) == signature(b) for a in xs, b in xs]"
   ]
  },
  {
   "cell_type": "code",
   "execution_count": 46,
   "metadata": {
    "execution": {
     "iopub.execute_input": "2022-07-18T00:53:18.150000Z",
     "iopub.status.busy": "2022-07-18T00:53:18.149000Z",
     "iopub.status.idle": "2022-07-18T00:53:18.160000Z",
     "shell.execute_reply": "2022-07-18T00:53:18.159000Z"
    }
   },
   "outputs": [
    {
     "ename": "LoadError",
     "evalue": "ArgumentError: Unordered CategoricalValue objects cannot be tested for order using <. Use isless instead, or call the ordered! function on the parent array to change this",
     "output_type": "error",
     "traceback": [
      "ArgumentError: Unordered CategoricalValue objects cannot be tested for order using <. Use isless instead, or call the ordered! function on the parent array to change this",
      "",
      "Stacktrace:",
      " [1] <(x::CategoricalValue{Int64, UInt32}, y::CategoricalValue{Int64, UInt32})",
      "   @ CategoricalArrays ~/.julia/packages/CategoricalArrays/zg8z5/src/value.jl:170",
      " [2] top-level scope",
      "   @ In[46]:1",
      " [3] eval",
      "   @ ./boot.jl:373 [inlined]",
      " [4] include_string(mapexpr::typeof(REPL.softscope), mod::Module, code::String, filename::String)",
      "   @ Base ./loading.jl:1196"
     ]
    }
   ],
   "source": [
    "x[1] < x[2] # you cannot compare elements of unordered CategoricalArray"
   ]
  },
  {
   "cell_type": "code",
   "execution_count": 47,
   "metadata": {
    "execution": {
     "iopub.execute_input": "2022-07-18T00:53:18.162000Z",
     "iopub.status.busy": "2022-07-18T00:53:18.161000Z",
     "iopub.status.idle": "2022-07-18T00:53:18.164000Z",
     "shell.execute_reply": "2022-07-18T00:53:18.164000Z"
    }
   },
   "outputs": [
    {
     "data": {
      "text/plain": [
       "true"
      ]
     },
     "execution_count": 47,
     "metadata": {},
     "output_type": "execute_result"
    }
   ],
   "source": [
    "t[1] < t[2] # but you can do it for an ordered one"
   ]
  },
  {
   "cell_type": "code",
   "execution_count": 48,
   "metadata": {
    "execution": {
     "iopub.execute_input": "2022-07-18T00:53:18.166000Z",
     "iopub.status.busy": "2022-07-18T00:53:18.166000Z",
     "iopub.status.idle": "2022-07-18T00:53:18.182000Z",
     "shell.execute_reply": "2022-07-18T00:53:18.181000Z"
    }
   },
   "outputs": [
    {
     "data": {
      "text/plain": [
       "true"
      ]
     },
     "execution_count": 48,
     "metadata": {},
     "output_type": "execute_result"
    }
   ],
   "source": [
    "isless(x[1], x[2]) # isless works within the same CategoricalArray even if it is not ordered"
   ]
  },
  {
   "cell_type": "code",
   "execution_count": 49,
   "metadata": {
    "execution": {
     "iopub.execute_input": "2022-07-18T00:53:18.184000Z",
     "iopub.status.busy": "2022-07-18T00:53:18.183000Z",
     "iopub.status.idle": "2022-07-18T00:53:18.278000Z",
     "shell.execute_reply": "2022-07-18T00:53:18.277000Z"
    }
   },
   "outputs": [
    {
     "data": {
      "text/plain": [
       "true"
      ]
     },
     "execution_count": 49,
     "metadata": {},
     "output_type": "execute_result"
    }
   ],
   "source": [
    "y = deepcopy(x) # but not across categorical arrays\n",
    "isless(x[1], y[2])"
   ]
  },
  {
   "cell_type": "code",
   "execution_count": 50,
   "metadata": {
    "execution": {
     "iopub.execute_input": "2022-07-18T00:53:18.280000Z",
     "iopub.status.busy": "2022-07-18T00:53:18.280000Z",
     "iopub.status.idle": "2022-07-18T00:53:18.288000Z",
     "shell.execute_reply": "2022-07-18T00:53:18.287000Z"
    }
   },
   "outputs": [
    {
     "data": {
      "text/plain": [
       "true"
      ]
     },
     "execution_count": 50,
     "metadata": {},
     "output_type": "execute_result"
    }
   ],
   "source": [
    "isless(unwrap(x[1]), unwrap(y[2])) # you can use get to make a comparison of the contents of CategoricalArray"
   ]
  },
  {
   "cell_type": "code",
   "execution_count": 51,
   "metadata": {
    "execution": {
     "iopub.execute_input": "2022-07-18T00:53:18.290000Z",
     "iopub.status.busy": "2022-07-18T00:53:18.289000Z",
     "iopub.status.idle": "2022-07-18T00:53:18.311000Z",
     "shell.execute_reply": "2022-07-18T00:53:18.310000Z"
    }
   },
   "outputs": [
    {
     "data": {
      "text/plain": [
       "false"
      ]
     },
     "execution_count": 51,
     "metadata": {},
     "output_type": "execute_result"
    }
   ],
   "source": [
    "x[1] == y[2] # equality tests works OK across CategoricalArrays"
   ]
  },
  {
   "cell_type": "markdown",
   "metadata": {},
   "source": [
    "## Categorical columns in a DataFrame"
   ]
  },
  {
   "cell_type": "code",
   "execution_count": 52,
   "metadata": {
    "execution": {
     "iopub.execute_input": "2022-07-18T00:53:18.313000Z",
     "iopub.status.busy": "2022-07-18T00:53:18.313000Z",
     "iopub.status.idle": "2022-07-18T00:53:18.677000Z",
     "shell.execute_reply": "2022-07-18T00:53:18.676000Z"
    }
   },
   "outputs": [
    {
     "data": {
      "text/html": [
       "<div class=\"data-frame\"><p>3 rows × 3 columns</p><table class=\"data-frame\"><thead><tr><th></th><th>x</th><th>y</th><th>z</th></tr><tr><th></th><th title=\"Int64\">Int64</th><th title=\"Char\">Char</th><th title=\"String\">String</th></tr></thead><tbody><tr><th>1</th><td>1</td><td>a</td><td>a</td></tr><tr><th>2</th><td>2</td><td>b</td><td>b</td></tr><tr><th>3</th><td>3</td><td>c</td><td>c</td></tr></tbody></table></div>"
      ],
      "text/latex": [
       "\\begin{tabular}{r|ccc}\n",
       "\t& x & y & z\\\\\n",
       "\t\\hline\n",
       "\t& Int64 & Char & String\\\\\n",
       "\t\\hline\n",
       "\t1 & 1 & a & a \\\\\n",
       "\t2 & 2 & b & b \\\\\n",
       "\t3 & 3 & c & c \\\\\n",
       "\\end{tabular}\n"
      ],
      "text/plain": [
       "\u001b[1m3×3 DataFrame\u001b[0m\n",
       "\u001b[1m Row \u001b[0m│\u001b[1m x     \u001b[0m\u001b[1m y    \u001b[0m\u001b[1m z      \u001b[0m\n",
       "\u001b[1m     \u001b[0m│\u001b[90m Int64 \u001b[0m\u001b[90m Char \u001b[0m\u001b[90m String \u001b[0m\n",
       "─────┼─────────────────────\n",
       "   1 │     1  a     a\n",
       "   2 │     2  b     b\n",
       "   3 │     3  c     c"
      ]
     },
     "execution_count": 52,
     "metadata": {},
     "output_type": "execute_result"
    }
   ],
   "source": [
    "df = DataFrame(x = 1:3, y = 'a':'c', z = [\"a\",\"b\",\"c\"])"
   ]
  },
  {
   "cell_type": "markdown",
   "metadata": {},
   "source": [
    "Convert all `String` columns to categorical in-place"
   ]
  },
  {
   "cell_type": "code",
   "execution_count": 53,
   "metadata": {
    "execution": {
     "iopub.execute_input": "2022-07-18T00:53:18.679000Z",
     "iopub.status.busy": "2022-07-18T00:53:18.679000Z",
     "iopub.status.idle": "2022-07-18T00:53:19.633000Z",
     "shell.execute_reply": "2022-07-18T00:53:19.633000Z"
    }
   },
   "outputs": [
    {
     "data": {
      "text/html": [
       "<div class=\"data-frame\"><p>3 rows × 3 columns</p><table class=\"data-frame\"><thead><tr><th></th><th>x</th><th>y</th><th>z</th></tr><tr><th></th><th title=\"Int64\">Int64</th><th title=\"Char\">Char</th><th title=\"CategoricalValue{String, UInt32}\">Cat…</th></tr></thead><tbody><tr><th>1</th><td>1</td><td>a</td><td>a</td></tr><tr><th>2</th><td>2</td><td>b</td><td>b</td></tr><tr><th>3</th><td>3</td><td>c</td><td>c</td></tr></tbody></table></div>"
      ],
      "text/latex": [
       "\\begin{tabular}{r|ccc}\n",
       "\t& x & y & z\\\\\n",
       "\t\\hline\n",
       "\t& Int64 & Char & Cat…\\\\\n",
       "\t\\hline\n",
       "\t1 & 1 & a & a \\\\\n",
       "\t2 & 2 & b & b \\\\\n",
       "\t3 & 3 & c & c \\\\\n",
       "\\end{tabular}\n"
      ],
      "text/plain": [
       "\u001b[1m3×3 DataFrame\u001b[0m\n",
       "\u001b[1m Row \u001b[0m│\u001b[1m x     \u001b[0m\u001b[1m y    \u001b[0m\u001b[1m z    \u001b[0m\n",
       "\u001b[1m     \u001b[0m│\u001b[90m Int64 \u001b[0m\u001b[90m Char \u001b[0m\u001b[90m Cat… \u001b[0m\n",
       "─────┼───────────────────\n",
       "   1 │     1  a     a\n",
       "   2 │     2  b     b\n",
       "   3 │     3  c     c"
      ]
     },
     "execution_count": 53,
     "metadata": {},
     "output_type": "execute_result"
    }
   ],
   "source": [
    "transform!(df, names(df, String) => categorical, renamecols=false)"
   ]
  },
  {
   "cell_type": "code",
   "execution_count": 54,
   "metadata": {
    "execution": {
     "iopub.execute_input": "2022-07-18T00:53:19.636000Z",
     "iopub.status.busy": "2022-07-18T00:53:19.636000Z",
     "iopub.status.idle": "2022-07-18T00:53:22.100000Z",
     "shell.execute_reply": "2022-07-18T00:53:22.100000Z"
    }
   },
   "outputs": [
    {
     "data": {
      "text/html": [
       "<div class=\"data-frame\"><p>3 rows × 7 columns</p><table class=\"data-frame\"><thead><tr><th></th><th>variable</th><th>mean</th><th>min</th><th>median</th><th>max</th><th>nmissing</th><th>eltype</th></tr><tr><th></th><th title=\"Symbol\">Symbol</th><th title=\"Union{Nothing, Float64}\">Union…</th><th title=\"Any\">Any</th><th title=\"Union{Nothing, Float64}\">Union…</th><th title=\"Any\">Any</th><th title=\"Int64\">Int64</th><th title=\"DataType\">DataType</th></tr></thead><tbody><tr><th>1</th><td>x</td><td>2.0</td><td>1</td><td>2.0</td><td>3</td><td>0</td><td>Int64</td></tr><tr><th>2</th><td>y</td><td></td><td>a</td><td></td><td>c</td><td>0</td><td>Char</td></tr><tr><th>3</th><td>z</td><td></td><td>a</td><td></td><td>c</td><td>0</td><td>CategoricalValue{String, UInt32}</td></tr></tbody></table></div>"
      ],
      "text/latex": [
       "\\begin{tabular}{r|ccccccc}\n",
       "\t& variable & mean & min & median & max & nmissing & eltype\\\\\n",
       "\t\\hline\n",
       "\t& Symbol & Union… & Any & Union… & Any & Int64 & DataType\\\\\n",
       "\t\\hline\n",
       "\t1 & x & 2.0 & 1 & 2.0 & 3 & 0 & Int64 \\\\\n",
       "\t2 & y &  & a &  & c & 0 & Char \\\\\n",
       "\t3 & z &  & a &  & c & 0 & CategoricalValue\\{String, UInt32\\} \\\\\n",
       "\\end{tabular}\n"
      ],
      "text/plain": [
       "\u001b[1m3×7 DataFrame\u001b[0m\n",
       "\u001b[1m Row \u001b[0m│\u001b[1m variable \u001b[0m\u001b[1m mean   \u001b[0m\u001b[1m min \u001b[0m\u001b[1m median \u001b[0m\u001b[1m max \u001b[0m\u001b[1m nmissing \u001b[0m\u001b[1m eltype                   \u001b[0m ⋯\n",
       "\u001b[1m     \u001b[0m│\u001b[90m Symbol   \u001b[0m\u001b[90m Union… \u001b[0m\u001b[90m Any \u001b[0m\u001b[90m Union… \u001b[0m\u001b[90m Any \u001b[0m\u001b[90m Int64    \u001b[0m\u001b[90m DataType                 \u001b[0m ⋯\n",
       "─────┼──────────────────────────────────────────────────────────────────────────\n",
       "   1 │ x         2.0     1    2.0     3           0  Int64                     ⋯\n",
       "   2 │ y        \u001b[90m        \u001b[0m a   \u001b[90m        \u001b[0m c           0  Char\n",
       "   3 │ z        \u001b[90m        \u001b[0m a   \u001b[90m        \u001b[0m c           0  CategoricalValue{String,\n",
       "\u001b[36m                                                                1 column omitted\u001b[0m"
      ]
     },
     "execution_count": 54,
     "metadata": {},
     "output_type": "execute_result"
    }
   ],
   "source": [
    "describe(df)"
   ]
  }
 ],
 "metadata": {
  "@webio": {
   "lastCommId": null,
   "lastKernelId": null
  },
  "kernelspec": {
   "display_name": "Julia 1.7.2",
   "language": "julia",
   "name": "julia-1.7"
  },
  "language_info": {
   "file_extension": ".jl",
   "mimetype": "application/julia",
   "name": "julia",
   "version": "1.7.3"
  }
 },
 "nbformat": 4,
 "nbformat_minor": 1
}
