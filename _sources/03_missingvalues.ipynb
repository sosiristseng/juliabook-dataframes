{
 "cells": [
  {
   "cell_type": "markdown",
   "metadata": {},
   "source": [
    "# Handling missing values\n",
    "\n",
    "A singelton type `Missing` allows us to deal with missing values."
   ]
  },
  {
   "cell_type": "code",
   "execution_count": 1,
   "metadata": {
    "execution": {
     "iopub.execute_input": "2022-07-18T00:53:47.210000Z",
     "iopub.status.busy": "2022-07-18T00:53:46.779000Z",
     "iopub.status.idle": "2022-07-18T00:53:48.773000Z",
     "shell.execute_reply": "2022-07-18T00:53:48.662000Z"
    }
   },
   "outputs": [],
   "source": [
    "using DataFrames"
   ]
  },
  {
   "cell_type": "code",
   "execution_count": 2,
   "metadata": {
    "execution": {
     "iopub.execute_input": "2022-07-18T00:53:48.775000Z",
     "iopub.status.busy": "2022-07-18T00:53:48.775000Z",
     "iopub.status.idle": "2022-07-18T00:53:49.608000Z",
     "shell.execute_reply": "2022-07-18T00:53:49.608000Z"
    }
   },
   "outputs": [
    {
     "data": {
      "text/plain": [
       "(missing, Missing)"
      ]
     },
     "execution_count": 2,
     "metadata": {},
     "output_type": "execute_result"
    }
   ],
   "source": [
    "missing, typeof(missing)"
   ]
  },
  {
   "cell_type": "markdown",
   "metadata": {},
   "source": [
    "Arrays automatically create an appropriate union type."
   ]
  },
  {
   "cell_type": "code",
   "execution_count": 3,
   "metadata": {
    "execution": {
     "iopub.execute_input": "2022-07-18T00:53:49.631000Z",
     "iopub.status.busy": "2022-07-18T00:53:49.630000Z",
     "iopub.status.idle": "2022-07-18T00:53:50.798000Z",
     "shell.execute_reply": "2022-07-18T00:53:50.798000Z"
    }
   },
   "outputs": [
    {
     "data": {
      "text/plain": [
       "4-element Vector{Union{Missing, Int64}}:\n",
       " 1\n",
       " 2\n",
       "  missing\n",
       " 3"
      ]
     },
     "execution_count": 3,
     "metadata": {},
     "output_type": "execute_result"
    }
   ],
   "source": [
    "x = [1, 2, missing, 3]"
   ]
  },
  {
   "cell_type": "markdown",
   "metadata": {},
   "source": [
    "`ismissing` checks if passed value is missing."
   ]
  },
  {
   "cell_type": "code",
   "execution_count": 4,
   "metadata": {
    "execution": {
     "iopub.execute_input": "2022-07-18T00:53:50.802000Z",
     "iopub.status.busy": "2022-07-18T00:53:50.802000Z",
     "iopub.status.idle": "2022-07-18T00:53:51.489000Z",
     "shell.execute_reply": "2022-07-18T00:53:51.489000Z"
    }
   },
   "outputs": [
    {
     "data": {
      "text/plain": [
       "(false, true, false, Bool[0, 0, 1, 0])"
      ]
     },
     "execution_count": 4,
     "metadata": {},
     "output_type": "execute_result"
    }
   ],
   "source": [
    "ismissing(1), ismissing(missing), ismissing(x), ismissing.(x)"
   ]
  },
  {
   "cell_type": "markdown",
   "metadata": {},
   "source": [
    "We can extract the type combined with Missing from a `Union` via `nonmissingtype`\n",
    "\n",
    "(This is useful for arrays!)"
   ]
  },
  {
   "cell_type": "code",
   "execution_count": 5,
   "metadata": {
    "execution": {
     "iopub.execute_input": "2022-07-18T00:53:51.493000Z",
     "iopub.status.busy": "2022-07-18T00:53:51.492000Z",
     "iopub.status.idle": "2022-07-18T00:53:51.823000Z",
     "shell.execute_reply": "2022-07-18T00:53:51.823000Z"
    }
   },
   "outputs": [
    {
     "data": {
      "text/plain": [
       "(Union{Missing, Int64}, Int64)"
      ]
     },
     "execution_count": 5,
     "metadata": {},
     "output_type": "execute_result"
    }
   ],
   "source": [
    "eltype(x), nonmissingtype(eltype(x))"
   ]
  },
  {
   "cell_type": "markdown",
   "metadata": {},
   "source": [
    "`missing` comparisons produce `missing`."
   ]
  },
  {
   "cell_type": "code",
   "execution_count": 6,
   "metadata": {
    "execution": {
     "iopub.execute_input": "2022-07-18T00:53:51.826000Z",
     "iopub.status.busy": "2022-07-18T00:53:51.826000Z",
     "iopub.status.idle": "2022-07-18T00:53:52.078000Z",
     "shell.execute_reply": "2022-07-18T00:53:52.078000Z"
    }
   },
   "outputs": [
    {
     "data": {
      "text/plain": [
       "(missing, missing, missing)"
      ]
     },
     "execution_count": 6,
     "metadata": {},
     "output_type": "execute_result"
    }
   ],
   "source": [
    "missing == missing, missing != missing, missing < missing"
   ]
  },
  {
   "cell_type": "markdown",
   "metadata": {},
   "source": [
    "This is also true when `missing`s are compared with values of other types."
   ]
  },
  {
   "cell_type": "code",
   "execution_count": 7,
   "metadata": {
    "execution": {
     "iopub.execute_input": "2022-07-18T00:53:52.082000Z",
     "iopub.status.busy": "2022-07-18T00:53:52.081000Z",
     "iopub.status.idle": "2022-07-18T00:53:52.083000Z",
     "shell.execute_reply": "2022-07-18T00:53:52.083000Z"
    }
   },
   "outputs": [
    {
     "data": {
      "text/plain": [
       "(missing, missing, missing)"
      ]
     },
     "execution_count": 7,
     "metadata": {},
     "output_type": "execute_result"
    }
   ],
   "source": [
    "1 == missing, 1 != missing, 1 < missing"
   ]
  },
  {
   "cell_type": "markdown",
   "metadata": {},
   "source": [
    "`isequal`, `isless`, and `===` produce results of type `Bool`. Notice that `missing` is considered greater than any numeric value."
   ]
  },
  {
   "cell_type": "code",
   "execution_count": 8,
   "metadata": {
    "execution": {
     "iopub.execute_input": "2022-07-18T00:53:52.088000Z",
     "iopub.status.busy": "2022-07-18T00:53:52.088000Z",
     "iopub.status.idle": "2022-07-18T00:53:52.409000Z",
     "shell.execute_reply": "2022-07-18T00:53:52.408000Z"
    }
   },
   "outputs": [
    {
     "data": {
      "text/plain": [
       "(true, true, false, true)"
      ]
     },
     "execution_count": 8,
     "metadata": {},
     "output_type": "execute_result"
    }
   ],
   "source": [
    "isequal(missing, missing), missing === missing, isequal(1, missing), isless(1, missing)"
   ]
  },
  {
   "cell_type": "markdown",
   "metadata": {},
   "source": [
    "In the next few examples, we see that many (not all) functions handle `missing`."
   ]
  },
  {
   "cell_type": "code",
   "execution_count": 9,
   "metadata": {
    "execution": {
     "iopub.execute_input": "2022-07-18T00:53:52.412000Z",
     "iopub.status.busy": "2022-07-18T00:53:52.412000Z",
     "iopub.status.idle": "2022-07-18T00:53:52.974000Z",
     "shell.execute_reply": "2022-07-18T00:53:52.974000Z"
    }
   },
   "outputs": [
    {
     "data": {
      "text/plain": [
       "4-element Vector{Missing}:\n",
       " missing\n",
       " missing\n",
       " missing\n",
       " missing"
      ]
     },
     "execution_count": 9,
     "metadata": {},
     "output_type": "execute_result"
    }
   ],
   "source": [
    "map(x -> x(missing), [sin, cos, zero, sqrt]) # part 1"
   ]
  },
  {
   "cell_type": "code",
   "execution_count": 10,
   "metadata": {
    "execution": {
     "iopub.execute_input": "2022-07-18T00:53:52.978000Z",
     "iopub.status.busy": "2022-07-18T00:53:52.978000Z",
     "iopub.status.idle": "2022-07-18T00:53:53.045000Z",
     "shell.execute_reply": "2022-07-18T00:53:53.045000Z"
    }
   },
   "outputs": [
    {
     "data": {
      "text/plain": [
       "5-element Vector{Missing}:\n",
       " missing\n",
       " missing\n",
       " missing\n",
       " missing\n",
       " missing"
      ]
     },
     "execution_count": 10,
     "metadata": {},
     "output_type": "execute_result"
    }
   ],
   "source": [
    "map(x -> x(missing, 1), [+, - , *, /, div]) # part 2 "
   ]
  },
  {
   "cell_type": "code",
   "execution_count": 11,
   "metadata": {
    "execution": {
     "iopub.execute_input": "2022-07-18T00:53:53.073000Z",
     "iopub.status.busy": "2022-07-18T00:53:53.072000Z",
     "iopub.status.idle": "2022-07-18T00:53:54.739000Z",
     "shell.execute_reply": "2022-07-18T00:53:54.739000Z"
    }
   },
   "outputs": [
    {
     "data": {
      "text/plain": [
       "5-element Vector{Any}:\n",
       " missing\n",
       " missing\n",
       " (missing, missing)\n",
       " missing\n",
       " Union{Missing, Float64}[1.0, 2.0, missing]"
      ]
     },
     "execution_count": 11,
     "metadata": {},
     "output_type": "execute_result"
    }
   ],
   "source": [
    "using Statistics # needed for mean\n",
    "map(x -> x([1,2,missing]), [minimum, maximum, extrema, mean, float]) # part 3"
   ]
  },
  {
   "cell_type": "markdown",
   "metadata": {},
   "source": [
    "`skipmissing` returns iterator skipping missing values. We can use `collect` and `skipmissing` to create an array that excludes these missing values."
   ]
  },
  {
   "cell_type": "code",
   "execution_count": 12,
   "metadata": {
    "execution": {
     "iopub.execute_input": "2022-07-18T00:53:54.743000Z",
     "iopub.status.busy": "2022-07-18T00:53:54.742000Z",
     "iopub.status.idle": "2022-07-18T00:53:55.258000Z",
     "shell.execute_reply": "2022-07-18T00:53:55.258000Z"
    }
   },
   "outputs": [
    {
     "data": {
      "text/plain": [
       "2-element Vector{Int64}:\n",
       " 1\n",
       " 2"
      ]
     },
     "execution_count": 12,
     "metadata": {},
     "output_type": "execute_result"
    }
   ],
   "source": [
    "collect(skipmissing([1, missing, 2, missing]))"
   ]
  },
  {
   "cell_type": "markdown",
   "metadata": {},
   "source": [
    "Here we use `replace` to create a new array that replaces all missing values with some value (`NaN` in this case)."
   ]
  },
  {
   "cell_type": "code",
   "execution_count": 13,
   "metadata": {
    "execution": {
     "iopub.execute_input": "2022-07-18T00:53:55.261000Z",
     "iopub.status.busy": "2022-07-18T00:53:55.261000Z",
     "iopub.status.idle": "2022-07-18T00:53:55.863000Z",
     "shell.execute_reply": "2022-07-18T00:53:55.863000Z"
    }
   },
   "outputs": [
    {
     "data": {
      "text/plain": [
       "4-element Vector{Float64}:\n",
       "   1.0\n",
       " NaN\n",
       "   2.0\n",
       " NaN"
      ]
     },
     "execution_count": 13,
     "metadata": {},
     "output_type": "execute_result"
    }
   ],
   "source": [
    "replace([1.0, missing, 2.0, missing], missing=>NaN)"
   ]
  },
  {
   "cell_type": "markdown",
   "metadata": {},
   "source": [
    "Another way to do this:"
   ]
  },
  {
   "cell_type": "code",
   "execution_count": 14,
   "metadata": {
    "execution": {
     "iopub.execute_input": "2022-07-18T00:53:55.867000Z",
     "iopub.status.busy": "2022-07-18T00:53:55.866000Z",
     "iopub.status.idle": "2022-07-18T00:53:55.937000Z",
     "shell.execute_reply": "2022-07-18T00:53:55.937000Z"
    }
   },
   "outputs": [
    {
     "data": {
      "text/plain": [
       "4-element Vector{Float64}:\n",
       "   1.0\n",
       " NaN\n",
       "   2.0\n",
       " NaN"
      ]
     },
     "execution_count": 14,
     "metadata": {},
     "output_type": "execute_result"
    }
   ],
   "source": [
    "coalesce.([1.0, missing, 2.0, missing], NaN)"
   ]
  },
  {
   "cell_type": "markdown",
   "metadata": {},
   "source": [
    "You can also use `recode` from CategoricalArrays.jl if you have a default output value."
   ]
  },
  {
   "cell_type": "code",
   "execution_count": 15,
   "metadata": {
    "execution": {
     "iopub.execute_input": "2022-07-18T00:53:55.940000Z",
     "iopub.status.busy": "2022-07-18T00:53:55.940000Z",
     "iopub.status.idle": "2022-07-18T00:53:57.296000Z",
     "shell.execute_reply": "2022-07-18T00:53:57.296000Z"
    }
   },
   "outputs": [],
   "source": [
    "using CategoricalArrays"
   ]
  },
  {
   "cell_type": "code",
   "execution_count": 16,
   "metadata": {
    "execution": {
     "iopub.execute_input": "2022-07-18T00:53:57.409000Z",
     "iopub.status.busy": "2022-07-18T00:53:57.298000Z",
     "iopub.status.idle": "2022-07-18T00:53:58.220000Z",
     "shell.execute_reply": "2022-07-18T00:53:58.220000Z"
    }
   },
   "outputs": [
    {
     "data": {
      "text/plain": [
       "4-element Vector{Bool}:\n",
       " 0\n",
       " 1\n",
       " 0\n",
       " 1"
      ]
     },
     "execution_count": 16,
     "metadata": {},
     "output_type": "execute_result"
    }
   ],
   "source": [
    "recode([1.0, missing, 2.0, missing], false, missing=>true)"
   ]
  },
  {
   "cell_type": "markdown",
   "metadata": {},
   "source": [
    "There are also `replace!` and `recode!` functions that work in place."
   ]
  },
  {
   "cell_type": "markdown",
   "metadata": {},
   "source": [
    "Here is an example how you can to missing inputation in a data frame."
   ]
  },
  {
   "cell_type": "code",
   "execution_count": 17,
   "metadata": {
    "execution": {
     "iopub.execute_input": "2022-07-18T00:53:58.224000Z",
     "iopub.status.busy": "2022-07-18T00:53:58.223000Z",
     "iopub.status.idle": "2022-07-18T00:54:02.995000Z",
     "shell.execute_reply": "2022-07-18T00:54:02.994000Z"
    }
   },
   "outputs": [
    {
     "data": {
      "text/html": [
       "<div class=\"data-frame\"><p>3 rows × 2 columns</p><table class=\"data-frame\"><thead><tr><th></th><th>a</th><th>b</th></tr><tr><th></th><th title=\"Union{Missing, Int64}\">Int64?</th><th title=\"Union{Missing, String}\">String?</th></tr></thead><tbody><tr><th>1</th><td>1</td><td>a</td></tr><tr><th>2</th><td>2</td><td>b</td></tr><tr><th>3</th><td><em>missing</em></td><td><em>missing</em></td></tr></tbody></table></div>"
      ],
      "text/latex": [
       "\\begin{tabular}{r|cc}\n",
       "\t& a & b\\\\\n",
       "\t\\hline\n",
       "\t& Int64? & String?\\\\\n",
       "\t\\hline\n",
       "\t1 & 1 & a \\\\\n",
       "\t2 & 2 & b \\\\\n",
       "\t3 & \\emph{missing} & \\emph{missing} \\\\\n",
       "\\end{tabular}\n"
      ],
      "text/plain": [
       "\u001b[1m3×2 DataFrame\u001b[0m\n",
       "\u001b[1m Row \u001b[0m│\u001b[1m a       \u001b[0m\u001b[1m b       \u001b[0m\n",
       "\u001b[1m     \u001b[0m│\u001b[90m Int64?  \u001b[0m\u001b[90m String? \u001b[0m\n",
       "─────┼──────────────────\n",
       "   1 │       1  a\n",
       "   2 │       2  b\n",
       "   3 │\u001b[90m missing \u001b[0m\u001b[90m missing \u001b[0m"
      ]
     },
     "execution_count": 17,
     "metadata": {},
     "output_type": "execute_result"
    }
   ],
   "source": [
    "df = DataFrame(a=[1,2,missing], b=[\"a\", \"b\", missing])"
   ]
  },
  {
   "cell_type": "markdown",
   "metadata": {},
   "source": [
    "we change `df.a` vector in place."
   ]
  },
  {
   "cell_type": "code",
   "execution_count": 18,
   "metadata": {
    "execution": {
     "iopub.execute_input": "2022-07-18T00:54:02.998000Z",
     "iopub.status.busy": "2022-07-18T00:54:02.998000Z",
     "iopub.status.idle": "2022-07-18T00:54:03.136000Z",
     "shell.execute_reply": "2022-07-18T00:54:03.136000Z"
    }
   },
   "outputs": [
    {
     "data": {
      "text/plain": [
       "3-element Vector{Union{Missing, Int64}}:\n",
       "   1\n",
       "   2\n",
       " 100"
      ]
     },
     "execution_count": 18,
     "metadata": {},
     "output_type": "execute_result"
    }
   ],
   "source": [
    "replace!(df.a, missing=>100)"
   ]
  },
  {
   "cell_type": "markdown",
   "metadata": {},
   "source": [
    "Now we overwrite `df.b` with a new vector, because the replacement type is different than what `eltype(df.b)` accepts."
   ]
  },
  {
   "cell_type": "code",
   "execution_count": 19,
   "metadata": {
    "execution": {
     "iopub.execute_input": "2022-07-18T00:54:03.139000Z",
     "iopub.status.busy": "2022-07-18T00:54:03.139000Z",
     "iopub.status.idle": "2022-07-18T00:54:03.608000Z",
     "shell.execute_reply": "2022-07-18T00:54:03.608000Z"
    }
   },
   "outputs": [
    {
     "data": {
      "text/plain": [
       "3-element Vector{Any}:\n",
       "    \"a\"\n",
       "    \"b\"\n",
       " 100"
      ]
     },
     "execution_count": 19,
     "metadata": {},
     "output_type": "execute_result"
    }
   ],
   "source": [
    "df.b = coalesce.(df.b, 100)"
   ]
  },
  {
   "cell_type": "code",
   "execution_count": 20,
   "metadata": {
    "execution": {
     "iopub.execute_input": "2022-07-18T00:54:03.611000Z",
     "iopub.status.busy": "2022-07-18T00:54:03.611000Z",
     "iopub.status.idle": "2022-07-18T00:54:03.707000Z",
     "shell.execute_reply": "2022-07-18T00:54:03.707000Z"
    }
   },
   "outputs": [
    {
     "data": {
      "text/html": [
       "<div class=\"data-frame\"><p>3 rows × 2 columns</p><table class=\"data-frame\"><thead><tr><th></th><th>a</th><th>b</th></tr><tr><th></th><th title=\"Union{Missing, Int64}\">Int64?</th><th title=\"Any\">Any</th></tr></thead><tbody><tr><th>1</th><td>1</td><td>a</td></tr><tr><th>2</th><td>2</td><td>b</td></tr><tr><th>3</th><td>100</td><td>100</td></tr></tbody></table></div>"
      ],
      "text/latex": [
       "\\begin{tabular}{r|cc}\n",
       "\t& a & b\\\\\n",
       "\t\\hline\n",
       "\t& Int64? & Any\\\\\n",
       "\t\\hline\n",
       "\t1 & 1 & a \\\\\n",
       "\t2 & 2 & b \\\\\n",
       "\t3 & 100 & 100 \\\\\n",
       "\\end{tabular}\n"
      ],
      "text/plain": [
       "\u001b[1m3×2 DataFrame\u001b[0m\n",
       "\u001b[1m Row \u001b[0m│\u001b[1m a      \u001b[0m\u001b[1m b   \u001b[0m\n",
       "\u001b[1m     \u001b[0m│\u001b[90m Int64? \u001b[0m\u001b[90m Any \u001b[0m\n",
       "─────┼─────────────\n",
       "   1 │      1  a\n",
       "   2 │      2  b\n",
       "   3 │    100  100"
      ]
     },
     "execution_count": 20,
     "metadata": {},
     "output_type": "execute_result"
    }
   ],
   "source": [
    "df"
   ]
  },
  {
   "cell_type": "markdown",
   "metadata": {},
   "source": [
    "You can use `unique` or `levels` to get unique values with or without missings, respectively."
   ]
  },
  {
   "cell_type": "code",
   "execution_count": 21,
   "metadata": {
    "execution": {
     "iopub.execute_input": "2022-07-18T00:54:03.710000Z",
     "iopub.status.busy": "2022-07-18T00:54:03.710000Z",
     "iopub.status.idle": "2022-07-18T00:54:04.403000Z",
     "shell.execute_reply": "2022-07-18T00:54:04.403000Z"
    }
   },
   "outputs": [
    {
     "data": {
      "text/plain": [
       "(Union{Missing, Int64}[1, missing, 2], [1, 2])"
      ]
     },
     "execution_count": 21,
     "metadata": {},
     "output_type": "execute_result"
    }
   ],
   "source": [
    "unique([1, missing, 2, missing]), levels([1, missing, 2, missing])"
   ]
  },
  {
   "cell_type": "markdown",
   "metadata": {},
   "source": [
    "In this next example, we convert `x` to `y` with `allowmissing`, where `y` has a type that accepts missings."
   ]
  },
  {
   "cell_type": "code",
   "execution_count": 22,
   "metadata": {
    "execution": {
     "iopub.execute_input": "2022-07-18T00:54:04.407000Z",
     "iopub.status.busy": "2022-07-18T00:54:04.407000Z",
     "iopub.status.idle": "2022-07-18T00:54:04.471000Z",
     "shell.execute_reply": "2022-07-18T00:54:04.471000Z"
    }
   },
   "outputs": [
    {
     "data": {
      "text/plain": [
       "3-element Vector{Union{Missing, Int64}}:\n",
       " 1\n",
       " 2\n",
       " 3"
      ]
     },
     "execution_count": 22,
     "metadata": {},
     "output_type": "execute_result"
    }
   ],
   "source": [
    "x = [1,2,3]\n",
    "y = allowmissing(x)"
   ]
  },
  {
   "cell_type": "markdown",
   "metadata": {},
   "source": [
    "Then, we convert back with `disallowmissing`. This would fail if `y` contained missing values!"
   ]
  },
  {
   "cell_type": "code",
   "execution_count": 23,
   "metadata": {
    "execution": {
     "iopub.execute_input": "2022-07-18T00:54:04.475000Z",
     "iopub.status.busy": "2022-07-18T00:54:04.475000Z",
     "iopub.status.idle": "2022-07-18T00:54:04.854000Z",
     "shell.execute_reply": "2022-07-18T00:54:04.854000Z"
    }
   },
   "outputs": [
    {
     "data": {
      "text/plain": [
       "([1, 2, 3], Union{Missing, Int64}[1, 2, 3], [1, 2, 3])"
      ]
     },
     "execution_count": 23,
     "metadata": {},
     "output_type": "execute_result"
    }
   ],
   "source": [
    "z = disallowmissing(y)\n",
    "x,y,z"
   ]
  },
  {
   "cell_type": "markdown",
   "metadata": {},
   "source": [
    "`disallowmissing` has `error` keyword argument that can be used to decide how it should behave when it encounters a column that actually contains a `missing` value"
   ]
  },
  {
   "cell_type": "code",
   "execution_count": 24,
   "metadata": {
    "execution": {
     "iopub.execute_input": "2022-07-18T00:54:04.858000Z",
     "iopub.status.busy": "2022-07-18T00:54:04.858000Z",
     "iopub.status.idle": "2022-07-18T00:54:05.476000Z",
     "shell.execute_reply": "2022-07-18T00:54:05.476000Z"
    }
   },
   "outputs": [
    {
     "data": {
      "text/html": [
       "<div class=\"data-frame\"><p>2 rows × 3 columns</p><table class=\"data-frame\"><thead><tr><th></th><th>x1</th><th>x2</th><th>x3</th></tr><tr><th></th><th title=\"Union{Missing, Float64}\">Float64?</th><th title=\"Union{Missing, Float64}\">Float64?</th><th title=\"Union{Missing, Float64}\">Float64?</th></tr></thead><tbody><tr><th>1</th><td>1.0</td><td>1.0</td><td>1.0</td></tr><tr><th>2</th><td>1.0</td><td>1.0</td><td>1.0</td></tr></tbody></table></div>"
      ],
      "text/latex": [
       "\\begin{tabular}{r|ccc}\n",
       "\t& x1 & x2 & x3\\\\\n",
       "\t\\hline\n",
       "\t& Float64? & Float64? & Float64?\\\\\n",
       "\t\\hline\n",
       "\t1 & 1.0 & 1.0 & 1.0 \\\\\n",
       "\t2 & 1.0 & 1.0 & 1.0 \\\\\n",
       "\\end{tabular}\n"
      ],
      "text/plain": [
       "\u001b[1m2×3 DataFrame\u001b[0m\n",
       "\u001b[1m Row \u001b[0m│\u001b[1m x1       \u001b[0m\u001b[1m x2       \u001b[0m\u001b[1m x3       \u001b[0m\n",
       "\u001b[1m     \u001b[0m│\u001b[90m Float64? \u001b[0m\u001b[90m Float64? \u001b[0m\u001b[90m Float64? \u001b[0m\n",
       "─────┼──────────────────────────────\n",
       "   1 │      1.0       1.0       1.0\n",
       "   2 │      1.0       1.0       1.0"
      ]
     },
     "execution_count": 24,
     "metadata": {},
     "output_type": "execute_result"
    }
   ],
   "source": [
    "df = allowmissing(DataFrame(ones(2,3), :auto))"
   ]
  },
  {
   "cell_type": "code",
   "execution_count": 25,
   "metadata": {
    "execution": {
     "iopub.execute_input": "2022-07-18T00:54:05.480000Z",
     "iopub.status.busy": "2022-07-18T00:54:05.480000Z",
     "iopub.status.idle": "2022-07-18T00:54:05.751000Z",
     "shell.execute_reply": "2022-07-18T00:54:05.751000Z"
    }
   },
   "outputs": [
    {
     "data": {
      "text/plain": [
       "missing"
      ]
     },
     "execution_count": 25,
     "metadata": {},
     "output_type": "execute_result"
    }
   ],
   "source": [
    "df[1,1] = missing"
   ]
  },
  {
   "cell_type": "code",
   "execution_count": 26,
   "metadata": {
    "execution": {
     "iopub.execute_input": "2022-07-18T00:54:05.755000Z",
     "iopub.status.busy": "2022-07-18T00:54:05.754000Z",
     "iopub.status.idle": "2022-07-18T00:54:05.764000Z",
     "shell.execute_reply": "2022-07-18T00:54:05.764000Z"
    }
   },
   "outputs": [
    {
     "data": {
      "text/html": [
       "<div class=\"data-frame\"><p>2 rows × 3 columns</p><table class=\"data-frame\"><thead><tr><th></th><th>x1</th><th>x2</th><th>x3</th></tr><tr><th></th><th title=\"Union{Missing, Float64}\">Float64?</th><th title=\"Union{Missing, Float64}\">Float64?</th><th title=\"Union{Missing, Float64}\">Float64?</th></tr></thead><tbody><tr><th>1</th><td><em>missing</em></td><td>1.0</td><td>1.0</td></tr><tr><th>2</th><td>1.0</td><td>1.0</td><td>1.0</td></tr></tbody></table></div>"
      ],
      "text/latex": [
       "\\begin{tabular}{r|ccc}\n",
       "\t& x1 & x2 & x3\\\\\n",
       "\t\\hline\n",
       "\t& Float64? & Float64? & Float64?\\\\\n",
       "\t\\hline\n",
       "\t1 & \\emph{missing} & 1.0 & 1.0 \\\\\n",
       "\t2 & 1.0 & 1.0 & 1.0 \\\\\n",
       "\\end{tabular}\n"
      ],
      "text/plain": [
       "\u001b[1m2×3 DataFrame\u001b[0m\n",
       "\u001b[1m Row \u001b[0m│\u001b[1m x1        \u001b[0m\u001b[1m x2       \u001b[0m\u001b[1m x3       \u001b[0m\n",
       "\u001b[1m     \u001b[0m│\u001b[90m Float64?  \u001b[0m\u001b[90m Float64? \u001b[0m\u001b[90m Float64? \u001b[0m\n",
       "─────┼───────────────────────────────\n",
       "   1 │\u001b[90m missing   \u001b[0m      1.0       1.0\n",
       "   2 │       1.0       1.0       1.0"
      ]
     },
     "execution_count": 26,
     "metadata": {},
     "output_type": "execute_result"
    }
   ],
   "source": [
    "df"
   ]
  },
  {
   "cell_type": "code",
   "execution_count": 27,
   "metadata": {
    "execution": {
     "iopub.execute_input": "2022-07-18T00:54:05.767000Z",
     "iopub.status.busy": "2022-07-18T00:54:05.767000Z",
     "iopub.status.idle": "2022-07-18T00:54:07.044000Z",
     "shell.execute_reply": "2022-07-18T00:54:07.044000Z"
    }
   },
   "outputs": [
    {
     "ename": "LoadError",
     "evalue": "ArgumentError: Missing value found in column :x1 in row 1",
     "output_type": "error",
     "traceback": [
      "ArgumentError: Missing value found in column :x1 in row 1",
      "",
      "Stacktrace:",
      " [1] disallowmissing(df::DataFrame, cols::Colon; error::Bool)",
      "   @ DataFrames ~/.julia/packages/DataFrames/zqFGs/src/abstractdataframe/abstractdataframe.jl:2072",
      " [2] disallowmissing (repeats 2 times)",
      "   @ ~/.julia/packages/DataFrames/zqFGs/src/abstractdataframe/abstractdataframe.jl:2058 [inlined]",
      " [3] top-level scope",
      "   @ In[27]:1",
      " [4] eval",
      "   @ ./boot.jl:373 [inlined]",
      " [5] include_string(mapexpr::typeof(REPL.softscope), mod::Module, code::String, filename::String)",
      "   @ Base ./loading.jl:1196"
     ]
    }
   ],
   "source": [
    "disallowmissing(df) # an error is thrown"
   ]
  },
  {
   "cell_type": "code",
   "execution_count": 28,
   "metadata": {
    "execution": {
     "iopub.execute_input": "2022-07-18T00:54:07.048000Z",
     "iopub.status.busy": "2022-07-18T00:54:07.048000Z",
     "iopub.status.idle": "2022-07-18T00:54:07.150000Z",
     "shell.execute_reply": "2022-07-18T00:54:07.150000Z"
    }
   },
   "outputs": [
    {
     "data": {
      "text/html": [
       "<div class=\"data-frame\"><p>2 rows × 3 columns</p><table class=\"data-frame\"><thead><tr><th></th><th>x1</th><th>x2</th><th>x3</th></tr><tr><th></th><th title=\"Union{Missing, Float64}\">Float64?</th><th title=\"Float64\">Float64</th><th title=\"Float64\">Float64</th></tr></thead><tbody><tr><th>1</th><td><em>missing</em></td><td>1.0</td><td>1.0</td></tr><tr><th>2</th><td>1.0</td><td>1.0</td><td>1.0</td></tr></tbody></table></div>"
      ],
      "text/latex": [
       "\\begin{tabular}{r|ccc}\n",
       "\t& x1 & x2 & x3\\\\\n",
       "\t\\hline\n",
       "\t& Float64? & Float64 & Float64\\\\\n",
       "\t\\hline\n",
       "\t1 & \\emph{missing} & 1.0 & 1.0 \\\\\n",
       "\t2 & 1.0 & 1.0 & 1.0 \\\\\n",
       "\\end{tabular}\n"
      ],
      "text/plain": [
       "\u001b[1m2×3 DataFrame\u001b[0m\n",
       "\u001b[1m Row \u001b[0m│\u001b[1m x1        \u001b[0m\u001b[1m x2      \u001b[0m\u001b[1m x3      \u001b[0m\n",
       "\u001b[1m     \u001b[0m│\u001b[90m Float64?  \u001b[0m\u001b[90m Float64 \u001b[0m\u001b[90m Float64 \u001b[0m\n",
       "─────┼─────────────────────────────\n",
       "   1 │\u001b[90m missing   \u001b[0m     1.0      1.0\n",
       "   2 │       1.0      1.0      1.0"
      ]
     },
     "execution_count": 28,
     "metadata": {},
     "output_type": "execute_result"
    }
   ],
   "source": [
    "disallowmissing(df, error=false) # column :x1 is left untouched as it contains missing"
   ]
  },
  {
   "cell_type": "markdown",
   "metadata": {},
   "source": [
    "In this next example, we show that the type of each column in `x` is initially `Int64`. After using `allowmissing!` to accept missing values in columns 1 and 3, the types of those columns become `Union{Int64,Missing}`."
   ]
  },
  {
   "cell_type": "code",
   "execution_count": 29,
   "metadata": {
    "execution": {
     "iopub.execute_input": "2022-07-18T00:54:07.155000Z",
     "iopub.status.busy": "2022-07-18T00:54:07.155000Z",
     "iopub.status.idle": "2022-07-18T00:54:08.592000Z",
     "shell.execute_reply": "2022-07-18T00:54:08.592000Z"
    }
   },
   "outputs": [
    {
     "name": "stdout",
     "output_type": "stream",
     "text": [
      "Before: DataType[Int64, Int64, Int64]\n",
      "After: Type[Union{Missing, Int64}, Int64, Union{Missing, Int64}]\n"
     ]
    }
   ],
   "source": [
    "x = DataFrame(rand(Int, 2,3), :auto)\n",
    "println(\"Before: \", eltype.(eachcol(x)))\n",
    "allowmissing!(x, 1) # make first column accept missings\n",
    "allowmissing!(x, :x3) # make :x3 column accept missings\n",
    "println(\"After: \", eltype.(eachcol(x)))"
   ]
  },
  {
   "cell_type": "markdown",
   "metadata": {},
   "source": [
    "In this next example, we'll use `completecases` to find all the rows of a `DataFrame` that have complete data."
   ]
  },
  {
   "cell_type": "code",
   "execution_count": 30,
   "metadata": {
    "execution": {
     "iopub.execute_input": "2022-07-18T00:54:08.595000Z",
     "iopub.status.busy": "2022-07-18T00:54:08.595000Z",
     "iopub.status.idle": "2022-07-18T00:54:08.702000Z",
     "shell.execute_reply": "2022-07-18T00:54:08.701000Z"
    }
   },
   "outputs": [
    {
     "data": {
      "text/html": [
       "<div class=\"data-frame\"><p>4 rows × 2 columns</p><table class=\"data-frame\"><thead><tr><th></th><th>A</th><th>B</th></tr><tr><th></th><th title=\"Union{Missing, Int64}\">Int64?</th><th title=\"Union{Missing, String}\">String?</th></tr></thead><tbody><tr><th>1</th><td>1</td><td>A</td></tr><tr><th>2</th><td><em>missing</em></td><td>B</td></tr><tr><th>3</th><td>3</td><td><em>missing</em></td></tr><tr><th>4</th><td>4</td><td>C</td></tr></tbody></table></div>"
      ],
      "text/latex": [
       "\\begin{tabular}{r|cc}\n",
       "\t& A & B\\\\\n",
       "\t\\hline\n",
       "\t& Int64? & String?\\\\\n",
       "\t\\hline\n",
       "\t1 & 1 & A \\\\\n",
       "\t2 & \\emph{missing} & B \\\\\n",
       "\t3 & 3 & \\emph{missing} \\\\\n",
       "\t4 & 4 & C \\\\\n",
       "\\end{tabular}\n"
      ],
      "text/plain": [
       "\u001b[1m4×2 DataFrame\u001b[0m\n",
       "\u001b[1m Row \u001b[0m│\u001b[1m A       \u001b[0m\u001b[1m B       \u001b[0m\n",
       "\u001b[1m     \u001b[0m│\u001b[90m Int64?  \u001b[0m\u001b[90m String? \u001b[0m\n",
       "─────┼──────────────────\n",
       "   1 │       1  A\n",
       "   2 │\u001b[90m missing \u001b[0m B\n",
       "   3 │       3 \u001b[90m missing \u001b[0m\n",
       "   4 │       4  C"
      ]
     },
     "execution_count": 30,
     "metadata": {},
     "output_type": "execute_result"
    }
   ],
   "source": [
    "x = DataFrame(A=[1, missing, 3, 4], B=[\"A\", \"B\", missing, \"C\"])"
   ]
  },
  {
   "cell_type": "code",
   "execution_count": 31,
   "metadata": {
    "execution": {
     "iopub.execute_input": "2022-07-18T00:54:08.705000Z",
     "iopub.status.busy": "2022-07-18T00:54:08.705000Z",
     "iopub.status.idle": "2022-07-18T00:54:09.239000Z",
     "shell.execute_reply": "2022-07-18T00:54:09.239000Z"
    }
   },
   "outputs": [
    {
     "name": "stdout",
     "output_type": "stream",
     "text": [
      "Complete cases:\n",
      "Bool[1, 0, 0, 1]\n"
     ]
    }
   ],
   "source": [
    "println(\"Complete cases:\\n\", completecases(x))"
   ]
  },
  {
   "cell_type": "markdown",
   "metadata": {},
   "source": [
    "We can use `dropmissing` or `dropmissing!` to remove the rows with incomplete data from a `DataFrame` and either create a new `DataFrame` or mutate the original in-place."
   ]
  },
  {
   "cell_type": "code",
   "execution_count": 32,
   "metadata": {
    "execution": {
     "iopub.execute_input": "2022-07-18T00:54:09.243000Z",
     "iopub.status.busy": "2022-07-18T00:54:09.242000Z",
     "iopub.status.idle": "2022-07-18T00:54:09.914000Z",
     "shell.execute_reply": "2022-07-18T00:54:09.914000Z"
    }
   },
   "outputs": [
    {
     "data": {
      "text/html": [
       "<div class=\"data-frame\"><p>2 rows × 2 columns</p><table class=\"data-frame\"><thead><tr><th></th><th>A</th><th>B</th></tr><tr><th></th><th title=\"Int64\">Int64</th><th title=\"String\">String</th></tr></thead><tbody><tr><th>1</th><td>1</td><td>A</td></tr><tr><th>2</th><td>4</td><td>C</td></tr></tbody></table></div>"
      ],
      "text/latex": [
       "\\begin{tabular}{r|cc}\n",
       "\t& A & B\\\\\n",
       "\t\\hline\n",
       "\t& Int64 & String\\\\\n",
       "\t\\hline\n",
       "\t1 & 1 & A \\\\\n",
       "\t2 & 4 & C \\\\\n",
       "\\end{tabular}\n"
      ],
      "text/plain": [
       "\u001b[1m2×2 DataFrame\u001b[0m\n",
       "\u001b[1m Row \u001b[0m│\u001b[1m A     \u001b[0m\u001b[1m B      \u001b[0m\n",
       "\u001b[1m     \u001b[0m│\u001b[90m Int64 \u001b[0m\u001b[90m String \u001b[0m\n",
       "─────┼───────────────\n",
       "   1 │     1  A\n",
       "   2 │     4  C"
      ]
     },
     "execution_count": 32,
     "metadata": {},
     "output_type": "execute_result"
    }
   ],
   "source": [
    "y = dropmissing(x)\n",
    "dropmissing!(x)"
   ]
  },
  {
   "cell_type": "code",
   "execution_count": 33,
   "metadata": {
    "execution": {
     "iopub.execute_input": "2022-07-18T00:54:09.918000Z",
     "iopub.status.busy": "2022-07-18T00:54:09.918000Z",
     "iopub.status.idle": "2022-07-18T00:54:09.919000Z",
     "shell.execute_reply": "2022-07-18T00:54:09.919000Z"
    }
   },
   "outputs": [
    {
     "data": {
      "text/html": [
       "<div class=\"data-frame\"><p>2 rows × 2 columns</p><table class=\"data-frame\"><thead><tr><th></th><th>A</th><th>B</th></tr><tr><th></th><th title=\"Int64\">Int64</th><th title=\"String\">String</th></tr></thead><tbody><tr><th>1</th><td>1</td><td>A</td></tr><tr><th>2</th><td>4</td><td>C</td></tr></tbody></table></div>"
      ],
      "text/latex": [
       "\\begin{tabular}{r|cc}\n",
       "\t& A & B\\\\\n",
       "\t\\hline\n",
       "\t& Int64 & String\\\\\n",
       "\t\\hline\n",
       "\t1 & 1 & A \\\\\n",
       "\t2 & 4 & C \\\\\n",
       "\\end{tabular}\n"
      ],
      "text/plain": [
       "\u001b[1m2×2 DataFrame\u001b[0m\n",
       "\u001b[1m Row \u001b[0m│\u001b[1m A     \u001b[0m\u001b[1m B      \u001b[0m\n",
       "\u001b[1m     \u001b[0m│\u001b[90m Int64 \u001b[0m\u001b[90m String \u001b[0m\n",
       "─────┼───────────────\n",
       "   1 │     1  A\n",
       "   2 │     4  C"
      ]
     },
     "execution_count": 33,
     "metadata": {},
     "output_type": "execute_result"
    }
   ],
   "source": [
    "x"
   ]
  },
  {
   "cell_type": "code",
   "execution_count": 34,
   "metadata": {
    "execution": {
     "iopub.execute_input": "2022-07-18T00:54:09.922000Z",
     "iopub.status.busy": "2022-07-18T00:54:09.921000Z",
     "iopub.status.idle": "2022-07-18T00:54:09.923000Z",
     "shell.execute_reply": "2022-07-18T00:54:09.923000Z"
    }
   },
   "outputs": [
    {
     "data": {
      "text/html": [
       "<div class=\"data-frame\"><p>2 rows × 2 columns</p><table class=\"data-frame\"><thead><tr><th></th><th>A</th><th>B</th></tr><tr><th></th><th title=\"Int64\">Int64</th><th title=\"String\">String</th></tr></thead><tbody><tr><th>1</th><td>1</td><td>A</td></tr><tr><th>2</th><td>4</td><td>C</td></tr></tbody></table></div>"
      ],
      "text/latex": [
       "\\begin{tabular}{r|cc}\n",
       "\t& A & B\\\\\n",
       "\t\\hline\n",
       "\t& Int64 & String\\\\\n",
       "\t\\hline\n",
       "\t1 & 1 & A \\\\\n",
       "\t2 & 4 & C \\\\\n",
       "\\end{tabular}\n"
      ],
      "text/plain": [
       "\u001b[1m2×2 DataFrame\u001b[0m\n",
       "\u001b[1m Row \u001b[0m│\u001b[1m A     \u001b[0m\u001b[1m B      \u001b[0m\n",
       "\u001b[1m     \u001b[0m│\u001b[90m Int64 \u001b[0m\u001b[90m String \u001b[0m\n",
       "─────┼───────────────\n",
       "   1 │     1  A\n",
       "   2 │     4  C"
      ]
     },
     "execution_count": 34,
     "metadata": {},
     "output_type": "execute_result"
    }
   ],
   "source": [
    "y"
   ]
  },
  {
   "cell_type": "markdown",
   "metadata": {},
   "source": [
    "When we call `describe` on a `DataFrame` with dropped missing values, the columns do not allow missing values any more by default."
   ]
  },
  {
   "cell_type": "code",
   "execution_count": 35,
   "metadata": {
    "execution": {
     "iopub.execute_input": "2022-07-18T00:54:09.925000Z",
     "iopub.status.busy": "2022-07-18T00:54:09.925000Z",
     "iopub.status.idle": "2022-07-18T00:54:12.086000Z",
     "shell.execute_reply": "2022-07-18T00:54:12.086000Z"
    }
   },
   "outputs": [
    {
     "data": {
      "text/html": [
       "<div class=\"data-frame\"><p>2 rows × 7 columns</p><table class=\"data-frame\"><thead><tr><th></th><th>variable</th><th>mean</th><th>min</th><th>median</th><th>max</th><th>nmissing</th><th>eltype</th></tr><tr><th></th><th title=\"Symbol\">Symbol</th><th title=\"Union{Nothing, Float64}\">Union…</th><th title=\"Any\">Any</th><th title=\"Union{Nothing, Float64}\">Union…</th><th title=\"Any\">Any</th><th title=\"Int64\">Int64</th><th title=\"DataType\">DataType</th></tr></thead><tbody><tr><th>1</th><td>A</td><td>2.5</td><td>1</td><td>2.5</td><td>4</td><td>0</td><td>Int64</td></tr><tr><th>2</th><td>B</td><td></td><td>A</td><td></td><td>C</td><td>0</td><td>String</td></tr></tbody></table></div>"
      ],
      "text/latex": [
       "\\begin{tabular}{r|ccccccc}\n",
       "\t& variable & mean & min & median & max & nmissing & eltype\\\\\n",
       "\t\\hline\n",
       "\t& Symbol & Union… & Any & Union… & Any & Int64 & DataType\\\\\n",
       "\t\\hline\n",
       "\t1 & A & 2.5 & 1 & 2.5 & 4 & 0 & Int64 \\\\\n",
       "\t2 & B &  & A &  & C & 0 & String \\\\\n",
       "\\end{tabular}\n"
      ],
      "text/plain": [
       "\u001b[1m2×7 DataFrame\u001b[0m\n",
       "\u001b[1m Row \u001b[0m│\u001b[1m variable \u001b[0m\u001b[1m mean   \u001b[0m\u001b[1m min \u001b[0m\u001b[1m median \u001b[0m\u001b[1m max \u001b[0m\u001b[1m nmissing \u001b[0m\u001b[1m eltype   \u001b[0m\n",
       "\u001b[1m     \u001b[0m│\u001b[90m Symbol   \u001b[0m\u001b[90m Union… \u001b[0m\u001b[90m Any \u001b[0m\u001b[90m Union… \u001b[0m\u001b[90m Any \u001b[0m\u001b[90m Int64    \u001b[0m\u001b[90m DataType \u001b[0m\n",
       "─────┼────────────────────────────────────────────────────────\n",
       "   1 │ A         2.5     1    2.5     4           0  Int64\n",
       "   2 │ B        \u001b[90m        \u001b[0m A   \u001b[90m        \u001b[0m C           0  String"
      ]
     },
     "execution_count": 35,
     "metadata": {},
     "output_type": "execute_result"
    }
   ],
   "source": [
    "describe(x)"
   ]
  },
  {
   "cell_type": "markdown",
   "metadata": {},
   "source": [
    "Alternatively you can pass `disallowmissing` keyword argument to `dropmissing` and `dropmissing!`"
   ]
  },
  {
   "cell_type": "code",
   "execution_count": 36,
   "metadata": {
    "execution": {
     "iopub.execute_input": "2022-07-18T00:54:12.090000Z",
     "iopub.status.busy": "2022-07-18T00:54:12.090000Z",
     "iopub.status.idle": "2022-07-18T00:54:12.105000Z",
     "shell.execute_reply": "2022-07-18T00:54:12.105000Z"
    }
   },
   "outputs": [
    {
     "data": {
      "text/html": [
       "<div class=\"data-frame\"><p>4 rows × 2 columns</p><table class=\"data-frame\"><thead><tr><th></th><th>A</th><th>B</th></tr><tr><th></th><th title=\"Union{Missing, Int64}\">Int64?</th><th title=\"Union{Missing, String}\">String?</th></tr></thead><tbody><tr><th>1</th><td>1</td><td>A</td></tr><tr><th>2</th><td><em>missing</em></td><td>B</td></tr><tr><th>3</th><td>3</td><td><em>missing</em></td></tr><tr><th>4</th><td>4</td><td>C</td></tr></tbody></table></div>"
      ],
      "text/latex": [
       "\\begin{tabular}{r|cc}\n",
       "\t& A & B\\\\\n",
       "\t\\hline\n",
       "\t& Int64? & String?\\\\\n",
       "\t\\hline\n",
       "\t1 & 1 & A \\\\\n",
       "\t2 & \\emph{missing} & B \\\\\n",
       "\t3 & 3 & \\emph{missing} \\\\\n",
       "\t4 & 4 & C \\\\\n",
       "\\end{tabular}\n"
      ],
      "text/plain": [
       "\u001b[1m4×2 DataFrame\u001b[0m\n",
       "\u001b[1m Row \u001b[0m│\u001b[1m A       \u001b[0m\u001b[1m B       \u001b[0m\n",
       "\u001b[1m     \u001b[0m│\u001b[90m Int64?  \u001b[0m\u001b[90m String? \u001b[0m\n",
       "─────┼──────────────────\n",
       "   1 │       1  A\n",
       "   2 │\u001b[90m missing \u001b[0m B\n",
       "   3 │       3 \u001b[90m missing \u001b[0m\n",
       "   4 │       4  C"
      ]
     },
     "execution_count": 36,
     "metadata": {},
     "output_type": "execute_result"
    }
   ],
   "source": [
    "x = DataFrame(A=[1, missing, 3, 4], B=[\"A\", \"B\", missing, \"C\"])"
   ]
  },
  {
   "cell_type": "code",
   "execution_count": 37,
   "metadata": {
    "execution": {
     "iopub.execute_input": "2022-07-18T00:54:12.108000Z",
     "iopub.status.busy": "2022-07-18T00:54:12.108000Z",
     "iopub.status.idle": "2022-07-18T00:54:12.137000Z",
     "shell.execute_reply": "2022-07-18T00:54:12.137000Z"
    }
   },
   "outputs": [
    {
     "data": {
      "text/html": [
       "<div class=\"data-frame\"><p>2 rows × 2 columns</p><table class=\"data-frame\"><thead><tr><th></th><th>A</th><th>B</th></tr><tr><th></th><th title=\"Union{Missing, Int64}\">Int64?</th><th title=\"Union{Missing, String}\">String?</th></tr></thead><tbody><tr><th>1</th><td>1</td><td>A</td></tr><tr><th>2</th><td>4</td><td>C</td></tr></tbody></table></div>"
      ],
      "text/latex": [
       "\\begin{tabular}{r|cc}\n",
       "\t& A & B\\\\\n",
       "\t\\hline\n",
       "\t& Int64? & String?\\\\\n",
       "\t\\hline\n",
       "\t1 & 1 & A \\\\\n",
       "\t2 & 4 & C \\\\\n",
       "\\end{tabular}\n"
      ],
      "text/plain": [
       "\u001b[1m2×2 DataFrame\u001b[0m\n",
       "\u001b[1m Row \u001b[0m│\u001b[1m A      \u001b[0m\u001b[1m B       \u001b[0m\n",
       "\u001b[1m     \u001b[0m│\u001b[90m Int64? \u001b[0m\u001b[90m String? \u001b[0m\n",
       "─────┼─────────────────\n",
       "   1 │      1  A\n",
       "   2 │      4  C"
      ]
     },
     "execution_count": 37,
     "metadata": {},
     "output_type": "execute_result"
    }
   ],
   "source": [
    "dropmissing!(x, disallowmissing=false)"
   ]
  },
  {
   "cell_type": "markdown",
   "metadata": {},
   "source": [
    "## Making functions `missing`-aware\n",
    "\n",
    "If we have a function that does not handle `missing` values we can wrap it using `passmissing` function so that if any of its positional arguments is missing we will get a `missing` value in return. In the example below we change how `string` function behaves:"
   ]
  },
  {
   "cell_type": "code",
   "execution_count": 38,
   "metadata": {
    "execution": {
     "iopub.execute_input": "2022-07-18T00:54:12.141000Z",
     "iopub.status.busy": "2022-07-18T00:54:12.141000Z",
     "iopub.status.idle": "2022-07-18T00:54:12.635000Z",
     "shell.execute_reply": "2022-07-18T00:54:12.635000Z"
    }
   },
   "outputs": [
    {
     "data": {
      "text/plain": [
       "\"missing\""
      ]
     },
     "execution_count": 38,
     "metadata": {},
     "output_type": "execute_result"
    }
   ],
   "source": [
    "string(missing)"
   ]
  },
  {
   "cell_type": "code",
   "execution_count": 39,
   "metadata": {
    "execution": {
     "iopub.execute_input": "2022-07-18T00:54:12.638000Z",
     "iopub.status.busy": "2022-07-18T00:54:12.638000Z",
     "iopub.status.idle": "2022-07-18T00:54:12.682000Z",
     "shell.execute_reply": "2022-07-18T00:54:12.682000Z"
    }
   },
   "outputs": [
    {
     "data": {
      "text/plain": [
       "\"missing missing\""
      ]
     },
     "execution_count": 39,
     "metadata": {},
     "output_type": "execute_result"
    }
   ],
   "source": [
    "string(missing, \" \", missing)"
   ]
  },
  {
   "cell_type": "code",
   "execution_count": 40,
   "metadata": {
    "execution": {
     "iopub.execute_input": "2022-07-18T00:54:12.689000Z",
     "iopub.status.busy": "2022-07-18T00:54:12.688000Z",
     "iopub.status.idle": "2022-07-18T00:54:12.696000Z",
     "shell.execute_reply": "2022-07-18T00:54:12.696000Z"
    }
   },
   "outputs": [
    {
     "data": {
      "text/plain": [
       "\"123\""
      ]
     },
     "execution_count": 40,
     "metadata": {},
     "output_type": "execute_result"
    }
   ],
   "source": [
    "string(1,2,3)"
   ]
  },
  {
   "cell_type": "code",
   "execution_count": 41,
   "metadata": {
    "execution": {
     "iopub.execute_input": "2022-07-18T00:54:12.699000Z",
     "iopub.status.busy": "2022-07-18T00:54:12.698000Z",
     "iopub.status.idle": "2022-07-18T00:54:13.011000Z",
     "shell.execute_reply": "2022-07-18T00:54:13.011000Z"
    }
   },
   "outputs": [
    {
     "data": {
      "text/plain": [
       "(::Missings.PassMissing{typeof(string)}) (generic function with 2 methods)"
      ]
     },
     "execution_count": 41,
     "metadata": {},
     "output_type": "execute_result"
    }
   ],
   "source": [
    "lift_string = passmissing(string)"
   ]
  },
  {
   "cell_type": "code",
   "execution_count": 42,
   "metadata": {
    "execution": {
     "iopub.execute_input": "2022-07-18T00:54:13.015000Z",
     "iopub.status.busy": "2022-07-18T00:54:13.015000Z",
     "iopub.status.idle": "2022-07-18T00:54:13.020000Z",
     "shell.execute_reply": "2022-07-18T00:54:13.020000Z"
    }
   },
   "outputs": [
    {
     "data": {
      "text/plain": [
       "missing"
      ]
     },
     "execution_count": 42,
     "metadata": {},
     "output_type": "execute_result"
    }
   ],
   "source": [
    "lift_string(missing)"
   ]
  },
  {
   "cell_type": "code",
   "execution_count": 43,
   "metadata": {
    "execution": {
     "iopub.execute_input": "2022-07-18T00:54:13.023000Z",
     "iopub.status.busy": "2022-07-18T00:54:13.022000Z",
     "iopub.status.idle": "2022-07-18T00:54:13.031000Z",
     "shell.execute_reply": "2022-07-18T00:54:13.030000Z"
    }
   },
   "outputs": [
    {
     "data": {
      "text/plain": [
       "missing"
      ]
     },
     "execution_count": 43,
     "metadata": {},
     "output_type": "execute_result"
    }
   ],
   "source": [
    "lift_string(missing, \" \", missing)"
   ]
  },
  {
   "cell_type": "code",
   "execution_count": 44,
   "metadata": {
    "execution": {
     "iopub.execute_input": "2022-07-18T00:54:13.033000Z",
     "iopub.status.busy": "2022-07-18T00:54:13.033000Z",
     "iopub.status.idle": "2022-07-18T00:54:13.062000Z",
     "shell.execute_reply": "2022-07-18T00:54:13.062000Z"
    }
   },
   "outputs": [
    {
     "data": {
      "text/plain": [
       "\"123\""
      ]
     },
     "execution_count": 44,
     "metadata": {},
     "output_type": "execute_result"
    }
   ],
   "source": [
    "lift_string(1,2,3)"
   ]
  },
  {
   "cell_type": "markdown",
   "metadata": {},
   "source": [
    "## Aggregating rows containing missing values"
   ]
  },
  {
   "cell_type": "markdown",
   "metadata": {},
   "source": [
    "Create an example data frame containing missing values:"
   ]
  },
  {
   "cell_type": "code",
   "execution_count": 45,
   "metadata": {
    "execution": {
     "iopub.execute_input": "2022-07-18T00:54:13.065000Z",
     "iopub.status.busy": "2022-07-18T00:54:13.065000Z",
     "iopub.status.idle": "2022-07-18T00:54:13.155000Z",
     "shell.execute_reply": "2022-07-18T00:54:13.154000Z"
    }
   },
   "outputs": [
    {
     "data": {
      "text/html": [
       "<div class=\"data-frame\"><p>3 rows × 2 columns</p><table class=\"data-frame\"><thead><tr><th></th><th>a</th><th>b</th></tr><tr><th></th><th title=\"Union{Missing, Int64}\">Int64?</th><th title=\"Union{Missing, Int64}\">Int64?</th></tr></thead><tbody><tr><th>1</th><td>1</td><td>1</td></tr><tr><th>2</th><td><em>missing</em></td><td>2</td></tr><tr><th>3</th><td><em>missing</em></td><td><em>missing</em></td></tr></tbody></table></div>"
      ],
      "text/latex": [
       "\\begin{tabular}{r|cc}\n",
       "\t& a & b\\\\\n",
       "\t\\hline\n",
       "\t& Int64? & Int64?\\\\\n",
       "\t\\hline\n",
       "\t1 & 1 & 1 \\\\\n",
       "\t2 & \\emph{missing} & 2 \\\\\n",
       "\t3 & \\emph{missing} & \\emph{missing} \\\\\n",
       "\\end{tabular}\n"
      ],
      "text/plain": [
       "\u001b[1m3×2 DataFrame\u001b[0m\n",
       "\u001b[1m Row \u001b[0m│\u001b[1m a       \u001b[0m\u001b[1m b       \u001b[0m\n",
       "\u001b[1m     \u001b[0m│\u001b[90m Int64?  \u001b[0m\u001b[90m Int64?  \u001b[0m\n",
       "─────┼──────────────────\n",
       "   1 │       1        1\n",
       "   2 │\u001b[90m missing \u001b[0m       2\n",
       "   3 │\u001b[90m missing \u001b[0m\u001b[90m missing \u001b[0m"
      ]
     },
     "execution_count": 45,
     "metadata": {},
     "output_type": "execute_result"
    }
   ],
   "source": [
    "df = DataFrame(a = [1,missing,missing], b=[1,2,missing])"
   ]
  },
  {
   "cell_type": "markdown",
   "metadata": {},
   "source": [
    "If we just run `sum` on the rows we get two missing entries:"
   ]
  },
  {
   "cell_type": "code",
   "execution_count": 46,
   "metadata": {
    "execution": {
     "iopub.execute_input": "2022-07-18T00:54:13.158000Z",
     "iopub.status.busy": "2022-07-18T00:54:13.158000Z",
     "iopub.status.idle": "2022-07-18T00:54:13.339000Z",
     "shell.execute_reply": "2022-07-18T00:54:13.339000Z"
    }
   },
   "outputs": [
    {
     "data": {
      "text/plain": [
       "3-element Vector{Union{Missing, Int64}}:\n",
       " 2\n",
       "  missing\n",
       "  missing"
      ]
     },
     "execution_count": 46,
     "metadata": {},
     "output_type": "execute_result"
    }
   ],
   "source": [
    "sum.(eachrow(df))"
   ]
  },
  {
   "cell_type": "markdown",
   "metadata": {},
   "source": [
    "One can apply `skipmissing` on the rows to avoid this problem:"
   ]
  },
  {
   "cell_type": "code",
   "execution_count": 47,
   "metadata": {
    "execution": {
     "iopub.execute_input": "2022-07-18T00:54:13.343000Z",
     "iopub.status.busy": "2022-07-18T00:54:13.343000Z",
     "iopub.status.idle": "2022-07-18T00:54:13.543000Z",
     "shell.execute_reply": "2022-07-18T00:54:13.542000Z"
    }
   },
   "outputs": [
    {
     "ename": "LoadError",
     "evalue": "ArgumentError: reducing over an empty collection is not allowed",
     "output_type": "error",
     "traceback": [
      "ArgumentError: reducing over an empty collection is not allowed",
      "",
      "Stacktrace:",
      "  [1] _empty_reduce_error()",
      "    @ Base ./reduce.jl:301",
      "  [2] reduce_empty_iter(op::Base.BottomRF{typeof(Base.add_sum)}, itr::Base.SkipMissing{DataFrameRow{DataFrame, DataFrames.Index}}, #unused#::Base.EltypeUnknown)",
      "    @ Base ./reduce.jl:358",
      "  [3] reduce_empty_iter",
      "    @ ./reduce.jl:356 [inlined]",
      "  [4] foldl_impl",
      "    @ ./reduce.jl:49 [inlined]",
      "  [5] mapfoldl_impl",
      "    @ ./reduce.jl:44 [inlined]",
      "  [6] #mapfoldl#244",
      "    @ ./reduce.jl:162 [inlined]",
      "  [7] mapfoldl",
      "    @ ./reduce.jl:162 [inlined]",
      "  [8] #mapreduce#248",
      "    @ ./reduce.jl:289 [inlined]",
      "  [9] mapreduce",
      "    @ ./reduce.jl:289 [inlined]",
      " [10] #sum#251",
      "    @ ./reduce.jl:503 [inlined]",
      " [11] sum",
      "    @ ./reduce.jl:503 [inlined]",
      " [12] #sum#252",
      "    @ ./reduce.jl:532 [inlined]",
      " [13] sum",
      "    @ ./reduce.jl:532 [inlined]",
      " [14] _broadcast_getindex_evalf",
      "    @ ./broadcast.jl:670 [inlined]",
      " [15] _broadcast_getindex",
      "    @ ./broadcast.jl:643 [inlined]",
      " [16] getindex",
      "    @ ./broadcast.jl:597 [inlined]",
      " [17] copyto_nonleaf!(dest::Vector{Int64}, bc::Base.Broadcast.Broadcasted{Base.Broadcast.DefaultArrayStyle{1}, Tuple{Base.OneTo{Int64}}, typeof(sum), Tuple{Base.Broadcast.Broadcasted{Base.Broadcast.DefaultArrayStyle{1}, Nothing, typeof(skipmissing), Tuple{Base.Broadcast.Extruded{DataFrames.DataFrameRows{DataFrame}, Tuple{Bool}, Tuple{Int64}}}}}}, iter::Base.OneTo{Int64}, state::Int64, count::Int64)",
      "    @ Base.Broadcast ./broadcast.jl:1055",
      " [18] copy",
      "    @ ./broadcast.jl:907 [inlined]",
      " [19] materialize(bc::Base.Broadcast.Broadcasted{Base.Broadcast.DefaultArrayStyle{1}, Nothing, typeof(sum), Tuple{Base.Broadcast.Broadcasted{Base.Broadcast.DefaultArrayStyle{1}, Nothing, typeof(skipmissing), Tuple{DataFrames.DataFrameRows{DataFrame}}}}})",
      "    @ Base.Broadcast ./broadcast.jl:860",
      " [20] top-level scope",
      "    @ In[47]:1",
      " [21] eval",
      "    @ ./boot.jl:373 [inlined]",
      " [22] include_string(mapexpr::typeof(REPL.softscope), mod::Module, code::String, filename::String)",
      "    @ Base ./loading.jl:1196"
     ]
    }
   ],
   "source": [
    "sum.(skipmissing.(eachrow(df)))"
   ]
  },
  {
   "cell_type": "markdown",
   "metadata": {},
   "source": [
    "However, we get an error. The problem is that the last row of `df` contains only missing values, and since `eachrow` is type unstable the `eltype` of the result of `skipmissing` is unknown (so it is marked `Any`)"
   ]
  },
  {
   "cell_type": "code",
   "execution_count": 48,
   "metadata": {
    "execution": {
     "iopub.execute_input": "2022-07-18T00:54:13.546000Z",
     "iopub.status.busy": "2022-07-18T00:54:13.545000Z",
     "iopub.status.idle": "2022-07-18T00:54:13.582000Z",
     "shell.execute_reply": "2022-07-18T00:54:13.582000Z"
    }
   },
   "outputs": [
    {
     "data": {
      "text/plain": [
       "Any[]"
      ]
     },
     "execution_count": 48,
     "metadata": {},
     "output_type": "execute_result"
    }
   ],
   "source": [
    "collect(skipmissing(eachrow(df)[end]))"
   ]
  },
  {
   "cell_type": "markdown",
   "metadata": {},
   "source": [
    "In such cases it is useful to switch to `Tables.namedtupleiterator` which is type stable as discussed in 01_constructors.ipynb notebook."
   ]
  },
  {
   "cell_type": "code",
   "execution_count": 49,
   "metadata": {
    "execution": {
     "iopub.execute_input": "2022-07-18T00:54:13.585000Z",
     "iopub.status.busy": "2022-07-18T00:54:13.585000Z",
     "iopub.status.idle": "2022-07-18T00:54:14.435000Z",
     "shell.execute_reply": "2022-07-18T00:54:14.435000Z"
    }
   },
   "outputs": [
    {
     "data": {
      "text/plain": [
       "3-element Vector{Int64}:\n",
       " 2\n",
       " 2\n",
       " 0"
      ]
     },
     "execution_count": 49,
     "metadata": {},
     "output_type": "execute_result"
    }
   ],
   "source": [
    "sum.(skipmissing.(Tables.namedtupleiterator(df)))"
   ]
  },
  {
   "cell_type": "markdown",
   "metadata": {},
   "source": [
    "Later in the tutorial you will learn that you can efficiently calculate such sums using the `select` function:"
   ]
  },
  {
   "cell_type": "code",
   "execution_count": 50,
   "metadata": {
    "execution": {
     "iopub.execute_input": "2022-07-18T00:54:14.439000Z",
     "iopub.status.busy": "2022-07-18T00:54:14.439000Z",
     "iopub.status.idle": "2022-07-18T00:54:15.241000Z",
     "shell.execute_reply": "2022-07-18T00:54:15.241000Z"
    }
   },
   "outputs": [
    {
     "data": {
      "text/html": [
       "<div class=\"data-frame\"><p>3 rows × 1 columns</p><table class=\"data-frame\"><thead><tr><th></th><th>a_b_sum_skipmissing</th></tr><tr><th></th><th title=\"Int64\">Int64</th></tr></thead><tbody><tr><th>1</th><td>2</td></tr><tr><th>2</th><td>2</td></tr><tr><th>3</th><td>0</td></tr></tbody></table></div>"
      ],
      "text/latex": [
       "\\begin{tabular}{r|c}\n",
       "\t& a\\_b\\_sum\\_skipmissing\\\\\n",
       "\t\\hline\n",
       "\t& Int64\\\\\n",
       "\t\\hline\n",
       "\t1 & 2 \\\\\n",
       "\t2 & 2 \\\\\n",
       "\t3 & 0 \\\\\n",
       "\\end{tabular}\n"
      ],
      "text/plain": [
       "\u001b[1m3×1 DataFrame\u001b[0m\n",
       "\u001b[1m Row \u001b[0m│\u001b[1m a_b_sum_skipmissing \u001b[0m\n",
       "\u001b[1m     \u001b[0m│\u001b[90m Int64               \u001b[0m\n",
       "─────┼─────────────────────\n",
       "   1 │                   2\n",
       "   2 │                   2\n",
       "   3 │                   0"
      ]
     },
     "execution_count": 50,
     "metadata": {},
     "output_type": "execute_result"
    }
   ],
   "source": [
    "select(df, AsTable(:) => ByRow(sum∘skipmissing))"
   ]
  },
  {
   "cell_type": "markdown",
   "metadata": {},
   "source": [
    "Note that it correctly handles the rows with all missing values."
   ]
  }
 ],
 "metadata": {
  "@webio": {
   "lastCommId": null,
   "lastKernelId": null
  },
  "kernelspec": {
   "display_name": "Julia 1.7.2",
   "language": "julia",
   "name": "julia-1.7"
  },
  "language_info": {
   "file_extension": ".jl",
   "mimetype": "application/julia",
   "name": "julia",
   "version": "1.7.3"
  }
 },
 "nbformat": 4,
 "nbformat_minor": 1
}
